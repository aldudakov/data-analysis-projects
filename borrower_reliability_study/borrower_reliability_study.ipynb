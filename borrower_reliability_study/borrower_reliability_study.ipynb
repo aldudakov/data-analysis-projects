{
 "cells": [
  {
   "cell_type": "markdown",
   "id": "0b9b2e0a",
   "metadata": {},
   "source": [
    "# Исследование надёжности заёмщиков"
   ]
  },
  {
   "cell_type": "markdown",
   "id": "39746532",
   "metadata": {},
   "source": [
    "**Цель исследования** — проверка следующих гипотез: \n",
    "- количество детей влияет на факт погашения кредита в срок\n",
    "- семейное положение влияет на факт погашения кредита в срок\n",
    "- уровень дохода влияет на факт погашения кредита в срок\n",
    "- цель кредита влияет на факт его погашения в срок\n",
    "\n",
    "**Входные данные** представляют собой статистику о платежеспобобности клиентов банка."
   ]
  },
  {
   "cell_type": "markdown",
   "id": "3ebed2eb",
   "metadata": {},
   "source": [
    "## Шаг 1. Открытие файла с данными и ознакомление с ним"
   ]
  },
  {
   "cell_type": "code",
   "execution_count": 1,
   "id": "f7e8d748",
   "metadata": {},
   "outputs": [],
   "source": [
    "# import pandas library\n",
    "import pandas as pd"
   ]
  },
  {
   "cell_type": "code",
   "execution_count": 2,
   "id": "fc45d399",
   "metadata": {},
   "outputs": [],
   "source": [
    "# open file\n",
    "data = pd.read_csv('/Users/aleksandrdudakov/Downloads/data.csv') "
   ]
  },
  {
   "cell_type": "code",
   "execution_count": 3,
   "id": "e0eef1d1",
   "metadata": {},
   "outputs": [
    {
     "data": {
      "text/html": [
       "<div>\n",
       "<style scoped>\n",
       "    .dataframe tbody tr th:only-of-type {\n",
       "        vertical-align: middle;\n",
       "    }\n",
       "\n",
       "    .dataframe tbody tr th {\n",
       "        vertical-align: top;\n",
       "    }\n",
       "\n",
       "    .dataframe thead th {\n",
       "        text-align: right;\n",
       "    }\n",
       "</style>\n",
       "<table border=\"1\" class=\"dataframe\">\n",
       "  <thead>\n",
       "    <tr style=\"text-align: right;\">\n",
       "      <th></th>\n",
       "      <th>children</th>\n",
       "      <th>days_employed</th>\n",
       "      <th>dob_years</th>\n",
       "      <th>education</th>\n",
       "      <th>education_id</th>\n",
       "      <th>family_status</th>\n",
       "      <th>family_status_id</th>\n",
       "      <th>gender</th>\n",
       "      <th>income_type</th>\n",
       "      <th>debt</th>\n",
       "      <th>total_income</th>\n",
       "      <th>purpose</th>\n",
       "    </tr>\n",
       "  </thead>\n",
       "  <tbody>\n",
       "    <tr>\n",
       "      <th>0</th>\n",
       "      <td>1</td>\n",
       "      <td>-8437.673028</td>\n",
       "      <td>42</td>\n",
       "      <td>высшее</td>\n",
       "      <td>0</td>\n",
       "      <td>женат / замужем</td>\n",
       "      <td>0</td>\n",
       "      <td>F</td>\n",
       "      <td>сотрудник</td>\n",
       "      <td>0</td>\n",
       "      <td>253875.639453</td>\n",
       "      <td>покупка жилья</td>\n",
       "    </tr>\n",
       "    <tr>\n",
       "      <th>1</th>\n",
       "      <td>1</td>\n",
       "      <td>-4024.803754</td>\n",
       "      <td>36</td>\n",
       "      <td>среднее</td>\n",
       "      <td>1</td>\n",
       "      <td>женат / замужем</td>\n",
       "      <td>0</td>\n",
       "      <td>F</td>\n",
       "      <td>сотрудник</td>\n",
       "      <td>0</td>\n",
       "      <td>112080.014102</td>\n",
       "      <td>приобретение автомобиля</td>\n",
       "    </tr>\n",
       "    <tr>\n",
       "      <th>2</th>\n",
       "      <td>0</td>\n",
       "      <td>-5623.422610</td>\n",
       "      <td>33</td>\n",
       "      <td>Среднее</td>\n",
       "      <td>1</td>\n",
       "      <td>женат / замужем</td>\n",
       "      <td>0</td>\n",
       "      <td>M</td>\n",
       "      <td>сотрудник</td>\n",
       "      <td>0</td>\n",
       "      <td>145885.952297</td>\n",
       "      <td>покупка жилья</td>\n",
       "    </tr>\n",
       "    <tr>\n",
       "      <th>3</th>\n",
       "      <td>3</td>\n",
       "      <td>-4124.747207</td>\n",
       "      <td>32</td>\n",
       "      <td>среднее</td>\n",
       "      <td>1</td>\n",
       "      <td>женат / замужем</td>\n",
       "      <td>0</td>\n",
       "      <td>M</td>\n",
       "      <td>сотрудник</td>\n",
       "      <td>0</td>\n",
       "      <td>267628.550329</td>\n",
       "      <td>дополнительное образование</td>\n",
       "    </tr>\n",
       "    <tr>\n",
       "      <th>4</th>\n",
       "      <td>0</td>\n",
       "      <td>340266.072047</td>\n",
       "      <td>53</td>\n",
       "      <td>среднее</td>\n",
       "      <td>1</td>\n",
       "      <td>гражданский брак</td>\n",
       "      <td>1</td>\n",
       "      <td>F</td>\n",
       "      <td>пенсионер</td>\n",
       "      <td>0</td>\n",
       "      <td>158616.077870</td>\n",
       "      <td>сыграть свадьбу</td>\n",
       "    </tr>\n",
       "    <tr>\n",
       "      <th>5</th>\n",
       "      <td>0</td>\n",
       "      <td>-926.185831</td>\n",
       "      <td>27</td>\n",
       "      <td>высшее</td>\n",
       "      <td>0</td>\n",
       "      <td>гражданский брак</td>\n",
       "      <td>1</td>\n",
       "      <td>M</td>\n",
       "      <td>компаньон</td>\n",
       "      <td>0</td>\n",
       "      <td>255763.565419</td>\n",
       "      <td>покупка жилья</td>\n",
       "    </tr>\n",
       "    <tr>\n",
       "      <th>6</th>\n",
       "      <td>0</td>\n",
       "      <td>-2879.202052</td>\n",
       "      <td>43</td>\n",
       "      <td>высшее</td>\n",
       "      <td>0</td>\n",
       "      <td>женат / замужем</td>\n",
       "      <td>0</td>\n",
       "      <td>F</td>\n",
       "      <td>компаньон</td>\n",
       "      <td>0</td>\n",
       "      <td>240525.971920</td>\n",
       "      <td>операции с жильем</td>\n",
       "    </tr>\n",
       "    <tr>\n",
       "      <th>7</th>\n",
       "      <td>0</td>\n",
       "      <td>-152.779569</td>\n",
       "      <td>50</td>\n",
       "      <td>СРЕДНЕЕ</td>\n",
       "      <td>1</td>\n",
       "      <td>женат / замужем</td>\n",
       "      <td>0</td>\n",
       "      <td>M</td>\n",
       "      <td>сотрудник</td>\n",
       "      <td>0</td>\n",
       "      <td>135823.934197</td>\n",
       "      <td>образование</td>\n",
       "    </tr>\n",
       "    <tr>\n",
       "      <th>8</th>\n",
       "      <td>2</td>\n",
       "      <td>-6929.865299</td>\n",
       "      <td>35</td>\n",
       "      <td>ВЫСШЕЕ</td>\n",
       "      <td>0</td>\n",
       "      <td>гражданский брак</td>\n",
       "      <td>1</td>\n",
       "      <td>F</td>\n",
       "      <td>сотрудник</td>\n",
       "      <td>0</td>\n",
       "      <td>95856.832424</td>\n",
       "      <td>на проведение свадьбы</td>\n",
       "    </tr>\n",
       "    <tr>\n",
       "      <th>9</th>\n",
       "      <td>0</td>\n",
       "      <td>-2188.756445</td>\n",
       "      <td>41</td>\n",
       "      <td>среднее</td>\n",
       "      <td>1</td>\n",
       "      <td>женат / замужем</td>\n",
       "      <td>0</td>\n",
       "      <td>M</td>\n",
       "      <td>сотрудник</td>\n",
       "      <td>0</td>\n",
       "      <td>144425.938277</td>\n",
       "      <td>покупка жилья для семьи</td>\n",
       "    </tr>\n",
       "    <tr>\n",
       "      <th>10</th>\n",
       "      <td>2</td>\n",
       "      <td>-4171.483647</td>\n",
       "      <td>36</td>\n",
       "      <td>высшее</td>\n",
       "      <td>0</td>\n",
       "      <td>женат / замужем</td>\n",
       "      <td>0</td>\n",
       "      <td>M</td>\n",
       "      <td>компаньон</td>\n",
       "      <td>0</td>\n",
       "      <td>113943.491460</td>\n",
       "      <td>покупка недвижимости</td>\n",
       "    </tr>\n",
       "    <tr>\n",
       "      <th>11</th>\n",
       "      <td>0</td>\n",
       "      <td>-792.701887</td>\n",
       "      <td>40</td>\n",
       "      <td>среднее</td>\n",
       "      <td>1</td>\n",
       "      <td>женат / замужем</td>\n",
       "      <td>0</td>\n",
       "      <td>F</td>\n",
       "      <td>сотрудник</td>\n",
       "      <td>0</td>\n",
       "      <td>77069.234271</td>\n",
       "      <td>покупка коммерческой недвижимости</td>\n",
       "    </tr>\n",
       "    <tr>\n",
       "      <th>12</th>\n",
       "      <td>0</td>\n",
       "      <td>NaN</td>\n",
       "      <td>65</td>\n",
       "      <td>среднее</td>\n",
       "      <td>1</td>\n",
       "      <td>гражданский брак</td>\n",
       "      <td>1</td>\n",
       "      <td>M</td>\n",
       "      <td>пенсионер</td>\n",
       "      <td>0</td>\n",
       "      <td>NaN</td>\n",
       "      <td>сыграть свадьбу</td>\n",
       "    </tr>\n",
       "    <tr>\n",
       "      <th>13</th>\n",
       "      <td>0</td>\n",
       "      <td>-1846.641941</td>\n",
       "      <td>54</td>\n",
       "      <td>неоконченное высшее</td>\n",
       "      <td>2</td>\n",
       "      <td>женат / замужем</td>\n",
       "      <td>0</td>\n",
       "      <td>F</td>\n",
       "      <td>сотрудник</td>\n",
       "      <td>0</td>\n",
       "      <td>130458.228857</td>\n",
       "      <td>приобретение автомобиля</td>\n",
       "    </tr>\n",
       "    <tr>\n",
       "      <th>14</th>\n",
       "      <td>0</td>\n",
       "      <td>-1844.956182</td>\n",
       "      <td>56</td>\n",
       "      <td>высшее</td>\n",
       "      <td>0</td>\n",
       "      <td>гражданский брак</td>\n",
       "      <td>1</td>\n",
       "      <td>F</td>\n",
       "      <td>компаньон</td>\n",
       "      <td>1</td>\n",
       "      <td>165127.911772</td>\n",
       "      <td>покупка жилой недвижимости</td>\n",
       "    </tr>\n",
       "  </tbody>\n",
       "</table>\n",
       "</div>"
      ],
      "text/plain": [
       "    children  days_employed  dob_years            education  education_id  \\\n",
       "0          1   -8437.673028         42               высшее             0   \n",
       "1          1   -4024.803754         36              среднее             1   \n",
       "2          0   -5623.422610         33              Среднее             1   \n",
       "3          3   -4124.747207         32              среднее             1   \n",
       "4          0  340266.072047         53              среднее             1   \n",
       "5          0    -926.185831         27               высшее             0   \n",
       "6          0   -2879.202052         43               высшее             0   \n",
       "7          0    -152.779569         50              СРЕДНЕЕ             1   \n",
       "8          2   -6929.865299         35               ВЫСШЕЕ             0   \n",
       "9          0   -2188.756445         41              среднее             1   \n",
       "10         2   -4171.483647         36               высшее             0   \n",
       "11         0    -792.701887         40              среднее             1   \n",
       "12         0            NaN         65              среднее             1   \n",
       "13         0   -1846.641941         54  неоконченное высшее             2   \n",
       "14         0   -1844.956182         56               высшее             0   \n",
       "\n",
       "       family_status  family_status_id gender income_type  debt  \\\n",
       "0    женат / замужем                 0      F   сотрудник     0   \n",
       "1    женат / замужем                 0      F   сотрудник     0   \n",
       "2    женат / замужем                 0      M   сотрудник     0   \n",
       "3    женат / замужем                 0      M   сотрудник     0   \n",
       "4   гражданский брак                 1      F   пенсионер     0   \n",
       "5   гражданский брак                 1      M   компаньон     0   \n",
       "6    женат / замужем                 0      F   компаньон     0   \n",
       "7    женат / замужем                 0      M   сотрудник     0   \n",
       "8   гражданский брак                 1      F   сотрудник     0   \n",
       "9    женат / замужем                 0      M   сотрудник     0   \n",
       "10   женат / замужем                 0      M   компаньон     0   \n",
       "11   женат / замужем                 0      F   сотрудник     0   \n",
       "12  гражданский брак                 1      M   пенсионер     0   \n",
       "13   женат / замужем                 0      F   сотрудник     0   \n",
       "14  гражданский брак                 1      F   компаньон     1   \n",
       "\n",
       "     total_income                            purpose  \n",
       "0   253875.639453                      покупка жилья  \n",
       "1   112080.014102            приобретение автомобиля  \n",
       "2   145885.952297                      покупка жилья  \n",
       "3   267628.550329         дополнительное образование  \n",
       "4   158616.077870                    сыграть свадьбу  \n",
       "5   255763.565419                      покупка жилья  \n",
       "6   240525.971920                  операции с жильем  \n",
       "7   135823.934197                        образование  \n",
       "8    95856.832424              на проведение свадьбы  \n",
       "9   144425.938277            покупка жилья для семьи  \n",
       "10  113943.491460               покупка недвижимости  \n",
       "11   77069.234271  покупка коммерческой недвижимости  \n",
       "12            NaN                    сыграть свадьбу  \n",
       "13  130458.228857            приобретение автомобиля  \n",
       "14  165127.911772         покупка жилой недвижимости  "
      ]
     },
     "execution_count": 3,
     "metadata": {},
     "output_type": "execute_result"
    }
   ],
   "source": [
    "# show first 15 rows\n",
    "data.head(15)"
   ]
  },
  {
   "cell_type": "code",
   "execution_count": 4,
   "id": "aafedac2",
   "metadata": {},
   "outputs": [
    {
     "name": "stdout",
     "output_type": "stream",
     "text": [
      "<class 'pandas.core.frame.DataFrame'>\n",
      "RangeIndex: 21525 entries, 0 to 21524\n",
      "Data columns (total 12 columns):\n",
      " #   Column            Non-Null Count  Dtype  \n",
      "---  ------            --------------  -----  \n",
      " 0   children          21525 non-null  int64  \n",
      " 1   days_employed     19351 non-null  float64\n",
      " 2   dob_years         21525 non-null  int64  \n",
      " 3   education         21525 non-null  object \n",
      " 4   education_id      21525 non-null  int64  \n",
      " 5   family_status     21525 non-null  object \n",
      " 6   family_status_id  21525 non-null  int64  \n",
      " 7   gender            21525 non-null  object \n",
      " 8   income_type       21525 non-null  object \n",
      " 9   debt              21525 non-null  int64  \n",
      " 10  total_income      19351 non-null  float64\n",
      " 11  purpose           21525 non-null  object \n",
      "dtypes: float64(2), int64(5), object(5)\n",
      "memory usage: 2.0+ MB\n"
     ]
    }
   ],
   "source": [
    "data.info() # general information about data"
   ]
  },
  {
   "cell_type": "markdown",
   "id": "1d1c65de",
   "metadata": {},
   "source": [
    "<a id='review'></a>"
   ]
  },
  {
   "cell_type": "code",
   "execution_count": 5,
   "id": "3fa6b937",
   "metadata": {},
   "outputs": [
    {
     "name": "stdout",
     "output_type": "stream",
     "text": [
      " 0     14149\n",
      " 1      4818\n",
      " 2      2055\n",
      " 3       330\n",
      " 20       76\n",
      "-1        47\n",
      " 4        41\n",
      " 5         9\n",
      "Name: children, dtype: int64\n",
      "-8437.673028      1\n",
      "-3507.818775      1\n",
      " 354500.415854    1\n",
      "-769.717438       1\n",
      "-3963.590317      1\n",
      "                 ..\n",
      "-1099.957609      1\n",
      "-209.984794       1\n",
      " 398099.392433    1\n",
      "-1271.038880      1\n",
      "-1984.507589      1\n",
      "Name: days_employed, Length: 19351, dtype: int64\n",
      "35    617\n",
      "40    609\n",
      "41    607\n",
      "34    603\n",
      "38    598\n",
      "42    597\n",
      "33    581\n",
      "39    573\n",
      "31    560\n",
      "36    555\n",
      "44    547\n",
      "29    545\n",
      "30    540\n",
      "48    538\n",
      "37    537\n",
      "50    514\n",
      "43    513\n",
      "32    510\n",
      "49    508\n",
      "28    503\n",
      "45    497\n",
      "27    493\n",
      "56    487\n",
      "52    484\n",
      "47    480\n",
      "54    479\n",
      "46    475\n",
      "58    461\n",
      "57    460\n",
      "53    459\n",
      "51    448\n",
      "59    444\n",
      "55    443\n",
      "26    408\n",
      "60    377\n",
      "25    357\n",
      "61    355\n",
      "62    352\n",
      "63    269\n",
      "64    265\n",
      "24    264\n",
      "23    254\n",
      "65    194\n",
      "22    183\n",
      "66    183\n",
      "67    167\n",
      "21    111\n",
      "0     101\n",
      "68     99\n",
      "69     85\n",
      "70     65\n",
      "71     58\n",
      "20     51\n",
      "72     33\n",
      "19     14\n",
      "73      8\n",
      "74      6\n",
      "75      1\n",
      "Name: dob_years, dtype: int64\n",
      "среднее                13750\n",
      "высшее                  4718\n",
      "СРЕДНЕЕ                  772\n",
      "Среднее                  711\n",
      "неоконченное высшее      668\n",
      "ВЫСШЕЕ                   274\n",
      "Высшее                   268\n",
      "начальное                250\n",
      "Неоконченное высшее       47\n",
      "НЕОКОНЧЕННОЕ ВЫСШЕЕ       29\n",
      "НАЧАЛЬНОЕ                 17\n",
      "Начальное                 15\n",
      "ученая степень             4\n",
      "Ученая степень             1\n",
      "УЧЕНАЯ СТЕПЕНЬ             1\n",
      "Name: education, dtype: int64\n",
      "1    15233\n",
      "0     5260\n",
      "2      744\n",
      "3      282\n",
      "4        6\n",
      "Name: education_id, dtype: int64\n",
      "женат / замужем          12380\n",
      "гражданский брак          4177\n",
      "Не женат / не замужем     2813\n",
      "в разводе                 1195\n",
      "вдовец / вдова             960\n",
      "Name: family_status, dtype: int64\n",
      "0    12380\n",
      "1     4177\n",
      "4     2813\n",
      "3     1195\n",
      "2      960\n",
      "Name: family_status_id, dtype: int64\n",
      "F      14236\n",
      "M       7288\n",
      "XNA        1\n",
      "Name: gender, dtype: int64\n",
      "сотрудник          11119\n",
      "компаньон           5085\n",
      "пенсионер           3856\n",
      "госслужащий         1459\n",
      "безработный            2\n",
      "предприниматель        2\n",
      "студент                1\n",
      "в декрете              1\n",
      "Name: income_type, dtype: int64\n",
      "0    19784\n",
      "1     1741\n",
      "Name: debt, dtype: int64\n",
      "253875.639453    1\n",
      "157691.851056    1\n",
      "70113.902786     1\n",
      "116196.518662    1\n",
      "157205.834562    1\n",
      "                ..\n",
      "168880.592469    1\n",
      "148042.721049    1\n",
      "60039.334460     1\n",
      "175979.762960    1\n",
      "82047.418899     1\n",
      "Name: total_income, Length: 19351, dtype: int64\n",
      "свадьба                                   797\n",
      "на проведение свадьбы                     777\n",
      "сыграть свадьбу                           774\n",
      "операции с недвижимостью                  676\n",
      "покупка коммерческой недвижимости         664\n",
      "покупка жилья для сдачи                   653\n",
      "операции с жильем                         653\n",
      "операции с коммерческой недвижимостью     651\n",
      "покупка жилья                             647\n",
      "жилье                                     647\n",
      "покупка жилья для семьи                   641\n",
      "строительство собственной недвижимости    635\n",
      "недвижимость                              634\n",
      "операции со своей недвижимостью           630\n",
      "строительство жилой недвижимости          626\n",
      "покупка недвижимости                      624\n",
      "строительство недвижимости                620\n",
      "покупка своего жилья                      620\n",
      "ремонт жилью                              612\n",
      "покупка жилой недвижимости                607\n",
      "на покупку своего автомобиля              505\n",
      "заняться высшим образованием              496\n",
      "автомобиль                                495\n",
      "сделка с подержанным автомобилем          489\n",
      "свой автомобиль                           480\n",
      "на покупку подержанного автомобиля        479\n",
      "автомобили                                478\n",
      "на покупку автомобиля                     472\n",
      "дополнительное образование                462\n",
      "приобретение автомобиля                   462\n",
      "сделка с автомобилем                      455\n",
      "высшее образование                        453\n",
      "образование                               447\n",
      "получение дополнительного образования     447\n",
      "получение образования                     443\n",
      "профильное образование                    436\n",
      "получение высшего образования             426\n",
      "заняться образованием                     412\n",
      "Name: purpose, dtype: int64\n"
     ]
    }
   ],
   "source": [
    "# values distribution for each column\n",
    "for value in data:\n",
    "    print(data[value].value_counts())"
   ]
  },
  {
   "cell_type": "markdown",
   "id": "47f02ce2",
   "metadata": {},
   "source": [
    "Опишем замеченные проблемы в столбцах, если они есть:\n",
    "- `children` — количество детей в семье (*аномальные значения -1 и 20*)\n",
    "- `days_employed` — общий трудовой стаж в днях (*в столбце есть пропуски, значения не целые и есть отрицательные*)\n",
    "- `dob_years` — возраст клиента в годах (*101 нулевое значение*)\n",
    "- `education` — уровень образования клиента (*дубликаты: значения в разных строках написаны в разных регистрах*)\n",
    "- `education_id` — идентификатор уровня образования (зависит от значения в предыдущем столбце)\n",
    "- `family_status` — семейное положение (*стилистическая ошибка: не соблюден регистр*)\n",
    "- `family_status_id` — идентификатор семейного положения (зависит от значения в предыдущем столбце)\n",
    "- `gender` — пол клиента (*аномальное значение XNA*)\n",
    "- `income_type` — тип занятости\n",
    "- `debt` — имел ли задолженность по возврату кредитов (принимает значения 0 или 1)\n",
    "- `total_income` — ежемесячный доход (*в столбце есть пропуски*)\n",
    "- `purpose` — цель получения кредита (*возможны дубликаты*)"
   ]
  },
  {
   "cell_type": "markdown",
   "id": "b691d778",
   "metadata": {},
   "source": [
    "## Шаг 2. Предобработка данных"
   ]
  },
  {
   "cell_type": "markdown",
   "id": "4701274a",
   "metadata": {},
   "source": [
    "### 2.1 Обработка пропусков"
   ]
  },
  {
   "cell_type": "markdown",
   "id": "efb80d0d",
   "metadata": {},
   "source": [
    "В столбцах `days_employed` и `total_income` мы обнаружили пропущенные значения, разберемся с ними. Посмотрим часть строк с пропущенными значеними."
   ]
  },
  {
   "cell_type": "code",
   "execution_count": 6,
   "id": "6a67227f",
   "metadata": {
    "scrolled": true
   },
   "outputs": [
    {
     "data": {
      "text/html": [
       "<div>\n",
       "<style scoped>\n",
       "    .dataframe tbody tr th:only-of-type {\n",
       "        vertical-align: middle;\n",
       "    }\n",
       "\n",
       "    .dataframe tbody tr th {\n",
       "        vertical-align: top;\n",
       "    }\n",
       "\n",
       "    .dataframe thead th {\n",
       "        text-align: right;\n",
       "    }\n",
       "</style>\n",
       "<table border=\"1\" class=\"dataframe\">\n",
       "  <thead>\n",
       "    <tr style=\"text-align: right;\">\n",
       "      <th></th>\n",
       "      <th>children</th>\n",
       "      <th>days_employed</th>\n",
       "      <th>dob_years</th>\n",
       "      <th>education</th>\n",
       "      <th>education_id</th>\n",
       "      <th>family_status</th>\n",
       "      <th>family_status_id</th>\n",
       "      <th>gender</th>\n",
       "      <th>income_type</th>\n",
       "      <th>debt</th>\n",
       "      <th>total_income</th>\n",
       "      <th>purpose</th>\n",
       "    </tr>\n",
       "  </thead>\n",
       "  <tbody>\n",
       "    <tr>\n",
       "      <th>12</th>\n",
       "      <td>0</td>\n",
       "      <td>NaN</td>\n",
       "      <td>65</td>\n",
       "      <td>среднее</td>\n",
       "      <td>1</td>\n",
       "      <td>гражданский брак</td>\n",
       "      <td>1</td>\n",
       "      <td>M</td>\n",
       "      <td>пенсионер</td>\n",
       "      <td>0</td>\n",
       "      <td>NaN</td>\n",
       "      <td>сыграть свадьбу</td>\n",
       "    </tr>\n",
       "    <tr>\n",
       "      <th>26</th>\n",
       "      <td>0</td>\n",
       "      <td>NaN</td>\n",
       "      <td>41</td>\n",
       "      <td>среднее</td>\n",
       "      <td>1</td>\n",
       "      <td>женат / замужем</td>\n",
       "      <td>0</td>\n",
       "      <td>M</td>\n",
       "      <td>госслужащий</td>\n",
       "      <td>0</td>\n",
       "      <td>NaN</td>\n",
       "      <td>образование</td>\n",
       "    </tr>\n",
       "    <tr>\n",
       "      <th>29</th>\n",
       "      <td>0</td>\n",
       "      <td>NaN</td>\n",
       "      <td>63</td>\n",
       "      <td>среднее</td>\n",
       "      <td>1</td>\n",
       "      <td>Не женат / не замужем</td>\n",
       "      <td>4</td>\n",
       "      <td>F</td>\n",
       "      <td>пенсионер</td>\n",
       "      <td>0</td>\n",
       "      <td>NaN</td>\n",
       "      <td>строительство жилой недвижимости</td>\n",
       "    </tr>\n",
       "    <tr>\n",
       "      <th>41</th>\n",
       "      <td>0</td>\n",
       "      <td>NaN</td>\n",
       "      <td>50</td>\n",
       "      <td>среднее</td>\n",
       "      <td>1</td>\n",
       "      <td>женат / замужем</td>\n",
       "      <td>0</td>\n",
       "      <td>F</td>\n",
       "      <td>госслужащий</td>\n",
       "      <td>0</td>\n",
       "      <td>NaN</td>\n",
       "      <td>сделка с подержанным автомобилем</td>\n",
       "    </tr>\n",
       "    <tr>\n",
       "      <th>55</th>\n",
       "      <td>0</td>\n",
       "      <td>NaN</td>\n",
       "      <td>54</td>\n",
       "      <td>среднее</td>\n",
       "      <td>1</td>\n",
       "      <td>гражданский брак</td>\n",
       "      <td>1</td>\n",
       "      <td>F</td>\n",
       "      <td>пенсионер</td>\n",
       "      <td>1</td>\n",
       "      <td>NaN</td>\n",
       "      <td>сыграть свадьбу</td>\n",
       "    </tr>\n",
       "  </tbody>\n",
       "</table>\n",
       "</div>"
      ],
      "text/plain": [
       "    children  days_employed  dob_years education  education_id  \\\n",
       "12         0            NaN         65   среднее             1   \n",
       "26         0            NaN         41   среднее             1   \n",
       "29         0            NaN         63   среднее             1   \n",
       "41         0            NaN         50   среднее             1   \n",
       "55         0            NaN         54   среднее             1   \n",
       "\n",
       "            family_status  family_status_id gender  income_type  debt  \\\n",
       "12       гражданский брак                 1      M    пенсионер     0   \n",
       "26        женат / замужем                 0      M  госслужащий     0   \n",
       "29  Не женат / не замужем                 4      F    пенсионер     0   \n",
       "41        женат / замужем                 0      F  госслужащий     0   \n",
       "55       гражданский брак                 1      F    пенсионер     1   \n",
       "\n",
       "    total_income                           purpose  \n",
       "12           NaN                   сыграть свадьбу  \n",
       "26           NaN                       образование  \n",
       "29           NaN  строительство жилой недвижимости  \n",
       "41           NaN  сделка с подержанным автомобилем  \n",
       "55           NaN                   сыграть свадьбу  "
      ]
     },
     "execution_count": 6,
     "metadata": {},
     "output_type": "execute_result"
    }
   ],
   "source": [
    "# first 5 rows of missing values in column 'days_employed'\n",
    "data[data['days_employed'].isna()].head() "
   ]
  },
  {
   "cell_type": "code",
   "execution_count": 7,
   "id": "fe9cbdf5",
   "metadata": {},
   "outputs": [
    {
     "data": {
      "text/html": [
       "<div>\n",
       "<style scoped>\n",
       "    .dataframe tbody tr th:only-of-type {\n",
       "        vertical-align: middle;\n",
       "    }\n",
       "\n",
       "    .dataframe tbody tr th {\n",
       "        vertical-align: top;\n",
       "    }\n",
       "\n",
       "    .dataframe thead th {\n",
       "        text-align: right;\n",
       "    }\n",
       "</style>\n",
       "<table border=\"1\" class=\"dataframe\">\n",
       "  <thead>\n",
       "    <tr style=\"text-align: right;\">\n",
       "      <th></th>\n",
       "      <th>children</th>\n",
       "      <th>days_employed</th>\n",
       "      <th>dob_years</th>\n",
       "      <th>education</th>\n",
       "      <th>education_id</th>\n",
       "      <th>family_status</th>\n",
       "      <th>family_status_id</th>\n",
       "      <th>gender</th>\n",
       "      <th>income_type</th>\n",
       "      <th>debt</th>\n",
       "      <th>total_income</th>\n",
       "      <th>purpose</th>\n",
       "    </tr>\n",
       "  </thead>\n",
       "  <tbody>\n",
       "    <tr>\n",
       "      <th>12</th>\n",
       "      <td>0</td>\n",
       "      <td>NaN</td>\n",
       "      <td>65</td>\n",
       "      <td>среднее</td>\n",
       "      <td>1</td>\n",
       "      <td>гражданский брак</td>\n",
       "      <td>1</td>\n",
       "      <td>M</td>\n",
       "      <td>пенсионер</td>\n",
       "      <td>0</td>\n",
       "      <td>NaN</td>\n",
       "      <td>сыграть свадьбу</td>\n",
       "    </tr>\n",
       "    <tr>\n",
       "      <th>26</th>\n",
       "      <td>0</td>\n",
       "      <td>NaN</td>\n",
       "      <td>41</td>\n",
       "      <td>среднее</td>\n",
       "      <td>1</td>\n",
       "      <td>женат / замужем</td>\n",
       "      <td>0</td>\n",
       "      <td>M</td>\n",
       "      <td>госслужащий</td>\n",
       "      <td>0</td>\n",
       "      <td>NaN</td>\n",
       "      <td>образование</td>\n",
       "    </tr>\n",
       "    <tr>\n",
       "      <th>29</th>\n",
       "      <td>0</td>\n",
       "      <td>NaN</td>\n",
       "      <td>63</td>\n",
       "      <td>среднее</td>\n",
       "      <td>1</td>\n",
       "      <td>Не женат / не замужем</td>\n",
       "      <td>4</td>\n",
       "      <td>F</td>\n",
       "      <td>пенсионер</td>\n",
       "      <td>0</td>\n",
       "      <td>NaN</td>\n",
       "      <td>строительство жилой недвижимости</td>\n",
       "    </tr>\n",
       "    <tr>\n",
       "      <th>41</th>\n",
       "      <td>0</td>\n",
       "      <td>NaN</td>\n",
       "      <td>50</td>\n",
       "      <td>среднее</td>\n",
       "      <td>1</td>\n",
       "      <td>женат / замужем</td>\n",
       "      <td>0</td>\n",
       "      <td>F</td>\n",
       "      <td>госслужащий</td>\n",
       "      <td>0</td>\n",
       "      <td>NaN</td>\n",
       "      <td>сделка с подержанным автомобилем</td>\n",
       "    </tr>\n",
       "    <tr>\n",
       "      <th>55</th>\n",
       "      <td>0</td>\n",
       "      <td>NaN</td>\n",
       "      <td>54</td>\n",
       "      <td>среднее</td>\n",
       "      <td>1</td>\n",
       "      <td>гражданский брак</td>\n",
       "      <td>1</td>\n",
       "      <td>F</td>\n",
       "      <td>пенсионер</td>\n",
       "      <td>1</td>\n",
       "      <td>NaN</td>\n",
       "      <td>сыграть свадьбу</td>\n",
       "    </tr>\n",
       "  </tbody>\n",
       "</table>\n",
       "</div>"
      ],
      "text/plain": [
       "    children  days_employed  dob_years education  education_id  \\\n",
       "12         0            NaN         65   среднее             1   \n",
       "26         0            NaN         41   среднее             1   \n",
       "29         0            NaN         63   среднее             1   \n",
       "41         0            NaN         50   среднее             1   \n",
       "55         0            NaN         54   среднее             1   \n",
       "\n",
       "            family_status  family_status_id gender  income_type  debt  \\\n",
       "12       гражданский брак                 1      M    пенсионер     0   \n",
       "26        женат / замужем                 0      M  госслужащий     0   \n",
       "29  Не женат / не замужем                 4      F    пенсионер     0   \n",
       "41        женат / замужем                 0      F  госслужащий     0   \n",
       "55       гражданский брак                 1      F    пенсионер     1   \n",
       "\n",
       "    total_income                           purpose  \n",
       "12           NaN                   сыграть свадьбу  \n",
       "26           NaN                       образование  \n",
       "29           NaN  строительство жилой недвижимости  \n",
       "41           NaN  сделка с подержанным автомобилем  \n",
       "55           NaN                   сыграть свадьбу  "
      ]
     },
     "execution_count": 7,
     "metadata": {},
     "output_type": "execute_result"
    }
   ],
   "source": [
    "# first 5 rows of missing values in column 'total_income'\n",
    "data[data['total_income'].isna()].head() "
   ]
  },
  {
   "cell_type": "markdown",
   "id": "d816b43f",
   "metadata": {},
   "source": [
    "Похоже, что пропущенные значения в этих двух столбцах находятся в одних и тех же строках. Проверим это: выведем таблицу, где есть пропуски в обоих столбцах."
   ]
  },
  {
   "cell_type": "code",
   "execution_count": 8,
   "id": "03aaf226",
   "metadata": {},
   "outputs": [
    {
     "data": {
      "text/html": [
       "<div>\n",
       "<style scoped>\n",
       "    .dataframe tbody tr th:only-of-type {\n",
       "        vertical-align: middle;\n",
       "    }\n",
       "\n",
       "    .dataframe tbody tr th {\n",
       "        vertical-align: top;\n",
       "    }\n",
       "\n",
       "    .dataframe thead th {\n",
       "        text-align: right;\n",
       "    }\n",
       "</style>\n",
       "<table border=\"1\" class=\"dataframe\">\n",
       "  <thead>\n",
       "    <tr style=\"text-align: right;\">\n",
       "      <th></th>\n",
       "      <th>children</th>\n",
       "      <th>days_employed</th>\n",
       "      <th>dob_years</th>\n",
       "      <th>education</th>\n",
       "      <th>education_id</th>\n",
       "      <th>family_status</th>\n",
       "      <th>family_status_id</th>\n",
       "      <th>gender</th>\n",
       "      <th>income_type</th>\n",
       "      <th>debt</th>\n",
       "      <th>total_income</th>\n",
       "      <th>purpose</th>\n",
       "    </tr>\n",
       "  </thead>\n",
       "  <tbody>\n",
       "    <tr>\n",
       "      <th>12</th>\n",
       "      <td>0</td>\n",
       "      <td>NaN</td>\n",
       "      <td>65</td>\n",
       "      <td>среднее</td>\n",
       "      <td>1</td>\n",
       "      <td>гражданский брак</td>\n",
       "      <td>1</td>\n",
       "      <td>M</td>\n",
       "      <td>пенсионер</td>\n",
       "      <td>0</td>\n",
       "      <td>NaN</td>\n",
       "      <td>сыграть свадьбу</td>\n",
       "    </tr>\n",
       "    <tr>\n",
       "      <th>26</th>\n",
       "      <td>0</td>\n",
       "      <td>NaN</td>\n",
       "      <td>41</td>\n",
       "      <td>среднее</td>\n",
       "      <td>1</td>\n",
       "      <td>женат / замужем</td>\n",
       "      <td>0</td>\n",
       "      <td>M</td>\n",
       "      <td>госслужащий</td>\n",
       "      <td>0</td>\n",
       "      <td>NaN</td>\n",
       "      <td>образование</td>\n",
       "    </tr>\n",
       "    <tr>\n",
       "      <th>29</th>\n",
       "      <td>0</td>\n",
       "      <td>NaN</td>\n",
       "      <td>63</td>\n",
       "      <td>среднее</td>\n",
       "      <td>1</td>\n",
       "      <td>Не женат / не замужем</td>\n",
       "      <td>4</td>\n",
       "      <td>F</td>\n",
       "      <td>пенсионер</td>\n",
       "      <td>0</td>\n",
       "      <td>NaN</td>\n",
       "      <td>строительство жилой недвижимости</td>\n",
       "    </tr>\n",
       "    <tr>\n",
       "      <th>41</th>\n",
       "      <td>0</td>\n",
       "      <td>NaN</td>\n",
       "      <td>50</td>\n",
       "      <td>среднее</td>\n",
       "      <td>1</td>\n",
       "      <td>женат / замужем</td>\n",
       "      <td>0</td>\n",
       "      <td>F</td>\n",
       "      <td>госслужащий</td>\n",
       "      <td>0</td>\n",
       "      <td>NaN</td>\n",
       "      <td>сделка с подержанным автомобилем</td>\n",
       "    </tr>\n",
       "    <tr>\n",
       "      <th>55</th>\n",
       "      <td>0</td>\n",
       "      <td>NaN</td>\n",
       "      <td>54</td>\n",
       "      <td>среднее</td>\n",
       "      <td>1</td>\n",
       "      <td>гражданский брак</td>\n",
       "      <td>1</td>\n",
       "      <td>F</td>\n",
       "      <td>пенсионер</td>\n",
       "      <td>1</td>\n",
       "      <td>NaN</td>\n",
       "      <td>сыграть свадьбу</td>\n",
       "    </tr>\n",
       "    <tr>\n",
       "      <th>...</th>\n",
       "      <td>...</td>\n",
       "      <td>...</td>\n",
       "      <td>...</td>\n",
       "      <td>...</td>\n",
       "      <td>...</td>\n",
       "      <td>...</td>\n",
       "      <td>...</td>\n",
       "      <td>...</td>\n",
       "      <td>...</td>\n",
       "      <td>...</td>\n",
       "      <td>...</td>\n",
       "      <td>...</td>\n",
       "    </tr>\n",
       "    <tr>\n",
       "      <th>21489</th>\n",
       "      <td>2</td>\n",
       "      <td>NaN</td>\n",
       "      <td>47</td>\n",
       "      <td>Среднее</td>\n",
       "      <td>1</td>\n",
       "      <td>женат / замужем</td>\n",
       "      <td>0</td>\n",
       "      <td>M</td>\n",
       "      <td>компаньон</td>\n",
       "      <td>0</td>\n",
       "      <td>NaN</td>\n",
       "      <td>сделка с автомобилем</td>\n",
       "    </tr>\n",
       "    <tr>\n",
       "      <th>21495</th>\n",
       "      <td>1</td>\n",
       "      <td>NaN</td>\n",
       "      <td>50</td>\n",
       "      <td>среднее</td>\n",
       "      <td>1</td>\n",
       "      <td>гражданский брак</td>\n",
       "      <td>1</td>\n",
       "      <td>F</td>\n",
       "      <td>сотрудник</td>\n",
       "      <td>0</td>\n",
       "      <td>NaN</td>\n",
       "      <td>свадьба</td>\n",
       "    </tr>\n",
       "    <tr>\n",
       "      <th>21497</th>\n",
       "      <td>0</td>\n",
       "      <td>NaN</td>\n",
       "      <td>48</td>\n",
       "      <td>ВЫСШЕЕ</td>\n",
       "      <td>0</td>\n",
       "      <td>женат / замужем</td>\n",
       "      <td>0</td>\n",
       "      <td>F</td>\n",
       "      <td>компаньон</td>\n",
       "      <td>0</td>\n",
       "      <td>NaN</td>\n",
       "      <td>строительство недвижимости</td>\n",
       "    </tr>\n",
       "    <tr>\n",
       "      <th>21502</th>\n",
       "      <td>1</td>\n",
       "      <td>NaN</td>\n",
       "      <td>42</td>\n",
       "      <td>среднее</td>\n",
       "      <td>1</td>\n",
       "      <td>женат / замужем</td>\n",
       "      <td>0</td>\n",
       "      <td>F</td>\n",
       "      <td>сотрудник</td>\n",
       "      <td>0</td>\n",
       "      <td>NaN</td>\n",
       "      <td>строительство жилой недвижимости</td>\n",
       "    </tr>\n",
       "    <tr>\n",
       "      <th>21510</th>\n",
       "      <td>2</td>\n",
       "      <td>NaN</td>\n",
       "      <td>28</td>\n",
       "      <td>среднее</td>\n",
       "      <td>1</td>\n",
       "      <td>женат / замужем</td>\n",
       "      <td>0</td>\n",
       "      <td>F</td>\n",
       "      <td>сотрудник</td>\n",
       "      <td>0</td>\n",
       "      <td>NaN</td>\n",
       "      <td>приобретение автомобиля</td>\n",
       "    </tr>\n",
       "  </tbody>\n",
       "</table>\n",
       "<p>2174 rows × 12 columns</p>\n",
       "</div>"
      ],
      "text/plain": [
       "       children  days_employed  dob_years education  education_id  \\\n",
       "12            0            NaN         65   среднее             1   \n",
       "26            0            NaN         41   среднее             1   \n",
       "29            0            NaN         63   среднее             1   \n",
       "41            0            NaN         50   среднее             1   \n",
       "55            0            NaN         54   среднее             1   \n",
       "...         ...            ...        ...       ...           ...   \n",
       "21489         2            NaN         47   Среднее             1   \n",
       "21495         1            NaN         50   среднее             1   \n",
       "21497         0            NaN         48    ВЫСШЕЕ             0   \n",
       "21502         1            NaN         42   среднее             1   \n",
       "21510         2            NaN         28   среднее             1   \n",
       "\n",
       "               family_status  family_status_id gender  income_type  debt  \\\n",
       "12          гражданский брак                 1      M    пенсионер     0   \n",
       "26           женат / замужем                 0      M  госслужащий     0   \n",
       "29     Не женат / не замужем                 4      F    пенсионер     0   \n",
       "41           женат / замужем                 0      F  госслужащий     0   \n",
       "55          гражданский брак                 1      F    пенсионер     1   \n",
       "...                      ...               ...    ...          ...   ...   \n",
       "21489        женат / замужем                 0      M    компаньон     0   \n",
       "21495       гражданский брак                 1      F    сотрудник     0   \n",
       "21497        женат / замужем                 0      F    компаньон     0   \n",
       "21502        женат / замужем                 0      F    сотрудник     0   \n",
       "21510        женат / замужем                 0      F    сотрудник     0   \n",
       "\n",
       "       total_income                           purpose  \n",
       "12              NaN                   сыграть свадьбу  \n",
       "26              NaN                       образование  \n",
       "29              NaN  строительство жилой недвижимости  \n",
       "41              NaN  сделка с подержанным автомобилем  \n",
       "55              NaN                   сыграть свадьбу  \n",
       "...             ...                               ...  \n",
       "21489           NaN              сделка с автомобилем  \n",
       "21495           NaN                           свадьба  \n",
       "21497           NaN        строительство недвижимости  \n",
       "21502           NaN  строительство жилой недвижимости  \n",
       "21510           NaN           приобретение автомобиля  \n",
       "\n",
       "[2174 rows x 12 columns]"
      ]
     },
     "execution_count": 8,
     "metadata": {},
     "output_type": "execute_result"
    }
   ],
   "source": [
    "# rows where there are gaps in columns 'total_income' and 'days_employed'\n",
    "data[data['total_income'].isna() & data['days_employed'].isna()] "
   ]
  },
  {
   "cell_type": "markdown",
   "id": "f05bc259",
   "metadata": {},
   "source": [
    "Получили таблицу с 2174 строками. Теперь найдем количество пропусков в обоих столбцах."
   ]
  },
  {
   "cell_type": "code",
   "execution_count": 9,
   "id": "877a7fd4",
   "metadata": {},
   "outputs": [
    {
     "data": {
      "text/plain": [
       "2174"
      ]
     },
     "execution_count": 9,
     "metadata": {},
     "output_type": "execute_result"
    }
   ],
   "source": [
    "# number of missing values in column 'days_employed'\n",
    "len(data[data['days_employed'].isna()]) "
   ]
  },
  {
   "cell_type": "code",
   "execution_count": 10,
   "id": "8f1e5c99",
   "metadata": {},
   "outputs": [
    {
     "data": {
      "text/plain": [
       "2174"
      ]
     },
     "execution_count": 10,
     "metadata": {},
     "output_type": "execute_result"
    }
   ],
   "source": [
    "# number of missing values in column 'total_income'\n",
    "len(data[data['total_income'].isna()]) "
   ]
  },
  {
   "cell_type": "markdown",
   "id": "d4458d6d",
   "metadata": {},
   "source": [
    "Количество совпадает. Значит, пропуски в столбцах `total_income` и `days_employed` всегда идут вместе."
   ]
  },
  {
   "cell_type": "markdown",
   "id": "4bf523dc",
   "metadata": {},
   "source": [
    "Найдем долю пропусков в этих столбцах."
   ]
  },
  {
   "cell_type": "code",
   "execution_count": 11,
   "id": "cf99a3cc",
   "metadata": {},
   "outputs": [
    {
     "name": "stdout",
     "output_type": "stream",
     "text": [
      "Доля пропусков в столбцах \"total_income\" и \"days_employed\": 10%\n"
     ]
    }
   ],
   "source": [
    "ratio = len(data[data['days_employed'].isna()]) / len(data)\n",
    "print(f'Доля пропусков в столбцах \"total_income\" и \"days_employed\": {ratio:.0%}')"
   ]
  },
  {
   "cell_type": "markdown",
   "id": "1d51438c",
   "metadata": {},
   "source": [
    "10% - это довольно много. Возможно, пропуски сделаны намеренно (например, для чиновников). Посмотрим, как пропуски распределены по типу занятости."
   ]
  },
  {
   "cell_type": "code",
   "execution_count": 12,
   "id": "cf167665",
   "metadata": {},
   "outputs": [
    {
     "name": "stdout",
     "output_type": "stream",
     "text": [
      "сотрудник          1105\n",
      "компаньон           508\n",
      "пенсионер           413\n",
      "госслужащий         147\n",
      "предприниматель       1\n",
      "Name: income_type, dtype: int64\n"
     ]
    }
   ],
   "source": [
    "print(data[data['days_employed'].isna()]['income_type'].value_counts()) # distribution of missing values by income type"
   ]
  },
  {
   "cell_type": "markdown",
   "id": "ff2f7c6d",
   "metadata": {},
   "source": [
    "Теперь посмотрим распределение типа занятости по всем данным."
   ]
  },
  {
   "cell_type": "code",
   "execution_count": 13,
   "id": "8399d0b2",
   "metadata": {},
   "outputs": [
    {
     "name": "stdout",
     "output_type": "stream",
     "text": [
      "сотрудник          11119\n",
      "компаньон           5085\n",
      "пенсионер           3856\n",
      "госслужащий         1459\n",
      "безработный            2\n",
      "предприниматель        2\n",
      "студент                1\n",
      "в декрете              1\n",
      "Name: income_type, dtype: int64\n"
     ]
    }
   ],
   "source": [
    "# distribution of all values by income type\n",
    "print(data['income_type'].value_counts()) "
   ]
  },
  {
   "cell_type": "markdown",
   "id": "bbfdc520",
   "metadata": {},
   "source": [
    "Видно, что пропуски распредены равномерно по типу занятости (и пропуски составляют около 10% значения для всех типов занятости, где больше двух значений): наша гипотеза не подтвердилась. "
   ]
  },
  {
   "cell_type": "markdown",
   "id": "abfbdc36",
   "metadata": {},
   "source": [
    "Получается, что пропуски случайны, и их можно заменить медианным значением (оно лучше, чем среднее, подходит для таких количественных переменных как доход или стаж, так как медиана менее чувствительна к выдающимся значениям в выборке). Найдем медианные значения столбцов `days_employed` и `total_income` и заменим ими пропущенные значения."
   ]
  },
  {
   "cell_type": "code",
   "execution_count": 14,
   "id": "0d666ecb",
   "metadata": {},
   "outputs": [],
   "source": [
    "# replacing missing values with the median\n",
    "data['days_employed'] = data['days_employed'].fillna(data['days_employed'].median()) \n",
    "data['total_income'] = data['total_income'].fillna(data['total_income'].median())"
   ]
  },
  {
   "cell_type": "markdown",
   "id": "547f8a6f",
   "metadata": {},
   "source": [
    "Убедимся, что пропущенных значений больше нет."
   ]
  },
  {
   "cell_type": "code",
   "execution_count": 15,
   "id": "8495bbd2",
   "metadata": {},
   "outputs": [
    {
     "name": "stdout",
     "output_type": "stream",
     "text": [
      "<class 'pandas.core.frame.DataFrame'>\n",
      "RangeIndex: 21525 entries, 0 to 21524\n",
      "Data columns (total 12 columns):\n",
      " #   Column            Non-Null Count  Dtype  \n",
      "---  ------            --------------  -----  \n",
      " 0   children          21525 non-null  int64  \n",
      " 1   days_employed     21525 non-null  float64\n",
      " 2   dob_years         21525 non-null  int64  \n",
      " 3   education         21525 non-null  object \n",
      " 4   education_id      21525 non-null  int64  \n",
      " 5   family_status     21525 non-null  object \n",
      " 6   family_status_id  21525 non-null  int64  \n",
      " 7   gender            21525 non-null  object \n",
      " 8   income_type       21525 non-null  object \n",
      " 9   debt              21525 non-null  int64  \n",
      " 10  total_income      21525 non-null  float64\n",
      " 11  purpose           21525 non-null  object \n",
      "dtypes: float64(2), int64(5), object(5)\n",
      "memory usage: 2.0+ MB\n"
     ]
    }
   ],
   "source": [
    "# general information about data\n",
    "data.info() "
   ]
  },
  {
   "cell_type": "markdown",
   "id": "0b146272",
   "metadata": {},
   "source": [
    "#### Вывод"
   ]
  },
  {
   "cell_type": "markdown",
   "id": "79689677",
   "metadata": {},
   "source": [
    "В столбцах `days_employed` и `total_income` были обнаружены пропущенные значения. Мы убедились, что они случайно распределены по типу занятости, и заменили их медианным значением по столбцу."
   ]
  },
  {
   "cell_type": "markdown",
   "id": "17733aaf",
   "metadata": {},
   "source": [
    "### 2.2 Обработка аномалий"
   ]
  },
  {
   "cell_type": "markdown",
   "id": "bc3d93cf",
   "metadata": {},
   "source": [
    "Сначала рассмотрим столбец `days_employed`. Значения в нем не целые, а также есть отрицательные. Найдем минимальное и максимальное значения в столбце."
   ]
  },
  {
   "cell_type": "code",
   "execution_count": 16,
   "id": "3d2137ed",
   "metadata": {},
   "outputs": [
    {
     "name": "stdout",
     "output_type": "stream",
     "text": [
      "Максимум, минимум в столбце \"days_employed\": 401755.40047533, -18388.949900568383\n",
      "Количество нулевых значений в столбце \"days_employed\": 0\n"
     ]
    }
   ],
   "source": [
    "print(f'Максимум, минимум в столбце \"days_employed\": {data[\"days_employed\"].max()}, {data[\"days_employed\"].min()}')\n",
    "print(f'Количество нулевых значений в столбце \"days_employed\": {len(data[data[\"days_employed\"] == 0])}')"
   ]
  },
  {
   "cell_type": "markdown",
   "id": "c35818d9",
   "metadata": {},
   "source": [
    "Получается, в столбце есть отрицательные и положительные значения. Посмотрим распределение отрицательных и положительных значений по типу занятости (нулевых нет)."
   ]
  },
  {
   "cell_type": "code",
   "execution_count": 17,
   "id": "edc8132d",
   "metadata": {},
   "outputs": [
    {
     "data": {
      "text/plain": [
       "пенсионер      3443\n",
       "безработный       2\n",
       "Name: income_type, dtype: int64"
      ]
     },
     "execution_count": 17,
     "metadata": {},
     "output_type": "execute_result"
    }
   ],
   "source": [
    "# distribution of positive values by income type\n",
    "data[data['days_employed'] > 0]['income_type'].value_counts() "
   ]
  },
  {
   "cell_type": "code",
   "execution_count": 18,
   "id": "ab7b37df",
   "metadata": {},
   "outputs": [
    {
     "data": {
      "text/plain": [
       "сотрудник          11119\n",
       "компаньон           5085\n",
       "госслужащий         1459\n",
       "пенсионер            413\n",
       "предприниматель        2\n",
       "студент                1\n",
       "в декрете              1\n",
       "Name: income_type, dtype: int64"
      ]
     },
     "execution_count": 18,
     "metadata": {},
     "output_type": "execute_result"
    }
   ],
   "source": [
    "# distribution of negative values by income type\n",
    "data[data['days_employed'] < 0]['income_type'].value_counts() "
   ]
  },
  {
   "cell_type": "markdown",
   "id": "2392565b",
   "metadata": {},
   "source": [
    "Видим, что все безработные и большинство пенсионеров имеют положительный стаж, а все остальные – отрицательный."
   ]
  },
  {
   "cell_type": "markdown",
   "id": "b5ce71d5",
   "metadata": {},
   "source": [
    "Исследуем данные с теми пенсионерами, у которых стаж отрицательный."
   ]
  },
  {
   "cell_type": "code",
   "execution_count": 19,
   "id": "b0aa9334",
   "metadata": {},
   "outputs": [
    {
     "data": {
      "text/html": [
       "<div>\n",
       "<style scoped>\n",
       "    .dataframe tbody tr th:only-of-type {\n",
       "        vertical-align: middle;\n",
       "    }\n",
       "\n",
       "    .dataframe tbody tr th {\n",
       "        vertical-align: top;\n",
       "    }\n",
       "\n",
       "    .dataframe thead th {\n",
       "        text-align: right;\n",
       "    }\n",
       "</style>\n",
       "<table border=\"1\" class=\"dataframe\">\n",
       "  <thead>\n",
       "    <tr style=\"text-align: right;\">\n",
       "      <th></th>\n",
       "      <th>children</th>\n",
       "      <th>days_employed</th>\n",
       "      <th>dob_years</th>\n",
       "      <th>education</th>\n",
       "      <th>education_id</th>\n",
       "      <th>family_status</th>\n",
       "      <th>family_status_id</th>\n",
       "      <th>gender</th>\n",
       "      <th>income_type</th>\n",
       "      <th>debt</th>\n",
       "      <th>total_income</th>\n",
       "      <th>purpose</th>\n",
       "    </tr>\n",
       "  </thead>\n",
       "  <tbody>\n",
       "    <tr>\n",
       "      <th>12</th>\n",
       "      <td>0</td>\n",
       "      <td>-1203.369529</td>\n",
       "      <td>65</td>\n",
       "      <td>среднее</td>\n",
       "      <td>1</td>\n",
       "      <td>гражданский брак</td>\n",
       "      <td>1</td>\n",
       "      <td>M</td>\n",
       "      <td>пенсионер</td>\n",
       "      <td>0</td>\n",
       "      <td>145017.937533</td>\n",
       "      <td>сыграть свадьбу</td>\n",
       "    </tr>\n",
       "    <tr>\n",
       "      <th>29</th>\n",
       "      <td>0</td>\n",
       "      <td>-1203.369529</td>\n",
       "      <td>63</td>\n",
       "      <td>среднее</td>\n",
       "      <td>1</td>\n",
       "      <td>Не женат / не замужем</td>\n",
       "      <td>4</td>\n",
       "      <td>F</td>\n",
       "      <td>пенсионер</td>\n",
       "      <td>0</td>\n",
       "      <td>145017.937533</td>\n",
       "      <td>строительство жилой недвижимости</td>\n",
       "    </tr>\n",
       "    <tr>\n",
       "      <th>55</th>\n",
       "      <td>0</td>\n",
       "      <td>-1203.369529</td>\n",
       "      <td>54</td>\n",
       "      <td>среднее</td>\n",
       "      <td>1</td>\n",
       "      <td>гражданский брак</td>\n",
       "      <td>1</td>\n",
       "      <td>F</td>\n",
       "      <td>пенсионер</td>\n",
       "      <td>1</td>\n",
       "      <td>145017.937533</td>\n",
       "      <td>сыграть свадьбу</td>\n",
       "    </tr>\n",
       "    <tr>\n",
       "      <th>67</th>\n",
       "      <td>0</td>\n",
       "      <td>-1203.369529</td>\n",
       "      <td>52</td>\n",
       "      <td>высшее</td>\n",
       "      <td>0</td>\n",
       "      <td>женат / замужем</td>\n",
       "      <td>0</td>\n",
       "      <td>F</td>\n",
       "      <td>пенсионер</td>\n",
       "      <td>0</td>\n",
       "      <td>145017.937533</td>\n",
       "      <td>покупка жилья для семьи</td>\n",
       "    </tr>\n",
       "    <tr>\n",
       "      <th>145</th>\n",
       "      <td>0</td>\n",
       "      <td>-1203.369529</td>\n",
       "      <td>62</td>\n",
       "      <td>среднее</td>\n",
       "      <td>1</td>\n",
       "      <td>женат / замужем</td>\n",
       "      <td>0</td>\n",
       "      <td>M</td>\n",
       "      <td>пенсионер</td>\n",
       "      <td>0</td>\n",
       "      <td>145017.937533</td>\n",
       "      <td>строительство недвижимости</td>\n",
       "    </tr>\n",
       "  </tbody>\n",
       "</table>\n",
       "</div>"
      ],
      "text/plain": [
       "     children  days_employed  dob_years education  education_id  \\\n",
       "12          0   -1203.369529         65   среднее             1   \n",
       "29          0   -1203.369529         63   среднее             1   \n",
       "55          0   -1203.369529         54   среднее             1   \n",
       "67          0   -1203.369529         52    высшее             0   \n",
       "145         0   -1203.369529         62   среднее             1   \n",
       "\n",
       "             family_status  family_status_id gender income_type  debt  \\\n",
       "12        гражданский брак                 1      M   пенсионер     0   \n",
       "29   Не женат / не замужем                 4      F   пенсионер     0   \n",
       "55        гражданский брак                 1      F   пенсионер     1   \n",
       "67         женат / замужем                 0      F   пенсионер     0   \n",
       "145        женат / замужем                 0      M   пенсионер     0   \n",
       "\n",
       "      total_income                           purpose  \n",
       "12   145017.937533                   сыграть свадьбу  \n",
       "29   145017.937533  строительство жилой недвижимости  \n",
       "55   145017.937533                   сыграть свадьбу  \n",
       "67   145017.937533           покупка жилья для семьи  \n",
       "145  145017.937533        строительство недвижимости  "
      ]
     },
     "execution_count": 19,
     "metadata": {},
     "output_type": "execute_result"
    }
   ],
   "source": [
    "# first 5 values of required data\n",
    "data[(data['income_type'] == 'пенсионер') & (data['days_employed'] < 0)].head() "
   ]
  },
  {
   "cell_type": "markdown",
   "id": "07ff81ae",
   "metadata": {},
   "source": [
    "Похоже, что у них всех одинаковый стаж и ежемесячный доход. Значит, это те пенсионеры, у которых изначально в стобцах `days_employed` `total_income` были пропуски, так как в изначальном датафрейме повторяющихся значений в этих столбцах [не было](#review)."
   ]
  },
  {
   "cell_type": "markdown",
   "id": "e9ac0c7e",
   "metadata": {},
   "source": [
    "Оценим адекватность положительных значений в `days_employed`. Для этого расчитаем минимум и максимум в годах (поделив на 365)."
   ]
  },
  {
   "cell_type": "code",
   "execution_count": 20,
   "id": "360484c7",
   "metadata": {},
   "outputs": [
    {
     "name": "stdout",
     "output_type": "stream",
     "text": [
      "Максимум, минимум в столбце 'days_employed' для положительных значений (в годах): 1100.6997273296713, 900.6266317932007\n"
     ]
    }
   ],
   "source": [
    "print(f\"Максимум, минимум в столбце 'days_employed' для положительных значений (в годах): {data[data['days_employed'] > 0]['days_employed'].max() / 365}, {data[data['days_employed'] > 0]['days_employed'].min() / 365}\")"
   ]
  },
  {
   "cell_type": "markdown",
   "id": "917827ca",
   "metadata": {},
   "source": [
    "Это неадекватное значение. Возможно для положительных значений стаж указан в часах. Поделим все максимум и минимум на 24."
   ]
  },
  {
   "cell_type": "code",
   "execution_count": 21,
   "id": "646c97b1",
   "metadata": {},
   "outputs": [
    {
     "name": "stdout",
     "output_type": "stream",
     "text": [
      "Максимум, минимум в столбце 'days_employed' для положительных значений (в годах): 45.8624886387363, 37.526109658050025\n"
     ]
    }
   ],
   "source": [
    "print(f\"Максимум, минимум в столбце 'days_employed' для положительных значений (в годах): {data[data['days_employed'] > 0]['days_employed'].max() / 365 / 24}, {data[data['days_employed'] > 0]['days_employed'].min() / 365 / 24}\")"
   ]
  },
  {
   "cell_type": "markdown",
   "id": "01a46cef",
   "metadata": {},
   "source": [
    "Значения между 37 и 45 годами для трудового стажа пенсионера вполне адекватны. Значит, положительные значения значения столбца `days_employed` надо поделить на 24."
   ]
  },
  {
   "cell_type": "code",
   "execution_count": 22,
   "id": "590cff96",
   "metadata": {},
   "outputs": [],
   "source": [
    "def hours_to_days(n):\n",
    "    '''\n",
    "    Сonverts number of hours to number of days.\n",
    "    '''\n",
    "    return n / 24\n",
    "data.loc[data['days_employed'] > 0,'days_employed'] = data.loc[data['days_employed'] > 0, 'days_employed'].apply(hours_to_days) # apply convertation to 'days_employed' column"
   ]
  },
  {
   "cell_type": "markdown",
   "id": "6a14dbdb",
   "metadata": {},
   "source": [
    "Проверим результат."
   ]
  },
  {
   "cell_type": "code",
   "execution_count": 23,
   "id": "962d150a",
   "metadata": {},
   "outputs": [
    {
     "name": "stdout",
     "output_type": "stream",
     "text": [
      "Максимум, минимум в столбце 'days_employed' для положительных значений (в годах): 45.8624886387363, 37.526109658050025\n"
     ]
    }
   ],
   "source": [
    "print(f\"Максимум, минимум в столбце 'days_employed' для положительных значений (в годах): {data[data['days_employed'] > 0]['days_employed'].max() / 365}, {data[data['days_employed'] > 0]['days_employed'].min() / 365}\")"
   ]
  },
  {
   "cell_type": "markdown",
   "id": "684bbba9",
   "metadata": {},
   "source": [
    "Теперь изучим данные с отрицательным стажем. Расчитаем минимум и максимум в годах."
   ]
  },
  {
   "cell_type": "code",
   "execution_count": 24,
   "id": "68d8bb17",
   "metadata": {},
   "outputs": [
    {
     "name": "stdout",
     "output_type": "stream",
     "text": [
      "Максимум, минимум в столбце 'days_employed' для отрицательных значений (в годах): -0.06614146093282515, -50.38068465909146\n"
     ]
    }
   ],
   "source": [
    "print(f\"Максимум, минимум в столбце 'days_employed' для отрицательных значений (в годах): {data[data['days_employed'] < 0]['days_employed'].max() / 365}, {data[data['days_employed'] < 0]['days_employed'].min() / 365}\")"
   ]
  },
  {
   "cell_type": "markdown",
   "id": "c001af15",
   "metadata": {},
   "source": [
    "Значения попадают в адекватный диапазон, если их взять их по модулю."
   ]
  },
  {
   "cell_type": "code",
   "execution_count": 25,
   "id": "93cda78f",
   "metadata": {},
   "outputs": [],
   "source": [
    "data.loc[data['days_employed'] < 0, 'days_employed'] = data.loc[data['days_employed'] < 0, 'days_employed'].apply(abs)"
   ]
  },
  {
   "cell_type": "markdown",
   "id": "15d0e4ac",
   "metadata": {},
   "source": [
    "Проверим результат. Найдем длину датафрейма с нулевыми значениями в столбце `days_employed`."
   ]
  },
  {
   "cell_type": "code",
   "execution_count": 26,
   "id": "15d4a979",
   "metadata": {},
   "outputs": [
    {
     "data": {
      "text/plain": [
       "0"
      ]
     },
     "execution_count": 26,
     "metadata": {},
     "output_type": "execute_result"
    }
   ],
   "source": [
    "# find lenght of dataframe with negative values of 'days_employed' column\n",
    "len(data[data['days_employed'] < 0])"
   ]
  },
  {
   "cell_type": "markdown",
   "id": "4e0fa2cf",
   "metadata": {},
   "source": [
    "Длина равна нулю. Аномалию со столбцом `days_employed` можно объяснить, например, ошибкой при совмещении файлов с безработными и пенсионерами и с остальными. Также ошибка могла произойти при переводе стажа в дни."
   ]
  },
  {
   "cell_type": "markdown",
   "id": "d5069b85",
   "metadata": {},
   "source": [
    "Перейдем к столбцу `children`. В нем есть аномальные значения `-1` и `20`. `-1` заменим на `1`, а `20` – на `2`."
   ]
  },
  {
   "cell_type": "code",
   "execution_count": 27,
   "id": "a5e132e1",
   "metadata": {},
   "outputs": [],
   "source": [
    "# replace required values\n",
    "data.loc[data['children'] == -1, 'children'] = 1 \n",
    "data.loc[data['children'] == 20, 'children'] = 2"
   ]
  },
  {
   "cell_type": "markdown",
   "id": "595d2223",
   "metadata": {},
   "source": [
    "Проверим результат."
   ]
  },
  {
   "cell_type": "code",
   "execution_count": 28,
   "id": "9d0cca27",
   "metadata": {},
   "outputs": [
    {
     "data": {
      "text/plain": [
       "0    14149\n",
       "1     4865\n",
       "2     2131\n",
       "3      330\n",
       "4       41\n",
       "5        9\n",
       "Name: children, dtype: int64"
      ]
     },
     "execution_count": 28,
     "metadata": {},
     "output_type": "execute_result"
    }
   ],
   "source": [
    "# distribution of values in 'children' column\n",
    "data['children'].value_counts() "
   ]
  },
  {
   "cell_type": "markdown",
   "id": "52eb9f63",
   "metadata": {},
   "source": [
    "Аномальных значений нет. Появление этих значений можно объяснить ошибкой при наборе возраста сотрудником или клиентом банка."
   ]
  },
  {
   "cell_type": "markdown",
   "id": "3b1b631f",
   "metadata": {},
   "source": [
    "В столбце `dob_years` есть 101 нулевых значений. Заменим их средним арифметическим (для возраста среднее подходит лучше, так как возраст распределен более равномерно, чем, например, доход)."
   ]
  },
  {
   "cell_type": "code",
   "execution_count": 29,
   "id": "80c6c595",
   "metadata": {},
   "outputs": [],
   "source": [
    "# replace zero with average age\n",
    "mean_age = int(data.loc[data['dob_years'] != 0, 'dob_years'].median())\n",
    "data.loc[data['dob_years'] == 0, 'dob_years'] = data.loc[data['dob_years'] == 0, 'dob_years'].replace(0, mean_age)"
   ]
  },
  {
   "cell_type": "markdown",
   "id": "37e356c5",
   "metadata": {},
   "source": [
    "Проверим результат."
   ]
  },
  {
   "cell_type": "code",
   "execution_count": 30,
   "id": "ad3ba109",
   "metadata": {},
   "outputs": [
    {
     "data": {
      "text/plain": [
       "35    617\n",
       "43    614\n",
       "40    609\n",
       "41    607\n",
       "34    603\n",
       "38    598\n",
       "42    597\n",
       "33    581\n",
       "39    573\n",
       "31    560\n",
       "36    555\n",
       "44    547\n",
       "29    545\n",
       "30    540\n",
       "48    538\n",
       "37    537\n",
       "50    514\n",
       "32    510\n",
       "49    508\n",
       "28    503\n",
       "45    497\n",
       "27    493\n",
       "56    487\n",
       "52    484\n",
       "47    480\n",
       "54    479\n",
       "46    475\n",
       "58    461\n",
       "57    460\n",
       "53    459\n",
       "51    448\n",
       "59    444\n",
       "55    443\n",
       "26    408\n",
       "60    377\n",
       "25    357\n",
       "61    355\n",
       "62    352\n",
       "63    269\n",
       "64    265\n",
       "24    264\n",
       "23    254\n",
       "65    194\n",
       "66    183\n",
       "22    183\n",
       "67    167\n",
       "21    111\n",
       "68     99\n",
       "69     85\n",
       "70     65\n",
       "71     58\n",
       "20     51\n",
       "72     33\n",
       "19     14\n",
       "73      8\n",
       "74      6\n",
       "75      1\n",
       "Name: dob_years, dtype: int64"
      ]
     },
     "execution_count": 30,
     "metadata": {},
     "output_type": "execute_result"
    }
   ],
   "source": [
    "# distribution of values in 'dob_years' column\n",
    "data['dob_years'].value_counts() "
   ]
  },
  {
   "cell_type": "markdown",
   "id": "6f7f222e",
   "metadata": {},
   "source": [
    "Нулей нет. Эти нулевые значения можно объяснить тем, что клиент не указал возраст, или тем, что при выгрузке произошла ошибка."
   ]
  },
  {
   "cell_type": "markdown",
   "id": "fc5139ca",
   "metadata": {},
   "source": [
    "Теперь рассмотрим столбец `gender`: в нем есть аномальное значение `'XNA'`."
   ]
  },
  {
   "cell_type": "code",
   "execution_count": 31,
   "id": "b644f52d",
   "metadata": {},
   "outputs": [
    {
     "data": {
      "text/html": [
       "<div>\n",
       "<style scoped>\n",
       "    .dataframe tbody tr th:only-of-type {\n",
       "        vertical-align: middle;\n",
       "    }\n",
       "\n",
       "    .dataframe tbody tr th {\n",
       "        vertical-align: top;\n",
       "    }\n",
       "\n",
       "    .dataframe thead th {\n",
       "        text-align: right;\n",
       "    }\n",
       "</style>\n",
       "<table border=\"1\" class=\"dataframe\">\n",
       "  <thead>\n",
       "    <tr style=\"text-align: right;\">\n",
       "      <th></th>\n",
       "      <th>children</th>\n",
       "      <th>days_employed</th>\n",
       "      <th>dob_years</th>\n",
       "      <th>education</th>\n",
       "      <th>education_id</th>\n",
       "      <th>family_status</th>\n",
       "      <th>family_status_id</th>\n",
       "      <th>gender</th>\n",
       "      <th>income_type</th>\n",
       "      <th>debt</th>\n",
       "      <th>total_income</th>\n",
       "      <th>purpose</th>\n",
       "    </tr>\n",
       "  </thead>\n",
       "  <tbody>\n",
       "    <tr>\n",
       "      <th>10701</th>\n",
       "      <td>0</td>\n",
       "      <td>2358.600502</td>\n",
       "      <td>24</td>\n",
       "      <td>неоконченное высшее</td>\n",
       "      <td>2</td>\n",
       "      <td>гражданский брак</td>\n",
       "      <td>1</td>\n",
       "      <td>XNA</td>\n",
       "      <td>компаньон</td>\n",
       "      <td>0</td>\n",
       "      <td>203905.157261</td>\n",
       "      <td>покупка недвижимости</td>\n",
       "    </tr>\n",
       "  </tbody>\n",
       "</table>\n",
       "</div>"
      ],
      "text/plain": [
       "       children  days_employed  dob_years            education  education_id  \\\n",
       "10701         0    2358.600502         24  неоконченное высшее             2   \n",
       "\n",
       "          family_status  family_status_id gender income_type  debt  \\\n",
       "10701  гражданский брак                 1    XNA   компаньон     0   \n",
       "\n",
       "        total_income               purpose  \n",
       "10701  203905.157261  покупка недвижимости  "
      ]
     },
     "execution_count": 31,
     "metadata": {},
     "output_type": "execute_result"
    }
   ],
   "source": [
    "# row with anomalous value\n",
    "data[data['gender'] == 'XNA'] "
   ]
  },
  {
   "cell_type": "markdown",
   "id": "daebb951",
   "metadata": {},
   "source": [
    "Присвоим значению этой строки в столбце `gender` моду этого столбца."
   ]
  },
  {
   "cell_type": "code",
   "execution_count": 32,
   "id": "ab8b01ea",
   "metadata": {},
   "outputs": [],
   "source": [
    "# replace 'XNA' with mode of 'gender' column\n",
    "mode_gender = data['gender'].mode()\n",
    "data.loc[data['gender'] == 'XNA', 'gender'] = mode_gender"
   ]
  },
  {
   "cell_type": "markdown",
   "id": "befc13d6",
   "metadata": {},
   "source": [
    "Проверим результат."
   ]
  },
  {
   "cell_type": "code",
   "execution_count": 33,
   "id": "59072bfc",
   "metadata": {},
   "outputs": [
    {
     "data": {
      "text/plain": [
       "F    14236\n",
       "M     7288\n",
       "Name: gender, dtype: int64"
      ]
     },
     "execution_count": 33,
     "metadata": {},
     "output_type": "execute_result"
    }
   ],
   "source": [
    "# distribution of values in 'gender' column\n",
    "data['gender'].value_counts() "
   ]
  },
  {
   "cell_type": "markdown",
   "id": "5b70b356",
   "metadata": {},
   "source": [
    "Осталось только два значения. Третье значение можно объяснить указанием клиентом другого пола или ошибкой при выгрузке."
   ]
  },
  {
   "cell_type": "markdown",
   "id": "f74f44ac",
   "metadata": {},
   "source": [
    "### Замена типа данных"
   ]
  },
  {
   "cell_type": "markdown",
   "id": "35410604",
   "metadata": {},
   "source": [
    "Изменим тип данных столбцов `total_income` и `days_employed` c `float` на `int`."
   ]
  },
  {
   "cell_type": "code",
   "execution_count": 34,
   "id": "c14826b8",
   "metadata": {},
   "outputs": [],
   "source": [
    "# change type of 'total_income' and 'days_employed' columns to 'int'\n",
    "data['total_income'] = data['total_income'].astype('int') \n",
    "data['days_employed'] = data['days_employed'].astype('int')"
   ]
  },
  {
   "cell_type": "markdown",
   "id": "94a688b3",
   "metadata": {},
   "source": [
    "Проверим."
   ]
  },
  {
   "cell_type": "code",
   "execution_count": 35,
   "id": "1266271e",
   "metadata": {},
   "outputs": [
    {
     "name": "stdout",
     "output_type": "stream",
     "text": [
      "<class 'pandas.core.frame.DataFrame'>\n",
      "RangeIndex: 21525 entries, 0 to 21524\n",
      "Data columns (total 12 columns):\n",
      " #   Column            Non-Null Count  Dtype \n",
      "---  ------            --------------  ----- \n",
      " 0   children          21525 non-null  int64 \n",
      " 1   days_employed     21525 non-null  int64 \n",
      " 2   dob_years         21525 non-null  int64 \n",
      " 3   education         21525 non-null  object\n",
      " 4   education_id      21525 non-null  int64 \n",
      " 5   family_status     21525 non-null  object\n",
      " 6   family_status_id  21525 non-null  int64 \n",
      " 7   gender            21524 non-null  object\n",
      " 8   income_type       21525 non-null  object\n",
      " 9   debt              21525 non-null  int64 \n",
      " 10  total_income      21525 non-null  int64 \n",
      " 11  purpose           21525 non-null  object\n",
      "dtypes: int64(7), object(5)\n",
      "memory usage: 2.0+ MB\n"
     ]
    }
   ],
   "source": [
    "data.info() # general information"
   ]
  },
  {
   "cell_type": "markdown",
   "id": "e1d12161",
   "metadata": {},
   "source": [
    "#### Вывод"
   ]
  },
  {
   "cell_type": "markdown",
   "id": "b19f8659",
   "metadata": {},
   "source": [
    "Были обработаны аномальные значения в столбцах `children`, `days_employed`, `dob_years`, `gender`."
   ]
  },
  {
   "cell_type": "markdown",
   "id": "55e84682",
   "metadata": {},
   "source": [
    " ### Обработка дубликатов"
   ]
  },
  {
   "cell_type": "markdown",
   "id": "200ed3b6",
   "metadata": {},
   "source": [
    "Сначала устраним неявные дубликаты в столбце `education`. Для их устранения приведем все значения в этом столбце к нижнему регистру.\n",
    "\n",
    "~Заодно таким же образом исправим стилистическую ошибку в столбце `family_status`~"
   ]
  },
  {
   "cell_type": "code",
   "execution_count": 36,
   "id": "9dd36a7f",
   "metadata": {},
   "outputs": [],
   "source": [
    "# lower all values in 'education' and 'family_status' columns\n",
    "data['education'] = data['education'].str.lower() \n",
    "data['family_status'] = data['family_status'].str.lower() "
   ]
  },
  {
   "cell_type": "markdown",
   "id": "672a2f70",
   "metadata": {},
   "source": [
    "Проверим."
   ]
  },
  {
   "cell_type": "code",
   "execution_count": 37,
   "id": "eeefcfe9",
   "metadata": {},
   "outputs": [
    {
     "data": {
      "text/plain": [
       "среднее                15233\n",
       "высшее                  5260\n",
       "неоконченное высшее      744\n",
       "начальное                282\n",
       "ученая степень             6\n",
       "Name: education, dtype: int64"
      ]
     },
     "execution_count": 37,
     "metadata": {},
     "output_type": "execute_result"
    }
   ],
   "source": [
    "# distribution of values in 'education' column\n",
    "data['education'].value_counts() "
   ]
  },
  {
   "cell_type": "markdown",
   "id": "994062e3",
   "metadata": {},
   "source": [
    "Неявные дубликаты в столбце `education` устранены. Эти дубликаты можно объяснить челоческим фактором."
   ]
  },
  {
   "cell_type": "markdown",
   "id": "f8afd4c4",
   "metadata": {},
   "source": [
    "Теперь посчитаем количество явных дубликатов в датафрейме."
   ]
  },
  {
   "cell_type": "code",
   "execution_count": 38,
   "id": "2af26707",
   "metadata": {
    "scrolled": true
   },
   "outputs": [
    {
     "data": {
      "text/plain": [
       "71"
      ]
     },
     "execution_count": 38,
     "metadata": {},
     "output_type": "execute_result"
    }
   ],
   "source": [
    "# display number of duplicates\n",
    "data.duplicated().sum() "
   ]
  },
  {
   "cell_type": "markdown",
   "id": "30d2dfbf",
   "metadata": {},
   "source": [
    "Удалим 71 явных дубликатов."
   ]
  },
  {
   "cell_type": "code",
   "execution_count": 39,
   "id": "5354bd14",
   "metadata": {},
   "outputs": [],
   "source": [
    "# drop duplicates and reset index in dataframe\n",
    "data = data.drop_duplicates().reset_index(drop=True) "
   ]
  },
  {
   "cell_type": "markdown",
   "id": "993c8c96",
   "metadata": {},
   "source": [
    "Проверим."
   ]
  },
  {
   "cell_type": "code",
   "execution_count": 40,
   "id": "49020c9a",
   "metadata": {},
   "outputs": [
    {
     "data": {
      "text/plain": [
       "0"
      ]
     },
     "execution_count": 40,
     "metadata": {},
     "output_type": "execute_result"
    }
   ],
   "source": [
    "# display number of duplicates\n",
    "data.duplicated().sum() "
   ]
  },
  {
   "cell_type": "markdown",
   "id": "490f202f",
   "metadata": {},
   "source": [
    "Получили 0 явных дубликатов."
   ]
  },
  {
   "cell_type": "markdown",
   "id": "18692456",
   "metadata": {},
   "source": [
    "Проверим неявные дубликаты в столбце `purpose`."
   ]
  },
  {
   "cell_type": "code",
   "execution_count": 41,
   "id": "3fec49fb",
   "metadata": {},
   "outputs": [
    {
     "data": {
      "text/plain": [
       "свадьба                                   791\n",
       "на проведение свадьбы                     768\n",
       "сыграть свадьбу                           765\n",
       "операции с недвижимостью                  675\n",
       "покупка коммерческой недвижимости         661\n",
       "операции с жильем                         652\n",
       "покупка жилья для сдачи                   651\n",
       "операции с коммерческой недвижимостью     650\n",
       "покупка жилья                             646\n",
       "жилье                                     646\n",
       "покупка жилья для семьи                   638\n",
       "строительство собственной недвижимости    635\n",
       "недвижимость                              633\n",
       "операции со своей недвижимостью           627\n",
       "строительство жилой недвижимости          624\n",
       "покупка недвижимости                      621\n",
       "покупка своего жилья                      620\n",
       "строительство недвижимости                619\n",
       "ремонт жилью                              607\n",
       "покупка жилой недвижимости                606\n",
       "на покупку своего автомобиля              505\n",
       "заняться высшим образованием              496\n",
       "автомобиль                                494\n",
       "сделка с подержанным автомобилем          486\n",
       "свой автомобиль                           478\n",
       "на покупку подержанного автомобиля        478\n",
       "автомобили                                478\n",
       "на покупку автомобиля                     471\n",
       "приобретение автомобиля                   461\n",
       "дополнительное образование                460\n",
       "сделка с автомобилем                      455\n",
       "высшее образование                        452\n",
       "образование                               447\n",
       "получение дополнительного образования     446\n",
       "получение образования                     442\n",
       "профильное образование                    436\n",
       "получение высшего образования             426\n",
       "заняться образованием                     408\n",
       "Name: purpose, dtype: int64"
      ]
     },
     "execution_count": 41,
     "metadata": {},
     "output_type": "execute_result"
    }
   ],
   "source": [
    "# distribution of values in 'purpose' column\n",
    "data['purpose'].value_counts() "
   ]
  },
  {
   "cell_type": "markdown",
   "id": "2782077b",
   "metadata": {},
   "source": [
    "Видно, что, на самом деле, у кредитов в нашем датафрейме всего 4 цели: проведение свадьбы, покупка недвижимости, покупка автомобиля, получение образования. Сведем все значения столбца `purpose` к четырем основным и создадим на их основе столбец `purpose_category`"
   ]
  },
  {
   "cell_type": "code",
   "execution_count": 42,
   "id": "8bd0fcac",
   "metadata": {},
   "outputs": [],
   "source": [
    "data['purpose_category'] = data['purpose']"
   ]
  },
  {
   "cell_type": "code",
   "execution_count": 43,
   "id": "5ae36761",
   "metadata": {},
   "outputs": [],
   "source": [
    "def find_svadb_in_data(data):\n",
    "    '''\n",
    "    Searches for 'свадьб' in string.\n",
    "    '''\n",
    "    if 'свадьб' in data:\n",
    "        return True\n",
    "    return False\n",
    "\n",
    "data.loc[data['purpose_category'].apply(find_svadb_in_data), 'purpose_category'] = 'проведение свадьбы' # replaces values in 'purpose_category' column for required strings"
   ]
  },
  {
   "cell_type": "code",
   "execution_count": 44,
   "id": "7e0bc23d",
   "metadata": {},
   "outputs": [],
   "source": [
    "def find_nedvizh_in_data(data):\n",
    "    '''\n",
    "    Searches for 'жил' or 'недвижим' in string.\n",
    "    '''\n",
    "    if 'жил' in data or 'недвижим' in data:\n",
    "        return True\n",
    "    return False\n",
    "\n",
    "data.loc[data['purpose_category'].apply(find_nedvizh_in_data), 'purpose_category'] = 'операции с недвижимостью' # replaces values in 'purpose_category' column for required strings"
   ]
  },
  {
   "cell_type": "code",
   "execution_count": 45,
   "id": "7466e11f",
   "metadata": {},
   "outputs": [],
   "source": [
    "def find_avto_in_data(data):\n",
    "    '''\n",
    "    Searches for 'авто' in string.\n",
    "    '''\n",
    "    if 'авто' in data:\n",
    "        return True\n",
    "    return False\n",
    "\n",
    "data.loc[data['purpose_category'].apply(find_avto_in_data), 'purpose_category'] = 'операции с автомобилем' # replaces values in 'purpose_category' column for required strings"
   ]
  },
  {
   "cell_type": "code",
   "execution_count": 46,
   "id": "9032a741",
   "metadata": {},
   "outputs": [],
   "source": [
    "def find_obrazov_in_data(data):\n",
    "    '''\n",
    "    Searches for 'авто' in string.\n",
    "    '''\n",
    "    if 'образов' in data:\n",
    "        return True\n",
    "    return False\n",
    "\n",
    "data.loc[data['purpose_category'].apply(find_obrazov_in_data), 'purpose_category'] = 'получение образования' # replaces values in 'purpose_category' column for required strings"
   ]
  },
  {
   "cell_type": "markdown",
   "id": "f0eeed8c",
   "metadata": {},
   "source": [
    "Проверим."
   ]
  },
  {
   "cell_type": "code",
   "execution_count": 47,
   "id": "4e25d4c0",
   "metadata": {},
   "outputs": [
    {
     "data": {
      "text/plain": [
       "операции с недвижимостью    10811\n",
       "операции с автомобилем       4306\n",
       "получение образования        4013\n",
       "проведение свадьбы           2324\n",
       "Name: purpose_category, dtype: int64"
      ]
     },
     "execution_count": 47,
     "metadata": {},
     "output_type": "execute_result"
    }
   ],
   "source": [
    "# distribution of values in 'purpose_category' column\n",
    "data['purpose_category'].value_counts() "
   ]
  },
  {
   "cell_type": "markdown",
   "id": "4acc4b69",
   "metadata": {},
   "source": [
    "Осталось только четыри цели кредита. Такое большое количество первоначальных целей кредита можно объяснить тем, что клиенты в свободной форме могли описать цель кредита."
   ]
  },
  {
   "cell_type": "markdown",
   "id": "8df58aa9",
   "metadata": {},
   "source": [
    "В остальных столбцах дубликатов нет (см. [выше](#review))."
   ]
  },
  {
   "cell_type": "markdown",
   "id": "b0dc5a91",
   "metadata": {},
   "source": [
    "#### Вывод"
   ]
  },
  {
   "cell_type": "markdown",
   "id": "be572df8",
   "metadata": {},
   "source": [
    "Были устранены явные дубликаты во всем датафрейме, неявные дубликаты – в столбце `education`, а также создан новый столбец `purpose_category` для устранения \"дубликатов\" в `purpose`."
   ]
  },
  {
   "cell_type": "markdown",
   "id": "8fac5b5d",
   "metadata": {},
   "source": [
    "### Категоризация данных"
   ]
  },
  {
   "cell_type": "markdown",
   "id": "5ad39067",
   "metadata": {},
   "source": [
    "Создадим два новых датафрейма со столбцами:\n",
    "- `education_id` и `education`,\n",
    "- `family_status_id` и `family_status`.\n",
    "\n",
    "Эти датафреймы будут использоваться как словари."
   ]
  },
  {
   "cell_type": "code",
   "execution_count": 48,
   "id": "8e56fd52",
   "metadata": {},
   "outputs": [],
   "source": [
    "# create new dataframe: dictionary 'education_id' to 'education'\n",
    "education_log = pd.DataFrame(data={\n",
    "    'education_id': data['education_id'].unique(), \n",
    "    'education': data['education'].unique()\n",
    "})\n",
    "                             "
   ]
  },
  {
   "cell_type": "code",
   "execution_count": 49,
   "id": "4c06ae2f",
   "metadata": {},
   "outputs": [],
   "source": [
    "# create new dataframe: dictionary 'family_status_id' to 'family_status'\n",
    "family_status_log = pd.DataFrame(data={\n",
    "    'family_status_id': data['family_status_id'].unique(), \n",
    "    'family_status': data['family_status'].unique()\n",
    "}) "
   ]
  },
  {
   "cell_type": "markdown",
   "id": "fc1c5afa",
   "metadata": {},
   "source": [
    "Проверим."
   ]
  },
  {
   "cell_type": "code",
   "execution_count": 50,
   "id": "0dd6d9c8",
   "metadata": {},
   "outputs": [
    {
     "data": {
      "text/html": [
       "<div>\n",
       "<style scoped>\n",
       "    .dataframe tbody tr th:only-of-type {\n",
       "        vertical-align: middle;\n",
       "    }\n",
       "\n",
       "    .dataframe tbody tr th {\n",
       "        vertical-align: top;\n",
       "    }\n",
       "\n",
       "    .dataframe thead th {\n",
       "        text-align: right;\n",
       "    }\n",
       "</style>\n",
       "<table border=\"1\" class=\"dataframe\">\n",
       "  <thead>\n",
       "    <tr style=\"text-align: right;\">\n",
       "      <th></th>\n",
       "      <th>education_id</th>\n",
       "      <th>education</th>\n",
       "    </tr>\n",
       "  </thead>\n",
       "  <tbody>\n",
       "    <tr>\n",
       "      <th>0</th>\n",
       "      <td>0</td>\n",
       "      <td>высшее</td>\n",
       "    </tr>\n",
       "    <tr>\n",
       "      <th>1</th>\n",
       "      <td>1</td>\n",
       "      <td>среднее</td>\n",
       "    </tr>\n",
       "    <tr>\n",
       "      <th>2</th>\n",
       "      <td>2</td>\n",
       "      <td>неоконченное высшее</td>\n",
       "    </tr>\n",
       "    <tr>\n",
       "      <th>3</th>\n",
       "      <td>3</td>\n",
       "      <td>начальное</td>\n",
       "    </tr>\n",
       "    <tr>\n",
       "      <th>4</th>\n",
       "      <td>4</td>\n",
       "      <td>ученая степень</td>\n",
       "    </tr>\n",
       "  </tbody>\n",
       "</table>\n",
       "</div>"
      ],
      "text/plain": [
       "   education_id            education\n",
       "0             0               высшее\n",
       "1             1              среднее\n",
       "2             2  неоконченное высшее\n",
       "3             3            начальное\n",
       "4             4       ученая степень"
      ]
     },
     "execution_count": 50,
     "metadata": {},
     "output_type": "execute_result"
    }
   ],
   "source": [
    "education_log"
   ]
  },
  {
   "cell_type": "code",
   "execution_count": 51,
   "id": "b0cf1e39",
   "metadata": {},
   "outputs": [
    {
     "data": {
      "text/html": [
       "<div>\n",
       "<style scoped>\n",
       "    .dataframe tbody tr th:only-of-type {\n",
       "        vertical-align: middle;\n",
       "    }\n",
       "\n",
       "    .dataframe tbody tr th {\n",
       "        vertical-align: top;\n",
       "    }\n",
       "\n",
       "    .dataframe thead th {\n",
       "        text-align: right;\n",
       "    }\n",
       "</style>\n",
       "<table border=\"1\" class=\"dataframe\">\n",
       "  <thead>\n",
       "    <tr style=\"text-align: right;\">\n",
       "      <th></th>\n",
       "      <th>family_status_id</th>\n",
       "      <th>family_status</th>\n",
       "    </tr>\n",
       "  </thead>\n",
       "  <tbody>\n",
       "    <tr>\n",
       "      <th>0</th>\n",
       "      <td>0</td>\n",
       "      <td>женат / замужем</td>\n",
       "    </tr>\n",
       "    <tr>\n",
       "      <th>1</th>\n",
       "      <td>1</td>\n",
       "      <td>гражданский брак</td>\n",
       "    </tr>\n",
       "    <tr>\n",
       "      <th>2</th>\n",
       "      <td>2</td>\n",
       "      <td>вдовец / вдова</td>\n",
       "    </tr>\n",
       "    <tr>\n",
       "      <th>3</th>\n",
       "      <td>3</td>\n",
       "      <td>в разводе</td>\n",
       "    </tr>\n",
       "    <tr>\n",
       "      <th>4</th>\n",
       "      <td>4</td>\n",
       "      <td>не женат / не замужем</td>\n",
       "    </tr>\n",
       "  </tbody>\n",
       "</table>\n",
       "</div>"
      ],
      "text/plain": [
       "   family_status_id          family_status\n",
       "0                 0        женат / замужем\n",
       "1                 1       гражданский брак\n",
       "2                 2         вдовец / вдова\n",
       "3                 3              в разводе\n",
       "4                 4  не женат / не замужем"
      ]
     },
     "execution_count": 51,
     "metadata": {},
     "output_type": "execute_result"
    }
   ],
   "source": [
    "family_status_log"
   ]
  },
  {
   "cell_type": "markdown",
   "id": "b11ac788",
   "metadata": {},
   "source": [
    "Датафреймы созданы. Теперь удалим стобцы `education` и `family_status` из старого датафрейма."
   ]
  },
  {
   "cell_type": "code",
   "execution_count": 52,
   "id": "29e1c89f",
   "metadata": {},
   "outputs": [],
   "source": [
    "data = data.drop(['education', 'family_status'], axis=1) # drop columns 'education', 'family_status'"
   ]
  },
  {
   "cell_type": "markdown",
   "id": "43281d59",
   "metadata": {},
   "source": [
    "Проверим."
   ]
  },
  {
   "cell_type": "code",
   "execution_count": 53,
   "id": "32bd62c0",
   "metadata": {},
   "outputs": [
    {
     "data": {
      "text/plain": [
       "Index(['children', 'days_employed', 'dob_years', 'education_id',\n",
       "       'family_status_id', 'gender', 'income_type', 'debt', 'total_income',\n",
       "       'purpose', 'purpose_category'],\n",
       "      dtype='object')"
      ]
     },
     "execution_count": 53,
     "metadata": {},
     "output_type": "execute_result"
    }
   ],
   "source": [
    "data.columns"
   ]
  },
  {
   "cell_type": "markdown",
   "id": "9af78761",
   "metadata": {},
   "source": [
    "Столбцы удалены."
   ]
  },
  {
   "cell_type": "markdown",
   "id": "4d7eb16d",
   "metadata": {},
   "source": [
    "Разделим ежемесячный доход на 5 категорий. Для этого создадим новый столбец `total_income_category` и функцию, которую применим к столбцу `total_income` для нахождения категории."
   ]
  },
  {
   "cell_type": "code",
   "execution_count": 54,
   "id": "33b39391",
   "metadata": {},
   "outputs": [],
   "source": [
    "def find_income_category(total_income):\n",
    "    '''\n",
    "    Find category for given income.\n",
    "    '''\n",
    "    if total_income <= 30000:\n",
    "        return 'E'\n",
    "    if total_income <= 50000:\n",
    "        return 'D'\n",
    "    if total_income <= 200000:\n",
    "        return 'C'\n",
    "    if total_income <= 1000000:\n",
    "        return 'B'\n",
    "    return 'A'\n",
    "\n",
    "data['total_income_category'] = data['total_income'].apply(find_income_category) # create 'total_income_category' and find category for each income"
   ]
  },
  {
   "cell_type": "markdown",
   "id": "4726559b",
   "metadata": {},
   "source": [
    "Проверим."
   ]
  },
  {
   "cell_type": "code",
   "execution_count": 55,
   "id": "a149cd97",
   "metadata": {},
   "outputs": [
    {
     "data": {
      "text/html": [
       "<div>\n",
       "<style scoped>\n",
       "    .dataframe tbody tr th:only-of-type {\n",
       "        vertical-align: middle;\n",
       "    }\n",
       "\n",
       "    .dataframe tbody tr th {\n",
       "        vertical-align: top;\n",
       "    }\n",
       "\n",
       "    .dataframe thead th {\n",
       "        text-align: right;\n",
       "    }\n",
       "</style>\n",
       "<table border=\"1\" class=\"dataframe\">\n",
       "  <thead>\n",
       "    <tr style=\"text-align: right;\">\n",
       "      <th></th>\n",
       "      <th>children</th>\n",
       "      <th>days_employed</th>\n",
       "      <th>dob_years</th>\n",
       "      <th>education_id</th>\n",
       "      <th>family_status_id</th>\n",
       "      <th>gender</th>\n",
       "      <th>income_type</th>\n",
       "      <th>debt</th>\n",
       "      <th>total_income</th>\n",
       "      <th>purpose</th>\n",
       "      <th>purpose_category</th>\n",
       "      <th>total_income_category</th>\n",
       "    </tr>\n",
       "  </thead>\n",
       "  <tbody>\n",
       "    <tr>\n",
       "      <th>0</th>\n",
       "      <td>1</td>\n",
       "      <td>8437</td>\n",
       "      <td>42</td>\n",
       "      <td>0</td>\n",
       "      <td>0</td>\n",
       "      <td>F</td>\n",
       "      <td>сотрудник</td>\n",
       "      <td>0</td>\n",
       "      <td>253875</td>\n",
       "      <td>покупка жилья</td>\n",
       "      <td>операции с недвижимостью</td>\n",
       "      <td>B</td>\n",
       "    </tr>\n",
       "    <tr>\n",
       "      <th>1</th>\n",
       "      <td>1</td>\n",
       "      <td>4024</td>\n",
       "      <td>36</td>\n",
       "      <td>1</td>\n",
       "      <td>0</td>\n",
       "      <td>F</td>\n",
       "      <td>сотрудник</td>\n",
       "      <td>0</td>\n",
       "      <td>112080</td>\n",
       "      <td>приобретение автомобиля</td>\n",
       "      <td>операции с автомобилем</td>\n",
       "      <td>C</td>\n",
       "    </tr>\n",
       "    <tr>\n",
       "      <th>2</th>\n",
       "      <td>0</td>\n",
       "      <td>5623</td>\n",
       "      <td>33</td>\n",
       "      <td>1</td>\n",
       "      <td>0</td>\n",
       "      <td>M</td>\n",
       "      <td>сотрудник</td>\n",
       "      <td>0</td>\n",
       "      <td>145885</td>\n",
       "      <td>покупка жилья</td>\n",
       "      <td>операции с недвижимостью</td>\n",
       "      <td>C</td>\n",
       "    </tr>\n",
       "    <tr>\n",
       "      <th>3</th>\n",
       "      <td>3</td>\n",
       "      <td>4124</td>\n",
       "      <td>32</td>\n",
       "      <td>1</td>\n",
       "      <td>0</td>\n",
       "      <td>M</td>\n",
       "      <td>сотрудник</td>\n",
       "      <td>0</td>\n",
       "      <td>267628</td>\n",
       "      <td>дополнительное образование</td>\n",
       "      <td>получение образования</td>\n",
       "      <td>B</td>\n",
       "    </tr>\n",
       "    <tr>\n",
       "      <th>4</th>\n",
       "      <td>0</td>\n",
       "      <td>14177</td>\n",
       "      <td>53</td>\n",
       "      <td>1</td>\n",
       "      <td>1</td>\n",
       "      <td>F</td>\n",
       "      <td>пенсионер</td>\n",
       "      <td>0</td>\n",
       "      <td>158616</td>\n",
       "      <td>сыграть свадьбу</td>\n",
       "      <td>проведение свадьбы</td>\n",
       "      <td>C</td>\n",
       "    </tr>\n",
       "  </tbody>\n",
       "</table>\n",
       "</div>"
      ],
      "text/plain": [
       "   children  days_employed  dob_years  education_id  family_status_id gender  \\\n",
       "0         1           8437         42             0                 0      F   \n",
       "1         1           4024         36             1                 0      F   \n",
       "2         0           5623         33             1                 0      M   \n",
       "3         3           4124         32             1                 0      M   \n",
       "4         0          14177         53             1                 1      F   \n",
       "\n",
       "  income_type  debt  total_income                     purpose  \\\n",
       "0   сотрудник     0        253875               покупка жилья   \n",
       "1   сотрудник     0        112080     приобретение автомобиля   \n",
       "2   сотрудник     0        145885               покупка жилья   \n",
       "3   сотрудник     0        267628  дополнительное образование   \n",
       "4   пенсионер     0        158616             сыграть свадьбу   \n",
       "\n",
       "           purpose_category total_income_category  \n",
       "0  операции с недвижимостью                     B  \n",
       "1    операции с автомобилем                     C  \n",
       "2  операции с недвижимостью                     C  \n",
       "3     получение образования                     B  \n",
       "4        проведение свадьбы                     C  "
      ]
     },
     "execution_count": 55,
     "metadata": {},
     "output_type": "execute_result"
    }
   ],
   "source": [
    "# first 5 rows of dataframe\n",
    "data.head() "
   ]
  },
  {
   "cell_type": "markdown",
   "id": "c824f01e",
   "metadata": {},
   "source": [
    "Столбец `total_income_category` добавлен."
   ]
  },
  {
   "cell_type": "markdown",
   "id": "5f78d12e",
   "metadata": {},
   "source": [
    "#### Вывод"
   ]
  },
  {
   "cell_type": "markdown",
   "id": "98b36855",
   "metadata": {},
   "source": [
    "Столбец `total_income` категоризирован, и на его основе создан новый стобец `total_income_category`."
   ]
  },
  {
   "cell_type": "markdown",
   "id": "46a49be7",
   "metadata": {},
   "source": [
    "## Шаг 3. Интерпретация данных"
   ]
  },
  {
   "cell_type": "markdown",
   "id": "cc40a277",
   "metadata": {},
   "source": [
    "### Влияние количества детей на факт погашения кредита"
   ]
  },
  {
   "cell_type": "markdown",
   "id": "617ccabe",
   "metadata": {},
   "source": [
    "Проверим первую гипотезу о влиянии количества детей на факт погашения кредита в срок. Для этого посмотрим долю тех, кто имел задолженность для каждого количества детей."
   ]
  },
  {
   "cell_type": "code",
   "execution_count": 56,
   "id": "5ba5e834",
   "metadata": {},
   "outputs": [
    {
     "data": {
      "text/html": [
       "<div>\n",
       "<style scoped>\n",
       "    .dataframe tbody tr th:only-of-type {\n",
       "        vertical-align: middle;\n",
       "    }\n",
       "\n",
       "    .dataframe tbody tr th {\n",
       "        vertical-align: top;\n",
       "    }\n",
       "\n",
       "    .dataframe thead tr th {\n",
       "        text-align: left;\n",
       "    }\n",
       "\n",
       "    .dataframe thead tr:last-of-type th {\n",
       "        text-align: right;\n",
       "    }\n",
       "</style>\n",
       "<table border=\"1\" class=\"dataframe\">\n",
       "  <thead>\n",
       "    <tr>\n",
       "      <th></th>\n",
       "      <th colspan=\"2\" halign=\"left\">count</th>\n",
       "      <th>ratio</th>\n",
       "    </tr>\n",
       "    <tr>\n",
       "      <th>debt</th>\n",
       "      <th>0</th>\n",
       "      <th>1</th>\n",
       "      <th></th>\n",
       "    </tr>\n",
       "    <tr>\n",
       "      <th>children</th>\n",
       "      <th></th>\n",
       "      <th></th>\n",
       "      <th></th>\n",
       "    </tr>\n",
       "  </thead>\n",
       "  <tbody>\n",
       "    <tr>\n",
       "      <th>0</th>\n",
       "      <td>13028.0</td>\n",
       "      <td>1063.0</td>\n",
       "      <td>0.075438</td>\n",
       "    </tr>\n",
       "    <tr>\n",
       "      <th>3</th>\n",
       "      <td>303.0</td>\n",
       "      <td>27.0</td>\n",
       "      <td>0.081818</td>\n",
       "    </tr>\n",
       "    <tr>\n",
       "      <th>1</th>\n",
       "      <td>4410.0</td>\n",
       "      <td>445.0</td>\n",
       "      <td>0.091658</td>\n",
       "    </tr>\n",
       "    <tr>\n",
       "      <th>2</th>\n",
       "      <td>1926.0</td>\n",
       "      <td>202.0</td>\n",
       "      <td>0.094925</td>\n",
       "    </tr>\n",
       "    <tr>\n",
       "      <th>4</th>\n",
       "      <td>37.0</td>\n",
       "      <td>4.0</td>\n",
       "      <td>0.097561</td>\n",
       "    </tr>\n",
       "    <tr>\n",
       "      <th>5</th>\n",
       "      <td>9.0</td>\n",
       "      <td>NaN</td>\n",
       "      <td>NaN</td>\n",
       "    </tr>\n",
       "  </tbody>\n",
       "</table>\n",
       "</div>"
      ],
      "text/plain": [
       "            count             ratio\n",
       "debt            0       1          \n",
       "children                           \n",
       "0         13028.0  1063.0  0.075438\n",
       "3           303.0    27.0  0.081818\n",
       "1          4410.0   445.0  0.091658\n",
       "2          1926.0   202.0  0.094925\n",
       "4            37.0     4.0  0.097561\n",
       "5             9.0     NaN       NaN"
      ]
     },
     "execution_count": 56,
     "metadata": {},
     "output_type": "execute_result"
    }
   ],
   "source": [
    "children_pivot = data.pivot_table(index='children', columns='debt', values='dob_years', aggfunc=['count']) # create column\n",
    "children_pivot['ratio'] = children_pivot['count'][1] / (children_pivot['count'][0] + children_pivot['count'][1]) # create  'ratio' column\n",
    "children_pivot.sort_values('ratio')"
   ]
  },
  {
   "cell_type": "markdown",
   "id": "fc08a25b",
   "metadata": {},
   "source": [
    "#### Вывод"
   ]
  },
  {
   "cell_type": "markdown",
   "id": "35e98da9",
   "metadata": {},
   "source": [
    "Заметим, что количество детей не сильно влияет на факт погашение кредита в срок, но бездетные чуть реже имеют задолженность (это можно объяснить тем, что они не тратят деньги на детей). Для клиентов с пятью детьми выборка нерепрезентативная."
   ]
  },
  {
   "cell_type": "markdown",
   "id": "00eb720c",
   "metadata": {},
   "source": [
    "### Влияние семейного положения на факт погашения кредита"
   ]
  },
  {
   "cell_type": "markdown",
   "id": "e75f84db",
   "metadata": {},
   "source": [
    "Проведем такое же исследование для второй гипотезы."
   ]
  },
  {
   "cell_type": "code",
   "execution_count": 57,
   "id": "6a406a10",
   "metadata": {
    "scrolled": true
   },
   "outputs": [
    {
     "data": {
      "text/html": [
       "<div>\n",
       "<style scoped>\n",
       "    .dataframe tbody tr th:only-of-type {\n",
       "        vertical-align: middle;\n",
       "    }\n",
       "\n",
       "    .dataframe tbody tr th {\n",
       "        vertical-align: top;\n",
       "    }\n",
       "\n",
       "    .dataframe thead th {\n",
       "        text-align: right;\n",
       "    }\n",
       "</style>\n",
       "<table border=\"1\" class=\"dataframe\">\n",
       "  <thead>\n",
       "    <tr style=\"text-align: right;\">\n",
       "      <th></th>\n",
       "      <th>family_status_id</th>\n",
       "      <th>(count, 0)</th>\n",
       "      <th>(count, 1)</th>\n",
       "      <th>(ratio, )</th>\n",
       "      <th>family_status</th>\n",
       "    </tr>\n",
       "  </thead>\n",
       "  <tbody>\n",
       "    <tr>\n",
       "      <th>0</th>\n",
       "      <td>0</td>\n",
       "      <td>11408</td>\n",
       "      <td>931</td>\n",
       "      <td>0.075452</td>\n",
       "      <td>женат / замужем</td>\n",
       "    </tr>\n",
       "    <tr>\n",
       "      <th>1</th>\n",
       "      <td>1</td>\n",
       "      <td>3763</td>\n",
       "      <td>388</td>\n",
       "      <td>0.093471</td>\n",
       "      <td>гражданский брак</td>\n",
       "    </tr>\n",
       "    <tr>\n",
       "      <th>2</th>\n",
       "      <td>2</td>\n",
       "      <td>896</td>\n",
       "      <td>63</td>\n",
       "      <td>0.065693</td>\n",
       "      <td>вдовец / вдова</td>\n",
       "    </tr>\n",
       "    <tr>\n",
       "      <th>3</th>\n",
       "      <td>3</td>\n",
       "      <td>1110</td>\n",
       "      <td>85</td>\n",
       "      <td>0.071130</td>\n",
       "      <td>в разводе</td>\n",
       "    </tr>\n",
       "    <tr>\n",
       "      <th>4</th>\n",
       "      <td>4</td>\n",
       "      <td>2536</td>\n",
       "      <td>274</td>\n",
       "      <td>0.097509</td>\n",
       "      <td>не женат / не замужем</td>\n",
       "    </tr>\n",
       "  </tbody>\n",
       "</table>\n",
       "</div>"
      ],
      "text/plain": [
       "   family_status_id  (count, 0)  (count, 1)  (ratio, )          family_status\n",
       "0                 0       11408         931   0.075452        женат / замужем\n",
       "1                 1        3763         388   0.093471       гражданский брак\n",
       "2                 2         896          63   0.065693         вдовец / вдова\n",
       "3                 3        1110          85   0.071130              в разводе\n",
       "4                 4        2536         274   0.097509  не женат / не замужем"
      ]
     },
     "execution_count": 57,
     "metadata": {},
     "output_type": "execute_result"
    }
   ],
   "source": [
    "import warnings\n",
    "warnings.filterwarnings('ignore')\n",
    "family_status_pivot = data.pivot_table(index='family_status_id', columns='debt', values='dob_years', aggfunc=['count']) # create table\n",
    "family_status_pivot['ratio'] = family_status_pivot['count'][1] / (family_status_pivot['count'][0] + family_status_pivot['count'][1]) # create 'ratio' column\n",
    "family_status_pivot.merge(family_status_log, on='family_status_id', how='left') # merge tables 'family_status_log' and 'family_status_pivot'"
   ]
  },
  {
   "cell_type": "markdown",
   "id": "78070821",
   "metadata": {},
   "source": [
    "#### Вывод"
   ]
  },
  {
   "cell_type": "markdown",
   "id": "9ee262ab",
   "metadata": {},
   "source": [
    "Семейное положение влияет на факт погашения кредита: самые низкая доля у вдовцов и разведенных, самая высокая – у неженатых."
   ]
  },
  {
   "cell_type": "markdown",
   "id": "85c5b2d1",
   "metadata": {},
   "source": [
    "### Влияние уровня дохода на факт погашения кредита"
   ]
  },
  {
   "cell_type": "markdown",
   "id": "47ca2609",
   "metadata": {},
   "source": [
    "Исследуем влияние уровня дохода на факт погашения кредита."
   ]
  },
  {
   "cell_type": "code",
   "execution_count": 58,
   "id": "9fa86d5c",
   "metadata": {},
   "outputs": [
    {
     "data": {
      "text/html": [
       "<div>\n",
       "<style scoped>\n",
       "    .dataframe tbody tr th:only-of-type {\n",
       "        vertical-align: middle;\n",
       "    }\n",
       "\n",
       "    .dataframe tbody tr th {\n",
       "        vertical-align: top;\n",
       "    }\n",
       "\n",
       "    .dataframe thead tr th {\n",
       "        text-align: left;\n",
       "    }\n",
       "\n",
       "    .dataframe thead tr:last-of-type th {\n",
       "        text-align: right;\n",
       "    }\n",
       "</style>\n",
       "<table border=\"1\" class=\"dataframe\">\n",
       "  <thead>\n",
       "    <tr>\n",
       "      <th></th>\n",
       "      <th colspan=\"2\" halign=\"left\">count</th>\n",
       "      <th>ratio</th>\n",
       "    </tr>\n",
       "    <tr>\n",
       "      <th>debt</th>\n",
       "      <th>0</th>\n",
       "      <th>1</th>\n",
       "      <th></th>\n",
       "    </tr>\n",
       "    <tr>\n",
       "      <th>total_income_category</th>\n",
       "      <th></th>\n",
       "      <th></th>\n",
       "      <th></th>\n",
       "    </tr>\n",
       "  </thead>\n",
       "  <tbody>\n",
       "    <tr>\n",
       "      <th>D</th>\n",
       "      <td>329</td>\n",
       "      <td>21</td>\n",
       "      <td>0.060000</td>\n",
       "    </tr>\n",
       "    <tr>\n",
       "      <th>B</th>\n",
       "      <td>4685</td>\n",
       "      <td>356</td>\n",
       "      <td>0.070621</td>\n",
       "    </tr>\n",
       "    <tr>\n",
       "      <th>A</th>\n",
       "      <td>23</td>\n",
       "      <td>2</td>\n",
       "      <td>0.080000</td>\n",
       "    </tr>\n",
       "    <tr>\n",
       "      <th>C</th>\n",
       "      <td>14656</td>\n",
       "      <td>1360</td>\n",
       "      <td>0.084915</td>\n",
       "    </tr>\n",
       "    <tr>\n",
       "      <th>E</th>\n",
       "      <td>20</td>\n",
       "      <td>2</td>\n",
       "      <td>0.090909</td>\n",
       "    </tr>\n",
       "  </tbody>\n",
       "</table>\n",
       "</div>"
      ],
      "text/plain": [
       "                       count           ratio\n",
       "debt                       0     1          \n",
       "total_income_category                       \n",
       "D                        329    21  0.060000\n",
       "B                       4685   356  0.070621\n",
       "A                         23     2  0.080000\n",
       "C                      14656  1360  0.084915\n",
       "E                         20     2  0.090909"
      ]
     },
     "execution_count": 58,
     "metadata": {},
     "output_type": "execute_result"
    }
   ],
   "source": [
    "total_income_pivot = data.pivot_table(index='total_income_category', columns='debt', values='dob_years', aggfunc=['count']) # create table\n",
    "total_income_pivot['ratio'] = total_income_pivot['count'][1] / (total_income_pivot['count'][0] + total_income_pivot['count'][1]) # create 'ratio' column\n",
    "total_income_pivot.sort_values('ratio') # display table"
   ]
  },
  {
   "cell_type": "markdown",
   "id": "7074d876",
   "metadata": {},
   "source": [
    "#### Вывод"
   ]
  },
  {
   "cell_type": "markdown",
   "id": "a79d84ed",
   "metadata": {},
   "source": [
    "Строгой зависимости уровня дохода от факта погашения кредита нет, но, как и ожидалось, клиенты с самым низким уровнем дохода чаще всех имеют задолженности."
   ]
  },
  {
   "cell_type": "markdown",
   "id": "96b9ee9c",
   "metadata": {},
   "source": [
    "<div class=\"alert alert-block alert-success\">\n",
    "<b>Комментарий ревьюера✅:</b> Логично👍</div>"
   ]
  },
  {
   "cell_type": "markdown",
   "id": "93bb5cbf",
   "metadata": {},
   "source": [
    "## Влияние цели кредита на факт погашения кредита"
   ]
  },
  {
   "cell_type": "markdown",
   "id": "7aa87a9d",
   "metadata": {},
   "source": [
    "Изучим, как цель кредита влияет на факт его возврата в срок."
   ]
  },
  {
   "cell_type": "code",
   "execution_count": 59,
   "id": "f68ffbe7",
   "metadata": {},
   "outputs": [
    {
     "data": {
      "text/html": [
       "<div>\n",
       "<style scoped>\n",
       "    .dataframe tbody tr th:only-of-type {\n",
       "        vertical-align: middle;\n",
       "    }\n",
       "\n",
       "    .dataframe tbody tr th {\n",
       "        vertical-align: top;\n",
       "    }\n",
       "\n",
       "    .dataframe thead tr th {\n",
       "        text-align: left;\n",
       "    }\n",
       "\n",
       "    .dataframe thead tr:last-of-type th {\n",
       "        text-align: right;\n",
       "    }\n",
       "</style>\n",
       "<table border=\"1\" class=\"dataframe\">\n",
       "  <thead>\n",
       "    <tr>\n",
       "      <th></th>\n",
       "      <th colspan=\"2\" halign=\"left\">count</th>\n",
       "      <th>ratio</th>\n",
       "    </tr>\n",
       "    <tr>\n",
       "      <th>debt</th>\n",
       "      <th>0</th>\n",
       "      <th>1</th>\n",
       "      <th></th>\n",
       "    </tr>\n",
       "    <tr>\n",
       "      <th>purpose_category</th>\n",
       "      <th></th>\n",
       "      <th></th>\n",
       "      <th></th>\n",
       "    </tr>\n",
       "  </thead>\n",
       "  <tbody>\n",
       "    <tr>\n",
       "      <th>операции с недвижимостью</th>\n",
       "      <td>10029</td>\n",
       "      <td>782</td>\n",
       "      <td>0.072334</td>\n",
       "    </tr>\n",
       "    <tr>\n",
       "      <th>проведение свадьбы</th>\n",
       "      <td>2138</td>\n",
       "      <td>186</td>\n",
       "      <td>0.080034</td>\n",
       "    </tr>\n",
       "    <tr>\n",
       "      <th>получение образования</th>\n",
       "      <td>3643</td>\n",
       "      <td>370</td>\n",
       "      <td>0.092200</td>\n",
       "    </tr>\n",
       "    <tr>\n",
       "      <th>операции с автомобилем</th>\n",
       "      <td>3903</td>\n",
       "      <td>403</td>\n",
       "      <td>0.093590</td>\n",
       "    </tr>\n",
       "  </tbody>\n",
       "</table>\n",
       "</div>"
      ],
      "text/plain": [
       "                          count          ratio\n",
       "debt                          0    1          \n",
       "purpose_category                              \n",
       "операции с недвижимостью  10029  782  0.072334\n",
       "проведение свадьбы         2138  186  0.080034\n",
       "получение образования      3643  370  0.092200\n",
       "операции с автомобилем     3903  403  0.093590"
      ]
     },
     "execution_count": 59,
     "metadata": {},
     "output_type": "execute_result"
    }
   ],
   "source": [
    "purpose_pivot = data.pivot_table(index='purpose_category', columns='debt', values='dob_years', aggfunc=['count']) # create table\n",
    "purpose_pivot['ratio'] = purpose_pivot['count'][1] / (purpose_pivot['count'][0] + purpose_pivot['count'][1]) # create 'ratio' column\n",
    "purpose_pivot.sort_values('ratio') # display table"
   ]
  },
  {
   "cell_type": "markdown",
   "id": "1b18533b",
   "metadata": {},
   "source": [
    "#### Вывод"
   ]
  },
  {
   "cell_type": "markdown",
   "id": "15bc02fb",
   "metadata": {},
   "source": [
    "Заметим, что наименьшая доля задолженностей у операций с недвижимостью и свадеб, а наибольшая – у получения образования и операций с автомобилем. Это можно объяснить тем, что свадьба оплачивается деньгами, подаренными на нее, или тем, что часто родители помогают расплатиться с ней, а кредиты на операции с недвижимость часто совершают корпоративные клиенты."
   ]
  },
  {
   "cell_type": "markdown",
   "id": "fed8e13e",
   "metadata": {},
   "source": [
    "# Шаг 4. Общий вывод"
   ]
  },
  {
   "cell_type": "markdown",
   "id": "b4b2dbed",
   "metadata": {},
   "source": [
    "Была проведена данного датафрейме, в котором было много ошибок и аномалий: пропуски, неверный тип данных, дубликаты, также была проведена категоризация уровня дохода и целей кредита. \n",
    "На основании предобработанного датафрейма были проверены гипотезы и сделаны следующие выводы:\n",
    "- количество детей *слабо* влияет на факт погашения кредита в срок, но бездетные клиенты чаще, чем другие выплачивают его вовремя;\n",
    "- семейное положение *влияет* на факт погашения кредита в срок: чаще всего имеют задолженности неженатые, реже всего – вдовцы;\n",
    "- уровень дохода в общем случае *не влияет* на факт погашения кредита в срок, но клиенты с самым низким уровнем дохода чаще, чем остальные категории клиентов имеют задолженности;\n",
    "- цель кредита следующим образом влияет на факт его погашения в срок: наименьшая доля задолженностей у клиентов с целью на операции с недвижимостью и проведение свадеб, а наибольшая – у получения образования и операций с автомобилем.\n"
   ]
  }
 ],
 "metadata": {
  "ExecuteTimeLog": [
   {
    "duration": 675,
    "start_time": "2022-05-01T09:22:42.121Z"
   },
   {
    "duration": 0,
    "start_time": "2022-05-01T09:22:42.800Z"
   },
   {
    "duration": 0,
    "start_time": "2022-05-01T09:22:42.801Z"
   },
   {
    "duration": 0,
    "start_time": "2022-05-01T09:22:42.803Z"
   },
   {
    "duration": 0,
    "start_time": "2022-05-01T09:22:42.804Z"
   },
   {
    "duration": 0,
    "start_time": "2022-05-01T09:22:42.805Z"
   },
   {
    "duration": 0,
    "start_time": "2022-05-01T09:22:42.806Z"
   },
   {
    "duration": 0,
    "start_time": "2022-05-01T09:22:42.807Z"
   },
   {
    "duration": 0,
    "start_time": "2022-05-01T09:22:42.808Z"
   },
   {
    "duration": 0,
    "start_time": "2022-05-01T09:22:42.810Z"
   },
   {
    "duration": 0,
    "start_time": "2022-05-01T09:22:42.811Z"
   },
   {
    "duration": 0,
    "start_time": "2022-05-01T09:22:42.823Z"
   },
   {
    "duration": 0,
    "start_time": "2022-05-01T09:22:42.824Z"
   },
   {
    "duration": 0,
    "start_time": "2022-05-01T09:22:42.826Z"
   },
   {
    "duration": 0,
    "start_time": "2022-05-01T09:22:42.828Z"
   },
   {
    "duration": 0,
    "start_time": "2022-05-01T09:22:42.829Z"
   },
   {
    "duration": 0,
    "start_time": "2022-05-01T09:22:42.830Z"
   },
   {
    "duration": 0,
    "start_time": "2022-05-01T09:22:42.831Z"
   },
   {
    "duration": 0,
    "start_time": "2022-05-01T09:22:42.832Z"
   },
   {
    "duration": 0,
    "start_time": "2022-05-01T09:22:42.833Z"
   },
   {
    "duration": 0,
    "start_time": "2022-05-01T09:22:42.834Z"
   },
   {
    "duration": 0,
    "start_time": "2022-05-01T09:22:42.835Z"
   },
   {
    "duration": 0,
    "start_time": "2022-05-01T09:22:42.836Z"
   },
   {
    "duration": 0,
    "start_time": "2022-05-01T09:22:42.837Z"
   },
   {
    "duration": 0,
    "start_time": "2022-05-01T09:22:42.838Z"
   },
   {
    "duration": 0,
    "start_time": "2022-05-01T09:22:42.839Z"
   },
   {
    "duration": 0,
    "start_time": "2022-05-01T09:22:42.840Z"
   },
   {
    "duration": 0,
    "start_time": "2022-05-01T09:22:42.842Z"
   },
   {
    "duration": 0,
    "start_time": "2022-05-01T09:22:42.843Z"
   },
   {
    "duration": 0,
    "start_time": "2022-05-01T09:22:42.844Z"
   },
   {
    "duration": 0,
    "start_time": "2022-05-01T09:22:42.845Z"
   },
   {
    "duration": 0,
    "start_time": "2022-05-01T09:22:42.847Z"
   },
   {
    "duration": 0,
    "start_time": "2022-05-01T09:22:42.848Z"
   },
   {
    "duration": 0,
    "start_time": "2022-05-01T09:22:42.849Z"
   },
   {
    "duration": 0,
    "start_time": "2022-05-01T09:22:42.851Z"
   },
   {
    "duration": 1,
    "start_time": "2022-05-01T09:22:42.852Z"
   },
   {
    "duration": 0,
    "start_time": "2022-05-01T09:22:42.854Z"
   },
   {
    "duration": 0,
    "start_time": "2022-05-01T09:22:42.855Z"
   },
   {
    "duration": 0,
    "start_time": "2022-05-01T09:22:42.856Z"
   },
   {
    "duration": 0,
    "start_time": "2022-05-01T09:22:42.858Z"
   },
   {
    "duration": 0,
    "start_time": "2022-05-01T09:22:42.859Z"
   },
   {
    "duration": 0,
    "start_time": "2022-05-01T09:22:42.861Z"
   },
   {
    "duration": 0,
    "start_time": "2022-05-01T09:22:42.926Z"
   },
   {
    "duration": 0,
    "start_time": "2022-05-01T09:22:42.927Z"
   },
   {
    "duration": 0,
    "start_time": "2022-05-01T09:22:42.929Z"
   },
   {
    "duration": 0,
    "start_time": "2022-05-01T09:22:42.930Z"
   },
   {
    "duration": 0,
    "start_time": "2022-05-01T09:22:42.932Z"
   },
   {
    "duration": 0,
    "start_time": "2022-05-01T09:22:42.933Z"
   },
   {
    "duration": 0,
    "start_time": "2022-05-01T09:22:42.934Z"
   },
   {
    "duration": 0,
    "start_time": "2022-05-01T09:22:42.936Z"
   },
   {
    "duration": 0,
    "start_time": "2022-05-01T09:22:42.937Z"
   },
   {
    "duration": 0,
    "start_time": "2022-05-01T09:22:42.939Z"
   },
   {
    "duration": 0,
    "start_time": "2022-05-01T09:22:42.940Z"
   },
   {
    "duration": 0,
    "start_time": "2022-05-01T09:22:42.941Z"
   },
   {
    "duration": 0,
    "start_time": "2022-05-01T09:22:42.942Z"
   },
   {
    "duration": 0,
    "start_time": "2022-05-01T09:22:42.944Z"
   },
   {
    "duration": 0,
    "start_time": "2022-05-01T09:22:42.945Z"
   },
   {
    "duration": 0,
    "start_time": "2022-05-01T09:22:42.946Z"
   },
   {
    "duration": 0,
    "start_time": "2022-05-01T09:22:42.948Z"
   },
   {
    "duration": 472,
    "start_time": "2022-05-01T09:23:14.005Z"
   },
   {
    "duration": 22,
    "start_time": "2022-05-01T09:23:14.479Z"
   },
   {
    "duration": 22,
    "start_time": "2022-05-01T09:23:14.503Z"
   },
   {
    "duration": 25,
    "start_time": "2022-05-01T09:23:14.528Z"
   },
   {
    "duration": 14,
    "start_time": "2022-05-01T09:23:14.554Z"
   },
   {
    "duration": 14,
    "start_time": "2022-05-01T09:23:14.569Z"
   },
   {
    "duration": 53,
    "start_time": "2022-05-01T09:23:14.584Z"
   },
   {
    "duration": 5,
    "start_time": "2022-05-01T09:23:14.639Z"
   },
   {
    "duration": 8,
    "start_time": "2022-05-01T09:23:14.646Z"
   },
   {
    "duration": 10,
    "start_time": "2022-05-01T09:23:14.658Z"
   },
   {
    "duration": 8,
    "start_time": "2022-05-01T09:23:14.669Z"
   },
   {
    "duration": 9,
    "start_time": "2022-05-01T09:23:14.679Z"
   },
   {
    "duration": 9,
    "start_time": "2022-05-01T09:23:14.690Z"
   },
   {
    "duration": 29,
    "start_time": "2022-05-01T09:23:14.701Z"
   },
   {
    "duration": 6,
    "start_time": "2022-05-01T09:23:14.731Z"
   },
   {
    "duration": 8,
    "start_time": "2022-05-01T09:23:14.738Z"
   },
   {
    "duration": 12,
    "start_time": "2022-05-01T09:23:14.747Z"
   },
   {
    "duration": 14,
    "start_time": "2022-05-01T09:23:14.760Z"
   },
   {
    "duration": 7,
    "start_time": "2022-05-01T09:23:14.775Z"
   },
   {
    "duration": 42,
    "start_time": "2022-05-01T09:23:14.784Z"
   },
   {
    "duration": 7,
    "start_time": "2022-05-01T09:23:14.828Z"
   },
   {
    "duration": 7,
    "start_time": "2022-05-01T09:23:14.837Z"
   },
   {
    "duration": 9,
    "start_time": "2022-05-01T09:23:14.846Z"
   },
   {
    "duration": 9,
    "start_time": "2022-05-01T09:23:14.857Z"
   },
   {
    "duration": 5,
    "start_time": "2022-05-01T09:23:14.867Z"
   },
   {
    "duration": 9,
    "start_time": "2022-05-01T09:23:14.873Z"
   },
   {
    "duration": 43,
    "start_time": "2022-05-01T09:23:14.884Z"
   },
   {
    "duration": 6,
    "start_time": "2022-05-01T09:23:14.931Z"
   },
   {
    "duration": 5,
    "start_time": "2022-05-01T09:23:14.939Z"
   },
   {
    "duration": 13,
    "start_time": "2022-05-01T09:23:14.945Z"
   },
   {
    "duration": 13,
    "start_time": "2022-05-01T09:23:14.959Z"
   },
   {
    "duration": 7,
    "start_time": "2022-05-01T09:23:14.974Z"
   },
   {
    "duration": 5,
    "start_time": "2022-05-01T09:23:14.982Z"
   },
   {
    "duration": 37,
    "start_time": "2022-05-01T09:23:14.988Z"
   },
   {
    "duration": 14,
    "start_time": "2022-05-01T09:23:15.026Z"
   },
   {
    "duration": 16,
    "start_time": "2022-05-01T09:23:15.042Z"
   },
   {
    "duration": 18,
    "start_time": "2022-05-01T09:23:15.060Z"
   },
   {
    "duration": 17,
    "start_time": "2022-05-01T09:23:15.079Z"
   },
   {
    "duration": 45,
    "start_time": "2022-05-01T09:23:15.097Z"
   },
   {
    "duration": 9,
    "start_time": "2022-05-01T09:23:15.144Z"
   },
   {
    "duration": 9,
    "start_time": "2022-05-01T09:23:15.155Z"
   },
   {
    "duration": 4,
    "start_time": "2022-05-01T09:23:15.166Z"
   },
   {
    "duration": 9,
    "start_time": "2022-05-01T09:23:15.172Z"
   },
   {
    "duration": 42,
    "start_time": "2022-05-01T09:23:15.183Z"
   },
   {
    "duration": 8,
    "start_time": "2022-05-01T09:23:15.227Z"
   },
   {
    "duration": 9,
    "start_time": "2022-05-01T09:23:15.237Z"
   },
   {
    "duration": 6,
    "start_time": "2022-05-01T09:23:15.248Z"
   },
   {
    "duration": 8,
    "start_time": "2022-05-01T09:23:15.256Z"
   },
   {
    "duration": 7,
    "start_time": "2022-05-01T09:23:15.266Z"
   },
   {
    "duration": 8,
    "start_time": "2022-05-01T09:23:15.274Z"
   },
   {
    "duration": 41,
    "start_time": "2022-05-01T09:23:15.284Z"
   },
   {
    "duration": 9,
    "start_time": "2022-05-01T09:23:15.327Z"
   },
   {
    "duration": 11,
    "start_time": "2022-05-01T09:23:15.338Z"
   },
   {
    "duration": 10,
    "start_time": "2022-05-01T09:23:15.351Z"
   },
   {
    "duration": 11,
    "start_time": "2022-05-01T09:23:15.363Z"
   },
   {
    "duration": 62,
    "start_time": "2022-05-01T09:23:15.376Z"
   },
   {
    "duration": 25,
    "start_time": "2022-05-01T09:23:15.440Z"
   },
   {
    "duration": 23,
    "start_time": "2022-05-01T09:23:15.467Z"
   },
   {
    "duration": 51,
    "start_time": "2022-05-01T09:23:15.492Z"
   },
   {
    "duration": 559,
    "start_time": "2022-05-01T09:28:56.192Z"
   },
   {
    "duration": 0,
    "start_time": "2022-05-01T09:28:56.755Z"
   },
   {
    "duration": 0,
    "start_time": "2022-05-01T09:28:56.756Z"
   },
   {
    "duration": 0,
    "start_time": "2022-05-01T09:28:56.758Z"
   },
   {
    "duration": 0,
    "start_time": "2022-05-01T09:28:56.759Z"
   },
   {
    "duration": 0,
    "start_time": "2022-05-01T09:28:56.760Z"
   },
   {
    "duration": 0,
    "start_time": "2022-05-01T09:28:56.761Z"
   },
   {
    "duration": 0,
    "start_time": "2022-05-01T09:28:56.763Z"
   },
   {
    "duration": 0,
    "start_time": "2022-05-01T09:28:56.764Z"
   },
   {
    "duration": 0,
    "start_time": "2022-05-01T09:28:56.765Z"
   },
   {
    "duration": 0,
    "start_time": "2022-05-01T09:28:56.766Z"
   },
   {
    "duration": 0,
    "start_time": "2022-05-01T09:28:56.768Z"
   },
   {
    "duration": 0,
    "start_time": "2022-05-01T09:28:56.769Z"
   },
   {
    "duration": 0,
    "start_time": "2022-05-01T09:28:56.771Z"
   },
   {
    "duration": 0,
    "start_time": "2022-05-01T09:28:56.772Z"
   },
   {
    "duration": 0,
    "start_time": "2022-05-01T09:28:56.773Z"
   },
   {
    "duration": 0,
    "start_time": "2022-05-01T09:28:56.775Z"
   },
   {
    "duration": 0,
    "start_time": "2022-05-01T09:28:56.776Z"
   },
   {
    "duration": 0,
    "start_time": "2022-05-01T09:28:56.777Z"
   },
   {
    "duration": 0,
    "start_time": "2022-05-01T09:28:56.779Z"
   },
   {
    "duration": 0,
    "start_time": "2022-05-01T09:28:56.780Z"
   },
   {
    "duration": 0,
    "start_time": "2022-05-01T09:28:56.781Z"
   },
   {
    "duration": 0,
    "start_time": "2022-05-01T09:28:56.782Z"
   },
   {
    "duration": 0,
    "start_time": "2022-05-01T09:28:56.783Z"
   },
   {
    "duration": 0,
    "start_time": "2022-05-01T09:28:56.824Z"
   },
   {
    "duration": 0,
    "start_time": "2022-05-01T09:28:56.825Z"
   },
   {
    "duration": 0,
    "start_time": "2022-05-01T09:28:56.826Z"
   },
   {
    "duration": 0,
    "start_time": "2022-05-01T09:28:56.828Z"
   },
   {
    "duration": 0,
    "start_time": "2022-05-01T09:28:56.828Z"
   },
   {
    "duration": 0,
    "start_time": "2022-05-01T09:28:56.829Z"
   },
   {
    "duration": 0,
    "start_time": "2022-05-01T09:28:56.830Z"
   },
   {
    "duration": 0,
    "start_time": "2022-05-01T09:28:56.831Z"
   },
   {
    "duration": 0,
    "start_time": "2022-05-01T09:28:56.832Z"
   },
   {
    "duration": 0,
    "start_time": "2022-05-01T09:28:56.832Z"
   },
   {
    "duration": 0,
    "start_time": "2022-05-01T09:28:56.833Z"
   },
   {
    "duration": 0,
    "start_time": "2022-05-01T09:28:56.834Z"
   },
   {
    "duration": 0,
    "start_time": "2022-05-01T09:28:56.835Z"
   },
   {
    "duration": 0,
    "start_time": "2022-05-01T09:28:56.836Z"
   },
   {
    "duration": 0,
    "start_time": "2022-05-01T09:28:56.837Z"
   },
   {
    "duration": 0,
    "start_time": "2022-05-01T09:28:56.837Z"
   },
   {
    "duration": 0,
    "start_time": "2022-05-01T09:28:56.838Z"
   },
   {
    "duration": 0,
    "start_time": "2022-05-01T09:28:56.839Z"
   },
   {
    "duration": 0,
    "start_time": "2022-05-01T09:28:56.840Z"
   },
   {
    "duration": 0,
    "start_time": "2022-05-01T09:28:56.841Z"
   },
   {
    "duration": 0,
    "start_time": "2022-05-01T09:28:56.842Z"
   },
   {
    "duration": 0,
    "start_time": "2022-05-01T09:28:56.843Z"
   },
   {
    "duration": 0,
    "start_time": "2022-05-01T09:28:56.844Z"
   },
   {
    "duration": 0,
    "start_time": "2022-05-01T09:28:56.845Z"
   },
   {
    "duration": 0,
    "start_time": "2022-05-01T09:28:56.848Z"
   },
   {
    "duration": 0,
    "start_time": "2022-05-01T09:28:56.848Z"
   },
   {
    "duration": 0,
    "start_time": "2022-05-01T09:28:56.849Z"
   },
   {
    "duration": 0,
    "start_time": "2022-05-01T09:28:56.850Z"
   },
   {
    "duration": 0,
    "start_time": "2022-05-01T09:28:56.851Z"
   },
   {
    "duration": 0,
    "start_time": "2022-05-01T09:28:56.852Z"
   },
   {
    "duration": 0,
    "start_time": "2022-05-01T09:28:56.853Z"
   },
   {
    "duration": 0,
    "start_time": "2022-05-01T09:28:56.854Z"
   },
   {
    "duration": 0,
    "start_time": "2022-05-01T09:28:56.855Z"
   },
   {
    "duration": 75,
    "start_time": "2022-05-01T09:28:56.857Z"
   },
   {
    "duration": 0,
    "start_time": "2022-05-01T09:28:56.934Z"
   },
   {
    "duration": 447,
    "start_time": "2022-05-01T17:31:28.129Z"
   },
   {
    "duration": 12,
    "start_time": "2022-05-01T17:33:10.019Z"
   },
   {
    "duration": 10,
    "start_time": "2022-05-01T17:33:15.523Z"
   },
   {
    "duration": 444,
    "start_time": "2022-05-01T17:33:26.333Z"
   },
   {
    "duration": 21,
    "start_time": "2022-05-01T17:33:26.779Z"
   },
   {
    "duration": 24,
    "start_time": "2022-05-01T17:33:26.801Z"
   },
   {
    "duration": 24,
    "start_time": "2022-05-01T17:33:26.827Z"
   },
   {
    "duration": 12,
    "start_time": "2022-05-01T17:33:26.853Z"
   },
   {
    "duration": 35,
    "start_time": "2022-05-01T17:33:26.866Z"
   },
   {
    "duration": 25,
    "start_time": "2022-05-01T17:33:26.902Z"
   },
   {
    "duration": 6,
    "start_time": "2022-05-01T17:33:26.929Z"
   },
   {
    "duration": 5,
    "start_time": "2022-05-01T17:33:26.936Z"
   },
   {
    "duration": 5,
    "start_time": "2022-05-01T17:33:26.944Z"
   },
   {
    "duration": 6,
    "start_time": "2022-05-01T17:33:26.950Z"
   },
   {
    "duration": 7,
    "start_time": "2022-05-01T17:33:26.993Z"
   },
   {
    "duration": 11,
    "start_time": "2022-05-01T17:33:27.003Z"
   },
   {
    "duration": 19,
    "start_time": "2022-05-01T17:33:27.016Z"
   },
   {
    "duration": 6,
    "start_time": "2022-05-01T17:33:27.037Z"
   },
   {
    "duration": 9,
    "start_time": "2022-05-01T17:33:27.046Z"
   },
   {
    "duration": 43,
    "start_time": "2022-05-01T17:33:27.057Z"
   },
   {
    "duration": 21,
    "start_time": "2022-05-01T17:33:27.102Z"
   },
   {
    "duration": 8,
    "start_time": "2022-05-01T17:33:27.125Z"
   },
   {
    "duration": 7,
    "start_time": "2022-05-01T17:33:27.135Z"
   },
   {
    "duration": 8,
    "start_time": "2022-05-01T17:33:27.143Z"
   },
   {
    "duration": 13,
    "start_time": "2022-05-01T17:33:27.153Z"
   },
   {
    "duration": 15,
    "start_time": "2022-05-01T17:33:27.193Z"
   },
   {
    "duration": 16,
    "start_time": "2022-05-01T17:33:27.210Z"
   },
   {
    "duration": 5,
    "start_time": "2022-05-01T17:33:27.227Z"
   },
   {
    "duration": 8,
    "start_time": "2022-05-01T17:33:27.234Z"
   },
   {
    "duration": 11,
    "start_time": "2022-05-01T17:33:27.244Z"
   },
   {
    "duration": 8,
    "start_time": "2022-05-01T17:33:27.258Z"
   },
   {
    "duration": 9,
    "start_time": "2022-05-01T17:33:27.268Z"
   },
   {
    "duration": 25,
    "start_time": "2022-05-01T17:33:27.292Z"
   },
   {
    "duration": 7,
    "start_time": "2022-05-01T17:33:27.318Z"
   },
   {
    "duration": 9,
    "start_time": "2022-05-01T17:33:27.326Z"
   },
   {
    "duration": 6,
    "start_time": "2022-05-01T17:33:27.337Z"
   },
   {
    "duration": 9,
    "start_time": "2022-05-01T17:33:27.345Z"
   },
   {
    "duration": 19,
    "start_time": "2022-05-01T17:33:27.356Z"
   },
   {
    "duration": 32,
    "start_time": "2022-05-01T17:33:27.377Z"
   },
   {
    "duration": 19,
    "start_time": "2022-05-01T17:33:27.410Z"
   },
   {
    "duration": 17,
    "start_time": "2022-05-01T17:33:27.430Z"
   },
   {
    "duration": 48,
    "start_time": "2022-05-01T17:33:27.448Z"
   },
   {
    "duration": 11,
    "start_time": "2022-05-01T17:33:27.499Z"
   },
   {
    "duration": 9,
    "start_time": "2022-05-01T17:33:27.512Z"
   },
   {
    "duration": 6,
    "start_time": "2022-05-01T17:33:27.523Z"
   },
   {
    "duration": 14,
    "start_time": "2022-05-01T17:33:27.530Z"
   },
   {
    "duration": 16,
    "start_time": "2022-05-01T17:33:27.546Z"
   },
   {
    "duration": 8,
    "start_time": "2022-05-01T17:33:27.563Z"
   },
   {
    "duration": 41,
    "start_time": "2022-05-01T17:33:27.572Z"
   },
   {
    "duration": 8,
    "start_time": "2022-05-01T17:33:27.615Z"
   },
   {
    "duration": 12,
    "start_time": "2022-05-01T17:33:27.625Z"
   },
   {
    "duration": 15,
    "start_time": "2022-05-01T17:33:27.639Z"
   },
   {
    "duration": 9,
    "start_time": "2022-05-01T17:33:27.656Z"
   },
   {
    "duration": 11,
    "start_time": "2022-05-01T17:33:27.667Z"
   },
   {
    "duration": 13,
    "start_time": "2022-05-01T17:33:27.694Z"
   },
   {
    "duration": 12,
    "start_time": "2022-05-01T17:33:27.709Z"
   },
   {
    "duration": 13,
    "start_time": "2022-05-01T17:33:27.723Z"
   },
   {
    "duration": 18,
    "start_time": "2022-05-01T17:33:27.738Z"
   },
   {
    "duration": 40,
    "start_time": "2022-05-01T17:33:27.758Z"
   },
   {
    "duration": 28,
    "start_time": "2022-05-01T17:33:27.800Z"
   },
   {
    "duration": 23,
    "start_time": "2022-05-01T17:33:27.830Z"
   },
   {
    "duration": 56,
    "start_time": "2022-05-01T17:33:27.854Z"
   },
   {
    "duration": 5,
    "start_time": "2022-05-01T17:35:48.317Z"
   },
   {
    "duration": 25,
    "start_time": "2022-05-01T17:39:39.278Z"
   },
   {
    "duration": 162,
    "start_time": "2022-05-01T17:42:30.770Z"
   },
   {
    "duration": 86,
    "start_time": "2022-05-01T17:43:07.229Z"
   },
   {
    "duration": 15,
    "start_time": "2022-05-01T17:43:07.318Z"
   },
   {
    "duration": 27,
    "start_time": "2022-05-01T17:43:07.335Z"
   },
   {
    "duration": 66,
    "start_time": "2022-05-01T17:43:07.366Z"
   },
   {
    "duration": 20,
    "start_time": "2022-05-01T17:43:07.435Z"
   },
   {
    "duration": 45,
    "start_time": "2022-05-01T17:43:07.457Z"
   },
   {
    "duration": 23,
    "start_time": "2022-05-01T17:43:07.504Z"
   },
   {
    "duration": 6,
    "start_time": "2022-05-01T17:43:07.529Z"
   },
   {
    "duration": 12,
    "start_time": "2022-05-01T17:43:07.537Z"
   },
   {
    "duration": 44,
    "start_time": "2022-05-01T17:43:07.553Z"
   },
   {
    "duration": 11,
    "start_time": "2022-05-01T17:43:07.598Z"
   },
   {
    "duration": 13,
    "start_time": "2022-05-01T17:43:07.611Z"
   },
   {
    "duration": 9,
    "start_time": "2022-05-01T17:43:07.626Z"
   },
   {
    "duration": 16,
    "start_time": "2022-05-01T17:43:07.637Z"
   },
   {
    "duration": 5,
    "start_time": "2022-05-01T17:43:07.654Z"
   },
   {
    "duration": 49,
    "start_time": "2022-05-01T17:43:07.661Z"
   },
   {
    "duration": 15,
    "start_time": "2022-05-01T17:43:07.713Z"
   },
   {
    "duration": 24,
    "start_time": "2022-05-01T17:43:07.730Z"
   },
   {
    "duration": 9,
    "start_time": "2022-05-01T17:43:07.756Z"
   },
   {
    "duration": 8,
    "start_time": "2022-05-01T17:43:07.767Z"
   },
   {
    "duration": 25,
    "start_time": "2022-05-01T17:43:07.777Z"
   },
   {
    "duration": 11,
    "start_time": "2022-05-01T17:43:07.804Z"
   },
   {
    "duration": 12,
    "start_time": "2022-05-01T17:43:07.817Z"
   },
   {
    "duration": 8,
    "start_time": "2022-05-01T17:43:07.831Z"
   },
   {
    "duration": 10,
    "start_time": "2022-05-01T17:43:07.841Z"
   },
   {
    "duration": 6,
    "start_time": "2022-05-01T17:43:07.853Z"
   },
   {
    "duration": 9,
    "start_time": "2022-05-01T17:43:07.861Z"
   },
   {
    "duration": 32,
    "start_time": "2022-05-01T17:43:07.874Z"
   },
   {
    "duration": 12,
    "start_time": "2022-05-01T17:43:07.908Z"
   },
   {
    "duration": 15,
    "start_time": "2022-05-01T17:43:07.923Z"
   },
   {
    "duration": 13,
    "start_time": "2022-05-01T17:43:07.939Z"
   },
   {
    "duration": 15,
    "start_time": "2022-05-01T17:43:07.954Z"
   },
   {
    "duration": 9,
    "start_time": "2022-05-01T17:43:07.971Z"
   },
   {
    "duration": 9,
    "start_time": "2022-05-01T17:43:07.981Z"
   },
   {
    "duration": 32,
    "start_time": "2022-05-01T17:43:07.992Z"
   },
   {
    "duration": 7,
    "start_time": "2022-05-01T17:43:08.026Z"
   },
   {
    "duration": 26,
    "start_time": "2022-05-01T17:43:08.034Z"
   },
   {
    "duration": 17,
    "start_time": "2022-05-01T17:43:08.062Z"
   },
   {
    "duration": 35,
    "start_time": "2022-05-01T17:43:08.081Z"
   },
   {
    "duration": 9,
    "start_time": "2022-05-01T17:43:08.118Z"
   },
   {
    "duration": 23,
    "start_time": "2022-05-01T17:43:08.129Z"
   },
   {
    "duration": 7,
    "start_time": "2022-05-01T17:43:08.154Z"
   },
   {
    "duration": 11,
    "start_time": "2022-05-01T17:43:08.163Z"
   },
   {
    "duration": 11,
    "start_time": "2022-05-01T17:43:08.192Z"
   },
   {
    "duration": 18,
    "start_time": "2022-05-01T17:43:08.206Z"
   },
   {
    "duration": 12,
    "start_time": "2022-05-01T17:43:08.226Z"
   },
   {
    "duration": 14,
    "start_time": "2022-05-01T17:43:08.240Z"
   },
   {
    "duration": 11,
    "start_time": "2022-05-01T17:43:08.256Z"
   },
   {
    "duration": 23,
    "start_time": "2022-05-01T17:43:08.269Z"
   },
   {
    "duration": 10,
    "start_time": "2022-05-01T17:43:08.294Z"
   },
   {
    "duration": 19,
    "start_time": "2022-05-01T17:43:08.306Z"
   },
   {
    "duration": 10,
    "start_time": "2022-05-01T17:43:08.327Z"
   },
   {
    "duration": 10,
    "start_time": "2022-05-01T17:43:08.339Z"
   },
   {
    "duration": 13,
    "start_time": "2022-05-01T17:43:08.351Z"
   },
   {
    "duration": 29,
    "start_time": "2022-05-01T17:43:08.365Z"
   },
   {
    "duration": 30,
    "start_time": "2022-05-01T17:43:08.399Z"
   },
   {
    "duration": 32,
    "start_time": "2022-05-01T17:43:08.431Z"
   },
   {
    "duration": 39,
    "start_time": "2022-05-01T17:43:08.465Z"
   },
   {
    "duration": 32,
    "start_time": "2022-05-01T17:43:08.507Z"
   },
   {
    "duration": 25,
    "start_time": "2022-05-01T17:43:08.542Z"
   },
   {
    "duration": 58,
    "start_time": "2022-05-01T17:43:30.820Z"
   },
   {
    "duration": 17,
    "start_time": "2022-05-01T17:43:30.880Z"
   },
   {
    "duration": 33,
    "start_time": "2022-05-01T17:43:30.901Z"
   },
   {
    "duration": 28,
    "start_time": "2022-05-01T17:43:30.937Z"
   },
   {
    "duration": 35,
    "start_time": "2022-05-01T17:43:30.967Z"
   },
   {
    "duration": 31,
    "start_time": "2022-05-01T17:43:31.004Z"
   },
   {
    "duration": 39,
    "start_time": "2022-05-01T17:43:31.037Z"
   },
   {
    "duration": 29,
    "start_time": "2022-05-01T17:43:31.078Z"
   },
   {
    "duration": 17,
    "start_time": "2022-05-01T17:43:31.110Z"
   },
   {
    "duration": 6,
    "start_time": "2022-05-01T17:43:31.131Z"
   },
   {
    "duration": 16,
    "start_time": "2022-05-01T17:43:31.139Z"
   },
   {
    "duration": 16,
    "start_time": "2022-05-01T17:43:31.157Z"
   },
   {
    "duration": 18,
    "start_time": "2022-05-01T17:43:31.175Z"
   },
   {
    "duration": 24,
    "start_time": "2022-05-01T17:43:31.195Z"
   },
   {
    "duration": 7,
    "start_time": "2022-05-01T17:43:31.222Z"
   },
   {
    "duration": 15,
    "start_time": "2022-05-01T17:43:31.231Z"
   },
   {
    "duration": 19,
    "start_time": "2022-05-01T17:43:31.248Z"
   },
   {
    "duration": 40,
    "start_time": "2022-05-01T17:43:31.269Z"
   },
   {
    "duration": 17,
    "start_time": "2022-05-01T17:43:31.310Z"
   },
   {
    "duration": 10,
    "start_time": "2022-05-01T17:43:31.329Z"
   },
   {
    "duration": 21,
    "start_time": "2022-05-01T17:43:31.341Z"
   },
   {
    "duration": 17,
    "start_time": "2022-05-01T17:43:31.364Z"
   },
   {
    "duration": 15,
    "start_time": "2022-05-01T17:43:31.383Z"
   },
   {
    "duration": 20,
    "start_time": "2022-05-01T17:43:31.400Z"
   },
   {
    "duration": 17,
    "start_time": "2022-05-01T17:43:31.422Z"
   },
   {
    "duration": 25,
    "start_time": "2022-05-01T17:43:31.441Z"
   },
   {
    "duration": 13,
    "start_time": "2022-05-01T17:43:31.468Z"
   },
   {
    "duration": 13,
    "start_time": "2022-05-01T17:43:31.487Z"
   },
   {
    "duration": 21,
    "start_time": "2022-05-01T17:43:31.503Z"
   },
   {
    "duration": 21,
    "start_time": "2022-05-01T17:43:31.526Z"
   },
   {
    "duration": 14,
    "start_time": "2022-05-01T17:43:31.549Z"
   },
   {
    "duration": 35,
    "start_time": "2022-05-01T17:43:31.565Z"
   },
   {
    "duration": 14,
    "start_time": "2022-05-01T17:43:31.607Z"
   },
   {
    "duration": 11,
    "start_time": "2022-05-01T17:43:31.624Z"
   },
   {
    "duration": 75,
    "start_time": "2022-05-01T17:43:31.637Z"
   },
   {
    "duration": 2,
    "start_time": "2022-05-01T17:43:31.714Z"
   },
   {
    "duration": 6,
    "start_time": "2022-05-01T17:43:31.718Z"
   },
   {
    "duration": 6,
    "start_time": "2022-05-01T17:43:31.725Z"
   },
   {
    "duration": 25,
    "start_time": "2022-05-01T17:43:31.733Z"
   },
   {
    "duration": 9,
    "start_time": "2022-05-01T17:43:31.759Z"
   },
   {
    "duration": 58,
    "start_time": "2022-05-01T17:43:31.770Z"
   },
   {
    "duration": 8,
    "start_time": "2022-05-01T17:43:31.830Z"
   },
   {
    "duration": 6,
    "start_time": "2022-05-01T17:43:31.840Z"
   },
   {
    "duration": 12,
    "start_time": "2022-05-01T17:43:31.848Z"
   },
   {
    "duration": 38,
    "start_time": "2022-05-01T17:43:31.862Z"
   },
   {
    "duration": 26,
    "start_time": "2022-05-01T17:43:31.904Z"
   },
   {
    "duration": 13,
    "start_time": "2022-05-01T17:43:31.932Z"
   },
   {
    "duration": 11,
    "start_time": "2022-05-01T17:43:31.947Z"
   },
   {
    "duration": 10,
    "start_time": "2022-05-01T17:43:31.961Z"
   },
   {
    "duration": 35,
    "start_time": "2022-05-01T17:43:31.973Z"
   },
   {
    "duration": 9,
    "start_time": "2022-05-01T17:43:32.011Z"
   },
   {
    "duration": 8,
    "start_time": "2022-05-01T17:43:32.022Z"
   },
   {
    "duration": 15,
    "start_time": "2022-05-01T17:43:32.032Z"
   },
   {
    "duration": 13,
    "start_time": "2022-05-01T17:43:32.049Z"
   },
   {
    "duration": 17,
    "start_time": "2022-05-01T17:43:32.064Z"
   },
   {
    "duration": 17,
    "start_time": "2022-05-01T17:43:32.083Z"
   },
   {
    "duration": 34,
    "start_time": "2022-05-01T17:43:32.104Z"
   },
   {
    "duration": 34,
    "start_time": "2022-05-01T17:43:32.140Z"
   },
   {
    "duration": 51,
    "start_time": "2022-05-01T17:43:32.176Z"
   },
   {
    "duration": 36,
    "start_time": "2022-05-01T17:43:32.229Z"
   },
   {
    "duration": 23,
    "start_time": "2022-05-01T17:44:53.143Z"
   },
   {
    "duration": 36,
    "start_time": "2022-05-01T17:45:34.603Z"
   },
   {
    "duration": 500,
    "start_time": "2022-05-01T17:49:07.755Z"
   },
   {
    "duration": 22,
    "start_time": "2022-05-01T17:49:08.257Z"
   },
   {
    "duration": 23,
    "start_time": "2022-05-01T17:49:08.281Z"
   },
   {
    "duration": 30,
    "start_time": "2022-05-01T17:49:08.308Z"
   },
   {
    "duration": 14,
    "start_time": "2022-05-01T17:49:08.339Z"
   },
   {
    "duration": 12,
    "start_time": "2022-05-01T17:49:08.355Z"
   },
   {
    "duration": 25,
    "start_time": "2022-05-01T17:49:08.397Z"
   },
   {
    "duration": 5,
    "start_time": "2022-05-01T17:49:08.425Z"
   },
   {
    "duration": 12,
    "start_time": "2022-05-01T17:49:08.431Z"
   },
   {
    "duration": 5,
    "start_time": "2022-05-01T17:49:08.446Z"
   },
   {
    "duration": 9,
    "start_time": "2022-05-01T17:49:08.453Z"
   },
   {
    "duration": 45,
    "start_time": "2022-05-01T17:49:08.464Z"
   },
   {
    "duration": 13,
    "start_time": "2022-05-01T17:49:08.514Z"
   },
   {
    "duration": 19,
    "start_time": "2022-05-01T17:49:08.528Z"
   },
   {
    "duration": 6,
    "start_time": "2022-05-01T17:49:08.549Z"
   },
   {
    "duration": 10,
    "start_time": "2022-05-01T17:49:08.557Z"
   },
   {
    "duration": 9,
    "start_time": "2022-05-01T17:49:08.569Z"
   },
   {
    "duration": 35,
    "start_time": "2022-05-01T17:49:08.580Z"
   },
   {
    "duration": 12,
    "start_time": "2022-05-01T17:49:08.617Z"
   },
   {
    "duration": 8,
    "start_time": "2022-05-01T17:49:08.630Z"
   },
   {
    "duration": 10,
    "start_time": "2022-05-01T17:49:08.639Z"
   },
   {
    "duration": 10,
    "start_time": "2022-05-01T17:49:08.651Z"
   },
   {
    "duration": 8,
    "start_time": "2022-05-01T17:49:08.663Z"
   },
   {
    "duration": 14,
    "start_time": "2022-05-01T17:49:08.692Z"
   },
   {
    "duration": 14,
    "start_time": "2022-05-01T17:49:08.708Z"
   },
   {
    "duration": 9,
    "start_time": "2022-05-01T17:49:08.724Z"
   },
   {
    "duration": 12,
    "start_time": "2022-05-01T17:49:08.734Z"
   },
   {
    "duration": 8,
    "start_time": "2022-05-01T17:49:08.749Z"
   },
   {
    "duration": 9,
    "start_time": "2022-05-01T17:49:08.759Z"
   },
   {
    "duration": 28,
    "start_time": "2022-05-01T17:49:08.769Z"
   },
   {
    "duration": 15,
    "start_time": "2022-05-01T17:49:08.798Z"
   },
   {
    "duration": 23,
    "start_time": "2022-05-01T17:49:08.815Z"
   },
   {
    "duration": 9,
    "start_time": "2022-05-01T17:49:08.840Z"
   },
   {
    "duration": 12,
    "start_time": "2022-05-01T17:49:08.851Z"
   },
   {
    "duration": 20,
    "start_time": "2022-05-01T17:49:08.865Z"
   },
   {
    "duration": 25,
    "start_time": "2022-05-01T17:49:08.886Z"
   },
   {
    "duration": 14,
    "start_time": "2022-05-01T17:49:08.912Z"
   },
   {
    "duration": 25,
    "start_time": "2022-05-01T17:49:08.928Z"
   },
   {
    "duration": 112,
    "start_time": "2022-05-01T17:49:08.955Z"
   },
   {
    "duration": 0,
    "start_time": "2022-05-01T17:49:09.069Z"
   },
   {
    "duration": 0,
    "start_time": "2022-05-01T17:49:09.071Z"
   },
   {
    "duration": 0,
    "start_time": "2022-05-01T17:49:09.072Z"
   },
   {
    "duration": 0,
    "start_time": "2022-05-01T17:49:09.073Z"
   },
   {
    "duration": 0,
    "start_time": "2022-05-01T17:49:09.074Z"
   },
   {
    "duration": 0,
    "start_time": "2022-05-01T17:49:09.075Z"
   },
   {
    "duration": 0,
    "start_time": "2022-05-01T17:49:09.076Z"
   },
   {
    "duration": 0,
    "start_time": "2022-05-01T17:49:09.077Z"
   },
   {
    "duration": 0,
    "start_time": "2022-05-01T17:49:09.078Z"
   },
   {
    "duration": 0,
    "start_time": "2022-05-01T17:49:09.079Z"
   },
   {
    "duration": 0,
    "start_time": "2022-05-01T17:49:09.093Z"
   },
   {
    "duration": 0,
    "start_time": "2022-05-01T17:49:09.094Z"
   },
   {
    "duration": 0,
    "start_time": "2022-05-01T17:49:09.096Z"
   },
   {
    "duration": 0,
    "start_time": "2022-05-01T17:49:09.097Z"
   },
   {
    "duration": 0,
    "start_time": "2022-05-01T17:49:09.098Z"
   },
   {
    "duration": 0,
    "start_time": "2022-05-01T17:49:09.099Z"
   },
   {
    "duration": 0,
    "start_time": "2022-05-01T17:49:09.100Z"
   },
   {
    "duration": 0,
    "start_time": "2022-05-01T17:49:09.101Z"
   },
   {
    "duration": 0,
    "start_time": "2022-05-01T17:49:09.102Z"
   },
   {
    "duration": 0,
    "start_time": "2022-05-01T17:49:09.103Z"
   },
   {
    "duration": 490,
    "start_time": "2022-05-01T17:50:20.768Z"
   },
   {
    "duration": 21,
    "start_time": "2022-05-01T17:50:21.261Z"
   },
   {
    "duration": 20,
    "start_time": "2022-05-01T17:50:21.283Z"
   },
   {
    "duration": 25,
    "start_time": "2022-05-01T17:50:21.305Z"
   },
   {
    "duration": 17,
    "start_time": "2022-05-01T17:50:21.331Z"
   },
   {
    "duration": 12,
    "start_time": "2022-05-01T17:50:21.350Z"
   },
   {
    "duration": 25,
    "start_time": "2022-05-01T17:50:21.392Z"
   },
   {
    "duration": 6,
    "start_time": "2022-05-01T17:50:21.418Z"
   },
   {
    "duration": 6,
    "start_time": "2022-05-01T17:50:21.425Z"
   },
   {
    "duration": 4,
    "start_time": "2022-05-01T17:50:21.434Z"
   },
   {
    "duration": 6,
    "start_time": "2022-05-01T17:50:21.440Z"
   },
   {
    "duration": 6,
    "start_time": "2022-05-01T17:50:21.447Z"
   },
   {
    "duration": 11,
    "start_time": "2022-05-01T17:50:21.496Z"
   },
   {
    "duration": 16,
    "start_time": "2022-05-01T17:50:21.509Z"
   },
   {
    "duration": 6,
    "start_time": "2022-05-01T17:50:21.526Z"
   },
   {
    "duration": 7,
    "start_time": "2022-05-01T17:50:21.533Z"
   },
   {
    "duration": 11,
    "start_time": "2022-05-01T17:50:21.542Z"
   },
   {
    "duration": 17,
    "start_time": "2022-05-01T17:50:21.555Z"
   },
   {
    "duration": 25,
    "start_time": "2022-05-01T17:50:21.573Z"
   },
   {
    "duration": 18,
    "start_time": "2022-05-01T17:50:21.601Z"
   },
   {
    "duration": 10,
    "start_time": "2022-05-01T17:50:21.621Z"
   },
   {
    "duration": 15,
    "start_time": "2022-05-01T17:50:21.632Z"
   },
   {
    "duration": 21,
    "start_time": "2022-05-01T17:50:21.649Z"
   },
   {
    "duration": 24,
    "start_time": "2022-05-01T17:50:21.671Z"
   },
   {
    "duration": 19,
    "start_time": "2022-05-01T17:50:21.697Z"
   },
   {
    "duration": 20,
    "start_time": "2022-05-01T17:50:21.717Z"
   },
   {
    "duration": 12,
    "start_time": "2022-05-01T17:50:21.739Z"
   },
   {
    "duration": 18,
    "start_time": "2022-05-01T17:50:21.755Z"
   },
   {
    "duration": 38,
    "start_time": "2022-05-01T17:50:21.774Z"
   },
   {
    "duration": 12,
    "start_time": "2022-05-01T17:50:21.814Z"
   },
   {
    "duration": 9,
    "start_time": "2022-05-01T17:50:21.828Z"
   },
   {
    "duration": 25,
    "start_time": "2022-05-01T17:50:21.839Z"
   },
   {
    "duration": 10,
    "start_time": "2022-05-01T17:50:21.866Z"
   },
   {
    "duration": 22,
    "start_time": "2022-05-01T17:50:21.878Z"
   },
   {
    "duration": 31,
    "start_time": "2022-05-01T17:50:21.902Z"
   },
   {
    "duration": 23,
    "start_time": "2022-05-01T17:50:21.935Z"
   },
   {
    "duration": 15,
    "start_time": "2022-05-01T17:50:21.960Z"
   },
   {
    "duration": 54,
    "start_time": "2022-05-01T17:50:21.976Z"
   },
   {
    "duration": 31,
    "start_time": "2022-05-01T17:50:22.032Z"
   },
   {
    "duration": 30,
    "start_time": "2022-05-01T17:50:22.066Z"
   },
   {
    "duration": 17,
    "start_time": "2022-05-01T17:50:22.098Z"
   },
   {
    "duration": 10,
    "start_time": "2022-05-01T17:50:22.117Z"
   },
   {
    "duration": 31,
    "start_time": "2022-05-01T17:50:22.128Z"
   },
   {
    "duration": 34,
    "start_time": "2022-05-01T17:50:22.161Z"
   },
   {
    "duration": 26,
    "start_time": "2022-05-01T17:50:22.197Z"
   },
   {
    "duration": 24,
    "start_time": "2022-05-01T17:50:22.225Z"
   },
   {
    "duration": 13,
    "start_time": "2022-05-01T17:50:22.251Z"
   },
   {
    "duration": 19,
    "start_time": "2022-05-01T17:50:22.266Z"
   },
   {
    "duration": 23,
    "start_time": "2022-05-01T17:50:22.287Z"
   },
   {
    "duration": 12,
    "start_time": "2022-05-01T17:50:22.311Z"
   },
   {
    "duration": 24,
    "start_time": "2022-05-01T17:50:22.325Z"
   },
   {
    "duration": 9,
    "start_time": "2022-05-01T17:50:22.351Z"
   },
   {
    "duration": 19,
    "start_time": "2022-05-01T17:50:22.361Z"
   },
   {
    "duration": 29,
    "start_time": "2022-05-01T17:50:22.382Z"
   },
   {
    "duration": 14,
    "start_time": "2022-05-01T17:50:22.413Z"
   },
   {
    "duration": 33,
    "start_time": "2022-05-01T17:50:22.428Z"
   },
   {
    "duration": 22,
    "start_time": "2022-05-01T17:50:22.463Z"
   },
   {
    "duration": 28,
    "start_time": "2022-05-01T17:50:22.487Z"
   },
   {
    "duration": 24,
    "start_time": "2022-05-01T17:50:22.517Z"
   },
   {
    "duration": 454,
    "start_time": "2022-05-02T07:58:53.713Z"
   },
   {
    "duration": 21,
    "start_time": "2022-05-02T07:58:54.168Z"
   },
   {
    "duration": 15,
    "start_time": "2022-05-02T07:58:54.190Z"
   },
   {
    "duration": 50,
    "start_time": "2022-05-02T07:58:54.208Z"
   },
   {
    "duration": 13,
    "start_time": "2022-05-02T07:58:54.260Z"
   },
   {
    "duration": 12,
    "start_time": "2022-05-02T07:58:54.275Z"
   },
   {
    "duration": 21,
    "start_time": "2022-05-02T07:58:54.288Z"
   },
   {
    "duration": 5,
    "start_time": "2022-05-02T07:58:54.310Z"
   },
   {
    "duration": 35,
    "start_time": "2022-05-02T07:58:54.316Z"
   },
   {
    "duration": 5,
    "start_time": "2022-05-02T07:58:54.352Z"
   },
   {
    "duration": 9,
    "start_time": "2022-05-02T07:58:54.359Z"
   },
   {
    "duration": 19,
    "start_time": "2022-05-02T07:58:54.369Z"
   },
   {
    "duration": 8,
    "start_time": "2022-05-02T07:58:54.389Z"
   },
   {
    "duration": 15,
    "start_time": "2022-05-02T07:58:54.400Z"
   },
   {
    "duration": 6,
    "start_time": "2022-05-02T07:58:54.416Z"
   },
   {
    "duration": 29,
    "start_time": "2022-05-02T07:58:54.423Z"
   },
   {
    "duration": 11,
    "start_time": "2022-05-02T07:58:54.454Z"
   },
   {
    "duration": 14,
    "start_time": "2022-05-02T07:58:54.467Z"
   },
   {
    "duration": 6,
    "start_time": "2022-05-02T07:58:54.483Z"
   },
   {
    "duration": 7,
    "start_time": "2022-05-02T07:58:54.490Z"
   },
   {
    "duration": 12,
    "start_time": "2022-05-02T07:58:54.499Z"
   },
   {
    "duration": 35,
    "start_time": "2022-05-02T07:58:54.512Z"
   },
   {
    "duration": 7,
    "start_time": "2022-05-02T07:58:54.549Z"
   },
   {
    "duration": 7,
    "start_time": "2022-05-02T07:58:54.558Z"
   },
   {
    "duration": 5,
    "start_time": "2022-05-02T07:58:54.567Z"
   },
   {
    "duration": 5,
    "start_time": "2022-05-02T07:58:54.573Z"
   },
   {
    "duration": 6,
    "start_time": "2022-05-02T07:58:54.580Z"
   },
   {
    "duration": 7,
    "start_time": "2022-05-02T07:58:54.587Z"
   },
   {
    "duration": 7,
    "start_time": "2022-05-02T07:58:54.595Z"
   },
   {
    "duration": 52,
    "start_time": "2022-05-02T07:58:54.603Z"
   },
   {
    "duration": 6,
    "start_time": "2022-05-02T07:58:54.657Z"
   },
   {
    "duration": 8,
    "start_time": "2022-05-02T07:58:54.664Z"
   },
   {
    "duration": 5,
    "start_time": "2022-05-02T07:58:54.673Z"
   },
   {
    "duration": 4,
    "start_time": "2022-05-02T07:58:54.679Z"
   },
   {
    "duration": 15,
    "start_time": "2022-05-02T07:58:54.685Z"
   },
   {
    "duration": 54,
    "start_time": "2022-05-02T07:58:54.701Z"
   },
   {
    "duration": 9,
    "start_time": "2022-05-02T07:58:54.757Z"
   },
   {
    "duration": 22,
    "start_time": "2022-05-02T07:58:54.767Z"
   },
   {
    "duration": 19,
    "start_time": "2022-05-02T07:58:54.790Z"
   },
   {
    "duration": 42,
    "start_time": "2022-05-02T07:58:54.810Z"
   },
   {
    "duration": 7,
    "start_time": "2022-05-02T07:58:54.855Z"
   },
   {
    "duration": 7,
    "start_time": "2022-05-02T07:58:54.864Z"
   },
   {
    "duration": 9,
    "start_time": "2022-05-02T07:58:54.873Z"
   },
   {
    "duration": 9,
    "start_time": "2022-05-02T07:58:54.883Z"
   },
   {
    "duration": 12,
    "start_time": "2022-05-02T07:58:54.893Z"
   },
   {
    "duration": 8,
    "start_time": "2022-05-02T07:58:54.906Z"
   },
   {
    "duration": 32,
    "start_time": "2022-05-02T07:58:54.916Z"
   },
   {
    "duration": 5,
    "start_time": "2022-05-02T07:58:54.950Z"
   },
   {
    "duration": 8,
    "start_time": "2022-05-02T07:58:54.957Z"
   },
   {
    "duration": 8,
    "start_time": "2022-05-02T07:58:54.966Z"
   },
   {
    "duration": 7,
    "start_time": "2022-05-02T07:58:54.976Z"
   },
   {
    "duration": 7,
    "start_time": "2022-05-02T07:58:54.984Z"
   },
   {
    "duration": 9,
    "start_time": "2022-05-02T07:58:54.993Z"
   },
   {
    "duration": 11,
    "start_time": "2022-05-02T07:58:55.003Z"
   },
   {
    "duration": 10,
    "start_time": "2022-05-02T07:58:55.048Z"
   },
   {
    "duration": 25,
    "start_time": "2022-05-02T07:58:55.059Z"
   },
   {
    "duration": 21,
    "start_time": "2022-05-02T07:58:55.086Z"
   },
   {
    "duration": 55,
    "start_time": "2022-05-02T07:58:55.109Z"
   },
   {
    "duration": 35,
    "start_time": "2022-05-02T07:58:55.166Z"
   },
   {
    "duration": 444,
    "start_time": "2022-05-02T08:00:24.987Z"
   },
   {
    "duration": 26,
    "start_time": "2022-05-02T08:00:25.433Z"
   },
   {
    "duration": 16,
    "start_time": "2022-05-02T08:00:25.460Z"
   },
   {
    "duration": 24,
    "start_time": "2022-05-02T08:00:25.478Z"
   },
   {
    "duration": 12,
    "start_time": "2022-05-02T08:00:25.504Z"
   },
   {
    "duration": 42,
    "start_time": "2022-05-02T08:00:25.517Z"
   },
   {
    "duration": 21,
    "start_time": "2022-05-02T08:00:25.561Z"
   },
   {
    "duration": 4,
    "start_time": "2022-05-02T08:00:25.583Z"
   },
   {
    "duration": 27,
    "start_time": "2022-05-02T08:00:25.589Z"
   },
   {
    "duration": 6,
    "start_time": "2022-05-02T08:00:25.618Z"
   },
   {
    "duration": 22,
    "start_time": "2022-05-02T08:00:25.626Z"
   },
   {
    "duration": 9,
    "start_time": "2022-05-02T08:00:25.650Z"
   },
   {
    "duration": 15,
    "start_time": "2022-05-02T08:00:25.660Z"
   },
   {
    "duration": 14,
    "start_time": "2022-05-02T08:00:25.677Z"
   },
   {
    "duration": 7,
    "start_time": "2022-05-02T08:00:25.693Z"
   },
   {
    "duration": 6,
    "start_time": "2022-05-02T08:00:25.701Z"
   },
   {
    "duration": 8,
    "start_time": "2022-05-02T08:00:25.708Z"
   },
   {
    "duration": 14,
    "start_time": "2022-05-02T08:00:25.748Z"
   },
   {
    "duration": 9,
    "start_time": "2022-05-02T08:00:25.764Z"
   },
   {
    "duration": 7,
    "start_time": "2022-05-02T08:00:25.774Z"
   },
   {
    "duration": 6,
    "start_time": "2022-05-02T08:00:25.782Z"
   },
   {
    "duration": 7,
    "start_time": "2022-05-02T08:00:25.789Z"
   },
   {
    "duration": 7,
    "start_time": "2022-05-02T08:00:25.797Z"
   },
   {
    "duration": 44,
    "start_time": "2022-05-02T08:00:25.805Z"
   },
   {
    "duration": 4,
    "start_time": "2022-05-02T08:00:25.851Z"
   },
   {
    "duration": 7,
    "start_time": "2022-05-02T08:00:25.857Z"
   },
   {
    "duration": 6,
    "start_time": "2022-05-02T08:00:25.865Z"
   },
   {
    "duration": 7,
    "start_time": "2022-05-02T08:00:25.875Z"
   },
   {
    "duration": 8,
    "start_time": "2022-05-02T08:00:25.883Z"
   },
   {
    "duration": 13,
    "start_time": "2022-05-02T08:00:25.893Z"
   },
   {
    "duration": 40,
    "start_time": "2022-05-02T08:00:25.908Z"
   },
   {
    "duration": 9,
    "start_time": "2022-05-02T08:00:25.949Z"
   },
   {
    "duration": 8,
    "start_time": "2022-05-02T08:00:25.960Z"
   },
   {
    "duration": 8,
    "start_time": "2022-05-02T08:00:25.970Z"
   },
   {
    "duration": 20,
    "start_time": "2022-05-02T08:00:25.980Z"
   },
   {
    "duration": 21,
    "start_time": "2022-05-02T08:00:26.002Z"
   },
   {
    "duration": 29,
    "start_time": "2022-05-02T08:00:26.025Z"
   },
   {
    "duration": 33,
    "start_time": "2022-05-02T08:00:26.056Z"
   },
   {
    "duration": 21,
    "start_time": "2022-05-02T08:00:26.091Z"
   },
   {
    "duration": 41,
    "start_time": "2022-05-02T08:00:26.114Z"
   },
   {
    "duration": 7,
    "start_time": "2022-05-02T08:00:26.157Z"
   },
   {
    "duration": 6,
    "start_time": "2022-05-02T08:00:26.166Z"
   },
   {
    "duration": 8,
    "start_time": "2022-05-02T08:00:26.174Z"
   },
   {
    "duration": 11,
    "start_time": "2022-05-02T08:00:26.184Z"
   },
   {
    "duration": 15,
    "start_time": "2022-05-02T08:00:26.197Z"
   },
   {
    "duration": 35,
    "start_time": "2022-05-02T08:00:26.214Z"
   },
   {
    "duration": 7,
    "start_time": "2022-05-02T08:00:26.251Z"
   },
   {
    "duration": 8,
    "start_time": "2022-05-02T08:00:26.259Z"
   },
   {
    "duration": 8,
    "start_time": "2022-05-02T08:00:26.269Z"
   },
   {
    "duration": 9,
    "start_time": "2022-05-02T08:00:26.279Z"
   },
   {
    "duration": 10,
    "start_time": "2022-05-02T08:00:26.290Z"
   },
   {
    "duration": 11,
    "start_time": "2022-05-02T08:00:26.301Z"
   },
   {
    "duration": 36,
    "start_time": "2022-05-02T08:00:26.314Z"
   },
   {
    "duration": 10,
    "start_time": "2022-05-02T08:00:26.352Z"
   },
   {
    "duration": 17,
    "start_time": "2022-05-02T08:00:26.363Z"
   },
   {
    "duration": 24,
    "start_time": "2022-05-02T08:00:26.381Z"
   },
   {
    "duration": 48,
    "start_time": "2022-05-02T08:00:26.407Z"
   },
   {
    "duration": 21,
    "start_time": "2022-05-02T08:00:26.457Z"
   },
   {
    "duration": 23,
    "start_time": "2022-05-02T08:00:26.479Z"
   },
   {
    "duration": 43,
    "start_time": "2022-07-26T23:27:05.958Z"
   },
   {
    "duration": 622,
    "start_time": "2022-07-26T23:27:11.638Z"
   },
   {
    "duration": 18,
    "start_time": "2022-07-26T23:27:12.262Z"
   },
   {
    "duration": 13,
    "start_time": "2022-07-26T23:27:12.282Z"
   },
   {
    "duration": 32,
    "start_time": "2022-07-26T23:27:12.296Z"
   }
  ],
  "kernelspec": {
   "display_name": "Python 3 (ipykernel)",
   "language": "python",
   "name": "python3"
  },
  "language_info": {
   "codemirror_mode": {
    "name": "ipython",
    "version": 3
   },
   "file_extension": ".py",
   "mimetype": "text/x-python",
   "name": "python",
   "nbconvert_exporter": "python",
   "pygments_lexer": "ipython3",
   "version": "3.9.7"
  },
  "toc": {
   "base_numbering": 1,
   "nav_menu": {},
   "number_sections": true,
   "sideBar": true,
   "skip_h1_title": true,
   "title_cell": "Table of Contents",
   "title_sidebar": "Contents",
   "toc_cell": false,
   "toc_position": {},
   "toc_section_display": true,
   "toc_window_display": false
  }
 },
 "nbformat": 4,
 "nbformat_minor": 5
}
