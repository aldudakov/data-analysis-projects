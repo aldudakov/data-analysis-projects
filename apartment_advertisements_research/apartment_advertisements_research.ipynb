{
 "cells": [
  {
   "cell_type": "markdown",
   "metadata": {
    "toc": true
   },
   "source": [
    "<h1>Содержание<span class=\"tocSkip\"></span></h1>\n",
    "<div class=\"toc\"><ul class=\"toc-item\"><li><ul class=\"toc-item\"><li><span><a href=\"#Комментарий-от-ревьюера-№1-(необходимо-исправить)\" data-toc-modified-id=\"Комментарий-от-ревьюера-№1-(необходимо-исправить)-0.1\"><span class=\"toc-item-num\">0.1&nbsp;&nbsp;</span>Комментарий от ревьюера №1 (необходимо исправить)</a></span></li><li><span><a href=\"#Комментарий-от-ревьюера-№1-(можно-лучше)\" data-toc-modified-id=\"Комментарий-от-ревьюера-№1-(можно-лучше)-0.2\"><span class=\"toc-item-num\">0.2&nbsp;&nbsp;</span>Комментарий от ревьюера №1 (можно лучше)</a></span></li><li><span><a href=\"#Комментарий-от-ревьюера-№1-(ОК)\" data-toc-modified-id=\"Комментарий-от-ревьюера-№1-(ОК)-0.3\"><span class=\"toc-item-num\">0.3&nbsp;&nbsp;</span>Комментарий от ревьюера №1 (ОК)</a></span></li><li><span><a href=\"#Комментарий-студента\" data-toc-modified-id=\"Комментарий-студента-0.4\"><span class=\"toc-item-num\">0.4&nbsp;&nbsp;</span>Комментарий студента</a></span></li><li><span><a href=\"#Комментарий-от-ревьюера-№1-(можно-лучше)\" data-toc-modified-id=\"Комментарий-от-ревьюера-№1-(можно-лучше)-0.5\"><span class=\"toc-item-num\">0.5&nbsp;&nbsp;</span>Комментарий от ревьюера №1 (можно лучше)</a></span></li></ul></li><li><span><a href=\"#Изучение-данных-из-файла\" data-toc-modified-id=\"Изучение-данных-из-файла-1\"><span class=\"toc-item-num\">1&nbsp;&nbsp;</span>Изучение данных из файла</a></span><ul class=\"toc-item\"><li><span><a href=\"#Вывод\" data-toc-modified-id=\"Вывод-1.1\"><span class=\"toc-item-num\">1.1&nbsp;&nbsp;</span>Вывод</a></span></li></ul></li><li><span><a href=\"#Предобработка-данных\" data-toc-modified-id=\"Предобработка-данных-2\"><span class=\"toc-item-num\">2&nbsp;&nbsp;</span>Предобработка данных</a></span><ul class=\"toc-item\"><li><span><a href=\"#Переименование-столбцов\" data-toc-modified-id=\"Переименование-столбцов-2.1\"><span class=\"toc-item-num\">2.1&nbsp;&nbsp;</span>Переименование столбцов</a></span></li><li><span><a href=\"#Обработка-пропусков\" data-toc-modified-id=\"Обработка-пропусков-2.2\"><span class=\"toc-item-num\">2.2&nbsp;&nbsp;</span>Обработка пропусков</a></span></li><li><span><a href=\"#Комментарий-от-ревьюера-№2-(ОК)\" data-toc-modified-id=\"Комментарий-от-ревьюера-№2-(ОК)-2.3\"><span class=\"toc-item-num\">2.3&nbsp;&nbsp;</span>Комментарий от ревьюера №2 (ОК)</a></span></li><li><span><a href=\"#Комментарий-от-ревьюера-№3-(можно-лучше)\" data-toc-modified-id=\"Комментарий-от-ревьюера-№3-(можно-лучше)-2.4\"><span class=\"toc-item-num\">2.4&nbsp;&nbsp;</span>Комментарий от ревьюера №3 (можно лучше)</a></span></li><li><span><a href=\"#Комментарий-от-ревьюера-№4-(можно-лучше)\" data-toc-modified-id=\"Комментарий-от-ревьюера-№4-(можно-лучше)-2.5\"><span class=\"toc-item-num\">2.5&nbsp;&nbsp;</span>Комментарий от ревьюера №4 (можно лучше)</a></span></li><li><span><a href=\"#Комментарий-от-ревьюера-№5-(можно-лучше)\" data-toc-modified-id=\"Комментарий-от-ревьюера-№5-(можно-лучше)-2.6\"><span class=\"toc-item-num\">2.6&nbsp;&nbsp;</span>Комментарий от ревьюера №5 (можно лучше)</a></span></li><li><span><a href=\"#Комментарий-от-ревьюера-№6-(можно-лучше)\" data-toc-modified-id=\"Комментарий-от-ревьюера-№6-(можно-лучше)-2.7\"><span class=\"toc-item-num\">2.7&nbsp;&nbsp;</span>Комментарий от ревьюера №6 (можно лучше)</a></span></li><li><span><a href=\"#Комментарий-от-ревьюера-№7-(ОК)\" data-toc-modified-id=\"Комментарий-от-ревьюера-№7-(ОК)-2.8\"><span class=\"toc-item-num\">2.8&nbsp;&nbsp;</span>Комментарий от ревьюера №7 (ОК)</a></span></li><li><span><a href=\"#Замена-типа-данных\" data-toc-modified-id=\"Замена-типа-данных-2.9\"><span class=\"toc-item-num\">2.9&nbsp;&nbsp;</span>Замена типа данных</a></span></li><li><span><a href=\"#Обработка-дубликатов\" data-toc-modified-id=\"Обработка-дубликатов-2.10\"><span class=\"toc-item-num\">2.10&nbsp;&nbsp;</span>Обработка дубликатов</a></span></li><li><span><a href=\"#Комментарий-от-ревьюера-№8-(можно-лучше)\" data-toc-modified-id=\"Комментарий-от-ревьюера-№8-(можно-лучше)-2.11\"><span class=\"toc-item-num\">2.11&nbsp;&nbsp;</span>Комментарий от ревьюера №8 (можно лучше)</a></span></li><li><span><a href=\"#Комментарий-от-ревьюера-№16-(2)-(можно-лучше)\" data-toc-modified-id=\"Комментарий-от-ревьюера-№16-(2)-(можно-лучше)-2.12\"><span class=\"toc-item-num\">2.12&nbsp;&nbsp;</span>Комментарий от ревьюера №16 (2) (можно лучше)</a></span></li><li><span><a href=\"#Вывод\" data-toc-modified-id=\"Вывод-2.13\"><span class=\"toc-item-num\">2.13&nbsp;&nbsp;</span>Вывод</a></span></li><li><span><a href=\"#Комментарий-от-ревьюера-№9-(ОК)\" data-toc-modified-id=\"Комментарий-от-ревьюера-№9-(ОК)-2.14\"><span class=\"toc-item-num\">2.14&nbsp;&nbsp;</span>Комментарий от ревьюера №9 (ОК)</a></span></li></ul></li><li><span><a href=\"#Добавление-новых-столбцов\" data-toc-modified-id=\"Добавление-новых-столбцов-3\"><span class=\"toc-item-num\">3&nbsp;&nbsp;</span>Добавление новых столбцов</a></span><ul class=\"toc-item\"><li><span><a href=\"#Комментарий-от-ревьюера-№10-(можно-лучше)\" data-toc-modified-id=\"Комментарий-от-ревьюера-№10-(можно-лучше)-3.1\"><span class=\"toc-item-num\">3.1&nbsp;&nbsp;</span>Комментарий от ревьюера №10 (можно лучше)</a></span></li><li><span><a href=\"#Вывод\" data-toc-modified-id=\"Вывод-3.2\"><span class=\"toc-item-num\">3.2&nbsp;&nbsp;</span>Вывод</a></span></li><li><span><a href=\"#Комментарий-от-ревьюера-№11-(ОК)\" data-toc-modified-id=\"Комментарий-от-ревьюера-№11-(ОК)-3.3\"><span class=\"toc-item-num\">3.3&nbsp;&nbsp;</span>Комментарий от ревьюера №11 (ОК)</a></span></li></ul></li><li><span><a href=\"#Исследовательский-анализ-данных\" data-toc-modified-id=\"Исследовательский-анализ-данных-4\"><span class=\"toc-item-num\">4&nbsp;&nbsp;</span>Исследовательский анализ данных</a></span><ul class=\"toc-item\"><li><span><a href=\"#Исследование-площади,-цены,-числа-комнат,-высоты-потолков\" data-toc-modified-id=\"Исследование-площади,-цены,-числа-комнат,-высоты-потолков-4.1\"><span class=\"toc-item-num\">4.1&nbsp;&nbsp;</span>Исследование площади, цены, числа комнат, высоты потолков</a></span><ul class=\"toc-item\"><li><span><a href=\"#Площадь\" data-toc-modified-id=\"Площадь-4.1.1\"><span class=\"toc-item-num\">4.1.1&nbsp;&nbsp;</span>Площадь</a></span></li></ul></li><li><span><a href=\"#Комментарий-от-ревьюера-№17-(2)-(можно-лучше)\" data-toc-modified-id=\"Комментарий-от-ревьюера-№17-(2)-(можно-лучше)-4.2\"><span class=\"toc-item-num\">4.2&nbsp;&nbsp;</span>Комментарий от ревьюера №17 (2) (можно лучше)</a></span><ul class=\"toc-item\"><li><span><a href=\"#Цена\" data-toc-modified-id=\"Цена-4.2.1\"><span class=\"toc-item-num\">4.2.1&nbsp;&nbsp;</span>Цена</a></span></li><li><span><a href=\"#Число-комнат\" data-toc-modified-id=\"Число-комнат-4.2.2\"><span class=\"toc-item-num\">4.2.2&nbsp;&nbsp;</span>Число комнат</a></span></li><li><span><a href=\"#Высота-потолков\" data-toc-modified-id=\"Высота-потолков-4.2.3\"><span class=\"toc-item-num\">4.2.3&nbsp;&nbsp;</span>Высота потолков</a></span></li></ul></li><li><span><a href=\"#Исследование-времени-продажи-квартиры\" data-toc-modified-id=\"Исследование-времени-продажи-квартиры-4.3\"><span class=\"toc-item-num\">4.3&nbsp;&nbsp;</span>Исследование времени продажи квартиры</a></span></li><li><span><a href=\"#Комментарий-от-ревьюера-№12-(необходимо-исправить)\" data-toc-modified-id=\"Комментарий-от-ревьюера-№12-(необходимо-исправить)-4.4\"><span class=\"toc-item-num\">4.4&nbsp;&nbsp;</span>Комментарий от ревьюера №12 (необходимо исправить)</a></span></li><li><span><a href=\"#Комментарий-от-ревьюера-№18-(2)-(можно-лучше)\" data-toc-modified-id=\"Комментарий-от-ревьюера-№18-(2)-(можно-лучше)-4.5\"><span class=\"toc-item-num\">4.5&nbsp;&nbsp;</span>Комментарий от ревьюера №18 (2) (можно лучше)</a></span></li><li><span><a href=\"#Исследование-зависимости-цены-от-различных-факторов\" data-toc-modified-id=\"Исследование-зависимости-цены-от-различных-факторов-4.6\"><span class=\"toc-item-num\">4.6&nbsp;&nbsp;</span>Исследование зависимости цены от различных факторов</a></span></li><li><span><a href=\"#Комментарий-от-ревьюера-№19-(2)-(можно-лучше)\" data-toc-modified-id=\"Комментарий-от-ревьюера-№19-(2)-(можно-лучше)-4.7\"><span class=\"toc-item-num\">4.7&nbsp;&nbsp;</span>Комментарий от ревьюера №19 (2) (можно лучше)</a></span></li><li><span><a href=\"#Исследование-зависимости-цены-от-населенного-пункта\" data-toc-modified-id=\"Исследование-зависимости-цены-от-населенного-пункта-4.8\"><span class=\"toc-item-num\">4.8&nbsp;&nbsp;</span>Исследование зависимости цены от населенного пункта</a></span></li><li><span><a href=\"#Комментарий-от-ревьюера-№13-(можно-лучше)\" data-toc-modified-id=\"Комментарий-от-ревьюера-№13-(можно-лучше)-4.9\"><span class=\"toc-item-num\">4.9&nbsp;&nbsp;</span>Комментарий от ревьюера №13 (можно лучше)</a></span></li><li><span><a href=\"#Комментарий-от-ревьюера-№20-(2)-(можно-лучше)\" data-toc-modified-id=\"Комментарий-от-ревьюера-№20-(2)-(можно-лучше)-4.10\"><span class=\"toc-item-num\">4.10&nbsp;&nbsp;</span>Комментарий от ревьюера №20 (2) (можно лучше)</a></span></li><li><span><a href=\"#Комментарий-от-ревьюера-№14-(ОК)\" data-toc-modified-id=\"Комментарий-от-ревьюера-№14-(ОК)-4.11\"><span class=\"toc-item-num\">4.11&nbsp;&nbsp;</span>Комментарий от ревьюера №14 (ОК)</a></span></li><li><span><a href=\"#Определение-центра\" data-toc-modified-id=\"Определение-центра-4.12\"><span class=\"toc-item-num\">4.12&nbsp;&nbsp;</span>Определение центра</a></span></li><li><span><a href=\"#Исследование-квартир-в-центре\" data-toc-modified-id=\"Исследование-квартир-в-центре-4.13\"><span class=\"toc-item-num\">4.13&nbsp;&nbsp;</span>Исследование квартир в центре</a></span></li><li><span><a href=\"#Комментарий-от-ревьюера-№15-(необходимо-исправить)\" data-toc-modified-id=\"Комментарий-от-ревьюера-№15-(необходимо-исправить)-4.14\"><span class=\"toc-item-num\">4.14&nbsp;&nbsp;</span>Комментарий от ревьюера №15 (необходимо исправить)</a></span><ul class=\"toc-item\"><li><span><a href=\"#Исследование-площади,-цены,-числа-комнат-и-высоты-потолков\" data-toc-modified-id=\"Исследование-площади,-цены,-числа-комнат-и-высоты-потолков-4.14.1\"><span class=\"toc-item-num\">4.14.1&nbsp;&nbsp;</span>Исследование площади, цены, числа комнат и высоты потолков</a></span><ul class=\"toc-item\"><li><span><a href=\"#Площадь\" data-toc-modified-id=\"Площадь-4.14.1.1\"><span class=\"toc-item-num\">4.14.1.1&nbsp;&nbsp;</span>Площадь</a></span></li><li><span><a href=\"#Цена\" data-toc-modified-id=\"Цена-4.14.1.2\"><span class=\"toc-item-num\">4.14.1.2&nbsp;&nbsp;</span>Цена</a></span></li><li><span><a href=\"#Число-комнат\" data-toc-modified-id=\"Число-комнат-4.14.1.3\"><span class=\"toc-item-num\">4.14.1.3&nbsp;&nbsp;</span>Число комнат</a></span></li><li><span><a href=\"#Высота-потолков\" data-toc-modified-id=\"Высота-потолков-4.14.1.4\"><span class=\"toc-item-num\">4.14.1.4&nbsp;&nbsp;</span>Высота потолков</a></span></li></ul></li><li><span><a href=\"#Исследование-влияния-различных-факторов-на-цену\" data-toc-modified-id=\"Исследование-влияния-различных-факторов-на-цену-4.14.2\"><span class=\"toc-item-num\">4.14.2&nbsp;&nbsp;</span>Исследование влияния различных факторов на цену</a></span></li></ul></li><li><span><a href=\"#Комментарий-от-ревьюера-№21-(2)-(можно-лучше)\" data-toc-modified-id=\"Комментарий-от-ревьюера-№21-(2)-(можно-лучше)-4.15\"><span class=\"toc-item-num\">4.15&nbsp;&nbsp;</span>Комментарий от ревьюера №21 (2) (можно лучше)</a></span></li><li><span><a href=\"#Комментарий-от-ревьюера-№22-(2)-(ОК)\" data-toc-modified-id=\"Комментарий-от-ревьюера-№22-(2)-(ОК)-4.16\"><span class=\"toc-item-num\">4.16&nbsp;&nbsp;</span>Комментарий от ревьюера №22 (2) (ОК)</a></span></li><li><span><a href=\"#Вывод\" data-toc-modified-id=\"Вывод-4.17\"><span class=\"toc-item-num\">4.17&nbsp;&nbsp;</span>Вывод</a></span></li></ul></li><li><span><a href=\"#Общий-вывод\" data-toc-modified-id=\"Общий-вывод-5\"><span class=\"toc-item-num\">5&nbsp;&nbsp;</span>Общий вывод</a></span><ul class=\"toc-item\"><li><span><a href=\"#Комментарий-от-ревьюера-№23-(2)-(можно-лучше)\" data-toc-modified-id=\"Комментарий-от-ревьюера-№23-(2)-(можно-лучше)-5.1\"><span class=\"toc-item-num\">5.1&nbsp;&nbsp;</span>Комментарий от ревьюера №23 (2) (можно лучше)</a></span></li></ul></li></ul></div>"
   ]
  },
  {
   "cell_type": "markdown",
   "metadata": {},
   "source": [
    "# Исследование объявлений о продаже квартир"
   ]
  },
  {
   "cell_type": "markdown",
   "metadata": {},
   "source": [
    "**Цель исследования** – на основании имеющихся данных определить, как и какие параметры влияют на рыночную стоимость квартиры.\n",
    "\n",
    "**Входные данные** представляют собой архив объявлений о продаже квартир в Санкт-Петербурге и соседних населённых пунктах за несколько лет."
   ]
  },
  {
   "cell_type": "markdown",
   "metadata": {},
   "source": [
    "## Изучение данных из файла"
   ]
  },
  {
   "cell_type": "markdown",
   "metadata": {},
   "source": [
    "Откроем файл."
   ]
  },
  {
   "cell_type": "code",
   "execution_count": 1,
   "metadata": {},
   "outputs": [],
   "source": [
    "# import pandas and matplotlib.pyplot libraries\n",
    "import pandas as pd\n",
    "import matplotlib.pyplot as plt"
   ]
  },
  {
   "cell_type": "code",
   "execution_count": 2,
   "metadata": {},
   "outputs": [],
   "source": [
    "# open file\n",
    "data = pd.read_csv('/Users/aleksandrdudakov/Downloads/real_estate_data.csv', sep='\\t')"
   ]
  },
  {
   "cell_type": "code",
   "execution_count": 3,
   "metadata": {},
   "outputs": [
    {
     "data": {
      "text/html": [
       "<div>\n",
       "<style scoped>\n",
       "    .dataframe tbody tr th:only-of-type {\n",
       "        vertical-align: middle;\n",
       "    }\n",
       "\n",
       "    .dataframe tbody tr th {\n",
       "        vertical-align: top;\n",
       "    }\n",
       "\n",
       "    .dataframe thead th {\n",
       "        text-align: right;\n",
       "    }\n",
       "</style>\n",
       "<table border=\"1\" class=\"dataframe\">\n",
       "  <thead>\n",
       "    <tr style=\"text-align: right;\">\n",
       "      <th></th>\n",
       "      <th>total_images</th>\n",
       "      <th>last_price</th>\n",
       "      <th>total_area</th>\n",
       "      <th>first_day_exposition</th>\n",
       "      <th>rooms</th>\n",
       "      <th>ceiling_height</th>\n",
       "      <th>floors_total</th>\n",
       "      <th>living_area</th>\n",
       "      <th>floor</th>\n",
       "      <th>is_apartment</th>\n",
       "      <th>...</th>\n",
       "      <th>kitchen_area</th>\n",
       "      <th>balcony</th>\n",
       "      <th>locality_name</th>\n",
       "      <th>airports_nearest</th>\n",
       "      <th>cityCenters_nearest</th>\n",
       "      <th>parks_around3000</th>\n",
       "      <th>parks_nearest</th>\n",
       "      <th>ponds_around3000</th>\n",
       "      <th>ponds_nearest</th>\n",
       "      <th>days_exposition</th>\n",
       "    </tr>\n",
       "  </thead>\n",
       "  <tbody>\n",
       "    <tr>\n",
       "      <th>0</th>\n",
       "      <td>20</td>\n",
       "      <td>13000000.0</td>\n",
       "      <td>108.0</td>\n",
       "      <td>2019-03-07T00:00:00</td>\n",
       "      <td>3</td>\n",
       "      <td>2.70</td>\n",
       "      <td>16.0</td>\n",
       "      <td>51.0</td>\n",
       "      <td>8</td>\n",
       "      <td>NaN</td>\n",
       "      <td>...</td>\n",
       "      <td>25.0</td>\n",
       "      <td>NaN</td>\n",
       "      <td>Санкт-Петербург</td>\n",
       "      <td>18863.0</td>\n",
       "      <td>16028.0</td>\n",
       "      <td>1.0</td>\n",
       "      <td>482.0</td>\n",
       "      <td>2.0</td>\n",
       "      <td>755.0</td>\n",
       "      <td>NaN</td>\n",
       "    </tr>\n",
       "    <tr>\n",
       "      <th>1</th>\n",
       "      <td>7</td>\n",
       "      <td>3350000.0</td>\n",
       "      <td>40.4</td>\n",
       "      <td>2018-12-04T00:00:00</td>\n",
       "      <td>1</td>\n",
       "      <td>NaN</td>\n",
       "      <td>11.0</td>\n",
       "      <td>18.6</td>\n",
       "      <td>1</td>\n",
       "      <td>NaN</td>\n",
       "      <td>...</td>\n",
       "      <td>11.0</td>\n",
       "      <td>2.0</td>\n",
       "      <td>посёлок Шушары</td>\n",
       "      <td>12817.0</td>\n",
       "      <td>18603.0</td>\n",
       "      <td>0.0</td>\n",
       "      <td>NaN</td>\n",
       "      <td>0.0</td>\n",
       "      <td>NaN</td>\n",
       "      <td>81.0</td>\n",
       "    </tr>\n",
       "    <tr>\n",
       "      <th>2</th>\n",
       "      <td>10</td>\n",
       "      <td>5196000.0</td>\n",
       "      <td>56.0</td>\n",
       "      <td>2015-08-20T00:00:00</td>\n",
       "      <td>2</td>\n",
       "      <td>NaN</td>\n",
       "      <td>5.0</td>\n",
       "      <td>34.3</td>\n",
       "      <td>4</td>\n",
       "      <td>NaN</td>\n",
       "      <td>...</td>\n",
       "      <td>8.3</td>\n",
       "      <td>0.0</td>\n",
       "      <td>Санкт-Петербург</td>\n",
       "      <td>21741.0</td>\n",
       "      <td>13933.0</td>\n",
       "      <td>1.0</td>\n",
       "      <td>90.0</td>\n",
       "      <td>2.0</td>\n",
       "      <td>574.0</td>\n",
       "      <td>558.0</td>\n",
       "    </tr>\n",
       "    <tr>\n",
       "      <th>3</th>\n",
       "      <td>0</td>\n",
       "      <td>64900000.0</td>\n",
       "      <td>159.0</td>\n",
       "      <td>2015-07-24T00:00:00</td>\n",
       "      <td>3</td>\n",
       "      <td>NaN</td>\n",
       "      <td>14.0</td>\n",
       "      <td>NaN</td>\n",
       "      <td>9</td>\n",
       "      <td>NaN</td>\n",
       "      <td>...</td>\n",
       "      <td>NaN</td>\n",
       "      <td>0.0</td>\n",
       "      <td>Санкт-Петербург</td>\n",
       "      <td>28098.0</td>\n",
       "      <td>6800.0</td>\n",
       "      <td>2.0</td>\n",
       "      <td>84.0</td>\n",
       "      <td>3.0</td>\n",
       "      <td>234.0</td>\n",
       "      <td>424.0</td>\n",
       "    </tr>\n",
       "    <tr>\n",
       "      <th>4</th>\n",
       "      <td>2</td>\n",
       "      <td>10000000.0</td>\n",
       "      <td>100.0</td>\n",
       "      <td>2018-06-19T00:00:00</td>\n",
       "      <td>2</td>\n",
       "      <td>3.03</td>\n",
       "      <td>14.0</td>\n",
       "      <td>32.0</td>\n",
       "      <td>13</td>\n",
       "      <td>NaN</td>\n",
       "      <td>...</td>\n",
       "      <td>41.0</td>\n",
       "      <td>NaN</td>\n",
       "      <td>Санкт-Петербург</td>\n",
       "      <td>31856.0</td>\n",
       "      <td>8098.0</td>\n",
       "      <td>2.0</td>\n",
       "      <td>112.0</td>\n",
       "      <td>1.0</td>\n",
       "      <td>48.0</td>\n",
       "      <td>121.0</td>\n",
       "    </tr>\n",
       "  </tbody>\n",
       "</table>\n",
       "<p>5 rows × 22 columns</p>\n",
       "</div>"
      ],
      "text/plain": [
       "   total_images  last_price  total_area first_day_exposition  rooms  \\\n",
       "0            20  13000000.0       108.0  2019-03-07T00:00:00      3   \n",
       "1             7   3350000.0        40.4  2018-12-04T00:00:00      1   \n",
       "2            10   5196000.0        56.0  2015-08-20T00:00:00      2   \n",
       "3             0  64900000.0       159.0  2015-07-24T00:00:00      3   \n",
       "4             2  10000000.0       100.0  2018-06-19T00:00:00      2   \n",
       "\n",
       "   ceiling_height  floors_total  living_area  floor is_apartment  ...  \\\n",
       "0            2.70          16.0         51.0      8          NaN  ...   \n",
       "1             NaN          11.0         18.6      1          NaN  ...   \n",
       "2             NaN           5.0         34.3      4          NaN  ...   \n",
       "3             NaN          14.0          NaN      9          NaN  ...   \n",
       "4            3.03          14.0         32.0     13          NaN  ...   \n",
       "\n",
       "   kitchen_area  balcony    locality_name  airports_nearest  \\\n",
       "0          25.0      NaN  Санкт-Петербург           18863.0   \n",
       "1          11.0      2.0   посёлок Шушары           12817.0   \n",
       "2           8.3      0.0  Санкт-Петербург           21741.0   \n",
       "3           NaN      0.0  Санкт-Петербург           28098.0   \n",
       "4          41.0      NaN  Санкт-Петербург           31856.0   \n",
       "\n",
       "  cityCenters_nearest  parks_around3000  parks_nearest  ponds_around3000  \\\n",
       "0             16028.0               1.0          482.0               2.0   \n",
       "1             18603.0               0.0            NaN               0.0   \n",
       "2             13933.0               1.0           90.0               2.0   \n",
       "3              6800.0               2.0           84.0               3.0   \n",
       "4              8098.0               2.0          112.0               1.0   \n",
       "\n",
       "   ponds_nearest  days_exposition  \n",
       "0          755.0              NaN  \n",
       "1            NaN             81.0  \n",
       "2          574.0            558.0  \n",
       "3          234.0            424.0  \n",
       "4           48.0            121.0  \n",
       "\n",
       "[5 rows x 22 columns]"
      ]
     },
     "execution_count": 3,
     "metadata": {},
     "output_type": "execute_result"
    }
   ],
   "source": [
    "data.head()"
   ]
  },
  {
   "cell_type": "code",
   "execution_count": 4,
   "metadata": {},
   "outputs": [
    {
     "name": "stdout",
     "output_type": "stream",
     "text": [
      "10    1798\n",
      "9     1725\n",
      "20    1694\n",
      "8     1585\n",
      "7     1521\n",
      "6     1482\n",
      "11    1362\n",
      "5     1301\n",
      "12    1225\n",
      "0     1059\n",
      "13    1015\n",
      "4      986\n",
      "14     986\n",
      "15     948\n",
      "1      872\n",
      "3      769\n",
      "16     761\n",
      "17     650\n",
      "18     642\n",
      "2      640\n",
      "19     603\n",
      "23      16\n",
      "21      12\n",
      "24       8\n",
      "22       8\n",
      "26       5\n",
      "32       4\n",
      "28       4\n",
      "50       3\n",
      "29       3\n",
      "27       2\n",
      "30       2\n",
      "35       2\n",
      "31       2\n",
      "42       1\n",
      "25       1\n",
      "39       1\n",
      "37       1\n",
      "Name: total_images, dtype: int64\n",
      "4500000.0     342\n",
      "3500000.0     291\n",
      "4300000.0     260\n",
      "4000000.0     260\n",
      "4200000.0     259\n",
      "             ... \n",
      "12890000.0      1\n",
      "29375000.0      1\n",
      "7545600.0       1\n",
      "5205000.0       1\n",
      "11475000.0      1\n",
      "Name: last_price, Length: 2978, dtype: int64\n",
      "45.00     419\n",
      "42.00     383\n",
      "60.00     347\n",
      "31.00     346\n",
      "44.00     345\n",
      "         ... \n",
      "184.40      1\n",
      "55.64       1\n",
      "56.16       1\n",
      "109.10      1\n",
      "76.75       1\n",
      "Name: total_area, Length: 2182, dtype: int64\n",
      "2018-02-01T00:00:00    368\n",
      "2017-11-10T00:00:00    240\n",
      "2017-10-13T00:00:00    124\n",
      "2017-09-27T00:00:00    111\n",
      "2018-03-26T00:00:00     97\n",
      "                      ... \n",
      "2018-05-20T00:00:00      1\n",
      "2015-05-15T00:00:00      1\n",
      "2015-01-12T00:00:00      1\n",
      "2015-12-19T00:00:00      1\n",
      "2015-07-19T00:00:00      1\n",
      "Name: first_day_exposition, Length: 1491, dtype: int64\n",
      "1     8047\n",
      "2     7940\n",
      "3     5814\n",
      "4     1180\n",
      "5      326\n",
      "0      197\n",
      "6      105\n",
      "7       59\n",
      "8       12\n",
      "9        8\n",
      "10       3\n",
      "11       2\n",
      "14       2\n",
      "15       1\n",
      "19       1\n",
      "16       1\n",
      "12       1\n",
      "Name: rooms, dtype: int64\n",
      "2.50    3515\n",
      "2.60    1646\n",
      "2.70    1574\n",
      "3.00    1112\n",
      "2.80     993\n",
      "        ... \n",
      "5.00       1\n",
      "2.20       1\n",
      "2.34       1\n",
      "3.93       1\n",
      "3.59       1\n",
      "Name: ceiling_height, Length: 183, dtype: int64\n",
      "5.0     5788\n",
      "9.0     3761\n",
      "16.0    1376\n",
      "12.0    1362\n",
      "4.0     1200\n",
      "10.0    1174\n",
      "25.0    1075\n",
      "6.0      914\n",
      "17.0     833\n",
      "3.0      668\n",
      "7.0      592\n",
      "14.0     553\n",
      "18.0     505\n",
      "24.0     469\n",
      "8.0      390\n",
      "2.0      383\n",
      "15.0     365\n",
      "23.0     352\n",
      "19.0     339\n",
      "22.0     286\n",
      "20.0     271\n",
      "13.0     229\n",
      "11.0     203\n",
      "27.0     164\n",
      "21.0     158\n",
      "26.0     124\n",
      "1.0       25\n",
      "35.0      24\n",
      "28.0      21\n",
      "36.0       3\n",
      "34.0       1\n",
      "60.0       1\n",
      "29.0       1\n",
      "33.0       1\n",
      "52.0       1\n",
      "37.0       1\n",
      "Name: floors_total, dtype: int64\n",
      "18.00     882\n",
      "17.00     675\n",
      "30.00     598\n",
      "16.00     486\n",
      "20.00     481\n",
      "         ... \n",
      "76.70       1\n",
      "39.41       1\n",
      "124.90      1\n",
      "36.07       1\n",
      "42.55       1\n",
      "Name: living_area, Length: 1782, dtype: int64\n",
      "2     3368\n",
      "3     3073\n",
      "1     2917\n",
      "4     2804\n",
      "5     2621\n",
      "6     1305\n",
      "7     1218\n",
      "8     1083\n",
      "9     1051\n",
      "10     687\n",
      "12     526\n",
      "11     523\n",
      "13     379\n",
      "15     343\n",
      "14     337\n",
      "16     315\n",
      "17     227\n",
      "18     178\n",
      "19     147\n",
      "21     125\n",
      "22     113\n",
      "20     110\n",
      "23     100\n",
      "24      63\n",
      "25      46\n",
      "26      24\n",
      "27      10\n",
      "28       1\n",
      "30       1\n",
      "29       1\n",
      "32       1\n",
      "33       1\n",
      "31       1\n",
      "Name: floor, dtype: int64\n",
      "False    2725\n",
      "True       50\n",
      "Name: is_apartment, dtype: int64\n",
      "False    23550\n",
      "True       149\n",
      "Name: studio, dtype: int64\n",
      "False    23632\n",
      "True        67\n",
      "Name: open_plan, dtype: int64\n",
      "6.00     1300\n",
      "10.00    1262\n",
      "8.00     1110\n",
      "9.00     1101\n",
      "7.00     1062\n",
      "         ... \n",
      "53.10       1\n",
      "12.56       1\n",
      "11.84       1\n",
      "13.27       1\n",
      "13.83       1\n",
      "Name: kitchen_area, Length: 971, dtype: int64\n",
      "1.0    4195\n",
      "0.0    3758\n",
      "2.0    3659\n",
      "5.0     304\n",
      "4.0     183\n",
      "3.0      81\n",
      "Name: balcony, dtype: int64\n",
      "Санкт-Петербург                    15721\n",
      "посёлок Мурино                       522\n",
      "посёлок Шушары                       440\n",
      "Всеволожск                           398\n",
      "Пушкин                               369\n",
      "                                   ...  \n",
      "поселок Каложицы                       1\n",
      "посёлок Платформа 69-й километр        1\n",
      "поселок Почап                          1\n",
      "поселок Гончарово                      1\n",
      "посёлок Дзержинского                   1\n",
      "Name: locality_name, Length: 364, dtype: int64\n",
      "37434.0    61\n",
      "21928.0    32\n",
      "44870.0    30\n",
      "39946.0    30\n",
      "18732.0    27\n",
      "           ..\n",
      "32366.0     1\n",
      "13024.0     1\n",
      "52394.0     1\n",
      "20007.0     1\n",
      "24665.0     1\n",
      "Name: airports_nearest, Length: 8275, dtype: int64\n",
      "8460.0     61\n",
      "20802.0    32\n",
      "10720.0    30\n",
      "20444.0    27\n",
      "8434.0     27\n",
      "           ..\n",
      "16631.0     1\n",
      "24311.0     1\n",
      "15782.0     1\n",
      "11940.0     1\n",
      "6263.0      1\n",
      "Name: cityCenters_nearest, Length: 7642, dtype: int64\n",
      "0.0    10106\n",
      "1.0     5681\n",
      "2.0     1747\n",
      "3.0      647\n",
      "Name: parks_around3000, dtype: int64\n",
      "441.0     67\n",
      "173.0     41\n",
      "392.0     41\n",
      "456.0     40\n",
      "471.0     32\n",
      "          ..\n",
      "3.0        1\n",
      "2847.0     1\n",
      "1443.0     1\n",
      "7.0        1\n",
      "2984.0     1\n",
      "Name: parks_nearest, Length: 995, dtype: int64\n",
      "0.0    9071\n",
      "1.0    5717\n",
      "2.0    1892\n",
      "3.0    1501\n",
      "Name: ponds_around3000, dtype: int64\n",
      "427.0     70\n",
      "454.0     41\n",
      "153.0     40\n",
      "433.0     39\n",
      "474.0     37\n",
      "          ..\n",
      "150.0      1\n",
      "967.0      1\n",
      "131.0      1\n",
      "1164.0     1\n",
      "1134.0     1\n",
      "Name: ponds_nearest, Length: 1096, dtype: int64\n",
      "45.0      880\n",
      "60.0      538\n",
      "7.0       234\n",
      "30.0      208\n",
      "90.0      204\n",
      "         ... \n",
      "1021.0      1\n",
      "1362.0      1\n",
      "1105.0      1\n",
      "795.0       1\n",
      "971.0       1\n",
      "Name: days_exposition, Length: 1141, dtype: int64\n"
     ]
    }
   ],
   "source": [
    "for value in data:\n",
    "    print(data[value].value_counts())"
   ]
  },
  {
   "cell_type": "code",
   "execution_count": 5,
   "metadata": {},
   "outputs": [
    {
     "name": "stdout",
     "output_type": "stream",
     "text": [
      "<class 'pandas.core.frame.DataFrame'>\n",
      "RangeIndex: 23699 entries, 0 to 23698\n",
      "Data columns (total 22 columns):\n",
      " #   Column                Non-Null Count  Dtype  \n",
      "---  ------                --------------  -----  \n",
      " 0   total_images          23699 non-null  int64  \n",
      " 1   last_price            23699 non-null  float64\n",
      " 2   total_area            23699 non-null  float64\n",
      " 3   first_day_exposition  23699 non-null  object \n",
      " 4   rooms                 23699 non-null  int64  \n",
      " 5   ceiling_height        14504 non-null  float64\n",
      " 6   floors_total          23613 non-null  float64\n",
      " 7   living_area           21796 non-null  float64\n",
      " 8   floor                 23699 non-null  int64  \n",
      " 9   is_apartment          2775 non-null   object \n",
      " 10  studio                23699 non-null  bool   \n",
      " 11  open_plan             23699 non-null  bool   \n",
      " 12  kitchen_area          21421 non-null  float64\n",
      " 13  balcony               12180 non-null  float64\n",
      " 14  locality_name         23650 non-null  object \n",
      " 15  airports_nearest      18157 non-null  float64\n",
      " 16  cityCenters_nearest   18180 non-null  float64\n",
      " 17  parks_around3000      18181 non-null  float64\n",
      " 18  parks_nearest         8079 non-null   float64\n",
      " 19  ponds_around3000      18181 non-null  float64\n",
      " 20  ponds_nearest         9110 non-null   float64\n",
      " 21  days_exposition       20518 non-null  float64\n",
      "dtypes: bool(2), float64(14), int64(3), object(3)\n",
      "memory usage: 3.7+ MB\n"
     ]
    }
   ],
   "source": [
    "data.info()"
   ]
  },
  {
   "cell_type": "code",
   "execution_count": 6,
   "metadata": {},
   "outputs": [
    {
     "data": {
      "text/html": [
       "<div>\n",
       "<style scoped>\n",
       "    .dataframe tbody tr th:only-of-type {\n",
       "        vertical-align: middle;\n",
       "    }\n",
       "\n",
       "    .dataframe tbody tr th {\n",
       "        vertical-align: top;\n",
       "    }\n",
       "\n",
       "    .dataframe thead th {\n",
       "        text-align: right;\n",
       "    }\n",
       "</style>\n",
       "<table border=\"1\" class=\"dataframe\">\n",
       "  <thead>\n",
       "    <tr style=\"text-align: right;\">\n",
       "      <th></th>\n",
       "      <th>total_images</th>\n",
       "      <th>last_price</th>\n",
       "      <th>total_area</th>\n",
       "      <th>rooms</th>\n",
       "      <th>ceiling_height</th>\n",
       "      <th>floors_total</th>\n",
       "      <th>living_area</th>\n",
       "      <th>floor</th>\n",
       "      <th>kitchen_area</th>\n",
       "      <th>balcony</th>\n",
       "      <th>airports_nearest</th>\n",
       "      <th>cityCenters_nearest</th>\n",
       "      <th>parks_around3000</th>\n",
       "      <th>parks_nearest</th>\n",
       "      <th>ponds_around3000</th>\n",
       "      <th>ponds_nearest</th>\n",
       "      <th>days_exposition</th>\n",
       "    </tr>\n",
       "  </thead>\n",
       "  <tbody>\n",
       "    <tr>\n",
       "      <th>count</th>\n",
       "      <td>23699.000000</td>\n",
       "      <td>2.369900e+04</td>\n",
       "      <td>23699.000000</td>\n",
       "      <td>23699.000000</td>\n",
       "      <td>14504.000000</td>\n",
       "      <td>23613.000000</td>\n",
       "      <td>21796.000000</td>\n",
       "      <td>23699.000000</td>\n",
       "      <td>21421.000000</td>\n",
       "      <td>12180.000000</td>\n",
       "      <td>18157.000000</td>\n",
       "      <td>18180.000000</td>\n",
       "      <td>18181.000000</td>\n",
       "      <td>8079.000000</td>\n",
       "      <td>18181.000000</td>\n",
       "      <td>9110.000000</td>\n",
       "      <td>20518.000000</td>\n",
       "    </tr>\n",
       "    <tr>\n",
       "      <th>mean</th>\n",
       "      <td>9.858475</td>\n",
       "      <td>6.541549e+06</td>\n",
       "      <td>60.348651</td>\n",
       "      <td>2.070636</td>\n",
       "      <td>2.771499</td>\n",
       "      <td>10.673824</td>\n",
       "      <td>34.457852</td>\n",
       "      <td>5.892358</td>\n",
       "      <td>10.569807</td>\n",
       "      <td>1.150082</td>\n",
       "      <td>28793.672193</td>\n",
       "      <td>14191.277833</td>\n",
       "      <td>0.611408</td>\n",
       "      <td>490.804555</td>\n",
       "      <td>0.770255</td>\n",
       "      <td>517.980900</td>\n",
       "      <td>180.888634</td>\n",
       "    </tr>\n",
       "    <tr>\n",
       "      <th>std</th>\n",
       "      <td>5.682529</td>\n",
       "      <td>1.088701e+07</td>\n",
       "      <td>35.654083</td>\n",
       "      <td>1.078405</td>\n",
       "      <td>1.261056</td>\n",
       "      <td>6.597173</td>\n",
       "      <td>22.030445</td>\n",
       "      <td>4.885249</td>\n",
       "      <td>5.905438</td>\n",
       "      <td>1.071300</td>\n",
       "      <td>12630.880622</td>\n",
       "      <td>8608.386210</td>\n",
       "      <td>0.802074</td>\n",
       "      <td>342.317995</td>\n",
       "      <td>0.938346</td>\n",
       "      <td>277.720643</td>\n",
       "      <td>219.727988</td>\n",
       "    </tr>\n",
       "    <tr>\n",
       "      <th>min</th>\n",
       "      <td>0.000000</td>\n",
       "      <td>1.219000e+04</td>\n",
       "      <td>12.000000</td>\n",
       "      <td>0.000000</td>\n",
       "      <td>1.000000</td>\n",
       "      <td>1.000000</td>\n",
       "      <td>2.000000</td>\n",
       "      <td>1.000000</td>\n",
       "      <td>1.300000</td>\n",
       "      <td>0.000000</td>\n",
       "      <td>0.000000</td>\n",
       "      <td>181.000000</td>\n",
       "      <td>0.000000</td>\n",
       "      <td>1.000000</td>\n",
       "      <td>0.000000</td>\n",
       "      <td>13.000000</td>\n",
       "      <td>1.000000</td>\n",
       "    </tr>\n",
       "    <tr>\n",
       "      <th>25%</th>\n",
       "      <td>6.000000</td>\n",
       "      <td>3.400000e+06</td>\n",
       "      <td>40.000000</td>\n",
       "      <td>1.000000</td>\n",
       "      <td>2.520000</td>\n",
       "      <td>5.000000</td>\n",
       "      <td>18.600000</td>\n",
       "      <td>2.000000</td>\n",
       "      <td>7.000000</td>\n",
       "      <td>0.000000</td>\n",
       "      <td>18585.000000</td>\n",
       "      <td>9238.000000</td>\n",
       "      <td>0.000000</td>\n",
       "      <td>288.000000</td>\n",
       "      <td>0.000000</td>\n",
       "      <td>294.000000</td>\n",
       "      <td>45.000000</td>\n",
       "    </tr>\n",
       "    <tr>\n",
       "      <th>50%</th>\n",
       "      <td>9.000000</td>\n",
       "      <td>4.650000e+06</td>\n",
       "      <td>52.000000</td>\n",
       "      <td>2.000000</td>\n",
       "      <td>2.650000</td>\n",
       "      <td>9.000000</td>\n",
       "      <td>30.000000</td>\n",
       "      <td>4.000000</td>\n",
       "      <td>9.100000</td>\n",
       "      <td>1.000000</td>\n",
       "      <td>26726.000000</td>\n",
       "      <td>13098.500000</td>\n",
       "      <td>0.000000</td>\n",
       "      <td>455.000000</td>\n",
       "      <td>1.000000</td>\n",
       "      <td>502.000000</td>\n",
       "      <td>95.000000</td>\n",
       "    </tr>\n",
       "    <tr>\n",
       "      <th>75%</th>\n",
       "      <td>14.000000</td>\n",
       "      <td>6.800000e+06</td>\n",
       "      <td>69.900000</td>\n",
       "      <td>3.000000</td>\n",
       "      <td>2.800000</td>\n",
       "      <td>16.000000</td>\n",
       "      <td>42.300000</td>\n",
       "      <td>8.000000</td>\n",
       "      <td>12.000000</td>\n",
       "      <td>2.000000</td>\n",
       "      <td>37273.000000</td>\n",
       "      <td>16293.000000</td>\n",
       "      <td>1.000000</td>\n",
       "      <td>612.000000</td>\n",
       "      <td>1.000000</td>\n",
       "      <td>729.000000</td>\n",
       "      <td>232.000000</td>\n",
       "    </tr>\n",
       "    <tr>\n",
       "      <th>max</th>\n",
       "      <td>50.000000</td>\n",
       "      <td>7.630000e+08</td>\n",
       "      <td>900.000000</td>\n",
       "      <td>19.000000</td>\n",
       "      <td>100.000000</td>\n",
       "      <td>60.000000</td>\n",
       "      <td>409.700000</td>\n",
       "      <td>33.000000</td>\n",
       "      <td>112.000000</td>\n",
       "      <td>5.000000</td>\n",
       "      <td>84869.000000</td>\n",
       "      <td>65968.000000</td>\n",
       "      <td>3.000000</td>\n",
       "      <td>3190.000000</td>\n",
       "      <td>3.000000</td>\n",
       "      <td>1344.000000</td>\n",
       "      <td>1580.000000</td>\n",
       "    </tr>\n",
       "  </tbody>\n",
       "</table>\n",
       "</div>"
      ],
      "text/plain": [
       "       total_images    last_price    total_area         rooms  ceiling_height  \\\n",
       "count  23699.000000  2.369900e+04  23699.000000  23699.000000    14504.000000   \n",
       "mean       9.858475  6.541549e+06     60.348651      2.070636        2.771499   \n",
       "std        5.682529  1.088701e+07     35.654083      1.078405        1.261056   \n",
       "min        0.000000  1.219000e+04     12.000000      0.000000        1.000000   \n",
       "25%        6.000000  3.400000e+06     40.000000      1.000000        2.520000   \n",
       "50%        9.000000  4.650000e+06     52.000000      2.000000        2.650000   \n",
       "75%       14.000000  6.800000e+06     69.900000      3.000000        2.800000   \n",
       "max       50.000000  7.630000e+08    900.000000     19.000000      100.000000   \n",
       "\n",
       "       floors_total   living_area         floor  kitchen_area       balcony  \\\n",
       "count  23613.000000  21796.000000  23699.000000  21421.000000  12180.000000   \n",
       "mean      10.673824     34.457852      5.892358     10.569807      1.150082   \n",
       "std        6.597173     22.030445      4.885249      5.905438      1.071300   \n",
       "min        1.000000      2.000000      1.000000      1.300000      0.000000   \n",
       "25%        5.000000     18.600000      2.000000      7.000000      0.000000   \n",
       "50%        9.000000     30.000000      4.000000      9.100000      1.000000   \n",
       "75%       16.000000     42.300000      8.000000     12.000000      2.000000   \n",
       "max       60.000000    409.700000     33.000000    112.000000      5.000000   \n",
       "\n",
       "       airports_nearest  cityCenters_nearest  parks_around3000  parks_nearest  \\\n",
       "count      18157.000000         18180.000000      18181.000000    8079.000000   \n",
       "mean       28793.672193         14191.277833          0.611408     490.804555   \n",
       "std        12630.880622          8608.386210          0.802074     342.317995   \n",
       "min            0.000000           181.000000          0.000000       1.000000   \n",
       "25%        18585.000000          9238.000000          0.000000     288.000000   \n",
       "50%        26726.000000         13098.500000          0.000000     455.000000   \n",
       "75%        37273.000000         16293.000000          1.000000     612.000000   \n",
       "max        84869.000000         65968.000000          3.000000    3190.000000   \n",
       "\n",
       "       ponds_around3000  ponds_nearest  days_exposition  \n",
       "count      18181.000000    9110.000000     20518.000000  \n",
       "mean           0.770255     517.980900       180.888634  \n",
       "std            0.938346     277.720643       219.727988  \n",
       "min            0.000000      13.000000         1.000000  \n",
       "25%            0.000000     294.000000        45.000000  \n",
       "50%            1.000000     502.000000        95.000000  \n",
       "75%            1.000000     729.000000       232.000000  \n",
       "max            3.000000    1344.000000      1580.000000  "
      ]
     },
     "execution_count": 6,
     "metadata": {},
     "output_type": "execute_result"
    }
   ],
   "source": [
    "data.describe()"
   ]
  },
  {
   "cell_type": "markdown",
   "metadata": {},
   "source": [
    "### Вывод"
   ]
  },
  {
   "cell_type": "markdown",
   "metadata": {},
   "source": [
    "Опишем замеченные проблемы в столбцах, если они есть:\n",
    "- `total_images` — число фотографий квартиры в объявлении\n",
    "- `last_price` — цена на момент снятия с публикации (минимум - около 12,000: надо посмотреть на объявления с очень низкими ценами)\n",
    "- `total_area` — площадь квартиры в квадратных метрах, м²\n",
    "- `first_day_exposition` — дата публикации (можно исправить формат)\n",
    "- `rooms` — число комнат (есть квартиры с нулем комнат: надо посмотреть на такие объявления)\n",
    "- `ceiling_height` — высота потолков, м (есть пропуски; минимум - 1 м, выглядит странно)\n",
    "- `floors_total` — всего этажей в доме (есть пропуски; можно поменять тип на 'int')\n",
    "- `living_area` — жилая площадь, м² (есть пропуски; минимум - 2 м², подозрительно)\n",
    "- `floor` — этаж\n",
    "- `is_apartment` — апартаменты, булев тип (есть пропуски; можно поменять тип на 'bool')\n",
    "- `studio` — квартира-студия, булев тип\n",
    "- `open_plan` — свободная планировка, булев тип\n",
    "- `kitchen_area` — площадь кухни в квадратных метрах, м² (есть пропуски)\n",
    "- `balcony` — число балконов (есть пропуски; можно поменять тип на 'int')\n",
    "- `locality_name` — название населённого пункта (есть пропуски)\n",
    "- `airports_nearest` — расстояние до ближайшего аэропорта, м (есть пропуски; минимум - 0)\n",
    "- `cityCenters_nearest` — расстояние до центра города, м (есть пропуски)\n",
    "- `parks_around3000` — число парков в радиусе 3 км (есть пропуски; можно поменять тип на 'int') \n",
    "- `parks_nearest` — расстояние до ближайшего парка, м (есть пропуски; третий квартиль равен 612 м, а в столбце с количеством парком в радиусе 3 км медиана равна 0, это странно)\n",
    "- `ponds_around3000` — число водоёмов в радиусе 3 км (есть пропуски; можно поменять тип на 'int')\n",
    "- `ponds_nearest` — расстояние до ближайшего водоёма, м (есть пропуски; такое же замечание как в столбцах с парками)\n",
    "- `days_exposition` — сколько дней было размещено объявление (есть пропуски; можно поменять тип на 'int')"
   ]
  },
  {
   "cell_type": "markdown",
   "metadata": {},
   "source": [
    "## Предобработка данных"
   ]
  },
  {
   "cell_type": "markdown",
   "metadata": {},
   "source": [
    "### Переименование столбцов"
   ]
  },
  {
   "cell_type": "markdown",
   "metadata": {},
   "source": [
    "Сначала исправим названия столбцов в датафрейме."
   ]
  },
  {
   "cell_type": "code",
   "execution_count": 7,
   "metadata": {},
   "outputs": [],
   "source": [
    "# rename columns\n",
    "data.columns = ['total_images', 'last_price', 'total_area', 'first_day_exposition', 'rooms', 'ceiling_height', 'floors_total', 'living_area', 'floor', 'is_apartment', 'is_studio', 'is_free_layout', 'kitchen_area', 'balconies_number', 'locality_name', 'airport_distance', 'city_center_distance', 'parks_around_3000_number', 'park_distance', 'ponds_around_3000_number', 'pond_distance', 'days_exposition']"
   ]
  },
  {
   "cell_type": "markdown",
   "metadata": {},
   "source": [
    "Проверим."
   ]
  },
  {
   "cell_type": "code",
   "execution_count": 8,
   "metadata": {},
   "outputs": [
    {
     "data": {
      "text/html": [
       "<div>\n",
       "<style scoped>\n",
       "    .dataframe tbody tr th:only-of-type {\n",
       "        vertical-align: middle;\n",
       "    }\n",
       "\n",
       "    .dataframe tbody tr th {\n",
       "        vertical-align: top;\n",
       "    }\n",
       "\n",
       "    .dataframe thead th {\n",
       "        text-align: right;\n",
       "    }\n",
       "</style>\n",
       "<table border=\"1\" class=\"dataframe\">\n",
       "  <thead>\n",
       "    <tr style=\"text-align: right;\">\n",
       "      <th></th>\n",
       "      <th>total_images</th>\n",
       "      <th>last_price</th>\n",
       "      <th>total_area</th>\n",
       "      <th>first_day_exposition</th>\n",
       "      <th>rooms</th>\n",
       "      <th>ceiling_height</th>\n",
       "      <th>floors_total</th>\n",
       "      <th>living_area</th>\n",
       "      <th>floor</th>\n",
       "      <th>is_apartment</th>\n",
       "      <th>...</th>\n",
       "      <th>kitchen_area</th>\n",
       "      <th>balconies_number</th>\n",
       "      <th>locality_name</th>\n",
       "      <th>airport_distance</th>\n",
       "      <th>city_center_distance</th>\n",
       "      <th>parks_around_3000_number</th>\n",
       "      <th>park_distance</th>\n",
       "      <th>ponds_around_3000_number</th>\n",
       "      <th>pond_distance</th>\n",
       "      <th>days_exposition</th>\n",
       "    </tr>\n",
       "  </thead>\n",
       "  <tbody>\n",
       "    <tr>\n",
       "      <th>0</th>\n",
       "      <td>20</td>\n",
       "      <td>13000000.0</td>\n",
       "      <td>108.0</td>\n",
       "      <td>2019-03-07T00:00:00</td>\n",
       "      <td>3</td>\n",
       "      <td>2.70</td>\n",
       "      <td>16.0</td>\n",
       "      <td>51.0</td>\n",
       "      <td>8</td>\n",
       "      <td>NaN</td>\n",
       "      <td>...</td>\n",
       "      <td>25.0</td>\n",
       "      <td>NaN</td>\n",
       "      <td>Санкт-Петербург</td>\n",
       "      <td>18863.0</td>\n",
       "      <td>16028.0</td>\n",
       "      <td>1.0</td>\n",
       "      <td>482.0</td>\n",
       "      <td>2.0</td>\n",
       "      <td>755.0</td>\n",
       "      <td>NaN</td>\n",
       "    </tr>\n",
       "    <tr>\n",
       "      <th>1</th>\n",
       "      <td>7</td>\n",
       "      <td>3350000.0</td>\n",
       "      <td>40.4</td>\n",
       "      <td>2018-12-04T00:00:00</td>\n",
       "      <td>1</td>\n",
       "      <td>NaN</td>\n",
       "      <td>11.0</td>\n",
       "      <td>18.6</td>\n",
       "      <td>1</td>\n",
       "      <td>NaN</td>\n",
       "      <td>...</td>\n",
       "      <td>11.0</td>\n",
       "      <td>2.0</td>\n",
       "      <td>посёлок Шушары</td>\n",
       "      <td>12817.0</td>\n",
       "      <td>18603.0</td>\n",
       "      <td>0.0</td>\n",
       "      <td>NaN</td>\n",
       "      <td>0.0</td>\n",
       "      <td>NaN</td>\n",
       "      <td>81.0</td>\n",
       "    </tr>\n",
       "    <tr>\n",
       "      <th>2</th>\n",
       "      <td>10</td>\n",
       "      <td>5196000.0</td>\n",
       "      <td>56.0</td>\n",
       "      <td>2015-08-20T00:00:00</td>\n",
       "      <td>2</td>\n",
       "      <td>NaN</td>\n",
       "      <td>5.0</td>\n",
       "      <td>34.3</td>\n",
       "      <td>4</td>\n",
       "      <td>NaN</td>\n",
       "      <td>...</td>\n",
       "      <td>8.3</td>\n",
       "      <td>0.0</td>\n",
       "      <td>Санкт-Петербург</td>\n",
       "      <td>21741.0</td>\n",
       "      <td>13933.0</td>\n",
       "      <td>1.0</td>\n",
       "      <td>90.0</td>\n",
       "      <td>2.0</td>\n",
       "      <td>574.0</td>\n",
       "      <td>558.0</td>\n",
       "    </tr>\n",
       "    <tr>\n",
       "      <th>3</th>\n",
       "      <td>0</td>\n",
       "      <td>64900000.0</td>\n",
       "      <td>159.0</td>\n",
       "      <td>2015-07-24T00:00:00</td>\n",
       "      <td>3</td>\n",
       "      <td>NaN</td>\n",
       "      <td>14.0</td>\n",
       "      <td>NaN</td>\n",
       "      <td>9</td>\n",
       "      <td>NaN</td>\n",
       "      <td>...</td>\n",
       "      <td>NaN</td>\n",
       "      <td>0.0</td>\n",
       "      <td>Санкт-Петербург</td>\n",
       "      <td>28098.0</td>\n",
       "      <td>6800.0</td>\n",
       "      <td>2.0</td>\n",
       "      <td>84.0</td>\n",
       "      <td>3.0</td>\n",
       "      <td>234.0</td>\n",
       "      <td>424.0</td>\n",
       "    </tr>\n",
       "    <tr>\n",
       "      <th>4</th>\n",
       "      <td>2</td>\n",
       "      <td>10000000.0</td>\n",
       "      <td>100.0</td>\n",
       "      <td>2018-06-19T00:00:00</td>\n",
       "      <td>2</td>\n",
       "      <td>3.03</td>\n",
       "      <td>14.0</td>\n",
       "      <td>32.0</td>\n",
       "      <td>13</td>\n",
       "      <td>NaN</td>\n",
       "      <td>...</td>\n",
       "      <td>41.0</td>\n",
       "      <td>NaN</td>\n",
       "      <td>Санкт-Петербург</td>\n",
       "      <td>31856.0</td>\n",
       "      <td>8098.0</td>\n",
       "      <td>2.0</td>\n",
       "      <td>112.0</td>\n",
       "      <td>1.0</td>\n",
       "      <td>48.0</td>\n",
       "      <td>121.0</td>\n",
       "    </tr>\n",
       "  </tbody>\n",
       "</table>\n",
       "<p>5 rows × 22 columns</p>\n",
       "</div>"
      ],
      "text/plain": [
       "   total_images  last_price  total_area first_day_exposition  rooms  \\\n",
       "0            20  13000000.0       108.0  2019-03-07T00:00:00      3   \n",
       "1             7   3350000.0        40.4  2018-12-04T00:00:00      1   \n",
       "2            10   5196000.0        56.0  2015-08-20T00:00:00      2   \n",
       "3             0  64900000.0       159.0  2015-07-24T00:00:00      3   \n",
       "4             2  10000000.0       100.0  2018-06-19T00:00:00      2   \n",
       "\n",
       "   ceiling_height  floors_total  living_area  floor is_apartment  ...  \\\n",
       "0            2.70          16.0         51.0      8          NaN  ...   \n",
       "1             NaN          11.0         18.6      1          NaN  ...   \n",
       "2             NaN           5.0         34.3      4          NaN  ...   \n",
       "3             NaN          14.0          NaN      9          NaN  ...   \n",
       "4            3.03          14.0         32.0     13          NaN  ...   \n",
       "\n",
       "   kitchen_area  balconies_number    locality_name  airport_distance  \\\n",
       "0          25.0               NaN  Санкт-Петербург           18863.0   \n",
       "1          11.0               2.0   посёлок Шушары           12817.0   \n",
       "2           8.3               0.0  Санкт-Петербург           21741.0   \n",
       "3           NaN               0.0  Санкт-Петербург           28098.0   \n",
       "4          41.0               NaN  Санкт-Петербург           31856.0   \n",
       "\n",
       "  city_center_distance  parks_around_3000_number  park_distance  \\\n",
       "0              16028.0                       1.0          482.0   \n",
       "1              18603.0                       0.0            NaN   \n",
       "2              13933.0                       1.0           90.0   \n",
       "3               6800.0                       2.0           84.0   \n",
       "4               8098.0                       2.0          112.0   \n",
       "\n",
       "   ponds_around_3000_number  pond_distance  days_exposition  \n",
       "0                       2.0          755.0              NaN  \n",
       "1                       0.0            NaN             81.0  \n",
       "2                       2.0          574.0            558.0  \n",
       "3                       3.0          234.0            424.0  \n",
       "4                       1.0           48.0            121.0  \n",
       "\n",
       "[5 rows x 22 columns]"
      ]
     },
     "execution_count": 8,
     "metadata": {},
     "output_type": "execute_result"
    }
   ],
   "source": [
    "data.head()"
   ]
  },
  {
   "cell_type": "markdown",
   "metadata": {},
   "source": [
    "### Обработка пропусков"
   ]
  },
  {
   "cell_type": "markdown",
   "metadata": {},
   "source": [
    "Посмотрим долю пропусков в каждом столбце."
   ]
  },
  {
   "cell_type": "code",
   "execution_count": 9,
   "metadata": {},
   "outputs": [
    {
     "data": {
      "text/plain": [
       "total_images                 0.000000\n",
       "last_price                   0.000000\n",
       "total_area                   0.000000\n",
       "first_day_exposition         0.000000\n",
       "rooms                        0.000000\n",
       "ceiling_height              38.799105\n",
       "floors_total                 0.362885\n",
       "living_area                  8.029875\n",
       "floor                        0.000000\n",
       "is_apartment                88.290645\n",
       "is_studio                    0.000000\n",
       "is_free_layout               0.000000\n",
       "kitchen_area                 9.612220\n",
       "balconies_number            48.605426\n",
       "locality_name                0.206760\n",
       "airport_distance            23.384953\n",
       "city_center_distance        23.287902\n",
       "parks_around_3000_number    23.283683\n",
       "park_distance               65.909954\n",
       "ponds_around_3000_number    23.283683\n",
       "pond_distance               61.559559\n",
       "days_exposition             13.422507\n",
       "dtype: float64"
      ]
     },
     "execution_count": 9,
     "metadata": {},
     "output_type": "execute_result"
    }
   ],
   "source": [
    "# find rate of missing values in every column in percents\n",
    "data.isna().mean() * 100 "
   ]
  },
  {
   "cell_type": "markdown",
   "metadata": {},
   "source": [
    "Столбцы, в которых есть пропуски: `ceiling_height`, `floors_total`, `living_area`, `is_apartment`, `kitchen_area`, `balconies_number`, `locality_name`, `airport_distance`, `city_center_distance`, `parks_around_3000_number`, `park_distance`, `ponds_around_3000_number`, `pond_distance`, `days_exposition`.\n",
    "\n",
    "Пропуски в столбцах `ceiling_height`, `floors_total`, `living_area`, `is_apartment`, `kitchen_area`, `balconies_number` можно объяснить тем, что пользователь не ввел эти значения в объявлении. \n",
    "\n",
    "Значения в столбцах `locality_name`, `airport_distance`, `city_center_distance`, `parks_around_3000_number`, `park_distance`, `ponds_around_3000_number`, `pond_distance`, `days_exposition` должны заполняться автоматически на основе картографических данных. Пропуски в этих столбцах можно объяснить технической ошибкой сервиса."
   ]
  },
  {
   "cell_type": "markdown",
   "metadata": {},
   "source": [
    "Сначала разберемся с пропусками в первой категории столбцов (где человек не ввел их)."
   ]
  },
  {
   "cell_type": "markdown",
   "metadata": {},
   "source": [
    "Изучим столбцец `ceiling_height`. Построим гистограмму (почти все значения располагаются между 2,4 и 3,0 м."
   ]
  },
  {
   "cell_type": "code",
   "execution_count": 10,
   "metadata": {},
   "outputs": [
    {
     "name": "stdout",
     "output_type": "stream",
     "text": [
      "Медиана и среднее столбца 'ceiling_height': (2.65, 2.7714988968559835)\n"
     ]
    },
    {
     "data": {
      "text/plain": [
       "<AxesSubplot:>"
      ]
     },
     "execution_count": 10,
     "metadata": {},
     "output_type": "execute_result"
    },
    {
     "data": {
      "image/png": "[encoded data removed]",
      "text/plain": [
       "<Figure size 432x288 with 1 Axes>"
      ]
     },
     "metadata": {
      "needs_background": "light"
     },
     "output_type": "display_data"
    }
   ],
   "source": [
    "print(f\"Медиана и среднее столбца 'ceiling_height': {data['ceiling_height'].median(), data['ceiling_height'].mean()}\")\n",
    "\n",
    "# plot 'ceiling_height' column histogram\n",
    "data['ceiling_height'].hist(bins=7, range=(2.4, 3.0))"
   ]
  },
  {
   "cell_type": "code",
   "execution_count": 11,
   "metadata": {},
   "outputs": [
    {
     "data": {
      "text/plain": [
       "2.50    3515\n",
       "2.60    1646\n",
       "2.70    1574\n",
       "3.00    1112\n",
       "2.80     993\n",
       "        ... \n",
       "5.00       1\n",
       "2.20       1\n",
       "2.34       1\n",
       "3.93       1\n",
       "3.59       1\n",
       "Name: ceiling_height, Length: 183, dtype: int64"
      ]
     },
     "execution_count": 11,
     "metadata": {},
     "output_type": "execute_result"
    }
   ],
   "source": [
    "data['ceiling_height'].value_counts()"
   ]
  },
  {
   "cell_type": "markdown",
   "metadata": {},
   "source": [
    "Распределение напоминает распределение Пуассона. "
   ]
  },
  {
   "cell_type": "markdown",
   "metadata": {},
   "source": [
    "Заполним пропуски медианой."
   ]
  },
  {
   "cell_type": "code",
   "execution_count": 12,
   "metadata": {},
   "outputs": [],
   "source": [
    "# filling missing values in 'ceiling_height' column with median\n",
    "data['ceiling_height'] = data['ceiling_height'].fillna(data['ceiling_height'].median())"
   ]
  },
  {
   "cell_type": "markdown",
   "metadata": {},
   "source": [
    "Построим гистограмму."
   ]
  },
  {
   "cell_type": "code",
   "execution_count": 13,
   "metadata": {},
   "outputs": [
    {
     "data": {
      "text/plain": [
       "<AxesSubplot:>"
      ]
     },
     "execution_count": 13,
     "metadata": {},
     "output_type": "execute_result"
    },
    {
     "data": {
      "image/png": "[encoded data removed]",
      "text/plain": [
       "<Figure size 432x288 with 1 Axes>"
      ]
     },
     "metadata": {
      "needs_background": "light"
     },
     "output_type": "display_data"
    }
   ],
   "source": [
    "# plot 'ceiling_height' column histogram\n",
    "data['ceiling_height'].hist(bins=7, range=(2.4, 3.0))"
   ]
  },
  {
   "cell_type": "markdown",
   "metadata": {},
   "source": [
    "Проверим."
   ]
  },
  {
   "cell_type": "code",
   "execution_count": 14,
   "metadata": {},
   "outputs": [
    {
     "name": "stdout",
     "output_type": "stream",
     "text": [
      "Доля пропущенных значений в столбце 'ceiling_height': 0.000%\n"
     ]
    }
   ],
   "source": [
    "print(f\"Доля пропущенных значений в столбце 'ceiling_height': {data['ceiling_height'].isna().mean():.3%}\")"
   ]
  },
  {
   "cell_type": "markdown",
   "metadata": {},
   "source": [
    "Перейдем к столбцу `floors_total`. Пропущенных значений в этом столбце очень мало (~0.36% от 23699), так что если мы заполним эти пропуски медианы на данные это почти не повлияет. \n",
    "Посчитаем медиану."
   ]
  },
  {
   "cell_type": "code",
   "execution_count": 15,
   "metadata": {},
   "outputs": [
    {
     "name": "stdout",
     "output_type": "stream",
     "text": [
      "Медиана и среднее столбца 'floors_total': (9.0, 10.67382374115953)\n"
     ]
    },
    {
     "data": {
      "text/plain": [
       "<AxesSubplot:>"
      ]
     },
     "execution_count": 15,
     "metadata": {},
     "output_type": "execute_result"
    },
    {
     "data": {
      "image/png": "[encoded data removed]",
      "text/plain": [
       "<Figure size 432x288 with 1 Axes>"
      ]
     },
     "metadata": {
      "needs_background": "light"
     },
     "output_type": "display_data"
    }
   ],
   "source": [
    "print(f\"Медиана и среднее столбца 'floors_total': {data['floors_total'].median(), data['floors_total'].mean()}\")\n",
    "\n",
    "# plot 'floors_total' column histogram\n",
    "data['floors_total'].hist(bins=30, range=(0, 30))"
   ]
  },
  {
   "cell_type": "code",
   "execution_count": 16,
   "metadata": {},
   "outputs": [],
   "source": [
    "# filling missing values in 'floors_total' column with median\n",
    "data['floors_total'] = data['floors_total'].fillna(data['floors_total'].median())"
   ]
  },
  {
   "cell_type": "markdown",
   "metadata": {},
   "source": [
    "Проверим."
   ]
  },
  {
   "cell_type": "code",
   "execution_count": 17,
   "metadata": {},
   "outputs": [
    {
     "name": "stdout",
     "output_type": "stream",
     "text": [
      "Доля пропущенных значений в столбце 'floors_total': 0.000%\n"
     ]
    }
   ],
   "source": [
    "print(f\"Доля пропущенных значений в столбце 'floors_total': {data['floors_total'].isna().mean():.3%}\")"
   ]
  },
  {
   "cell_type": "code",
   "execution_count": 18,
   "metadata": {},
   "outputs": [
    {
     "data": {
      "text/plain": [
       "<AxesSubplot:>"
      ]
     },
     "execution_count": 18,
     "metadata": {},
     "output_type": "execute_result"
    },
    {
     "data": {
      "image/png": "[encoded data removed]",
      "text/plain": [
       "<Figure size 432x288 with 1 Axes>"
      ]
     },
     "metadata": {
      "needs_background": "light"
     },
     "output_type": "display_data"
    }
   ],
   "source": [
    "# plot 'floors_total' column histogram\n",
    "data['floors_total'].hist(bins=30, range=(0, 30))"
   ]
  },
  {
   "cell_type": "markdown",
   "metadata": {},
   "source": [
    "Видно, что распределение не поменялось после заполнения пропусков."
   ]
  },
  {
   "cell_type": "markdown",
   "metadata": {},
   "source": [
    "Перейдем к столбцу `living_area`. Посчитаем медиану, среднее, построим гистограмму."
   ]
  },
  {
   "cell_type": "code",
   "execution_count": 19,
   "metadata": {},
   "outputs": [
    {
     "name": "stdout",
     "output_type": "stream",
     "text": [
      "Медиана и среднее столбца 'living_area': (30.0, 34.45785242760111)\n"
     ]
    },
    {
     "data": {
      "text/plain": [
       "<AxesSubplot:>"
      ]
     },
     "execution_count": 19,
     "metadata": {},
     "output_type": "execute_result"
    },
    {
     "data": {
      "image/png": "[encoded data removed]",
      "text/plain": [
       "<Figure size 432x288 with 1 Axes>"
      ]
     },
     "metadata": {
      "needs_background": "light"
     },
     "output_type": "display_data"
    }
   ],
   "source": [
    "print(f\"Медиана и среднее столбца 'living_area': {data['living_area'].median(), data['living_area'].mean()}\")\n",
    "\n",
    "# plot 'living_area' column histogram\n",
    "data['living_area'].hist(bins=25, range=(0, 130))"
   ]
  },
  {
   "cell_type": "markdown",
   "metadata": {},
   "source": [
    "Два пика около 20 и 30. Пока заполним пропуски нулями."
   ]
  },
  {
   "cell_type": "code",
   "execution_count": 20,
   "metadata": {},
   "outputs": [],
   "source": [
    "# filling missing values in 'living_area' column with 0\n",
    "data['living_area'] = data['living_area'].fillna(0)"
   ]
  },
  {
   "cell_type": "markdown",
   "metadata": {},
   "source": [
    "Проверим."
   ]
  },
  {
   "cell_type": "code",
   "execution_count": 21,
   "metadata": {},
   "outputs": [
    {
     "name": "stdout",
     "output_type": "stream",
     "text": [
      "Доля пропущенных значений в столбце 'living_area': 0.000%\n"
     ]
    }
   ],
   "source": [
    "print(f\"Доля пропущенных значений в столбце 'living_area': {data['living_area'].isna().mean():.3%}\")"
   ]
  },
  {
   "cell_type": "markdown",
   "metadata": {},
   "source": [
    "Посмотрим первые строки датафрейма с пропущенными значеними в столбце `is_apartment`."
   ]
  },
  {
   "cell_type": "code",
   "execution_count": 22,
   "metadata": {},
   "outputs": [
    {
     "data": {
      "text/html": [
       "<div>\n",
       "<style scoped>\n",
       "    .dataframe tbody tr th:only-of-type {\n",
       "        vertical-align: middle;\n",
       "    }\n",
       "\n",
       "    .dataframe tbody tr th {\n",
       "        vertical-align: top;\n",
       "    }\n",
       "\n",
       "    .dataframe thead th {\n",
       "        text-align: right;\n",
       "    }\n",
       "</style>\n",
       "<table border=\"1\" class=\"dataframe\">\n",
       "  <thead>\n",
       "    <tr style=\"text-align: right;\">\n",
       "      <th></th>\n",
       "      <th>total_images</th>\n",
       "      <th>last_price</th>\n",
       "      <th>total_area</th>\n",
       "      <th>first_day_exposition</th>\n",
       "      <th>rooms</th>\n",
       "      <th>ceiling_height</th>\n",
       "      <th>floors_total</th>\n",
       "      <th>living_area</th>\n",
       "      <th>floor</th>\n",
       "      <th>is_apartment</th>\n",
       "      <th>...</th>\n",
       "      <th>kitchen_area</th>\n",
       "      <th>balconies_number</th>\n",
       "      <th>locality_name</th>\n",
       "      <th>airport_distance</th>\n",
       "      <th>city_center_distance</th>\n",
       "      <th>parks_around_3000_number</th>\n",
       "      <th>park_distance</th>\n",
       "      <th>ponds_around_3000_number</th>\n",
       "      <th>pond_distance</th>\n",
       "      <th>days_exposition</th>\n",
       "    </tr>\n",
       "  </thead>\n",
       "  <tbody>\n",
       "    <tr>\n",
       "      <th>0</th>\n",
       "      <td>20</td>\n",
       "      <td>13000000.0</td>\n",
       "      <td>108.0</td>\n",
       "      <td>2019-03-07T00:00:00</td>\n",
       "      <td>3</td>\n",
       "      <td>2.70</td>\n",
       "      <td>16.0</td>\n",
       "      <td>51.0</td>\n",
       "      <td>8</td>\n",
       "      <td>NaN</td>\n",
       "      <td>...</td>\n",
       "      <td>25.0</td>\n",
       "      <td>NaN</td>\n",
       "      <td>Санкт-Петербург</td>\n",
       "      <td>18863.0</td>\n",
       "      <td>16028.0</td>\n",
       "      <td>1.0</td>\n",
       "      <td>482.0</td>\n",
       "      <td>2.0</td>\n",
       "      <td>755.0</td>\n",
       "      <td>NaN</td>\n",
       "    </tr>\n",
       "    <tr>\n",
       "      <th>1</th>\n",
       "      <td>7</td>\n",
       "      <td>3350000.0</td>\n",
       "      <td>40.4</td>\n",
       "      <td>2018-12-04T00:00:00</td>\n",
       "      <td>1</td>\n",
       "      <td>2.65</td>\n",
       "      <td>11.0</td>\n",
       "      <td>18.6</td>\n",
       "      <td>1</td>\n",
       "      <td>NaN</td>\n",
       "      <td>...</td>\n",
       "      <td>11.0</td>\n",
       "      <td>2.0</td>\n",
       "      <td>посёлок Шушары</td>\n",
       "      <td>12817.0</td>\n",
       "      <td>18603.0</td>\n",
       "      <td>0.0</td>\n",
       "      <td>NaN</td>\n",
       "      <td>0.0</td>\n",
       "      <td>NaN</td>\n",
       "      <td>81.0</td>\n",
       "    </tr>\n",
       "    <tr>\n",
       "      <th>2</th>\n",
       "      <td>10</td>\n",
       "      <td>5196000.0</td>\n",
       "      <td>56.0</td>\n",
       "      <td>2015-08-20T00:00:00</td>\n",
       "      <td>2</td>\n",
       "      <td>2.65</td>\n",
       "      <td>5.0</td>\n",
       "      <td>34.3</td>\n",
       "      <td>4</td>\n",
       "      <td>NaN</td>\n",
       "      <td>...</td>\n",
       "      <td>8.3</td>\n",
       "      <td>0.0</td>\n",
       "      <td>Санкт-Петербург</td>\n",
       "      <td>21741.0</td>\n",
       "      <td>13933.0</td>\n",
       "      <td>1.0</td>\n",
       "      <td>90.0</td>\n",
       "      <td>2.0</td>\n",
       "      <td>574.0</td>\n",
       "      <td>558.0</td>\n",
       "    </tr>\n",
       "    <tr>\n",
       "      <th>3</th>\n",
       "      <td>0</td>\n",
       "      <td>64900000.0</td>\n",
       "      <td>159.0</td>\n",
       "      <td>2015-07-24T00:00:00</td>\n",
       "      <td>3</td>\n",
       "      <td>2.65</td>\n",
       "      <td>14.0</td>\n",
       "      <td>0.0</td>\n",
       "      <td>9</td>\n",
       "      <td>NaN</td>\n",
       "      <td>...</td>\n",
       "      <td>NaN</td>\n",
       "      <td>0.0</td>\n",
       "      <td>Санкт-Петербург</td>\n",
       "      <td>28098.0</td>\n",
       "      <td>6800.0</td>\n",
       "      <td>2.0</td>\n",
       "      <td>84.0</td>\n",
       "      <td>3.0</td>\n",
       "      <td>234.0</td>\n",
       "      <td>424.0</td>\n",
       "    </tr>\n",
       "    <tr>\n",
       "      <th>4</th>\n",
       "      <td>2</td>\n",
       "      <td>10000000.0</td>\n",
       "      <td>100.0</td>\n",
       "      <td>2018-06-19T00:00:00</td>\n",
       "      <td>2</td>\n",
       "      <td>3.03</td>\n",
       "      <td>14.0</td>\n",
       "      <td>32.0</td>\n",
       "      <td>13</td>\n",
       "      <td>NaN</td>\n",
       "      <td>...</td>\n",
       "      <td>41.0</td>\n",
       "      <td>NaN</td>\n",
       "      <td>Санкт-Петербург</td>\n",
       "      <td>31856.0</td>\n",
       "      <td>8098.0</td>\n",
       "      <td>2.0</td>\n",
       "      <td>112.0</td>\n",
       "      <td>1.0</td>\n",
       "      <td>48.0</td>\n",
       "      <td>121.0</td>\n",
       "    </tr>\n",
       "  </tbody>\n",
       "</table>\n",
       "<p>5 rows × 22 columns</p>\n",
       "</div>"
      ],
      "text/plain": [
       "   total_images  last_price  total_area first_day_exposition  rooms  \\\n",
       "0            20  13000000.0       108.0  2019-03-07T00:00:00      3   \n",
       "1             7   3350000.0        40.4  2018-12-04T00:00:00      1   \n",
       "2            10   5196000.0        56.0  2015-08-20T00:00:00      2   \n",
       "3             0  64900000.0       159.0  2015-07-24T00:00:00      3   \n",
       "4             2  10000000.0       100.0  2018-06-19T00:00:00      2   \n",
       "\n",
       "   ceiling_height  floors_total  living_area  floor is_apartment  ...  \\\n",
       "0            2.70          16.0         51.0      8          NaN  ...   \n",
       "1            2.65          11.0         18.6      1          NaN  ...   \n",
       "2            2.65           5.0         34.3      4          NaN  ...   \n",
       "3            2.65          14.0          0.0      9          NaN  ...   \n",
       "4            3.03          14.0         32.0     13          NaN  ...   \n",
       "\n",
       "   kitchen_area  balconies_number    locality_name  airport_distance  \\\n",
       "0          25.0               NaN  Санкт-Петербург           18863.0   \n",
       "1          11.0               2.0   посёлок Шушары           12817.0   \n",
       "2           8.3               0.0  Санкт-Петербург           21741.0   \n",
       "3           NaN               0.0  Санкт-Петербург           28098.0   \n",
       "4          41.0               NaN  Санкт-Петербург           31856.0   \n",
       "\n",
       "  city_center_distance  parks_around_3000_number  park_distance  \\\n",
       "0              16028.0                       1.0          482.0   \n",
       "1              18603.0                       0.0            NaN   \n",
       "2              13933.0                       1.0           90.0   \n",
       "3               6800.0                       2.0           84.0   \n",
       "4               8098.0                       2.0          112.0   \n",
       "\n",
       "   ponds_around_3000_number  pond_distance  days_exposition  \n",
       "0                       2.0          755.0              NaN  \n",
       "1                       0.0            NaN             81.0  \n",
       "2                       2.0          574.0            558.0  \n",
       "3                       3.0          234.0            424.0  \n",
       "4                       1.0           48.0            121.0  \n",
       "\n",
       "[5 rows x 22 columns]"
      ]
     },
     "execution_count": 22,
     "metadata": {},
     "output_type": "execute_result"
    }
   ],
   "source": [
    "# first 5 rows of missing values in column 'is_apartment'\n",
    "data[data['is_apartment'].isna()].head()"
   ]
  },
  {
   "cell_type": "markdown",
   "metadata": {},
   "source": [
    "Посчитаем долю пропущенных значений в этом столбце."
   ]
  },
  {
   "cell_type": "code",
   "execution_count": 23,
   "metadata": {},
   "outputs": [
    {
     "name": "stdout",
     "output_type": "stream",
     "text": [
      "Доля пропущенных значений в столбце 'is_apartment': 88%\n"
     ]
    }
   ],
   "source": [
    "print(f\"Доля пропущенных значений в столбце 'is_apartment': {data['is_apartment'].isna().mean():.0%}\")"
   ]
  },
  {
   "cell_type": "markdown",
   "metadata": {},
   "source": [
    "Почти у 90% строк пропуски. \n",
    "Заменим пропуски в этом столбце значением `False`, так как, скорее всего, большинство пользователей просто не отвечали на этот пункт, так как у них не апартаменты."
   ]
  },
  {
   "cell_type": "code",
   "execution_count": 24,
   "metadata": {},
   "outputs": [],
   "source": [
    "# filling missing values in 'is_apartment' column with 'False'\n",
    "data['is_apartment'] = data['is_apartment'].fillna(False)"
   ]
  },
  {
   "cell_type": "markdown",
   "metadata": {},
   "source": [
    "Проверим."
   ]
  },
  {
   "cell_type": "code",
   "execution_count": 25,
   "metadata": {},
   "outputs": [
    {
     "name": "stdout",
     "output_type": "stream",
     "text": [
      "Доля пропущенных значений в столбце 'is_apartment': 0.000%\n"
     ]
    }
   ],
   "source": [
    "print(f\"Доля пропущенных значений в столбце 'is_apartment': {data['is_apartment'].isna().mean():.3%}\")"
   ]
  },
  {
   "cell_type": "markdown",
   "metadata": {},
   "source": [
    "Пропущенных значений в столбце `is_apartment` нет."
   ]
  },
  {
   "cell_type": "markdown",
   "metadata": {},
   "source": [
    "Рассмотрим столбец `kitchen_area`. Также посчитаем медиану, среднее, построим гистограмму."
   ]
  },
  {
   "cell_type": "code",
   "execution_count": 26,
   "metadata": {},
   "outputs": [
    {
     "name": "stdout",
     "output_type": "stream",
     "text": [
      "Медиана и среднее столбца 'kitchen_area': (9.1, 10.569807198543522)\n"
     ]
    },
    {
     "data": {
      "text/plain": [
       "<AxesSubplot:>"
      ]
     },
     "execution_count": 26,
     "metadata": {},
     "output_type": "execute_result"
    },
    {
     "data": {
      "image/png": "[encoded data removed]",
      "text/plain": [
       "<Figure size 432x288 with 1 Axes>"
      ]
     },
     "metadata": {
      "needs_background": "light"
     },
     "output_type": "display_data"
    }
   ],
   "source": [
    "print(f\"Медиана и среднее столбца 'kitchen_area': {data['kitchen_area'].median(), data['kitchen_area'].mean()}\")\n",
    "\n",
    "# plot 'kitchen_area' column histogram\n",
    "data['kitchen_area'].hist(range=(0, 30))"
   ]
  },
  {
   "cell_type": "markdown",
   "metadata": {},
   "source": [
    "Распределение похоже на нормальное. \n",
    "Так как пропусков не так много (менее 10%), заменим их в этом столбце на медиану и построим гистограмму для проверки."
   ]
  },
  {
   "cell_type": "code",
   "execution_count": 27,
   "metadata": {},
   "outputs": [],
   "source": [
    "# filling missing values in 'kitchen_area' column with median\n",
    "data['kitchen_area'] = data['kitchen_area'].fillna(data['kitchen_area'].median())"
   ]
  },
  {
   "cell_type": "code",
   "execution_count": 28,
   "metadata": {},
   "outputs": [
    {
     "data": {
      "text/plain": [
       "<AxesSubplot:>"
      ]
     },
     "execution_count": 28,
     "metadata": {},
     "output_type": "execute_result"
    },
    {
     "data": {
      "image/png": "[encoded data removed]",
      "text/plain": [
       "<Figure size 432x288 with 1 Axes>"
      ]
     },
     "metadata": {
      "needs_background": "light"
     },
     "output_type": "display_data"
    }
   ],
   "source": [
    "# plot 'kitchen_area' column histogram\n",
    "data['kitchen_area'].hist(range=(0, 30))"
   ]
  },
  {
   "cell_type": "markdown",
   "metadata": {},
   "source": [
    "Распределение немного поменялось, но это некритично."
   ]
  },
  {
   "cell_type": "markdown",
   "metadata": {},
   "source": [
    "Посмотрим первые строки датафрейма с пропущенными значеними в столбце `balconies_number`."
   ]
  },
  {
   "cell_type": "code",
   "execution_count": 29,
   "metadata": {},
   "outputs": [
    {
     "data": {
      "text/html": [
       "<div>\n",
       "<style scoped>\n",
       "    .dataframe tbody tr th:only-of-type {\n",
       "        vertical-align: middle;\n",
       "    }\n",
       "\n",
       "    .dataframe tbody tr th {\n",
       "        vertical-align: top;\n",
       "    }\n",
       "\n",
       "    .dataframe thead th {\n",
       "        text-align: right;\n",
       "    }\n",
       "</style>\n",
       "<table border=\"1\" class=\"dataframe\">\n",
       "  <thead>\n",
       "    <tr style=\"text-align: right;\">\n",
       "      <th></th>\n",
       "      <th>total_images</th>\n",
       "      <th>last_price</th>\n",
       "      <th>total_area</th>\n",
       "      <th>first_day_exposition</th>\n",
       "      <th>rooms</th>\n",
       "      <th>ceiling_height</th>\n",
       "      <th>floors_total</th>\n",
       "      <th>living_area</th>\n",
       "      <th>floor</th>\n",
       "      <th>is_apartment</th>\n",
       "      <th>...</th>\n",
       "      <th>kitchen_area</th>\n",
       "      <th>balconies_number</th>\n",
       "      <th>locality_name</th>\n",
       "      <th>airport_distance</th>\n",
       "      <th>city_center_distance</th>\n",
       "      <th>parks_around_3000_number</th>\n",
       "      <th>park_distance</th>\n",
       "      <th>ponds_around_3000_number</th>\n",
       "      <th>pond_distance</th>\n",
       "      <th>days_exposition</th>\n",
       "    </tr>\n",
       "  </thead>\n",
       "  <tbody>\n",
       "    <tr>\n",
       "      <th>0</th>\n",
       "      <td>20</td>\n",
       "      <td>13000000.0</td>\n",
       "      <td>108.00</td>\n",
       "      <td>2019-03-07T00:00:00</td>\n",
       "      <td>3</td>\n",
       "      <td>2.70</td>\n",
       "      <td>16.0</td>\n",
       "      <td>51.00</td>\n",
       "      <td>8</td>\n",
       "      <td>False</td>\n",
       "      <td>...</td>\n",
       "      <td>25.00</td>\n",
       "      <td>NaN</td>\n",
       "      <td>Санкт-Петербург</td>\n",
       "      <td>18863.0</td>\n",
       "      <td>16028.0</td>\n",
       "      <td>1.0</td>\n",
       "      <td>482.0</td>\n",
       "      <td>2.0</td>\n",
       "      <td>755.0</td>\n",
       "      <td>NaN</td>\n",
       "    </tr>\n",
       "    <tr>\n",
       "      <th>4</th>\n",
       "      <td>2</td>\n",
       "      <td>10000000.0</td>\n",
       "      <td>100.00</td>\n",
       "      <td>2018-06-19T00:00:00</td>\n",
       "      <td>2</td>\n",
       "      <td>3.03</td>\n",
       "      <td>14.0</td>\n",
       "      <td>32.00</td>\n",
       "      <td>13</td>\n",
       "      <td>False</td>\n",
       "      <td>...</td>\n",
       "      <td>41.00</td>\n",
       "      <td>NaN</td>\n",
       "      <td>Санкт-Петербург</td>\n",
       "      <td>31856.0</td>\n",
       "      <td>8098.0</td>\n",
       "      <td>2.0</td>\n",
       "      <td>112.0</td>\n",
       "      <td>1.0</td>\n",
       "      <td>48.0</td>\n",
       "      <td>121.0</td>\n",
       "    </tr>\n",
       "    <tr>\n",
       "      <th>5</th>\n",
       "      <td>10</td>\n",
       "      <td>2890000.0</td>\n",
       "      <td>30.40</td>\n",
       "      <td>2018-09-10T00:00:00</td>\n",
       "      <td>1</td>\n",
       "      <td>2.65</td>\n",
       "      <td>12.0</td>\n",
       "      <td>14.40</td>\n",
       "      <td>5</td>\n",
       "      <td>False</td>\n",
       "      <td>...</td>\n",
       "      <td>9.10</td>\n",
       "      <td>NaN</td>\n",
       "      <td>городской посёлок Янино-1</td>\n",
       "      <td>NaN</td>\n",
       "      <td>NaN</td>\n",
       "      <td>NaN</td>\n",
       "      <td>NaN</td>\n",
       "      <td>NaN</td>\n",
       "      <td>NaN</td>\n",
       "      <td>55.0</td>\n",
       "    </tr>\n",
       "    <tr>\n",
       "      <th>8</th>\n",
       "      <td>20</td>\n",
       "      <td>2900000.0</td>\n",
       "      <td>33.16</td>\n",
       "      <td>2018-05-23T00:00:00</td>\n",
       "      <td>1</td>\n",
       "      <td>2.65</td>\n",
       "      <td>27.0</td>\n",
       "      <td>15.43</td>\n",
       "      <td>26</td>\n",
       "      <td>False</td>\n",
       "      <td>...</td>\n",
       "      <td>8.81</td>\n",
       "      <td>NaN</td>\n",
       "      <td>посёлок Мурино</td>\n",
       "      <td>NaN</td>\n",
       "      <td>NaN</td>\n",
       "      <td>NaN</td>\n",
       "      <td>NaN</td>\n",
       "      <td>NaN</td>\n",
       "      <td>NaN</td>\n",
       "      <td>189.0</td>\n",
       "    </tr>\n",
       "    <tr>\n",
       "      <th>10</th>\n",
       "      <td>5</td>\n",
       "      <td>5050000.0</td>\n",
       "      <td>39.60</td>\n",
       "      <td>2017-11-16T00:00:00</td>\n",
       "      <td>1</td>\n",
       "      <td>2.67</td>\n",
       "      <td>12.0</td>\n",
       "      <td>20.30</td>\n",
       "      <td>3</td>\n",
       "      <td>False</td>\n",
       "      <td>...</td>\n",
       "      <td>8.50</td>\n",
       "      <td>NaN</td>\n",
       "      <td>Санкт-Петербург</td>\n",
       "      <td>38357.0</td>\n",
       "      <td>13878.0</td>\n",
       "      <td>1.0</td>\n",
       "      <td>310.0</td>\n",
       "      <td>2.0</td>\n",
       "      <td>553.0</td>\n",
       "      <td>137.0</td>\n",
       "    </tr>\n",
       "  </tbody>\n",
       "</table>\n",
       "<p>5 rows × 22 columns</p>\n",
       "</div>"
      ],
      "text/plain": [
       "    total_images  last_price  total_area first_day_exposition  rooms  \\\n",
       "0             20  13000000.0      108.00  2019-03-07T00:00:00      3   \n",
       "4              2  10000000.0      100.00  2018-06-19T00:00:00      2   \n",
       "5             10   2890000.0       30.40  2018-09-10T00:00:00      1   \n",
       "8             20   2900000.0       33.16  2018-05-23T00:00:00      1   \n",
       "10             5   5050000.0       39.60  2017-11-16T00:00:00      1   \n",
       "\n",
       "    ceiling_height  floors_total  living_area  floor  is_apartment  ...  \\\n",
       "0             2.70          16.0        51.00      8         False  ...   \n",
       "4             3.03          14.0        32.00     13         False  ...   \n",
       "5             2.65          12.0        14.40      5         False  ...   \n",
       "8             2.65          27.0        15.43     26         False  ...   \n",
       "10            2.67          12.0        20.30      3         False  ...   \n",
       "\n",
       "    kitchen_area  balconies_number              locality_name  \\\n",
       "0          25.00               NaN            Санкт-Петербург   \n",
       "4          41.00               NaN            Санкт-Петербург   \n",
       "5           9.10               NaN  городской посёлок Янино-1   \n",
       "8           8.81               NaN             посёлок Мурино   \n",
       "10          8.50               NaN            Санкт-Петербург   \n",
       "\n",
       "    airport_distance city_center_distance  parks_around_3000_number  \\\n",
       "0            18863.0              16028.0                       1.0   \n",
       "4            31856.0               8098.0                       2.0   \n",
       "5                NaN                  NaN                       NaN   \n",
       "8                NaN                  NaN                       NaN   \n",
       "10           38357.0              13878.0                       1.0   \n",
       "\n",
       "    park_distance  ponds_around_3000_number  pond_distance  days_exposition  \n",
       "0           482.0                       2.0          755.0              NaN  \n",
       "4           112.0                       1.0           48.0            121.0  \n",
       "5             NaN                       NaN            NaN             55.0  \n",
       "8             NaN                       NaN            NaN            189.0  \n",
       "10          310.0                       2.0          553.0            137.0  \n",
       "\n",
       "[5 rows x 22 columns]"
      ]
     },
     "execution_count": 29,
     "metadata": {},
     "output_type": "execute_result"
    }
   ],
   "source": [
    "# first 5 rows of missing values in column 'balconies_number'\n",
    "data[data['balconies_number'].isna()].head()"
   ]
  },
  {
   "cell_type": "code",
   "execution_count": 30,
   "metadata": {},
   "outputs": [
    {
     "name": "stdout",
     "output_type": "stream",
     "text": [
      "Доля пропущенных значений в столбце 'balconies_number': 49%\n"
     ]
    }
   ],
   "source": [
    "print(f\"Доля пропущенных значений в столбце 'balconies_number': {data['balconies_number'].isna().mean():.0%}\")"
   ]
  },
  {
   "cell_type": "markdown",
   "metadata": {},
   "source": [
    "Почти половина значений в столбце пропущена: скорее всего, большинство людей, в квартире которых нет балкона, просто не заполняли этот столбец.\n",
    "Заполним пропуски нулем."
   ]
  },
  {
   "cell_type": "code",
   "execution_count": 31,
   "metadata": {},
   "outputs": [],
   "source": [
    "# filling missing values in 'balconies_number' column with 0\n",
    "data['balconies_number'] = data['balconies_number'].fillna(0)"
   ]
  },
  {
   "cell_type": "markdown",
   "metadata": {},
   "source": [
    "Проверим."
   ]
  },
  {
   "cell_type": "code",
   "execution_count": 32,
   "metadata": {},
   "outputs": [
    {
     "name": "stdout",
     "output_type": "stream",
     "text": [
      "Доля пропущенных значений в столбце 'balconies_number': 0.000%\n"
     ]
    }
   ],
   "source": [
    "print(f\"Доля пропущенных значений в столбце 'balconies_number': {data['balconies_number'].isna().mean():.3%}\")"
   ]
  },
  {
   "cell_type": "markdown",
   "metadata": {},
   "source": [
    "Пропущенные значения в столбцах `locality_name`, `airport_distance`, `city_center_distance`, `parks_around_3000_number`, `park_distance`, `ponds_around_3000_number`, `pond_distance`, `days_exposition`, скорее всего, возникли из-за технической ошибки и их очень много (20-70%), поэтому не будем их трогать и отправим отчет о некорректных данных.\n",
    "\n",
    "Заполним пропуски только в `locality_name`, так как их очень мало (доля пропусков - 0,2%). Заполним их модой."
   ]
  },
  {
   "cell_type": "code",
   "execution_count": 33,
   "metadata": {},
   "outputs": [],
   "source": [
    "# filling missing values in 'locality_name' column with mode\n",
    "data['locality_name'] = data['locality_name'].fillna(data['locality_name'].mode()[0])"
   ]
  },
  {
   "cell_type": "markdown",
   "metadata": {},
   "source": [
    "Проверим."
   ]
  },
  {
   "cell_type": "code",
   "execution_count": 34,
   "metadata": {},
   "outputs": [
    {
     "name": "stdout",
     "output_type": "stream",
     "text": [
      "Доля пропущенных значений в столбце 'locality_name': 0.000%\n"
     ]
    }
   ],
   "source": [
    "print(f\"Доля пропущенных значений в столбце 'locality_name': {data['locality_name'].isna().mean():.3%}\")"
   ]
  },
  {
   "cell_type": "markdown",
   "metadata": {},
   "source": [
    "Также заполним пропуски столбца `days_exposition` нулями, так как они точно нужны нам для анализа и их тоже не так много, как в других столбцах технической категории пропусков."
   ]
  },
  {
   "cell_type": "code",
   "execution_count": 35,
   "metadata": {},
   "outputs": [],
   "source": [
    "# filling missing values in 'days_exposition' column with zero\n",
    "data['days_exposition'] = data['days_exposition'].fillna(0) "
   ]
  },
  {
   "cell_type": "markdown",
   "metadata": {},
   "source": [
    "Проверим."
   ]
  },
  {
   "cell_type": "code",
   "execution_count": 36,
   "metadata": {},
   "outputs": [
    {
     "name": "stdout",
     "output_type": "stream",
     "text": [
      "Доля пропущенных значений в столбце 'days_exposition': 0.000%\n"
     ]
    }
   ],
   "source": [
    "print(f\"Доля пропущенных значений в столбце 'days_exposition': {data['days_exposition'].isna().mean():.3%}\")"
   ]
  },
  {
   "cell_type": "markdown",
   "metadata": {},
   "source": [
    "### Замена типа данных"
   ]
  },
  {
   "cell_type": "markdown",
   "metadata": {},
   "source": [
    "Изменим тип данных столбцов `floors_total`, `balconies_number` и `days_exposition` с `float` на `int`, так как они и так хранят только целочисленные значения."
   ]
  },
  {
   "cell_type": "code",
   "execution_count": 37,
   "metadata": {},
   "outputs": [],
   "source": [
    "# change type of 'floors_total' and 'balconies_number' columns to 'int'\n",
    "data['floors_total'] = data['floors_total'].astype('int') \n",
    "data['balconies_number'] = data['balconies_number'].astype('int') \n",
    "data['days_exposition'] = data['days_exposition'].astype('int') "
   ]
  },
  {
   "cell_type": "markdown",
   "metadata": {},
   "source": [
    "Проверим."
   ]
  },
  {
   "cell_type": "code",
   "execution_count": 38,
   "metadata": {},
   "outputs": [
    {
     "name": "stdout",
     "output_type": "stream",
     "text": [
      "<class 'pandas.core.frame.DataFrame'>\n",
      "RangeIndex: 23699 entries, 0 to 23698\n",
      "Data columns (total 22 columns):\n",
      " #   Column                    Non-Null Count  Dtype  \n",
      "---  ------                    --------------  -----  \n",
      " 0   total_images              23699 non-null  int64  \n",
      " 1   last_price                23699 non-null  float64\n",
      " 2   total_area                23699 non-null  float64\n",
      " 3   first_day_exposition      23699 non-null  object \n",
      " 4   rooms                     23699 non-null  int64  \n",
      " 5   ceiling_height            23699 non-null  float64\n",
      " 6   floors_total              23699 non-null  int64  \n",
      " 7   living_area               23699 non-null  float64\n",
      " 8   floor                     23699 non-null  int64  \n",
      " 9   is_apartment              23699 non-null  bool   \n",
      " 10  is_studio                 23699 non-null  bool   \n",
      " 11  is_free_layout            23699 non-null  bool   \n",
      " 12  kitchen_area              23699 non-null  float64\n",
      " 13  balconies_number          23699 non-null  int64  \n",
      " 14  locality_name             23699 non-null  object \n",
      " 15  airport_distance          18157 non-null  float64\n",
      " 16  city_center_distance      18180 non-null  float64\n",
      " 17  parks_around_3000_number  18181 non-null  float64\n",
      " 18  park_distance             8079 non-null   float64\n",
      " 19  ponds_around_3000_number  18181 non-null  float64\n",
      " 20  pond_distance             9110 non-null   float64\n",
      " 21  days_exposition           23699 non-null  int64  \n",
      "dtypes: bool(3), float64(11), int64(6), object(2)\n",
      "memory usage: 3.5+ MB\n"
     ]
    }
   ],
   "source": [
    "# general information about data\n",
    "data.info() "
   ]
  },
  {
   "cell_type": "markdown",
   "metadata": {},
   "source": [
    "Тип данных изменен. \n",
    "\n",
    "Также видно, что после заполнения пропусков в столбце `is_apartment` тип данных изменился на `bool`, как мы и хотели."
   ]
  },
  {
   "cell_type": "markdown",
   "metadata": {},
   "source": [
    "Изменим тип данных столбца `first_day_exposition` c `object` на `datetime`, чтобы было проще воспринимать его."
   ]
  },
  {
   "cell_type": "code",
   "execution_count": 39,
   "metadata": {},
   "outputs": [],
   "source": [
    "# change type of 'first_day_exposition' columns to 'datetime'\n",
    "data['first_day_exposition'] = pd.to_datetime(data['first_day_exposition'], format='%Y-%m-%dT%H:%M:%S')"
   ]
  },
  {
   "cell_type": "markdown",
   "metadata": {},
   "source": [
    "Проверим."
   ]
  },
  {
   "cell_type": "code",
   "execution_count": 40,
   "metadata": {},
   "outputs": [
    {
     "data": {
      "text/html": [
       "<div>\n",
       "<style scoped>\n",
       "    .dataframe tbody tr th:only-of-type {\n",
       "        vertical-align: middle;\n",
       "    }\n",
       "\n",
       "    .dataframe tbody tr th {\n",
       "        vertical-align: top;\n",
       "    }\n",
       "\n",
       "    .dataframe thead th {\n",
       "        text-align: right;\n",
       "    }\n",
       "</style>\n",
       "<table border=\"1\" class=\"dataframe\">\n",
       "  <thead>\n",
       "    <tr style=\"text-align: right;\">\n",
       "      <th></th>\n",
       "      <th>total_images</th>\n",
       "      <th>last_price</th>\n",
       "      <th>total_area</th>\n",
       "      <th>first_day_exposition</th>\n",
       "      <th>rooms</th>\n",
       "      <th>ceiling_height</th>\n",
       "      <th>floors_total</th>\n",
       "      <th>living_area</th>\n",
       "      <th>floor</th>\n",
       "      <th>is_apartment</th>\n",
       "      <th>...</th>\n",
       "      <th>kitchen_area</th>\n",
       "      <th>balconies_number</th>\n",
       "      <th>locality_name</th>\n",
       "      <th>airport_distance</th>\n",
       "      <th>city_center_distance</th>\n",
       "      <th>parks_around_3000_number</th>\n",
       "      <th>park_distance</th>\n",
       "      <th>ponds_around_3000_number</th>\n",
       "      <th>pond_distance</th>\n",
       "      <th>days_exposition</th>\n",
       "    </tr>\n",
       "  </thead>\n",
       "  <tbody>\n",
       "    <tr>\n",
       "      <th>0</th>\n",
       "      <td>20</td>\n",
       "      <td>13000000.0</td>\n",
       "      <td>108.0</td>\n",
       "      <td>2019-03-07</td>\n",
       "      <td>3</td>\n",
       "      <td>2.70</td>\n",
       "      <td>16</td>\n",
       "      <td>51.0</td>\n",
       "      <td>8</td>\n",
       "      <td>False</td>\n",
       "      <td>...</td>\n",
       "      <td>25.0</td>\n",
       "      <td>0</td>\n",
       "      <td>Санкт-Петербург</td>\n",
       "      <td>18863.0</td>\n",
       "      <td>16028.0</td>\n",
       "      <td>1.0</td>\n",
       "      <td>482.0</td>\n",
       "      <td>2.0</td>\n",
       "      <td>755.0</td>\n",
       "      <td>0</td>\n",
       "    </tr>\n",
       "    <tr>\n",
       "      <th>1</th>\n",
       "      <td>7</td>\n",
       "      <td>3350000.0</td>\n",
       "      <td>40.4</td>\n",
       "      <td>2018-12-04</td>\n",
       "      <td>1</td>\n",
       "      <td>2.65</td>\n",
       "      <td>11</td>\n",
       "      <td>18.6</td>\n",
       "      <td>1</td>\n",
       "      <td>False</td>\n",
       "      <td>...</td>\n",
       "      <td>11.0</td>\n",
       "      <td>2</td>\n",
       "      <td>посёлок Шушары</td>\n",
       "      <td>12817.0</td>\n",
       "      <td>18603.0</td>\n",
       "      <td>0.0</td>\n",
       "      <td>NaN</td>\n",
       "      <td>0.0</td>\n",
       "      <td>NaN</td>\n",
       "      <td>81</td>\n",
       "    </tr>\n",
       "    <tr>\n",
       "      <th>2</th>\n",
       "      <td>10</td>\n",
       "      <td>5196000.0</td>\n",
       "      <td>56.0</td>\n",
       "      <td>2015-08-20</td>\n",
       "      <td>2</td>\n",
       "      <td>2.65</td>\n",
       "      <td>5</td>\n",
       "      <td>34.3</td>\n",
       "      <td>4</td>\n",
       "      <td>False</td>\n",
       "      <td>...</td>\n",
       "      <td>8.3</td>\n",
       "      <td>0</td>\n",
       "      <td>Санкт-Петербург</td>\n",
       "      <td>21741.0</td>\n",
       "      <td>13933.0</td>\n",
       "      <td>1.0</td>\n",
       "      <td>90.0</td>\n",
       "      <td>2.0</td>\n",
       "      <td>574.0</td>\n",
       "      <td>558</td>\n",
       "    </tr>\n",
       "    <tr>\n",
       "      <th>3</th>\n",
       "      <td>0</td>\n",
       "      <td>64900000.0</td>\n",
       "      <td>159.0</td>\n",
       "      <td>2015-07-24</td>\n",
       "      <td>3</td>\n",
       "      <td>2.65</td>\n",
       "      <td>14</td>\n",
       "      <td>0.0</td>\n",
       "      <td>9</td>\n",
       "      <td>False</td>\n",
       "      <td>...</td>\n",
       "      <td>9.1</td>\n",
       "      <td>0</td>\n",
       "      <td>Санкт-Петербург</td>\n",
       "      <td>28098.0</td>\n",
       "      <td>6800.0</td>\n",
       "      <td>2.0</td>\n",
       "      <td>84.0</td>\n",
       "      <td>3.0</td>\n",
       "      <td>234.0</td>\n",
       "      <td>424</td>\n",
       "    </tr>\n",
       "    <tr>\n",
       "      <th>4</th>\n",
       "      <td>2</td>\n",
       "      <td>10000000.0</td>\n",
       "      <td>100.0</td>\n",
       "      <td>2018-06-19</td>\n",
       "      <td>2</td>\n",
       "      <td>3.03</td>\n",
       "      <td>14</td>\n",
       "      <td>32.0</td>\n",
       "      <td>13</td>\n",
       "      <td>False</td>\n",
       "      <td>...</td>\n",
       "      <td>41.0</td>\n",
       "      <td>0</td>\n",
       "      <td>Санкт-Петербург</td>\n",
       "      <td>31856.0</td>\n",
       "      <td>8098.0</td>\n",
       "      <td>2.0</td>\n",
       "      <td>112.0</td>\n",
       "      <td>1.0</td>\n",
       "      <td>48.0</td>\n",
       "      <td>121</td>\n",
       "    </tr>\n",
       "  </tbody>\n",
       "</table>\n",
       "<p>5 rows × 22 columns</p>\n",
       "</div>"
      ],
      "text/plain": [
       "   total_images  last_price  total_area first_day_exposition  rooms  \\\n",
       "0            20  13000000.0       108.0           2019-03-07      3   \n",
       "1             7   3350000.0        40.4           2018-12-04      1   \n",
       "2            10   5196000.0        56.0           2015-08-20      2   \n",
       "3             0  64900000.0       159.0           2015-07-24      3   \n",
       "4             2  10000000.0       100.0           2018-06-19      2   \n",
       "\n",
       "   ceiling_height  floors_total  living_area  floor  is_apartment  ...  \\\n",
       "0            2.70            16         51.0      8         False  ...   \n",
       "1            2.65            11         18.6      1         False  ...   \n",
       "2            2.65             5         34.3      4         False  ...   \n",
       "3            2.65            14          0.0      9         False  ...   \n",
       "4            3.03            14         32.0     13         False  ...   \n",
       "\n",
       "   kitchen_area  balconies_number    locality_name  airport_distance  \\\n",
       "0          25.0                 0  Санкт-Петербург           18863.0   \n",
       "1          11.0                 2   посёлок Шушары           12817.0   \n",
       "2           8.3                 0  Санкт-Петербург           21741.0   \n",
       "3           9.1                 0  Санкт-Петербург           28098.0   \n",
       "4          41.0                 0  Санкт-Петербург           31856.0   \n",
       "\n",
       "  city_center_distance  parks_around_3000_number  park_distance  \\\n",
       "0              16028.0                       1.0          482.0   \n",
       "1              18603.0                       0.0            NaN   \n",
       "2              13933.0                       1.0           90.0   \n",
       "3               6800.0                       2.0           84.0   \n",
       "4               8098.0                       2.0          112.0   \n",
       "\n",
       "   ponds_around_3000_number  pond_distance  days_exposition  \n",
       "0                       2.0          755.0                0  \n",
       "1                       0.0            NaN               81  \n",
       "2                       2.0          574.0              558  \n",
       "3                       3.0          234.0              424  \n",
       "4                       1.0           48.0              121  \n",
       "\n",
       "[5 rows x 22 columns]"
      ]
     },
     "execution_count": 40,
     "metadata": {},
     "output_type": "execute_result"
    }
   ],
   "source": [
    "# show first 5 rows\n",
    "data.head()"
   ]
  },
  {
   "cell_type": "markdown",
   "metadata": {},
   "source": [
    "### Обработка дубликатов"
   ]
  },
  {
   "cell_type": "markdown",
   "metadata": {},
   "source": [
    "Проверим наличие явных дубликатов."
   ]
  },
  {
   "cell_type": "code",
   "execution_count": 41,
   "metadata": {},
   "outputs": [
    {
     "data": {
      "text/plain": [
       "total_images                                  3\n",
       "last_price                            8600000.0\n",
       "total_area                                 81.7\n",
       "first_day_exposition        2016-04-15 00:00:00\n",
       "rooms                                         3\n",
       "ceiling_height                             3.55\n",
       "floors_total                                  5\n",
       "living_area                                50.8\n",
       "floor                                         2\n",
       "is_apartment                              False\n",
       "is_studio                                 False\n",
       "is_free_layout                            False\n",
       "kitchen_area                                8.8\n",
       "balconies_number                              0\n",
       "locality_name                   Санкт-Петербург\n",
       "airport_distance                        23478.0\n",
       "city_center_distance                     4258.0\n",
       "parks_around_3000_number                    0.0\n",
       "park_distance                               NaN\n",
       "ponds_around_3000_number                    0.0\n",
       "pond_distance                               NaN\n",
       "days_exposition                             147\n",
       "Name: 1097, dtype: object"
      ]
     },
     "execution_count": 41,
     "metadata": {},
     "output_type": "execute_result"
    }
   ],
   "source": [
    "data.loc[1097]"
   ]
  },
  {
   "cell_type": "code",
   "execution_count": 42,
   "metadata": {},
   "outputs": [
    {
     "data": {
      "text/plain": [
       "0"
      ]
     },
     "execution_count": 42,
     "metadata": {},
     "output_type": "execute_result"
    }
   ],
   "source": [
    "# display number of duplicates\n",
    "data.duplicated().sum() "
   ]
  },
  {
   "cell_type": "markdown",
   "metadata": {},
   "source": [
    "Явных дупликатов нет."
   ]
  },
  {
   "cell_type": "markdown",
   "metadata": {},
   "source": [
    "Проверим наличие неявных дубликатов в столбце `locality_name`."
   ]
  },
  {
   "cell_type": "code",
   "execution_count": 43,
   "metadata": {},
   "outputs": [
    {
     "data": {
      "text/plain": [
       "array(['Бокситогорск', 'Волосово', 'Волхов', 'Всеволожск', 'Выборг',\n",
       "       'Высоцк', 'Гатчина', 'Зеленогорск', 'Ивангород', 'Каменногорск',\n",
       "       'Кингисепп', 'Кириши', 'Кировск', 'Колпино', 'Коммунар',\n",
       "       'Красное Село', 'Кронштадт', 'Кудрово', 'Лодейное Поле',\n",
       "       'Ломоносов', 'Луга', 'Любань', 'Мурино', 'Никольское',\n",
       "       'Новая Ладога', 'Отрадное', 'Павловск', 'Петергоф', 'Пикалёво',\n",
       "       'Подпорожье', 'Приморск', 'Приозерск', 'Пушкин', 'Санкт-Петербург',\n",
       "       'Светогорск', 'Сертолово', 'Сестрорецк', 'Сланцы', 'Сосновый Бор',\n",
       "       'Сясьстрой', 'Тихвин', 'Тосно', 'Шлиссельбург',\n",
       "       'городской поселок Большая Ижора', 'городской поселок Янино-1',\n",
       "       'городской посёлок Будогощь', 'городской посёлок Виллози',\n",
       "       'городской посёлок Лесогорский', 'городской посёлок Мга',\n",
       "       'городской посёлок Назия', 'городской посёлок Новоселье',\n",
       "       'городской посёлок Павлово', 'городской посёлок Рощино',\n",
       "       'городской посёлок Свирьстрой', 'городской посёлок Советский',\n",
       "       'городской посёлок Фёдоровское', 'городской посёлок Янино-1',\n",
       "       'деревня Агалатово', 'деревня Аро', 'деревня Батово',\n",
       "       'деревня Бегуницы', 'деревня Белогорка', 'деревня Большая Вруда',\n",
       "       'деревня Большая Пустомержа', 'деревня Большие Колпаны',\n",
       "       'деревня Большое Рейзино', 'деревня Большой Сабск', 'деревня Бор',\n",
       "       'деревня Борисова Грива', 'деревня Ваганово', 'деревня Вартемяги',\n",
       "       'деревня Вахнова Кара', 'деревня Выскатка', 'деревня Гарболово',\n",
       "       'деревня Глинка', 'деревня Горбунки', 'деревня Гостилицы',\n",
       "       'деревня Заклинье', 'деревня Заневка', 'деревня Зимитицы',\n",
       "       'деревня Извара', 'деревня Иссад', 'деревня Калитино',\n",
       "       'деревня Кальтино', 'деревня Камышовка', 'деревня Каськово',\n",
       "       'деревня Келози', 'деревня Кипень', 'деревня Кисельня',\n",
       "       'деревня Колтуши', 'деревня Коркино', 'деревня Котлы',\n",
       "       'деревня Кривко', 'деревня Кудрово', 'деревня Кузьмолово',\n",
       "       'деревня Курковицы', 'деревня Куровицы', 'деревня Куттузи',\n",
       "       'деревня Лаврики', 'деревня Лаголово', 'деревня Лампово',\n",
       "       'деревня Лесколово', 'деревня Лопухинка', 'деревня Лупполово',\n",
       "       'деревня Малая Романовка', 'деревня Малое Верево',\n",
       "       'деревня Малое Карлино', 'деревня Малые Колпаны',\n",
       "       'деревня Мануйлово', 'деревня Меньково', 'деревня Мины',\n",
       "       'деревня Мистолово', 'деревня Ненимяки', 'деревня Нижние Осельки',\n",
       "       'деревня Нижняя', 'деревня Низино', 'деревня Новое Девяткино',\n",
       "       'деревня Новолисино', 'деревня Нурма', 'деревня Оржицы',\n",
       "       'деревня Парицы', 'деревня Пельгора', 'деревня Пеники',\n",
       "       'деревня Пижма', 'деревня Пикколово', 'деревня Пудомяги',\n",
       "       'деревня Пустынка', 'деревня Пчева', 'деревня Рабитицы',\n",
       "       'деревня Разбегаево', 'деревня Раздолье', 'деревня Разметелево',\n",
       "       'деревня Рапполово', 'деревня Реброво', 'деревня Русско',\n",
       "       'деревня Сижно', 'деревня Снегирёвка', 'деревня Старая',\n",
       "       'деревня Старая Пустошь', 'деревня Старое Хинколово',\n",
       "       'деревня Старополье', 'деревня Старосиверская',\n",
       "       'деревня Старые Бегуницы', 'деревня Суоранда',\n",
       "       'деревня Сяськелево', 'деревня Тарасово', 'деревня Терпилицы',\n",
       "       'деревня Тихковицы', 'деревня Тойворово', 'деревня Торосово',\n",
       "       'деревня Торошковичи', 'деревня Трубников Бор',\n",
       "       'деревня Фалилеево', 'деревня Фёдоровское', 'деревня Хапо-Ое',\n",
       "       'деревня Хязельки', 'деревня Чудской Бор', 'деревня Шпаньково',\n",
       "       'деревня Щеглово', 'деревня Юкки', 'деревня Ялгино',\n",
       "       'деревня Яльгелево', 'деревня Ям-Тесово',\n",
       "       'коттеджный поселок Кивеннапа Север', 'коттеджный поселок Счастье',\n",
       "       'коттеджный посёлок Лесное', 'поселок Аннино', 'поселок Барышево',\n",
       "       'поселок Бугры', 'поселок Возрождение', 'поселок Войсковицы',\n",
       "       'поселок Володарское', 'поселок Гаврилово', 'поселок Гарболово',\n",
       "       'поселок Гладкое', 'поселок Глажево', 'поселок Глебычево',\n",
       "       'поселок Гончарово', 'поселок Громово', 'поселок Дружноселье',\n",
       "       'поселок Елизаветино', 'поселок Жилгородок', 'поселок Жилпосёлок',\n",
       "       'поселок Житково', 'поселок Заводской', 'поселок Запорожское',\n",
       "       'поселок Зимитицы', 'поселок Ильичёво', 'поселок Калитино',\n",
       "       'поселок Каложицы', 'поселок Кингисеппский', 'поселок Кирпичное',\n",
       "       'поселок Кобралово', 'поселок Кобринское', 'поселок Коммунары',\n",
       "       'поселок Коробицыно', 'поселок Котельский',\n",
       "       'поселок Красная Долина', 'поселок Красносельское',\n",
       "       'поселок Лесное', 'поселок Лисий Нос', 'поселок Лукаши',\n",
       "       'поселок Любань', 'поселок Мельниково', 'поселок Мичуринское',\n",
       "       'поселок Молодцово', 'поселок Мурино', 'поселок Новый Свет',\n",
       "       'поселок Новый Учхоз', 'поселок Оредеж',\n",
       "       'поселок Пансионат Зелёный Бор', 'поселок Первомайское',\n",
       "       'поселок Перово', 'поселок Петровское', 'поселок Победа',\n",
       "       'поселок Поляны', 'поселок Почап', 'поселок Починок',\n",
       "       'поселок Пушное', 'поселок Пчевжа', 'поселок Рабитицы',\n",
       "       'поселок Романовка', 'поселок Ромашки', 'поселок Рябово',\n",
       "       'поселок Севастьяново', 'поселок Селезнёво', 'поселок Сельцо',\n",
       "       'поселок Семиозерье', 'поселок Семрино', 'поселок Серебрянский',\n",
       "       'поселок Совхозный', 'поселок Старая Малукса',\n",
       "       'поселок Стеклянный', 'поселок Сумино', 'поселок Суходолье',\n",
       "       'поселок Тельмана', 'поселок Терволово', 'поселок Торковичи',\n",
       "       'поселок Тёсово-4', 'поселок Углово', 'поселок Усть-Луга',\n",
       "       'поселок Ушаки', 'поселок Цвелодубово', 'поселок Цвылёво',\n",
       "       'поселок городского типа Большая Ижора',\n",
       "       'поселок городского типа Вырица',\n",
       "       'поселок городского типа Дружная Горка',\n",
       "       'поселок городского типа Дубровка',\n",
       "       'поселок городского типа Ефимовский',\n",
       "       'поселок городского типа Кондратьево',\n",
       "       'поселок городского типа Красный Бор',\n",
       "       'поселок городского типа Кузьмоловский',\n",
       "       'поселок городского типа Лебяжье',\n",
       "       'поселок городского типа Лесогорский',\n",
       "       'поселок городского типа Назия',\n",
       "       'поселок городского типа Никольский',\n",
       "       'поселок городского типа Приладожский',\n",
       "       'поселок городского типа Рахья', 'поселок городского типа Рощино',\n",
       "       'поселок городского типа Рябово',\n",
       "       'поселок городского типа Синявино',\n",
       "       'поселок городского типа Советский',\n",
       "       'поселок городского типа Токсово',\n",
       "       'поселок городского типа Форносово',\n",
       "       'поселок городского типа имени Свердлова',\n",
       "       'поселок станции Вещево', 'поселок станции Корнево',\n",
       "       'поселок станции Лужайка', 'поселок станции Приветнинское',\n",
       "       'посёлок Александровская', 'посёлок Алексеевка', 'посёлок Аннино',\n",
       "       'посёлок Белоостров', 'посёлок Бугры', 'посёлок Возрождение',\n",
       "       'посёлок Войскорово', 'посёлок Высокоключевой',\n",
       "       'посёлок Гаврилово', 'посёлок Дзержинского', 'посёлок Жилгородок',\n",
       "       'посёлок Ильичёво', 'посёлок Кикерино', 'посёлок Кобралово',\n",
       "       'посёлок Коробицыно', 'посёлок Левашово', 'посёлок Ленинское',\n",
       "       'посёлок Лисий Нос', 'посёлок Мельниково', 'посёлок Металлострой',\n",
       "       'посёлок Мичуринское', 'посёлок Молодёжное', 'посёлок Мурино',\n",
       "       'посёлок Мыза-Ивановка', 'посёлок Новогорелово',\n",
       "       'посёлок Новый Свет', 'посёлок Пансионат Зелёный Бор',\n",
       "       'посёлок Парголово', 'посёлок Перово', 'посёлок Песочный',\n",
       "       'посёлок Петро-Славянка', 'посёлок Петровское',\n",
       "       'посёлок Платформа 69-й километр', 'посёлок Плодовое',\n",
       "       'посёлок Плоское', 'посёлок Победа', 'посёлок Поляны',\n",
       "       'посёлок Понтонный', 'посёлок Пригородный', 'посёлок Пудость',\n",
       "       'посёлок Репино', 'посёлок Ропша', 'посёлок Сапёрное',\n",
       "       'посёлок Сапёрный', 'посёлок Сосново', 'посёлок Старая Малукса',\n",
       "       'посёлок Стеклянный', 'посёлок Стрельна', 'посёлок Суйда',\n",
       "       'посёлок Сумино', 'посёлок Тельмана', 'посёлок Терволово',\n",
       "       'посёлок Торфяное', 'посёлок Усть-Ижора', 'посёлок Усть-Луга',\n",
       "       'посёлок Форт Красная Горка', 'посёлок Шугозеро', 'посёлок Шушары',\n",
       "       'посёлок Щеглово', 'посёлок городского типа Важины',\n",
       "       'посёлок городского типа Вознесенье',\n",
       "       'посёлок городского типа Вырица',\n",
       "       'посёлок городского типа Красный Бор',\n",
       "       'посёлок городского типа Кузнечное',\n",
       "       'посёлок городского типа Кузьмоловский',\n",
       "       'посёлок городского типа Лебяжье', 'посёлок городского типа Мга',\n",
       "       'посёлок городского типа Павлово',\n",
       "       'посёлок городского типа Рощино', 'посёлок городского типа Рябово',\n",
       "       'посёлок городского типа Сиверский',\n",
       "       'посёлок городского типа Тайцы', 'посёлок городского типа Токсово',\n",
       "       'посёлок городского типа Ульяновка',\n",
       "       'посёлок городского типа Форносово',\n",
       "       'посёлок городского типа имени Морозова',\n",
       "       'посёлок городского типа имени Свердлова',\n",
       "       'посёлок при железнодорожной станции Вещево',\n",
       "       'посёлок при железнодорожной станции Приветнинское',\n",
       "       'посёлок станции Громово', 'посёлок станции Свирь',\n",
       "       'садоводческое некоммерческое товарищество Лесная Поляна',\n",
       "       'садовое товарищество Новая Ропша',\n",
       "       'садовое товарищество Приладожский', 'садовое товарищество Рахья',\n",
       "       'садовое товарищество Садко', 'село Копорье', 'село Никольское',\n",
       "       'село Павлово', 'село Паша', 'село Путилово', 'село Рождествено',\n",
       "       'село Русско-Высоцкое', 'село Старая Ладога', 'село Шум'],\n",
       "      dtype=object)"
      ]
     },
     "execution_count": 43,
     "metadata": {},
     "output_type": "execute_result"
    }
   ],
   "source": [
    "# unique values of 'locality_name' column\n",
    "data['locality_name'].sort_values().unique()"
   ]
  },
  {
   "cell_type": "markdown",
   "metadata": {},
   "source": [
    "Есть несколько значений для одних и тех же населенных пунктов (например, \"Кудрино\" и \"деревня Кудрино\"). Устраним такие дубликаты, оставив только последнее слово в каждом из значений `locality_name`."
   ]
  },
  {
   "cell_type": "code",
   "execution_count": 44,
   "metadata": {},
   "outputs": [
    {
     "data": {
      "text/html": [
       "<div>\n",
       "<style scoped>\n",
       "    .dataframe tbody tr th:only-of-type {\n",
       "        vertical-align: middle;\n",
       "    }\n",
       "\n",
       "    .dataframe tbody tr th {\n",
       "        vertical-align: top;\n",
       "    }\n",
       "\n",
       "    .dataframe thead th {\n",
       "        text-align: right;\n",
       "    }\n",
       "</style>\n",
       "<table border=\"1\" class=\"dataframe\">\n",
       "  <thead>\n",
       "    <tr style=\"text-align: right;\">\n",
       "      <th></th>\n",
       "      <th>total_images</th>\n",
       "      <th>last_price</th>\n",
       "      <th>total_area</th>\n",
       "      <th>first_day_exposition</th>\n",
       "      <th>rooms</th>\n",
       "      <th>ceiling_height</th>\n",
       "      <th>floors_total</th>\n",
       "      <th>living_area</th>\n",
       "      <th>floor</th>\n",
       "      <th>is_apartment</th>\n",
       "      <th>...</th>\n",
       "      <th>balconies_number</th>\n",
       "      <th>locality_name</th>\n",
       "      <th>airport_distance</th>\n",
       "      <th>city_center_distance</th>\n",
       "      <th>parks_around_3000_number</th>\n",
       "      <th>park_distance</th>\n",
       "      <th>ponds_around_3000_number</th>\n",
       "      <th>pond_distance</th>\n",
       "      <th>days_exposition</th>\n",
       "      <th>temp_locality_name</th>\n",
       "    </tr>\n",
       "  </thead>\n",
       "  <tbody>\n",
       "    <tr>\n",
       "      <th>0</th>\n",
       "      <td>20</td>\n",
       "      <td>13000000.0</td>\n",
       "      <td>108.00</td>\n",
       "      <td>2019-03-07</td>\n",
       "      <td>3</td>\n",
       "      <td>2.70</td>\n",
       "      <td>16</td>\n",
       "      <td>51.0</td>\n",
       "      <td>8</td>\n",
       "      <td>False</td>\n",
       "      <td>...</td>\n",
       "      <td>0</td>\n",
       "      <td>Санкт-Петербург</td>\n",
       "      <td>18863.0</td>\n",
       "      <td>16028.0</td>\n",
       "      <td>1.0</td>\n",
       "      <td>482.0</td>\n",
       "      <td>2.0</td>\n",
       "      <td>755.0</td>\n",
       "      <td>0</td>\n",
       "      <td>Санкт-Петербург</td>\n",
       "    </tr>\n",
       "    <tr>\n",
       "      <th>1</th>\n",
       "      <td>7</td>\n",
       "      <td>3350000.0</td>\n",
       "      <td>40.40</td>\n",
       "      <td>2018-12-04</td>\n",
       "      <td>1</td>\n",
       "      <td>2.65</td>\n",
       "      <td>11</td>\n",
       "      <td>18.6</td>\n",
       "      <td>1</td>\n",
       "      <td>False</td>\n",
       "      <td>...</td>\n",
       "      <td>2</td>\n",
       "      <td>посёлок Шушары</td>\n",
       "      <td>12817.0</td>\n",
       "      <td>18603.0</td>\n",
       "      <td>0.0</td>\n",
       "      <td>NaN</td>\n",
       "      <td>0.0</td>\n",
       "      <td>NaN</td>\n",
       "      <td>81</td>\n",
       "      <td>Шушары</td>\n",
       "    </tr>\n",
       "    <tr>\n",
       "      <th>2</th>\n",
       "      <td>10</td>\n",
       "      <td>5196000.0</td>\n",
       "      <td>56.00</td>\n",
       "      <td>2015-08-20</td>\n",
       "      <td>2</td>\n",
       "      <td>2.65</td>\n",
       "      <td>5</td>\n",
       "      <td>34.3</td>\n",
       "      <td>4</td>\n",
       "      <td>False</td>\n",
       "      <td>...</td>\n",
       "      <td>0</td>\n",
       "      <td>Санкт-Петербург</td>\n",
       "      <td>21741.0</td>\n",
       "      <td>13933.0</td>\n",
       "      <td>1.0</td>\n",
       "      <td>90.0</td>\n",
       "      <td>2.0</td>\n",
       "      <td>574.0</td>\n",
       "      <td>558</td>\n",
       "      <td>Санкт-Петербург</td>\n",
       "    </tr>\n",
       "    <tr>\n",
       "      <th>3</th>\n",
       "      <td>0</td>\n",
       "      <td>64900000.0</td>\n",
       "      <td>159.00</td>\n",
       "      <td>2015-07-24</td>\n",
       "      <td>3</td>\n",
       "      <td>2.65</td>\n",
       "      <td>14</td>\n",
       "      <td>0.0</td>\n",
       "      <td>9</td>\n",
       "      <td>False</td>\n",
       "      <td>...</td>\n",
       "      <td>0</td>\n",
       "      <td>Санкт-Петербург</td>\n",
       "      <td>28098.0</td>\n",
       "      <td>6800.0</td>\n",
       "      <td>2.0</td>\n",
       "      <td>84.0</td>\n",
       "      <td>3.0</td>\n",
       "      <td>234.0</td>\n",
       "      <td>424</td>\n",
       "      <td>Санкт-Петербург</td>\n",
       "    </tr>\n",
       "    <tr>\n",
       "      <th>4</th>\n",
       "      <td>2</td>\n",
       "      <td>10000000.0</td>\n",
       "      <td>100.00</td>\n",
       "      <td>2018-06-19</td>\n",
       "      <td>2</td>\n",
       "      <td>3.03</td>\n",
       "      <td>14</td>\n",
       "      <td>32.0</td>\n",
       "      <td>13</td>\n",
       "      <td>False</td>\n",
       "      <td>...</td>\n",
       "      <td>0</td>\n",
       "      <td>Санкт-Петербург</td>\n",
       "      <td>31856.0</td>\n",
       "      <td>8098.0</td>\n",
       "      <td>2.0</td>\n",
       "      <td>112.0</td>\n",
       "      <td>1.0</td>\n",
       "      <td>48.0</td>\n",
       "      <td>121</td>\n",
       "      <td>Санкт-Петербург</td>\n",
       "    </tr>\n",
       "    <tr>\n",
       "      <th>...</th>\n",
       "      <td>...</td>\n",
       "      <td>...</td>\n",
       "      <td>...</td>\n",
       "      <td>...</td>\n",
       "      <td>...</td>\n",
       "      <td>...</td>\n",
       "      <td>...</td>\n",
       "      <td>...</td>\n",
       "      <td>...</td>\n",
       "      <td>...</td>\n",
       "      <td>...</td>\n",
       "      <td>...</td>\n",
       "      <td>...</td>\n",
       "      <td>...</td>\n",
       "      <td>...</td>\n",
       "      <td>...</td>\n",
       "      <td>...</td>\n",
       "      <td>...</td>\n",
       "      <td>...</td>\n",
       "      <td>...</td>\n",
       "      <td>...</td>\n",
       "    </tr>\n",
       "    <tr>\n",
       "      <th>23694</th>\n",
       "      <td>9</td>\n",
       "      <td>9700000.0</td>\n",
       "      <td>133.81</td>\n",
       "      <td>2017-03-21</td>\n",
       "      <td>3</td>\n",
       "      <td>3.70</td>\n",
       "      <td>5</td>\n",
       "      <td>73.3</td>\n",
       "      <td>3</td>\n",
       "      <td>False</td>\n",
       "      <td>...</td>\n",
       "      <td>0</td>\n",
       "      <td>Санкт-Петербург</td>\n",
       "      <td>24665.0</td>\n",
       "      <td>4232.0</td>\n",
       "      <td>1.0</td>\n",
       "      <td>796.0</td>\n",
       "      <td>3.0</td>\n",
       "      <td>381.0</td>\n",
       "      <td>0</td>\n",
       "      <td>Санкт-Петербург</td>\n",
       "    </tr>\n",
       "    <tr>\n",
       "      <th>23695</th>\n",
       "      <td>14</td>\n",
       "      <td>3100000.0</td>\n",
       "      <td>59.00</td>\n",
       "      <td>2018-01-15</td>\n",
       "      <td>3</td>\n",
       "      <td>2.65</td>\n",
       "      <td>5</td>\n",
       "      <td>38.0</td>\n",
       "      <td>4</td>\n",
       "      <td>False</td>\n",
       "      <td>...</td>\n",
       "      <td>0</td>\n",
       "      <td>Тосно</td>\n",
       "      <td>NaN</td>\n",
       "      <td>NaN</td>\n",
       "      <td>NaN</td>\n",
       "      <td>NaN</td>\n",
       "      <td>NaN</td>\n",
       "      <td>NaN</td>\n",
       "      <td>45</td>\n",
       "      <td>Тосно</td>\n",
       "    </tr>\n",
       "    <tr>\n",
       "      <th>23696</th>\n",
       "      <td>18</td>\n",
       "      <td>2500000.0</td>\n",
       "      <td>56.70</td>\n",
       "      <td>2018-02-11</td>\n",
       "      <td>2</td>\n",
       "      <td>2.65</td>\n",
       "      <td>3</td>\n",
       "      <td>29.7</td>\n",
       "      <td>1</td>\n",
       "      <td>False</td>\n",
       "      <td>...</td>\n",
       "      <td>0</td>\n",
       "      <td>село Рождествено</td>\n",
       "      <td>NaN</td>\n",
       "      <td>NaN</td>\n",
       "      <td>NaN</td>\n",
       "      <td>NaN</td>\n",
       "      <td>NaN</td>\n",
       "      <td>NaN</td>\n",
       "      <td>0</td>\n",
       "      <td>Рождествено</td>\n",
       "    </tr>\n",
       "    <tr>\n",
       "      <th>23697</th>\n",
       "      <td>13</td>\n",
       "      <td>11475000.0</td>\n",
       "      <td>76.75</td>\n",
       "      <td>2017-03-28</td>\n",
       "      <td>2</td>\n",
       "      <td>3.00</td>\n",
       "      <td>17</td>\n",
       "      <td>0.0</td>\n",
       "      <td>12</td>\n",
       "      <td>False</td>\n",
       "      <td>...</td>\n",
       "      <td>2</td>\n",
       "      <td>Санкт-Петербург</td>\n",
       "      <td>39140.0</td>\n",
       "      <td>10364.0</td>\n",
       "      <td>2.0</td>\n",
       "      <td>173.0</td>\n",
       "      <td>3.0</td>\n",
       "      <td>196.0</td>\n",
       "      <td>602</td>\n",
       "      <td>Санкт-Петербург</td>\n",
       "    </tr>\n",
       "    <tr>\n",
       "      <th>23698</th>\n",
       "      <td>4</td>\n",
       "      <td>1350000.0</td>\n",
       "      <td>32.30</td>\n",
       "      <td>2017-07-21</td>\n",
       "      <td>1</td>\n",
       "      <td>2.50</td>\n",
       "      <td>5</td>\n",
       "      <td>12.3</td>\n",
       "      <td>1</td>\n",
       "      <td>False</td>\n",
       "      <td>...</td>\n",
       "      <td>0</td>\n",
       "      <td>поселок Новый Учхоз</td>\n",
       "      <td>NaN</td>\n",
       "      <td>NaN</td>\n",
       "      <td>NaN</td>\n",
       "      <td>NaN</td>\n",
       "      <td>NaN</td>\n",
       "      <td>NaN</td>\n",
       "      <td>0</td>\n",
       "      <td>Учхоз</td>\n",
       "    </tr>\n",
       "  </tbody>\n",
       "</table>\n",
       "<p>23699 rows × 23 columns</p>\n",
       "</div>"
      ],
      "text/plain": [
       "       total_images  last_price  total_area first_day_exposition  rooms  \\\n",
       "0                20  13000000.0      108.00           2019-03-07      3   \n",
       "1                 7   3350000.0       40.40           2018-12-04      1   \n",
       "2                10   5196000.0       56.00           2015-08-20      2   \n",
       "3                 0  64900000.0      159.00           2015-07-24      3   \n",
       "4                 2  10000000.0      100.00           2018-06-19      2   \n",
       "...             ...         ...         ...                  ...    ...   \n",
       "23694             9   9700000.0      133.81           2017-03-21      3   \n",
       "23695            14   3100000.0       59.00           2018-01-15      3   \n",
       "23696            18   2500000.0       56.70           2018-02-11      2   \n",
       "23697            13  11475000.0       76.75           2017-03-28      2   \n",
       "23698             4   1350000.0       32.30           2017-07-21      1   \n",
       "\n",
       "       ceiling_height  floors_total  living_area  floor  is_apartment  ...  \\\n",
       "0                2.70            16         51.0      8         False  ...   \n",
       "1                2.65            11         18.6      1         False  ...   \n",
       "2                2.65             5         34.3      4         False  ...   \n",
       "3                2.65            14          0.0      9         False  ...   \n",
       "4                3.03            14         32.0     13         False  ...   \n",
       "...               ...           ...          ...    ...           ...  ...   \n",
       "23694            3.70             5         73.3      3         False  ...   \n",
       "23695            2.65             5         38.0      4         False  ...   \n",
       "23696            2.65             3         29.7      1         False  ...   \n",
       "23697            3.00            17          0.0     12         False  ...   \n",
       "23698            2.50             5         12.3      1         False  ...   \n",
       "\n",
       "       balconies_number        locality_name  airport_distance  \\\n",
       "0                     0      Санкт-Петербург           18863.0   \n",
       "1                     2       посёлок Шушары           12817.0   \n",
       "2                     0      Санкт-Петербург           21741.0   \n",
       "3                     0      Санкт-Петербург           28098.0   \n",
       "4                     0      Санкт-Петербург           31856.0   \n",
       "...                 ...                  ...               ...   \n",
       "23694                 0      Санкт-Петербург           24665.0   \n",
       "23695                 0                Тосно               NaN   \n",
       "23696                 0     село Рождествено               NaN   \n",
       "23697                 2      Санкт-Петербург           39140.0   \n",
       "23698                 0  поселок Новый Учхоз               NaN   \n",
       "\n",
       "       city_center_distance parks_around_3000_number  park_distance  \\\n",
       "0                   16028.0                      1.0          482.0   \n",
       "1                   18603.0                      0.0            NaN   \n",
       "2                   13933.0                      1.0           90.0   \n",
       "3                    6800.0                      2.0           84.0   \n",
       "4                    8098.0                      2.0          112.0   \n",
       "...                     ...                      ...            ...   \n",
       "23694                4232.0                      1.0          796.0   \n",
       "23695                   NaN                      NaN            NaN   \n",
       "23696                   NaN                      NaN            NaN   \n",
       "23697               10364.0                      2.0          173.0   \n",
       "23698                   NaN                      NaN            NaN   \n",
       "\n",
       "       ponds_around_3000_number  pond_distance  days_exposition  \\\n",
       "0                           2.0          755.0                0   \n",
       "1                           0.0            NaN               81   \n",
       "2                           2.0          574.0              558   \n",
       "3                           3.0          234.0              424   \n",
       "4                           1.0           48.0              121   \n",
       "...                         ...            ...              ...   \n",
       "23694                       3.0          381.0                0   \n",
       "23695                       NaN            NaN               45   \n",
       "23696                       NaN            NaN                0   \n",
       "23697                       3.0          196.0              602   \n",
       "23698                       NaN            NaN                0   \n",
       "\n",
       "       temp_locality_name  \n",
       "0         Санкт-Петербург  \n",
       "1                  Шушары  \n",
       "2         Санкт-Петербург  \n",
       "3         Санкт-Петербург  \n",
       "4         Санкт-Петербург  \n",
       "...                   ...  \n",
       "23694     Санкт-Петербург  \n",
       "23695               Тосно  \n",
       "23696         Рождествено  \n",
       "23697     Санкт-Петербург  \n",
       "23698               Учхоз  \n",
       "\n",
       "[23699 rows x 23 columns]"
      ]
     },
     "execution_count": 44,
     "metadata": {},
     "output_type": "execute_result"
    }
   ],
   "source": [
    "def last_word(s):\n",
    "    '''\n",
    "    Leaves only last word of a string.\n",
    "    '''\n",
    "    return str(s).split(' ')[-1]\n",
    "data['temp_locality_name'] = data['locality_name'].apply(last_word)\n",
    "data"
   ]
  },
  {
   "cell_type": "markdown",
   "metadata": {},
   "source": [
    "Посчитаем разность длин Series c нижним регистром и без него."
   ]
  },
  {
   "cell_type": "code",
   "execution_count": 45,
   "metadata": {},
   "outputs": [
    {
     "name": "stdout",
     "output_type": "stream",
     "text": [
      "0\n"
     ]
    }
   ],
   "source": [
    "print(len(data['locality_name'].sort_values().unique()) - len(data['locality_name'].str.lower().sort_values().unique()))"
   ]
  },
  {
   "cell_type": "markdown",
   "metadata": {},
   "source": [
    "Дубликатов не обнаружено."
   ]
  },
  {
   "cell_type": "markdown",
   "metadata": {},
   "source": [
    "### Вывод"
   ]
  },
  {
   "cell_type": "markdown",
   "metadata": {},
   "source": [
    "Была выполнена предобработка данных. Столбцы `studio`, `open_plan`, `balcony`, `airports_nearest`, `cityCenters_nearest`, `parks_around3000`, `parks_nearest`, `ponds_around3000`, `ponds_nearest` переименованы в `is_studio`, `is_free_layout`, `balconies_number`, `airport_distance`, `city_center_distance`, `parks_around_3000_number`, `park_distance`, `ponds_around_3000_number`, `pond_distance` для исправления стилистических ошибок и придания корректности названиям.\n",
    "\n",
    "Были заполнены пропущенные значения в столбцах, которые заполняются пользователем, а также был отправлен о отчет о некорректных данных в столбцах, которые должны заполняться автоматически.\n",
    "\n",
    "Был заменен тип данных в столбцах `floors_total`, `balconies_number` и `days_exposition` с  'float' на 'int'.\n",
    "Также тип данных столбца `first_day_exposition` изменен на 'datetime'.\n",
    "\n",
    "Были устранены явные дубликаты в столбце `locality_name`."
   ]
  },
  {
   "cell_type": "markdown",
   "metadata": {},
   "source": [
    "## Добавление новых столбцов"
   ]
  },
  {
   "cell_type": "markdown",
   "metadata": {},
   "source": [
    "Добавим столбец со значениями цены квадратного метра."
   ]
  },
  {
   "cell_type": "code",
   "execution_count": 46,
   "metadata": {},
   "outputs": [],
   "source": [
    "data['price_per_sq_m'] = data['last_price'] / data['total_area']"
   ]
  },
  {
   "cell_type": "markdown",
   "metadata": {},
   "source": [
    "Добавим столбцы со значениями дня недели, месяца и года публикации объявления."
   ]
  },
  {
   "cell_type": "code",
   "execution_count": 47,
   "metadata": {},
   "outputs": [],
   "source": [
    "# ad 'weekday', 'month', 'year' columns\n",
    "data['weekday'] = data['first_day_exposition'].dt.weekday \n",
    "data['month'] = data['first_day_exposition'].dt.month\n",
    "data['year'] = data['first_day_exposition'].dt.year"
   ]
  },
  {
   "cell_type": "code",
   "execution_count": 48,
   "metadata": {},
   "outputs": [
    {
     "data": {
      "text/html": [
       "<div>\n",
       "<style scoped>\n",
       "    .dataframe tbody tr th:only-of-type {\n",
       "        vertical-align: middle;\n",
       "    }\n",
       "\n",
       "    .dataframe tbody tr th {\n",
       "        vertical-align: top;\n",
       "    }\n",
       "\n",
       "    .dataframe thead th {\n",
       "        text-align: right;\n",
       "    }\n",
       "</style>\n",
       "<table border=\"1\" class=\"dataframe\">\n",
       "  <thead>\n",
       "    <tr style=\"text-align: right;\">\n",
       "      <th></th>\n",
       "      <th>total_images</th>\n",
       "      <th>last_price</th>\n",
       "      <th>total_area</th>\n",
       "      <th>first_day_exposition</th>\n",
       "      <th>rooms</th>\n",
       "      <th>ceiling_height</th>\n",
       "      <th>floors_total</th>\n",
       "      <th>living_area</th>\n",
       "      <th>floor</th>\n",
       "      <th>is_apartment</th>\n",
       "      <th>...</th>\n",
       "      <th>parks_around_3000_number</th>\n",
       "      <th>park_distance</th>\n",
       "      <th>ponds_around_3000_number</th>\n",
       "      <th>pond_distance</th>\n",
       "      <th>days_exposition</th>\n",
       "      <th>temp_locality_name</th>\n",
       "      <th>price_per_sq_m</th>\n",
       "      <th>weekday</th>\n",
       "      <th>month</th>\n",
       "      <th>year</th>\n",
       "    </tr>\n",
       "  </thead>\n",
       "  <tbody>\n",
       "    <tr>\n",
       "      <th>0</th>\n",
       "      <td>20</td>\n",
       "      <td>13000000.0</td>\n",
       "      <td>108.0</td>\n",
       "      <td>2019-03-07</td>\n",
       "      <td>3</td>\n",
       "      <td>2.70</td>\n",
       "      <td>16</td>\n",
       "      <td>51.0</td>\n",
       "      <td>8</td>\n",
       "      <td>False</td>\n",
       "      <td>...</td>\n",
       "      <td>1.0</td>\n",
       "      <td>482.0</td>\n",
       "      <td>2.0</td>\n",
       "      <td>755.0</td>\n",
       "      <td>0</td>\n",
       "      <td>Санкт-Петербург</td>\n",
       "      <td>120370.370370</td>\n",
       "      <td>3</td>\n",
       "      <td>3</td>\n",
       "      <td>2019</td>\n",
       "    </tr>\n",
       "    <tr>\n",
       "      <th>1</th>\n",
       "      <td>7</td>\n",
       "      <td>3350000.0</td>\n",
       "      <td>40.4</td>\n",
       "      <td>2018-12-04</td>\n",
       "      <td>1</td>\n",
       "      <td>2.65</td>\n",
       "      <td>11</td>\n",
       "      <td>18.6</td>\n",
       "      <td>1</td>\n",
       "      <td>False</td>\n",
       "      <td>...</td>\n",
       "      <td>0.0</td>\n",
       "      <td>NaN</td>\n",
       "      <td>0.0</td>\n",
       "      <td>NaN</td>\n",
       "      <td>81</td>\n",
       "      <td>Шушары</td>\n",
       "      <td>82920.792079</td>\n",
       "      <td>1</td>\n",
       "      <td>12</td>\n",
       "      <td>2018</td>\n",
       "    </tr>\n",
       "    <tr>\n",
       "      <th>2</th>\n",
       "      <td>10</td>\n",
       "      <td>5196000.0</td>\n",
       "      <td>56.0</td>\n",
       "      <td>2015-08-20</td>\n",
       "      <td>2</td>\n",
       "      <td>2.65</td>\n",
       "      <td>5</td>\n",
       "      <td>34.3</td>\n",
       "      <td>4</td>\n",
       "      <td>False</td>\n",
       "      <td>...</td>\n",
       "      <td>1.0</td>\n",
       "      <td>90.0</td>\n",
       "      <td>2.0</td>\n",
       "      <td>574.0</td>\n",
       "      <td>558</td>\n",
       "      <td>Санкт-Петербург</td>\n",
       "      <td>92785.714286</td>\n",
       "      <td>3</td>\n",
       "      <td>8</td>\n",
       "      <td>2015</td>\n",
       "    </tr>\n",
       "    <tr>\n",
       "      <th>3</th>\n",
       "      <td>0</td>\n",
       "      <td>64900000.0</td>\n",
       "      <td>159.0</td>\n",
       "      <td>2015-07-24</td>\n",
       "      <td>3</td>\n",
       "      <td>2.65</td>\n",
       "      <td>14</td>\n",
       "      <td>0.0</td>\n",
       "      <td>9</td>\n",
       "      <td>False</td>\n",
       "      <td>...</td>\n",
       "      <td>2.0</td>\n",
       "      <td>84.0</td>\n",
       "      <td>3.0</td>\n",
       "      <td>234.0</td>\n",
       "      <td>424</td>\n",
       "      <td>Санкт-Петербург</td>\n",
       "      <td>408176.100629</td>\n",
       "      <td>4</td>\n",
       "      <td>7</td>\n",
       "      <td>2015</td>\n",
       "    </tr>\n",
       "    <tr>\n",
       "      <th>4</th>\n",
       "      <td>2</td>\n",
       "      <td>10000000.0</td>\n",
       "      <td>100.0</td>\n",
       "      <td>2018-06-19</td>\n",
       "      <td>2</td>\n",
       "      <td>3.03</td>\n",
       "      <td>14</td>\n",
       "      <td>32.0</td>\n",
       "      <td>13</td>\n",
       "      <td>False</td>\n",
       "      <td>...</td>\n",
       "      <td>2.0</td>\n",
       "      <td>112.0</td>\n",
       "      <td>1.0</td>\n",
       "      <td>48.0</td>\n",
       "      <td>121</td>\n",
       "      <td>Санкт-Петербург</td>\n",
       "      <td>100000.000000</td>\n",
       "      <td>1</td>\n",
       "      <td>6</td>\n",
       "      <td>2018</td>\n",
       "    </tr>\n",
       "  </tbody>\n",
       "</table>\n",
       "<p>5 rows × 27 columns</p>\n",
       "</div>"
      ],
      "text/plain": [
       "   total_images  last_price  total_area first_day_exposition  rooms  \\\n",
       "0            20  13000000.0       108.0           2019-03-07      3   \n",
       "1             7   3350000.0        40.4           2018-12-04      1   \n",
       "2            10   5196000.0        56.0           2015-08-20      2   \n",
       "3             0  64900000.0       159.0           2015-07-24      3   \n",
       "4             2  10000000.0       100.0           2018-06-19      2   \n",
       "\n",
       "   ceiling_height  floors_total  living_area  floor  is_apartment  ...  \\\n",
       "0            2.70            16         51.0      8         False  ...   \n",
       "1            2.65            11         18.6      1         False  ...   \n",
       "2            2.65             5         34.3      4         False  ...   \n",
       "3            2.65            14          0.0      9         False  ...   \n",
       "4            3.03            14         32.0     13         False  ...   \n",
       "\n",
       "   parks_around_3000_number  park_distance  ponds_around_3000_number  \\\n",
       "0                       1.0          482.0                       2.0   \n",
       "1                       0.0            NaN                       0.0   \n",
       "2                       1.0           90.0                       2.0   \n",
       "3                       2.0           84.0                       3.0   \n",
       "4                       2.0          112.0                       1.0   \n",
       "\n",
       "   pond_distance days_exposition  temp_locality_name  price_per_sq_m  weekday  \\\n",
       "0          755.0               0     Санкт-Петербург   120370.370370        3   \n",
       "1            NaN              81              Шушары    82920.792079        1   \n",
       "2          574.0             558     Санкт-Петербург    92785.714286        3   \n",
       "3          234.0             424     Санкт-Петербург   408176.100629        4   \n",
       "4           48.0             121     Санкт-Петербург   100000.000000        1   \n",
       "\n",
       "   month  year  \n",
       "0      3  2019  \n",
       "1     12  2018  \n",
       "2      8  2015  \n",
       "3      7  2015  \n",
       "4      6  2018  \n",
       "\n",
       "[5 rows x 27 columns]"
      ]
     },
     "execution_count": 48,
     "metadata": {},
     "output_type": "execute_result"
    }
   ],
   "source": [
    "# show first 5 rows\n",
    "data.head()"
   ]
  },
  {
   "cell_type": "markdown",
   "metadata": {},
   "source": [
    "Добавим столбец `floor_group`, в котором будут значения 'первый', если этаж первый, 'последний', если этаж последний (кроме того случая, если этаж еще и первый), и 'другой', если этаж не первый и не последний."
   ]
  },
  {
   "cell_type": "code",
   "execution_count": 49,
   "metadata": {},
   "outputs": [],
   "source": [
    "#"
   ]
  },
  {
   "cell_type": "code",
   "execution_count": 50,
   "metadata": {},
   "outputs": [
    {
     "data": {
      "text/html": [
       "<div>\n",
       "<style scoped>\n",
       "    .dataframe tbody tr th:only-of-type {\n",
       "        vertical-align: middle;\n",
       "    }\n",
       "\n",
       "    .dataframe tbody tr th {\n",
       "        vertical-align: top;\n",
       "    }\n",
       "\n",
       "    .dataframe thead th {\n",
       "        text-align: right;\n",
       "    }\n",
       "</style>\n",
       "<table border=\"1\" class=\"dataframe\">\n",
       "  <thead>\n",
       "    <tr style=\"text-align: right;\">\n",
       "      <th></th>\n",
       "      <th>total_images</th>\n",
       "      <th>last_price</th>\n",
       "      <th>total_area</th>\n",
       "      <th>first_day_exposition</th>\n",
       "      <th>rooms</th>\n",
       "      <th>ceiling_height</th>\n",
       "      <th>floors_total</th>\n",
       "      <th>living_area</th>\n",
       "      <th>floor</th>\n",
       "      <th>is_apartment</th>\n",
       "      <th>...</th>\n",
       "      <th>park_distance</th>\n",
       "      <th>ponds_around_3000_number</th>\n",
       "      <th>pond_distance</th>\n",
       "      <th>days_exposition</th>\n",
       "      <th>temp_locality_name</th>\n",
       "      <th>price_per_sq_m</th>\n",
       "      <th>weekday</th>\n",
       "      <th>month</th>\n",
       "      <th>year</th>\n",
       "      <th>floor_group</th>\n",
       "    </tr>\n",
       "  </thead>\n",
       "  <tbody>\n",
       "    <tr>\n",
       "      <th>0</th>\n",
       "      <td>20</td>\n",
       "      <td>13000000.0</td>\n",
       "      <td>108.00</td>\n",
       "      <td>2019-03-07</td>\n",
       "      <td>3</td>\n",
       "      <td>2.70</td>\n",
       "      <td>16</td>\n",
       "      <td>51.00</td>\n",
       "      <td>8</td>\n",
       "      <td>False</td>\n",
       "      <td>...</td>\n",
       "      <td>482.0</td>\n",
       "      <td>2.0</td>\n",
       "      <td>755.0</td>\n",
       "      <td>0</td>\n",
       "      <td>Санкт-Петербург</td>\n",
       "      <td>120370.370370</td>\n",
       "      <td>3</td>\n",
       "      <td>3</td>\n",
       "      <td>2019</td>\n",
       "      <td>другой</td>\n",
       "    </tr>\n",
       "    <tr>\n",
       "      <th>1</th>\n",
       "      <td>7</td>\n",
       "      <td>3350000.0</td>\n",
       "      <td>40.40</td>\n",
       "      <td>2018-12-04</td>\n",
       "      <td>1</td>\n",
       "      <td>2.65</td>\n",
       "      <td>11</td>\n",
       "      <td>18.60</td>\n",
       "      <td>1</td>\n",
       "      <td>False</td>\n",
       "      <td>...</td>\n",
       "      <td>NaN</td>\n",
       "      <td>0.0</td>\n",
       "      <td>NaN</td>\n",
       "      <td>81</td>\n",
       "      <td>Шушары</td>\n",
       "      <td>82920.792079</td>\n",
       "      <td>1</td>\n",
       "      <td>12</td>\n",
       "      <td>2018</td>\n",
       "      <td>первый</td>\n",
       "    </tr>\n",
       "    <tr>\n",
       "      <th>2</th>\n",
       "      <td>10</td>\n",
       "      <td>5196000.0</td>\n",
       "      <td>56.00</td>\n",
       "      <td>2015-08-20</td>\n",
       "      <td>2</td>\n",
       "      <td>2.65</td>\n",
       "      <td>5</td>\n",
       "      <td>34.30</td>\n",
       "      <td>4</td>\n",
       "      <td>False</td>\n",
       "      <td>...</td>\n",
       "      <td>90.0</td>\n",
       "      <td>2.0</td>\n",
       "      <td>574.0</td>\n",
       "      <td>558</td>\n",
       "      <td>Санкт-Петербург</td>\n",
       "      <td>92785.714286</td>\n",
       "      <td>3</td>\n",
       "      <td>8</td>\n",
       "      <td>2015</td>\n",
       "      <td>другой</td>\n",
       "    </tr>\n",
       "    <tr>\n",
       "      <th>3</th>\n",
       "      <td>0</td>\n",
       "      <td>64900000.0</td>\n",
       "      <td>159.00</td>\n",
       "      <td>2015-07-24</td>\n",
       "      <td>3</td>\n",
       "      <td>2.65</td>\n",
       "      <td>14</td>\n",
       "      <td>0.00</td>\n",
       "      <td>9</td>\n",
       "      <td>False</td>\n",
       "      <td>...</td>\n",
       "      <td>84.0</td>\n",
       "      <td>3.0</td>\n",
       "      <td>234.0</td>\n",
       "      <td>424</td>\n",
       "      <td>Санкт-Петербург</td>\n",
       "      <td>408176.100629</td>\n",
       "      <td>4</td>\n",
       "      <td>7</td>\n",
       "      <td>2015</td>\n",
       "      <td>другой</td>\n",
       "    </tr>\n",
       "    <tr>\n",
       "      <th>4</th>\n",
       "      <td>2</td>\n",
       "      <td>10000000.0</td>\n",
       "      <td>100.00</td>\n",
       "      <td>2018-06-19</td>\n",
       "      <td>2</td>\n",
       "      <td>3.03</td>\n",
       "      <td>14</td>\n",
       "      <td>32.00</td>\n",
       "      <td>13</td>\n",
       "      <td>False</td>\n",
       "      <td>...</td>\n",
       "      <td>112.0</td>\n",
       "      <td>1.0</td>\n",
       "      <td>48.0</td>\n",
       "      <td>121</td>\n",
       "      <td>Санкт-Петербург</td>\n",
       "      <td>100000.000000</td>\n",
       "      <td>1</td>\n",
       "      <td>6</td>\n",
       "      <td>2018</td>\n",
       "      <td>другой</td>\n",
       "    </tr>\n",
       "    <tr>\n",
       "      <th>5</th>\n",
       "      <td>10</td>\n",
       "      <td>2890000.0</td>\n",
       "      <td>30.40</td>\n",
       "      <td>2018-09-10</td>\n",
       "      <td>1</td>\n",
       "      <td>2.65</td>\n",
       "      <td>12</td>\n",
       "      <td>14.40</td>\n",
       "      <td>5</td>\n",
       "      <td>False</td>\n",
       "      <td>...</td>\n",
       "      <td>NaN</td>\n",
       "      <td>NaN</td>\n",
       "      <td>NaN</td>\n",
       "      <td>55</td>\n",
       "      <td>Янино-1</td>\n",
       "      <td>95065.789474</td>\n",
       "      <td>0</td>\n",
       "      <td>9</td>\n",
       "      <td>2018</td>\n",
       "      <td>другой</td>\n",
       "    </tr>\n",
       "    <tr>\n",
       "      <th>6</th>\n",
       "      <td>6</td>\n",
       "      <td>3700000.0</td>\n",
       "      <td>37.30</td>\n",
       "      <td>2017-11-02</td>\n",
       "      <td>1</td>\n",
       "      <td>2.65</td>\n",
       "      <td>26</td>\n",
       "      <td>10.60</td>\n",
       "      <td>6</td>\n",
       "      <td>False</td>\n",
       "      <td>...</td>\n",
       "      <td>NaN</td>\n",
       "      <td>0.0</td>\n",
       "      <td>NaN</td>\n",
       "      <td>155</td>\n",
       "      <td>Парголово</td>\n",
       "      <td>99195.710456</td>\n",
       "      <td>3</td>\n",
       "      <td>11</td>\n",
       "      <td>2017</td>\n",
       "      <td>другой</td>\n",
       "    </tr>\n",
       "    <tr>\n",
       "      <th>7</th>\n",
       "      <td>5</td>\n",
       "      <td>7915000.0</td>\n",
       "      <td>71.60</td>\n",
       "      <td>2019-04-18</td>\n",
       "      <td>2</td>\n",
       "      <td>2.65</td>\n",
       "      <td>24</td>\n",
       "      <td>0.00</td>\n",
       "      <td>22</td>\n",
       "      <td>False</td>\n",
       "      <td>...</td>\n",
       "      <td>NaN</td>\n",
       "      <td>0.0</td>\n",
       "      <td>NaN</td>\n",
       "      <td>0</td>\n",
       "      <td>Санкт-Петербург</td>\n",
       "      <td>110544.692737</td>\n",
       "      <td>3</td>\n",
       "      <td>4</td>\n",
       "      <td>2019</td>\n",
       "      <td>другой</td>\n",
       "    </tr>\n",
       "    <tr>\n",
       "      <th>8</th>\n",
       "      <td>20</td>\n",
       "      <td>2900000.0</td>\n",
       "      <td>33.16</td>\n",
       "      <td>2018-05-23</td>\n",
       "      <td>1</td>\n",
       "      <td>2.65</td>\n",
       "      <td>27</td>\n",
       "      <td>15.43</td>\n",
       "      <td>26</td>\n",
       "      <td>False</td>\n",
       "      <td>...</td>\n",
       "      <td>NaN</td>\n",
       "      <td>NaN</td>\n",
       "      <td>NaN</td>\n",
       "      <td>189</td>\n",
       "      <td>Мурино</td>\n",
       "      <td>87454.764777</td>\n",
       "      <td>2</td>\n",
       "      <td>5</td>\n",
       "      <td>2018</td>\n",
       "      <td>другой</td>\n",
       "    </tr>\n",
       "    <tr>\n",
       "      <th>9</th>\n",
       "      <td>18</td>\n",
       "      <td>5400000.0</td>\n",
       "      <td>61.00</td>\n",
       "      <td>2017-02-26</td>\n",
       "      <td>3</td>\n",
       "      <td>2.50</td>\n",
       "      <td>9</td>\n",
       "      <td>43.60</td>\n",
       "      <td>7</td>\n",
       "      <td>False</td>\n",
       "      <td>...</td>\n",
       "      <td>NaN</td>\n",
       "      <td>0.0</td>\n",
       "      <td>NaN</td>\n",
       "      <td>289</td>\n",
       "      <td>Санкт-Петербург</td>\n",
       "      <td>88524.590164</td>\n",
       "      <td>6</td>\n",
       "      <td>2</td>\n",
       "      <td>2017</td>\n",
       "      <td>другой</td>\n",
       "    </tr>\n",
       "  </tbody>\n",
       "</table>\n",
       "<p>10 rows × 28 columns</p>\n",
       "</div>"
      ],
      "text/plain": [
       "   total_images  last_price  total_area first_day_exposition  rooms  \\\n",
       "0            20  13000000.0      108.00           2019-03-07      3   \n",
       "1             7   3350000.0       40.40           2018-12-04      1   \n",
       "2            10   5196000.0       56.00           2015-08-20      2   \n",
       "3             0  64900000.0      159.00           2015-07-24      3   \n",
       "4             2  10000000.0      100.00           2018-06-19      2   \n",
       "5            10   2890000.0       30.40           2018-09-10      1   \n",
       "6             6   3700000.0       37.30           2017-11-02      1   \n",
       "7             5   7915000.0       71.60           2019-04-18      2   \n",
       "8            20   2900000.0       33.16           2018-05-23      1   \n",
       "9            18   5400000.0       61.00           2017-02-26      3   \n",
       "\n",
       "   ceiling_height  floors_total  living_area  floor  is_apartment  ...  \\\n",
       "0            2.70            16        51.00      8         False  ...   \n",
       "1            2.65            11        18.60      1         False  ...   \n",
       "2            2.65             5        34.30      4         False  ...   \n",
       "3            2.65            14         0.00      9         False  ...   \n",
       "4            3.03            14        32.00     13         False  ...   \n",
       "5            2.65            12        14.40      5         False  ...   \n",
       "6            2.65            26        10.60      6         False  ...   \n",
       "7            2.65            24         0.00     22         False  ...   \n",
       "8            2.65            27        15.43     26         False  ...   \n",
       "9            2.50             9        43.60      7         False  ...   \n",
       "\n",
       "   park_distance  ponds_around_3000_number  pond_distance  days_exposition  \\\n",
       "0          482.0                       2.0          755.0                0   \n",
       "1            NaN                       0.0            NaN               81   \n",
       "2           90.0                       2.0          574.0              558   \n",
       "3           84.0                       3.0          234.0              424   \n",
       "4          112.0                       1.0           48.0              121   \n",
       "5            NaN                       NaN            NaN               55   \n",
       "6            NaN                       0.0            NaN              155   \n",
       "7            NaN                       0.0            NaN                0   \n",
       "8            NaN                       NaN            NaN              189   \n",
       "9            NaN                       0.0            NaN              289   \n",
       "\n",
       "  temp_locality_name  price_per_sq_m  weekday  month  year  floor_group  \n",
       "0    Санкт-Петербург   120370.370370        3      3  2019       другой  \n",
       "1             Шушары    82920.792079        1     12  2018       первый  \n",
       "2    Санкт-Петербург    92785.714286        3      8  2015       другой  \n",
       "3    Санкт-Петербург   408176.100629        4      7  2015       другой  \n",
       "4    Санкт-Петербург   100000.000000        1      6  2018       другой  \n",
       "5            Янино-1    95065.789474        0      9  2018       другой  \n",
       "6          Парголово    99195.710456        3     11  2017       другой  \n",
       "7    Санкт-Петербург   110544.692737        3      4  2019       другой  \n",
       "8             Мурино    87454.764777        2      5  2018       другой  \n",
       "9    Санкт-Петербург    88524.590164        6      2  2017       другой  \n",
       "\n",
       "[10 rows x 28 columns]"
      ]
     },
     "execution_count": 50,
     "metadata": {},
     "output_type": "execute_result"
    }
   ],
   "source": [
    "def floor_group(row):\n",
    "    if row['floor'] == 1:\n",
    "        return 'первый'\n",
    "    if row['floor'] == row['floors_total']:\n",
    "        return 'последний'\n",
    "    return 'другой'\n",
    "\n",
    "data['floor_group'] = data.apply(floor_group, axis=1)\n",
    "data.head(10)"
   ]
  },
  {
   "cell_type": "markdown",
   "metadata": {},
   "source": [
    "Проверим."
   ]
  },
  {
   "cell_type": "code",
   "execution_count": 51,
   "metadata": {},
   "outputs": [
    {
     "data": {
      "text/html": [
       "<div>\n",
       "<style scoped>\n",
       "    .dataframe tbody tr th:only-of-type {\n",
       "        vertical-align: middle;\n",
       "    }\n",
       "\n",
       "    .dataframe tbody tr th {\n",
       "        vertical-align: top;\n",
       "    }\n",
       "\n",
       "    .dataframe thead th {\n",
       "        text-align: right;\n",
       "    }\n",
       "</style>\n",
       "<table border=\"1\" class=\"dataframe\">\n",
       "  <thead>\n",
       "    <tr style=\"text-align: right;\">\n",
       "      <th></th>\n",
       "      <th>total_images</th>\n",
       "      <th>last_price</th>\n",
       "      <th>total_area</th>\n",
       "      <th>first_day_exposition</th>\n",
       "      <th>rooms</th>\n",
       "      <th>ceiling_height</th>\n",
       "      <th>floors_total</th>\n",
       "      <th>living_area</th>\n",
       "      <th>floor</th>\n",
       "      <th>is_apartment</th>\n",
       "      <th>...</th>\n",
       "      <th>park_distance</th>\n",
       "      <th>ponds_around_3000_number</th>\n",
       "      <th>pond_distance</th>\n",
       "      <th>days_exposition</th>\n",
       "      <th>temp_locality_name</th>\n",
       "      <th>price_per_sq_m</th>\n",
       "      <th>weekday</th>\n",
       "      <th>month</th>\n",
       "      <th>year</th>\n",
       "      <th>floor_group</th>\n",
       "    </tr>\n",
       "  </thead>\n",
       "  <tbody>\n",
       "    <tr>\n",
       "      <th>0</th>\n",
       "      <td>20</td>\n",
       "      <td>13000000.0</td>\n",
       "      <td>108.0</td>\n",
       "      <td>2019-03-07</td>\n",
       "      <td>3</td>\n",
       "      <td>2.70</td>\n",
       "      <td>16</td>\n",
       "      <td>51.0</td>\n",
       "      <td>8</td>\n",
       "      <td>False</td>\n",
       "      <td>...</td>\n",
       "      <td>482.0</td>\n",
       "      <td>2.0</td>\n",
       "      <td>755.0</td>\n",
       "      <td>0</td>\n",
       "      <td>Санкт-Петербург</td>\n",
       "      <td>120370.370370</td>\n",
       "      <td>3</td>\n",
       "      <td>3</td>\n",
       "      <td>2019</td>\n",
       "      <td>другой</td>\n",
       "    </tr>\n",
       "    <tr>\n",
       "      <th>1</th>\n",
       "      <td>7</td>\n",
       "      <td>3350000.0</td>\n",
       "      <td>40.4</td>\n",
       "      <td>2018-12-04</td>\n",
       "      <td>1</td>\n",
       "      <td>2.65</td>\n",
       "      <td>11</td>\n",
       "      <td>18.6</td>\n",
       "      <td>1</td>\n",
       "      <td>False</td>\n",
       "      <td>...</td>\n",
       "      <td>NaN</td>\n",
       "      <td>0.0</td>\n",
       "      <td>NaN</td>\n",
       "      <td>81</td>\n",
       "      <td>Шушары</td>\n",
       "      <td>82920.792079</td>\n",
       "      <td>1</td>\n",
       "      <td>12</td>\n",
       "      <td>2018</td>\n",
       "      <td>первый</td>\n",
       "    </tr>\n",
       "    <tr>\n",
       "      <th>2</th>\n",
       "      <td>10</td>\n",
       "      <td>5196000.0</td>\n",
       "      <td>56.0</td>\n",
       "      <td>2015-08-20</td>\n",
       "      <td>2</td>\n",
       "      <td>2.65</td>\n",
       "      <td>5</td>\n",
       "      <td>34.3</td>\n",
       "      <td>4</td>\n",
       "      <td>False</td>\n",
       "      <td>...</td>\n",
       "      <td>90.0</td>\n",
       "      <td>2.0</td>\n",
       "      <td>574.0</td>\n",
       "      <td>558</td>\n",
       "      <td>Санкт-Петербург</td>\n",
       "      <td>92785.714286</td>\n",
       "      <td>3</td>\n",
       "      <td>8</td>\n",
       "      <td>2015</td>\n",
       "      <td>другой</td>\n",
       "    </tr>\n",
       "    <tr>\n",
       "      <th>3</th>\n",
       "      <td>0</td>\n",
       "      <td>64900000.0</td>\n",
       "      <td>159.0</td>\n",
       "      <td>2015-07-24</td>\n",
       "      <td>3</td>\n",
       "      <td>2.65</td>\n",
       "      <td>14</td>\n",
       "      <td>0.0</td>\n",
       "      <td>9</td>\n",
       "      <td>False</td>\n",
       "      <td>...</td>\n",
       "      <td>84.0</td>\n",
       "      <td>3.0</td>\n",
       "      <td>234.0</td>\n",
       "      <td>424</td>\n",
       "      <td>Санкт-Петербург</td>\n",
       "      <td>408176.100629</td>\n",
       "      <td>4</td>\n",
       "      <td>7</td>\n",
       "      <td>2015</td>\n",
       "      <td>другой</td>\n",
       "    </tr>\n",
       "    <tr>\n",
       "      <th>4</th>\n",
       "      <td>2</td>\n",
       "      <td>10000000.0</td>\n",
       "      <td>100.0</td>\n",
       "      <td>2018-06-19</td>\n",
       "      <td>2</td>\n",
       "      <td>3.03</td>\n",
       "      <td>14</td>\n",
       "      <td>32.0</td>\n",
       "      <td>13</td>\n",
       "      <td>False</td>\n",
       "      <td>...</td>\n",
       "      <td>112.0</td>\n",
       "      <td>1.0</td>\n",
       "      <td>48.0</td>\n",
       "      <td>121</td>\n",
       "      <td>Санкт-Петербург</td>\n",
       "      <td>100000.000000</td>\n",
       "      <td>1</td>\n",
       "      <td>6</td>\n",
       "      <td>2018</td>\n",
       "      <td>другой</td>\n",
       "    </tr>\n",
       "  </tbody>\n",
       "</table>\n",
       "<p>5 rows × 28 columns</p>\n",
       "</div>"
      ],
      "text/plain": [
       "   total_images  last_price  total_area first_day_exposition  rooms  \\\n",
       "0            20  13000000.0       108.0           2019-03-07      3   \n",
       "1             7   3350000.0        40.4           2018-12-04      1   \n",
       "2            10   5196000.0        56.0           2015-08-20      2   \n",
       "3             0  64900000.0       159.0           2015-07-24      3   \n",
       "4             2  10000000.0       100.0           2018-06-19      2   \n",
       "\n",
       "   ceiling_height  floors_total  living_area  floor  is_apartment  ...  \\\n",
       "0            2.70            16         51.0      8         False  ...   \n",
       "1            2.65            11         18.6      1         False  ...   \n",
       "2            2.65             5         34.3      4         False  ...   \n",
       "3            2.65            14          0.0      9         False  ...   \n",
       "4            3.03            14         32.0     13         False  ...   \n",
       "\n",
       "   park_distance  ponds_around_3000_number  pond_distance  days_exposition  \\\n",
       "0          482.0                       2.0          755.0                0   \n",
       "1            NaN                       0.0            NaN               81   \n",
       "2           90.0                       2.0          574.0              558   \n",
       "3           84.0                       3.0          234.0              424   \n",
       "4          112.0                       1.0           48.0              121   \n",
       "\n",
       "  temp_locality_name  price_per_sq_m  weekday  month  year  floor_group  \n",
       "0    Санкт-Петербург   120370.370370        3      3  2019       другой  \n",
       "1             Шушары    82920.792079        1     12  2018       первый  \n",
       "2    Санкт-Петербург    92785.714286        3      8  2015       другой  \n",
       "3    Санкт-Петербург   408176.100629        4      7  2015       другой  \n",
       "4    Санкт-Петербург   100000.000000        1      6  2018       другой  \n",
       "\n",
       "[5 rows x 28 columns]"
      ]
     },
     "execution_count": 51,
     "metadata": {},
     "output_type": "execute_result"
    }
   ],
   "source": [
    "# show first 5 rows\n",
    "data.head()"
   ]
  },
  {
   "cell_type": "markdown",
   "metadata": {},
   "source": [
    "Добавим столбцы с долей жилой площади и долей кухни."
   ]
  },
  {
   "cell_type": "code",
   "execution_count": 52,
   "metadata": {},
   "outputs": [],
   "source": [
    "# ad 'living_area_rate' and 'kitchen_area_rate' columns\n",
    "data['living_area_rate'] = data['living_area'] / data['total_area']\n",
    "data['kitchen_area_rate'] = data['kitchen_area'] / data['total_area']"
   ]
  },
  {
   "cell_type": "code",
   "execution_count": 53,
   "metadata": {},
   "outputs": [
    {
     "data": {
      "text/html": [
       "<div>\n",
       "<style scoped>\n",
       "    .dataframe tbody tr th:only-of-type {\n",
       "        vertical-align: middle;\n",
       "    }\n",
       "\n",
       "    .dataframe tbody tr th {\n",
       "        vertical-align: top;\n",
       "    }\n",
       "\n",
       "    .dataframe thead th {\n",
       "        text-align: right;\n",
       "    }\n",
       "</style>\n",
       "<table border=\"1\" class=\"dataframe\">\n",
       "  <thead>\n",
       "    <tr style=\"text-align: right;\">\n",
       "      <th></th>\n",
       "      <th>total_images</th>\n",
       "      <th>last_price</th>\n",
       "      <th>total_area</th>\n",
       "      <th>first_day_exposition</th>\n",
       "      <th>rooms</th>\n",
       "      <th>ceiling_height</th>\n",
       "      <th>floors_total</th>\n",
       "      <th>living_area</th>\n",
       "      <th>floor</th>\n",
       "      <th>is_apartment</th>\n",
       "      <th>...</th>\n",
       "      <th>pond_distance</th>\n",
       "      <th>days_exposition</th>\n",
       "      <th>temp_locality_name</th>\n",
       "      <th>price_per_sq_m</th>\n",
       "      <th>weekday</th>\n",
       "      <th>month</th>\n",
       "      <th>year</th>\n",
       "      <th>floor_group</th>\n",
       "      <th>living_area_rate</th>\n",
       "      <th>kitchen_area_rate</th>\n",
       "    </tr>\n",
       "  </thead>\n",
       "  <tbody>\n",
       "    <tr>\n",
       "      <th>0</th>\n",
       "      <td>20</td>\n",
       "      <td>13000000.0</td>\n",
       "      <td>108.0</td>\n",
       "      <td>2019-03-07</td>\n",
       "      <td>3</td>\n",
       "      <td>2.70</td>\n",
       "      <td>16</td>\n",
       "      <td>51.0</td>\n",
       "      <td>8</td>\n",
       "      <td>False</td>\n",
       "      <td>...</td>\n",
       "      <td>755.0</td>\n",
       "      <td>0</td>\n",
       "      <td>Санкт-Петербург</td>\n",
       "      <td>120370.370370</td>\n",
       "      <td>3</td>\n",
       "      <td>3</td>\n",
       "      <td>2019</td>\n",
       "      <td>другой</td>\n",
       "      <td>0.472222</td>\n",
       "      <td>0.231481</td>\n",
       "    </tr>\n",
       "    <tr>\n",
       "      <th>1</th>\n",
       "      <td>7</td>\n",
       "      <td>3350000.0</td>\n",
       "      <td>40.4</td>\n",
       "      <td>2018-12-04</td>\n",
       "      <td>1</td>\n",
       "      <td>2.65</td>\n",
       "      <td>11</td>\n",
       "      <td>18.6</td>\n",
       "      <td>1</td>\n",
       "      <td>False</td>\n",
       "      <td>...</td>\n",
       "      <td>NaN</td>\n",
       "      <td>81</td>\n",
       "      <td>Шушары</td>\n",
       "      <td>82920.792079</td>\n",
       "      <td>1</td>\n",
       "      <td>12</td>\n",
       "      <td>2018</td>\n",
       "      <td>первый</td>\n",
       "      <td>0.460396</td>\n",
       "      <td>0.272277</td>\n",
       "    </tr>\n",
       "    <tr>\n",
       "      <th>2</th>\n",
       "      <td>10</td>\n",
       "      <td>5196000.0</td>\n",
       "      <td>56.0</td>\n",
       "      <td>2015-08-20</td>\n",
       "      <td>2</td>\n",
       "      <td>2.65</td>\n",
       "      <td>5</td>\n",
       "      <td>34.3</td>\n",
       "      <td>4</td>\n",
       "      <td>False</td>\n",
       "      <td>...</td>\n",
       "      <td>574.0</td>\n",
       "      <td>558</td>\n",
       "      <td>Санкт-Петербург</td>\n",
       "      <td>92785.714286</td>\n",
       "      <td>3</td>\n",
       "      <td>8</td>\n",
       "      <td>2015</td>\n",
       "      <td>другой</td>\n",
       "      <td>0.612500</td>\n",
       "      <td>0.148214</td>\n",
       "    </tr>\n",
       "    <tr>\n",
       "      <th>3</th>\n",
       "      <td>0</td>\n",
       "      <td>64900000.0</td>\n",
       "      <td>159.0</td>\n",
       "      <td>2015-07-24</td>\n",
       "      <td>3</td>\n",
       "      <td>2.65</td>\n",
       "      <td>14</td>\n",
       "      <td>0.0</td>\n",
       "      <td>9</td>\n",
       "      <td>False</td>\n",
       "      <td>...</td>\n",
       "      <td>234.0</td>\n",
       "      <td>424</td>\n",
       "      <td>Санкт-Петербург</td>\n",
       "      <td>408176.100629</td>\n",
       "      <td>4</td>\n",
       "      <td>7</td>\n",
       "      <td>2015</td>\n",
       "      <td>другой</td>\n",
       "      <td>0.000000</td>\n",
       "      <td>0.057233</td>\n",
       "    </tr>\n",
       "    <tr>\n",
       "      <th>4</th>\n",
       "      <td>2</td>\n",
       "      <td>10000000.0</td>\n",
       "      <td>100.0</td>\n",
       "      <td>2018-06-19</td>\n",
       "      <td>2</td>\n",
       "      <td>3.03</td>\n",
       "      <td>14</td>\n",
       "      <td>32.0</td>\n",
       "      <td>13</td>\n",
       "      <td>False</td>\n",
       "      <td>...</td>\n",
       "      <td>48.0</td>\n",
       "      <td>121</td>\n",
       "      <td>Санкт-Петербург</td>\n",
       "      <td>100000.000000</td>\n",
       "      <td>1</td>\n",
       "      <td>6</td>\n",
       "      <td>2018</td>\n",
       "      <td>другой</td>\n",
       "      <td>0.320000</td>\n",
       "      <td>0.410000</td>\n",
       "    </tr>\n",
       "  </tbody>\n",
       "</table>\n",
       "<p>5 rows × 30 columns</p>\n",
       "</div>"
      ],
      "text/plain": [
       "   total_images  last_price  total_area first_day_exposition  rooms  \\\n",
       "0            20  13000000.0       108.0           2019-03-07      3   \n",
       "1             7   3350000.0        40.4           2018-12-04      1   \n",
       "2            10   5196000.0        56.0           2015-08-20      2   \n",
       "3             0  64900000.0       159.0           2015-07-24      3   \n",
       "4             2  10000000.0       100.0           2018-06-19      2   \n",
       "\n",
       "   ceiling_height  floors_total  living_area  floor  is_apartment  ...  \\\n",
       "0            2.70            16         51.0      8         False  ...   \n",
       "1            2.65            11         18.6      1         False  ...   \n",
       "2            2.65             5         34.3      4         False  ...   \n",
       "3            2.65            14          0.0      9         False  ...   \n",
       "4            3.03            14         32.0     13         False  ...   \n",
       "\n",
       "   pond_distance  days_exposition  temp_locality_name  price_per_sq_m weekday  \\\n",
       "0          755.0                0     Санкт-Петербург   120370.370370       3   \n",
       "1            NaN               81              Шушары    82920.792079       1   \n",
       "2          574.0              558     Санкт-Петербург    92785.714286       3   \n",
       "3          234.0              424     Санкт-Петербург   408176.100629       4   \n",
       "4           48.0              121     Санкт-Петербург   100000.000000       1   \n",
       "\n",
       "   month  year  floor_group  living_area_rate  kitchen_area_rate  \n",
       "0      3  2019       другой          0.472222           0.231481  \n",
       "1     12  2018       первый          0.460396           0.272277  \n",
       "2      8  2015       другой          0.612500           0.148214  \n",
       "3      7  2015       другой          0.000000           0.057233  \n",
       "4      6  2018       другой          0.320000           0.410000  \n",
       "\n",
       "[5 rows x 30 columns]"
      ]
     },
     "execution_count": 53,
     "metadata": {},
     "output_type": "execute_result"
    }
   ],
   "source": [
    "# show first 5 rows\n",
    "data.head()"
   ]
  },
  {
   "cell_type": "markdown",
   "metadata": {},
   "source": [
    "### Вывод"
   ]
  },
  {
   "cell_type": "markdown",
   "metadata": {},
   "source": [
    "Были добавлены и расчитаны столбцы со значениями цены квадратного метра, днем недели, меясяцем и годом публикации объявления, группой этажа квартиры, долями жилой площади и площади кухни."
   ]
  },
  {
   "cell_type": "markdown",
   "metadata": {},
   "source": [
    "## Исследовательский анализ данных"
   ]
  },
  {
   "cell_type": "markdown",
   "metadata": {},
   "source": [
    "### Исследование площади, цены, числа комнат, высоты потолков"
   ]
  },
  {
   "cell_type": "markdown",
   "metadata": {},
   "source": [
    "Исследуем столбцы со значениями площади, цены, числа комнат, высоты потолков."
   ]
  },
  {
   "cell_type": "code",
   "execution_count": 54,
   "metadata": {},
   "outputs": [
    {
     "data": {
      "text/html": [
       "<div>\n",
       "<style scoped>\n",
       "    .dataframe tbody tr th:only-of-type {\n",
       "        vertical-align: middle;\n",
       "    }\n",
       "\n",
       "    .dataframe tbody tr th {\n",
       "        vertical-align: top;\n",
       "    }\n",
       "\n",
       "    .dataframe thead th {\n",
       "        text-align: right;\n",
       "    }\n",
       "</style>\n",
       "<table border=\"1\" class=\"dataframe\">\n",
       "  <thead>\n",
       "    <tr style=\"text-align: right;\">\n",
       "      <th></th>\n",
       "      <th>total_area</th>\n",
       "      <th>last_price</th>\n",
       "      <th>rooms</th>\n",
       "      <th>ceiling_height</th>\n",
       "    </tr>\n",
       "  </thead>\n",
       "  <tbody>\n",
       "    <tr>\n",
       "      <th>count</th>\n",
       "      <td>23699.000000</td>\n",
       "      <td>2.369900e+04</td>\n",
       "      <td>23699.000000</td>\n",
       "      <td>23699.000000</td>\n",
       "    </tr>\n",
       "    <tr>\n",
       "      <th>mean</th>\n",
       "      <td>60.348651</td>\n",
       "      <td>6.541549e+06</td>\n",
       "      <td>2.070636</td>\n",
       "      <td>2.724358</td>\n",
       "    </tr>\n",
       "    <tr>\n",
       "      <th>std</th>\n",
       "      <td>35.654083</td>\n",
       "      <td>1.088701e+07</td>\n",
       "      <td>1.078405</td>\n",
       "      <td>0.988298</td>\n",
       "    </tr>\n",
       "    <tr>\n",
       "      <th>min</th>\n",
       "      <td>12.000000</td>\n",
       "      <td>1.219000e+04</td>\n",
       "      <td>0.000000</td>\n",
       "      <td>1.000000</td>\n",
       "    </tr>\n",
       "    <tr>\n",
       "      <th>25%</th>\n",
       "      <td>40.000000</td>\n",
       "      <td>3.400000e+06</td>\n",
       "      <td>1.000000</td>\n",
       "      <td>2.600000</td>\n",
       "    </tr>\n",
       "    <tr>\n",
       "      <th>50%</th>\n",
       "      <td>52.000000</td>\n",
       "      <td>4.650000e+06</td>\n",
       "      <td>2.000000</td>\n",
       "      <td>2.650000</td>\n",
       "    </tr>\n",
       "    <tr>\n",
       "      <th>75%</th>\n",
       "      <td>69.900000</td>\n",
       "      <td>6.800000e+06</td>\n",
       "      <td>3.000000</td>\n",
       "      <td>2.700000</td>\n",
       "    </tr>\n",
       "    <tr>\n",
       "      <th>max</th>\n",
       "      <td>900.000000</td>\n",
       "      <td>7.630000e+08</td>\n",
       "      <td>19.000000</td>\n",
       "      <td>100.000000</td>\n",
       "    </tr>\n",
       "  </tbody>\n",
       "</table>\n",
       "</div>"
      ],
      "text/plain": [
       "         total_area    last_price         rooms  ceiling_height\n",
       "count  23699.000000  2.369900e+04  23699.000000    23699.000000\n",
       "mean      60.348651  6.541549e+06      2.070636        2.724358\n",
       "std       35.654083  1.088701e+07      1.078405        0.988298\n",
       "min       12.000000  1.219000e+04      0.000000        1.000000\n",
       "25%       40.000000  3.400000e+06      1.000000        2.600000\n",
       "50%       52.000000  4.650000e+06      2.000000        2.650000\n",
       "75%       69.900000  6.800000e+06      3.000000        2.700000\n",
       "max      900.000000  7.630000e+08     19.000000      100.000000"
      ]
     },
     "execution_count": 54,
     "metadata": {},
     "output_type": "execute_result"
    }
   ],
   "source": [
    "# describe 'total_area', 'last_price', 'rooms', 'ceiling_height' columns\n",
    "required_columns = ['total_area', 'last_price', 'rooms', 'ceiling_height']\n",
    "data[required_columns].describe()"
   ]
  },
  {
   "cell_type": "markdown",
   "metadata": {},
   "source": [
    "#### Площадь"
   ]
  },
  {
   "cell_type": "markdown",
   "metadata": {},
   "source": [
    "Изучим столбец `total_area`."
   ]
  },
  {
   "cell_type": "code",
   "execution_count": 55,
   "metadata": {},
   "outputs": [
    {
     "data": {
      "image/png": "[encoded data removed]",
      "text/plain": [
       "<Figure size 432x288 with 1 Axes>"
      ]
     },
     "metadata": {
      "needs_background": "light"
     },
     "output_type": "display_data"
    }
   ],
   "source": [
    "# choose range\n",
    "plt.ylim(0, 150)\n",
    "\n",
    "#plot 'total_area' quantile\n",
    "data.boxplot('total_area')\n",
    "plt.show()"
   ]
  },
  {
   "cell_type": "markdown",
   "metadata": {},
   "source": [
    "Будем считать аномальной площадь больше 200 кв. м. Удалим аномальные значения."
   ]
  },
  {
   "cell_type": "code",
   "execution_count": 56,
   "metadata": {},
   "outputs": [],
   "source": [
    "data = data[data['total_area'] < 200]"
   ]
  },
  {
   "cell_type": "markdown",
   "metadata": {},
   "source": [
    "Проверим."
   ]
  },
  {
   "cell_type": "code",
   "execution_count": 57,
   "metadata": {},
   "outputs": [
    {
     "data": {
      "text/plain": [
       "199.2"
      ]
     },
     "execution_count": 57,
     "metadata": {},
     "output_type": "execute_result"
    }
   ],
   "source": [
    "data['total_area'].max()"
   ]
  },
  {
   "cell_type": "markdown",
   "metadata": {},
   "source": [
    "Построим гистограмму."
   ]
  },
  {
   "cell_type": "code",
   "execution_count": 58,
   "metadata": {},
   "outputs": [
    {
     "data": {
      "image/png": "[encoded data removed]",
      "text/plain": [
       "<Figure size 432x288 with 1 Axes>"
      ]
     },
     "metadata": {
      "needs_background": "light"
     },
     "output_type": "display_data"
    }
   ],
   "source": [
    "# plot 'total_area' histogram\n",
    "data['total_area'].hist(bins=100, range=(0, 210)) \n",
    "plt.show()"
   ]
  },
  {
   "cell_type": "markdown",
   "metadata": {},
   "source": [
    "Распределение напоминает гауссово, но есть много пиков там, где должен был быть экстремум. Это объясняется тем, что в России очень много типового жилья, поэтому есть есть несколько пиков около медианы."
   ]
  },
  {
   "cell_type": "markdown",
   "metadata": {},
   "source": [
    "#### Цена"
   ]
  },
  {
   "cell_type": "markdown",
   "metadata": {},
   "source": [
    "Изучим столбец `last_price`."
   ]
  },
  {
   "cell_type": "code",
   "execution_count": 59,
   "metadata": {
    "scrolled": true
   },
   "outputs": [
    {
     "data": {
      "image/png": "[encoded data removed]",
      "text/plain": [
       "<Figure size 432x288 with 1 Axes>"
      ]
     },
     "metadata": {
      "needs_background": "light"
     },
     "output_type": "display_data"
    }
   ],
   "source": [
    "# choose range\n",
    "plt.ylim(-1e5, 0.2e8)\n",
    "\n",
    "#plot 'last_price' quantile\n",
    "data.boxplot('last_price')\n",
    "plt.show()"
   ]
  },
  {
   "cell_type": "markdown",
   "metadata": {},
   "source": [
    "Будем считать аномальной цену больше 20,000,000 руб. Удалим такие строки."
   ]
  },
  {
   "cell_type": "code",
   "execution_count": 60,
   "metadata": {},
   "outputs": [],
   "source": [
    "data = data[data['last_price'] < 20000000]"
   ]
  },
  {
   "cell_type": "markdown",
   "metadata": {},
   "source": [
    "Проверим."
   ]
  },
  {
   "cell_type": "code",
   "execution_count": 61,
   "metadata": {},
   "outputs": [
    {
     "data": {
      "text/plain": [
       "19999000.0"
      ]
     },
     "execution_count": 61,
     "metadata": {},
     "output_type": "execute_result"
    }
   ],
   "source": [
    "data['last_price'].max()"
   ]
  },
  {
   "cell_type": "code",
   "execution_count": 62,
   "metadata": {},
   "outputs": [
    {
     "data": {
      "image/png": "[encoded data removed]",
      "text/plain": [
       "<Figure size 432x288 with 1 Axes>"
      ]
     },
     "metadata": {
      "needs_background": "light"
     },
     "output_type": "display_data"
    }
   ],
   "source": [
    "# plot 'last_price' histogram\n",
    "data['last_price'].hist(bins=100, range=(0, 3e7)) \n",
    "plt.show()"
   ]
  },
  {
   "cell_type": "markdown",
   "metadata": {},
   "source": [
    "Нормальное распределение."
   ]
  },
  {
   "cell_type": "markdown",
   "metadata": {},
   "source": [
    "#### Число комнат"
   ]
  },
  {
   "cell_type": "markdown",
   "metadata": {},
   "source": [
    "Изучим столбец `rooms`."
   ]
  },
  {
   "cell_type": "code",
   "execution_count": 63,
   "metadata": {},
   "outputs": [
    {
     "data": {
      "image/png": "[encoded data removed]",
      "text/plain": [
       "<Figure size 432x288 with 1 Axes>"
      ]
     },
     "metadata": {
      "needs_background": "light"
     },
     "output_type": "display_data"
    }
   ],
   "source": [
    "# choose range\n",
    "plt.ylim(-1, 10)\n",
    "\n",
    "#plot 'rooms' quantile\n",
    "data.boxplot('rooms')\n",
    "plt.show()"
   ]
  },
  {
   "cell_type": "code",
   "execution_count": 64,
   "metadata": {},
   "outputs": [
    {
     "data": {
      "image/png": "[encoded data removed]",
      "text/plain": [
       "<Figure size 432x288 with 1 Axes>"
      ]
     },
     "metadata": {
      "needs_background": "light"
     },
     "output_type": "display_data"
    }
   ],
   "source": [
    "# plot 'last_price' histogram\n",
    "data['rooms'].hist(range=(0, 10)) \n",
    "plt.show()"
   ]
  },
  {
   "cell_type": "markdown",
   "metadata": {},
   "source": [
    "Распределение Пуассона."
   ]
  },
  {
   "cell_type": "markdown",
   "metadata": {},
   "source": [
    "#### Высота потолков"
   ]
  },
  {
   "cell_type": "markdown",
   "metadata": {},
   "source": [
    "Изучим столбец `ceiling_height`."
   ]
  },
  {
   "cell_type": "code",
   "execution_count": 65,
   "metadata": {},
   "outputs": [
    {
     "data": {
      "image/png": "[encoded data removed]",
      "text/plain": [
       "<Figure size 432x288 with 1 Axes>"
      ]
     },
     "metadata": {
      "needs_background": "light"
     },
     "output_type": "display_data"
    }
   ],
   "source": [
    "# choose range\n",
    "plt.ylim(-1, 10)\n",
    "\n",
    "#plot 'ceiling_height' quantile\n",
    "data.boxplot('ceiling_height')\n",
    "plt.show()"
   ]
  },
  {
   "cell_type": "code",
   "execution_count": 66,
   "metadata": {},
   "outputs": [
    {
     "data": {
      "image/png": "[encoded data removed]",
      "text/plain": [
       "<Figure size 432x288 with 1 Axes>"
      ]
     },
     "metadata": {
      "needs_background": "light"
     },
     "output_type": "display_data"
    }
   ],
   "source": [
    "# plot 'last_price' histogram\n",
    "data['ceiling_height'].hist(bins=20, range=(2.4, 4.2)) \n",
    "plt.show()"
   ]
  },
  {
   "cell_type": "markdown",
   "metadata": {},
   "source": [
    "Распределение немного похоже на нормальное, но тут так же, как и гистрограмму `total_area`, можно объяснить непохожесть на нормальное распределение тем, что много типового жилья."
   ]
  },
  {
   "cell_type": "markdown",
   "metadata": {},
   "source": [
    "Будем считать высоту потолков аномальной, если она меньше 2 и больше 4 м. Удалим строки с такими значениями."
   ]
  },
  {
   "cell_type": "code",
   "execution_count": 67,
   "metadata": {},
   "outputs": [],
   "source": [
    "data = data.loc[(data['ceiling_height'] > 2) & (data['ceiling_height'] < 4)]"
   ]
  },
  {
   "cell_type": "markdown",
   "metadata": {},
   "source": [
    "Проверим."
   ]
  },
  {
   "cell_type": "code",
   "execution_count": 68,
   "metadata": {},
   "outputs": [
    {
     "data": {
      "text/plain": [
       "count    22832.000000\n",
       "mean         2.682395\n",
       "std          0.184563\n",
       "min          2.200000\n",
       "25%          2.600000\n",
       "50%          2.650000\n",
       "75%          2.700000\n",
       "max          3.980000\n",
       "Name: ceiling_height, dtype: float64"
      ]
     },
     "execution_count": 68,
     "metadata": {},
     "output_type": "execute_result"
    }
   ],
   "source": [
    "data['ceiling_height'].describe()"
   ]
  },
  {
   "cell_type": "markdown",
   "metadata": {},
   "source": [
    "### Исследование времени продажи квартиры"
   ]
  },
  {
   "cell_type": "markdown",
   "metadata": {},
   "source": [
    "Изучим столбец `days_exposition`."
   ]
  },
  {
   "cell_type": "code",
   "execution_count": 69,
   "metadata": {},
   "outputs": [
    {
     "data": {
      "text/plain": [
       "count    22832.000000\n",
       "mean       154.692624\n",
       "std        210.406471\n",
       "min          0.000000\n",
       "25%         23.000000\n",
       "50%         73.000000\n",
       "75%        195.000000\n",
       "max       1580.000000\n",
       "Name: days_exposition, dtype: float64"
      ]
     },
     "execution_count": 69,
     "metadata": {},
     "output_type": "execute_result"
    }
   ],
   "source": [
    "# describe 'days_exposition' column\n",
    "data['days_exposition'].describe()"
   ]
  },
  {
   "cell_type": "code",
   "execution_count": 70,
   "metadata": {},
   "outputs": [
    {
     "data": {
      "image/png": "[encoded data removed]",
      "text/plain": [
       "<Figure size 432x288 with 1 Axes>"
      ]
     },
     "metadata": {
      "needs_background": "light"
     },
     "output_type": "display_data"
    }
   ],
   "source": [
    "# choose range\n",
    "plt.ylim(-1, 600)\n",
    "\n",
    "#plot 'days_exposition' quantile\n",
    "data.boxplot('days_exposition')\n",
    "plt.show()"
   ]
  },
  {
   "cell_type": "markdown",
   "metadata": {},
   "source": [
    "Чаще всего квартиры продаются за 45-200 дней, медианное значение времени продажи – 95 дней. Если время продажи меньше 40, можно считать, что квартира продалась очень быстро, если больше 300 – очень долго."
   ]
  },
  {
   "cell_type": "markdown",
   "metadata": {},
   "source": [
    "Построим гистограмму."
   ]
  },
  {
   "cell_type": "code",
   "execution_count": 71,
   "metadata": {},
   "outputs": [
    {
     "data": {
      "image/png": "[encoded data removed]",
      "text/plain": [
       "<Figure size 432x288 with 1 Axes>"
      ]
     },
     "metadata": {
      "needs_background": "light"
     },
     "output_type": "display_data"
    }
   ],
   "source": [
    "# plot 'days_exposition' histogram\n",
    "data['days_exposition'].hist(bins=100, range=(1, 1000)) \n",
    "plt.show()"
   ]
  },
  {
   "cell_type": "markdown",
   "metadata": {},
   "source": [
    "Распределение пуассоновское, если не считать нескольких странных пиков около нуля. Рассмотрим поближе."
   ]
  },
  {
   "cell_type": "code",
   "execution_count": 72,
   "metadata": {},
   "outputs": [
    {
     "data": {
      "image/png": "[encoded data removed]",
      "text/plain": [
       "<Figure size 432x288 with 1 Axes>"
      ]
     },
     "metadata": {
      "needs_background": "light"
     },
     "output_type": "display_data"
    }
   ],
   "source": [
    "# plot 'days_exposition' histogram\n",
    "data['days_exposition'].hist(bins=61, range=(40, 100))\n",
    "plt.show()"
   ]
  },
  {
   "cell_type": "markdown",
   "metadata": {},
   "source": [
    "Видно, что пики строго на 45, 60 и 90.\n",
    "Я бы объяснил эти выбивающиеся значения тем, что это тарифы размещения объявлений. Эти объявления помешают исследованию.\n",
    "\n",
    "Уберем эти значения."
   ]
  },
  {
   "cell_type": "markdown",
   "metadata": {},
   "source": [
    "Также признаем значения больше 1000 выбросами, поэтому тоже их удалим. Мы можем это сделать, так как их очень мало и они вряд ли повлияют на результат."
   ]
  },
  {
   "cell_type": "code",
   "execution_count": 73,
   "metadata": {},
   "outputs": [],
   "source": [
    "# delete 45, 50, 90 values and values > 1000 of 'days_exposition' from data\n",
    "data = data[(data['days_exposition'] != 45)]\n",
    "data = data[(data['days_exposition'] != 60)]\n",
    "data = data[(data['days_exposition'] != 90)]\n",
    "data = data[(data['days_exposition'] <= 1000)]"
   ]
  },
  {
   "cell_type": "markdown",
   "metadata": {},
   "source": [
    "Проверим: построим гистограмму."
   ]
  },
  {
   "cell_type": "code",
   "execution_count": 74,
   "metadata": {},
   "outputs": [
    {
     "data": {
      "image/png": "[encoded data removed]",
      "text/plain": [
       "<Figure size 432x288 with 1 Axes>"
      ]
     },
     "metadata": {
      "needs_background": "light"
     },
     "output_type": "display_data"
    }
   ],
   "source": [
    "# plot 'days_exposition' histogram\n",
    "data['days_exposition'].hist(bins=100, range=(1, 1500)) \n",
    "plt.show()"
   ]
  },
  {
   "cell_type": "markdown",
   "metadata": {},
   "source": [
    "Теперь странных пиков нет и мы видим распределение Пуассона."
   ]
  },
  {
   "cell_type": "markdown",
   "metadata": {},
   "source": [
    "### Исследование зависимости цены от различных факторов"
   ]
  },
  {
   "cell_type": "code",
   "execution_count": 75,
   "metadata": {},
   "outputs": [
    {
     "data": {
      "text/plain": [
       "total_images                0.155951\n",
       "last_price                  1.000000\n",
       "total_area                  0.777188\n",
       "rooms                       0.505596\n",
       "ceiling_height              0.417939\n",
       "floors_total                0.117935\n",
       "living_area                 0.573627\n",
       "floor                       0.096758\n",
       "is_apartment                0.020722\n",
       "is_studio                  -0.061296\n",
       "is_free_layout             -0.036641\n",
       "kitchen_area                0.551133\n",
       "balconies_number            0.048297\n",
       "airport_distance           -0.034106\n",
       "city_center_distance       -0.350620\n",
       "parks_around_3000_number    0.161796\n",
       "park_distance               0.049910\n",
       "ponds_around_3000_number    0.171796\n",
       "pond_distance              -0.087766\n",
       "days_exposition             0.041141\n",
       "price_per_sq_m              0.632794\n",
       "weekday                    -0.019704\n",
       "month                      -0.002532\n",
       "year                       -0.011329\n",
       "living_area_rate            0.010653\n",
       "kitchen_area_rate          -0.173468\n",
       "dtype: float64"
      ]
     },
     "execution_count": 75,
     "metadata": {},
     "output_type": "execute_result"
    }
   ],
   "source": [
    "# 'last_price' correlation with other columns\n",
    "data.corrwith(data['last_price'])"
   ]
  },
  {
   "cell_type": "markdown",
   "metadata": {},
   "source": [
    "Изучим зависимость цены квартиры от площади, числа комнат, удалённости от центра. Посчитаем корреляцию для этих столбцов."
   ]
  },
  {
   "cell_type": "code",
   "execution_count": 76,
   "metadata": {},
   "outputs": [
    {
     "name": "stdout",
     "output_type": "stream",
     "text": [
      "Корреляция цены квартиры и ее площади: 0.7771876171864326\n",
      "Корреляция цены квартиры и ее числа комнат: 0.5055963814919459\n",
      "Корреляция цены квартиры и ее удаленности от центра: -0.35061966206426665\n"
     ]
    }
   ],
   "source": [
    "print('Корреляция цены квартиры и ее площади:', data['last_price'].corr(data['total_area']))\n",
    "print('Корреляция цены квартиры и ее числа комнат:', data['last_price'].corr(data['rooms']))\n",
    "print('Корреляция цены квартиры и ее удаленности от центра:', data['last_price'].corr(data['city_center_distance']))"
   ]
  },
  {
   "cell_type": "markdown",
   "metadata": {},
   "source": [
    "Видим, что цена квартиры прямо зависит от ее площади, слабее зависит от числа комнат, а также еще слабее обратно зависит от удаленности от центра."
   ]
  },
  {
   "cell_type": "markdown",
   "metadata": {},
   "source": [
    "Построим диаграмму рассеяния цены квартиры от ее площади."
   ]
  },
  {
   "cell_type": "code",
   "execution_count": 77,
   "metadata": {},
   "outputs": [
    {
     "data": {
      "text/plain": [
       "<AxesSubplot:xlabel='цена', ylabel='площадь'>"
      ]
     },
     "execution_count": 77,
     "metadata": {},
     "output_type": "execute_result"
    },
    {
     "data": {
      "image/png": "[encoded data removed]",
      "text/plain": [
       "<Figure size 432x288 with 1 Axes>"
      ]
     },
     "metadata": {
      "needs_background": "light"
     },
     "output_type": "display_data"
    }
   ],
   "source": [
    "# scatter plot of 'last_price' and 'total_area'\n",
    "data.plot(x='last_price', xlabel='цена', y='total_area', ylabel='площадь', kind='scatter', alpha=0.6, grid=True) "
   ]
  },
  {
   "cell_type": "markdown",
   "metadata": {},
   "source": [
    "Диаграмма рассеяния подтверждает прямую зависимость цены от площади."
   ]
  },
  {
   "cell_type": "markdown",
   "metadata": {},
   "source": [
    "Изучим зависимость цены от того, на каком этаже расположена квартира: первом, последнем или другом. Посчитаем медиану каждой категории."
   ]
  },
  {
   "cell_type": "code",
   "execution_count": 78,
   "metadata": {},
   "outputs": [
    {
     "data": {
      "text/html": [
       "<div>\n",
       "<style scoped>\n",
       "    .dataframe tbody tr th:only-of-type {\n",
       "        vertical-align: middle;\n",
       "    }\n",
       "\n",
       "    .dataframe tbody tr th {\n",
       "        vertical-align: top;\n",
       "    }\n",
       "\n",
       "    .dataframe thead th {\n",
       "        text-align: right;\n",
       "    }\n",
       "</style>\n",
       "<table border=\"1\" class=\"dataframe\">\n",
       "  <thead>\n",
       "    <tr style=\"text-align: right;\">\n",
       "      <th></th>\n",
       "      <th>last_price</th>\n",
       "    </tr>\n",
       "    <tr>\n",
       "      <th>floor_group</th>\n",
       "      <th></th>\n",
       "    </tr>\n",
       "  </thead>\n",
       "  <tbody>\n",
       "    <tr>\n",
       "      <th>другой</th>\n",
       "      <td>4750000.0</td>\n",
       "    </tr>\n",
       "    <tr>\n",
       "      <th>последний</th>\n",
       "      <td>4200000.0</td>\n",
       "    </tr>\n",
       "    <tr>\n",
       "      <th>первый</th>\n",
       "      <td>3900000.0</td>\n",
       "    </tr>\n",
       "  </tbody>\n",
       "</table>\n",
       "</div>"
      ],
      "text/plain": [
       "             last_price\n",
       "floor_group            \n",
       "другой        4750000.0\n",
       "последний     4200000.0\n",
       "первый        3900000.0"
      ]
     },
     "execution_count": 78,
     "metadata": {},
     "output_type": "execute_result"
    }
   ],
   "source": [
    "# create pivot table of median 'last_price' value of every unique 'floor_group' value \n",
    "pd.pivot_table(data, index='floor_group', values='last_price', aggfunc='median').sort_values(by='last_price', ascending=False)"
   ]
  },
  {
   "cell_type": "markdown",
   "metadata": {},
   "source": [
    "Получается, что цена квартиры зависит от этажа: самые дешевые квартиры находятся на первом этаже, на последнем подороже, а самые дорогие – между ними."
   ]
  },
  {
   "cell_type": "markdown",
   "metadata": {},
   "source": [
    "Теперь изучим зависимость цены от дня недели, месяца и года размещения."
   ]
  },
  {
   "cell_type": "code",
   "execution_count": 79,
   "metadata": {},
   "outputs": [
    {
     "data": {
      "text/html": [
       "<div>\n",
       "<style scoped>\n",
       "    .dataframe tbody tr th:only-of-type {\n",
       "        vertical-align: middle;\n",
       "    }\n",
       "\n",
       "    .dataframe tbody tr th {\n",
       "        vertical-align: top;\n",
       "    }\n",
       "\n",
       "    .dataframe thead th {\n",
       "        text-align: right;\n",
       "    }\n",
       "</style>\n",
       "<table border=\"1\" class=\"dataframe\">\n",
       "  <thead>\n",
       "    <tr style=\"text-align: right;\">\n",
       "      <th></th>\n",
       "      <th>last_price</th>\n",
       "    </tr>\n",
       "    <tr>\n",
       "      <th>weekday</th>\n",
       "      <th></th>\n",
       "    </tr>\n",
       "  </thead>\n",
       "  <tbody>\n",
       "    <tr>\n",
       "      <th>1</th>\n",
       "      <td>4650000.0</td>\n",
       "    </tr>\n",
       "    <tr>\n",
       "      <th>2</th>\n",
       "      <td>4650000.0</td>\n",
       "    </tr>\n",
       "    <tr>\n",
       "      <th>0</th>\n",
       "      <td>4600000.0</td>\n",
       "    </tr>\n",
       "    <tr>\n",
       "      <th>3</th>\n",
       "      <td>4575000.0</td>\n",
       "    </tr>\n",
       "    <tr>\n",
       "      <th>4</th>\n",
       "      <td>4500000.0</td>\n",
       "    </tr>\n",
       "    <tr>\n",
       "      <th>5</th>\n",
       "      <td>4500000.0</td>\n",
       "    </tr>\n",
       "    <tr>\n",
       "      <th>6</th>\n",
       "      <td>4500000.0</td>\n",
       "    </tr>\n",
       "  </tbody>\n",
       "</table>\n",
       "</div>"
      ],
      "text/plain": [
       "         last_price\n",
       "weekday            \n",
       "1         4650000.0\n",
       "2         4650000.0\n",
       "0         4600000.0\n",
       "3         4575000.0\n",
       "4         4500000.0\n",
       "5         4500000.0\n",
       "6         4500000.0"
      ]
     },
     "execution_count": 79,
     "metadata": {},
     "output_type": "execute_result"
    }
   ],
   "source": [
    "# create pivot table of median 'last_price' value of every unique 'weekday' value \n",
    "pd.pivot_table(data, index='weekday', values='last_price', aggfunc='median').sort_values(by='last_price', ascending=False)"
   ]
  },
  {
   "cell_type": "markdown",
   "metadata": {},
   "source": [
    "Самые дорогие квартиры размещаются по вторникам и средам, самые дешевые – по выходных."
   ]
  },
  {
   "cell_type": "code",
   "execution_count": 80,
   "metadata": {},
   "outputs": [
    {
     "data": {
      "text/html": [
       "<div>\n",
       "<style scoped>\n",
       "    .dataframe tbody tr th:only-of-type {\n",
       "        vertical-align: middle;\n",
       "    }\n",
       "\n",
       "    .dataframe tbody tr th {\n",
       "        vertical-align: top;\n",
       "    }\n",
       "\n",
       "    .dataframe thead th {\n",
       "        text-align: right;\n",
       "    }\n",
       "</style>\n",
       "<table border=\"1\" class=\"dataframe\">\n",
       "  <thead>\n",
       "    <tr style=\"text-align: right;\">\n",
       "      <th></th>\n",
       "      <th>last_price</th>\n",
       "    </tr>\n",
       "    <tr>\n",
       "      <th>month</th>\n",
       "      <th></th>\n",
       "    </tr>\n",
       "  </thead>\n",
       "  <tbody>\n",
       "    <tr>\n",
       "      <th>4</th>\n",
       "      <td>4700000.0</td>\n",
       "    </tr>\n",
       "    <tr>\n",
       "      <th>9</th>\n",
       "      <td>4635000.0</td>\n",
       "    </tr>\n",
       "    <tr>\n",
       "      <th>2</th>\n",
       "      <td>4615000.0</td>\n",
       "    </tr>\n",
       "    <tr>\n",
       "      <th>1</th>\n",
       "      <td>4600000.0</td>\n",
       "    </tr>\n",
       "    <tr>\n",
       "      <th>3</th>\n",
       "      <td>4600000.0</td>\n",
       "    </tr>\n",
       "    <tr>\n",
       "      <th>12</th>\n",
       "      <td>4600000.0</td>\n",
       "    </tr>\n",
       "    <tr>\n",
       "      <th>11</th>\n",
       "      <td>4570000.0</td>\n",
       "    </tr>\n",
       "    <tr>\n",
       "      <th>5</th>\n",
       "      <td>4500000.0</td>\n",
       "    </tr>\n",
       "    <tr>\n",
       "      <th>7</th>\n",
       "      <td>4500000.0</td>\n",
       "    </tr>\n",
       "    <tr>\n",
       "      <th>8</th>\n",
       "      <td>4500000.0</td>\n",
       "    </tr>\n",
       "    <tr>\n",
       "      <th>10</th>\n",
       "      <td>4500000.0</td>\n",
       "    </tr>\n",
       "    <tr>\n",
       "      <th>6</th>\n",
       "      <td>4390000.0</td>\n",
       "    </tr>\n",
       "  </tbody>\n",
       "</table>\n",
       "</div>"
      ],
      "text/plain": [
       "       last_price\n",
       "month            \n",
       "4       4700000.0\n",
       "9       4635000.0\n",
       "2       4615000.0\n",
       "1       4600000.0\n",
       "3       4600000.0\n",
       "12      4600000.0\n",
       "11      4570000.0\n",
       "5       4500000.0\n",
       "7       4500000.0\n",
       "8       4500000.0\n",
       "10      4500000.0\n",
       "6       4390000.0"
      ]
     },
     "execution_count": 80,
     "metadata": {},
     "output_type": "execute_result"
    }
   ],
   "source": [
    "# create pivot table of median 'last_price' value of every unique 'month' value \n",
    "pd.pivot_table(data, index='month', values='last_price', aggfunc='median').sort_values(by='last_price', ascending=False)"
   ]
  },
  {
   "cell_type": "markdown",
   "metadata": {},
   "source": [
    "Самые дорогие квартиры размещаются в апреле, сентябре, феврале и январе, самые дешевые – в июне."
   ]
  },
  {
   "cell_type": "code",
   "execution_count": 81,
   "metadata": {},
   "outputs": [
    {
     "data": {
      "text/html": [
       "<div>\n",
       "<style scoped>\n",
       "    .dataframe tbody tr th:only-of-type {\n",
       "        vertical-align: middle;\n",
       "    }\n",
       "\n",
       "    .dataframe tbody tr th {\n",
       "        vertical-align: top;\n",
       "    }\n",
       "\n",
       "    .dataframe thead th {\n",
       "        text-align: right;\n",
       "    }\n",
       "</style>\n",
       "<table border=\"1\" class=\"dataframe\">\n",
       "  <thead>\n",
       "    <tr style=\"text-align: right;\">\n",
       "      <th></th>\n",
       "      <th>last_price</th>\n",
       "    </tr>\n",
       "    <tr>\n",
       "      <th>year</th>\n",
       "      <th></th>\n",
       "    </tr>\n",
       "  </thead>\n",
       "  <tbody>\n",
       "    <tr>\n",
       "      <th>2014</th>\n",
       "      <td>7100000.0</td>\n",
       "    </tr>\n",
       "    <tr>\n",
       "      <th>2015</th>\n",
       "      <td>5000000.0</td>\n",
       "    </tr>\n",
       "    <tr>\n",
       "      <th>2016</th>\n",
       "      <td>4450000.0</td>\n",
       "    </tr>\n",
       "    <tr>\n",
       "      <th>2017</th>\n",
       "      <td>4450000.0</td>\n",
       "    </tr>\n",
       "    <tr>\n",
       "      <th>2018</th>\n",
       "      <td>4550000.0</td>\n",
       "    </tr>\n",
       "    <tr>\n",
       "      <th>2019</th>\n",
       "      <td>5000000.0</td>\n",
       "    </tr>\n",
       "  </tbody>\n",
       "</table>\n",
       "</div>"
      ],
      "text/plain": [
       "      last_price\n",
       "year            \n",
       "2014   7100000.0\n",
       "2015   5000000.0\n",
       "2016   4450000.0\n",
       "2017   4450000.0\n",
       "2018   4550000.0\n",
       "2019   5000000.0"
      ]
     },
     "execution_count": 81,
     "metadata": {},
     "output_type": "execute_result"
    }
   ],
   "source": [
    "# create pivot table of median 'last_price' value of every unique 'year' value \n",
    "pd.pivot_table(data, index='year', values='last_price', aggfunc='median')"
   ]
  },
  {
   "cell_type": "markdown",
   "metadata": {},
   "source": [
    "Стоимость квартир довольно сильно упала с 2014 года и продолжала падать до 2017 включительно, но с 2018 года стоимость растет."
   ]
  },
  {
   "cell_type": "markdown",
   "metadata": {},
   "source": [
    "### Исследование зависимости цены от населенного пункта"
   ]
  },
  {
   "cell_type": "markdown",
   "metadata": {},
   "source": [
    "Выберем 10 населённых пунктов с наибольшим числом объявлений и посчитает среднюю цену квадратного метра в каждом из них."
   ]
  },
  {
   "cell_type": "code",
   "execution_count": 82,
   "metadata": {},
   "outputs": [
    {
     "data": {
      "text/plain": [
       "Index(['Санкт-Петербург', 'Мурино', 'Кудрово', 'Шушары', 'Всеволожск',\n",
       "       'Пушкин', 'Колпино', 'Парголово', 'Гатчина', 'Выборг'],\n",
       "      dtype='object', name='temp_locality_name')"
      ]
     },
     "execution_count": 82,
     "metadata": {},
     "output_type": "execute_result"
    }
   ],
   "source": [
    "# find 10 most common values in 'temp_locality_name' column\n",
    "ten_most_common_localities = data.groupby('temp_locality_name')['total_area'].count().sort_values(ascending=False).index[:10]\n",
    "ten_most_common_localities"
   ]
  },
  {
   "cell_type": "code",
   "execution_count": 83,
   "metadata": {
    "scrolled": true
   },
   "outputs": [
    {
     "name": "stdout",
     "output_type": "stream",
     "text": [
      "Средняя цена квадратного метра в населенном пункте Санкт-Петербург: 108432.12828128344\n",
      "Средняя цена квадратного метра в населенном пункте Мурино: 86047.93388488768\n",
      "Средняя цена квадратного метра в населенном пункте Кудрово: 95142.37435676019\n",
      "Средняя цена квадратного метра в населенном пункте Шушары: 78826.5714947359\n",
      "Средняя цена квадратного метра в населенном пункте Всеволожск: 67099.1079682334\n",
      "Средняя цена квадратного метра в населенном пункте Пушкин: 102118.23197536987\n",
      "Средняя цена квадратного метра в населенном пункте Колпино: 75563.38669331204\n",
      "Средняя цена квадратного метра в населенном пункте Парголово: 90666.18795653858\n",
      "Средняя цена квадратного метра в населенном пункте Гатчина: 68475.62282849514\n",
      "Средняя цена квадратного метра в населенном пункте Выборг: 58213.45697406598\n"
     ]
    }
   ],
   "source": [
    "for value in ten_most_common_localities:\n",
    "    print(f\"Средняя цена квадратного метра в населенном пункте {value}: {data[data['temp_locality_name'] == value]['price_per_sq_m'].mean()}\")"
   ]
  },
  {
   "cell_type": "markdown",
   "metadata": {},
   "source": [
    "Найдем населенные пункты с самой высокой средней стоимость квадратного метра."
   ]
  },
  {
   "cell_type": "code",
   "execution_count": 84,
   "metadata": {},
   "outputs": [
    {
     "data": {
      "text/html": [
       "<div>\n",
       "<style scoped>\n",
       "    .dataframe tbody tr th:only-of-type {\n",
       "        vertical-align: middle;\n",
       "    }\n",
       "\n",
       "    .dataframe tbody tr th {\n",
       "        vertical-align: top;\n",
       "    }\n",
       "\n",
       "    .dataframe thead tr th {\n",
       "        text-align: left;\n",
       "    }\n",
       "\n",
       "    .dataframe thead tr:last-of-type th {\n",
       "        text-align: right;\n",
       "    }\n",
       "</style>\n",
       "<table border=\"1\" class=\"dataframe\">\n",
       "  <thead>\n",
       "    <tr>\n",
       "      <th></th>\n",
       "      <th>mean</th>\n",
       "    </tr>\n",
       "    <tr>\n",
       "      <th></th>\n",
       "      <th>price_per_sq_m</th>\n",
       "    </tr>\n",
       "    <tr>\n",
       "      <th>temp_locality_name</th>\n",
       "      <th></th>\n",
       "    </tr>\n",
       "  </thead>\n",
       "  <tbody>\n",
       "    <tr>\n",
       "      <th>Санкт-Петербург</th>\n",
       "      <td>108432.128281</td>\n",
       "    </tr>\n",
       "    <tr>\n",
       "      <th>Зеленогорск</th>\n",
       "      <td>106043.631251</td>\n",
       "    </tr>\n",
       "    <tr>\n",
       "      <th>Пушкин</th>\n",
       "      <td>102118.231975</td>\n",
       "    </tr>\n",
       "    <tr>\n",
       "      <th>Сестрорецк</th>\n",
       "      <td>101219.206385</td>\n",
       "    </tr>\n",
       "    <tr>\n",
       "      <th>Левашово</th>\n",
       "      <td>96997.690531</td>\n",
       "    </tr>\n",
       "    <tr>\n",
       "      <th>Кудрово</th>\n",
       "      <td>95142.374357</td>\n",
       "    </tr>\n",
       "    <tr>\n",
       "      <th>Мистолово</th>\n",
       "      <td>93098.851931</td>\n",
       "    </tr>\n",
       "    <tr>\n",
       "      <th>Парголово</th>\n",
       "      <td>90666.187957</td>\n",
       "    </tr>\n",
       "    <tr>\n",
       "      <th>Стрельна</th>\n",
       "      <td>89122.955568</td>\n",
       "    </tr>\n",
       "    <tr>\n",
       "      <th>Мурино</th>\n",
       "      <td>86047.933885</td>\n",
       "    </tr>\n",
       "  </tbody>\n",
       "</table>\n",
       "</div>"
      ],
      "text/plain": [
       "                             mean\n",
       "                   price_per_sq_m\n",
       "temp_locality_name               \n",
       "Санкт-Петербург     108432.128281\n",
       "Зеленогорск         106043.631251\n",
       "Пушкин              102118.231975\n",
       "Сестрорецк          101219.206385\n",
       "Левашово             96997.690531\n",
       "Кудрово              95142.374357\n",
       "Мистолово            93098.851931\n",
       "Парголово            90666.187957\n",
       "Стрельна             89122.955568\n",
       "Мурино               86047.933885"
      ]
     },
     "execution_count": 84,
     "metadata": {},
     "output_type": "execute_result"
    }
   ],
   "source": [
    "# create pivot table of localities with most expensive price per square meter\n",
    "pd.pivot_table(data, index='temp_locality_name', values='price_per_sq_m', aggfunc=['mean']).sort_values(('mean', 'price_per_sq_m'), ascending=False)[:10]"
   ]
  },
  {
   "cell_type": "markdown",
   "metadata": {},
   "source": [
    "Найдем населенные пункты с самой низкой средней стоимость квадратного метра."
   ]
  },
  {
   "cell_type": "code",
   "execution_count": 85,
   "metadata": {},
   "outputs": [
    {
     "data": {
      "text/html": [
       "<div>\n",
       "<style scoped>\n",
       "    .dataframe tbody tr th:only-of-type {\n",
       "        vertical-align: middle;\n",
       "    }\n",
       "\n",
       "    .dataframe tbody tr th {\n",
       "        vertical-align: top;\n",
       "    }\n",
       "\n",
       "    .dataframe thead tr th {\n",
       "        text-align: left;\n",
       "    }\n",
       "\n",
       "    .dataframe thead tr:last-of-type th {\n",
       "        text-align: right;\n",
       "    }\n",
       "</style>\n",
       "<table border=\"1\" class=\"dataframe\">\n",
       "  <thead>\n",
       "    <tr>\n",
       "      <th></th>\n",
       "      <th>mean</th>\n",
       "    </tr>\n",
       "    <tr>\n",
       "      <th></th>\n",
       "      <th>price_per_sq_m</th>\n",
       "    </tr>\n",
       "    <tr>\n",
       "      <th>temp_locality_name</th>\n",
       "      <th></th>\n",
       "    </tr>\n",
       "  </thead>\n",
       "  <tbody>\n",
       "    <tr>\n",
       "      <th>Старополье</th>\n",
       "      <td>11309.331797</td>\n",
       "    </tr>\n",
       "    <tr>\n",
       "      <th>Выскатка</th>\n",
       "      <td>11463.414634</td>\n",
       "    </tr>\n",
       "    <tr>\n",
       "      <th>Свирь</th>\n",
       "      <td>11481.481481</td>\n",
       "    </tr>\n",
       "    <tr>\n",
       "      <th>Ям-Тесово</th>\n",
       "      <td>12328.767123</td>\n",
       "    </tr>\n",
       "    <tr>\n",
       "      <th>Совхозный</th>\n",
       "      <td>12555.555556</td>\n",
       "    </tr>\n",
       "    <tr>\n",
       "      <th>Тёсово-4</th>\n",
       "      <td>12931.034483</td>\n",
       "    </tr>\n",
       "    <tr>\n",
       "      <th>Сижно</th>\n",
       "      <td>13709.677419</td>\n",
       "    </tr>\n",
       "    <tr>\n",
       "      <th>Житково</th>\n",
       "      <td>14956.275202</td>\n",
       "    </tr>\n",
       "    <tr>\n",
       "      <th>Лужайка</th>\n",
       "      <td>15000.000000</td>\n",
       "    </tr>\n",
       "    <tr>\n",
       "      <th>Почап</th>\n",
       "      <td>16037.735849</td>\n",
       "    </tr>\n",
       "  </tbody>\n",
       "</table>\n",
       "</div>"
      ],
      "text/plain": [
       "                             mean\n",
       "                   price_per_sq_m\n",
       "temp_locality_name               \n",
       "Старополье           11309.331797\n",
       "Выскатка             11463.414634\n",
       "Свирь                11481.481481\n",
       "Ям-Тесово            12328.767123\n",
       "Совхозный            12555.555556\n",
       "Тёсово-4             12931.034483\n",
       "Сижно                13709.677419\n",
       "Житково              14956.275202\n",
       "Лужайка              15000.000000\n",
       "Почап                16037.735849"
      ]
     },
     "execution_count": 85,
     "metadata": {},
     "output_type": "execute_result"
    }
   ],
   "source": [
    "# create pivot table of localities with cheapest price per square meter\n",
    "pd.pivot_table(data, index='temp_locality_name', values='price_per_sq_m', aggfunc=['mean']).sort_values(('mean', 'price_per_sq_m'))[:10]"
   ]
  },
  {
   "cell_type": "markdown",
   "metadata": {},
   "source": [
    "### Определение центра"
   ]
  },
  {
   "cell_type": "markdown",
   "metadata": {},
   "source": [
    "Выделим квартиры в Санкт-Петербурге."
   ]
  },
  {
   "cell_type": "code",
   "execution_count": 86,
   "metadata": {},
   "outputs": [],
   "source": [
    "# data from 'Санкт-Петербург'\n",
    "peter_data = data[data['temp_locality_name'] == 'Санкт-Петербург']"
   ]
  },
  {
   "cell_type": "markdown",
   "metadata": {},
   "source": [
    "Создадим столбец с расстоянием до центра в км."
   ]
  },
  {
   "cell_type": "code",
   "execution_count": 87,
   "metadata": {},
   "outputs": [],
   "source": [
    "# filter warnings\n",
    "import warnings\n",
    "warnings.filterwarnings('ignore')\n",
    "\n",
    "# create new column 'city_center_distance_km'\n",
    "peter_data['city_center_distance_km'] = peter_data['city_center_distance'] // 1000"
   ]
  },
  {
   "cell_type": "markdown",
   "metadata": {},
   "source": [
    "Проверим добавление нового столбца."
   ]
  },
  {
   "cell_type": "code",
   "execution_count": 88,
   "metadata": {},
   "outputs": [
    {
     "data": {
      "text/html": [
       "<div>\n",
       "<style scoped>\n",
       "    .dataframe tbody tr th:only-of-type {\n",
       "        vertical-align: middle;\n",
       "    }\n",
       "\n",
       "    .dataframe tbody tr th {\n",
       "        vertical-align: top;\n",
       "    }\n",
       "\n",
       "    .dataframe thead th {\n",
       "        text-align: right;\n",
       "    }\n",
       "</style>\n",
       "<table border=\"1\" class=\"dataframe\">\n",
       "  <thead>\n",
       "    <tr style=\"text-align: right;\">\n",
       "      <th></th>\n",
       "      <th>total_images</th>\n",
       "      <th>last_price</th>\n",
       "      <th>total_area</th>\n",
       "      <th>first_day_exposition</th>\n",
       "      <th>rooms</th>\n",
       "      <th>ceiling_height</th>\n",
       "      <th>floors_total</th>\n",
       "      <th>living_area</th>\n",
       "      <th>floor</th>\n",
       "      <th>is_apartment</th>\n",
       "      <th>...</th>\n",
       "      <th>days_exposition</th>\n",
       "      <th>temp_locality_name</th>\n",
       "      <th>price_per_sq_m</th>\n",
       "      <th>weekday</th>\n",
       "      <th>month</th>\n",
       "      <th>year</th>\n",
       "      <th>floor_group</th>\n",
       "      <th>living_area_rate</th>\n",
       "      <th>kitchen_area_rate</th>\n",
       "      <th>city_center_distance_km</th>\n",
       "    </tr>\n",
       "  </thead>\n",
       "  <tbody>\n",
       "    <tr>\n",
       "      <th>0</th>\n",
       "      <td>20</td>\n",
       "      <td>13000000.0</td>\n",
       "      <td>108.0</td>\n",
       "      <td>2019-03-07</td>\n",
       "      <td>3</td>\n",
       "      <td>2.70</td>\n",
       "      <td>16</td>\n",
       "      <td>51.0</td>\n",
       "      <td>8</td>\n",
       "      <td>False</td>\n",
       "      <td>...</td>\n",
       "      <td>0</td>\n",
       "      <td>Санкт-Петербург</td>\n",
       "      <td>120370.370370</td>\n",
       "      <td>3</td>\n",
       "      <td>3</td>\n",
       "      <td>2019</td>\n",
       "      <td>другой</td>\n",
       "      <td>0.472222</td>\n",
       "      <td>0.231481</td>\n",
       "      <td>16.0</td>\n",
       "    </tr>\n",
       "    <tr>\n",
       "      <th>2</th>\n",
       "      <td>10</td>\n",
       "      <td>5196000.0</td>\n",
       "      <td>56.0</td>\n",
       "      <td>2015-08-20</td>\n",
       "      <td>2</td>\n",
       "      <td>2.65</td>\n",
       "      <td>5</td>\n",
       "      <td>34.3</td>\n",
       "      <td>4</td>\n",
       "      <td>False</td>\n",
       "      <td>...</td>\n",
       "      <td>558</td>\n",
       "      <td>Санкт-Петербург</td>\n",
       "      <td>92785.714286</td>\n",
       "      <td>3</td>\n",
       "      <td>8</td>\n",
       "      <td>2015</td>\n",
       "      <td>другой</td>\n",
       "      <td>0.612500</td>\n",
       "      <td>0.148214</td>\n",
       "      <td>13.0</td>\n",
       "    </tr>\n",
       "    <tr>\n",
       "      <th>4</th>\n",
       "      <td>2</td>\n",
       "      <td>10000000.0</td>\n",
       "      <td>100.0</td>\n",
       "      <td>2018-06-19</td>\n",
       "      <td>2</td>\n",
       "      <td>3.03</td>\n",
       "      <td>14</td>\n",
       "      <td>32.0</td>\n",
       "      <td>13</td>\n",
       "      <td>False</td>\n",
       "      <td>...</td>\n",
       "      <td>121</td>\n",
       "      <td>Санкт-Петербург</td>\n",
       "      <td>100000.000000</td>\n",
       "      <td>1</td>\n",
       "      <td>6</td>\n",
       "      <td>2018</td>\n",
       "      <td>другой</td>\n",
       "      <td>0.320000</td>\n",
       "      <td>0.410000</td>\n",
       "      <td>8.0</td>\n",
       "    </tr>\n",
       "    <tr>\n",
       "      <th>7</th>\n",
       "      <td>5</td>\n",
       "      <td>7915000.0</td>\n",
       "      <td>71.6</td>\n",
       "      <td>2019-04-18</td>\n",
       "      <td>2</td>\n",
       "      <td>2.65</td>\n",
       "      <td>24</td>\n",
       "      <td>0.0</td>\n",
       "      <td>22</td>\n",
       "      <td>False</td>\n",
       "      <td>...</td>\n",
       "      <td>0</td>\n",
       "      <td>Санкт-Петербург</td>\n",
       "      <td>110544.692737</td>\n",
       "      <td>3</td>\n",
       "      <td>4</td>\n",
       "      <td>2019</td>\n",
       "      <td>другой</td>\n",
       "      <td>0.000000</td>\n",
       "      <td>0.263966</td>\n",
       "      <td>11.0</td>\n",
       "    </tr>\n",
       "    <tr>\n",
       "      <th>9</th>\n",
       "      <td>18</td>\n",
       "      <td>5400000.0</td>\n",
       "      <td>61.0</td>\n",
       "      <td>2017-02-26</td>\n",
       "      <td>3</td>\n",
       "      <td>2.50</td>\n",
       "      <td>9</td>\n",
       "      <td>43.6</td>\n",
       "      <td>7</td>\n",
       "      <td>False</td>\n",
       "      <td>...</td>\n",
       "      <td>289</td>\n",
       "      <td>Санкт-Петербург</td>\n",
       "      <td>88524.590164</td>\n",
       "      <td>6</td>\n",
       "      <td>2</td>\n",
       "      <td>2017</td>\n",
       "      <td>другой</td>\n",
       "      <td>0.714754</td>\n",
       "      <td>0.106557</td>\n",
       "      <td>15.0</td>\n",
       "    </tr>\n",
       "  </tbody>\n",
       "</table>\n",
       "<p>5 rows × 31 columns</p>\n",
       "</div>"
      ],
      "text/plain": [
       "   total_images  last_price  total_area first_day_exposition  rooms  \\\n",
       "0            20  13000000.0       108.0           2019-03-07      3   \n",
       "2            10   5196000.0        56.0           2015-08-20      2   \n",
       "4             2  10000000.0       100.0           2018-06-19      2   \n",
       "7             5   7915000.0        71.6           2019-04-18      2   \n",
       "9            18   5400000.0        61.0           2017-02-26      3   \n",
       "\n",
       "   ceiling_height  floors_total  living_area  floor  is_apartment  ...  \\\n",
       "0            2.70            16         51.0      8         False  ...   \n",
       "2            2.65             5         34.3      4         False  ...   \n",
       "4            3.03            14         32.0     13         False  ...   \n",
       "7            2.65            24          0.0     22         False  ...   \n",
       "9            2.50             9         43.6      7         False  ...   \n",
       "\n",
       "   days_exposition  temp_locality_name  price_per_sq_m  weekday month  year  \\\n",
       "0                0     Санкт-Петербург   120370.370370        3     3  2019   \n",
       "2              558     Санкт-Петербург    92785.714286        3     8  2015   \n",
       "4              121     Санкт-Петербург   100000.000000        1     6  2018   \n",
       "7                0     Санкт-Петербург   110544.692737        3     4  2019   \n",
       "9              289     Санкт-Петербург    88524.590164        6     2  2017   \n",
       "\n",
       "   floor_group  living_area_rate  kitchen_area_rate  city_center_distance_km  \n",
       "0       другой          0.472222           0.231481                     16.0  \n",
       "2       другой          0.612500           0.148214                     13.0  \n",
       "4       другой          0.320000           0.410000                      8.0  \n",
       "7       другой          0.000000           0.263966                     11.0  \n",
       "9       другой          0.714754           0.106557                     15.0  \n",
       "\n",
       "[5 rows x 31 columns]"
      ]
     },
     "execution_count": 88,
     "metadata": {},
     "output_type": "execute_result"
    }
   ],
   "source": [
    "peter_data.head() # show first 5 rows"
   ]
  },
  {
   "cell_type": "markdown",
   "metadata": {},
   "source": [
    "Посчитаем для каждого километра медианную цену квартиры."
   ]
  },
  {
   "cell_type": "code",
   "execution_count": 89,
   "metadata": {},
   "outputs": [
    {
     "data": {
      "text/html": [
       "<div>\n",
       "<style scoped>\n",
       "    .dataframe tbody tr th:only-of-type {\n",
       "        vertical-align: middle;\n",
       "    }\n",
       "\n",
       "    .dataframe tbody tr th {\n",
       "        vertical-align: top;\n",
       "    }\n",
       "\n",
       "    .dataframe thead tr th {\n",
       "        text-align: left;\n",
       "    }\n",
       "\n",
       "    .dataframe thead tr:last-of-type th {\n",
       "        text-align: right;\n",
       "    }\n",
       "</style>\n",
       "<table border=\"1\" class=\"dataframe\">\n",
       "  <thead>\n",
       "    <tr>\n",
       "      <th></th>\n",
       "      <th>median</th>\n",
       "    </tr>\n",
       "    <tr>\n",
       "      <th></th>\n",
       "      <th>last_price</th>\n",
       "    </tr>\n",
       "    <tr>\n",
       "      <th>city_center_distance_km</th>\n",
       "      <th></th>\n",
       "    </tr>\n",
       "  </thead>\n",
       "  <tbody>\n",
       "    <tr>\n",
       "      <th>0.0</th>\n",
       "      <td>9000000.0</td>\n",
       "    </tr>\n",
       "    <tr>\n",
       "      <th>1.0</th>\n",
       "      <td>9300000.0</td>\n",
       "    </tr>\n",
       "    <tr>\n",
       "      <th>2.0</th>\n",
       "      <td>8860000.0</td>\n",
       "    </tr>\n",
       "    <tr>\n",
       "      <th>3.0</th>\n",
       "      <td>8000000.0</td>\n",
       "    </tr>\n",
       "    <tr>\n",
       "      <th>4.0</th>\n",
       "      <td>8575000.0</td>\n",
       "    </tr>\n",
       "    <tr>\n",
       "      <th>5.0</th>\n",
       "      <td>7995000.0</td>\n",
       "    </tr>\n",
       "    <tr>\n",
       "      <th>6.0</th>\n",
       "      <td>7200000.0</td>\n",
       "    </tr>\n",
       "    <tr>\n",
       "      <th>7.0</th>\n",
       "      <td>6990000.0</td>\n",
       "    </tr>\n",
       "    <tr>\n",
       "      <th>8.0</th>\n",
       "      <td>6163821.5</td>\n",
       "    </tr>\n",
       "    <tr>\n",
       "      <th>9.0</th>\n",
       "      <td>5000000.0</td>\n",
       "    </tr>\n",
       "    <tr>\n",
       "      <th>10.0</th>\n",
       "      <td>4990000.0</td>\n",
       "    </tr>\n",
       "    <tr>\n",
       "      <th>11.0</th>\n",
       "      <td>4990000.0</td>\n",
       "    </tr>\n",
       "    <tr>\n",
       "      <th>12.0</th>\n",
       "      <td>5000000.0</td>\n",
       "    </tr>\n",
       "    <tr>\n",
       "      <th>13.0</th>\n",
       "      <td>5150000.0</td>\n",
       "    </tr>\n",
       "    <tr>\n",
       "      <th>14.0</th>\n",
       "      <td>4898500.0</td>\n",
       "    </tr>\n",
       "    <tr>\n",
       "      <th>15.0</th>\n",
       "      <td>4800000.0</td>\n",
       "    </tr>\n",
       "    <tr>\n",
       "      <th>16.0</th>\n",
       "      <td>4600000.0</td>\n",
       "    </tr>\n",
       "    <tr>\n",
       "      <th>17.0</th>\n",
       "      <td>4400000.0</td>\n",
       "    </tr>\n",
       "    <tr>\n",
       "      <th>18.0</th>\n",
       "      <td>4300000.0</td>\n",
       "    </tr>\n",
       "    <tr>\n",
       "      <th>19.0</th>\n",
       "      <td>4500000.0</td>\n",
       "    </tr>\n",
       "    <tr>\n",
       "      <th>20.0</th>\n",
       "      <td>6120000.0</td>\n",
       "    </tr>\n",
       "    <tr>\n",
       "      <th>21.0</th>\n",
       "      <td>4697500.0</td>\n",
       "    </tr>\n",
       "    <tr>\n",
       "      <th>22.0</th>\n",
       "      <td>4970000.0</td>\n",
       "    </tr>\n",
       "    <tr>\n",
       "      <th>23.0</th>\n",
       "      <td>3810000.0</td>\n",
       "    </tr>\n",
       "    <tr>\n",
       "      <th>24.0</th>\n",
       "      <td>3300000.0</td>\n",
       "    </tr>\n",
       "    <tr>\n",
       "      <th>25.0</th>\n",
       "      <td>3490000.0</td>\n",
       "    </tr>\n",
       "    <tr>\n",
       "      <th>26.0</th>\n",
       "      <td>3287500.0</td>\n",
       "    </tr>\n",
       "    <tr>\n",
       "      <th>27.0</th>\n",
       "      <td>8300000.0</td>\n",
       "    </tr>\n",
       "    <tr>\n",
       "      <th>28.0</th>\n",
       "      <td>4775000.0</td>\n",
       "    </tr>\n",
       "    <tr>\n",
       "      <th>29.0</th>\n",
       "      <td>4200000.0</td>\n",
       "    </tr>\n",
       "    <tr>\n",
       "      <th>31.0</th>\n",
       "      <td>4175000.0</td>\n",
       "    </tr>\n",
       "    <tr>\n",
       "      <th>41.0</th>\n",
       "      <td>17122148.0</td>\n",
       "    </tr>\n",
       "  </tbody>\n",
       "</table>\n",
       "</div>"
      ],
      "text/plain": [
       "                             median\n",
       "                         last_price\n",
       "city_center_distance_km            \n",
       "0.0                       9000000.0\n",
       "1.0                       9300000.0\n",
       "2.0                       8860000.0\n",
       "3.0                       8000000.0\n",
       "4.0                       8575000.0\n",
       "5.0                       7995000.0\n",
       "6.0                       7200000.0\n",
       "7.0                       6990000.0\n",
       "8.0                       6163821.5\n",
       "9.0                       5000000.0\n",
       "10.0                      4990000.0\n",
       "11.0                      4990000.0\n",
       "12.0                      5000000.0\n",
       "13.0                      5150000.0\n",
       "14.0                      4898500.0\n",
       "15.0                      4800000.0\n",
       "16.0                      4600000.0\n",
       "17.0                      4400000.0\n",
       "18.0                      4300000.0\n",
       "19.0                      4500000.0\n",
       "20.0                      6120000.0\n",
       "21.0                      4697500.0\n",
       "22.0                      4970000.0\n",
       "23.0                      3810000.0\n",
       "24.0                      3300000.0\n",
       "25.0                      3490000.0\n",
       "26.0                      3287500.0\n",
       "27.0                      8300000.0\n",
       "28.0                      4775000.0\n",
       "29.0                      4200000.0\n",
       "31.0                      4175000.0\n",
       "41.0                     17122148.0"
      ]
     },
     "execution_count": 89,
     "metadata": {},
     "output_type": "execute_result"
    }
   ],
   "source": [
    "# create pivot table of average price per every kilometer\n",
    "distance_price_pivot = pd.pivot_table(peter_data, index='city_center_distance_km', values='last_price', aggfunc=['median'])\n",
    "distance_price_pivot"
   ]
  },
  {
   "cell_type": "code",
   "execution_count": 90,
   "metadata": {},
   "outputs": [
    {
     "data": {
      "text/plain": [
       "<AxesSubplot:xlabel='расстояние до центра, км', ylabel='цена квартиры'>"
      ]
     },
     "execution_count": 90,
     "metadata": {},
     "output_type": "execute_result"
    },
    {
     "data": {
      "image/png": "[encoded data removed]",
      "text/plain": [
       "<Figure size 432x288 with 1 Axes>"
      ]
     },
     "metadata": {
      "needs_background": "light"
     },
     "output_type": "display_data"
    }
   ],
   "source": [
    "distance_price_pivot.plot(grid=True, legend=False, xlabel='расстояние до центра, км', ylabel='цена квартиры')"
   ]
  },
  {
   "cell_type": "markdown",
   "metadata": {},
   "source": [
    "Чуть раньше 10 км график сильно меняет свое поведение. Будем считать, что все квартиры, у которых значение столбца `city_center_distance_km` меньше 10 находятся в центре."
   ]
  },
  {
   "cell_type": "code",
   "execution_count": 91,
   "metadata": {},
   "outputs": [],
   "source": [
    "city_center_data = peter_data[peter_data['city_center_distance_km'] < 10]"
   ]
  },
  {
   "cell_type": "markdown",
   "metadata": {},
   "source": [
    "Проверим."
   ]
  },
  {
   "cell_type": "code",
   "execution_count": 92,
   "metadata": {},
   "outputs": [
    {
     "data": {
      "text/plain": [
       "count    4064.000000\n",
       "mean        5.494833\n",
       "std         2.462212\n",
       "min         0.000000\n",
       "25%         4.000000\n",
       "50%         5.000000\n",
       "75%         8.000000\n",
       "max         9.000000\n",
       "Name: city_center_distance_km, dtype: float64"
      ]
     },
     "execution_count": 92,
     "metadata": {},
     "output_type": "execute_result"
    }
   ],
   "source": [
    "city_center_data['city_center_distance_km'].describe()"
   ]
  },
  {
   "cell_type": "markdown",
   "metadata": {},
   "source": [
    "### Исследование квартир в центре"
   ]
  },
  {
   "cell_type": "markdown",
   "metadata": {},
   "source": [
    "Исследуем квартиры в центре."
   ]
  },
  {
   "cell_type": "code",
   "execution_count": 93,
   "metadata": {},
   "outputs": [
    {
     "data": {
      "text/html": [
       "<div>\n",
       "<style scoped>\n",
       "    .dataframe tbody tr th:only-of-type {\n",
       "        vertical-align: middle;\n",
       "    }\n",
       "\n",
       "    .dataframe tbody tr th {\n",
       "        vertical-align: top;\n",
       "    }\n",
       "\n",
       "    .dataframe thead th {\n",
       "        text-align: right;\n",
       "    }\n",
       "</style>\n",
       "<table border=\"1\" class=\"dataframe\">\n",
       "  <thead>\n",
       "    <tr style=\"text-align: right;\">\n",
       "      <th></th>\n",
       "      <th>total_images</th>\n",
       "      <th>last_price</th>\n",
       "      <th>total_area</th>\n",
       "      <th>rooms</th>\n",
       "      <th>ceiling_height</th>\n",
       "      <th>floors_total</th>\n",
       "      <th>living_area</th>\n",
       "      <th>floor</th>\n",
       "      <th>kitchen_area</th>\n",
       "      <th>balconies_number</th>\n",
       "      <th>...</th>\n",
       "      <th>ponds_around_3000_number</th>\n",
       "      <th>pond_distance</th>\n",
       "      <th>days_exposition</th>\n",
       "      <th>price_per_sq_m</th>\n",
       "      <th>weekday</th>\n",
       "      <th>month</th>\n",
       "      <th>year</th>\n",
       "      <th>living_area_rate</th>\n",
       "      <th>kitchen_area_rate</th>\n",
       "      <th>city_center_distance_km</th>\n",
       "    </tr>\n",
       "  </thead>\n",
       "  <tbody>\n",
       "    <tr>\n",
       "      <th>count</th>\n",
       "      <td>4064.000000</td>\n",
       "      <td>4.064000e+03</td>\n",
       "      <td>4064.000000</td>\n",
       "      <td>4064.000000</td>\n",
       "      <td>4064.000000</td>\n",
       "      <td>4064.000000</td>\n",
       "      <td>4064.000000</td>\n",
       "      <td>4064.000000</td>\n",
       "      <td>4064.000000</td>\n",
       "      <td>4064.000000</td>\n",
       "      <td>...</td>\n",
       "      <td>4064.000000</td>\n",
       "      <td>2562.000000</td>\n",
       "      <td>4064.000000</td>\n",
       "      <td>4064.000000</td>\n",
       "      <td>4064.000000</td>\n",
       "      <td>4064.000000</td>\n",
       "      <td>4064.000000</td>\n",
       "      <td>4064.000000</td>\n",
       "      <td>4064.000000</td>\n",
       "      <td>4064.000000</td>\n",
       "    </tr>\n",
       "    <tr>\n",
       "      <th>mean</th>\n",
       "      <td>9.827018</td>\n",
       "      <td>8.275926e+06</td>\n",
       "      <td>70.722187</td>\n",
       "      <td>2.416093</td>\n",
       "      <td>2.843130</td>\n",
       "      <td>8.154281</td>\n",
       "      <td>39.457010</td>\n",
       "      <td>4.590551</td>\n",
       "      <td>11.637219</td>\n",
       "      <td>0.361467</td>\n",
       "      <td>...</td>\n",
       "      <td>1.099409</td>\n",
       "      <td>484.599532</td>\n",
       "      <td>176.054872</td>\n",
       "      <td>119728.421756</td>\n",
       "      <td>2.509843</td>\n",
       "      <td>6.327018</td>\n",
       "      <td>2017.276575</td>\n",
       "      <td>0.547155</td>\n",
       "      <td>0.179173</td>\n",
       "      <td>5.494833</td>\n",
       "    </tr>\n",
       "    <tr>\n",
       "      <th>std</th>\n",
       "      <td>5.728954</td>\n",
       "      <td>3.827650e+06</td>\n",
       "      <td>30.736861</td>\n",
       "      <td>1.134710</td>\n",
       "      <td>0.292866</td>\n",
       "      <td>5.113871</td>\n",
       "      <td>23.235733</td>\n",
       "      <td>3.573657</td>\n",
       "      <td>5.836728</td>\n",
       "      <td>0.787549</td>\n",
       "      <td>...</td>\n",
       "      <td>1.075977</td>\n",
       "      <td>265.534911</td>\n",
       "      <td>213.339830</td>\n",
       "      <td>33734.854604</td>\n",
       "      <td>1.731810</td>\n",
       "      <td>3.412288</td>\n",
       "      <td>1.083645</td>\n",
       "      <td>0.172050</td>\n",
       "      <td>0.082752</td>\n",
       "      <td>2.462212</td>\n",
       "    </tr>\n",
       "    <tr>\n",
       "      <th>min</th>\n",
       "      <td>0.000000</td>\n",
       "      <td>1.219000e+04</td>\n",
       "      <td>12.000000</td>\n",
       "      <td>0.000000</td>\n",
       "      <td>2.400000</td>\n",
       "      <td>2.000000</td>\n",
       "      <td>0.000000</td>\n",
       "      <td>1.000000</td>\n",
       "      <td>2.000000</td>\n",
       "      <td>0.000000</td>\n",
       "      <td>...</td>\n",
       "      <td>0.000000</td>\n",
       "      <td>22.000000</td>\n",
       "      <td>0.000000</td>\n",
       "      <td>111.834862</td>\n",
       "      <td>0.000000</td>\n",
       "      <td>1.000000</td>\n",
       "      <td>2014.000000</td>\n",
       "      <td>0.000000</td>\n",
       "      <td>0.048000</td>\n",
       "      <td>0.000000</td>\n",
       "    </tr>\n",
       "    <tr>\n",
       "      <th>25%</th>\n",
       "      <td>6.000000</td>\n",
       "      <td>5.400000e+06</td>\n",
       "      <td>46.400000</td>\n",
       "      <td>2.000000</td>\n",
       "      <td>2.650000</td>\n",
       "      <td>5.000000</td>\n",
       "      <td>22.800000</td>\n",
       "      <td>2.000000</td>\n",
       "      <td>8.000000</td>\n",
       "      <td>0.000000</td>\n",
       "      <td>...</td>\n",
       "      <td>0.000000</td>\n",
       "      <td>264.000000</td>\n",
       "      <td>20.000000</td>\n",
       "      <td>96190.360273</td>\n",
       "      <td>1.000000</td>\n",
       "      <td>3.000000</td>\n",
       "      <td>2017.000000</td>\n",
       "      <td>0.493958</td>\n",
       "      <td>0.122449</td>\n",
       "      <td>4.000000</td>\n",
       "    </tr>\n",
       "    <tr>\n",
       "      <th>50%</th>\n",
       "      <td>9.000000</td>\n",
       "      <td>7.500000e+06</td>\n",
       "      <td>65.650000</td>\n",
       "      <td>2.000000</td>\n",
       "      <td>2.700000</td>\n",
       "      <td>6.000000</td>\n",
       "      <td>36.000000</td>\n",
       "      <td>4.000000</td>\n",
       "      <td>10.000000</td>\n",
       "      <td>0.000000</td>\n",
       "      <td>...</td>\n",
       "      <td>1.000000</td>\n",
       "      <td>466.500000</td>\n",
       "      <td>95.000000</td>\n",
       "      <td>113333.333333</td>\n",
       "      <td>2.000000</td>\n",
       "      <td>6.000000</td>\n",
       "      <td>2017.000000</td>\n",
       "      <td>0.584545</td>\n",
       "      <td>0.156250</td>\n",
       "      <td>5.000000</td>\n",
       "    </tr>\n",
       "    <tr>\n",
       "      <th>75%</th>\n",
       "      <td>14.000000</td>\n",
       "      <td>1.041650e+07</td>\n",
       "      <td>87.325000</td>\n",
       "      <td>3.000000</td>\n",
       "      <td>3.000000</td>\n",
       "      <td>10.000000</td>\n",
       "      <td>52.000000</td>\n",
       "      <td>5.000000</td>\n",
       "      <td>13.700000</td>\n",
       "      <td>0.000000</td>\n",
       "      <td>...</td>\n",
       "      <td>2.000000</td>\n",
       "      <td>689.000000</td>\n",
       "      <td>249.000000</td>\n",
       "      <td>137292.526565</td>\n",
       "      <td>4.000000</td>\n",
       "      <td>9.000000</td>\n",
       "      <td>2018.000000</td>\n",
       "      <td>0.654078</td>\n",
       "      <td>0.214938</td>\n",
       "      <td>8.000000</td>\n",
       "    </tr>\n",
       "    <tr>\n",
       "      <th>max</th>\n",
       "      <td>35.000000</td>\n",
       "      <td>1.999900e+07</td>\n",
       "      <td>197.200000</td>\n",
       "      <td>11.000000</td>\n",
       "      <td>3.980000</td>\n",
       "      <td>28.000000</td>\n",
       "      <td>159.600000</td>\n",
       "      <td>26.000000</td>\n",
       "      <td>56.200000</td>\n",
       "      <td>5.000000</td>\n",
       "      <td>...</td>\n",
       "      <td>3.000000</td>\n",
       "      <td>1313.000000</td>\n",
       "      <td>1000.000000</td>\n",
       "      <td>355555.555556</td>\n",
       "      <td>6.000000</td>\n",
       "      <td>12.000000</td>\n",
       "      <td>2019.000000</td>\n",
       "      <td>0.983447</td>\n",
       "      <td>0.758333</td>\n",
       "      <td>9.000000</td>\n",
       "    </tr>\n",
       "  </tbody>\n",
       "</table>\n",
       "<p>8 rows × 24 columns</p>\n",
       "</div>"
      ],
      "text/plain": [
       "       total_images    last_price   total_area        rooms  ceiling_height  \\\n",
       "count   4064.000000  4.064000e+03  4064.000000  4064.000000     4064.000000   \n",
       "mean       9.827018  8.275926e+06    70.722187     2.416093        2.843130   \n",
       "std        5.728954  3.827650e+06    30.736861     1.134710        0.292866   \n",
       "min        0.000000  1.219000e+04    12.000000     0.000000        2.400000   \n",
       "25%        6.000000  5.400000e+06    46.400000     2.000000        2.650000   \n",
       "50%        9.000000  7.500000e+06    65.650000     2.000000        2.700000   \n",
       "75%       14.000000  1.041650e+07    87.325000     3.000000        3.000000   \n",
       "max       35.000000  1.999900e+07   197.200000    11.000000        3.980000   \n",
       "\n",
       "       floors_total  living_area        floor  kitchen_area  balconies_number  \\\n",
       "count   4064.000000  4064.000000  4064.000000   4064.000000       4064.000000   \n",
       "mean       8.154281    39.457010     4.590551     11.637219          0.361467   \n",
       "std        5.113871    23.235733     3.573657      5.836728          0.787549   \n",
       "min        2.000000     0.000000     1.000000      2.000000          0.000000   \n",
       "25%        5.000000    22.800000     2.000000      8.000000          0.000000   \n",
       "50%        6.000000    36.000000     4.000000     10.000000          0.000000   \n",
       "75%       10.000000    52.000000     5.000000     13.700000          0.000000   \n",
       "max       28.000000   159.600000    26.000000     56.200000          5.000000   \n",
       "\n",
       "       ...  ponds_around_3000_number  pond_distance  days_exposition  \\\n",
       "count  ...               4064.000000    2562.000000      4064.000000   \n",
       "mean   ...                  1.099409     484.599532       176.054872   \n",
       "std    ...                  1.075977     265.534911       213.339830   \n",
       "min    ...                  0.000000      22.000000         0.000000   \n",
       "25%    ...                  0.000000     264.000000        20.000000   \n",
       "50%    ...                  1.000000     466.500000        95.000000   \n",
       "75%    ...                  2.000000     689.000000       249.000000   \n",
       "max    ...                  3.000000    1313.000000      1000.000000   \n",
       "\n",
       "       price_per_sq_m      weekday        month         year  \\\n",
       "count     4064.000000  4064.000000  4064.000000  4064.000000   \n",
       "mean    119728.421756     2.509843     6.327018  2017.276575   \n",
       "std      33734.854604     1.731810     3.412288     1.083645   \n",
       "min        111.834862     0.000000     1.000000  2014.000000   \n",
       "25%      96190.360273     1.000000     3.000000  2017.000000   \n",
       "50%     113333.333333     2.000000     6.000000  2017.000000   \n",
       "75%     137292.526565     4.000000     9.000000  2018.000000   \n",
       "max     355555.555556     6.000000    12.000000  2019.000000   \n",
       "\n",
       "       living_area_rate  kitchen_area_rate  city_center_distance_km  \n",
       "count       4064.000000        4064.000000              4064.000000  \n",
       "mean           0.547155           0.179173                 5.494833  \n",
       "std            0.172050           0.082752                 2.462212  \n",
       "min            0.000000           0.048000                 0.000000  \n",
       "25%            0.493958           0.122449                 4.000000  \n",
       "50%            0.584545           0.156250                 5.000000  \n",
       "75%            0.654078           0.214938                 8.000000  \n",
       "max            0.983447           0.758333                 9.000000  \n",
       "\n",
       "[8 rows x 24 columns]"
      ]
     },
     "execution_count": 93,
     "metadata": {},
     "output_type": "execute_result"
    }
   ],
   "source": [
    "city_center_data.describe()"
   ]
  },
  {
   "cell_type": "markdown",
   "metadata": {},
   "source": [
    "#### Исследование площади, цены, числа комнат и высоты потолков"
   ]
  },
  {
   "cell_type": "markdown",
   "metadata": {},
   "source": [
    "##### Площадь "
   ]
  },
  {
   "cell_type": "markdown",
   "metadata": {},
   "source": [
    "Изучим площадь квартир в центре и сравним их со всеми."
   ]
  },
  {
   "cell_type": "code",
   "execution_count": 94,
   "metadata": {},
   "outputs": [
    {
     "name": "stdout",
     "output_type": "stream",
     "text": [
      "all:\n"
     ]
    },
    {
     "data": {
      "text/plain": [
       "count    20998.000000\n",
       "mean        56.326973\n",
       "std         23.516373\n",
       "min         12.000000\n",
       "25%         39.800000\n",
       "50%         50.970000\n",
       "75%         67.000000\n",
       "max        199.200000\n",
       "Name: total_area, dtype: float64"
      ]
     },
     "metadata": {},
     "output_type": "display_data"
    },
    {
     "name": "stdout",
     "output_type": "stream",
     "text": [
      "city centre:\n"
     ]
    },
    {
     "data": {
      "text/plain": [
       "count    4064.000000\n",
       "mean       70.722187\n",
       "std        30.736861\n",
       "min        12.000000\n",
       "25%        46.400000\n",
       "50%        65.650000\n",
       "75%        87.325000\n",
       "max       197.200000\n",
       "Name: total_area, dtype: float64"
      ]
     },
     "execution_count": 94,
     "metadata": {},
     "output_type": "execute_result"
    }
   ],
   "source": [
    "print('all:')\n",
    "display(data['total_area'].describe())\n",
    "print('city centre:')\n",
    "city_center_data['total_area'].describe()"
   ]
  },
  {
   "cell_type": "markdown",
   "metadata": {},
   "source": [
    "Построим гистограммы."
   ]
  },
  {
   "cell_type": "code",
   "execution_count": 95,
   "metadata": {},
   "outputs": [
    {
     "data": {
      "image/png": "[encoded data removed]",
      "text/plain": [
       "<Figure size 432x288 with 1 Axes>"
      ]
     },
     "metadata": {
      "needs_background": "light"
     },
     "output_type": "display_data"
    }
   ],
   "source": [
    "# plot 'total_area' histograms\n",
    "data['total_area'].plot(kind='hist', bins=100, range=(0, 210), label='all', legend=True) \n",
    "city_center_data['total_area'].plot(kind='hist', bins=100, range=(0, 210), label='city_centre', grid=True, legend=True)\n",
    "plt.show()"
   ]
  },
  {
   "cell_type": "markdown",
   "metadata": {},
   "source": [
    "Распределения площади всех квартир и квартир в центре схожи, но в среднем площадь квартир в центре больше."
   ]
  },
  {
   "cell_type": "markdown",
   "metadata": {},
   "source": [
    "##### Цена"
   ]
  },
  {
   "cell_type": "markdown",
   "metadata": {},
   "source": [
    "Изучим стоимость квартир в центре и сравним их со всеми."
   ]
  },
  {
   "cell_type": "code",
   "execution_count": 96,
   "metadata": {},
   "outputs": [
    {
     "name": "stdout",
     "output_type": "stream",
     "text": [
      "all:\n"
     ]
    },
    {
     "data": {
      "text/plain": [
       "count    2.099800e+04\n",
       "mean     5.403959e+06\n",
       "std      3.150292e+06\n",
       "min      1.219000e+04\n",
       "25%      3.400000e+06\n",
       "50%      4.575000e+06\n",
       "75%      6.500000e+06\n",
       "max      1.999900e+07\n",
       "Name: last_price, dtype: float64"
      ]
     },
     "metadata": {},
     "output_type": "display_data"
    },
    {
     "name": "stdout",
     "output_type": "stream",
     "text": [
      "city centre:\n"
     ]
    },
    {
     "data": {
      "text/plain": [
       "count    4.064000e+03\n",
       "mean     8.275926e+06\n",
       "std      3.827650e+06\n",
       "min      1.219000e+04\n",
       "25%      5.400000e+06\n",
       "50%      7.500000e+06\n",
       "75%      1.041650e+07\n",
       "max      1.999900e+07\n",
       "Name: last_price, dtype: float64"
      ]
     },
     "execution_count": 96,
     "metadata": {},
     "output_type": "execute_result"
    }
   ],
   "source": [
    "print('all:')\n",
    "display(data['last_price'].describe())\n",
    "print('city centre:')\n",
    "city_center_data['last_price'].describe()"
   ]
  },
  {
   "cell_type": "markdown",
   "metadata": {},
   "source": [
    "В среднем квартиры в центре дороже."
   ]
  },
  {
   "cell_type": "markdown",
   "metadata": {},
   "source": [
    "Построим гистограммы."
   ]
  },
  {
   "cell_type": "code",
   "execution_count": 97,
   "metadata": {},
   "outputs": [
    {
     "data": {
      "image/png": "[encoded data removed]",
      "text/plain": [
       "<Figure size 432x288 with 1 Axes>"
      ]
     },
     "metadata": {
      "needs_background": "light"
     },
     "output_type": "display_data"
    }
   ],
   "source": [
    "# plot 'last_price' histograms\n",
    "data['last_price'].plot(kind='hist', bins=100, range=(0, 3e7), label='all', legend=True) \n",
    "city_center_data['last_price'].plot(kind='hist', bins=100, range=(0, 3e7), label='city_centre', grid=True, legend=True)\n",
    "plt.show()"
   ]
  },
  {
   "cell_type": "markdown",
   "metadata": {},
   "source": [
    "Видно, что в центре совсем мало дешевых квартир, но почти все дорогие находятся в центре."
   ]
  },
  {
   "cell_type": "markdown",
   "metadata": {},
   "source": [
    "##### Число комнат"
   ]
  },
  {
   "cell_type": "markdown",
   "metadata": {},
   "source": [
    "Изучим число комнат у квартир в центре и сравним их со всеми."
   ]
  },
  {
   "cell_type": "code",
   "execution_count": 98,
   "metadata": {},
   "outputs": [
    {
     "name": "stdout",
     "output_type": "stream",
     "text": [
      "all:\n"
     ]
    },
    {
     "data": {
      "text/plain": [
       "count    20998.000000\n",
       "mean         2.003429\n",
       "std          0.970924\n",
       "min          0.000000\n",
       "25%          1.000000\n",
       "50%          2.000000\n",
       "75%          3.000000\n",
       "max         11.000000\n",
       "Name: rooms, dtype: float64"
      ]
     },
     "metadata": {},
     "output_type": "display_data"
    },
    {
     "name": "stdout",
     "output_type": "stream",
     "text": [
      "city centre:\n"
     ]
    },
    {
     "data": {
      "text/plain": [
       "count    4064.000000\n",
       "mean        2.416093\n",
       "std         1.134710\n",
       "min         0.000000\n",
       "25%         2.000000\n",
       "50%         2.000000\n",
       "75%         3.000000\n",
       "max        11.000000\n",
       "Name: rooms, dtype: float64"
      ]
     },
     "execution_count": 98,
     "metadata": {},
     "output_type": "execute_result"
    }
   ],
   "source": [
    "print('all:')\n",
    "display(data['rooms'].describe())\n",
    "print('city centre:')\n",
    "city_center_data['rooms'].describe()"
   ]
  },
  {
   "cell_type": "markdown",
   "metadata": {},
   "source": [
    "Построим гистограммы."
   ]
  },
  {
   "cell_type": "code",
   "execution_count": 99,
   "metadata": {},
   "outputs": [
    {
     "data": {
      "image/png": "[encoded data removed]",
      "text/plain": [
       "<Figure size 432x288 with 1 Axes>"
      ]
     },
     "metadata": {
      "needs_background": "light"
     },
     "output_type": "display_data"
    }
   ],
   "source": [
    "# plot 'rooms' histograms\n",
    "data['rooms'].plot(kind='hist', range=(0, 10), label='all', legend=True) \n",
    "city_center_data['rooms'].plot(kind='hist', range=(0, 10), label='city_centre', grid=True, legend=True)\n",
    "plt.show()"
   ]
  },
  {
   "cell_type": "markdown",
   "metadata": {},
   "source": [
    "Распределения числа комнат в квартирах в центре и всех похожи, но мода сдвинута: квартиры с тремя и четырьмя комнатами в центре встречаются чаще, чем с двумя."
   ]
  },
  {
   "cell_type": "markdown",
   "metadata": {},
   "source": [
    "##### Высота потолков"
   ]
  },
  {
   "cell_type": "markdown",
   "metadata": {},
   "source": [
    "Изучим высоту потолков у квартир в центре и сравним их со всеми."
   ]
  },
  {
   "cell_type": "code",
   "execution_count": 100,
   "metadata": {},
   "outputs": [
    {
     "name": "stdout",
     "output_type": "stream",
     "text": [
      "all:\n"
     ]
    },
    {
     "data": {
      "text/plain": [
       "count    20998.000000\n",
       "mean         2.683027\n",
       "std          0.186152\n",
       "min          2.300000\n",
       "25%          2.600000\n",
       "50%          2.650000\n",
       "75%          2.700000\n",
       "max          3.980000\n",
       "Name: ceiling_height, dtype: float64"
      ]
     },
     "metadata": {},
     "output_type": "display_data"
    },
    {
     "name": "stdout",
     "output_type": "stream",
     "text": [
      "city centre:\n"
     ]
    },
    {
     "data": {
      "text/plain": [
       "count    4064.000000\n",
       "mean        2.843130\n",
       "std         0.292866\n",
       "min         2.400000\n",
       "25%         2.650000\n",
       "50%         2.700000\n",
       "75%         3.000000\n",
       "max         3.980000\n",
       "Name: ceiling_height, dtype: float64"
      ]
     },
     "execution_count": 100,
     "metadata": {},
     "output_type": "execute_result"
    }
   ],
   "source": [
    "print('all:')\n",
    "display(data['ceiling_height'].describe())\n",
    "print('city centre:')\n",
    "city_center_data['ceiling_height'].describe()"
   ]
  },
  {
   "cell_type": "markdown",
   "metadata": {},
   "source": [
    "Построим гистограммы."
   ]
  },
  {
   "cell_type": "code",
   "execution_count": 101,
   "metadata": {},
   "outputs": [
    {
     "data": {
      "image/png": "[encoded data removed]",
      "text/plain": [
       "<Figure size 432x288 with 1 Axes>"
      ]
     },
     "metadata": {
      "needs_background": "light"
     },
     "output_type": "display_data"
    }
   ],
   "source": [
    "# plot 'ceiling_height' histograms\n",
    "data['ceiling_height'].plot(kind='hist', bins=20, range=(2.4, 4.2), label='all', legend=True) \n",
    "city_center_data['ceiling_height'].plot(kind='hist', bins=20, range=(2.4, 4.2), label='city_centre', grid=True, legend=True)\n",
    "plt.show()"
   ]
  },
  {
   "cell_type": "markdown",
   "metadata": {},
   "source": [
    "Видно, что у квартир в центре более высокие потолки."
   ]
  },
  {
   "cell_type": "markdown",
   "metadata": {},
   "source": [
    "#### Исследование влияния различных факторов на цену"
   ]
  },
  {
   "cell_type": "markdown",
   "metadata": {},
   "source": [
    "Изучим влияние различных факторов на стоимость квартиры."
   ]
  },
  {
   "cell_type": "code",
   "execution_count": 102,
   "metadata": {},
   "outputs": [
    {
     "data": {
      "text/plain": [
       "last_price                  1.000000\n",
       "total_area                  0.772690\n",
       "living_area                 0.563724\n",
       "rooms                       0.532905\n",
       "kitchen_area                0.517687\n",
       "price_per_sq_m              0.433677\n",
       "ceiling_height              0.293984\n",
       "ponds_around_3000_number    0.132689\n",
       "total_images                0.132126\n",
       "floor                       0.094107\n",
       "parks_around_3000_number    0.087495\n",
       "balconies_number            0.079183\n",
       "park_distance               0.060499\n",
       "days_exposition             0.059256\n",
       "floors_total                0.043403\n",
       "is_apartment                0.011391\n",
       "month                       0.006137\n",
       "living_area_rate           -0.004518\n",
       "weekday                    -0.017938\n",
       "year                       -0.021379\n",
       "is_free_layout             -0.023990\n",
       "pond_distance              -0.050527\n",
       "is_studio                  -0.068203\n",
       "airport_distance           -0.127850\n",
       "kitchen_area_rate          -0.184548\n",
       "city_center_distance_km    -0.299402\n",
       "city_center_distance       -0.302906\n",
       "dtype: float64"
      ]
     },
     "execution_count": 102,
     "metadata": {},
     "output_type": "execute_result"
    }
   ],
   "source": [
    "city_center_data.corrwith(city_center_data['last_price']).sort_values(ascending=False)"
   ]
  },
  {
   "cell_type": "markdown",
   "metadata": {},
   "source": [
    "Больше всего цена квартир в центре кореллирует с общей площадью, жилой площадью, количеством комнат и площадью кухни."
   ]
  },
  {
   "cell_type": "markdown",
   "metadata": {},
   "source": [
    "Изучим зависимость стоимости от числа комнат. Построим диаграмму рассеяния."
   ]
  },
  {
   "cell_type": "code",
   "execution_count": 103,
   "metadata": {},
   "outputs": [
    {
     "data": {
      "image/png": "[encoded data removed]",
      "text/plain": [
       "<Figure size 432x288 with 1 Axes>"
      ]
     },
     "metadata": {
      "needs_background": "light"
     },
     "output_type": "display_data"
    }
   ],
   "source": [
    "# scatter plot of 'last_price' and 'rooms'\n",
    "data.plot(x='last_price', xlabel='цена', y='rooms', ylabel='число комнат', kind='scatter', alpha=0.05, grid=True) \n",
    "plt.show()"
   ]
  },
  {
   "cell_type": "markdown",
   "metadata": {},
   "source": [
    "Диаграмма рассеяния подтверждает прямую зависимость цены квартиры в центре и числа комнат в ней."
   ]
  },
  {
   "cell_type": "markdown",
   "metadata": {},
   "source": [
    "Изучим зависимость цены от того, на каком этаже расположена квартира: первом, последнем или другом. Посчитаем медиану каждой категории."
   ]
  },
  {
   "cell_type": "code",
   "execution_count": 104,
   "metadata": {},
   "outputs": [
    {
     "data": {
      "text/html": [
       "<div>\n",
       "<style scoped>\n",
       "    .dataframe tbody tr th:only-of-type {\n",
       "        vertical-align: middle;\n",
       "    }\n",
       "\n",
       "    .dataframe tbody tr th {\n",
       "        vertical-align: top;\n",
       "    }\n",
       "\n",
       "    .dataframe thead th {\n",
       "        text-align: right;\n",
       "    }\n",
       "</style>\n",
       "<table border=\"1\" class=\"dataframe\">\n",
       "  <thead>\n",
       "    <tr style=\"text-align: right;\">\n",
       "      <th></th>\n",
       "      <th>last_price</th>\n",
       "    </tr>\n",
       "    <tr>\n",
       "      <th>floor_group</th>\n",
       "      <th></th>\n",
       "    </tr>\n",
       "  </thead>\n",
       "  <tbody>\n",
       "    <tr>\n",
       "      <th>другой</th>\n",
       "      <td>7740000.0</td>\n",
       "    </tr>\n",
       "    <tr>\n",
       "      <th>последний</th>\n",
       "      <td>7500000.0</td>\n",
       "    </tr>\n",
       "    <tr>\n",
       "      <th>первый</th>\n",
       "      <td>5878769.5</td>\n",
       "    </tr>\n",
       "  </tbody>\n",
       "</table>\n",
       "</div>"
      ],
      "text/plain": [
       "             last_price\n",
       "floor_group            \n",
       "другой        7740000.0\n",
       "последний     7500000.0\n",
       "первый        5878769.5"
      ]
     },
     "execution_count": 104,
     "metadata": {},
     "output_type": "execute_result"
    }
   ],
   "source": [
    "# create pivot table of median 'last_price' value of every unique 'floor_group' value \n",
    "pd.pivot_table(city_center_data, index='floor_group', values='last_price', aggfunc='median').sort_values(by='last_price', ascending=False)"
   ]
  },
  {
   "cell_type": "markdown",
   "metadata": {},
   "source": [
    "Как мы видим, самые дорогие квартиры находятся между первым и последним этажом, чуть дешевле квартиры на последнем этаже, а квартиры на первом почти на четверть дешевле. Квартиры на первом этаже, находящиеся в центре, значительно дешевле других квартир (в общем датафрейме разница не такая значительная, и квартиры на последних этажах в нем намного большее дешевые в относительных величинах, чем в датафрейме с квартирами в центре)."
   ]
  },
  {
   "cell_type": "markdown",
   "metadata": {},
   "source": [
    "Теперь изучим зависимость цены от дня недели, месяца и года размещения."
   ]
  },
  {
   "cell_type": "code",
   "execution_count": 105,
   "metadata": {},
   "outputs": [
    {
     "data": {
      "text/html": [
       "<div>\n",
       "<style scoped>\n",
       "    .dataframe tbody tr th:only-of-type {\n",
       "        vertical-align: middle;\n",
       "    }\n",
       "\n",
       "    .dataframe tbody tr th {\n",
       "        vertical-align: top;\n",
       "    }\n",
       "\n",
       "    .dataframe thead th {\n",
       "        text-align: right;\n",
       "    }\n",
       "</style>\n",
       "<table border=\"1\" class=\"dataframe\">\n",
       "  <thead>\n",
       "    <tr style=\"text-align: right;\">\n",
       "      <th></th>\n",
       "      <th>last_price</th>\n",
       "    </tr>\n",
       "    <tr>\n",
       "      <th>weekday</th>\n",
       "      <th></th>\n",
       "    </tr>\n",
       "  </thead>\n",
       "  <tbody>\n",
       "    <tr>\n",
       "      <th>6</th>\n",
       "      <td>7800000.0</td>\n",
       "    </tr>\n",
       "    <tr>\n",
       "      <th>2</th>\n",
       "      <td>7700000.0</td>\n",
       "    </tr>\n",
       "    <tr>\n",
       "      <th>0</th>\n",
       "      <td>7500000.0</td>\n",
       "    </tr>\n",
       "    <tr>\n",
       "      <th>3</th>\n",
       "      <td>7500000.0</td>\n",
       "    </tr>\n",
       "    <tr>\n",
       "      <th>4</th>\n",
       "      <td>7300000.0</td>\n",
       "    </tr>\n",
       "    <tr>\n",
       "      <th>5</th>\n",
       "      <td>7300000.0</td>\n",
       "    </tr>\n",
       "    <tr>\n",
       "      <th>1</th>\n",
       "      <td>7298500.0</td>\n",
       "    </tr>\n",
       "  </tbody>\n",
       "</table>\n",
       "</div>"
      ],
      "text/plain": [
       "         last_price\n",
       "weekday            \n",
       "6         7800000.0\n",
       "2         7700000.0\n",
       "0         7500000.0\n",
       "3         7500000.0\n",
       "4         7300000.0\n",
       "5         7300000.0\n",
       "1         7298500.0"
      ]
     },
     "execution_count": 105,
     "metadata": {},
     "output_type": "execute_result"
    }
   ],
   "source": [
    "# create pivot table of median 'last_price' value of every unique 'weekday' value \n",
    "pd.pivot_table(city_center_data, index='weekday', values='last_price', aggfunc='median').sort_values(by='last_price', ascending=False)"
   ]
  },
  {
   "cell_type": "markdown",
   "metadata": {},
   "source": [
    "Самые дорогие квартиры продаются по воскресеньям, самые дешевые по вторним, но цена квартир в центре слабее зависит от дня недели размещения, чем в общем датафрейме."
   ]
  },
  {
   "cell_type": "code",
   "execution_count": 106,
   "metadata": {},
   "outputs": [
    {
     "data": {
      "text/html": [
       "<div>\n",
       "<style scoped>\n",
       "    .dataframe tbody tr th:only-of-type {\n",
       "        vertical-align: middle;\n",
       "    }\n",
       "\n",
       "    .dataframe tbody tr th {\n",
       "        vertical-align: top;\n",
       "    }\n",
       "\n",
       "    .dataframe thead th {\n",
       "        text-align: right;\n",
       "    }\n",
       "</style>\n",
       "<table border=\"1\" class=\"dataframe\">\n",
       "  <thead>\n",
       "    <tr style=\"text-align: right;\">\n",
       "      <th></th>\n",
       "      <th>last_price</th>\n",
       "    </tr>\n",
       "    <tr>\n",
       "      <th>month</th>\n",
       "      <th></th>\n",
       "    </tr>\n",
       "  </thead>\n",
       "  <tbody>\n",
       "    <tr>\n",
       "      <th>9</th>\n",
       "      <td>8100000.0</td>\n",
       "    </tr>\n",
       "    <tr>\n",
       "      <th>7</th>\n",
       "      <td>7850000.0</td>\n",
       "    </tr>\n",
       "    <tr>\n",
       "      <th>11</th>\n",
       "      <td>7645000.0</td>\n",
       "    </tr>\n",
       "    <tr>\n",
       "      <th>3</th>\n",
       "      <td>7500000.0</td>\n",
       "    </tr>\n",
       "    <tr>\n",
       "      <th>8</th>\n",
       "      <td>7500000.0</td>\n",
       "    </tr>\n",
       "    <tr>\n",
       "      <th>4</th>\n",
       "      <td>7425000.0</td>\n",
       "    </tr>\n",
       "    <tr>\n",
       "      <th>1</th>\n",
       "      <td>7398000.0</td>\n",
       "    </tr>\n",
       "    <tr>\n",
       "      <th>5</th>\n",
       "      <td>7300000.0</td>\n",
       "    </tr>\n",
       "    <tr>\n",
       "      <th>10</th>\n",
       "      <td>7300000.0</td>\n",
       "    </tr>\n",
       "    <tr>\n",
       "      <th>2</th>\n",
       "      <td>7200000.0</td>\n",
       "    </tr>\n",
       "    <tr>\n",
       "      <th>6</th>\n",
       "      <td>7150000.0</td>\n",
       "    </tr>\n",
       "    <tr>\n",
       "      <th>12</th>\n",
       "      <td>6800000.0</td>\n",
       "    </tr>\n",
       "  </tbody>\n",
       "</table>\n",
       "</div>"
      ],
      "text/plain": [
       "       last_price\n",
       "month            \n",
       "9       8100000.0\n",
       "7       7850000.0\n",
       "11      7645000.0\n",
       "3       7500000.0\n",
       "8       7500000.0\n",
       "4       7425000.0\n",
       "1       7398000.0\n",
       "5       7300000.0\n",
       "10      7300000.0\n",
       "2       7200000.0\n",
       "6       7150000.0\n",
       "12      6800000.0"
      ]
     },
     "execution_count": 106,
     "metadata": {},
     "output_type": "execute_result"
    }
   ],
   "source": [
    "# create pivot table of median 'last_price' value of every unique 'month' value \n",
    "pd.pivot_table(city_center_data, index='month', values='last_price', aggfunc='median').sort_values(by='last_price', ascending=False)"
   ]
  },
  {
   "cell_type": "markdown",
   "metadata": {},
   "source": [
    "Самые дорогие квартиры размещаются в сентябре, июле и ноябре, самые дешевые – в декабре. Это отличается от распределения в общем датафрейме (я бы объяснил это тем, что в месяцы, которые вылезди вперед приезжает много туристов: июль – самый туристический месяц, в ноябре и марте праздники, а новый год, то есть декабрь, не выделяется, так как это все-таки семейный праздник)."
   ]
  },
  {
   "cell_type": "code",
   "execution_count": 107,
   "metadata": {},
   "outputs": [
    {
     "data": {
      "text/html": [
       "<div>\n",
       "<style scoped>\n",
       "    .dataframe tbody tr th:only-of-type {\n",
       "        vertical-align: middle;\n",
       "    }\n",
       "\n",
       "    .dataframe tbody tr th {\n",
       "        vertical-align: top;\n",
       "    }\n",
       "\n",
       "    .dataframe thead th {\n",
       "        text-align: right;\n",
       "    }\n",
       "</style>\n",
       "<table border=\"1\" class=\"dataframe\">\n",
       "  <thead>\n",
       "    <tr style=\"text-align: right;\">\n",
       "      <th></th>\n",
       "      <th>last_price</th>\n",
       "    </tr>\n",
       "    <tr>\n",
       "      <th>year</th>\n",
       "      <th></th>\n",
       "    </tr>\n",
       "  </thead>\n",
       "  <tbody>\n",
       "    <tr>\n",
       "      <th>2014</th>\n",
       "      <td>9100000.0</td>\n",
       "    </tr>\n",
       "    <tr>\n",
       "      <th>2015</th>\n",
       "      <td>7700000.0</td>\n",
       "    </tr>\n",
       "    <tr>\n",
       "      <th>2016</th>\n",
       "      <td>7581500.0</td>\n",
       "    </tr>\n",
       "    <tr>\n",
       "      <th>2017</th>\n",
       "      <td>7400000.0</td>\n",
       "    </tr>\n",
       "    <tr>\n",
       "      <th>2018</th>\n",
       "      <td>7300000.0</td>\n",
       "    </tr>\n",
       "    <tr>\n",
       "      <th>2019</th>\n",
       "      <td>7500000.0</td>\n",
       "    </tr>\n",
       "  </tbody>\n",
       "</table>\n",
       "</div>"
      ],
      "text/plain": [
       "      last_price\n",
       "year            \n",
       "2014   9100000.0\n",
       "2015   7700000.0\n",
       "2016   7581500.0\n",
       "2017   7400000.0\n",
       "2018   7300000.0\n",
       "2019   7500000.0"
      ]
     },
     "execution_count": 107,
     "metadata": {},
     "output_type": "execute_result"
    }
   ],
   "source": [
    "# create pivot table of median 'last_price' value of every unique 'year' value \n",
    "pd.pivot_table(city_center_data, index='year', values='last_price', aggfunc='median')"
   ]
  },
  {
   "cell_type": "markdown",
   "metadata": {},
   "source": [
    "С годом почти все так же, как в общем датафрейме: цена резко упала в 2015 и продолжала падать до 2018 включительно (в общем датафрейме до 2017), и выросла в 2019."
   ]
  },
  {
   "cell_type": "markdown",
   "metadata": {},
   "source": [
    "### Вывод"
   ]
  },
  {
   "cell_type": "markdown",
   "metadata": {},
   "source": [
    "Был выполнен исследовательский анализ данных:\n",
    "- найдены и устранены аномальные значения площади, цены, высоты потолков, а также времени продажи квартиры;\n",
    "- была исследована зависимость цены квартир от различных факторов: выяснилось, что цена прямо зависит от площади, немного слабее от числа комнат, еще слабее – от близости к центру; также мы узнали, как цена зависит от этажа: самые дешевые квартиры находятся на первом и последнем этажах, самые дорогие – между ними; была изучена зависимость цены квартиры от даты размещения объявления;\n",
    "- была посчитана средняя цена квадратного метра в населённых пунктах с наибольшим числом объявлений, а также были выделены населенные пункты с самой дорогой и дешевой недвижимостью;\n",
    "- был определен центр по графику зависимости цены от удаленности до центра;\n",
    "- были отдельно проанализированы квартиры в центре: площадь, цена и высота потолков квартир в центре в среднем больше; были найдены отличия квартир в центре от всех квартир."
   ]
  },
  {
   "cell_type": "markdown",
   "metadata": {},
   "source": [
    "## Общий вывод"
   ]
  },
  {
   "cell_type": "markdown",
   "metadata": {},
   "source": [
    "Была изучена и предобработана таблица с данными объявлений о продаже квартир в Санкт-Петербурге и соседних населенных пунктах, в которой обнаружилось много ошибок: пропуски, неявные дубликаты, неверный тип данных в столбцах. Были добавлены новые столбцы на основе уже имевшихся для дальнейшего анализа.\n",
    "\n",
    "Был выполнен исследовательский анализ данных:\n",
    "- найдены и устранены аномальные значения параметров квартиры;\n",
    "- была исследована зависимость цены квартир от различных факторов: выяснилось, что цена прямо зависит от площади, немного слабее от числа комнат, еще слабее – от близости к центру; также мы узнали, как цена зависит от этажа: самые дешевые квартиры находятся на первом и последнем этажах, самые дорогие – между ними; была изучена зависимость цены квартиры от даты размещения объявления;\n",
    "- была посчитана средняя цена квадратного метра в населённых пунктах с наибольшим числом объявлений, а также были выделены населенные пункты с самой дорогой и дешевой недвижимостью;\n",
    "- был определен центр по графику зависимости цены от удаленности до центра;\n",
    "- были отдельно проанализированы квартиры в центре: площадь, цена и высота потолков квартир в центре в среднем больше; были найдены отличия квартир в центре от всех квартир."
   ]
  }
 ],
 "metadata": {
  "ExecuteTimeLog": [
   {
    "duration": 518,
    "start_time": "2022-05-05T16:09:21.669Z"
   },
   {
    "duration": 0,
    "start_time": "2022-05-05T16:09:22.189Z"
   },
   {
    "duration": 0,
    "start_time": "2022-05-05T16:09:22.190Z"
   },
   {
    "duration": 0,
    "start_time": "2022-05-05T16:09:22.191Z"
   },
   {
    "duration": 0,
    "start_time": "2022-05-05T16:09:22.192Z"
   },
   {
    "duration": 0,
    "start_time": "2022-05-05T16:09:22.193Z"
   },
   {
    "duration": 0,
    "start_time": "2022-05-05T16:09:22.194Z"
   },
   {
    "duration": 0,
    "start_time": "2022-05-05T16:09:22.195Z"
   },
   {
    "duration": 0,
    "start_time": "2022-05-05T16:09:22.195Z"
   },
   {
    "duration": 0,
    "start_time": "2022-05-05T16:09:22.196Z"
   },
   {
    "duration": 0,
    "start_time": "2022-05-05T16:09:22.197Z"
   },
   {
    "duration": 0,
    "start_time": "2022-05-05T16:09:22.198Z"
   },
   {
    "duration": 0,
    "start_time": "2022-05-05T16:09:22.199Z"
   },
   {
    "duration": 0,
    "start_time": "2022-05-05T16:09:22.200Z"
   },
   {
    "duration": 0,
    "start_time": "2022-05-05T16:09:22.201Z"
   },
   {
    "duration": 0,
    "start_time": "2022-05-05T16:09:22.202Z"
   },
   {
    "duration": 0,
    "start_time": "2022-05-05T16:09:22.202Z"
   },
   {
    "duration": 0,
    "start_time": "2022-05-05T16:09:22.204Z"
   },
   {
    "duration": 0,
    "start_time": "2022-05-05T16:09:22.205Z"
   },
   {
    "duration": 0,
    "start_time": "2022-05-05T16:09:22.205Z"
   },
   {
    "duration": 0,
    "start_time": "2022-05-05T16:09:22.207Z"
   },
   {
    "duration": 68,
    "start_time": "2022-05-05T16:09:39.497Z"
   },
   {
    "duration": 524,
    "start_time": "2022-05-05T16:09:45.632Z"
   },
   {
    "duration": 18,
    "start_time": "2022-05-05T16:09:46.158Z"
   },
   {
    "duration": 83,
    "start_time": "2022-05-05T16:09:46.178Z"
   },
   {
    "duration": 0,
    "start_time": "2022-05-05T16:09:46.264Z"
   },
   {
    "duration": 0,
    "start_time": "2022-05-05T16:09:46.273Z"
   },
   {
    "duration": 0,
    "start_time": "2022-05-05T16:09:46.274Z"
   },
   {
    "duration": 0,
    "start_time": "2022-05-05T16:09:46.275Z"
   },
   {
    "duration": 0,
    "start_time": "2022-05-05T16:09:46.277Z"
   },
   {
    "duration": 0,
    "start_time": "2022-05-05T16:09:46.278Z"
   },
   {
    "duration": 0,
    "start_time": "2022-05-05T16:09:46.280Z"
   },
   {
    "duration": 0,
    "start_time": "2022-05-05T16:09:46.281Z"
   },
   {
    "duration": 0,
    "start_time": "2022-05-05T16:09:46.284Z"
   },
   {
    "duration": 0,
    "start_time": "2022-05-05T16:09:46.285Z"
   },
   {
    "duration": 0,
    "start_time": "2022-05-05T16:09:46.286Z"
   },
   {
    "duration": 0,
    "start_time": "2022-05-05T16:09:46.287Z"
   },
   {
    "duration": 0,
    "start_time": "2022-05-05T16:09:46.289Z"
   },
   {
    "duration": 0,
    "start_time": "2022-05-05T16:09:46.290Z"
   },
   {
    "duration": 0,
    "start_time": "2022-05-05T16:09:46.292Z"
   },
   {
    "duration": 0,
    "start_time": "2022-05-05T16:09:46.293Z"
   },
   {
    "duration": 0,
    "start_time": "2022-05-05T16:09:46.294Z"
   },
   {
    "duration": 0,
    "start_time": "2022-05-05T16:09:46.296Z"
   },
   {
    "duration": 524,
    "start_time": "2022-05-05T16:10:13.565Z"
   },
   {
    "duration": 15,
    "start_time": "2022-05-05T16:10:14.091Z"
   },
   {
    "duration": 89,
    "start_time": "2022-05-05T16:10:14.109Z"
   },
   {
    "duration": 28,
    "start_time": "2022-05-05T16:10:14.200Z"
   },
   {
    "duration": 69,
    "start_time": "2022-05-05T16:10:14.230Z"
   },
   {
    "duration": 15,
    "start_time": "2022-05-05T16:10:14.301Z"
   },
   {
    "duration": 94,
    "start_time": "2022-05-05T16:10:14.318Z"
   },
   {
    "duration": 4,
    "start_time": "2022-05-05T16:10:14.414Z"
   },
   {
    "duration": 28,
    "start_time": "2022-05-05T16:10:14.420Z"
   },
   {
    "duration": 26,
    "start_time": "2022-05-05T16:10:14.451Z"
   },
   {
    "duration": 437,
    "start_time": "2022-05-05T16:10:14.479Z"
   },
   {
    "duration": 30,
    "start_time": "2022-05-05T16:10:14.918Z"
   },
   {
    "duration": 23,
    "start_time": "2022-05-05T16:10:14.950Z"
   },
   {
    "duration": 14,
    "start_time": "2022-05-05T16:10:14.975Z"
   },
   {
    "duration": 65,
    "start_time": "2022-05-05T16:10:14.991Z"
   },
   {
    "duration": 59,
    "start_time": "2022-05-05T16:10:15.058Z"
   },
   {
    "duration": 4,
    "start_time": "2022-05-05T16:10:15.119Z"
   },
   {
    "duration": 5,
    "start_time": "2022-05-05T16:10:15.126Z"
   },
   {
    "duration": 16,
    "start_time": "2022-05-05T16:10:15.133Z"
   },
   {
    "duration": 92,
    "start_time": "2022-05-05T16:10:15.150Z"
   },
   {
    "duration": 0,
    "start_time": "2022-05-05T16:10:15.243Z"
   },
   {
    "duration": 140,
    "start_time": "2022-05-05T16:10:31.922Z"
   },
   {
    "duration": 130,
    "start_time": "2022-05-05T16:10:44.605Z"
   },
   {
    "duration": 130,
    "start_time": "2022-05-05T16:11:09.684Z"
   },
   {
    "duration": 276,
    "start_time": "2022-05-05T16:11:13.383Z"
   },
   {
    "duration": 141,
    "start_time": "2022-05-05T16:11:18.479Z"
   },
   {
    "duration": 132,
    "start_time": "2022-05-05T16:12:07.595Z"
   },
   {
    "duration": 152,
    "start_time": "2022-05-05T16:12:21.340Z"
   },
   {
    "duration": 165,
    "start_time": "2022-05-05T16:13:00.377Z"
   },
   {
    "duration": 155,
    "start_time": "2022-05-05T16:13:14.155Z"
   },
   {
    "duration": 170,
    "start_time": "2022-05-05T16:13:18.676Z"
   },
   {
    "duration": 170,
    "start_time": "2022-05-05T16:14:19.765Z"
   },
   {
    "duration": 144,
    "start_time": "2022-05-05T16:14:24.440Z"
   },
   {
    "duration": 160,
    "start_time": "2022-05-05T16:14:27.760Z"
   },
   {
    "duration": 144,
    "start_time": "2022-05-05T16:14:37.459Z"
   },
   {
    "duration": 246,
    "start_time": "2022-05-05T16:14:58.388Z"
   },
   {
    "duration": 153,
    "start_time": "2022-05-05T16:15:07.624Z"
   },
   {
    "duration": 126,
    "start_time": "2022-05-05T16:15:14.902Z"
   },
   {
    "duration": 128,
    "start_time": "2022-05-05T16:15:26.527Z"
   },
   {
    "duration": 160,
    "start_time": "2022-05-05T16:18:51.311Z"
   },
   {
    "duration": 121,
    "start_time": "2022-05-05T16:18:58.398Z"
   },
   {
    "duration": 10,
    "start_time": "2022-05-05T16:19:17.893Z"
   },
   {
    "duration": 10,
    "start_time": "2022-05-05T16:19:21.835Z"
   },
   {
    "duration": 126,
    "start_time": "2022-05-05T16:19:35.229Z"
   },
   {
    "duration": 132,
    "start_time": "2022-05-05T16:20:36.460Z"
   },
   {
    "duration": 15,
    "start_time": "2022-05-05T16:22:19.159Z"
   },
   {
    "duration": 9,
    "start_time": "2022-05-05T16:25:32.330Z"
   },
   {
    "duration": 50,
    "start_time": "2022-05-05T16:26:51.968Z"
   },
   {
    "duration": 2048,
    "start_time": "2022-05-05T16:28:09.791Z"
   },
   {
    "duration": 346,
    "start_time": "2022-05-05T16:28:13.234Z"
   },
   {
    "duration": 9,
    "start_time": "2022-05-05T16:28:54.614Z"
   },
   {
    "duration": 52,
    "start_time": "2022-05-05T16:29:00.025Z"
   },
   {
    "duration": 65,
    "start_time": "2022-05-05T16:30:38.341Z"
   },
   {
    "duration": 7,
    "start_time": "2022-05-05T16:30:38.408Z"
   },
   {
    "duration": 87,
    "start_time": "2022-05-05T16:30:38.416Z"
   },
   {
    "duration": 27,
    "start_time": "2022-05-05T16:30:38.505Z"
   },
   {
    "duration": 82,
    "start_time": "2022-05-05T16:30:38.535Z"
   },
   {
    "duration": 14,
    "start_time": "2022-05-05T16:30:38.619Z"
   },
   {
    "duration": 98,
    "start_time": "2022-05-05T16:30:38.635Z"
   },
   {
    "duration": 4,
    "start_time": "2022-05-05T16:30:38.735Z"
   },
   {
    "duration": 42,
    "start_time": "2022-05-05T16:30:38.741Z"
   },
   {
    "duration": 10,
    "start_time": "2022-05-05T16:30:38.785Z"
   },
   {
    "duration": 152,
    "start_time": "2022-05-05T16:30:38.797Z"
   },
   {
    "duration": 6,
    "start_time": "2022-05-05T16:30:38.951Z"
   },
   {
    "duration": 156,
    "start_time": "2022-05-05T16:30:38.959Z"
   },
   {
    "duration": 30,
    "start_time": "2022-05-05T16:30:39.118Z"
   },
   {
    "duration": 6,
    "start_time": "2022-05-05T16:30:39.150Z"
   },
   {
    "duration": 7,
    "start_time": "2022-05-05T16:30:39.175Z"
   },
   {
    "duration": 13,
    "start_time": "2022-05-05T16:30:39.184Z"
   },
   {
    "duration": 39,
    "start_time": "2022-05-05T16:30:39.199Z"
   },
   {
    "duration": 4,
    "start_time": "2022-05-05T16:30:39.240Z"
   },
   {
    "duration": 27,
    "start_time": "2022-05-05T16:30:39.246Z"
   },
   {
    "duration": 5,
    "start_time": "2022-05-05T16:30:39.275Z"
   },
   {
    "duration": 16,
    "start_time": "2022-05-05T16:30:39.282Z"
   },
   {
    "duration": 0,
    "start_time": "2022-05-05T16:30:39.299Z"
   },
   {
    "duration": 8,
    "start_time": "2022-05-05T16:34:01.417Z"
   },
   {
    "duration": 150,
    "start_time": "2022-05-05T16:34:29.977Z"
   },
   {
    "duration": 72,
    "start_time": "2022-05-05T16:34:42.875Z"
   },
   {
    "duration": 7,
    "start_time": "2022-05-05T16:34:42.949Z"
   },
   {
    "duration": 85,
    "start_time": "2022-05-05T16:34:42.958Z"
   },
   {
    "duration": 35,
    "start_time": "2022-05-05T16:34:43.045Z"
   },
   {
    "duration": 49,
    "start_time": "2022-05-05T16:34:43.082Z"
   },
   {
    "duration": 14,
    "start_time": "2022-05-05T16:34:43.133Z"
   },
   {
    "duration": 90,
    "start_time": "2022-05-05T16:34:43.148Z"
   },
   {
    "duration": 4,
    "start_time": "2022-05-05T16:34:43.239Z"
   },
   {
    "duration": 41,
    "start_time": "2022-05-05T16:34:43.245Z"
   },
   {
    "duration": 12,
    "start_time": "2022-05-05T16:34:43.289Z"
   },
   {
    "duration": 159,
    "start_time": "2022-05-05T16:34:43.303Z"
   },
   {
    "duration": 14,
    "start_time": "2022-05-05T16:34:43.463Z"
   },
   {
    "duration": 359,
    "start_time": "2022-05-05T16:35:20.863Z"
   },
   {
    "duration": 219,
    "start_time": "2022-05-05T16:35:25.742Z"
   },
   {
    "duration": 199,
    "start_time": "2022-05-05T16:35:29.867Z"
   },
   {
    "duration": 191,
    "start_time": "2022-05-05T16:35:36.041Z"
   },
   {
    "duration": 9,
    "start_time": "2022-05-05T16:35:43.066Z"
   },
   {
    "duration": 141,
    "start_time": "2022-05-05T16:42:10.982Z"
   },
   {
    "duration": 5,
    "start_time": "2022-05-05T16:42:14.047Z"
   },
   {
    "duration": 142,
    "start_time": "2022-05-05T16:42:14.538Z"
   },
   {
    "duration": 7,
    "start_time": "2022-05-05T16:46:44.894Z"
   },
   {
    "duration": 126,
    "start_time": "2022-05-05T16:51:03.147Z"
   },
   {
    "duration": 144,
    "start_time": "2022-05-05T16:52:51.976Z"
   },
   {
    "duration": 123,
    "start_time": "2022-05-05T16:53:03.253Z"
   },
   {
    "duration": 166,
    "start_time": "2022-05-05T16:53:31.085Z"
   },
   {
    "duration": 138,
    "start_time": "2022-05-05T16:53:37.727Z"
   },
   {
    "duration": 162,
    "start_time": "2022-05-05T16:53:51.079Z"
   },
   {
    "duration": 165,
    "start_time": "2022-05-05T16:54:01.837Z"
   },
   {
    "duration": 156,
    "start_time": "2022-05-05T16:54:11.442Z"
   },
   {
    "duration": 70,
    "start_time": "2022-05-05T16:56:12.287Z"
   },
   {
    "duration": 8,
    "start_time": "2022-05-05T16:56:12.360Z"
   },
   {
    "duration": 77,
    "start_time": "2022-05-05T16:56:12.369Z"
   },
   {
    "duration": 30,
    "start_time": "2022-05-05T16:56:12.448Z"
   },
   {
    "duration": 47,
    "start_time": "2022-05-05T16:56:12.480Z"
   },
   {
    "duration": 156,
    "start_time": "2022-05-05T16:56:12.529Z"
   },
   {
    "duration": 86,
    "start_time": "2022-05-05T16:56:12.687Z"
   },
   {
    "duration": 3,
    "start_time": "2022-05-05T16:56:12.775Z"
   },
   {
    "duration": 28,
    "start_time": "2022-05-05T16:56:12.780Z"
   },
   {
    "duration": 12,
    "start_time": "2022-05-05T16:56:12.811Z"
   },
   {
    "duration": 161,
    "start_time": "2022-05-05T16:56:12.825Z"
   },
   {
    "duration": 9,
    "start_time": "2022-05-05T16:56:12.988Z"
   },
   {
    "duration": 9,
    "start_time": "2022-05-05T16:56:12.998Z"
   },
   {
    "duration": 153,
    "start_time": "2022-05-05T16:56:13.009Z"
   },
   {
    "duration": 4,
    "start_time": "2022-05-05T16:57:56.067Z"
   },
   {
    "duration": 70,
    "start_time": "2022-05-05T16:58:00.772Z"
   },
   {
    "duration": 8,
    "start_time": "2022-05-05T16:58:00.844Z"
   },
   {
    "duration": 89,
    "start_time": "2022-05-05T16:58:00.854Z"
   },
   {
    "duration": 38,
    "start_time": "2022-05-05T16:58:00.946Z"
   },
   {
    "duration": 61,
    "start_time": "2022-05-05T16:58:00.987Z"
   },
   {
    "duration": 35,
    "start_time": "2022-05-05T16:58:01.050Z"
   },
   {
    "duration": 100,
    "start_time": "2022-05-05T16:58:01.088Z"
   },
   {
    "duration": 4,
    "start_time": "2022-05-05T16:58:01.191Z"
   },
   {
    "duration": 42,
    "start_time": "2022-05-05T16:58:01.197Z"
   },
   {
    "duration": 25,
    "start_time": "2022-05-05T16:58:01.242Z"
   },
   {
    "duration": 158,
    "start_time": "2022-05-05T16:58:01.270Z"
   },
   {
    "duration": 10,
    "start_time": "2022-05-05T16:58:01.430Z"
   },
   {
    "duration": 8,
    "start_time": "2022-05-05T16:58:01.442Z"
   },
   {
    "duration": 153,
    "start_time": "2022-05-05T16:58:01.472Z"
   },
   {
    "duration": 5,
    "start_time": "2022-05-05T16:58:01.627Z"
   },
   {
    "duration": 126,
    "start_time": "2022-05-05T16:58:14.165Z"
   },
   {
    "duration": 151,
    "start_time": "2022-05-05T16:58:20.620Z"
   },
   {
    "duration": 131,
    "start_time": "2022-05-05T16:58:27.086Z"
   },
   {
    "duration": 137,
    "start_time": "2022-05-05T17:02:51.924Z"
   },
   {
    "duration": 141,
    "start_time": "2022-05-05T17:02:56.691Z"
   },
   {
    "duration": 154,
    "start_time": "2022-05-05T17:03:45.236Z"
   },
   {
    "duration": 6,
    "start_time": "2022-05-05T17:05:50.526Z"
   },
   {
    "duration": 161,
    "start_time": "2022-05-05T17:05:51.122Z"
   },
   {
    "duration": 75,
    "start_time": "2022-05-05T17:06:00.612Z"
   },
   {
    "duration": 9,
    "start_time": "2022-05-05T17:06:00.691Z"
   },
   {
    "duration": 82,
    "start_time": "2022-05-05T17:06:00.702Z"
   },
   {
    "duration": 38,
    "start_time": "2022-05-05T17:06:00.787Z"
   },
   {
    "duration": 73,
    "start_time": "2022-05-05T17:06:00.827Z"
   },
   {
    "duration": 15,
    "start_time": "2022-05-05T17:06:00.902Z"
   },
   {
    "duration": 94,
    "start_time": "2022-05-05T17:06:00.919Z"
   },
   {
    "duration": 8,
    "start_time": "2022-05-05T17:06:01.016Z"
   },
   {
    "duration": 39,
    "start_time": "2022-05-05T17:06:01.025Z"
   },
   {
    "duration": 46,
    "start_time": "2022-05-05T17:06:01.067Z"
   },
   {
    "duration": 142,
    "start_time": "2022-05-05T17:06:01.114Z"
   },
   {
    "duration": 20,
    "start_time": "2022-05-05T17:06:01.257Z"
   },
   {
    "duration": 161,
    "start_time": "2022-05-05T17:06:01.279Z"
   },
   {
    "duration": 4,
    "start_time": "2022-05-05T17:06:01.442Z"
   },
   {
    "duration": 189,
    "start_time": "2022-05-05T17:06:01.448Z"
   },
   {
    "duration": 7,
    "start_time": "2022-05-05T17:06:01.639Z"
   },
   {
    "duration": 213,
    "start_time": "2022-05-05T17:06:01.648Z"
   },
   {
    "duration": 156,
    "start_time": "2022-05-05T17:06:46.036Z"
   },
   {
    "duration": 151,
    "start_time": "2022-05-05T17:08:56.403Z"
   },
   {
    "duration": 145,
    "start_time": "2022-05-05T17:09:12.851Z"
   },
   {
    "duration": 451,
    "start_time": "2022-05-05T17:09:27.968Z"
   },
   {
    "duration": 208,
    "start_time": "2022-05-05T17:09:36.599Z"
   },
   {
    "duration": 210,
    "start_time": "2022-05-05T17:09:43.143Z"
   },
   {
    "duration": 173,
    "start_time": "2022-05-05T17:09:50.468Z"
   },
   {
    "duration": 193,
    "start_time": "2022-05-05T17:09:54.458Z"
   },
   {
    "duration": 166,
    "start_time": "2022-05-05T17:10:08.105Z"
   },
   {
    "duration": 202,
    "start_time": "2022-05-05T17:10:15.309Z"
   },
   {
    "duration": 4,
    "start_time": "2022-05-05T17:14:27.088Z"
   },
   {
    "duration": 5,
    "start_time": "2022-05-05T17:16:45.990Z"
   },
   {
    "duration": 5,
    "start_time": "2022-05-05T17:17:45.545Z"
   },
   {
    "duration": 77,
    "start_time": "2022-05-05T17:18:49.191Z"
   },
   {
    "duration": 9,
    "start_time": "2022-05-05T17:18:49.270Z"
   },
   {
    "duration": 89,
    "start_time": "2022-05-05T17:18:49.282Z"
   },
   {
    "duration": 40,
    "start_time": "2022-05-05T17:18:49.377Z"
   },
   {
    "duration": 64,
    "start_time": "2022-05-05T17:18:49.419Z"
   },
   {
    "duration": 18,
    "start_time": "2022-05-05T17:18:49.485Z"
   },
   {
    "duration": 90,
    "start_time": "2022-05-05T17:18:49.505Z"
   },
   {
    "duration": 3,
    "start_time": "2022-05-05T17:18:49.597Z"
   },
   {
    "duration": 34,
    "start_time": "2022-05-05T17:18:49.602Z"
   },
   {
    "duration": 14,
    "start_time": "2022-05-05T17:18:49.638Z"
   },
   {
    "duration": 172,
    "start_time": "2022-05-05T17:18:49.653Z"
   },
   {
    "duration": 7,
    "start_time": "2022-05-05T17:18:49.826Z"
   },
   {
    "duration": 161,
    "start_time": "2022-05-05T17:18:49.835Z"
   },
   {
    "duration": 4,
    "start_time": "2022-05-05T17:18:50.000Z"
   },
   {
    "duration": 12,
    "start_time": "2022-05-05T17:18:50.006Z"
   },
   {
    "duration": 184,
    "start_time": "2022-05-05T17:18:50.020Z"
   },
   {
    "duration": 6,
    "start_time": "2022-05-05T17:18:50.206Z"
   },
   {
    "duration": 7,
    "start_time": "2022-05-05T17:18:50.214Z"
   },
   {
    "duration": 203,
    "start_time": "2022-05-05T17:18:50.223Z"
   },
   {
    "duration": 163,
    "start_time": "2022-05-05T17:18:50.428Z"
   },
   {
    "duration": 4,
    "start_time": "2022-05-05T17:18:50.594Z"
   },
   {
    "duration": 8,
    "start_time": "2022-05-05T17:18:50.600Z"
   },
   {
    "duration": 56,
    "start_time": "2022-05-05T17:18:50.610Z"
   },
   {
    "duration": 8,
    "start_time": "2022-05-05T17:18:50.668Z"
   },
   {
    "duration": 29,
    "start_time": "2022-05-05T17:18:50.678Z"
   },
   {
    "duration": 8,
    "start_time": "2022-05-05T17:18:50.710Z"
   },
   {
    "duration": 29,
    "start_time": "2022-05-05T17:18:50.720Z"
   },
   {
    "duration": 4,
    "start_time": "2022-05-05T17:18:50.751Z"
   },
   {
    "duration": 6,
    "start_time": "2022-05-05T17:18:50.757Z"
   },
   {
    "duration": 15,
    "start_time": "2022-05-05T17:18:50.778Z"
   },
   {
    "duration": 180,
    "start_time": "2022-05-05T17:20:28.464Z"
   },
   {
    "duration": 141,
    "start_time": "2022-05-05T17:20:37.429Z"
   },
   {
    "duration": 144,
    "start_time": "2022-05-05T17:20:55.337Z"
   },
   {
    "duration": 337,
    "start_time": "2022-05-05T17:21:05.256Z"
   },
   {
    "duration": 133,
    "start_time": "2022-05-05T17:21:16.440Z"
   },
   {
    "duration": 159,
    "start_time": "2022-05-05T17:21:27.601Z"
   },
   {
    "duration": 243,
    "start_time": "2022-05-05T17:21:53.345Z"
   },
   {
    "duration": 240,
    "start_time": "2022-05-05T17:22:12.794Z"
   },
   {
    "duration": 153,
    "start_time": "2022-05-05T17:22:27.994Z"
   },
   {
    "duration": 158,
    "start_time": "2022-05-05T17:22:57.250Z"
   },
   {
    "duration": 201,
    "start_time": "2022-05-05T17:23:05.791Z"
   },
   {
    "duration": 60,
    "start_time": "2022-05-05T17:23:29.549Z"
   },
   {
    "duration": 18,
    "start_time": "2022-05-05T17:24:32.643Z"
   },
   {
    "duration": 53,
    "start_time": "2022-05-05T17:24:49.089Z"
   },
   {
    "duration": 12,
    "start_time": "2022-05-05T17:25:15.786Z"
   },
   {
    "duration": 78,
    "start_time": "2022-05-05T17:25:26.616Z"
   },
   {
    "duration": 24,
    "start_time": "2022-05-05T17:25:38.823Z"
   },
   {
    "duration": 115,
    "start_time": "2022-05-05T17:25:42.100Z"
   },
   {
    "duration": 166,
    "start_time": "2022-05-05T17:30:17.995Z"
   },
   {
    "duration": 178,
    "start_time": "2022-05-05T17:39:54.292Z"
   },
   {
    "duration": 83,
    "start_time": "2022-05-05T17:39:58.846Z"
   },
   {
    "duration": 8,
    "start_time": "2022-05-05T17:39:58.930Z"
   },
   {
    "duration": 100,
    "start_time": "2022-05-05T17:39:58.939Z"
   },
   {
    "duration": 38,
    "start_time": "2022-05-05T17:39:59.041Z"
   },
   {
    "duration": 54,
    "start_time": "2022-05-05T17:39:59.081Z"
   },
   {
    "duration": 12,
    "start_time": "2022-05-05T17:39:59.137Z"
   },
   {
    "duration": 103,
    "start_time": "2022-05-05T17:39:59.151Z"
   },
   {
    "duration": 3,
    "start_time": "2022-05-05T17:39:59.256Z"
   },
   {
    "duration": 46,
    "start_time": "2022-05-05T17:39:59.261Z"
   },
   {
    "duration": 9,
    "start_time": "2022-05-05T17:39:59.310Z"
   },
   {
    "duration": 152,
    "start_time": "2022-05-05T17:39:59.321Z"
   },
   {
    "duration": 12,
    "start_time": "2022-05-05T17:39:59.477Z"
   },
   {
    "duration": 147,
    "start_time": "2022-05-05T17:39:59.491Z"
   },
   {
    "duration": 3,
    "start_time": "2022-05-05T17:39:59.640Z"
   },
   {
    "duration": 11,
    "start_time": "2022-05-05T17:39:59.644Z"
   },
   {
    "duration": 180,
    "start_time": "2022-05-05T17:39:59.656Z"
   },
   {
    "duration": 5,
    "start_time": "2022-05-05T17:39:59.837Z"
   },
   {
    "duration": 8,
    "start_time": "2022-05-05T17:39:59.843Z"
   },
   {
    "duration": 194,
    "start_time": "2022-05-05T17:39:59.852Z"
   },
   {
    "duration": 179,
    "start_time": "2022-05-05T17:40:00.047Z"
   },
   {
    "duration": 3,
    "start_time": "2022-05-05T17:40:00.228Z"
   },
   {
    "duration": 10,
    "start_time": "2022-05-05T17:40:00.233Z"
   },
   {
    "duration": 56,
    "start_time": "2022-05-05T17:40:00.245Z"
   },
   {
    "duration": 5,
    "start_time": "2022-05-05T17:40:00.303Z"
   },
   {
    "duration": 9,
    "start_time": "2022-05-05T17:40:00.310Z"
   },
   {
    "duration": 12,
    "start_time": "2022-05-05T17:40:00.321Z"
   },
   {
    "duration": 155,
    "start_time": "2022-05-05T17:40:00.335Z"
   },
   {
    "duration": 6,
    "start_time": "2022-05-05T17:40:00.495Z"
   },
   {
    "duration": 157,
    "start_time": "2022-05-05T17:40:00.503Z"
   },
   {
    "duration": 5,
    "start_time": "2022-05-05T17:48:08.207Z"
   },
   {
    "duration": 4,
    "start_time": "2022-05-05T17:49:10.589Z"
   },
   {
    "duration": 65,
    "start_time": "2022-05-05T17:49:18.397Z"
   },
   {
    "duration": 7,
    "start_time": "2022-05-05T17:49:18.464Z"
   },
   {
    "duration": 74,
    "start_time": "2022-05-05T17:49:18.473Z"
   },
   {
    "duration": 28,
    "start_time": "2022-05-05T17:49:18.549Z"
   },
   {
    "duration": 46,
    "start_time": "2022-05-05T17:49:18.579Z"
   },
   {
    "duration": 13,
    "start_time": "2022-05-05T17:49:18.627Z"
   },
   {
    "duration": 96,
    "start_time": "2022-05-05T17:49:18.642Z"
   },
   {
    "duration": 4,
    "start_time": "2022-05-05T17:49:18.739Z"
   },
   {
    "duration": 41,
    "start_time": "2022-05-05T17:49:18.744Z"
   },
   {
    "duration": 10,
    "start_time": "2022-05-05T17:49:18.787Z"
   },
   {
    "duration": 143,
    "start_time": "2022-05-05T17:49:18.799Z"
   },
   {
    "duration": 7,
    "start_time": "2022-05-05T17:49:18.944Z"
   },
   {
    "duration": 137,
    "start_time": "2022-05-05T17:49:18.953Z"
   },
   {
    "duration": 3,
    "start_time": "2022-05-05T17:49:19.092Z"
   },
   {
    "duration": 8,
    "start_time": "2022-05-05T17:49:19.097Z"
   },
   {
    "duration": 161,
    "start_time": "2022-05-05T17:49:19.106Z"
   },
   {
    "duration": 5,
    "start_time": "2022-05-05T17:49:19.272Z"
   },
   {
    "duration": 6,
    "start_time": "2022-05-05T17:49:19.279Z"
   },
   {
    "duration": 168,
    "start_time": "2022-05-05T17:49:19.287Z"
   },
   {
    "duration": 377,
    "start_time": "2022-05-05T17:49:19.456Z"
   },
   {
    "duration": 4,
    "start_time": "2022-05-05T17:49:19.835Z"
   },
   {
    "duration": 6,
    "start_time": "2022-05-05T17:49:19.841Z"
   },
   {
    "duration": 43,
    "start_time": "2022-05-05T17:49:19.849Z"
   },
   {
    "duration": 4,
    "start_time": "2022-05-05T17:49:19.894Z"
   },
   {
    "duration": 12,
    "start_time": "2022-05-05T17:49:19.900Z"
   },
   {
    "duration": 20,
    "start_time": "2022-05-05T17:49:19.914Z"
   },
   {
    "duration": 156,
    "start_time": "2022-05-05T17:49:19.936Z"
   },
   {
    "duration": 4,
    "start_time": "2022-05-05T17:49:20.096Z"
   },
   {
    "duration": 129,
    "start_time": "2022-05-05T17:49:20.101Z"
   },
   {
    "duration": 26,
    "start_time": "2022-05-05T17:49:20.231Z"
   },
   {
    "duration": 17,
    "start_time": "2022-05-05T17:49:20.259Z"
   },
   {
    "duration": 23,
    "start_time": "2022-05-05T17:49:20.277Z"
   },
   {
    "duration": 8,
    "start_time": "2022-05-05T17:49:20.302Z"
   },
   {
    "duration": 9,
    "start_time": "2022-05-05T17:49:20.311Z"
   },
   {
    "duration": 7,
    "start_time": "2022-05-05T17:49:20.322Z"
   },
   {
    "duration": 6,
    "start_time": "2022-05-05T17:49:25.834Z"
   },
   {
    "duration": 15,
    "start_time": "2022-05-05T17:49:27.848Z"
   },
   {
    "duration": 1680,
    "start_time": "2022-05-05T17:52:24.842Z"
   },
   {
    "duration": 5,
    "start_time": "2022-05-05T17:52:33.126Z"
   },
   {
    "duration": 13,
    "start_time": "2022-05-05T17:52:50.468Z"
   },
   {
    "duration": 6,
    "start_time": "2022-05-05T17:55:11.405Z"
   },
   {
    "duration": 16,
    "start_time": "2022-05-05T17:55:13.558Z"
   },
   {
    "duration": 73,
    "start_time": "2022-05-05T17:58:05.394Z"
   },
   {
    "duration": 6,
    "start_time": "2022-05-05T17:58:05.470Z"
   },
   {
    "duration": 90,
    "start_time": "2022-05-05T17:58:05.478Z"
   },
   {
    "duration": 26,
    "start_time": "2022-05-05T17:58:05.569Z"
   },
   {
    "duration": 46,
    "start_time": "2022-05-05T17:58:05.597Z"
   },
   {
    "duration": 36,
    "start_time": "2022-05-05T17:58:05.645Z"
   },
   {
    "duration": 71,
    "start_time": "2022-05-05T17:58:05.683Z"
   },
   {
    "duration": 18,
    "start_time": "2022-05-05T17:58:05.756Z"
   },
   {
    "duration": 29,
    "start_time": "2022-05-05T17:58:05.776Z"
   },
   {
    "duration": 19,
    "start_time": "2022-05-05T17:58:05.807Z"
   },
   {
    "duration": 147,
    "start_time": "2022-05-05T17:58:05.828Z"
   },
   {
    "duration": 5,
    "start_time": "2022-05-05T17:58:05.977Z"
   },
   {
    "duration": 149,
    "start_time": "2022-05-05T17:58:05.984Z"
   },
   {
    "duration": 3,
    "start_time": "2022-05-05T17:58:06.137Z"
   },
   {
    "duration": 7,
    "start_time": "2022-05-05T17:58:06.142Z"
   },
   {
    "duration": 178,
    "start_time": "2022-05-05T17:58:06.150Z"
   },
   {
    "duration": 4,
    "start_time": "2022-05-05T17:58:06.330Z"
   },
   {
    "duration": 10,
    "start_time": "2022-05-05T17:58:06.336Z"
   },
   {
    "duration": 170,
    "start_time": "2022-05-05T17:58:06.348Z"
   },
   {
    "duration": 158,
    "start_time": "2022-05-05T17:58:06.520Z"
   },
   {
    "duration": 4,
    "start_time": "2022-05-05T17:58:06.680Z"
   },
   {
    "duration": 7,
    "start_time": "2022-05-05T17:58:06.685Z"
   },
   {
    "duration": 30,
    "start_time": "2022-05-05T17:58:06.693Z"
   },
   {
    "duration": 5,
    "start_time": "2022-05-05T17:58:06.725Z"
   },
   {
    "duration": 10,
    "start_time": "2022-05-05T17:58:06.731Z"
   },
   {
    "duration": 35,
    "start_time": "2022-05-05T17:58:06.743Z"
   },
   {
    "duration": 155,
    "start_time": "2022-05-05T17:58:06.780Z"
   },
   {
    "duration": 5,
    "start_time": "2022-05-05T17:58:06.937Z"
   },
   {
    "duration": 148,
    "start_time": "2022-05-05T17:58:06.944Z"
   },
   {
    "duration": 27,
    "start_time": "2022-05-05T17:58:07.093Z"
   },
   {
    "duration": 4,
    "start_time": "2022-05-05T17:58:07.122Z"
   },
   {
    "duration": 5,
    "start_time": "2022-05-05T17:58:07.128Z"
   },
   {
    "duration": 5,
    "start_time": "2022-05-05T17:58:07.135Z"
   },
   {
    "duration": 35,
    "start_time": "2022-05-05T17:58:07.142Z"
   },
   {
    "duration": 8,
    "start_time": "2022-05-05T17:58:07.178Z"
   },
   {
    "duration": 7,
    "start_time": "2022-05-05T17:58:07.188Z"
   },
   {
    "duration": 22,
    "start_time": "2022-05-05T17:58:07.197Z"
   },
   {
    "duration": 5,
    "start_time": "2022-05-05T18:04:02.076Z"
   },
   {
    "duration": 917,
    "start_time": "2022-05-05T18:21:37.145Z"
   },
   {
    "duration": 7,
    "start_time": "2022-05-05T18:21:55.241Z"
   },
   {
    "duration": 12,
    "start_time": "2022-05-05T18:22:06.792Z"
   },
   {
    "duration": 6,
    "start_time": "2022-05-05T18:22:21.982Z"
   },
   {
    "duration": 33,
    "start_time": "2022-05-05T18:22:37.059Z"
   },
   {
    "duration": 13,
    "start_time": "2022-05-05T18:22:55.652Z"
   },
   {
    "duration": 102,
    "start_time": "2022-05-05T18:23:32.757Z"
   },
   {
    "duration": 117,
    "start_time": "2022-05-05T18:23:36.003Z"
   },
   {
    "duration": 3,
    "start_time": "2022-05-05T18:29:14.110Z"
   },
   {
    "duration": 22,
    "start_time": "2022-05-05T18:30:03.147Z"
   },
   {
    "duration": 31,
    "start_time": "2022-05-05T18:33:38.928Z"
   },
   {
    "duration": 16,
    "start_time": "2022-05-05T18:37:42.229Z"
   },
   {
    "duration": 19,
    "start_time": "2022-05-05T18:37:54.220Z"
   },
   {
    "duration": 23,
    "start_time": "2022-05-05T18:38:04.694Z"
   },
   {
    "duration": 22,
    "start_time": "2022-05-05T18:39:30.513Z"
   },
   {
    "duration": 108,
    "start_time": "2022-05-05T18:39:37.445Z"
   },
   {
    "duration": 106,
    "start_time": "2022-05-05T18:39:56.760Z"
   },
   {
    "duration": 44,
    "start_time": "2022-05-05T18:40:02.216Z"
   },
   {
    "duration": 4,
    "start_time": "2022-05-05T18:41:05.062Z"
   },
   {
    "duration": 10,
    "start_time": "2022-05-05T18:44:21.424Z"
   },
   {
    "duration": 6,
    "start_time": "2022-05-05T18:45:03.592Z"
   },
   {
    "duration": 12,
    "start_time": "2022-05-05T18:47:29.768Z"
   },
   {
    "duration": 13,
    "start_time": "2022-05-05T18:47:38.514Z"
   },
   {
    "duration": 23,
    "start_time": "2022-05-05T18:47:50.356Z"
   },
   {
    "duration": 64,
    "start_time": "2022-05-05T18:48:07.238Z"
   },
   {
    "duration": 8,
    "start_time": "2022-05-05T18:48:07.305Z"
   },
   {
    "duration": 80,
    "start_time": "2022-05-05T18:48:07.315Z"
   },
   {
    "duration": 26,
    "start_time": "2022-05-05T18:48:07.397Z"
   },
   {
    "duration": 65,
    "start_time": "2022-05-05T18:48:07.425Z"
   },
   {
    "duration": 14,
    "start_time": "2022-05-05T18:48:07.492Z"
   },
   {
    "duration": 94,
    "start_time": "2022-05-05T18:48:07.508Z"
   },
   {
    "duration": 4,
    "start_time": "2022-05-05T18:48:07.604Z"
   },
   {
    "duration": 33,
    "start_time": "2022-05-05T18:48:07.609Z"
   },
   {
    "duration": 19,
    "start_time": "2022-05-05T18:48:07.644Z"
   },
   {
    "duration": 146,
    "start_time": "2022-05-05T18:48:07.665Z"
   },
   {
    "duration": 7,
    "start_time": "2022-05-05T18:48:07.813Z"
   },
   {
    "duration": 137,
    "start_time": "2022-05-05T18:48:07.821Z"
   },
   {
    "duration": 13,
    "start_time": "2022-05-05T18:48:07.962Z"
   },
   {
    "duration": 9,
    "start_time": "2022-05-05T18:48:07.976Z"
   },
   {
    "duration": 161,
    "start_time": "2022-05-05T18:48:07.987Z"
   },
   {
    "duration": 5,
    "start_time": "2022-05-05T18:48:08.150Z"
   },
   {
    "duration": 17,
    "start_time": "2022-05-05T18:48:08.156Z"
   },
   {
    "duration": 155,
    "start_time": "2022-05-05T18:48:08.174Z"
   },
   {
    "duration": 161,
    "start_time": "2022-05-05T18:48:08.330Z"
   },
   {
    "duration": 4,
    "start_time": "2022-05-05T18:48:08.493Z"
   },
   {
    "duration": 9,
    "start_time": "2022-05-05T18:48:08.498Z"
   },
   {
    "duration": 30,
    "start_time": "2022-05-05T18:48:08.508Z"
   },
   {
    "duration": 4,
    "start_time": "2022-05-05T18:48:08.540Z"
   },
   {
    "duration": 32,
    "start_time": "2022-05-05T18:48:08.546Z"
   },
   {
    "duration": 9,
    "start_time": "2022-05-05T18:48:08.581Z"
   },
   {
    "duration": 152,
    "start_time": "2022-05-05T18:48:08.592Z"
   },
   {
    "duration": 5,
    "start_time": "2022-05-05T18:48:08.746Z"
   },
   {
    "duration": 144,
    "start_time": "2022-05-05T18:48:08.752Z"
   },
   {
    "duration": 27,
    "start_time": "2022-05-05T18:48:08.897Z"
   },
   {
    "duration": 4,
    "start_time": "2022-05-05T18:48:08.926Z"
   },
   {
    "duration": 6,
    "start_time": "2022-05-05T18:48:08.932Z"
   },
   {
    "duration": 6,
    "start_time": "2022-05-05T18:48:08.939Z"
   },
   {
    "duration": 11,
    "start_time": "2022-05-05T18:48:08.974Z"
   },
   {
    "duration": 9,
    "start_time": "2022-05-05T18:48:08.989Z"
   },
   {
    "duration": 10,
    "start_time": "2022-05-05T18:48:09.001Z"
   },
   {
    "duration": 16,
    "start_time": "2022-05-05T18:48:09.012Z"
   },
   {
    "duration": 7,
    "start_time": "2022-05-05T18:48:09.030Z"
   },
   {
    "duration": 50,
    "start_time": "2022-05-05T18:48:09.039Z"
   },
   {
    "duration": 23,
    "start_time": "2022-05-05T18:48:09.091Z"
   },
   {
    "duration": 4,
    "start_time": "2022-05-05T18:48:09.117Z"
   },
   {
    "duration": 15,
    "start_time": "2022-05-05T18:48:09.123Z"
   },
   {
    "duration": 58,
    "start_time": "2022-05-05T18:48:09.139Z"
   },
   {
    "duration": 12,
    "start_time": "2022-05-05T18:53:49.494Z"
   },
   {
    "duration": 12,
    "start_time": "2022-05-05T19:05:01.075Z"
   },
   {
    "duration": 12,
    "start_time": "2022-05-05T19:05:40.556Z"
   },
   {
    "duration": 17,
    "start_time": "2022-05-05T19:05:45.000Z"
   },
   {
    "duration": 1987,
    "start_time": "2022-05-05T19:06:01.570Z"
   },
   {
    "duration": 32,
    "start_time": "2022-05-05T19:06:09.582Z"
   },
   {
    "duration": 68,
    "start_time": "2022-05-05T19:06:28.121Z"
   },
   {
    "duration": 8,
    "start_time": "2022-05-05T19:06:28.191Z"
   },
   {
    "duration": 91,
    "start_time": "2022-05-05T19:06:28.201Z"
   },
   {
    "duration": 26,
    "start_time": "2022-05-05T19:06:28.294Z"
   },
   {
    "duration": 68,
    "start_time": "2022-05-05T19:06:28.321Z"
   },
   {
    "duration": 13,
    "start_time": "2022-05-05T19:06:28.391Z"
   },
   {
    "duration": 89,
    "start_time": "2022-05-05T19:06:28.406Z"
   },
   {
    "duration": 4,
    "start_time": "2022-05-05T19:06:28.496Z"
   },
   {
    "duration": 30,
    "start_time": "2022-05-05T19:06:28.501Z"
   },
   {
    "duration": 14,
    "start_time": "2022-05-05T19:06:28.533Z"
   },
   {
    "duration": 150,
    "start_time": "2022-05-05T19:06:28.549Z"
   },
   {
    "duration": 8,
    "start_time": "2022-05-05T19:06:28.700Z"
   },
   {
    "duration": 143,
    "start_time": "2022-05-05T19:06:28.709Z"
   },
   {
    "duration": 4,
    "start_time": "2022-05-05T19:06:28.855Z"
   },
   {
    "duration": 4,
    "start_time": "2022-05-05T19:06:28.873Z"
   },
   {
    "duration": 170,
    "start_time": "2022-05-05T19:06:28.878Z"
   },
   {
    "duration": 5,
    "start_time": "2022-05-05T19:06:29.049Z"
   },
   {
    "duration": 17,
    "start_time": "2022-05-05T19:06:29.056Z"
   },
   {
    "duration": 158,
    "start_time": "2022-05-05T19:06:29.075Z"
   },
   {
    "duration": 401,
    "start_time": "2022-05-05T19:06:29.235Z"
   },
   {
    "duration": 3,
    "start_time": "2022-05-05T19:06:29.638Z"
   },
   {
    "duration": 8,
    "start_time": "2022-05-05T19:06:29.643Z"
   },
   {
    "duration": 42,
    "start_time": "2022-05-05T19:06:29.652Z"
   },
   {
    "duration": 5,
    "start_time": "2022-05-05T19:06:29.695Z"
   },
   {
    "duration": 8,
    "start_time": "2022-05-05T19:06:29.702Z"
   },
   {
    "duration": 7,
    "start_time": "2022-05-05T19:06:29.711Z"
   },
   {
    "duration": 160,
    "start_time": "2022-05-05T19:06:29.720Z"
   },
   {
    "duration": 5,
    "start_time": "2022-05-05T19:06:29.884Z"
   },
   {
    "duration": 142,
    "start_time": "2022-05-05T19:06:29.891Z"
   },
   {
    "duration": 29,
    "start_time": "2022-05-05T19:06:30.034Z"
   },
   {
    "duration": 5,
    "start_time": "2022-05-05T19:06:30.074Z"
   },
   {
    "duration": 12,
    "start_time": "2022-05-05T19:06:30.081Z"
   },
   {
    "duration": 16,
    "start_time": "2022-05-05T19:06:30.095Z"
   },
   {
    "duration": 17,
    "start_time": "2022-05-05T19:06:30.113Z"
   },
   {
    "duration": 10,
    "start_time": "2022-05-05T19:06:30.132Z"
   },
   {
    "duration": 13,
    "start_time": "2022-05-05T19:06:30.144Z"
   },
   {
    "duration": 42,
    "start_time": "2022-05-05T19:06:30.159Z"
   },
   {
    "duration": 8,
    "start_time": "2022-05-05T19:06:30.203Z"
   },
   {
    "duration": 34,
    "start_time": "2022-05-05T19:06:30.212Z"
   },
   {
    "duration": 23,
    "start_time": "2022-05-05T19:06:30.249Z"
   },
   {
    "duration": 5,
    "start_time": "2022-05-05T19:06:30.275Z"
   },
   {
    "duration": 16,
    "start_time": "2022-05-05T19:06:30.281Z"
   },
   {
    "duration": 24,
    "start_time": "2022-05-05T19:06:30.299Z"
   },
   {
    "duration": 13,
    "start_time": "2022-05-05T19:06:30.326Z"
   },
   {
    "duration": 54,
    "start_time": "2022-05-05T19:06:30.341Z"
   },
   {
    "duration": 23,
    "start_time": "2022-05-05T19:06:46.195Z"
   },
   {
    "duration": 29,
    "start_time": "2022-05-05T19:06:50.009Z"
   },
   {
    "duration": 1817,
    "start_time": "2022-05-05T19:12:43.500Z"
   },
   {
    "duration": 14,
    "start_time": "2022-05-05T19:12:53.684Z"
   },
   {
    "duration": 13,
    "start_time": "2022-05-05T19:14:07.619Z"
   },
   {
    "duration": 15,
    "start_time": "2022-05-05T19:14:13.303Z"
   },
   {
    "duration": 27,
    "start_time": "2022-05-05T19:14:21.995Z"
   },
   {
    "duration": 12,
    "start_time": "2022-05-05T19:16:14.303Z"
   },
   {
    "duration": 30,
    "start_time": "2022-05-05T19:16:16.474Z"
   },
   {
    "duration": 30,
    "start_time": "2022-05-05T19:16:23.164Z"
   },
   {
    "duration": 34,
    "start_time": "2022-05-05T19:20:39.665Z"
   },
   {
    "duration": 6,
    "start_time": "2022-05-05T19:24:08.249Z"
   },
   {
    "duration": 24,
    "start_time": "2022-05-05T19:24:12.384Z"
   },
   {
    "duration": 5,
    "start_time": "2022-05-05T19:24:57.810Z"
   },
   {
    "duration": 26,
    "start_time": "2022-05-05T19:24:58.427Z"
   },
   {
    "duration": 5,
    "start_time": "2022-05-05T19:27:02.974Z"
   },
   {
    "duration": 71,
    "start_time": "2022-05-05T19:33:57.335Z"
   },
   {
    "duration": 7,
    "start_time": "2022-05-05T19:33:57.408Z"
   },
   {
    "duration": 81,
    "start_time": "2022-05-05T19:33:57.417Z"
   },
   {
    "duration": 26,
    "start_time": "2022-05-05T19:33:57.500Z"
   },
   {
    "duration": 64,
    "start_time": "2022-05-05T19:33:57.528Z"
   },
   {
    "duration": 14,
    "start_time": "2022-05-05T19:33:57.594Z"
   },
   {
    "duration": 86,
    "start_time": "2022-05-05T19:33:57.610Z"
   },
   {
    "duration": 4,
    "start_time": "2022-05-05T19:33:57.698Z"
   },
   {
    "duration": 6,
    "start_time": "2022-05-05T19:37:15.008Z"
   },
   {
    "duration": 68,
    "start_time": "2022-05-05T19:37:21.454Z"
   },
   {
    "duration": 8,
    "start_time": "2022-05-05T19:37:21.524Z"
   },
   {
    "duration": 101,
    "start_time": "2022-05-05T19:37:21.534Z"
   },
   {
    "duration": 40,
    "start_time": "2022-05-05T19:37:21.637Z"
   },
   {
    "duration": 51,
    "start_time": "2022-05-05T19:37:21.679Z"
   },
   {
    "duration": 13,
    "start_time": "2022-05-05T19:37:21.733Z"
   },
   {
    "duration": 90,
    "start_time": "2022-05-05T19:37:21.748Z"
   },
   {
    "duration": 5,
    "start_time": "2022-05-05T19:37:21.840Z"
   },
   {
    "duration": 9,
    "start_time": "2022-05-05T19:37:21.847Z"
   },
   {
    "duration": 27,
    "start_time": "2022-05-05T19:37:21.872Z"
   },
   {
    "duration": 13,
    "start_time": "2022-05-05T19:37:21.901Z"
   },
   {
    "duration": 143,
    "start_time": "2022-05-05T19:37:21.916Z"
   },
   {
    "duration": 17,
    "start_time": "2022-05-05T19:37:22.061Z"
   },
   {
    "duration": 150,
    "start_time": "2022-05-05T19:37:22.080Z"
   },
   {
    "duration": 4,
    "start_time": "2022-05-05T19:37:22.231Z"
   },
   {
    "duration": 15,
    "start_time": "2022-05-05T19:37:22.237Z"
   },
   {
    "duration": 186,
    "start_time": "2022-05-05T19:37:22.254Z"
   },
   {
    "duration": 4,
    "start_time": "2022-05-05T19:37:22.442Z"
   },
   {
    "duration": 25,
    "start_time": "2022-05-05T19:37:22.448Z"
   },
   {
    "duration": 168,
    "start_time": "2022-05-05T19:37:22.475Z"
   },
   {
    "duration": 162,
    "start_time": "2022-05-05T19:37:22.645Z"
   },
   {
    "duration": 4,
    "start_time": "2022-05-05T19:37:22.809Z"
   },
   {
    "duration": 13,
    "start_time": "2022-05-05T19:37:22.814Z"
   },
   {
    "duration": 44,
    "start_time": "2022-05-05T19:37:22.829Z"
   },
   {
    "duration": 6,
    "start_time": "2022-05-05T19:37:22.875Z"
   },
   {
    "duration": 11,
    "start_time": "2022-05-05T19:37:22.882Z"
   },
   {
    "duration": 11,
    "start_time": "2022-05-05T19:37:22.895Z"
   },
   {
    "duration": 161,
    "start_time": "2022-05-05T19:37:22.909Z"
   },
   {
    "duration": 6,
    "start_time": "2022-05-05T19:37:23.071Z"
   },
   {
    "duration": 148,
    "start_time": "2022-05-05T19:37:23.079Z"
   },
   {
    "duration": 27,
    "start_time": "2022-05-05T19:37:23.229Z"
   },
   {
    "duration": 19,
    "start_time": "2022-05-05T19:37:23.257Z"
   },
   {
    "duration": 7,
    "start_time": "2022-05-05T19:37:23.277Z"
   },
   {
    "duration": 7,
    "start_time": "2022-05-05T19:37:23.285Z"
   },
   {
    "duration": 12,
    "start_time": "2022-05-05T19:37:23.293Z"
   },
   {
    "duration": 5,
    "start_time": "2022-05-05T19:37:23.307Z"
   },
   {
    "duration": 13,
    "start_time": "2022-05-05T19:37:23.314Z"
   },
   {
    "duration": 16,
    "start_time": "2022-05-05T19:37:23.328Z"
   },
   {
    "duration": 29,
    "start_time": "2022-05-05T19:37:23.345Z"
   },
   {
    "duration": 30,
    "start_time": "2022-05-05T19:37:23.375Z"
   },
   {
    "duration": 26,
    "start_time": "2022-05-05T19:37:23.407Z"
   },
   {
    "duration": 4,
    "start_time": "2022-05-05T19:37:23.435Z"
   },
   {
    "duration": 4,
    "start_time": "2022-05-05T19:55:40.073Z"
   },
   {
    "duration": 65,
    "start_time": "2022-05-05T21:58:39.806Z"
   },
   {
    "duration": 604,
    "start_time": "2022-05-05T21:58:49.707Z"
   },
   {
    "duration": 20,
    "start_time": "2022-05-05T21:58:50.315Z"
   },
   {
    "duration": 107,
    "start_time": "2022-05-05T21:58:50.337Z"
   },
   {
    "duration": 46,
    "start_time": "2022-05-05T21:58:50.447Z"
   },
   {
    "duration": 72,
    "start_time": "2022-05-05T21:58:50.497Z"
   },
   {
    "duration": 25,
    "start_time": "2022-05-05T21:58:50.593Z"
   },
   {
    "duration": 129,
    "start_time": "2022-05-05T21:58:50.622Z"
   },
   {
    "duration": 6,
    "start_time": "2022-05-05T21:58:50.754Z"
   },
   {
    "duration": 61,
    "start_time": "2022-05-05T21:58:50.762Z"
   },
   {
    "duration": 16,
    "start_time": "2022-05-05T21:58:50.827Z"
   },
   {
    "duration": 831,
    "start_time": "2022-05-05T21:58:50.845Z"
   },
   {
    "duration": 19,
    "start_time": "2022-05-05T21:58:51.678Z"
   },
   {
    "duration": 210,
    "start_time": "2022-05-05T21:58:51.699Z"
   },
   {
    "duration": 5,
    "start_time": "2022-05-05T21:58:51.911Z"
   },
   {
    "duration": 8,
    "start_time": "2022-05-05T21:58:51.918Z"
   },
   {
    "duration": 257,
    "start_time": "2022-05-05T21:58:51.928Z"
   },
   {
    "duration": 17,
    "start_time": "2022-05-05T21:58:52.187Z"
   },
   {
    "duration": 20,
    "start_time": "2022-05-05T21:58:52.207Z"
   },
   {
    "duration": 242,
    "start_time": "2022-05-05T21:58:52.229Z"
   },
   {
    "duration": 320,
    "start_time": "2022-05-05T21:58:52.473Z"
   },
   {
    "duration": 4,
    "start_time": "2022-05-05T21:58:52.796Z"
   },
   {
    "duration": 16,
    "start_time": "2022-05-05T21:58:52.803Z"
   },
   {
    "duration": 43,
    "start_time": "2022-05-05T21:58:52.822Z"
   },
   {
    "duration": 27,
    "start_time": "2022-05-05T21:58:52.867Z"
   },
   {
    "duration": 18,
    "start_time": "2022-05-05T21:58:52.896Z"
   },
   {
    "duration": 7,
    "start_time": "2022-05-05T21:58:52.916Z"
   },
   {
    "duration": 246,
    "start_time": "2022-05-05T21:58:52.925Z"
   },
   {
    "duration": 6,
    "start_time": "2022-05-05T21:58:53.176Z"
   },
   {
    "duration": 191,
    "start_time": "2022-05-05T21:58:53.195Z"
   },
   {
    "duration": 42,
    "start_time": "2022-05-05T21:58:53.392Z"
   },
   {
    "duration": 5,
    "start_time": "2022-05-05T21:58:53.436Z"
   },
   {
    "duration": 6,
    "start_time": "2022-05-05T21:58:53.444Z"
   },
   {
    "duration": 9,
    "start_time": "2022-05-05T21:58:53.452Z"
   },
   {
    "duration": 41,
    "start_time": "2022-05-05T21:58:53.463Z"
   },
   {
    "duration": 8,
    "start_time": "2022-05-05T21:58:53.506Z"
   },
   {
    "duration": 11,
    "start_time": "2022-05-05T21:58:53.517Z"
   },
   {
    "duration": 20,
    "start_time": "2022-05-05T21:58:53.530Z"
   },
   {
    "duration": 50,
    "start_time": "2022-05-05T21:58:53.552Z"
   },
   {
    "duration": 41,
    "start_time": "2022-05-05T21:58:53.605Z"
   },
   {
    "duration": 31,
    "start_time": "2022-05-05T21:58:53.648Z"
   },
   {
    "duration": 16,
    "start_time": "2022-05-05T21:58:53.681Z"
   },
   {
    "duration": 20,
    "start_time": "2022-05-05T21:58:53.704Z"
   },
   {
    "duration": 33,
    "start_time": "2022-05-05T21:58:53.726Z"
   },
   {
    "duration": 49,
    "start_time": "2022-05-05T21:58:53.761Z"
   },
   {
    "duration": 32,
    "start_time": "2022-05-05T21:58:53.813Z"
   },
   {
    "duration": 7,
    "start_time": "2022-05-05T21:58:53.847Z"
   },
   {
    "duration": 63,
    "start_time": "2022-05-05T21:58:53.856Z"
   },
   {
    "duration": 7,
    "start_time": "2022-05-05T21:58:53.921Z"
   },
   {
    "duration": 175,
    "start_time": "2022-05-05T21:58:59.210Z"
   },
   {
    "duration": 343,
    "start_time": "2022-05-05T21:59:15.486Z"
   },
   {
    "duration": 381,
    "start_time": "2022-05-05T21:59:30.543Z"
   },
   {
    "duration": 394,
    "start_time": "2022-05-05T21:59:38.285Z"
   },
   {
    "duration": 11,
    "start_time": "2022-05-05T22:02:15.938Z"
   },
   {
    "duration": 51,
    "start_time": "2022-05-05T22:02:28.912Z"
   },
   {
    "duration": 50,
    "start_time": "2022-05-05T22:03:01.434Z"
   },
   {
    "duration": 202,
    "start_time": "2022-05-05T22:03:16.523Z"
   },
   {
    "duration": 351,
    "start_time": "2022-05-05T22:03:26.362Z"
   },
   {
    "duration": 1068,
    "start_time": "2022-05-05T22:04:24.375Z"
   },
   {
    "duration": 110,
    "start_time": "2022-05-05T22:04:41.545Z"
   },
   {
    "duration": 1091,
    "start_time": "2022-05-05T22:04:48.514Z"
   },
   {
    "duration": 159,
    "start_time": "2022-05-05T22:04:54.731Z"
   },
   {
    "duration": 263,
    "start_time": "2022-05-05T22:08:58.417Z"
   },
   {
    "duration": 248,
    "start_time": "2022-05-05T22:09:36.903Z"
   },
   {
    "duration": 262,
    "start_time": "2022-05-05T22:10:10.863Z"
   },
   {
    "duration": 280,
    "start_time": "2022-05-05T22:12:16.961Z"
   },
   {
    "duration": 161,
    "start_time": "2022-05-05T22:12:33.611Z"
   },
   {
    "duration": 176,
    "start_time": "2022-05-05T22:12:47.849Z"
   },
   {
    "duration": 208,
    "start_time": "2022-05-05T22:13:22.159Z"
   },
   {
    "duration": 11,
    "start_time": "2022-05-05T22:15:42.743Z"
   },
   {
    "duration": 205,
    "start_time": "2022-05-05T22:18:19.109Z"
   },
   {
    "duration": 49,
    "start_time": "2022-05-05T22:23:10.431Z"
   },
   {
    "duration": 65,
    "start_time": "2022-05-05T22:24:13.817Z"
   },
   {
    "duration": 32,
    "start_time": "2022-05-05T22:27:07.540Z"
   },
   {
    "duration": 80,
    "start_time": "2022-05-05T22:27:31.188Z"
   },
   {
    "duration": 297,
    "start_time": "2022-05-05T22:28:13.773Z"
   },
   {
    "duration": 275,
    "start_time": "2022-05-05T22:28:20.279Z"
   },
   {
    "duration": 794,
    "start_time": "2022-05-05T22:28:34.672Z"
   },
   {
    "duration": 274,
    "start_time": "2022-05-05T22:28:57.250Z"
   },
   {
    "duration": 164,
    "start_time": "2022-05-05T22:31:01.226Z"
   },
   {
    "duration": 346,
    "start_time": "2022-05-05T22:31:08.510Z"
   },
   {
    "duration": 603,
    "start_time": "2022-05-05T22:31:20.625Z"
   },
   {
    "duration": 19,
    "start_time": "2022-05-05T22:31:21.231Z"
   },
   {
    "duration": 117,
    "start_time": "2022-05-05T22:31:21.252Z"
   },
   {
    "duration": 46,
    "start_time": "2022-05-05T22:31:21.372Z"
   },
   {
    "duration": 94,
    "start_time": "2022-05-05T22:31:21.421Z"
   },
   {
    "duration": 18,
    "start_time": "2022-05-05T22:31:21.517Z"
   },
   {
    "duration": 122,
    "start_time": "2022-05-05T22:31:21.537Z"
   },
   {
    "duration": 5,
    "start_time": "2022-05-05T22:31:21.662Z"
   },
   {
    "duration": 55,
    "start_time": "2022-05-05T22:31:21.670Z"
   },
   {
    "duration": 19,
    "start_time": "2022-05-05T22:31:21.730Z"
   },
   {
    "duration": 604,
    "start_time": "2022-05-05T22:31:21.752Z"
   },
   {
    "duration": 9,
    "start_time": "2022-05-05T22:31:22.359Z"
   },
   {
    "duration": 225,
    "start_time": "2022-05-05T22:31:22.370Z"
   },
   {
    "duration": 7,
    "start_time": "2022-05-05T22:31:22.597Z"
   },
   {
    "duration": 12,
    "start_time": "2022-05-05T22:31:22.608Z"
   },
   {
    "duration": 260,
    "start_time": "2022-05-05T22:31:22.622Z"
   },
   {
    "duration": 10,
    "start_time": "2022-05-05T22:31:22.885Z"
   },
   {
    "duration": 12,
    "start_time": "2022-05-05T22:31:22.897Z"
   },
   {
    "duration": 255,
    "start_time": "2022-05-05T22:31:22.911Z"
   },
   {
    "duration": 243,
    "start_time": "2022-05-05T22:31:23.168Z"
   },
   {
    "duration": 5,
    "start_time": "2022-05-05T22:31:23.416Z"
   },
   {
    "duration": 8,
    "start_time": "2022-05-05T22:31:23.424Z"
   },
   {
    "duration": 69,
    "start_time": "2022-05-05T22:31:23.435Z"
   },
   {
    "duration": 7,
    "start_time": "2022-05-05T22:31:23.506Z"
   },
   {
    "duration": 15,
    "start_time": "2022-05-05T22:31:23.515Z"
   },
   {
    "duration": 7,
    "start_time": "2022-05-05T22:31:23.532Z"
   },
   {
    "duration": 309,
    "start_time": "2022-05-05T22:31:23.541Z"
   },
   {
    "duration": 5,
    "start_time": "2022-05-05T22:31:23.855Z"
   },
   {
    "duration": 210,
    "start_time": "2022-05-05T22:31:23.862Z"
   },
   {
    "duration": 51,
    "start_time": "2022-05-05T22:31:24.075Z"
   },
   {
    "duration": 5,
    "start_time": "2022-05-05T22:31:24.129Z"
   },
   {
    "duration": 10,
    "start_time": "2022-05-05T22:31:24.137Z"
   },
   {
    "duration": 8,
    "start_time": "2022-05-05T22:31:24.149Z"
   },
   {
    "duration": 40,
    "start_time": "2022-05-05T22:31:24.160Z"
   },
   {
    "duration": 14,
    "start_time": "2022-05-05T22:31:24.203Z"
   },
   {
    "duration": 12,
    "start_time": "2022-05-05T22:31:24.220Z"
   },
   {
    "duration": 21,
    "start_time": "2022-05-05T22:31:24.234Z"
   },
   {
    "duration": 56,
    "start_time": "2022-05-05T22:31:24.257Z"
   },
   {
    "duration": 58,
    "start_time": "2022-05-05T22:31:24.316Z"
   },
   {
    "duration": 60,
    "start_time": "2022-05-05T22:31:24.377Z"
   },
   {
    "duration": 7,
    "start_time": "2022-05-05T22:31:24.440Z"
   },
   {
    "duration": 47,
    "start_time": "2022-05-05T22:31:24.450Z"
   },
   {
    "duration": 38,
    "start_time": "2022-05-05T22:31:24.502Z"
   },
   {
    "duration": 16,
    "start_time": "2022-05-05T22:31:24.543Z"
   },
   {
    "duration": 63,
    "start_time": "2022-05-05T22:31:24.561Z"
   },
   {
    "duration": 7,
    "start_time": "2022-05-05T22:31:24.626Z"
   },
   {
    "duration": 64,
    "start_time": "2022-05-05T22:31:24.636Z"
   },
   {
    "duration": 39,
    "start_time": "2022-05-05T22:31:24.702Z"
   },
   {
    "duration": 221,
    "start_time": "2022-05-05T22:31:24.744Z"
   },
   {
    "duration": 292,
    "start_time": "2022-05-05T22:31:24.967Z"
   },
   {
    "duration": 178,
    "start_time": "2022-05-05T22:31:31.629Z"
   },
   {
    "duration": 263,
    "start_time": "2022-05-05T22:32:57.988Z"
   },
   {
    "duration": 280,
    "start_time": "2022-05-05T22:34:13.063Z"
   },
   {
    "duration": 275,
    "start_time": "2022-05-05T22:34:21.547Z"
   },
   {
    "duration": 265,
    "start_time": "2022-05-05T22:35:23.021Z"
   },
   {
    "duration": 420,
    "start_time": "2022-05-05T22:35:35.624Z"
   },
   {
    "duration": 181,
    "start_time": "2022-05-05T22:36:53.341Z"
   },
   {
    "duration": 329,
    "start_time": "2022-05-05T22:38:13.419Z"
   },
   {
    "duration": 210,
    "start_time": "2022-05-05T22:38:18.066Z"
   },
   {
    "duration": 309,
    "start_time": "2022-05-05T22:38:42.699Z"
   },
   {
    "duration": 355,
    "start_time": "2022-05-05T22:38:58.090Z"
   },
   {
    "duration": 344,
    "start_time": "2022-05-05T22:39:09.210Z"
   },
   {
    "duration": 330,
    "start_time": "2022-05-05T22:39:20.704Z"
   },
   {
    "duration": 392,
    "start_time": "2022-05-05T22:39:28.603Z"
   },
   {
    "duration": 2027,
    "start_time": "2022-05-05T22:39:54.336Z"
   },
   {
    "duration": 604,
    "start_time": "2022-05-05T22:40:00.236Z"
   },
   {
    "duration": 284,
    "start_time": "2022-05-05T22:40:08.846Z"
   },
   {
    "duration": 261,
    "start_time": "2022-05-05T22:40:22.340Z"
   },
   {
    "duration": 268,
    "start_time": "2022-05-05T22:40:31.207Z"
   },
   {
    "duration": 487,
    "start_time": "2022-05-05T22:40:42.060Z"
   },
   {
    "duration": 271,
    "start_time": "2022-05-05T22:40:49.850Z"
   },
   {
    "duration": 298,
    "start_time": "2022-05-05T22:40:57.556Z"
   },
   {
    "duration": 180,
    "start_time": "2022-05-05T22:41:03.054Z"
   },
   {
    "duration": 249,
    "start_time": "2022-05-05T22:41:22.438Z"
   },
   {
    "duration": 272,
    "start_time": "2022-05-05T22:41:43.533Z"
   },
   {
    "duration": 292,
    "start_time": "2022-05-05T22:41:52.670Z"
   },
   {
    "duration": 376,
    "start_time": "2022-05-05T22:41:58.671Z"
   },
   {
    "duration": 176,
    "start_time": "2022-05-05T22:46:37.840Z"
   },
   {
    "duration": 184,
    "start_time": "2022-05-05T22:48:25.254Z"
   },
   {
    "duration": 187,
    "start_time": "2022-05-05T22:48:31.058Z"
   },
   {
    "duration": 178,
    "start_time": "2022-05-05T22:48:47.027Z"
   },
   {
    "duration": 193,
    "start_time": "2022-05-05T22:48:55.063Z"
   },
   {
    "duration": 163,
    "start_time": "2022-05-05T22:49:12.065Z"
   },
   {
    "duration": 184,
    "start_time": "2022-05-05T22:49:16.342Z"
   },
   {
    "duration": 179,
    "start_time": "2022-05-05T22:50:04.299Z"
   },
   {
    "duration": 525,
    "start_time": "2022-05-05T22:50:24.633Z"
   },
   {
    "duration": 349,
    "start_time": "2022-05-05T22:50:37.501Z"
   },
   {
    "duration": 376,
    "start_time": "2022-05-05T22:50:44.227Z"
   },
   {
    "duration": 217,
    "start_time": "2022-05-05T22:50:50.721Z"
   },
   {
    "duration": 258,
    "start_time": "2022-05-05T22:50:55.096Z"
   },
   {
    "duration": 209,
    "start_time": "2022-05-05T22:51:10.670Z"
   },
   {
    "duration": 213,
    "start_time": "2022-05-05T22:51:18.870Z"
   },
   {
    "duration": 189,
    "start_time": "2022-05-05T22:52:08.324Z"
   },
   {
    "duration": 250,
    "start_time": "2022-05-05T22:53:39.902Z"
   },
   {
    "duration": 214,
    "start_time": "2022-05-05T22:54:11.759Z"
   },
   {
    "duration": 205,
    "start_time": "2022-05-05T22:54:41.840Z"
   },
   {
    "duration": 215,
    "start_time": "2022-05-05T22:54:50.589Z"
   },
   {
    "duration": 171,
    "start_time": "2022-05-05T22:55:01.251Z"
   },
   {
    "duration": 226,
    "start_time": "2022-05-05T22:55:22.988Z"
   },
   {
    "duration": 250,
    "start_time": "2022-05-05T22:55:40.576Z"
   },
   {
    "duration": 210,
    "start_time": "2022-05-05T22:55:52.515Z"
   },
   {
    "duration": 56,
    "start_time": "2022-05-05T22:57:38.649Z"
   },
   {
    "duration": 275,
    "start_time": "2022-05-05T22:58:22.296Z"
   },
   {
    "duration": 399,
    "start_time": "2022-05-05T22:58:37.211Z"
   },
   {
    "duration": 984,
    "start_time": "2022-05-05T22:58:47.828Z"
   },
   {
    "duration": 343,
    "start_time": "2022-05-05T22:59:06.091Z"
   },
   {
    "duration": 310,
    "start_time": "2022-05-05T22:59:22.690Z"
   },
   {
    "duration": 230,
    "start_time": "2022-05-05T22:59:28.978Z"
   },
   {
    "duration": 224,
    "start_time": "2022-05-05T22:59:58.954Z"
   },
   {
    "duration": 221,
    "start_time": "2022-05-05T23:00:10.824Z"
   },
   {
    "duration": 239,
    "start_time": "2022-05-05T23:00:24.480Z"
   },
   {
    "duration": 223,
    "start_time": "2022-05-05T23:00:28.832Z"
   },
   {
    "duration": 14,
    "start_time": "2022-05-05T23:06:43.227Z"
   },
   {
    "duration": 13,
    "start_time": "2022-05-05T23:07:11.449Z"
   },
   {
    "duration": 163,
    "start_time": "2022-05-05T23:07:45.654Z"
   },
   {
    "duration": 217,
    "start_time": "2022-05-05T23:07:55.011Z"
   },
   {
    "duration": 238,
    "start_time": "2022-05-05T23:08:12.784Z"
   },
   {
    "duration": 165,
    "start_time": "2022-05-05T23:08:26.306Z"
   },
   {
    "duration": 183,
    "start_time": "2022-05-05T23:08:37.058Z"
   },
   {
    "duration": 178,
    "start_time": "2022-05-05T23:08:46.995Z"
   },
   {
    "duration": 227,
    "start_time": "2022-05-05T23:09:13.983Z"
   },
   {
    "duration": 372,
    "start_time": "2022-05-05T23:09:23.269Z"
   },
   {
    "duration": 292,
    "start_time": "2022-05-05T23:09:29.537Z"
   },
   {
    "duration": 250,
    "start_time": "2022-05-05T23:09:36.348Z"
   },
   {
    "duration": 282,
    "start_time": "2022-05-05T23:09:41.274Z"
   },
   {
    "duration": 293,
    "start_time": "2022-05-05T23:09:46.117Z"
   },
   {
    "duration": 429,
    "start_time": "2022-05-05T23:09:49.514Z"
   },
   {
    "duration": 702,
    "start_time": "2022-05-05T23:10:12.422Z"
   },
   {
    "duration": 450,
    "start_time": "2022-05-05T23:10:24.271Z"
   },
   {
    "duration": 426,
    "start_time": "2022-05-05T23:10:36.922Z"
   },
   {
    "duration": 434,
    "start_time": "2022-05-05T23:10:43.507Z"
   },
   {
    "duration": 226,
    "start_time": "2022-05-05T23:11:07.292Z"
   },
   {
    "duration": 227,
    "start_time": "2022-05-05T23:11:11.372Z"
   },
   {
    "duration": 218,
    "start_time": "2022-05-05T23:11:28.693Z"
   },
   {
    "duration": 365,
    "start_time": "2022-05-05T23:11:36.183Z"
   },
   {
    "duration": 551,
    "start_time": "2022-05-05T23:11:43.643Z"
   },
   {
    "duration": 353,
    "start_time": "2022-05-05T23:11:48.651Z"
   },
   {
    "duration": 1034,
    "start_time": "2022-05-05T23:12:04.026Z"
   },
   {
    "duration": 200,
    "start_time": "2022-05-05T23:13:10.955Z"
   },
   {
    "duration": 334,
    "start_time": "2022-05-05T23:13:31.879Z"
   },
   {
    "duration": 365,
    "start_time": "2022-05-05T23:13:43.805Z"
   },
   {
    "duration": 340,
    "start_time": "2022-05-05T23:13:52.319Z"
   },
   {
    "duration": 344,
    "start_time": "2022-05-05T23:13:55.687Z"
   },
   {
    "duration": 347,
    "start_time": "2022-05-05T23:14:05.373Z"
   },
   {
    "duration": 275,
    "start_time": "2022-05-05T23:14:11.553Z"
   },
   {
    "duration": 314,
    "start_time": "2022-05-05T23:14:26.667Z"
   },
   {
    "duration": 313,
    "start_time": "2022-05-05T23:14:40.119Z"
   },
   {
    "duration": 471,
    "start_time": "2022-05-05T23:15:01.529Z"
   },
   {
    "duration": 501,
    "start_time": "2022-05-05T23:15:11.378Z"
   },
   {
    "duration": 468,
    "start_time": "2022-05-05T23:15:19.492Z"
   },
   {
    "duration": 401,
    "start_time": "2022-05-05T23:15:30.651Z"
   },
   {
    "duration": 376,
    "start_time": "2022-05-05T23:35:30.729Z"
   },
   {
    "duration": 272,
    "start_time": "2022-05-05T23:35:40.618Z"
   },
   {
    "duration": 300,
    "start_time": "2022-05-05T23:35:46.614Z"
   },
   {
    "duration": 108,
    "start_time": "2022-05-05T23:40:04.661Z"
   },
   {
    "duration": 6,
    "start_time": "2022-05-05T23:40:25.501Z"
   },
   {
    "duration": 5,
    "start_time": "2022-05-05T23:40:50.220Z"
   },
   {
    "duration": 12,
    "start_time": "2022-05-05T23:40:55.232Z"
   },
   {
    "duration": 7,
    "start_time": "2022-05-05T23:41:50.904Z"
   },
   {
    "duration": 686,
    "start_time": "2022-05-05T23:42:01.270Z"
   },
   {
    "duration": 24,
    "start_time": "2022-05-05T23:42:29.676Z"
   },
   {
    "duration": 826,
    "start_time": "2022-05-05T23:42:42.140Z"
   },
   {
    "duration": 31,
    "start_time": "2022-05-05T23:42:42.969Z"
   },
   {
    "duration": 127,
    "start_time": "2022-05-05T23:42:43.003Z"
   },
   {
    "duration": 36,
    "start_time": "2022-05-05T23:42:43.133Z"
   },
   {
    "duration": 122,
    "start_time": "2022-05-05T23:42:43.171Z"
   },
   {
    "duration": 30,
    "start_time": "2022-05-05T23:42:43.296Z"
   },
   {
    "duration": 125,
    "start_time": "2022-05-05T23:42:43.329Z"
   },
   {
    "duration": 6,
    "start_time": "2022-05-05T23:42:43.457Z"
   },
   {
    "duration": 60,
    "start_time": "2022-05-05T23:42:43.465Z"
   },
   {
    "duration": 25,
    "start_time": "2022-05-05T23:42:43.528Z"
   },
   {
    "duration": 685,
    "start_time": "2022-05-05T23:42:43.556Z"
   },
   {
    "duration": 10,
    "start_time": "2022-05-05T23:42:44.243Z"
   },
   {
    "duration": 228,
    "start_time": "2022-05-05T23:42:44.255Z"
   },
   {
    "duration": 10,
    "start_time": "2022-05-05T23:42:44.485Z"
   },
   {
    "duration": 6,
    "start_time": "2022-05-05T23:42:44.498Z"
   },
   {
    "duration": 274,
    "start_time": "2022-05-05T23:42:44.506Z"
   },
   {
    "duration": 13,
    "start_time": "2022-05-05T23:42:44.782Z"
   },
   {
    "duration": 12,
    "start_time": "2022-05-05T23:42:44.797Z"
   },
   {
    "duration": 258,
    "start_time": "2022-05-05T23:42:44.811Z"
   },
   {
    "duration": 340,
    "start_time": "2022-05-05T23:42:45.072Z"
   },
   {
    "duration": 6,
    "start_time": "2022-05-05T23:42:45.415Z"
   },
   {
    "duration": 9,
    "start_time": "2022-05-05T23:42:45.423Z"
   },
   {
    "duration": 78,
    "start_time": "2022-05-05T23:42:45.434Z"
   },
   {
    "duration": 6,
    "start_time": "2022-05-05T23:42:45.514Z"
   },
   {
    "duration": 12,
    "start_time": "2022-05-05T23:42:45.522Z"
   },
   {
    "duration": 6,
    "start_time": "2022-05-05T23:42:45.536Z"
   },
   {
    "duration": 310,
    "start_time": "2022-05-05T23:42:45.544Z"
   },
   {
    "duration": 7,
    "start_time": "2022-05-05T23:42:45.859Z"
   },
   {
    "duration": 205,
    "start_time": "2022-05-05T23:42:45.868Z"
   },
   {
    "duration": 48,
    "start_time": "2022-05-05T23:42:46.075Z"
   },
   {
    "duration": 6,
    "start_time": "2022-05-05T23:42:46.125Z"
   },
   {
    "duration": 11,
    "start_time": "2022-05-05T23:42:46.133Z"
   },
   {
    "duration": 6,
    "start_time": "2022-05-05T23:42:46.146Z"
   },
   {
    "duration": 41,
    "start_time": "2022-05-05T23:42:46.154Z"
   },
   {
    "duration": 6,
    "start_time": "2022-05-05T23:42:46.197Z"
   },
   {
    "duration": 17,
    "start_time": "2022-05-05T23:42:46.204Z"
   },
   {
    "duration": 19,
    "start_time": "2022-05-05T23:42:46.224Z"
   },
   {
    "duration": 11,
    "start_time": "2022-05-05T23:42:46.245Z"
   },
   {
    "duration": 66,
    "start_time": "2022-05-05T23:42:46.257Z"
   },
   {
    "duration": 33,
    "start_time": "2022-05-05T23:42:46.326Z"
   },
   {
    "duration": 5,
    "start_time": "2022-05-05T23:42:46.361Z"
   },
   {
    "duration": 16,
    "start_time": "2022-05-05T23:42:46.393Z"
   },
   {
    "duration": 35,
    "start_time": "2022-05-05T23:42:46.411Z"
   },
   {
    "duration": 45,
    "start_time": "2022-05-05T23:42:46.448Z"
   },
   {
    "duration": 35,
    "start_time": "2022-05-05T23:42:46.496Z"
   },
   {
    "duration": 6,
    "start_time": "2022-05-05T23:42:46.534Z"
   },
   {
    "duration": 64,
    "start_time": "2022-05-05T23:42:46.542Z"
   },
   {
    "duration": 40,
    "start_time": "2022-05-05T23:42:46.608Z"
   },
   {
    "duration": 204,
    "start_time": "2022-05-05T23:42:46.651Z"
   },
   {
    "duration": 388,
    "start_time": "2022-05-05T23:42:46.857Z"
   },
   {
    "duration": 215,
    "start_time": "2022-05-05T23:42:47.247Z"
   },
   {
    "duration": 395,
    "start_time": "2022-05-05T23:42:47.465Z"
   },
   {
    "duration": 181,
    "start_time": "2022-05-05T23:42:47.863Z"
   },
   {
    "duration": 229,
    "start_time": "2022-05-05T23:42:48.047Z"
   },
   {
    "duration": 189,
    "start_time": "2022-05-05T23:42:48.278Z"
   },
   {
    "duration": 317,
    "start_time": "2022-05-05T23:42:48.470Z"
   },
   {
    "duration": 12,
    "start_time": "2022-05-05T23:42:48.793Z"
   },
   {
    "duration": 282,
    "start_time": "2022-05-05T23:42:48.807Z"
   },
   {
    "duration": 585,
    "start_time": "2022-05-05T23:42:49.093Z"
   },
   {
    "duration": 299,
    "start_time": "2022-05-05T23:42:49.681Z"
   },
   {
    "duration": 20,
    "start_time": "2022-05-05T23:42:49.983Z"
   },
   {
    "duration": 407,
    "start_time": "2022-05-05T23:42:50.006Z"
   },
   {
    "duration": 295,
    "start_time": "2022-05-05T23:43:05.174Z"
   },
   {
    "duration": 274,
    "start_time": "2022-05-05T23:43:21.693Z"
   },
   {
    "duration": 561,
    "start_time": "2022-05-05T23:43:32.738Z"
   },
   {
    "duration": 297,
    "start_time": "2022-05-05T23:43:38.605Z"
   },
   {
    "duration": 562,
    "start_time": "2022-05-05T23:43:51.441Z"
   },
   {
    "duration": 19,
    "start_time": "2022-05-05T23:43:52.005Z"
   },
   {
    "duration": 105,
    "start_time": "2022-05-05T23:43:52.027Z"
   },
   {
    "duration": 36,
    "start_time": "2022-05-05T23:43:52.134Z"
   },
   {
    "duration": 75,
    "start_time": "2022-05-05T23:43:52.173Z"
   },
   {
    "duration": 45,
    "start_time": "2022-05-05T23:43:52.251Z"
   },
   {
    "duration": 111,
    "start_time": "2022-05-05T23:43:52.299Z"
   },
   {
    "duration": 5,
    "start_time": "2022-05-05T23:43:52.413Z"
   },
   {
    "duration": 38,
    "start_time": "2022-05-05T23:43:52.421Z"
   },
   {
    "duration": 20,
    "start_time": "2022-05-05T23:43:52.493Z"
   },
   {
    "duration": 564,
    "start_time": "2022-05-05T23:43:52.516Z"
   },
   {
    "duration": 16,
    "start_time": "2022-05-05T23:43:53.083Z"
   },
   {
    "duration": 210,
    "start_time": "2022-05-05T23:43:53.102Z"
   },
   {
    "duration": 6,
    "start_time": "2022-05-05T23:43:53.315Z"
   },
   {
    "duration": 8,
    "start_time": "2022-05-05T23:43:53.323Z"
   },
   {
    "duration": 283,
    "start_time": "2022-05-05T23:43:53.333Z"
   },
   {
    "duration": 5,
    "start_time": "2022-05-05T23:43:53.619Z"
   },
   {
    "duration": 6,
    "start_time": "2022-05-05T23:43:53.626Z"
   },
   {
    "duration": 248,
    "start_time": "2022-05-05T23:43:53.634Z"
   },
   {
    "duration": 237,
    "start_time": "2022-05-05T23:43:53.884Z"
   },
   {
    "duration": 6,
    "start_time": "2022-05-05T23:43:54.123Z"
   },
   {
    "duration": 8,
    "start_time": "2022-05-05T23:43:54.131Z"
   },
   {
    "duration": 72,
    "start_time": "2022-05-05T23:43:54.141Z"
   },
   {
    "duration": 7,
    "start_time": "2022-05-05T23:43:54.216Z"
   },
   {
    "duration": 10,
    "start_time": "2022-05-05T23:43:54.226Z"
   },
   {
    "duration": 8,
    "start_time": "2022-05-05T23:43:54.238Z"
   },
   {
    "duration": 310,
    "start_time": "2022-05-05T23:43:54.248Z"
   },
   {
    "duration": 6,
    "start_time": "2022-05-05T23:43:54.564Z"
   },
   {
    "duration": 203,
    "start_time": "2022-05-05T23:43:54.572Z"
   },
   {
    "duration": 46,
    "start_time": "2022-05-05T23:43:54.777Z"
   },
   {
    "duration": 6,
    "start_time": "2022-05-05T23:43:54.825Z"
   },
   {
    "duration": 8,
    "start_time": "2022-05-05T23:43:54.834Z"
   },
   {
    "duration": 9,
    "start_time": "2022-05-05T23:43:54.844Z"
   },
   {
    "duration": 38,
    "start_time": "2022-05-05T23:43:54.855Z"
   },
   {
    "duration": 7,
    "start_time": "2022-05-05T23:43:54.895Z"
   },
   {
    "duration": 14,
    "start_time": "2022-05-05T23:43:54.904Z"
   },
   {
    "duration": 20,
    "start_time": "2022-05-05T23:43:54.920Z"
   },
   {
    "duration": 10,
    "start_time": "2022-05-05T23:43:54.942Z"
   },
   {
    "duration": 74,
    "start_time": "2022-05-05T23:43:54.954Z"
   },
   {
    "duration": 36,
    "start_time": "2022-05-05T23:43:55.030Z"
   },
   {
    "duration": 6,
    "start_time": "2022-05-05T23:43:55.068Z"
   },
   {
    "duration": 17,
    "start_time": "2022-05-05T23:43:55.094Z"
   },
   {
    "duration": 35,
    "start_time": "2022-05-05T23:43:55.113Z"
   },
   {
    "duration": 50,
    "start_time": "2022-05-05T23:43:55.150Z"
   },
   {
    "duration": 36,
    "start_time": "2022-05-05T23:43:55.203Z"
   },
   {
    "duration": 7,
    "start_time": "2022-05-05T23:43:55.241Z"
   },
   {
    "duration": 64,
    "start_time": "2022-05-05T23:43:55.251Z"
   },
   {
    "duration": 40,
    "start_time": "2022-05-05T23:43:55.317Z"
   },
   {
    "duration": 202,
    "start_time": "2022-05-05T23:43:55.359Z"
   },
   {
    "duration": 359,
    "start_time": "2022-05-05T23:43:55.563Z"
   },
   {
    "duration": 194,
    "start_time": "2022-05-05T23:43:55.924Z"
   },
   {
    "duration": 375,
    "start_time": "2022-05-05T23:43:56.120Z"
   },
   {
    "duration": 175,
    "start_time": "2022-05-05T23:43:56.497Z"
   },
   {
    "duration": 213,
    "start_time": "2022-05-05T23:43:56.674Z"
   },
   {
    "duration": 172,
    "start_time": "2022-05-05T23:43:56.893Z"
   },
   {
    "duration": 298,
    "start_time": "2022-05-05T23:43:57.067Z"
   },
   {
    "duration": 12,
    "start_time": "2022-05-05T23:43:57.367Z"
   },
   {
    "duration": 177,
    "start_time": "2022-05-05T23:43:57.393Z"
   },
   {
    "duration": 352,
    "start_time": "2022-05-05T23:43:57.572Z"
   },
   {
    "duration": 285,
    "start_time": "2022-05-05T23:43:57.926Z"
   },
   {
    "duration": 14,
    "start_time": "2022-05-05T23:43:58.213Z"
   },
   {
    "duration": 359,
    "start_time": "2022-05-05T23:43:58.229Z"
   },
   {
    "duration": 14,
    "start_time": "2022-05-05T23:44:37.362Z"
   },
   {
    "duration": 363,
    "start_time": "2022-05-05T23:44:39.332Z"
   },
   {
    "duration": 102,
    "start_time": "2022-05-05T23:45:00.138Z"
   },
   {
    "duration": 12,
    "start_time": "2022-05-05T23:45:03.758Z"
   },
   {
    "duration": 440,
    "start_time": "2022-05-05T23:45:05.042Z"
   },
   {
    "duration": 7,
    "start_time": "2022-05-05T23:45:24.761Z"
   },
   {
    "duration": 329,
    "start_time": "2022-05-05T23:45:25.809Z"
   },
   {
    "duration": 23,
    "start_time": "2022-05-05T23:45:43.525Z"
   },
   {
    "duration": 617,
    "start_time": "2022-05-05T23:45:56.371Z"
   },
   {
    "duration": 19,
    "start_time": "2022-05-05T23:45:56.991Z"
   },
   {
    "duration": 106,
    "start_time": "2022-05-05T23:45:57.013Z"
   },
   {
    "duration": 37,
    "start_time": "2022-05-05T23:45:57.123Z"
   },
   {
    "duration": 81,
    "start_time": "2022-05-05T23:45:57.162Z"
   },
   {
    "duration": 21,
    "start_time": "2022-05-05T23:45:57.246Z"
   },
   {
    "duration": 103,
    "start_time": "2022-05-05T23:45:57.293Z"
   },
   {
    "duration": 5,
    "start_time": "2022-05-05T23:45:57.399Z"
   },
   {
    "duration": 37,
    "start_time": "2022-05-05T23:45:57.407Z"
   },
   {
    "duration": 50,
    "start_time": "2022-05-05T23:45:57.450Z"
   },
   {
    "duration": 552,
    "start_time": "2022-05-05T23:45:57.503Z"
   },
   {
    "duration": 11,
    "start_time": "2022-05-05T23:45:58.057Z"
   },
   {
    "duration": 230,
    "start_time": "2022-05-05T23:45:58.071Z"
   },
   {
    "duration": 5,
    "start_time": "2022-05-05T23:45:58.304Z"
   },
   {
    "duration": 10,
    "start_time": "2022-05-05T23:45:58.312Z"
   },
   {
    "duration": 277,
    "start_time": "2022-05-05T23:45:58.325Z"
   },
   {
    "duration": 6,
    "start_time": "2022-05-05T23:45:58.604Z"
   },
   {
    "duration": 7,
    "start_time": "2022-05-05T23:45:58.611Z"
   },
   {
    "duration": 270,
    "start_time": "2022-05-05T23:45:58.620Z"
   },
   {
    "duration": 230,
    "start_time": "2022-05-05T23:45:58.893Z"
   },
   {
    "duration": 5,
    "start_time": "2022-05-05T23:45:59.126Z"
   },
   {
    "duration": 7,
    "start_time": "2022-05-05T23:45:59.133Z"
   },
   {
    "duration": 65,
    "start_time": "2022-05-05T23:45:59.143Z"
   },
   {
    "duration": 6,
    "start_time": "2022-05-05T23:45:59.211Z"
   },
   {
    "duration": 13,
    "start_time": "2022-05-05T23:45:59.220Z"
   },
   {
    "duration": 6,
    "start_time": "2022-05-05T23:45:59.235Z"
   },
   {
    "duration": 287,
    "start_time": "2022-05-05T23:45:59.243Z"
   },
   {
    "duration": 6,
    "start_time": "2022-05-05T23:45:59.536Z"
   },
   {
    "duration": 200,
    "start_time": "2022-05-05T23:45:59.544Z"
   },
   {
    "duration": 48,
    "start_time": "2022-05-05T23:45:59.746Z"
   },
   {
    "duration": 6,
    "start_time": "2022-05-05T23:45:59.796Z"
   },
   {
    "duration": 6,
    "start_time": "2022-05-05T23:45:59.804Z"
   },
   {
    "duration": 6,
    "start_time": "2022-05-05T23:45:59.813Z"
   },
   {
    "duration": 11,
    "start_time": "2022-05-05T23:45:59.821Z"
   },
   {
    "duration": 7,
    "start_time": "2022-05-05T23:45:59.834Z"
   },
   {
    "duration": 49,
    "start_time": "2022-05-05T23:45:59.844Z"
   },
   {
    "duration": 20,
    "start_time": "2022-05-05T23:45:59.895Z"
   },
   {
    "duration": 11,
    "start_time": "2022-05-05T23:45:59.917Z"
   },
   {
    "duration": 36,
    "start_time": "2022-05-05T23:45:59.930Z"
   },
   {
    "duration": 39,
    "start_time": "2022-05-05T23:45:59.992Z"
   },
   {
    "duration": 6,
    "start_time": "2022-05-05T23:46:00.033Z"
   },
   {
    "duration": 24,
    "start_time": "2022-05-05T23:46:00.040Z"
   },
   {
    "duration": 58,
    "start_time": "2022-05-05T23:46:00.066Z"
   },
   {
    "duration": 17,
    "start_time": "2022-05-05T23:46:00.126Z"
   },
   {
    "duration": 61,
    "start_time": "2022-05-05T23:46:00.145Z"
   },
   {
    "duration": 7,
    "start_time": "2022-05-05T23:46:00.208Z"
   },
   {
    "duration": 37,
    "start_time": "2022-05-05T23:46:00.217Z"
   },
   {
    "duration": 69,
    "start_time": "2022-05-05T23:46:00.256Z"
   },
   {
    "duration": 193,
    "start_time": "2022-05-05T23:46:00.327Z"
   },
   {
    "duration": 363,
    "start_time": "2022-05-05T23:46:00.522Z"
   },
   {
    "duration": 202,
    "start_time": "2022-05-05T23:46:00.888Z"
   },
   {
    "duration": 399,
    "start_time": "2022-05-05T23:46:01.093Z"
   },
   {
    "duration": 169,
    "start_time": "2022-05-05T23:46:01.495Z"
   },
   {
    "duration": 217,
    "start_time": "2022-05-05T23:46:01.666Z"
   },
   {
    "duration": 166,
    "start_time": "2022-05-05T23:46:01.893Z"
   },
   {
    "duration": 325,
    "start_time": "2022-05-05T23:46:02.061Z"
   },
   {
    "duration": 13,
    "start_time": "2022-05-05T23:46:02.392Z"
   },
   {
    "duration": 217,
    "start_time": "2022-05-05T23:46:02.407Z"
   },
   {
    "duration": 366,
    "start_time": "2022-05-05T23:46:02.627Z"
   },
   {
    "duration": 295,
    "start_time": "2022-05-05T23:46:02.995Z"
   },
   {
    "duration": 7,
    "start_time": "2022-05-05T23:46:03.293Z"
   },
   {
    "duration": 366,
    "start_time": "2022-05-05T23:46:03.302Z"
   },
   {
    "duration": 28,
    "start_time": "2022-05-05T23:46:03.670Z"
   },
   {
    "duration": 620,
    "start_time": "2022-05-05T23:46:47.891Z"
   },
   {
    "duration": 21,
    "start_time": "2022-05-05T23:46:48.513Z"
   },
   {
    "duration": 113,
    "start_time": "2022-05-05T23:46:48.536Z"
   },
   {
    "duration": 47,
    "start_time": "2022-05-05T23:46:48.652Z"
   },
   {
    "duration": 66,
    "start_time": "2022-05-05T23:46:48.701Z"
   },
   {
    "duration": 39,
    "start_time": "2022-05-05T23:46:48.769Z"
   },
   {
    "duration": 117,
    "start_time": "2022-05-05T23:46:48.810Z"
   },
   {
    "duration": 5,
    "start_time": "2022-05-05T23:46:48.929Z"
   },
   {
    "duration": 41,
    "start_time": "2022-05-05T23:46:48.936Z"
   },
   {
    "duration": 17,
    "start_time": "2022-05-05T23:46:48.996Z"
   },
   {
    "duration": 583,
    "start_time": "2022-05-05T23:46:49.016Z"
   },
   {
    "duration": 9,
    "start_time": "2022-05-05T23:46:49.602Z"
   },
   {
    "duration": 214,
    "start_time": "2022-05-05T23:46:49.613Z"
   },
   {
    "duration": 5,
    "start_time": "2022-05-05T23:46:49.830Z"
   },
   {
    "duration": 9,
    "start_time": "2022-05-05T23:46:49.837Z"
   },
   {
    "duration": 284,
    "start_time": "2022-05-05T23:46:49.848Z"
   },
   {
    "duration": 6,
    "start_time": "2022-05-05T23:46:50.134Z"
   },
   {
    "duration": 7,
    "start_time": "2022-05-05T23:46:50.143Z"
   },
   {
    "duration": 293,
    "start_time": "2022-05-05T23:46:50.152Z"
   },
   {
    "duration": 274,
    "start_time": "2022-05-05T23:46:50.448Z"
   },
   {
    "duration": 4,
    "start_time": "2022-05-05T23:46:50.725Z"
   },
   {
    "duration": 11,
    "start_time": "2022-05-05T23:46:50.732Z"
   },
   {
    "duration": 71,
    "start_time": "2022-05-05T23:46:50.745Z"
   },
   {
    "duration": 6,
    "start_time": "2022-05-05T23:46:50.818Z"
   },
   {
    "duration": 9,
    "start_time": "2022-05-05T23:46:50.827Z"
   },
   {
    "duration": 7,
    "start_time": "2022-05-05T23:46:50.838Z"
   },
   {
    "duration": 314,
    "start_time": "2022-05-05T23:46:50.847Z"
   },
   {
    "duration": 7,
    "start_time": "2022-05-05T23:46:51.168Z"
   },
   {
    "duration": 218,
    "start_time": "2022-05-05T23:46:51.177Z"
   },
   {
    "duration": 40,
    "start_time": "2022-05-05T23:46:51.398Z"
   },
   {
    "duration": 7,
    "start_time": "2022-05-05T23:46:51.441Z"
   },
   {
    "duration": 41,
    "start_time": "2022-05-05T23:46:51.451Z"
   },
   {
    "duration": 7,
    "start_time": "2022-05-05T23:46:51.495Z"
   },
   {
    "duration": 9,
    "start_time": "2022-05-05T23:46:51.505Z"
   },
   {
    "duration": 7,
    "start_time": "2022-05-05T23:46:51.516Z"
   },
   {
    "duration": 13,
    "start_time": "2022-05-05T23:46:51.526Z"
   },
   {
    "duration": 63,
    "start_time": "2022-05-05T23:46:51.542Z"
   },
   {
    "duration": 12,
    "start_time": "2022-05-05T23:46:51.608Z"
   },
   {
    "duration": 39,
    "start_time": "2022-05-05T23:46:51.622Z"
   },
   {
    "duration": 36,
    "start_time": "2022-05-05T23:46:51.692Z"
   },
   {
    "duration": 6,
    "start_time": "2022-05-05T23:46:51.731Z"
   },
   {
    "duration": 18,
    "start_time": "2022-05-05T23:46:51.739Z"
   },
   {
    "duration": 69,
    "start_time": "2022-05-05T23:46:51.760Z"
   },
   {
    "duration": 17,
    "start_time": "2022-05-05T23:46:51.831Z"
   },
   {
    "duration": 63,
    "start_time": "2022-05-05T23:46:51.850Z"
   },
   {
    "duration": 7,
    "start_time": "2022-05-05T23:46:51.916Z"
   },
   {
    "duration": 36,
    "start_time": "2022-05-05T23:46:51.925Z"
   },
   {
    "duration": 62,
    "start_time": "2022-05-05T23:46:51.963Z"
   },
   {
    "duration": 195,
    "start_time": "2022-05-05T23:46:52.028Z"
   },
   {
    "duration": 378,
    "start_time": "2022-05-05T23:46:52.226Z"
   },
   {
    "duration": 219,
    "start_time": "2022-05-05T23:46:52.607Z"
   },
   {
    "duration": 390,
    "start_time": "2022-05-05T23:46:52.828Z"
   },
   {
    "duration": 175,
    "start_time": "2022-05-05T23:46:53.220Z"
   },
   {
    "duration": 224,
    "start_time": "2022-05-05T23:46:53.397Z"
   },
   {
    "duration": 187,
    "start_time": "2022-05-05T23:46:53.623Z"
   },
   {
    "duration": 409,
    "start_time": "2022-05-05T23:46:53.813Z"
   },
   {
    "duration": 13,
    "start_time": "2022-05-05T23:46:54.224Z"
   },
   {
    "duration": 197,
    "start_time": "2022-05-05T23:46:54.239Z"
   },
   {
    "duration": 382,
    "start_time": "2022-05-05T23:46:54.439Z"
   },
   {
    "duration": 297,
    "start_time": "2022-05-05T23:46:54.824Z"
   },
   {
    "duration": 4,
    "start_time": "2022-05-05T23:46:55.124Z"
   },
   {
    "duration": 13,
    "start_time": "2022-05-05T23:46:55.130Z"
   },
   {
    "duration": 25,
    "start_time": "2022-05-05T23:46:55.145Z"
   },
   {
    "duration": 8,
    "start_time": "2022-05-05T23:47:09.615Z"
   },
   {
    "duration": 7,
    "start_time": "2022-05-05T23:47:36.662Z"
   },
   {
    "duration": 360,
    "start_time": "2022-05-05T23:47:43.141Z"
   },
   {
    "duration": 7,
    "start_time": "2022-05-05T23:47:48.886Z"
   },
   {
    "duration": 355,
    "start_time": "2022-05-05T23:48:11.415Z"
   },
   {
    "duration": 14,
    "start_time": "2022-05-05T23:48:14.178Z"
   },
   {
    "duration": 455,
    "start_time": "2022-05-05T23:48:15.116Z"
   },
   {
    "duration": 10,
    "start_time": "2022-05-05T23:48:45.594Z"
   },
   {
    "duration": 10,
    "start_time": "2022-05-05T23:49:29.301Z"
   },
   {
    "duration": 378,
    "start_time": "2022-05-05T23:49:30.001Z"
   },
   {
    "duration": 10,
    "start_time": "2022-05-05T23:49:38.902Z"
   },
   {
    "duration": 359,
    "start_time": "2022-05-05T23:49:39.378Z"
   },
   {
    "duration": 9,
    "start_time": "2022-05-05T23:49:43.571Z"
   },
   {
    "duration": 364,
    "start_time": "2022-05-05T23:49:56.213Z"
   },
   {
    "duration": 579,
    "start_time": "2022-05-05T23:50:09.610Z"
   },
   {
    "duration": 19,
    "start_time": "2022-05-05T23:50:10.192Z"
   },
   {
    "duration": 111,
    "start_time": "2022-05-05T23:50:10.213Z"
   },
   {
    "duration": 37,
    "start_time": "2022-05-05T23:50:10.326Z"
   },
   {
    "duration": 78,
    "start_time": "2022-05-05T23:50:10.367Z"
   },
   {
    "duration": 18,
    "start_time": "2022-05-05T23:50:10.447Z"
   },
   {
    "duration": 125,
    "start_time": "2022-05-05T23:50:10.467Z"
   },
   {
    "duration": 4,
    "start_time": "2022-05-05T23:50:10.595Z"
   },
   {
    "duration": 39,
    "start_time": "2022-05-05T23:50:10.601Z"
   },
   {
    "duration": 19,
    "start_time": "2022-05-05T23:50:10.642Z"
   },
   {
    "duration": 633,
    "start_time": "2022-05-05T23:50:10.663Z"
   },
   {
    "duration": 10,
    "start_time": "2022-05-05T23:50:11.298Z"
   },
   {
    "duration": 213,
    "start_time": "2022-05-05T23:50:11.310Z"
   },
   {
    "duration": 5,
    "start_time": "2022-05-05T23:50:11.528Z"
   },
   {
    "duration": 18,
    "start_time": "2022-05-05T23:50:11.535Z"
   },
   {
    "duration": 283,
    "start_time": "2022-05-05T23:50:11.555Z"
   },
   {
    "duration": 5,
    "start_time": "2022-05-05T23:50:11.840Z"
   },
   {
    "duration": 10,
    "start_time": "2022-05-05T23:50:11.847Z"
   },
   {
    "duration": 293,
    "start_time": "2022-05-05T23:50:11.859Z"
   },
   {
    "duration": 259,
    "start_time": "2022-05-05T23:50:12.154Z"
   },
   {
    "duration": 5,
    "start_time": "2022-05-05T23:50:12.415Z"
   },
   {
    "duration": 9,
    "start_time": "2022-05-05T23:50:12.423Z"
   },
   {
    "duration": 69,
    "start_time": "2022-05-05T23:50:12.434Z"
   },
   {
    "duration": 7,
    "start_time": "2022-05-05T23:50:12.505Z"
   },
   {
    "duration": 9,
    "start_time": "2022-05-05T23:50:12.514Z"
   },
   {
    "duration": 7,
    "start_time": "2022-05-05T23:50:12.525Z"
   },
   {
    "duration": 305,
    "start_time": "2022-05-05T23:50:12.534Z"
   },
   {
    "duration": 6,
    "start_time": "2022-05-05T23:50:12.841Z"
   },
   {
    "duration": 207,
    "start_time": "2022-05-05T23:50:12.850Z"
   },
   {
    "duration": 52,
    "start_time": "2022-05-05T23:50:13.060Z"
   },
   {
    "duration": 6,
    "start_time": "2022-05-05T23:50:13.114Z"
   },
   {
    "duration": 8,
    "start_time": "2022-05-05T23:50:13.122Z"
   },
   {
    "duration": 9,
    "start_time": "2022-05-05T23:50:13.132Z"
   },
   {
    "duration": 10,
    "start_time": "2022-05-05T23:50:13.144Z"
   },
   {
    "duration": 40,
    "start_time": "2022-05-05T23:50:13.157Z"
   },
   {
    "duration": 17,
    "start_time": "2022-05-05T23:50:13.200Z"
   },
   {
    "duration": 30,
    "start_time": "2022-05-05T23:50:13.220Z"
   },
   {
    "duration": 42,
    "start_time": "2022-05-05T23:50:13.252Z"
   },
   {
    "duration": 41,
    "start_time": "2022-05-05T23:50:13.296Z"
   },
   {
    "duration": 55,
    "start_time": "2022-05-05T23:50:13.339Z"
   },
   {
    "duration": 6,
    "start_time": "2022-05-05T23:50:13.400Z"
   },
   {
    "duration": 22,
    "start_time": "2022-05-05T23:50:13.408Z"
   },
   {
    "duration": 35,
    "start_time": "2022-05-05T23:50:13.432Z"
   },
   {
    "duration": 37,
    "start_time": "2022-05-05T23:50:13.469Z"
   },
   {
    "duration": 36,
    "start_time": "2022-05-05T23:50:13.509Z"
   },
   {
    "duration": 7,
    "start_time": "2022-05-05T23:50:13.547Z"
   },
   {
    "duration": 79,
    "start_time": "2022-05-05T23:50:13.556Z"
   },
   {
    "duration": 38,
    "start_time": "2022-05-05T23:50:13.638Z"
   },
   {
    "duration": 204,
    "start_time": "2022-05-05T23:50:13.678Z"
   },
   {
    "duration": 378,
    "start_time": "2022-05-05T23:50:13.884Z"
   },
   {
    "duration": 210,
    "start_time": "2022-05-05T23:50:14.265Z"
   },
   {
    "duration": 383,
    "start_time": "2022-05-05T23:50:14.477Z"
   },
   {
    "duration": 185,
    "start_time": "2022-05-05T23:50:14.862Z"
   },
   {
    "duration": 222,
    "start_time": "2022-05-05T23:50:15.049Z"
   },
   {
    "duration": 171,
    "start_time": "2022-05-05T23:50:15.273Z"
   },
   {
    "duration": 309,
    "start_time": "2022-05-05T23:50:15.446Z"
   },
   {
    "duration": 12,
    "start_time": "2022-05-05T23:50:15.757Z"
   },
   {
    "duration": 187,
    "start_time": "2022-05-05T23:50:15.771Z"
   },
   {
    "duration": 377,
    "start_time": "2022-05-05T23:50:15.960Z"
   },
   {
    "duration": 295,
    "start_time": "2022-05-05T23:50:16.339Z"
   },
   {
    "duration": 9,
    "start_time": "2022-05-05T23:50:16.637Z"
   },
   {
    "duration": 373,
    "start_time": "2022-05-05T23:50:16.648Z"
   },
   {
    "duration": 9,
    "start_time": "2022-05-05T23:50:17.023Z"
   },
   {
    "duration": 11,
    "start_time": "2022-05-05T23:50:59.854Z"
   },
   {
    "duration": 354,
    "start_time": "2022-05-05T23:51:00.756Z"
   },
   {
    "duration": 629,
    "start_time": "2022-05-05T23:51:07.974Z"
   },
   {
    "duration": 26,
    "start_time": "2022-05-05T23:51:08.606Z"
   },
   {
    "duration": 109,
    "start_time": "2022-05-05T23:51:08.635Z"
   },
   {
    "duration": 36,
    "start_time": "2022-05-05T23:51:08.747Z"
   },
   {
    "duration": 63,
    "start_time": "2022-05-05T23:51:08.793Z"
   },
   {
    "duration": 44,
    "start_time": "2022-05-05T23:51:08.858Z"
   },
   {
    "duration": 117,
    "start_time": "2022-05-05T23:51:08.905Z"
   },
   {
    "duration": 6,
    "start_time": "2022-05-05T23:51:09.024Z"
   },
   {
    "duration": 39,
    "start_time": "2022-05-05T23:51:09.033Z"
   },
   {
    "duration": 16,
    "start_time": "2022-05-05T23:51:09.096Z"
   },
   {
    "duration": 598,
    "start_time": "2022-05-05T23:51:09.114Z"
   },
   {
    "duration": 11,
    "start_time": "2022-05-05T23:51:09.715Z"
   },
   {
    "duration": 230,
    "start_time": "2022-05-05T23:51:09.729Z"
   },
   {
    "duration": 5,
    "start_time": "2022-05-05T23:51:09.962Z"
   },
   {
    "duration": 26,
    "start_time": "2022-05-05T23:51:09.969Z"
   },
   {
    "duration": 259,
    "start_time": "2022-05-05T23:51:09.997Z"
   },
   {
    "duration": 6,
    "start_time": "2022-05-05T23:51:10.258Z"
   },
   {
    "duration": 9,
    "start_time": "2022-05-05T23:51:10.266Z"
   },
   {
    "duration": 257,
    "start_time": "2022-05-05T23:51:10.293Z"
   },
   {
    "duration": 232,
    "start_time": "2022-05-05T23:51:10.552Z"
   },
   {
    "duration": 9,
    "start_time": "2022-05-05T23:51:10.787Z"
   },
   {
    "duration": 10,
    "start_time": "2022-05-05T23:51:10.798Z"
   },
   {
    "duration": 43,
    "start_time": "2022-05-05T23:51:10.810Z"
   },
   {
    "duration": 6,
    "start_time": "2022-05-05T23:51:10.855Z"
   },
   {
    "duration": 34,
    "start_time": "2022-05-05T23:51:10.863Z"
   },
   {
    "duration": 6,
    "start_time": "2022-05-05T23:51:10.899Z"
   },
   {
    "duration": 295,
    "start_time": "2022-05-05T23:51:10.907Z"
   },
   {
    "duration": 6,
    "start_time": "2022-05-05T23:51:11.208Z"
   },
   {
    "duration": 209,
    "start_time": "2022-05-05T23:51:11.216Z"
   },
   {
    "duration": 39,
    "start_time": "2022-05-05T23:51:11.428Z"
   },
   {
    "duration": 27,
    "start_time": "2022-05-05T23:51:11.469Z"
   },
   {
    "duration": 7,
    "start_time": "2022-05-05T23:51:11.498Z"
   },
   {
    "duration": 5,
    "start_time": "2022-05-05T23:51:11.508Z"
   },
   {
    "duration": 9,
    "start_time": "2022-05-05T23:51:11.515Z"
   },
   {
    "duration": 24,
    "start_time": "2022-05-05T23:51:11.526Z"
   },
   {
    "duration": 46,
    "start_time": "2022-05-05T23:51:11.552Z"
   },
   {
    "duration": 19,
    "start_time": "2022-05-05T23:51:11.600Z"
   },
   {
    "duration": 11,
    "start_time": "2022-05-05T23:51:11.621Z"
   },
   {
    "duration": 68,
    "start_time": "2022-05-05T23:51:11.634Z"
   },
   {
    "duration": 32,
    "start_time": "2022-05-05T23:51:11.704Z"
   },
   {
    "duration": 6,
    "start_time": "2022-05-05T23:51:11.738Z"
   },
   {
    "duration": 55,
    "start_time": "2022-05-05T23:51:11.746Z"
   },
   {
    "duration": 35,
    "start_time": "2022-05-05T23:51:11.803Z"
   },
   {
    "duration": 16,
    "start_time": "2022-05-05T23:51:11.840Z"
   },
   {
    "duration": 67,
    "start_time": "2022-05-05T23:51:11.858Z"
   },
   {
    "duration": 6,
    "start_time": "2022-05-05T23:51:11.928Z"
   },
   {
    "duration": 68,
    "start_time": "2022-05-05T23:51:11.936Z"
   },
   {
    "duration": 39,
    "start_time": "2022-05-05T23:51:12.006Z"
   },
   {
    "duration": 210,
    "start_time": "2022-05-05T23:51:12.047Z"
   },
   {
    "duration": 381,
    "start_time": "2022-05-05T23:51:12.260Z"
   },
   {
    "duration": 202,
    "start_time": "2022-05-05T23:51:12.643Z"
   },
   {
    "duration": 387,
    "start_time": "2022-05-05T23:51:12.847Z"
   },
   {
    "duration": 188,
    "start_time": "2022-05-05T23:51:13.236Z"
   },
   {
    "duration": 318,
    "start_time": "2022-05-05T23:51:13.426Z"
   },
   {
    "duration": 262,
    "start_time": "2022-05-05T23:51:13.747Z"
   },
   {
    "duration": 464,
    "start_time": "2022-05-05T23:51:14.012Z"
   },
   {
    "duration": 22,
    "start_time": "2022-05-05T23:51:14.479Z"
   },
   {
    "duration": 183,
    "start_time": "2022-05-05T23:51:14.503Z"
   },
   {
    "duration": 616,
    "start_time": "2022-05-05T23:51:14.692Z"
   },
   {
    "duration": 474,
    "start_time": "2022-05-05T23:51:15.311Z"
   },
   {
    "duration": 11,
    "start_time": "2022-05-05T23:51:15.793Z"
   },
   {
    "duration": 586,
    "start_time": "2022-05-05T23:51:15.807Z"
   },
   {
    "duration": 14,
    "start_time": "2022-05-05T23:51:16.395Z"
   },
   {
    "duration": 34,
    "start_time": "2022-05-06T00:38:47.863Z"
   },
   {
    "duration": 278,
    "start_time": "2022-05-06T00:38:55.238Z"
   },
   {
    "duration": 21,
    "start_time": "2022-05-06T00:39:01.692Z"
   },
   {
    "duration": 53,
    "start_time": "2022-05-06T00:39:14.504Z"
   },
   {
    "duration": 110,
    "start_time": "2022-05-06T00:39:36.609Z"
   },
   {
    "duration": 18,
    "start_time": "2022-05-06T00:39:44.013Z"
   },
   {
    "duration": 55,
    "start_time": "2022-05-06T00:41:04.628Z"
   },
   {
    "duration": 53,
    "start_time": "2022-05-06T00:41:20.812Z"
   },
   {
    "duration": 52,
    "start_time": "2022-05-06T00:41:43.334Z"
   },
   {
    "duration": 52,
    "start_time": "2022-05-06T00:42:38.644Z"
   },
   {
    "duration": 9,
    "start_time": "2022-05-06T00:42:54.189Z"
   },
   {
    "duration": 374,
    "start_time": "2022-05-06T00:42:56.737Z"
   },
   {
    "duration": 297,
    "start_time": "2022-05-06T00:43:05.871Z"
   },
   {
    "duration": 35,
    "start_time": "2022-05-06T00:43:28.648Z"
   },
   {
    "duration": 586,
    "start_time": "2022-05-06T00:44:13.641Z"
   },
   {
    "duration": 19,
    "start_time": "2022-05-06T00:44:14.230Z"
   },
   {
    "duration": 110,
    "start_time": "2022-05-06T00:44:14.252Z"
   },
   {
    "duration": 41,
    "start_time": "2022-05-06T00:44:14.365Z"
   },
   {
    "duration": 68,
    "start_time": "2022-05-06T00:44:14.408Z"
   },
   {
    "duration": 32,
    "start_time": "2022-05-06T00:44:14.478Z"
   },
   {
    "duration": 120,
    "start_time": "2022-05-06T00:44:14.513Z"
   },
   {
    "duration": 6,
    "start_time": "2022-05-06T00:44:14.636Z"
   },
   {
    "duration": 58,
    "start_time": "2022-05-06T00:44:14.644Z"
   },
   {
    "duration": 17,
    "start_time": "2022-05-06T00:44:14.707Z"
   },
   {
    "duration": 579,
    "start_time": "2022-05-06T00:44:14.727Z"
   },
   {
    "duration": 11,
    "start_time": "2022-05-06T00:44:15.309Z"
   },
   {
    "duration": 231,
    "start_time": "2022-05-06T00:44:15.323Z"
   },
   {
    "duration": 6,
    "start_time": "2022-05-06T00:44:15.557Z"
   },
   {
    "duration": 8,
    "start_time": "2022-05-06T00:44:15.565Z"
   },
   {
    "duration": 261,
    "start_time": "2022-05-06T00:44:15.594Z"
   },
   {
    "duration": 7,
    "start_time": "2022-05-06T00:44:15.858Z"
   },
   {
    "duration": 25,
    "start_time": "2022-05-06T00:44:15.868Z"
   },
   {
    "duration": 265,
    "start_time": "2022-05-06T00:44:15.896Z"
   },
   {
    "duration": 238,
    "start_time": "2022-05-06T00:44:16.164Z"
   },
   {
    "duration": 4,
    "start_time": "2022-05-06T00:44:16.405Z"
   },
   {
    "duration": 10,
    "start_time": "2022-05-06T00:44:16.411Z"
   },
   {
    "duration": 44,
    "start_time": "2022-05-06T00:44:16.423Z"
   },
   {
    "duration": 7,
    "start_time": "2022-05-06T00:44:16.493Z"
   },
   {
    "duration": 14,
    "start_time": "2022-05-06T00:44:16.502Z"
   },
   {
    "duration": 7,
    "start_time": "2022-05-06T00:44:16.518Z"
   },
   {
    "duration": 432,
    "start_time": "2022-05-06T00:44:16.527Z"
   },
   {
    "duration": 7,
    "start_time": "2022-05-06T00:44:16.967Z"
   },
   {
    "duration": 296,
    "start_time": "2022-05-06T00:44:16.977Z"
   },
   {
    "duration": 63,
    "start_time": "2022-05-06T00:44:17.276Z"
   },
   {
    "duration": 6,
    "start_time": "2022-05-06T00:44:17.341Z"
   },
   {
    "duration": 7,
    "start_time": "2022-05-06T00:44:17.349Z"
   },
   {
    "duration": 6,
    "start_time": "2022-05-06T00:44:17.358Z"
   },
   {
    "duration": 7,
    "start_time": "2022-05-06T00:44:17.392Z"
   },
   {
    "duration": 5,
    "start_time": "2022-05-06T00:44:17.401Z"
   },
   {
    "duration": 11,
    "start_time": "2022-05-06T00:44:17.408Z"
   },
   {
    "duration": 19,
    "start_time": "2022-05-06T00:44:17.422Z"
   },
   {
    "duration": 55,
    "start_time": "2022-05-06T00:44:17.443Z"
   },
   {
    "duration": 37,
    "start_time": "2022-05-06T00:44:17.500Z"
   },
   {
    "duration": 61,
    "start_time": "2022-05-06T00:44:17.540Z"
   },
   {
    "duration": 5,
    "start_time": "2022-05-06T00:44:17.603Z"
   },
   {
    "duration": 22,
    "start_time": "2022-05-06T00:44:17.610Z"
   },
   {
    "duration": 35,
    "start_time": "2022-05-06T00:44:17.634Z"
   },
   {
    "duration": 16,
    "start_time": "2022-05-06T00:44:17.693Z"
   },
   {
    "duration": 33,
    "start_time": "2022-05-06T00:44:17.711Z"
   },
   {
    "duration": 6,
    "start_time": "2022-05-06T00:44:17.747Z"
   },
   {
    "duration": 70,
    "start_time": "2022-05-06T00:44:17.756Z"
   },
   {
    "duration": 38,
    "start_time": "2022-05-06T00:44:17.829Z"
   },
   {
    "duration": 272,
    "start_time": "2022-05-06T00:44:17.894Z"
   },
   {
    "duration": 382,
    "start_time": "2022-05-06T00:44:18.169Z"
   },
   {
    "duration": 209,
    "start_time": "2022-05-06T00:44:18.554Z"
   },
   {
    "duration": 387,
    "start_time": "2022-05-06T00:44:18.766Z"
   },
   {
    "duration": 178,
    "start_time": "2022-05-06T00:44:19.156Z"
   },
   {
    "duration": 222,
    "start_time": "2022-05-06T00:44:19.337Z"
   },
   {
    "duration": 181,
    "start_time": "2022-05-06T00:44:19.562Z"
   },
   {
    "duration": 307,
    "start_time": "2022-05-06T00:44:19.746Z"
   },
   {
    "duration": 12,
    "start_time": "2022-05-06T00:44:20.056Z"
   },
   {
    "duration": 198,
    "start_time": "2022-05-06T00:44:20.070Z"
   },
   {
    "duration": 380,
    "start_time": "2022-05-06T00:44:20.270Z"
   },
   {
    "duration": 299,
    "start_time": "2022-05-06T00:44:20.653Z"
   },
   {
    "duration": 15,
    "start_time": "2022-05-06T00:44:20.955Z"
   },
   {
    "duration": 41,
    "start_time": "2022-05-06T00:44:20.972Z"
   },
   {
    "duration": 270,
    "start_time": "2022-05-06T00:44:29.511Z"
   },
   {
    "duration": 5,
    "start_time": "2022-05-06T00:49:48.606Z"
   },
   {
    "duration": 120,
    "start_time": "2022-05-06T00:49:50.352Z"
   },
   {
    "duration": 7,
    "start_time": "2022-05-06T00:50:01.636Z"
   },
   {
    "duration": 10,
    "start_time": "2022-05-06T00:50:33.032Z"
   },
   {
    "duration": 7,
    "start_time": "2022-05-06T00:50:53.926Z"
   },
   {
    "duration": 567,
    "start_time": "2022-05-06T00:51:46.713Z"
   },
   {
    "duration": 19,
    "start_time": "2022-05-06T00:51:47.282Z"
   },
   {
    "duration": 127,
    "start_time": "2022-05-06T00:51:47.303Z"
   },
   {
    "duration": 38,
    "start_time": "2022-05-06T00:51:47.433Z"
   },
   {
    "duration": 64,
    "start_time": "2022-05-06T00:51:47.493Z"
   },
   {
    "duration": 43,
    "start_time": "2022-05-06T00:51:47.559Z"
   },
   {
    "duration": 112,
    "start_time": "2022-05-06T00:51:47.605Z"
   },
   {
    "duration": 6,
    "start_time": "2022-05-06T00:51:47.720Z"
   },
   {
    "duration": 72,
    "start_time": "2022-05-06T00:51:47.728Z"
   },
   {
    "duration": 26,
    "start_time": "2022-05-06T00:51:47.806Z"
   },
   {
    "duration": 865,
    "start_time": "2022-05-06T00:51:47.834Z"
   },
   {
    "duration": 12,
    "start_time": "2022-05-06T00:51:48.702Z"
   },
   {
    "duration": 217,
    "start_time": "2022-05-06T00:51:48.717Z"
   },
   {
    "duration": 6,
    "start_time": "2022-05-06T00:51:48.937Z"
   },
   {
    "duration": 6,
    "start_time": "2022-05-06T00:51:48.946Z"
   },
   {
    "duration": 271,
    "start_time": "2022-05-06T00:51:48.954Z"
   },
   {
    "duration": 8,
    "start_time": "2022-05-06T00:51:49.227Z"
   },
   {
    "duration": 8,
    "start_time": "2022-05-06T00:51:49.237Z"
   },
   {
    "duration": 266,
    "start_time": "2022-05-06T00:51:49.247Z"
   },
   {
    "duration": 240,
    "start_time": "2022-05-06T00:51:49.516Z"
   },
   {
    "duration": 6,
    "start_time": "2022-05-06T00:51:49.759Z"
   },
   {
    "duration": 27,
    "start_time": "2022-05-06T00:51:49.767Z"
   },
   {
    "duration": 42,
    "start_time": "2022-05-06T00:51:49.797Z"
   },
   {
    "duration": 7,
    "start_time": "2022-05-06T00:51:49.842Z"
   },
   {
    "duration": 41,
    "start_time": "2022-05-06T00:51:49.852Z"
   },
   {
    "duration": 6,
    "start_time": "2022-05-06T00:51:49.896Z"
   },
   {
    "duration": 415,
    "start_time": "2022-05-06T00:51:49.905Z"
   },
   {
    "duration": 6,
    "start_time": "2022-05-06T00:51:50.327Z"
   },
   {
    "duration": 215,
    "start_time": "2022-05-06T00:51:50.335Z"
   },
   {
    "duration": 53,
    "start_time": "2022-05-06T00:51:50.552Z"
   },
   {
    "duration": 6,
    "start_time": "2022-05-06T00:51:50.607Z"
   },
   {
    "duration": 7,
    "start_time": "2022-05-06T00:51:50.616Z"
   },
   {
    "duration": 7,
    "start_time": "2022-05-06T00:51:50.625Z"
   },
   {
    "duration": 8,
    "start_time": "2022-05-06T00:51:50.634Z"
   },
   {
    "duration": 6,
    "start_time": "2022-05-06T00:51:50.644Z"
   },
   {
    "duration": 4,
    "start_time": "2022-05-06T00:51:50.693Z"
   },
   {
    "duration": 9,
    "start_time": "2022-05-06T00:51:50.700Z"
   },
   {
    "duration": 14,
    "start_time": "2022-05-06T00:51:50.711Z"
   },
   {
    "duration": 21,
    "start_time": "2022-05-06T00:51:50.727Z"
   },
   {
    "duration": 43,
    "start_time": "2022-05-06T00:51:50.750Z"
   },
   {
    "duration": 38,
    "start_time": "2022-05-06T00:51:50.795Z"
   },
   {
    "duration": 33,
    "start_time": "2022-05-06T00:51:50.835Z"
   },
   {
    "duration": 6,
    "start_time": "2022-05-06T00:51:50.893Z"
   },
   {
    "duration": 23,
    "start_time": "2022-05-06T00:51:50.901Z"
   },
   {
    "duration": 38,
    "start_time": "2022-05-06T00:51:50.926Z"
   },
   {
    "duration": 19,
    "start_time": "2022-05-06T00:51:50.994Z"
   },
   {
    "duration": 36,
    "start_time": "2022-05-06T00:51:51.017Z"
   },
   {
    "duration": 40,
    "start_time": "2022-05-06T00:51:51.056Z"
   },
   {
    "duration": 39,
    "start_time": "2022-05-06T00:51:51.098Z"
   },
   {
    "duration": 62,
    "start_time": "2022-05-06T00:51:51.139Z"
   },
   {
    "duration": 190,
    "start_time": "2022-05-06T00:51:51.203Z"
   },
   {
    "duration": 360,
    "start_time": "2022-05-06T00:51:51.395Z"
   },
   {
    "duration": 211,
    "start_time": "2022-05-06T00:51:51.757Z"
   },
   {
    "duration": 385,
    "start_time": "2022-05-06T00:51:51.970Z"
   },
   {
    "duration": 174,
    "start_time": "2022-05-06T00:51:52.358Z"
   },
   {
    "duration": 229,
    "start_time": "2022-05-06T00:51:52.534Z"
   },
   {
    "duration": 174,
    "start_time": "2022-05-06T00:51:52.766Z"
   },
   {
    "duration": 306,
    "start_time": "2022-05-06T00:51:52.942Z"
   },
   {
    "duration": 12,
    "start_time": "2022-05-06T00:51:53.250Z"
   },
   {
    "duration": 204,
    "start_time": "2022-05-06T00:51:53.264Z"
   },
   {
    "duration": 357,
    "start_time": "2022-05-06T00:51:53.470Z"
   },
   {
    "duration": 310,
    "start_time": "2022-05-06T00:51:53.829Z"
   },
   {
    "duration": 14,
    "start_time": "2022-05-06T00:51:54.141Z"
   },
   {
    "duration": 47,
    "start_time": "2022-05-06T00:51:54.158Z"
   },
   {
    "duration": 350,
    "start_time": "2022-05-06T00:52:12.104Z"
   },
   {
    "duration": 113,
    "start_time": "2022-05-06T00:52:48.911Z"
   },
   {
    "duration": 15,
    "start_time": "2022-05-06T00:52:54.465Z"
   },
   {
    "duration": 12,
    "start_time": "2022-05-06T00:53:08.300Z"
   },
   {
    "duration": 11,
    "start_time": "2022-05-06T00:53:21.633Z"
   },
   {
    "duration": 11,
    "start_time": "2022-05-06T00:53:26.845Z"
   },
   {
    "duration": 636,
    "start_time": "2022-05-06T00:54:58.612Z"
   },
   {
    "duration": 20,
    "start_time": "2022-05-06T00:54:59.250Z"
   },
   {
    "duration": 113,
    "start_time": "2022-05-06T00:54:59.272Z"
   },
   {
    "duration": 43,
    "start_time": "2022-05-06T00:54:59.388Z"
   },
   {
    "duration": 97,
    "start_time": "2022-05-06T00:54:59.434Z"
   },
   {
    "duration": 22,
    "start_time": "2022-05-06T00:54:59.533Z"
   },
   {
    "duration": 126,
    "start_time": "2022-05-06T00:54:59.558Z"
   },
   {
    "duration": 7,
    "start_time": "2022-05-06T00:54:59.693Z"
   },
   {
    "duration": 47,
    "start_time": "2022-05-06T00:54:59.703Z"
   },
   {
    "duration": 16,
    "start_time": "2022-05-06T00:54:59.752Z"
   },
   {
    "duration": 672,
    "start_time": "2022-05-06T00:54:59.770Z"
   },
   {
    "duration": 12,
    "start_time": "2022-05-06T00:55:00.444Z"
   },
   {
    "duration": 244,
    "start_time": "2022-05-06T00:55:00.457Z"
   },
   {
    "duration": 6,
    "start_time": "2022-05-06T00:55:00.708Z"
   },
   {
    "duration": 18,
    "start_time": "2022-05-06T00:55:00.717Z"
   },
   {
    "duration": 279,
    "start_time": "2022-05-06T00:55:00.737Z"
   },
   {
    "duration": 6,
    "start_time": "2022-05-06T00:55:01.019Z"
   },
   {
    "duration": 37,
    "start_time": "2022-05-06T00:55:01.027Z"
   },
   {
    "duration": 279,
    "start_time": "2022-05-06T00:55:01.067Z"
   },
   {
    "duration": 259,
    "start_time": "2022-05-06T00:55:01.348Z"
   },
   {
    "duration": 5,
    "start_time": "2022-05-06T00:55:01.610Z"
   },
   {
    "duration": 11,
    "start_time": "2022-05-06T00:55:01.617Z"
   },
   {
    "duration": 66,
    "start_time": "2022-05-06T00:55:01.630Z"
   },
   {
    "duration": 10,
    "start_time": "2022-05-06T00:55:01.699Z"
   },
   {
    "duration": 28,
    "start_time": "2022-05-06T00:55:01.711Z"
   },
   {
    "duration": 26,
    "start_time": "2022-05-06T00:55:01.741Z"
   },
   {
    "duration": 295,
    "start_time": "2022-05-06T00:55:01.769Z"
   },
   {
    "duration": 6,
    "start_time": "2022-05-06T00:55:02.066Z"
   },
   {
    "duration": 215,
    "start_time": "2022-05-06T00:55:02.074Z"
   },
   {
    "duration": 46,
    "start_time": "2022-05-06T00:55:02.293Z"
   },
   {
    "duration": 5,
    "start_time": "2022-05-06T00:55:02.341Z"
   },
   {
    "duration": 7,
    "start_time": "2022-05-06T00:55:02.349Z"
   },
   {
    "duration": 42,
    "start_time": "2022-05-06T00:55:02.358Z"
   },
   {
    "duration": 14,
    "start_time": "2022-05-06T00:55:02.404Z"
   },
   {
    "duration": 18,
    "start_time": "2022-05-06T00:55:02.420Z"
   },
   {
    "duration": 22,
    "start_time": "2022-05-06T00:55:02.440Z"
   },
   {
    "duration": 19,
    "start_time": "2022-05-06T00:55:02.464Z"
   },
   {
    "duration": 21,
    "start_time": "2022-05-06T00:55:02.485Z"
   },
   {
    "duration": 23,
    "start_time": "2022-05-06T00:55:02.509Z"
   },
   {
    "duration": 10,
    "start_time": "2022-05-06T00:55:02.534Z"
   },
   {
    "duration": 49,
    "start_time": "2022-05-06T00:55:02.550Z"
   },
   {
    "duration": 35,
    "start_time": "2022-05-06T00:55:02.602Z"
   },
   {
    "duration": 6,
    "start_time": "2022-05-06T00:55:02.639Z"
   },
   {
    "duration": 56,
    "start_time": "2022-05-06T00:55:02.647Z"
   },
   {
    "duration": 36,
    "start_time": "2022-05-06T00:55:02.706Z"
   },
   {
    "duration": 17,
    "start_time": "2022-05-06T00:55:02.744Z"
   },
   {
    "duration": 70,
    "start_time": "2022-05-06T00:55:02.763Z"
   },
   {
    "duration": 7,
    "start_time": "2022-05-06T00:55:02.835Z"
   },
   {
    "duration": 62,
    "start_time": "2022-05-06T00:55:02.843Z"
   },
   {
    "duration": 38,
    "start_time": "2022-05-06T00:55:02.908Z"
   },
   {
    "duration": 214,
    "start_time": "2022-05-06T00:55:02.948Z"
   },
   {
    "duration": 412,
    "start_time": "2022-05-06T00:55:03.164Z"
   },
   {
    "duration": 222,
    "start_time": "2022-05-06T00:55:03.578Z"
   },
   {
    "duration": 394,
    "start_time": "2022-05-06T00:55:03.803Z"
   },
   {
    "duration": 180,
    "start_time": "2022-05-06T00:55:04.200Z"
   },
   {
    "duration": 237,
    "start_time": "2022-05-06T00:55:04.382Z"
   },
   {
    "duration": 183,
    "start_time": "2022-05-06T00:55:04.621Z"
   },
   {
    "duration": 331,
    "start_time": "2022-05-06T00:55:04.807Z"
   },
   {
    "duration": 12,
    "start_time": "2022-05-06T00:55:05.140Z"
   },
   {
    "duration": 205,
    "start_time": "2022-05-06T00:55:05.154Z"
   },
   {
    "duration": 388,
    "start_time": "2022-05-06T00:55:05.361Z"
   },
   {
    "duration": 298,
    "start_time": "2022-05-06T00:55:05.752Z"
   },
   {
    "duration": 600,
    "start_time": "2022-05-06T00:55:29.029Z"
   },
   {
    "duration": 19,
    "start_time": "2022-05-06T00:55:29.632Z"
   },
   {
    "duration": 110,
    "start_time": "2022-05-06T00:55:29.653Z"
   },
   {
    "duration": 50,
    "start_time": "2022-05-06T00:55:29.766Z"
   },
   {
    "duration": 77,
    "start_time": "2022-05-06T00:55:29.818Z"
   },
   {
    "duration": 25,
    "start_time": "2022-05-06T00:55:29.898Z"
   },
   {
    "duration": 130,
    "start_time": "2022-05-06T00:55:29.925Z"
   },
   {
    "duration": 5,
    "start_time": "2022-05-06T00:55:30.057Z"
   },
   {
    "duration": 61,
    "start_time": "2022-05-06T00:55:30.064Z"
   },
   {
    "duration": 19,
    "start_time": "2022-05-06T00:55:30.128Z"
   },
   {
    "duration": 651,
    "start_time": "2022-05-06T00:55:30.150Z"
   },
   {
    "duration": 11,
    "start_time": "2022-05-06T00:55:30.805Z"
   },
   {
    "duration": 232,
    "start_time": "2022-05-06T00:55:30.818Z"
   },
   {
    "duration": 5,
    "start_time": "2022-05-06T00:55:31.052Z"
   },
   {
    "duration": 17,
    "start_time": "2022-05-06T00:55:31.059Z"
   },
   {
    "duration": 274,
    "start_time": "2022-05-06T00:55:31.079Z"
   },
   {
    "duration": 7,
    "start_time": "2022-05-06T00:55:31.355Z"
   },
   {
    "duration": 14,
    "start_time": "2022-05-06T00:55:31.364Z"
   },
   {
    "duration": 267,
    "start_time": "2022-05-06T00:55:31.394Z"
   },
   {
    "duration": 256,
    "start_time": "2022-05-06T00:55:31.663Z"
   },
   {
    "duration": 5,
    "start_time": "2022-05-06T00:55:31.921Z"
   },
   {
    "duration": 10,
    "start_time": "2022-05-06T00:55:31.928Z"
   },
   {
    "duration": 66,
    "start_time": "2022-05-06T00:55:31.940Z"
   },
   {
    "duration": 6,
    "start_time": "2022-05-06T00:55:32.008Z"
   },
   {
    "duration": 10,
    "start_time": "2022-05-06T00:55:32.016Z"
   },
   {
    "duration": 7,
    "start_time": "2022-05-06T00:55:32.027Z"
   },
   {
    "duration": 329,
    "start_time": "2022-05-06T00:55:32.036Z"
   },
   {
    "duration": 23,
    "start_time": "2022-05-06T00:55:32.372Z"
   },
   {
    "duration": 216,
    "start_time": "2022-05-06T00:55:32.398Z"
   },
   {
    "duration": 41,
    "start_time": "2022-05-06T00:55:32.617Z"
   },
   {
    "duration": 6,
    "start_time": "2022-05-06T00:55:32.660Z"
   },
   {
    "duration": 35,
    "start_time": "2022-05-06T00:55:32.668Z"
   },
   {
    "duration": 8,
    "start_time": "2022-05-06T00:55:32.707Z"
   },
   {
    "duration": 9,
    "start_time": "2022-05-06T00:55:32.718Z"
   },
   {
    "duration": 9,
    "start_time": "2022-05-06T00:55:32.729Z"
   },
   {
    "duration": 5,
    "start_time": "2022-05-06T00:55:32.740Z"
   },
   {
    "duration": 8,
    "start_time": "2022-05-06T00:55:32.747Z"
   },
   {
    "duration": 19,
    "start_time": "2022-05-06T00:55:32.795Z"
   },
   {
    "duration": 21,
    "start_time": "2022-05-06T00:55:32.816Z"
   },
   {
    "duration": 10,
    "start_time": "2022-05-06T00:55:32.840Z"
   },
   {
    "duration": 80,
    "start_time": "2022-05-06T00:55:32.852Z"
   },
   {
    "duration": 32,
    "start_time": "2022-05-06T00:55:32.934Z"
   },
   {
    "duration": 6,
    "start_time": "2022-05-06T00:55:32.968Z"
   },
   {
    "duration": 32,
    "start_time": "2022-05-06T00:55:32.994Z"
   },
   {
    "duration": 37,
    "start_time": "2022-05-06T00:55:33.028Z"
   },
   {
    "duration": 39,
    "start_time": "2022-05-06T00:55:33.067Z"
   },
   {
    "duration": 36,
    "start_time": "2022-05-06T00:55:33.109Z"
   },
   {
    "duration": 7,
    "start_time": "2022-05-06T00:55:33.148Z"
   },
   {
    "duration": 71,
    "start_time": "2022-05-06T00:55:33.157Z"
   },
   {
    "duration": 39,
    "start_time": "2022-05-06T00:55:33.230Z"
   },
   {
    "duration": 212,
    "start_time": "2022-05-06T00:55:33.272Z"
   },
   {
    "duration": 393,
    "start_time": "2022-05-06T00:55:33.486Z"
   },
   {
    "duration": 215,
    "start_time": "2022-05-06T00:55:33.881Z"
   },
   {
    "duration": 419,
    "start_time": "2022-05-06T00:55:34.099Z"
   },
   {
    "duration": 190,
    "start_time": "2022-05-06T00:55:34.521Z"
   },
   {
    "duration": 243,
    "start_time": "2022-05-06T00:55:34.714Z"
   },
   {
    "duration": 193,
    "start_time": "2022-05-06T00:55:34.960Z"
   },
   {
    "duration": 331,
    "start_time": "2022-05-06T00:55:35.155Z"
   },
   {
    "duration": 17,
    "start_time": "2022-05-06T00:55:35.488Z"
   },
   {
    "duration": 200,
    "start_time": "2022-05-06T00:55:35.508Z"
   },
   {
    "duration": 415,
    "start_time": "2022-05-06T00:55:35.711Z"
   },
   {
    "duration": 325,
    "start_time": "2022-05-06T00:55:36.129Z"
   },
   {
    "duration": 5,
    "start_time": "2022-05-06T00:56:43.468Z"
   },
   {
    "duration": 633,
    "start_time": "2022-05-06T00:56:48.795Z"
   },
   {
    "duration": 18,
    "start_time": "2022-05-06T00:56:49.431Z"
   },
   {
    "duration": 106,
    "start_time": "2022-05-06T00:56:49.451Z"
   },
   {
    "duration": 51,
    "start_time": "2022-05-06T00:56:49.560Z"
   },
   {
    "duration": 78,
    "start_time": "2022-05-06T00:56:49.615Z"
   },
   {
    "duration": 24,
    "start_time": "2022-05-06T00:56:49.696Z"
   },
   {
    "duration": 118,
    "start_time": "2022-05-06T00:56:49.722Z"
   },
   {
    "duration": 5,
    "start_time": "2022-05-06T00:56:49.843Z"
   },
   {
    "duration": 56,
    "start_time": "2022-05-06T00:56:49.850Z"
   },
   {
    "duration": 17,
    "start_time": "2022-05-06T00:56:49.910Z"
   },
   {
    "duration": 647,
    "start_time": "2022-05-06T00:56:49.930Z"
   },
   {
    "duration": 20,
    "start_time": "2022-05-06T00:56:50.580Z"
   },
   {
    "duration": 223,
    "start_time": "2022-05-06T00:56:50.604Z"
   },
   {
    "duration": 7,
    "start_time": "2022-05-06T00:56:50.832Z"
   },
   {
    "duration": 10,
    "start_time": "2022-05-06T00:56:50.841Z"
   },
   {
    "duration": 280,
    "start_time": "2022-05-06T00:56:50.854Z"
   },
   {
    "duration": 6,
    "start_time": "2022-05-06T00:56:51.136Z"
   },
   {
    "duration": 11,
    "start_time": "2022-05-06T00:56:51.144Z"
   },
   {
    "duration": 277,
    "start_time": "2022-05-06T00:56:51.157Z"
   },
   {
    "duration": 257,
    "start_time": "2022-05-06T00:56:51.436Z"
   },
   {
    "duration": 6,
    "start_time": "2022-05-06T00:56:51.696Z"
   },
   {
    "duration": 13,
    "start_time": "2022-05-06T00:56:51.706Z"
   },
   {
    "duration": 46,
    "start_time": "2022-05-06T00:56:51.721Z"
   },
   {
    "duration": 7,
    "start_time": "2022-05-06T00:56:51.769Z"
   },
   {
    "duration": 25,
    "start_time": "2022-05-06T00:56:51.778Z"
   },
   {
    "duration": 5,
    "start_time": "2022-05-06T00:56:51.807Z"
   },
   {
    "duration": 337,
    "start_time": "2022-05-06T00:56:51.814Z"
   },
   {
    "duration": 6,
    "start_time": "2022-05-06T00:56:52.154Z"
   },
   {
    "duration": 212,
    "start_time": "2022-05-06T00:56:52.162Z"
   },
   {
    "duration": 55,
    "start_time": "2022-05-06T00:56:52.377Z"
   },
   {
    "duration": 5,
    "start_time": "2022-05-06T00:56:52.435Z"
   },
   {
    "duration": 7,
    "start_time": "2022-05-06T00:56:52.443Z"
   },
   {
    "duration": 39,
    "start_time": "2022-05-06T00:56:52.453Z"
   },
   {
    "duration": 9,
    "start_time": "2022-05-06T00:56:52.495Z"
   },
   {
    "duration": 17,
    "start_time": "2022-05-06T00:56:52.507Z"
   },
   {
    "duration": 8,
    "start_time": "2022-05-06T00:56:52.527Z"
   },
   {
    "duration": 10,
    "start_time": "2022-05-06T00:56:52.537Z"
   },
   {
    "duration": 20,
    "start_time": "2022-05-06T00:56:52.549Z"
   },
   {
    "duration": 49,
    "start_time": "2022-05-06T00:56:52.571Z"
   },
   {
    "duration": 10,
    "start_time": "2022-05-06T00:56:52.623Z"
   },
   {
    "duration": 55,
    "start_time": "2022-05-06T00:56:52.640Z"
   },
   {
    "duration": 38,
    "start_time": "2022-05-06T00:56:52.698Z"
   },
   {
    "duration": 5,
    "start_time": "2022-05-06T00:56:52.738Z"
   },
   {
    "duration": 51,
    "start_time": "2022-05-06T00:56:52.746Z"
   },
   {
    "duration": 36,
    "start_time": "2022-05-06T00:56:52.801Z"
   },
   {
    "duration": 17,
    "start_time": "2022-05-06T00:56:52.839Z"
   },
   {
    "duration": 76,
    "start_time": "2022-05-06T00:56:52.858Z"
   },
   {
    "duration": 9,
    "start_time": "2022-05-06T00:56:52.936Z"
   },
   {
    "duration": 70,
    "start_time": "2022-05-06T00:56:52.947Z"
   },
   {
    "duration": 41,
    "start_time": "2022-05-06T00:56:53.019Z"
   },
   {
    "duration": 211,
    "start_time": "2022-05-06T00:56:53.062Z"
   },
   {
    "duration": 391,
    "start_time": "2022-05-06T00:56:53.275Z"
   },
   {
    "duration": 207,
    "start_time": "2022-05-06T00:56:53.668Z"
   },
   {
    "duration": 409,
    "start_time": "2022-05-06T00:56:53.877Z"
   },
   {
    "duration": 180,
    "start_time": "2022-05-06T00:56:54.288Z"
   },
   {
    "duration": 232,
    "start_time": "2022-05-06T00:56:54.470Z"
   },
   {
    "duration": 174,
    "start_time": "2022-05-06T00:56:54.705Z"
   },
   {
    "duration": 312,
    "start_time": "2022-05-06T00:56:54.893Z"
   },
   {
    "duration": 14,
    "start_time": "2022-05-06T00:56:55.208Z"
   },
   {
    "duration": 218,
    "start_time": "2022-05-06T00:56:55.225Z"
   },
   {
    "duration": 397,
    "start_time": "2022-05-06T00:56:55.446Z"
   },
   {
    "duration": 313,
    "start_time": "2022-05-06T00:56:55.845Z"
   },
   {
    "duration": 4,
    "start_time": "2022-05-06T00:56:56.161Z"
   },
   {
    "duration": 297,
    "start_time": "2022-05-06T00:57:06.066Z"
   },
   {
    "duration": 71,
    "start_time": "2022-05-06T01:00:00.282Z"
   },
   {
    "duration": 89,
    "start_time": "2022-05-06T01:00:23.475Z"
   },
   {
    "duration": 9,
    "start_time": "2022-05-06T01:00:23.566Z"
   },
   {
    "duration": 85,
    "start_time": "2022-05-06T01:00:23.593Z"
   },
   {
    "duration": 49,
    "start_time": "2022-05-06T01:00:23.680Z"
   },
   {
    "duration": 85,
    "start_time": "2022-05-06T01:00:23.731Z"
   },
   {
    "duration": 21,
    "start_time": "2022-05-06T01:00:23.819Z"
   },
   {
    "duration": 123,
    "start_time": "2022-05-06T01:00:23.843Z"
   },
   {
    "duration": 5,
    "start_time": "2022-05-06T01:00:23.968Z"
   },
   {
    "duration": 50,
    "start_time": "2022-05-06T01:00:23.975Z"
   },
   {
    "duration": 13,
    "start_time": "2022-05-06T01:00:24.027Z"
   },
   {
    "duration": 216,
    "start_time": "2022-05-06T01:00:24.042Z"
   },
   {
    "duration": 9,
    "start_time": "2022-05-06T01:00:24.260Z"
   },
   {
    "duration": 231,
    "start_time": "2022-05-06T01:00:24.271Z"
   },
   {
    "duration": 5,
    "start_time": "2022-05-06T01:00:24.504Z"
   },
   {
    "duration": 19,
    "start_time": "2022-05-06T01:00:24.511Z"
   },
   {
    "duration": 261,
    "start_time": "2022-05-06T01:00:24.532Z"
   },
   {
    "duration": 6,
    "start_time": "2022-05-06T01:00:24.795Z"
   },
   {
    "duration": 12,
    "start_time": "2022-05-06T01:00:24.803Z"
   },
   {
    "duration": 270,
    "start_time": "2022-05-06T01:00:24.824Z"
   },
   {
    "duration": 240,
    "start_time": "2022-05-06T01:00:25.096Z"
   },
   {
    "duration": 5,
    "start_time": "2022-05-06T01:00:25.338Z"
   },
   {
    "duration": 13,
    "start_time": "2022-05-06T01:00:25.345Z"
   },
   {
    "duration": 62,
    "start_time": "2022-05-06T01:00:25.361Z"
   },
   {
    "duration": 7,
    "start_time": "2022-05-06T01:00:25.425Z"
   },
   {
    "duration": 14,
    "start_time": "2022-05-06T01:00:25.434Z"
   },
   {
    "duration": 7,
    "start_time": "2022-05-06T01:00:25.451Z"
   },
   {
    "duration": 363,
    "start_time": "2022-05-06T01:00:25.460Z"
   },
   {
    "duration": 6,
    "start_time": "2022-05-06T01:00:25.826Z"
   },
   {
    "duration": 198,
    "start_time": "2022-05-06T01:00:25.834Z"
   },
   {
    "duration": 38,
    "start_time": "2022-05-06T01:00:26.035Z"
   },
   {
    "duration": 22,
    "start_time": "2022-05-06T01:00:26.075Z"
   },
   {
    "duration": 6,
    "start_time": "2022-05-06T01:00:26.099Z"
   },
   {
    "duration": 6,
    "start_time": "2022-05-06T01:00:26.108Z"
   },
   {
    "duration": 9,
    "start_time": "2022-05-06T01:00:26.116Z"
   },
   {
    "duration": 9,
    "start_time": "2022-05-06T01:00:26.127Z"
   },
   {
    "duration": 7,
    "start_time": "2022-05-06T01:00:26.138Z"
   },
   {
    "duration": 7,
    "start_time": "2022-05-06T01:00:26.147Z"
   },
   {
    "duration": 11,
    "start_time": "2022-05-06T01:00:26.193Z"
   },
   {
    "duration": 20,
    "start_time": "2022-05-06T01:00:26.206Z"
   },
   {
    "duration": 10,
    "start_time": "2022-05-06T01:00:26.228Z"
   },
   {
    "duration": 68,
    "start_time": "2022-05-06T01:00:26.240Z"
   },
   {
    "duration": 31,
    "start_time": "2022-05-06T01:00:26.310Z"
   },
   {
    "duration": 5,
    "start_time": "2022-05-06T01:00:26.343Z"
   },
   {
    "duration": 44,
    "start_time": "2022-05-06T01:00:26.350Z"
   },
   {
    "duration": 36,
    "start_time": "2022-05-06T01:00:26.396Z"
   },
   {
    "duration": 17,
    "start_time": "2022-05-06T01:00:26.434Z"
   },
   {
    "duration": 61,
    "start_time": "2022-05-06T01:00:26.454Z"
   },
   {
    "duration": 7,
    "start_time": "2022-05-06T01:00:26.517Z"
   },
   {
    "duration": 39,
    "start_time": "2022-05-06T01:00:26.526Z"
   },
   {
    "duration": 61,
    "start_time": "2022-05-06T01:00:26.567Z"
   },
   {
    "duration": 193,
    "start_time": "2022-05-06T01:00:26.630Z"
   },
   {
    "duration": 359,
    "start_time": "2022-05-06T01:00:26.825Z"
   },
   {
    "duration": 198,
    "start_time": "2022-05-06T01:00:27.192Z"
   },
   {
    "duration": 374,
    "start_time": "2022-05-06T01:00:27.393Z"
   },
   {
    "duration": 172,
    "start_time": "2022-05-06T01:00:27.769Z"
   },
   {
    "duration": 216,
    "start_time": "2022-05-06T01:00:27.943Z"
   },
   {
    "duration": 175,
    "start_time": "2022-05-06T01:00:28.161Z"
   },
   {
    "duration": 236,
    "start_time": "2022-05-06T01:00:28.338Z"
   },
   {
    "duration": 20,
    "start_time": "2022-05-06T01:00:28.576Z"
   },
   {
    "duration": 180,
    "start_time": "2022-05-06T01:00:28.598Z"
   },
   {
    "duration": 475,
    "start_time": "2022-05-06T01:00:28.781Z"
   },
   {
    "duration": 279,
    "start_time": "2022-05-06T01:00:29.258Z"
   },
   {
    "duration": 12,
    "start_time": "2022-05-06T01:00:29.539Z"
   },
   {
    "duration": 290,
    "start_time": "2022-05-06T01:00:51.394Z"
   },
   {
    "duration": 20,
    "start_time": "2022-05-06T01:01:17.139Z"
   },
   {
    "duration": 285,
    "start_time": "2022-05-06T01:01:18.839Z"
   },
   {
    "duration": 326,
    "start_time": "2022-05-06T01:01:21.962Z"
   },
   {
    "duration": 612,
    "start_time": "2022-05-06T01:02:07.555Z"
   },
   {
    "duration": 19,
    "start_time": "2022-05-06T01:02:08.170Z"
   },
   {
    "duration": 89,
    "start_time": "2022-05-06T01:02:08.193Z"
   },
   {
    "duration": 37,
    "start_time": "2022-05-06T01:02:08.294Z"
   },
   {
    "duration": 83,
    "start_time": "2022-05-06T01:02:08.334Z"
   },
   {
    "duration": 19,
    "start_time": "2022-05-06T01:02:08.419Z"
   },
   {
    "duration": 120,
    "start_time": "2022-05-06T01:02:08.440Z"
   },
   {
    "duration": 5,
    "start_time": "2022-05-06T01:02:08.562Z"
   },
   {
    "duration": 51,
    "start_time": "2022-05-06T01:02:08.569Z"
   },
   {
    "duration": 16,
    "start_time": "2022-05-06T01:02:08.624Z"
   },
   {
    "duration": 578,
    "start_time": "2022-05-06T01:02:08.642Z"
   },
   {
    "duration": 9,
    "start_time": "2022-05-06T01:02:09.222Z"
   },
   {
    "duration": 213,
    "start_time": "2022-05-06T01:02:09.233Z"
   },
   {
    "duration": 5,
    "start_time": "2022-05-06T01:02:09.448Z"
   },
   {
    "duration": 9,
    "start_time": "2022-05-06T01:02:09.455Z"
   },
   {
    "duration": 254,
    "start_time": "2022-05-06T01:02:09.467Z"
   },
   {
    "duration": 6,
    "start_time": "2022-05-06T01:02:09.723Z"
   },
   {
    "duration": 8,
    "start_time": "2022-05-06T01:02:09.732Z"
   },
   {
    "duration": 253,
    "start_time": "2022-05-06T01:02:09.742Z"
   },
   {
    "duration": 274,
    "start_time": "2022-05-06T01:02:09.997Z"
   },
   {
    "duration": 5,
    "start_time": "2022-05-06T01:02:10.273Z"
   },
   {
    "duration": 14,
    "start_time": "2022-05-06T01:02:10.280Z"
   },
   {
    "duration": 40,
    "start_time": "2022-05-06T01:02:10.296Z"
   },
   {
    "duration": 6,
    "start_time": "2022-05-06T01:02:10.338Z"
   },
   {
    "duration": 10,
    "start_time": "2022-05-06T01:02:10.346Z"
   },
   {
    "duration": 36,
    "start_time": "2022-05-06T01:02:10.358Z"
   },
   {
    "duration": 267,
    "start_time": "2022-05-06T01:02:10.396Z"
   },
   {
    "duration": 5,
    "start_time": "2022-05-06T01:02:10.668Z"
   },
   {
    "duration": 203,
    "start_time": "2022-05-06T01:02:10.675Z"
   },
   {
    "duration": 46,
    "start_time": "2022-05-06T01:02:10.881Z"
   },
   {
    "duration": 5,
    "start_time": "2022-05-06T01:02:10.929Z"
   },
   {
    "duration": 7,
    "start_time": "2022-05-06T01:02:10.936Z"
   },
   {
    "duration": 6,
    "start_time": "2022-05-06T01:02:10.945Z"
   },
   {
    "duration": 40,
    "start_time": "2022-05-06T01:02:10.953Z"
   },
   {
    "duration": 5,
    "start_time": "2022-05-06T01:02:10.995Z"
   },
   {
    "duration": 9,
    "start_time": "2022-05-06T01:02:11.002Z"
   },
   {
    "duration": 7,
    "start_time": "2022-05-06T01:02:11.013Z"
   },
   {
    "duration": 15,
    "start_time": "2022-05-06T01:02:11.021Z"
   },
   {
    "duration": 19,
    "start_time": "2022-05-06T01:02:11.038Z"
   },
   {
    "duration": 43,
    "start_time": "2022-05-06T01:02:11.059Z"
   },
   {
    "duration": 39,
    "start_time": "2022-05-06T01:02:11.104Z"
   },
   {
    "duration": 51,
    "start_time": "2022-05-06T01:02:11.146Z"
   },
   {
    "duration": 5,
    "start_time": "2022-05-06T01:02:11.199Z"
   },
   {
    "duration": 19,
    "start_time": "2022-05-06T01:02:11.206Z"
   },
   {
    "duration": 35,
    "start_time": "2022-05-06T01:02:11.227Z"
   },
   {
    "duration": 41,
    "start_time": "2022-05-06T01:02:11.265Z"
   },
   {
    "duration": 34,
    "start_time": "2022-05-06T01:02:11.308Z"
   },
   {
    "duration": 7,
    "start_time": "2022-05-06T01:02:11.344Z"
   },
   {
    "duration": 69,
    "start_time": "2022-05-06T01:02:11.353Z"
   },
   {
    "duration": 37,
    "start_time": "2022-05-06T01:02:11.424Z"
   },
   {
    "duration": 199,
    "start_time": "2022-05-06T01:02:11.464Z"
   },
   {
    "duration": 372,
    "start_time": "2022-05-06T01:02:11.665Z"
   },
   {
    "duration": 199,
    "start_time": "2022-05-06T01:02:12.039Z"
   },
   {
    "duration": 382,
    "start_time": "2022-05-06T01:02:12.240Z"
   },
   {
    "duration": 162,
    "start_time": "2022-05-06T01:02:12.624Z"
   },
   {
    "duration": 223,
    "start_time": "2022-05-06T01:02:12.792Z"
   },
   {
    "duration": 178,
    "start_time": "2022-05-06T01:02:13.017Z"
   },
   {
    "duration": 296,
    "start_time": "2022-05-06T01:02:13.197Z"
   },
   {
    "duration": 11,
    "start_time": "2022-05-06T01:02:13.495Z"
   },
   {
    "duration": 189,
    "start_time": "2022-05-06T01:02:13.508Z"
   },
   {
    "duration": 357,
    "start_time": "2022-05-06T01:02:13.699Z"
   },
   {
    "duration": 281,
    "start_time": "2022-05-06T01:02:14.058Z"
   },
   {
    "duration": 23,
    "start_time": "2022-05-06T01:02:14.341Z"
   },
   {
    "duration": 406,
    "start_time": "2022-05-06T01:02:14.366Z"
   },
   {
    "duration": 344,
    "start_time": "2022-05-06T01:02:28.332Z"
   },
   {
    "duration": 442,
    "start_time": "2022-05-06T01:03:53.807Z"
   },
   {
    "duration": 354,
    "start_time": "2022-05-06T01:04:06.020Z"
   },
   {
    "duration": 22,
    "start_time": "2022-05-06T01:08:54.836Z"
   },
   {
    "duration": 344,
    "start_time": "2022-05-06T01:08:56.706Z"
   },
   {
    "duration": 9,
    "start_time": "2022-05-06T01:09:19.454Z"
   },
   {
    "duration": 359,
    "start_time": "2022-05-06T01:09:21.792Z"
   },
   {
    "duration": 625,
    "start_time": "2022-05-06T01:09:28.076Z"
   },
   {
    "duration": 18,
    "start_time": "2022-05-06T01:09:28.704Z"
   },
   {
    "duration": 100,
    "start_time": "2022-05-06T01:09:28.724Z"
   },
   {
    "duration": 37,
    "start_time": "2022-05-06T01:09:28.827Z"
   },
   {
    "duration": 80,
    "start_time": "2022-05-06T01:09:28.866Z"
   },
   {
    "duration": 20,
    "start_time": "2022-05-06T01:09:28.948Z"
   },
   {
    "duration": 123,
    "start_time": "2022-05-06T01:09:28.970Z"
   },
   {
    "duration": 5,
    "start_time": "2022-05-06T01:09:29.095Z"
   },
   {
    "duration": 40,
    "start_time": "2022-05-06T01:09:29.103Z"
   },
   {
    "duration": 15,
    "start_time": "2022-05-06T01:09:29.147Z"
   },
   {
    "duration": 595,
    "start_time": "2022-05-06T01:09:29.164Z"
   },
   {
    "duration": 9,
    "start_time": "2022-05-06T01:09:29.761Z"
   },
   {
    "duration": 222,
    "start_time": "2022-05-06T01:09:29.773Z"
   },
   {
    "duration": 6,
    "start_time": "2022-05-06T01:09:29.997Z"
   },
   {
    "duration": 10,
    "start_time": "2022-05-06T01:09:30.005Z"
   },
   {
    "duration": 275,
    "start_time": "2022-05-06T01:09:30.018Z"
   },
   {
    "duration": 6,
    "start_time": "2022-05-06T01:09:30.295Z"
   },
   {
    "duration": 21,
    "start_time": "2022-05-06T01:09:30.303Z"
   },
   {
    "duration": 248,
    "start_time": "2022-05-06T01:09:30.326Z"
   },
   {
    "duration": 334,
    "start_time": "2022-05-06T01:09:30.576Z"
   },
   {
    "duration": 5,
    "start_time": "2022-05-06T01:09:30.912Z"
   },
   {
    "duration": 17,
    "start_time": "2022-05-06T01:09:30.919Z"
   },
   {
    "duration": 60,
    "start_time": "2022-05-06T01:09:30.939Z"
   },
   {
    "duration": 6,
    "start_time": "2022-05-06T01:09:31.001Z"
   },
   {
    "duration": 25,
    "start_time": "2022-05-06T01:09:31.009Z"
   },
   {
    "duration": 33,
    "start_time": "2022-05-06T01:09:31.036Z"
   },
   {
    "duration": 279,
    "start_time": "2022-05-06T01:09:31.071Z"
   },
   {
    "duration": 6,
    "start_time": "2022-05-06T01:09:31.356Z"
   },
   {
    "duration": 214,
    "start_time": "2022-05-06T01:09:31.365Z"
   },
   {
    "duration": 48,
    "start_time": "2022-05-06T01:09:31.581Z"
   },
   {
    "duration": 7,
    "start_time": "2022-05-06T01:09:31.631Z"
   },
   {
    "duration": 15,
    "start_time": "2022-05-06T01:09:31.640Z"
   },
   {
    "duration": 12,
    "start_time": "2022-05-06T01:09:31.658Z"
   },
   {
    "duration": 7,
    "start_time": "2022-05-06T01:09:31.694Z"
   },
   {
    "duration": 13,
    "start_time": "2022-05-06T01:09:31.703Z"
   },
   {
    "duration": 10,
    "start_time": "2022-05-06T01:09:31.718Z"
   },
   {
    "duration": 19,
    "start_time": "2022-05-06T01:09:31.730Z"
   },
   {
    "duration": 26,
    "start_time": "2022-05-06T01:09:31.752Z"
   },
   {
    "duration": 30,
    "start_time": "2022-05-06T01:09:31.781Z"
   },
   {
    "duration": 11,
    "start_time": "2022-05-06T01:09:31.813Z"
   },
   {
    "duration": 47,
    "start_time": "2022-05-06T01:09:31.826Z"
   },
   {
    "duration": 34,
    "start_time": "2022-05-06T01:09:31.893Z"
   },
   {
    "duration": 5,
    "start_time": "2022-05-06T01:09:31.929Z"
   },
   {
    "duration": 22,
    "start_time": "2022-05-06T01:09:31.936Z"
   },
   {
    "duration": 66,
    "start_time": "2022-05-06T01:09:31.960Z"
   },
   {
    "duration": 17,
    "start_time": "2022-05-06T01:09:32.029Z"
   },
   {
    "duration": 56,
    "start_time": "2022-05-06T01:09:32.048Z"
   },
   {
    "duration": 7,
    "start_time": "2022-05-06T01:09:32.106Z"
   },
   {
    "duration": 41,
    "start_time": "2022-05-06T01:09:32.115Z"
   },
   {
    "duration": 64,
    "start_time": "2022-05-06T01:09:32.158Z"
   },
   {
    "duration": 205,
    "start_time": "2022-05-06T01:09:32.224Z"
   },
   {
    "duration": 404,
    "start_time": "2022-05-06T01:09:32.431Z"
   },
   {
    "duration": 215,
    "start_time": "2022-05-06T01:09:32.837Z"
   },
   {
    "duration": 393,
    "start_time": "2022-05-06T01:09:33.054Z"
   },
   {
    "duration": 179,
    "start_time": "2022-05-06T01:09:33.449Z"
   },
   {
    "duration": 215,
    "start_time": "2022-05-06T01:09:33.631Z"
   },
   {
    "duration": 182,
    "start_time": "2022-05-06T01:09:33.849Z"
   },
   {
    "duration": 314,
    "start_time": "2022-05-06T01:09:34.034Z"
   },
   {
    "duration": 13,
    "start_time": "2022-05-06T01:09:34.351Z"
   },
   {
    "duration": 205,
    "start_time": "2022-05-06T01:09:34.367Z"
   },
   {
    "duration": 388,
    "start_time": "2022-05-06T01:09:34.575Z"
   },
   {
    "duration": 301,
    "start_time": "2022-05-06T01:09:34.966Z"
   },
   {
    "duration": 43,
    "start_time": "2022-05-06T01:09:35.270Z"
   },
   {
    "duration": 383,
    "start_time": "2022-05-06T01:09:35.315Z"
   },
   {
    "duration": 88,
    "start_time": "2022-05-06T01:11:54.439Z"
   },
   {
    "duration": 109,
    "start_time": "2022-05-06T01:14:09.555Z"
   },
   {
    "duration": 14,
    "start_time": "2022-05-06T01:14:17.606Z"
   },
   {
    "duration": 15,
    "start_time": "2022-05-06T01:14:50.455Z"
   },
   {
    "duration": 14,
    "start_time": "2022-05-06T01:15:04.927Z"
   },
   {
    "duration": 16,
    "start_time": "2022-05-06T01:15:46.889Z"
   },
   {
    "duration": 24,
    "start_time": "2022-05-06T01:16:19.388Z"
   },
   {
    "duration": 87,
    "start_time": "2022-05-06T01:16:23.807Z"
   },
   {
    "duration": 31,
    "start_time": "2022-05-06T01:18:51.612Z"
   },
   {
    "duration": 29,
    "start_time": "2022-05-06T01:23:23.914Z"
   },
   {
    "duration": 29,
    "start_time": "2022-05-06T01:24:55.804Z"
   },
   {
    "duration": 28,
    "start_time": "2022-05-06T01:25:08.956Z"
   },
   {
    "duration": 14,
    "start_time": "2022-05-06T01:27:22.531Z"
   },
   {
    "duration": 28,
    "start_time": "2022-05-06T01:27:37.521Z"
   },
   {
    "duration": 583,
    "start_time": "2022-05-06T01:27:44.298Z"
   },
   {
    "duration": 18,
    "start_time": "2022-05-06T01:27:44.884Z"
   },
   {
    "duration": 97,
    "start_time": "2022-05-06T01:27:44.905Z"
   },
   {
    "duration": 39,
    "start_time": "2022-05-06T01:27:45.004Z"
   },
   {
    "duration": 84,
    "start_time": "2022-05-06T01:27:45.045Z"
   },
   {
    "duration": 19,
    "start_time": "2022-05-06T01:27:45.131Z"
   },
   {
    "duration": 114,
    "start_time": "2022-05-06T01:27:45.152Z"
   },
   {
    "duration": 5,
    "start_time": "2022-05-06T01:27:45.268Z"
   },
   {
    "duration": 45,
    "start_time": "2022-05-06T01:27:45.274Z"
   },
   {
    "duration": 17,
    "start_time": "2022-05-06T01:27:45.323Z"
   },
   {
    "duration": 564,
    "start_time": "2022-05-06T01:27:45.342Z"
   },
   {
    "duration": 9,
    "start_time": "2022-05-06T01:27:45.909Z"
   },
   {
    "duration": 213,
    "start_time": "2022-05-06T01:27:45.921Z"
   },
   {
    "duration": 5,
    "start_time": "2022-05-06T01:27:46.136Z"
   },
   {
    "duration": 10,
    "start_time": "2022-05-06T01:27:46.143Z"
   },
   {
    "duration": 243,
    "start_time": "2022-05-06T01:27:46.155Z"
   },
   {
    "duration": 6,
    "start_time": "2022-05-06T01:27:46.400Z"
   },
   {
    "duration": 6,
    "start_time": "2022-05-06T01:27:46.408Z"
   },
   {
    "duration": 247,
    "start_time": "2022-05-06T01:27:46.416Z"
   },
   {
    "duration": 230,
    "start_time": "2022-05-06T01:27:46.665Z"
   },
   {
    "duration": 4,
    "start_time": "2022-05-06T01:27:46.897Z"
   },
   {
    "duration": 10,
    "start_time": "2022-05-06T01:27:46.903Z"
   },
   {
    "duration": 44,
    "start_time": "2022-05-06T01:27:46.915Z"
   },
   {
    "duration": 6,
    "start_time": "2022-05-06T01:27:46.961Z"
   },
   {
    "duration": 8,
    "start_time": "2022-05-06T01:27:46.994Z"
   },
   {
    "duration": 8,
    "start_time": "2022-05-06T01:27:47.005Z"
   },
   {
    "duration": 291,
    "start_time": "2022-05-06T01:27:47.015Z"
   },
   {
    "duration": 6,
    "start_time": "2022-05-06T01:27:47.312Z"
   },
   {
    "duration": 194,
    "start_time": "2022-05-06T01:27:47.320Z"
   },
   {
    "duration": 38,
    "start_time": "2022-05-06T01:27:47.517Z"
   },
   {
    "duration": 6,
    "start_time": "2022-05-06T01:27:47.557Z"
   },
   {
    "duration": 31,
    "start_time": "2022-05-06T01:27:47.565Z"
   },
   {
    "duration": 7,
    "start_time": "2022-05-06T01:27:47.598Z"
   },
   {
    "duration": 8,
    "start_time": "2022-05-06T01:27:47.607Z"
   },
   {
    "duration": 6,
    "start_time": "2022-05-06T01:27:47.618Z"
   },
   {
    "duration": 7,
    "start_time": "2022-05-06T01:27:47.626Z"
   },
   {
    "duration": 8,
    "start_time": "2022-05-06T01:27:47.636Z"
   },
   {
    "duration": 55,
    "start_time": "2022-05-06T01:27:47.646Z"
   },
   {
    "duration": 21,
    "start_time": "2022-05-06T01:27:47.703Z"
   },
   {
    "duration": 10,
    "start_time": "2022-05-06T01:27:47.726Z"
   },
   {
    "duration": 71,
    "start_time": "2022-05-06T01:27:47.738Z"
   },
   {
    "duration": 32,
    "start_time": "2022-05-06T01:27:47.811Z"
   },
   {
    "duration": 5,
    "start_time": "2022-05-06T01:27:47.845Z"
   },
   {
    "duration": 44,
    "start_time": "2022-05-06T01:27:47.851Z"
   },
   {
    "duration": 35,
    "start_time": "2022-05-06T01:27:47.897Z"
   },
   {
    "duration": 11,
    "start_time": "2022-05-06T01:27:47.934Z"
   },
   {
    "duration": 64,
    "start_time": "2022-05-06T01:27:47.947Z"
   },
   {
    "duration": 6,
    "start_time": "2022-05-06T01:27:48.014Z"
   },
   {
    "duration": 38,
    "start_time": "2022-05-06T01:27:48.022Z"
   },
   {
    "duration": 63,
    "start_time": "2022-05-06T01:27:48.062Z"
   },
   {
    "duration": 200,
    "start_time": "2022-05-06T01:27:48.127Z"
   },
   {
    "duration": 371,
    "start_time": "2022-05-06T01:27:48.329Z"
   },
   {
    "duration": 297,
    "start_time": "2022-05-06T01:27:48.702Z"
   },
   {
    "duration": 382,
    "start_time": "2022-05-06T01:27:49.001Z"
   },
   {
    "duration": 165,
    "start_time": "2022-05-06T01:27:49.386Z"
   },
   {
    "duration": 226,
    "start_time": "2022-05-06T01:27:49.553Z"
   },
   {
    "duration": 169,
    "start_time": "2022-05-06T01:27:49.781Z"
   },
   {
    "duration": 308,
    "start_time": "2022-05-06T01:27:49.953Z"
   },
   {
    "duration": 12,
    "start_time": "2022-05-06T01:27:50.263Z"
   },
   {
    "duration": 204,
    "start_time": "2022-05-06T01:27:50.293Z"
   },
   {
    "duration": 364,
    "start_time": "2022-05-06T01:27:50.499Z"
   },
   {
    "duration": 278,
    "start_time": "2022-05-06T01:27:50.865Z"
   },
   {
    "duration": 28,
    "start_time": "2022-05-06T01:27:51.145Z"
   },
   {
    "duration": 384,
    "start_time": "2022-05-06T01:27:51.175Z"
   },
   {
    "duration": 39,
    "start_time": "2022-05-06T01:27:51.561Z"
   },
   {
    "duration": 3223,
    "start_time": "2022-05-06T01:27:51.602Z"
   },
   {
    "duration": 31,
    "start_time": "2022-05-06T01:28:19.087Z"
   },
   {
    "duration": 10,
    "start_time": "2022-05-06T01:29:42.990Z"
   },
   {
    "duration": 10,
    "start_time": "2022-05-06T01:29:52.224Z"
   },
   {
    "duration": 10,
    "start_time": "2022-05-06T01:30:03.945Z"
   },
   {
    "duration": 10,
    "start_time": "2022-05-06T01:30:04.725Z"
   },
   {
    "duration": 10,
    "start_time": "2022-05-06T01:30:06.564Z"
   },
   {
    "duration": 4,
    "start_time": "2022-05-06T01:31:12.029Z"
   },
   {
    "duration": 15,
    "start_time": "2022-05-06T01:32:17.399Z"
   },
   {
    "duration": 11,
    "start_time": "2022-05-06T01:32:26.556Z"
   },
   {
    "duration": 11,
    "start_time": "2022-05-06T01:32:35.201Z"
   },
   {
    "duration": 8,
    "start_time": "2022-05-06T01:32:40.333Z"
   },
   {
    "duration": 13,
    "start_time": "2022-05-06T01:32:54.164Z"
   },
   {
    "duration": 15,
    "start_time": "2022-05-06T01:33:02.876Z"
   },
   {
    "duration": 30,
    "start_time": "2022-05-06T01:33:15.077Z"
   },
   {
    "duration": 22,
    "start_time": "2022-05-06T01:33:23.029Z"
   },
   {
    "duration": 23,
    "start_time": "2022-05-06T01:33:27.837Z"
   },
   {
    "duration": 35,
    "start_time": "2022-05-06T01:35:22.872Z"
   },
   {
    "duration": 50,
    "start_time": "2022-05-06T01:35:38.476Z"
   },
   {
    "duration": 24,
    "start_time": "2022-05-06T01:36:50.013Z"
   },
   {
    "duration": 42,
    "start_time": "2022-05-10T21:33:55.000Z"
   },
   {
    "duration": 528,
    "start_time": "2022-05-10T21:34:00.847Z"
   },
   {
    "duration": 23,
    "start_time": "2022-05-10T21:34:01.378Z"
   },
   {
    "duration": 71,
    "start_time": "2022-05-10T21:34:01.402Z"
   },
   {
    "duration": 31,
    "start_time": "2022-05-10T21:34:01.474Z"
   },
   {
    "duration": 42,
    "start_time": "2022-05-10T21:34:01.507Z"
   },
   {
    "duration": 12,
    "start_time": "2022-05-10T21:34:01.551Z"
   },
   {
    "duration": 86,
    "start_time": "2022-05-10T21:34:01.565Z"
   },
   {
    "duration": 3,
    "start_time": "2022-05-10T21:34:01.653Z"
   },
   {
    "duration": 30,
    "start_time": "2022-05-10T21:34:01.658Z"
   },
   {
    "duration": 14,
    "start_time": "2022-05-10T21:34:01.690Z"
   },
   {
    "duration": 551,
    "start_time": "2022-05-10T21:34:01.705Z"
   },
   {
    "duration": 6,
    "start_time": "2022-05-10T21:34:02.258Z"
   },
   {
    "duration": 123,
    "start_time": "2022-05-10T21:34:02.265Z"
   },
   {
    "duration": 3,
    "start_time": "2022-05-10T21:34:02.400Z"
   },
   {
    "duration": 6,
    "start_time": "2022-05-10T21:34:02.405Z"
   },
   {
    "duration": 153,
    "start_time": "2022-05-10T21:34:02.412Z"
   },
   {
    "duration": 5,
    "start_time": "2022-05-10T21:34:02.567Z"
   },
   {
    "duration": 7,
    "start_time": "2022-05-10T21:34:02.573Z"
   },
   {
    "duration": 150,
    "start_time": "2022-05-10T21:34:02.582Z"
   },
   {
    "duration": 176,
    "start_time": "2022-05-10T21:34:02.734Z"
   },
   {
    "duration": 3,
    "start_time": "2022-05-10T21:34:02.912Z"
   },
   {
    "duration": 5,
    "start_time": "2022-05-10T21:34:02.917Z"
   },
   {
    "duration": 26,
    "start_time": "2022-05-10T21:34:02.923Z"
   },
   {
    "duration": 4,
    "start_time": "2022-05-10T21:34:02.950Z"
   },
   {
    "duration": 7,
    "start_time": "2022-05-10T21:34:02.955Z"
   },
   {
    "duration": 5,
    "start_time": "2022-05-10T21:34:02.963Z"
   },
   {
    "duration": 147,
    "start_time": "2022-05-10T21:34:02.970Z"
   },
   {
    "duration": 4,
    "start_time": "2022-05-10T21:34:03.118Z"
   },
   {
    "duration": 121,
    "start_time": "2022-05-10T21:34:03.124Z"
   },
   {
    "duration": 25,
    "start_time": "2022-05-10T21:34:03.247Z"
   },
   {
    "duration": 4,
    "start_time": "2022-05-10T21:34:03.274Z"
   },
   {
    "duration": 4,
    "start_time": "2022-05-10T21:34:03.300Z"
   },
   {
    "duration": 7,
    "start_time": "2022-05-10T21:34:03.305Z"
   },
   {
    "duration": 6,
    "start_time": "2022-05-10T21:34:03.313Z"
   },
   {
    "duration": 6,
    "start_time": "2022-05-10T21:34:03.321Z"
   },
   {
    "duration": 5,
    "start_time": "2022-05-10T21:34:03.328Z"
   },
   {
    "duration": 6,
    "start_time": "2022-05-10T21:34:03.335Z"
   },
   {
    "duration": 16,
    "start_time": "2022-05-10T21:34:03.342Z"
   },
   {
    "duration": 14,
    "start_time": "2022-05-10T21:34:03.360Z"
   },
   {
    "duration": 28,
    "start_time": "2022-05-10T21:34:03.376Z"
   },
   {
    "duration": 25,
    "start_time": "2022-05-10T21:34:03.409Z"
   },
   {
    "duration": 22,
    "start_time": "2022-05-10T21:34:03.436Z"
   },
   {
    "duration": 4,
    "start_time": "2022-05-10T21:34:03.460Z"
   },
   {
    "duration": 41,
    "start_time": "2022-05-10T21:34:03.465Z"
   },
   {
    "duration": 23,
    "start_time": "2022-05-10T21:34:03.508Z"
   },
   {
    "duration": 8,
    "start_time": "2022-05-10T21:34:03.533Z"
   },
   {
    "duration": 30,
    "start_time": "2022-05-10T21:34:03.543Z"
   },
   {
    "duration": 25,
    "start_time": "2022-05-10T21:34:03.575Z"
   },
   {
    "duration": 21,
    "start_time": "2022-05-10T21:34:03.602Z"
   },
   {
    "duration": 26,
    "start_time": "2022-05-10T21:34:03.625Z"
   },
   {
    "duration": 123,
    "start_time": "2022-05-10T21:34:03.652Z"
   },
   {
    "duration": 212,
    "start_time": "2022-05-10T21:34:03.776Z"
   },
   {
    "duration": 120,
    "start_time": "2022-05-10T21:34:03.990Z"
   },
   {
    "duration": 216,
    "start_time": "2022-05-10T21:34:04.112Z"
   },
   {
    "duration": 106,
    "start_time": "2022-05-10T21:34:04.329Z"
   },
   {
    "duration": 123,
    "start_time": "2022-05-10T21:34:04.437Z"
   },
   {
    "duration": 160,
    "start_time": "2022-05-10T21:34:04.562Z"
   },
   {
    "duration": 129,
    "start_time": "2022-05-10T21:34:04.724Z"
   },
   {
    "duration": 8,
    "start_time": "2022-05-10T21:34:04.855Z"
   },
   {
    "duration": 112,
    "start_time": "2022-05-10T21:34:04.865Z"
   },
   {
    "duration": 205,
    "start_time": "2022-05-10T21:34:04.979Z"
   },
   {
    "duration": 153,
    "start_time": "2022-05-10T21:34:05.186Z"
   },
   {
    "duration": 16,
    "start_time": "2022-05-10T21:34:05.341Z"
   },
   {
    "duration": 210,
    "start_time": "2022-05-10T21:34:05.358Z"
   },
   {
    "duration": 20,
    "start_time": "2022-05-10T21:34:05.569Z"
   },
   {
    "duration": 14,
    "start_time": "2022-05-10T21:34:05.590Z"
   },
   {
    "duration": 5,
    "start_time": "2022-05-10T21:34:05.605Z"
   },
   {
    "duration": 7,
    "start_time": "2022-05-10T21:34:05.611Z"
   },
   {
    "duration": 17,
    "start_time": "2022-05-10T21:34:05.619Z"
   },
   {
    "duration": 20,
    "start_time": "2022-05-10T21:37:24.311Z"
   },
   {
    "duration": 23,
    "start_time": "2022-05-10T21:38:08.941Z"
   },
   {
    "duration": 22,
    "start_time": "2022-05-10T21:39:20.683Z"
   },
   {
    "duration": 21,
    "start_time": "2022-05-10T21:39:52.270Z"
   },
   {
    "duration": 6,
    "start_time": "2022-05-10T21:40:34.841Z"
   },
   {
    "duration": 32,
    "start_time": "2022-05-10T21:44:08.138Z"
   },
   {
    "duration": 143,
    "start_time": "2022-05-10T21:44:15.605Z"
   },
   {
    "duration": 618,
    "start_time": "2022-05-10T21:45:01.946Z"
   },
   {
    "duration": 460,
    "start_time": "2022-05-10T21:46:24.982Z"
   },
   {
    "duration": 447,
    "start_time": "2022-05-10T21:46:42.459Z"
   },
   {
    "duration": 3478,
    "start_time": "2022-05-10T21:47:09.577Z"
   },
   {
    "duration": 598,
    "start_time": "2022-05-10T21:47:18.263Z"
   },
   {
    "duration": 581,
    "start_time": "2022-05-10T21:48:10.588Z"
   },
   {
    "duration": 693,
    "start_time": "2022-05-10T21:51:24.954Z"
   },
   {
    "duration": 594,
    "start_time": "2022-05-10T21:51:32.146Z"
   },
   {
    "duration": 147,
    "start_time": "2022-05-10T21:53:55.430Z"
   },
   {
    "duration": 201,
    "start_time": "2022-05-10T21:58:41.278Z"
   },
   {
    "duration": 7,
    "start_time": "2022-05-10T22:00:12.302Z"
   },
   {
    "duration": 391,
    "start_time": "2022-05-10T22:00:29.304Z"
   },
   {
    "duration": 6,
    "start_time": "2022-05-10T22:00:29.697Z"
   },
   {
    "duration": 65,
    "start_time": "2022-05-10T22:00:29.705Z"
   },
   {
    "duration": 21,
    "start_time": "2022-05-10T22:00:29.772Z"
   },
   {
    "duration": 45,
    "start_time": "2022-05-10T22:00:29.795Z"
   },
   {
    "duration": 13,
    "start_time": "2022-05-10T22:00:29.841Z"
   },
   {
    "duration": 80,
    "start_time": "2022-05-10T22:00:29.856Z"
   },
   {
    "duration": 3,
    "start_time": "2022-05-10T22:00:29.937Z"
   },
   {
    "duration": 26,
    "start_time": "2022-05-10T22:00:29.941Z"
   },
   {
    "duration": 12,
    "start_time": "2022-05-10T22:00:29.970Z"
   },
   {
    "duration": 134,
    "start_time": "2022-05-10T22:00:29.984Z"
   },
   {
    "duration": 6,
    "start_time": "2022-05-10T22:00:30.120Z"
   },
   {
    "duration": 127,
    "start_time": "2022-05-10T22:00:30.127Z"
   },
   {
    "duration": 4,
    "start_time": "2022-05-10T22:00:30.255Z"
   },
   {
    "duration": 16,
    "start_time": "2022-05-10T22:00:30.261Z"
   },
   {
    "duration": 151,
    "start_time": "2022-05-10T22:00:30.278Z"
   },
   {
    "duration": 4,
    "start_time": "2022-05-10T22:00:30.431Z"
   },
   {
    "duration": 26,
    "start_time": "2022-05-10T22:00:30.437Z"
   },
   {
    "duration": 150,
    "start_time": "2022-05-10T22:00:30.464Z"
   },
   {
    "duration": 146,
    "start_time": "2022-05-10T22:00:30.616Z"
   },
   {
    "duration": 4,
    "start_time": "2022-05-10T22:00:30.764Z"
   },
   {
    "duration": 26,
    "start_time": "2022-05-10T22:00:30.770Z"
   },
   {
    "duration": 33,
    "start_time": "2022-05-10T22:00:30.797Z"
   },
   {
    "duration": 5,
    "start_time": "2022-05-10T22:00:30.831Z"
   },
   {
    "duration": 30,
    "start_time": "2022-05-10T22:00:30.837Z"
   },
   {
    "duration": 24,
    "start_time": "2022-05-10T22:00:30.868Z"
   },
   {
    "duration": 205,
    "start_time": "2022-05-10T22:00:30.895Z"
   },
   {
    "duration": 5,
    "start_time": "2022-05-10T22:00:31.106Z"
   },
   {
    "duration": 122,
    "start_time": "2022-05-10T22:00:31.112Z"
   },
   {
    "duration": 23,
    "start_time": "2022-05-10T22:00:31.236Z"
   },
   {
    "duration": 4,
    "start_time": "2022-05-10T22:00:31.261Z"
   },
   {
    "duration": 16,
    "start_time": "2022-05-10T22:00:31.267Z"
   },
   {
    "duration": 20,
    "start_time": "2022-05-10T22:00:31.284Z"
   },
   {
    "duration": 9,
    "start_time": "2022-05-10T22:00:31.305Z"
   },
   {
    "duration": 49,
    "start_time": "2022-05-10T22:00:31.316Z"
   },
   {
    "duration": 19,
    "start_time": "2022-05-10T22:00:31.366Z"
   },
   {
    "duration": 8,
    "start_time": "2022-05-10T22:00:31.387Z"
   },
   {
    "duration": 11,
    "start_time": "2022-05-10T22:00:31.397Z"
   },
   {
    "duration": 40,
    "start_time": "2022-05-10T22:00:31.409Z"
   },
   {
    "duration": 10,
    "start_time": "2022-05-10T22:00:31.450Z"
   },
   {
    "duration": 40,
    "start_time": "2022-05-10T22:00:31.461Z"
   },
   {
    "duration": 121,
    "start_time": "2022-05-10T22:00:31.503Z"
   },
   {
    "duration": 4,
    "start_time": "2022-05-10T22:00:31.626Z"
   },
   {
    "duration": 19,
    "start_time": "2022-05-10T22:00:31.631Z"
   },
   {
    "duration": 30,
    "start_time": "2022-05-10T22:00:31.652Z"
   },
   {
    "duration": 8,
    "start_time": "2022-05-10T22:00:31.700Z"
   },
   {
    "duration": 41,
    "start_time": "2022-05-10T22:00:31.710Z"
   },
   {
    "duration": 6,
    "start_time": "2022-05-10T22:00:31.752Z"
   },
   {
    "duration": 36,
    "start_time": "2022-05-10T22:00:31.760Z"
   },
   {
    "duration": 29,
    "start_time": "2022-05-10T22:00:31.797Z"
   },
   {
    "duration": 111,
    "start_time": "2022-05-10T22:00:31.827Z"
   },
   {
    "duration": 212,
    "start_time": "2022-05-10T22:00:31.940Z"
   },
   {
    "duration": 127,
    "start_time": "2022-05-10T22:00:32.153Z"
   },
   {
    "duration": 220,
    "start_time": "2022-05-10T22:00:32.282Z"
   },
   {
    "duration": 103,
    "start_time": "2022-05-10T22:00:32.504Z"
   },
   {
    "duration": 125,
    "start_time": "2022-05-10T22:00:32.608Z"
   },
   {
    "duration": 100,
    "start_time": "2022-05-10T22:00:32.735Z"
   },
   {
    "duration": 154,
    "start_time": "2022-05-10T22:00:32.837Z"
   },
   {
    "duration": 15,
    "start_time": "2022-05-10T22:00:32.992Z"
   },
   {
    "duration": 153,
    "start_time": "2022-05-10T22:00:33.009Z"
   },
   {
    "duration": 336,
    "start_time": "2022-05-10T22:00:33.164Z"
   },
   {
    "duration": 262,
    "start_time": "2022-05-10T22:00:33.502Z"
   },
   {
    "duration": 21,
    "start_time": "2022-05-10T22:00:33.766Z"
   },
   {
    "duration": 405,
    "start_time": "2022-05-10T22:00:33.789Z"
   },
   {
    "duration": 22,
    "start_time": "2022-05-10T22:00:34.196Z"
   },
   {
    "duration": 7,
    "start_time": "2022-05-10T22:00:34.219Z"
   },
   {
    "duration": 171,
    "start_time": "2022-05-10T22:00:34.227Z"
   },
   {
    "duration": 6,
    "start_time": "2022-05-10T22:00:34.400Z"
   },
   {
    "duration": 13,
    "start_time": "2022-05-10T22:00:34.408Z"
   },
   {
    "duration": 11,
    "start_time": "2022-05-10T22:00:34.423Z"
   },
   {
    "duration": 20,
    "start_time": "2022-05-10T22:00:34.436Z"
   },
   {
    "duration": 491,
    "start_time": "2022-05-10T22:00:54.579Z"
   },
   {
    "duration": 12,
    "start_time": "2022-05-10T22:00:55.072Z"
   },
   {
    "duration": 69,
    "start_time": "2022-05-10T22:00:55.085Z"
   },
   {
    "duration": 22,
    "start_time": "2022-05-10T22:00:55.156Z"
   },
   {
    "duration": 52,
    "start_time": "2022-05-10T22:00:55.179Z"
   },
   {
    "duration": 13,
    "start_time": "2022-05-10T22:00:55.233Z"
   },
   {
    "duration": 72,
    "start_time": "2022-05-10T22:00:55.247Z"
   },
   {
    "duration": 3,
    "start_time": "2022-05-10T22:00:55.321Z"
   },
   {
    "duration": 24,
    "start_time": "2022-05-10T22:00:55.325Z"
   },
   {
    "duration": 10,
    "start_time": "2022-05-10T22:00:55.351Z"
   },
   {
    "duration": 396,
    "start_time": "2022-05-10T22:00:55.362Z"
   },
   {
    "duration": 5,
    "start_time": "2022-05-10T22:00:55.760Z"
   },
   {
    "duration": 111,
    "start_time": "2022-05-10T22:00:55.767Z"
   },
   {
    "duration": 4,
    "start_time": "2022-05-10T22:00:55.879Z"
   },
   {
    "duration": 16,
    "start_time": "2022-05-10T22:00:55.884Z"
   },
   {
    "duration": 139,
    "start_time": "2022-05-10T22:00:55.901Z"
   },
   {
    "duration": 4,
    "start_time": "2022-05-10T22:00:56.041Z"
   },
   {
    "duration": 8,
    "start_time": "2022-05-10T22:00:56.047Z"
   },
   {
    "duration": 137,
    "start_time": "2022-05-10T22:00:56.056Z"
   },
   {
    "duration": 124,
    "start_time": "2022-05-10T22:00:56.199Z"
   },
   {
    "duration": 4,
    "start_time": "2022-05-10T22:00:56.324Z"
   },
   {
    "duration": 11,
    "start_time": "2022-05-10T22:00:56.329Z"
   },
   {
    "duration": 26,
    "start_time": "2022-05-10T22:00:56.342Z"
   },
   {
    "duration": 4,
    "start_time": "2022-05-10T22:00:56.369Z"
   },
   {
    "duration": 8,
    "start_time": "2022-05-10T22:00:56.374Z"
   },
   {
    "duration": 3,
    "start_time": "2022-05-10T22:00:56.400Z"
   },
   {
    "duration": 171,
    "start_time": "2022-05-10T22:00:56.404Z"
   },
   {
    "duration": 4,
    "start_time": "2022-05-10T22:00:56.578Z"
   },
   {
    "duration": 108,
    "start_time": "2022-05-10T22:00:56.583Z"
   },
   {
    "duration": 23,
    "start_time": "2022-05-10T22:00:56.699Z"
   },
   {
    "duration": 4,
    "start_time": "2022-05-10T22:00:56.723Z"
   },
   {
    "duration": 12,
    "start_time": "2022-05-10T22:00:56.728Z"
   },
   {
    "duration": 5,
    "start_time": "2022-05-10T22:00:56.741Z"
   },
   {
    "duration": 6,
    "start_time": "2022-05-10T22:00:56.748Z"
   },
   {
    "duration": 4,
    "start_time": "2022-05-10T22:00:56.755Z"
   },
   {
    "duration": 4,
    "start_time": "2022-05-10T22:00:56.761Z"
   },
   {
    "duration": 7,
    "start_time": "2022-05-10T22:00:56.767Z"
   },
   {
    "duration": 26,
    "start_time": "2022-05-10T22:00:56.776Z"
   },
   {
    "duration": 12,
    "start_time": "2022-05-10T22:00:56.804Z"
   },
   {
    "duration": 6,
    "start_time": "2022-05-10T22:00:56.818Z"
   },
   {
    "duration": 27,
    "start_time": "2022-05-10T22:00:56.826Z"
   },
   {
    "duration": 21,
    "start_time": "2022-05-10T22:00:56.855Z"
   },
   {
    "duration": 25,
    "start_time": "2022-05-10T22:00:56.877Z"
   },
   {
    "duration": 17,
    "start_time": "2022-05-10T22:00:56.903Z"
   },
   {
    "duration": 21,
    "start_time": "2022-05-10T22:00:56.921Z"
   },
   {
    "duration": 7,
    "start_time": "2022-05-10T22:00:56.943Z"
   },
   {
    "duration": 20,
    "start_time": "2022-05-10T22:00:56.952Z"
   },
   {
    "duration": 4,
    "start_time": "2022-05-10T22:00:56.973Z"
   },
   {
    "duration": 42,
    "start_time": "2022-05-10T22:00:56.978Z"
   },
   {
    "duration": 25,
    "start_time": "2022-05-10T22:00:57.022Z"
   },
   {
    "duration": 120,
    "start_time": "2022-05-10T22:00:57.048Z"
   },
   {
    "duration": 201,
    "start_time": "2022-05-10T22:00:57.170Z"
   },
   {
    "duration": 110,
    "start_time": "2022-05-10T22:00:57.372Z"
   },
   {
    "duration": 204,
    "start_time": "2022-05-10T22:00:57.483Z"
   },
   {
    "duration": 147,
    "start_time": "2022-05-10T22:00:57.689Z"
   },
   {
    "duration": 120,
    "start_time": "2022-05-10T22:00:57.838Z"
   },
   {
    "duration": 95,
    "start_time": "2022-05-10T22:00:57.960Z"
   },
   {
    "duration": 196,
    "start_time": "2022-05-10T22:00:58.057Z"
   },
   {
    "duration": 9,
    "start_time": "2022-05-10T22:00:58.255Z"
   },
   {
    "duration": 118,
    "start_time": "2022-05-10T22:00:58.266Z"
   },
   {
    "duration": 214,
    "start_time": "2022-05-10T22:00:58.386Z"
   },
   {
    "duration": 157,
    "start_time": "2022-05-10T22:00:58.602Z"
   },
   {
    "duration": 18,
    "start_time": "2022-05-10T22:00:58.761Z"
   },
   {
    "duration": 214,
    "start_time": "2022-05-10T22:00:58.781Z"
   },
   {
    "duration": 22,
    "start_time": "2022-05-10T22:00:59.000Z"
   },
   {
    "duration": 7,
    "start_time": "2022-05-10T22:00:59.024Z"
   },
   {
    "duration": 178,
    "start_time": "2022-05-10T22:00:59.033Z"
   },
   {
    "duration": 6,
    "start_time": "2022-05-10T22:00:59.214Z"
   },
   {
    "duration": 8,
    "start_time": "2022-05-10T22:00:59.221Z"
   },
   {
    "duration": 7,
    "start_time": "2022-05-10T22:00:59.230Z"
   },
   {
    "duration": 16,
    "start_time": "2022-05-10T22:00:59.239Z"
   },
   {
    "duration": 7,
    "start_time": "2022-05-10T22:02:16.492Z"
   },
   {
    "duration": 7,
    "start_time": "2022-05-10T22:02:17.039Z"
   },
   {
    "duration": 376,
    "start_time": "2022-05-10T22:02:17.559Z"
   },
   {
    "duration": 7,
    "start_time": "2022-05-10T22:02:21.812Z"
   },
   {
    "duration": 7,
    "start_time": "2022-05-10T22:02:40.972Z"
   },
   {
    "duration": 7,
    "start_time": "2022-05-10T22:03:00.502Z"
   },
   {
    "duration": 20,
    "start_time": "2022-05-10T22:03:18.749Z"
   },
   {
    "duration": 164,
    "start_time": "2022-05-10T22:03:53.038Z"
   },
   {
    "duration": 6,
    "start_time": "2022-05-10T22:08:40.556Z"
   },
   {
    "duration": 6,
    "start_time": "2022-05-10T22:08:46.185Z"
   },
   {
    "duration": 7,
    "start_time": "2022-05-10T22:08:50.176Z"
   },
   {
    "duration": 7,
    "start_time": "2022-05-10T22:08:57.770Z"
   },
   {
    "duration": 7,
    "start_time": "2022-05-10T22:09:03.161Z"
   },
   {
    "duration": 469,
    "start_time": "2022-05-10T22:10:32.354Z"
   },
   {
    "duration": 12,
    "start_time": "2022-05-10T22:10:32.825Z"
   },
   {
    "duration": 86,
    "start_time": "2022-05-10T22:10:32.838Z"
   },
   {
    "duration": 22,
    "start_time": "2022-05-10T22:10:32.926Z"
   },
   {
    "duration": 53,
    "start_time": "2022-05-10T22:10:32.949Z"
   },
   {
    "duration": 12,
    "start_time": "2022-05-10T22:10:33.003Z"
   },
   {
    "duration": 65,
    "start_time": "2022-05-10T22:10:33.016Z"
   },
   {
    "duration": 3,
    "start_time": "2022-05-10T22:10:33.083Z"
   },
   {
    "duration": 31,
    "start_time": "2022-05-10T22:10:33.087Z"
   },
   {
    "duration": 17,
    "start_time": "2022-05-10T22:10:33.121Z"
   },
   {
    "duration": 398,
    "start_time": "2022-05-10T22:10:33.139Z"
   },
   {
    "duration": 7,
    "start_time": "2022-05-10T22:10:33.539Z"
   },
   {
    "duration": 121,
    "start_time": "2022-05-10T22:10:33.547Z"
   },
   {
    "duration": 3,
    "start_time": "2022-05-10T22:10:33.670Z"
   },
   {
    "duration": 7,
    "start_time": "2022-05-10T22:10:33.675Z"
   },
   {
    "duration": 149,
    "start_time": "2022-05-10T22:10:33.684Z"
   },
   {
    "duration": 4,
    "start_time": "2022-05-10T22:10:33.835Z"
   },
   {
    "duration": 8,
    "start_time": "2022-05-10T22:10:33.840Z"
   },
   {
    "duration": 140,
    "start_time": "2022-05-10T22:10:33.849Z"
   },
   {
    "duration": 132,
    "start_time": "2022-05-10T22:10:33.991Z"
   },
   {
    "duration": 3,
    "start_time": "2022-05-10T22:10:34.125Z"
   },
   {
    "duration": 6,
    "start_time": "2022-05-10T22:10:34.129Z"
   },
   {
    "duration": 28,
    "start_time": "2022-05-10T22:10:34.136Z"
   },
   {
    "duration": 4,
    "start_time": "2022-05-10T22:10:34.165Z"
   },
   {
    "duration": 8,
    "start_time": "2022-05-10T22:10:34.170Z"
   },
   {
    "duration": 21,
    "start_time": "2022-05-10T22:10:34.180Z"
   },
   {
    "duration": 174,
    "start_time": "2022-05-10T22:10:34.202Z"
   },
   {
    "duration": 4,
    "start_time": "2022-05-10T22:10:34.380Z"
   },
   {
    "duration": 117,
    "start_time": "2022-05-10T22:10:34.386Z"
   },
   {
    "duration": 24,
    "start_time": "2022-05-10T22:10:34.504Z"
   },
   {
    "duration": 4,
    "start_time": "2022-05-10T22:10:34.529Z"
   },
   {
    "duration": 5,
    "start_time": "2022-05-10T22:10:34.534Z"
   },
   {
    "duration": 4,
    "start_time": "2022-05-10T22:10:34.540Z"
   },
   {
    "duration": 5,
    "start_time": "2022-05-10T22:10:34.546Z"
   },
   {
    "duration": 4,
    "start_time": "2022-05-10T22:10:34.552Z"
   },
   {
    "duration": 5,
    "start_time": "2022-05-10T22:10:34.558Z"
   },
   {
    "duration": 9,
    "start_time": "2022-05-10T22:10:34.564Z"
   },
   {
    "duration": 34,
    "start_time": "2022-05-10T22:10:34.574Z"
   },
   {
    "duration": 13,
    "start_time": "2022-05-10T22:10:34.610Z"
   },
   {
    "duration": 7,
    "start_time": "2022-05-10T22:10:34.624Z"
   },
   {
    "duration": 28,
    "start_time": "2022-05-10T22:10:34.633Z"
   },
   {
    "duration": 46,
    "start_time": "2022-05-10T22:10:34.663Z"
   },
   {
    "duration": 3,
    "start_time": "2022-05-10T22:10:34.711Z"
   },
   {
    "duration": 13,
    "start_time": "2022-05-10T22:10:34.716Z"
   },
   {
    "duration": 22,
    "start_time": "2022-05-10T22:10:34.730Z"
   },
   {
    "duration": 11,
    "start_time": "2022-05-10T22:10:34.753Z"
   },
   {
    "duration": 48,
    "start_time": "2022-05-10T22:10:34.766Z"
   },
   {
    "duration": 5,
    "start_time": "2022-05-10T22:10:34.815Z"
   },
   {
    "duration": 26,
    "start_time": "2022-05-10T22:10:34.821Z"
   },
   {
    "duration": 26,
    "start_time": "2022-05-10T22:10:34.848Z"
   },
   {
    "duration": 114,
    "start_time": "2022-05-10T22:10:34.875Z"
   },
   {
    "duration": 205,
    "start_time": "2022-05-10T22:10:34.991Z"
   },
   {
    "duration": 115,
    "start_time": "2022-05-10T22:10:35.200Z"
   },
   {
    "duration": 216,
    "start_time": "2022-05-10T22:10:35.316Z"
   },
   {
    "duration": 98,
    "start_time": "2022-05-10T22:10:35.534Z"
   },
   {
    "duration": 121,
    "start_time": "2022-05-10T22:10:35.634Z"
   },
   {
    "duration": 97,
    "start_time": "2022-05-10T22:10:35.756Z"
   },
   {
    "duration": 195,
    "start_time": "2022-05-10T22:10:35.854Z"
   },
   {
    "duration": 7,
    "start_time": "2022-05-10T22:10:36.050Z"
   },
   {
    "duration": 110,
    "start_time": "2022-05-10T22:10:36.058Z"
   },
   {
    "duration": 216,
    "start_time": "2022-05-10T22:10:36.169Z"
   },
   {
    "duration": 158,
    "start_time": "2022-05-10T22:10:36.386Z"
   },
   {
    "duration": 18,
    "start_time": "2022-05-10T22:10:36.546Z"
   },
   {
    "duration": 223,
    "start_time": "2022-05-10T22:10:36.565Z"
   },
   {
    "duration": 25,
    "start_time": "2022-05-10T22:10:36.790Z"
   },
   {
    "duration": 6,
    "start_time": "2022-05-10T22:10:36.817Z"
   },
   {
    "duration": 175,
    "start_time": "2022-05-10T22:10:36.825Z"
   },
   {
    "duration": 6,
    "start_time": "2022-05-10T22:10:37.002Z"
   },
   {
    "duration": 15,
    "start_time": "2022-05-10T22:10:37.009Z"
   },
   {
    "duration": 21,
    "start_time": "2022-05-10T22:10:37.026Z"
   },
   {
    "duration": 21,
    "start_time": "2022-05-10T22:10:37.048Z"
   },
   {
    "duration": 9,
    "start_time": "2022-05-10T22:11:11.543Z"
   },
   {
    "duration": 8,
    "start_time": "2022-05-10T22:11:14.427Z"
   },
   {
    "duration": 9,
    "start_time": "2022-05-10T22:11:15.134Z"
   },
   {
    "duration": 10,
    "start_time": "2022-05-10T22:11:16.045Z"
   },
   {
    "duration": 9,
    "start_time": "2022-05-10T22:13:07.847Z"
   },
   {
    "duration": 8,
    "start_time": "2022-05-10T22:13:42.863Z"
   },
   {
    "duration": 456,
    "start_time": "2022-05-10T22:14:34.022Z"
   },
   {
    "duration": 13,
    "start_time": "2022-05-10T22:14:34.479Z"
   },
   {
    "duration": 76,
    "start_time": "2022-05-10T22:14:34.494Z"
   },
   {
    "duration": 29,
    "start_time": "2022-05-10T22:14:34.572Z"
   },
   {
    "duration": 43,
    "start_time": "2022-05-10T22:14:34.603Z"
   },
   {
    "duration": 14,
    "start_time": "2022-05-10T22:14:34.648Z"
   },
   {
    "duration": 93,
    "start_time": "2022-05-10T22:14:34.664Z"
   },
   {
    "duration": 4,
    "start_time": "2022-05-10T22:14:34.759Z"
   },
   {
    "duration": 36,
    "start_time": "2022-05-10T22:14:34.765Z"
   },
   {
    "duration": 11,
    "start_time": "2022-05-10T22:14:34.804Z"
   },
   {
    "duration": 400,
    "start_time": "2022-05-10T22:14:34.816Z"
   },
   {
    "duration": 6,
    "start_time": "2022-05-10T22:14:35.217Z"
   },
   {
    "duration": 119,
    "start_time": "2022-05-10T22:14:35.225Z"
   },
   {
    "duration": 3,
    "start_time": "2022-05-10T22:14:35.346Z"
   },
   {
    "duration": 6,
    "start_time": "2022-05-10T22:14:35.350Z"
   },
   {
    "duration": 150,
    "start_time": "2022-05-10T22:14:35.357Z"
   },
   {
    "duration": 4,
    "start_time": "2022-05-10T22:14:35.508Z"
   },
   {
    "duration": 12,
    "start_time": "2022-05-10T22:14:35.513Z"
   },
   {
    "duration": 135,
    "start_time": "2022-05-10T22:14:35.526Z"
   },
   {
    "duration": 127,
    "start_time": "2022-05-10T22:14:35.662Z"
   },
   {
    "duration": 11,
    "start_time": "2022-05-10T22:14:35.790Z"
   },
   {
    "duration": 5,
    "start_time": "2022-05-10T22:14:35.803Z"
   },
   {
    "duration": 30,
    "start_time": "2022-05-10T22:14:35.810Z"
   },
   {
    "duration": 3,
    "start_time": "2022-05-10T22:14:35.842Z"
   },
   {
    "duration": 8,
    "start_time": "2022-05-10T22:14:35.847Z"
   },
   {
    "duration": 11,
    "start_time": "2022-05-10T22:14:35.857Z"
   },
   {
    "duration": 185,
    "start_time": "2022-05-10T22:14:35.870Z"
   },
   {
    "duration": 4,
    "start_time": "2022-05-10T22:14:36.059Z"
   },
   {
    "duration": 113,
    "start_time": "2022-05-10T22:14:36.064Z"
   },
   {
    "duration": 31,
    "start_time": "2022-05-10T22:14:36.178Z"
   },
   {
    "duration": 3,
    "start_time": "2022-05-10T22:14:36.211Z"
   },
   {
    "duration": 8,
    "start_time": "2022-05-10T22:14:36.215Z"
   },
   {
    "duration": 5,
    "start_time": "2022-05-10T22:14:36.224Z"
   },
   {
    "duration": 17,
    "start_time": "2022-05-10T22:14:36.230Z"
   },
   {
    "duration": 7,
    "start_time": "2022-05-10T22:14:36.248Z"
   },
   {
    "duration": 5,
    "start_time": "2022-05-10T22:14:36.257Z"
   },
   {
    "duration": 5,
    "start_time": "2022-05-10T22:14:36.263Z"
   },
   {
    "duration": 12,
    "start_time": "2022-05-10T22:14:36.270Z"
   },
   {
    "duration": 24,
    "start_time": "2022-05-10T22:14:36.283Z"
   },
   {
    "duration": 7,
    "start_time": "2022-05-10T22:14:36.308Z"
   },
   {
    "duration": 32,
    "start_time": "2022-05-10T22:14:36.317Z"
   },
   {
    "duration": 26,
    "start_time": "2022-05-10T22:14:36.351Z"
   },
   {
    "duration": 5,
    "start_time": "2022-05-10T22:14:36.378Z"
   },
   {
    "duration": 25,
    "start_time": "2022-05-10T22:14:36.384Z"
   },
   {
    "duration": 23,
    "start_time": "2022-05-10T22:14:36.410Z"
   },
   {
    "duration": 13,
    "start_time": "2022-05-10T22:14:36.434Z"
   },
   {
    "duration": 52,
    "start_time": "2022-05-10T22:14:36.449Z"
   },
   {
    "duration": 6,
    "start_time": "2022-05-10T22:14:36.503Z"
   },
   {
    "duration": 23,
    "start_time": "2022-05-10T22:14:36.510Z"
   },
   {
    "duration": 26,
    "start_time": "2022-05-10T22:14:36.535Z"
   },
   {
    "duration": 123,
    "start_time": "2022-05-10T22:14:36.563Z"
   },
   {
    "duration": 217,
    "start_time": "2022-05-10T22:14:36.688Z"
   },
   {
    "duration": 118,
    "start_time": "2022-05-10T22:14:36.907Z"
   },
   {
    "duration": 217,
    "start_time": "2022-05-10T22:14:37.027Z"
   },
   {
    "duration": 103,
    "start_time": "2022-05-10T22:14:37.246Z"
   },
   {
    "duration": 125,
    "start_time": "2022-05-10T22:14:37.351Z"
   },
   {
    "duration": 103,
    "start_time": "2022-05-10T22:14:37.478Z"
   },
   {
    "duration": 191,
    "start_time": "2022-05-10T22:14:37.583Z"
   },
   {
    "duration": 8,
    "start_time": "2022-05-10T22:14:37.776Z"
   },
   {
    "duration": 107,
    "start_time": "2022-05-10T22:14:37.800Z"
   },
   {
    "duration": 205,
    "start_time": "2022-05-10T22:14:37.909Z"
   },
   {
    "duration": 156,
    "start_time": "2022-05-10T22:14:38.116Z"
   },
   {
    "duration": 26,
    "start_time": "2022-05-10T22:14:38.274Z"
   },
   {
    "duration": 219,
    "start_time": "2022-05-10T22:14:38.301Z"
   },
   {
    "duration": 23,
    "start_time": "2022-05-10T22:14:38.522Z"
   },
   {
    "duration": 6,
    "start_time": "2022-05-10T22:14:38.547Z"
   },
   {
    "duration": 186,
    "start_time": "2022-05-10T22:14:38.555Z"
   },
   {
    "duration": 7,
    "start_time": "2022-05-10T22:14:38.743Z"
   },
   {
    "duration": 9,
    "start_time": "2022-05-10T22:14:38.752Z"
   },
   {
    "duration": 8,
    "start_time": "2022-05-10T22:14:38.763Z"
   },
   {
    "duration": 33,
    "start_time": "2022-05-10T22:14:38.772Z"
   },
   {
    "duration": 8,
    "start_time": "2022-05-10T22:14:48.617Z"
   },
   {
    "duration": 69,
    "start_time": "2022-05-10T22:16:30.346Z"
   },
   {
    "duration": 7,
    "start_time": "2022-05-10T22:16:43.663Z"
   },
   {
    "duration": 5,
    "start_time": "2022-05-10T22:17:52.656Z"
   },
   {
    "duration": 202,
    "start_time": "2022-05-10T22:18:24.127Z"
   },
   {
    "duration": 14,
    "start_time": "2022-05-10T22:18:26.577Z"
   },
   {
    "duration": 18,
    "start_time": "2022-05-10T22:18:35.934Z"
   },
   {
    "duration": 18,
    "start_time": "2022-05-10T22:18:45.708Z"
   },
   {
    "duration": 24,
    "start_time": "2022-05-10T22:18:51.925Z"
   },
   {
    "duration": 285,
    "start_time": "2022-05-10T22:20:47.988Z"
   },
   {
    "duration": 188,
    "start_time": "2022-05-10T22:21:08.534Z"
   },
   {
    "duration": 190,
    "start_time": "2022-05-10T22:21:11.213Z"
   },
   {
    "duration": 23,
    "start_time": "2022-05-10T22:21:32.451Z"
   },
   {
    "duration": 23,
    "start_time": "2022-05-10T22:22:06.974Z"
   },
   {
    "duration": 178,
    "start_time": "2022-05-10T22:45:03.665Z"
   },
   {
    "duration": 32,
    "start_time": "2022-05-10T22:45:13.505Z"
   },
   {
    "duration": 30,
    "start_time": "2022-05-10T22:45:19.682Z"
   },
   {
    "duration": 30,
    "start_time": "2022-05-10T22:47:12.156Z"
   },
   {
    "duration": 32,
    "start_time": "2022-05-10T22:47:19.655Z"
   },
   {
    "duration": 22,
    "start_time": "2022-05-10T22:48:49.076Z"
   },
   {
    "duration": 24,
    "start_time": "2022-05-10T22:48:59.612Z"
   },
   {
    "duration": 43,
    "start_time": "2022-05-10T22:51:36.790Z"
   },
   {
    "duration": 41,
    "start_time": "2022-05-10T22:51:47.095Z"
   },
   {
    "duration": 25,
    "start_time": "2022-05-10T22:53:00.750Z"
   },
   {
    "duration": 25,
    "start_time": "2022-05-10T22:53:57.661Z"
   },
   {
    "duration": 17,
    "start_time": "2022-05-10T22:53:59.380Z"
   },
   {
    "duration": 16,
    "start_time": "2022-05-10T22:55:03.639Z"
   },
   {
    "duration": 174,
    "start_time": "2022-05-10T23:05:24.293Z"
   },
   {
    "duration": 174,
    "start_time": "2022-05-10T23:05:44.036Z"
   },
   {
    "duration": 200,
    "start_time": "2022-05-10T23:05:55.706Z"
   },
   {
    "duration": 39,
    "start_time": "2022-05-10T23:06:10.597Z"
   },
   {
    "duration": 16,
    "start_time": "2022-05-10T23:08:57.184Z"
   },
   {
    "duration": 16,
    "start_time": "2022-05-10T23:09:21.477Z"
   },
   {
    "duration": 50,
    "start_time": "2022-05-10T23:14:09.483Z"
   },
   {
    "duration": 20,
    "start_time": "2022-05-10T23:14:29.631Z"
   },
   {
    "duration": 18,
    "start_time": "2022-05-10T23:14:36.149Z"
   },
   {
    "duration": 17,
    "start_time": "2022-05-10T23:14:39.774Z"
   },
   {
    "duration": 4,
    "start_time": "2022-05-10T23:15:14.025Z"
   },
   {
    "duration": 9,
    "start_time": "2022-05-10T23:15:56.888Z"
   },
   {
    "duration": 7,
    "start_time": "2022-05-10T23:16:11.894Z"
   },
   {
    "duration": 9,
    "start_time": "2022-05-10T23:16:35.205Z"
   },
   {
    "duration": 9,
    "start_time": "2022-05-10T23:16:44.584Z"
   },
   {
    "duration": 8,
    "start_time": "2022-05-10T23:16:56.126Z"
   },
   {
    "duration": 6,
    "start_time": "2022-05-10T23:17:15.103Z"
   },
   {
    "duration": 7,
    "start_time": "2022-05-10T23:17:27.585Z"
   },
   {
    "duration": 7,
    "start_time": "2022-05-10T23:19:49.148Z"
   },
   {
    "duration": 2996,
    "start_time": "2022-05-10T23:21:02.601Z"
   },
   {
    "duration": 8,
    "start_time": "2022-05-10T23:21:17.049Z"
   },
   {
    "duration": 8,
    "start_time": "2022-05-10T23:21:32.337Z"
   },
   {
    "duration": 9,
    "start_time": "2022-05-10T23:21:40.890Z"
   },
   {
    "duration": 3,
    "start_time": "2022-05-10T23:21:56.166Z"
   },
   {
    "duration": 4,
    "start_time": "2022-05-10T23:22:13.048Z"
   },
   {
    "duration": 4,
    "start_time": "2022-05-10T23:22:24.893Z"
   },
   {
    "duration": 4,
    "start_time": "2022-05-10T23:22:39.814Z"
   },
   {
    "duration": 4,
    "start_time": "2022-05-10T23:23:11.257Z"
   },
   {
    "duration": 2,
    "start_time": "2022-05-10T23:23:25.766Z"
   },
   {
    "duration": 4,
    "start_time": "2022-05-10T23:23:31.018Z"
   },
   {
    "duration": 4,
    "start_time": "2022-05-10T23:23:38.443Z"
   },
   {
    "duration": 9,
    "start_time": "2022-05-10T23:23:49.689Z"
   },
   {
    "duration": 4,
    "start_time": "2022-05-10T23:23:59.947Z"
   },
   {
    "duration": 9,
    "start_time": "2022-05-10T23:24:28.135Z"
   },
   {
    "duration": 4,
    "start_time": "2022-05-10T23:26:25.439Z"
   },
   {
    "duration": 25,
    "start_time": "2022-05-10T23:27:34.834Z"
   },
   {
    "duration": 7,
    "start_time": "2022-05-10T23:30:03.320Z"
   },
   {
    "duration": 14,
    "start_time": "2022-05-10T23:30:16.733Z"
   },
   {
    "duration": 14,
    "start_time": "2022-05-10T23:30:27.299Z"
   },
   {
    "duration": 17,
    "start_time": "2022-05-10T23:30:57.331Z"
   },
   {
    "duration": 14,
    "start_time": "2022-05-10T23:31:12.596Z"
   },
   {
    "duration": 81,
    "start_time": "2022-05-10T23:32:11.204Z"
   },
   {
    "duration": 7,
    "start_time": "2022-05-10T23:32:11.286Z"
   },
   {
    "duration": 67,
    "start_time": "2022-05-10T23:32:11.294Z"
   },
   {
    "duration": 37,
    "start_time": "2022-05-10T23:32:11.363Z"
   },
   {
    "duration": 42,
    "start_time": "2022-05-10T23:32:11.401Z"
   },
   {
    "duration": 12,
    "start_time": "2022-05-10T23:32:11.445Z"
   },
   {
    "duration": 93,
    "start_time": "2022-05-10T23:32:11.459Z"
   },
   {
    "duration": 3,
    "start_time": "2022-05-10T23:32:11.553Z"
   },
   {
    "duration": 31,
    "start_time": "2022-05-10T23:32:11.558Z"
   },
   {
    "duration": 17,
    "start_time": "2022-05-10T23:32:11.591Z"
   },
   {
    "duration": 117,
    "start_time": "2022-05-10T23:32:11.609Z"
   },
   {
    "duration": 5,
    "start_time": "2022-05-10T23:32:11.728Z"
   },
   {
    "duration": 124,
    "start_time": "2022-05-10T23:32:11.735Z"
   },
   {
    "duration": 4,
    "start_time": "2022-05-10T23:32:11.860Z"
   },
   {
    "duration": 5,
    "start_time": "2022-05-10T23:32:11.866Z"
   },
   {
    "duration": 239,
    "start_time": "2022-05-10T23:32:11.873Z"
   },
   {
    "duration": 5,
    "start_time": "2022-05-10T23:32:12.114Z"
   },
   {
    "duration": 5,
    "start_time": "2022-05-10T23:32:12.121Z"
   },
   {
    "duration": 152,
    "start_time": "2022-05-10T23:32:12.128Z"
   },
   {
    "duration": 135,
    "start_time": "2022-05-10T23:32:12.282Z"
   },
   {
    "duration": 3,
    "start_time": "2022-05-10T23:32:12.419Z"
   },
   {
    "duration": 7,
    "start_time": "2022-05-10T23:32:12.423Z"
   },
   {
    "duration": 27,
    "start_time": "2022-05-10T23:32:12.431Z"
   },
   {
    "duration": 4,
    "start_time": "2022-05-10T23:32:12.459Z"
   },
   {
    "duration": 7,
    "start_time": "2022-05-10T23:32:12.464Z"
   },
   {
    "duration": 6,
    "start_time": "2022-05-10T23:32:12.472Z"
   },
   {
    "duration": 131,
    "start_time": "2022-05-10T23:32:12.500Z"
   },
   {
    "duration": 4,
    "start_time": "2022-05-10T23:32:12.635Z"
   },
   {
    "duration": 114,
    "start_time": "2022-05-10T23:32:12.641Z"
   },
   {
    "duration": 24,
    "start_time": "2022-05-10T23:32:12.756Z"
   },
   {
    "duration": 4,
    "start_time": "2022-05-10T23:32:12.781Z"
   },
   {
    "duration": 3,
    "start_time": "2022-05-10T23:32:12.801Z"
   },
   {
    "duration": 7,
    "start_time": "2022-05-10T23:32:12.805Z"
   },
   {
    "duration": 5,
    "start_time": "2022-05-10T23:32:12.814Z"
   },
   {
    "duration": 5,
    "start_time": "2022-05-10T23:32:12.820Z"
   },
   {
    "duration": 5,
    "start_time": "2022-05-10T23:32:12.826Z"
   },
   {
    "duration": 5,
    "start_time": "2022-05-10T23:32:12.832Z"
   },
   {
    "duration": 15,
    "start_time": "2022-05-10T23:32:12.839Z"
   },
   {
    "duration": 12,
    "start_time": "2022-05-10T23:32:12.856Z"
   },
   {
    "duration": 37,
    "start_time": "2022-05-10T23:32:12.870Z"
   },
   {
    "duration": 25,
    "start_time": "2022-05-10T23:32:12.909Z"
   },
   {
    "duration": 27,
    "start_time": "2022-05-10T23:32:12.935Z"
   },
   {
    "duration": 16,
    "start_time": "2022-05-10T23:32:12.963Z"
   },
   {
    "duration": 61,
    "start_time": "2022-05-10T23:32:12.981Z"
   },
   {
    "duration": 4,
    "start_time": "2022-05-10T23:32:13.043Z"
   },
   {
    "duration": 17,
    "start_time": "2022-05-10T23:32:13.048Z"
   },
   {
    "duration": 34,
    "start_time": "2022-05-10T23:32:13.067Z"
   },
   {
    "duration": 11,
    "start_time": "2022-05-10T23:32:13.103Z"
   },
   {
    "duration": 21,
    "start_time": "2022-05-10T23:32:13.116Z"
   },
   {
    "duration": 5,
    "start_time": "2022-05-10T23:32:13.138Z"
   },
   {
    "duration": 22,
    "start_time": "2022-05-10T23:32:13.145Z"
   },
   {
    "duration": 55,
    "start_time": "2022-05-10T23:32:13.169Z"
   },
   {
    "duration": 115,
    "start_time": "2022-05-10T23:32:13.226Z"
   },
   {
    "duration": 206,
    "start_time": "2022-05-10T23:32:13.343Z"
   },
   {
    "duration": 113,
    "start_time": "2022-05-10T23:32:13.550Z"
   },
   {
    "duration": 207,
    "start_time": "2022-05-10T23:32:13.664Z"
   },
   {
    "duration": 193,
    "start_time": "2022-05-10T23:32:13.873Z"
   },
   {
    "duration": 117,
    "start_time": "2022-05-10T23:32:14.067Z"
   },
   {
    "duration": 97,
    "start_time": "2022-05-10T23:32:14.186Z"
   },
   {
    "duration": 129,
    "start_time": "2022-05-10T23:32:14.284Z"
   },
   {
    "duration": 7,
    "start_time": "2022-05-10T23:32:14.414Z"
   },
   {
    "duration": 104,
    "start_time": "2022-05-10T23:32:14.423Z"
   },
   {
    "duration": 198,
    "start_time": "2022-05-10T23:32:14.529Z"
   },
   {
    "duration": 153,
    "start_time": "2022-05-10T23:32:14.729Z"
   },
   {
    "duration": 24,
    "start_time": "2022-05-10T23:32:14.884Z"
   },
   {
    "duration": 206,
    "start_time": "2022-05-10T23:32:14.910Z"
   },
   {
    "duration": 21,
    "start_time": "2022-05-10T23:32:15.117Z"
   },
   {
    "duration": 7,
    "start_time": "2022-05-10T23:32:15.139Z"
   },
   {
    "duration": 180,
    "start_time": "2022-05-10T23:32:15.147Z"
   },
   {
    "duration": 25,
    "start_time": "2022-05-10T23:32:15.328Z"
   },
   {
    "duration": 14,
    "start_time": "2022-05-10T23:32:15.354Z"
   },
   {
    "duration": 34,
    "start_time": "2022-05-10T23:32:15.369Z"
   },
   {
    "duration": 15,
    "start_time": "2022-05-10T23:32:15.404Z"
   },
   {
    "duration": 14,
    "start_time": "2022-05-10T23:34:59.221Z"
   },
   {
    "duration": 23,
    "start_time": "2022-05-10T23:36:36.607Z"
   },
   {
    "duration": 14,
    "start_time": "2022-05-10T23:36:52.253Z"
   },
   {
    "duration": 12,
    "start_time": "2022-05-10T23:37:01.533Z"
   },
   {
    "duration": 13,
    "start_time": "2022-05-10T23:37:08.257Z"
   },
   {
    "duration": 13,
    "start_time": "2022-05-10T23:37:14.677Z"
   },
   {
    "duration": 14,
    "start_time": "2022-05-10T23:37:23.305Z"
   },
   {
    "duration": 11,
    "start_time": "2022-05-10T23:38:33.550Z"
   },
   {
    "duration": 8,
    "start_time": "2022-05-10T23:39:03.109Z"
   },
   {
    "duration": 15,
    "start_time": "2022-05-10T23:40:51.771Z"
   },
   {
    "duration": 24,
    "start_time": "2022-05-10T23:41:56.516Z"
   },
   {
    "duration": 13,
    "start_time": "2022-05-10T23:42:34.981Z"
   },
   {
    "duration": 18,
    "start_time": "2022-05-10T23:51:00.020Z"
   },
   {
    "duration": 16,
    "start_time": "2022-05-10T23:51:17.556Z"
   },
   {
    "duration": 19,
    "start_time": "2022-05-10T23:53:06.474Z"
   },
   {
    "duration": 18,
    "start_time": "2022-05-10T23:53:55.584Z"
   },
   {
    "duration": 18,
    "start_time": "2022-05-10T23:54:17.581Z"
   },
   {
    "duration": 20,
    "start_time": "2022-05-10T23:55:43.127Z"
   },
   {
    "duration": 16,
    "start_time": "2022-05-10T23:56:34.156Z"
   },
   {
    "duration": 17,
    "start_time": "2022-05-10T23:58:27.569Z"
   },
   {
    "duration": 18,
    "start_time": "2022-05-10T23:58:36.318Z"
   },
   {
    "duration": 18,
    "start_time": "2022-05-10T23:58:45.872Z"
   },
   {
    "duration": 17,
    "start_time": "2022-05-10T23:58:59.132Z"
   },
   {
    "duration": 17,
    "start_time": "2022-05-10T23:59:13.156Z"
   },
   {
    "duration": 13,
    "start_time": "2022-05-10T23:59:43.113Z"
   },
   {
    "duration": 12,
    "start_time": "2022-05-11T00:00:34.664Z"
   },
   {
    "duration": 17,
    "start_time": "2022-05-11T00:00:54.267Z"
   },
   {
    "duration": 180,
    "start_time": "2022-05-11T00:02:38.876Z"
   },
   {
    "duration": 192,
    "start_time": "2022-05-11T00:02:45.046Z"
   },
   {
    "duration": 17,
    "start_time": "2022-05-11T00:02:56.191Z"
   },
   {
    "duration": 20,
    "start_time": "2022-05-11T00:03:32.084Z"
   },
   {
    "duration": 20,
    "start_time": "2022-05-11T00:04:15.864Z"
   },
   {
    "duration": 18,
    "start_time": "2022-05-11T00:05:00.844Z"
   },
   {
    "duration": 195,
    "start_time": "2022-05-11T00:09:37.581Z"
   },
   {
    "duration": 17,
    "start_time": "2022-05-11T00:09:44.636Z"
   },
   {
    "duration": 739,
    "start_time": "2022-05-11T00:11:53.896Z"
   },
   {
    "duration": 9,
    "start_time": "2022-05-11T00:12:37.144Z"
   },
   {
    "duration": 9,
    "start_time": "2022-05-11T00:15:41.887Z"
   },
   {
    "duration": 9,
    "start_time": "2022-05-11T00:15:49.602Z"
   },
   {
    "duration": 8,
    "start_time": "2022-05-11T00:15:57.248Z"
   },
   {
    "duration": 739,
    "start_time": "2022-05-11T00:18:47.461Z"
   },
   {
    "duration": 79,
    "start_time": "2022-05-11T00:19:42.819Z"
   },
   {
    "duration": 6,
    "start_time": "2022-05-11T00:19:42.900Z"
   },
   {
    "duration": 65,
    "start_time": "2022-05-11T00:19:42.908Z"
   },
   {
    "duration": 41,
    "start_time": "2022-05-11T00:19:42.975Z"
   },
   {
    "duration": 41,
    "start_time": "2022-05-11T00:19:43.017Z"
   },
   {
    "duration": 12,
    "start_time": "2022-05-11T00:19:43.059Z"
   },
   {
    "duration": 85,
    "start_time": "2022-05-11T00:19:43.072Z"
   },
   {
    "duration": 3,
    "start_time": "2022-05-11T00:19:43.159Z"
   },
   {
    "duration": 23,
    "start_time": "2022-05-11T00:19:43.163Z"
   },
   {
    "duration": 9,
    "start_time": "2022-05-11T00:19:43.200Z"
   },
   {
    "duration": 123,
    "start_time": "2022-05-11T00:19:43.210Z"
   },
   {
    "duration": 6,
    "start_time": "2022-05-11T00:19:43.334Z"
   },
   {
    "duration": 117,
    "start_time": "2022-05-11T00:19:43.342Z"
   },
   {
    "duration": 3,
    "start_time": "2022-05-11T00:19:43.461Z"
   },
   {
    "duration": 6,
    "start_time": "2022-05-11T00:19:43.466Z"
   },
   {
    "duration": 145,
    "start_time": "2022-05-11T00:19:43.473Z"
   },
   {
    "duration": 5,
    "start_time": "2022-05-11T00:19:43.619Z"
   },
   {
    "duration": 5,
    "start_time": "2022-05-11T00:19:43.625Z"
   },
   {
    "duration": 261,
    "start_time": "2022-05-11T00:19:43.632Z"
   },
   {
    "duration": 131,
    "start_time": "2022-05-11T00:19:43.894Z"
   },
   {
    "duration": 3,
    "start_time": "2022-05-11T00:19:44.027Z"
   },
   {
    "duration": 6,
    "start_time": "2022-05-11T00:19:44.031Z"
   },
   {
    "duration": 27,
    "start_time": "2022-05-11T00:19:44.038Z"
   },
   {
    "duration": 3,
    "start_time": "2022-05-11T00:19:44.067Z"
   },
   {
    "duration": 8,
    "start_time": "2022-05-11T00:19:44.071Z"
   },
   {
    "duration": 3,
    "start_time": "2022-05-11T00:19:44.100Z"
   },
   {
    "duration": 130,
    "start_time": "2022-05-11T00:19:44.105Z"
   },
   {
    "duration": 4,
    "start_time": "2022-05-11T00:19:44.238Z"
   },
   {
    "duration": 110,
    "start_time": "2022-05-11T00:19:44.244Z"
   },
   {
    "duration": 22,
    "start_time": "2022-05-11T00:19:44.355Z"
   },
   {
    "duration": 3,
    "start_time": "2022-05-11T00:19:44.379Z"
   },
   {
    "duration": 18,
    "start_time": "2022-05-11T00:19:44.384Z"
   },
   {
    "duration": 4,
    "start_time": "2022-05-11T00:19:44.403Z"
   },
   {
    "duration": 6,
    "start_time": "2022-05-11T00:19:44.408Z"
   },
   {
    "duration": 3,
    "start_time": "2022-05-11T00:19:44.415Z"
   },
   {
    "duration": 4,
    "start_time": "2022-05-11T00:19:44.419Z"
   },
   {
    "duration": 4,
    "start_time": "2022-05-11T00:19:44.425Z"
   },
   {
    "duration": 9,
    "start_time": "2022-05-11T00:19:44.430Z"
   },
   {
    "duration": 11,
    "start_time": "2022-05-11T00:19:44.441Z"
   },
   {
    "duration": 6,
    "start_time": "2022-05-11T00:19:44.453Z"
   },
   {
    "duration": 53,
    "start_time": "2022-05-11T00:19:44.461Z"
   },
   {
    "duration": 20,
    "start_time": "2022-05-11T00:19:44.515Z"
   },
   {
    "duration": 16,
    "start_time": "2022-05-11T00:19:44.536Z"
   },
   {
    "duration": 62,
    "start_time": "2022-05-11T00:19:44.553Z"
   },
   {
    "duration": 795,
    "start_time": "2022-05-11T00:19:44.616Z"
   },
   {
    "duration": 0,
    "start_time": "2022-05-11T00:19:45.412Z"
   },
   {
    "duration": 749,
    "start_time": "2022-05-11T00:19:55.607Z"
   },
   {
    "duration": 14,
    "start_time": "2022-05-11T00:20:41.540Z"
   },
   {
    "duration": 1525,
    "start_time": "2022-05-11T00:21:10.641Z"
   },
   {
    "duration": 43,
    "start_time": "2022-05-11T00:21:27.397Z"
   },
   {
    "duration": 13,
    "start_time": "2022-05-11T00:21:30.509Z"
   },
   {
    "duration": 746,
    "start_time": "2022-05-11T00:21:40.764Z"
   },
   {
    "duration": 12,
    "start_time": "2022-05-11T00:21:56.062Z"
   },
   {
    "duration": 6,
    "start_time": "2022-05-11T00:22:08.750Z"
   },
   {
    "duration": 12,
    "start_time": "2022-05-11T00:22:23.136Z"
   },
   {
    "duration": 743,
    "start_time": "2022-05-11T00:22:35.395Z"
   },
   {
    "duration": 12,
    "start_time": "2022-05-11T00:22:44.072Z"
   },
   {
    "duration": 53,
    "start_time": "2022-05-11T00:23:00.285Z"
   },
   {
    "duration": 30,
    "start_time": "2022-05-11T00:23:40.818Z"
   },
   {
    "duration": 43,
    "start_time": "2022-05-11T00:24:39.313Z"
   },
   {
    "duration": 10,
    "start_time": "2022-05-11T00:28:27.190Z"
   },
   {
    "duration": 10,
    "start_time": "2022-05-11T00:28:44.075Z"
   },
   {
    "duration": 75,
    "start_time": "2022-05-11T00:31:33.164Z"
   },
   {
    "duration": 7,
    "start_time": "2022-05-11T00:31:33.241Z"
   },
   {
    "duration": 82,
    "start_time": "2022-05-11T00:31:33.250Z"
   },
   {
    "duration": 23,
    "start_time": "2022-05-11T00:31:33.335Z"
   },
   {
    "duration": 60,
    "start_time": "2022-05-11T00:31:33.360Z"
   },
   {
    "duration": 12,
    "start_time": "2022-05-11T00:31:33.421Z"
   },
   {
    "duration": 75,
    "start_time": "2022-05-11T00:31:33.434Z"
   },
   {
    "duration": 3,
    "start_time": "2022-05-11T00:31:33.511Z"
   },
   {
    "duration": 29,
    "start_time": "2022-05-11T00:31:33.515Z"
   },
   {
    "duration": 9,
    "start_time": "2022-05-11T00:31:33.546Z"
   },
   {
    "duration": 134,
    "start_time": "2022-05-11T00:31:33.556Z"
   },
   {
    "duration": 11,
    "start_time": "2022-05-11T00:31:33.692Z"
   },
   {
    "duration": 115,
    "start_time": "2022-05-11T00:31:33.705Z"
   },
   {
    "duration": 3,
    "start_time": "2022-05-11T00:31:33.822Z"
   },
   {
    "duration": 7,
    "start_time": "2022-05-11T00:31:33.826Z"
   },
   {
    "duration": 145,
    "start_time": "2022-05-11T00:31:33.835Z"
   },
   {
    "duration": 4,
    "start_time": "2022-05-11T00:31:33.981Z"
   },
   {
    "duration": 14,
    "start_time": "2022-05-11T00:31:33.987Z"
   },
   {
    "duration": 131,
    "start_time": "2022-05-11T00:31:34.002Z"
   },
   {
    "duration": 123,
    "start_time": "2022-05-11T00:31:34.134Z"
   },
   {
    "duration": 3,
    "start_time": "2022-05-11T00:31:34.259Z"
   },
   {
    "duration": 5,
    "start_time": "2022-05-11T00:31:34.263Z"
   },
   {
    "duration": 38,
    "start_time": "2022-05-11T00:31:34.269Z"
   },
   {
    "duration": 4,
    "start_time": "2022-05-11T00:31:34.308Z"
   },
   {
    "duration": 7,
    "start_time": "2022-05-11T00:31:34.313Z"
   },
   {
    "duration": 5,
    "start_time": "2022-05-11T00:31:34.321Z"
   },
   {
    "duration": 133,
    "start_time": "2022-05-11T00:31:34.327Z"
   },
   {
    "duration": 4,
    "start_time": "2022-05-11T00:31:34.464Z"
   },
   {
    "duration": 113,
    "start_time": "2022-05-11T00:31:34.469Z"
   },
   {
    "duration": 31,
    "start_time": "2022-05-11T00:31:34.583Z"
   },
   {
    "duration": 3,
    "start_time": "2022-05-11T00:31:34.616Z"
   },
   {
    "duration": 6,
    "start_time": "2022-05-11T00:31:34.621Z"
   },
   {
    "duration": 6,
    "start_time": "2022-05-11T00:31:34.628Z"
   },
   {
    "duration": 8,
    "start_time": "2022-05-11T00:31:34.635Z"
   },
   {
    "duration": 5,
    "start_time": "2022-05-11T00:31:34.644Z"
   },
   {
    "duration": 5,
    "start_time": "2022-05-11T00:31:34.650Z"
   },
   {
    "duration": 4,
    "start_time": "2022-05-11T00:31:34.656Z"
   },
   {
    "duration": 8,
    "start_time": "2022-05-11T00:31:34.662Z"
   },
   {
    "duration": 39,
    "start_time": "2022-05-11T00:31:34.671Z"
   },
   {
    "duration": 7,
    "start_time": "2022-05-11T00:31:34.711Z"
   },
   {
    "duration": 25,
    "start_time": "2022-05-11T00:31:34.719Z"
   },
   {
    "duration": 21,
    "start_time": "2022-05-11T00:31:34.745Z"
   },
   {
    "duration": 38,
    "start_time": "2022-05-11T00:31:34.767Z"
   },
   {
    "duration": 50,
    "start_time": "2022-05-11T00:31:34.807Z"
   },
   {
    "duration": 58,
    "start_time": "2022-05-11T00:31:34.858Z"
   },
   {
    "duration": 486,
    "start_time": "2022-05-11T00:33:36.592Z"
   },
   {
    "duration": 13,
    "start_time": "2022-05-11T00:33:37.080Z"
   },
   {
    "duration": 68,
    "start_time": "2022-05-11T00:33:37.094Z"
   },
   {
    "duration": 21,
    "start_time": "2022-05-11T00:33:37.165Z"
   },
   {
    "duration": 45,
    "start_time": "2022-05-11T00:33:37.188Z"
   },
   {
    "duration": 13,
    "start_time": "2022-05-11T00:33:37.235Z"
   },
   {
    "duration": 84,
    "start_time": "2022-05-11T00:33:37.250Z"
   },
   {
    "duration": 3,
    "start_time": "2022-05-11T00:33:37.336Z"
   },
   {
    "duration": 25,
    "start_time": "2022-05-11T00:33:37.340Z"
   },
   {
    "duration": 9,
    "start_time": "2022-05-11T00:33:37.368Z"
   },
   {
    "duration": 391,
    "start_time": "2022-05-11T00:33:37.378Z"
   },
   {
    "duration": 6,
    "start_time": "2022-05-11T00:33:37.771Z"
   },
   {
    "duration": 117,
    "start_time": "2022-05-11T00:33:37.778Z"
   },
   {
    "duration": 3,
    "start_time": "2022-05-11T00:33:37.900Z"
   },
   {
    "duration": 14,
    "start_time": "2022-05-11T00:33:37.905Z"
   },
   {
    "duration": 134,
    "start_time": "2022-05-11T00:33:37.921Z"
   },
   {
    "duration": 3,
    "start_time": "2022-05-11T00:33:38.057Z"
   },
   {
    "duration": 4,
    "start_time": "2022-05-11T00:33:38.062Z"
   },
   {
    "duration": 137,
    "start_time": "2022-05-11T00:33:38.068Z"
   },
   {
    "duration": 129,
    "start_time": "2022-05-11T00:33:38.206Z"
   },
   {
    "duration": 3,
    "start_time": "2022-05-11T00:33:38.336Z"
   },
   {
    "duration": 14,
    "start_time": "2022-05-11T00:33:38.341Z"
   },
   {
    "duration": 38,
    "start_time": "2022-05-11T00:33:38.356Z"
   },
   {
    "duration": 4,
    "start_time": "2022-05-11T00:33:38.396Z"
   },
   {
    "duration": 8,
    "start_time": "2022-05-11T00:33:38.401Z"
   },
   {
    "duration": 4,
    "start_time": "2022-05-11T00:33:38.410Z"
   },
   {
    "duration": 173,
    "start_time": "2022-05-11T00:33:38.416Z"
   },
   {
    "duration": 4,
    "start_time": "2022-05-11T00:33:38.599Z"
   },
   {
    "duration": 114,
    "start_time": "2022-05-11T00:33:38.605Z"
   },
   {
    "duration": 23,
    "start_time": "2022-05-11T00:33:38.720Z"
   },
   {
    "duration": 4,
    "start_time": "2022-05-11T00:33:38.744Z"
   },
   {
    "duration": 11,
    "start_time": "2022-05-11T00:33:38.749Z"
   },
   {
    "duration": 5,
    "start_time": "2022-05-11T00:33:38.761Z"
   },
   {
    "duration": 6,
    "start_time": "2022-05-11T00:33:38.767Z"
   },
   {
    "duration": 8,
    "start_time": "2022-05-11T00:33:38.774Z"
   },
   {
    "duration": 3,
    "start_time": "2022-05-11T00:33:38.800Z"
   },
   {
    "duration": 6,
    "start_time": "2022-05-11T00:33:38.804Z"
   },
   {
    "duration": 10,
    "start_time": "2022-05-11T00:33:38.811Z"
   },
   {
    "duration": 13,
    "start_time": "2022-05-11T00:33:38.823Z"
   },
   {
    "duration": 7,
    "start_time": "2022-05-11T00:33:38.837Z"
   },
   {
    "duration": 25,
    "start_time": "2022-05-11T00:33:38.846Z"
   },
   {
    "duration": 47,
    "start_time": "2022-05-11T00:33:38.873Z"
   },
   {
    "duration": 17,
    "start_time": "2022-05-11T00:33:38.922Z"
   },
   {
    "duration": 69,
    "start_time": "2022-05-11T00:33:38.941Z"
   },
   {
    "duration": 44,
    "start_time": "2022-05-11T00:33:39.011Z"
   },
   {
    "duration": 3,
    "start_time": "2022-05-11T00:33:39.057Z"
   },
   {
    "duration": 14,
    "start_time": "2022-05-11T00:33:39.062Z"
   },
   {
    "duration": 37,
    "start_time": "2022-05-11T00:33:39.077Z"
   },
   {
    "duration": 11,
    "start_time": "2022-05-11T00:33:39.116Z"
   },
   {
    "duration": 21,
    "start_time": "2022-05-11T00:33:39.129Z"
   },
   {
    "duration": 5,
    "start_time": "2022-05-11T00:33:39.151Z"
   },
   {
    "duration": 44,
    "start_time": "2022-05-11T00:33:39.157Z"
   },
   {
    "duration": 27,
    "start_time": "2022-05-11T00:33:39.202Z"
   },
   {
    "duration": 115,
    "start_time": "2022-05-11T00:33:39.231Z"
   },
   {
    "duration": 199,
    "start_time": "2022-05-11T00:33:39.348Z"
   },
   {
    "duration": 120,
    "start_time": "2022-05-11T00:33:39.548Z"
   },
   {
    "duration": 211,
    "start_time": "2022-05-11T00:33:39.670Z"
   },
   {
    "duration": 98,
    "start_time": "2022-05-11T00:33:39.883Z"
   },
   {
    "duration": 137,
    "start_time": "2022-05-11T00:33:39.983Z"
   },
   {
    "duration": 105,
    "start_time": "2022-05-11T00:33:40.122Z"
   },
   {
    "duration": 197,
    "start_time": "2022-05-11T00:33:40.229Z"
   },
   {
    "duration": 7,
    "start_time": "2022-05-11T00:33:40.428Z"
   },
   {
    "duration": 112,
    "start_time": "2022-05-11T00:33:40.437Z"
   },
   {
    "duration": 202,
    "start_time": "2022-05-11T00:33:40.551Z"
   },
   {
    "duration": 154,
    "start_time": "2022-05-11T00:33:40.755Z"
   },
   {
    "duration": 17,
    "start_time": "2022-05-11T00:33:40.910Z"
   },
   {
    "duration": 207,
    "start_time": "2022-05-11T00:33:40.928Z"
   },
   {
    "duration": 20,
    "start_time": "2022-05-11T00:33:41.136Z"
   },
   {
    "duration": 6,
    "start_time": "2022-05-11T00:33:41.157Z"
   },
   {
    "duration": 170,
    "start_time": "2022-05-11T00:33:41.165Z"
   },
   {
    "duration": 12,
    "start_time": "2022-05-11T00:33:41.337Z"
   },
   {
    "duration": 10,
    "start_time": "2022-05-11T00:33:41.350Z"
   },
   {
    "duration": 11,
    "start_time": "2022-05-11T00:33:41.361Z"
   },
   {
    "duration": 30,
    "start_time": "2022-05-11T00:33:41.373Z"
   },
   {
    "duration": 7,
    "start_time": "2022-05-11T00:33:41.405Z"
   },
   {
    "duration": 26,
    "start_time": "2022-05-11T00:33:41.413Z"
   },
   {
    "duration": 16,
    "start_time": "2022-05-11T00:33:41.441Z"
   },
   {
    "duration": 42,
    "start_time": "2022-05-11T00:33:41.459Z"
   },
   {
    "duration": 9,
    "start_time": "2022-05-11T00:34:55.996Z"
   },
   {
    "duration": 9,
    "start_time": "2022-05-11T00:36:15.359Z"
   },
   {
    "duration": 19,
    "start_time": "2022-05-11T00:36:25.380Z"
   },
   {
    "duration": 28,
    "start_time": "2022-05-11T00:37:04.347Z"
   },
   {
    "duration": 43,
    "start_time": "2022-05-11T00:37:53.402Z"
   },
   {
    "duration": 459,
    "start_time": "2022-05-11T00:39:01.741Z"
   },
   {
    "duration": 12,
    "start_time": "2022-05-11T00:39:02.201Z"
   },
   {
    "duration": 95,
    "start_time": "2022-05-11T00:39:02.215Z"
   },
   {
    "duration": 22,
    "start_time": "2022-05-11T00:39:02.311Z"
   },
   {
    "duration": 77,
    "start_time": "2022-05-11T00:39:02.335Z"
   },
   {
    "duration": 12,
    "start_time": "2022-05-11T00:39:02.413Z"
   },
   {
    "duration": 74,
    "start_time": "2022-05-11T00:39:02.426Z"
   },
   {
    "duration": 3,
    "start_time": "2022-05-11T00:39:02.501Z"
   },
   {
    "duration": 39,
    "start_time": "2022-05-11T00:39:02.506Z"
   },
   {
    "duration": 12,
    "start_time": "2022-05-11T00:39:02.546Z"
   },
   {
    "duration": 415,
    "start_time": "2022-05-11T00:39:02.559Z"
   },
   {
    "duration": 6,
    "start_time": "2022-05-11T00:39:02.976Z"
   },
   {
    "duration": 121,
    "start_time": "2022-05-11T00:39:02.983Z"
   },
   {
    "duration": 3,
    "start_time": "2022-05-11T00:39:03.107Z"
   },
   {
    "duration": 12,
    "start_time": "2022-05-11T00:39:03.111Z"
   },
   {
    "duration": 134,
    "start_time": "2022-05-11T00:39:03.125Z"
   },
   {
    "duration": 5,
    "start_time": "2022-05-11T00:39:03.260Z"
   },
   {
    "duration": 5,
    "start_time": "2022-05-11T00:39:03.266Z"
   },
   {
    "duration": 150,
    "start_time": "2022-05-11T00:39:03.273Z"
   },
   {
    "duration": 145,
    "start_time": "2022-05-11T00:39:03.425Z"
   },
   {
    "duration": 4,
    "start_time": "2022-05-11T00:39:03.572Z"
   },
   {
    "duration": 5,
    "start_time": "2022-05-11T00:39:03.578Z"
   },
   {
    "duration": 25,
    "start_time": "2022-05-11T00:39:03.600Z"
   },
   {
    "duration": 4,
    "start_time": "2022-05-11T00:39:03.627Z"
   },
   {
    "duration": 12,
    "start_time": "2022-05-11T00:39:03.633Z"
   },
   {
    "duration": 4,
    "start_time": "2022-05-11T00:39:03.646Z"
   },
   {
    "duration": 184,
    "start_time": "2022-05-11T00:39:03.652Z"
   },
   {
    "duration": 4,
    "start_time": "2022-05-11T00:39:03.838Z"
   },
   {
    "duration": 119,
    "start_time": "2022-05-11T00:39:03.844Z"
   },
   {
    "duration": 23,
    "start_time": "2022-05-11T00:39:03.965Z"
   },
   {
    "duration": 13,
    "start_time": "2022-05-11T00:39:03.989Z"
   },
   {
    "duration": 6,
    "start_time": "2022-05-11T00:39:04.003Z"
   },
   {
    "duration": 5,
    "start_time": "2022-05-11T00:39:04.010Z"
   },
   {
    "duration": 5,
    "start_time": "2022-05-11T00:39:04.016Z"
   },
   {
    "duration": 4,
    "start_time": "2022-05-11T00:39:04.023Z"
   },
   {
    "duration": 3,
    "start_time": "2022-05-11T00:39:04.029Z"
   },
   {
    "duration": 6,
    "start_time": "2022-05-11T00:39:04.033Z"
   },
   {
    "duration": 10,
    "start_time": "2022-05-11T00:39:04.040Z"
   },
   {
    "duration": 12,
    "start_time": "2022-05-11T00:39:04.052Z"
   },
   {
    "duration": 39,
    "start_time": "2022-05-11T00:39:04.065Z"
   },
   {
    "duration": 22,
    "start_time": "2022-05-11T00:39:04.108Z"
   },
   {
    "duration": 20,
    "start_time": "2022-05-11T00:39:04.132Z"
   },
   {
    "duration": 16,
    "start_time": "2022-05-11T00:39:04.154Z"
   },
   {
    "duration": 71,
    "start_time": "2022-05-11T00:39:04.171Z"
   },
   {
    "duration": 41,
    "start_time": "2022-05-11T00:39:04.244Z"
   },
   {
    "duration": 16,
    "start_time": "2022-05-11T00:39:04.287Z"
   },
   {
    "duration": 17,
    "start_time": "2022-05-11T00:39:04.304Z"
   },
   {
    "duration": 21,
    "start_time": "2022-05-11T00:39:04.323Z"
   },
   {
    "duration": 12,
    "start_time": "2022-05-11T00:39:04.346Z"
   },
   {
    "duration": 42,
    "start_time": "2022-05-11T00:39:04.359Z"
   },
   {
    "duration": 5,
    "start_time": "2022-05-11T00:39:04.402Z"
   },
   {
    "duration": 26,
    "start_time": "2022-05-11T00:39:04.408Z"
   },
   {
    "duration": 27,
    "start_time": "2022-05-11T00:39:04.435Z"
   },
   {
    "duration": 110,
    "start_time": "2022-05-11T00:39:04.464Z"
   },
   {
    "duration": 206,
    "start_time": "2022-05-11T00:39:04.576Z"
   },
   {
    "duration": 118,
    "start_time": "2022-05-11T00:39:04.783Z"
   },
   {
    "duration": 213,
    "start_time": "2022-05-11T00:39:04.903Z"
   },
   {
    "duration": 108,
    "start_time": "2022-05-11T00:39:05.118Z"
   },
   {
    "duration": 121,
    "start_time": "2022-05-11T00:39:05.228Z"
   },
   {
    "duration": 102,
    "start_time": "2022-05-11T00:39:05.351Z"
   },
   {
    "duration": 191,
    "start_time": "2022-05-11T00:39:05.455Z"
   },
   {
    "duration": 8,
    "start_time": "2022-05-11T00:39:05.648Z"
   },
   {
    "duration": 111,
    "start_time": "2022-05-11T00:39:05.658Z"
   },
   {
    "duration": 202,
    "start_time": "2022-05-11T00:39:05.771Z"
   },
   {
    "duration": 158,
    "start_time": "2022-05-11T00:39:05.975Z"
   },
   {
    "duration": 19,
    "start_time": "2022-05-11T00:39:06.135Z"
   },
   {
    "duration": 214,
    "start_time": "2022-05-11T00:39:06.156Z"
   },
   {
    "duration": 29,
    "start_time": "2022-05-11T00:39:06.372Z"
   },
   {
    "duration": 8,
    "start_time": "2022-05-11T00:39:06.402Z"
   },
   {
    "duration": 178,
    "start_time": "2022-05-11T00:39:06.411Z"
   },
   {
    "duration": 17,
    "start_time": "2022-05-11T00:39:06.591Z"
   },
   {
    "duration": 11,
    "start_time": "2022-05-11T00:39:06.610Z"
   },
   {
    "duration": 11,
    "start_time": "2022-05-11T00:39:06.622Z"
   },
   {
    "duration": 10,
    "start_time": "2022-05-11T00:39:06.635Z"
   },
   {
    "duration": 7,
    "start_time": "2022-05-11T00:39:06.647Z"
   },
   {
    "duration": 56,
    "start_time": "2022-05-11T00:39:06.655Z"
   },
   {
    "duration": 28,
    "start_time": "2022-05-11T00:39:06.713Z"
   },
   {
    "duration": 18,
    "start_time": "2022-05-11T00:39:06.742Z"
   },
   {
    "duration": 72,
    "start_time": "2022-05-11T00:39:19.708Z"
   },
   {
    "duration": 28,
    "start_time": "2022-05-11T00:39:32.019Z"
   },
   {
    "duration": 42,
    "start_time": "2022-05-11T00:40:14.739Z"
   },
   {
    "duration": 7,
    "start_time": "2022-05-11T00:40:31.047Z"
   },
   {
    "duration": 6,
    "start_time": "2022-05-11T00:41:34.133Z"
   },
   {
    "duration": 6,
    "start_time": "2022-05-11T00:41:44.070Z"
   },
   {
    "duration": 41,
    "start_time": "2022-05-11T00:41:56.725Z"
   },
   {
    "duration": 14,
    "start_time": "2022-05-11T00:42:13.496Z"
   },
   {
    "duration": 16,
    "start_time": "2022-05-11T00:42:34.285Z"
   },
   {
    "duration": 40,
    "start_time": "2022-05-11T00:42:46.867Z"
   },
   {
    "duration": 2954,
    "start_time": "2022-05-11T00:43:10.563Z"
   },
   {
    "duration": 5,
    "start_time": "2022-05-11T00:43:28.571Z"
   },
   {
    "duration": 466,
    "start_time": "2022-05-11T00:43:47.226Z"
   },
   {
    "duration": 14,
    "start_time": "2022-05-11T00:43:47.693Z"
   },
   {
    "duration": 70,
    "start_time": "2022-05-11T00:43:47.709Z"
   },
   {
    "duration": 32,
    "start_time": "2022-05-11T00:43:47.781Z"
   },
   {
    "duration": 43,
    "start_time": "2022-05-11T00:43:47.815Z"
   },
   {
    "duration": 12,
    "start_time": "2022-05-11T00:43:47.859Z"
   },
   {
    "duration": 84,
    "start_time": "2022-05-11T00:43:47.873Z"
   },
   {
    "duration": 3,
    "start_time": "2022-05-11T00:43:47.959Z"
   },
   {
    "duration": 38,
    "start_time": "2022-05-11T00:43:47.963Z"
   },
   {
    "duration": 9,
    "start_time": "2022-05-11T00:43:48.003Z"
   },
   {
    "duration": 368,
    "start_time": "2022-05-11T00:43:48.013Z"
   },
   {
    "duration": 18,
    "start_time": "2022-05-11T00:43:48.382Z"
   },
   {
    "duration": 115,
    "start_time": "2022-05-11T00:43:48.401Z"
   },
   {
    "duration": 3,
    "start_time": "2022-05-11T00:43:48.517Z"
   },
   {
    "duration": 5,
    "start_time": "2022-05-11T00:43:48.521Z"
   },
   {
    "duration": 139,
    "start_time": "2022-05-11T00:43:48.527Z"
   },
   {
    "duration": 3,
    "start_time": "2022-05-11T00:43:48.668Z"
   },
   {
    "duration": 4,
    "start_time": "2022-05-11T00:43:48.673Z"
   },
   {
    "duration": 146,
    "start_time": "2022-05-11T00:43:48.678Z"
   },
   {
    "duration": 131,
    "start_time": "2022-05-11T00:43:48.826Z"
   },
   {
    "duration": 4,
    "start_time": "2022-05-11T00:43:48.958Z"
   },
   {
    "duration": 8,
    "start_time": "2022-05-11T00:43:48.963Z"
   },
   {
    "duration": 37,
    "start_time": "2022-05-11T00:43:48.972Z"
   },
   {
    "duration": 5,
    "start_time": "2022-05-11T00:43:49.010Z"
   },
   {
    "duration": 10,
    "start_time": "2022-05-11T00:43:49.016Z"
   },
   {
    "duration": 15,
    "start_time": "2022-05-11T00:43:49.027Z"
   },
   {
    "duration": 169,
    "start_time": "2022-05-11T00:43:49.044Z"
   },
   {
    "duration": 4,
    "start_time": "2022-05-11T00:43:49.217Z"
   },
   {
    "duration": 112,
    "start_time": "2022-05-11T00:43:49.223Z"
   },
   {
    "duration": 22,
    "start_time": "2022-05-11T00:43:49.336Z"
   },
   {
    "duration": 4,
    "start_time": "2022-05-11T00:43:49.359Z"
   },
   {
    "duration": 5,
    "start_time": "2022-05-11T00:43:49.365Z"
   },
   {
    "duration": 4,
    "start_time": "2022-05-11T00:43:49.372Z"
   },
   {
    "duration": 23,
    "start_time": "2022-05-11T00:43:49.377Z"
   },
   {
    "duration": 9,
    "start_time": "2022-05-11T00:43:49.401Z"
   },
   {
    "duration": 19,
    "start_time": "2022-05-11T00:43:49.411Z"
   },
   {
    "duration": 9,
    "start_time": "2022-05-11T00:43:49.432Z"
   },
   {
    "duration": 11,
    "start_time": "2022-05-11T00:43:49.442Z"
   },
   {
    "duration": 12,
    "start_time": "2022-05-11T00:43:49.454Z"
   },
   {
    "duration": 7,
    "start_time": "2022-05-11T00:43:49.467Z"
   },
   {
    "duration": 22,
    "start_time": "2022-05-11T00:43:49.475Z"
   },
   {
    "duration": 21,
    "start_time": "2022-05-11T00:43:49.500Z"
   },
   {
    "duration": 16,
    "start_time": "2022-05-11T00:43:49.522Z"
   },
   {
    "duration": 70,
    "start_time": "2022-05-11T00:43:49.539Z"
   },
   {
    "duration": 48,
    "start_time": "2022-05-11T00:43:49.610Z"
   },
   {
    "duration": 7,
    "start_time": "2022-05-11T00:43:49.659Z"
   },
   {
    "duration": 3,
    "start_time": "2022-05-11T00:43:49.668Z"
   },
   {
    "duration": 34,
    "start_time": "2022-05-11T00:43:49.673Z"
   },
   {
    "duration": 21,
    "start_time": "2022-05-11T00:43:49.708Z"
   },
   {
    "duration": 11,
    "start_time": "2022-05-11T00:43:49.730Z"
   },
   {
    "duration": 20,
    "start_time": "2022-05-11T00:43:49.743Z"
   },
   {
    "duration": 4,
    "start_time": "2022-05-11T00:43:49.765Z"
   },
   {
    "duration": 47,
    "start_time": "2022-05-11T00:43:49.770Z"
   },
   {
    "duration": 26,
    "start_time": "2022-05-11T00:43:49.819Z"
   },
   {
    "duration": 113,
    "start_time": "2022-05-11T00:43:49.847Z"
   },
   {
    "duration": 200,
    "start_time": "2022-05-11T00:43:49.961Z"
   },
   {
    "duration": 112,
    "start_time": "2022-05-11T00:43:50.163Z"
   },
   {
    "duration": 213,
    "start_time": "2022-05-11T00:43:50.277Z"
   },
   {
    "duration": 90,
    "start_time": "2022-05-11T00:43:50.492Z"
   },
   {
    "duration": 125,
    "start_time": "2022-05-11T00:43:50.584Z"
   },
   {
    "duration": 96,
    "start_time": "2022-05-11T00:43:50.711Z"
   },
   {
    "duration": 180,
    "start_time": "2022-05-11T00:43:50.809Z"
   },
   {
    "duration": 14,
    "start_time": "2022-05-11T00:43:50.991Z"
   },
   {
    "duration": 105,
    "start_time": "2022-05-11T00:43:51.006Z"
   },
   {
    "duration": 204,
    "start_time": "2022-05-11T00:43:51.112Z"
   },
   {
    "duration": 164,
    "start_time": "2022-05-11T00:43:51.318Z"
   },
   {
    "duration": 23,
    "start_time": "2022-05-11T00:43:51.484Z"
   },
   {
    "duration": 163,
    "start_time": "2022-05-11T00:43:51.509Z"
   },
   {
    "duration": 34,
    "start_time": "2022-05-11T00:43:51.674Z"
   },
   {
    "duration": 7,
    "start_time": "2022-05-11T00:43:51.710Z"
   },
   {
    "duration": 180,
    "start_time": "2022-05-11T00:43:51.718Z"
   },
   {
    "duration": 14,
    "start_time": "2022-05-11T00:43:51.900Z"
   },
   {
    "duration": 11,
    "start_time": "2022-05-11T00:43:51.915Z"
   },
   {
    "duration": 11,
    "start_time": "2022-05-11T00:43:51.928Z"
   },
   {
    "duration": 10,
    "start_time": "2022-05-11T00:43:51.940Z"
   },
   {
    "duration": 7,
    "start_time": "2022-05-11T00:43:51.952Z"
   },
   {
    "duration": 59,
    "start_time": "2022-05-11T00:43:51.960Z"
   },
   {
    "duration": 28,
    "start_time": "2022-05-11T00:43:52.020Z"
   },
   {
    "duration": 14,
    "start_time": "2022-05-11T00:43:52.050Z"
   },
   {
    "duration": 62,
    "start_time": "2022-05-11T00:43:52.065Z"
   },
   {
    "duration": 429,
    "start_time": "2022-05-11T00:44:12.547Z"
   },
   {
    "duration": 11,
    "start_time": "2022-05-11T00:44:12.978Z"
   },
   {
    "duration": 67,
    "start_time": "2022-05-11T00:44:12.990Z"
   },
   {
    "duration": 20,
    "start_time": "2022-05-11T00:44:13.059Z"
   },
   {
    "duration": 49,
    "start_time": "2022-05-11T00:44:13.080Z"
   },
   {
    "duration": 11,
    "start_time": "2022-05-11T00:44:13.131Z"
   },
   {
    "duration": 75,
    "start_time": "2022-05-11T00:44:13.143Z"
   },
   {
    "duration": 2,
    "start_time": "2022-05-11T00:44:13.220Z"
   },
   {
    "duration": 21,
    "start_time": "2022-05-11T00:44:13.224Z"
   },
   {
    "duration": 11,
    "start_time": "2022-05-11T00:44:13.247Z"
   },
   {
    "duration": 388,
    "start_time": "2022-05-11T00:44:13.260Z"
   },
   {
    "duration": 5,
    "start_time": "2022-05-11T00:44:13.650Z"
   },
   {
    "duration": 116,
    "start_time": "2022-05-11T00:44:13.657Z"
   },
   {
    "duration": 3,
    "start_time": "2022-05-11T00:44:13.775Z"
   },
   {
    "duration": 14,
    "start_time": "2022-05-11T00:44:13.779Z"
   },
   {
    "duration": 134,
    "start_time": "2022-05-11T00:44:13.794Z"
   },
   {
    "duration": 4,
    "start_time": "2022-05-11T00:44:13.929Z"
   },
   {
    "duration": 5,
    "start_time": "2022-05-11T00:44:13.934Z"
   },
   {
    "duration": 140,
    "start_time": "2022-05-11T00:44:13.940Z"
   },
   {
    "duration": 130,
    "start_time": "2022-05-11T00:44:14.082Z"
   },
   {
    "duration": 3,
    "start_time": "2022-05-11T00:44:14.213Z"
   },
   {
    "duration": 6,
    "start_time": "2022-05-11T00:44:14.218Z"
   },
   {
    "duration": 26,
    "start_time": "2022-05-11T00:44:14.225Z"
   },
   {
    "duration": 4,
    "start_time": "2022-05-11T00:44:14.252Z"
   },
   {
    "duration": 13,
    "start_time": "2022-05-11T00:44:14.257Z"
   },
   {
    "duration": 4,
    "start_time": "2022-05-11T00:44:14.272Z"
   },
   {
    "duration": 191,
    "start_time": "2022-05-11T00:44:14.278Z"
   },
   {
    "duration": 4,
    "start_time": "2022-05-11T00:44:14.473Z"
   },
   {
    "duration": 109,
    "start_time": "2022-05-11T00:44:14.478Z"
   },
   {
    "duration": 33,
    "start_time": "2022-05-11T00:44:14.588Z"
   },
   {
    "duration": 3,
    "start_time": "2022-05-11T00:44:14.623Z"
   },
   {
    "duration": 5,
    "start_time": "2022-05-11T00:44:14.628Z"
   },
   {
    "duration": 6,
    "start_time": "2022-05-11T00:44:14.634Z"
   },
   {
    "duration": 7,
    "start_time": "2022-05-11T00:44:14.641Z"
   },
   {
    "duration": 4,
    "start_time": "2022-05-11T00:44:14.650Z"
   },
   {
    "duration": 9,
    "start_time": "2022-05-11T00:44:14.655Z"
   },
   {
    "duration": 4,
    "start_time": "2022-05-11T00:44:14.665Z"
   },
   {
    "duration": 39,
    "start_time": "2022-05-11T00:44:14.670Z"
   },
   {
    "duration": 13,
    "start_time": "2022-05-11T00:44:14.711Z"
   },
   {
    "duration": 7,
    "start_time": "2022-05-11T00:44:14.725Z"
   },
   {
    "duration": 24,
    "start_time": "2022-05-11T00:44:14.734Z"
   },
   {
    "duration": 6,
    "start_time": "2022-05-11T00:44:14.759Z"
   },
   {
    "duration": 46,
    "start_time": "2022-05-11T00:44:14.766Z"
   },
   {
    "duration": 16,
    "start_time": "2022-05-11T00:44:14.813Z"
   },
   {
    "duration": 50,
    "start_time": "2022-05-11T00:44:14.831Z"
   },
   {
    "duration": 61,
    "start_time": "2022-05-11T00:44:14.882Z"
   },
   {
    "duration": 3,
    "start_time": "2022-05-11T00:44:14.945Z"
   },
   {
    "duration": 18,
    "start_time": "2022-05-11T00:44:14.949Z"
   },
   {
    "duration": 33,
    "start_time": "2022-05-11T00:44:14.968Z"
   },
   {
    "duration": 12,
    "start_time": "2022-05-11T00:44:15.002Z"
   },
   {
    "duration": 21,
    "start_time": "2022-05-11T00:44:15.016Z"
   },
   {
    "duration": 6,
    "start_time": "2022-05-11T00:44:15.039Z"
   },
   {
    "duration": 25,
    "start_time": "2022-05-11T00:44:15.047Z"
   },
   {
    "duration": 47,
    "start_time": "2022-05-11T00:44:15.073Z"
   },
   {
    "duration": 108,
    "start_time": "2022-05-11T00:44:15.122Z"
   },
   {
    "duration": 197,
    "start_time": "2022-05-11T00:44:15.231Z"
   },
   {
    "duration": 115,
    "start_time": "2022-05-11T00:44:15.430Z"
   },
   {
    "duration": 209,
    "start_time": "2022-05-11T00:44:15.547Z"
   },
   {
    "duration": 98,
    "start_time": "2022-05-11T00:44:15.758Z"
   },
   {
    "duration": 123,
    "start_time": "2022-05-11T00:44:15.858Z"
   },
   {
    "duration": 99,
    "start_time": "2022-05-11T00:44:15.982Z"
   },
   {
    "duration": 207,
    "start_time": "2022-05-11T00:44:16.083Z"
   },
   {
    "duration": 13,
    "start_time": "2022-05-11T00:44:16.292Z"
   },
   {
    "duration": 110,
    "start_time": "2022-05-11T00:44:16.307Z"
   },
   {
    "duration": 214,
    "start_time": "2022-05-11T00:44:16.419Z"
   },
   {
    "duration": 201,
    "start_time": "2022-05-11T00:44:16.635Z"
   },
   {
    "duration": 68,
    "start_time": "2022-05-11T00:44:16.838Z"
   },
   {
    "duration": 415,
    "start_time": "2022-05-11T00:44:16.907Z"
   },
   {
    "duration": 78,
    "start_time": "2022-05-11T00:44:17.323Z"
   },
   {
    "duration": 7,
    "start_time": "2022-05-11T00:44:17.402Z"
   },
   {
    "duration": 317,
    "start_time": "2022-05-11T00:44:17.410Z"
   },
   {
    "duration": 13,
    "start_time": "2022-05-11T00:44:17.729Z"
   },
   {
    "duration": 66,
    "start_time": "2022-05-11T00:44:17.744Z"
   },
   {
    "duration": 11,
    "start_time": "2022-05-11T00:44:17.811Z"
   },
   {
    "duration": 11,
    "start_time": "2022-05-11T00:44:17.823Z"
   },
   {
    "duration": 66,
    "start_time": "2022-05-11T00:44:17.835Z"
   },
   {
    "duration": 42,
    "start_time": "2022-05-11T00:44:17.904Z"
   },
   {
    "duration": 93,
    "start_time": "2022-05-11T00:44:17.947Z"
   },
   {
    "duration": 67,
    "start_time": "2022-05-11T00:44:18.042Z"
   },
   {
    "duration": 115,
    "start_time": "2022-05-11T00:44:18.111Z"
   },
   {
    "duration": 476,
    "start_time": "2022-05-11T00:45:16.502Z"
   },
   {
    "duration": 13,
    "start_time": "2022-05-11T00:45:16.979Z"
   },
   {
    "duration": 74,
    "start_time": "2022-05-11T00:45:16.994Z"
   },
   {
    "duration": 31,
    "start_time": "2022-05-11T00:45:17.070Z"
   },
   {
    "duration": 42,
    "start_time": "2022-05-11T00:45:17.103Z"
   },
   {
    "duration": 12,
    "start_time": "2022-05-11T00:45:17.147Z"
   },
   {
    "duration": 82,
    "start_time": "2022-05-11T00:45:17.161Z"
   },
   {
    "duration": 3,
    "start_time": "2022-05-11T00:45:17.244Z"
   },
   {
    "duration": 25,
    "start_time": "2022-05-11T00:45:17.249Z"
   },
   {
    "duration": 24,
    "start_time": "2022-05-11T00:45:17.277Z"
   },
   {
    "duration": 388,
    "start_time": "2022-05-11T00:45:17.303Z"
   },
   {
    "duration": 11,
    "start_time": "2022-05-11T00:45:17.692Z"
   },
   {
    "duration": 118,
    "start_time": "2022-05-11T00:45:17.704Z"
   },
   {
    "duration": 3,
    "start_time": "2022-05-11T00:45:17.823Z"
   },
   {
    "duration": 11,
    "start_time": "2022-05-11T00:45:17.827Z"
   },
   {
    "duration": 139,
    "start_time": "2022-05-11T00:45:17.839Z"
   },
   {
    "duration": 3,
    "start_time": "2022-05-11T00:45:17.980Z"
   },
   {
    "duration": 4,
    "start_time": "2022-05-11T00:45:17.985Z"
   },
   {
    "duration": 127,
    "start_time": "2022-05-11T00:45:18.000Z"
   },
   {
    "duration": 133,
    "start_time": "2022-05-11T00:45:18.129Z"
   },
   {
    "duration": 3,
    "start_time": "2022-05-11T00:45:18.264Z"
   },
   {
    "duration": 5,
    "start_time": "2022-05-11T00:45:18.269Z"
   },
   {
    "duration": 40,
    "start_time": "2022-05-11T00:45:18.275Z"
   },
   {
    "duration": 4,
    "start_time": "2022-05-11T00:45:18.316Z"
   },
   {
    "duration": 8,
    "start_time": "2022-05-11T00:45:18.322Z"
   },
   {
    "duration": 6,
    "start_time": "2022-05-11T00:45:18.332Z"
   },
   {
    "duration": 174,
    "start_time": "2022-05-11T00:45:18.339Z"
   },
   {
    "duration": 4,
    "start_time": "2022-05-11T00:45:18.517Z"
   },
   {
    "duration": 113,
    "start_time": "2022-05-11T00:45:18.522Z"
   },
   {
    "duration": 22,
    "start_time": "2022-05-11T00:45:18.636Z"
   },
   {
    "duration": 3,
    "start_time": "2022-05-11T00:45:18.660Z"
   },
   {
    "duration": 5,
    "start_time": "2022-05-11T00:45:18.665Z"
   },
   {
    "duration": 4,
    "start_time": "2022-05-11T00:45:18.671Z"
   },
   {
    "duration": 23,
    "start_time": "2022-05-11T00:45:18.677Z"
   },
   {
    "duration": 5,
    "start_time": "2022-05-11T00:45:18.702Z"
   },
   {
    "duration": 4,
    "start_time": "2022-05-11T00:45:18.708Z"
   },
   {
    "duration": 5,
    "start_time": "2022-05-11T00:45:18.714Z"
   },
   {
    "duration": 10,
    "start_time": "2022-05-11T00:45:18.720Z"
   },
   {
    "duration": 9,
    "start_time": "2022-05-11T00:45:18.731Z"
   },
   {
    "duration": 12,
    "start_time": "2022-05-11T00:45:18.741Z"
   },
   {
    "duration": 6,
    "start_time": "2022-05-11T00:45:18.755Z"
   },
   {
    "duration": 56,
    "start_time": "2022-05-11T00:45:18.762Z"
   },
   {
    "duration": 6,
    "start_time": "2022-05-11T00:45:18.819Z"
   },
   {
    "duration": 21,
    "start_time": "2022-05-11T00:45:18.826Z"
   },
   {
    "duration": 16,
    "start_time": "2022-05-11T00:45:18.848Z"
   },
   {
    "duration": 71,
    "start_time": "2022-05-11T00:45:18.866Z"
   },
   {
    "duration": 42,
    "start_time": "2022-05-11T00:45:18.939Z"
   },
   {
    "duration": 17,
    "start_time": "2022-05-11T00:45:18.983Z"
   },
   {
    "duration": 14,
    "start_time": "2022-05-11T00:45:19.001Z"
   },
   {
    "duration": 20,
    "start_time": "2022-05-11T00:45:19.017Z"
   },
   {
    "duration": 12,
    "start_time": "2022-05-11T00:45:19.039Z"
   },
   {
    "duration": 23,
    "start_time": "2022-05-11T00:45:19.052Z"
   },
   {
    "duration": 5,
    "start_time": "2022-05-11T00:45:19.100Z"
   },
   {
    "duration": 25,
    "start_time": "2022-05-11T00:45:19.106Z"
   },
   {
    "duration": 25,
    "start_time": "2022-05-11T00:45:19.132Z"
   },
   {
    "duration": 117,
    "start_time": "2022-05-11T00:45:19.158Z"
   },
   {
    "duration": 199,
    "start_time": "2022-05-11T00:45:19.277Z"
   },
   {
    "duration": 110,
    "start_time": "2022-05-11T00:45:19.478Z"
   },
   {
    "duration": 207,
    "start_time": "2022-05-11T00:45:19.589Z"
   },
   {
    "duration": 88,
    "start_time": "2022-05-11T00:45:19.800Z"
   },
   {
    "duration": 121,
    "start_time": "2022-05-11T00:45:19.901Z"
   },
   {
    "duration": 102,
    "start_time": "2022-05-11T00:45:20.024Z"
   },
   {
    "duration": 191,
    "start_time": "2022-05-11T00:45:20.127Z"
   },
   {
    "duration": 8,
    "start_time": "2022-05-11T00:45:20.320Z"
   },
   {
    "duration": 119,
    "start_time": "2022-05-11T00:45:20.329Z"
   },
   {
    "duration": 197,
    "start_time": "2022-05-11T00:45:20.450Z"
   },
   {
    "duration": 158,
    "start_time": "2022-05-11T00:45:20.648Z"
   },
   {
    "duration": 17,
    "start_time": "2022-05-11T00:45:20.808Z"
   },
   {
    "duration": 212,
    "start_time": "2022-05-11T00:45:20.827Z"
   },
   {
    "duration": 21,
    "start_time": "2022-05-11T00:45:21.040Z"
   },
   {
    "duration": 6,
    "start_time": "2022-05-11T00:45:21.062Z"
   },
   {
    "duration": 177,
    "start_time": "2022-05-11T00:45:21.070Z"
   },
   {
    "duration": 13,
    "start_time": "2022-05-11T00:45:21.249Z"
   },
   {
    "duration": 10,
    "start_time": "2022-05-11T00:45:21.263Z"
   },
   {
    "duration": 31,
    "start_time": "2022-05-11T00:45:21.275Z"
   },
   {
    "duration": 11,
    "start_time": "2022-05-11T00:45:21.308Z"
   },
   {
    "duration": 7,
    "start_time": "2022-05-11T00:45:21.320Z"
   },
   {
    "duration": 25,
    "start_time": "2022-05-11T00:45:21.328Z"
   },
   {
    "duration": 52,
    "start_time": "2022-05-11T00:45:21.354Z"
   },
   {
    "duration": 14,
    "start_time": "2022-05-11T00:45:21.407Z"
   },
   {
    "duration": 39,
    "start_time": "2022-05-11T00:45:21.422Z"
   },
   {
    "duration": 69,
    "start_time": "2022-05-11T00:46:51.748Z"
   },
   {
    "duration": 7,
    "start_time": "2022-05-11T00:46:51.819Z"
   },
   {
    "duration": 85,
    "start_time": "2022-05-11T00:46:51.827Z"
   },
   {
    "duration": 23,
    "start_time": "2022-05-11T00:46:51.913Z"
   },
   {
    "duration": 41,
    "start_time": "2022-05-11T00:46:51.938Z"
   },
   {
    "duration": 11,
    "start_time": "2022-05-11T00:46:52.000Z"
   },
   {
    "duration": 61,
    "start_time": "2022-05-11T00:46:52.013Z"
   },
   {
    "duration": 3,
    "start_time": "2022-05-11T00:46:52.076Z"
   },
   {
    "duration": 23,
    "start_time": "2022-05-11T00:46:52.100Z"
   },
   {
    "duration": 9,
    "start_time": "2022-05-11T00:46:52.125Z"
   },
   {
    "duration": 132,
    "start_time": "2022-05-11T00:46:52.135Z"
   },
   {
    "duration": 6,
    "start_time": "2022-05-11T00:46:52.269Z"
   },
   {
    "duration": 125,
    "start_time": "2022-05-11T00:46:52.277Z"
   },
   {
    "duration": 4,
    "start_time": "2022-05-11T00:46:52.404Z"
   },
   {
    "duration": 6,
    "start_time": "2022-05-11T00:46:52.409Z"
   },
   {
    "duration": 216,
    "start_time": "2022-05-11T00:46:52.416Z"
   },
   {
    "duration": 4,
    "start_time": "2022-05-11T00:46:52.634Z"
   },
   {
    "duration": 5,
    "start_time": "2022-05-11T00:46:52.639Z"
   },
   {
    "duration": 139,
    "start_time": "2022-05-11T00:46:52.646Z"
   },
   {
    "duration": 155,
    "start_time": "2022-05-11T00:46:52.787Z"
   },
   {
    "duration": 4,
    "start_time": "2022-05-11T00:46:52.943Z"
   },
   {
    "duration": 6,
    "start_time": "2022-05-11T00:46:52.948Z"
   },
   {
    "duration": 26,
    "start_time": "2022-05-11T00:46:52.956Z"
   },
   {
    "duration": 21,
    "start_time": "2022-05-11T00:46:52.983Z"
   },
   {
    "duration": 7,
    "start_time": "2022-05-11T00:46:53.005Z"
   },
   {
    "duration": 6,
    "start_time": "2022-05-11T00:46:53.014Z"
   },
   {
    "duration": 141,
    "start_time": "2022-05-11T00:46:53.022Z"
   },
   {
    "duration": 4,
    "start_time": "2022-05-11T00:46:53.165Z"
   },
   {
    "duration": 118,
    "start_time": "2022-05-11T00:46:53.171Z"
   },
   {
    "duration": 27,
    "start_time": "2022-05-11T00:46:53.291Z"
   },
   {
    "duration": 4,
    "start_time": "2022-05-11T00:46:53.319Z"
   },
   {
    "duration": 6,
    "start_time": "2022-05-11T00:46:53.324Z"
   },
   {
    "duration": 5,
    "start_time": "2022-05-11T00:46:53.331Z"
   },
   {
    "duration": 8,
    "start_time": "2022-05-11T00:46:53.337Z"
   },
   {
    "duration": 4,
    "start_time": "2022-05-11T00:46:53.346Z"
   },
   {
    "duration": 5,
    "start_time": "2022-05-11T00:46:53.351Z"
   },
   {
    "duration": 4,
    "start_time": "2022-05-11T00:46:53.358Z"
   },
   {
    "duration": 41,
    "start_time": "2022-05-11T00:46:53.364Z"
   },
   {
    "duration": 14,
    "start_time": "2022-05-11T00:46:53.406Z"
   },
   {
    "duration": 6,
    "start_time": "2022-05-11T00:46:53.422Z"
   },
   {
    "duration": 23,
    "start_time": "2022-05-11T00:46:53.432Z"
   },
   {
    "duration": 7,
    "start_time": "2022-05-11T00:46:53.456Z"
   },
   {
    "duration": 6,
    "start_time": "2022-05-11T00:48:22.956Z"
   },
   {
    "duration": 4,
    "start_time": "2022-05-11T00:48:25.122Z"
   },
   {
    "duration": 7,
    "start_time": "2022-05-11T00:48:37.793Z"
   },
   {
    "duration": 4,
    "start_time": "2022-05-11T00:48:39.288Z"
   },
   {
    "duration": 71,
    "start_time": "2022-05-11T00:48:52.534Z"
   },
   {
    "duration": 6,
    "start_time": "2022-05-11T00:48:52.607Z"
   },
   {
    "duration": 67,
    "start_time": "2022-05-11T00:48:52.614Z"
   },
   {
    "duration": 34,
    "start_time": "2022-05-11T00:48:52.684Z"
   },
   {
    "duration": 40,
    "start_time": "2022-05-11T00:48:52.719Z"
   },
   {
    "duration": 11,
    "start_time": "2022-05-11T00:48:52.760Z"
   },
   {
    "duration": 78,
    "start_time": "2022-05-11T00:48:52.772Z"
   },
   {
    "duration": 3,
    "start_time": "2022-05-11T00:48:52.852Z"
   },
   {
    "duration": 28,
    "start_time": "2022-05-11T00:48:52.857Z"
   },
   {
    "duration": 9,
    "start_time": "2022-05-11T00:48:52.901Z"
   },
   {
    "duration": 119,
    "start_time": "2022-05-11T00:48:52.911Z"
   },
   {
    "duration": 5,
    "start_time": "2022-05-11T00:48:53.032Z"
   },
   {
    "duration": 117,
    "start_time": "2022-05-11T00:48:53.038Z"
   },
   {
    "duration": 3,
    "start_time": "2022-05-11T00:48:53.156Z"
   },
   {
    "duration": 6,
    "start_time": "2022-05-11T00:48:53.160Z"
   },
   {
    "duration": 146,
    "start_time": "2022-05-11T00:48:53.167Z"
   },
   {
    "duration": 4,
    "start_time": "2022-05-11T00:48:53.315Z"
   },
   {
    "duration": 4,
    "start_time": "2022-05-11T00:48:53.320Z"
   },
   {
    "duration": 139,
    "start_time": "2022-05-11T00:48:53.326Z"
   },
   {
    "duration": 133,
    "start_time": "2022-05-11T00:48:53.467Z"
   },
   {
    "duration": 3,
    "start_time": "2022-05-11T00:48:53.602Z"
   },
   {
    "duration": 5,
    "start_time": "2022-05-11T00:48:53.606Z"
   },
   {
    "duration": 26,
    "start_time": "2022-05-11T00:48:53.613Z"
   },
   {
    "duration": 3,
    "start_time": "2022-05-11T00:48:53.641Z"
   },
   {
    "duration": 8,
    "start_time": "2022-05-11T00:48:53.645Z"
   },
   {
    "duration": 4,
    "start_time": "2022-05-11T00:48:53.654Z"
   },
   {
    "duration": 144,
    "start_time": "2022-05-11T00:48:53.659Z"
   },
   {
    "duration": 4,
    "start_time": "2022-05-11T00:48:53.806Z"
   },
   {
    "duration": 108,
    "start_time": "2022-05-11T00:48:53.811Z"
   },
   {
    "duration": 24,
    "start_time": "2022-05-11T00:48:53.921Z"
   },
   {
    "duration": 4,
    "start_time": "2022-05-11T00:48:53.946Z"
   },
   {
    "duration": 7,
    "start_time": "2022-05-11T00:48:53.951Z"
   },
   {
    "duration": 5,
    "start_time": "2022-05-11T00:48:53.959Z"
   },
   {
    "duration": 7,
    "start_time": "2022-05-11T00:48:53.966Z"
   },
   {
    "duration": 5,
    "start_time": "2022-05-11T00:48:53.999Z"
   },
   {
    "duration": 72,
    "start_time": "2022-05-11T00:49:06.462Z"
   },
   {
    "duration": 6,
    "start_time": "2022-05-11T00:49:06.536Z"
   },
   {
    "duration": 83,
    "start_time": "2022-05-11T00:49:06.544Z"
   },
   {
    "duration": 22,
    "start_time": "2022-05-11T00:49:06.629Z"
   },
   {
    "duration": 58,
    "start_time": "2022-05-11T00:49:06.652Z"
   },
   {
    "duration": 12,
    "start_time": "2022-05-11T00:49:06.712Z"
   },
   {
    "duration": 78,
    "start_time": "2022-05-11T00:49:06.726Z"
   },
   {
    "duration": 3,
    "start_time": "2022-05-11T00:49:06.806Z"
   },
   {
    "duration": 25,
    "start_time": "2022-05-11T00:49:06.811Z"
   },
   {
    "duration": 8,
    "start_time": "2022-05-11T00:49:06.839Z"
   },
   {
    "duration": 120,
    "start_time": "2022-05-11T00:49:06.848Z"
   },
   {
    "duration": 6,
    "start_time": "2022-05-11T00:49:06.969Z"
   },
   {
    "duration": 229,
    "start_time": "2022-05-11T00:49:06.977Z"
   },
   {
    "duration": 3,
    "start_time": "2022-05-11T00:49:07.208Z"
   },
   {
    "duration": 6,
    "start_time": "2022-05-11T00:49:07.212Z"
   },
   {
    "duration": 140,
    "start_time": "2022-05-11T00:49:07.220Z"
   },
   {
    "duration": 4,
    "start_time": "2022-05-11T00:49:07.362Z"
   },
   {
    "duration": 8,
    "start_time": "2022-05-11T00:49:07.367Z"
   },
   {
    "duration": 135,
    "start_time": "2022-05-11T00:49:07.376Z"
   },
   {
    "duration": 127,
    "start_time": "2022-05-11T00:49:07.513Z"
   },
   {
    "duration": 4,
    "start_time": "2022-05-11T00:49:07.641Z"
   },
   {
    "duration": 8,
    "start_time": "2022-05-11T00:49:07.646Z"
   },
   {
    "duration": 26,
    "start_time": "2022-05-11T00:49:07.655Z"
   },
   {
    "duration": 18,
    "start_time": "2022-05-11T00:49:07.682Z"
   },
   {
    "duration": 7,
    "start_time": "2022-05-11T00:49:07.701Z"
   },
   {
    "duration": 4,
    "start_time": "2022-05-11T00:49:07.709Z"
   },
   {
    "duration": 134,
    "start_time": "2022-05-11T00:49:07.715Z"
   },
   {
    "duration": 5,
    "start_time": "2022-05-11T00:49:07.853Z"
   },
   {
    "duration": 114,
    "start_time": "2022-05-11T00:49:07.859Z"
   },
   {
    "duration": 35,
    "start_time": "2022-05-11T00:49:07.974Z"
   },
   {
    "duration": 4,
    "start_time": "2022-05-11T00:49:08.010Z"
   },
   {
    "duration": 5,
    "start_time": "2022-05-11T00:49:08.015Z"
   },
   {
    "duration": 6,
    "start_time": "2022-05-11T00:49:08.021Z"
   },
   {
    "duration": 7,
    "start_time": "2022-05-11T00:49:08.028Z"
   },
   {
    "duration": 6,
    "start_time": "2022-05-11T00:49:08.036Z"
   },
   {
    "duration": 21,
    "start_time": "2022-05-11T00:49:28.037Z"
   },
   {
    "duration": 11,
    "start_time": "2022-05-11T00:50:40.690Z"
   },
   {
    "duration": 8,
    "start_time": "2022-05-11T00:51:26.250Z"
   },
   {
    "duration": 3,
    "start_time": "2022-05-11T00:51:28.469Z"
   },
   {
    "duration": 72,
    "start_time": "2022-05-11T00:51:34.372Z"
   },
   {
    "duration": 7,
    "start_time": "2022-05-11T00:51:34.446Z"
   },
   {
    "duration": 77,
    "start_time": "2022-05-11T00:51:34.454Z"
   },
   {
    "duration": 21,
    "start_time": "2022-05-11T00:51:34.533Z"
   },
   {
    "duration": 57,
    "start_time": "2022-05-11T00:51:34.556Z"
   },
   {
    "duration": 13,
    "start_time": "2022-05-11T00:51:34.614Z"
   },
   {
    "duration": 74,
    "start_time": "2022-05-11T00:51:34.628Z"
   },
   {
    "duration": 3,
    "start_time": "2022-05-11T00:51:34.704Z"
   },
   {
    "duration": 27,
    "start_time": "2022-05-11T00:51:34.708Z"
   },
   {
    "duration": 8,
    "start_time": "2022-05-11T00:51:34.737Z"
   },
   {
    "duration": 121,
    "start_time": "2022-05-11T00:51:34.747Z"
   },
   {
    "duration": 6,
    "start_time": "2022-05-11T00:51:34.869Z"
   },
   {
    "duration": 119,
    "start_time": "2022-05-11T00:51:34.876Z"
   },
   {
    "duration": 5,
    "start_time": "2022-05-11T00:51:34.996Z"
   },
   {
    "duration": 6,
    "start_time": "2022-05-11T00:51:35.003Z"
   },
   {
    "duration": 140,
    "start_time": "2022-05-11T00:51:35.011Z"
   },
   {
    "duration": 4,
    "start_time": "2022-05-11T00:51:35.153Z"
   },
   {
    "duration": 7,
    "start_time": "2022-05-11T00:51:35.159Z"
   },
   {
    "duration": 141,
    "start_time": "2022-05-11T00:51:35.167Z"
   },
   {
    "duration": 130,
    "start_time": "2022-05-11T00:51:35.309Z"
   },
   {
    "duration": 3,
    "start_time": "2022-05-11T00:51:35.441Z"
   },
   {
    "duration": 6,
    "start_time": "2022-05-11T00:51:35.446Z"
   },
   {
    "duration": 28,
    "start_time": "2022-05-11T00:51:35.453Z"
   },
   {
    "duration": 20,
    "start_time": "2022-05-11T00:51:35.483Z"
   },
   {
    "duration": 10,
    "start_time": "2022-05-11T00:51:35.504Z"
   },
   {
    "duration": 4,
    "start_time": "2022-05-11T00:51:35.515Z"
   },
   {
    "duration": 129,
    "start_time": "2022-05-11T00:51:35.521Z"
   },
   {
    "duration": 5,
    "start_time": "2022-05-11T00:51:35.652Z"
   },
   {
    "duration": 114,
    "start_time": "2022-05-11T00:51:35.658Z"
   },
   {
    "duration": 32,
    "start_time": "2022-05-11T00:51:35.773Z"
   },
   {
    "duration": 4,
    "start_time": "2022-05-11T00:51:35.806Z"
   },
   {
    "duration": 9,
    "start_time": "2022-05-11T00:51:35.811Z"
   },
   {
    "duration": 15,
    "start_time": "2022-05-11T00:51:35.822Z"
   },
   {
    "duration": 7,
    "start_time": "2022-05-11T00:51:35.838Z"
   },
   {
    "duration": 4,
    "start_time": "2022-05-11T00:51:35.846Z"
   },
   {
    "duration": 4,
    "start_time": "2022-05-11T00:52:22.905Z"
   },
   {
    "duration": 4,
    "start_time": "2022-05-11T00:52:25.265Z"
   },
   {
    "duration": 9,
    "start_time": "2022-05-11T00:52:56.583Z"
   },
   {
    "duration": 9,
    "start_time": "2022-05-11T00:53:05.572Z"
   },
   {
    "duration": 4,
    "start_time": "2022-05-11T00:53:06.577Z"
   },
   {
    "duration": 3,
    "start_time": "2022-05-11T00:53:07.528Z"
   },
   {
    "duration": 4,
    "start_time": "2022-05-11T00:53:08.729Z"
   },
   {
    "duration": 71,
    "start_time": "2022-05-11T00:53:11.840Z"
   },
   {
    "duration": 6,
    "start_time": "2022-05-11T00:53:11.913Z"
   },
   {
    "duration": 80,
    "start_time": "2022-05-11T00:53:11.920Z"
   },
   {
    "duration": 22,
    "start_time": "2022-05-11T00:53:12.002Z"
   },
   {
    "duration": 41,
    "start_time": "2022-05-11T00:53:12.025Z"
   },
   {
    "duration": 34,
    "start_time": "2022-05-11T00:53:12.067Z"
   },
   {
    "duration": 60,
    "start_time": "2022-05-11T00:53:12.103Z"
   },
   {
    "duration": 3,
    "start_time": "2022-05-11T00:53:12.164Z"
   },
   {
    "duration": 39,
    "start_time": "2022-05-11T00:53:12.168Z"
   },
   {
    "duration": 8,
    "start_time": "2022-05-11T00:53:12.210Z"
   },
   {
    "duration": 122,
    "start_time": "2022-05-11T00:53:12.219Z"
   },
   {
    "duration": 6,
    "start_time": "2022-05-11T00:53:12.343Z"
   },
   {
    "duration": 120,
    "start_time": "2022-05-11T00:53:12.351Z"
   },
   {
    "duration": 3,
    "start_time": "2022-05-11T00:53:12.473Z"
   },
   {
    "duration": 5,
    "start_time": "2022-05-11T00:53:12.477Z"
   },
   {
    "duration": 140,
    "start_time": "2022-05-11T00:53:12.483Z"
   },
   {
    "duration": 4,
    "start_time": "2022-05-11T00:53:12.624Z"
   },
   {
    "duration": 4,
    "start_time": "2022-05-11T00:53:12.630Z"
   },
   {
    "duration": 275,
    "start_time": "2022-05-11T00:53:12.635Z"
   },
   {
    "duration": 129,
    "start_time": "2022-05-11T00:53:12.912Z"
   },
   {
    "duration": 3,
    "start_time": "2022-05-11T00:53:13.043Z"
   },
   {
    "duration": 6,
    "start_time": "2022-05-11T00:53:13.048Z"
   },
   {
    "duration": 27,
    "start_time": "2022-05-11T00:53:13.055Z"
   },
   {
    "duration": 18,
    "start_time": "2022-05-11T00:53:13.083Z"
   },
   {
    "duration": 8,
    "start_time": "2022-05-11T00:53:13.102Z"
   },
   {
    "duration": 4,
    "start_time": "2022-05-11T00:53:13.111Z"
   },
   {
    "duration": 130,
    "start_time": "2022-05-11T00:53:13.117Z"
   },
   {
    "duration": 4,
    "start_time": "2022-05-11T00:53:13.250Z"
   },
   {
    "duration": 112,
    "start_time": "2022-05-11T00:53:13.255Z"
   },
   {
    "duration": 33,
    "start_time": "2022-05-11T00:53:13.368Z"
   },
   {
    "duration": 3,
    "start_time": "2022-05-11T00:53:13.402Z"
   },
   {
    "duration": 8,
    "start_time": "2022-05-11T00:53:13.407Z"
   },
   {
    "duration": 4,
    "start_time": "2022-05-11T00:53:13.416Z"
   },
   {
    "duration": 18,
    "start_time": "2022-05-11T00:53:13.422Z"
   },
   {
    "duration": 5,
    "start_time": "2022-05-11T00:53:13.442Z"
   },
   {
    "duration": 5,
    "start_time": "2022-05-11T00:53:13.449Z"
   },
   {
    "duration": 5,
    "start_time": "2022-05-11T00:53:13.455Z"
   },
   {
    "duration": 8,
    "start_time": "2022-05-11T00:53:43.329Z"
   },
   {
    "duration": 4,
    "start_time": "2022-05-11T00:53:44.487Z"
   },
   {
    "duration": 12,
    "start_time": "2022-05-11T00:54:32.552Z"
   },
   {
    "duration": 4,
    "start_time": "2022-05-11T00:54:34.192Z"
   },
   {
    "duration": 73,
    "start_time": "2022-05-11T00:54:36.935Z"
   },
   {
    "duration": 7,
    "start_time": "2022-05-11T00:54:37.010Z"
   },
   {
    "duration": 91,
    "start_time": "2022-05-11T00:54:37.018Z"
   },
   {
    "duration": 22,
    "start_time": "2022-05-11T00:54:37.111Z"
   },
   {
    "duration": 42,
    "start_time": "2022-05-11T00:54:37.134Z"
   },
   {
    "duration": 28,
    "start_time": "2022-05-11T00:54:37.178Z"
   },
   {
    "duration": 61,
    "start_time": "2022-05-11T00:54:37.207Z"
   },
   {
    "duration": 2,
    "start_time": "2022-05-11T00:54:37.270Z"
   },
   {
    "duration": 40,
    "start_time": "2022-05-11T00:54:37.274Z"
   },
   {
    "duration": 9,
    "start_time": "2022-05-11T00:54:37.317Z"
   },
   {
    "duration": 128,
    "start_time": "2022-05-11T00:54:37.328Z"
   },
   {
    "duration": 7,
    "start_time": "2022-05-11T00:54:37.458Z"
   },
   {
    "duration": 117,
    "start_time": "2022-05-11T00:54:37.466Z"
   },
   {
    "duration": 3,
    "start_time": "2022-05-11T00:54:37.584Z"
   },
   {
    "duration": 13,
    "start_time": "2022-05-11T00:54:37.589Z"
   },
   {
    "duration": 131,
    "start_time": "2022-05-11T00:54:37.603Z"
   },
   {
    "duration": 4,
    "start_time": "2022-05-11T00:54:37.735Z"
   },
   {
    "duration": 5,
    "start_time": "2022-05-11T00:54:37.740Z"
   },
   {
    "duration": 149,
    "start_time": "2022-05-11T00:54:37.747Z"
   },
   {
    "duration": 124,
    "start_time": "2022-05-11T00:54:37.899Z"
   },
   {
    "duration": 3,
    "start_time": "2022-05-11T00:54:38.024Z"
   },
   {
    "duration": 9,
    "start_time": "2022-05-11T00:54:38.028Z"
   },
   {
    "duration": 25,
    "start_time": "2022-05-11T00:54:38.038Z"
   },
   {
    "duration": 4,
    "start_time": "2022-05-11T00:54:38.064Z"
   },
   {
    "duration": 7,
    "start_time": "2022-05-11T00:54:38.070Z"
   },
   {
    "duration": 24,
    "start_time": "2022-05-11T00:54:38.078Z"
   },
   {
    "duration": 125,
    "start_time": "2022-05-11T00:54:38.103Z"
   },
   {
    "duration": 4,
    "start_time": "2022-05-11T00:54:38.231Z"
   },
   {
    "duration": 112,
    "start_time": "2022-05-11T00:54:38.236Z"
   },
   {
    "duration": 22,
    "start_time": "2022-05-11T00:54:38.350Z"
   },
   {
    "duration": 3,
    "start_time": "2022-05-11T00:54:38.374Z"
   },
   {
    "duration": 22,
    "start_time": "2022-05-11T00:54:38.378Z"
   },
   {
    "duration": 3,
    "start_time": "2022-05-11T00:54:38.401Z"
   },
   {
    "duration": 9,
    "start_time": "2022-05-11T00:54:38.405Z"
   },
   {
    "duration": 4,
    "start_time": "2022-05-11T00:54:38.416Z"
   },
   {
    "duration": 4,
    "start_time": "2022-05-11T00:54:42.621Z"
   },
   {
    "duration": 10,
    "start_time": "2022-05-11T00:54:52.137Z"
   },
   {
    "duration": 4,
    "start_time": "2022-05-11T00:54:55.935Z"
   },
   {
    "duration": 71,
    "start_time": "2022-05-11T00:55:01.842Z"
   },
   {
    "duration": 6,
    "start_time": "2022-05-11T00:55:01.915Z"
   },
   {
    "duration": 86,
    "start_time": "2022-05-11T00:55:01.922Z"
   },
   {
    "duration": 21,
    "start_time": "2022-05-11T00:55:02.010Z"
   },
   {
    "duration": 59,
    "start_time": "2022-05-11T00:55:02.033Z"
   },
   {
    "duration": 17,
    "start_time": "2022-05-11T00:55:02.093Z"
   },
   {
    "duration": 60,
    "start_time": "2022-05-11T00:55:02.111Z"
   },
   {
    "duration": 3,
    "start_time": "2022-05-11T00:55:02.173Z"
   },
   {
    "duration": 40,
    "start_time": "2022-05-11T00:55:02.178Z"
   },
   {
    "duration": 10,
    "start_time": "2022-05-11T00:55:02.220Z"
   },
   {
    "duration": 121,
    "start_time": "2022-05-11T00:55:02.232Z"
   },
   {
    "duration": 6,
    "start_time": "2022-05-11T00:55:02.354Z"
   },
   {
    "duration": 115,
    "start_time": "2022-05-11T00:55:02.362Z"
   },
   {
    "duration": 3,
    "start_time": "2022-05-11T00:55:02.478Z"
   },
   {
    "duration": 17,
    "start_time": "2022-05-11T00:55:02.483Z"
   },
   {
    "duration": 135,
    "start_time": "2022-05-11T00:55:02.502Z"
   },
   {
    "duration": 4,
    "start_time": "2022-05-11T00:55:02.639Z"
   },
   {
    "duration": 6,
    "start_time": "2022-05-11T00:55:02.644Z"
   },
   {
    "duration": 137,
    "start_time": "2022-05-11T00:55:02.652Z"
   },
   {
    "duration": 128,
    "start_time": "2022-05-11T00:55:02.791Z"
   },
   {
    "duration": 3,
    "start_time": "2022-05-11T00:55:02.920Z"
   },
   {
    "duration": 6,
    "start_time": "2022-05-11T00:55:02.925Z"
   },
   {
    "duration": 28,
    "start_time": "2022-05-11T00:55:02.932Z"
   },
   {
    "duration": 4,
    "start_time": "2022-05-11T00:55:02.962Z"
   },
   {
    "duration": 7,
    "start_time": "2022-05-11T00:55:02.967Z"
   },
   {
    "duration": 26,
    "start_time": "2022-05-11T00:55:02.975Z"
   },
   {
    "duration": 121,
    "start_time": "2022-05-11T00:55:03.002Z"
   },
   {
    "duration": 4,
    "start_time": "2022-05-11T00:55:03.126Z"
   },
   {
    "duration": 119,
    "start_time": "2022-05-11T00:55:03.131Z"
   },
   {
    "duration": 23,
    "start_time": "2022-05-11T00:55:03.252Z"
   },
   {
    "duration": 4,
    "start_time": "2022-05-11T00:55:03.276Z"
   },
   {
    "duration": 19,
    "start_time": "2022-05-11T00:55:03.281Z"
   },
   {
    "duration": 4,
    "start_time": "2022-05-11T00:55:03.302Z"
   },
   {
    "duration": 13,
    "start_time": "2022-05-11T00:55:03.307Z"
   },
   {
    "duration": 9,
    "start_time": "2022-05-11T00:55:03.321Z"
   },
   {
    "duration": 8,
    "start_time": "2022-05-11T00:55:16.892Z"
   },
   {
    "duration": 8,
    "start_time": "2022-05-11T00:55:29.658Z"
   },
   {
    "duration": 4,
    "start_time": "2022-05-11T00:55:30.607Z"
   },
   {
    "duration": 70,
    "start_time": "2022-05-11T00:55:43.691Z"
   },
   {
    "duration": 6,
    "start_time": "2022-05-11T00:55:43.763Z"
   },
   {
    "duration": 72,
    "start_time": "2022-05-11T00:55:43.771Z"
   },
   {
    "duration": 21,
    "start_time": "2022-05-11T00:55:43.845Z"
   },
   {
    "duration": 60,
    "start_time": "2022-05-11T00:55:43.867Z"
   },
   {
    "duration": 12,
    "start_time": "2022-05-11T00:55:43.929Z"
   },
   {
    "duration": 76,
    "start_time": "2022-05-11T00:55:43.943Z"
   },
   {
    "duration": 4,
    "start_time": "2022-05-11T00:55:44.020Z"
   },
   {
    "duration": 23,
    "start_time": "2022-05-11T00:55:44.025Z"
   },
   {
    "duration": 9,
    "start_time": "2022-05-11T00:55:44.051Z"
   },
   {
    "duration": 126,
    "start_time": "2022-05-11T00:55:44.061Z"
   },
   {
    "duration": 16,
    "start_time": "2022-05-11T00:55:44.188Z"
   },
   {
    "duration": 259,
    "start_time": "2022-05-11T00:55:44.205Z"
   },
   {
    "duration": 3,
    "start_time": "2022-05-11T00:55:44.466Z"
   },
   {
    "duration": 6,
    "start_time": "2022-05-11T00:55:44.470Z"
   },
   {
    "duration": 143,
    "start_time": "2022-05-11T00:55:44.477Z"
   },
   {
    "duration": 5,
    "start_time": "2022-05-11T00:55:44.621Z"
   },
   {
    "duration": 10,
    "start_time": "2022-05-11T00:55:44.627Z"
   },
   {
    "duration": 141,
    "start_time": "2022-05-11T00:55:44.638Z"
   },
   {
    "duration": 119,
    "start_time": "2022-05-11T00:55:44.781Z"
   },
   {
    "duration": 3,
    "start_time": "2022-05-11T00:55:44.902Z"
   },
   {
    "duration": 4,
    "start_time": "2022-05-11T00:55:44.906Z"
   },
   {
    "duration": 24,
    "start_time": "2022-05-11T00:55:44.912Z"
   },
   {
    "duration": 4,
    "start_time": "2022-05-11T00:55:44.937Z"
   },
   {
    "duration": 6,
    "start_time": "2022-05-11T00:55:44.942Z"
   },
   {
    "duration": 4,
    "start_time": "2022-05-11T00:55:44.950Z"
   },
   {
    "duration": 154,
    "start_time": "2022-05-11T00:55:44.955Z"
   },
   {
    "duration": 5,
    "start_time": "2022-05-11T00:55:45.112Z"
   },
   {
    "duration": 110,
    "start_time": "2022-05-11T00:55:45.118Z"
   },
   {
    "duration": 23,
    "start_time": "2022-05-11T00:55:45.229Z"
   },
   {
    "duration": 3,
    "start_time": "2022-05-11T00:55:45.254Z"
   },
   {
    "duration": 5,
    "start_time": "2022-05-11T00:55:45.258Z"
   },
   {
    "duration": 5,
    "start_time": "2022-05-11T00:55:45.264Z"
   },
   {
    "duration": 31,
    "start_time": "2022-05-11T00:55:45.270Z"
   },
   {
    "duration": 4,
    "start_time": "2022-05-11T00:55:45.302Z"
   },
   {
    "duration": 7,
    "start_time": "2022-05-11T00:55:53.846Z"
   },
   {
    "duration": 4,
    "start_time": "2022-05-11T00:55:54.956Z"
   },
   {
    "duration": 71,
    "start_time": "2022-05-11T00:55:57.384Z"
   },
   {
    "duration": 6,
    "start_time": "2022-05-11T00:55:57.457Z"
   },
   {
    "duration": 80,
    "start_time": "2022-05-11T00:55:57.464Z"
   },
   {
    "duration": 21,
    "start_time": "2022-05-11T00:55:57.546Z"
   },
   {
    "duration": 54,
    "start_time": "2022-05-11T00:55:57.568Z"
   },
   {
    "duration": 12,
    "start_time": "2022-05-11T00:55:57.623Z"
   },
   {
    "duration": 75,
    "start_time": "2022-05-11T00:55:57.636Z"
   },
   {
    "duration": 3,
    "start_time": "2022-05-11T00:55:57.713Z"
   },
   {
    "duration": 27,
    "start_time": "2022-05-11T00:55:57.718Z"
   },
   {
    "duration": 9,
    "start_time": "2022-05-11T00:55:57.748Z"
   },
   {
    "duration": 142,
    "start_time": "2022-05-11T00:55:57.759Z"
   },
   {
    "duration": 6,
    "start_time": "2022-05-11T00:55:57.903Z"
   },
   {
    "duration": 118,
    "start_time": "2022-05-11T00:55:57.911Z"
   },
   {
    "duration": 3,
    "start_time": "2022-05-11T00:55:58.030Z"
   },
   {
    "duration": 5,
    "start_time": "2022-05-11T00:55:58.035Z"
   },
   {
    "duration": 146,
    "start_time": "2022-05-11T00:55:58.041Z"
   },
   {
    "duration": 11,
    "start_time": "2022-05-11T00:55:58.189Z"
   },
   {
    "duration": 7,
    "start_time": "2022-05-11T00:55:58.202Z"
   },
   {
    "duration": 139,
    "start_time": "2022-05-11T00:55:58.210Z"
   },
   {
    "duration": 134,
    "start_time": "2022-05-11T00:55:58.350Z"
   },
   {
    "duration": 4,
    "start_time": "2022-05-11T00:55:58.485Z"
   },
   {
    "duration": 4,
    "start_time": "2022-05-11T00:55:58.500Z"
   },
   {
    "duration": 29,
    "start_time": "2022-05-11T00:55:58.506Z"
   },
   {
    "duration": 4,
    "start_time": "2022-05-11T00:55:58.536Z"
   },
   {
    "duration": 7,
    "start_time": "2022-05-11T00:55:58.541Z"
   },
   {
    "duration": 4,
    "start_time": "2022-05-11T00:55:58.549Z"
   },
   {
    "duration": 155,
    "start_time": "2022-05-11T00:55:58.555Z"
   },
   {
    "duration": 4,
    "start_time": "2022-05-11T00:55:58.713Z"
   },
   {
    "duration": 120,
    "start_time": "2022-05-11T00:55:58.718Z"
   },
   {
    "duration": 24,
    "start_time": "2022-05-11T00:55:58.840Z"
   },
   {
    "duration": 4,
    "start_time": "2022-05-11T00:55:58.865Z"
   },
   {
    "duration": 6,
    "start_time": "2022-05-11T00:55:58.870Z"
   },
   {
    "duration": 23,
    "start_time": "2022-05-11T00:55:58.877Z"
   },
   {
    "duration": 9,
    "start_time": "2022-05-11T00:55:58.901Z"
   },
   {
    "duration": 12,
    "start_time": "2022-05-11T00:55:58.911Z"
   },
   {
    "duration": 70,
    "start_time": "2022-05-11T00:58:52.492Z"
   },
   {
    "duration": 6,
    "start_time": "2022-05-11T00:58:52.564Z"
   },
   {
    "duration": 76,
    "start_time": "2022-05-11T00:58:52.572Z"
   },
   {
    "duration": 21,
    "start_time": "2022-05-11T00:58:52.650Z"
   },
   {
    "duration": 52,
    "start_time": "2022-05-11T00:58:52.672Z"
   },
   {
    "duration": 12,
    "start_time": "2022-05-11T00:58:52.725Z"
   },
   {
    "duration": 74,
    "start_time": "2022-05-11T00:58:52.738Z"
   },
   {
    "duration": 3,
    "start_time": "2022-05-11T00:58:52.813Z"
   },
   {
    "duration": 23,
    "start_time": "2022-05-11T00:58:52.817Z"
   },
   {
    "duration": 9,
    "start_time": "2022-05-11T00:58:52.843Z"
   },
   {
    "duration": 127,
    "start_time": "2022-05-11T00:58:52.853Z"
   },
   {
    "duration": 18,
    "start_time": "2022-05-11T00:58:52.982Z"
   },
   {
    "duration": 112,
    "start_time": "2022-05-11T00:58:53.002Z"
   },
   {
    "duration": 4,
    "start_time": "2022-05-11T00:58:53.115Z"
   },
   {
    "duration": 5,
    "start_time": "2022-05-11T00:58:53.120Z"
   },
   {
    "duration": 150,
    "start_time": "2022-05-11T00:58:53.126Z"
   },
   {
    "duration": 5,
    "start_time": "2022-05-11T00:58:53.278Z"
   },
   {
    "duration": 5,
    "start_time": "2022-05-11T00:58:53.284Z"
   },
   {
    "duration": 137,
    "start_time": "2022-05-11T00:58:53.300Z"
   },
   {
    "duration": 129,
    "start_time": "2022-05-11T00:58:53.439Z"
   },
   {
    "duration": 4,
    "start_time": "2022-05-11T00:58:53.570Z"
   },
   {
    "duration": 5,
    "start_time": "2022-05-11T00:58:53.575Z"
   },
   {
    "duration": 39,
    "start_time": "2022-05-11T00:58:53.581Z"
   },
   {
    "duration": 4,
    "start_time": "2022-05-11T00:58:53.622Z"
   },
   {
    "duration": 7,
    "start_time": "2022-05-11T00:58:53.627Z"
   },
   {
    "duration": 9,
    "start_time": "2022-05-11T00:58:53.635Z"
   },
   {
    "duration": 126,
    "start_time": "2022-05-11T00:58:53.646Z"
   },
   {
    "duration": 4,
    "start_time": "2022-05-11T00:58:53.775Z"
   },
   {
    "duration": 111,
    "start_time": "2022-05-11T00:58:53.780Z"
   },
   {
    "duration": 29,
    "start_time": "2022-05-11T00:58:53.893Z"
   },
   {
    "duration": 4,
    "start_time": "2022-05-11T00:58:53.924Z"
   },
   {
    "duration": 6,
    "start_time": "2022-05-11T00:58:53.929Z"
   },
   {
    "duration": 5,
    "start_time": "2022-05-11T00:58:53.936Z"
   },
   {
    "duration": 8,
    "start_time": "2022-05-11T00:58:53.943Z"
   },
   {
    "duration": 6,
    "start_time": "2022-05-11T00:58:53.952Z"
   },
   {
    "duration": 419,
    "start_time": "2022-05-11T00:59:15.352Z"
   },
   {
    "duration": 12,
    "start_time": "2022-05-11T00:59:15.773Z"
   },
   {
    "duration": 66,
    "start_time": "2022-05-11T00:59:15.786Z"
   },
   {
    "duration": 22,
    "start_time": "2022-05-11T00:59:15.853Z"
   },
   {
    "duration": 57,
    "start_time": "2022-05-11T00:59:15.877Z"
   },
   {
    "duration": 12,
    "start_time": "2022-05-11T00:59:15.936Z"
   },
   {
    "duration": 87,
    "start_time": "2022-05-11T00:59:15.950Z"
   },
   {
    "duration": 3,
    "start_time": "2022-05-11T00:59:16.038Z"
   },
   {
    "duration": 25,
    "start_time": "2022-05-11T00:59:16.043Z"
   },
   {
    "duration": 10,
    "start_time": "2022-05-11T00:59:16.069Z"
   },
   {
    "duration": 410,
    "start_time": "2022-05-11T00:59:16.080Z"
   },
   {
    "duration": 10,
    "start_time": "2022-05-11T00:59:16.491Z"
   },
   {
    "duration": 114,
    "start_time": "2022-05-11T00:59:16.503Z"
   },
   {
    "duration": 3,
    "start_time": "2022-05-11T00:59:16.620Z"
   },
   {
    "duration": 6,
    "start_time": "2022-05-11T00:59:16.624Z"
   },
   {
    "duration": 141,
    "start_time": "2022-05-11T00:59:16.631Z"
   },
   {
    "duration": 4,
    "start_time": "2022-05-11T00:59:16.773Z"
   },
   {
    "duration": 5,
    "start_time": "2022-05-11T00:59:16.778Z"
   },
   {
    "duration": 139,
    "start_time": "2022-05-11T00:59:16.784Z"
   },
   {
    "duration": 131,
    "start_time": "2022-05-11T00:59:16.925Z"
   },
   {
    "duration": 4,
    "start_time": "2022-05-11T00:59:17.057Z"
   },
   {
    "duration": 6,
    "start_time": "2022-05-11T00:59:17.062Z"
   },
   {
    "duration": 40,
    "start_time": "2022-05-11T00:59:17.070Z"
   },
   {
    "duration": 4,
    "start_time": "2022-05-11T00:59:17.112Z"
   },
   {
    "duration": 9,
    "start_time": "2022-05-11T00:59:17.117Z"
   },
   {
    "duration": 7,
    "start_time": "2022-05-11T00:59:17.127Z"
   },
   {
    "duration": 195,
    "start_time": "2022-05-11T00:59:17.135Z"
   },
   {
    "duration": 4,
    "start_time": "2022-05-11T00:59:17.331Z"
   },
   {
    "duration": 114,
    "start_time": "2022-05-11T00:59:17.336Z"
   },
   {
    "duration": 23,
    "start_time": "2022-05-11T00:59:17.452Z"
   },
   {
    "duration": 3,
    "start_time": "2022-05-11T00:59:17.476Z"
   },
   {
    "duration": 20,
    "start_time": "2022-05-11T00:59:17.480Z"
   },
   {
    "duration": 6,
    "start_time": "2022-05-11T00:59:17.502Z"
   },
   {
    "duration": 5,
    "start_time": "2022-05-11T00:59:17.510Z"
   },
   {
    "duration": 8,
    "start_time": "2022-05-11T00:59:17.516Z"
   },
   {
    "duration": 4,
    "start_time": "2022-05-11T00:59:17.525Z"
   },
   {
    "duration": 5,
    "start_time": "2022-05-11T00:59:17.531Z"
   },
   {
    "duration": 12,
    "start_time": "2022-05-11T00:59:17.537Z"
   },
   {
    "duration": 12,
    "start_time": "2022-05-11T00:59:17.550Z"
   },
   {
    "duration": 6,
    "start_time": "2022-05-11T00:59:17.564Z"
   },
   {
    "duration": 22,
    "start_time": "2022-05-11T00:59:17.599Z"
   },
   {
    "duration": 6,
    "start_time": "2022-05-11T00:59:17.622Z"
   },
   {
    "duration": 23,
    "start_time": "2022-05-11T00:59:17.630Z"
   },
   {
    "duration": 18,
    "start_time": "2022-05-11T00:59:17.654Z"
   },
   {
    "duration": 79,
    "start_time": "2022-05-11T00:59:17.673Z"
   },
   {
    "duration": 57,
    "start_time": "2022-05-11T00:59:17.753Z"
   },
   {
    "duration": 3,
    "start_time": "2022-05-11T00:59:17.812Z"
   },
   {
    "duration": 13,
    "start_time": "2022-05-11T00:59:17.816Z"
   },
   {
    "duration": 22,
    "start_time": "2022-05-11T00:59:17.831Z"
   },
   {
    "duration": 11,
    "start_time": "2022-05-11T00:59:17.854Z"
   },
   {
    "duration": 43,
    "start_time": "2022-05-11T00:59:17.867Z"
   },
   {
    "duration": 5,
    "start_time": "2022-05-11T00:59:17.911Z"
   },
   {
    "duration": 25,
    "start_time": "2022-05-11T00:59:17.917Z"
   },
   {
    "duration": 27,
    "start_time": "2022-05-11T00:59:17.943Z"
   },
   {
    "duration": 131,
    "start_time": "2022-05-11T00:59:17.971Z"
   },
   {
    "duration": 198,
    "start_time": "2022-05-11T00:59:18.104Z"
   },
   {
    "duration": 120,
    "start_time": "2022-05-11T00:59:18.303Z"
   },
   {
    "duration": 209,
    "start_time": "2022-05-11T00:59:18.425Z"
   },
   {
    "duration": 101,
    "start_time": "2022-05-11T00:59:18.635Z"
   },
   {
    "duration": 119,
    "start_time": "2022-05-11T00:59:18.738Z"
   },
   {
    "duration": 98,
    "start_time": "2022-05-11T00:59:18.859Z"
   },
   {
    "duration": 202,
    "start_time": "2022-05-11T00:59:18.958Z"
   },
   {
    "duration": 8,
    "start_time": "2022-05-11T00:59:19.161Z"
   },
   {
    "duration": 111,
    "start_time": "2022-05-11T00:59:19.171Z"
   },
   {
    "duration": 195,
    "start_time": "2022-05-11T00:59:19.284Z"
   },
   {
    "duration": 162,
    "start_time": "2022-05-11T00:59:19.481Z"
   },
   {
    "duration": 19,
    "start_time": "2022-05-11T00:59:19.645Z"
   },
   {
    "duration": 208,
    "start_time": "2022-05-11T00:59:19.666Z"
   },
   {
    "duration": 28,
    "start_time": "2022-05-11T00:59:19.875Z"
   },
   {
    "duration": 6,
    "start_time": "2022-05-11T00:59:19.905Z"
   },
   {
    "duration": 162,
    "start_time": "2022-05-11T00:59:19.913Z"
   },
   {
    "duration": 23,
    "start_time": "2022-05-11T00:59:20.077Z"
   },
   {
    "duration": 11,
    "start_time": "2022-05-11T00:59:20.102Z"
   },
   {
    "duration": 11,
    "start_time": "2022-05-11T00:59:20.114Z"
   },
   {
    "duration": 10,
    "start_time": "2022-05-11T00:59:20.127Z"
   },
   {
    "duration": 7,
    "start_time": "2022-05-11T00:59:20.138Z"
   },
   {
    "duration": 24,
    "start_time": "2022-05-11T00:59:20.147Z"
   },
   {
    "duration": 28,
    "start_time": "2022-05-11T00:59:20.201Z"
   },
   {
    "duration": 16,
    "start_time": "2022-05-11T00:59:20.230Z"
   },
   {
    "duration": 15,
    "start_time": "2022-05-11T00:59:20.247Z"
   },
   {
    "duration": 10,
    "start_time": "2022-05-11T01:00:13.772Z"
   },
   {
    "duration": 25,
    "start_time": "2022-05-11T01:00:13.784Z"
   },
   {
    "duration": 27,
    "start_time": "2022-05-11T01:00:13.810Z"
   },
   {
    "duration": 14,
    "start_time": "2022-05-11T01:00:13.838Z"
   },
   {
    "duration": 13,
    "start_time": "2022-05-11T01:00:13.853Z"
   },
   {
    "duration": 75,
    "start_time": "2022-05-11T01:01:29.123Z"
   },
   {
    "duration": 12,
    "start_time": "2022-05-11T01:05:38.010Z"
   },
   {
    "duration": 11,
    "start_time": "2022-05-11T01:05:40.567Z"
   },
   {
    "duration": 25,
    "start_time": "2022-05-11T01:05:52.084Z"
   },
   {
    "duration": 7,
    "start_time": "2022-05-11T01:07:31.143Z"
   },
   {
    "duration": 10,
    "start_time": "2022-05-11T01:07:56.555Z"
   },
   {
    "duration": 8,
    "start_time": "2022-05-11T01:08:01.034Z"
   },
   {
    "duration": 8,
    "start_time": "2022-05-11T01:08:40.360Z"
   },
   {
    "duration": 8,
    "start_time": "2022-05-11T01:09:03.907Z"
   },
   {
    "duration": 7,
    "start_time": "2022-05-11T01:09:14.769Z"
   },
   {
    "duration": 8,
    "start_time": "2022-05-11T01:10:52.433Z"
   },
   {
    "duration": 189,
    "start_time": "2022-05-11T01:11:16.315Z"
   },
   {
    "duration": 472,
    "start_time": "2022-05-11T01:15:08.343Z"
   },
   {
    "duration": 25,
    "start_time": "2022-05-11T01:15:15.864Z"
   },
   {
    "duration": 15,
    "start_time": "2022-05-11T01:19:15.474Z"
   },
   {
    "duration": 15,
    "start_time": "2022-05-11T01:20:56.772Z"
   },
   {
    "duration": 16,
    "start_time": "2022-05-11T01:21:10.982Z"
   },
   {
    "duration": 15,
    "start_time": "2022-05-11T01:22:09.712Z"
   },
   {
    "duration": 16,
    "start_time": "2022-05-11T01:23:21.129Z"
   },
   {
    "duration": 5,
    "start_time": "2022-05-11T01:24:52.006Z"
   },
   {
    "duration": 4,
    "start_time": "2022-05-11T01:25:05.400Z"
   },
   {
    "duration": 5,
    "start_time": "2022-05-11T01:25:16.792Z"
   },
   {
    "duration": 18,
    "start_time": "2022-05-11T01:26:44.904Z"
   },
   {
    "duration": 14,
    "start_time": "2022-05-11T01:27:04.840Z"
   },
   {
    "duration": 17,
    "start_time": "2022-05-11T01:27:26.570Z"
   },
   {
    "duration": 7,
    "start_time": "2022-05-11T01:28:37.891Z"
   },
   {
    "duration": 457,
    "start_time": "2022-05-11T01:28:46.517Z"
   },
   {
    "duration": 12,
    "start_time": "2022-05-11T01:28:46.975Z"
   },
   {
    "duration": 67,
    "start_time": "2022-05-11T01:28:46.988Z"
   },
   {
    "duration": 23,
    "start_time": "2022-05-11T01:28:47.057Z"
   },
   {
    "duration": 50,
    "start_time": "2022-05-11T01:28:47.082Z"
   },
   {
    "duration": 13,
    "start_time": "2022-05-11T01:28:47.133Z"
   },
   {
    "duration": 79,
    "start_time": "2022-05-11T01:28:47.147Z"
   },
   {
    "duration": 3,
    "start_time": "2022-05-11T01:28:47.228Z"
   },
   {
    "duration": 24,
    "start_time": "2022-05-11T01:28:47.232Z"
   },
   {
    "duration": 9,
    "start_time": "2022-05-11T01:28:47.259Z"
   },
   {
    "duration": 390,
    "start_time": "2022-05-11T01:28:47.270Z"
   },
   {
    "duration": 7,
    "start_time": "2022-05-11T01:28:47.661Z"
   },
   {
    "duration": 130,
    "start_time": "2022-05-11T01:28:47.670Z"
   },
   {
    "duration": 3,
    "start_time": "2022-05-11T01:28:47.802Z"
   },
   {
    "duration": 5,
    "start_time": "2022-05-11T01:28:47.806Z"
   },
   {
    "duration": 145,
    "start_time": "2022-05-11T01:28:47.813Z"
   },
   {
    "duration": 4,
    "start_time": "2022-05-11T01:28:47.959Z"
   },
   {
    "duration": 7,
    "start_time": "2022-05-11T01:28:47.965Z"
   },
   {
    "duration": 136,
    "start_time": "2022-05-11T01:28:47.974Z"
   },
   {
    "duration": 130,
    "start_time": "2022-05-11T01:28:48.112Z"
   },
   {
    "duration": 4,
    "start_time": "2022-05-11T01:28:48.243Z"
   },
   {
    "duration": 7,
    "start_time": "2022-05-11T01:28:48.249Z"
   },
   {
    "duration": 26,
    "start_time": "2022-05-11T01:28:48.257Z"
   },
   {
    "duration": 4,
    "start_time": "2022-05-11T01:28:48.300Z"
   },
   {
    "duration": 7,
    "start_time": "2022-05-11T01:28:48.305Z"
   },
   {
    "duration": 5,
    "start_time": "2022-05-11T01:28:48.313Z"
   },
   {
    "duration": 172,
    "start_time": "2022-05-11T01:28:48.320Z"
   },
   {
    "duration": 4,
    "start_time": "2022-05-11T01:28:48.502Z"
   },
   {
    "duration": 109,
    "start_time": "2022-05-11T01:28:48.508Z"
   },
   {
    "duration": 23,
    "start_time": "2022-05-11T01:28:48.619Z"
   },
   {
    "duration": 3,
    "start_time": "2022-05-11T01:28:48.644Z"
   },
   {
    "duration": 4,
    "start_time": "2022-05-11T01:28:48.649Z"
   },
   {
    "duration": 5,
    "start_time": "2022-05-11T01:28:48.654Z"
   },
   {
    "duration": 6,
    "start_time": "2022-05-11T01:28:48.661Z"
   },
   {
    "duration": 33,
    "start_time": "2022-05-11T01:28:48.668Z"
   },
   {
    "duration": 6,
    "start_time": "2022-05-11T01:28:48.703Z"
   },
   {
    "duration": 6,
    "start_time": "2022-05-11T01:28:48.710Z"
   },
   {
    "duration": 13,
    "start_time": "2022-05-11T01:28:48.718Z"
   },
   {
    "duration": 14,
    "start_time": "2022-05-11T01:28:48.732Z"
   },
   {
    "duration": 7,
    "start_time": "2022-05-11T01:28:48.747Z"
   },
   {
    "duration": 45,
    "start_time": "2022-05-11T01:28:48.756Z"
   },
   {
    "duration": 7,
    "start_time": "2022-05-11T01:28:48.802Z"
   },
   {
    "duration": 22,
    "start_time": "2022-05-11T01:28:48.810Z"
   },
   {
    "duration": 17,
    "start_time": "2022-05-11T01:28:48.834Z"
   },
   {
    "duration": 78,
    "start_time": "2022-05-11T01:28:48.853Z"
   },
   {
    "duration": 44,
    "start_time": "2022-05-11T01:28:48.933Z"
   },
   {
    "duration": 23,
    "start_time": "2022-05-11T01:28:48.979Z"
   },
   {
    "duration": 15,
    "start_time": "2022-05-11T01:28:49.003Z"
   },
   {
    "duration": 20,
    "start_time": "2022-05-11T01:28:49.020Z"
   },
   {
    "duration": 11,
    "start_time": "2022-05-11T01:28:49.041Z"
   },
   {
    "duration": 20,
    "start_time": "2022-05-11T01:28:49.053Z"
   },
   {
    "duration": 28,
    "start_time": "2022-05-11T01:28:49.074Z"
   },
   {
    "duration": 22,
    "start_time": "2022-05-11T01:28:49.103Z"
   },
   {
    "duration": 26,
    "start_time": "2022-05-11T01:28:49.126Z"
   },
   {
    "duration": 113,
    "start_time": "2022-05-11T01:28:49.154Z"
   },
   {
    "duration": 200,
    "start_time": "2022-05-11T01:28:49.268Z"
   },
   {
    "duration": 111,
    "start_time": "2022-05-11T01:28:49.470Z"
   },
   {
    "duration": 205,
    "start_time": "2022-05-11T01:28:49.582Z"
   },
   {
    "duration": 92,
    "start_time": "2022-05-11T01:28:49.788Z"
   },
   {
    "duration": 128,
    "start_time": "2022-05-11T01:28:49.882Z"
   },
   {
    "duration": 103,
    "start_time": "2022-05-11T01:28:50.012Z"
   },
   {
    "duration": 186,
    "start_time": "2022-05-11T01:28:50.116Z"
   },
   {
    "duration": 7,
    "start_time": "2022-05-11T01:28:50.303Z"
   },
   {
    "duration": 111,
    "start_time": "2022-05-11T01:28:50.312Z"
   },
   {
    "duration": 204,
    "start_time": "2022-05-11T01:28:50.424Z"
   },
   {
    "duration": 152,
    "start_time": "2022-05-11T01:28:50.629Z"
   },
   {
    "duration": 31,
    "start_time": "2022-05-11T01:28:50.782Z"
   },
   {
    "duration": 202,
    "start_time": "2022-05-11T01:28:50.814Z"
   },
   {
    "duration": 19,
    "start_time": "2022-05-11T01:28:51.018Z"
   },
   {
    "duration": 7,
    "start_time": "2022-05-11T01:28:51.039Z"
   },
   {
    "duration": 178,
    "start_time": "2022-05-11T01:28:51.048Z"
   },
   {
    "duration": 14,
    "start_time": "2022-05-11T01:28:51.228Z"
   },
   {
    "duration": 11,
    "start_time": "2022-05-11T01:28:51.243Z"
   },
   {
    "duration": 11,
    "start_time": "2022-05-11T01:28:51.256Z"
   },
   {
    "duration": 35,
    "start_time": "2022-05-11T01:28:51.268Z"
   },
   {
    "duration": 7,
    "start_time": "2022-05-11T01:28:51.305Z"
   },
   {
    "duration": 25,
    "start_time": "2022-05-11T01:28:51.313Z"
   },
   {
    "duration": 14,
    "start_time": "2022-05-11T01:28:51.340Z"
   },
   {
    "duration": 14,
    "start_time": "2022-05-11T01:28:51.355Z"
   },
   {
    "duration": 5,
    "start_time": "2022-05-11T01:28:51.370Z"
   },
   {
    "duration": 26,
    "start_time": "2022-05-11T01:28:51.376Z"
   },
   {
    "duration": 5,
    "start_time": "2022-05-11T01:28:51.408Z"
   },
   {
    "duration": 12,
    "start_time": "2022-05-11T01:28:51.414Z"
   },
   {
    "duration": 142,
    "start_time": "2022-05-11T01:28:51.428Z"
   },
   {
    "duration": 115,
    "start_time": "2022-05-11T01:31:27.997Z"
   },
   {
    "duration": 18,
    "start_time": "2022-05-11T01:31:56.709Z"
   },
   {
    "duration": 198,
    "start_time": "2022-05-11T01:32:08.168Z"
   },
   {
    "duration": 232,
    "start_time": "2022-05-11T01:32:13.181Z"
   },
   {
    "duration": 202,
    "start_time": "2022-05-11T01:34:02.244Z"
   },
   {
    "duration": 37,
    "start_time": "2022-05-11T01:34:11.403Z"
   },
   {
    "duration": 12,
    "start_time": "2022-05-11T01:35:12.264Z"
   },
   {
    "duration": 661,
    "start_time": "2022-05-11T01:35:18.111Z"
   },
   {
    "duration": 9,
    "start_time": "2022-05-11T01:35:34.346Z"
   },
   {
    "duration": 123,
    "start_time": "2022-05-11T01:35:52.682Z"
   },
   {
    "duration": 113,
    "start_time": "2022-05-11T01:35:59.775Z"
   },
   {
    "duration": 122,
    "start_time": "2022-05-11T01:36:04.957Z"
   },
   {
    "duration": 128,
    "start_time": "2022-05-11T01:36:25.296Z"
   },
   {
    "duration": 113,
    "start_time": "2022-05-11T01:36:39.762Z"
   },
   {
    "duration": 104,
    "start_time": "2022-05-11T01:37:07.877Z"
   },
   {
    "duration": 104,
    "start_time": "2022-05-11T01:37:20.703Z"
   },
   {
    "duration": 115,
    "start_time": "2022-05-11T01:37:26.571Z"
   },
   {
    "duration": 117,
    "start_time": "2022-05-11T01:38:07.627Z"
   },
   {
    "duration": 121,
    "start_time": "2022-05-11T01:38:35.772Z"
   },
   {
    "duration": 123,
    "start_time": "2022-05-11T01:40:02.061Z"
   },
   {
    "duration": 105,
    "start_time": "2022-05-11T01:40:13.270Z"
   },
   {
    "duration": 214,
    "start_time": "2022-05-11T01:40:42.686Z"
   },
   {
    "duration": 5,
    "start_time": "2022-05-11T01:44:10.555Z"
   },
   {
    "duration": 62,
    "start_time": "2022-05-11T01:44:30.547Z"
   },
   {
    "duration": 4,
    "start_time": "2022-05-11T01:45:53.111Z"
   },
   {
    "duration": 8,
    "start_time": "2022-05-11T01:49:14.515Z"
   },
   {
    "duration": 466,
    "start_time": "2022-05-11T01:50:06.232Z"
   },
   {
    "duration": 13,
    "start_time": "2022-05-11T01:50:06.700Z"
   },
   {
    "duration": 70,
    "start_time": "2022-05-11T01:50:06.714Z"
   },
   {
    "duration": 35,
    "start_time": "2022-05-11T01:50:06.786Z"
   },
   {
    "duration": 45,
    "start_time": "2022-05-11T01:50:06.822Z"
   },
   {
    "duration": 12,
    "start_time": "2022-05-11T01:50:06.868Z"
   },
   {
    "duration": 61,
    "start_time": "2022-05-11T01:50:06.900Z"
   },
   {
    "duration": 3,
    "start_time": "2022-05-11T01:50:06.962Z"
   },
   {
    "duration": 35,
    "start_time": "2022-05-11T01:50:06.966Z"
   },
   {
    "duration": 10,
    "start_time": "2022-05-11T01:50:07.003Z"
   },
   {
    "duration": 376,
    "start_time": "2022-05-11T01:50:07.014Z"
   },
   {
    "duration": 10,
    "start_time": "2022-05-11T01:50:07.391Z"
   },
   {
    "duration": 116,
    "start_time": "2022-05-11T01:50:07.402Z"
   },
   {
    "duration": 3,
    "start_time": "2022-05-11T01:50:07.520Z"
   },
   {
    "duration": 5,
    "start_time": "2022-05-11T01:50:07.524Z"
   },
   {
    "duration": 143,
    "start_time": "2022-05-11T01:50:07.531Z"
   },
   {
    "duration": 4,
    "start_time": "2022-05-11T01:50:07.675Z"
   },
   {
    "duration": 5,
    "start_time": "2022-05-11T01:50:07.680Z"
   },
   {
    "duration": 143,
    "start_time": "2022-05-11T01:50:07.687Z"
   },
   {
    "duration": 134,
    "start_time": "2022-05-11T01:50:07.831Z"
   },
   {
    "duration": 3,
    "start_time": "2022-05-11T01:50:07.966Z"
   },
   {
    "duration": 6,
    "start_time": "2022-05-11T01:50:07.971Z"
   },
   {
    "duration": 34,
    "start_time": "2022-05-11T01:50:07.978Z"
   },
   {
    "duration": 4,
    "start_time": "2022-05-11T01:50:08.014Z"
   },
   {
    "duration": 10,
    "start_time": "2022-05-11T01:50:08.019Z"
   },
   {
    "duration": 6,
    "start_time": "2022-05-11T01:50:08.031Z"
   },
   {
    "duration": 174,
    "start_time": "2022-05-11T01:50:08.038Z"
   },
   {
    "duration": 5,
    "start_time": "2022-05-11T01:50:08.216Z"
   },
   {
    "duration": 112,
    "start_time": "2022-05-11T01:50:08.222Z"
   },
   {
    "duration": 21,
    "start_time": "2022-05-11T01:50:08.336Z"
   },
   {
    "duration": 3,
    "start_time": "2022-05-11T01:50:08.359Z"
   },
   {
    "duration": 6,
    "start_time": "2022-05-11T01:50:08.363Z"
   },
   {
    "duration": 4,
    "start_time": "2022-05-11T01:50:08.370Z"
   },
   {
    "duration": 27,
    "start_time": "2022-05-11T01:50:08.375Z"
   },
   {
    "duration": 6,
    "start_time": "2022-05-11T01:50:08.403Z"
   },
   {
    "duration": 6,
    "start_time": "2022-05-11T01:50:08.411Z"
   },
   {
    "duration": 5,
    "start_time": "2022-05-11T01:50:08.418Z"
   },
   {
    "duration": 11,
    "start_time": "2022-05-11T01:50:08.424Z"
   },
   {
    "duration": 12,
    "start_time": "2022-05-11T01:50:08.437Z"
   },
   {
    "duration": 7,
    "start_time": "2022-05-11T01:50:08.451Z"
   },
   {
    "duration": 50,
    "start_time": "2022-05-11T01:50:08.459Z"
   },
   {
    "duration": 6,
    "start_time": "2022-05-11T01:50:08.511Z"
   },
   {
    "duration": 22,
    "start_time": "2022-05-11T01:50:08.519Z"
   },
   {
    "duration": 17,
    "start_time": "2022-05-11T01:50:08.543Z"
   },
   {
    "duration": 77,
    "start_time": "2022-05-11T01:50:08.561Z"
   },
   {
    "duration": 42,
    "start_time": "2022-05-11T01:50:08.639Z"
   },
   {
    "duration": 19,
    "start_time": "2022-05-11T01:50:08.682Z"
   },
   {
    "duration": 11,
    "start_time": "2022-05-11T01:50:08.702Z"
   },
   {
    "duration": 20,
    "start_time": "2022-05-11T01:50:08.714Z"
   },
   {
    "duration": 10,
    "start_time": "2022-05-11T01:50:08.736Z"
   },
   {
    "duration": 21,
    "start_time": "2022-05-11T01:50:08.747Z"
   },
   {
    "duration": 4,
    "start_time": "2022-05-11T01:50:08.769Z"
   },
   {
    "duration": 45,
    "start_time": "2022-05-11T01:50:08.774Z"
   },
   {
    "duration": 27,
    "start_time": "2022-05-11T01:50:08.821Z"
   },
   {
    "duration": 119,
    "start_time": "2022-05-11T01:50:08.849Z"
   },
   {
    "duration": 201,
    "start_time": "2022-05-11T01:50:08.970Z"
   },
   {
    "duration": 111,
    "start_time": "2022-05-11T01:50:09.172Z"
   },
   {
    "duration": 208,
    "start_time": "2022-05-11T01:50:09.284Z"
   },
   {
    "duration": 89,
    "start_time": "2022-05-11T01:50:09.494Z"
   },
   {
    "duration": 125,
    "start_time": "2022-05-11T01:50:09.585Z"
   },
   {
    "duration": 98,
    "start_time": "2022-05-11T01:50:09.711Z"
   },
   {
    "duration": 180,
    "start_time": "2022-05-11T01:50:09.810Z"
   },
   {
    "duration": 14,
    "start_time": "2022-05-11T01:50:09.991Z"
   },
   {
    "duration": 105,
    "start_time": "2022-05-11T01:50:10.006Z"
   },
   {
    "duration": 199,
    "start_time": "2022-05-11T01:50:10.113Z"
   },
   {
    "duration": 159,
    "start_time": "2022-05-11T01:50:10.313Z"
   },
   {
    "duration": 17,
    "start_time": "2022-05-11T01:50:10.474Z"
   },
   {
    "duration": 208,
    "start_time": "2022-05-11T01:50:10.492Z"
   },
   {
    "duration": 21,
    "start_time": "2022-05-11T01:50:10.701Z"
   },
   {
    "duration": 7,
    "start_time": "2022-05-11T01:50:10.723Z"
   },
   {
    "duration": 201,
    "start_time": "2022-05-11T01:50:10.732Z"
   },
   {
    "duration": 12,
    "start_time": "2022-05-11T01:50:10.935Z"
   },
   {
    "duration": 21,
    "start_time": "2022-05-11T01:50:10.949Z"
   },
   {
    "duration": 39,
    "start_time": "2022-05-11T01:50:10.971Z"
   },
   {
    "duration": 29,
    "start_time": "2022-05-11T01:50:11.012Z"
   },
   {
    "duration": 30,
    "start_time": "2022-05-11T01:50:11.042Z"
   },
   {
    "duration": 63,
    "start_time": "2022-05-11T01:50:11.073Z"
   },
   {
    "duration": 15,
    "start_time": "2022-05-11T01:50:11.137Z"
   },
   {
    "duration": 46,
    "start_time": "2022-05-11T01:50:11.154Z"
   },
   {
    "duration": 34,
    "start_time": "2022-05-11T01:50:11.202Z"
   },
   {
    "duration": 23,
    "start_time": "2022-05-11T01:50:11.237Z"
   },
   {
    "duration": 36,
    "start_time": "2022-05-11T01:50:11.265Z"
   },
   {
    "duration": 133,
    "start_time": "2022-05-11T01:50:11.302Z"
   },
   {
    "duration": 3202,
    "start_time": "2022-05-11T01:50:11.437Z"
   },
   {
    "duration": 7,
    "start_time": "2022-05-11T01:50:45.642Z"
   },
   {
    "duration": 5,
    "start_time": "2022-05-11T01:50:50.863Z"
   },
   {
    "duration": 60,
    "start_time": "2022-05-11T01:51:10.547Z"
   },
   {
    "duration": 4,
    "start_time": "2022-05-11T01:51:56.622Z"
   },
   {
    "duration": 2287,
    "start_time": "2022-05-11T01:53:43.892Z"
   },
   {
    "duration": 2225,
    "start_time": "2022-05-11T01:54:30.712Z"
   },
   {
    "duration": 2279,
    "start_time": "2022-05-11T01:54:45.610Z"
   },
   {
    "duration": 4,
    "start_time": "2022-05-11T01:54:55.450Z"
   },
   {
    "duration": 21,
    "start_time": "2022-05-11T01:55:58.610Z"
   },
   {
    "duration": 529,
    "start_time": "2022-05-11T01:56:20.366Z"
   },
   {
    "duration": 13,
    "start_time": "2022-05-11T01:56:20.897Z"
   },
   {
    "duration": 75,
    "start_time": "2022-05-11T01:56:20.912Z"
   },
   {
    "duration": 25,
    "start_time": "2022-05-11T01:56:20.989Z"
   },
   {
    "duration": 52,
    "start_time": "2022-05-11T01:56:21.016Z"
   },
   {
    "duration": 12,
    "start_time": "2022-05-11T01:56:21.069Z"
   },
   {
    "duration": 69,
    "start_time": "2022-05-11T01:56:21.082Z"
   },
   {
    "duration": 3,
    "start_time": "2022-05-11T01:56:21.152Z"
   },
   {
    "duration": 27,
    "start_time": "2022-05-11T01:56:21.157Z"
   },
   {
    "duration": 28,
    "start_time": "2022-05-11T01:56:21.186Z"
   },
   {
    "duration": 387,
    "start_time": "2022-05-11T01:56:21.216Z"
   },
   {
    "duration": 7,
    "start_time": "2022-05-11T01:56:21.604Z"
   },
   {
    "duration": 120,
    "start_time": "2022-05-11T01:56:21.612Z"
   },
   {
    "duration": 4,
    "start_time": "2022-05-11T01:56:21.733Z"
   },
   {
    "duration": 17,
    "start_time": "2022-05-11T01:56:21.738Z"
   },
   {
    "duration": 138,
    "start_time": "2022-05-11T01:56:21.756Z"
   },
   {
    "duration": 4,
    "start_time": "2022-05-11T01:56:21.896Z"
   },
   {
    "duration": 8,
    "start_time": "2022-05-11T01:56:21.901Z"
   },
   {
    "duration": 130,
    "start_time": "2022-05-11T01:56:21.910Z"
   },
   {
    "duration": 138,
    "start_time": "2022-05-11T01:56:22.041Z"
   },
   {
    "duration": 3,
    "start_time": "2022-05-11T01:56:22.180Z"
   },
   {
    "duration": 15,
    "start_time": "2022-05-11T01:56:22.185Z"
   },
   {
    "duration": 30,
    "start_time": "2022-05-11T01:56:22.201Z"
   },
   {
    "duration": 3,
    "start_time": "2022-05-11T01:56:22.233Z"
   },
   {
    "duration": 11,
    "start_time": "2022-05-11T01:56:22.238Z"
   },
   {
    "duration": 6,
    "start_time": "2022-05-11T01:56:22.250Z"
   },
   {
    "duration": 181,
    "start_time": "2022-05-11T01:56:22.258Z"
   },
   {
    "duration": 4,
    "start_time": "2022-05-11T01:56:22.443Z"
   },
   {
    "duration": 113,
    "start_time": "2022-05-11T01:56:22.448Z"
   },
   {
    "duration": 23,
    "start_time": "2022-05-11T01:56:22.562Z"
   },
   {
    "duration": 4,
    "start_time": "2022-05-11T01:56:22.599Z"
   },
   {
    "duration": 7,
    "start_time": "2022-05-11T01:56:22.604Z"
   },
   {
    "duration": 5,
    "start_time": "2022-05-11T01:56:22.612Z"
   },
   {
    "duration": 6,
    "start_time": "2022-05-11T01:56:22.619Z"
   },
   {
    "duration": 7,
    "start_time": "2022-05-11T01:56:22.627Z"
   },
   {
    "duration": 6,
    "start_time": "2022-05-11T01:56:22.636Z"
   },
   {
    "duration": 6,
    "start_time": "2022-05-11T01:56:22.643Z"
   },
   {
    "duration": 15,
    "start_time": "2022-05-11T01:56:22.651Z"
   },
   {
    "duration": 12,
    "start_time": "2022-05-11T01:56:22.667Z"
   },
   {
    "duration": 23,
    "start_time": "2022-05-11T01:56:22.680Z"
   },
   {
    "duration": 30,
    "start_time": "2022-05-11T01:56:22.705Z"
   },
   {
    "duration": 16,
    "start_time": "2022-05-11T01:56:22.736Z"
   },
   {
    "duration": 21,
    "start_time": "2022-05-11T01:56:22.753Z"
   },
   {
    "duration": 15,
    "start_time": "2022-05-11T01:56:22.776Z"
   },
   {
    "duration": 56,
    "start_time": "2022-05-11T01:56:22.792Z"
   },
   {
    "duration": 60,
    "start_time": "2022-05-11T01:56:22.850Z"
   },
   {
    "duration": 4,
    "start_time": "2022-05-11T01:56:22.911Z"
   },
   {
    "duration": 16,
    "start_time": "2022-05-11T01:56:22.917Z"
   },
   {
    "duration": 20,
    "start_time": "2022-05-11T01:56:22.934Z"
   },
   {
    "duration": 10,
    "start_time": "2022-05-11T01:56:22.956Z"
   },
   {
    "duration": 44,
    "start_time": "2022-05-11T01:56:22.968Z"
   },
   {
    "duration": 4,
    "start_time": "2022-05-11T01:56:23.014Z"
   },
   {
    "duration": 28,
    "start_time": "2022-05-11T01:56:23.020Z"
   },
   {
    "duration": 27,
    "start_time": "2022-05-11T01:56:23.049Z"
   },
   {
    "duration": 123,
    "start_time": "2022-05-11T01:56:23.077Z"
   },
   {
    "duration": 203,
    "start_time": "2022-05-11T01:56:23.202Z"
   },
   {
    "duration": 117,
    "start_time": "2022-05-11T01:56:23.407Z"
   },
   {
    "duration": 209,
    "start_time": "2022-05-11T01:56:23.525Z"
   },
   {
    "duration": 97,
    "start_time": "2022-05-11T01:56:23.736Z"
   },
   {
    "duration": 126,
    "start_time": "2022-05-11T01:56:23.835Z"
   },
   {
    "duration": 101,
    "start_time": "2022-05-11T01:56:23.963Z"
   },
   {
    "duration": 192,
    "start_time": "2022-05-11T01:56:24.065Z"
   },
   {
    "duration": 7,
    "start_time": "2022-05-11T01:56:24.259Z"
   },
   {
    "duration": 111,
    "start_time": "2022-05-11T01:56:24.267Z"
   },
   {
    "duration": 208,
    "start_time": "2022-05-11T01:56:24.380Z"
   },
   {
    "duration": 156,
    "start_time": "2022-05-11T01:56:24.589Z"
   },
   {
    "duration": 20,
    "start_time": "2022-05-11T01:56:24.746Z"
   },
   {
    "duration": 211,
    "start_time": "2022-05-11T01:56:24.767Z"
   },
   {
    "duration": 24,
    "start_time": "2022-05-11T01:56:24.979Z"
   },
   {
    "duration": 7,
    "start_time": "2022-05-11T01:56:25.004Z"
   },
   {
    "duration": 202,
    "start_time": "2022-05-11T01:56:25.012Z"
   },
   {
    "duration": 13,
    "start_time": "2022-05-11T01:56:25.215Z"
   },
   {
    "duration": 10,
    "start_time": "2022-05-11T01:56:25.229Z"
   },
   {
    "duration": 11,
    "start_time": "2022-05-11T01:56:25.240Z"
   },
   {
    "duration": 20,
    "start_time": "2022-05-11T01:56:25.252Z"
   },
   {
    "duration": 6,
    "start_time": "2022-05-11T01:56:25.274Z"
   },
   {
    "duration": 45,
    "start_time": "2022-05-11T01:56:25.281Z"
   },
   {
    "duration": 14,
    "start_time": "2022-05-11T01:56:25.327Z"
   },
   {
    "duration": 14,
    "start_time": "2022-05-11T01:56:25.342Z"
   },
   {
    "duration": 6,
    "start_time": "2022-05-11T01:56:25.357Z"
   },
   {
    "duration": 9,
    "start_time": "2022-05-11T01:56:25.364Z"
   },
   {
    "duration": 31,
    "start_time": "2022-05-11T01:56:25.378Z"
   },
   {
    "duration": 17,
    "start_time": "2022-05-11T01:56:25.411Z"
   },
   {
    "duration": 121,
    "start_time": "2022-05-11T01:56:25.429Z"
   },
   {
    "duration": 4,
    "start_time": "2022-05-11T01:56:25.552Z"
   },
   {
    "duration": 508,
    "start_time": "2022-05-11T01:57:38.882Z"
   },
   {
    "duration": 13,
    "start_time": "2022-05-11T01:57:39.392Z"
   },
   {
    "duration": 71,
    "start_time": "2022-05-11T01:57:39.407Z"
   },
   {
    "duration": 29,
    "start_time": "2022-05-11T01:57:39.480Z"
   },
   {
    "duration": 38,
    "start_time": "2022-05-11T01:57:39.511Z"
   },
   {
    "duration": 12,
    "start_time": "2022-05-11T01:57:39.550Z"
   },
   {
    "duration": 85,
    "start_time": "2022-05-11T01:57:39.564Z"
   },
   {
    "duration": 4,
    "start_time": "2022-05-11T01:57:39.651Z"
   },
   {
    "duration": 23,
    "start_time": "2022-05-11T01:57:39.656Z"
   },
   {
    "duration": 26,
    "start_time": "2022-05-11T01:57:39.682Z"
   },
   {
    "duration": 373,
    "start_time": "2022-05-11T01:57:39.710Z"
   },
   {
    "duration": 16,
    "start_time": "2022-05-11T01:57:40.085Z"
   },
   {
    "duration": 119,
    "start_time": "2022-05-11T01:57:40.102Z"
   },
   {
    "duration": 4,
    "start_time": "2022-05-11T01:57:40.222Z"
   },
   {
    "duration": 4,
    "start_time": "2022-05-11T01:57:40.228Z"
   },
   {
    "duration": 146,
    "start_time": "2022-05-11T01:57:40.234Z"
   },
   {
    "duration": 5,
    "start_time": "2022-05-11T01:57:40.382Z"
   },
   {
    "duration": 13,
    "start_time": "2022-05-11T01:57:40.389Z"
   },
   {
    "duration": 143,
    "start_time": "2022-05-11T01:57:40.404Z"
   },
   {
    "duration": 133,
    "start_time": "2022-05-11T01:57:40.549Z"
   },
   {
    "duration": 4,
    "start_time": "2022-05-11T01:57:40.683Z"
   },
   {
    "duration": 4,
    "start_time": "2022-05-11T01:57:40.700Z"
   },
   {
    "duration": 26,
    "start_time": "2022-05-11T01:57:40.706Z"
   },
   {
    "duration": 4,
    "start_time": "2022-05-11T01:57:40.734Z"
   },
   {
    "duration": 7,
    "start_time": "2022-05-11T01:57:40.740Z"
   },
   {
    "duration": 4,
    "start_time": "2022-05-11T01:57:40.749Z"
   },
   {
    "duration": 197,
    "start_time": "2022-05-11T01:57:40.755Z"
   },
   {
    "duration": 5,
    "start_time": "2022-05-11T01:57:40.957Z"
   },
   {
    "duration": 113,
    "start_time": "2022-05-11T01:57:40.964Z"
   },
   {
    "duration": 32,
    "start_time": "2022-05-11T01:57:41.079Z"
   },
   {
    "duration": 4,
    "start_time": "2022-05-11T01:57:41.112Z"
   },
   {
    "duration": 9,
    "start_time": "2022-05-11T01:57:41.118Z"
   },
   {
    "duration": 5,
    "start_time": "2022-05-11T01:57:41.128Z"
   },
   {
    "duration": 6,
    "start_time": "2022-05-11T01:57:41.135Z"
   },
   {
    "duration": 6,
    "start_time": "2022-05-11T01:57:41.142Z"
   },
   {
    "duration": 4,
    "start_time": "2022-05-11T01:57:41.149Z"
   },
   {
    "duration": 6,
    "start_time": "2022-05-11T01:57:41.155Z"
   },
   {
    "duration": 43,
    "start_time": "2022-05-11T01:57:41.163Z"
   },
   {
    "duration": 14,
    "start_time": "2022-05-11T01:57:41.207Z"
   },
   {
    "duration": 7,
    "start_time": "2022-05-11T01:57:41.223Z"
   },
   {
    "duration": 25,
    "start_time": "2022-05-11T01:57:41.232Z"
   },
   {
    "duration": 7,
    "start_time": "2022-05-11T01:57:41.259Z"
   },
   {
    "duration": 48,
    "start_time": "2022-05-11T01:57:41.268Z"
   },
   {
    "duration": 18,
    "start_time": "2022-05-11T01:57:41.317Z"
   },
   {
    "duration": 72,
    "start_time": "2022-05-11T01:57:41.337Z"
   },
   {
    "duration": 47,
    "start_time": "2022-05-11T01:57:41.411Z"
   },
   {
    "duration": 4,
    "start_time": "2022-05-11T01:57:41.460Z"
   },
   {
    "duration": 34,
    "start_time": "2022-05-11T01:57:41.466Z"
   },
   {
    "duration": 22,
    "start_time": "2022-05-11T01:57:41.502Z"
   },
   {
    "duration": 12,
    "start_time": "2022-05-11T01:57:41.526Z"
   },
   {
    "duration": 21,
    "start_time": "2022-05-11T01:57:41.539Z"
   },
   {
    "duration": 5,
    "start_time": "2022-05-11T01:57:41.562Z"
   },
   {
    "duration": 21,
    "start_time": "2022-05-11T01:57:41.600Z"
   },
   {
    "duration": 28,
    "start_time": "2022-05-11T01:57:41.622Z"
   },
   {
    "duration": 130,
    "start_time": "2022-05-11T01:57:41.652Z"
   },
   {
    "duration": 209,
    "start_time": "2022-05-11T01:57:41.784Z"
   },
   {
    "duration": 115,
    "start_time": "2022-05-11T01:57:41.995Z"
   },
   {
    "duration": 218,
    "start_time": "2022-05-11T01:57:42.112Z"
   },
   {
    "duration": 101,
    "start_time": "2022-05-11T01:57:42.331Z"
   },
   {
    "duration": 121,
    "start_time": "2022-05-11T01:57:42.434Z"
   },
   {
    "duration": 100,
    "start_time": "2022-05-11T01:57:42.557Z"
   },
   {
    "duration": 187,
    "start_time": "2022-05-11T01:57:42.659Z"
   },
   {
    "duration": 8,
    "start_time": "2022-05-11T01:57:42.848Z"
   },
   {
    "duration": 113,
    "start_time": "2022-05-11T01:57:42.857Z"
   },
   {
    "duration": 200,
    "start_time": "2022-05-11T01:57:42.972Z"
   },
   {
    "duration": 151,
    "start_time": "2022-05-11T01:57:43.174Z"
   },
   {
    "duration": 19,
    "start_time": "2022-05-11T01:57:43.326Z"
   },
   {
    "duration": 211,
    "start_time": "2022-05-11T01:57:43.346Z"
   },
   {
    "duration": 21,
    "start_time": "2022-05-11T01:57:43.559Z"
   },
   {
    "duration": 6,
    "start_time": "2022-05-11T01:57:43.581Z"
   },
   {
    "duration": 159,
    "start_time": "2022-05-11T01:57:43.600Z"
   },
   {
    "duration": 12,
    "start_time": "2022-05-11T01:57:43.760Z"
   },
   {
    "duration": 10,
    "start_time": "2022-05-11T01:57:43.774Z"
   },
   {
    "duration": 24,
    "start_time": "2022-05-11T01:57:43.785Z"
   },
   {
    "duration": 10,
    "start_time": "2022-05-11T01:57:43.810Z"
   },
   {
    "duration": 6,
    "start_time": "2022-05-11T01:57:43.822Z"
   },
   {
    "duration": 24,
    "start_time": "2022-05-11T01:57:43.830Z"
   },
   {
    "duration": 14,
    "start_time": "2022-05-11T01:57:43.856Z"
   },
   {
    "duration": 16,
    "start_time": "2022-05-11T01:57:43.900Z"
   },
   {
    "duration": 6,
    "start_time": "2022-05-11T01:57:43.917Z"
   },
   {
    "duration": 5,
    "start_time": "2022-05-11T01:57:43.924Z"
   },
   {
    "duration": 20,
    "start_time": "2022-05-11T01:57:43.934Z"
   },
   {
    "duration": 45,
    "start_time": "2022-05-11T01:57:43.956Z"
   },
   {
    "duration": 120,
    "start_time": "2022-05-11T01:57:44.002Z"
   },
   {
    "duration": 5,
    "start_time": "2022-05-11T01:57:44.124Z"
   },
   {
    "duration": 562,
    "start_time": "2022-05-11T12:30:26.736Z"
   },
   {
    "duration": 14,
    "start_time": "2022-05-11T12:30:27.300Z"
   },
   {
    "duration": 88,
    "start_time": "2022-05-11T12:30:27.316Z"
   },
   {
    "duration": 24,
    "start_time": "2022-05-11T12:30:27.406Z"
   },
   {
    "duration": 60,
    "start_time": "2022-05-11T12:30:27.432Z"
   },
   {
    "duration": 15,
    "start_time": "2022-05-11T12:30:27.494Z"
   },
   {
    "duration": 89,
    "start_time": "2022-05-11T12:30:27.511Z"
   },
   {
    "duration": 4,
    "start_time": "2022-05-11T12:30:27.602Z"
   },
   {
    "duration": 29,
    "start_time": "2022-05-11T12:30:27.608Z"
   },
   {
    "duration": 14,
    "start_time": "2022-05-11T12:30:27.654Z"
   },
   {
    "duration": 549,
    "start_time": "2022-05-11T12:30:27.670Z"
   },
   {
    "duration": 8,
    "start_time": "2022-05-11T12:30:28.221Z"
   },
   {
    "duration": 138,
    "start_time": "2022-05-11T12:30:28.230Z"
   },
   {
    "duration": 4,
    "start_time": "2022-05-11T12:30:28.369Z"
   },
   {
    "duration": 20,
    "start_time": "2022-05-11T12:30:28.375Z"
   },
   {
    "duration": 157,
    "start_time": "2022-05-11T12:30:28.397Z"
   },
   {
    "duration": 5,
    "start_time": "2022-05-11T12:30:28.556Z"
   },
   {
    "duration": 28,
    "start_time": "2022-05-11T12:30:28.562Z"
   },
   {
    "duration": 162,
    "start_time": "2022-05-11T12:30:28.592Z"
   },
   {
    "duration": 207,
    "start_time": "2022-05-11T12:30:28.756Z"
   },
   {
    "duration": 4,
    "start_time": "2022-05-11T12:30:28.965Z"
   },
   {
    "duration": 12,
    "start_time": "2022-05-11T12:30:28.970Z"
   },
   {
    "duration": 31,
    "start_time": "2022-05-11T12:30:28.984Z"
   },
   {
    "duration": 5,
    "start_time": "2022-05-11T12:30:29.016Z"
   },
   {
    "duration": 8,
    "start_time": "2022-05-11T12:30:29.023Z"
   },
   {
    "duration": 30,
    "start_time": "2022-05-11T12:30:29.032Z"
   },
   {
    "duration": 142,
    "start_time": "2022-05-11T12:30:29.063Z"
   },
   {
    "duration": 5,
    "start_time": "2022-05-11T12:30:29.210Z"
   },
   {
    "duration": 124,
    "start_time": "2022-05-11T12:30:29.216Z"
   },
   {
    "duration": 32,
    "start_time": "2022-05-11T12:30:29.342Z"
   },
   {
    "duration": 5,
    "start_time": "2022-05-11T12:30:29.376Z"
   },
   {
    "duration": 7,
    "start_time": "2022-05-11T12:30:29.382Z"
   },
   {
    "duration": 7,
    "start_time": "2022-05-11T12:30:29.390Z"
   },
   {
    "duration": 23,
    "start_time": "2022-05-11T12:30:29.399Z"
   },
   {
    "duration": 48,
    "start_time": "2022-05-11T12:30:29.424Z"
   },
   {
    "duration": 8,
    "start_time": "2022-05-11T12:30:29.474Z"
   },
   {
    "duration": 11,
    "start_time": "2022-05-11T12:30:29.484Z"
   },
   {
    "duration": 19,
    "start_time": "2022-05-11T12:30:29.496Z"
   },
   {
    "duration": 14,
    "start_time": "2022-05-11T12:30:29.517Z"
   },
   {
    "duration": 7,
    "start_time": "2022-05-11T12:30:29.533Z"
   },
   {
    "duration": 27,
    "start_time": "2022-05-11T12:30:29.542Z"
   },
   {
    "duration": 6,
    "start_time": "2022-05-11T12:30:29.571Z"
   },
   {
    "duration": 25,
    "start_time": "2022-05-11T12:30:29.578Z"
   },
   {
    "duration": 20,
    "start_time": "2022-05-11T12:30:29.604Z"
   },
   {
    "duration": 81,
    "start_time": "2022-05-11T12:30:29.625Z"
   },
   {
    "duration": 67,
    "start_time": "2022-05-11T12:30:29.708Z"
   },
   {
    "duration": 4,
    "start_time": "2022-05-11T12:30:29.777Z"
   },
   {
    "duration": 30,
    "start_time": "2022-05-11T12:30:29.783Z"
   },
   {
    "duration": 38,
    "start_time": "2022-05-11T12:30:29.815Z"
   },
   {
    "duration": 14,
    "start_time": "2022-05-11T12:30:29.855Z"
   },
   {
    "duration": 25,
    "start_time": "2022-05-11T12:30:29.871Z"
   },
   {
    "duration": 6,
    "start_time": "2022-05-11T12:30:29.898Z"
   },
   {
    "duration": 50,
    "start_time": "2022-05-11T12:30:29.905Z"
   },
   {
    "duration": 28,
    "start_time": "2022-05-11T12:30:29.957Z"
   },
   {
    "duration": 128,
    "start_time": "2022-05-11T12:30:29.987Z"
   },
   {
    "duration": 234,
    "start_time": "2022-05-11T12:30:30.117Z"
   },
   {
    "duration": 135,
    "start_time": "2022-05-11T12:30:30.352Z"
   },
   {
    "duration": 242,
    "start_time": "2022-05-11T12:30:30.489Z"
   },
   {
    "duration": 113,
    "start_time": "2022-05-11T12:30:30.733Z"
   },
   {
    "duration": 142,
    "start_time": "2022-05-11T12:30:30.854Z"
   },
   {
    "duration": 190,
    "start_time": "2022-05-11T12:30:30.998Z"
   },
   {
    "duration": 150,
    "start_time": "2022-05-11T12:30:31.189Z"
   },
   {
    "duration": 15,
    "start_time": "2022-05-11T12:30:31.340Z"
   },
   {
    "duration": 121,
    "start_time": "2022-05-11T12:30:31.357Z"
   },
   {
    "duration": 232,
    "start_time": "2022-05-11T12:30:31.480Z"
   },
   {
    "duration": 179,
    "start_time": "2022-05-11T12:30:31.714Z"
   },
   {
    "duration": 22,
    "start_time": "2022-05-11T12:30:31.895Z"
   },
   {
    "duration": 250,
    "start_time": "2022-05-11T12:30:31.919Z"
   },
   {
    "duration": 23,
    "start_time": "2022-05-11T12:30:32.170Z"
   },
   {
    "duration": 32,
    "start_time": "2022-05-11T12:30:32.195Z"
   },
   {
    "duration": 175,
    "start_time": "2022-05-11T12:30:32.229Z"
   },
   {
    "duration": 15,
    "start_time": "2022-05-11T12:30:32.406Z"
   },
   {
    "duration": 18,
    "start_time": "2022-05-11T12:30:32.422Z"
   },
   {
    "duration": 25,
    "start_time": "2022-05-11T12:30:32.441Z"
   },
   {
    "duration": 36,
    "start_time": "2022-05-11T12:30:32.468Z"
   },
   {
    "duration": 120,
    "start_time": "2022-05-11T12:30:32.506Z"
   },
   {
    "duration": 36,
    "start_time": "2022-05-11T12:30:32.627Z"
   },
   {
    "duration": 18,
    "start_time": "2022-05-11T12:30:32.664Z"
   },
   {
    "duration": 30,
    "start_time": "2022-05-11T12:30:32.684Z"
   },
   {
    "duration": 7,
    "start_time": "2022-05-11T12:30:32.716Z"
   },
   {
    "duration": 18,
    "start_time": "2022-05-11T12:30:32.725Z"
   },
   {
    "duration": 26,
    "start_time": "2022-05-11T12:30:32.749Z"
   },
   {
    "duration": 26,
    "start_time": "2022-05-11T12:30:32.777Z"
   },
   {
    "duration": 160,
    "start_time": "2022-05-11T12:30:32.805Z"
   },
   {
    "duration": 442,
    "start_time": "2022-05-11T17:49:57.882Z"
   },
   {
    "duration": 13,
    "start_time": "2022-05-11T17:49:58.326Z"
   },
   {
    "duration": 71,
    "start_time": "2022-05-11T17:49:58.341Z"
   },
   {
    "duration": 23,
    "start_time": "2022-05-11T17:49:58.415Z"
   },
   {
    "duration": 62,
    "start_time": "2022-05-11T17:49:58.440Z"
   },
   {
    "duration": 13,
    "start_time": "2022-05-11T17:49:58.504Z"
   },
   {
    "duration": 76,
    "start_time": "2022-05-11T17:49:58.518Z"
   },
   {
    "duration": 3,
    "start_time": "2022-05-11T17:49:58.596Z"
   },
   {
    "duration": 21,
    "start_time": "2022-05-11T17:49:58.601Z"
   },
   {
    "duration": 10,
    "start_time": "2022-05-11T17:49:58.624Z"
   },
   {
    "duration": 521,
    "start_time": "2022-05-11T17:49:58.635Z"
   },
   {
    "duration": 15,
    "start_time": "2022-05-11T17:49:59.157Z"
   },
   {
    "duration": 7,
    "start_time": "2022-05-11T17:49:59.173Z"
   },
   {
    "duration": 124,
    "start_time": "2022-05-11T17:49:59.182Z"
   },
   {
    "duration": 4,
    "start_time": "2022-05-11T17:49:59.307Z"
   },
   {
    "duration": 73,
    "start_time": "2022-05-11T17:55:54.840Z"
   },
   {
    "duration": 7,
    "start_time": "2022-05-11T17:55:54.915Z"
   },
   {
    "duration": 88,
    "start_time": "2022-05-11T17:55:54.923Z"
   },
   {
    "duration": 23,
    "start_time": "2022-05-11T17:55:55.013Z"
   },
   {
    "duration": 59,
    "start_time": "2022-05-11T17:55:55.037Z"
   },
   {
    "duration": 12,
    "start_time": "2022-05-11T17:55:55.097Z"
   },
   {
    "duration": 76,
    "start_time": "2022-05-11T17:55:55.111Z"
   },
   {
    "duration": 3,
    "start_time": "2022-05-11T17:55:55.188Z"
   },
   {
    "duration": 29,
    "start_time": "2022-05-11T17:55:55.192Z"
   },
   {
    "duration": 11,
    "start_time": "2022-05-11T17:55:55.224Z"
   },
   {
    "duration": 171,
    "start_time": "2022-05-11T17:55:55.236Z"
   },
   {
    "duration": 6,
    "start_time": "2022-05-11T17:55:55.408Z"
   },
   {
    "duration": 6,
    "start_time": "2022-05-11T17:55:55.415Z"
   },
   {
    "duration": 107,
    "start_time": "2022-05-11T17:55:55.423Z"
   },
   {
    "duration": 4,
    "start_time": "2022-05-11T17:55:55.531Z"
   },
   {
    "duration": 197,
    "start_time": "2022-05-11T17:55:55.536Z"
   },
   {
    "duration": 4,
    "start_time": "2022-05-11T17:55:55.734Z"
   },
   {
    "duration": 6,
    "start_time": "2022-05-11T17:55:55.739Z"
   },
   {
    "duration": 144,
    "start_time": "2022-05-11T17:55:55.746Z"
   },
   {
    "duration": 133,
    "start_time": "2022-05-11T17:55:55.891Z"
   },
   {
    "duration": 3,
    "start_time": "2022-05-11T17:55:56.026Z"
   },
   {
    "duration": 7,
    "start_time": "2022-05-11T17:55:56.030Z"
   },
   {
    "duration": 40,
    "start_time": "2022-05-11T17:55:56.039Z"
   },
   {
    "duration": 4,
    "start_time": "2022-05-11T17:55:56.081Z"
   },
   {
    "duration": 8,
    "start_time": "2022-05-11T17:55:56.087Z"
   },
   {
    "duration": 7,
    "start_time": "2022-05-11T17:55:56.097Z"
   },
   {
    "duration": 137,
    "start_time": "2022-05-11T17:55:56.106Z"
   },
   {
    "duration": 4,
    "start_time": "2022-05-11T17:55:56.246Z"
   },
   {
    "duration": 127,
    "start_time": "2022-05-11T17:55:56.251Z"
   },
   {
    "duration": 27,
    "start_time": "2022-05-11T17:55:56.379Z"
   },
   {
    "duration": 4,
    "start_time": "2022-05-11T17:55:56.407Z"
   },
   {
    "duration": 6,
    "start_time": "2022-05-11T17:55:56.412Z"
   },
   {
    "duration": 6,
    "start_time": "2022-05-11T17:55:56.420Z"
   },
   {
    "duration": 6,
    "start_time": "2022-05-11T17:55:56.428Z"
   },
   {
    "duration": 8,
    "start_time": "2022-05-11T17:55:56.435Z"
   },
   {
    "duration": 63,
    "start_time": "2022-05-11T17:56:28.353Z"
   },
   {
    "duration": 6,
    "start_time": "2022-05-11T17:56:28.418Z"
   },
   {
    "duration": 87,
    "start_time": "2022-05-11T17:56:28.425Z"
   },
   {
    "duration": 23,
    "start_time": "2022-05-11T17:56:28.514Z"
   },
   {
    "duration": 65,
    "start_time": "2022-05-11T17:56:28.538Z"
   },
   {
    "duration": 11,
    "start_time": "2022-05-11T17:56:28.605Z"
   },
   {
    "duration": 80,
    "start_time": "2022-05-11T17:56:28.618Z"
   },
   {
    "duration": 3,
    "start_time": "2022-05-11T17:56:28.700Z"
   },
   {
    "duration": 23,
    "start_time": "2022-05-11T17:56:28.704Z"
   },
   {
    "duration": 8,
    "start_time": "2022-05-11T17:56:28.730Z"
   },
   {
    "duration": 134,
    "start_time": "2022-05-11T17:56:28.740Z"
   },
   {
    "duration": 6,
    "start_time": "2022-05-11T17:56:28.876Z"
   },
   {
    "duration": 8,
    "start_time": "2022-05-11T17:56:28.883Z"
   },
   {
    "duration": 127,
    "start_time": "2022-05-11T17:56:28.893Z"
   },
   {
    "duration": 3,
    "start_time": "2022-05-11T17:56:29.022Z"
   },
   {
    "duration": 152,
    "start_time": "2022-05-11T17:56:29.027Z"
   },
   {
    "duration": 4,
    "start_time": "2022-05-11T17:56:29.181Z"
   },
   {
    "duration": 5,
    "start_time": "2022-05-11T17:56:29.187Z"
   },
   {
    "duration": 154,
    "start_time": "2022-05-11T17:56:29.193Z"
   },
   {
    "duration": 137,
    "start_time": "2022-05-11T17:56:29.349Z"
   },
   {
    "duration": 4,
    "start_time": "2022-05-11T17:56:29.487Z"
   },
   {
    "duration": 7,
    "start_time": "2022-05-11T17:56:29.492Z"
   },
   {
    "duration": 27,
    "start_time": "2022-05-11T17:56:29.500Z"
   },
   {
    "duration": 5,
    "start_time": "2022-05-11T17:56:29.528Z"
   },
   {
    "duration": 7,
    "start_time": "2022-05-11T17:56:29.534Z"
   },
   {
    "duration": 30,
    "start_time": "2022-05-11T17:56:29.542Z"
   },
   {
    "duration": 133,
    "start_time": "2022-05-11T17:56:29.573Z"
   },
   {
    "duration": 4,
    "start_time": "2022-05-11T17:56:29.709Z"
   },
   {
    "duration": 177,
    "start_time": "2022-05-11T17:56:29.715Z"
   },
   {
    "duration": 24,
    "start_time": "2022-05-11T17:56:29.893Z"
   },
   {
    "duration": 4,
    "start_time": "2022-05-11T17:56:29.918Z"
   },
   {
    "duration": 4,
    "start_time": "2022-05-11T17:56:29.923Z"
   },
   {
    "duration": 4,
    "start_time": "2022-05-11T17:56:29.929Z"
   },
   {
    "duration": 6,
    "start_time": "2022-05-11T17:56:29.934Z"
   },
   {
    "duration": 4,
    "start_time": "2022-05-11T17:56:29.971Z"
   },
   {
    "duration": 65,
    "start_time": "2022-05-11T18:09:49.542Z"
   },
   {
    "duration": 6,
    "start_time": "2022-05-11T18:09:49.610Z"
   },
   {
    "duration": 96,
    "start_time": "2022-05-11T18:09:49.618Z"
   },
   {
    "duration": 22,
    "start_time": "2022-05-11T18:09:49.716Z"
   },
   {
    "duration": 64,
    "start_time": "2022-05-11T18:09:49.740Z"
   },
   {
    "duration": 12,
    "start_time": "2022-05-11T18:09:49.806Z"
   },
   {
    "duration": 80,
    "start_time": "2022-05-11T18:09:49.819Z"
   },
   {
    "duration": 3,
    "start_time": "2022-05-11T18:09:49.901Z"
   },
   {
    "duration": 25,
    "start_time": "2022-05-11T18:09:49.905Z"
   },
   {
    "duration": 9,
    "start_time": "2022-05-11T18:09:49.933Z"
   },
   {
    "duration": 135,
    "start_time": "2022-05-11T18:09:49.943Z"
   },
   {
    "duration": 6,
    "start_time": "2022-05-11T18:09:50.079Z"
   },
   {
    "duration": 9,
    "start_time": "2022-05-11T18:09:50.086Z"
   },
   {
    "duration": 130,
    "start_time": "2022-05-11T18:09:50.097Z"
   },
   {
    "duration": 4,
    "start_time": "2022-05-11T18:09:50.229Z"
   },
   {
    "duration": 149,
    "start_time": "2022-05-11T18:09:50.235Z"
   },
   {
    "duration": 4,
    "start_time": "2022-05-11T18:09:50.386Z"
   },
   {
    "duration": 5,
    "start_time": "2022-05-11T18:09:50.391Z"
   },
   {
    "duration": 152,
    "start_time": "2022-05-11T18:09:50.397Z"
   },
   {
    "duration": 139,
    "start_time": "2022-05-11T18:09:50.550Z"
   },
   {
    "duration": 3,
    "start_time": "2022-05-11T18:09:50.690Z"
   },
   {
    "duration": 7,
    "start_time": "2022-05-11T18:09:50.695Z"
   },
   {
    "duration": 29,
    "start_time": "2022-05-11T18:09:50.704Z"
   },
   {
    "duration": 4,
    "start_time": "2022-05-11T18:09:50.734Z"
   },
   {
    "duration": 29,
    "start_time": "2022-05-11T18:09:50.742Z"
   },
   {
    "duration": 5,
    "start_time": "2022-05-11T18:09:50.772Z"
   },
   {
    "duration": 133,
    "start_time": "2022-05-11T18:09:50.778Z"
   },
   {
    "duration": 4,
    "start_time": "2022-05-11T18:09:50.914Z"
   },
   {
    "duration": 142,
    "start_time": "2022-05-11T18:09:50.920Z"
   },
   {
    "duration": 34,
    "start_time": "2022-05-11T18:09:51.064Z"
   },
   {
    "duration": 4,
    "start_time": "2022-05-11T18:09:51.099Z"
   },
   {
    "duration": 8,
    "start_time": "2022-05-11T18:09:51.104Z"
   },
   {
    "duration": 6,
    "start_time": "2022-05-11T18:09:51.113Z"
   },
   {
    "duration": 9,
    "start_time": "2022-05-11T18:09:51.120Z"
   },
   {
    "duration": 7,
    "start_time": "2022-05-11T18:09:51.132Z"
   },
   {
    "duration": 32,
    "start_time": "2022-05-11T18:09:51.140Z"
   },
   {
    "duration": 6,
    "start_time": "2022-05-11T18:09:51.174Z"
   },
   {
    "duration": 14,
    "start_time": "2022-05-11T18:09:51.181Z"
   },
   {
    "duration": 14,
    "start_time": "2022-05-11T18:09:51.197Z"
   },
   {
    "duration": 8,
    "start_time": "2022-05-11T18:09:51.213Z"
   },
   {
    "duration": 49,
    "start_time": "2022-05-11T18:09:51.223Z"
   },
   {
    "duration": 8,
    "start_time": "2022-05-11T18:09:51.273Z"
   },
   {
    "duration": 26,
    "start_time": "2022-05-11T18:09:51.282Z"
   },
   {
    "duration": 18,
    "start_time": "2022-05-11T18:09:51.310Z"
   },
   {
    "duration": 84,
    "start_time": "2022-05-11T18:09:51.330Z"
   },
   {
    "duration": 59,
    "start_time": "2022-05-11T18:09:51.415Z"
   },
   {
    "duration": 4,
    "start_time": "2022-05-11T18:09:51.476Z"
   },
   {
    "duration": 20,
    "start_time": "2022-05-11T18:09:51.482Z"
   },
   {
    "duration": 33,
    "start_time": "2022-05-11T18:09:51.504Z"
   },
   {
    "duration": 2,
    "start_time": "2022-05-11T18:09:51.539Z"
   },
   {
    "duration": 355,
    "start_time": "2022-05-11T18:09:51.543Z"
   },
   {
    "duration": 59,
    "start_time": "2022-05-11T18:33:15.532Z"
   },
   {
    "duration": 8,
    "start_time": "2022-05-11T18:33:15.593Z"
   },
   {
    "duration": 82,
    "start_time": "2022-05-11T18:33:15.602Z"
   },
   {
    "duration": 22,
    "start_time": "2022-05-11T18:33:15.686Z"
   },
   {
    "duration": 62,
    "start_time": "2022-05-11T18:33:15.709Z"
   },
   {
    "duration": 104,
    "start_time": "2022-05-11T18:33:15.773Z"
   },
   {
    "duration": 63,
    "start_time": "2022-05-11T18:33:15.879Z"
   },
   {
    "duration": 3,
    "start_time": "2022-05-11T18:33:15.944Z"
   },
   {
    "duration": 21,
    "start_time": "2022-05-11T18:33:15.971Z"
   },
   {
    "duration": 10,
    "start_time": "2022-05-11T18:33:15.994Z"
   },
   {
    "duration": 139,
    "start_time": "2022-05-11T18:33:16.005Z"
   },
   {
    "duration": 28,
    "start_time": "2022-05-11T18:33:16.146Z"
   },
   {
    "duration": 6,
    "start_time": "2022-05-11T18:33:16.176Z"
   },
   {
    "duration": 142,
    "start_time": "2022-05-11T18:33:16.183Z"
   },
   {
    "duration": 6,
    "start_time": "2022-05-11T18:33:16.327Z"
   },
   {
    "duration": 244,
    "start_time": "2022-05-11T18:33:16.335Z"
   },
   {
    "duration": 6,
    "start_time": "2022-05-11T18:33:16.581Z"
   },
   {
    "duration": 6,
    "start_time": "2022-05-11T18:33:16.588Z"
   },
   {
    "duration": 242,
    "start_time": "2022-05-11T18:33:16.596Z"
   },
   {
    "duration": 166,
    "start_time": "2022-05-11T18:33:16.841Z"
   },
   {
    "duration": 4,
    "start_time": "2022-05-11T18:33:17.009Z"
   },
   {
    "duration": 6,
    "start_time": "2022-05-11T18:33:17.014Z"
   },
   {
    "duration": 27,
    "start_time": "2022-05-11T18:33:17.022Z"
   },
   {
    "duration": 6,
    "start_time": "2022-05-11T18:33:17.070Z"
   },
   {
    "duration": 7,
    "start_time": "2022-05-11T18:33:17.078Z"
   },
   {
    "duration": 6,
    "start_time": "2022-05-11T18:33:17.087Z"
   },
   {
    "duration": 167,
    "start_time": "2022-05-11T18:33:17.095Z"
   },
   {
    "duration": 5,
    "start_time": "2022-05-11T18:33:17.273Z"
   },
   {
    "duration": 120,
    "start_time": "2022-05-11T18:33:17.280Z"
   },
   {
    "duration": 24,
    "start_time": "2022-05-11T18:33:17.402Z"
   },
   {
    "duration": 4,
    "start_time": "2022-05-11T18:33:17.428Z"
   },
   {
    "duration": 6,
    "start_time": "2022-05-11T18:33:17.434Z"
   },
   {
    "duration": 30,
    "start_time": "2022-05-11T18:33:17.442Z"
   },
   {
    "duration": 7,
    "start_time": "2022-05-11T18:33:17.474Z"
   },
   {
    "duration": 9,
    "start_time": "2022-05-11T18:33:17.483Z"
   },
   {
    "duration": 5,
    "start_time": "2022-05-11T18:33:17.493Z"
   },
   {
    "duration": 5,
    "start_time": "2022-05-11T18:33:17.500Z"
   },
   {
    "duration": 10,
    "start_time": "2022-05-11T18:33:17.507Z"
   },
   {
    "duration": 15,
    "start_time": "2022-05-11T18:33:17.518Z"
   },
   {
    "duration": 40,
    "start_time": "2022-05-11T18:33:17.535Z"
   },
   {
    "duration": 24,
    "start_time": "2022-05-11T18:33:17.577Z"
   },
   {
    "duration": 8,
    "start_time": "2022-05-11T18:33:17.603Z"
   },
   {
    "duration": 23,
    "start_time": "2022-05-11T18:33:17.613Z"
   },
   {
    "duration": 46,
    "start_time": "2022-05-11T18:33:17.637Z"
   },
   {
    "duration": 46,
    "start_time": "2022-05-11T18:33:17.684Z"
   },
   {
    "duration": 63,
    "start_time": "2022-05-11T18:33:17.732Z"
   },
   {
    "duration": 4,
    "start_time": "2022-05-11T18:33:17.797Z"
   },
   {
    "duration": 15,
    "start_time": "2022-05-11T18:33:17.802Z"
   },
   {
    "duration": 22,
    "start_time": "2022-05-11T18:33:17.819Z"
   },
   {
    "duration": 3,
    "start_time": "2022-05-11T18:33:17.843Z"
   },
   {
    "duration": 365,
    "start_time": "2022-05-11T18:33:17.847Z"
   },
   {
    "duration": 23,
    "start_time": "2022-05-11T18:33:18.214Z"
   },
   {
    "duration": 6,
    "start_time": "2022-05-11T18:33:18.238Z"
   },
   {
    "duration": 44,
    "start_time": "2022-05-11T18:33:18.245Z"
   },
   {
    "duration": 23,
    "start_time": "2022-05-11T18:33:18.291Z"
   },
   {
    "duration": 128,
    "start_time": "2022-05-11T18:33:18.316Z"
   },
   {
    "duration": 7,
    "start_time": "2022-05-11T18:33:18.445Z"
   },
   {
    "duration": 321,
    "start_time": "2022-05-11T18:33:18.453Z"
   },
   {
    "duration": 10,
    "start_time": "2022-05-11T18:33:29.960Z"
   },
   {
    "duration": 9,
    "start_time": "2022-05-11T18:33:45.773Z"
   },
   {
    "duration": 5,
    "start_time": "2022-05-11T18:33:56.229Z"
   },
   {
    "duration": 7,
    "start_time": "2022-05-11T18:42:16.159Z"
   },
   {
    "duration": 6,
    "start_time": "2022-05-11T18:42:45.213Z"
   },
   {
    "duration": 377,
    "start_time": "2022-05-11T18:42:59.207Z"
   },
   {
    "duration": 69,
    "start_time": "2022-05-11T18:46:47.216Z"
   },
   {
    "duration": 9,
    "start_time": "2022-05-11T18:46:56.163Z"
   },
   {
    "duration": 7,
    "start_time": "2022-05-11T18:47:27.308Z"
   },
   {
    "duration": 8,
    "start_time": "2022-05-11T18:48:47.975Z"
   },
   {
    "duration": 11,
    "start_time": "2022-05-11T19:00:58.235Z"
   },
   {
    "duration": 496,
    "start_time": "2022-05-11T19:01:05.205Z"
   },
   {
    "duration": 13,
    "start_time": "2022-05-11T19:01:05.703Z"
   },
   {
    "duration": 88,
    "start_time": "2022-05-11T19:01:05.718Z"
   },
   {
    "duration": 24,
    "start_time": "2022-05-11T19:01:05.808Z"
   },
   {
    "duration": 76,
    "start_time": "2022-05-11T19:01:05.833Z"
   },
   {
    "duration": 17,
    "start_time": "2022-05-11T19:01:05.911Z"
   },
   {
    "duration": 86,
    "start_time": "2022-05-11T19:01:05.930Z"
   },
   {
    "duration": 4,
    "start_time": "2022-05-11T19:01:06.017Z"
   },
   {
    "duration": 49,
    "start_time": "2022-05-11T19:01:06.023Z"
   },
   {
    "duration": 10,
    "start_time": "2022-05-11T19:01:06.075Z"
   },
   {
    "duration": 460,
    "start_time": "2022-05-11T19:01:06.087Z"
   },
   {
    "duration": 9,
    "start_time": "2022-05-11T19:01:06.549Z"
   },
   {
    "duration": 5,
    "start_time": "2022-05-11T19:01:06.560Z"
   },
   {
    "duration": 195,
    "start_time": "2022-05-11T19:01:06.567Z"
   },
   {
    "duration": 11,
    "start_time": "2022-05-11T19:01:06.764Z"
   },
   {
    "duration": 162,
    "start_time": "2022-05-11T19:01:06.776Z"
   },
   {
    "duration": 5,
    "start_time": "2022-05-11T19:01:06.940Z"
   },
   {
    "duration": 5,
    "start_time": "2022-05-11T19:01:06.946Z"
   },
   {
    "duration": 153,
    "start_time": "2022-05-11T19:01:06.952Z"
   },
   {
    "duration": 200,
    "start_time": "2022-05-11T19:01:07.107Z"
   },
   {
    "duration": 4,
    "start_time": "2022-05-11T19:01:07.309Z"
   },
   {
    "duration": 6,
    "start_time": "2022-05-11T19:01:07.314Z"
   },
   {
    "duration": 28,
    "start_time": "2022-05-11T19:01:07.322Z"
   },
   {
    "duration": 22,
    "start_time": "2022-05-11T19:01:07.351Z"
   },
   {
    "duration": 9,
    "start_time": "2022-05-11T19:01:07.375Z"
   },
   {
    "duration": 5,
    "start_time": "2022-05-11T19:01:07.386Z"
   },
   {
    "duration": 310,
    "start_time": "2022-05-11T19:01:07.393Z"
   },
   {
    "duration": 7,
    "start_time": "2022-05-11T19:01:07.711Z"
   },
   {
    "duration": 127,
    "start_time": "2022-05-11T19:01:07.720Z"
   },
   {
    "duration": 38,
    "start_time": "2022-05-11T19:01:07.849Z"
   },
   {
    "duration": 5,
    "start_time": "2022-05-11T19:01:07.889Z"
   },
   {
    "duration": 7,
    "start_time": "2022-05-11T19:01:07.896Z"
   },
   {
    "duration": 6,
    "start_time": "2022-05-11T19:01:07.905Z"
   },
   {
    "duration": 7,
    "start_time": "2022-05-11T19:01:07.912Z"
   },
   {
    "duration": 13,
    "start_time": "2022-05-11T19:01:07.921Z"
   },
   {
    "duration": 5,
    "start_time": "2022-05-11T19:01:07.936Z"
   },
   {
    "duration": 6,
    "start_time": "2022-05-11T19:01:07.970Z"
   },
   {
    "duration": 14,
    "start_time": "2022-05-11T19:01:07.978Z"
   },
   {
    "duration": 15,
    "start_time": "2022-05-11T19:01:07.994Z"
   },
   {
    "duration": 9,
    "start_time": "2022-05-11T19:01:08.011Z"
   },
   {
    "duration": 54,
    "start_time": "2022-05-11T19:01:08.022Z"
   },
   {
    "duration": 9,
    "start_time": "2022-05-11T19:01:08.078Z"
   },
   {
    "duration": 42,
    "start_time": "2022-05-11T19:01:08.090Z"
   },
   {
    "duration": 53,
    "start_time": "2022-05-11T19:01:08.135Z"
   },
   {
    "duration": 97,
    "start_time": "2022-05-11T19:01:08.190Z"
   },
   {
    "duration": 48,
    "start_time": "2022-05-11T19:01:08.289Z"
   },
   {
    "duration": 4,
    "start_time": "2022-05-11T19:01:08.339Z"
   },
   {
    "duration": 33,
    "start_time": "2022-05-11T19:01:08.344Z"
   },
   {
    "duration": 26,
    "start_time": "2022-05-11T19:01:08.378Z"
   },
   {
    "duration": 3,
    "start_time": "2022-05-11T19:01:08.406Z"
   },
   {
    "duration": 361,
    "start_time": "2022-05-11T19:01:08.410Z"
   },
   {
    "duration": 22,
    "start_time": "2022-05-11T19:01:08.773Z"
   },
   {
    "duration": 4,
    "start_time": "2022-05-11T19:01:08.797Z"
   },
   {
    "duration": 22,
    "start_time": "2022-05-11T19:01:08.803Z"
   },
   {
    "duration": 57,
    "start_time": "2022-05-11T19:01:08.826Z"
   },
   {
    "duration": 113,
    "start_time": "2022-05-11T19:01:08.884Z"
   },
   {
    "duration": 8,
    "start_time": "2022-05-11T19:01:08.998Z"
   },
   {
    "duration": 4,
    "start_time": "2022-05-11T19:01:09.008Z"
   },
   {
    "duration": 234,
    "start_time": "2022-05-11T19:01:09.014Z"
   },
   {
    "duration": 134,
    "start_time": "2022-05-11T19:01:09.250Z"
   },
   {
    "duration": 12,
    "start_time": "2022-05-11T19:01:09.385Z"
   },
   {
    "duration": 5,
    "start_time": "2022-05-11T19:01:09.399Z"
   },
   {
    "duration": 375,
    "start_time": "2022-05-11T19:01:09.406Z"
   },
   {
    "duration": 200,
    "start_time": "2022-05-11T19:01:09.783Z"
   },
   {
    "duration": 134,
    "start_time": "2022-05-11T19:01:09.985Z"
   },
   {
    "duration": 109,
    "start_time": "2022-05-11T19:01:10.121Z"
   },
   {
    "duration": 150,
    "start_time": "2022-05-11T19:01:10.232Z"
   },
   {
    "duration": 11,
    "start_time": "2022-05-11T19:01:10.384Z"
   },
   {
    "duration": 11,
    "start_time": "2022-05-11T19:01:10.398Z"
   },
   {
    "duration": 10,
    "start_time": "2022-05-11T19:01:10.411Z"
   },
   {
    "duration": 135,
    "start_time": "2022-05-11T19:01:10.423Z"
   },
   {
    "duration": 223,
    "start_time": "2022-05-11T19:01:10.560Z"
   },
   {
    "duration": 174,
    "start_time": "2022-05-11T19:01:10.784Z"
   },
   {
    "duration": 20,
    "start_time": "2022-05-11T19:01:10.960Z"
   },
   {
    "duration": 224,
    "start_time": "2022-05-11T19:01:10.982Z"
   },
   {
    "duration": 20,
    "start_time": "2022-05-11T19:01:11.208Z"
   },
   {
    "duration": 7,
    "start_time": "2022-05-11T19:01:11.230Z"
   },
   {
    "duration": 338,
    "start_time": "2022-05-11T19:01:11.238Z"
   },
   {
    "duration": 15,
    "start_time": "2022-05-11T19:01:11.577Z"
   },
   {
    "duration": 12,
    "start_time": "2022-05-11T19:01:11.593Z"
   },
   {
    "duration": 12,
    "start_time": "2022-05-11T19:01:11.607Z"
   },
   {
    "duration": 12,
    "start_time": "2022-05-11T19:01:11.624Z"
   },
   {
    "duration": 36,
    "start_time": "2022-05-11T19:01:11.637Z"
   },
   {
    "duration": 31,
    "start_time": "2022-05-11T19:01:11.675Z"
   },
   {
    "duration": 24,
    "start_time": "2022-05-11T19:01:11.708Z"
   },
   {
    "duration": 52,
    "start_time": "2022-05-11T19:01:11.734Z"
   },
   {
    "duration": 9,
    "start_time": "2022-05-11T19:01:11.788Z"
   },
   {
    "duration": 6,
    "start_time": "2022-05-11T19:01:11.799Z"
   },
   {
    "duration": 37,
    "start_time": "2022-05-11T19:01:11.807Z"
   },
   {
    "duration": 43,
    "start_time": "2022-05-11T19:01:11.846Z"
   },
   {
    "duration": 139,
    "start_time": "2022-05-11T19:01:11.891Z"
   },
   {
    "duration": 6,
    "start_time": "2022-05-11T19:01:12.031Z"
   },
   {
    "duration": 10,
    "start_time": "2022-05-11T19:04:16.425Z"
   },
   {
    "duration": 99,
    "start_time": "2022-05-11T19:10:38.946Z"
   },
   {
    "duration": 146,
    "start_time": "2022-05-11T19:26:39.614Z"
   },
   {
    "duration": 106,
    "start_time": "2022-05-11T19:26:47.127Z"
   },
   {
    "duration": 301,
    "start_time": "2022-05-11T19:26:54.157Z"
   },
   {
    "duration": 363,
    "start_time": "2022-05-11T19:35:36.880Z"
   },
   {
    "duration": 374,
    "start_time": "2022-05-11T19:35:46.700Z"
   },
   {
    "duration": 483,
    "start_time": "2022-05-11T19:35:54.920Z"
   },
   {
    "duration": 72,
    "start_time": "2022-05-11T19:36:48.507Z"
   },
   {
    "duration": 376,
    "start_time": "2022-05-11T19:36:56.077Z"
   },
   {
    "duration": 317,
    "start_time": "2022-05-11T19:37:08.691Z"
   },
   {
    "duration": 215,
    "start_time": "2022-05-11T19:37:23.868Z"
   },
   {
    "duration": 447,
    "start_time": "2022-05-11T19:37:42.181Z"
   },
   {
    "duration": 304,
    "start_time": "2022-05-11T19:38:22.455Z"
   },
   {
    "duration": 540,
    "start_time": "2022-05-11T19:38:38.031Z"
   },
   {
    "duration": 775,
    "start_time": "2022-05-11T19:39:04.000Z"
   },
   {
    "duration": 641,
    "start_time": "2022-05-11T19:39:11.987Z"
   },
   {
    "duration": 374,
    "start_time": "2022-05-11T19:39:23.943Z"
   },
   {
    "duration": 392,
    "start_time": "2022-05-11T19:41:12.154Z"
   },
   {
    "duration": 391,
    "start_time": "2022-05-11T19:41:48.080Z"
   },
   {
    "duration": 677,
    "start_time": "2022-05-11T19:42:23.141Z"
   },
   {
    "duration": 205,
    "start_time": "2022-05-11T19:42:53.249Z"
   },
   {
    "duration": 402,
    "start_time": "2022-05-11T19:43:22.380Z"
   },
   {
    "duration": 168,
    "start_time": "2022-05-11T19:47:01.240Z"
   },
   {
    "duration": 199,
    "start_time": "2022-05-11T19:47:37.301Z"
   },
   {
    "duration": 193,
    "start_time": "2022-05-11T19:51:32.911Z"
   },
   {
    "duration": 190,
    "start_time": "2022-05-11T19:51:51.374Z"
   },
   {
    "duration": 181,
    "start_time": "2022-05-11T19:53:42.962Z"
   },
   {
    "duration": 188,
    "start_time": "2022-05-11T19:53:56.780Z"
   },
   {
    "duration": 209,
    "start_time": "2022-05-11T19:54:36.188Z"
   },
   {
    "duration": 121,
    "start_time": "2022-05-11T19:55:14.970Z"
   },
   {
    "duration": 11,
    "start_time": "2022-05-11T19:55:46.283Z"
   },
   {
    "duration": 13,
    "start_time": "2022-05-11T19:55:54.896Z"
   },
   {
    "duration": 15,
    "start_time": "2022-05-11T19:56:30.907Z"
   },
   {
    "duration": 17,
    "start_time": "2022-05-11T19:56:52.492Z"
   },
   {
    "duration": 99,
    "start_time": "2022-05-11T19:58:41.623Z"
   },
   {
    "duration": 15,
    "start_time": "2022-05-11T19:58:53.521Z"
   },
   {
    "duration": 14,
    "start_time": "2022-05-11T19:59:08.881Z"
   },
   {
    "duration": 14,
    "start_time": "2022-05-11T19:59:58.975Z"
   },
   {
    "duration": 16,
    "start_time": "2022-05-11T20:00:14.484Z"
   },
   {
    "duration": 15,
    "start_time": "2022-05-11T20:12:08.355Z"
   },
   {
    "duration": 16,
    "start_time": "2022-05-11T20:14:50.618Z"
   },
   {
    "duration": 7,
    "start_time": "2022-05-11T20:15:07.855Z"
   },
   {
    "duration": 8,
    "start_time": "2022-05-11T20:16:26.366Z"
   },
   {
    "duration": 11,
    "start_time": "2022-05-11T20:16:37.434Z"
   },
   {
    "duration": 21,
    "start_time": "2022-05-11T20:17:09.027Z"
   },
   {
    "duration": 15,
    "start_time": "2022-05-11T20:17:26.013Z"
   },
   {
    "duration": 105,
    "start_time": "2022-05-11T20:18:55.141Z"
   },
   {
    "duration": 104,
    "start_time": "2022-05-11T20:19:31.609Z"
   },
   {
    "duration": 8,
    "start_time": "2022-05-11T20:19:37.849Z"
   },
   {
    "duration": 6,
    "start_time": "2022-05-11T20:21:57.083Z"
   },
   {
    "duration": 46,
    "start_time": "2022-05-11T22:32:09.869Z"
   },
   {
    "duration": 522,
    "start_time": "2022-05-11T22:35:17.513Z"
   },
   {
    "duration": 17,
    "start_time": "2022-05-11T22:35:18.038Z"
   },
   {
    "duration": 84,
    "start_time": "2022-05-11T22:35:18.057Z"
   },
   {
    "duration": 36,
    "start_time": "2022-05-11T22:35:18.143Z"
   },
   {
    "duration": 57,
    "start_time": "2022-05-11T22:35:18.181Z"
   },
   {
    "duration": 37,
    "start_time": "2022-05-11T22:35:18.240Z"
   },
   {
    "duration": 94,
    "start_time": "2022-05-11T22:35:18.279Z"
   },
   {
    "duration": 4,
    "start_time": "2022-05-11T22:35:18.375Z"
   },
   {
    "duration": 37,
    "start_time": "2022-05-11T22:35:18.381Z"
   },
   {
    "duration": 11,
    "start_time": "2022-05-11T22:35:18.419Z"
   },
   {
    "duration": 522,
    "start_time": "2022-05-11T22:35:18.431Z"
   },
   {
    "duration": 11,
    "start_time": "2022-05-11T22:35:18.955Z"
   },
   {
    "duration": 5,
    "start_time": "2022-05-11T22:35:18.967Z"
   },
   {
    "duration": 175,
    "start_time": "2022-05-11T22:35:18.976Z"
   },
   {
    "duration": 8,
    "start_time": "2022-05-11T22:35:19.153Z"
   },
   {
    "duration": 185,
    "start_time": "2022-05-11T22:35:19.535Z"
   },
   {
    "duration": 4,
    "start_time": "2022-05-11T22:35:19.721Z"
   },
   {
    "duration": 7,
    "start_time": "2022-05-11T22:35:19.726Z"
   },
   {
    "duration": 44,
    "start_time": "2022-05-11T22:35:19.734Z"
   },
   {
    "duration": 5,
    "start_time": "2022-05-11T22:35:19.779Z"
   },
   {
    "duration": 9,
    "start_time": "2022-05-11T22:35:19.785Z"
   },
   {
    "duration": 4,
    "start_time": "2022-05-11T22:35:19.795Z"
   },
   {
    "duration": 143,
    "start_time": "2022-05-11T22:35:19.801Z"
   },
   {
    "duration": 4,
    "start_time": "2022-05-11T22:35:19.945Z"
   },
   {
    "duration": 123,
    "start_time": "2022-05-11T22:35:19.950Z"
   },
   {
    "duration": 23,
    "start_time": "2022-05-11T22:35:20.074Z"
   },
   {
    "duration": 4,
    "start_time": "2022-05-11T22:35:20.098Z"
   },
   {
    "duration": 5,
    "start_time": "2022-05-11T22:35:20.104Z"
   },
   {
    "duration": 7,
    "start_time": "2022-05-11T22:35:20.110Z"
   },
   {
    "duration": 10,
    "start_time": "2022-05-11T22:35:20.118Z"
   },
   {
    "duration": 35,
    "start_time": "2022-05-11T22:35:20.129Z"
   },
   {
    "duration": 4,
    "start_time": "2022-05-11T22:35:20.165Z"
   },
   {
    "duration": 6,
    "start_time": "2022-05-11T22:35:20.171Z"
   },
   {
    "duration": 12,
    "start_time": "2022-05-11T22:35:20.178Z"
   },
   {
    "duration": 14,
    "start_time": "2022-05-11T22:35:20.191Z"
   },
   {
    "duration": 7,
    "start_time": "2022-05-11T22:35:20.206Z"
   },
   {
    "duration": 46,
    "start_time": "2022-05-11T22:35:20.218Z"
   },
   {
    "duration": 6,
    "start_time": "2022-05-11T22:35:20.266Z"
   },
   {
    "duration": 22,
    "start_time": "2022-05-11T22:35:20.274Z"
   },
   {
    "duration": 18,
    "start_time": "2022-05-11T22:35:20.298Z"
   },
   {
    "duration": 83,
    "start_time": "2022-05-11T22:35:20.318Z"
   },
   {
    "duration": 45,
    "start_time": "2022-05-11T22:35:20.402Z"
   },
   {
    "duration": 4,
    "start_time": "2022-05-11T22:35:20.461Z"
   },
   {
    "duration": 12,
    "start_time": "2022-05-11T22:35:20.467Z"
   },
   {
    "duration": 24,
    "start_time": "2022-05-11T22:35:20.481Z"
   },
   {
    "duration": 3,
    "start_time": "2022-05-11T22:35:20.506Z"
   },
   {
    "duration": 344,
    "start_time": "2022-05-11T22:35:20.511Z"
   },
   {
    "duration": 26,
    "start_time": "2022-05-11T22:35:20.856Z"
   },
   {
    "duration": 8,
    "start_time": "2022-05-11T22:35:20.883Z"
   },
   {
    "duration": 21,
    "start_time": "2022-05-11T22:35:20.892Z"
   },
   {
    "duration": 24,
    "start_time": "2022-05-11T22:35:20.915Z"
   },
   {
    "duration": 110,
    "start_time": "2022-05-11T22:35:20.962Z"
   },
   {
    "duration": 9,
    "start_time": "2022-05-11T22:35:21.074Z"
   },
   {
    "duration": 5,
    "start_time": "2022-05-11T22:35:21.084Z"
   },
   {
    "duration": 224,
    "start_time": "2022-05-11T22:35:21.090Z"
   },
   {
    "duration": 118,
    "start_time": "2022-05-11T22:35:21.316Z"
   },
   {
    "duration": 7,
    "start_time": "2022-05-11T22:35:21.436Z"
   },
   {
    "duration": 17,
    "start_time": "2022-05-11T22:35:21.445Z"
   },
   {
    "duration": 386,
    "start_time": "2022-05-11T22:35:21.465Z"
   },
   {
    "duration": 96,
    "start_time": "2022-05-11T22:35:21.853Z"
   },
   {
    "duration": 132,
    "start_time": "2022-05-11T22:35:21.951Z"
   },
   {
    "duration": 104,
    "start_time": "2022-05-11T22:35:22.085Z"
   },
   {
    "duration": 141,
    "start_time": "2022-05-11T22:35:22.191Z"
   },
   {
    "duration": 8,
    "start_time": "2022-05-11T22:35:22.334Z"
   },
   {
    "duration": 19,
    "start_time": "2022-05-11T22:35:22.344Z"
   },
   {
    "duration": 7,
    "start_time": "2022-05-11T22:35:22.364Z"
   },
   {
    "duration": 116,
    "start_time": "2022-05-11T22:35:22.372Z"
   },
   {
    "duration": 208,
    "start_time": "2022-05-11T22:35:22.489Z"
   },
   {
    "duration": 163,
    "start_time": "2022-05-11T22:35:22.699Z"
   },
   {
    "duration": 15,
    "start_time": "2022-05-11T22:35:22.863Z"
   },
   {
    "duration": 286,
    "start_time": "2022-05-11T22:35:22.880Z"
   },
   {
    "duration": 20,
    "start_time": "2022-05-11T22:35:23.168Z"
   },
   {
    "duration": 7,
    "start_time": "2022-05-11T22:35:23.190Z"
   },
   {
    "duration": 223,
    "start_time": "2022-05-11T22:35:23.199Z"
   },
   {
    "duration": 14,
    "start_time": "2022-05-11T22:35:23.424Z"
   },
   {
    "duration": 11,
    "start_time": "2022-05-11T22:35:23.440Z"
   },
   {
    "duration": 11,
    "start_time": "2022-05-11T22:35:23.453Z"
   },
   {
    "duration": 9,
    "start_time": "2022-05-11T22:35:23.466Z"
   },
   {
    "duration": 9,
    "start_time": "2022-05-11T22:35:23.476Z"
   },
   {
    "duration": 26,
    "start_time": "2022-05-11T22:35:23.486Z"
   },
   {
    "duration": 50,
    "start_time": "2022-05-11T22:35:23.513Z"
   },
   {
    "duration": 16,
    "start_time": "2022-05-11T22:35:23.564Z"
   },
   {
    "duration": 7,
    "start_time": "2022-05-11T22:35:23.582Z"
   },
   {
    "duration": 5,
    "start_time": "2022-05-11T22:35:23.590Z"
   },
   {
    "duration": 21,
    "start_time": "2022-05-11T22:35:23.597Z"
   },
   {
    "duration": 46,
    "start_time": "2022-05-11T22:35:23.619Z"
   },
   {
    "duration": 120,
    "start_time": "2022-05-11T22:35:23.667Z"
   },
   {
    "duration": 4,
    "start_time": "2022-05-11T22:35:23.789Z"
   },
   {
    "duration": 10,
    "start_time": "2022-05-11T22:35:23.794Z"
   },
   {
    "duration": 78,
    "start_time": "2022-05-11T22:35:23.805Z"
   },
   {
    "duration": 11,
    "start_time": "2022-05-11T22:35:23.884Z"
   },
   {
    "duration": 390,
    "start_time": "2022-05-11T22:35:23.897Z"
   },
   {
    "duration": 15,
    "start_time": "2022-05-11T22:35:24.290Z"
   },
   {
    "duration": 409,
    "start_time": "2022-05-11T22:35:24.307Z"
   },
   {
    "duration": 14,
    "start_time": "2022-05-11T22:35:24.718Z"
   },
   {
    "duration": 192,
    "start_time": "2022-05-11T22:35:24.733Z"
   },
   {
    "duration": 14,
    "start_time": "2022-05-11T22:35:24.926Z"
   },
   {
    "duration": 196,
    "start_time": "2022-05-11T22:35:24.942Z"
   },
   {
    "duration": 24,
    "start_time": "2022-05-11T22:35:25.140Z"
   },
   {
    "duration": 9,
    "start_time": "2022-05-11T22:35:25.165Z"
   },
   {
    "duration": 5,
    "start_time": "2022-05-11T22:35:25.175Z"
   },
   {
    "duration": 62,
    "start_time": "2022-05-11T22:35:25.260Z"
   },
   {
    "duration": 7,
    "start_time": "2022-05-11T22:35:25.324Z"
   },
   {
    "duration": 84,
    "start_time": "2022-05-11T22:35:25.333Z"
   },
   {
    "duration": 26,
    "start_time": "2022-05-11T22:35:25.418Z"
   },
   {
    "duration": 183,
    "start_time": "2022-05-11T22:35:25.446Z"
   },
   {
    "duration": 32,
    "start_time": "2022-05-11T22:35:25.631Z"
   },
   {
    "duration": 63,
    "start_time": "2022-05-11T22:35:25.664Z"
   },
   {
    "duration": 4,
    "start_time": "2022-05-11T22:35:25.729Z"
   },
   {
    "duration": 50,
    "start_time": "2022-05-11T22:35:25.734Z"
   },
   {
    "duration": 13,
    "start_time": "2022-05-11T22:35:25.786Z"
   },
   {
    "duration": 162,
    "start_time": "2022-05-11T22:35:25.800Z"
   },
   {
    "duration": 6,
    "start_time": "2022-05-11T22:35:25.964Z"
   },
   {
    "duration": 9,
    "start_time": "2022-05-11T22:35:25.972Z"
   },
   {
    "duration": 171,
    "start_time": "2022-05-11T22:35:25.985Z"
   },
   {
    "duration": 6,
    "start_time": "2022-05-11T22:35:26.158Z"
   },
   {
    "duration": 154,
    "start_time": "2022-05-11T22:35:26.165Z"
   },
   {
    "duration": 4,
    "start_time": "2022-05-11T22:35:26.321Z"
   },
   {
    "duration": 5,
    "start_time": "2022-05-11T22:35:26.327Z"
   },
   {
    "duration": 151,
    "start_time": "2022-05-11T22:35:26.333Z"
   },
   {
    "duration": 142,
    "start_time": "2022-05-11T22:35:26.486Z"
   },
   {
    "duration": 4,
    "start_time": "2022-05-11T22:35:26.630Z"
   },
   {
    "duration": 5,
    "start_time": "2022-05-11T22:35:26.635Z"
   },
   {
    "duration": 40,
    "start_time": "2022-05-11T22:35:26.642Z"
   },
   {
    "duration": 5,
    "start_time": "2022-05-11T22:35:26.684Z"
   },
   {
    "duration": 7,
    "start_time": "2022-05-11T22:35:26.691Z"
   },
   {
    "duration": 7,
    "start_time": "2022-05-11T22:35:26.699Z"
   },
   {
    "duration": 135,
    "start_time": "2022-05-11T22:35:26.707Z"
   },
   {
    "duration": 4,
    "start_time": "2022-05-11T22:35:26.844Z"
   },
   {
    "duration": 115,
    "start_time": "2022-05-11T22:35:26.861Z"
   },
   {
    "duration": 22,
    "start_time": "2022-05-11T22:35:26.977Z"
   },
   {
    "duration": 4,
    "start_time": "2022-05-11T22:35:27.000Z"
   },
   {
    "duration": 5,
    "start_time": "2022-05-11T22:35:27.005Z"
   },
   {
    "duration": 9,
    "start_time": "2022-05-11T22:35:27.011Z"
   },
   {
    "duration": 9,
    "start_time": "2022-05-11T22:35:27.022Z"
   },
   {
    "duration": 6,
    "start_time": "2022-05-11T22:35:27.032Z"
   },
   {
    "duration": 24,
    "start_time": "2022-05-11T22:35:27.040Z"
   },
   {
    "duration": 5,
    "start_time": "2022-05-11T22:35:27.065Z"
   },
   {
    "duration": 8,
    "start_time": "2022-05-11T22:35:27.071Z"
   },
   {
    "duration": 12,
    "start_time": "2022-05-11T22:35:27.080Z"
   },
   {
    "duration": 6,
    "start_time": "2022-05-11T22:35:27.094Z"
   },
   {
    "duration": 24,
    "start_time": "2022-05-11T22:35:27.105Z"
   },
   {
    "duration": 6,
    "start_time": "2022-05-11T22:35:27.162Z"
   },
   {
    "duration": 20,
    "start_time": "2022-05-11T22:35:27.170Z"
   },
   {
    "duration": 16,
    "start_time": "2022-05-11T22:35:27.192Z"
   },
   {
    "duration": 78,
    "start_time": "2022-05-11T22:35:27.210Z"
   },
   {
    "duration": 44,
    "start_time": "2022-05-11T22:35:27.290Z"
   },
   {
    "duration": 5,
    "start_time": "2022-05-11T22:35:27.336Z"
   },
   {
    "duration": 30,
    "start_time": "2022-05-11T22:35:27.342Z"
   },
   {
    "duration": 28,
    "start_time": "2022-05-11T22:35:27.373Z"
   },
   {
    "duration": 2,
    "start_time": "2022-05-11T22:35:27.403Z"
   },
   {
    "duration": 597,
    "start_time": "2022-05-11T22:35:27.407Z"
   },
   {
    "duration": 27,
    "start_time": "2022-05-11T22:35:28.006Z"
   },
   {
    "duration": 5,
    "start_time": "2022-05-11T22:35:28.034Z"
   },
   {
    "duration": 37,
    "start_time": "2022-05-11T22:35:28.040Z"
   },
   {
    "duration": 21,
    "start_time": "2022-05-11T22:35:28.078Z"
   },
   {
    "duration": 108,
    "start_time": "2022-05-11T22:35:28.101Z"
   },
   {
    "duration": 6,
    "start_time": "2022-05-11T22:35:28.211Z"
   },
   {
    "duration": 5,
    "start_time": "2022-05-11T22:35:28.218Z"
   },
   {
    "duration": 315,
    "start_time": "2022-05-11T22:35:28.224Z"
   },
   {
    "duration": 115,
    "start_time": "2022-05-11T22:35:28.541Z"
   },
   {
    "duration": 8,
    "start_time": "2022-05-11T22:35:28.662Z"
   },
   {
    "duration": 4,
    "start_time": "2022-05-11T22:35:28.671Z"
   },
   {
    "duration": 221,
    "start_time": "2022-05-11T22:35:28.677Z"
   },
   {
    "duration": 104,
    "start_time": "2022-05-11T22:35:28.899Z"
   },
   {
    "duration": 125,
    "start_time": "2022-05-11T22:35:29.005Z"
   },
   {
    "duration": 99,
    "start_time": "2022-05-11T22:35:29.132Z"
   },
   {
    "duration": 147,
    "start_time": "2022-05-11T22:35:29.233Z"
   },
   {
    "duration": 9,
    "start_time": "2022-05-11T22:35:29.382Z"
   },
   {
    "duration": 8,
    "start_time": "2022-05-11T22:35:29.393Z"
   },
   {
    "duration": 7,
    "start_time": "2022-05-11T22:35:29.403Z"
   },
   {
    "duration": 126,
    "start_time": "2022-05-11T22:35:29.412Z"
   },
   {
    "duration": 222,
    "start_time": "2022-05-11T22:35:29.540Z"
   },
   {
    "duration": 224,
    "start_time": "2022-05-11T22:35:29.763Z"
   },
   {
    "duration": 18,
    "start_time": "2022-05-11T22:35:29.989Z"
   },
   {
    "duration": 235,
    "start_time": "2022-05-11T22:35:30.008Z"
   },
   {
    "duration": 32,
    "start_time": "2022-05-11T22:35:30.245Z"
   },
   {
    "duration": 6,
    "start_time": "2022-05-11T22:35:30.279Z"
   },
   {
    "duration": 187,
    "start_time": "2022-05-11T22:35:30.287Z"
   },
   {
    "duration": 13,
    "start_time": "2022-05-11T22:35:30.476Z"
   },
   {
    "duration": 15,
    "start_time": "2022-05-11T22:35:30.490Z"
   },
   {
    "duration": 14,
    "start_time": "2022-05-11T22:35:30.507Z"
   },
   {
    "duration": 11,
    "start_time": "2022-05-11T22:35:30.522Z"
   },
   {
    "duration": 32,
    "start_time": "2022-05-11T22:35:30.535Z"
   },
   {
    "duration": 32,
    "start_time": "2022-05-11T22:35:30.569Z"
   },
   {
    "duration": 18,
    "start_time": "2022-05-11T22:35:30.603Z"
   },
   {
    "duration": 173,
    "start_time": "2022-05-11T22:35:30.623Z"
   },
   {
    "duration": 6,
    "start_time": "2022-05-11T22:35:30.798Z"
   },
   {
    "duration": 18,
    "start_time": "2022-05-11T22:35:30.805Z"
   },
   {
    "duration": 29,
    "start_time": "2022-05-11T22:35:30.824Z"
   },
   {
    "duration": 19,
    "start_time": "2022-05-11T22:35:30.855Z"
   },
   {
    "duration": 134,
    "start_time": "2022-05-11T22:35:30.876Z"
   },
   {
    "duration": 6,
    "start_time": "2022-05-11T22:35:31.012Z"
   },
   {
    "duration": 20,
    "start_time": "2022-05-11T22:35:31.020Z"
   },
   {
    "duration": 76,
    "start_time": "2022-05-11T22:35:31.042Z"
   },
   {
    "duration": 14,
    "start_time": "2022-05-11T22:35:31.119Z"
   },
   {
    "duration": 550,
    "start_time": "2022-05-11T22:35:31.134Z"
   },
   {
    "duration": 16,
    "start_time": "2022-05-11T22:35:31.686Z"
   },
   {
    "duration": 564,
    "start_time": "2022-05-11T22:35:31.704Z"
   },
   {
    "duration": 14,
    "start_time": "2022-05-11T22:35:32.270Z"
   },
   {
    "duration": 177,
    "start_time": "2022-05-11T22:35:32.285Z"
   },
   {
    "duration": 16,
    "start_time": "2022-05-11T22:35:32.463Z"
   },
   {
    "duration": 271,
    "start_time": "2022-05-11T22:35:32.481Z"
   },
   {
    "duration": 24,
    "start_time": "2022-05-11T22:35:32.754Z"
   },
   {
    "duration": 11,
    "start_time": "2022-05-11T22:35:32.780Z"
   },
   {
    "duration": 6,
    "start_time": "2022-05-11T22:35:32.792Z"
   },
   {
    "duration": 517,
    "start_time": "2022-05-11T22:48:07.602Z"
   },
   {
    "duration": 15,
    "start_time": "2022-05-11T22:48:08.122Z"
   },
   {
    "duration": 103,
    "start_time": "2022-05-11T22:48:08.139Z"
   },
   {
    "duration": 45,
    "start_time": "2022-05-11T22:48:08.244Z"
   },
   {
    "duration": 46,
    "start_time": "2022-05-11T22:48:08.291Z"
   },
   {
    "duration": 31,
    "start_time": "2022-05-11T22:48:08.339Z"
   },
   {
    "duration": 62,
    "start_time": "2022-05-11T22:48:08.372Z"
   },
   {
    "duration": 3,
    "start_time": "2022-05-11T22:48:08.436Z"
   },
   {
    "duration": 39,
    "start_time": "2022-05-11T22:48:08.441Z"
   },
   {
    "duration": 10,
    "start_time": "2022-05-11T22:48:08.482Z"
   },
   {
    "duration": 384,
    "start_time": "2022-05-11T22:48:08.493Z"
   },
   {
    "duration": 6,
    "start_time": "2022-05-11T22:48:08.879Z"
   },
   {
    "duration": 5,
    "start_time": "2022-05-11T22:48:08.887Z"
   },
   {
    "duration": 142,
    "start_time": "2022-05-11T22:48:08.894Z"
   },
   {
    "duration": 4,
    "start_time": "2022-05-11T22:48:09.038Z"
   },
   {
    "duration": 144,
    "start_time": "2022-05-11T22:48:09.043Z"
   },
   {
    "duration": 4,
    "start_time": "2022-05-11T22:48:09.188Z"
   },
   {
    "duration": 7,
    "start_time": "2022-05-11T22:48:09.193Z"
   },
   {
    "duration": 146,
    "start_time": "2022-05-11T22:48:09.202Z"
   },
   {
    "duration": 131,
    "start_time": "2022-05-11T22:48:09.349Z"
   },
   {
    "duration": 3,
    "start_time": "2022-05-11T22:48:09.482Z"
   },
   {
    "duration": 4,
    "start_time": "2022-05-11T22:48:09.487Z"
   },
   {
    "duration": 36,
    "start_time": "2022-05-11T22:48:09.493Z"
   },
   {
    "duration": 6,
    "start_time": "2022-05-11T22:48:09.531Z"
   },
   {
    "duration": 9,
    "start_time": "2022-05-11T22:48:09.561Z"
   },
   {
    "duration": 8,
    "start_time": "2022-05-11T22:48:09.572Z"
   },
   {
    "duration": 251,
    "start_time": "2022-05-11T22:48:09.582Z"
   },
   {
    "duration": 5,
    "start_time": "2022-05-11T22:48:09.841Z"
   },
   {
    "duration": 157,
    "start_time": "2022-05-11T22:48:09.847Z"
   },
   {
    "duration": 33,
    "start_time": "2022-05-11T22:48:10.006Z"
   },
   {
    "duration": 4,
    "start_time": "2022-05-11T22:48:10.041Z"
   },
   {
    "duration": 3,
    "start_time": "2022-05-11T22:48:10.062Z"
   },
   {
    "duration": 15,
    "start_time": "2022-05-11T22:48:10.066Z"
   },
   {
    "duration": 7,
    "start_time": "2022-05-11T22:48:10.082Z"
   },
   {
    "duration": 8,
    "start_time": "2022-05-11T22:48:10.090Z"
   },
   {
    "duration": 5,
    "start_time": "2022-05-11T22:48:10.099Z"
   },
   {
    "duration": 11,
    "start_time": "2022-05-11T22:48:10.105Z"
   },
   {
    "duration": 11,
    "start_time": "2022-05-11T22:48:10.118Z"
   },
   {
    "duration": 13,
    "start_time": "2022-05-11T22:48:10.130Z"
   },
   {
    "duration": 23,
    "start_time": "2022-05-11T22:48:10.144Z"
   },
   {
    "duration": 24,
    "start_time": "2022-05-11T22:48:10.168Z"
   },
   {
    "duration": 6,
    "start_time": "2022-05-11T22:48:10.193Z"
   },
   {
    "duration": 21,
    "start_time": "2022-05-11T22:48:10.201Z"
   },
   {
    "duration": 39,
    "start_time": "2022-05-11T22:48:10.224Z"
   },
   {
    "duration": 51,
    "start_time": "2022-05-11T22:48:10.264Z"
   },
   {
    "duration": 60,
    "start_time": "2022-05-11T22:48:10.316Z"
   },
   {
    "duration": 4,
    "start_time": "2022-05-11T22:48:10.377Z"
   },
   {
    "duration": 12,
    "start_time": "2022-05-11T22:48:10.382Z"
   },
   {
    "duration": 19,
    "start_time": "2022-05-11T22:48:10.396Z"
   },
   {
    "duration": 2,
    "start_time": "2022-05-11T22:48:10.416Z"
   },
   {
    "duration": 337,
    "start_time": "2022-05-11T22:48:10.419Z"
   },
   {
    "duration": 22,
    "start_time": "2022-05-11T22:48:10.758Z"
   },
   {
    "duration": 6,
    "start_time": "2022-05-11T22:48:10.781Z"
   },
   {
    "duration": 23,
    "start_time": "2022-05-11T22:48:10.789Z"
   },
   {
    "duration": 48,
    "start_time": "2022-05-11T22:48:10.814Z"
   },
   {
    "duration": 161,
    "start_time": "2022-05-11T22:48:10.864Z"
   },
   {
    "duration": 9,
    "start_time": "2022-05-11T22:48:11.027Z"
   },
   {
    "duration": 4,
    "start_time": "2022-05-11T22:48:11.038Z"
   },
   {
    "duration": 313,
    "start_time": "2022-05-11T22:48:11.044Z"
   },
   {
    "duration": 123,
    "start_time": "2022-05-11T22:48:11.362Z"
   },
   {
    "duration": 10,
    "start_time": "2022-05-11T22:48:11.487Z"
   },
   {
    "duration": 5,
    "start_time": "2022-05-11T22:48:11.499Z"
   },
   {
    "duration": 239,
    "start_time": "2022-05-11T22:48:11.505Z"
   },
   {
    "duration": 166,
    "start_time": "2022-05-11T22:48:11.746Z"
   },
   {
    "duration": 130,
    "start_time": "2022-05-11T22:48:11.914Z"
   },
   {
    "duration": 102,
    "start_time": "2022-05-11T22:48:12.046Z"
   },
   {
    "duration": 143,
    "start_time": "2022-05-11T22:48:12.149Z"
   },
   {
    "duration": 9,
    "start_time": "2022-05-11T22:48:12.294Z"
   },
   {
    "duration": 8,
    "start_time": "2022-05-11T22:48:12.304Z"
   },
   {
    "duration": 7,
    "start_time": "2022-05-11T22:48:12.314Z"
   },
   {
    "duration": 117,
    "start_time": "2022-05-11T22:48:12.322Z"
   },
   {
    "duration": 214,
    "start_time": "2022-05-11T22:48:12.441Z"
   },
   {
    "duration": 154,
    "start_time": "2022-05-11T22:48:12.657Z"
   },
   {
    "duration": 16,
    "start_time": "2022-05-11T22:48:12.813Z"
   },
   {
    "duration": 216,
    "start_time": "2022-05-11T22:48:12.830Z"
   },
   {
    "duration": 29,
    "start_time": "2022-05-11T22:48:13.048Z"
   },
   {
    "duration": 7,
    "start_time": "2022-05-11T22:48:13.079Z"
   },
   {
    "duration": 286,
    "start_time": "2022-05-11T22:48:13.088Z"
   },
   {
    "duration": 14,
    "start_time": "2022-05-11T22:48:13.376Z"
   },
   {
    "duration": 11,
    "start_time": "2022-05-11T22:48:13.392Z"
   },
   {
    "duration": 10,
    "start_time": "2022-05-11T22:48:13.404Z"
   },
   {
    "duration": 10,
    "start_time": "2022-05-11T22:48:13.420Z"
   },
   {
    "duration": 7,
    "start_time": "2022-05-11T22:48:13.431Z"
   },
   {
    "duration": 26,
    "start_time": "2022-05-11T22:48:13.462Z"
   },
   {
    "duration": 14,
    "start_time": "2022-05-11T22:48:13.490Z"
   },
   {
    "duration": 14,
    "start_time": "2022-05-11T22:48:13.506Z"
   },
   {
    "duration": 6,
    "start_time": "2022-05-11T22:48:13.521Z"
   },
   {
    "duration": 34,
    "start_time": "2022-05-11T22:48:13.528Z"
   },
   {
    "duration": 23,
    "start_time": "2022-05-11T22:48:13.564Z"
   },
   {
    "duration": 19,
    "start_time": "2022-05-11T22:48:13.589Z"
   },
   {
    "duration": 128,
    "start_time": "2022-05-11T22:48:13.610Z"
   },
   {
    "duration": 5,
    "start_time": "2022-05-11T22:48:13.740Z"
   },
   {
    "duration": 21,
    "start_time": "2022-05-11T22:48:13.746Z"
   },
   {
    "duration": 59,
    "start_time": "2022-05-11T22:48:13.768Z"
   },
   {
    "duration": 34,
    "start_time": "2022-05-11T22:48:13.829Z"
   },
   {
    "duration": 385,
    "start_time": "2022-05-11T22:48:13.864Z"
   },
   {
    "duration": 18,
    "start_time": "2022-05-11T22:48:14.251Z"
   },
   {
    "duration": 605,
    "start_time": "2022-05-11T22:48:14.271Z"
   },
   {
    "duration": 16,
    "start_time": "2022-05-11T22:48:14.878Z"
   },
   {
    "duration": 248,
    "start_time": "2022-05-11T22:48:14.896Z"
   },
   {
    "duration": 22,
    "start_time": "2022-05-11T22:48:15.145Z"
   },
   {
    "duration": 205,
    "start_time": "2022-05-11T22:48:15.169Z"
   },
   {
    "duration": 17,
    "start_time": "2022-05-11T22:48:15.375Z"
   },
   {
    "duration": 11,
    "start_time": "2022-05-11T22:48:15.394Z"
   },
   {
    "duration": 6,
    "start_time": "2022-05-11T22:48:15.407Z"
   },
   {
    "duration": 16,
    "start_time": "2022-05-11T22:48:30.750Z"
   },
   {
    "duration": 230,
    "start_time": "2022-05-11T22:58:17.810Z"
   },
   {
    "duration": 373,
    "start_time": "2022-05-11T22:58:40.415Z"
   },
   {
    "duration": 226,
    "start_time": "2022-05-11T22:58:45.610Z"
   },
   {
    "duration": 227,
    "start_time": "2022-05-11T22:58:51.779Z"
   },
   {
    "duration": 18,
    "start_time": "2022-05-11T23:02:19.400Z"
   },
   {
    "duration": 16,
    "start_time": "2022-05-11T23:02:34.332Z"
   },
   {
    "duration": 16,
    "start_time": "2022-05-11T23:14:21.028Z"
   },
   {
    "duration": 13,
    "start_time": "2022-05-11T23:15:25.057Z"
   },
   {
    "duration": 12,
    "start_time": "2022-05-11T23:15:28.175Z"
   },
   {
    "duration": 12,
    "start_time": "2022-05-11T23:15:31.405Z"
   },
   {
    "duration": 73,
    "start_time": "2022-05-11T23:16:09.169Z"
   },
   {
    "duration": 13,
    "start_time": "2022-05-11T23:16:20.314Z"
   },
   {
    "duration": 12,
    "start_time": "2022-05-11T23:16:37.187Z"
   },
   {
    "duration": 16,
    "start_time": "2022-05-11T23:17:01.269Z"
   },
   {
    "duration": 15,
    "start_time": "2022-05-11T23:17:17.611Z"
   },
   {
    "duration": 16,
    "start_time": "2022-05-11T23:17:24.126Z"
   },
   {
    "duration": 15,
    "start_time": "2022-05-11T23:17:36.450Z"
   },
   {
    "duration": 17,
    "start_time": "2022-05-11T23:18:14.010Z"
   },
   {
    "duration": 16,
    "start_time": "2022-05-11T23:18:28.410Z"
   },
   {
    "duration": 17,
    "start_time": "2022-05-11T23:18:43.902Z"
   },
   {
    "duration": 17,
    "start_time": "2022-05-11T23:19:41.382Z"
   },
   {
    "duration": 15,
    "start_time": "2022-05-11T23:20:17.686Z"
   },
   {
    "duration": 16,
    "start_time": "2022-05-11T23:21:43.232Z"
   },
   {
    "duration": 17,
    "start_time": "2022-05-11T23:25:48.896Z"
   },
   {
    "duration": 461,
    "start_time": "2022-05-11T23:35:44.281Z"
   },
   {
    "duration": 12,
    "start_time": "2022-05-11T23:35:44.744Z"
   },
   {
    "duration": 70,
    "start_time": "2022-05-11T23:35:44.762Z"
   },
   {
    "duration": 32,
    "start_time": "2022-05-11T23:35:44.835Z"
   },
   {
    "duration": 40,
    "start_time": "2022-05-11T23:35:44.869Z"
   },
   {
    "duration": 12,
    "start_time": "2022-05-11T23:35:44.910Z"
   },
   {
    "duration": 88,
    "start_time": "2022-05-11T23:35:44.923Z"
   },
   {
    "duration": 3,
    "start_time": "2022-05-11T23:35:45.012Z"
   },
   {
    "duration": 38,
    "start_time": "2022-05-11T23:35:45.017Z"
   },
   {
    "duration": 9,
    "start_time": "2022-05-11T23:35:45.058Z"
   },
   {
    "duration": 357,
    "start_time": "2022-05-11T23:35:45.068Z"
   },
   {
    "duration": 6,
    "start_time": "2022-05-11T23:35:45.427Z"
   },
   {
    "duration": 6,
    "start_time": "2022-05-11T23:35:45.434Z"
   },
   {
    "duration": 136,
    "start_time": "2022-05-11T23:35:45.441Z"
   },
   {
    "duration": 4,
    "start_time": "2022-05-11T23:35:45.579Z"
   },
   {
    "duration": 148,
    "start_time": "2022-05-11T23:35:45.584Z"
   },
   {
    "duration": 4,
    "start_time": "2022-05-11T23:35:45.734Z"
   },
   {
    "duration": 6,
    "start_time": "2022-05-11T23:35:45.739Z"
   },
   {
    "duration": 141,
    "start_time": "2022-05-11T23:35:45.746Z"
   },
   {
    "duration": 131,
    "start_time": "2022-05-11T23:35:45.889Z"
   },
   {
    "duration": 3,
    "start_time": "2022-05-11T23:35:46.021Z"
   },
   {
    "duration": 6,
    "start_time": "2022-05-11T23:35:46.026Z"
   },
   {
    "duration": 39,
    "start_time": "2022-05-11T23:35:46.033Z"
   },
   {
    "duration": 4,
    "start_time": "2022-05-11T23:35:46.074Z"
   },
   {
    "duration": 9,
    "start_time": "2022-05-11T23:35:46.079Z"
   },
   {
    "duration": 7,
    "start_time": "2022-05-11T23:35:46.089Z"
   },
   {
    "duration": 183,
    "start_time": "2022-05-11T23:35:46.097Z"
   },
   {
    "duration": 5,
    "start_time": "2022-05-11T23:35:46.284Z"
   },
   {
    "duration": 117,
    "start_time": "2022-05-11T23:35:46.290Z"
   },
   {
    "duration": 23,
    "start_time": "2022-05-11T23:35:46.409Z"
   },
   {
    "duration": 4,
    "start_time": "2022-05-11T23:35:46.434Z"
   },
   {
    "duration": 23,
    "start_time": "2022-05-11T23:35:46.440Z"
   },
   {
    "duration": 4,
    "start_time": "2022-05-11T23:35:46.464Z"
   },
   {
    "duration": 7,
    "start_time": "2022-05-11T23:35:46.470Z"
   },
   {
    "duration": 8,
    "start_time": "2022-05-11T23:35:46.478Z"
   },
   {
    "duration": 7,
    "start_time": "2022-05-11T23:35:46.488Z"
   },
   {
    "duration": 5,
    "start_time": "2022-05-11T23:35:46.496Z"
   },
   {
    "duration": 11,
    "start_time": "2022-05-11T23:35:46.502Z"
   },
   {
    "duration": 14,
    "start_time": "2022-05-11T23:35:46.514Z"
   },
   {
    "duration": 37,
    "start_time": "2022-05-11T23:35:46.529Z"
   },
   {
    "duration": 28,
    "start_time": "2022-05-11T23:35:46.568Z"
   },
   {
    "duration": 9,
    "start_time": "2022-05-11T23:35:46.598Z"
   },
   {
    "duration": 26,
    "start_time": "2022-05-11T23:35:46.608Z"
   },
   {
    "duration": 37,
    "start_time": "2022-05-11T23:35:46.635Z"
   },
   {
    "duration": 49,
    "start_time": "2022-05-11T23:35:46.674Z"
   },
   {
    "duration": 60,
    "start_time": "2022-05-11T23:35:46.725Z"
   },
   {
    "duration": 4,
    "start_time": "2022-05-11T23:35:46.787Z"
   },
   {
    "duration": 14,
    "start_time": "2022-05-11T23:35:46.792Z"
   },
   {
    "duration": 21,
    "start_time": "2022-05-11T23:35:46.807Z"
   },
   {
    "duration": 2,
    "start_time": "2022-05-11T23:35:46.829Z"
   },
   {
    "duration": 334,
    "start_time": "2022-05-11T23:35:46.833Z"
   },
   {
    "duration": 20,
    "start_time": "2022-05-11T23:35:47.169Z"
   },
   {
    "duration": 4,
    "start_time": "2022-05-11T23:35:47.191Z"
   },
   {
    "duration": 21,
    "start_time": "2022-05-11T23:35:47.196Z"
   },
   {
    "duration": 48,
    "start_time": "2022-05-11T23:35:47.219Z"
   },
   {
    "duration": 116,
    "start_time": "2022-05-11T23:35:47.269Z"
   },
   {
    "duration": 7,
    "start_time": "2022-05-11T23:35:47.387Z"
   },
   {
    "duration": 4,
    "start_time": "2022-05-11T23:35:47.396Z"
   },
   {
    "duration": 218,
    "start_time": "2022-05-11T23:35:47.401Z"
   },
   {
    "duration": 115,
    "start_time": "2022-05-11T23:35:47.621Z"
   },
   {
    "duration": 9,
    "start_time": "2022-05-11T23:35:47.738Z"
   },
   {
    "duration": 5,
    "start_time": "2022-05-11T23:35:47.762Z"
   },
   {
    "duration": 210,
    "start_time": "2022-05-11T23:35:47.768Z"
   },
   {
    "duration": 156,
    "start_time": "2022-05-11T23:35:47.979Z"
   },
   {
    "duration": 132,
    "start_time": "2022-05-11T23:35:48.137Z"
   },
   {
    "duration": 105,
    "start_time": "2022-05-11T23:35:48.271Z"
   },
   {
    "duration": 139,
    "start_time": "2022-05-11T23:35:48.378Z"
   },
   {
    "duration": 9,
    "start_time": "2022-05-11T23:35:48.518Z"
   },
   {
    "duration": 8,
    "start_time": "2022-05-11T23:35:48.529Z"
   },
   {
    "duration": 24,
    "start_time": "2022-05-11T23:35:48.539Z"
   },
   {
    "duration": 108,
    "start_time": "2022-05-11T23:35:48.565Z"
   },
   {
    "duration": 307,
    "start_time": "2022-05-11T23:35:48.675Z"
   },
   {
    "duration": 156,
    "start_time": "2022-05-11T23:35:48.983Z"
   },
   {
    "duration": 21,
    "start_time": "2022-05-11T23:35:49.141Z"
   },
   {
    "duration": 203,
    "start_time": "2022-05-11T23:35:49.163Z"
   },
   {
    "duration": 19,
    "start_time": "2022-05-11T23:35:49.368Z"
   },
   {
    "duration": 7,
    "start_time": "2022-05-11T23:35:49.388Z"
   },
   {
    "duration": 297,
    "start_time": "2022-05-11T23:35:49.397Z"
   },
   {
    "duration": 14,
    "start_time": "2022-05-11T23:35:49.696Z"
   },
   {
    "duration": 12,
    "start_time": "2022-05-11T23:35:49.711Z"
   },
   {
    "duration": 12,
    "start_time": "2022-05-11T23:35:49.724Z"
   },
   {
    "duration": 11,
    "start_time": "2022-05-11T23:35:49.742Z"
   },
   {
    "duration": 7,
    "start_time": "2022-05-11T23:35:49.762Z"
   },
   {
    "duration": 27,
    "start_time": "2022-05-11T23:35:49.771Z"
   },
   {
    "duration": 16,
    "start_time": "2022-05-11T23:35:49.800Z"
   },
   {
    "duration": 15,
    "start_time": "2022-05-11T23:35:49.818Z"
   },
   {
    "duration": 32,
    "start_time": "2022-05-11T23:35:49.834Z"
   },
   {
    "duration": 5,
    "start_time": "2022-05-11T23:35:49.867Z"
   },
   {
    "duration": 20,
    "start_time": "2022-05-11T23:35:49.874Z"
   },
   {
    "duration": 20,
    "start_time": "2022-05-11T23:35:49.896Z"
   },
   {
    "duration": 146,
    "start_time": "2022-05-11T23:35:49.918Z"
   },
   {
    "duration": 5,
    "start_time": "2022-05-11T23:35:50.066Z"
   },
   {
    "duration": 9,
    "start_time": "2022-05-11T23:35:50.073Z"
   },
   {
    "duration": 57,
    "start_time": "2022-05-11T23:35:50.084Z"
   },
   {
    "duration": 14,
    "start_time": "2022-05-11T23:35:50.161Z"
   },
   {
    "duration": 380,
    "start_time": "2022-05-11T23:35:50.177Z"
   },
   {
    "duration": 17,
    "start_time": "2022-05-11T23:35:50.562Z"
   },
   {
    "duration": 391,
    "start_time": "2022-05-11T23:35:50.581Z"
   },
   {
    "duration": 12,
    "start_time": "2022-05-11T23:35:50.974Z"
   },
   {
    "duration": 172,
    "start_time": "2022-05-11T23:35:50.987Z"
   },
   {
    "duration": 13,
    "start_time": "2022-05-11T23:35:51.160Z"
   },
   {
    "duration": 203,
    "start_time": "2022-05-11T23:35:51.175Z"
   },
   {
    "duration": 20,
    "start_time": "2022-05-11T23:35:51.380Z"
   },
   {
    "duration": 192,
    "start_time": "2022-05-11T23:35:51.402Z"
   },
   {
    "duration": 12,
    "start_time": "2022-05-11T23:35:51.596Z"
   },
   {
    "duration": 12,
    "start_time": "2022-05-11T23:35:51.610Z"
   },
   {
    "duration": 38,
    "start_time": "2022-05-11T23:35:51.624Z"
   },
   {
    "duration": 11,
    "start_time": "2022-05-11T23:35:51.663Z"
   },
   {
    "duration": 128,
    "start_time": "2022-05-11T23:36:46.830Z"
   },
   {
    "duration": 470,
    "start_time": "2022-05-12T00:31:19.292Z"
   },
   {
    "duration": 13,
    "start_time": "2022-05-12T00:31:19.764Z"
   },
   {
    "duration": 95,
    "start_time": "2022-05-12T00:31:19.779Z"
   },
   {
    "duration": 23,
    "start_time": "2022-05-12T00:31:19.877Z"
   },
   {
    "duration": 66,
    "start_time": "2022-05-12T00:31:19.902Z"
   },
   {
    "duration": 13,
    "start_time": "2022-05-12T00:31:19.970Z"
   },
   {
    "duration": 79,
    "start_time": "2022-05-12T00:31:19.985Z"
   },
   {
    "duration": 3,
    "start_time": "2022-05-12T00:31:20.066Z"
   },
   {
    "duration": 25,
    "start_time": "2022-05-12T00:31:20.071Z"
   },
   {
    "duration": 11,
    "start_time": "2022-05-12T00:31:20.099Z"
   },
   {
    "duration": 368,
    "start_time": "2022-05-12T00:31:20.112Z"
   },
   {
    "duration": 6,
    "start_time": "2022-05-12T00:31:20.482Z"
   },
   {
    "duration": 5,
    "start_time": "2022-05-12T00:31:20.490Z"
   },
   {
    "duration": 129,
    "start_time": "2022-05-12T00:31:20.497Z"
   },
   {
    "duration": 4,
    "start_time": "2022-05-12T00:31:20.628Z"
   },
   {
    "duration": 149,
    "start_time": "2022-05-12T00:31:20.634Z"
   },
   {
    "duration": 4,
    "start_time": "2022-05-12T00:31:20.785Z"
   },
   {
    "duration": 6,
    "start_time": "2022-05-12T00:31:20.791Z"
   },
   {
    "duration": 207,
    "start_time": "2022-05-12T00:31:20.799Z"
   },
   {
    "duration": 190,
    "start_time": "2022-05-12T00:31:21.008Z"
   },
   {
    "duration": 4,
    "start_time": "2022-05-12T00:31:21.200Z"
   },
   {
    "duration": 6,
    "start_time": "2022-05-12T00:31:21.205Z"
   },
   {
    "duration": 53,
    "start_time": "2022-05-12T00:31:21.213Z"
   },
   {
    "duration": 6,
    "start_time": "2022-05-12T00:31:21.268Z"
   },
   {
    "duration": 10,
    "start_time": "2022-05-12T00:31:21.276Z"
   },
   {
    "duration": 3,
    "start_time": "2022-05-12T00:31:21.288Z"
   },
   {
    "duration": 201,
    "start_time": "2022-05-12T00:31:21.293Z"
   },
   {
    "duration": 5,
    "start_time": "2022-05-12T00:31:21.498Z"
   },
   {
    "duration": 118,
    "start_time": "2022-05-12T00:31:21.504Z"
   },
   {
    "duration": 24,
    "start_time": "2022-05-12T00:31:21.623Z"
   },
   {
    "duration": 14,
    "start_time": "2022-05-12T00:31:21.649Z"
   },
   {
    "duration": 6,
    "start_time": "2022-05-12T00:31:21.664Z"
   },
   {
    "duration": 5,
    "start_time": "2022-05-12T00:31:21.671Z"
   },
   {
    "duration": 7,
    "start_time": "2022-05-12T00:31:21.677Z"
   },
   {
    "duration": 5,
    "start_time": "2022-05-12T00:31:21.685Z"
   },
   {
    "duration": 7,
    "start_time": "2022-05-12T00:31:21.691Z"
   },
   {
    "duration": 5,
    "start_time": "2022-05-12T00:31:21.699Z"
   },
   {
    "duration": 10,
    "start_time": "2022-05-12T00:31:21.705Z"
   },
   {
    "duration": 13,
    "start_time": "2022-05-12T00:31:21.717Z"
   },
   {
    "duration": 8,
    "start_time": "2022-05-12T00:31:21.762Z"
   },
   {
    "duration": 26,
    "start_time": "2022-05-12T00:31:21.772Z"
   },
   {
    "duration": 7,
    "start_time": "2022-05-12T00:31:21.799Z"
   },
   {
    "duration": 22,
    "start_time": "2022-05-12T00:31:21.807Z"
   },
   {
    "duration": 42,
    "start_time": "2022-05-12T00:31:21.830Z"
   },
   {
    "duration": 54,
    "start_time": "2022-05-12T00:31:21.874Z"
   },
   {
    "duration": 60,
    "start_time": "2022-05-12T00:31:21.929Z"
   },
   {
    "duration": 3,
    "start_time": "2022-05-12T00:31:21.991Z"
   },
   {
    "duration": 14,
    "start_time": "2022-05-12T00:31:21.995Z"
   },
   {
    "duration": 21,
    "start_time": "2022-05-12T00:31:22.011Z"
   },
   {
    "duration": 2,
    "start_time": "2022-05-12T00:31:22.034Z"
   },
   {
    "duration": 347,
    "start_time": "2022-05-12T00:31:22.038Z"
   },
   {
    "duration": 21,
    "start_time": "2022-05-12T00:31:22.386Z"
   },
   {
    "duration": 5,
    "start_time": "2022-05-12T00:31:22.408Z"
   },
   {
    "duration": 22,
    "start_time": "2022-05-12T00:31:22.414Z"
   },
   {
    "duration": 42,
    "start_time": "2022-05-12T00:31:22.437Z"
   },
   {
    "duration": 111,
    "start_time": "2022-05-12T00:31:22.481Z"
   },
   {
    "duration": 7,
    "start_time": "2022-05-12T00:31:22.594Z"
   },
   {
    "duration": 5,
    "start_time": "2022-05-12T00:31:22.602Z"
   },
   {
    "duration": 214,
    "start_time": "2022-05-12T00:31:22.608Z"
   },
   {
    "duration": 113,
    "start_time": "2022-05-12T00:31:22.823Z"
   },
   {
    "duration": 9,
    "start_time": "2022-05-12T00:31:22.937Z"
   },
   {
    "duration": 16,
    "start_time": "2022-05-12T00:31:22.947Z"
   },
   {
    "duration": 215,
    "start_time": "2022-05-12T00:31:22.964Z"
   },
   {
    "duration": 152,
    "start_time": "2022-05-12T00:31:23.181Z"
   },
   {
    "duration": 130,
    "start_time": "2022-05-12T00:31:23.335Z"
   },
   {
    "duration": 109,
    "start_time": "2022-05-12T00:31:23.466Z"
   },
   {
    "duration": 128,
    "start_time": "2022-05-12T00:31:23.577Z"
   },
   {
    "duration": 9,
    "start_time": "2022-05-12T00:31:23.706Z"
   },
   {
    "duration": 8,
    "start_time": "2022-05-12T00:31:23.716Z"
   },
   {
    "duration": 7,
    "start_time": "2022-05-12T00:31:23.725Z"
   },
   {
    "duration": 118,
    "start_time": "2022-05-12T00:31:23.733Z"
   },
   {
    "duration": 208,
    "start_time": "2022-05-12T00:31:23.853Z"
   },
   {
    "duration": 160,
    "start_time": "2022-05-12T00:31:24.063Z"
   },
   {
    "duration": 15,
    "start_time": "2022-05-12T00:31:24.225Z"
   },
   {
    "duration": 221,
    "start_time": "2022-05-12T00:31:24.242Z"
   },
   {
    "duration": 20,
    "start_time": "2022-05-12T00:31:24.465Z"
   },
   {
    "duration": 7,
    "start_time": "2022-05-12T00:31:24.487Z"
   },
   {
    "duration": 277,
    "start_time": "2022-05-12T00:31:24.495Z"
   },
   {
    "duration": 14,
    "start_time": "2022-05-12T00:31:24.774Z"
   },
   {
    "duration": 12,
    "start_time": "2022-05-12T00:31:24.790Z"
   },
   {
    "duration": 12,
    "start_time": "2022-05-12T00:31:24.804Z"
   },
   {
    "duration": 43,
    "start_time": "2022-05-12T00:31:24.822Z"
   },
   {
    "duration": 7,
    "start_time": "2022-05-12T00:31:24.866Z"
   },
   {
    "duration": 27,
    "start_time": "2022-05-12T00:31:24.874Z"
   },
   {
    "duration": 15,
    "start_time": "2022-05-12T00:31:24.902Z"
   },
   {
    "duration": 15,
    "start_time": "2022-05-12T00:31:24.919Z"
   },
   {
    "duration": 7,
    "start_time": "2022-05-12T00:31:24.962Z"
   },
   {
    "duration": 6,
    "start_time": "2022-05-12T00:31:24.970Z"
   },
   {
    "duration": 23,
    "start_time": "2022-05-12T00:31:24.978Z"
   },
   {
    "duration": 19,
    "start_time": "2022-05-12T00:31:25.003Z"
   },
   {
    "duration": 143,
    "start_time": "2022-05-12T00:31:25.024Z"
   },
   {
    "duration": 5,
    "start_time": "2022-05-12T00:31:25.169Z"
   },
   {
    "duration": 9,
    "start_time": "2022-05-12T00:31:25.176Z"
   },
   {
    "duration": 76,
    "start_time": "2022-05-12T00:31:25.186Z"
   },
   {
    "duration": 14,
    "start_time": "2022-05-12T00:31:25.263Z"
   },
   {
    "duration": 421,
    "start_time": "2022-05-12T00:31:25.279Z"
   },
   {
    "duration": 14,
    "start_time": "2022-05-12T00:31:25.701Z"
   },
   {
    "duration": 392,
    "start_time": "2022-05-12T00:31:25.716Z"
   },
   {
    "duration": 13,
    "start_time": "2022-05-12T00:31:26.110Z"
   },
   {
    "duration": 269,
    "start_time": "2022-05-12T00:31:26.124Z"
   },
   {
    "duration": 72,
    "start_time": "2022-05-12T00:31:26.395Z"
   },
   {
    "duration": 339,
    "start_time": "2022-05-12T00:31:26.468Z"
   },
   {
    "duration": 14,
    "start_time": "2022-05-12T00:31:26.809Z"
   },
   {
    "duration": 341,
    "start_time": "2022-05-12T00:31:26.824Z"
   },
   {
    "duration": 14,
    "start_time": "2022-05-12T00:31:27.167Z"
   },
   {
    "duration": 11,
    "start_time": "2022-05-12T00:31:27.183Z"
   },
   {
    "duration": 13,
    "start_time": "2022-05-12T00:31:27.196Z"
   },
   {
    "duration": 11,
    "start_time": "2022-05-12T00:31:27.210Z"
   }
  ],
  "kernelspec": {
   "display_name": "Python 3 (ipykernel)",
   "language": "python",
   "name": "python3"
  },
  "language_info": {
   "codemirror_mode": {
    "name": "ipython",
    "version": 3
   },
   "file_extension": ".py",
   "mimetype": "text/x-python",
   "name": "python",
   "nbconvert_exporter": "python",
   "pygments_lexer": "ipython3",
   "version": "3.9.7"
  },
  "toc": {
   "base_numbering": 1,
   "nav_menu": {},
   "number_sections": true,
   "sideBar": true,
   "skip_h1_title": true,
   "title_cell": "Содержание",
   "title_sidebar": "Contents",
   "toc_cell": true,
   "toc_position": {
    "height": "calc(100% - 180px)",
    "left": "10px",
    "top": "150px",
    "width": "300px"
   },
   "toc_section_display": true,
   "toc_window_display": true
  }
 },
 "nbformat": 4,
 "nbformat_minor": 4
}
