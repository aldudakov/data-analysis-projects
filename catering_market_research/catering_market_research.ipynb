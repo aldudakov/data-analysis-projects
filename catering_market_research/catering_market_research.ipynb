{
 "cells": [
  {
   "cell_type": "markdown",
   "metadata": {},
   "source": [
    "# Исследование рынка заведений общественного питания Москвы"
   ]
  },
  {
   "cell_type": "markdown",
   "metadata": {},
   "source": [
    "Вы решили открыть небольшое кафе в Москве. Оно оригинальное — гостей должны обслуживать роботы. Проект многообещающий, но дорогой. Вместе с партнёрами вы решились обратиться к инвесторам. Их интересует текущее положение дел на рынке — сможете ли вы снискать популярность на долгое время, когда все зеваки насмотрятся на роботов-официантов?\n",
    "\n",
    "**Цель исследования**: исследовать рынок общественного питания в Москве, дать рекомендации о виде заведения, количестве посадочных мест, а также районе расположения, исследовать возможность развития сети.\n",
    "\n",
    "**Входные данные** представляют собой открытые данные о заведениях общественного питания в Москве.\n",
    "\n",
    "**Описание данных**:\n",
    "\n",
    "Таблица `rest_data`:\n",
    "- `id` — идентификатор объекта;\n",
    "- `object_name` — название объекта общественного питания;\n",
    "- `chain` — сетевой ресторан;\n",
    "- `object_type` — тип объекта общественного питания;\n",
    "- `address` — адрес;\n",
    "- `number` — количество посадочных мест."
   ]
  },
  {
   "cell_type": "markdown",
   "metadata": {},
   "source": [
    "## Загрузка данных и подготовка их к анализу"
   ]
  },
  {
   "cell_type": "code",
   "execution_count": 1,
   "metadata": {},
   "outputs": [],
   "source": [
    "import pandas as pd\n",
    "import matplotlib.pyplot as plt\n",
    "import seaborn as sns\n",
    "import numpy as np"
   ]
  },
  {
   "cell_type": "markdown",
   "metadata": {},
   "source": [
    "Откроем файл с данными о заведениях общественного питания Москвы."
   ]
  },
  {
   "cell_type": "code",
   "execution_count": 2,
   "metadata": {},
   "outputs": [],
   "source": [
    "rest_data = pd.read_csv('/datasets/rest_data.csv')"
   ]
  },
  {
   "cell_type": "code",
   "execution_count": 3,
   "metadata": {},
   "outputs": [
    {
     "data": {
      "text/html": [
       "<div>\n",
       "<style scoped>\n",
       "    .dataframe tbody tr th:only-of-type {\n",
       "        vertical-align: middle;\n",
       "    }\n",
       "\n",
       "    .dataframe tbody tr th {\n",
       "        vertical-align: top;\n",
       "    }\n",
       "\n",
       "    .dataframe thead th {\n",
       "        text-align: right;\n",
       "    }\n",
       "</style>\n",
       "<table border=\"1\" class=\"dataframe\">\n",
       "  <thead>\n",
       "    <tr style=\"text-align: right;\">\n",
       "      <th></th>\n",
       "      <th>id</th>\n",
       "      <th>object_name</th>\n",
       "      <th>chain</th>\n",
       "      <th>object_type</th>\n",
       "      <th>address</th>\n",
       "      <th>number</th>\n",
       "    </tr>\n",
       "  </thead>\n",
       "  <tbody>\n",
       "    <tr>\n",
       "      <th>0</th>\n",
       "      <td>151635</td>\n",
       "      <td>СМЕТАНА</td>\n",
       "      <td>нет</td>\n",
       "      <td>кафе</td>\n",
       "      <td>город Москва, улица Егора Абакумова, дом 9</td>\n",
       "      <td>48</td>\n",
       "    </tr>\n",
       "    <tr>\n",
       "      <th>1</th>\n",
       "      <td>77874</td>\n",
       "      <td>Родник</td>\n",
       "      <td>нет</td>\n",
       "      <td>кафе</td>\n",
       "      <td>город Москва, улица Талалихина, дом 2/1, корпус 1</td>\n",
       "      <td>35</td>\n",
       "    </tr>\n",
       "    <tr>\n",
       "      <th>2</th>\n",
       "      <td>24309</td>\n",
       "      <td>Кафе «Академия»</td>\n",
       "      <td>нет</td>\n",
       "      <td>кафе</td>\n",
       "      <td>город Москва, Абельмановская улица, дом 6</td>\n",
       "      <td>95</td>\n",
       "    </tr>\n",
       "    <tr>\n",
       "      <th>3</th>\n",
       "      <td>21894</td>\n",
       "      <td>ПИЦЦЕТОРИЯ</td>\n",
       "      <td>да</td>\n",
       "      <td>кафе</td>\n",
       "      <td>город Москва, Абрамцевская улица, дом 1</td>\n",
       "      <td>40</td>\n",
       "    </tr>\n",
       "    <tr>\n",
       "      <th>4</th>\n",
       "      <td>119365</td>\n",
       "      <td>Кафе «Вишневая метель»</td>\n",
       "      <td>нет</td>\n",
       "      <td>кафе</td>\n",
       "      <td>город Москва, Абрамцевская улица, дом 9, корпус 1</td>\n",
       "      <td>50</td>\n",
       "    </tr>\n",
       "  </tbody>\n",
       "</table>\n",
       "</div>"
      ],
      "text/plain": [
       "       id             object_name chain object_type  \\\n",
       "0  151635                 СМЕТАНА   нет        кафе   \n",
       "1   77874                  Родник   нет        кафе   \n",
       "2   24309         Кафе «Академия»   нет        кафе   \n",
       "3   21894              ПИЦЦЕТОРИЯ    да        кафе   \n",
       "4  119365  Кафе «Вишневая метель»   нет        кафе   \n",
       "\n",
       "                                             address  number  \n",
       "0         город Москва, улица Егора Абакумова, дом 9      48  \n",
       "1  город Москва, улица Талалихина, дом 2/1, корпус 1      35  \n",
       "2          город Москва, Абельмановская улица, дом 6      95  \n",
       "3            город Москва, Абрамцевская улица, дом 1      40  \n",
       "4  город Москва, Абрамцевская улица, дом 9, корпус 1      50  "
      ]
     },
     "execution_count": 3,
     "metadata": {},
     "output_type": "execute_result"
    }
   ],
   "source": [
    "rest_data.head()"
   ]
  },
  {
   "cell_type": "code",
   "execution_count": 4,
   "metadata": {},
   "outputs": [
    {
     "name": "stdout",
     "output_type": "stream",
     "text": [
      "163840    1\n",
      "207007    1\n",
      "58806     1\n",
      "198074    1\n",
      "150035    1\n",
      "         ..\n",
      "29419     1\n",
      "69506     1\n",
      "23278     1\n",
      "185071    1\n",
      "167934    1\n",
      "Name: id, Length: 15366, dtype: int64\n",
      "Столовая               267\n",
      "Кафе                   236\n",
      "Шаурма                 234\n",
      "KFC                    155\n",
      "Шоколадница            142\n",
      "                      ... \n",
      "Кофейня «Кофе хаус»      1\n",
      "Кафе «Элла 24»           1\n",
      "Мрамор                   1\n",
      "Ресторан «Ерш»           1\n",
      "Школа 1347               1\n",
      "Name: object_name, Length: 10393, dtype: int64\n",
      "нет    12398\n",
      "да      2968\n",
      "Name: chain, dtype: int64\n",
      "кафе                                 6099\n",
      "столовая                             2587\n",
      "ресторан                             2285\n",
      "предприятие быстрого обслуживания    1923\n",
      "бар                                   856\n",
      "буфет                                 585\n",
      "кафетерий                             398\n",
      "закусочная                            360\n",
      "магазин (отдел кулинарии)             273\n",
      "Name: object_type, dtype: int64\n",
      "город Москва, Ходынский бульвар, дом 4                     95\n",
      "город Москва, Пресненская набережная, дом 2                63\n",
      "город Москва, проспект Мира, дом 211, корпус 2             60\n",
      "город Москва, Кировоградская улица, дом 13А                53\n",
      "город Москва, площадь Киевского Вокзала, дом 2             48\n",
      "                                                           ..\n",
      "город Москва, Коломенский проезд, дом 7Б                    1\n",
      "город Москва, Новоясеневский проспект, дом 25/20            1\n",
      "город Москва, улица 800-летия Москвы, дом 7А                1\n",
      "город Москва, Мытная улица, дом 46, строение 6              1\n",
      "город Москва, Симферопольский бульвар, дом 22, корпус 2     1\n",
      "Name: address, Length: 9108, dtype: int64\n",
      "0      1621\n",
      "40      835\n",
      "20      727\n",
      "30      685\n",
      "10      644\n",
      "       ... \n",
      "172       1\n",
      "520       1\n",
      "680       1\n",
      "760       1\n",
      "495       1\n",
      "Name: number, Length: 315, dtype: int64\n"
     ]
    }
   ],
   "source": [
    "for value in rest_data:\n",
    "    print(rest_data[value].value_counts())"
   ]
  },
  {
   "cell_type": "code",
   "execution_count": 5,
   "metadata": {},
   "outputs": [
    {
     "name": "stdout",
     "output_type": "stream",
     "text": [
      "<class 'pandas.core.frame.DataFrame'>\n",
      "RangeIndex: 15366 entries, 0 to 15365\n",
      "Data columns (total 6 columns):\n",
      " #   Column       Non-Null Count  Dtype \n",
      "---  ------       --------------  ----- \n",
      " 0   id           15366 non-null  int64 \n",
      " 1   object_name  15366 non-null  object\n",
      " 2   chain        15366 non-null  object\n",
      " 3   object_type  15366 non-null  object\n",
      " 4   address      15366 non-null  object\n",
      " 5   number       15366 non-null  int64 \n",
      "dtypes: int64(2), object(4)\n",
      "memory usage: 720.4+ KB\n"
     ]
    }
   ],
   "source": [
    "rest_data.info()"
   ]
  },
  {
   "cell_type": "markdown",
   "metadata": {},
   "source": [
    "### Обработка пропусков"
   ]
  },
  {
   "cell_type": "markdown",
   "metadata": {},
   "source": [
    "Посчитаем количество пропущенных значений для каждого столбца."
   ]
  },
  {
   "cell_type": "code",
   "execution_count": 6,
   "metadata": {},
   "outputs": [
    {
     "data": {
      "text/plain": [
       "id             0.0\n",
       "object_name    0.0\n",
       "chain          0.0\n",
       "object_type    0.0\n",
       "address        0.0\n",
       "number         0.0\n",
       "dtype: float64"
      ]
     },
     "execution_count": 6,
     "metadata": {},
     "output_type": "execute_result"
    }
   ],
   "source": [
    "rest_data.isna().mean()"
   ]
  },
  {
   "cell_type": "markdown",
   "metadata": {},
   "source": [
    "Пропусков нет."
   ]
  },
  {
   "cell_type": "markdown",
   "metadata": {},
   "source": [
    "### Приведение данных к нужным типам"
   ]
  },
  {
   "cell_type": "markdown",
   "metadata": {},
   "source": [
    "Приведем тип данных столбца `chain` к типу 'bool'."
   ]
  },
  {
   "cell_type": "code",
   "execution_count": 7,
   "metadata": {},
   "outputs": [],
   "source": [
    "def chain_to_bool(value):\n",
    "    if value == 'да':\n",
    "        return True\n",
    "    return False\n",
    "\n",
    "rest_data['chain'] = rest_data['chain'].apply(chain_to_bool)"
   ]
  },
  {
   "cell_type": "markdown",
   "metadata": {},
   "source": [
    "Проверим."
   ]
  },
  {
   "cell_type": "code",
   "execution_count": 8,
   "metadata": {
    "scrolled": true
   },
   "outputs": [
    {
     "name": "stdout",
     "output_type": "stream",
     "text": [
      "<class 'pandas.core.frame.DataFrame'>\n",
      "RangeIndex: 15366 entries, 0 to 15365\n",
      "Data columns (total 6 columns):\n",
      " #   Column       Non-Null Count  Dtype \n",
      "---  ------       --------------  ----- \n",
      " 0   id           15366 non-null  int64 \n",
      " 1   object_name  15366 non-null  object\n",
      " 2   chain        15366 non-null  bool  \n",
      " 3   object_type  15366 non-null  object\n",
      " 4   address      15366 non-null  object\n",
      " 5   number       15366 non-null  int64 \n",
      "dtypes: bool(1), int64(2), object(3)\n",
      "memory usage: 615.4+ KB\n"
     ]
    }
   ],
   "source": [
    "rest_data.info()"
   ]
  },
  {
   "cell_type": "markdown",
   "metadata": {},
   "source": [
    "### Обработка дубликатов"
   ]
  },
  {
   "cell_type": "markdown",
   "metadata": {},
   "source": [
    "Приведем к нижнему регистру столбцы типа 'object', чтобы потом найти явные дубликаты."
   ]
  },
  {
   "cell_type": "code",
   "execution_count": 9,
   "metadata": {},
   "outputs": [],
   "source": [
    "rest_data['object_name'] = rest_data['object_name'].str.lower()\n",
    "rest_data['address'] = rest_data['address'].str.lower()"
   ]
  },
  {
   "cell_type": "markdown",
   "metadata": {},
   "source": [
    "Явные дубликаты будем искать по всем столбцам, кроме `id`, так как, как видно выше, он у всех уникальный."
   ]
  },
  {
   "cell_type": "code",
   "execution_count": 10,
   "metadata": {},
   "outputs": [
    {
     "data": {
      "text/plain": [
       "85"
      ]
     },
     "execution_count": 10,
     "metadata": {},
     "output_type": "execute_result"
    }
   ],
   "source": [
    "rest_data.duplicated(subset=['object_name', 'chain', 'object_type', 'address', 'number']).sum()"
   ]
  },
  {
   "cell_type": "markdown",
   "metadata": {},
   "source": [
    "Нашли 85 дубликатов. Удалим их."
   ]
  },
  {
   "cell_type": "code",
   "execution_count": 11,
   "metadata": {},
   "outputs": [],
   "source": [
    "rest_data = rest_data.drop_duplicates(subset=['object_name', 'chain', 'object_type', 'address', 'number']).reset_index(drop=True) "
   ]
  },
  {
   "cell_type": "markdown",
   "metadata": {},
   "source": [
    "Проверим."
   ]
  },
  {
   "cell_type": "code",
   "execution_count": 12,
   "metadata": {},
   "outputs": [
    {
     "data": {
      "text/plain": [
       "0"
      ]
     },
     "execution_count": 12,
     "metadata": {},
     "output_type": "execute_result"
    }
   ],
   "source": [
    "rest_data.duplicated(subset=['object_name', 'chain', 'object_type', 'address', 'number']).sum()"
   ]
  },
  {
   "cell_type": "markdown",
   "metadata": {},
   "source": [
    "## Анализ данных"
   ]
  },
  {
   "cell_type": "markdown",
   "metadata": {},
   "source": [
    "### Исследование видов объектов общественного питания по количеству"
   ]
  },
  {
   "cell_type": "markdown",
   "metadata": {},
   "source": [
    "Исследуем виды объектов общественного питания по количеству."
   ]
  },
  {
   "cell_type": "code",
   "execution_count": 13,
   "metadata": {},
   "outputs": [
    {
     "data": {
      "text/html": [
       "<div>\n",
       "<style scoped>\n",
       "    .dataframe tbody tr th:only-of-type {\n",
       "        vertical-align: middle;\n",
       "    }\n",
       "\n",
       "    .dataframe tbody tr th {\n",
       "        vertical-align: top;\n",
       "    }\n",
       "\n",
       "    .dataframe thead th {\n",
       "        text-align: right;\n",
       "    }\n",
       "</style>\n",
       "<table border=\"1\" class=\"dataframe\">\n",
       "  <thead>\n",
       "    <tr style=\"text-align: right;\">\n",
       "      <th></th>\n",
       "      <th>object_type</th>\n",
       "      <th>id</th>\n",
       "    </tr>\n",
       "  </thead>\n",
       "  <tbody>\n",
       "    <tr>\n",
       "      <th>0</th>\n",
       "      <td>кафе</td>\n",
       "      <td>6071</td>\n",
       "    </tr>\n",
       "    <tr>\n",
       "      <th>1</th>\n",
       "      <td>столовая</td>\n",
       "      <td>2584</td>\n",
       "    </tr>\n",
       "    <tr>\n",
       "      <th>2</th>\n",
       "      <td>ресторан</td>\n",
       "      <td>2282</td>\n",
       "    </tr>\n",
       "    <tr>\n",
       "      <th>3</th>\n",
       "      <td>предприятие быстрого обслуживания</td>\n",
       "      <td>1897</td>\n",
       "    </tr>\n",
       "    <tr>\n",
       "      <th>4</th>\n",
       "      <td>бар</td>\n",
       "      <td>855</td>\n",
       "    </tr>\n",
       "    <tr>\n",
       "      <th>5</th>\n",
       "      <td>буфет</td>\n",
       "      <td>576</td>\n",
       "    </tr>\n",
       "    <tr>\n",
       "      <th>6</th>\n",
       "      <td>кафетерий</td>\n",
       "      <td>395</td>\n",
       "    </tr>\n",
       "    <tr>\n",
       "      <th>7</th>\n",
       "      <td>закусочная</td>\n",
       "      <td>348</td>\n",
       "    </tr>\n",
       "    <tr>\n",
       "      <th>8</th>\n",
       "      <td>магазин (отдел кулинарии)</td>\n",
       "      <td>273</td>\n",
       "    </tr>\n",
       "  </tbody>\n",
       "</table>\n",
       "</div>"
      ],
      "text/plain": [
       "                         object_type    id\n",
       "0                               кафе  6071\n",
       "1                           столовая  2584\n",
       "2                           ресторан  2282\n",
       "3  предприятие быстрого обслуживания  1897\n",
       "4                                бар   855\n",
       "5                              буфет   576\n",
       "6                          кафетерий   395\n",
       "7                         закусочная   348\n",
       "8          магазин (отдел кулинарии)   273"
      ]
     },
     "execution_count": 13,
     "metadata": {},
     "output_type": "execute_result"
    }
   ],
   "source": [
    "type_pivot = rest_data.pivot_table(\n",
    "    index='object_type', \n",
    "    values='id', \n",
    "    aggfunc='count'\n",
    ").sort_values(by='id', ascending=False).reset_index()\n",
    "type_pivot"
   ]
  },
  {
   "cell_type": "markdown",
   "metadata": {},
   "source": [
    "Построим столбчатую диаграмму."
   ]
  },
  {
   "cell_type": "code",
   "execution_count": 14,
   "metadata": {},
   "outputs": [
    {
     "data": {
      "image/png": "[encoded data removed]",
      "text/plain": [
       "<Figure size 432x288 with 1 Axes>"
      ]
     },
     "metadata": {
      "needs_background": "light"
     },
     "output_type": "display_data"
    }
   ],
   "source": [
    "sns.set_palette('pastel') \n",
    "\n",
    "graph = sns.barplot(\n",
    "    x='id', \n",
    "    y='object_type', \n",
    "    data=type_pivot)\n",
    "\n",
    "#graph.set_xticklabels(graph.get_xticklabels(), rotation=90)\n",
    "graph.set_title('Доля сетевых заведений для каждого вида объектов общественного питания')\n",
    "graph.set_xlabel('Количество')\n",
    "graph.set_ylabel('Виды объектов общественного питания по количеству')\n",
    "plt.show()"
   ]
  },
  {
   "cell_type": "markdown",
   "metadata": {},
   "source": [
    "Кафе значительно больше, чем каких-либо других заведений."
   ]
  },
  {
   "cell_type": "markdown",
   "metadata": {},
   "source": [
    "### Исследование соотношения сетевых и несетевых заведений по количеству"
   ]
  },
  {
   "cell_type": "markdown",
   "metadata": {},
   "source": [
    "Исследуем соотношения сетевых и несетевых заведений по количеству."
   ]
  },
  {
   "cell_type": "code",
   "execution_count": 15,
   "metadata": {},
   "outputs": [
    {
     "data": {
      "text/html": [
       "<div>\n",
       "<style scoped>\n",
       "    .dataframe tbody tr th:only-of-type {\n",
       "        vertical-align: middle;\n",
       "    }\n",
       "\n",
       "    .dataframe tbody tr th {\n",
       "        vertical-align: top;\n",
       "    }\n",
       "\n",
       "    .dataframe thead th {\n",
       "        text-align: right;\n",
       "    }\n",
       "</style>\n",
       "<table border=\"1\" class=\"dataframe\">\n",
       "  <thead>\n",
       "    <tr style=\"text-align: right;\">\n",
       "      <th></th>\n",
       "      <th>chain</th>\n",
       "      <th>id</th>\n",
       "    </tr>\n",
       "  </thead>\n",
       "  <tbody>\n",
       "    <tr>\n",
       "      <th>0</th>\n",
       "      <td>False</td>\n",
       "      <td>12317</td>\n",
       "    </tr>\n",
       "    <tr>\n",
       "      <th>1</th>\n",
       "      <td>True</td>\n",
       "      <td>2964</td>\n",
       "    </tr>\n",
       "  </tbody>\n",
       "</table>\n",
       "</div>"
      ],
      "text/plain": [
       "   chain     id\n",
       "0  False  12317\n",
       "1   True   2964"
      ]
     },
     "execution_count": 15,
     "metadata": {},
     "output_type": "execute_result"
    }
   ],
   "source": [
    "chain_pivot = rest_data.pivot_table(\n",
    "    index='chain', \n",
    "    values='id', \n",
    "    aggfunc='count'\n",
    ").sort_values(by='id', ascending=False).reset_index()\n",
    "chain_pivot"
   ]
  },
  {
   "cell_type": "markdown",
   "metadata": {},
   "source": [
    "Построим круговую диаграмму."
   ]
  },
  {
   "cell_type": "code",
   "execution_count": 16,
   "metadata": {
    "scrolled": false
   },
   "outputs": [
    {
     "data": {
      "image/png": "[encoded data removed]",
      "text/plain": [
       "<Figure size 576x576 with 1 Axes>"
      ]
     },
     "metadata": {},
     "output_type": "display_data"
    }
   ],
   "source": [
    "colors = sns.color_palette('pastel')\n",
    "\n",
    "plt.figure(figsize=(8, 8))\n",
    "plt.pie(chain_pivot['id'], \n",
    "        labels=['несетевые', 'сетевые'],\n",
    "        colors=colors,\n",
    "        autopct='%.0f%%')\n",
    "plt.title('Соотношение сетевых и несетевых заведений по количеству')\n",
    "plt.show()"
   ]
  },
  {
   "cell_type": "markdown",
   "metadata": {},
   "source": [
    "<div class=\"alert alert-success\"; style=\"border-left: 7px solid green\">\n",
    "<h5> ✔️ <font color=\"green\">Комментарий ревьюера (зеленый)</font></h5>\n",
    "\n",
    "Красивая интерактивная визуализация, молодец!\n",
    "\n",
    "</div>"
   ]
  },
  {
   "cell_type": "markdown",
   "metadata": {},
   "source": [
    "Сетевых заведений примерно в 4 раза меньше, чем несетевых."
   ]
  },
  {
   "cell_type": "markdown",
   "metadata": {},
   "source": [
    "### Исследование видов объектов общественного питания по сетевому распространению"
   ]
  },
  {
   "cell_type": "markdown",
   "metadata": {},
   "source": [
    "Изучим, для какого вида объекта общественного питания характерно сетевое распространение."
   ]
  },
  {
   "cell_type": "code",
   "execution_count": 17,
   "metadata": {
    "scrolled": false
   },
   "outputs": [
    {
     "data": {
      "text/html": [
       "<div>\n",
       "<style scoped>\n",
       "    .dataframe tbody tr th:only-of-type {\n",
       "        vertical-align: middle;\n",
       "    }\n",
       "\n",
       "    .dataframe tbody tr th {\n",
       "        vertical-align: top;\n",
       "    }\n",
       "\n",
       "    .dataframe thead th {\n",
       "        text-align: right;\n",
       "    }\n",
       "</style>\n",
       "<table border=\"1\" class=\"dataframe\">\n",
       "  <thead>\n",
       "    <tr style=\"text-align: right;\">\n",
       "      <th></th>\n",
       "      <th>object_type</th>\n",
       "      <th>chain</th>\n",
       "    </tr>\n",
       "  </thead>\n",
       "  <tbody>\n",
       "    <tr>\n",
       "      <th>0</th>\n",
       "      <td>предприятие быстрого обслуживания</td>\n",
       "      <td>41.539273</td>\n",
       "    </tr>\n",
       "    <tr>\n",
       "      <th>1</th>\n",
       "      <td>магазин (отдел кулинарии)</td>\n",
       "      <td>28.571429</td>\n",
       "    </tr>\n",
       "    <tr>\n",
       "      <th>2</th>\n",
       "      <td>ресторан</td>\n",
       "      <td>23.794917</td>\n",
       "    </tr>\n",
       "    <tr>\n",
       "      <th>3</th>\n",
       "      <td>кафе</td>\n",
       "      <td>22.994564</td>\n",
       "    </tr>\n",
       "    <tr>\n",
       "      <th>4</th>\n",
       "      <td>закусочная</td>\n",
       "      <td>16.091954</td>\n",
       "    </tr>\n",
       "    <tr>\n",
       "      <th>5</th>\n",
       "      <td>кафетерий</td>\n",
       "      <td>13.164557</td>\n",
       "    </tr>\n",
       "    <tr>\n",
       "      <th>6</th>\n",
       "      <td>бар</td>\n",
       "      <td>4.327485</td>\n",
       "    </tr>\n",
       "    <tr>\n",
       "      <th>7</th>\n",
       "      <td>буфет</td>\n",
       "      <td>1.909722</td>\n",
       "    </tr>\n",
       "    <tr>\n",
       "      <th>8</th>\n",
       "      <td>столовая</td>\n",
       "      <td>0.116099</td>\n",
       "    </tr>\n",
       "  </tbody>\n",
       "</table>\n",
       "</div>"
      ],
      "text/plain": [
       "                         object_type      chain\n",
       "0  предприятие быстрого обслуживания  41.539273\n",
       "1          магазин (отдел кулинарии)  28.571429\n",
       "2                           ресторан  23.794917\n",
       "3                               кафе  22.994564\n",
       "4                         закусочная  16.091954\n",
       "5                          кафетерий  13.164557\n",
       "6                                бар   4.327485\n",
       "7                              буфет   1.909722\n",
       "8                           столовая   0.116099"
      ]
     },
     "execution_count": 17,
     "metadata": {},
     "output_type": "execute_result"
    }
   ],
   "source": [
    "type_chain_pivot = rest_data.pivot_table(\n",
    "    index='object_type', \n",
    "    values='chain'\n",
    ").sort_values(by='chain', ascending=False).reset_index()\n",
    "type_chain_pivot['chain'] = type_chain_pivot['chain'] * 100\n",
    "type_chain_pivot"
   ]
  },
  {
   "cell_type": "markdown",
   "metadata": {},
   "source": [
    "Построим столбчатую диаграмму."
   ]
  },
  {
   "cell_type": "code",
   "execution_count": 18,
   "metadata": {
    "scrolled": true
   },
   "outputs": [
    {
     "data": {
      "image/png": "[encoded data removed]",
      "text/plain": [
       "<Figure size 432x288 with 1 Axes>"
      ]
     },
     "metadata": {
      "needs_background": "light"
     },
     "output_type": "display_data"
    }
   ],
   "source": [
    "sns.set_palette('pastel') \n",
    "\n",
    "graph = sns.barplot(\n",
    "    x='chain', \n",
    "    y='object_type', \n",
    "    data=type_chain_pivot)\n",
    "\n",
    "#graph.set_xticklabels(graph.get_xticklabels(), rotation=90)\n",
    "graph.set_title('Доля сетевых заведений для каждого вида объектов общественного питания')\n",
    "graph.set_xlabel('Доля, %')\n",
    "graph.set_ylabel('Вид объектов общественного питания')\n",
    "plt.show()"
   ]
  },
  {
   "cell_type": "markdown",
   "metadata": {},
   "source": [
    "<div class=\"alert alert-success\"; style=\"border-left: 7px solid green\">\n",
    "<h5> ✔️ <font color=\"green\">Комментарий ревьюера (зеленый)</font></h5>\n",
    "\n",
    "Красивое и понятное сравнение, спасибо!\n",
    "\n",
    "</div>"
   ]
  },
  {
   "cell_type": "markdown",
   "metadata": {},
   "source": [
    "Видим, что для предприятий быстрого обслуживания характерно сетевое распространение: более 40% заведений этого типа сетевые.\n",
    "\n",
    "Также часто сетевыми являются отделы кулинарии в магазинах (29%), рестораны (24%) и кафе (23%), реже всего сетевыми являются столовые, буфеты и бары (менее 5%)."
   ]
  },
  {
   "cell_type": "markdown",
   "metadata": {},
   "source": [
    "### Исследование сетевых заведений по посадочным места и количеству заведений в сети"
   ]
  },
  {
   "cell_type": "markdown",
   "metadata": {},
   "source": [
    "Выясним, что характерно для сетевых заведений: много заведений с небольшим числом посадочных мест в каждом или мало заведений с большим количеством посадочных мест.\n",
    "\n",
    "Построим график рассеяния количества заведений в сети и медианного количества посадочных мест в сети"
   ]
  },
  {
   "cell_type": "code",
   "execution_count": 19,
   "metadata": {},
   "outputs": [
    {
     "data": {
      "image/png": "[encoded data removed]",
      "text/plain": [
       "<Figure size 648x504 with 1 Axes>"
      ]
     },
     "metadata": {
      "needs_background": "light"
     },
     "output_type": "display_data"
    }
   ],
   "source": [
    "chain_number_pivot = rest_data[rest_data['chain']].pivot_table(\n",
    "    index='object_name', \n",
    "    values=['id', 'number'],\n",
    "    aggfunc={'id': 'count', 'number': 'median'}\n",
    ").sort_values(by='id', ascending=False)\n",
    "\n",
    "plt.figure(figsize=(9, 7))\n",
    "graph = sns.scatterplot(\n",
    "    x='number', \n",
    "    y='id', \n",
    "    data=chain_number_pivot,\n",
    "    alpha=0.7)\n",
    "graph.set_title('Диаграмма рассеяния количества заведений и количества посадочных мест в сети')\n",
    "graph.set_xlabel('Количество посадочных мест')\n",
    "graph.set_ylabel('Количество заведений в сети')\n",
    "plt.show()"
   ]
  },
  {
   "cell_type": "markdown",
   "metadata": {},
   "source": [
    "<div class=\"alert alert-success\"; style=\"border-left: 7px solid green\">\n",
    "<h5> ✔️ <font color=\"green\">Комментарий ревьюера (зеленый)</font></h5>\n",
    "\n",
    "График построен верно.\n",
    "\n",
    "</div>"
   ]
  },
  {
   "cell_type": "markdown",
   "metadata": {},
   "source": [
    "На графике оказалось очень много сетей с одним заведением: такие данные надо отправить на пересборку. \n",
    "\n",
    "Пока построим этот же график с количеством заведений в сети, больших одного."
   ]
  },
  {
   "cell_type": "code",
   "execution_count": 20,
   "metadata": {},
   "outputs": [
    {
     "data": {
      "image/png": "[encoded data removed]",
      "text/plain": [
       "<Figure size 648x504 with 1 Axes>"
      ]
     },
     "metadata": {
      "needs_background": "light"
     },
     "output_type": "display_data"
    }
   ],
   "source": [
    "plt.figure(figsize=(9, 7))\n",
    "graph = sns.scatterplot(\n",
    "    x='number', \n",
    "    y='id', \n",
    "    data=chain_number_pivot.query('id > 1'),\n",
    "    alpha=0.7)\n",
    "graph.set_title('Диаграмма рассеяния количества заведений и количества посадочных мест в сети')\n",
    "graph.set_xlabel('Количество посадочных мест')\n",
    "graph.set_ylabel('Количество заведений в сети')\n",
    "plt.show()"
   ]
  },
  {
   "cell_type": "markdown",
   "metadata": {},
   "source": [
    "Большинство точек сконцентрировано в снизу: большинство сетей имеют небольшое количество заведений и среднее количество посадочных мест."
   ]
  },
  {
   "cell_type": "markdown",
   "metadata": {},
   "source": [
    "### Исследование среднего количества посадочных мест по виду объекта общественного питания"
   ]
  },
  {
   "cell_type": "markdown",
   "metadata": {},
   "source": [
    "Изучим среднее количество мест по виду объекта общественного питания. Будем использовать медианное значение вместо среднего."
   ]
  },
  {
   "cell_type": "code",
   "execution_count": 21,
   "metadata": {
    "scrolled": false
   },
   "outputs": [
    {
     "data": {
      "text/html": [
       "<div>\n",
       "<style scoped>\n",
       "    .dataframe tbody tr th:only-of-type {\n",
       "        vertical-align: middle;\n",
       "    }\n",
       "\n",
       "    .dataframe tbody tr th {\n",
       "        vertical-align: top;\n",
       "    }\n",
       "\n",
       "    .dataframe thead th {\n",
       "        text-align: right;\n",
       "    }\n",
       "</style>\n",
       "<table border=\"1\" class=\"dataframe\">\n",
       "  <thead>\n",
       "    <tr style=\"text-align: right;\">\n",
       "      <th></th>\n",
       "      <th>object_type</th>\n",
       "      <th>chain</th>\n",
       "      <th>number</th>\n",
       "    </tr>\n",
       "  </thead>\n",
       "  <tbody>\n",
       "    <tr>\n",
       "      <th>0</th>\n",
       "      <td>столовая</td>\n",
       "      <td>True</td>\n",
       "      <td>120.0</td>\n",
       "    </tr>\n",
       "    <tr>\n",
       "      <th>1</th>\n",
       "      <td>столовая</td>\n",
       "      <td>False</td>\n",
       "      <td>103.0</td>\n",
       "    </tr>\n",
       "    <tr>\n",
       "      <th>2</th>\n",
       "      <td>ресторан</td>\n",
       "      <td>True</td>\n",
       "      <td>89.0</td>\n",
       "    </tr>\n",
       "    <tr>\n",
       "      <th>3</th>\n",
       "      <td>ресторан</td>\n",
       "      <td>False</td>\n",
       "      <td>75.0</td>\n",
       "    </tr>\n",
       "    <tr>\n",
       "      <th>4</th>\n",
       "      <td>бар</td>\n",
       "      <td>True</td>\n",
       "      <td>45.0</td>\n",
       "    </tr>\n",
       "    <tr>\n",
       "      <th>5</th>\n",
       "      <td>кафе</td>\n",
       "      <td>True</td>\n",
       "      <td>40.0</td>\n",
       "    </tr>\n",
       "    <tr>\n",
       "      <th>6</th>\n",
       "      <td>бар</td>\n",
       "      <td>False</td>\n",
       "      <td>34.0</td>\n",
       "    </tr>\n",
       "    <tr>\n",
       "      <th>7</th>\n",
       "      <td>буфет</td>\n",
       "      <td>False</td>\n",
       "      <td>32.0</td>\n",
       "    </tr>\n",
       "    <tr>\n",
       "      <th>8</th>\n",
       "      <td>кафе</td>\n",
       "      <td>False</td>\n",
       "      <td>30.0</td>\n",
       "    </tr>\n",
       "    <tr>\n",
       "      <th>9</th>\n",
       "      <td>предприятие быстрого обслуживания</td>\n",
       "      <td>True</td>\n",
       "      <td>25.0</td>\n",
       "    </tr>\n",
       "    <tr>\n",
       "      <th>10</th>\n",
       "      <td>закусочная</td>\n",
       "      <td>True</td>\n",
       "      <td>8.0</td>\n",
       "    </tr>\n",
       "    <tr>\n",
       "      <th>11</th>\n",
       "      <td>кафетерий</td>\n",
       "      <td>True</td>\n",
       "      <td>8.0</td>\n",
       "    </tr>\n",
       "    <tr>\n",
       "      <th>12</th>\n",
       "      <td>кафетерий</td>\n",
       "      <td>False</td>\n",
       "      <td>6.0</td>\n",
       "    </tr>\n",
       "    <tr>\n",
       "      <th>13</th>\n",
       "      <td>магазин (отдел кулинарии)</td>\n",
       "      <td>True</td>\n",
       "      <td>3.5</td>\n",
       "    </tr>\n",
       "    <tr>\n",
       "      <th>14</th>\n",
       "      <td>магазин (отдел кулинарии)</td>\n",
       "      <td>False</td>\n",
       "      <td>0.0</td>\n",
       "    </tr>\n",
       "    <tr>\n",
       "      <th>15</th>\n",
       "      <td>предприятие быстрого обслуживания</td>\n",
       "      <td>False</td>\n",
       "      <td>0.0</td>\n",
       "    </tr>\n",
       "    <tr>\n",
       "      <th>16</th>\n",
       "      <td>закусочная</td>\n",
       "      <td>False</td>\n",
       "      <td>0.0</td>\n",
       "    </tr>\n",
       "    <tr>\n",
       "      <th>17</th>\n",
       "      <td>буфет</td>\n",
       "      <td>True</td>\n",
       "      <td>0.0</td>\n",
       "    </tr>\n",
       "  </tbody>\n",
       "</table>\n",
       "</div>"
      ],
      "text/plain": [
       "                          object_type  chain  number\n",
       "0                            столовая   True   120.0\n",
       "1                            столовая  False   103.0\n",
       "2                            ресторан   True    89.0\n",
       "3                            ресторан  False    75.0\n",
       "4                                 бар   True    45.0\n",
       "5                                кафе   True    40.0\n",
       "6                                 бар  False    34.0\n",
       "7                               буфет  False    32.0\n",
       "8                                кафе  False    30.0\n",
       "9   предприятие быстрого обслуживания   True    25.0\n",
       "10                         закусочная   True     8.0\n",
       "11                          кафетерий   True     8.0\n",
       "12                          кафетерий  False     6.0\n",
       "13          магазин (отдел кулинарии)   True     3.5\n",
       "14          магазин (отдел кулинарии)  False     0.0\n",
       "15  предприятие быстрого обслуживания  False     0.0\n",
       "16                         закусочная  False     0.0\n",
       "17                              буфет   True     0.0"
      ]
     },
     "execution_count": 21,
     "metadata": {},
     "output_type": "execute_result"
    }
   ],
   "source": [
    "type_number_pivot = rest_data.pivot_table(\n",
    "    index=['object_type', 'chain'], \n",
    "    values='number', \n",
    "    aggfunc='median'\n",
    ").sort_values(by='number', ascending=False).reset_index()\n",
    "type_number_pivot"
   ]
  },
  {
   "cell_type": "markdown",
   "metadata": {},
   "source": [
    "Построим столбчатую диаграмму с разделением на сетевое/несетевое."
   ]
  },
  {
   "cell_type": "code",
   "execution_count": 22,
   "metadata": {
    "scrolled": true
   },
   "outputs": [
    {
     "data": {
      "image/png": "[encoded data removed]",
      "text/plain": [
       "<Figure size 432x288 with 1 Axes>"
      ]
     },
     "metadata": {
      "needs_background": "light"
     },
     "output_type": "display_data"
    }
   ],
   "source": [
    "sns.set_palette('pastel') \n",
    "\n",
    "graph = sns.barplot(\n",
    "    x='number', \n",
    "    y='object_type',\n",
    "    hue='chain',\n",
    "    data=type_number_pivot)\n",
    "\n",
    "#graph.set_xticklabels(graph.get_xticklabels(), rotation=90)\n",
    "graph.set_title('Среднее количество посадочных мест по виду объекта общественного питания')\n",
    "graph.set_xlabel('Вид объектов общественного питания')\n",
    "graph.set_ylabel('Среднее количество посадочных мест')\n",
    "plt.show()"
   ]
  },
  {
   "cell_type": "markdown",
   "metadata": {},
   "source": [
    "Самое большое среднее количество посадочных мест в столовых (120 для сетевых, 103 – для несетевых), потом идут – рестораны (89, 75), а самое маленькое – в закусочных и в отделах кулинарии магазинов (медианное значение – 0)."
   ]
  },
  {
   "cell_type": "markdown",
   "metadata": {},
   "source": [
    "### Создание нового столбца с названием улицы"
   ]
  },
  {
   "cell_type": "markdown",
   "metadata": {},
   "source": [
    "Выделим улицу из адреса в отдельный столбец. В некоторых адресах нет улицы (эти адреса находятся в поселка и т. п.): для таких адресов улица определена не будет. "
   ]
  },
  {
   "cell_type": "code",
   "execution_count": 23,
   "metadata": {},
   "outputs": [
    {
     "data": {
      "text/html": [
       "<div>\n",
       "<style scoped>\n",
       "    .dataframe tbody tr th:only-of-type {\n",
       "        vertical-align: middle;\n",
       "    }\n",
       "\n",
       "    .dataframe tbody tr th {\n",
       "        vertical-align: top;\n",
       "    }\n",
       "\n",
       "    .dataframe thead th {\n",
       "        text-align: right;\n",
       "    }\n",
       "</style>\n",
       "<table border=\"1\" class=\"dataframe\">\n",
       "  <thead>\n",
       "    <tr style=\"text-align: right;\">\n",
       "      <th></th>\n",
       "      <th>id</th>\n",
       "      <th>object_name</th>\n",
       "      <th>chain</th>\n",
       "      <th>object_type</th>\n",
       "      <th>address</th>\n",
       "      <th>number</th>\n",
       "      <th>street</th>\n",
       "    </tr>\n",
       "  </thead>\n",
       "  <tbody>\n",
       "    <tr>\n",
       "      <th>0</th>\n",
       "      <td>151635</td>\n",
       "      <td>сметана</td>\n",
       "      <td>False</td>\n",
       "      <td>кафе</td>\n",
       "      <td>город москва, улица егора абакумова, дом 9</td>\n",
       "      <td>48</td>\n",
       "      <td>улица егора абакумова</td>\n",
       "    </tr>\n",
       "    <tr>\n",
       "      <th>1</th>\n",
       "      <td>77874</td>\n",
       "      <td>родник</td>\n",
       "      <td>False</td>\n",
       "      <td>кафе</td>\n",
       "      <td>город москва, улица талалихина, дом 2/1, корпус 1</td>\n",
       "      <td>35</td>\n",
       "      <td>улица талалихина</td>\n",
       "    </tr>\n",
       "    <tr>\n",
       "      <th>2</th>\n",
       "      <td>24309</td>\n",
       "      <td>кафе «академия»</td>\n",
       "      <td>False</td>\n",
       "      <td>кафе</td>\n",
       "      <td>город москва, абельмановская улица, дом 6</td>\n",
       "      <td>95</td>\n",
       "      <td>абельмановская улица</td>\n",
       "    </tr>\n",
       "    <tr>\n",
       "      <th>3</th>\n",
       "      <td>21894</td>\n",
       "      <td>пиццетория</td>\n",
       "      <td>True</td>\n",
       "      <td>кафе</td>\n",
       "      <td>город москва, абрамцевская улица, дом 1</td>\n",
       "      <td>40</td>\n",
       "      <td>абрамцевская улица</td>\n",
       "    </tr>\n",
       "    <tr>\n",
       "      <th>4</th>\n",
       "      <td>119365</td>\n",
       "      <td>кафе «вишневая метель»</td>\n",
       "      <td>False</td>\n",
       "      <td>кафе</td>\n",
       "      <td>город москва, абрамцевская улица, дом 9, корпус 1</td>\n",
       "      <td>50</td>\n",
       "      <td>абрамцевская улица</td>\n",
       "    </tr>\n",
       "  </tbody>\n",
       "</table>\n",
       "</div>"
      ],
      "text/plain": [
       "       id             object_name  chain object_type  \\\n",
       "0  151635                 сметана  False        кафе   \n",
       "1   77874                  родник  False        кафе   \n",
       "2   24309         кафе «академия»  False        кафе   \n",
       "3   21894              пиццетория   True        кафе   \n",
       "4  119365  кафе «вишневая метель»  False        кафе   \n",
       "\n",
       "                                             address  number  \\\n",
       "0         город москва, улица егора абакумова, дом 9      48   \n",
       "1  город москва, улица талалихина, дом 2/1, корпус 1      35   \n",
       "2          город москва, абельмановская улица, дом 6      95   \n",
       "3            город москва, абрамцевская улица, дом 1      40   \n",
       "4  город москва, абрамцевская улица, дом 9, корпус 1      50   \n",
       "\n",
       "                   street  \n",
       "0   улица егора абакумова  \n",
       "1        улица талалихина  \n",
       "2    абельмановская улица  \n",
       "3      абрамцевская улица  \n",
       "4      абрамцевская улица  "
      ]
     },
     "execution_count": 23,
     "metadata": {},
     "output_type": "execute_result"
    }
   ],
   "source": [
    "def street_definition(data):\n",
    "    street_types = ['улица', 'бульвар', 'проспект', 'переулок', 'шоссе', \n",
    "'проезд', 'набережная', 'площадь', 'аллея', 'линия', 'квартал', 'мост', 'тупик', 'просека']\n",
    "    street =  data.split(',')[1]\n",
    "    for value in street.split(' '):\n",
    "        if value in street_types:\n",
    "            return street\n",
    "\n",
    "rest_data['street'] = rest_data['address'].apply(street_definition)\n",
    "\n",
    "rest_data.head()"
   ]
  },
  {
   "cell_type": "markdown",
   "metadata": {},
   "source": [
    "Посчитает, какая доля заведений не получила улицу."
   ]
  },
  {
   "cell_type": "code",
   "execution_count": 24,
   "metadata": {},
   "outputs": [
    {
     "data": {
      "text/plain": [
       "0.06380472482167397"
      ]
     },
     "execution_count": 24,
     "metadata": {},
     "output_type": "execute_result"
    }
   ],
   "source": [
    "rest_data['street'].isna().mean()"
   ]
  },
  {
   "cell_type": "markdown",
   "metadata": {},
   "source": [
    "Всего ~6%: удалим эти значения, они не понадобятся в дальшнейшем анализе."
   ]
  },
  {
   "cell_type": "code",
   "execution_count": 25,
   "metadata": {},
   "outputs": [],
   "source": [
    "rest_data = rest_data.dropna()"
   ]
  },
  {
   "cell_type": "markdown",
   "metadata": {},
   "source": [
    "Проверим."
   ]
  },
  {
   "cell_type": "code",
   "execution_count": 26,
   "metadata": {},
   "outputs": [
    {
     "data": {
      "text/plain": [
       "0.0"
      ]
     },
     "execution_count": 26,
     "metadata": {},
     "output_type": "execute_result"
    }
   ],
   "source": [
    "rest_data['street'].isna().mean()"
   ]
  },
  {
   "cell_type": "markdown",
   "metadata": {},
   "source": [
    "### Поиск топ-10 улиц по количеству объектов общественного питания"
   ]
  },
  {
   "cell_type": "markdown",
   "metadata": {},
   "source": [
    "Найдем топ-10 по количеству объектов общественного питания."
   ]
  },
  {
   "cell_type": "code",
   "execution_count": 27,
   "metadata": {},
   "outputs": [
    {
     "data": {
      "text/html": [
       "<div>\n",
       "<style scoped>\n",
       "    .dataframe tbody tr th:only-of-type {\n",
       "        vertical-align: middle;\n",
       "    }\n",
       "\n",
       "    .dataframe tbody tr th {\n",
       "        vertical-align: top;\n",
       "    }\n",
       "\n",
       "    .dataframe thead th {\n",
       "        text-align: right;\n",
       "    }\n",
       "</style>\n",
       "<table border=\"1\" class=\"dataframe\">\n",
       "  <thead>\n",
       "    <tr style=\"text-align: right;\">\n",
       "      <th></th>\n",
       "      <th>street</th>\n",
       "      <th>id</th>\n",
       "    </tr>\n",
       "  </thead>\n",
       "  <tbody>\n",
       "    <tr>\n",
       "      <th>0</th>\n",
       "      <td>проспект мира</td>\n",
       "      <td>203</td>\n",
       "    </tr>\n",
       "    <tr>\n",
       "      <th>1</th>\n",
       "      <td>профсоюзная улица</td>\n",
       "      <td>181</td>\n",
       "    </tr>\n",
       "    <tr>\n",
       "      <th>2</th>\n",
       "      <td>ленинградский проспект</td>\n",
       "      <td>170</td>\n",
       "    </tr>\n",
       "    <tr>\n",
       "      <th>3</th>\n",
       "      <td>пресненская набережная</td>\n",
       "      <td>167</td>\n",
       "    </tr>\n",
       "    <tr>\n",
       "      <th>4</th>\n",
       "      <td>варшавское шоссе</td>\n",
       "      <td>161</td>\n",
       "    </tr>\n",
       "    <tr>\n",
       "      <th>5</th>\n",
       "      <td>ленинский проспект</td>\n",
       "      <td>147</td>\n",
       "    </tr>\n",
       "    <tr>\n",
       "      <th>6</th>\n",
       "      <td>проспект вернадского</td>\n",
       "      <td>128</td>\n",
       "    </tr>\n",
       "    <tr>\n",
       "      <th>7</th>\n",
       "      <td>кутузовский проспект</td>\n",
       "      <td>114</td>\n",
       "    </tr>\n",
       "    <tr>\n",
       "      <th>8</th>\n",
       "      <td>каширское шоссе</td>\n",
       "      <td>111</td>\n",
       "    </tr>\n",
       "    <tr>\n",
       "      <th>9</th>\n",
       "      <td>кировоградская улица</td>\n",
       "      <td>108</td>\n",
       "    </tr>\n",
       "  </tbody>\n",
       "</table>\n",
       "</div>"
      ],
      "text/plain": [
       "                    street   id\n",
       "0            проспект мира  203\n",
       "1        профсоюзная улица  181\n",
       "2   ленинградский проспект  170\n",
       "3   пресненская набережная  167\n",
       "4         варшавское шоссе  161\n",
       "5       ленинский проспект  147\n",
       "6     проспект вернадского  128\n",
       "7     кутузовский проспект  114\n",
       "8          каширское шоссе  111\n",
       "9     кировоградская улица  108"
      ]
     },
     "execution_count": 27,
     "metadata": {},
     "output_type": "execute_result"
    }
   ],
   "source": [
    "street_pivot = rest_data.pivot_table(\n",
    "    index='street', \n",
    "    values='id', \n",
    "    aggfunc='count'\n",
    ").sort_values(by='id', ascending=False).reset_index().head(10)\n",
    "street_pivot"
   ]
  },
  {
   "cell_type": "markdown",
   "metadata": {},
   "source": [
    "Построим столбчатую диаграмму."
   ]
  },
  {
   "cell_type": "code",
   "execution_count": 28,
   "metadata": {
    "scrolled": true
   },
   "outputs": [
    {
     "data": {
      "image/png": "[encoded data removed]",
      "text/plain": [
       "<Figure size 432x288 with 1 Axes>"
      ]
     },
     "metadata": {
      "needs_background": "light"
     },
     "output_type": "display_data"
    }
   ],
   "source": [
    "sns.set_palette('pastel') \n",
    "\n",
    "graph = sns.barplot(\n",
    "    x='id', \n",
    "    y='street', \n",
    "    data=street_pivot)\n",
    "\n",
    "#graph.set_xticklabels(graph.get_xticklabels(), rotation=90)\n",
    "graph.set_title('Топ-10 улиц по количеству объектов общественного питания')\n",
    "graph.set_xlabel('Количество объектов общественного питания')\n",
    "graph.set_ylabel('Улица')\n",
    "plt.show()"
   ]
  },
  {
   "cell_type": "markdown",
   "metadata": {},
   "source": [
    "### Определение района по улице"
   ]
  },
  {
   "cell_type": "markdown",
   "metadata": {},
   "source": [
    "Загрузим внешний файл МосГаза с названиями улиц и районов Москвы."
   ]
  },
  {
   "cell_type": "code",
   "execution_count": 29,
   "metadata": {},
   "outputs": [
    {
     "data": {
      "text/html": [
       "<div>\n",
       "<style scoped>\n",
       "    .dataframe tbody tr th:only-of-type {\n",
       "        vertical-align: middle;\n",
       "    }\n",
       "\n",
       "    .dataframe tbody tr th {\n",
       "        vertical-align: top;\n",
       "    }\n",
       "\n",
       "    .dataframe thead th {\n",
       "        text-align: right;\n",
       "    }\n",
       "</style>\n",
       "<table border=\"1\" class=\"dataframe\">\n",
       "  <thead>\n",
       "    <tr style=\"text-align: right;\">\n",
       "      <th></th>\n",
       "      <th>streetname</th>\n",
       "      <th>areaid</th>\n",
       "      <th>okrug</th>\n",
       "      <th>area</th>\n",
       "    </tr>\n",
       "  </thead>\n",
       "  <tbody>\n",
       "    <tr>\n",
       "      <th>0</th>\n",
       "      <td>Выставочный переулок</td>\n",
       "      <td>17</td>\n",
       "      <td>ЦАО</td>\n",
       "      <td>Пресненский район</td>\n",
       "    </tr>\n",
       "    <tr>\n",
       "      <th>1</th>\n",
       "      <td>улица Гашека</td>\n",
       "      <td>17</td>\n",
       "      <td>ЦАО</td>\n",
       "      <td>Пресненский район</td>\n",
       "    </tr>\n",
       "    <tr>\n",
       "      <th>2</th>\n",
       "      <td>Большая Никитская улица</td>\n",
       "      <td>17</td>\n",
       "      <td>ЦАО</td>\n",
       "      <td>Пресненский район</td>\n",
       "    </tr>\n",
       "    <tr>\n",
       "      <th>3</th>\n",
       "      <td>Глубокий переулок</td>\n",
       "      <td>17</td>\n",
       "      <td>ЦАО</td>\n",
       "      <td>Пресненский район</td>\n",
       "    </tr>\n",
       "    <tr>\n",
       "      <th>4</th>\n",
       "      <td>Большой Гнездниковский переулок</td>\n",
       "      <td>17</td>\n",
       "      <td>ЦАО</td>\n",
       "      <td>Пресненский район</td>\n",
       "    </tr>\n",
       "  </tbody>\n",
       "</table>\n",
       "</div>"
      ],
      "text/plain": [
       "                        streetname  areaid okrug               area\n",
       "0             Выставочный переулок      17   ЦАО  Пресненский район\n",
       "1                     улица Гашека      17   ЦАО  Пресненский район\n",
       "2          Большая Никитская улица      17   ЦАО  Пресненский район\n",
       "3                Глубокий переулок      17   ЦАО  Пресненский район\n",
       "4  Большой Гнездниковский переулок      17   ЦАО  Пресненский район"
      ]
     },
     "execution_count": 29,
     "metadata": {},
     "output_type": "execute_result"
    }
   ],
   "source": [
    "from io import BytesIO\n",
    "import requests\n",
    "spreadsheet_id = '1NR2D3QC66qC9Umy4h0HREgdMH1T0B198Wkevg2L9J9A'\n",
    "file_name = 'https://docs.google.com/spreadsheets/d/{}/export?format=csv'.format(spreadsheet_id) \n",
    "r = requests.get(file_name)\n",
    "street_data = pd.read_csv(BytesIO(r.content))\n",
    "street_data.head()"
   ]
  },
  {
   "cell_type": "markdown",
   "metadata": {},
   "source": [
    "Приведем его к виду для присоединения."
   ]
  },
  {
   "cell_type": "code",
   "execution_count": 30,
   "metadata": {},
   "outputs": [
    {
     "data": {
      "text/html": [
       "<div>\n",
       "<style scoped>\n",
       "    .dataframe tbody tr th:only-of-type {\n",
       "        vertical-align: middle;\n",
       "    }\n",
       "\n",
       "    .dataframe tbody tr th {\n",
       "        vertical-align: top;\n",
       "    }\n",
       "\n",
       "    .dataframe thead th {\n",
       "        text-align: right;\n",
       "    }\n",
       "</style>\n",
       "<table border=\"1\" class=\"dataframe\">\n",
       "  <thead>\n",
       "    <tr style=\"text-align: right;\">\n",
       "      <th></th>\n",
       "      <th>street</th>\n",
       "      <th>district</th>\n",
       "      <th>county</th>\n",
       "    </tr>\n",
       "  </thead>\n",
       "  <tbody>\n",
       "    <tr>\n",
       "      <th>3145</th>\n",
       "      <td>1-й автозаводский проезд</td>\n",
       "      <td>Даниловский район</td>\n",
       "      <td>ЮАО</td>\n",
       "    </tr>\n",
       "    <tr>\n",
       "      <th>1829</th>\n",
       "      <td>1-й амбулаторный проезд</td>\n",
       "      <td>Район Аэропорт</td>\n",
       "      <td>САО</td>\n",
       "    </tr>\n",
       "    <tr>\n",
       "      <th>2400</th>\n",
       "      <td>1-й архивный переулок</td>\n",
       "      <td>Район Хамовники</td>\n",
       "      <td>ЦАО</td>\n",
       "    </tr>\n",
       "    <tr>\n",
       "      <th>3940</th>\n",
       "      <td>1-й бабьегородский переулок</td>\n",
       "      <td>Район Якиманка</td>\n",
       "      <td>ЦАО</td>\n",
       "    </tr>\n",
       "    <tr>\n",
       "      <th>1834</th>\n",
       "      <td>1-й балтийский переулок</td>\n",
       "      <td>Район Аэропорт</td>\n",
       "      <td>САО</td>\n",
       "    </tr>\n",
       "  </tbody>\n",
       "</table>\n",
       "</div>"
      ],
      "text/plain": [
       "                           street           district county\n",
       "3145     1-й автозаводский проезд  Даниловский район    ЮАО\n",
       "1829      1-й амбулаторный проезд     Район Аэропорт    САО\n",
       "2400        1-й архивный переулок    Район Хамовники    ЦАО\n",
       "3940  1-й бабьегородский переулок     Район Якиманка    ЦАО\n",
       "1834      1-й балтийский переулок     Район Аэропорт    САО"
      ]
     },
     "execution_count": 30,
     "metadata": {},
     "output_type": "execute_result"
    }
   ],
   "source": [
    "street_data['streetname'] = street_data['streetname'].str.lower()\n",
    "street_data['streetname'] = street_data['streetname'].str.strip()\n",
    "street_data = street_data[['streetname', 'area', 'okrug']].sort_values(by='streetname')\n",
    "street_data.columns = ['street', 'district', 'county']\n",
    "street_data['street'] = street_data['street'].astype(str)\n",
    "street_data.head()"
   ]
  },
  {
   "cell_type": "markdown",
   "metadata": {},
   "source": [
    "Объединим датафреймы."
   ]
  },
  {
   "cell_type": "code",
   "execution_count": 38,
   "metadata": {},
   "outputs": [
    {
     "data": {
      "text/html": [
       "<div>\n",
       "<style scoped>\n",
       "    .dataframe tbody tr th:only-of-type {\n",
       "        vertical-align: middle;\n",
       "    }\n",
       "\n",
       "    .dataframe tbody tr th {\n",
       "        vertical-align: top;\n",
       "    }\n",
       "\n",
       "    .dataframe thead th {\n",
       "        text-align: right;\n",
       "    }\n",
       "</style>\n",
       "<table border=\"1\" class=\"dataframe\">\n",
       "  <thead>\n",
       "    <tr style=\"text-align: right;\">\n",
       "      <th></th>\n",
       "      <th>street</th>\n",
       "      <th>district</th>\n",
       "      <th>county</th>\n",
       "    </tr>\n",
       "  </thead>\n",
       "  <tbody>\n",
       "    <tr>\n",
       "      <th>0</th>\n",
       "      <td>яхромская улица</td>\n",
       "      <td>Дмитровский район</td>\n",
       "      <td>САО</td>\n",
       "    </tr>\n",
       "    <tr>\n",
       "      <th>1</th>\n",
       "      <td>рижский проезд</td>\n",
       "      <td>Алексеевский район</td>\n",
       "      <td>СВАО</td>\n",
       "    </tr>\n",
       "    <tr>\n",
       "      <th>2</th>\n",
       "      <td>улица инессы арманд</td>\n",
       "      <td>Район Ясенево</td>\n",
       "      <td>ЮЗАО</td>\n",
       "    </tr>\n",
       "    <tr>\n",
       "      <th>3</th>\n",
       "      <td>радужная улица</td>\n",
       "      <td>Бабушкинский район</td>\n",
       "      <td>СВАО</td>\n",
       "    </tr>\n",
       "    <tr>\n",
       "      <th>4</th>\n",
       "      <td>варсонофьевский переулок</td>\n",
       "      <td>Мещанский район</td>\n",
       "      <td>ЦАО</td>\n",
       "    </tr>\n",
       "    <tr>\n",
       "      <th>...</th>\n",
       "      <td>...</td>\n",
       "      <td>...</td>\n",
       "      <td>...</td>\n",
       "    </tr>\n",
       "    <tr>\n",
       "      <th>868</th>\n",
       "      <td>3-й угрешский проезд</td>\n",
       "      <td>Район Печатники</td>\n",
       "      <td>ЮВАО</td>\n",
       "    </tr>\n",
       "    <tr>\n",
       "      <th>869</th>\n",
       "      <td>5-й котельнический переулок</td>\n",
       "      <td>Таганский район</td>\n",
       "      <td>ЦАО</td>\n",
       "    </tr>\n",
       "    <tr>\n",
       "      <th>870</th>\n",
       "      <td>5-й проезд подбельского</td>\n",
       "      <td>Район Богородское</td>\n",
       "      <td>ВАО</td>\n",
       "    </tr>\n",
       "    <tr>\n",
       "      <th>871</th>\n",
       "      <td>5-й монетчиковский переулок</td>\n",
       "      <td>Район Замоскворечье</td>\n",
       "      <td>ЦАО</td>\n",
       "    </tr>\n",
       "    <tr>\n",
       "      <th>872</th>\n",
       "      <td>5-й проезд марьиной рощи</td>\n",
       "      <td>Район Марьина роща</td>\n",
       "      <td>СВАО</td>\n",
       "    </tr>\n",
       "  </tbody>\n",
       "</table>\n",
       "<p>873 rows × 3 columns</p>\n",
       "</div>"
      ],
      "text/plain": [
       "                          street             district county\n",
       "0                яхромская улица    Дмитровский район    САО\n",
       "1                 рижский проезд   Алексеевский район   СВАО\n",
       "2            улица инессы арманд        Район Ясенево   ЮЗАО\n",
       "3                 радужная улица   Бабушкинский район   СВАО\n",
       "4       варсонофьевский переулок      Мещанский район    ЦАО\n",
       "..                           ...                  ...    ...\n",
       "868         3-й угрешский проезд      Район Печатники   ЮВАО\n",
       "869  5-й котельнический переулок      Таганский район    ЦАО\n",
       "870      5-й проезд подбельского    Район Богородское    ВАО\n",
       "871  5-й монетчиковский переулок  Район Замоскворечье    ЦАО\n",
       "872     5-й проезд марьиной рощи   Район Марьина роща   СВАО\n",
       "\n",
       "[873 rows x 3 columns]"
      ]
     },
     "execution_count": 38,
     "metadata": {},
     "output_type": "execute_result"
    }
   ],
   "source": [
    "street_pivot['street'] = street_pivot['street'].str.strip()\n",
    "\n",
    "street_pivot =  pd.merge(\n",
    "    left=street_pivot['street'],\n",
    "    right=street_data, \n",
    "    on='street', \n",
    "    how='left')\n",
    "street_pivot = street_pivot.fillna('')\n",
    "street_pivot"
   ]
  },
  {
   "cell_type": "code",
   "execution_count": 37,
   "metadata": {},
   "outputs": [
    {
     "data": {
      "text/plain": [
       "street\n",
       "1-й балтийский переулок                     САО\n",
       "1-й басманный переулок       ЦАО, ЦАО, ЦАО, ЦАО\n",
       "1-й ботанический проезд                    СВАО\n",
       "1-й вешняковский проезд                    ЮВАО\n",
       "1-й голутвинский переулок                   ЦАО\n",
       "                                    ...        \n",
       "ялтинская улица                             ЮАО\n",
       "янтарный проезд                            СВАО\n",
       "ясногорская улица                          ЮЗАО\n",
       "яузский бульвар                             ЦАО\n",
       "яхромская улица                             САО\n",
       "Name: county, Length: 524, dtype: object"
      ]
     },
     "execution_count": 37,
     "metadata": {},
     "output_type": "execute_result"
    }
   ],
   "source": [
    "street_pivot.groupby('street')['county'].apply(', '.join)"
   ]
  },
  {
   "cell_type": "markdown",
   "metadata": {},
   "source": [
    "Видим, что все улицы из топ-10 проходят через несколько районов."
   ]
  },
  {
   "cell_type": "markdown",
   "metadata": {},
   "source": [
    "### Нахождение числа улиц с одним объектом общественного питания"
   ]
  },
  {
   "cell_type": "markdown",
   "metadata": {},
   "source": [
    "Найдем число улиц с одним объектом общественного питания."
   ]
  },
  {
   "cell_type": "code",
   "execution_count": 33,
   "metadata": {},
   "outputs": [
    {
     "name": "stdout",
     "output_type": "stream",
     "text": [
      "Число улиц с одним объектом общественного питания: 524\n"
     ]
    }
   ],
   "source": [
    "street_pivot = rest_data.pivot_table(\n",
    "    index='street', \n",
    "    values='id', \n",
    "    aggfunc='count'\n",
    ").sort_values(by='id').reset_index().query('id == 1')\n",
    "\n",
    "print('Число улиц с одним объектом общественного питания:', street_pivot['id'].count())"
   ]
  },
  {
   "cell_type": "markdown",
   "metadata": {},
   "source": [
    "Найдем в каких районах находятся такие улицы"
   ]
  },
  {
   "cell_type": "code",
   "execution_count": 34,
   "metadata": {},
   "outputs": [
    {
     "data": {
      "text/html": [
       "<div>\n",
       "<style scoped>\n",
       "    .dataframe tbody tr th:only-of-type {\n",
       "        vertical-align: middle;\n",
       "    }\n",
       "\n",
       "    .dataframe tbody tr th {\n",
       "        vertical-align: top;\n",
       "    }\n",
       "\n",
       "    .dataframe thead th {\n",
       "        text-align: right;\n",
       "    }\n",
       "</style>\n",
       "<table border=\"1\" class=\"dataframe\">\n",
       "  <thead>\n",
       "    <tr style=\"text-align: right;\">\n",
       "      <th></th>\n",
       "      <th>district</th>\n",
       "      <th>county</th>\n",
       "      <th>street</th>\n",
       "    </tr>\n",
       "  </thead>\n",
       "  <tbody>\n",
       "    <tr>\n",
       "      <th>93</th>\n",
       "      <td>Таганский район</td>\n",
       "      <td>ЦАО</td>\n",
       "      <td>27</td>\n",
       "    </tr>\n",
       "    <tr>\n",
       "      <th>79</th>\n",
       "      <td>Район Хамовники</td>\n",
       "      <td>ЦАО</td>\n",
       "      <td>26</td>\n",
       "    </tr>\n",
       "    <tr>\n",
       "      <th>3</th>\n",
       "      <td>Басманный район</td>\n",
       "      <td>ЦАО</td>\n",
       "      <td>25</td>\n",
       "    </tr>\n",
       "    <tr>\n",
       "      <th>94</th>\n",
       "      <td>Тверской район</td>\n",
       "      <td>ЦАО</td>\n",
       "      <td>20</td>\n",
       "    </tr>\n",
       "    <tr>\n",
       "      <th>20</th>\n",
       "      <td>Пресненский район</td>\n",
       "      <td>ЦАО</td>\n",
       "      <td>19</td>\n",
       "    </tr>\n",
       "  </tbody>\n",
       "</table>\n",
       "</div>"
      ],
      "text/plain": [
       "             district county  street\n",
       "93    Таганский район    ЦАО      27\n",
       "79    Район Хамовники    ЦАО      26\n",
       "3     Басманный район    ЦАО      25\n",
       "94     Тверской район    ЦАО      20\n",
       "20  Пресненский район    ЦАО      19"
      ]
     },
     "execution_count": 34,
     "metadata": {},
     "output_type": "execute_result"
    }
   ],
   "source": [
    "street_pivot['street'] = street_pivot['street'].str.strip()\n",
    "\n",
    "street_pivot = street_pivot.merge(\n",
    "    street_data, \n",
    "    on='street', \n",
    "    how='left')\n",
    "\n",
    "one_catering_pivot = street_pivot.pivot_table(\n",
    "    index=['district', 'county'], \n",
    "    values='street', \n",
    "    aggfunc='count').reset_index().sort_values(by='street', ascending=False)\n",
    "one_catering_pivot.head()"
   ]
  },
  {
   "cell_type": "markdown",
   "metadata": {},
   "source": [
    "Построим столбчатую диаграмму."
   ]
  },
  {
   "cell_type": "code",
   "execution_count": 35,
   "metadata": {
    "scrolled": false
   },
   "outputs": [
    {
     "data": {
      "image/png": "[encoded data removed]",
      "text/plain": [
       "<Figure size 720x432 with 1 Axes>"
      ]
     },
     "metadata": {
      "needs_background": "light"
     },
     "output_type": "display_data"
    }
   ],
   "source": [
    "sns.set_palette('pastel') \n",
    "\n",
    "\n",
    "plt.figure(figsize=(10, 6))\n",
    "graph = sns.barplot(\n",
    "    x='street', \n",
    "    y='district', \n",
    "    data=one_catering_pivot.head())\n",
    "\n",
    "#graph.set_xticklabels(graph.get_xticklabels(), rotation=90)\n",
    "graph.set_title('Районы по количеству улиц с одним объектом общественного питания')\n",
    "graph.set_xlabel('Количество улиц с одним объектом общественного питания')\n",
    "graph.set_ylabel('Район')\n",
    "plt.show()"
   ]
  },
  {
   "cell_type": "markdown",
   "metadata": {},
   "source": [
    "Видим, что в самых крупных районах ЦАО (Таганский, Хамовники и Басманный) находятся самое большое количество улиц с одним объектом общественного питания."
   ]
  },
  {
   "cell_type": "markdown",
   "metadata": {},
   "source": [
    "## Вывод\n",
    "\n",
    "Был изучен рынок заведений общественного питания Москвы. Был открыт и предобработан датафрейм с данными:\n",
    "- *пропуски* найдены не были;\n",
    "- данные были приведены к *нужному типу*: тип данных столбца chain к типу 'bool';\n",
    "- были удалены 85 *дубликатов*;\n",
    "- были добавлены два *новых столбца*: `district` с названием района улицы, `county` с название округа по улице.\n",
    "\n",
    "В ходе исследования были сделаны следующие выводы:\n",
    "- **вид объектов общественного питания по количеству**: самым популярным видом является *кафе* (40% от всех), далее идут – столовые (17%), рестораны (15%) и предприятия быстрого обслуживания (12%), самыми редкими являются закусочные и отделы кулинарии в магазинах (по 2%);\n",
    "- **сетевые заведения**: лишь пятая часть (19%) заведений входят в сети, чаще всего сетевыми являются предприятие быстрого обслуживания (42%), отделы кулинарии в магазинах (29%), рестораны (24%) и кафе (23%), реже всего сетевыми являются столовые, буфеты и бары (менее 5%);\n",
    "- **посадочные места**: самое большое количество посадочных мест в столовых (103) и ресторанах (80), далее следуют бары (35), буфеты (32) и кафе (30), самое маленькое количество посадочных мест в закусочных и отделах кулинарии магазинов (чаще всего посадочных мест нет); также выяснили, что преобладают сети с небольшим количеством заведений (до 20) и средним количеством посадочных мест (до 70);\n",
    "- **расположение объектов общественного питания**: были найдены топ-10 улицы по количеству объектов общественного питания: все они проходят через несколько районов (в основном через районы ; количество улиц с одним заведением общественного питания – 596: в основном они располагаются в районах ЦАО (Таганский, Хамовники, Басманный, Тверской, Пресненский).\n",
    "\n",
    "Удалось подтвердить, что небольшое кафе – это удачный вариант для открытия объекта общественного питания. Рекомендации: количество посадочных мест – около 30, расположение – в одном из районов ЗАО, ЮЗАО или ЮАО (в основном там располагаются топ-10 улиц по количеству объектов общественного питания.\n",
    "Развитие сети возможно: 25% кафе являются сетевыми."
   ]
  },
  {
   "cell_type": "markdown",
   "metadata": {},
   "source": [
    "## [Презентация](https://disk.yandex.ru/i/2pSiJafF9iak7g)"
   ]
  }
 ],
 "metadata": {
  "ExecuteTimeLog": [
   {
    "duration": 376,
    "start_time": "2022-07-27T14:34:34.865Z"
   },
   {
    "duration": 256,
    "start_time": "2022-07-27T14:34:36.037Z"
   },
   {
    "duration": 15,
    "start_time": "2022-07-27T14:34:45.665Z"
   },
   {
    "duration": 14,
    "start_time": "2022-07-27T14:35:35.645Z"
   },
   {
    "duration": 23,
    "start_time": "2022-07-27T14:55:51.744Z"
   },
   {
    "duration": 10,
    "start_time": "2022-07-27T15:00:13.943Z"
   },
   {
    "duration": 255,
    "start_time": "2022-07-27T15:00:36.144Z"
   },
   {
    "duration": 73,
    "start_time": "2022-07-27T15:01:04.515Z"
   },
   {
    "duration": 9,
    "start_time": "2022-07-27T15:09:44.755Z"
   },
   {
    "duration": 13,
    "start_time": "2022-07-27T15:09:54.564Z"
   },
   {
    "duration": 22,
    "start_time": "2022-07-27T15:10:07.483Z"
   },
   {
    "duration": 429,
    "start_time": "2022-07-27T15:10:22.039Z"
   },
   {
    "duration": 67,
    "start_time": "2022-07-27T15:10:22.470Z"
   },
   {
    "duration": 15,
    "start_time": "2022-07-27T15:10:22.538Z"
   },
   {
    "duration": 24,
    "start_time": "2022-07-27T15:10:22.555Z"
   },
   {
    "duration": 13,
    "start_time": "2022-07-27T15:10:22.580Z"
   },
   {
    "duration": 10,
    "start_time": "2022-07-27T15:10:22.594Z"
   },
   {
    "duration": 33,
    "start_time": "2022-07-27T15:10:22.606Z"
   },
   {
    "duration": 14,
    "start_time": "2022-07-27T15:10:22.641Z"
   },
   {
    "duration": 26,
    "start_time": "2022-07-27T15:13:23.824Z"
   },
   {
    "duration": 23,
    "start_time": "2022-07-27T15:18:43.664Z"
   },
   {
    "duration": 19,
    "start_time": "2022-07-27T15:21:39.776Z"
   },
   {
    "duration": 66,
    "start_time": "2022-07-27T15:26:40.906Z"
   },
   {
    "duration": 107,
    "start_time": "2022-07-27T15:26:52.326Z"
   },
   {
    "duration": 54,
    "start_time": "2022-07-27T15:27:02.986Z"
   },
   {
    "duration": 78,
    "start_time": "2022-07-27T15:30:21.225Z"
   },
   {
    "duration": 25,
    "start_time": "2022-07-27T15:30:38.339Z"
   },
   {
    "duration": 15,
    "start_time": "2022-07-27T15:31:05.466Z"
   },
   {
    "duration": 423,
    "start_time": "2022-07-27T15:31:15.020Z"
   },
   {
    "duration": 66,
    "start_time": "2022-07-27T15:31:15.445Z"
   },
   {
    "duration": 15,
    "start_time": "2022-07-27T15:31:15.513Z"
   },
   {
    "duration": 24,
    "start_time": "2022-07-27T15:31:15.530Z"
   },
   {
    "duration": 13,
    "start_time": "2022-07-27T15:31:15.556Z"
   },
   {
    "duration": 13,
    "start_time": "2022-07-27T15:31:15.571Z"
   },
   {
    "duration": 9,
    "start_time": "2022-07-27T15:31:15.585Z"
   },
   {
    "duration": 27,
    "start_time": "2022-07-27T15:31:15.595Z"
   },
   {
    "duration": 24,
    "start_time": "2022-07-27T15:31:15.636Z"
   },
   {
    "duration": 18,
    "start_time": "2022-07-27T15:31:15.662Z"
   },
   {
    "duration": 14,
    "start_time": "2022-07-27T15:31:15.681Z"
   },
   {
    "duration": 16,
    "start_time": "2022-07-27T15:31:26.738Z"
   },
   {
    "duration": 70,
    "start_time": "2022-07-27T15:31:35.890Z"
   },
   {
    "duration": 5,
    "start_time": "2022-07-27T15:36:10.871Z"
   },
   {
    "duration": 7,
    "start_time": "2022-07-27T15:36:25.230Z"
   },
   {
    "duration": 65,
    "start_time": "2022-07-27T15:41:51.936Z"
   },
   {
    "duration": 1361,
    "start_time": "2022-07-27T15:41:58.846Z"
   },
   {
    "duration": 70,
    "start_time": "2022-07-27T15:42:00.209Z"
   },
   {
    "duration": 20,
    "start_time": "2022-07-27T15:42:00.281Z"
   },
   {
    "duration": 51,
    "start_time": "2022-07-27T15:42:00.303Z"
   },
   {
    "duration": 15,
    "start_time": "2022-07-27T15:42:00.356Z"
   },
   {
    "duration": 24,
    "start_time": "2022-07-27T15:42:00.372Z"
   },
   {
    "duration": 32,
    "start_time": "2022-07-27T15:42:00.398Z"
   },
   {
    "duration": 18,
    "start_time": "2022-07-27T15:42:00.432Z"
   },
   {
    "duration": 32,
    "start_time": "2022-07-27T15:42:00.452Z"
   },
   {
    "duration": 21,
    "start_time": "2022-07-27T15:42:00.487Z"
   },
   {
    "duration": 36,
    "start_time": "2022-07-27T15:42:00.510Z"
   },
   {
    "duration": 21,
    "start_time": "2022-07-27T15:42:00.549Z"
   },
   {
    "duration": 9,
    "start_time": "2022-07-27T15:42:00.572Z"
   },
   {
    "duration": 158,
    "start_time": "2022-07-27T15:42:00.583Z"
   },
   {
    "duration": 6,
    "start_time": "2022-07-27T15:43:55.281Z"
   },
   {
    "duration": 104,
    "start_time": "2022-07-27T15:44:04.529Z"
   },
   {
    "duration": 397,
    "start_time": "2022-07-27T15:45:00.666Z"
   },
   {
    "duration": 11,
    "start_time": "2022-07-27T15:46:11.837Z"
   },
   {
    "duration": 14,
    "start_time": "2022-07-27T15:46:18.450Z"
   },
   {
    "duration": 19,
    "start_time": "2022-07-27T15:47:09.378Z"
   },
   {
    "duration": 194,
    "start_time": "2022-07-27T15:47:28.078Z"
   },
   {
    "duration": 160,
    "start_time": "2022-07-27T15:47:48.578Z"
   },
   {
    "duration": 15,
    "start_time": "2022-07-27T15:49:20.440Z"
   },
   {
    "duration": 15,
    "start_time": "2022-07-27T15:49:31.396Z"
   },
   {
    "duration": 15,
    "start_time": "2022-07-27T15:49:37.128Z"
   },
   {
    "duration": 150,
    "start_time": "2022-07-27T15:50:00.678Z"
   },
   {
    "duration": 166,
    "start_time": "2022-07-27T15:55:02.931Z"
   },
   {
    "duration": 3,
    "start_time": "2022-07-27T15:55:35.170Z"
   },
   {
    "duration": 176,
    "start_time": "2022-07-27T15:55:39.531Z"
   },
   {
    "duration": 167,
    "start_time": "2022-07-27T15:56:05.736Z"
   },
   {
    "duration": 164,
    "start_time": "2022-07-27T15:56:14.988Z"
   },
   {
    "duration": 227,
    "start_time": "2022-07-27T15:57:30.797Z"
   },
   {
    "duration": 5,
    "start_time": "2022-07-27T15:58:17.797Z"
   },
   {
    "duration": 9,
    "start_time": "2022-07-27T15:58:36.537Z"
   },
   {
    "duration": 4,
    "start_time": "2022-07-27T15:58:49.841Z"
   },
   {
    "duration": 160,
    "start_time": "2022-07-27T15:58:53.698Z"
   },
   {
    "duration": 5,
    "start_time": "2022-07-27T15:58:58.376Z"
   },
   {
    "duration": 167,
    "start_time": "2022-07-27T15:59:26.538Z"
   },
   {
    "duration": 176,
    "start_time": "2022-07-27T15:59:34.924Z"
   },
   {
    "duration": 164,
    "start_time": "2022-07-27T15:59:46.119Z"
   },
   {
    "duration": 164,
    "start_time": "2022-07-27T16:00:01.357Z"
   },
   {
    "duration": 164,
    "start_time": "2022-07-27T16:00:09.977Z"
   },
   {
    "duration": 212,
    "start_time": "2022-07-27T16:00:19.397Z"
   },
   {
    "duration": 183,
    "start_time": "2022-07-27T16:00:25.278Z"
   },
   {
    "duration": 10,
    "start_time": "2022-07-27T16:02:53.137Z"
   },
   {
    "duration": 15,
    "start_time": "2022-07-27T16:03:02.496Z"
   },
   {
    "duration": 170,
    "start_time": "2022-07-27T16:04:29.991Z"
   },
   {
    "duration": 172,
    "start_time": "2022-07-27T16:04:43.638Z"
   },
   {
    "duration": 279,
    "start_time": "2022-07-27T16:05:37.064Z"
   },
   {
    "duration": 167,
    "start_time": "2022-07-27T16:10:05.532Z"
   },
   {
    "duration": 178,
    "start_time": "2022-07-27T16:12:42.639Z"
   },
   {
    "duration": 14,
    "start_time": "2022-07-27T16:14:18.271Z"
   },
   {
    "duration": 10,
    "start_time": "2022-07-27T16:16:38.192Z"
   },
   {
    "duration": 10,
    "start_time": "2022-07-27T16:16:43.952Z"
   },
   {
    "duration": 9,
    "start_time": "2022-07-27T16:20:00.594Z"
   },
   {
    "duration": 9,
    "start_time": "2022-07-27T16:20:11.452Z"
   },
   {
    "duration": 11,
    "start_time": "2022-07-27T16:20:18.352Z"
   },
   {
    "duration": 1189,
    "start_time": "2022-07-27T16:31:38.026Z"
   },
   {
    "duration": 67,
    "start_time": "2022-07-27T16:31:39.217Z"
   },
   {
    "duration": 12,
    "start_time": "2022-07-27T16:31:39.286Z"
   },
   {
    "duration": 25,
    "start_time": "2022-07-27T16:31:39.300Z"
   },
   {
    "duration": 13,
    "start_time": "2022-07-27T16:31:39.337Z"
   },
   {
    "duration": 9,
    "start_time": "2022-07-27T16:31:39.351Z"
   },
   {
    "duration": 10,
    "start_time": "2022-07-27T16:31:39.362Z"
   },
   {
    "duration": 14,
    "start_time": "2022-07-27T16:31:39.374Z"
   },
   {
    "duration": 50,
    "start_time": "2022-07-27T16:31:39.389Z"
   },
   {
    "duration": 19,
    "start_time": "2022-07-27T16:31:39.441Z"
   },
   {
    "duration": 14,
    "start_time": "2022-07-27T16:31:39.461Z"
   },
   {
    "duration": 14,
    "start_time": "2022-07-27T16:31:39.477Z"
   },
   {
    "duration": 51,
    "start_time": "2022-07-27T16:31:39.493Z"
   },
   {
    "duration": 103,
    "start_time": "2022-07-27T16:31:39.546Z"
   },
   {
    "duration": 0,
    "start_time": "2022-07-27T16:31:39.651Z"
   },
   {
    "duration": 121,
    "start_time": "2022-07-27T16:32:00.378Z"
   },
   {
    "duration": 120,
    "start_time": "2022-07-27T16:32:08.765Z"
   },
   {
    "duration": 110,
    "start_time": "2022-07-27T16:32:30.885Z"
   },
   {
    "duration": 17,
    "start_time": "2022-07-27T16:33:11.011Z"
   },
   {
    "duration": 125,
    "start_time": "2022-07-27T16:33:22.345Z"
   },
   {
    "duration": 132,
    "start_time": "2022-07-27T16:34:27.985Z"
   },
   {
    "duration": 12,
    "start_time": "2022-07-27T16:36:46.524Z"
   },
   {
    "duration": 108,
    "start_time": "2022-07-27T16:45:18.915Z"
   },
   {
    "duration": 8,
    "start_time": "2022-07-27T16:48:47.154Z"
   },
   {
    "duration": 519,
    "start_time": "2022-07-27T16:48:58.695Z"
   },
   {
    "duration": 12,
    "start_time": "2022-07-27T16:51:07.355Z"
   },
   {
    "duration": 13,
    "start_time": "2022-07-27T16:51:12.246Z"
   },
   {
    "duration": 19,
    "start_time": "2022-07-27T16:52:29.214Z"
   },
   {
    "duration": 13,
    "start_time": "2022-07-27T16:52:36.115Z"
   },
   {
    "duration": 15,
    "start_time": "2022-07-27T16:52:43.206Z"
   },
   {
    "duration": 1188,
    "start_time": "2022-07-27T17:01:46.511Z"
   },
   {
    "duration": 9,
    "start_time": "2022-07-27T17:02:04.459Z"
   },
   {
    "duration": 15,
    "start_time": "2022-07-27T17:02:20.170Z"
   },
   {
    "duration": 16,
    "start_time": "2022-07-27T17:02:37.851Z"
   },
   {
    "duration": 17,
    "start_time": "2022-07-27T17:03:01.142Z"
   },
   {
    "duration": 15,
    "start_time": "2022-07-27T17:03:50.011Z"
   },
   {
    "duration": 1110,
    "start_time": "2022-07-27T17:03:58.590Z"
   },
   {
    "duration": 68,
    "start_time": "2022-07-27T17:03:59.702Z"
   },
   {
    "duration": 13,
    "start_time": "2022-07-27T17:03:59.771Z"
   },
   {
    "duration": 22,
    "start_time": "2022-07-27T17:03:59.786Z"
   },
   {
    "duration": 32,
    "start_time": "2022-07-27T17:03:59.811Z"
   },
   {
    "duration": 13,
    "start_time": "2022-07-27T17:03:59.845Z"
   },
   {
    "duration": 9,
    "start_time": "2022-07-27T17:03:59.860Z"
   },
   {
    "duration": 17,
    "start_time": "2022-07-27T17:03:59.871Z"
   },
   {
    "duration": 23,
    "start_time": "2022-07-27T17:03:59.891Z"
   },
   {
    "duration": 34,
    "start_time": "2022-07-27T17:03:59.916Z"
   },
   {
    "duration": 15,
    "start_time": "2022-07-27T17:03:59.952Z"
   },
   {
    "duration": 16,
    "start_time": "2022-07-27T17:03:59.969Z"
   },
   {
    "duration": 16,
    "start_time": "2022-07-27T17:03:59.987Z"
   },
   {
    "duration": 110,
    "start_time": "2022-07-27T17:04:00.037Z"
   },
   {
    "duration": 0,
    "start_time": "2022-07-27T17:04:00.148Z"
   },
   {
    "duration": 0,
    "start_time": "2022-07-27T17:04:00.150Z"
   },
   {
    "duration": 0,
    "start_time": "2022-07-27T17:04:00.151Z"
   },
   {
    "duration": 173,
    "start_time": "2022-07-27T17:04:14.671Z"
   },
   {
    "duration": 1126,
    "start_time": "2022-07-27T17:04:39.831Z"
   },
   {
    "duration": 68,
    "start_time": "2022-07-27T17:04:40.959Z"
   },
   {
    "duration": 13,
    "start_time": "2022-07-27T17:04:41.028Z"
   },
   {
    "duration": 29,
    "start_time": "2022-07-27T17:04:41.043Z"
   },
   {
    "duration": 15,
    "start_time": "2022-07-27T17:04:41.074Z"
   },
   {
    "duration": 11,
    "start_time": "2022-07-27T17:04:41.091Z"
   },
   {
    "duration": 9,
    "start_time": "2022-07-27T17:04:41.104Z"
   },
   {
    "duration": 34,
    "start_time": "2022-07-27T17:04:41.115Z"
   },
   {
    "duration": 28,
    "start_time": "2022-07-27T17:04:41.151Z"
   },
   {
    "duration": 22,
    "start_time": "2022-07-27T17:04:41.181Z"
   },
   {
    "duration": 41,
    "start_time": "2022-07-27T17:04:41.205Z"
   },
   {
    "duration": 14,
    "start_time": "2022-07-27T17:04:41.248Z"
   },
   {
    "duration": 15,
    "start_time": "2022-07-27T17:04:41.263Z"
   },
   {
    "duration": 187,
    "start_time": "2022-07-27T17:04:41.281Z"
   },
   {
    "duration": 15,
    "start_time": "2022-07-27T17:04:41.470Z"
   },
   {
    "duration": 114,
    "start_time": "2022-07-27T17:04:41.487Z"
   },
   {
    "duration": 17,
    "start_time": "2022-07-27T17:04:41.603Z"
   },
   {
    "duration": 158,
    "start_time": "2022-07-27T17:05:47.272Z"
   },
   {
    "duration": 166,
    "start_time": "2022-07-27T17:06:25.213Z"
   },
   {
    "duration": 169,
    "start_time": "2022-07-27T17:08:18.073Z"
   },
   {
    "duration": 172,
    "start_time": "2022-07-27T17:09:53.772Z"
   },
   {
    "duration": 165,
    "start_time": "2022-07-27T17:10:05.174Z"
   },
   {
    "duration": 189,
    "start_time": "2022-07-27T17:11:48.278Z"
   },
   {
    "duration": 250,
    "start_time": "2022-07-27T17:11:56.033Z"
   },
   {
    "duration": 16,
    "start_time": "2022-07-27T17:14:27.413Z"
   },
   {
    "duration": 14,
    "start_time": "2022-07-27T17:15:41.885Z"
   },
   {
    "duration": 17,
    "start_time": "2022-07-27T17:16:11.444Z"
   },
   {
    "duration": 6,
    "start_time": "2022-07-27T17:16:50.199Z"
   },
   {
    "duration": 14,
    "start_time": "2022-07-27T17:16:57.860Z"
   },
   {
    "duration": 10,
    "start_time": "2022-07-27T17:17:27.689Z"
   },
   {
    "duration": 90,
    "start_time": "2022-07-27T17:19:11.589Z"
   },
   {
    "duration": 14,
    "start_time": "2022-07-27T17:22:01.461Z"
   },
   {
    "duration": 814,
    "start_time": "2022-07-27T17:22:34.445Z"
   },
   {
    "duration": 738,
    "start_time": "2022-07-27T17:24:46.109Z"
   },
   {
    "duration": 4517,
    "start_time": "2022-07-27T17:24:56.801Z"
   },
   {
    "duration": 370,
    "start_time": "2022-07-27T17:26:01.387Z"
   },
   {
    "duration": 8,
    "start_time": "2022-07-27T17:26:51.290Z"
   },
   {
    "duration": 9,
    "start_time": "2022-07-27T17:27:23.729Z"
   },
   {
    "duration": 10,
    "start_time": "2022-07-27T17:27:32.849Z"
   },
   {
    "duration": 11,
    "start_time": "2022-07-27T17:28:09.449Z"
   },
   {
    "duration": 10,
    "start_time": "2022-07-27T17:28:20.249Z"
   },
   {
    "duration": 15,
    "start_time": "2022-07-27T17:28:45.051Z"
   },
   {
    "duration": 12,
    "start_time": "2022-07-27T17:30:14.149Z"
   },
   {
    "duration": 11,
    "start_time": "2022-07-27T17:30:33.309Z"
   },
   {
    "duration": 12,
    "start_time": "2022-07-27T17:30:54.509Z"
   },
   {
    "duration": 10,
    "start_time": "2022-07-27T17:31:04.629Z"
   },
   {
    "duration": 14,
    "start_time": "2022-07-27T17:31:24.209Z"
   },
   {
    "duration": 11,
    "start_time": "2022-07-27T17:31:35.109Z"
   },
   {
    "duration": 11,
    "start_time": "2022-07-27T17:31:54.808Z"
   },
   {
    "duration": 58,
    "start_time": "2022-07-27T17:35:28.100Z"
   },
   {
    "duration": 15,
    "start_time": "2022-07-27T18:03:25.093Z"
   },
   {
    "duration": 21,
    "start_time": "2022-07-27T18:03:33.532Z"
   },
   {
    "duration": 17,
    "start_time": "2022-07-27T18:05:16.533Z"
   },
   {
    "duration": 20,
    "start_time": "2022-07-27T18:05:29.020Z"
   },
   {
    "duration": 20,
    "start_time": "2022-07-27T18:05:59.151Z"
   },
   {
    "duration": 19,
    "start_time": "2022-07-27T18:06:10.951Z"
   },
   {
    "duration": 161,
    "start_time": "2022-07-27T18:07:04.151Z"
   },
   {
    "duration": 164,
    "start_time": "2022-07-27T18:09:20.930Z"
   },
   {
    "duration": 165,
    "start_time": "2022-07-27T18:09:36.078Z"
   },
   {
    "duration": 174,
    "start_time": "2022-07-27T18:10:13.250Z"
   },
   {
    "duration": 179,
    "start_time": "2022-07-27T18:10:19.630Z"
   },
   {
    "duration": 179,
    "start_time": "2022-07-27T18:10:28.491Z"
   },
   {
    "duration": 173,
    "start_time": "2022-07-27T18:11:09.514Z"
   },
   {
    "duration": 184,
    "start_time": "2022-07-27T18:12:38.142Z"
   },
   {
    "duration": 13,
    "start_time": "2022-07-27T18:15:47.608Z"
   },
   {
    "duration": 11,
    "start_time": "2022-07-27T18:16:06.309Z"
   },
   {
    "duration": 165,
    "start_time": "2022-07-27T18:16:35.649Z"
   },
   {
    "duration": 182,
    "start_time": "2022-07-27T18:17:38.029Z"
   },
   {
    "duration": 168,
    "start_time": "2022-07-27T18:18:04.189Z"
   },
   {
    "duration": 292,
    "start_time": "2022-07-27T18:18:48.829Z"
   },
   {
    "duration": 170,
    "start_time": "2022-07-27T18:18:55.170Z"
   },
   {
    "duration": 178,
    "start_time": "2022-07-27T18:19:00.189Z"
   },
   {
    "duration": 10,
    "start_time": "2022-07-27T19:16:14.844Z"
   },
   {
    "duration": 26,
    "start_time": "2022-07-27T19:16:22.133Z"
   },
   {
    "duration": 14,
    "start_time": "2022-07-27T19:16:34.623Z"
   },
   {
    "duration": 16,
    "start_time": "2022-07-27T19:17:01.834Z"
   },
   {
    "duration": 16,
    "start_time": "2022-07-27T19:17:20.744Z"
   },
   {
    "duration": 16,
    "start_time": "2022-07-27T19:17:36.132Z"
   },
   {
    "duration": 409,
    "start_time": "2022-07-27T19:21:20.251Z"
   },
   {
    "duration": 445,
    "start_time": "2022-07-27T19:23:28.750Z"
   },
   {
    "duration": 15,
    "start_time": "2022-07-27T19:25:05.070Z"
   },
   {
    "duration": 13,
    "start_time": "2022-07-27T19:25:10.711Z"
   },
   {
    "duration": 16,
    "start_time": "2022-07-27T19:25:31.749Z"
   },
   {
    "duration": 183,
    "start_time": "2022-07-27T19:25:34.996Z"
   },
   {
    "duration": 163,
    "start_time": "2022-07-27T19:25:52.150Z"
   },
   {
    "duration": 185,
    "start_time": "2022-07-27T19:26:01.437Z"
   },
   {
    "duration": 152,
    "start_time": "2022-07-27T19:26:31.390Z"
   },
   {
    "duration": 174,
    "start_time": "2022-07-27T19:26:40.639Z"
   },
   {
    "duration": 14,
    "start_time": "2022-07-27T20:41:50.162Z"
   },
   {
    "duration": 165,
    "start_time": "2022-07-27T20:41:52.361Z"
   },
   {
    "duration": 1081,
    "start_time": "2022-07-27T21:28:47.131Z"
   },
   {
    "duration": 71,
    "start_time": "2022-07-27T21:28:48.214Z"
   },
   {
    "duration": 14,
    "start_time": "2022-07-27T21:28:48.287Z"
   },
   {
    "duration": 23,
    "start_time": "2022-07-27T21:28:48.302Z"
   },
   {
    "duration": 12,
    "start_time": "2022-07-27T21:28:48.336Z"
   },
   {
    "duration": 10,
    "start_time": "2022-07-27T21:28:48.349Z"
   },
   {
    "duration": 9,
    "start_time": "2022-07-27T21:28:48.360Z"
   },
   {
    "duration": 19,
    "start_time": "2022-07-27T21:28:48.370Z"
   },
   {
    "duration": 46,
    "start_time": "2022-07-27T21:28:48.391Z"
   },
   {
    "duration": 20,
    "start_time": "2022-07-27T21:28:48.438Z"
   },
   {
    "duration": 13,
    "start_time": "2022-07-27T21:28:48.460Z"
   },
   {
    "duration": 14,
    "start_time": "2022-07-27T21:28:48.475Z"
   },
   {
    "duration": 15,
    "start_time": "2022-07-27T21:28:48.491Z"
   },
   {
    "duration": 188,
    "start_time": "2022-07-27T21:28:48.508Z"
   },
   {
    "duration": 13,
    "start_time": "2022-07-27T21:28:48.698Z"
   },
   {
    "duration": 110,
    "start_time": "2022-07-27T21:28:48.713Z"
   },
   {
    "duration": 30,
    "start_time": "2022-07-27T21:28:48.825Z"
   },
   {
    "duration": 210,
    "start_time": "2022-07-27T21:28:48.857Z"
   },
   {
    "duration": 177,
    "start_time": "2022-07-27T21:28:49.068Z"
   },
   {
    "duration": 178,
    "start_time": "2022-07-27T21:28:49.246Z"
   },
   {
    "duration": 21,
    "start_time": "2022-07-27T21:28:49.426Z"
   },
   {
    "duration": 178,
    "start_time": "2022-07-27T21:28:49.448Z"
   },
   {
    "duration": 14,
    "start_time": "2022-07-27T21:28:49.628Z"
   },
   {
    "duration": 15,
    "start_time": "2022-07-27T21:29:01.921Z"
   },
   {
    "duration": 1113,
    "start_time": "2022-07-27T21:39:42.250Z"
   },
   {
    "duration": 66,
    "start_time": "2022-07-27T21:39:43.364Z"
   },
   {
    "duration": 18,
    "start_time": "2022-07-27T21:39:43.432Z"
   },
   {
    "duration": 24,
    "start_time": "2022-07-27T21:39:43.452Z"
   },
   {
    "duration": 11,
    "start_time": "2022-07-27T21:39:43.478Z"
   },
   {
    "duration": 9,
    "start_time": "2022-07-27T21:39:43.491Z"
   },
   {
    "duration": 7,
    "start_time": "2022-07-27T21:39:43.501Z"
   },
   {
    "duration": 40,
    "start_time": "2022-07-27T21:39:43.509Z"
   },
   {
    "duration": 21,
    "start_time": "2022-07-27T21:39:43.551Z"
   },
   {
    "duration": 17,
    "start_time": "2022-07-27T21:39:43.573Z"
   },
   {
    "duration": 12,
    "start_time": "2022-07-27T21:39:43.592Z"
   },
   {
    "duration": 13,
    "start_time": "2022-07-27T21:39:43.605Z"
   },
   {
    "duration": 21,
    "start_time": "2022-07-27T21:39:43.637Z"
   },
   {
    "duration": 176,
    "start_time": "2022-07-27T21:39:43.661Z"
   },
   {
    "duration": 17,
    "start_time": "2022-07-27T21:39:43.839Z"
   },
   {
    "duration": 114,
    "start_time": "2022-07-27T21:39:43.858Z"
   },
   {
    "duration": 15,
    "start_time": "2022-07-27T21:39:43.974Z"
   },
   {
    "duration": 195,
    "start_time": "2022-07-27T21:39:43.990Z"
   },
   {
    "duration": 193,
    "start_time": "2022-07-27T21:39:44.186Z"
   },
   {
    "duration": 182,
    "start_time": "2022-07-27T21:39:44.381Z"
   },
   {
    "duration": 14,
    "start_time": "2022-07-27T21:39:44.565Z"
   },
   {
    "duration": 200,
    "start_time": "2022-07-27T21:39:44.580Z"
   },
   {
    "duration": 11,
    "start_time": "2022-07-27T21:39:44.781Z"
   },
   {
    "duration": 125,
    "start_time": "2022-07-27T21:39:44.794Z"
   },
   {
    "duration": 16,
    "start_time": "2022-07-27T21:39:53.595Z"
   },
   {
    "duration": 16,
    "start_time": "2022-07-27T21:40:02.024Z"
   },
   {
    "duration": 16,
    "start_time": "2022-07-27T21:40:14.455Z"
   },
   {
    "duration": 1102,
    "start_time": "2022-07-27T21:43:05.924Z"
   },
   {
    "duration": 70,
    "start_time": "2022-07-27T21:43:07.028Z"
   },
   {
    "duration": 13,
    "start_time": "2022-07-27T21:43:07.100Z"
   },
   {
    "duration": 23,
    "start_time": "2022-07-27T21:43:07.114Z"
   },
   {
    "duration": 12,
    "start_time": "2022-07-27T21:43:07.139Z"
   },
   {
    "duration": 9,
    "start_time": "2022-07-27T21:43:07.152Z"
   },
   {
    "duration": 9,
    "start_time": "2022-07-27T21:43:07.162Z"
   },
   {
    "duration": 13,
    "start_time": "2022-07-27T21:43:07.173Z"
   },
   {
    "duration": 21,
    "start_time": "2022-07-27T21:43:07.188Z"
   },
   {
    "duration": 41,
    "start_time": "2022-07-27T21:43:07.211Z"
   },
   {
    "duration": 14,
    "start_time": "2022-07-27T21:43:07.254Z"
   },
   {
    "duration": 14,
    "start_time": "2022-07-27T21:43:07.270Z"
   },
   {
    "duration": 15,
    "start_time": "2022-07-27T21:43:07.286Z"
   },
   {
    "duration": 167,
    "start_time": "2022-07-27T21:43:07.336Z"
   },
   {
    "duration": 12,
    "start_time": "2022-07-27T21:43:07.505Z"
   },
   {
    "duration": 101,
    "start_time": "2022-07-27T21:43:07.519Z"
   },
   {
    "duration": 32,
    "start_time": "2022-07-27T21:43:07.622Z"
   },
   {
    "duration": 210,
    "start_time": "2022-07-27T21:43:07.656Z"
   },
   {
    "duration": 201,
    "start_time": "2022-07-27T21:43:07.868Z"
   },
   {
    "duration": 189,
    "start_time": "2022-07-27T21:43:08.071Z"
   },
   {
    "duration": 18,
    "start_time": "2022-07-27T21:43:08.262Z"
   },
   {
    "duration": 195,
    "start_time": "2022-07-27T21:43:08.282Z"
   },
   {
    "duration": 75,
    "start_time": "2022-07-27T21:43:08.478Z"
   },
   {
    "duration": 109,
    "start_time": "2022-07-27T21:43:08.555Z"
   },
   {
    "duration": 13,
    "start_time": "2022-07-27T21:43:27.516Z"
   },
   {
    "duration": 22,
    "start_time": "2022-07-27T21:44:10.643Z"
   },
   {
    "duration": 16,
    "start_time": "2022-07-27T21:44:13.615Z"
   },
   {
    "duration": 30,
    "start_time": "2022-07-27T21:45:48.723Z"
   },
   {
    "duration": 6,
    "start_time": "2022-07-27T21:46:12.763Z"
   },
   {
    "duration": 47,
    "start_time": "2022-07-27T21:46:51.274Z"
   },
   {
    "duration": 10,
    "start_time": "2022-07-27T21:48:17.224Z"
   },
   {
    "duration": 20,
    "start_time": "2022-07-27T21:48:51.635Z"
   },
   {
    "duration": 10,
    "start_time": "2022-07-27T21:49:03.524Z"
   },
   {
    "duration": 6,
    "start_time": "2022-07-27T21:49:06.295Z"
   },
   {
    "duration": 1070,
    "start_time": "2022-07-27T21:49:39.664Z"
   },
   {
    "duration": 67,
    "start_time": "2022-07-27T21:49:40.736Z"
   },
   {
    "duration": 12,
    "start_time": "2022-07-27T21:49:40.804Z"
   },
   {
    "duration": 22,
    "start_time": "2022-07-27T21:49:40.818Z"
   },
   {
    "duration": 11,
    "start_time": "2022-07-27T21:49:40.842Z"
   },
   {
    "duration": 20,
    "start_time": "2022-07-27T21:49:40.855Z"
   },
   {
    "duration": 19,
    "start_time": "2022-07-27T21:49:40.877Z"
   },
   {
    "duration": 17,
    "start_time": "2022-07-27T21:49:40.897Z"
   },
   {
    "duration": 24,
    "start_time": "2022-07-27T21:49:40.915Z"
   },
   {
    "duration": 18,
    "start_time": "2022-07-27T21:49:40.940Z"
   },
   {
    "duration": 12,
    "start_time": "2022-07-27T21:49:40.959Z"
   },
   {
    "duration": 12,
    "start_time": "2022-07-27T21:49:40.973Z"
   },
   {
    "duration": 14,
    "start_time": "2022-07-27T21:49:40.986Z"
   },
   {
    "duration": 185,
    "start_time": "2022-07-27T21:49:41.002Z"
   },
   {
    "duration": 12,
    "start_time": "2022-07-27T21:49:41.189Z"
   },
   {
    "duration": 106,
    "start_time": "2022-07-27T21:49:41.203Z"
   },
   {
    "duration": 15,
    "start_time": "2022-07-27T21:49:41.311Z"
   },
   {
    "duration": 184,
    "start_time": "2022-07-27T21:49:41.328Z"
   },
   {
    "duration": 179,
    "start_time": "2022-07-27T21:49:41.513Z"
   },
   {
    "duration": 171,
    "start_time": "2022-07-27T21:49:41.694Z"
   },
   {
    "duration": 14,
    "start_time": "2022-07-27T21:49:41.866Z"
   },
   {
    "duration": 179,
    "start_time": "2022-07-27T21:49:41.882Z"
   },
   {
    "duration": 30,
    "start_time": "2022-07-27T21:49:42.062Z"
   },
   {
    "duration": 7,
    "start_time": "2022-07-27T21:49:42.093Z"
   },
   {
    "duration": 15,
    "start_time": "2022-07-27T21:49:42.102Z"
   },
   {
    "duration": 105,
    "start_time": "2022-07-27T21:49:42.118Z"
   },
   {
    "duration": 0,
    "start_time": "2022-07-27T21:49:42.225Z"
   },
   {
    "duration": 0,
    "start_time": "2022-07-27T21:49:42.226Z"
   },
   {
    "duration": 6,
    "start_time": "2022-07-27T21:51:06.846Z"
   },
   {
    "duration": 19,
    "start_time": "2022-07-27T21:51:08.126Z"
   },
   {
    "duration": 15,
    "start_time": "2022-07-27T21:51:17.747Z"
   },
   {
    "duration": 16,
    "start_time": "2022-07-27T21:52:51.918Z"
   },
   {
    "duration": 22,
    "start_time": "2022-07-27T21:54:30.467Z"
   },
   {
    "duration": 26,
    "start_time": "2022-07-27T21:55:45.167Z"
   },
   {
    "duration": 194,
    "start_time": "2022-07-27T21:56:05.708Z"
   },
   {
    "duration": 184,
    "start_time": "2022-07-27T21:57:09.620Z"
   },
   {
    "duration": 10,
    "start_time": "2022-07-27T22:01:49.137Z"
   },
   {
    "duration": 1468,
    "start_time": "2022-07-27T22:01:59.929Z"
   },
   {
    "duration": 67,
    "start_time": "2022-07-27T22:05:15.529Z"
   },
   {
    "duration": 54,
    "start_time": "2022-07-27T22:05:34.762Z"
   },
   {
    "duration": 74,
    "start_time": "2022-07-27T22:06:41.488Z"
   },
   {
    "duration": 95,
    "start_time": "2022-07-27T22:07:08.594Z"
   },
   {
    "duration": 900,
    "start_time": "2022-07-27T22:08:01.140Z"
   },
   {
    "duration": 891,
    "start_time": "2022-07-27T22:08:21.719Z"
   },
   {
    "duration": 1328,
    "start_time": "2022-07-27T22:10:02.815Z"
   },
   {
    "duration": 7,
    "start_time": "2022-07-27T22:10:14.418Z"
   },
   {
    "duration": 12,
    "start_time": "2022-07-27T22:10:21.959Z"
   },
   {
    "duration": 1114,
    "start_time": "2022-07-27T22:10:45.504Z"
   },
   {
    "duration": 66,
    "start_time": "2022-07-27T22:10:46.620Z"
   },
   {
    "duration": 12,
    "start_time": "2022-07-27T22:10:46.687Z"
   },
   {
    "duration": 24,
    "start_time": "2022-07-27T22:10:46.701Z"
   },
   {
    "duration": 16,
    "start_time": "2022-07-27T22:10:46.727Z"
   },
   {
    "duration": 11,
    "start_time": "2022-07-27T22:10:46.744Z"
   },
   {
    "duration": 8,
    "start_time": "2022-07-27T22:10:46.756Z"
   },
   {
    "duration": 14,
    "start_time": "2022-07-27T22:10:46.765Z"
   },
   {
    "duration": 23,
    "start_time": "2022-07-27T22:10:46.780Z"
   },
   {
    "duration": 46,
    "start_time": "2022-07-27T22:10:46.804Z"
   },
   {
    "duration": 14,
    "start_time": "2022-07-27T22:10:46.852Z"
   },
   {
    "duration": 13,
    "start_time": "2022-07-27T22:10:46.868Z"
   },
   {
    "duration": 15,
    "start_time": "2022-07-27T22:10:46.883Z"
   },
   {
    "duration": 196,
    "start_time": "2022-07-27T22:10:46.901Z"
   },
   {
    "duration": 13,
    "start_time": "2022-07-27T22:10:47.099Z"
   },
   {
    "duration": 102,
    "start_time": "2022-07-27T22:10:47.114Z"
   },
   {
    "duration": 27,
    "start_time": "2022-07-27T22:10:47.217Z"
   },
   {
    "duration": 176,
    "start_time": "2022-07-27T22:10:47.245Z"
   },
   {
    "duration": 191,
    "start_time": "2022-07-27T22:10:47.423Z"
   },
   {
    "duration": 191,
    "start_time": "2022-07-27T22:10:47.616Z"
   },
   {
    "duration": 15,
    "start_time": "2022-07-27T22:10:47.809Z"
   },
   {
    "duration": 171,
    "start_time": "2022-07-27T22:10:47.826Z"
   },
   {
    "duration": 60,
    "start_time": "2022-07-27T22:10:47.999Z"
   },
   {
    "duration": 8,
    "start_time": "2022-07-27T22:10:48.060Z"
   },
   {
    "duration": 20,
    "start_time": "2022-07-27T22:10:48.069Z"
   },
   {
    "duration": 8,
    "start_time": "2022-07-27T22:10:48.090Z"
   },
   {
    "duration": 52,
    "start_time": "2022-07-27T22:10:48.099Z"
   },
   {
    "duration": 194,
    "start_time": "2022-07-27T22:10:48.152Z"
   },
   {
    "duration": 797,
    "start_time": "2022-07-27T22:10:48.347Z"
   },
   {
    "duration": 110,
    "start_time": "2022-07-27T22:13:50.201Z"
   },
   {
    "duration": 26,
    "start_time": "2022-07-27T22:13:57.049Z"
   },
   {
    "duration": 13,
    "start_time": "2022-07-27T22:16:23.941Z"
   },
   {
    "duration": 731,
    "start_time": "2022-07-27T22:17:09.089Z"
   },
   {
    "duration": 948,
    "start_time": "2022-07-27T22:17:42.966Z"
   },
   {
    "duration": 720,
    "start_time": "2022-07-27T22:18:10.267Z"
   },
   {
    "duration": 25,
    "start_time": "2022-07-27T22:19:41.633Z"
   },
   {
    "duration": 30,
    "start_time": "2022-07-27T22:20:56.937Z"
   },
   {
    "duration": 24,
    "start_time": "2022-07-27T22:21:27.561Z"
   },
   {
    "duration": 9,
    "start_time": "2022-07-27T22:22:16.213Z"
   },
   {
    "duration": 13,
    "start_time": "2022-07-27T22:22:27.242Z"
   },
   {
    "duration": 9,
    "start_time": "2022-07-27T22:22:48.122Z"
   },
   {
    "duration": 17,
    "start_time": "2022-07-27T22:24:10.154Z"
   },
   {
    "duration": 916,
    "start_time": "2022-07-27T22:25:32.282Z"
   },
   {
    "duration": 753,
    "start_time": "2022-07-27T22:26:17.362Z"
   },
   {
    "duration": 859,
    "start_time": "2022-07-27T22:26:49.878Z"
   },
   {
    "duration": 812,
    "start_time": "2022-07-27T22:27:00.079Z"
   },
   {
    "duration": 25,
    "start_time": "2022-07-27T22:27:15.879Z"
   },
   {
    "duration": 14,
    "start_time": "2022-07-27T22:29:38.450Z"
   },
   {
    "duration": 912,
    "start_time": "2022-07-27T22:30:25.278Z"
   },
   {
    "duration": 9,
    "start_time": "2022-07-27T22:30:36.785Z"
   },
   {
    "duration": 13,
    "start_time": "2022-07-27T22:30:43.878Z"
   },
   {
    "duration": 81,
    "start_time": "2022-07-27T22:43:57.666Z"
   },
   {
    "duration": 875,
    "start_time": "2022-07-27T22:44:06.847Z"
   },
   {
    "duration": 12,
    "start_time": "2022-07-27T22:44:14.215Z"
   },
   {
    "duration": 1076,
    "start_time": "2022-07-27T22:44:54.039Z"
   },
   {
    "duration": 65,
    "start_time": "2022-07-27T22:44:55.117Z"
   },
   {
    "duration": 12,
    "start_time": "2022-07-27T22:44:55.184Z"
   },
   {
    "duration": 23,
    "start_time": "2022-07-27T22:44:55.198Z"
   },
   {
    "duration": 18,
    "start_time": "2022-07-27T22:44:55.223Z"
   },
   {
    "duration": 8,
    "start_time": "2022-07-27T22:44:55.242Z"
   },
   {
    "duration": 8,
    "start_time": "2022-07-27T22:44:55.252Z"
   },
   {
    "duration": 15,
    "start_time": "2022-07-27T22:44:55.261Z"
   },
   {
    "duration": 28,
    "start_time": "2022-07-27T22:44:55.277Z"
   },
   {
    "duration": 37,
    "start_time": "2022-07-27T22:44:55.306Z"
   },
   {
    "duration": 13,
    "start_time": "2022-07-27T22:44:55.344Z"
   },
   {
    "duration": 13,
    "start_time": "2022-07-27T22:44:55.359Z"
   },
   {
    "duration": 14,
    "start_time": "2022-07-27T22:44:55.373Z"
   },
   {
    "duration": 179,
    "start_time": "2022-07-27T22:44:55.389Z"
   },
   {
    "duration": 11,
    "start_time": "2022-07-27T22:44:55.570Z"
   },
   {
    "duration": 102,
    "start_time": "2022-07-27T22:44:55.583Z"
   },
   {
    "duration": 14,
    "start_time": "2022-07-27T22:44:55.687Z"
   },
   {
    "duration": 175,
    "start_time": "2022-07-27T22:44:55.703Z"
   },
   {
    "duration": 175,
    "start_time": "2022-07-27T22:44:55.880Z"
   },
   {
    "duration": 159,
    "start_time": "2022-07-27T22:44:56.056Z"
   },
   {
    "duration": 20,
    "start_time": "2022-07-27T22:44:56.217Z"
   },
   {
    "duration": 167,
    "start_time": "2022-07-27T22:44:56.239Z"
   },
   {
    "duration": 34,
    "start_time": "2022-07-27T22:44:56.408Z"
   },
   {
    "duration": 4,
    "start_time": "2022-07-27T22:44:56.443Z"
   },
   {
    "duration": 13,
    "start_time": "2022-07-27T22:44:56.449Z"
   },
   {
    "duration": 4,
    "start_time": "2022-07-27T22:44:56.464Z"
   },
   {
    "duration": 18,
    "start_time": "2022-07-27T22:44:56.470Z"
   },
   {
    "duration": 199,
    "start_time": "2022-07-27T22:44:56.489Z"
   },
   {
    "duration": 948,
    "start_time": "2022-07-27T22:44:56.690Z"
   },
   {
    "duration": 15,
    "start_time": "2022-07-27T22:44:57.639Z"
   },
   {
    "duration": 8,
    "start_time": "2022-07-27T22:44:57.655Z"
   },
   {
    "duration": 11,
    "start_time": "2022-07-27T22:44:57.664Z"
   },
   {
    "duration": 12,
    "start_time": "2022-07-27T22:44:57.677Z"
   },
   {
    "duration": 13,
    "start_time": "2022-07-27T22:45:43.654Z"
   },
   {
    "duration": 23,
    "start_time": "2022-07-27T22:47:13.234Z"
   },
   {
    "duration": 102,
    "start_time": "2022-07-27T22:48:30.035Z"
   },
   {
    "duration": 12,
    "start_time": "2022-07-27T22:48:37.354Z"
   },
   {
    "duration": 12,
    "start_time": "2022-07-27T22:49:05.755Z"
   },
   {
    "duration": 1081,
    "start_time": "2022-07-27T22:49:13.426Z"
   },
   {
    "duration": 67,
    "start_time": "2022-07-27T22:49:14.509Z"
   },
   {
    "duration": 12,
    "start_time": "2022-07-27T22:49:14.578Z"
   },
   {
    "duration": 28,
    "start_time": "2022-07-27T22:49:14.591Z"
   },
   {
    "duration": 22,
    "start_time": "2022-07-27T22:49:14.621Z"
   },
   {
    "duration": 9,
    "start_time": "2022-07-27T22:49:14.645Z"
   },
   {
    "duration": 6,
    "start_time": "2022-07-27T22:49:14.655Z"
   },
   {
    "duration": 15,
    "start_time": "2022-07-27T22:49:14.662Z"
   },
   {
    "duration": 32,
    "start_time": "2022-07-27T22:49:14.679Z"
   },
   {
    "duration": 39,
    "start_time": "2022-07-27T22:49:14.713Z"
   },
   {
    "duration": 15,
    "start_time": "2022-07-27T22:49:14.754Z"
   },
   {
    "duration": 17,
    "start_time": "2022-07-27T22:49:14.770Z"
   },
   {
    "duration": 15,
    "start_time": "2022-07-27T22:49:14.788Z"
   },
   {
    "duration": 191,
    "start_time": "2022-07-27T22:49:14.805Z"
   },
   {
    "duration": 13,
    "start_time": "2022-07-27T22:49:14.998Z"
   },
   {
    "duration": 107,
    "start_time": "2022-07-27T22:49:15.013Z"
   },
   {
    "duration": 22,
    "start_time": "2022-07-27T22:49:15.121Z"
   },
   {
    "duration": 171,
    "start_time": "2022-07-27T22:49:15.144Z"
   },
   {
    "duration": 184,
    "start_time": "2022-07-27T22:49:15.317Z"
   },
   {
    "duration": 165,
    "start_time": "2022-07-27T22:49:15.503Z"
   },
   {
    "duration": 15,
    "start_time": "2022-07-27T22:49:15.670Z"
   },
   {
    "duration": 176,
    "start_time": "2022-07-27T22:49:15.687Z"
   },
   {
    "duration": 28,
    "start_time": "2022-07-27T22:49:15.865Z"
   },
   {
    "duration": 7,
    "start_time": "2022-07-27T22:49:15.895Z"
   },
   {
    "duration": 15,
    "start_time": "2022-07-27T22:49:15.903Z"
   },
   {
    "duration": 18,
    "start_time": "2022-07-27T22:49:15.920Z"
   },
   {
    "duration": 17,
    "start_time": "2022-07-27T22:49:15.940Z"
   },
   {
    "duration": 196,
    "start_time": "2022-07-27T22:49:15.960Z"
   },
   {
    "duration": 896,
    "start_time": "2022-07-27T22:49:16.157Z"
   },
   {
    "duration": 14,
    "start_time": "2022-07-27T22:49:17.055Z"
   },
   {
    "duration": 9,
    "start_time": "2022-07-27T22:49:17.070Z"
   },
   {
    "duration": 11,
    "start_time": "2022-07-27T22:49:17.080Z"
   },
   {
    "duration": 15,
    "start_time": "2022-07-27T22:49:17.092Z"
   },
   {
    "duration": 287,
    "start_time": "2022-07-27T22:50:21.787Z"
   },
   {
    "duration": 16,
    "start_time": "2022-07-27T22:52:37.906Z"
   },
   {
    "duration": 11,
    "start_time": "2022-07-27T22:52:56.804Z"
   },
   {
    "duration": 11,
    "start_time": "2022-07-27T22:53:06.968Z"
   },
   {
    "duration": 7079,
    "start_time": "2022-07-27T22:53:46.840Z"
   },
   {
    "duration": 1084,
    "start_time": "2022-07-27T22:54:18.223Z"
   },
   {
    "duration": 67,
    "start_time": "2022-07-27T22:54:19.309Z"
   },
   {
    "duration": 12,
    "start_time": "2022-07-27T22:54:19.378Z"
   },
   {
    "duration": 23,
    "start_time": "2022-07-27T22:54:19.392Z"
   },
   {
    "duration": 22,
    "start_time": "2022-07-27T22:54:19.416Z"
   },
   {
    "duration": 9,
    "start_time": "2022-07-27T22:54:19.440Z"
   },
   {
    "duration": 7,
    "start_time": "2022-07-27T22:54:19.451Z"
   },
   {
    "duration": 16,
    "start_time": "2022-07-27T22:54:19.460Z"
   },
   {
    "duration": 22,
    "start_time": "2022-07-27T22:54:19.477Z"
   },
   {
    "duration": 41,
    "start_time": "2022-07-27T22:54:19.502Z"
   },
   {
    "duration": 14,
    "start_time": "2022-07-27T22:54:19.545Z"
   },
   {
    "duration": 13,
    "start_time": "2022-07-27T22:54:19.561Z"
   },
   {
    "duration": 15,
    "start_time": "2022-07-27T22:54:19.575Z"
   },
   {
    "duration": 180,
    "start_time": "2022-07-27T22:54:19.592Z"
   },
   {
    "duration": 12,
    "start_time": "2022-07-27T22:54:19.774Z"
   },
   {
    "duration": 106,
    "start_time": "2022-07-27T22:54:19.787Z"
   },
   {
    "duration": 15,
    "start_time": "2022-07-27T22:54:19.895Z"
   },
   {
    "duration": 180,
    "start_time": "2022-07-27T22:54:19.911Z"
   },
   {
    "duration": 180,
    "start_time": "2022-07-27T22:54:20.092Z"
   },
   {
    "duration": 173,
    "start_time": "2022-07-27T22:54:20.274Z"
   },
   {
    "duration": 15,
    "start_time": "2022-07-27T22:54:20.450Z"
   },
   {
    "duration": 176,
    "start_time": "2022-07-27T22:54:20.466Z"
   },
   {
    "duration": 28,
    "start_time": "2022-07-27T22:54:20.643Z"
   },
   {
    "duration": 5,
    "start_time": "2022-07-27T22:54:20.673Z"
   },
   {
    "duration": 19,
    "start_time": "2022-07-27T22:54:20.679Z"
   },
   {
    "duration": 5,
    "start_time": "2022-07-27T22:54:20.699Z"
   },
   {
    "duration": 32,
    "start_time": "2022-07-27T22:54:20.705Z"
   },
   {
    "duration": 187,
    "start_time": "2022-07-27T22:54:20.740Z"
   },
   {
    "duration": 959,
    "start_time": "2022-07-27T22:54:20.928Z"
   },
   {
    "duration": 16,
    "start_time": "2022-07-27T22:54:21.889Z"
   },
   {
    "duration": 19,
    "start_time": "2022-07-27T22:54:21.906Z"
   },
   {
    "duration": 10,
    "start_time": "2022-07-27T22:54:21.926Z"
   },
   {
    "duration": 9,
    "start_time": "2022-07-27T22:54:21.938Z"
   },
   {
    "duration": 15,
    "start_time": "2022-07-27T22:54:21.948Z"
   },
   {
    "duration": 8,
    "start_time": "2022-07-27T22:55:06.756Z"
   },
   {
    "duration": 17,
    "start_time": "2022-07-27T22:55:14.755Z"
   },
   {
    "duration": 15,
    "start_time": "2022-07-27T22:55:20.142Z"
   },
   {
    "duration": 16,
    "start_time": "2022-07-27T22:55:27.434Z"
   },
   {
    "duration": 970,
    "start_time": "2022-07-27T22:56:12.283Z"
   },
   {
    "duration": 6,
    "start_time": "2022-07-27T22:56:18.642Z"
   },
   {
    "duration": 10,
    "start_time": "2022-07-27T22:56:44.862Z"
   },
   {
    "duration": 6,
    "start_time": "2022-07-27T22:56:59.937Z"
   },
   {
    "duration": 940,
    "start_time": "2022-07-27T22:58:08.103Z"
   },
   {
    "duration": 1187,
    "start_time": "2022-07-27T22:58:21.710Z"
   },
   {
    "duration": 70,
    "start_time": "2022-07-27T22:58:22.899Z"
   },
   {
    "duration": 12,
    "start_time": "2022-07-27T22:58:22.970Z"
   },
   {
    "duration": 24,
    "start_time": "2022-07-27T22:58:22.983Z"
   },
   {
    "duration": 12,
    "start_time": "2022-07-27T22:58:23.009Z"
   },
   {
    "duration": 16,
    "start_time": "2022-07-27T22:58:23.038Z"
   },
   {
    "duration": 15,
    "start_time": "2022-07-27T22:58:23.057Z"
   },
   {
    "duration": 18,
    "start_time": "2022-07-27T22:58:23.074Z"
   },
   {
    "duration": 28,
    "start_time": "2022-07-27T22:58:23.093Z"
   },
   {
    "duration": 24,
    "start_time": "2022-07-27T22:58:23.123Z"
   },
   {
    "duration": 15,
    "start_time": "2022-07-27T22:58:23.149Z"
   },
   {
    "duration": 16,
    "start_time": "2022-07-27T22:58:23.166Z"
   },
   {
    "duration": 14,
    "start_time": "2022-07-27T22:58:23.184Z"
   },
   {
    "duration": 187,
    "start_time": "2022-07-27T22:58:23.201Z"
   },
   {
    "duration": 14,
    "start_time": "2022-07-27T22:58:23.389Z"
   },
   {
    "duration": 102,
    "start_time": "2022-07-27T22:58:23.404Z"
   },
   {
    "duration": 30,
    "start_time": "2022-07-27T22:58:23.508Z"
   },
   {
    "duration": 211,
    "start_time": "2022-07-27T22:58:23.540Z"
   },
   {
    "duration": 205,
    "start_time": "2022-07-27T22:58:23.754Z"
   },
   {
    "duration": 189,
    "start_time": "2022-07-27T22:58:23.961Z"
   },
   {
    "duration": 19,
    "start_time": "2022-07-27T22:58:24.152Z"
   },
   {
    "duration": 213,
    "start_time": "2022-07-27T22:58:24.173Z"
   },
   {
    "duration": 27,
    "start_time": "2022-07-27T22:58:24.387Z"
   },
   {
    "duration": 7,
    "start_time": "2022-07-27T22:58:24.416Z"
   },
   {
    "duration": 19,
    "start_time": "2022-07-27T22:58:24.440Z"
   },
   {
    "duration": 12,
    "start_time": "2022-07-27T22:58:24.461Z"
   },
   {
    "duration": 19,
    "start_time": "2022-07-27T22:58:24.474Z"
   },
   {
    "duration": 219,
    "start_time": "2022-07-27T22:58:24.494Z"
   },
   {
    "duration": 891,
    "start_time": "2022-07-27T22:58:24.715Z"
   },
   {
    "duration": 19,
    "start_time": "2022-07-27T22:58:25.608Z"
   },
   {
    "duration": 24,
    "start_time": "2022-07-27T22:58:25.629Z"
   },
   {
    "duration": 9,
    "start_time": "2022-07-27T22:58:25.655Z"
   },
   {
    "duration": 13,
    "start_time": "2022-07-27T22:58:25.665Z"
   },
   {
    "duration": 6,
    "start_time": "2022-07-27T22:58:25.679Z"
   },
   {
    "duration": 6,
    "start_time": "2022-07-27T22:58:25.686Z"
   },
   {
    "duration": 11,
    "start_time": "2022-07-27T22:58:25.694Z"
   },
   {
    "duration": 21,
    "start_time": "2022-07-27T23:00:59.823Z"
   },
   {
    "duration": 12,
    "start_time": "2022-07-27T23:01:10.834Z"
   },
   {
    "duration": 126,
    "start_time": "2022-07-27T23:04:12.222Z"
   },
   {
    "duration": 2683,
    "start_time": "2022-07-27T23:05:50.586Z"
   },
   {
    "duration": 66,
    "start_time": "2022-07-27T23:05:53.270Z"
   },
   {
    "duration": 13,
    "start_time": "2022-07-27T23:05:53.338Z"
   },
   {
    "duration": 31,
    "start_time": "2022-07-27T23:05:53.353Z"
   },
   {
    "duration": 14,
    "start_time": "2022-07-27T23:05:53.386Z"
   },
   {
    "duration": 11,
    "start_time": "2022-07-27T23:05:53.402Z"
   },
   {
    "duration": 11,
    "start_time": "2022-07-27T23:05:53.444Z"
   },
   {
    "duration": 24,
    "start_time": "2022-07-27T23:05:53.457Z"
   },
   {
    "duration": 23,
    "start_time": "2022-07-27T23:05:53.483Z"
   },
   {
    "duration": 31,
    "start_time": "2022-07-27T23:05:53.509Z"
   },
   {
    "duration": 21,
    "start_time": "2022-07-27T23:05:53.542Z"
   },
   {
    "duration": 14,
    "start_time": "2022-07-27T23:05:53.564Z"
   },
   {
    "duration": 14,
    "start_time": "2022-07-27T23:05:53.579Z"
   },
   {
    "duration": 199,
    "start_time": "2022-07-27T23:05:53.594Z"
   },
   {
    "duration": 13,
    "start_time": "2022-07-27T23:05:53.794Z"
   },
   {
    "duration": 103,
    "start_time": "2022-07-27T23:05:53.809Z"
   },
   {
    "duration": 30,
    "start_time": "2022-07-27T23:05:53.913Z"
   },
   {
    "duration": 195,
    "start_time": "2022-07-27T23:05:53.945Z"
   },
   {
    "duration": 209,
    "start_time": "2022-07-27T23:05:54.142Z"
   },
   {
    "duration": 171,
    "start_time": "2022-07-27T23:05:54.353Z"
   },
   {
    "duration": 31,
    "start_time": "2022-07-27T23:05:54.526Z"
   },
   {
    "duration": 185,
    "start_time": "2022-07-27T23:05:54.559Z"
   },
   {
    "duration": 37,
    "start_time": "2022-07-27T23:05:54.747Z"
   },
   {
    "duration": 5,
    "start_time": "2022-07-27T23:05:54.786Z"
   },
   {
    "duration": 11,
    "start_time": "2022-07-27T23:05:54.792Z"
   },
   {
    "duration": 4,
    "start_time": "2022-07-27T23:05:54.805Z"
   },
   {
    "duration": 55,
    "start_time": "2022-07-27T23:05:54.811Z"
   },
   {
    "duration": 208,
    "start_time": "2022-07-27T23:05:54.869Z"
   },
   {
    "duration": 1087,
    "start_time": "2022-07-27T23:05:55.079Z"
   },
   {
    "duration": 18,
    "start_time": "2022-07-27T23:05:56.168Z"
   },
   {
    "duration": 7,
    "start_time": "2022-07-27T23:05:56.187Z"
   },
   {
    "duration": 24,
    "start_time": "2022-07-27T23:05:56.195Z"
   },
   {
    "duration": 1192,
    "start_time": "2022-07-27T23:06:23.143Z"
   },
   {
    "duration": 67,
    "start_time": "2022-07-27T23:06:24.336Z"
   },
   {
    "duration": 12,
    "start_time": "2022-07-27T23:06:24.407Z"
   },
   {
    "duration": 23,
    "start_time": "2022-07-27T23:06:24.421Z"
   },
   {
    "duration": 14,
    "start_time": "2022-07-27T23:06:24.446Z"
   },
   {
    "duration": 9,
    "start_time": "2022-07-27T23:06:24.462Z"
   },
   {
    "duration": 9,
    "start_time": "2022-07-27T23:06:24.472Z"
   },
   {
    "duration": 12,
    "start_time": "2022-07-27T23:06:24.482Z"
   },
   {
    "duration": 48,
    "start_time": "2022-07-27T23:06:24.497Z"
   },
   {
    "duration": 24,
    "start_time": "2022-07-27T23:06:24.547Z"
   },
   {
    "duration": 13,
    "start_time": "2022-07-27T23:06:24.573Z"
   },
   {
    "duration": 24,
    "start_time": "2022-07-27T23:06:24.587Z"
   },
   {
    "duration": 26,
    "start_time": "2022-07-27T23:06:24.612Z"
   },
   {
    "duration": 188,
    "start_time": "2022-07-27T23:06:24.640Z"
   },
   {
    "duration": 17,
    "start_time": "2022-07-27T23:06:24.830Z"
   },
   {
    "duration": 125,
    "start_time": "2022-07-27T23:06:24.848Z"
   },
   {
    "duration": 15,
    "start_time": "2022-07-27T23:06:24.975Z"
   },
   {
    "duration": 212,
    "start_time": "2022-07-27T23:06:24.991Z"
   },
   {
    "duration": 193,
    "start_time": "2022-07-27T23:06:25.205Z"
   },
   {
    "duration": 175,
    "start_time": "2022-07-27T23:06:25.400Z"
   },
   {
    "duration": 14,
    "start_time": "2022-07-27T23:06:25.577Z"
   },
   {
    "duration": 183,
    "start_time": "2022-07-27T23:06:25.592Z"
   },
   {
    "duration": 29,
    "start_time": "2022-07-27T23:06:25.776Z"
   },
   {
    "duration": 31,
    "start_time": "2022-07-27T23:06:25.806Z"
   },
   {
    "duration": 25,
    "start_time": "2022-07-27T23:06:25.839Z"
   },
   {
    "duration": 25,
    "start_time": "2022-07-27T23:06:25.866Z"
   },
   {
    "duration": 22,
    "start_time": "2022-07-27T23:06:25.895Z"
   },
   {
    "duration": 195,
    "start_time": "2022-07-27T23:06:25.919Z"
   },
   {
    "duration": 931,
    "start_time": "2022-07-27T23:06:26.117Z"
   },
   {
    "duration": 22,
    "start_time": "2022-07-27T23:06:27.051Z"
   },
   {
    "duration": 3,
    "start_time": "2022-07-27T23:06:27.074Z"
   },
   {
    "duration": 15,
    "start_time": "2022-07-27T23:06:27.079Z"
   },
   {
    "duration": 9,
    "start_time": "2022-07-27T23:09:05.975Z"
   },
   {
    "duration": 15,
    "start_time": "2022-07-27T23:09:44.882Z"
   },
   {
    "duration": 113,
    "start_time": "2022-07-27T23:10:09.235Z"
   },
   {
    "duration": 17,
    "start_time": "2022-07-27T23:10:19.035Z"
   },
   {
    "duration": 23,
    "start_time": "2022-07-27T23:10:25.074Z"
   },
   {
    "duration": 100,
    "start_time": "2022-07-27T23:10:35.552Z"
   },
   {
    "duration": 1120,
    "start_time": "2022-07-27T23:10:46.206Z"
   },
   {
    "duration": 69,
    "start_time": "2022-07-27T23:10:47.328Z"
   },
   {
    "duration": 11,
    "start_time": "2022-07-27T23:10:47.399Z"
   },
   {
    "duration": 22,
    "start_time": "2022-07-27T23:10:47.412Z"
   },
   {
    "duration": 13,
    "start_time": "2022-07-27T23:10:47.436Z"
   },
   {
    "duration": 20,
    "start_time": "2022-07-27T23:10:47.450Z"
   },
   {
    "duration": 6,
    "start_time": "2022-07-27T23:10:47.472Z"
   },
   {
    "duration": 17,
    "start_time": "2022-07-27T23:10:47.479Z"
   },
   {
    "duration": 41,
    "start_time": "2022-07-27T23:10:47.497Z"
   },
   {
    "duration": 32,
    "start_time": "2022-07-27T23:10:47.540Z"
   },
   {
    "duration": 13,
    "start_time": "2022-07-27T23:10:47.574Z"
   },
   {
    "duration": 13,
    "start_time": "2022-07-27T23:10:47.588Z"
   },
   {
    "duration": 14,
    "start_time": "2022-07-27T23:10:47.603Z"
   },
   {
    "duration": 199,
    "start_time": "2022-07-27T23:10:47.619Z"
   },
   {
    "duration": 19,
    "start_time": "2022-07-27T23:10:47.820Z"
   },
   {
    "duration": 103,
    "start_time": "2022-07-27T23:10:47.842Z"
   },
   {
    "duration": 20,
    "start_time": "2022-07-27T23:10:47.947Z"
   },
   {
    "duration": 207,
    "start_time": "2022-07-27T23:10:47.968Z"
   },
   {
    "duration": 206,
    "start_time": "2022-07-27T23:10:48.177Z"
   },
   {
    "duration": 173,
    "start_time": "2022-07-27T23:10:48.384Z"
   },
   {
    "duration": 14,
    "start_time": "2022-07-27T23:10:48.559Z"
   },
   {
    "duration": 212,
    "start_time": "2022-07-27T23:10:48.575Z"
   },
   {
    "duration": 28,
    "start_time": "2022-07-27T23:10:48.788Z"
   },
   {
    "duration": 35,
    "start_time": "2022-07-27T23:10:48.817Z"
   },
   {
    "duration": 21,
    "start_time": "2022-07-27T23:10:48.855Z"
   },
   {
    "duration": 15,
    "start_time": "2022-07-27T23:10:48.878Z"
   },
   {
    "duration": 28,
    "start_time": "2022-07-27T23:10:48.896Z"
   },
   {
    "duration": 207,
    "start_time": "2022-07-27T23:10:48.926Z"
   },
   {
    "duration": 934,
    "start_time": "2022-07-27T23:10:49.138Z"
   },
   {
    "duration": 17,
    "start_time": "2022-07-27T23:10:50.073Z"
   },
   {
    "duration": 15,
    "start_time": "2022-07-27T23:10:50.091Z"
   },
   {
    "duration": 12,
    "start_time": "2022-07-27T23:14:26.486Z"
   },
   {
    "duration": 21,
    "start_time": "2022-07-27T23:14:35.946Z"
   },
   {
    "duration": 19,
    "start_time": "2022-07-27T23:14:53.613Z"
   },
   {
    "duration": 17,
    "start_time": "2022-07-27T23:15:03.885Z"
   },
   {
    "duration": 14,
    "start_time": "2022-07-27T23:15:16.846Z"
   },
   {
    "duration": 16,
    "start_time": "2022-07-27T23:15:34.985Z"
   },
   {
    "duration": 16,
    "start_time": "2022-07-27T23:15:42.097Z"
   },
   {
    "duration": 53,
    "start_time": "2022-07-27T23:16:07.478Z"
   },
   {
    "duration": 16,
    "start_time": "2022-07-27T23:16:11.245Z"
   },
   {
    "duration": 16,
    "start_time": "2022-07-27T23:17:37.127Z"
   },
   {
    "duration": 15,
    "start_time": "2022-07-27T23:18:15.166Z"
   },
   {
    "duration": 11,
    "start_time": "2022-07-27T23:18:28.598Z"
   },
   {
    "duration": 18,
    "start_time": "2022-07-27T23:19:19.527Z"
   },
   {
    "duration": 15,
    "start_time": "2022-07-27T23:19:23.967Z"
   },
   {
    "duration": 19,
    "start_time": "2022-07-27T23:19:32.348Z"
   },
   {
    "duration": 15,
    "start_time": "2022-07-27T23:19:45.607Z"
   },
   {
    "duration": 1191,
    "start_time": "2022-07-27T23:19:50.863Z"
   },
   {
    "duration": 69,
    "start_time": "2022-07-27T23:19:52.056Z"
   },
   {
    "duration": 12,
    "start_time": "2022-07-27T23:19:52.127Z"
   },
   {
    "duration": 31,
    "start_time": "2022-07-27T23:19:52.142Z"
   },
   {
    "duration": 12,
    "start_time": "2022-07-27T23:19:52.175Z"
   },
   {
    "duration": 12,
    "start_time": "2022-07-27T23:19:52.189Z"
   },
   {
    "duration": 20,
    "start_time": "2022-07-27T23:19:52.202Z"
   },
   {
    "duration": 24,
    "start_time": "2022-07-27T23:19:52.224Z"
   },
   {
    "duration": 27,
    "start_time": "2022-07-27T23:19:52.251Z"
   },
   {
    "duration": 28,
    "start_time": "2022-07-27T23:19:52.281Z"
   },
   {
    "duration": 13,
    "start_time": "2022-07-27T23:19:52.310Z"
   },
   {
    "duration": 18,
    "start_time": "2022-07-27T23:19:52.338Z"
   },
   {
    "duration": 15,
    "start_time": "2022-07-27T23:19:52.359Z"
   },
   {
    "duration": 199,
    "start_time": "2022-07-27T23:19:52.375Z"
   },
   {
    "duration": 12,
    "start_time": "2022-07-27T23:19:52.575Z"
   },
   {
    "duration": 113,
    "start_time": "2022-07-27T23:19:52.588Z"
   },
   {
    "duration": 15,
    "start_time": "2022-07-27T23:19:52.702Z"
   },
   {
    "duration": 219,
    "start_time": "2022-07-27T23:19:52.718Z"
   },
   {
    "duration": 197,
    "start_time": "2022-07-27T23:19:52.939Z"
   },
   {
    "duration": 172,
    "start_time": "2022-07-27T23:19:53.138Z"
   },
   {
    "duration": 14,
    "start_time": "2022-07-27T23:19:53.312Z"
   },
   {
    "duration": 172,
    "start_time": "2022-07-27T23:19:53.343Z"
   },
   {
    "duration": 35,
    "start_time": "2022-07-27T23:19:53.516Z"
   },
   {
    "duration": 8,
    "start_time": "2022-07-27T23:19:53.553Z"
   },
   {
    "duration": 15,
    "start_time": "2022-07-27T23:19:53.563Z"
   },
   {
    "duration": 15,
    "start_time": "2022-07-27T23:19:53.579Z"
   },
   {
    "duration": 34,
    "start_time": "2022-07-27T23:19:53.596Z"
   },
   {
    "duration": 185,
    "start_time": "2022-07-27T23:19:53.633Z"
   },
   {
    "duration": 938,
    "start_time": "2022-07-27T23:19:53.820Z"
   },
   {
    "duration": 18,
    "start_time": "2022-07-27T23:19:54.761Z"
   },
   {
    "duration": 15,
    "start_time": "2022-07-27T23:19:54.780Z"
   },
   {
    "duration": 13,
    "start_time": "2022-07-27T23:19:54.797Z"
   },
   {
    "duration": 48,
    "start_time": "2022-07-27T23:19:54.812Z"
   },
   {
    "duration": 106,
    "start_time": "2022-07-27T23:21:41.697Z"
   },
   {
    "duration": 18,
    "start_time": "2022-07-27T23:21:54.205Z"
   },
   {
    "duration": 22,
    "start_time": "2022-07-27T23:22:31.205Z"
   },
   {
    "duration": 1103,
    "start_time": "2022-07-27T23:22:35.908Z"
   },
   {
    "duration": 66,
    "start_time": "2022-07-27T23:22:37.013Z"
   },
   {
    "duration": 12,
    "start_time": "2022-07-27T23:22:37.081Z"
   },
   {
    "duration": 25,
    "start_time": "2022-07-27T23:22:37.095Z"
   },
   {
    "duration": 23,
    "start_time": "2022-07-27T23:22:37.121Z"
   },
   {
    "duration": 15,
    "start_time": "2022-07-27T23:22:37.145Z"
   },
   {
    "duration": 8,
    "start_time": "2022-07-27T23:22:37.161Z"
   },
   {
    "duration": 29,
    "start_time": "2022-07-27T23:22:37.170Z"
   },
   {
    "duration": 24,
    "start_time": "2022-07-27T23:22:37.201Z"
   },
   {
    "duration": 17,
    "start_time": "2022-07-27T23:22:37.227Z"
   },
   {
    "duration": 12,
    "start_time": "2022-07-27T23:22:37.246Z"
   },
   {
    "duration": 13,
    "start_time": "2022-07-27T23:22:37.259Z"
   },
   {
    "duration": 14,
    "start_time": "2022-07-27T23:22:37.273Z"
   },
   {
    "duration": 177,
    "start_time": "2022-07-27T23:22:37.288Z"
   },
   {
    "duration": 12,
    "start_time": "2022-07-27T23:22:37.467Z"
   },
   {
    "duration": 105,
    "start_time": "2022-07-27T23:22:37.481Z"
   },
   {
    "duration": 15,
    "start_time": "2022-07-27T23:22:37.587Z"
   },
   {
    "duration": 178,
    "start_time": "2022-07-27T23:22:37.603Z"
   },
   {
    "duration": 176,
    "start_time": "2022-07-27T23:22:37.782Z"
   },
   {
    "duration": 185,
    "start_time": "2022-07-27T23:22:37.960Z"
   },
   {
    "duration": 16,
    "start_time": "2022-07-27T23:22:38.147Z"
   },
   {
    "duration": 192,
    "start_time": "2022-07-27T23:22:38.164Z"
   },
   {
    "duration": 31,
    "start_time": "2022-07-27T23:22:38.358Z"
   },
   {
    "duration": 20,
    "start_time": "2022-07-27T23:22:38.390Z"
   },
   {
    "duration": 26,
    "start_time": "2022-07-27T23:22:38.411Z"
   },
   {
    "duration": 19,
    "start_time": "2022-07-27T23:22:38.438Z"
   },
   {
    "duration": 34,
    "start_time": "2022-07-27T23:22:38.459Z"
   },
   {
    "duration": 189,
    "start_time": "2022-07-27T23:22:38.496Z"
   },
   {
    "duration": 885,
    "start_time": "2022-07-27T23:22:38.687Z"
   },
   {
    "duration": 16,
    "start_time": "2022-07-27T23:22:39.574Z"
   },
   {
    "duration": 36,
    "start_time": "2022-07-27T23:22:39.592Z"
   },
   {
    "duration": 13,
    "start_time": "2022-07-27T23:22:39.629Z"
   },
   {
    "duration": 31,
    "start_time": "2022-07-27T23:22:39.644Z"
   },
   {
    "duration": 113,
    "start_time": "2022-07-27T23:24:21.669Z"
   },
   {
    "duration": 17,
    "start_time": "2022-07-27T23:24:34.489Z"
   },
   {
    "duration": 19,
    "start_time": "2022-07-27T23:26:04.789Z"
   },
   {
    "duration": 1051,
    "start_time": "2022-07-27T23:27:15.856Z"
   },
   {
    "duration": 65,
    "start_time": "2022-07-27T23:27:16.909Z"
   },
   {
    "duration": 11,
    "start_time": "2022-07-27T23:27:16.976Z"
   },
   {
    "duration": 22,
    "start_time": "2022-07-27T23:27:16.989Z"
   },
   {
    "duration": 25,
    "start_time": "2022-07-27T23:27:17.013Z"
   },
   {
    "duration": 19,
    "start_time": "2022-07-27T23:27:17.040Z"
   },
   {
    "duration": 8,
    "start_time": "2022-07-27T23:27:17.061Z"
   },
   {
    "duration": 16,
    "start_time": "2022-07-27T23:27:17.070Z"
   },
   {
    "duration": 21,
    "start_time": "2022-07-27T23:27:17.087Z"
   },
   {
    "duration": 27,
    "start_time": "2022-07-27T23:27:17.110Z"
   },
   {
    "duration": 13,
    "start_time": "2022-07-27T23:27:17.139Z"
   },
   {
    "duration": 13,
    "start_time": "2022-07-27T23:27:17.153Z"
   },
   {
    "duration": 15,
    "start_time": "2022-07-27T23:27:17.167Z"
   },
   {
    "duration": 184,
    "start_time": "2022-07-27T23:27:17.184Z"
   },
   {
    "duration": 13,
    "start_time": "2022-07-27T23:27:17.369Z"
   },
   {
    "duration": 102,
    "start_time": "2022-07-27T23:27:17.383Z"
   },
   {
    "duration": 16,
    "start_time": "2022-07-27T23:27:17.487Z"
   },
   {
    "duration": 188,
    "start_time": "2022-07-27T23:27:17.504Z"
   },
   {
    "duration": 190,
    "start_time": "2022-07-27T23:27:17.693Z"
   },
   {
    "duration": 168,
    "start_time": "2022-07-27T23:27:17.885Z"
   },
   {
    "duration": 15,
    "start_time": "2022-07-27T23:27:18.054Z"
   },
   {
    "duration": 174,
    "start_time": "2022-07-27T23:27:18.070Z"
   },
   {
    "duration": 29,
    "start_time": "2022-07-27T23:27:18.245Z"
   },
   {
    "duration": 15,
    "start_time": "2022-07-27T23:27:18.276Z"
   },
   {
    "duration": 14,
    "start_time": "2022-07-27T23:27:18.293Z"
   },
   {
    "duration": 13,
    "start_time": "2022-07-27T23:27:18.309Z"
   },
   {
    "duration": 21,
    "start_time": "2022-07-27T23:27:18.323Z"
   },
   {
    "duration": 187,
    "start_time": "2022-07-27T23:27:18.346Z"
   },
   {
    "duration": 753,
    "start_time": "2022-07-27T23:27:18.536Z"
   },
   {
    "duration": 17,
    "start_time": "2022-07-27T23:27:19.290Z"
   },
   {
    "duration": 16,
    "start_time": "2022-07-27T23:27:19.309Z"
   },
   {
    "duration": 19,
    "start_time": "2022-07-27T23:27:19.326Z"
   },
   {
    "duration": 14,
    "start_time": "2022-07-27T23:27:19.347Z"
   },
   {
    "duration": 2043,
    "start_time": "2022-07-27T23:27:19.362Z"
   },
   {
    "duration": 1928,
    "start_time": "2022-07-27T23:27:41.047Z"
   },
   {
    "duration": 2133,
    "start_time": "2022-07-27T23:28:22.466Z"
   },
   {
    "duration": 2098,
    "start_time": "2022-07-27T23:28:34.607Z"
   },
   {
    "duration": 2048,
    "start_time": "2022-07-27T23:30:04.811Z"
   },
   {
    "duration": 1065,
    "start_time": "2022-07-27T23:32:17.543Z"
   },
   {
    "duration": 67,
    "start_time": "2022-07-27T23:32:18.609Z"
   },
   {
    "duration": 12,
    "start_time": "2022-07-27T23:32:18.677Z"
   },
   {
    "duration": 26,
    "start_time": "2022-07-27T23:32:18.691Z"
   },
   {
    "duration": 25,
    "start_time": "2022-07-27T23:32:18.719Z"
   },
   {
    "duration": 11,
    "start_time": "2022-07-27T23:32:18.745Z"
   },
   {
    "duration": 9,
    "start_time": "2022-07-27T23:32:18.757Z"
   },
   {
    "duration": 14,
    "start_time": "2022-07-27T23:32:18.767Z"
   },
   {
    "duration": 22,
    "start_time": "2022-07-27T23:32:18.782Z"
   },
   {
    "duration": 35,
    "start_time": "2022-07-27T23:32:18.806Z"
   },
   {
    "duration": 18,
    "start_time": "2022-07-27T23:32:18.844Z"
   },
   {
    "duration": 18,
    "start_time": "2022-07-27T23:32:18.865Z"
   },
   {
    "duration": 18,
    "start_time": "2022-07-27T23:32:18.884Z"
   },
   {
    "duration": 191,
    "start_time": "2022-07-27T23:32:18.905Z"
   },
   {
    "duration": 12,
    "start_time": "2022-07-27T23:32:19.097Z"
   },
   {
    "duration": 101,
    "start_time": "2022-07-27T23:32:19.111Z"
   },
   {
    "duration": 24,
    "start_time": "2022-07-27T23:32:19.213Z"
   },
   {
    "duration": 176,
    "start_time": "2022-07-27T23:32:19.238Z"
   },
   {
    "duration": 178,
    "start_time": "2022-07-27T23:32:19.416Z"
   },
   {
    "duration": 166,
    "start_time": "2022-07-27T23:32:19.596Z"
   },
   {
    "duration": 16,
    "start_time": "2022-07-27T23:32:19.764Z"
   },
   {
    "duration": 181,
    "start_time": "2022-07-27T23:32:19.781Z"
   },
   {
    "duration": 29,
    "start_time": "2022-07-27T23:32:19.964Z"
   },
   {
    "duration": 6,
    "start_time": "2022-07-27T23:32:19.995Z"
   },
   {
    "duration": 18,
    "start_time": "2022-07-27T23:32:20.003Z"
   },
   {
    "duration": 4,
    "start_time": "2022-07-27T23:32:20.037Z"
   },
   {
    "duration": 22,
    "start_time": "2022-07-27T23:32:20.043Z"
   },
   {
    "duration": 185,
    "start_time": "2022-07-27T23:32:20.068Z"
   },
   {
    "duration": 1233,
    "start_time": "2022-07-27T23:32:20.255Z"
   },
   {
    "duration": 17,
    "start_time": "2022-07-27T23:32:21.489Z"
   },
   {
    "duration": 15,
    "start_time": "2022-07-27T23:32:21.508Z"
   },
   {
    "duration": 13,
    "start_time": "2022-07-27T23:32:21.524Z"
   },
   {
    "duration": 19,
    "start_time": "2022-07-27T23:32:21.539Z"
   },
   {
    "duration": 2187,
    "start_time": "2022-07-27T23:32:21.560Z"
   },
   {
    "duration": 52,
    "start_time": "2022-07-28T16:03:12.264Z"
   },
   {
    "duration": 1478,
    "start_time": "2022-07-28T16:03:18.232Z"
   },
   {
    "duration": 603,
    "start_time": "2022-07-28T16:03:19.713Z"
   },
   {
    "duration": 12,
    "start_time": "2022-07-28T16:03:20.318Z"
   },
   {
    "duration": 25,
    "start_time": "2022-07-28T16:03:20.333Z"
   },
   {
    "duration": 14,
    "start_time": "2022-07-28T16:03:20.360Z"
   },
   {
    "duration": 23,
    "start_time": "2022-07-28T16:03:20.376Z"
   },
   {
    "duration": 9,
    "start_time": "2022-07-28T16:03:20.400Z"
   },
   {
    "duration": 17,
    "start_time": "2022-07-28T16:03:20.411Z"
   },
   {
    "duration": 29,
    "start_time": "2022-07-28T16:03:20.429Z"
   },
   {
    "duration": 43,
    "start_time": "2022-07-28T16:03:20.461Z"
   },
   {
    "duration": 17,
    "start_time": "2022-07-28T16:03:20.505Z"
   },
   {
    "duration": 18,
    "start_time": "2022-07-28T16:03:20.524Z"
   },
   {
    "duration": 18,
    "start_time": "2022-07-28T16:03:20.544Z"
   },
   {
    "duration": 213,
    "start_time": "2022-07-28T16:03:20.564Z"
   },
   {
    "duration": 26,
    "start_time": "2022-07-28T16:03:20.779Z"
   },
   {
    "duration": 112,
    "start_time": "2022-07-28T16:03:20.807Z"
   },
   {
    "duration": 19,
    "start_time": "2022-07-28T16:03:20.921Z"
   },
   {
    "duration": 203,
    "start_time": "2022-07-28T16:03:20.943Z"
   },
   {
    "duration": 197,
    "start_time": "2022-07-28T16:03:21.147Z"
   },
   {
    "duration": 187,
    "start_time": "2022-07-28T16:03:21.346Z"
   },
   {
    "duration": 16,
    "start_time": "2022-07-28T16:03:21.535Z"
   },
   {
    "duration": 193,
    "start_time": "2022-07-28T16:03:21.553Z"
   },
   {
    "duration": 32,
    "start_time": "2022-07-28T16:03:21.748Z"
   },
   {
    "duration": 6,
    "start_time": "2022-07-28T16:03:21.798Z"
   },
   {
    "duration": 12,
    "start_time": "2022-07-28T16:03:21.806Z"
   },
   {
    "duration": 6,
    "start_time": "2022-07-28T16:03:21.820Z"
   },
   {
    "duration": 23,
    "start_time": "2022-07-28T16:03:21.828Z"
   },
   {
    "duration": 226,
    "start_time": "2022-07-28T16:03:21.854Z"
   },
   {
    "duration": 1042,
    "start_time": "2022-07-28T16:03:22.082Z"
   },
   {
    "duration": 18,
    "start_time": "2022-07-28T16:03:23.126Z"
   },
   {
    "duration": 30,
    "start_time": "2022-07-28T16:03:23.146Z"
   },
   {
    "duration": 16,
    "start_time": "2022-07-28T16:03:23.178Z"
   },
   {
    "duration": 23,
    "start_time": "2022-07-28T16:03:23.197Z"
   },
   {
    "duration": 2371,
    "start_time": "2022-07-28T16:03:23.222Z"
   },
   {
    "duration": 3,
    "start_time": "2022-07-28T16:45:24.704Z"
   },
   {
    "duration": 1198,
    "start_time": "2022-07-28T17:38:42.279Z"
   },
   {
    "duration": 75,
    "start_time": "2022-07-28T17:38:43.479Z"
   },
   {
    "duration": 15,
    "start_time": "2022-07-28T17:38:43.556Z"
   },
   {
    "duration": 32,
    "start_time": "2022-07-28T17:38:43.573Z"
   },
   {
    "duration": 13,
    "start_time": "2022-07-28T17:38:43.607Z"
   },
   {
    "duration": 10,
    "start_time": "2022-07-28T17:38:43.621Z"
   },
   {
    "duration": 28,
    "start_time": "2022-07-28T17:38:43.633Z"
   },
   {
    "duration": 21,
    "start_time": "2022-07-28T17:38:43.663Z"
   },
   {
    "duration": 44,
    "start_time": "2022-07-28T17:38:43.686Z"
   },
   {
    "duration": 28,
    "start_time": "2022-07-28T17:38:43.733Z"
   },
   {
    "duration": 35,
    "start_time": "2022-07-28T17:38:43.763Z"
   },
   {
    "duration": 22,
    "start_time": "2022-07-28T17:38:43.800Z"
   },
   {
    "duration": 18,
    "start_time": "2022-07-28T17:38:43.824Z"
   },
   {
    "duration": 192,
    "start_time": "2022-07-28T17:38:43.847Z"
   },
   {
    "duration": 14,
    "start_time": "2022-07-28T17:38:44.041Z"
   },
   {
    "duration": 125,
    "start_time": "2022-07-28T17:38:44.057Z"
   },
   {
    "duration": 27,
    "start_time": "2022-07-28T17:38:44.184Z"
   },
   {
    "duration": 226,
    "start_time": "2022-07-28T17:38:44.214Z"
   },
   {
    "duration": 236,
    "start_time": "2022-07-28T17:38:44.442Z"
   },
   {
    "duration": 181,
    "start_time": "2022-07-28T17:38:44.680Z"
   },
   {
    "duration": 16,
    "start_time": "2022-07-28T17:38:44.862Z"
   },
   {
    "duration": 188,
    "start_time": "2022-07-28T17:38:44.880Z"
   },
   {
    "duration": 37,
    "start_time": "2022-07-28T17:38:45.069Z"
   },
   {
    "duration": 12,
    "start_time": "2022-07-28T17:38:45.108Z"
   },
   {
    "duration": 17,
    "start_time": "2022-07-28T17:38:45.121Z"
   },
   {
    "duration": 6,
    "start_time": "2022-07-28T17:38:45.140Z"
   },
   {
    "duration": 27,
    "start_time": "2022-07-28T17:38:45.148Z"
   },
   {
    "duration": 208,
    "start_time": "2022-07-28T17:38:45.177Z"
   },
   {
    "duration": 1249,
    "start_time": "2022-07-28T17:38:45.387Z"
   },
   {
    "duration": 19,
    "start_time": "2022-07-28T17:38:46.638Z"
   },
   {
    "duration": 16,
    "start_time": "2022-07-28T17:38:46.659Z"
   },
   {
    "duration": 21,
    "start_time": "2022-07-28T17:38:46.677Z"
   },
   {
    "duration": 21,
    "start_time": "2022-07-28T17:38:46.700Z"
   },
   {
    "duration": 2271,
    "start_time": "2022-07-28T17:38:46.722Z"
   },
   {
    "duration": 287,
    "start_time": "2022-07-28T17:39:06.499Z"
   },
   {
    "duration": 219,
    "start_time": "2022-07-28T17:39:15.472Z"
   },
   {
    "duration": 191,
    "start_time": "2022-07-28T17:39:20.712Z"
   },
   {
    "duration": 166,
    "start_time": "2022-07-28T17:39:26.670Z"
   },
   {
    "duration": 156,
    "start_time": "2022-07-28T17:39:32.790Z"
   },
   {
    "duration": 1404,
    "start_time": "2022-07-28T20:34:54.430Z"
   },
   {
    "duration": 252,
    "start_time": "2022-07-28T20:34:55.842Z"
   },
   {
    "duration": 12,
    "start_time": "2022-07-28T20:34:56.096Z"
   },
   {
    "duration": 31,
    "start_time": "2022-07-28T20:34:56.110Z"
   },
   {
    "duration": 15,
    "start_time": "2022-07-28T20:34:56.143Z"
   },
   {
    "duration": 13,
    "start_time": "2022-07-28T20:34:56.160Z"
   },
   {
    "duration": 17,
    "start_time": "2022-07-28T20:34:56.175Z"
   },
   {
    "duration": 13,
    "start_time": "2022-07-28T20:34:56.194Z"
   },
   {
    "duration": 55,
    "start_time": "2022-07-28T20:34:56.208Z"
   },
   {
    "duration": 18,
    "start_time": "2022-07-28T20:34:56.266Z"
   },
   {
    "duration": 14,
    "start_time": "2022-07-28T20:34:56.286Z"
   },
   {
    "duration": 41,
    "start_time": "2022-07-28T20:34:56.302Z"
   },
   {
    "duration": 23,
    "start_time": "2022-07-28T20:34:56.345Z"
   },
   {
    "duration": 193,
    "start_time": "2022-07-28T20:34:56.369Z"
   },
   {
    "duration": 15,
    "start_time": "2022-07-28T20:34:56.564Z"
   },
   {
    "duration": 126,
    "start_time": "2022-07-28T20:34:56.581Z"
   },
   {
    "duration": 31,
    "start_time": "2022-07-28T20:34:56.709Z"
   },
   {
    "duration": 328,
    "start_time": "2022-07-28T20:34:56.742Z"
   },
   {
    "duration": 541,
    "start_time": "2022-07-28T20:34:57.124Z"
   },
   {
    "duration": 406,
    "start_time": "2022-07-28T20:34:57.667Z"
   },
   {
    "duration": 23,
    "start_time": "2022-07-28T20:34:58.123Z"
   },
   {
    "duration": 403,
    "start_time": "2022-07-28T20:34:58.147Z"
   },
   {
    "duration": 90,
    "start_time": "2022-07-28T20:34:58.551Z"
   },
   {
    "duration": 10,
    "start_time": "2022-07-28T20:34:58.645Z"
   },
   {
    "duration": 13,
    "start_time": "2022-07-28T20:34:58.656Z"
   },
   {
    "duration": 59,
    "start_time": "2022-07-28T20:34:58.672Z"
   },
   {
    "duration": 89,
    "start_time": "2022-07-28T20:34:58.738Z"
   },
   {
    "duration": 262,
    "start_time": "2022-07-28T20:34:58.830Z"
   },
   {
    "duration": 1145,
    "start_time": "2022-07-28T20:34:59.094Z"
   },
   {
    "duration": 19,
    "start_time": "2022-07-28T20:35:00.242Z"
   },
   {
    "duration": 34,
    "start_time": "2022-07-28T20:35:00.263Z"
   },
   {
    "duration": 22,
    "start_time": "2022-07-28T20:35:00.298Z"
   },
   {
    "duration": 41,
    "start_time": "2022-07-28T20:35:00.322Z"
   },
   {
    "duration": 228,
    "start_time": "2022-07-28T20:35:00.365Z"
   },
   {
    "duration": 54,
    "start_time": "2022-07-28T20:50:51.855Z"
   },
   {
    "duration": 1428,
    "start_time": "2022-07-28T20:50:55.733Z"
   },
   {
    "duration": 253,
    "start_time": "2022-07-28T20:50:57.167Z"
   },
   {
    "duration": 12,
    "start_time": "2022-07-28T20:50:57.422Z"
   },
   {
    "duration": 24,
    "start_time": "2022-07-28T20:50:57.436Z"
   },
   {
    "duration": 18,
    "start_time": "2022-07-28T20:50:57.462Z"
   },
   {
    "duration": 11,
    "start_time": "2022-07-28T20:50:57.482Z"
   },
   {
    "duration": 7,
    "start_time": "2022-07-28T20:50:57.495Z"
   },
   {
    "duration": 16,
    "start_time": "2022-07-28T20:50:57.504Z"
   },
   {
    "duration": 46,
    "start_time": "2022-07-28T20:50:57.521Z"
   },
   {
    "duration": 21,
    "start_time": "2022-07-28T20:50:57.571Z"
   },
   {
    "duration": 15,
    "start_time": "2022-07-28T20:50:57.594Z"
   },
   {
    "duration": 15,
    "start_time": "2022-07-28T20:50:57.610Z"
   },
   {
    "duration": 46,
    "start_time": "2022-07-28T20:50:57.626Z"
   },
   {
    "duration": 182,
    "start_time": "2022-07-28T20:50:57.674Z"
   },
   {
    "duration": 19,
    "start_time": "2022-07-28T20:50:57.857Z"
   },
   {
    "duration": 120,
    "start_time": "2022-07-28T20:50:57.878Z"
   },
   {
    "duration": 15,
    "start_time": "2022-07-28T20:50:58.000Z"
   },
   {
    "duration": 209,
    "start_time": "2022-07-28T20:50:58.016Z"
   },
   {
    "duration": 198,
    "start_time": "2022-07-28T20:50:58.226Z"
   },
   {
    "duration": 181,
    "start_time": "2022-07-28T20:50:58.425Z"
   },
   {
    "duration": 14,
    "start_time": "2022-07-28T20:50:58.607Z"
   },
   {
    "duration": 99,
    "start_time": "2022-07-28T20:50:58.623Z"
   },
   {
    "duration": 58,
    "start_time": "2022-08-01T15:49:30.327Z"
   },
   {
    "duration": 1366,
    "start_time": "2022-08-01T15:49:34.118Z"
   },
   {
    "duration": 434,
    "start_time": "2022-08-01T15:49:35.486Z"
   },
   {
    "duration": 15,
    "start_time": "2022-08-01T15:49:35.922Z"
   },
   {
    "duration": 38,
    "start_time": "2022-08-01T15:49:35.939Z"
   },
   {
    "duration": 17,
    "start_time": "2022-08-01T15:49:35.979Z"
   },
   {
    "duration": 17,
    "start_time": "2022-08-01T15:49:35.998Z"
   },
   {
    "duration": 10,
    "start_time": "2022-08-01T15:49:36.016Z"
   },
   {
    "duration": 13,
    "start_time": "2022-08-01T15:49:36.028Z"
   },
   {
    "duration": 55,
    "start_time": "2022-08-01T15:49:36.043Z"
   },
   {
    "duration": 20,
    "start_time": "2022-08-01T15:49:36.100Z"
   },
   {
    "duration": 14,
    "start_time": "2022-08-01T15:49:36.121Z"
   },
   {
    "duration": 24,
    "start_time": "2022-08-01T15:49:36.137Z"
   },
   {
    "duration": 28,
    "start_time": "2022-08-01T15:49:36.167Z"
   },
   {
    "duration": 216,
    "start_time": "2022-08-01T15:49:36.199Z"
   },
   {
    "duration": 259,
    "start_time": "2022-08-01T15:49:36.417Z"
   },
   {
    "duration": 1196,
    "start_time": "2022-08-01T15:52:13.580Z"
   },
   {
    "duration": 69,
    "start_time": "2022-08-01T15:52:14.780Z"
   },
   {
    "duration": 26,
    "start_time": "2022-08-01T15:52:14.850Z"
   },
   {
    "duration": 53,
    "start_time": "2022-08-01T15:52:14.877Z"
   },
   {
    "duration": 17,
    "start_time": "2022-08-01T15:52:14.933Z"
   },
   {
    "duration": 15,
    "start_time": "2022-08-01T15:52:14.952Z"
   },
   {
    "duration": 25,
    "start_time": "2022-08-01T15:52:14.968Z"
   },
   {
    "duration": 35,
    "start_time": "2022-08-01T15:52:14.995Z"
   },
   {
    "duration": 54,
    "start_time": "2022-08-01T15:52:15.033Z"
   },
   {
    "duration": 29,
    "start_time": "2022-08-01T15:52:15.089Z"
   },
   {
    "duration": 19,
    "start_time": "2022-08-01T15:52:15.120Z"
   },
   {
    "duration": 33,
    "start_time": "2022-08-01T15:52:15.141Z"
   },
   {
    "duration": 26,
    "start_time": "2022-08-01T15:52:15.176Z"
   },
   {
    "duration": 251,
    "start_time": "2022-08-01T15:52:15.205Z"
   },
   {
    "duration": 20,
    "start_time": "2022-08-01T15:52:15.458Z"
   },
   {
    "duration": 117,
    "start_time": "2022-08-01T15:52:15.482Z"
   },
   {
    "duration": 20,
    "start_time": "2022-08-01T15:52:15.601Z"
   },
   {
    "duration": 220,
    "start_time": "2022-08-01T15:52:15.622Z"
   },
   {
    "duration": 208,
    "start_time": "2022-08-01T15:52:15.844Z"
   },
   {
    "duration": 234,
    "start_time": "2022-08-01T15:52:16.054Z"
   },
   {
    "duration": 21,
    "start_time": "2022-08-01T15:52:16.291Z"
   },
   {
    "duration": 261,
    "start_time": "2022-08-01T15:52:16.314Z"
   },
   {
    "duration": 44,
    "start_time": "2022-08-01T15:52:16.576Z"
   },
   {
    "duration": 30,
    "start_time": "2022-08-01T15:52:16.623Z"
   },
   {
    "duration": 43,
    "start_time": "2022-08-01T15:52:16.656Z"
   },
   {
    "duration": 45,
    "start_time": "2022-08-01T15:52:16.703Z"
   },
   {
    "duration": 67,
    "start_time": "2022-08-01T15:52:16.750Z"
   },
   {
    "duration": 214,
    "start_time": "2022-08-01T15:52:16.818Z"
   },
   {
    "duration": 1355,
    "start_time": "2022-08-01T15:52:17.034Z"
   },
   {
    "duration": 26,
    "start_time": "2022-08-01T15:52:18.391Z"
   },
   {
    "duration": 15,
    "start_time": "2022-08-01T15:52:18.419Z"
   },
   {
    "duration": 24,
    "start_time": "2022-08-01T15:52:18.436Z"
   },
   {
    "duration": 32,
    "start_time": "2022-08-01T15:52:18.463Z"
   },
   {
    "duration": 240,
    "start_time": "2022-08-01T15:52:18.497Z"
   },
   {
    "duration": 115,
    "start_time": "2022-08-01T15:52:51.177Z"
   },
   {
    "duration": 72,
    "start_time": "2022-08-01T15:54:04.930Z"
   },
   {
    "duration": 18,
    "start_time": "2022-08-01T15:54:15.262Z"
   },
   {
    "duration": 210,
    "start_time": "2022-08-01T15:55:05.249Z"
   },
   {
    "duration": 251,
    "start_time": "2022-08-01T15:56:41.140Z"
   },
   {
    "duration": 17,
    "start_time": "2022-08-01T16:01:08.048Z"
   },
   {
    "duration": 25,
    "start_time": "2022-08-01T16:01:25.986Z"
   },
   {
    "duration": 27,
    "start_time": "2022-08-01T16:01:56.758Z"
   },
   {
    "duration": 1307,
    "start_time": "2022-08-01T16:02:08.099Z"
   },
   {
    "duration": 98,
    "start_time": "2022-08-01T16:02:09.409Z"
   },
   {
    "duration": 17,
    "start_time": "2022-08-01T16:02:09.510Z"
   },
   {
    "duration": 35,
    "start_time": "2022-08-01T16:02:09.529Z"
   },
   {
    "duration": 21,
    "start_time": "2022-08-01T16:02:09.574Z"
   },
   {
    "duration": 22,
    "start_time": "2022-08-01T16:02:09.597Z"
   },
   {
    "duration": 9,
    "start_time": "2022-08-01T16:02:09.621Z"
   },
   {
    "duration": 19,
    "start_time": "2022-08-01T16:02:09.632Z"
   },
   {
    "duration": 51,
    "start_time": "2022-08-01T16:02:09.653Z"
   },
   {
    "duration": 33,
    "start_time": "2022-08-01T16:02:09.706Z"
   },
   {
    "duration": 29,
    "start_time": "2022-08-01T16:02:09.741Z"
   },
   {
    "duration": 19,
    "start_time": "2022-08-01T16:02:09.772Z"
   },
   {
    "duration": 33,
    "start_time": "2022-08-01T16:02:09.793Z"
   },
   {
    "duration": 229,
    "start_time": "2022-08-01T16:02:09.829Z"
   },
   {
    "duration": 22,
    "start_time": "2022-08-01T16:02:10.062Z"
   },
   {
    "duration": 189,
    "start_time": "2022-08-01T16:02:10.086Z"
   },
   {
    "duration": 27,
    "start_time": "2022-08-01T16:02:10.281Z"
   },
   {
    "duration": 214,
    "start_time": "2022-08-01T16:02:10.311Z"
   },
   {
    "duration": 265,
    "start_time": "2022-08-01T16:02:10.527Z"
   },
   {
    "duration": 270,
    "start_time": "2022-08-01T16:02:10.796Z"
   },
   {
    "duration": 21,
    "start_time": "2022-08-01T16:02:11.073Z"
   },
   {
    "duration": 227,
    "start_time": "2022-08-01T16:02:11.095Z"
   },
   {
    "duration": 126,
    "start_time": "2022-08-01T16:02:11.324Z"
   },
   {
    "duration": 0,
    "start_time": "2022-08-01T16:02:11.452Z"
   },
   {
    "duration": 0,
    "start_time": "2022-08-01T16:02:11.453Z"
   },
   {
    "duration": 0,
    "start_time": "2022-08-01T16:02:11.455Z"
   },
   {
    "duration": 0,
    "start_time": "2022-08-01T16:02:11.461Z"
   },
   {
    "duration": 0,
    "start_time": "2022-08-01T16:02:11.462Z"
   },
   {
    "duration": 0,
    "start_time": "2022-08-01T16:02:11.463Z"
   },
   {
    "duration": 0,
    "start_time": "2022-08-01T16:02:11.464Z"
   },
   {
    "duration": 0,
    "start_time": "2022-08-01T16:02:11.465Z"
   },
   {
    "duration": 0,
    "start_time": "2022-08-01T16:02:11.465Z"
   },
   {
    "duration": 0,
    "start_time": "2022-08-01T16:02:11.466Z"
   },
   {
    "duration": 0,
    "start_time": "2022-08-01T16:02:11.467Z"
   },
   {
    "duration": 0,
    "start_time": "2022-08-01T16:02:11.468Z"
   },
   {
    "duration": 236,
    "start_time": "2022-08-01T16:02:35.895Z"
   },
   {
    "duration": 9,
    "start_time": "2022-08-01T16:02:54.935Z"
   },
   {
    "duration": 3,
    "start_time": "2022-08-01T16:03:49.731Z"
   },
   {
    "duration": 125,
    "start_time": "2022-08-01T16:03:49.736Z"
   },
   {
    "duration": 15,
    "start_time": "2022-08-01T16:03:49.864Z"
   },
   {
    "duration": 64,
    "start_time": "2022-08-01T16:03:49.880Z"
   },
   {
    "duration": 32,
    "start_time": "2022-08-01T16:03:49.946Z"
   },
   {
    "duration": 50,
    "start_time": "2022-08-01T16:03:49.979Z"
   },
   {
    "duration": 13,
    "start_time": "2022-08-01T16:03:50.031Z"
   },
   {
    "duration": 7,
    "start_time": "2022-08-01T16:04:00.292Z"
   },
   {
    "duration": 115,
    "start_time": "2022-08-01T16:04:00.305Z"
   },
   {
    "duration": 15,
    "start_time": "2022-08-01T16:04:00.422Z"
   },
   {
    "duration": 89,
    "start_time": "2022-08-01T16:04:00.439Z"
   },
   {
    "duration": 19,
    "start_time": "2022-08-01T16:04:00.531Z"
   },
   {
    "duration": 24,
    "start_time": "2022-08-01T16:04:00.553Z"
   },
   {
    "duration": 61,
    "start_time": "2022-08-01T16:04:00.579Z"
   },
   {
    "duration": 23,
    "start_time": "2022-08-01T16:04:38.051Z"
   },
   {
    "duration": 17,
    "start_time": "2022-08-01T16:04:57.486Z"
   },
   {
    "duration": 15,
    "start_time": "2022-08-01T16:05:17.428Z"
   },
   {
    "duration": 25,
    "start_time": "2022-08-01T16:05:43.954Z"
   },
   {
    "duration": 15,
    "start_time": "2022-08-01T16:06:02.723Z"
   },
   {
    "duration": 12,
    "start_time": "2022-08-01T16:06:14.023Z"
   },
   {
    "duration": 38,
    "start_time": "2022-08-01T16:11:44.433Z"
   },
   {
    "duration": 34,
    "start_time": "2022-08-01T16:11:59.241Z"
   },
   {
    "duration": 267,
    "start_time": "2022-08-01T16:12:36.287Z"
   },
   {
    "duration": 29,
    "start_time": "2022-08-01T16:12:43.429Z"
   },
   {
    "duration": 1289,
    "start_time": "2022-08-01T16:12:51.448Z"
   },
   {
    "duration": 85,
    "start_time": "2022-08-01T16:12:52.739Z"
   },
   {
    "duration": 14,
    "start_time": "2022-08-01T16:12:52.825Z"
   },
   {
    "duration": 66,
    "start_time": "2022-08-01T16:12:52.841Z"
   },
   {
    "duration": 16,
    "start_time": "2022-08-01T16:12:52.917Z"
   },
   {
    "duration": 10,
    "start_time": "2022-08-01T16:12:52.935Z"
   },
   {
    "duration": 10,
    "start_time": "2022-08-01T16:12:52.947Z"
   },
   {
    "duration": 62,
    "start_time": "2022-08-01T16:12:52.958Z"
   },
   {
    "duration": 34,
    "start_time": "2022-08-01T16:12:53.022Z"
   },
   {
    "duration": 31,
    "start_time": "2022-08-01T16:12:53.059Z"
   },
   {
    "duration": 27,
    "start_time": "2022-08-01T16:12:53.098Z"
   },
   {
    "duration": 16,
    "start_time": "2022-08-01T16:12:53.127Z"
   },
   {
    "duration": 28,
    "start_time": "2022-08-01T16:12:53.145Z"
   },
   {
    "duration": 238,
    "start_time": "2022-08-01T16:12:53.176Z"
   },
   {
    "duration": 15,
    "start_time": "2022-08-01T16:12:53.416Z"
   },
   {
    "duration": 165,
    "start_time": "2022-08-01T16:12:53.433Z"
   },
   {
    "duration": 19,
    "start_time": "2022-08-01T16:12:53.599Z"
   },
   {
    "duration": 249,
    "start_time": "2022-08-01T16:12:53.620Z"
   },
   {
    "duration": 243,
    "start_time": "2022-08-01T16:12:53.871Z"
   },
   {
    "duration": 221,
    "start_time": "2022-08-01T16:12:54.116Z"
   },
   {
    "duration": 39,
    "start_time": "2022-08-01T16:12:54.339Z"
   },
   {
    "duration": 138,
    "start_time": "2022-08-01T16:12:54.380Z"
   },
   {
    "duration": 0,
    "start_time": "2022-08-01T16:12:54.520Z"
   },
   {
    "duration": 0,
    "start_time": "2022-08-01T16:12:54.523Z"
   },
   {
    "duration": 0,
    "start_time": "2022-08-01T16:12:54.524Z"
   },
   {
    "duration": 0,
    "start_time": "2022-08-01T16:12:54.525Z"
   },
   {
    "duration": 0,
    "start_time": "2022-08-01T16:12:54.526Z"
   },
   {
    "duration": 0,
    "start_time": "2022-08-01T16:12:54.528Z"
   },
   {
    "duration": 0,
    "start_time": "2022-08-01T16:12:54.530Z"
   },
   {
    "duration": 0,
    "start_time": "2022-08-01T16:12:54.531Z"
   },
   {
    "duration": 0,
    "start_time": "2022-08-01T16:12:54.532Z"
   },
   {
    "duration": 0,
    "start_time": "2022-08-01T16:12:54.533Z"
   },
   {
    "duration": 0,
    "start_time": "2022-08-01T16:12:54.534Z"
   },
   {
    "duration": 0,
    "start_time": "2022-08-01T16:12:54.536Z"
   },
   {
    "duration": 0,
    "start_time": "2022-08-01T16:12:54.536Z"
   },
   {
    "duration": 0,
    "start_time": "2022-08-01T16:12:54.537Z"
   },
   {
    "duration": 257,
    "start_time": "2022-08-01T16:13:33.558Z"
   },
   {
    "duration": 20,
    "start_time": "2022-08-01T16:14:22.091Z"
   },
   {
    "duration": 13,
    "start_time": "2022-08-01T16:14:31.145Z"
   },
   {
    "duration": 1149,
    "start_time": "2022-08-01T16:14:36.392Z"
   },
   {
    "duration": 96,
    "start_time": "2022-08-01T16:14:37.543Z"
   },
   {
    "duration": 12,
    "start_time": "2022-08-01T16:14:37.641Z"
   },
   {
    "duration": 38,
    "start_time": "2022-08-01T16:14:37.655Z"
   },
   {
    "duration": 13,
    "start_time": "2022-08-01T16:14:37.696Z"
   },
   {
    "duration": 13,
    "start_time": "2022-08-01T16:14:37.711Z"
   },
   {
    "duration": 7,
    "start_time": "2022-08-01T16:14:37.726Z"
   },
   {
    "duration": 16,
    "start_time": "2022-08-01T16:14:37.735Z"
   },
   {
    "duration": 39,
    "start_time": "2022-08-01T16:14:37.761Z"
   },
   {
    "duration": 18,
    "start_time": "2022-08-01T16:14:37.802Z"
   },
   {
    "duration": 14,
    "start_time": "2022-08-01T16:14:37.822Z"
   },
   {
    "duration": 42,
    "start_time": "2022-08-01T16:14:37.838Z"
   },
   {
    "duration": 24,
    "start_time": "2022-08-01T16:14:37.884Z"
   },
   {
    "duration": 208,
    "start_time": "2022-08-01T16:14:37.911Z"
   },
   {
    "duration": 14,
    "start_time": "2022-08-01T16:14:38.121Z"
   },
   {
    "duration": 118,
    "start_time": "2022-08-01T16:14:38.137Z"
   },
   {
    "duration": 37,
    "start_time": "2022-08-01T16:14:38.257Z"
   },
   {
    "duration": 205,
    "start_time": "2022-08-01T16:14:38.296Z"
   },
   {
    "duration": 196,
    "start_time": "2022-08-01T16:14:38.502Z"
   },
   {
    "duration": 213,
    "start_time": "2022-08-01T16:14:38.699Z"
   },
   {
    "duration": 21,
    "start_time": "2022-08-01T16:14:38.914Z"
   },
   {
    "duration": 158,
    "start_time": "2022-08-01T16:14:38.937Z"
   },
   {
    "duration": 0,
    "start_time": "2022-08-01T16:14:39.097Z"
   },
   {
    "duration": 0,
    "start_time": "2022-08-01T16:14:39.099Z"
   },
   {
    "duration": 0,
    "start_time": "2022-08-01T16:14:39.100Z"
   },
   {
    "duration": 0,
    "start_time": "2022-08-01T16:14:39.101Z"
   },
   {
    "duration": 0,
    "start_time": "2022-08-01T16:14:39.103Z"
   },
   {
    "duration": 0,
    "start_time": "2022-08-01T16:14:39.104Z"
   },
   {
    "duration": 1,
    "start_time": "2022-08-01T16:14:39.105Z"
   },
   {
    "duration": 0,
    "start_time": "2022-08-01T16:14:39.107Z"
   },
   {
    "duration": 0,
    "start_time": "2022-08-01T16:14:39.108Z"
   },
   {
    "duration": 0,
    "start_time": "2022-08-01T16:14:39.110Z"
   },
   {
    "duration": 0,
    "start_time": "2022-08-01T16:14:39.111Z"
   },
   {
    "duration": 0,
    "start_time": "2022-08-01T16:14:39.113Z"
   },
   {
    "duration": 0,
    "start_time": "2022-08-01T16:14:39.114Z"
   },
   {
    "duration": 0,
    "start_time": "2022-08-01T16:14:39.116Z"
   },
   {
    "duration": 35,
    "start_time": "2022-08-01T16:15:05.389Z"
   },
   {
    "duration": 17,
    "start_time": "2022-08-01T16:15:31.808Z"
   },
   {
    "duration": 32,
    "start_time": "2022-08-01T16:15:41.087Z"
   },
   {
    "duration": 283,
    "start_time": "2022-08-01T16:15:43.509Z"
   },
   {
    "duration": 360,
    "start_time": "2022-08-01T16:16:18.493Z"
   },
   {
    "duration": 312,
    "start_time": "2022-08-01T16:16:25.422Z"
   },
   {
    "duration": 1455,
    "start_time": "2022-08-01T16:20:08.086Z"
   },
   {
    "duration": 111,
    "start_time": "2022-08-01T16:20:09.543Z"
   },
   {
    "duration": 19,
    "start_time": "2022-08-01T16:20:09.656Z"
   },
   {
    "duration": 68,
    "start_time": "2022-08-01T16:20:09.680Z"
   },
   {
    "duration": 31,
    "start_time": "2022-08-01T16:20:09.751Z"
   },
   {
    "duration": 36,
    "start_time": "2022-08-01T16:20:09.791Z"
   },
   {
    "duration": 6,
    "start_time": "2022-08-01T16:20:09.829Z"
   },
   {
    "duration": 16,
    "start_time": "2022-08-01T16:20:09.837Z"
   },
   {
    "duration": 70,
    "start_time": "2022-08-01T16:20:09.854Z"
   },
   {
    "duration": 20,
    "start_time": "2022-08-01T16:20:09.926Z"
   },
   {
    "duration": 15,
    "start_time": "2022-08-01T16:20:09.948Z"
   },
   {
    "duration": 53,
    "start_time": "2022-08-01T16:20:09.965Z"
   },
   {
    "duration": 30,
    "start_time": "2022-08-01T16:20:10.020Z"
   },
   {
    "duration": 284,
    "start_time": "2022-08-01T16:20:10.053Z"
   },
   {
    "duration": 45,
    "start_time": "2022-08-01T16:20:10.339Z"
   },
   {
    "duration": 127,
    "start_time": "2022-08-01T16:20:10.387Z"
   },
   {
    "duration": 19,
    "start_time": "2022-08-01T16:20:10.516Z"
   },
   {
    "duration": 269,
    "start_time": "2022-08-01T16:20:10.537Z"
   },
   {
    "duration": 268,
    "start_time": "2022-08-01T16:20:10.814Z"
   },
   {
    "duration": 218,
    "start_time": "2022-08-01T16:20:11.084Z"
   },
   {
    "duration": 25,
    "start_time": "2022-08-01T16:20:11.307Z"
   },
   {
    "duration": 317,
    "start_time": "2022-08-01T16:20:11.334Z"
   },
   {
    "duration": 58,
    "start_time": "2022-08-01T16:20:11.653Z"
   },
   {
    "duration": 14,
    "start_time": "2022-08-01T16:20:11.713Z"
   },
   {
    "duration": 13,
    "start_time": "2022-08-01T16:20:11.728Z"
   },
   {
    "duration": 5,
    "start_time": "2022-08-01T16:20:11.743Z"
   },
   {
    "duration": 53,
    "start_time": "2022-08-01T16:20:11.750Z"
   },
   {
    "duration": 257,
    "start_time": "2022-08-01T16:20:11.805Z"
   },
   {
    "duration": 1148,
    "start_time": "2022-08-01T16:20:12.071Z"
   },
   {
    "duration": 21,
    "start_time": "2022-08-01T16:20:13.221Z"
   },
   {
    "duration": 17,
    "start_time": "2022-08-01T16:20:13.243Z"
   },
   {
    "duration": 20,
    "start_time": "2022-08-01T16:20:13.266Z"
   },
   {
    "duration": 45,
    "start_time": "2022-08-01T16:20:13.288Z"
   },
   {
    "duration": 277,
    "start_time": "2022-08-01T16:20:13.335Z"
   },
   {
    "duration": 10,
    "start_time": "2022-08-01T16:21:49.603Z"
   },
   {
    "duration": 139,
    "start_time": "2022-08-01T16:24:11.490Z"
   },
   {
    "duration": 21,
    "start_time": "2022-08-01T16:24:42.508Z"
   },
   {
    "duration": 1267,
    "start_time": "2022-08-01T16:26:09.542Z"
   },
   {
    "duration": 82,
    "start_time": "2022-08-01T16:26:10.816Z"
   },
   {
    "duration": 17,
    "start_time": "2022-08-01T16:26:10.900Z"
   },
   {
    "duration": 24,
    "start_time": "2022-08-01T16:26:10.919Z"
   },
   {
    "duration": 37,
    "start_time": "2022-08-01T16:26:10.945Z"
   },
   {
    "duration": 26,
    "start_time": "2022-08-01T16:26:10.990Z"
   },
   {
    "duration": 10,
    "start_time": "2022-08-01T16:26:11.018Z"
   },
   {
    "duration": 21,
    "start_time": "2022-08-01T16:26:11.029Z"
   },
   {
    "duration": 46,
    "start_time": "2022-08-01T16:26:11.051Z"
   },
   {
    "duration": 29,
    "start_time": "2022-08-01T16:26:11.100Z"
   },
   {
    "duration": 13,
    "start_time": "2022-08-01T16:26:11.131Z"
   },
   {
    "duration": 15,
    "start_time": "2022-08-01T16:26:11.145Z"
   },
   {
    "duration": 22,
    "start_time": "2022-08-01T16:26:11.161Z"
   },
   {
    "duration": 237,
    "start_time": "2022-08-01T16:26:11.193Z"
   },
   {
    "duration": 14,
    "start_time": "2022-08-01T16:26:11.431Z"
   },
   {
    "duration": 144,
    "start_time": "2022-08-01T16:26:11.446Z"
   },
   {
    "duration": 21,
    "start_time": "2022-08-01T16:26:11.596Z"
   },
   {
    "duration": 208,
    "start_time": "2022-08-01T16:26:11.619Z"
   },
   {
    "duration": 228,
    "start_time": "2022-08-01T16:26:11.828Z"
   },
   {
    "duration": 207,
    "start_time": "2022-08-01T16:26:12.058Z"
   },
   {
    "duration": 33,
    "start_time": "2022-08-01T16:26:12.273Z"
   },
   {
    "duration": 305,
    "start_time": "2022-08-01T16:26:12.308Z"
   },
   {
    "duration": 30,
    "start_time": "2022-08-01T16:26:12.615Z"
   },
   {
    "duration": 17,
    "start_time": "2022-08-01T16:26:12.647Z"
   },
   {
    "duration": 76,
    "start_time": "2022-08-01T16:26:12.665Z"
   },
   {
    "duration": 8,
    "start_time": "2022-08-01T16:26:12.743Z"
   },
   {
    "duration": 32,
    "start_time": "2022-08-01T16:26:12.753Z"
   },
   {
    "duration": 243,
    "start_time": "2022-08-01T16:26:12.789Z"
   },
   {
    "duration": 1114,
    "start_time": "2022-08-01T16:26:13.034Z"
   },
   {
    "duration": 30,
    "start_time": "2022-08-01T16:26:14.150Z"
   },
   {
    "duration": 32,
    "start_time": "2022-08-01T16:26:14.186Z"
   },
   {
    "duration": 17,
    "start_time": "2022-08-01T16:26:14.220Z"
   },
   {
    "duration": 17,
    "start_time": "2022-08-01T16:26:14.239Z"
   },
   {
    "duration": 48,
    "start_time": "2022-08-01T16:26:14.257Z"
   },
   {
    "duration": 285,
    "start_time": "2022-08-01T16:26:14.311Z"
   },
   {
    "duration": 125,
    "start_time": "2022-08-01T16:26:33.621Z"
   },
   {
    "duration": 1335,
    "start_time": "2022-08-01T16:26:49.760Z"
   },
   {
    "duration": 75,
    "start_time": "2022-08-01T16:26:51.101Z"
   },
   {
    "duration": 17,
    "start_time": "2022-08-01T16:26:51.180Z"
   },
   {
    "duration": 39,
    "start_time": "2022-08-01T16:26:51.200Z"
   },
   {
    "duration": 13,
    "start_time": "2022-08-01T16:26:51.241Z"
   },
   {
    "duration": 32,
    "start_time": "2022-08-01T16:26:51.256Z"
   },
   {
    "duration": 20,
    "start_time": "2022-08-01T16:26:51.292Z"
   },
   {
    "duration": 13,
    "start_time": "2022-08-01T16:26:51.314Z"
   },
   {
    "duration": 24,
    "start_time": "2022-08-01T16:26:51.328Z"
   },
   {
    "duration": 35,
    "start_time": "2022-08-01T16:26:51.354Z"
   },
   {
    "duration": 24,
    "start_time": "2022-08-01T16:26:51.400Z"
   },
   {
    "duration": 15,
    "start_time": "2022-08-01T16:26:51.426Z"
   },
   {
    "duration": 33,
    "start_time": "2022-08-01T16:26:51.443Z"
   },
   {
    "duration": 245,
    "start_time": "2022-08-01T16:26:51.483Z"
   },
   {
    "duration": 14,
    "start_time": "2022-08-01T16:26:51.729Z"
   },
   {
    "duration": 134,
    "start_time": "2022-08-01T16:26:51.744Z"
   },
   {
    "duration": 22,
    "start_time": "2022-08-01T16:26:51.880Z"
   },
   {
    "duration": 227,
    "start_time": "2022-08-01T16:26:51.904Z"
   },
   {
    "duration": 216,
    "start_time": "2022-08-01T16:26:52.133Z"
   },
   {
    "duration": 213,
    "start_time": "2022-08-01T16:26:52.351Z"
   },
   {
    "duration": 33,
    "start_time": "2022-08-01T16:26:52.567Z"
   },
   {
    "duration": 319,
    "start_time": "2022-08-01T16:26:52.602Z"
   },
   {
    "duration": 39,
    "start_time": "2022-08-01T16:26:52.923Z"
   },
   {
    "duration": 42,
    "start_time": "2022-08-01T16:26:52.970Z"
   },
   {
    "duration": 13,
    "start_time": "2022-08-01T16:26:53.014Z"
   },
   {
    "duration": 5,
    "start_time": "2022-08-01T16:26:53.029Z"
   },
   {
    "duration": 20,
    "start_time": "2022-08-01T16:26:53.036Z"
   },
   {
    "duration": 250,
    "start_time": "2022-08-01T16:26:53.060Z"
   },
   {
    "duration": 774,
    "start_time": "2022-08-01T16:26:53.312Z"
   },
   {
    "duration": 32,
    "start_time": "2022-08-01T16:26:54.088Z"
   },
   {
    "duration": 11,
    "start_time": "2022-08-01T16:26:54.122Z"
   },
   {
    "duration": 12,
    "start_time": "2022-08-01T16:26:54.134Z"
   },
   {
    "duration": 21,
    "start_time": "2022-08-01T16:26:54.148Z"
   },
   {
    "duration": 49,
    "start_time": "2022-08-01T16:26:54.170Z"
   },
   {
    "duration": 254,
    "start_time": "2022-08-01T16:26:54.220Z"
   },
   {
    "duration": 22,
    "start_time": "2022-08-01T16:28:13.105Z"
   },
   {
    "duration": 26,
    "start_time": "2022-08-01T16:28:17.585Z"
   },
   {
    "duration": 15,
    "start_time": "2022-08-01T16:29:41.543Z"
   }
  ],
  "kernelspec": {
   "display_name": "Python 3 (ipykernel)",
   "language": "python",
   "name": "python3"
  },
  "language_info": {
   "codemirror_mode": {
    "name": "ipython",
    "version": 3
   },
   "file_extension": ".py",
   "mimetype": "text/x-python",
   "name": "python",
   "nbconvert_exporter": "python",
   "pygments_lexer": "ipython3",
   "version": "3.9.7"
  },
  "toc": {
   "base_numbering": 1,
   "nav_menu": {},
   "number_sections": true,
   "sideBar": true,
   "skip_h1_title": true,
   "title_cell": "Table of Contents",
   "title_sidebar": "Contents",
   "toc_cell": false,
   "toc_position": {
    "height": "calc(100% - 180px)",
    "left": "10px",
    "top": "150px",
    "width": "238.398px"
   },
   "toc_section_display": true,
   "toc_window_display": true
  }
 },
 "nbformat": 4,
 "nbformat_minor": 2
}
