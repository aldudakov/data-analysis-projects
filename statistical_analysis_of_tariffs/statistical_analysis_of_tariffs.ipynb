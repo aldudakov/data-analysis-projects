{
 "cells": [
  {
   "cell_type": "markdown",
   "metadata": {},
   "source": [
    "# Статистический анализ тарифов"
   ]
  },
  {
   "cell_type": "markdown",
   "metadata": {},
   "source": [
    "**Цель исследования** – выяснить, какой из двух тарифов (\"Смарт\" или \"Ультра\") лучше.\n",
    "\n",
    "**Входные данные** представляют собой информацию о пользователях, звонках, сообщениях, интернет-сессиях и тарифах.\n",
    "\n",
    "**План исследования**:\n",
    "- открытие файлов с данными и ознакомление с ними;\n",
    "- предобработка данных (приведение их к нужным типам и исправление ошибок, создание единого сводного датафрейма);\n",
    "- анализ данных;\n",
    "- проверка гипотез (гипотезы о равенстве средней выручке тарифов \"Ультра\" и \"Смарт\" и гипотезы о равенстве средней выручке пользователей из Москвы и других городов)."
   ]
  },
  {
   "cell_type": "markdown",
   "metadata": {},
   "source": [
    "### Описание тарифов\n",
    "#### Тариф «Смарт»\n",
    "*Ежемесячная плата*: 550 рублей\n",
    "\n",
    "Включено 500 минут разговора, 50 сообщений и 15 Гб интернет-трафика\n",
    "\n",
    "##### Стоимость услуг сверх тарифного пакета:\n",
    "\n",
    "*минута разговора*: 3 рубля\n",
    "\n",
    "*сообщение*: 3 рубля\n",
    "\n",
    "*1 Гб интернет-трафика*: 200 рублей\n",
    "#### Тариф «Ультра»\n",
    "*Ежемесячная плата*: 1950 рублей\n",
    "\n",
    "Включено 3000 минут разговора, 1000 сообщений и 30 Гб интернет-трафика\n",
    "\n",
    "##### Стоимость услуг сверх тарифного пакета:\n",
    "*минута разговора*: 1 рубль\n",
    "\n",
    "*сообщение*: 1 рубль\n",
    "\n",
    "*1 Гб интернет-трафика*: 150 рублей\n",
    "\n",
    "\n",
    "*Примечание*: «Мегалайн» всегда округляет секунды до минут, а мегабайты — до гигабайт. Каждый звонок округляется отдельно: даже если он длился всего 1 секунду, будет засчитан как 1 минута.\n",
    "Для веб-трафика отдельные сессии не считаются. Вместо этого общая сумма за месяц округляется в бо́льшую сторону. Если абонент использует 1025 мегабайт в этом месяце, с него возьмут плату за 2 гигабайта."
   ]
  },
  {
   "cell_type": "markdown",
   "metadata": {},
   "source": [
    "## Открытие файла с данными и ознакомление с ним"
   ]
  },
  {
   "cell_type": "markdown",
   "metadata": {},
   "source": [
    "Откроем файлы и ознакомися с ними."
   ]
  },
  {
   "cell_type": "code",
   "execution_count": 1,
   "metadata": {},
   "outputs": [],
   "source": [
    "# import 'pandas', 'numpy', 'matplotlib' 'scipy.stats' libraries\n",
    "import pandas as pd\n",
    "import numpy as np\n",
    "import matplotlib as plt\n",
    "from scipy import stats as st"
   ]
  },
  {
   "cell_type": "code",
   "execution_count": 2,
   "metadata": {},
   "outputs": [],
   "source": [
    "# open files\n",
    "path = '/Users/aleksandrdudakov/Downloads'\n",
    "calls_data = pd.read_csv(path + '/calls.csv')\n",
    "internet_data = pd.read_csv(path + '/internet.csv')\n",
    "messages_data = pd.read_csv(path + '/messages.csv')\n",
    "tariffs_data = pd.read_csv(path + '/tariffs.csv')\n",
    "users_data = pd.read_csv(path + '/users.csv')"
   ]
  },
  {
   "cell_type": "code",
   "execution_count": 3,
   "metadata": {},
   "outputs": [
    {
     "data": {
      "text/html": [
       "<div>\n",
       "<style scoped>\n",
       "    .dataframe tbody tr th:only-of-type {\n",
       "        vertical-align: middle;\n",
       "    }\n",
       "\n",
       "    .dataframe tbody tr th {\n",
       "        vertical-align: top;\n",
       "    }\n",
       "\n",
       "    .dataframe thead th {\n",
       "        text-align: right;\n",
       "    }\n",
       "</style>\n",
       "<table border=\"1\" class=\"dataframe\">\n",
       "  <thead>\n",
       "    <tr style=\"text-align: right;\">\n",
       "      <th></th>\n",
       "      <th>id</th>\n",
       "      <th>call_date</th>\n",
       "      <th>duration</th>\n",
       "      <th>user_id</th>\n",
       "    </tr>\n",
       "  </thead>\n",
       "  <tbody>\n",
       "    <tr>\n",
       "      <th>0</th>\n",
       "      <td>1000_0</td>\n",
       "      <td>2018-07-25</td>\n",
       "      <td>0.00</td>\n",
       "      <td>1000</td>\n",
       "    </tr>\n",
       "    <tr>\n",
       "      <th>1</th>\n",
       "      <td>1000_1</td>\n",
       "      <td>2018-08-17</td>\n",
       "      <td>0.00</td>\n",
       "      <td>1000</td>\n",
       "    </tr>\n",
       "    <tr>\n",
       "      <th>2</th>\n",
       "      <td>1000_2</td>\n",
       "      <td>2018-06-11</td>\n",
       "      <td>2.85</td>\n",
       "      <td>1000</td>\n",
       "    </tr>\n",
       "    <tr>\n",
       "      <th>3</th>\n",
       "      <td>1000_3</td>\n",
       "      <td>2018-09-21</td>\n",
       "      <td>13.80</td>\n",
       "      <td>1000</td>\n",
       "    </tr>\n",
       "    <tr>\n",
       "      <th>4</th>\n",
       "      <td>1000_4</td>\n",
       "      <td>2018-12-15</td>\n",
       "      <td>5.18</td>\n",
       "      <td>1000</td>\n",
       "    </tr>\n",
       "  </tbody>\n",
       "</table>\n",
       "</div>"
      ],
      "text/plain": [
       "       id   call_date  duration  user_id\n",
       "0  1000_0  2018-07-25      0.00     1000\n",
       "1  1000_1  2018-08-17      0.00     1000\n",
       "2  1000_2  2018-06-11      2.85     1000\n",
       "3  1000_3  2018-09-21     13.80     1000\n",
       "4  1000_4  2018-12-15      5.18     1000"
      ]
     },
     "metadata": {},
     "output_type": "display_data"
    },
    {
     "name": "stdout",
     "output_type": "stream",
     "text": [
      "<class 'pandas.core.frame.DataFrame'>\n",
      "RangeIndex: 202607 entries, 0 to 202606\n",
      "Data columns (total 4 columns):\n",
      " #   Column     Non-Null Count   Dtype  \n",
      "---  ------     --------------   -----  \n",
      " 0   id         202607 non-null  object \n",
      " 1   call_date  202607 non-null  object \n",
      " 2   duration   202607 non-null  float64\n",
      " 3   user_id    202607 non-null  int64  \n",
      "dtypes: float64(1), int64(1), object(2)\n",
      "memory usage: 6.2+ MB\n"
     ]
    },
    {
     "data": {
      "text/html": [
       "<div>\n",
       "<style scoped>\n",
       "    .dataframe tbody tr th:only-of-type {\n",
       "        vertical-align: middle;\n",
       "    }\n",
       "\n",
       "    .dataframe tbody tr th {\n",
       "        vertical-align: top;\n",
       "    }\n",
       "\n",
       "    .dataframe thead th {\n",
       "        text-align: right;\n",
       "    }\n",
       "</style>\n",
       "<table border=\"1\" class=\"dataframe\">\n",
       "  <thead>\n",
       "    <tr style=\"text-align: right;\">\n",
       "      <th></th>\n",
       "      <th>duration</th>\n",
       "      <th>user_id</th>\n",
       "    </tr>\n",
       "  </thead>\n",
       "  <tbody>\n",
       "    <tr>\n",
       "      <th>count</th>\n",
       "      <td>202607.000000</td>\n",
       "      <td>202607.000000</td>\n",
       "    </tr>\n",
       "    <tr>\n",
       "      <th>mean</th>\n",
       "      <td>6.755887</td>\n",
       "      <td>1253.940619</td>\n",
       "    </tr>\n",
       "    <tr>\n",
       "      <th>std</th>\n",
       "      <td>5.843365</td>\n",
       "      <td>144.722751</td>\n",
       "    </tr>\n",
       "    <tr>\n",
       "      <th>min</th>\n",
       "      <td>0.000000</td>\n",
       "      <td>1000.000000</td>\n",
       "    </tr>\n",
       "    <tr>\n",
       "      <th>25%</th>\n",
       "      <td>1.300000</td>\n",
       "      <td>1126.000000</td>\n",
       "    </tr>\n",
       "    <tr>\n",
       "      <th>50%</th>\n",
       "      <td>6.000000</td>\n",
       "      <td>1260.000000</td>\n",
       "    </tr>\n",
       "    <tr>\n",
       "      <th>75%</th>\n",
       "      <td>10.700000</td>\n",
       "      <td>1379.000000</td>\n",
       "    </tr>\n",
       "    <tr>\n",
       "      <th>max</th>\n",
       "      <td>38.000000</td>\n",
       "      <td>1499.000000</td>\n",
       "    </tr>\n",
       "  </tbody>\n",
       "</table>\n",
       "</div>"
      ],
      "text/plain": [
       "            duration        user_id\n",
       "count  202607.000000  202607.000000\n",
       "mean        6.755887    1253.940619\n",
       "std         5.843365     144.722751\n",
       "min         0.000000    1000.000000\n",
       "25%         1.300000    1126.000000\n",
       "50%         6.000000    1260.000000\n",
       "75%        10.700000    1379.000000\n",
       "max        38.000000    1499.000000"
      ]
     },
     "execution_count": 3,
     "metadata": {},
     "output_type": "execute_result"
    }
   ],
   "source": [
    "display(calls_data.head())\n",
    "calls_data.info()\n",
    "calls_data.describe()"
   ]
  },
  {
   "cell_type": "markdown",
   "metadata": {},
   "source": [
    "В датафрейме `calls_data` нужно изменить тип столбца `call_date` на 'datetime'."
   ]
  },
  {
   "cell_type": "code",
   "execution_count": 4,
   "metadata": {},
   "outputs": [
    {
     "data": {
      "text/html": [
       "<div>\n",
       "<style scoped>\n",
       "    .dataframe tbody tr th:only-of-type {\n",
       "        vertical-align: middle;\n",
       "    }\n",
       "\n",
       "    .dataframe tbody tr th {\n",
       "        vertical-align: top;\n",
       "    }\n",
       "\n",
       "    .dataframe thead th {\n",
       "        text-align: right;\n",
       "    }\n",
       "</style>\n",
       "<table border=\"1\" class=\"dataframe\">\n",
       "  <thead>\n",
       "    <tr style=\"text-align: right;\">\n",
       "      <th></th>\n",
       "      <th>Unnamed: 0</th>\n",
       "      <th>id</th>\n",
       "      <th>mb_used</th>\n",
       "      <th>session_date</th>\n",
       "      <th>user_id</th>\n",
       "    </tr>\n",
       "  </thead>\n",
       "  <tbody>\n",
       "    <tr>\n",
       "      <th>0</th>\n",
       "      <td>0</td>\n",
       "      <td>1000_0</td>\n",
       "      <td>112.95</td>\n",
       "      <td>2018-11-25</td>\n",
       "      <td>1000</td>\n",
       "    </tr>\n",
       "    <tr>\n",
       "      <th>1</th>\n",
       "      <td>1</td>\n",
       "      <td>1000_1</td>\n",
       "      <td>1052.81</td>\n",
       "      <td>2018-09-07</td>\n",
       "      <td>1000</td>\n",
       "    </tr>\n",
       "    <tr>\n",
       "      <th>2</th>\n",
       "      <td>2</td>\n",
       "      <td>1000_2</td>\n",
       "      <td>1197.26</td>\n",
       "      <td>2018-06-25</td>\n",
       "      <td>1000</td>\n",
       "    </tr>\n",
       "    <tr>\n",
       "      <th>3</th>\n",
       "      <td>3</td>\n",
       "      <td>1000_3</td>\n",
       "      <td>550.27</td>\n",
       "      <td>2018-08-22</td>\n",
       "      <td>1000</td>\n",
       "    </tr>\n",
       "    <tr>\n",
       "      <th>4</th>\n",
       "      <td>4</td>\n",
       "      <td>1000_4</td>\n",
       "      <td>302.56</td>\n",
       "      <td>2018-09-24</td>\n",
       "      <td>1000</td>\n",
       "    </tr>\n",
       "  </tbody>\n",
       "</table>\n",
       "</div>"
      ],
      "text/plain": [
       "   Unnamed: 0      id  mb_used session_date  user_id\n",
       "0           0  1000_0   112.95   2018-11-25     1000\n",
       "1           1  1000_1  1052.81   2018-09-07     1000\n",
       "2           2  1000_2  1197.26   2018-06-25     1000\n",
       "3           3  1000_3   550.27   2018-08-22     1000\n",
       "4           4  1000_4   302.56   2018-09-24     1000"
      ]
     },
     "metadata": {},
     "output_type": "display_data"
    },
    {
     "name": "stdout",
     "output_type": "stream",
     "text": [
      "<class 'pandas.core.frame.DataFrame'>\n",
      "RangeIndex: 149396 entries, 0 to 149395\n",
      "Data columns (total 5 columns):\n",
      " #   Column        Non-Null Count   Dtype  \n",
      "---  ------        --------------   -----  \n",
      " 0   Unnamed: 0    149396 non-null  int64  \n",
      " 1   id            149396 non-null  object \n",
      " 2   mb_used       149396 non-null  float64\n",
      " 3   session_date  149396 non-null  object \n",
      " 4   user_id       149396 non-null  int64  \n",
      "dtypes: float64(1), int64(2), object(2)\n",
      "memory usage: 5.7+ MB\n"
     ]
    },
    {
     "data": {
      "text/html": [
       "<div>\n",
       "<style scoped>\n",
       "    .dataframe tbody tr th:only-of-type {\n",
       "        vertical-align: middle;\n",
       "    }\n",
       "\n",
       "    .dataframe tbody tr th {\n",
       "        vertical-align: top;\n",
       "    }\n",
       "\n",
       "    .dataframe thead th {\n",
       "        text-align: right;\n",
       "    }\n",
       "</style>\n",
       "<table border=\"1\" class=\"dataframe\">\n",
       "  <thead>\n",
       "    <tr style=\"text-align: right;\">\n",
       "      <th></th>\n",
       "      <th>Unnamed: 0</th>\n",
       "      <th>mb_used</th>\n",
       "      <th>user_id</th>\n",
       "    </tr>\n",
       "  </thead>\n",
       "  <tbody>\n",
       "    <tr>\n",
       "      <th>count</th>\n",
       "      <td>149396.000000</td>\n",
       "      <td>149396.000000</td>\n",
       "      <td>149396.000000</td>\n",
       "    </tr>\n",
       "    <tr>\n",
       "      <th>mean</th>\n",
       "      <td>74697.500000</td>\n",
       "      <td>370.192426</td>\n",
       "      <td>1252.099842</td>\n",
       "    </tr>\n",
       "    <tr>\n",
       "      <th>std</th>\n",
       "      <td>43127.054745</td>\n",
       "      <td>278.300951</td>\n",
       "      <td>144.050823</td>\n",
       "    </tr>\n",
       "    <tr>\n",
       "      <th>min</th>\n",
       "      <td>0.000000</td>\n",
       "      <td>0.000000</td>\n",
       "      <td>1000.000000</td>\n",
       "    </tr>\n",
       "    <tr>\n",
       "      <th>25%</th>\n",
       "      <td>37348.750000</td>\n",
       "      <td>138.187500</td>\n",
       "      <td>1130.000000</td>\n",
       "    </tr>\n",
       "    <tr>\n",
       "      <th>50%</th>\n",
       "      <td>74697.500000</td>\n",
       "      <td>348.015000</td>\n",
       "      <td>1251.000000</td>\n",
       "    </tr>\n",
       "    <tr>\n",
       "      <th>75%</th>\n",
       "      <td>112046.250000</td>\n",
       "      <td>559.552500</td>\n",
       "      <td>1380.000000</td>\n",
       "    </tr>\n",
       "    <tr>\n",
       "      <th>max</th>\n",
       "      <td>149395.000000</td>\n",
       "      <td>1724.830000</td>\n",
       "      <td>1499.000000</td>\n",
       "    </tr>\n",
       "  </tbody>\n",
       "</table>\n",
       "</div>"
      ],
      "text/plain": [
       "          Unnamed: 0        mb_used        user_id\n",
       "count  149396.000000  149396.000000  149396.000000\n",
       "mean    74697.500000     370.192426    1252.099842\n",
       "std     43127.054745     278.300951     144.050823\n",
       "min         0.000000       0.000000    1000.000000\n",
       "25%     37348.750000     138.187500    1130.000000\n",
       "50%     74697.500000     348.015000    1251.000000\n",
       "75%    112046.250000     559.552500    1380.000000\n",
       "max    149395.000000    1724.830000    1499.000000"
      ]
     },
     "execution_count": 4,
     "metadata": {},
     "output_type": "execute_result"
    }
   ],
   "source": [
    "display(internet_data.head())\n",
    "internet_data.info()\n",
    "internet_data.describe()"
   ]
  },
  {
   "cell_type": "markdown",
   "metadata": {},
   "source": [
    "В датафрейме `internet_data` нужно удалить столбец `Unnamed: 0` (видимо, этот столбец повторяет нумерцию строк), а также изменить тип столбца `session_date` на 'datetime'."
   ]
  },
  {
   "cell_type": "code",
   "execution_count": 5,
   "metadata": {},
   "outputs": [
    {
     "data": {
      "text/html": [
       "<div>\n",
       "<style scoped>\n",
       "    .dataframe tbody tr th:only-of-type {\n",
       "        vertical-align: middle;\n",
       "    }\n",
       "\n",
       "    .dataframe tbody tr th {\n",
       "        vertical-align: top;\n",
       "    }\n",
       "\n",
       "    .dataframe thead th {\n",
       "        text-align: right;\n",
       "    }\n",
       "</style>\n",
       "<table border=\"1\" class=\"dataframe\">\n",
       "  <thead>\n",
       "    <tr style=\"text-align: right;\">\n",
       "      <th></th>\n",
       "      <th>id</th>\n",
       "      <th>message_date</th>\n",
       "      <th>user_id</th>\n",
       "    </tr>\n",
       "  </thead>\n",
       "  <tbody>\n",
       "    <tr>\n",
       "      <th>0</th>\n",
       "      <td>1000_0</td>\n",
       "      <td>2018-06-27</td>\n",
       "      <td>1000</td>\n",
       "    </tr>\n",
       "    <tr>\n",
       "      <th>1</th>\n",
       "      <td>1000_1</td>\n",
       "      <td>2018-10-08</td>\n",
       "      <td>1000</td>\n",
       "    </tr>\n",
       "    <tr>\n",
       "      <th>2</th>\n",
       "      <td>1000_2</td>\n",
       "      <td>2018-08-04</td>\n",
       "      <td>1000</td>\n",
       "    </tr>\n",
       "    <tr>\n",
       "      <th>3</th>\n",
       "      <td>1000_3</td>\n",
       "      <td>2018-06-16</td>\n",
       "      <td>1000</td>\n",
       "    </tr>\n",
       "    <tr>\n",
       "      <th>4</th>\n",
       "      <td>1000_4</td>\n",
       "      <td>2018-12-05</td>\n",
       "      <td>1000</td>\n",
       "    </tr>\n",
       "  </tbody>\n",
       "</table>\n",
       "</div>"
      ],
      "text/plain": [
       "       id message_date  user_id\n",
       "0  1000_0   2018-06-27     1000\n",
       "1  1000_1   2018-10-08     1000\n",
       "2  1000_2   2018-08-04     1000\n",
       "3  1000_3   2018-06-16     1000\n",
       "4  1000_4   2018-12-05     1000"
      ]
     },
     "metadata": {},
     "output_type": "display_data"
    },
    {
     "name": "stdout",
     "output_type": "stream",
     "text": [
      "<class 'pandas.core.frame.DataFrame'>\n",
      "RangeIndex: 123036 entries, 0 to 123035\n",
      "Data columns (total 3 columns):\n",
      " #   Column        Non-Null Count   Dtype \n",
      "---  ------        --------------   ----- \n",
      " 0   id            123036 non-null  object\n",
      " 1   message_date  123036 non-null  object\n",
      " 2   user_id       123036 non-null  int64 \n",
      "dtypes: int64(1), object(2)\n",
      "memory usage: 2.8+ MB\n"
     ]
    },
    {
     "data": {
      "text/html": [
       "<div>\n",
       "<style scoped>\n",
       "    .dataframe tbody tr th:only-of-type {\n",
       "        vertical-align: middle;\n",
       "    }\n",
       "\n",
       "    .dataframe tbody tr th {\n",
       "        vertical-align: top;\n",
       "    }\n",
       "\n",
       "    .dataframe thead th {\n",
       "        text-align: right;\n",
       "    }\n",
       "</style>\n",
       "<table border=\"1\" class=\"dataframe\">\n",
       "  <thead>\n",
       "    <tr style=\"text-align: right;\">\n",
       "      <th></th>\n",
       "      <th>user_id</th>\n",
       "    </tr>\n",
       "  </thead>\n",
       "  <tbody>\n",
       "    <tr>\n",
       "      <th>count</th>\n",
       "      <td>123036.000000</td>\n",
       "    </tr>\n",
       "    <tr>\n",
       "      <th>mean</th>\n",
       "      <td>1256.989410</td>\n",
       "    </tr>\n",
       "    <tr>\n",
       "      <th>std</th>\n",
       "      <td>143.523967</td>\n",
       "    </tr>\n",
       "    <tr>\n",
       "      <th>min</th>\n",
       "      <td>1000.000000</td>\n",
       "    </tr>\n",
       "    <tr>\n",
       "      <th>25%</th>\n",
       "      <td>1134.000000</td>\n",
       "    </tr>\n",
       "    <tr>\n",
       "      <th>50%</th>\n",
       "      <td>1271.000000</td>\n",
       "    </tr>\n",
       "    <tr>\n",
       "      <th>75%</th>\n",
       "      <td>1381.000000</td>\n",
       "    </tr>\n",
       "    <tr>\n",
       "      <th>max</th>\n",
       "      <td>1499.000000</td>\n",
       "    </tr>\n",
       "  </tbody>\n",
       "</table>\n",
       "</div>"
      ],
      "text/plain": [
       "             user_id\n",
       "count  123036.000000\n",
       "mean     1256.989410\n",
       "std       143.523967\n",
       "min      1000.000000\n",
       "25%      1134.000000\n",
       "50%      1271.000000\n",
       "75%      1381.000000\n",
       "max      1499.000000"
      ]
     },
     "execution_count": 5,
     "metadata": {},
     "output_type": "execute_result"
    }
   ],
   "source": [
    "display(messages_data.head())\n",
    "messages_data.info()\n",
    "messages_data.describe()"
   ]
  },
  {
   "cell_type": "markdown",
   "metadata": {},
   "source": [
    "В датафрейме `messages_data` нужно изменить тип столбца `message_date` на 'datetime'."
   ]
  },
  {
   "cell_type": "code",
   "execution_count": 6,
   "metadata": {},
   "outputs": [
    {
     "data": {
      "text/html": [
       "<div>\n",
       "<style scoped>\n",
       "    .dataframe tbody tr th:only-of-type {\n",
       "        vertical-align: middle;\n",
       "    }\n",
       "\n",
       "    .dataframe tbody tr th {\n",
       "        vertical-align: top;\n",
       "    }\n",
       "\n",
       "    .dataframe thead th {\n",
       "        text-align: right;\n",
       "    }\n",
       "</style>\n",
       "<table border=\"1\" class=\"dataframe\">\n",
       "  <thead>\n",
       "    <tr style=\"text-align: right;\">\n",
       "      <th></th>\n",
       "      <th>messages_included</th>\n",
       "      <th>mb_per_month_included</th>\n",
       "      <th>minutes_included</th>\n",
       "      <th>rub_monthly_fee</th>\n",
       "      <th>rub_per_gb</th>\n",
       "      <th>rub_per_message</th>\n",
       "      <th>rub_per_minute</th>\n",
       "      <th>tariff_name</th>\n",
       "    </tr>\n",
       "  </thead>\n",
       "  <tbody>\n",
       "    <tr>\n",
       "      <th>0</th>\n",
       "      <td>50</td>\n",
       "      <td>15360</td>\n",
       "      <td>500</td>\n",
       "      <td>550</td>\n",
       "      <td>200</td>\n",
       "      <td>3</td>\n",
       "      <td>3</td>\n",
       "      <td>smart</td>\n",
       "    </tr>\n",
       "    <tr>\n",
       "      <th>1</th>\n",
       "      <td>1000</td>\n",
       "      <td>30720</td>\n",
       "      <td>3000</td>\n",
       "      <td>1950</td>\n",
       "      <td>150</td>\n",
       "      <td>1</td>\n",
       "      <td>1</td>\n",
       "      <td>ultra</td>\n",
       "    </tr>\n",
       "  </tbody>\n",
       "</table>\n",
       "</div>"
      ],
      "text/plain": [
       "   messages_included  mb_per_month_included  minutes_included  \\\n",
       "0                 50                  15360               500   \n",
       "1               1000                  30720              3000   \n",
       "\n",
       "   rub_monthly_fee  rub_per_gb  rub_per_message  rub_per_minute tariff_name  \n",
       "0              550         200                3               3       smart  \n",
       "1             1950         150                1               1       ultra  "
      ]
     },
     "metadata": {},
     "output_type": "display_data"
    },
    {
     "name": "stdout",
     "output_type": "stream",
     "text": [
      "<class 'pandas.core.frame.DataFrame'>\n",
      "RangeIndex: 2 entries, 0 to 1\n",
      "Data columns (total 8 columns):\n",
      " #   Column                 Non-Null Count  Dtype \n",
      "---  ------                 --------------  ----- \n",
      " 0   messages_included      2 non-null      int64 \n",
      " 1   mb_per_month_included  2 non-null      int64 \n",
      " 2   minutes_included       2 non-null      int64 \n",
      " 3   rub_monthly_fee        2 non-null      int64 \n",
      " 4   rub_per_gb             2 non-null      int64 \n",
      " 5   rub_per_message        2 non-null      int64 \n",
      " 6   rub_per_minute         2 non-null      int64 \n",
      " 7   tariff_name            2 non-null      object\n",
      "dtypes: int64(7), object(1)\n",
      "memory usage: 256.0+ bytes\n"
     ]
    }
   ],
   "source": [
    "display(tariffs_data)\n",
    "tariffs_data.info()"
   ]
  },
  {
   "cell_type": "code",
   "execution_count": 7,
   "metadata": {},
   "outputs": [
    {
     "data": {
      "text/html": [
       "<div>\n",
       "<style scoped>\n",
       "    .dataframe tbody tr th:only-of-type {\n",
       "        vertical-align: middle;\n",
       "    }\n",
       "\n",
       "    .dataframe tbody tr th {\n",
       "        vertical-align: top;\n",
       "    }\n",
       "\n",
       "    .dataframe thead th {\n",
       "        text-align: right;\n",
       "    }\n",
       "</style>\n",
       "<table border=\"1\" class=\"dataframe\">\n",
       "  <thead>\n",
       "    <tr style=\"text-align: right;\">\n",
       "      <th></th>\n",
       "      <th>user_id</th>\n",
       "      <th>age</th>\n",
       "      <th>churn_date</th>\n",
       "      <th>city</th>\n",
       "      <th>first_name</th>\n",
       "      <th>last_name</th>\n",
       "      <th>reg_date</th>\n",
       "      <th>tariff</th>\n",
       "    </tr>\n",
       "  </thead>\n",
       "  <tbody>\n",
       "    <tr>\n",
       "      <th>0</th>\n",
       "      <td>1000</td>\n",
       "      <td>52</td>\n",
       "      <td>NaN</td>\n",
       "      <td>Краснодар</td>\n",
       "      <td>Рафаил</td>\n",
       "      <td>Верещагин</td>\n",
       "      <td>2018-05-25</td>\n",
       "      <td>ultra</td>\n",
       "    </tr>\n",
       "    <tr>\n",
       "      <th>1</th>\n",
       "      <td>1001</td>\n",
       "      <td>41</td>\n",
       "      <td>NaN</td>\n",
       "      <td>Москва</td>\n",
       "      <td>Иван</td>\n",
       "      <td>Ежов</td>\n",
       "      <td>2018-11-01</td>\n",
       "      <td>smart</td>\n",
       "    </tr>\n",
       "    <tr>\n",
       "      <th>2</th>\n",
       "      <td>1002</td>\n",
       "      <td>59</td>\n",
       "      <td>NaN</td>\n",
       "      <td>Стерлитамак</td>\n",
       "      <td>Евгений</td>\n",
       "      <td>Абрамович</td>\n",
       "      <td>2018-06-17</td>\n",
       "      <td>smart</td>\n",
       "    </tr>\n",
       "    <tr>\n",
       "      <th>3</th>\n",
       "      <td>1003</td>\n",
       "      <td>23</td>\n",
       "      <td>NaN</td>\n",
       "      <td>Москва</td>\n",
       "      <td>Белла</td>\n",
       "      <td>Белякова</td>\n",
       "      <td>2018-08-17</td>\n",
       "      <td>ultra</td>\n",
       "    </tr>\n",
       "    <tr>\n",
       "      <th>4</th>\n",
       "      <td>1004</td>\n",
       "      <td>68</td>\n",
       "      <td>NaN</td>\n",
       "      <td>Новокузнецк</td>\n",
       "      <td>Татьяна</td>\n",
       "      <td>Авдеенко</td>\n",
       "      <td>2018-05-14</td>\n",
       "      <td>ultra</td>\n",
       "    </tr>\n",
       "  </tbody>\n",
       "</table>\n",
       "</div>"
      ],
      "text/plain": [
       "   user_id  age churn_date         city first_name  last_name    reg_date  \\\n",
       "0     1000   52        NaN    Краснодар     Рафаил  Верещагин  2018-05-25   \n",
       "1     1001   41        NaN       Москва       Иван       Ежов  2018-11-01   \n",
       "2     1002   59        NaN  Стерлитамак    Евгений  Абрамович  2018-06-17   \n",
       "3     1003   23        NaN       Москва      Белла   Белякова  2018-08-17   \n",
       "4     1004   68        NaN  Новокузнецк    Татьяна   Авдеенко  2018-05-14   \n",
       "\n",
       "  tariff  \n",
       "0  ultra  \n",
       "1  smart  \n",
       "2  smart  \n",
       "3  ultra  \n",
       "4  ultra  "
      ]
     },
     "metadata": {},
     "output_type": "display_data"
    },
    {
     "name": "stdout",
     "output_type": "stream",
     "text": [
      "<class 'pandas.core.frame.DataFrame'>\n",
      "RangeIndex: 500 entries, 0 to 499\n",
      "Data columns (total 8 columns):\n",
      " #   Column      Non-Null Count  Dtype \n",
      "---  ------      --------------  ----- \n",
      " 0   user_id     500 non-null    int64 \n",
      " 1   age         500 non-null    int64 \n",
      " 2   churn_date  38 non-null     object\n",
      " 3   city        500 non-null    object\n",
      " 4   first_name  500 non-null    object\n",
      " 5   last_name   500 non-null    object\n",
      " 6   reg_date    500 non-null    object\n",
      " 7   tariff      500 non-null    object\n",
      "dtypes: int64(2), object(6)\n",
      "memory usage: 31.4+ KB\n"
     ]
    },
    {
     "data": {
      "text/html": [
       "<div>\n",
       "<style scoped>\n",
       "    .dataframe tbody tr th:only-of-type {\n",
       "        vertical-align: middle;\n",
       "    }\n",
       "\n",
       "    .dataframe tbody tr th {\n",
       "        vertical-align: top;\n",
       "    }\n",
       "\n",
       "    .dataframe thead th {\n",
       "        text-align: right;\n",
       "    }\n",
       "</style>\n",
       "<table border=\"1\" class=\"dataframe\">\n",
       "  <thead>\n",
       "    <tr style=\"text-align: right;\">\n",
       "      <th></th>\n",
       "      <th>user_id</th>\n",
       "      <th>age</th>\n",
       "    </tr>\n",
       "  </thead>\n",
       "  <tbody>\n",
       "    <tr>\n",
       "      <th>count</th>\n",
       "      <td>500.000000</td>\n",
       "      <td>500.00000</td>\n",
       "    </tr>\n",
       "    <tr>\n",
       "      <th>mean</th>\n",
       "      <td>1249.500000</td>\n",
       "      <td>46.58800</td>\n",
       "    </tr>\n",
       "    <tr>\n",
       "      <th>std</th>\n",
       "      <td>144.481833</td>\n",
       "      <td>16.66763</td>\n",
       "    </tr>\n",
       "    <tr>\n",
       "      <th>min</th>\n",
       "      <td>1000.000000</td>\n",
       "      <td>18.00000</td>\n",
       "    </tr>\n",
       "    <tr>\n",
       "      <th>25%</th>\n",
       "      <td>1124.750000</td>\n",
       "      <td>32.00000</td>\n",
       "    </tr>\n",
       "    <tr>\n",
       "      <th>50%</th>\n",
       "      <td>1249.500000</td>\n",
       "      <td>46.00000</td>\n",
       "    </tr>\n",
       "    <tr>\n",
       "      <th>75%</th>\n",
       "      <td>1374.250000</td>\n",
       "      <td>62.00000</td>\n",
       "    </tr>\n",
       "    <tr>\n",
       "      <th>max</th>\n",
       "      <td>1499.000000</td>\n",
       "      <td>75.00000</td>\n",
       "    </tr>\n",
       "  </tbody>\n",
       "</table>\n",
       "</div>"
      ],
      "text/plain": [
       "           user_id        age\n",
       "count   500.000000  500.00000\n",
       "mean   1249.500000   46.58800\n",
       "std     144.481833   16.66763\n",
       "min    1000.000000   18.00000\n",
       "25%    1124.750000   32.00000\n",
       "50%    1249.500000   46.00000\n",
       "75%    1374.250000   62.00000\n",
       "max    1499.000000   75.00000"
      ]
     },
     "execution_count": 7,
     "metadata": {},
     "output_type": "execute_result"
    }
   ],
   "source": [
    "display(users_data.head())\n",
    "users_data.info()\n",
    "users_data.describe()"
   ]
  },
  {
   "cell_type": "markdown",
   "metadata": {},
   "source": [
    "### Вывод\n",
    "\n",
    "Мы ознакомились с данными и нашли в них ошибки (неверный тип данных и лишний столбец)."
   ]
  },
  {
   "cell_type": "markdown",
   "metadata": {},
   "source": [
    "## Подготовка данных"
   ]
  },
  {
   "cell_type": "markdown",
   "metadata": {},
   "source": [
    "### Обработка дубликатов"
   ]
  },
  {
   "cell_type": "markdown",
   "metadata": {},
   "source": [
    "Посчитаем количество дубликатов в датафреймах."
   ]
  },
  {
   "cell_type": "code",
   "execution_count": 8,
   "metadata": {},
   "outputs": [
    {
     "data": {
      "text/plain": [
       "0"
      ]
     },
     "metadata": {},
     "output_type": "display_data"
    }
   ],
   "source": [
    "# display number of duplicates\n",
    "display(calls_data.duplicated().sum() + messages_data.duplicated().sum() + internet_data.duplicated().sum() + users_data.duplicated().sum()) "
   ]
  },
  {
   "cell_type": "markdown",
   "metadata": {},
   "source": [
    "Дубликаты не обнаружены."
   ]
  },
  {
   "cell_type": "markdown",
   "metadata": {},
   "source": [
    "### Приведение данных к нужным типам"
   ]
  },
  {
   "cell_type": "markdown",
   "metadata": {},
   "source": [
    "Изменим тип столбцы `call_date` в датафрейме `calls_data`, `session_date` в датафрейме `internet_data` и `message_date` в датафрейме `messages_data` на 'datetime'."
   ]
  },
  {
   "cell_type": "code",
   "execution_count": 9,
   "metadata": {},
   "outputs": [],
   "source": [
    "# change type of 'call_date', 'session_date' and 'message_date' columns to 'datetime'\n",
    "calls_data['call_date'] = pd.to_datetime(calls_data['call_date'], format='%Y-%m-%d')\n",
    "internet_data['session_date'] = pd.to_datetime(internet_data['session_date'], format='%Y-%m-%d')\n",
    "messages_data['message_date'] = pd.to_datetime(messages_data['message_date'], format='%Y-%m-%d')"
   ]
  },
  {
   "cell_type": "markdown",
   "metadata": {},
   "source": [
    "Проверим."
   ]
  },
  {
   "cell_type": "code",
   "execution_count": 10,
   "metadata": {},
   "outputs": [
    {
     "name": "stdout",
     "output_type": "stream",
     "text": [
      "<class 'pandas.core.frame.DataFrame'>\n",
      "RangeIndex: 202607 entries, 0 to 202606\n",
      "Data columns (total 4 columns):\n",
      " #   Column     Non-Null Count   Dtype         \n",
      "---  ------     --------------   -----         \n",
      " 0   id         202607 non-null  object        \n",
      " 1   call_date  202607 non-null  datetime64[ns]\n",
      " 2   duration   202607 non-null  float64       \n",
      " 3   user_id    202607 non-null  int64         \n",
      "dtypes: datetime64[ns](1), float64(1), int64(1), object(1)\n",
      "memory usage: 6.2+ MB\n",
      "<class 'pandas.core.frame.DataFrame'>\n",
      "RangeIndex: 149396 entries, 0 to 149395\n",
      "Data columns (total 5 columns):\n",
      " #   Column        Non-Null Count   Dtype         \n",
      "---  ------        --------------   -----         \n",
      " 0   Unnamed: 0    149396 non-null  int64         \n",
      " 1   id            149396 non-null  object        \n",
      " 2   mb_used       149396 non-null  float64       \n",
      " 3   session_date  149396 non-null  datetime64[ns]\n",
      " 4   user_id       149396 non-null  int64         \n",
      "dtypes: datetime64[ns](1), float64(1), int64(2), object(1)\n",
      "memory usage: 5.7+ MB\n",
      "<class 'pandas.core.frame.DataFrame'>\n",
      "RangeIndex: 123036 entries, 0 to 123035\n",
      "Data columns (total 3 columns):\n",
      " #   Column        Non-Null Count   Dtype         \n",
      "---  ------        --------------   -----         \n",
      " 0   id            123036 non-null  object        \n",
      " 1   message_date  123036 non-null  datetime64[ns]\n",
      " 2   user_id       123036 non-null  int64         \n",
      "dtypes: datetime64[ns](1), int64(1), object(1)\n",
      "memory usage: 2.8+ MB\n"
     ]
    }
   ],
   "source": [
    "# general information about 'calls_data'\n",
    "calls_data.info()\n",
    "internet_data.info()\n",
    "messages_data.info()"
   ]
  },
  {
   "cell_type": "markdown",
   "metadata": {},
   "source": [
    "Также округлим вверх и изменим тип данных столбца `duration` датафрейма `calls_data`, так как это нам понадобится при склеивании всех датафреймов."
   ]
  },
  {
   "cell_type": "code",
   "execution_count": 11,
   "metadata": {},
   "outputs": [],
   "source": [
    "# round up 'duration' column\n",
    "calls_data['duration'] = np.ceil(calls_data['duration'])\n",
    "# change type of 'duration' column to 'int'\n",
    "calls_data['duration'] = calls_data['duration'].astype('int')"
   ]
  },
  {
   "cell_type": "markdown",
   "metadata": {},
   "source": [
    "Проверим."
   ]
  },
  {
   "cell_type": "code",
   "execution_count": 12,
   "metadata": {
    "scrolled": true
   },
   "outputs": [
    {
     "name": "stdout",
     "output_type": "stream",
     "text": [
      "<class 'pandas.core.frame.DataFrame'>\n",
      "RangeIndex: 202607 entries, 0 to 202606\n",
      "Data columns (total 4 columns):\n",
      " #   Column     Non-Null Count   Dtype         \n",
      "---  ------     --------------   -----         \n",
      " 0   id         202607 non-null  object        \n",
      " 1   call_date  202607 non-null  datetime64[ns]\n",
      " 2   duration   202607 non-null  int64         \n",
      " 3   user_id    202607 non-null  int64         \n",
      "dtypes: datetime64[ns](1), int64(2), object(1)\n",
      "memory usage: 6.2+ MB\n"
     ]
    }
   ],
   "source": [
    "calls_data.info()"
   ]
  },
  {
   "cell_type": "markdown",
   "metadata": {},
   "source": [
    "### Исправление ошибок"
   ]
  },
  {
   "cell_type": "markdown",
   "metadata": {},
   "source": [
    "Проверим, что в датафрейме `internet_data` значения столбца `Unnamed: 0` совпадают с индексом."
   ]
  },
  {
   "cell_type": "code",
   "execution_count": 13,
   "metadata": {},
   "outputs": [
    {
     "data": {
      "text/plain": [
       "0"
      ]
     },
     "execution_count": 13,
     "metadata": {},
     "output_type": "execute_result"
    }
   ],
   "source": [
    "# difference between number of rows where column 'Unnamed: 0' equals row index and length of dataframe\n",
    "internet_data[internet_data['Unnamed: 0'] == internet_data.index]['Unnamed: 0'].count() - len(internet_data)"
   ]
  },
  {
   "cell_type": "markdown",
   "metadata": {},
   "source": [
    "Действительно, этот столец дублирует индекс. Удалим его."
   ]
  },
  {
   "cell_type": "code",
   "execution_count": 14,
   "metadata": {},
   "outputs": [],
   "source": [
    "import warnings\n",
    "warnings.filterwarnings('ignore')\n",
    "internet_data = internet_data.drop('Unnamed: 0', 1)"
   ]
  },
  {
   "cell_type": "markdown",
   "metadata": {},
   "source": [
    "Проверим."
   ]
  },
  {
   "cell_type": "code",
   "execution_count": 15,
   "metadata": {},
   "outputs": [
    {
     "name": "stdout",
     "output_type": "stream",
     "text": [
      "<class 'pandas.core.frame.DataFrame'>\n",
      "RangeIndex: 149396 entries, 0 to 149395\n",
      "Data columns (total 4 columns):\n",
      " #   Column        Non-Null Count   Dtype         \n",
      "---  ------        --------------   -----         \n",
      " 0   id            149396 non-null  object        \n",
      " 1   mb_used       149396 non-null  float64       \n",
      " 2   session_date  149396 non-null  datetime64[ns]\n",
      " 3   user_id       149396 non-null  int64         \n",
      "dtypes: datetime64[ns](1), float64(1), int64(1), object(1)\n",
      "memory usage: 4.6+ MB\n"
     ]
    }
   ],
   "source": [
    "# general information about 'internet_data'\n",
    "internet_data.info()"
   ]
  },
  {
   "cell_type": "markdown",
   "metadata": {},
   "source": [
    "Построим гистограмму использованного интернет-траффика."
   ]
  },
  {
   "cell_type": "code",
   "execution_count": 16,
   "metadata": {},
   "outputs": [
    {
     "data": {
      "text/plain": [
       "<AxesSubplot:>"
      ]
     },
     "execution_count": 16,
     "metadata": {},
     "output_type": "execute_result"
    },
    {
     "data": {
      "image/png": "[encoded data removed]",
      "text/plain": [
       "<Figure size 432x288 with 1 Axes>"
      ]
     },
     "metadata": {
      "needs_background": "light"
     },
     "output_type": "display_data"
    }
   ],
   "source": [
    "# plot histogram of 'mb_used' column\n",
    "internet_data['mb_used'].hist(bins=100)"
   ]
  },
  {
   "cell_type": "markdown",
   "metadata": {},
   "source": [
    "Много аномальных нулевых значений. Посчитаем их долю."
   ]
  },
  {
   "cell_type": "code",
   "execution_count": 17,
   "metadata": {},
   "outputs": [
    {
     "data": {
      "text/plain": [
       "0.13118155773916304"
      ]
     },
     "execution_count": 17,
     "metadata": {},
     "output_type": "execute_result"
    }
   ],
   "source": [
    "# rate of zero values\n",
    "len(internet_data[internet_data['mb_used'] == 0]) / len(internet_data)"
   ]
  },
  {
   "cell_type": "markdown",
   "metadata": {},
   "source": [
    "Удалим эти значения, так как их не сильно много и они не понадобятся нам в исследовании."
   ]
  },
  {
   "cell_type": "code",
   "execution_count": 18,
   "metadata": {},
   "outputs": [],
   "source": [
    "internet_data = internet_data.drop(internet_data[internet_data['mb_used'] == 0].index)"
   ]
  },
  {
   "cell_type": "markdown",
   "metadata": {},
   "source": [
    "Проверим."
   ]
  },
  {
   "cell_type": "code",
   "execution_count": 19,
   "metadata": {},
   "outputs": [
    {
     "data": {
      "text/plain": [
       "<AxesSubplot:>"
      ]
     },
     "execution_count": 19,
     "metadata": {},
     "output_type": "execute_result"
    },
    {
     "data": {
      "image/png": "[encoded data removed]",
      "text/plain": [
       "<Figure size 432x288 with 1 Axes>"
      ]
     },
     "metadata": {
      "needs_background": "light"
     },
     "output_type": "display_data"
    }
   ],
   "source": [
    "# plot histogram of 'mb_used' column\n",
    "internet_data['mb_used'].hist(bins=100)"
   ]
  },
  {
   "cell_type": "markdown",
   "metadata": {},
   "source": [
    "Аномалий нет: распределение нормальное."
   ]
  },
  {
   "cell_type": "markdown",
   "metadata": {},
   "source": [
    "### Расчет значений по месяцам"
   ]
  },
  {
   "cell_type": "markdown",
   "metadata": {},
   "source": [
    "Расчитаем значения количества и длительности звонков, количества использованного трафика, количества сообщения для каждого пользователя по месяцам. \n",
    "\n",
    "Для этого сначала создадим сводные таблицы и объединим их.\n"
   ]
  },
  {
   "cell_type": "code",
   "execution_count": 20,
   "metadata": {},
   "outputs": [],
   "source": [
    "# add new 'month' columns to dataframes\n",
    "calls_data['month'] = calls_data['call_date'].dt.month\n",
    "internet_data['month'] = internet_data['session_date'].dt.month\n",
    "messages_data['month'] = messages_data['message_date'].dt.month\n",
    "\n",
    "# create pivot tables\n",
    "calls_pivot = calls_data.pivot_table(index=['user_id', 'month'], values='duration', aggfunc=['count', 'sum'])\n",
    "internet_pivot = internet_data.pivot_table(index=['user_id', 'month'], values='mb_used', aggfunc='sum')\n",
    "messages_pivot = messages_data.pivot_table(index=['user_id', 'month'], values='message_date', aggfunc='count')\n",
    "\n",
    "# merge pivot tables\n",
    "df = calls_pivot.join([internet_pivot, messages_pivot], how='outer')\n",
    "\n",
    "#rename columns\n",
    "df.columns=['calls_number', 'calls_duration', 'mb_used', 'messages_number']\n",
    "\n",
    "# reset index\n",
    "df = df.reset_index()\n",
    "\n",
    "# add new dataframe with only 'user_id' and 'tariff' columns\n",
    "tariffs_data = users_data[['user_id', 'city', 'tariff']]\n",
    "\n",
    "# merge dataframes\n",
    "df = df.merge(tariffs_data, on='user_id')"
   ]
  },
  {
   "cell_type": "code",
   "execution_count": 21,
   "metadata": {},
   "outputs": [
    {
     "data": {
      "text/html": [
       "<div>\n",
       "<style scoped>\n",
       "    .dataframe tbody tr th:only-of-type {\n",
       "        vertical-align: middle;\n",
       "    }\n",
       "\n",
       "    .dataframe tbody tr th {\n",
       "        vertical-align: top;\n",
       "    }\n",
       "\n",
       "    .dataframe thead th {\n",
       "        text-align: right;\n",
       "    }\n",
       "</style>\n",
       "<table border=\"1\" class=\"dataframe\">\n",
       "  <thead>\n",
       "    <tr style=\"text-align: right;\">\n",
       "      <th></th>\n",
       "      <th>user_id</th>\n",
       "      <th>month</th>\n",
       "      <th>calls_number</th>\n",
       "      <th>calls_duration</th>\n",
       "      <th>mb_used</th>\n",
       "      <th>messages_number</th>\n",
       "      <th>city</th>\n",
       "      <th>tariff</th>\n",
       "    </tr>\n",
       "  </thead>\n",
       "  <tbody>\n",
       "    <tr>\n",
       "      <th>0</th>\n",
       "      <td>1000</td>\n",
       "      <td>5</td>\n",
       "      <td>22.0</td>\n",
       "      <td>159.0</td>\n",
       "      <td>2253.49</td>\n",
       "      <td>22.0</td>\n",
       "      <td>Краснодар</td>\n",
       "      <td>ultra</td>\n",
       "    </tr>\n",
       "    <tr>\n",
       "      <th>1</th>\n",
       "      <td>1000</td>\n",
       "      <td>6</td>\n",
       "      <td>43.0</td>\n",
       "      <td>172.0</td>\n",
       "      <td>23233.77</td>\n",
       "      <td>60.0</td>\n",
       "      <td>Краснодар</td>\n",
       "      <td>ultra</td>\n",
       "    </tr>\n",
       "    <tr>\n",
       "      <th>2</th>\n",
       "      <td>1000</td>\n",
       "      <td>7</td>\n",
       "      <td>47.0</td>\n",
       "      <td>340.0</td>\n",
       "      <td>14003.64</td>\n",
       "      <td>75.0</td>\n",
       "      <td>Краснодар</td>\n",
       "      <td>ultra</td>\n",
       "    </tr>\n",
       "    <tr>\n",
       "      <th>3</th>\n",
       "      <td>1000</td>\n",
       "      <td>8</td>\n",
       "      <td>52.0</td>\n",
       "      <td>408.0</td>\n",
       "      <td>14055.93</td>\n",
       "      <td>81.0</td>\n",
       "      <td>Краснодар</td>\n",
       "      <td>ultra</td>\n",
       "    </tr>\n",
       "    <tr>\n",
       "      <th>4</th>\n",
       "      <td>1000</td>\n",
       "      <td>9</td>\n",
       "      <td>58.0</td>\n",
       "      <td>466.0</td>\n",
       "      <td>14568.91</td>\n",
       "      <td>57.0</td>\n",
       "      <td>Краснодар</td>\n",
       "      <td>ultra</td>\n",
       "    </tr>\n",
       "  </tbody>\n",
       "</table>\n",
       "</div>"
      ],
      "text/plain": [
       "   user_id  month  calls_number  calls_duration   mb_used  messages_number  \\\n",
       "0     1000      5          22.0           159.0   2253.49             22.0   \n",
       "1     1000      6          43.0           172.0  23233.77             60.0   \n",
       "2     1000      7          47.0           340.0  14003.64             75.0   \n",
       "3     1000      8          52.0           408.0  14055.93             81.0   \n",
       "4     1000      9          58.0           466.0  14568.91             57.0   \n",
       "\n",
       "        city tariff  \n",
       "0  Краснодар  ultra  \n",
       "1  Краснодар  ultra  \n",
       "2  Краснодар  ultra  \n",
       "3  Краснодар  ultra  \n",
       "4  Краснодар  ultra  "
      ]
     },
     "metadata": {},
     "output_type": "display_data"
    },
    {
     "name": "stdout",
     "output_type": "stream",
     "text": [
      "<class 'pandas.core.frame.DataFrame'>\n",
      "Int64Index: 3214 entries, 0 to 3213\n",
      "Data columns (total 8 columns):\n",
      " #   Column           Non-Null Count  Dtype  \n",
      "---  ------           --------------  -----  \n",
      " 0   user_id          3214 non-null   int64  \n",
      " 1   month            3214 non-null   int64  \n",
      " 2   calls_number     3174 non-null   float64\n",
      " 3   calls_duration   3174 non-null   float64\n",
      " 4   mb_used          3201 non-null   float64\n",
      " 5   messages_number  2717 non-null   float64\n",
      " 6   city             3214 non-null   object \n",
      " 7   tariff           3214 non-null   object \n",
      "dtypes: float64(4), int64(2), object(2)\n",
      "memory usage: 226.0+ KB\n"
     ]
    }
   ],
   "source": [
    "display(df.head())\n",
    "df.info()"
   ]
  },
  {
   "cell_type": "markdown",
   "metadata": {},
   "source": [
    "Пропуски в столцах `mb_used` и `messages_number` означают, что в этот месяц соответсвенной услугой не пользовались. Заполним эти пропуски нулями."
   ]
  },
  {
   "cell_type": "code",
   "execution_count": 22,
   "metadata": {},
   "outputs": [],
   "source": [
    "# filling missing values in 'calls_number', 'calls_duration', 'mb_used' and 'messages_number' columns with zero\n",
    "df['calls_number'] = df['calls_number'].fillna(0)\n",
    "df['calls_duration'] = df['calls_duration'].fillna(0)\n",
    "df['mb_used'] = df['mb_used'].fillna(0)\n",
    "df['messages_number'] = df['messages_number'].fillna(0)"
   ]
  },
  {
   "cell_type": "markdown",
   "metadata": {},
   "source": [
    "Проверим."
   ]
  },
  {
   "cell_type": "code",
   "execution_count": 23,
   "metadata": {},
   "outputs": [
    {
     "name": "stdout",
     "output_type": "stream",
     "text": [
      "<class 'pandas.core.frame.DataFrame'>\n",
      "Int64Index: 3214 entries, 0 to 3213\n",
      "Data columns (total 8 columns):\n",
      " #   Column           Non-Null Count  Dtype  \n",
      "---  ------           --------------  -----  \n",
      " 0   user_id          3214 non-null   int64  \n",
      " 1   month            3214 non-null   int64  \n",
      " 2   calls_number     3214 non-null   float64\n",
      " 3   calls_duration   3214 non-null   float64\n",
      " 4   mb_used          3214 non-null   float64\n",
      " 5   messages_number  3214 non-null   float64\n",
      " 6   city             3214 non-null   object \n",
      " 7   tariff           3214 non-null   object \n",
      "dtypes: float64(4), int64(2), object(2)\n",
      "memory usage: 226.0+ KB\n"
     ]
    }
   ],
   "source": [
    "df.info()"
   ]
  },
  {
   "cell_type": "code",
   "execution_count": 24,
   "metadata": {},
   "outputs": [
    {
     "data": {
      "text/plain": [
       "(498,)"
      ]
     },
     "execution_count": 24,
     "metadata": {},
     "output_type": "execute_result"
    }
   ],
   "source": [
    "# Комментарий ревьюера\n",
    "df.user_id.unique().shape"
   ]
  },
  {
   "cell_type": "markdown",
   "metadata": {},
   "source": [
    "Посчитаем помесячную выручку с каждого пользователя."
   ]
  },
  {
   "cell_type": "code",
   "execution_count": 25,
   "metadata": {},
   "outputs": [],
   "source": [
    "def mb_to_gb(value):\n",
    "    '''\n",
    "    Changes mb to gb rounded up.\n",
    "    '''\n",
    "    return np.ceil(value / 1024)\n",
    "\n",
    "# add 'gb_used' columns\n",
    "df['gb_used'] = df['mb_used'].apply(mb_to_gb)\n",
    "\n",
    "# change type of 'calls_number', 'messages_number' and 'gb_used' columns to 'int'\n",
    "df['calls_number'] = df['calls_number'].astype('int') \n",
    "df['messages_number'] = df['messages_number'].astype('int') \n",
    "df['gb_used'] = df['gb_used'].astype('int')\n",
    "\n",
    "def calculate_monthly_revenue(row):\n",
    "    '''\n",
    "    Calculates monthly revenue.\n",
    "    '''\n",
    "    res = 0\n",
    "    if row['tariff'] == 'smart':\n",
    "        res += 550\n",
    "        if row['calls_duration'] > 500:\n",
    "            res += (row['calls_duration'] - 500) * 3\n",
    "        if row['messages_number'] > 50:\n",
    "            res += (row['messages_number'] - 50) * 3\n",
    "        if row['gb_used'] > 15:\n",
    "            res += (row['gb_used'] - 15) * 200\n",
    "        return res\n",
    "    if row['tariff'] == 'ultra':\n",
    "        res += 1950\n",
    "        if row['calls_duration'] > 3000:\n",
    "            res += (row['calls_duration'] - 500) * 1\n",
    "        if row['messages_number'] > 1000:\n",
    "            res += (row['messages_number'] - 50) * 1\n",
    "        if row['gb_used'] > 30:\n",
    "            res += (row['gb_used'] - 15) * 150\n",
    "        return res\n",
    "    \n",
    "    \n",
    "\n",
    "df['monthly_revenue'] = df.apply(calculate_monthly_revenue , axis=1)"
   ]
  },
  {
   "cell_type": "markdown",
   "metadata": {},
   "source": [
    "Проверим."
   ]
  },
  {
   "cell_type": "code",
   "execution_count": 26,
   "metadata": {},
   "outputs": [
    {
     "data": {
      "text/html": [
       "<div>\n",
       "<style scoped>\n",
       "    .dataframe tbody tr th:only-of-type {\n",
       "        vertical-align: middle;\n",
       "    }\n",
       "\n",
       "    .dataframe tbody tr th {\n",
       "        vertical-align: top;\n",
       "    }\n",
       "\n",
       "    .dataframe thead th {\n",
       "        text-align: right;\n",
       "    }\n",
       "</style>\n",
       "<table border=\"1\" class=\"dataframe\">\n",
       "  <thead>\n",
       "    <tr style=\"text-align: right;\">\n",
       "      <th></th>\n",
       "      <th>user_id</th>\n",
       "      <th>month</th>\n",
       "      <th>calls_number</th>\n",
       "      <th>calls_duration</th>\n",
       "      <th>mb_used</th>\n",
       "      <th>messages_number</th>\n",
       "      <th>city</th>\n",
       "      <th>tariff</th>\n",
       "      <th>gb_used</th>\n",
       "      <th>monthly_revenue</th>\n",
       "    </tr>\n",
       "  </thead>\n",
       "  <tbody>\n",
       "    <tr>\n",
       "      <th>2625</th>\n",
       "      <td>1409</td>\n",
       "      <td>8</td>\n",
       "      <td>117</td>\n",
       "      <td>846.0</td>\n",
       "      <td>21225.05</td>\n",
       "      <td>39</td>\n",
       "      <td>Набережные Челны</td>\n",
       "      <td>smart</td>\n",
       "      <td>21</td>\n",
       "      <td>2788.0</td>\n",
       "    </tr>\n",
       "    <tr>\n",
       "      <th>2062</th>\n",
       "      <td>1325</td>\n",
       "      <td>10</td>\n",
       "      <td>58</td>\n",
       "      <td>380.0</td>\n",
       "      <td>22108.22</td>\n",
       "      <td>15</td>\n",
       "      <td>Новосибирск</td>\n",
       "      <td>ultra</td>\n",
       "      <td>22</td>\n",
       "      <td>1950.0</td>\n",
       "    </tr>\n",
       "    <tr>\n",
       "      <th>1817</th>\n",
       "      <td>1286</td>\n",
       "      <td>11</td>\n",
       "      <td>9</td>\n",
       "      <td>47.0</td>\n",
       "      <td>4829.56</td>\n",
       "      <td>12</td>\n",
       "      <td>Москва</td>\n",
       "      <td>smart</td>\n",
       "      <td>5</td>\n",
       "      <td>550.0</td>\n",
       "    </tr>\n",
       "    <tr>\n",
       "      <th>1730</th>\n",
       "      <td>1274</td>\n",
       "      <td>5</td>\n",
       "      <td>69</td>\n",
       "      <td>493.0</td>\n",
       "      <td>16226.63</td>\n",
       "      <td>69</td>\n",
       "      <td>Волгоград</td>\n",
       "      <td>smart</td>\n",
       "      <td>16</td>\n",
       "      <td>807.0</td>\n",
       "    </tr>\n",
       "    <tr>\n",
       "      <th>2686</th>\n",
       "      <td>1419</td>\n",
       "      <td>10</td>\n",
       "      <td>69</td>\n",
       "      <td>465.0</td>\n",
       "      <td>11087.57</td>\n",
       "      <td>41</td>\n",
       "      <td>Новороссийск</td>\n",
       "      <td>smart</td>\n",
       "      <td>11</td>\n",
       "      <td>550.0</td>\n",
       "    </tr>\n",
       "  </tbody>\n",
       "</table>\n",
       "</div>"
      ],
      "text/plain": [
       "      user_id  month  calls_number  calls_duration   mb_used  messages_number  \\\n",
       "2625     1409      8           117           846.0  21225.05               39   \n",
       "2062     1325     10            58           380.0  22108.22               15   \n",
       "1817     1286     11             9            47.0   4829.56               12   \n",
       "1730     1274      5            69           493.0  16226.63               69   \n",
       "2686     1419     10            69           465.0  11087.57               41   \n",
       "\n",
       "                  city tariff  gb_used  monthly_revenue  \n",
       "2625  Набережные Челны  smart       21           2788.0  \n",
       "2062       Новосибирск  ultra       22           1950.0  \n",
       "1817            Москва  smart        5            550.0  \n",
       "1730         Волгоград  smart       16            807.0  \n",
       "2686      Новороссийск  smart       11            550.0  "
      ]
     },
     "execution_count": 26,
     "metadata": {},
     "output_type": "execute_result"
    }
   ],
   "source": [
    "df.sample(5)"
   ]
  },
  {
   "cell_type": "markdown",
   "metadata": {},
   "source": [
    "Удалим столбец `mb_used`."
   ]
  },
  {
   "cell_type": "code",
   "execution_count": 27,
   "metadata": {},
   "outputs": [],
   "source": [
    "# delete 'mb_used' column\n",
    "df = df.drop('mb_used', 1)"
   ]
  },
  {
   "cell_type": "markdown",
   "metadata": {},
   "source": [
    "### Вывод\n",
    "\n",
    "Данные были подготовлены к анализу: были исправлены ошибки (столбцы приведены к нужным типам, лишние столбцы удалены), из пяти данных датафреймов был создан один сводный, готовый к анализу. Для каждого пользователя была расчитана помесячная выручка."
   ]
  },
  {
   "cell_type": "markdown",
   "metadata": {},
   "source": [
    "## Анализ данных"
   ]
  },
  {
   "cell_type": "markdown",
   "metadata": {},
   "source": [
    "Посчитаем среднее, дисперсию и стандартное отклонение количества минут разговора, сообщений и интернет-траффика в месяц."
   ]
  },
  {
   "cell_type": "code",
   "execution_count": 28,
   "metadata": {},
   "outputs": [
    {
     "data": {
      "text/html": [
       "<div>\n",
       "<style scoped>\n",
       "    .dataframe tbody tr th:only-of-type {\n",
       "        vertical-align: middle;\n",
       "    }\n",
       "\n",
       "    .dataframe tbody tr th {\n",
       "        vertical-align: top;\n",
       "    }\n",
       "\n",
       "    .dataframe thead tr th {\n",
       "        text-align: left;\n",
       "    }\n",
       "\n",
       "    .dataframe thead tr:last-of-type th {\n",
       "        text-align: right;\n",
       "    }\n",
       "</style>\n",
       "<table border=\"1\" class=\"dataframe\">\n",
       "  <thead>\n",
       "    <tr>\n",
       "      <th></th>\n",
       "      <th colspan=\"3\" halign=\"left\">mean</th>\n",
       "      <th colspan=\"3\" halign=\"left\">var</th>\n",
       "      <th colspan=\"3\" halign=\"left\">std</th>\n",
       "    </tr>\n",
       "    <tr>\n",
       "      <th></th>\n",
       "      <th>calls_duration</th>\n",
       "      <th>gb_used</th>\n",
       "      <th>messages_number</th>\n",
       "      <th>calls_duration</th>\n",
       "      <th>gb_used</th>\n",
       "      <th>messages_number</th>\n",
       "      <th>calls_duration</th>\n",
       "      <th>gb_used</th>\n",
       "      <th>messages_number</th>\n",
       "    </tr>\n",
       "    <tr>\n",
       "      <th>tariff</th>\n",
       "      <th></th>\n",
       "      <th></th>\n",
       "      <th></th>\n",
       "      <th></th>\n",
       "      <th></th>\n",
       "      <th></th>\n",
       "      <th></th>\n",
       "      <th></th>\n",
       "      <th></th>\n",
       "    </tr>\n",
       "  </thead>\n",
       "  <tbody>\n",
       "    <tr>\n",
       "      <th>smart</th>\n",
       "      <td>417.934948</td>\n",
       "      <td>16.328847</td>\n",
       "      <td>33.384029</td>\n",
       "      <td>36219.315784</td>\n",
       "      <td>33.028705</td>\n",
       "      <td>796.812958</td>\n",
       "      <td>190.313730</td>\n",
       "      <td>5.747061</td>\n",
       "      <td>28.227876</td>\n",
       "    </tr>\n",
       "    <tr>\n",
       "      <th>ultra</th>\n",
       "      <td>526.623350</td>\n",
       "      <td>19.494416</td>\n",
       "      <td>49.363452</td>\n",
       "      <td>100873.633397</td>\n",
       "      <td>97.091686</td>\n",
       "      <td>2285.266143</td>\n",
       "      <td>317.606098</td>\n",
       "      <td>9.853511</td>\n",
       "      <td>47.804457</td>\n",
       "    </tr>\n",
       "  </tbody>\n",
       "</table>\n",
       "</div>"
      ],
      "text/plain": [
       "                 mean                                       var             \\\n",
       "       calls_duration    gb_used messages_number calls_duration    gb_used   \n",
       "tariff                                                                       \n",
       "smart      417.934948  16.328847       33.384029   36219.315784  33.028705   \n",
       "ultra      526.623350  19.494416       49.363452  100873.633397  97.091686   \n",
       "\n",
       "                                  std                            \n",
       "       messages_number calls_duration   gb_used messages_number  \n",
       "tariff                                                           \n",
       "smart       796.812958     190.313730  5.747061       28.227876  \n",
       "ultra      2285.266143     317.606098  9.853511       47.804457  "
      ]
     },
     "execution_count": 28,
     "metadata": {},
     "output_type": "execute_result"
    }
   ],
   "source": [
    "# create pivot table of average, variance and standard deviation of calls duration, messages number and gb used for every tariff\n",
    "stat_pivot = df.pivot_table(index='tariff', values=['calls_duration', 'messages_number', 'gb_used'], aggfunc=['mean', 'var', 'std'])\n",
    "stat_pivot"
   ]
  },
  {
   "cell_type": "markdown",
   "metadata": {},
   "source": [
    "Видно, что пользователи тарифа \"Ультра\", как и ожидалось, в среднем дольше говорят по телефону, отсылают больше сообщений, используют больше интернет траффика, чем пользователи тарифа \"Смарт\"."
   ]
  },
  {
   "cell_type": "markdown",
   "metadata": {},
   "source": [
    "Создадим отдельные датафреймы для каждого тарифа."
   ]
  },
  {
   "cell_type": "code",
   "execution_count": 29,
   "metadata": {},
   "outputs": [],
   "source": [
    "# create dataframes of two tariffs\n",
    "smart_data = df[df['tariff'] == 'smart']\n",
    "ultra_data = df[df['tariff'] == 'ultra']"
   ]
  },
  {
   "cell_type": "markdown",
   "metadata": {},
   "source": [
    "Построим гистограммы длительности разговора для каждого тарифа."
   ]
  },
  {
   "cell_type": "code",
   "execution_count": 30,
   "metadata": {
    "scrolled": true
   },
   "outputs": [
    {
     "data": {
      "text/plain": [
       "<AxesSubplot:ylabel='Frequency'>"
      ]
     },
     "execution_count": 30,
     "metadata": {},
     "output_type": "execute_result"
    },
    {
     "data": {
      "image/png": "[encoded data removed]",
      "text/plain": [
       "<Figure size 432x288 with 1 Axes>"
      ]
     },
     "metadata": {
      "needs_background": "light"
     },
     "output_type": "display_data"
    }
   ],
   "source": [
    "# plot histograms\n",
    "smart_data['calls_duration'].plot(kind='hist', bins=30, grid=True, legend=True, label='Smart', alpha=0.9)\n",
    "ultra_data['calls_duration'].plot(kind='hist', bins=30, grid=True, legend=True, label='Ultra', alpha=0.7)"
   ]
  },
  {
   "cell_type": "markdown",
   "metadata": {},
   "source": [
    "Длительность звонков в месяц для тарифа \"Смарт\" распределена нормально, а для тарифа \"Ультра\" – распределение более \"сплющено\"."
   ]
  },
  {
   "cell_type": "markdown",
   "metadata": {},
   "source": [
    "Построим гистограммы для количества сообщений."
   ]
  },
  {
   "cell_type": "code",
   "execution_count": 31,
   "metadata": {},
   "outputs": [
    {
     "data": {
      "text/plain": [
       "<AxesSubplot:ylabel='Frequency'>"
      ]
     },
     "execution_count": 31,
     "metadata": {},
     "output_type": "execute_result"
    },
    {
     "data": {
      "image/png": "[encoded data removed]",
      "text/plain": [
       "<Figure size 432x288 with 1 Axes>"
      ]
     },
     "metadata": {
      "needs_background": "light"
     },
     "output_type": "display_data"
    }
   ],
   "source": [
    "# plot histograms\n",
    "smart_data['messages_number'].plot(xlabel='Number of messages', kind='hist', bins=50, range=(1, 200), grid=True, legend=True, label='Smart', alpha=0.9)\n",
    "ultra_data['messages_number'].plot(kind='hist', bins=50, range=(1, 200), grid=True, legend=True, label='Ultra', alpha=0.7)"
   ]
  },
  {
   "cell_type": "markdown",
   "metadata": {},
   "source": [
    "Количество сообщений в месяц для тарифа \"Смарт\" распределено по Пуассону, а для \"Ультра\" распределение опять более сглаженное."
   ]
  },
  {
   "cell_type": "markdown",
   "metadata": {},
   "source": [
    "Построим такие же гистограммы для интернет-траффика."
   ]
  },
  {
   "cell_type": "code",
   "execution_count": 32,
   "metadata": {},
   "outputs": [
    {
     "data": {
      "text/plain": [
       "<AxesSubplot:ylabel='Frequency'>"
      ]
     },
     "execution_count": 32,
     "metadata": {},
     "output_type": "execute_result"
    },
    {
     "data": {
      "image/png": "[encoded data removed]",
      "text/plain": [
       "<Figure size 432x288 with 1 Axes>"
      ]
     },
     "metadata": {
      "needs_background": "light"
     },
     "output_type": "display_data"
    }
   ],
   "source": [
    "# plot histograms\n",
    "smart_data['gb_used'].plot(kind='hist', bins=45, grid=True, legend=True, label='Smart', alpha=0.9)\n",
    "ultra_data['gb_used'].plot(kind='hist', bins=45, grid=True, legend=True, label='Ultra', alpha=0.7)"
   ]
  },
  {
   "cell_type": "markdown",
   "metadata": {},
   "source": [
    "Распределение для тарифа \"Смарт\" опять нормальное (только почему-то оно не непрерывно), а для тарифа \"Ультра\" опять сильно сглажено."
   ]
  },
  {
   "cell_type": "markdown",
   "metadata": {},
   "source": [
    "Построим гистограммы для помесячной выручки."
   ]
  },
  {
   "cell_type": "code",
   "execution_count": 33,
   "metadata": {},
   "outputs": [
    {
     "data": {
      "text/plain": [
       "<AxesSubplot:ylabel='Frequency'>"
      ]
     },
     "execution_count": 33,
     "metadata": {},
     "output_type": "execute_result"
    },
    {
     "data": {
      "image/png": "[encoded data removed]",
      "text/plain": [
       "<Figure size 432x288 with 1 Axes>"
      ]
     },
     "metadata": {
      "needs_background": "light"
     },
     "output_type": "display_data"
    }
   ],
   "source": [
    "# plot histograms\n",
    "smart_data['monthly_revenue'].plot(kind='hist', bins=10, grid=True, legend=True, label='Smart', alpha=0.9)\n",
    "ultra_data['monthly_revenue'].plot(kind='hist', bins=10, grid=True, legend=True, label='Ultra', alpha=0.7)"
   ]
  },
  {
   "cell_type": "markdown",
   "metadata": {},
   "source": [
    "Видно, что большая часть людей не платит за услуги сверх пакетного тарифа, но, если для тарифа \"Смарт\" пользование услугами сверх пакетного тарифа происходит довольно часто, то для тарифа \"Ультра\" такого почти не случается (только для людей тратящих очень много денег: более 4000 руб.)."
   ]
  },
  {
   "cell_type": "markdown",
   "metadata": {},
   "source": [
    "Также построим графики выручки по месяцам в разрезе по тарифам."
   ]
  },
  {
   "cell_type": "code",
   "execution_count": 34,
   "metadata": {},
   "outputs": [
    {
     "data": {
      "text/plain": [
       "<AxesSubplot:xlabel='month'>"
      ]
     },
     "execution_count": 34,
     "metadata": {},
     "output_type": "execute_result"
    },
    {
     "data": {
      "image/png": "[encoded data removed]",
      "text/plain": [
       "<Figure size 432x288 with 1 Axes>"
      ]
     },
     "metadata": {
      "needs_background": "light"
     },
     "output_type": "display_data"
    }
   ],
   "source": [
    "smart_data.pivot_table(index='month', values='monthly_revenue', aggfunc='mean').plot(grid=True)"
   ]
  },
  {
   "cell_type": "code",
   "execution_count": 35,
   "metadata": {},
   "outputs": [
    {
     "data": {
      "text/plain": [
       "<AxesSubplot:title={'center':'\"Ultra\" monthly revenue'}, xlabel='month', ylabel='monthly revenue'>"
      ]
     },
     "execution_count": 35,
     "metadata": {},
     "output_type": "execute_result"
    },
    {
     "data": {
      "image/png": "[encoded data removed]",
      "text/plain": [
       "<Figure size 432x288 with 1 Axes>"
      ]
     },
     "metadata": {
      "needs_background": "light"
     },
     "output_type": "display_data"
    },
    {
     "data": {
      "image/png": "[encoded data removed]",
      "text/plain": [
       "<Figure size 432x288 with 1 Axes>"
      ]
     },
     "metadata": {
      "needs_background": "light"
     },
     "output_type": "display_data"
    }
   ],
   "source": [
    "smart_data.pivot_table(index='month', values='monthly_revenue', aggfunc='mean').plot(grid=True, ylabel='monthly revenue', title='\"Smart\" monthly revenue', legend=False, xticks=range(1, 13))\n",
    "\n",
    "ultra_data.pivot_table(index='month', values='monthly_revenue', aggfunc='mean').plot(grid=True, ylabel='monthly revenue', title='\"Ultra\" monthly revenue', legend=False, xticks=range(1, 13))\n"
   ]
  },
  {
   "cell_type": "markdown",
   "metadata": {},
   "source": [
    "Видим, что в среднем выручка растет."
   ]
  },
  {
   "cell_type": "code",
   "execution_count": 36,
   "metadata": {},
   "outputs": [
    {
     "data": {
      "text/plain": [
       "<AxesSubplot:xlabel='month'>"
      ]
     },
     "execution_count": 36,
     "metadata": {},
     "output_type": "execute_result"
    },
    {
     "data": {
      "image/png": "[encoded data removed]",
      "text/plain": [
       "<Figure size 432x288 with 1 Axes>"
      ]
     },
     "metadata": {
      "needs_background": "light"
     },
     "output_type": "display_data"
    }
   ],
   "source": [
    "# Комментарий ревьюера 2\n",
    "(df.pivot_table(index='tariff', columns='month', values='monthly_revenue', aggfunc='mean')\n",
    " .T.plot(kind='bar', alpha=0.5)\n",
    ")\n",
    "#plt.title('Средняя ежемесячная выручка по 2-м тарифам за год'+ \"\\n\")\n",
    "#plt.xlabel('Месяц')\n",
    "#plt.ylabel('Рубли')"
   ]
  },
  {
   "cell_type": "markdown",
   "metadata": {},
   "source": [
    "### Вывод\n",
    "Были посчитаны среднее значение, дисперсия и стандартное отклонение, построены гистограммы длительности звонков, количества сообщений, количества использованного интернет-траффика и помесячной выручки. Также были построены графики выручки по месяцам в разрезе по тарифам: по ним видно, что средняя выручка обоих тарифов растет."
   ]
  },
  {
   "cell_type": "markdown",
   "metadata": {},
   "source": [
    "## Проверка гипотез"
   ]
  },
  {
   "cell_type": "markdown",
   "metadata": {},
   "source": [
    "Нам нужно проверить две гипотезы:\n",
    "- средняя выручка пользователей тарифов «Ультра» и «Смарт» различаются;\n",
    "- средняя выручка пользователей из Москвы отличается от выручки пользователей из других регионов."
   ]
  },
  {
   "cell_type": "markdown",
   "metadata": {},
   "source": [
    "### Проверка гипотезы о равенстве средней выручке тарифов \"Ультра\" и \"Смарт\""
   ]
  },
  {
   "cell_type": "markdown",
   "metadata": {},
   "source": [
    "Нулевая гипотеза $H_0$: средняя выручка пользователей тарифа \"Ультра\" равна средней выручке пользователей тарифа \"Смарт\".\n",
    "\n",
    "Альтернативная гипотеза $H_1$: средняя выручка пользователей тарифа \"Ультра\"  не равна средней выручке пользователей тарифа \"Смарт\".\n",
    "\n",
    "Так как наши выборки – это генеральные совокупности, то для проверки гипотезы будем использовать метод `ttest_ind`."
   ]
  },
  {
   "cell_type": "code",
   "execution_count": 37,
   "metadata": {},
   "outputs": [
    {
     "name": "stdout",
     "output_type": "stream",
     "text": [
      "p-значение: 1.463617294216551e-137\n",
      "Отвергаем нулевую гипотезу.\n"
     ]
    }
   ],
   "source": [
    "# critical p-value\n",
    "alpha = 0.05 \n",
    "\n",
    "# t-test\n",
    "results = st.ttest_ind(smart_data['monthly_revenue'], ultra_data['monthly_revenue'], equal_var=False)\n",
    "\n",
    "print('p-значение:', results.pvalue)\n",
    "\n",
    "if results.pvalue < alpha:\n",
    "    print('Отвергаем нулевую гипотезу.')\n",
    "else:\n",
    "    print('Не получилось отвергнуть нулевую гипотезу.') "
   ]
  },
  {
   "cell_type": "markdown",
   "metadata": {},
   "source": [
    "Получается, что средняя выручка пользователей двух тарифов не равны. Посчитаем среднее и медиану выручки пользователей \"Смарт\" и \"Ультра\"."
   ]
  },
  {
   "cell_type": "code",
   "execution_count": 38,
   "metadata": {},
   "outputs": [
    {
     "name": "stdout",
     "output_type": "stream",
     "text": [
      "Средняя и медианная выручка пользователей тарифа 'Смарт': 1289.9735307312696, 1023.0\n",
      "Средняя и медианная выручка пользователей тарифа 'Ультра': 2376.243654822335, 1950.0\n"
     ]
    }
   ],
   "source": [
    "print(f\"Средняя и медианная выручка пользователей тарифа 'Смарт': {smart_data['monthly_revenue'].mean()}, {smart_data['monthly_revenue'].median()}\")\n",
    "print(f\"Средняя и медианная выручка пользователей тарифа 'Ультра': {ultra_data['monthly_revenue'].mean()}, {ultra_data['monthly_revenue'].median()}\")"
   ]
  },
  {
   "cell_type": "markdown",
   "metadata": {},
   "source": [
    "Как мы видим, и средняя, и медианная выручка пользователей тарифа \"Ультра\" почти в два раза больше. Значит, он более выгоден для компании."
   ]
  },
  {
   "cell_type": "markdown",
   "metadata": {},
   "source": [
    "### Проверка гипотезы о равенстве средней выручке пользователей из Москвы и других городов"
   ]
  },
  {
   "cell_type": "markdown",
   "metadata": {},
   "source": [
    "Нулевая гипотеза $H_0$: средняя выручка пользователей из Москвы равна средней выручке пользователей из других городов.\n",
    "\n",
    "Альтернативная гипотеза $H_1$: средняя выручка пользователей из Москвы не равна средней выручке пользователей из других городов.\n",
    "\n",
    "По той же причине будем использовать метод `ttest_ind`."
   ]
  },
  {
   "cell_type": "code",
   "execution_count": 39,
   "metadata": {},
   "outputs": [
    {
     "name": "stdout",
     "output_type": "stream",
     "text": [
      "p-значение: 0.12416074788267101\n",
      "Не получилось отвергнуть нулевую гипотезу\n"
     ]
    }
   ],
   "source": [
    "# create moscow dataframe and not moscow dataframe\n",
    "moscow_data = df[df['city'] == 'Москва']\n",
    "province_data = df[df['city'] != 'Москва']\n",
    "\n",
    "# critical p-value\n",
    "alpha = 0.05\n",
    "\n",
    "# t-test\n",
    "results = st.ttest_ind(moscow_data['monthly_revenue'], province_data['monthly_revenue'], equal_var=False)\n",
    "\n",
    "print('p-значение:', results.pvalue)\n",
    "\n",
    "if results.pvalue < alpha:\n",
    "    print('Отвергаем нулевую гипотезу')\n",
    "else:\n",
    "    print('Не получилось отвергнуть нулевую гипотезу')"
   ]
  },
  {
   "cell_type": "markdown",
   "metadata": {},
   "source": [
    "Для дополнительного подтверждения нашей гипотезы посчитаем среднее и медианное значение выручки пользователей из Москвы и других регионов."
   ]
  },
  {
   "cell_type": "code",
   "execution_count": 40,
   "metadata": {},
   "outputs": [
    {
     "name": "stdout",
     "output_type": "stream",
     "text": [
      "Средняя и медианная выручка пользователей из Москвы: 1682.9656301145662, 1750.0\n",
      "Средняя и медианная выручка пользователей из других регионов: 1608.7817902420284, 1583.0\n"
     ]
    }
   ],
   "source": [
    "print(f\"Средняя и медианная выручка пользователей из Москвы: {moscow_data['monthly_revenue'].mean()}, {moscow_data['monthly_revenue'].median()}\")\n",
    "print(f\"Средняя и медианная выручка пользователей из других регионов: {province_data['monthly_revenue'].mean()}, {province_data['monthly_revenue'].median()}\")"
   ]
  },
  {
   "cell_type": "markdown",
   "metadata": {},
   "source": [
    "Среднее в Москве и в регионах почти не отличаются, по медиане отличие больше заметно, но все равно не так сильно, чтобы были основания отвергать нулевую гипотезу."
   ]
  },
  {
   "cell_type": "markdown",
   "metadata": {},
   "source": [
    "### Вывод\n",
    "\n",
    "Было проверено две гипотезы с помощью t-теста на четырех генеральных выборках разных размеров:\n",
    "- средняя выручка пользователей тарифов «Ультра» и «Смарт» различаются;\n",
    "- средняя выручка пользователей из Москвы отличается от выручки пользователей из других регионов.\n",
    "\n",
    "Первая гипотеза была подтверждена, вторая – опровегнута."
   ]
  },
  {
   "cell_type": "markdown",
   "metadata": {},
   "source": [
    "## Общий вывод"
   ]
  },
  {
   "cell_type": "markdown",
   "metadata": {},
   "source": [
    "Были изучены и подготовлены к анализу пять датафреймов с данными пользователей с тарифами \"Смарт\" и \"Ультра\":\n",
    "- данные были приведены к нужному типу, были исправлены ошибки;\n",
    "- для каждого пользователя были посчитаны количество сделанных звонков и израсходованных минут разговора по месяцам, количество отправленных сообщений по месяцам, объем израсходованного интернет-трафика по месяцам, а также помесячная выручка;\n",
    "- были посчитаны среднее значение, дисперсия и стандартное отклонение для помесячной длительности звонков, количества сообщений и израсходованного интернет-траффика, а также для этих величин и помесячной выручки были построены гистограммы; в частности, выяснилось, что пользователи тарифа \"Ультра\" больше, чем пользователи тарифа \"Смарт\", пользуются всеми перечисленными услугами, также выяснилось, что пользователи тарифа \"Ультра\" почти не используют услугу сверх тарифного пакета;\n",
    "- были сформулированы и проверены две гипотезы: 1. средняя выручка пользователей тарифов «Ультра» и «Смарт» различаются; 2. средняя выручка пользователей из Москвы отличается от выручки пользователей из других регионов. Первая гипотеза была подтверждена, вторая – опровегнута.\n",
    "- были посчитаны средние выручки пользователей тарифа \"Ультра\" (2376 руб.) и \"Смарт\" (1290 руб.): тариф \"Ультра\" оказался выгоднее для компании."
   ]
  }
 ],
 "metadata": {
  "ExecuteTimeLog": [
   {
    "duration": 1083,
    "start_time": "2022-05-18T22:44:32.325Z"
   },
   {
    "duration": 243,
    "start_time": "2022-05-18T22:44:42.394Z"
   },
   {
    "duration": 162,
    "start_time": "2022-05-18T22:44:45.282Z"
   },
   {
    "duration": 166,
    "start_time": "2022-05-18T22:44:48.313Z"
   },
   {
    "duration": 179,
    "start_time": "2022-05-18T22:45:05.146Z"
   },
   {
    "duration": 942,
    "start_time": "2022-05-18T22:46:40.588Z"
   },
   {
    "duration": 48,
    "start_time": "2022-05-18T22:50:40.031Z"
   },
   {
    "duration": 8,
    "start_time": "2022-05-18T22:51:05.409Z"
   },
   {
    "duration": 68,
    "start_time": "2022-05-18T22:51:09.380Z"
   },
   {
    "duration": 60,
    "start_time": "2022-05-18T22:51:17.356Z"
   },
   {
    "duration": 55,
    "start_time": "2022-05-18T22:51:47.504Z"
   },
   {
    "duration": 34,
    "start_time": "2022-05-18T22:52:24.778Z"
   },
   {
    "duration": 36,
    "start_time": "2022-05-18T22:52:51.999Z"
   },
   {
    "duration": 39,
    "start_time": "2022-05-18T22:53:01.535Z"
   },
   {
    "duration": 40,
    "start_time": "2022-05-18T22:53:06.312Z"
   },
   {
    "duration": 26,
    "start_time": "2022-05-18T22:53:30.322Z"
   },
   {
    "duration": 53,
    "start_time": "2022-05-30T20:41:47.435Z"
   },
   {
    "duration": 1348,
    "start_time": "2022-05-30T20:41:59.835Z"
   },
   {
    "duration": 62,
    "start_time": "2022-05-30T20:42:01.185Z"
   },
   {
    "duration": 62,
    "start_time": "2022-05-30T20:42:01.249Z"
   },
   {
    "duration": 33,
    "start_time": "2022-05-30T20:42:01.313Z"
   },
   {
    "duration": 62,
    "start_time": "2022-05-30T20:42:01.348Z"
   },
   {
    "duration": 27,
    "start_time": "2022-05-30T20:42:01.412Z"
   },
   {
    "duration": 50,
    "start_time": "2022-05-30T20:42:13.177Z"
   },
   {
    "duration": 50,
    "start_time": "2022-05-30T20:42:25.296Z"
   },
   {
    "duration": 53,
    "start_time": "2022-05-30T20:42:30.795Z"
   },
   {
    "duration": 51,
    "start_time": "2022-05-30T20:43:15.975Z"
   },
   {
    "duration": 13,
    "start_time": "2022-05-30T20:52:20.927Z"
   },
   {
    "duration": 5,
    "start_time": "2022-05-30T21:22:10.725Z"
   },
   {
    "duration": 32,
    "start_time": "2022-05-30T21:23:01.501Z"
   },
   {
    "duration": 67,
    "start_time": "2022-05-30T21:23:10.433Z"
   },
   {
    "duration": 19,
    "start_time": "2022-05-30T21:23:17.505Z"
   },
   {
    "duration": 57,
    "start_time": "2022-05-30T21:23:47.505Z"
   },
   {
    "duration": 6,
    "start_time": "2022-05-30T21:27:41.823Z"
   },
   {
    "duration": 312,
    "start_time": "2022-05-30T21:27:58.563Z"
   },
   {
    "duration": 333,
    "start_time": "2022-05-30T21:29:52.493Z"
   },
   {
    "duration": 9,
    "start_time": "2022-05-30T21:45:14.447Z"
   },
   {
    "duration": 20,
    "start_time": "2022-05-30T21:45:30.008Z"
   },
   {
    "duration": 25,
    "start_time": "2022-05-30T21:45:38.573Z"
   },
   {
    "duration": 14,
    "start_time": "2022-05-30T21:45:56.455Z"
   },
   {
    "duration": 13,
    "start_time": "2022-05-30T21:46:03.407Z"
   },
   {
    "duration": 12,
    "start_time": "2022-05-30T21:49:36.007Z"
   },
   {
    "duration": 21,
    "start_time": "2022-05-30T21:50:12.615Z"
   },
   {
    "duration": 13,
    "start_time": "2022-05-30T21:53:21.147Z"
   },
   {
    "duration": 57,
    "start_time": "2022-05-30T22:01:13.595Z"
   },
   {
    "duration": 33,
    "start_time": "2022-05-30T22:03:39.927Z"
   },
   {
    "duration": 21,
    "start_time": "2022-05-30T22:03:43.028Z"
   },
   {
    "duration": 39,
    "start_time": "2022-05-30T22:04:21.927Z"
   },
   {
    "duration": 4,
    "start_time": "2022-05-30T22:07:28.927Z"
   },
   {
    "duration": 15,
    "start_time": "2022-05-30T22:07:48.188Z"
   },
   {
    "duration": 16,
    "start_time": "2022-05-30T22:08:04.955Z"
   },
   {
    "duration": 6,
    "start_time": "2022-05-30T22:08:07.376Z"
   },
   {
    "duration": 14,
    "start_time": "2022-05-30T22:08:08.347Z"
   },
   {
    "duration": 25,
    "start_time": "2022-05-30T22:14:32.127Z"
   },
   {
    "duration": 77,
    "start_time": "2022-05-30T22:32:03.647Z"
   },
   {
    "duration": 88,
    "start_time": "2022-05-30T22:33:20.528Z"
   },
   {
    "duration": 169,
    "start_time": "2022-05-30T22:33:27.548Z"
   },
   {
    "duration": 265,
    "start_time": "2022-05-30T22:37:19.183Z"
   },
   {
    "duration": 13,
    "start_time": "2022-05-30T22:37:28.294Z"
   },
   {
    "duration": 13,
    "start_time": "2022-05-30T22:37:42.554Z"
   },
   {
    "duration": 791,
    "start_time": "2022-05-30T22:40:20.495Z"
   },
   {
    "duration": 56,
    "start_time": "2022-05-30T22:40:21.288Z"
   },
   {
    "duration": 46,
    "start_time": "2022-05-30T22:40:21.345Z"
   },
   {
    "duration": 33,
    "start_time": "2022-05-30T22:40:21.399Z"
   },
   {
    "duration": 15,
    "start_time": "2022-05-30T22:40:21.434Z"
   },
   {
    "duration": 57,
    "start_time": "2022-05-30T22:40:21.450Z"
   },
   {
    "duration": 71,
    "start_time": "2022-05-30T22:40:21.509Z"
   },
   {
    "duration": 49,
    "start_time": "2022-05-30T22:40:21.581Z"
   },
   {
    "duration": 16,
    "start_time": "2022-05-30T22:40:21.631Z"
   },
   {
    "duration": 9,
    "start_time": "2022-05-30T22:40:21.648Z"
   },
   {
    "duration": 21,
    "start_time": "2022-05-30T22:40:21.659Z"
   },
   {
    "duration": 297,
    "start_time": "2022-05-30T22:40:21.699Z"
   },
   {
    "duration": 14,
    "start_time": "2022-05-30T22:40:21.998Z"
   },
   {
    "duration": 98,
    "start_time": "2022-05-30T22:40:38.935Z"
   },
   {
    "duration": 13,
    "start_time": "2022-05-30T22:40:39.454Z"
   },
   {
    "duration": 13,
    "start_time": "2022-05-30T22:40:47.259Z"
   },
   {
    "duration": 178,
    "start_time": "2022-05-30T22:44:52.208Z"
   },
   {
    "duration": 120,
    "start_time": "2022-05-30T22:46:06.727Z"
   },
   {
    "duration": 21,
    "start_time": "2022-05-30T22:46:28.086Z"
   },
   {
    "duration": 25,
    "start_time": "2022-05-30T22:46:36.463Z"
   },
   {
    "duration": 133,
    "start_time": "2022-05-30T22:49:31.215Z"
   },
   {
    "duration": 14,
    "start_time": "2022-05-30T22:49:35.387Z"
   },
   {
    "duration": 27,
    "start_time": "2022-05-30T22:51:11.407Z"
   },
   {
    "duration": 138,
    "start_time": "2022-05-30T22:51:42.527Z"
   },
   {
    "duration": 17,
    "start_time": "2022-05-30T22:51:44.207Z"
   },
   {
    "duration": 170,
    "start_time": "2022-05-30T22:51:49.715Z"
   },
   {
    "duration": 15,
    "start_time": "2022-05-30T22:51:51.006Z"
   },
   {
    "duration": 132,
    "start_time": "2022-05-30T22:51:56.895Z"
   },
   {
    "duration": 15,
    "start_time": "2022-05-30T22:51:57.627Z"
   },
   {
    "duration": 133,
    "start_time": "2022-05-30T22:53:16.127Z"
   },
   {
    "duration": 15,
    "start_time": "2022-05-30T22:53:16.595Z"
   },
   {
    "duration": 136,
    "start_time": "2022-05-30T22:53:33.507Z"
   },
   {
    "duration": 14,
    "start_time": "2022-05-30T22:53:34.027Z"
   },
   {
    "duration": 172,
    "start_time": "2022-05-30T22:53:37.768Z"
   },
   {
    "duration": 15,
    "start_time": "2022-05-30T22:53:38.146Z"
   },
   {
    "duration": 145,
    "start_time": "2022-05-30T22:53:50.987Z"
   },
   {
    "duration": 21,
    "start_time": "2022-05-30T22:53:51.826Z"
   },
   {
    "duration": 138,
    "start_time": "2022-05-30T22:54:09.579Z"
   },
   {
    "duration": 17,
    "start_time": "2022-05-30T22:54:10.075Z"
   },
   {
    "duration": 139,
    "start_time": "2022-05-30T22:55:59.167Z"
   },
   {
    "duration": 14,
    "start_time": "2022-05-30T22:55:59.666Z"
   },
   {
    "duration": 802,
    "start_time": "2022-05-30T22:56:09.747Z"
   },
   {
    "duration": 63,
    "start_time": "2022-05-30T22:56:10.551Z"
   },
   {
    "duration": 47,
    "start_time": "2022-05-30T22:56:10.616Z"
   },
   {
    "duration": 46,
    "start_time": "2022-05-30T22:56:10.665Z"
   },
   {
    "duration": 14,
    "start_time": "2022-05-30T22:56:10.713Z"
   },
   {
    "duration": 27,
    "start_time": "2022-05-30T22:56:10.728Z"
   },
   {
    "duration": 147,
    "start_time": "2022-05-30T22:56:10.756Z"
   },
   {
    "duration": 41,
    "start_time": "2022-05-30T22:56:10.905Z"
   },
   {
    "duration": 19,
    "start_time": "2022-05-30T22:56:10.948Z"
   },
   {
    "duration": 37,
    "start_time": "2022-05-30T22:56:10.969Z"
   },
   {
    "duration": 16,
    "start_time": "2022-05-30T22:56:11.008Z"
   },
   {
    "duration": 156,
    "start_time": "2022-05-30T22:56:11.026Z"
   },
   {
    "duration": 23,
    "start_time": "2022-05-30T22:56:11.183Z"
   },
   {
    "duration": 200,
    "start_time": "2022-05-30T23:02:03.257Z"
   },
   {
    "duration": 182,
    "start_time": "2022-05-30T23:02:18.998Z"
   },
   {
    "duration": 138,
    "start_time": "2022-05-30T23:02:31.437Z"
   },
   {
    "duration": 16,
    "start_time": "2022-05-30T23:02:34.717Z"
   },
   {
    "duration": 142,
    "start_time": "2022-05-30T23:03:04.290Z"
   },
   {
    "duration": 15,
    "start_time": "2022-05-30T23:03:04.770Z"
   },
   {
    "duration": 792,
    "start_time": "2022-05-30T23:03:10.847Z"
   },
   {
    "duration": 60,
    "start_time": "2022-05-30T23:03:11.641Z"
   },
   {
    "duration": 50,
    "start_time": "2022-05-30T23:03:11.703Z"
   },
   {
    "duration": 51,
    "start_time": "2022-05-30T23:03:11.755Z"
   },
   {
    "duration": 17,
    "start_time": "2022-05-30T23:03:11.808Z"
   },
   {
    "duration": 33,
    "start_time": "2022-05-30T23:03:11.827Z"
   },
   {
    "duration": 96,
    "start_time": "2022-05-30T23:03:11.863Z"
   },
   {
    "duration": 50,
    "start_time": "2022-05-30T23:03:11.961Z"
   },
   {
    "duration": 15,
    "start_time": "2022-05-30T23:03:12.013Z"
   },
   {
    "duration": 9,
    "start_time": "2022-05-30T23:03:12.029Z"
   },
   {
    "duration": 17,
    "start_time": "2022-05-30T23:03:12.039Z"
   },
   {
    "duration": 159,
    "start_time": "2022-05-30T23:03:12.058Z"
   },
   {
    "duration": 14,
    "start_time": "2022-05-30T23:03:12.218Z"
   },
   {
    "duration": 136,
    "start_time": "2022-05-30T23:03:33.467Z"
   },
   {
    "duration": 12,
    "start_time": "2022-05-30T23:03:34.387Z"
   },
   {
    "duration": 814,
    "start_time": "2022-05-30T23:03:59.563Z"
   },
   {
    "duration": 65,
    "start_time": "2022-05-30T23:04:00.379Z"
   },
   {
    "duration": 60,
    "start_time": "2022-05-30T23:04:00.445Z"
   },
   {
    "duration": 33,
    "start_time": "2022-05-30T23:04:00.507Z"
   },
   {
    "duration": 15,
    "start_time": "2022-05-30T23:04:00.543Z"
   },
   {
    "duration": 61,
    "start_time": "2022-05-30T23:04:00.560Z"
   },
   {
    "duration": 83,
    "start_time": "2022-05-30T23:04:00.623Z"
   },
   {
    "duration": 41,
    "start_time": "2022-05-30T23:04:00.708Z"
   },
   {
    "duration": 16,
    "start_time": "2022-05-30T23:04:00.751Z"
   },
   {
    "duration": 32,
    "start_time": "2022-05-30T23:04:00.768Z"
   },
   {
    "duration": 32,
    "start_time": "2022-05-30T23:04:00.801Z"
   },
   {
    "duration": 145,
    "start_time": "2022-05-30T23:04:00.834Z"
   },
   {
    "duration": 20,
    "start_time": "2022-05-30T23:04:00.980Z"
   },
   {
    "duration": 132,
    "start_time": "2022-05-30T23:04:26.514Z"
   },
   {
    "duration": 14,
    "start_time": "2022-05-30T23:04:27.046Z"
   },
   {
    "duration": 243,
    "start_time": "2022-05-30T23:06:17.727Z"
   },
   {
    "duration": 138,
    "start_time": "2022-05-30T23:06:39.266Z"
   },
   {
    "duration": 15,
    "start_time": "2022-05-30T23:06:41.298Z"
   },
   {
    "duration": 138,
    "start_time": "2022-05-30T23:07:06.126Z"
   },
   {
    "duration": 14,
    "start_time": "2022-05-30T23:07:06.695Z"
   },
   {
    "duration": 34,
    "start_time": "2022-05-30T23:23:00.228Z"
   },
   {
    "duration": 155,
    "start_time": "2022-05-30T23:29:47.471Z"
   },
   {
    "duration": 861,
    "start_time": "2022-05-30T23:30:00.060Z"
   },
   {
    "duration": 63,
    "start_time": "2022-05-30T23:30:00.924Z"
   },
   {
    "duration": 61,
    "start_time": "2022-05-30T23:30:00.988Z"
   },
   {
    "duration": 34,
    "start_time": "2022-05-30T23:30:01.050Z"
   },
   {
    "duration": 64,
    "start_time": "2022-05-30T23:30:01.086Z"
   },
   {
    "duration": 41,
    "start_time": "2022-05-30T23:30:01.151Z"
   },
   {
    "duration": 98,
    "start_time": "2022-05-30T23:30:01.194Z"
   },
   {
    "duration": 44,
    "start_time": "2022-05-30T23:30:01.294Z"
   },
   {
    "duration": 20,
    "start_time": "2022-05-30T23:30:01.340Z"
   },
   {
    "duration": 17,
    "start_time": "2022-05-30T23:30:01.362Z"
   },
   {
    "duration": 38,
    "start_time": "2022-05-30T23:30:01.380Z"
   },
   {
    "duration": 194,
    "start_time": "2022-05-30T23:30:01.419Z"
   },
   {
    "duration": 19,
    "start_time": "2022-05-30T23:30:01.615Z"
   },
   {
    "duration": 10,
    "start_time": "2022-05-30T23:30:32.668Z"
   },
   {
    "duration": 821,
    "start_time": "2022-05-30T23:41:05.341Z"
   },
   {
    "duration": 64,
    "start_time": "2022-05-30T23:41:06.163Z"
   },
   {
    "duration": 51,
    "start_time": "2022-05-30T23:41:06.229Z"
   },
   {
    "duration": 53,
    "start_time": "2022-05-30T23:41:06.282Z"
   },
   {
    "duration": 15,
    "start_time": "2022-05-30T23:41:06.337Z"
   },
   {
    "duration": 57,
    "start_time": "2022-05-30T23:41:06.353Z"
   },
   {
    "duration": 74,
    "start_time": "2022-05-30T23:41:06.412Z"
   },
   {
    "duration": 52,
    "start_time": "2022-05-30T23:41:06.487Z"
   },
   {
    "duration": 17,
    "start_time": "2022-05-30T23:41:06.541Z"
   },
   {
    "duration": 10,
    "start_time": "2022-05-30T23:41:06.560Z"
   },
   {
    "duration": 44,
    "start_time": "2022-05-30T23:41:06.571Z"
   },
   {
    "duration": 154,
    "start_time": "2022-05-30T23:41:06.616Z"
   },
   {
    "duration": 15,
    "start_time": "2022-05-30T23:41:06.772Z"
   },
   {
    "duration": 81,
    "start_time": "2022-05-30T23:41:06.802Z"
   },
   {
    "duration": 0,
    "start_time": "2022-05-30T23:41:06.884Z"
   },
   {
    "duration": 12,
    "start_time": "2022-05-30T23:41:53.452Z"
   },
   {
    "duration": 20,
    "start_time": "2022-05-30T23:43:04.528Z"
   },
   {
    "duration": 19,
    "start_time": "2022-05-30T23:43:38.916Z"
   },
   {
    "duration": 825,
    "start_time": "2022-05-30T23:47:58.817Z"
   },
   {
    "duration": 69,
    "start_time": "2022-05-30T23:47:59.644Z"
   },
   {
    "duration": 55,
    "start_time": "2022-05-30T23:47:59.715Z"
   },
   {
    "duration": 44,
    "start_time": "2022-05-30T23:47:59.772Z"
   },
   {
    "duration": 14,
    "start_time": "2022-05-30T23:47:59.817Z"
   },
   {
    "duration": 26,
    "start_time": "2022-05-30T23:47:59.833Z"
   },
   {
    "duration": 91,
    "start_time": "2022-05-30T23:47:59.861Z"
   },
   {
    "duration": 46,
    "start_time": "2022-05-30T23:47:59.953Z"
   },
   {
    "duration": 19,
    "start_time": "2022-05-30T23:48:00.001Z"
   },
   {
    "duration": 22,
    "start_time": "2022-05-30T23:48:00.022Z"
   },
   {
    "duration": 30,
    "start_time": "2022-05-30T23:48:00.046Z"
   },
   {
    "duration": 174,
    "start_time": "2022-05-30T23:48:00.077Z"
   },
   {
    "duration": 18,
    "start_time": "2022-05-30T23:48:00.253Z"
   },
   {
    "duration": 119,
    "start_time": "2022-05-30T23:48:00.273Z"
   },
   {
    "duration": 0,
    "start_time": "2022-05-30T23:48:00.394Z"
   },
   {
    "duration": 0,
    "start_time": "2022-05-30T23:48:00.395Z"
   },
   {
    "duration": 0,
    "start_time": "2022-05-30T23:48:00.396Z"
   },
   {
    "duration": 4,
    "start_time": "2022-05-30T23:48:31.252Z"
   },
   {
    "duration": 10,
    "start_time": "2022-05-30T23:48:40.052Z"
   },
   {
    "duration": 852,
    "start_time": "2022-05-30T23:54:43.792Z"
   },
   {
    "duration": 63,
    "start_time": "2022-05-30T23:54:44.646Z"
   },
   {
    "duration": 50,
    "start_time": "2022-05-30T23:54:44.714Z"
   },
   {
    "duration": 46,
    "start_time": "2022-05-30T23:54:44.766Z"
   },
   {
    "duration": 12,
    "start_time": "2022-05-30T23:54:44.816Z"
   },
   {
    "duration": 36,
    "start_time": "2022-05-30T23:54:44.830Z"
   },
   {
    "duration": 78,
    "start_time": "2022-05-30T23:54:44.867Z"
   },
   {
    "duration": 35,
    "start_time": "2022-05-30T23:54:44.946Z"
   },
   {
    "duration": 34,
    "start_time": "2022-05-30T23:54:44.983Z"
   },
   {
    "duration": 10,
    "start_time": "2022-05-30T23:54:45.019Z"
   },
   {
    "duration": 23,
    "start_time": "2022-05-30T23:54:45.032Z"
   },
   {
    "duration": 181,
    "start_time": "2022-05-30T23:54:45.057Z"
   },
   {
    "duration": 17,
    "start_time": "2022-05-30T23:54:45.239Z"
   },
   {
    "duration": 4,
    "start_time": "2022-05-30T23:54:45.258Z"
   },
   {
    "duration": 13,
    "start_time": "2022-05-30T23:54:45.264Z"
   },
   {
    "duration": 89,
    "start_time": "2022-05-30T23:54:45.279Z"
   },
   {
    "duration": 23,
    "start_time": "2022-05-30T23:54:45.369Z"
   },
   {
    "duration": 29,
    "start_time": "2022-05-30T23:57:02.433Z"
   },
   {
    "duration": 6,
    "start_time": "2022-05-30T23:59:17.191Z"
   },
   {
    "duration": 66,
    "start_time": "2022-05-30T23:59:47.651Z"
   },
   {
    "duration": 25,
    "start_time": "2022-05-31T00:01:00.051Z"
   },
   {
    "duration": 3,
    "start_time": "2022-05-31T00:02:25.451Z"
   },
   {
    "duration": 31,
    "start_time": "2022-05-31T00:02:27.731Z"
   },
   {
    "duration": 5,
    "start_time": "2022-05-31T00:02:36.315Z"
   },
   {
    "duration": 53,
    "start_time": "2022-05-31T00:02:37.971Z"
   },
   {
    "duration": 53,
    "start_time": "2022-05-31T00:04:00.764Z"
   },
   {
    "duration": 40,
    "start_time": "2022-05-31T00:04:15.731Z"
   },
   {
    "duration": 19,
    "start_time": "2022-05-31T00:05:37.092Z"
   },
   {
    "duration": 25,
    "start_time": "2022-05-31T00:05:50.815Z"
   },
   {
    "duration": 62,
    "start_time": "2022-05-31T00:06:21.731Z"
   },
   {
    "duration": 73,
    "start_time": "2022-05-31T00:11:12.191Z"
   },
   {
    "duration": 10,
    "start_time": "2022-05-31T00:11:20.939Z"
   },
   {
    "duration": 16,
    "start_time": "2022-05-31T00:11:28.751Z"
   },
   {
    "duration": 14,
    "start_time": "2022-05-31T00:12:09.270Z"
   },
   {
    "duration": 33,
    "start_time": "2022-05-31T00:13:08.891Z"
   },
   {
    "duration": 13,
    "start_time": "2022-05-31T00:13:16.271Z"
   },
   {
    "duration": 26,
    "start_time": "2022-05-31T00:17:51.153Z"
   },
   {
    "duration": 19,
    "start_time": "2022-05-31T00:17:51.551Z"
   },
   {
    "duration": 24,
    "start_time": "2022-05-31T00:18:00.351Z"
   },
   {
    "duration": 25,
    "start_time": "2022-05-31T00:18:03.553Z"
   },
   {
    "duration": 810,
    "start_time": "2022-05-31T00:18:11.714Z"
   },
   {
    "duration": 64,
    "start_time": "2022-05-31T00:18:12.526Z"
   },
   {
    "duration": 57,
    "start_time": "2022-05-31T00:18:12.591Z"
   },
   {
    "duration": 33,
    "start_time": "2022-05-31T00:18:12.649Z"
   },
   {
    "duration": 17,
    "start_time": "2022-05-31T00:18:12.700Z"
   },
   {
    "duration": 27,
    "start_time": "2022-05-31T00:18:12.718Z"
   },
   {
    "duration": 98,
    "start_time": "2022-05-31T00:18:12.747Z"
   },
   {
    "duration": 42,
    "start_time": "2022-05-31T00:18:12.847Z"
   },
   {
    "duration": 16,
    "start_time": "2022-05-31T00:18:12.899Z"
   },
   {
    "duration": 9,
    "start_time": "2022-05-31T00:18:12.917Z"
   },
   {
    "duration": 20,
    "start_time": "2022-05-31T00:18:12.928Z"
   },
   {
    "duration": 185,
    "start_time": "2022-05-31T00:18:12.949Z"
   },
   {
    "duration": 18,
    "start_time": "2022-05-31T00:18:13.136Z"
   },
   {
    "duration": 5,
    "start_time": "2022-05-31T00:18:13.157Z"
   },
   {
    "duration": 22,
    "start_time": "2022-05-31T00:18:13.164Z"
   },
   {
    "duration": 67,
    "start_time": "2022-05-31T00:18:13.200Z"
   },
   {
    "duration": 17,
    "start_time": "2022-05-31T00:18:13.269Z"
   },
   {
    "duration": 4,
    "start_time": "2022-05-31T00:18:13.300Z"
   },
   {
    "duration": 21,
    "start_time": "2022-05-31T00:18:13.305Z"
   },
   {
    "duration": 34,
    "start_time": "2022-05-31T00:18:13.328Z"
   },
   {
    "duration": 13,
    "start_time": "2022-05-31T00:18:13.363Z"
   },
   {
    "duration": 33,
    "start_time": "2022-05-31T00:18:34.473Z"
   },
   {
    "duration": 915,
    "start_time": "2022-05-31T00:22:32.492Z"
   },
   {
    "duration": 62,
    "start_time": "2022-05-31T00:22:33.409Z"
   },
   {
    "duration": 62,
    "start_time": "2022-05-31T00:22:33.473Z"
   },
   {
    "duration": 30,
    "start_time": "2022-05-31T00:22:33.537Z"
   },
   {
    "duration": 34,
    "start_time": "2022-05-31T00:22:33.569Z"
   },
   {
    "duration": 25,
    "start_time": "2022-05-31T00:22:33.605Z"
   },
   {
    "duration": 82,
    "start_time": "2022-05-31T00:22:33.632Z"
   },
   {
    "duration": 38,
    "start_time": "2022-05-31T00:22:33.715Z"
   },
   {
    "duration": 17,
    "start_time": "2022-05-31T00:22:33.754Z"
   },
   {
    "duration": 28,
    "start_time": "2022-05-31T00:22:33.773Z"
   },
   {
    "duration": 15,
    "start_time": "2022-05-31T00:22:33.802Z"
   },
   {
    "duration": 161,
    "start_time": "2022-05-31T00:22:33.818Z"
   },
   {
    "duration": 21,
    "start_time": "2022-05-31T00:22:33.981Z"
   },
   {
    "duration": 4,
    "start_time": "2022-05-31T00:22:34.003Z"
   },
   {
    "duration": 13,
    "start_time": "2022-05-31T00:22:34.008Z"
   },
   {
    "duration": 78,
    "start_time": "2022-05-31T00:22:34.022Z"
   },
   {
    "duration": 16,
    "start_time": "2022-05-31T00:22:34.102Z"
   },
   {
    "duration": 3,
    "start_time": "2022-05-31T00:22:34.121Z"
   },
   {
    "duration": 9,
    "start_time": "2022-05-31T00:22:34.125Z"
   },
   {
    "duration": 35,
    "start_time": "2022-05-31T00:22:34.135Z"
   },
   {
    "duration": 66,
    "start_time": "2022-05-31T00:23:49.705Z"
   },
   {
    "duration": 911,
    "start_time": "2022-05-31T00:23:53.977Z"
   },
   {
    "duration": 209,
    "start_time": "2022-05-31T00:24:33.516Z"
   },
   {
    "duration": 122,
    "start_time": "2022-05-31T00:26:23.331Z"
   },
   {
    "duration": 228,
    "start_time": "2022-05-31T00:26:39.390Z"
   },
   {
    "duration": 167,
    "start_time": "2022-05-31T00:26:48.371Z"
   },
   {
    "duration": 238,
    "start_time": "2022-05-31T00:27:24.939Z"
   },
   {
    "duration": 319,
    "start_time": "2022-05-31T00:27:48.291Z"
   },
   {
    "duration": 55,
    "start_time": "2022-05-31T21:55:36.669Z"
   },
   {
    "duration": 1337,
    "start_time": "2022-05-31T21:55:45.353Z"
   },
   {
    "duration": 58,
    "start_time": "2022-05-31T21:55:46.692Z"
   },
   {
    "duration": 42,
    "start_time": "2022-05-31T21:55:46.751Z"
   },
   {
    "duration": 26,
    "start_time": "2022-05-31T21:55:46.795Z"
   },
   {
    "duration": 12,
    "start_time": "2022-05-31T21:55:46.822Z"
   },
   {
    "duration": 44,
    "start_time": "2022-05-31T21:55:46.835Z"
   },
   {
    "duration": 63,
    "start_time": "2022-05-31T21:55:46.879Z"
   },
   {
    "duration": 50,
    "start_time": "2022-05-31T21:55:46.943Z"
   },
   {
    "duration": 15,
    "start_time": "2022-05-31T21:55:46.994Z"
   },
   {
    "duration": 8,
    "start_time": "2022-05-31T21:55:47.011Z"
   },
   {
    "duration": 16,
    "start_time": "2022-05-31T21:55:47.021Z"
   },
   {
    "duration": 155,
    "start_time": "2022-05-31T21:55:47.038Z"
   },
   {
    "duration": 15,
    "start_time": "2022-05-31T21:55:47.195Z"
   },
   {
    "duration": 2,
    "start_time": "2022-05-31T21:55:47.212Z"
   },
   {
    "duration": 9,
    "start_time": "2022-05-31T21:55:47.216Z"
   },
   {
    "duration": 75,
    "start_time": "2022-05-31T21:55:47.227Z"
   },
   {
    "duration": 16,
    "start_time": "2022-05-31T21:55:47.303Z"
   },
   {
    "duration": 3,
    "start_time": "2022-05-31T21:55:47.320Z"
   },
   {
    "duration": 30,
    "start_time": "2022-05-31T21:55:47.325Z"
   },
   {
    "duration": 4,
    "start_time": "2022-05-31T21:55:47.375Z"
   },
   {
    "duration": 749,
    "start_time": "2022-05-31T21:55:47.380Z"
   },
   {
    "duration": 426,
    "start_time": "2022-05-31T21:56:04.404Z"
   },
   {
    "duration": 373,
    "start_time": "2022-05-31T21:56:38.413Z"
   },
   {
    "duration": 172,
    "start_time": "2022-05-31T21:56:50.525Z"
   },
   {
    "duration": 249,
    "start_time": "2022-05-31T21:57:00.747Z"
   },
   {
    "duration": 250,
    "start_time": "2022-05-31T21:57:10.506Z"
   },
   {
    "duration": 266,
    "start_time": "2022-05-31T22:00:12.824Z"
   },
   {
    "duration": 151,
    "start_time": "2022-05-31T22:00:25.165Z"
   },
   {
    "duration": 150,
    "start_time": "2022-05-31T22:00:48.904Z"
   },
   {
    "duration": 152,
    "start_time": "2022-05-31T22:00:58.076Z"
   },
   {
    "duration": 198,
    "start_time": "2022-05-31T22:01:18.365Z"
   },
   {
    "duration": 201,
    "start_time": "2022-05-31T22:02:48.124Z"
   },
   {
    "duration": 202,
    "start_time": "2022-05-31T22:03:03.185Z"
   },
   {
    "duration": 291,
    "start_time": "2022-05-31T22:03:18.324Z"
   },
   {
    "duration": 203,
    "start_time": "2022-05-31T22:03:23.944Z"
   },
   {
    "duration": 73,
    "start_time": "2022-05-31T22:05:50.544Z"
   },
   {
    "duration": 217,
    "start_time": "2022-05-31T22:06:01.960Z"
   },
   {
    "duration": 193,
    "start_time": "2022-05-31T22:06:04.708Z"
   },
   {
    "duration": 261,
    "start_time": "2022-05-31T22:09:16.965Z"
   },
   {
    "duration": 254,
    "start_time": "2022-05-31T22:09:29.097Z"
   },
   {
    "duration": 417,
    "start_time": "2022-05-31T22:10:32.118Z"
   },
   {
    "duration": 204,
    "start_time": "2022-05-31T22:11:29.165Z"
   },
   {
    "duration": 222,
    "start_time": "2022-05-31T22:11:34.105Z"
   },
   {
    "duration": 434,
    "start_time": "2022-05-31T22:11:50.165Z"
   },
   {
    "duration": 779,
    "start_time": "2022-05-31T22:11:57.704Z"
   },
   {
    "duration": 482,
    "start_time": "2022-05-31T22:12:07.771Z"
   },
   {
    "duration": 264,
    "start_time": "2022-05-31T22:12:14.185Z"
   },
   {
    "duration": 202,
    "start_time": "2022-05-31T22:15:19.305Z"
   },
   {
    "duration": 171,
    "start_time": "2022-05-31T22:15:28.118Z"
   },
   {
    "duration": 204,
    "start_time": "2022-05-31T22:15:35.925Z"
   },
   {
    "duration": 333,
    "start_time": "2022-05-31T22:15:44.585Z"
   },
   {
    "duration": 275,
    "start_time": "2022-05-31T22:16:20.864Z"
   },
   {
    "duration": 271,
    "start_time": "2022-05-31T22:16:34.864Z"
   },
   {
    "duration": 249,
    "start_time": "2022-05-31T22:17:01.889Z"
   },
   {
    "duration": 251,
    "start_time": "2022-05-31T22:17:12.087Z"
   },
   {
    "duration": 281,
    "start_time": "2022-05-31T22:17:38.545Z"
   },
   {
    "duration": 298,
    "start_time": "2022-05-31T22:18:22.206Z"
   },
   {
    "duration": 244,
    "start_time": "2022-05-31T22:18:52.887Z"
   },
   {
    "duration": 204,
    "start_time": "2022-05-31T22:22:50.365Z"
   },
   {
    "duration": 199,
    "start_time": "2022-05-31T22:24:33.504Z"
   },
   {
    "duration": 182,
    "start_time": "2022-05-31T22:25:16.318Z"
   },
   {
    "duration": 8,
    "start_time": "2022-05-31T23:41:01.921Z"
   },
   {
    "duration": 1105,
    "start_time": "2022-05-31T23:41:09.536Z"
   },
   {
    "duration": 61,
    "start_time": "2022-05-31T23:41:10.643Z"
   },
   {
    "duration": 45,
    "start_time": "2022-05-31T23:41:10.705Z"
   },
   {
    "duration": 62,
    "start_time": "2022-05-31T23:41:10.751Z"
   },
   {
    "duration": 13,
    "start_time": "2022-05-31T23:41:10.815Z"
   },
   {
    "duration": 22,
    "start_time": "2022-05-31T23:41:10.830Z"
   },
   {
    "duration": 80,
    "start_time": "2022-05-31T23:41:10.854Z"
   },
   {
    "duration": 40,
    "start_time": "2022-05-31T23:41:10.935Z"
   },
   {
    "duration": 21,
    "start_time": "2022-05-31T23:41:10.977Z"
   },
   {
    "duration": 10,
    "start_time": "2022-05-31T23:41:10.999Z"
   },
   {
    "duration": 16,
    "start_time": "2022-05-31T23:41:11.010Z"
   },
   {
    "duration": 191,
    "start_time": "2022-05-31T23:41:11.028Z"
   },
   {
    "duration": 16,
    "start_time": "2022-05-31T23:41:11.220Z"
   },
   {
    "duration": 3,
    "start_time": "2022-05-31T23:41:11.238Z"
   },
   {
    "duration": 12,
    "start_time": "2022-05-31T23:41:11.242Z"
   },
   {
    "duration": 82,
    "start_time": "2022-05-31T23:41:11.255Z"
   },
   {
    "duration": 15,
    "start_time": "2022-05-31T23:41:11.338Z"
   },
   {
    "duration": 3,
    "start_time": "2022-05-31T23:41:11.355Z"
   },
   {
    "duration": 46,
    "start_time": "2022-05-31T23:41:11.360Z"
   },
   {
    "duration": 5,
    "start_time": "2022-05-31T23:41:11.408Z"
   },
   {
    "duration": 462,
    "start_time": "2022-05-31T23:41:11.414Z"
   },
   {
    "duration": 300,
    "start_time": "2022-05-31T23:41:11.885Z"
   },
   {
    "duration": 278,
    "start_time": "2022-05-31T23:41:12.189Z"
   },
   {
    "duration": 166,
    "start_time": "2022-05-31T23:41:12.469Z"
   },
   {
    "duration": 3,
    "start_time": "2022-05-31T23:41:12.637Z"
   },
   {
    "duration": 5,
    "start_time": "2022-05-31T23:41:29.097Z"
   },
   {
    "duration": 4,
    "start_time": "2022-05-31T23:42:19.302Z"
   },
   {
    "duration": 138,
    "start_time": "2022-06-01T00:02:25.111Z"
   },
   {
    "duration": 13,
    "start_time": "2022-06-01T00:02:47.668Z"
   },
   {
    "duration": 1298,
    "start_time": "2022-06-01T00:27:01.747Z"
   },
   {
    "duration": 63,
    "start_time": "2022-06-01T00:27:03.046Z"
   },
   {
    "duration": 44,
    "start_time": "2022-06-01T00:27:03.110Z"
   },
   {
    "duration": 45,
    "start_time": "2022-06-01T00:27:03.156Z"
   },
   {
    "duration": 13,
    "start_time": "2022-06-01T00:27:03.203Z"
   },
   {
    "duration": 25,
    "start_time": "2022-06-01T00:27:03.217Z"
   },
   {
    "duration": 94,
    "start_time": "2022-06-01T00:27:03.243Z"
   },
   {
    "duration": 47,
    "start_time": "2022-06-01T00:27:03.338Z"
   },
   {
    "duration": 5,
    "start_time": "2022-06-01T00:27:03.386Z"
   },
   {
    "duration": 20,
    "start_time": "2022-06-01T00:27:03.392Z"
   },
   {
    "duration": 8,
    "start_time": "2022-06-01T00:27:03.413Z"
   },
   {
    "duration": 20,
    "start_time": "2022-06-01T00:27:03.422Z"
   },
   {
    "duration": 188,
    "start_time": "2022-06-01T00:27:03.444Z"
   },
   {
    "duration": 16,
    "start_time": "2022-06-01T00:27:03.634Z"
   },
   {
    "duration": 3,
    "start_time": "2022-06-01T00:27:03.652Z"
   },
   {
    "duration": 29,
    "start_time": "2022-06-01T00:27:03.657Z"
   },
   {
    "duration": 58,
    "start_time": "2022-06-01T00:27:03.688Z"
   },
   {
    "duration": 16,
    "start_time": "2022-06-01T00:27:03.747Z"
   },
   {
    "duration": 15,
    "start_time": "2022-06-01T00:27:03.765Z"
   },
   {
    "duration": 32,
    "start_time": "2022-06-01T00:27:03.782Z"
   },
   {
    "duration": 4,
    "start_time": "2022-06-01T00:27:03.815Z"
   },
   {
    "duration": 503,
    "start_time": "2022-06-01T00:27:03.820Z"
   },
   {
    "duration": 291,
    "start_time": "2022-06-01T00:27:04.324Z"
   },
   {
    "duration": 255,
    "start_time": "2022-06-01T00:27:04.616Z"
   },
   {
    "duration": 172,
    "start_time": "2022-06-01T00:27:04.872Z"
   },
   {
    "duration": 4,
    "start_time": "2022-06-01T00:27:05.046Z"
   },
   {
    "duration": 10,
    "start_time": "2022-06-01T00:27:05.051Z"
   },
   {
    "duration": 17,
    "start_time": "2022-06-01T00:28:14.319Z"
   },
   {
    "duration": 1171,
    "start_time": "2022-06-01T00:29:18.559Z"
   },
   {
    "duration": 56,
    "start_time": "2022-06-01T00:29:19.732Z"
   },
   {
    "duration": 44,
    "start_time": "2022-06-01T00:29:19.790Z"
   },
   {
    "duration": 27,
    "start_time": "2022-06-01T00:29:19.835Z"
   },
   {
    "duration": 14,
    "start_time": "2022-06-01T00:29:19.890Z"
   },
   {
    "duration": 23,
    "start_time": "2022-06-01T00:29:19.905Z"
   },
   {
    "duration": 84,
    "start_time": "2022-06-01T00:29:19.929Z"
   },
   {
    "duration": 35,
    "start_time": "2022-06-01T00:29:20.014Z"
   },
   {
    "duration": 5,
    "start_time": "2022-06-01T00:29:20.051Z"
   },
   {
    "duration": 27,
    "start_time": "2022-06-01T00:29:20.058Z"
   },
   {
    "duration": 20,
    "start_time": "2022-06-01T00:29:20.087Z"
   },
   {
    "duration": 8,
    "start_time": "2022-06-01T00:29:20.108Z"
   },
   {
    "duration": 17,
    "start_time": "2022-06-01T00:29:20.117Z"
   },
   {
    "duration": 188,
    "start_time": "2022-06-01T00:29:20.135Z"
   },
   {
    "duration": 15,
    "start_time": "2022-06-01T00:29:20.325Z"
   },
   {
    "duration": 3,
    "start_time": "2022-06-01T00:29:20.342Z"
   },
   {
    "duration": 12,
    "start_time": "2022-06-01T00:29:20.346Z"
   },
   {
    "duration": 75,
    "start_time": "2022-06-01T00:29:20.360Z"
   },
   {
    "duration": 15,
    "start_time": "2022-06-01T00:29:20.436Z"
   },
   {
    "duration": 3,
    "start_time": "2022-06-01T00:29:20.453Z"
   },
   {
    "duration": 43,
    "start_time": "2022-06-01T00:29:20.457Z"
   },
   {
    "duration": 4,
    "start_time": "2022-06-01T00:29:20.501Z"
   },
   {
    "duration": 453,
    "start_time": "2022-06-01T00:29:20.506Z"
   },
   {
    "duration": 275,
    "start_time": "2022-06-01T00:29:20.961Z"
   },
   {
    "duration": 253,
    "start_time": "2022-06-01T00:29:21.238Z"
   },
   {
    "duration": 161,
    "start_time": "2022-06-01T00:29:21.493Z"
   },
   {
    "duration": 4,
    "start_time": "2022-06-01T00:29:21.655Z"
   },
   {
    "duration": 8,
    "start_time": "2022-06-01T00:29:21.662Z"
   },
   {
    "duration": 16,
    "start_time": "2022-06-01T00:30:10.099Z"
   },
   {
    "duration": 9,
    "start_time": "2022-06-01T00:30:51.787Z"
   },
   {
    "duration": 10,
    "start_time": "2022-06-01T00:30:55.447Z"
   },
   {
    "duration": 1633,
    "start_time": "2022-06-01T01:20:04.599Z"
   },
   {
    "duration": 54,
    "start_time": "2022-06-01T01:20:06.236Z"
   },
   {
    "duration": 48,
    "start_time": "2022-06-01T01:20:06.291Z"
   },
   {
    "duration": 49,
    "start_time": "2022-06-01T01:20:06.341Z"
   },
   {
    "duration": 16,
    "start_time": "2022-06-01T01:20:06.393Z"
   },
   {
    "duration": 28,
    "start_time": "2022-06-01T01:20:06.411Z"
   },
   {
    "duration": 106,
    "start_time": "2022-06-01T01:20:06.441Z"
   },
   {
    "duration": 52,
    "start_time": "2022-06-01T01:20:06.548Z"
   },
   {
    "duration": 4,
    "start_time": "2022-06-01T01:20:06.602Z"
   },
   {
    "duration": 19,
    "start_time": "2022-06-01T01:20:06.607Z"
   },
   {
    "duration": 17,
    "start_time": "2022-06-01T01:20:06.627Z"
   },
   {
    "duration": 35,
    "start_time": "2022-06-01T01:20:06.645Z"
   },
   {
    "duration": 22,
    "start_time": "2022-06-01T01:20:06.681Z"
   },
   {
    "duration": 210,
    "start_time": "2022-06-01T01:20:06.706Z"
   },
   {
    "duration": 18,
    "start_time": "2022-06-01T01:20:06.918Z"
   },
   {
    "duration": 3,
    "start_time": "2022-06-01T01:20:06.938Z"
   },
   {
    "duration": 11,
    "start_time": "2022-06-01T01:20:06.943Z"
   },
   {
    "duration": 69,
    "start_time": "2022-06-01T01:20:06.975Z"
   },
   {
    "duration": 11,
    "start_time": "2022-06-01T01:20:07.046Z"
   },
   {
    "duration": 17,
    "start_time": "2022-06-01T01:20:07.058Z"
   },
   {
    "duration": 33,
    "start_time": "2022-06-01T01:20:07.077Z"
   },
   {
    "duration": 4,
    "start_time": "2022-06-01T01:20:07.112Z"
   },
   {
    "duration": 526,
    "start_time": "2022-06-01T01:20:07.118Z"
   },
   {
    "duration": 331,
    "start_time": "2022-06-01T01:20:07.646Z"
   },
   {
    "duration": 301,
    "start_time": "2022-06-01T01:20:07.978Z"
   },
   {
    "duration": 214,
    "start_time": "2022-06-01T01:20:08.281Z"
   },
   {
    "duration": 5,
    "start_time": "2022-06-01T01:20:08.497Z"
   },
   {
    "duration": 9,
    "start_time": "2022-06-01T01:20:08.503Z"
   },
   {
    "duration": 4,
    "start_time": "2022-06-01T01:24:54.305Z"
   },
   {
    "duration": 59,
    "start_time": "2022-06-01T23:08:56.191Z"
   },
   {
    "duration": 1778,
    "start_time": "2022-06-01T23:09:03.752Z"
   },
   {
    "duration": 70,
    "start_time": "2022-06-01T23:09:05.532Z"
   },
   {
    "duration": 56,
    "start_time": "2022-06-01T23:09:05.604Z"
   },
   {
    "duration": 51,
    "start_time": "2022-06-01T23:09:05.662Z"
   },
   {
    "duration": 16,
    "start_time": "2022-06-01T23:09:05.715Z"
   },
   {
    "duration": 40,
    "start_time": "2022-06-01T23:09:05.733Z"
   },
   {
    "duration": 104,
    "start_time": "2022-06-01T23:09:05.774Z"
   },
   {
    "duration": 55,
    "start_time": "2022-06-01T23:09:05.879Z"
   },
   {
    "duration": 5,
    "start_time": "2022-06-01T23:09:05.936Z"
   },
   {
    "duration": 22,
    "start_time": "2022-06-01T23:09:05.943Z"
   },
   {
    "duration": 46,
    "start_time": "2022-06-01T23:09:05.967Z"
   },
   {
    "duration": 9,
    "start_time": "2022-06-01T23:09:06.015Z"
   },
   {
    "duration": 22,
    "start_time": "2022-06-01T23:09:06.026Z"
   },
   {
    "duration": 230,
    "start_time": "2022-06-01T23:09:06.051Z"
   },
   {
    "duration": 23,
    "start_time": "2022-06-01T23:09:06.283Z"
   },
   {
    "duration": 4,
    "start_time": "2022-06-01T23:09:06.308Z"
   },
   {
    "duration": 13,
    "start_time": "2022-06-01T23:09:06.314Z"
   },
   {
    "duration": 6,
    "start_time": "2022-06-01T23:09:06.329Z"
   },
   {
    "duration": 52,
    "start_time": "2022-06-01T23:10:01.510Z"
   },
   {
    "duration": 11,
    "start_time": "2022-06-01T23:11:15.990Z"
   },
   {
    "duration": 7,
    "start_time": "2022-06-01T23:11:31.122Z"
   },
   {
    "duration": 5,
    "start_time": "2022-06-01T23:11:36.394Z"
   },
   {
    "duration": 18,
    "start_time": "2022-06-01T23:11:42.510Z"
   },
   {
    "duration": 6,
    "start_time": "2022-06-01T23:12:12.829Z"
   },
   {
    "duration": 7,
    "start_time": "2022-06-01T23:12:21.991Z"
   },
   {
    "duration": 4,
    "start_time": "2022-06-01T23:13:46.298Z"
   },
   {
    "duration": 7,
    "start_time": "2022-06-01T23:14:07.174Z"
   },
   {
    "duration": 448,
    "start_time": "2022-06-01T23:14:54.797Z"
   },
   {
    "duration": 55,
    "start_time": "2022-06-01T23:14:55.247Z"
   },
   {
    "duration": 73,
    "start_time": "2022-06-01T23:14:55.303Z"
   },
   {
    "duration": 51,
    "start_time": "2022-06-01T23:14:55.378Z"
   },
   {
    "duration": 17,
    "start_time": "2022-06-01T23:14:55.431Z"
   },
   {
    "duration": 53,
    "start_time": "2022-06-01T23:14:55.450Z"
   },
   {
    "duration": 14,
    "start_time": "2022-06-01T23:15:20.956Z"
   },
   {
    "duration": 6,
    "start_time": "2022-06-01T23:15:31.472Z"
   },
   {
    "duration": 7,
    "start_time": "2022-06-01T23:15:41.272Z"
   },
   {
    "duration": 7,
    "start_time": "2022-06-01T23:15:50.085Z"
   },
   {
    "duration": 6,
    "start_time": "2022-06-01T23:16:21.757Z"
   },
   {
    "duration": 5,
    "start_time": "2022-06-01T23:17:34.645Z"
   },
   {
    "duration": 18,
    "start_time": "2022-06-01T23:20:31.685Z"
   },
   {
    "duration": 446,
    "start_time": "2022-06-01T23:20:40.570Z"
   },
   {
    "duration": 64,
    "start_time": "2022-06-01T23:20:41.018Z"
   },
   {
    "duration": 56,
    "start_time": "2022-06-01T23:20:41.084Z"
   },
   {
    "duration": 35,
    "start_time": "2022-06-01T23:20:41.142Z"
   },
   {
    "duration": 17,
    "start_time": "2022-06-01T23:20:41.199Z"
   },
   {
    "duration": 34,
    "start_time": "2022-06-01T23:20:41.217Z"
   },
   {
    "duration": 105,
    "start_time": "2022-06-01T23:20:41.252Z"
   },
   {
    "duration": 51,
    "start_time": "2022-06-01T23:20:41.359Z"
   },
   {
    "duration": 5,
    "start_time": "2022-06-01T23:20:41.412Z"
   },
   {
    "duration": 24,
    "start_time": "2022-06-01T23:20:41.418Z"
   },
   {
    "duration": 11,
    "start_time": "2022-06-01T23:20:41.444Z"
   },
   {
    "duration": 9,
    "start_time": "2022-06-01T23:20:41.457Z"
   },
   {
    "duration": 52,
    "start_time": "2022-06-01T23:20:41.468Z"
   },
   {
    "duration": 154,
    "start_time": "2022-06-01T23:20:41.523Z"
   },
   {
    "duration": 26,
    "start_time": "2022-06-01T23:20:57.017Z"
   },
   {
    "duration": 125,
    "start_time": "2022-06-01T23:22:23.225Z"
   },
   {
    "duration": 22,
    "start_time": "2022-06-01T23:22:25.184Z"
   },
   {
    "duration": 5,
    "start_time": "2022-06-01T23:24:36.077Z"
   },
   {
    "duration": 28,
    "start_time": "2022-06-01T23:30:00.103Z"
   },
   {
    "duration": 325,
    "start_time": "2022-06-01T23:35:58.663Z"
   },
   {
    "duration": 258,
    "start_time": "2022-06-01T23:36:05.690Z"
   },
   {
    "duration": 183,
    "start_time": "2022-06-01T23:36:16.911Z"
   },
   {
    "duration": 200,
    "start_time": "2022-06-01T23:37:11.712Z"
   },
   {
    "duration": 1127,
    "start_time": "2022-06-01T23:39:08.403Z"
   },
   {
    "duration": 231,
    "start_time": "2022-06-01T23:39:28.791Z"
   },
   {
    "duration": 443,
    "start_time": "2022-06-01T23:40:11.361Z"
   },
   {
    "duration": 135,
    "start_time": "2022-06-01T23:40:30.018Z"
   },
   {
    "duration": 132,
    "start_time": "2022-06-01T23:41:51.564Z"
   },
   {
    "duration": 170,
    "start_time": "2022-06-01T23:42:46.014Z"
   },
   {
    "duration": 254,
    "start_time": "2022-06-01T23:42:55.063Z"
   },
   {
    "duration": 278,
    "start_time": "2022-06-01T23:43:10.282Z"
   },
   {
    "duration": 363,
    "start_time": "2022-06-01T23:43:19.554Z"
   },
   {
    "duration": 254,
    "start_time": "2022-06-01T23:44:35.404Z"
   },
   {
    "duration": 272,
    "start_time": "2022-06-01T23:44:45.740Z"
   },
   {
    "duration": 19,
    "start_time": "2022-06-01T23:46:42.081Z"
   },
   {
    "duration": 9,
    "start_time": "2022-06-01T23:47:05.452Z"
   },
   {
    "duration": 9,
    "start_time": "2022-06-01T23:47:14.653Z"
   },
   {
    "duration": 8,
    "start_time": "2022-06-01T23:48:44.993Z"
   },
   {
    "duration": 20,
    "start_time": "2022-06-01T23:51:01.753Z"
   },
   {
    "duration": 3,
    "start_time": "2022-06-01T23:51:11.361Z"
   },
   {
    "duration": 256,
    "start_time": "2022-06-01T23:51:25.833Z"
   },
   {
    "duration": 19,
    "start_time": "2022-06-01T23:54:46.032Z"
   },
   {
    "duration": 10,
    "start_time": "2022-06-01T23:55:07.974Z"
   },
   {
    "duration": 1292,
    "start_time": "2022-06-01T23:55:18.734Z"
   },
   {
    "duration": 65,
    "start_time": "2022-06-01T23:55:20.028Z"
   },
   {
    "duration": 58,
    "start_time": "2022-06-01T23:55:20.095Z"
   },
   {
    "duration": 50,
    "start_time": "2022-06-01T23:55:20.155Z"
   },
   {
    "duration": 22,
    "start_time": "2022-06-01T23:55:20.207Z"
   },
   {
    "duration": 39,
    "start_time": "2022-06-01T23:55:20.232Z"
   },
   {
    "duration": 246,
    "start_time": "2022-06-01T23:55:20.300Z"
   },
   {
    "duration": 82,
    "start_time": "2022-06-01T23:55:20.548Z"
   },
   {
    "duration": 56,
    "start_time": "2022-06-01T23:55:20.632Z"
   },
   {
    "duration": 5,
    "start_time": "2022-06-01T23:55:20.700Z"
   },
   {
    "duration": 22,
    "start_time": "2022-06-01T23:55:20.707Z"
   },
   {
    "duration": 17,
    "start_time": "2022-06-01T23:55:20.730Z"
   },
   {
    "duration": 8,
    "start_time": "2022-06-01T23:55:20.748Z"
   },
   {
    "duration": 46,
    "start_time": "2022-06-01T23:55:20.759Z"
   },
   {
    "duration": 594,
    "start_time": "2022-06-01T23:55:20.807Z"
   },
   {
    "duration": 7,
    "start_time": "2022-06-01T23:55:21.403Z"
   },
   {
    "duration": 21,
    "start_time": "2022-06-01T23:55:21.411Z"
   },
   {
    "duration": 393,
    "start_time": "2022-06-01T23:55:21.433Z"
   },
   {
    "duration": 177,
    "start_time": "2022-06-01T23:55:21.829Z"
   },
   {
    "duration": 21,
    "start_time": "2022-06-01T23:55:22.008Z"
   },
   {
    "duration": 4,
    "start_time": "2022-06-01T23:55:22.030Z"
   },
   {
    "duration": 16,
    "start_time": "2022-06-01T23:55:22.036Z"
   },
   {
    "duration": 10,
    "start_time": "2022-06-01T23:55:22.054Z"
   },
   {
    "duration": 134,
    "start_time": "2022-06-01T23:55:22.066Z"
   },
   {
    "duration": 0,
    "start_time": "2022-06-01T23:55:22.202Z"
   },
   {
    "duration": 0,
    "start_time": "2022-06-01T23:55:22.203Z"
   },
   {
    "duration": 0,
    "start_time": "2022-06-01T23:55:22.204Z"
   },
   {
    "duration": 0,
    "start_time": "2022-06-01T23:55:22.205Z"
   },
   {
    "duration": 0,
    "start_time": "2022-06-01T23:55:22.206Z"
   },
   {
    "duration": 0,
    "start_time": "2022-06-01T23:55:22.207Z"
   },
   {
    "duration": 0,
    "start_time": "2022-06-01T23:55:22.209Z"
   },
   {
    "duration": 0,
    "start_time": "2022-06-01T23:55:22.210Z"
   },
   {
    "duration": 0,
    "start_time": "2022-06-01T23:55:22.211Z"
   },
   {
    "duration": 0,
    "start_time": "2022-06-01T23:55:22.212Z"
   },
   {
    "duration": 0,
    "start_time": "2022-06-01T23:55:22.213Z"
   },
   {
    "duration": 0,
    "start_time": "2022-06-01T23:55:22.215Z"
   },
   {
    "duration": 1279,
    "start_time": "2022-06-01T23:55:32.851Z"
   },
   {
    "duration": 66,
    "start_time": "2022-06-01T23:55:34.132Z"
   },
   {
    "duration": 55,
    "start_time": "2022-06-01T23:55:34.199Z"
   },
   {
    "duration": 47,
    "start_time": "2022-06-01T23:55:34.256Z"
   },
   {
    "duration": 17,
    "start_time": "2022-06-01T23:55:34.306Z"
   },
   {
    "duration": 29,
    "start_time": "2022-06-01T23:55:34.325Z"
   },
   {
    "duration": 270,
    "start_time": "2022-06-01T23:55:34.355Z"
   },
   {
    "duration": 80,
    "start_time": "2022-06-01T23:55:34.627Z"
   },
   {
    "duration": 61,
    "start_time": "2022-06-01T23:55:34.709Z"
   },
   {
    "duration": 5,
    "start_time": "2022-06-01T23:55:34.772Z"
   },
   {
    "duration": 35,
    "start_time": "2022-06-01T23:55:34.779Z"
   },
   {
    "duration": 16,
    "start_time": "2022-06-01T23:55:34.816Z"
   },
   {
    "duration": 8,
    "start_time": "2022-06-01T23:55:34.834Z"
   },
   {
    "duration": 18,
    "start_time": "2022-06-01T23:55:34.845Z"
   },
   {
    "duration": 587,
    "start_time": "2022-06-01T23:55:34.865Z"
   },
   {
    "duration": 7,
    "start_time": "2022-06-01T23:55:35.454Z"
   },
   {
    "duration": 20,
    "start_time": "2022-06-01T23:55:35.463Z"
   },
   {
    "duration": 360,
    "start_time": "2022-06-01T23:55:35.485Z"
   },
   {
    "duration": 166,
    "start_time": "2022-06-01T23:55:35.847Z"
   },
   {
    "duration": 21,
    "start_time": "2022-06-01T23:55:36.015Z"
   },
   {
    "duration": 4,
    "start_time": "2022-06-01T23:55:36.037Z"
   },
   {
    "duration": 15,
    "start_time": "2022-06-01T23:55:36.043Z"
   },
   {
    "duration": 5,
    "start_time": "2022-06-01T23:55:36.060Z"
   },
   {
    "duration": 159,
    "start_time": "2022-06-01T23:55:36.066Z"
   },
   {
    "duration": 0,
    "start_time": "2022-06-01T23:55:36.226Z"
   },
   {
    "duration": 0,
    "start_time": "2022-06-01T23:55:36.228Z"
   },
   {
    "duration": 0,
    "start_time": "2022-06-01T23:55:36.229Z"
   },
   {
    "duration": 0,
    "start_time": "2022-06-01T23:55:36.229Z"
   },
   {
    "duration": 0,
    "start_time": "2022-06-01T23:55:36.231Z"
   },
   {
    "duration": 0,
    "start_time": "2022-06-01T23:55:36.232Z"
   },
   {
    "duration": 0,
    "start_time": "2022-06-01T23:55:36.233Z"
   },
   {
    "duration": 0,
    "start_time": "2022-06-01T23:55:36.234Z"
   },
   {
    "duration": 0,
    "start_time": "2022-06-01T23:55:36.235Z"
   },
   {
    "duration": 0,
    "start_time": "2022-06-01T23:55:36.236Z"
   },
   {
    "duration": 0,
    "start_time": "2022-06-01T23:55:36.237Z"
   },
   {
    "duration": 0,
    "start_time": "2022-06-01T23:55:36.238Z"
   },
   {
    "duration": 6,
    "start_time": "2022-06-01T23:58:08.214Z"
   },
   {
    "duration": 1387,
    "start_time": "2022-06-01T23:59:19.910Z"
   },
   {
    "duration": 69,
    "start_time": "2022-06-01T23:59:21.299Z"
   },
   {
    "duration": 94,
    "start_time": "2022-06-01T23:59:21.369Z"
   },
   {
    "duration": 55,
    "start_time": "2022-06-01T23:59:21.465Z"
   },
   {
    "duration": 19,
    "start_time": "2022-06-01T23:59:21.523Z"
   },
   {
    "duration": 68,
    "start_time": "2022-06-01T23:59:21.544Z"
   },
   {
    "duration": 293,
    "start_time": "2022-06-01T23:59:21.614Z"
   },
   {
    "duration": 70,
    "start_time": "2022-06-01T23:59:21.909Z"
   },
   {
    "duration": 51,
    "start_time": "2022-06-01T23:59:21.981Z"
   },
   {
    "duration": 6,
    "start_time": "2022-06-01T23:59:22.033Z"
   },
   {
    "duration": 22,
    "start_time": "2022-06-01T23:59:22.041Z"
   },
   {
    "duration": 43,
    "start_time": "2022-06-01T23:59:22.065Z"
   },
   {
    "duration": 10,
    "start_time": "2022-06-01T23:59:22.110Z"
   },
   {
    "duration": 22,
    "start_time": "2022-06-01T23:59:22.123Z"
   },
   {
    "duration": 597,
    "start_time": "2022-06-01T23:59:22.147Z"
   },
   {
    "duration": 10,
    "start_time": "2022-06-01T23:59:22.746Z"
   },
   {
    "duration": 22,
    "start_time": "2022-06-01T23:59:22.757Z"
   },
   {
    "duration": 374,
    "start_time": "2022-06-01T23:59:22.780Z"
   },
   {
    "duration": 170,
    "start_time": "2022-06-01T23:59:23.156Z"
   },
   {
    "duration": 20,
    "start_time": "2022-06-01T23:59:23.328Z"
   },
   {
    "duration": 6,
    "start_time": "2022-06-01T23:59:23.350Z"
   },
   {
    "duration": 16,
    "start_time": "2022-06-01T23:59:23.358Z"
   },
   {
    "duration": 26,
    "start_time": "2022-06-01T23:59:23.376Z"
   },
   {
    "duration": 138,
    "start_time": "2022-06-01T23:59:23.404Z"
   },
   {
    "duration": 0,
    "start_time": "2022-06-01T23:59:23.544Z"
   },
   {
    "duration": 0,
    "start_time": "2022-06-01T23:59:23.545Z"
   },
   {
    "duration": 0,
    "start_time": "2022-06-01T23:59:23.545Z"
   },
   {
    "duration": 0,
    "start_time": "2022-06-01T23:59:23.546Z"
   },
   {
    "duration": 0,
    "start_time": "2022-06-01T23:59:23.548Z"
   },
   {
    "duration": 0,
    "start_time": "2022-06-01T23:59:23.549Z"
   },
   {
    "duration": 0,
    "start_time": "2022-06-01T23:59:23.550Z"
   },
   {
    "duration": 0,
    "start_time": "2022-06-01T23:59:23.551Z"
   },
   {
    "duration": 0,
    "start_time": "2022-06-01T23:59:23.553Z"
   },
   {
    "duration": 0,
    "start_time": "2022-06-01T23:59:23.554Z"
   },
   {
    "duration": 0,
    "start_time": "2022-06-01T23:59:23.555Z"
   },
   {
    "duration": 0,
    "start_time": "2022-06-01T23:59:23.556Z"
   },
   {
    "duration": 6,
    "start_time": "2022-06-02T00:00:07.453Z"
   },
   {
    "duration": 15,
    "start_time": "2022-06-02T00:00:09.717Z"
   },
   {
    "duration": 5,
    "start_time": "2022-06-02T00:00:22.475Z"
   },
   {
    "duration": 16,
    "start_time": "2022-06-02T00:00:23.883Z"
   },
   {
    "duration": 1344,
    "start_time": "2022-06-02T00:00:29.595Z"
   },
   {
    "duration": 73,
    "start_time": "2022-06-02T00:00:30.941Z"
   },
   {
    "duration": 67,
    "start_time": "2022-06-02T00:00:31.015Z"
   },
   {
    "duration": 36,
    "start_time": "2022-06-02T00:00:31.099Z"
   },
   {
    "duration": 18,
    "start_time": "2022-06-02T00:00:31.137Z"
   },
   {
    "duration": 56,
    "start_time": "2022-06-02T00:00:31.158Z"
   },
   {
    "duration": 249,
    "start_time": "2022-06-02T00:00:31.216Z"
   },
   {
    "duration": 86,
    "start_time": "2022-06-02T00:00:31.467Z"
   },
   {
    "duration": 48,
    "start_time": "2022-06-02T00:00:31.554Z"
   },
   {
    "duration": 6,
    "start_time": "2022-06-02T00:00:31.605Z"
   },
   {
    "duration": 33,
    "start_time": "2022-06-02T00:00:31.613Z"
   },
   {
    "duration": 23,
    "start_time": "2022-06-02T00:00:31.648Z"
   },
   {
    "duration": 9,
    "start_time": "2022-06-02T00:00:31.672Z"
   },
   {
    "duration": 40,
    "start_time": "2022-06-02T00:00:31.682Z"
   },
   {
    "duration": 633,
    "start_time": "2022-06-02T00:00:31.724Z"
   },
   {
    "duration": 9,
    "start_time": "2022-06-02T00:00:32.359Z"
   },
   {
    "duration": 40,
    "start_time": "2022-06-02T00:00:32.370Z"
   },
   {
    "duration": 369,
    "start_time": "2022-06-02T00:00:32.411Z"
   },
   {
    "duration": 166,
    "start_time": "2022-06-02T00:00:32.782Z"
   },
   {
    "duration": 24,
    "start_time": "2022-06-02T00:00:32.949Z"
   },
   {
    "duration": 24,
    "start_time": "2022-06-02T00:00:32.975Z"
   },
   {
    "duration": 13,
    "start_time": "2022-06-02T00:00:33.002Z"
   },
   {
    "duration": 6,
    "start_time": "2022-06-02T00:00:33.018Z"
   },
   {
    "duration": 99,
    "start_time": "2022-06-02T00:00:33.025Z"
   },
   {
    "duration": 14,
    "start_time": "2022-06-02T00:00:33.126Z"
   },
   {
    "duration": 7,
    "start_time": "2022-06-02T00:00:33.141Z"
   },
   {
    "duration": 58,
    "start_time": "2022-06-02T00:00:33.150Z"
   },
   {
    "duration": 5,
    "start_time": "2022-06-02T00:00:33.212Z"
   },
   {
    "duration": 289,
    "start_time": "2022-06-02T00:00:33.219Z"
   },
   {
    "duration": 348,
    "start_time": "2022-06-02T00:00:33.510Z"
   },
   {
    "duration": 322,
    "start_time": "2022-06-02T00:00:33.860Z"
   },
   {
    "duration": 209,
    "start_time": "2022-06-02T00:00:34.183Z"
   },
   {
    "duration": 6,
    "start_time": "2022-06-02T00:00:34.398Z"
   },
   {
    "duration": 144,
    "start_time": "2022-06-02T00:00:34.406Z"
   },
   {
    "duration": 0,
    "start_time": "2022-06-02T00:00:34.552Z"
   },
   {
    "duration": 0,
    "start_time": "2022-06-02T00:00:34.554Z"
   },
   {
    "duration": 4,
    "start_time": "2022-06-02T00:00:48.614Z"
   },
   {
    "duration": 29,
    "start_time": "2022-06-02T00:00:50.935Z"
   },
   {
    "duration": 6,
    "start_time": "2022-06-02T00:00:53.863Z"
   },
   {
    "duration": 40,
    "start_time": "2022-06-02T00:02:37.026Z"
   },
   {
    "duration": 4,
    "start_time": "2022-06-02T00:02:46.574Z"
   },
   {
    "duration": 5,
    "start_time": "2022-06-02T00:03:26.635Z"
   },
   {
    "duration": 6,
    "start_time": "2022-06-02T00:07:24.583Z"
   },
   {
    "duration": 10,
    "start_time": "2022-06-02T00:08:11.293Z"
   },
   {
    "duration": 8,
    "start_time": "2022-06-02T00:08:15.693Z"
   },
   {
    "duration": 6,
    "start_time": "2022-06-02T00:08:17.815Z"
   },
   {
    "duration": 5,
    "start_time": "2022-06-02T00:08:49.333Z"
   },
   {
    "duration": 51,
    "start_time": "2022-06-02T00:15:00.536Z"
   },
   {
    "duration": 218,
    "start_time": "2022-06-02T00:17:55.144Z"
   },
   {
    "duration": 10,
    "start_time": "2022-06-02T00:18:05.535Z"
   },
   {
    "duration": 143,
    "start_time": "2022-06-02T00:18:30.928Z"
   },
   {
    "duration": 280,
    "start_time": "2022-06-02T00:19:00.415Z"
   },
   {
    "duration": 158,
    "start_time": "2022-06-02T00:19:14.152Z"
   },
   {
    "duration": 141,
    "start_time": "2022-06-02T00:19:23.012Z"
   },
   {
    "duration": 154,
    "start_time": "2022-06-02T00:19:42.184Z"
   },
   {
    "duration": 184,
    "start_time": "2022-06-02T00:21:21.264Z"
   },
   {
    "duration": 10,
    "start_time": "2022-06-02T00:23:27.595Z"
   },
   {
    "duration": 14,
    "start_time": "2022-06-02T00:23:33.387Z"
   },
   {
    "duration": 137,
    "start_time": "2022-06-02T00:23:42.247Z"
   },
   {
    "duration": 255,
    "start_time": "2022-06-02T00:23:53.927Z"
   },
   {
    "duration": 281,
    "start_time": "2022-06-02T00:24:03.008Z"
   },
   {
    "duration": 267,
    "start_time": "2022-06-02T00:24:25.768Z"
   },
   {
    "duration": 288,
    "start_time": "2022-06-02T00:24:45.367Z"
   },
   {
    "duration": 142,
    "start_time": "2022-06-02T00:25:22.367Z"
   },
   {
    "duration": 435,
    "start_time": "2022-06-02T00:25:42.707Z"
   },
   {
    "duration": 1355,
    "start_time": "2022-06-02T00:25:51.751Z"
   },
   {
    "duration": 69,
    "start_time": "2022-06-02T00:25:53.107Z"
   },
   {
    "duration": 68,
    "start_time": "2022-06-02T00:25:53.177Z"
   },
   {
    "duration": 35,
    "start_time": "2022-06-02T00:25:53.247Z"
   },
   {
    "duration": 29,
    "start_time": "2022-06-02T00:25:53.284Z"
   },
   {
    "duration": 30,
    "start_time": "2022-06-02T00:25:53.314Z"
   },
   {
    "duration": 266,
    "start_time": "2022-06-02T00:25:53.346Z"
   },
   {
    "duration": 87,
    "start_time": "2022-06-02T00:25:53.614Z"
   },
   {
    "duration": 43,
    "start_time": "2022-06-02T00:25:53.703Z"
   },
   {
    "duration": 7,
    "start_time": "2022-06-02T00:25:53.749Z"
   },
   {
    "duration": 33,
    "start_time": "2022-06-02T00:25:53.758Z"
   },
   {
    "duration": 17,
    "start_time": "2022-06-02T00:25:53.799Z"
   },
   {
    "duration": 8,
    "start_time": "2022-06-02T00:25:53.818Z"
   },
   {
    "duration": 39,
    "start_time": "2022-06-02T00:25:53.828Z"
   },
   {
    "duration": 405,
    "start_time": "2022-06-02T00:25:53.869Z"
   },
   {
    "duration": 8,
    "start_time": "2022-06-02T00:25:54.276Z"
   },
   {
    "duration": 33,
    "start_time": "2022-06-02T00:25:54.285Z"
   },
   {
    "duration": 336,
    "start_time": "2022-06-02T00:25:54.320Z"
   },
   {
    "duration": 158,
    "start_time": "2022-06-02T00:25:54.657Z"
   },
   {
    "duration": 19,
    "start_time": "2022-06-02T00:25:54.817Z"
   },
   {
    "duration": 6,
    "start_time": "2022-06-02T00:25:54.838Z"
   },
   {
    "duration": 14,
    "start_time": "2022-06-02T00:25:54.846Z"
   },
   {
    "duration": 3,
    "start_time": "2022-06-02T00:25:54.862Z"
   },
   {
    "duration": 100,
    "start_time": "2022-06-02T00:25:54.867Z"
   },
   {
    "duration": 12,
    "start_time": "2022-06-02T00:25:54.969Z"
   },
   {
    "duration": 16,
    "start_time": "2022-06-02T00:25:54.983Z"
   },
   {
    "duration": 43,
    "start_time": "2022-06-02T00:25:55.001Z"
   },
   {
    "duration": 6,
    "start_time": "2022-06-02T00:25:55.047Z"
   },
   {
    "duration": 272,
    "start_time": "2022-06-02T00:25:55.054Z"
   },
   {
    "duration": 324,
    "start_time": "2022-06-02T00:25:55.328Z"
   },
   {
    "duration": 318,
    "start_time": "2022-06-02T00:25:55.654Z"
   },
   {
    "duration": 197,
    "start_time": "2022-06-02T00:25:55.973Z"
   },
   {
    "duration": 330,
    "start_time": "2022-06-02T00:25:56.171Z"
   },
   {
    "duration": 0,
    "start_time": "2022-06-02T00:25:56.503Z"
   },
   {
    "duration": 0,
    "start_time": "2022-06-02T00:25:56.504Z"
   },
   {
    "duration": 0,
    "start_time": "2022-06-02T00:25:56.505Z"
   },
   {
    "duration": 0,
    "start_time": "2022-06-02T00:25:56.506Z"
   },
   {
    "duration": 21,
    "start_time": "2022-06-02T00:27:02.208Z"
   },
   {
    "duration": 20,
    "start_time": "2022-06-02T00:27:09.128Z"
   },
   {
    "duration": 520,
    "start_time": "2022-06-02T00:27:31.898Z"
   },
   {
    "duration": 20,
    "start_time": "2022-06-02T00:27:59.906Z"
   },
   {
    "duration": 24,
    "start_time": "2022-06-02T00:28:11.326Z"
   },
   {
    "duration": 265,
    "start_time": "2022-06-02T00:28:19.026Z"
   },
   {
    "duration": 33,
    "start_time": "2022-06-02T00:29:05.566Z"
   },
   {
    "duration": 183,
    "start_time": "2022-06-02T00:29:23.554Z"
   },
   {
    "duration": 137,
    "start_time": "2022-06-02T00:30:00.706Z"
   },
   {
    "duration": 150,
    "start_time": "2022-06-02T00:31:00.906Z"
   },
   {
    "duration": 278,
    "start_time": "2022-06-02T00:31:08.267Z"
   },
   {
    "duration": 285,
    "start_time": "2022-06-02T00:33:27.302Z"
   },
   {
    "duration": 394,
    "start_time": "2022-06-02T00:33:58.296Z"
   },
   {
    "duration": 293,
    "start_time": "2022-06-02T00:34:19.409Z"
   },
   {
    "duration": 259,
    "start_time": "2022-06-02T00:34:34.846Z"
   },
   {
    "duration": 255,
    "start_time": "2022-06-02T00:35:20.934Z"
   },
   {
    "duration": 288,
    "start_time": "2022-06-02T00:35:37.954Z"
   },
   {
    "duration": 300,
    "start_time": "2022-06-02T00:35:42.474Z"
   },
   {
    "duration": 144,
    "start_time": "2022-06-02T00:36:08.646Z"
   },
   {
    "duration": 280,
    "start_time": "2022-06-02T00:36:19.634Z"
   },
   {
    "duration": 295,
    "start_time": "2022-06-02T00:36:24.974Z"
   },
   {
    "duration": 314,
    "start_time": "2022-06-02T00:36:48.274Z"
   },
   {
    "duration": 1486,
    "start_time": "2022-06-02T20:51:03.388Z"
   },
   {
    "duration": 69,
    "start_time": "2022-06-02T20:51:04.876Z"
   },
   {
    "duration": 72,
    "start_time": "2022-06-02T20:51:04.947Z"
   },
   {
    "duration": 40,
    "start_time": "2022-06-02T20:51:05.021Z"
   },
   {
    "duration": 19,
    "start_time": "2022-06-02T20:51:05.079Z"
   },
   {
    "duration": 35,
    "start_time": "2022-06-02T20:51:05.100Z"
   },
   {
    "duration": 297,
    "start_time": "2022-06-02T20:51:05.137Z"
   },
   {
    "duration": 84,
    "start_time": "2022-06-02T20:51:05.436Z"
   },
   {
    "duration": 45,
    "start_time": "2022-06-02T20:51:05.522Z"
   },
   {
    "duration": 6,
    "start_time": "2022-06-02T20:51:05.581Z"
   },
   {
    "duration": 35,
    "start_time": "2022-06-02T20:51:05.589Z"
   },
   {
    "duration": 19,
    "start_time": "2022-06-02T20:51:05.626Z"
   },
   {
    "duration": 9,
    "start_time": "2022-06-02T20:51:05.647Z"
   },
   {
    "duration": 43,
    "start_time": "2022-06-02T20:51:05.660Z"
   },
   {
    "duration": 465,
    "start_time": "2022-06-02T20:51:05.705Z"
   },
   {
    "duration": 11,
    "start_time": "2022-06-02T20:51:06.172Z"
   },
   {
    "duration": 20,
    "start_time": "2022-06-02T20:51:06.184Z"
   },
   {
    "duration": 385,
    "start_time": "2022-06-02T20:51:06.207Z"
   },
   {
    "duration": 164,
    "start_time": "2022-06-02T20:51:06.594Z"
   },
   {
    "duration": 27,
    "start_time": "2022-06-02T20:51:06.760Z"
   },
   {
    "duration": 5,
    "start_time": "2022-06-02T20:51:06.789Z"
   },
   {
    "duration": 28,
    "start_time": "2022-06-02T20:51:06.795Z"
   },
   {
    "duration": 5,
    "start_time": "2022-06-02T20:51:06.825Z"
   },
   {
    "duration": 98,
    "start_time": "2022-06-02T20:51:06.831Z"
   },
   {
    "duration": 14,
    "start_time": "2022-06-02T20:51:06.930Z"
   },
   {
    "duration": 6,
    "start_time": "2022-06-02T20:51:06.946Z"
   },
   {
    "duration": 56,
    "start_time": "2022-06-02T20:51:06.954Z"
   },
   {
    "duration": 7,
    "start_time": "2022-06-02T20:51:07.011Z"
   },
   {
    "duration": 299,
    "start_time": "2022-06-02T20:51:07.019Z"
   },
   {
    "duration": 374,
    "start_time": "2022-06-02T20:51:07.320Z"
   },
   {
    "duration": 329,
    "start_time": "2022-06-02T20:51:07.695Z"
   },
   {
    "duration": 222,
    "start_time": "2022-06-02T20:51:08.026Z"
   },
   {
    "duration": 259,
    "start_time": "2022-06-02T20:51:08.250Z"
   },
   {
    "duration": 350,
    "start_time": "2022-06-02T20:51:08.511Z"
   },
   {
    "duration": 6,
    "start_time": "2022-06-02T20:51:08.863Z"
   },
   {
    "duration": 8,
    "start_time": "2022-06-02T20:51:08.881Z"
   },
   {
    "duration": 10,
    "start_time": "2022-06-02T20:51:08.891Z"
   },
   {
    "duration": 7,
    "start_time": "2022-06-02T20:51:08.903Z"
   },
   {
    "duration": 18,
    "start_time": "2022-06-02T20:58:14.144Z"
   },
   {
    "duration": 313,
    "start_time": "2022-06-02T20:58:23.185Z"
   },
   {
    "duration": 234,
    "start_time": "2022-06-02T20:59:01.555Z"
   },
   {
    "duration": 229,
    "start_time": "2022-06-02T20:59:32.758Z"
   },
   {
    "duration": 215,
    "start_time": "2022-06-02T20:59:43.645Z"
   },
   {
    "duration": 189,
    "start_time": "2022-06-02T21:00:44.210Z"
   },
   {
    "duration": 200,
    "start_time": "2022-06-02T21:00:56.959Z"
   }
  ],
  "kernelspec": {
   "display_name": "Python 3 (ipykernel)",
   "language": "python",
   "name": "python3"
  },
  "language_info": {
   "codemirror_mode": {
    "name": "ipython",
    "version": 3
   },
   "file_extension": ".py",
   "mimetype": "text/x-python",
   "name": "python",
   "nbconvert_exporter": "python",
   "pygments_lexer": "ipython3",
   "version": "3.9.7"
  },
  "toc": {
   "base_numbering": 1,
   "nav_menu": {},
   "number_sections": true,
   "sideBar": true,
   "skip_h1_title": true,
   "title_cell": "Table of Contents",
   "title_sidebar": "Contents",
   "toc_cell": false,
   "toc_position": {
    "height": "calc(100% - 180px)",
    "left": "10px",
    "top": "150px",
    "width": "165px"
   },
   "toc_section_display": true,
   "toc_window_display": true
  }
 },
 "nbformat": 4,
 "nbformat_minor": 2
}
