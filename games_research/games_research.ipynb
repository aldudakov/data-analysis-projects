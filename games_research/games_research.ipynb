{
 "cells": [
  {
   "cell_type": "markdown",
   "metadata": {},
   "source": [
    "# Исследование определяющих успешность игры закономерностей"
   ]
  },
  {
   "cell_type": "markdown",
   "metadata": {},
   "source": [
    " **Цель исследования** – выявить определяющие успешность игры закономерности для предсказания потенциально популярного продукта и планирования рекламной кампании.\n",
    "\n",
    " **Входные данные** представляют собой датасет с данными об играх до 2016 года. \n",
    "\n",
    " **Описание данных**:\n",
    "- `Name` — название игры\n",
    "- `Platform` — платформа\n",
    "- `Year_of_Release` — год выпуска\n",
    "- `Genre` — жанр игры\n",
    "- `NA_sales` — продажи в Северной Америке (миллионы проданных копий)\n",
    "- `EU_sales` — продажи в Европе (миллионы проданных копий)\n",
    "- `JP_sales` — продажи в Японии (миллионы проданных копий)\n",
    "- `Other_sales` — продажи в других странах (миллионы проданных копий)\n",
    "- `Critic_Score` — оценка критиков (максимум 100)\n",
    "- `User_Score` — оценка пользователей (максимум 10)\n",
    "- `Rating` — рейтинг от организации ESRB\n",
    "\n",
    " **План исследования**:\n",
    "- открытие датасета и ознакомление с ним;\n",
    "- предобработка данных;\n",
    "- исследовательский анализ данных;\n",
    "- составление портретов пользователей из различных регионов;\n",
    "- проверка гипотез;\n",
    "- общий вывод."
   ]
  },
  {
   "cell_type": "markdown",
   "metadata": {},
   "source": [
    "## Ознакомление с датасетом"
   ]
  },
  {
   "cell_type": "markdown",
   "metadata": {},
   "source": [
    "Откроем датасет и ознакомимся с ним."
   ]
  },
  {
   "cell_type": "code",
   "execution_count": 1,
   "metadata": {},
   "outputs": [],
   "source": [
    "# import 'pandas', 'matplotlib.pyplot' and 'scipy.stats' library\n",
    "import pandas as pd\n",
    "import matplotlib.pyplot as plt\n",
    "from scipy import stats as st"
   ]
  },
  {
   "cell_type": "code",
   "execution_count": 2,
   "metadata": {},
   "outputs": [],
   "source": [
    "# open file\n",
    "path = '/Users/aleksandrdudakov/Downloads'\n",
    "df = pd.read_csv(path + '/games.csv')"
   ]
  },
  {
   "cell_type": "code",
   "execution_count": 3,
   "metadata": {},
   "outputs": [
    {
     "data": {
      "text/html": [
       "<div>\n",
       "<style scoped>\n",
       "    .dataframe tbody tr th:only-of-type {\n",
       "        vertical-align: middle;\n",
       "    }\n",
       "\n",
       "    .dataframe tbody tr th {\n",
       "        vertical-align: top;\n",
       "    }\n",
       "\n",
       "    .dataframe thead th {\n",
       "        text-align: right;\n",
       "    }\n",
       "</style>\n",
       "<table border=\"1\" class=\"dataframe\">\n",
       "  <thead>\n",
       "    <tr style=\"text-align: right;\">\n",
       "      <th></th>\n",
       "      <th>Name</th>\n",
       "      <th>Platform</th>\n",
       "      <th>Year_of_Release</th>\n",
       "      <th>Genre</th>\n",
       "      <th>NA_sales</th>\n",
       "      <th>EU_sales</th>\n",
       "      <th>JP_sales</th>\n",
       "      <th>Other_sales</th>\n",
       "      <th>Critic_Score</th>\n",
       "      <th>User_Score</th>\n",
       "      <th>Rating</th>\n",
       "    </tr>\n",
       "  </thead>\n",
       "  <tbody>\n",
       "    <tr>\n",
       "      <th>9696</th>\n",
       "      <td>NHL 2002</td>\n",
       "      <td>GBA</td>\n",
       "      <td>2002.0</td>\n",
       "      <td>Sports</td>\n",
       "      <td>0.09</td>\n",
       "      <td>0.03</td>\n",
       "      <td>0.00</td>\n",
       "      <td>0.00</td>\n",
       "      <td>NaN</td>\n",
       "      <td>tbd</td>\n",
       "      <td>E</td>\n",
       "    </tr>\n",
       "    <tr>\n",
       "      <th>5698</th>\n",
       "      <td>MonHun Nikki: Poka Poka Ailu Mura G</td>\n",
       "      <td>PSP</td>\n",
       "      <td>2011.0</td>\n",
       "      <td>Role-Playing</td>\n",
       "      <td>0.00</td>\n",
       "      <td>0.00</td>\n",
       "      <td>0.31</td>\n",
       "      <td>0.00</td>\n",
       "      <td>NaN</td>\n",
       "      <td>NaN</td>\n",
       "      <td>NaN</td>\n",
       "    </tr>\n",
       "    <tr>\n",
       "      <th>15886</th>\n",
       "      <td>Irritating Stick</td>\n",
       "      <td>PS</td>\n",
       "      <td>1998.0</td>\n",
       "      <td>Action</td>\n",
       "      <td>0.01</td>\n",
       "      <td>0.01</td>\n",
       "      <td>0.00</td>\n",
       "      <td>0.00</td>\n",
       "      <td>NaN</td>\n",
       "      <td>NaN</td>\n",
       "      <td>NaN</td>\n",
       "    </tr>\n",
       "    <tr>\n",
       "      <th>4553</th>\n",
       "      <td>Mega Man Battle Network</td>\n",
       "      <td>GBA</td>\n",
       "      <td>2001.0</td>\n",
       "      <td>Role-Playing</td>\n",
       "      <td>0.14</td>\n",
       "      <td>0.05</td>\n",
       "      <td>0.22</td>\n",
       "      <td>0.01</td>\n",
       "      <td>79.0</td>\n",
       "      <td>8.9</td>\n",
       "      <td>E</td>\n",
       "    </tr>\n",
       "    <tr>\n",
       "      <th>6672</th>\n",
       "      <td>F1 Pole Position 64</td>\n",
       "      <td>N64</td>\n",
       "      <td>1997.0</td>\n",
       "      <td>Racing</td>\n",
       "      <td>0.11</td>\n",
       "      <td>0.13</td>\n",
       "      <td>0.00</td>\n",
       "      <td>0.01</td>\n",
       "      <td>NaN</td>\n",
       "      <td>NaN</td>\n",
       "      <td>NaN</td>\n",
       "    </tr>\n",
       "    <tr>\n",
       "      <th>15371</th>\n",
       "      <td>Resident Evil Zero</td>\n",
       "      <td>PC</td>\n",
       "      <td>2016.0</td>\n",
       "      <td>Action</td>\n",
       "      <td>0.01</td>\n",
       "      <td>0.01</td>\n",
       "      <td>0.00</td>\n",
       "      <td>0.00</td>\n",
       "      <td>NaN</td>\n",
       "      <td>NaN</td>\n",
       "      <td>NaN</td>\n",
       "    </tr>\n",
       "    <tr>\n",
       "      <th>15441</th>\n",
       "      <td>Onechanbara Special</td>\n",
       "      <td>PSP</td>\n",
       "      <td>2011.0</td>\n",
       "      <td>Action</td>\n",
       "      <td>0.00</td>\n",
       "      <td>0.00</td>\n",
       "      <td>0.02</td>\n",
       "      <td>0.00</td>\n",
       "      <td>NaN</td>\n",
       "      <td>NaN</td>\n",
       "      <td>NaN</td>\n",
       "    </tr>\n",
       "    <tr>\n",
       "      <th>14529</th>\n",
       "      <td>Kyokugen Dasshutsu ADV: Zennin Shiboudesu</td>\n",
       "      <td>3DS</td>\n",
       "      <td>2012.0</td>\n",
       "      <td>Adventure</td>\n",
       "      <td>0.00</td>\n",
       "      <td>0.00</td>\n",
       "      <td>0.03</td>\n",
       "      <td>0.00</td>\n",
       "      <td>NaN</td>\n",
       "      <td>NaN</td>\n",
       "      <td>NaN</td>\n",
       "    </tr>\n",
       "    <tr>\n",
       "      <th>2797</th>\n",
       "      <td>Mortal Kombat 4</td>\n",
       "      <td>N64</td>\n",
       "      <td>1998.0</td>\n",
       "      <td>Fighting</td>\n",
       "      <td>0.55</td>\n",
       "      <td>0.17</td>\n",
       "      <td>0.00</td>\n",
       "      <td>0.01</td>\n",
       "      <td>NaN</td>\n",
       "      <td>NaN</td>\n",
       "      <td>NaN</td>\n",
       "    </tr>\n",
       "    <tr>\n",
       "      <th>12641</th>\n",
       "      <td>Adventure Time: The Secret of the Nameless Kin...</td>\n",
       "      <td>X360</td>\n",
       "      <td>2014.0</td>\n",
       "      <td>Action</td>\n",
       "      <td>0.00</td>\n",
       "      <td>0.05</td>\n",
       "      <td>0.00</td>\n",
       "      <td>0.00</td>\n",
       "      <td>58.0</td>\n",
       "      <td>7.5</td>\n",
       "      <td>E10+</td>\n",
       "    </tr>\n",
       "  </tbody>\n",
       "</table>\n",
       "</div>"
      ],
      "text/plain": [
       "                                                    Name Platform  \\\n",
       "9696                                            NHL 2002      GBA   \n",
       "5698                 MonHun Nikki: Poka Poka Ailu Mura G      PSP   \n",
       "15886                                   Irritating Stick       PS   \n",
       "4553                             Mega Man Battle Network      GBA   \n",
       "6672                                 F1 Pole Position 64      N64   \n",
       "15371                                 Resident Evil Zero       PC   \n",
       "15441                                Onechanbara Special      PSP   \n",
       "14529          Kyokugen Dasshutsu ADV: Zennin Shiboudesu      3DS   \n",
       "2797                                     Mortal Kombat 4      N64   \n",
       "12641  Adventure Time: The Secret of the Nameless Kin...     X360   \n",
       "\n",
       "       Year_of_Release         Genre  NA_sales  EU_sales  JP_sales  \\\n",
       "9696            2002.0        Sports      0.09      0.03      0.00   \n",
       "5698            2011.0  Role-Playing      0.00      0.00      0.31   \n",
       "15886           1998.0        Action      0.01      0.01      0.00   \n",
       "4553            2001.0  Role-Playing      0.14      0.05      0.22   \n",
       "6672            1997.0        Racing      0.11      0.13      0.00   \n",
       "15371           2016.0        Action      0.01      0.01      0.00   \n",
       "15441           2011.0        Action      0.00      0.00      0.02   \n",
       "14529           2012.0     Adventure      0.00      0.00      0.03   \n",
       "2797            1998.0      Fighting      0.55      0.17      0.00   \n",
       "12641           2014.0        Action      0.00      0.05      0.00   \n",
       "\n",
       "       Other_sales  Critic_Score User_Score Rating  \n",
       "9696          0.00           NaN        tbd      E  \n",
       "5698          0.00           NaN        NaN    NaN  \n",
       "15886         0.00           NaN        NaN    NaN  \n",
       "4553          0.01          79.0        8.9      E  \n",
       "6672          0.01           NaN        NaN    NaN  \n",
       "15371         0.00           NaN        NaN    NaN  \n",
       "15441         0.00           NaN        NaN    NaN  \n",
       "14529         0.00           NaN        NaN    NaN  \n",
       "2797          0.01           NaN        NaN    NaN  \n",
       "12641         0.00          58.0        7.5   E10+  "
      ]
     },
     "execution_count": 3,
     "metadata": {},
     "output_type": "execute_result"
    }
   ],
   "source": [
    "# 10 random rows of df\n",
    "df.sample(10)"
   ]
  },
  {
   "cell_type": "code",
   "execution_count": 4,
   "metadata": {},
   "outputs": [
    {
     "name": "stdout",
     "output_type": "stream",
     "text": [
      "<class 'pandas.core.frame.DataFrame'>\n",
      "RangeIndex: 16715 entries, 0 to 16714\n",
      "Data columns (total 11 columns):\n",
      " #   Column           Non-Null Count  Dtype  \n",
      "---  ------           --------------  -----  \n",
      " 0   Name             16713 non-null  object \n",
      " 1   Platform         16715 non-null  object \n",
      " 2   Year_of_Release  16446 non-null  float64\n",
      " 3   Genre            16713 non-null  object \n",
      " 4   NA_sales         16715 non-null  float64\n",
      " 5   EU_sales         16715 non-null  float64\n",
      " 6   JP_sales         16715 non-null  float64\n",
      " 7   Other_sales      16715 non-null  float64\n",
      " 8   Critic_Score     8137 non-null   float64\n",
      " 9   User_Score       10014 non-null  object \n",
      " 10  Rating           9949 non-null   object \n",
      "dtypes: float64(6), object(5)\n",
      "memory usage: 1.4+ MB\n"
     ]
    }
   ],
   "source": [
    "# general information about df\n",
    "df.info()"
   ]
  },
  {
   "cell_type": "code",
   "execution_count": 5,
   "metadata": {},
   "outputs": [
    {
     "data": {
      "text/html": [
       "<div>\n",
       "<style scoped>\n",
       "    .dataframe tbody tr th:only-of-type {\n",
       "        vertical-align: middle;\n",
       "    }\n",
       "\n",
       "    .dataframe tbody tr th {\n",
       "        vertical-align: top;\n",
       "    }\n",
       "\n",
       "    .dataframe thead th {\n",
       "        text-align: right;\n",
       "    }\n",
       "</style>\n",
       "<table border=\"1\" class=\"dataframe\">\n",
       "  <thead>\n",
       "    <tr style=\"text-align: right;\">\n",
       "      <th></th>\n",
       "      <th>Year_of_Release</th>\n",
       "      <th>NA_sales</th>\n",
       "      <th>EU_sales</th>\n",
       "      <th>JP_sales</th>\n",
       "      <th>Other_sales</th>\n",
       "      <th>Critic_Score</th>\n",
       "    </tr>\n",
       "  </thead>\n",
       "  <tbody>\n",
       "    <tr>\n",
       "      <th>count</th>\n",
       "      <td>16446.000000</td>\n",
       "      <td>16715.000000</td>\n",
       "      <td>16715.000000</td>\n",
       "      <td>16715.000000</td>\n",
       "      <td>16715.000000</td>\n",
       "      <td>8137.000000</td>\n",
       "    </tr>\n",
       "    <tr>\n",
       "      <th>mean</th>\n",
       "      <td>2006.484616</td>\n",
       "      <td>0.263377</td>\n",
       "      <td>0.145060</td>\n",
       "      <td>0.077617</td>\n",
       "      <td>0.047342</td>\n",
       "      <td>68.967679</td>\n",
       "    </tr>\n",
       "    <tr>\n",
       "      <th>std</th>\n",
       "      <td>5.877050</td>\n",
       "      <td>0.813604</td>\n",
       "      <td>0.503339</td>\n",
       "      <td>0.308853</td>\n",
       "      <td>0.186731</td>\n",
       "      <td>13.938165</td>\n",
       "    </tr>\n",
       "    <tr>\n",
       "      <th>min</th>\n",
       "      <td>1980.000000</td>\n",
       "      <td>0.000000</td>\n",
       "      <td>0.000000</td>\n",
       "      <td>0.000000</td>\n",
       "      <td>0.000000</td>\n",
       "      <td>13.000000</td>\n",
       "    </tr>\n",
       "    <tr>\n",
       "      <th>25%</th>\n",
       "      <td>2003.000000</td>\n",
       "      <td>0.000000</td>\n",
       "      <td>0.000000</td>\n",
       "      <td>0.000000</td>\n",
       "      <td>0.000000</td>\n",
       "      <td>60.000000</td>\n",
       "    </tr>\n",
       "    <tr>\n",
       "      <th>50%</th>\n",
       "      <td>2007.000000</td>\n",
       "      <td>0.080000</td>\n",
       "      <td>0.020000</td>\n",
       "      <td>0.000000</td>\n",
       "      <td>0.010000</td>\n",
       "      <td>71.000000</td>\n",
       "    </tr>\n",
       "    <tr>\n",
       "      <th>75%</th>\n",
       "      <td>2010.000000</td>\n",
       "      <td>0.240000</td>\n",
       "      <td>0.110000</td>\n",
       "      <td>0.040000</td>\n",
       "      <td>0.030000</td>\n",
       "      <td>79.000000</td>\n",
       "    </tr>\n",
       "    <tr>\n",
       "      <th>max</th>\n",
       "      <td>2016.000000</td>\n",
       "      <td>41.360000</td>\n",
       "      <td>28.960000</td>\n",
       "      <td>10.220000</td>\n",
       "      <td>10.570000</td>\n",
       "      <td>98.000000</td>\n",
       "    </tr>\n",
       "  </tbody>\n",
       "</table>\n",
       "</div>"
      ],
      "text/plain": [
       "       Year_of_Release      NA_sales      EU_sales      JP_sales  \\\n",
       "count     16446.000000  16715.000000  16715.000000  16715.000000   \n",
       "mean       2006.484616      0.263377      0.145060      0.077617   \n",
       "std           5.877050      0.813604      0.503339      0.308853   \n",
       "min        1980.000000      0.000000      0.000000      0.000000   \n",
       "25%        2003.000000      0.000000      0.000000      0.000000   \n",
       "50%        2007.000000      0.080000      0.020000      0.000000   \n",
       "75%        2010.000000      0.240000      0.110000      0.040000   \n",
       "max        2016.000000     41.360000     28.960000     10.220000   \n",
       "\n",
       "        Other_sales  Critic_Score  \n",
       "count  16715.000000   8137.000000  \n",
       "mean       0.047342     68.967679  \n",
       "std        0.186731     13.938165  \n",
       "min        0.000000     13.000000  \n",
       "25%        0.000000     60.000000  \n",
       "50%        0.010000     71.000000  \n",
       "75%        0.030000     79.000000  \n",
       "max       10.570000     98.000000  "
      ]
     },
     "execution_count": 5,
     "metadata": {},
     "output_type": "execute_result"
    }
   ],
   "source": [
    "# describe df columns\n",
    "df.describe()"
   ]
  },
  {
   "cell_type": "code",
   "execution_count": 6,
   "metadata": {
    "scrolled": true
   },
   "outputs": [
    {
     "name": "stdout",
     "output_type": "stream",
     "text": [
      "Need for Speed: Most Wanted                         12\n",
      "Ratatouille                                          9\n",
      "LEGO Marvel Super Heroes                             9\n",
      "FIFA 14                                              9\n",
      "Madden NFL 07                                        9\n",
      "                                                    ..\n",
      "Jewels of the Tropical Lost Island                   1\n",
      "Sherlock Holmes and the Mystery of Osborne House     1\n",
      "The King of Fighters '95 (CD)                        1\n",
      "Megamind: Mega Team Unite                            1\n",
      "Haitaka no Psychedelica                              1\n",
      "Name: Name, Length: 11559, dtype: int64\n",
      "PS2     2161\n",
      "DS      2151\n",
      "PS3     1331\n",
      "Wii     1320\n",
      "X360    1262\n",
      "PSP     1209\n",
      "PS      1197\n",
      "PC       974\n",
      "XB       824\n",
      "GBA      822\n",
      "GC       556\n",
      "3DS      520\n",
      "PSV      430\n",
      "PS4      392\n",
      "N64      319\n",
      "XOne     247\n",
      "SNES     239\n",
      "SAT      173\n",
      "WiiU     147\n",
      "2600     133\n",
      "NES       98\n",
      "GB        98\n",
      "DC        52\n",
      "GEN       29\n",
      "NG        12\n",
      "SCD        6\n",
      "WS         6\n",
      "3DO        3\n",
      "TG16       2\n",
      "GG         1\n",
      "PCFX       1\n",
      "Name: Platform, dtype: int64\n",
      "2008.0    1427\n",
      "2009.0    1426\n",
      "2010.0    1255\n",
      "2007.0    1197\n",
      "2011.0    1136\n",
      "2006.0    1006\n",
      "2005.0     939\n",
      "2002.0     829\n",
      "2003.0     775\n",
      "2004.0     762\n",
      "2012.0     653\n",
      "2015.0     606\n",
      "2014.0     581\n",
      "2013.0     544\n",
      "2016.0     502\n",
      "2001.0     482\n",
      "1998.0     379\n",
      "2000.0     350\n",
      "1999.0     338\n",
      "1997.0     289\n",
      "1996.0     263\n",
      "1995.0     219\n",
      "1994.0     121\n",
      "1993.0      62\n",
      "1981.0      46\n",
      "1992.0      43\n",
      "1991.0      41\n",
      "1982.0      36\n",
      "1986.0      21\n",
      "1989.0      17\n",
      "1983.0      17\n",
      "1990.0      16\n",
      "1987.0      16\n",
      "1988.0      15\n",
      "1985.0      14\n",
      "1984.0      14\n",
      "1980.0       9\n",
      "Name: Year_of_Release, dtype: int64\n",
      "Action          3369\n",
      "Sports          2348\n",
      "Misc            1750\n",
      "Role-Playing    1498\n",
      "Shooter         1323\n",
      "Adventure       1303\n",
      "Racing          1249\n",
      "Platform         888\n",
      "Simulation       873\n",
      "Fighting         849\n",
      "Strategy         683\n",
      "Puzzle           580\n",
      "Name: Genre, dtype: int64\n",
      "0.00     4508\n",
      "0.02      576\n",
      "0.03      561\n",
      "0.04      549\n",
      "0.01      545\n",
      "         ... \n",
      "3.68        1\n",
      "2.98        1\n",
      "2.61        1\n",
      "3.04        1\n",
      "41.36       1\n",
      "Name: NA_sales, Length: 402, dtype: int64\n",
      "0.00     5870\n",
      "0.01     1494\n",
      "0.02     1308\n",
      "0.03      926\n",
      "0.04      709\n",
      "         ... \n",
      "1.87        1\n",
      "1.75        1\n",
      "1.44        1\n",
      "1.60        1\n",
      "28.96       1\n",
      "Name: EU_sales, Length: 307, dtype: int64\n",
      "0.00    10514\n",
      "0.02      741\n",
      "0.01      706\n",
      "0.03      546\n",
      "0.04      397\n",
      "        ...  \n",
      "3.14        1\n",
      "2.73        1\n",
      "3.18        1\n",
      "3.63        1\n",
      "0.97        1\n",
      "Name: JP_sales, Length: 244, dtype: int64\n",
      "0.00    6601\n",
      "0.01    3464\n",
      "0.02    1618\n",
      "0.03     926\n",
      "0.04     654\n",
      "        ... \n",
      "2.11       1\n",
      "7.53       1\n",
      "1.21       1\n",
      "1.79       1\n",
      "0.93       1\n",
      "Name: Other_sales, Length: 155, dtype: int64\n",
      "70.0    256\n",
      "71.0    254\n",
      "75.0    245\n",
      "78.0    240\n",
      "73.0    238\n",
      "       ... \n",
      "20.0      3\n",
      "21.0      1\n",
      "17.0      1\n",
      "22.0      1\n",
      "13.0      1\n",
      "Name: Critic_Score, Length: 82, dtype: int64\n",
      "tbd    2424\n",
      "7.8     324\n",
      "8       290\n",
      "8.2     282\n",
      "8.3     254\n",
      "       ... \n",
      "1.1       2\n",
      "1.9       2\n",
      "9.6       2\n",
      "0         1\n",
      "9.7       1\n",
      "Name: User_Score, Length: 96, dtype: int64\n",
      "E       3990\n",
      "T       2961\n",
      "M       1563\n",
      "E10+    1420\n",
      "EC         8\n",
      "K-A        3\n",
      "RP         3\n",
      "AO         1\n",
      "Name: Rating, dtype: int64\n"
     ]
    }
   ],
   "source": [
    "# distribution of values in every column of df\n",
    "for value in df:\n",
    "    print(df[value].value_counts())"
   ]
  },
  {
   "cell_type": "markdown",
   "metadata": {},
   "source": [
    "Опишем замеченные ошибки и проблемы:\n",
    "- *пропуски*: в столбцах `Name`, `Year_of_Release`, `Genre`, `Critic_Score`, `User_Score`, `Rating`;\n",
    "- *регистр*: нужно привести названия столбцов к нижнему регистру;\n",
    "- непонятное значение `tbd` в столбце `User_Score`;\n",
    "- неверный *тип данных*: нужно изменить тип данных `Year_of_Release` в 'int', `Critic_Score` в 'int', `User_Score` в 'float' (если получится разобраться с пунктом выше).\n",
    "- *дубликаты*: некоторые названия игр повторяются;\n",
    "- изучить столбец `Rating`."
   ]
  },
  {
   "cell_type": "markdown",
   "metadata": {},
   "source": [
    "### Вывод"
   ]
  },
  {
   "cell_type": "markdown",
   "metadata": {},
   "source": [
    "Был открыт файл с данными и были описаны ошибки в нем."
   ]
  },
  {
   "cell_type": "markdown",
   "metadata": {},
   "source": [
    "## Подготовка данных"
   ]
  },
  {
   "cell_type": "markdown",
   "metadata": {},
   "source": [
    "### Замена названия столбцов"
   ]
  },
  {
   "cell_type": "markdown",
   "metadata": {},
   "source": [
    "Приведем названия столбцов к нижнему регистру."
   ]
  },
  {
   "cell_type": "code",
   "execution_count": 7,
   "metadata": {},
   "outputs": [],
   "source": [
    "# lower names of columns\n",
    "df.columns = df.columns.str.lower()"
   ]
  },
  {
   "cell_type": "markdown",
   "metadata": {},
   "source": [
    "Проверим."
   ]
  },
  {
   "cell_type": "code",
   "execution_count": 8,
   "metadata": {},
   "outputs": [
    {
     "data": {
      "text/html": [
       "<div>\n",
       "<style scoped>\n",
       "    .dataframe tbody tr th:only-of-type {\n",
       "        vertical-align: middle;\n",
       "    }\n",
       "\n",
       "    .dataframe tbody tr th {\n",
       "        vertical-align: top;\n",
       "    }\n",
       "\n",
       "    .dataframe thead th {\n",
       "        text-align: right;\n",
       "    }\n",
       "</style>\n",
       "<table border=\"1\" class=\"dataframe\">\n",
       "  <thead>\n",
       "    <tr style=\"text-align: right;\">\n",
       "      <th></th>\n",
       "      <th>name</th>\n",
       "      <th>platform</th>\n",
       "      <th>year_of_release</th>\n",
       "      <th>genre</th>\n",
       "      <th>na_sales</th>\n",
       "      <th>eu_sales</th>\n",
       "      <th>jp_sales</th>\n",
       "      <th>other_sales</th>\n",
       "      <th>critic_score</th>\n",
       "      <th>user_score</th>\n",
       "      <th>rating</th>\n",
       "    </tr>\n",
       "  </thead>\n",
       "  <tbody>\n",
       "    <tr>\n",
       "      <th>0</th>\n",
       "      <td>Wii Sports</td>\n",
       "      <td>Wii</td>\n",
       "      <td>2006.0</td>\n",
       "      <td>Sports</td>\n",
       "      <td>41.36</td>\n",
       "      <td>28.96</td>\n",
       "      <td>3.77</td>\n",
       "      <td>8.45</td>\n",
       "      <td>76.0</td>\n",
       "      <td>8</td>\n",
       "      <td>E</td>\n",
       "    </tr>\n",
       "    <tr>\n",
       "      <th>1</th>\n",
       "      <td>Super Mario Bros.</td>\n",
       "      <td>NES</td>\n",
       "      <td>1985.0</td>\n",
       "      <td>Platform</td>\n",
       "      <td>29.08</td>\n",
       "      <td>3.58</td>\n",
       "      <td>6.81</td>\n",
       "      <td>0.77</td>\n",
       "      <td>NaN</td>\n",
       "      <td>NaN</td>\n",
       "      <td>NaN</td>\n",
       "    </tr>\n",
       "    <tr>\n",
       "      <th>2</th>\n",
       "      <td>Mario Kart Wii</td>\n",
       "      <td>Wii</td>\n",
       "      <td>2008.0</td>\n",
       "      <td>Racing</td>\n",
       "      <td>15.68</td>\n",
       "      <td>12.76</td>\n",
       "      <td>3.79</td>\n",
       "      <td>3.29</td>\n",
       "      <td>82.0</td>\n",
       "      <td>8.3</td>\n",
       "      <td>E</td>\n",
       "    </tr>\n",
       "    <tr>\n",
       "      <th>3</th>\n",
       "      <td>Wii Sports Resort</td>\n",
       "      <td>Wii</td>\n",
       "      <td>2009.0</td>\n",
       "      <td>Sports</td>\n",
       "      <td>15.61</td>\n",
       "      <td>10.93</td>\n",
       "      <td>3.28</td>\n",
       "      <td>2.95</td>\n",
       "      <td>80.0</td>\n",
       "      <td>8</td>\n",
       "      <td>E</td>\n",
       "    </tr>\n",
       "    <tr>\n",
       "      <th>4</th>\n",
       "      <td>Pokemon Red/Pokemon Blue</td>\n",
       "      <td>GB</td>\n",
       "      <td>1996.0</td>\n",
       "      <td>Role-Playing</td>\n",
       "      <td>11.27</td>\n",
       "      <td>8.89</td>\n",
       "      <td>10.22</td>\n",
       "      <td>1.00</td>\n",
       "      <td>NaN</td>\n",
       "      <td>NaN</td>\n",
       "      <td>NaN</td>\n",
       "    </tr>\n",
       "  </tbody>\n",
       "</table>\n",
       "</div>"
      ],
      "text/plain": [
       "                       name platform  year_of_release         genre  na_sales  \\\n",
       "0                Wii Sports      Wii           2006.0        Sports     41.36   \n",
       "1         Super Mario Bros.      NES           1985.0      Platform     29.08   \n",
       "2            Mario Kart Wii      Wii           2008.0        Racing     15.68   \n",
       "3         Wii Sports Resort      Wii           2009.0        Sports     15.61   \n",
       "4  Pokemon Red/Pokemon Blue       GB           1996.0  Role-Playing     11.27   \n",
       "\n",
       "   eu_sales  jp_sales  other_sales  critic_score user_score rating  \n",
       "0     28.96      3.77         8.45          76.0          8      E  \n",
       "1      3.58      6.81         0.77           NaN        NaN    NaN  \n",
       "2     12.76      3.79         3.29          82.0        8.3      E  \n",
       "3     10.93      3.28         2.95          80.0          8      E  \n",
       "4      8.89     10.22         1.00           NaN        NaN    NaN  "
      ]
     },
     "execution_count": 8,
     "metadata": {},
     "output_type": "execute_result"
    }
   ],
   "source": [
    "# show 5 first rows of df\n",
    "df.head()"
   ]
  },
  {
   "cell_type": "markdown",
   "metadata": {},
   "source": [
    "### Обработка пропусков"
   ]
  },
  {
   "cell_type": "markdown",
   "metadata": {},
   "source": [
    "Пропуски есть в столбцах `name`, `year_of_release`, `genre`, `critic_score`, `user_score`, `rating`. Посчитаем их долю."
   ]
  },
  {
   "cell_type": "code",
   "execution_count": 9,
   "metadata": {},
   "outputs": [
    {
     "data": {
      "text/plain": [
       "name                0.011965\n",
       "platform            0.000000\n",
       "year_of_release     1.609333\n",
       "genre               0.011965\n",
       "na_sales            0.000000\n",
       "eu_sales            0.000000\n",
       "jp_sales            0.000000\n",
       "other_sales         0.000000\n",
       "critic_score       51.319174\n",
       "user_score         40.089740\n",
       "rating             40.478612\n",
       "dtype: float64"
      ]
     },
     "execution_count": 9,
     "metadata": {},
     "output_type": "execute_result"
    }
   ],
   "source": [
    "# rate of missing values in every column in percents\n",
    "df.isna().mean() * 100"
   ]
  },
  {
   "cell_type": "markdown",
   "metadata": {},
   "source": [
    "В столбцах `name`, `year_of_release` и `genre` пропусков очень мало (меньше 2%). Это, видимо, какие-то технические пропуски. Удалим их."
   ]
  },
  {
   "cell_type": "code",
   "execution_count": 10,
   "metadata": {},
   "outputs": [],
   "source": [
    "df = df.dropna(subset=['name', 'year_of_release', 'genre'])"
   ]
  },
  {
   "cell_type": "markdown",
   "metadata": {},
   "source": [
    "В столбцах `critic_score`, `user_score`, `rating` пропусков очень много (около половины строк), поэтому заменим пропущенные значения значением значениями `-1` и `unknown`."
   ]
  },
  {
   "cell_type": "code",
   "execution_count": 11,
   "metadata": {},
   "outputs": [],
   "source": [
    "# fill missing values\n",
    "df['critic_score'] = df['critic_score'].fillna(-1)\n",
    "df['user_score'] = df['user_score'].fillna('-1')\n",
    "df['rating'] = df['rating'].fillna('unknown')"
   ]
  },
  {
   "cell_type": "markdown",
   "metadata": {},
   "source": [
    "Проверим."
   ]
  },
  {
   "cell_type": "code",
   "execution_count": 12,
   "metadata": {},
   "outputs": [
    {
     "data": {
      "text/plain": [
       "name               0.0\n",
       "platform           0.0\n",
       "year_of_release    0.0\n",
       "genre              0.0\n",
       "na_sales           0.0\n",
       "eu_sales           0.0\n",
       "jp_sales           0.0\n",
       "other_sales        0.0\n",
       "critic_score       0.0\n",
       "user_score         0.0\n",
       "rating             0.0\n",
       "dtype: float64"
      ]
     },
     "execution_count": 12,
     "metadata": {},
     "output_type": "execute_result"
    }
   ],
   "source": [
    "# rate of missing values in every column in percents\n",
    "df.isna().mean() * 100"
   ]
  },
  {
   "cell_type": "markdown",
   "metadata": {},
   "source": [
    "Из [открытых источников](https://www.metacritic.com/faq#item13) было выяснено, что `tbd` в столбце `user_score` означает, что оставлено слишком мало оценок, чтобы можно было их показывать. Посчитаем долю таких значений."
   ]
  },
  {
   "cell_type": "code",
   "execution_count": 13,
   "metadata": {},
   "outputs": [
    {
     "data": {
      "text/plain": [
       "0.14449039163220628"
      ]
     },
     "execution_count": 13,
     "metadata": {},
     "output_type": "execute_result"
    }
   ],
   "source": [
    "# rate of 'tbd' values in 'user_score' values\n",
    "len(df[df['user_score'] == 'tbd']) / len(df['user_score'])"
   ]
  },
  {
   "cell_type": "markdown",
   "metadata": {},
   "source": [
    "Поступим с этим значением так же, как с пропущенными значениями: заменим на -1."
   ]
  },
  {
   "cell_type": "code",
   "execution_count": 14,
   "metadata": {},
   "outputs": [],
   "source": [
    "df.loc[df['user_score'] == 'tbd', 'user_score'] = '-1'"
   ]
  },
  {
   "cell_type": "markdown",
   "metadata": {},
   "source": [
    "### Приведение данных к нужным типам"
   ]
  },
  {
   "cell_type": "markdown",
   "metadata": {},
   "source": [
    "Приведем тип данных столбца `year_of_release` к типу 'int'. Также приведем к типу 'int' столбец `critic_score`, так как его значения – это целы положительная числа до 100."
   ]
  },
  {
   "cell_type": "code",
   "execution_count": 15,
   "metadata": {},
   "outputs": [],
   "source": [
    "# change type of 'year_of_release' and 'critic_score' columns to 'int'\n",
    "df['year_of_release'] = df['year_of_release'].astype('int')\n",
    "df['critic_score'] = df['critic_score'].astype('int')"
   ]
  },
  {
   "cell_type": "markdown",
   "metadata": {},
   "source": [
    "Теперь, когда мы удалили значения `tbd` из столбца `user_score`, приведем его тип к 'float'."
   ]
  },
  {
   "cell_type": "code",
   "execution_count": 16,
   "metadata": {},
   "outputs": [],
   "source": [
    "# change type of 'user_score' column to 'float'\n",
    "df['user_score'] = df['user_score'].astype('float')"
   ]
  },
  {
   "cell_type": "markdown",
   "metadata": {},
   "source": [
    "Проверим."
   ]
  },
  {
   "cell_type": "code",
   "execution_count": 17,
   "metadata": {},
   "outputs": [
    {
     "name": "stdout",
     "output_type": "stream",
     "text": [
      "<class 'pandas.core.frame.DataFrame'>\n",
      "Int64Index: 16444 entries, 0 to 16714\n",
      "Data columns (total 11 columns):\n",
      " #   Column           Non-Null Count  Dtype  \n",
      "---  ------           --------------  -----  \n",
      " 0   name             16444 non-null  object \n",
      " 1   platform         16444 non-null  object \n",
      " 2   year_of_release  16444 non-null  int64  \n",
      " 3   genre            16444 non-null  object \n",
      " 4   na_sales         16444 non-null  float64\n",
      " 5   eu_sales         16444 non-null  float64\n",
      " 6   jp_sales         16444 non-null  float64\n",
      " 7   other_sales      16444 non-null  float64\n",
      " 8   critic_score     16444 non-null  int64  \n",
      " 9   user_score       16444 non-null  float64\n",
      " 10  rating           16444 non-null  object \n",
      "dtypes: float64(5), int64(2), object(4)\n",
      "memory usage: 1.5+ MB\n"
     ]
    }
   ],
   "source": [
    "df.info()"
   ]
  },
  {
   "cell_type": "markdown",
   "metadata": {},
   "source": [
    "### Обработка дубликатов"
   ]
  },
  {
   "cell_type": "markdown",
   "metadata": {},
   "source": [
    "Некоторые названия игр повторяются."
   ]
  },
  {
   "cell_type": "code",
   "execution_count": 18,
   "metadata": {},
   "outputs": [
    {
     "data": {
      "text/plain": [
       "need for speed: most wanted               12\n",
       "lego marvel super heroes                   9\n",
       "ratatouille                                9\n",
       "fifa 14                                    9\n",
       "terraria                                   8\n",
       "                                          ..\n",
       "loving life with hello kitty & friends     1\n",
       "scrabble (others sales)                    1\n",
       "viva pinata: party animals                 1\n",
       "sands of destruction                       1\n",
       "haitaka no psychedelica                    1\n",
       "Name: name, Length: 11426, dtype: int64"
      ]
     },
     "execution_count": 18,
     "metadata": {},
     "output_type": "execute_result"
    }
   ],
   "source": [
    "df['name'] = df['name'].str.lower()\n",
    "df['name'].value_counts()"
   ]
  },
  {
   "cell_type": "markdown",
   "metadata": {},
   "source": [
    "Посмотри, например, на строки 'Need for Speed: Most Wanted'."
   ]
  },
  {
   "cell_type": "code",
   "execution_count": 19,
   "metadata": {
    "scrolled": true
   },
   "outputs": [
    {
     "data": {
      "text/html": [
       "<div>\n",
       "<style scoped>\n",
       "    .dataframe tbody tr th:only-of-type {\n",
       "        vertical-align: middle;\n",
       "    }\n",
       "\n",
       "    .dataframe tbody tr th {\n",
       "        vertical-align: top;\n",
       "    }\n",
       "\n",
       "    .dataframe thead th {\n",
       "        text-align: right;\n",
       "    }\n",
       "</style>\n",
       "<table border=\"1\" class=\"dataframe\">\n",
       "  <thead>\n",
       "    <tr style=\"text-align: right;\">\n",
       "      <th></th>\n",
       "      <th>name</th>\n",
       "      <th>platform</th>\n",
       "      <th>year_of_release</th>\n",
       "      <th>genre</th>\n",
       "      <th>na_sales</th>\n",
       "      <th>eu_sales</th>\n",
       "      <th>jp_sales</th>\n",
       "      <th>other_sales</th>\n",
       "      <th>critic_score</th>\n",
       "      <th>user_score</th>\n",
       "      <th>rating</th>\n",
       "    </tr>\n",
       "  </thead>\n",
       "  <tbody>\n",
       "    <tr>\n",
       "      <th>253</th>\n",
       "      <td>need for speed: most wanted</td>\n",
       "      <td>PS2</td>\n",
       "      <td>2005</td>\n",
       "      <td>Racing</td>\n",
       "      <td>2.03</td>\n",
       "      <td>1.79</td>\n",
       "      <td>0.08</td>\n",
       "      <td>0.47</td>\n",
       "      <td>82</td>\n",
       "      <td>9.1</td>\n",
       "      <td>T</td>\n",
       "    </tr>\n",
       "    <tr>\n",
       "      <th>523</th>\n",
       "      <td>need for speed: most wanted</td>\n",
       "      <td>PS3</td>\n",
       "      <td>2012</td>\n",
       "      <td>Racing</td>\n",
       "      <td>0.71</td>\n",
       "      <td>1.46</td>\n",
       "      <td>0.06</td>\n",
       "      <td>0.58</td>\n",
       "      <td>-1</td>\n",
       "      <td>-1.0</td>\n",
       "      <td>unknown</td>\n",
       "    </tr>\n",
       "    <tr>\n",
       "      <th>1190</th>\n",
       "      <td>need for speed: most wanted</td>\n",
       "      <td>X360</td>\n",
       "      <td>2012</td>\n",
       "      <td>Racing</td>\n",
       "      <td>0.62</td>\n",
       "      <td>0.78</td>\n",
       "      <td>0.01</td>\n",
       "      <td>0.15</td>\n",
       "      <td>83</td>\n",
       "      <td>8.5</td>\n",
       "      <td>T</td>\n",
       "    </tr>\n",
       "    <tr>\n",
       "      <th>1591</th>\n",
       "      <td>need for speed: most wanted</td>\n",
       "      <td>X360</td>\n",
       "      <td>2005</td>\n",
       "      <td>Racing</td>\n",
       "      <td>1.00</td>\n",
       "      <td>0.13</td>\n",
       "      <td>0.02</td>\n",
       "      <td>0.10</td>\n",
       "      <td>83</td>\n",
       "      <td>8.5</td>\n",
       "      <td>T</td>\n",
       "    </tr>\n",
       "    <tr>\n",
       "      <th>1998</th>\n",
       "      <td>need for speed: most wanted</td>\n",
       "      <td>XB</td>\n",
       "      <td>2005</td>\n",
       "      <td>Racing</td>\n",
       "      <td>0.53</td>\n",
       "      <td>0.46</td>\n",
       "      <td>0.00</td>\n",
       "      <td>0.05</td>\n",
       "      <td>83</td>\n",
       "      <td>8.8</td>\n",
       "      <td>T</td>\n",
       "    </tr>\n",
       "    <tr>\n",
       "      <th>2048</th>\n",
       "      <td>need for speed: most wanted</td>\n",
       "      <td>PSV</td>\n",
       "      <td>2012</td>\n",
       "      <td>Racing</td>\n",
       "      <td>0.33</td>\n",
       "      <td>0.45</td>\n",
       "      <td>0.01</td>\n",
       "      <td>0.22</td>\n",
       "      <td>-1</td>\n",
       "      <td>-1.0</td>\n",
       "      <td>unknown</td>\n",
       "    </tr>\n",
       "    <tr>\n",
       "      <th>3581</th>\n",
       "      <td>need for speed: most wanted</td>\n",
       "      <td>GC</td>\n",
       "      <td>2005</td>\n",
       "      <td>Racing</td>\n",
       "      <td>0.43</td>\n",
       "      <td>0.11</td>\n",
       "      <td>0.00</td>\n",
       "      <td>0.02</td>\n",
       "      <td>80</td>\n",
       "      <td>9.1</td>\n",
       "      <td>T</td>\n",
       "    </tr>\n",
       "    <tr>\n",
       "      <th>5972</th>\n",
       "      <td>need for speed: most wanted</td>\n",
       "      <td>PC</td>\n",
       "      <td>2005</td>\n",
       "      <td>Racing</td>\n",
       "      <td>0.02</td>\n",
       "      <td>0.23</td>\n",
       "      <td>0.00</td>\n",
       "      <td>0.04</td>\n",
       "      <td>82</td>\n",
       "      <td>8.5</td>\n",
       "      <td>T</td>\n",
       "    </tr>\n",
       "    <tr>\n",
       "      <th>6273</th>\n",
       "      <td>need for speed: most wanted</td>\n",
       "      <td>WiiU</td>\n",
       "      <td>2013</td>\n",
       "      <td>Racing</td>\n",
       "      <td>0.13</td>\n",
       "      <td>0.12</td>\n",
       "      <td>0.00</td>\n",
       "      <td>0.02</td>\n",
       "      <td>-1</td>\n",
       "      <td>-1.0</td>\n",
       "      <td>unknown</td>\n",
       "    </tr>\n",
       "    <tr>\n",
       "      <th>6410</th>\n",
       "      <td>need for speed: most wanted</td>\n",
       "      <td>DS</td>\n",
       "      <td>2005</td>\n",
       "      <td>Racing</td>\n",
       "      <td>0.24</td>\n",
       "      <td>0.01</td>\n",
       "      <td>0.00</td>\n",
       "      <td>0.02</td>\n",
       "      <td>45</td>\n",
       "      <td>6.1</td>\n",
       "      <td>E</td>\n",
       "    </tr>\n",
       "    <tr>\n",
       "      <th>6473</th>\n",
       "      <td>need for speed: most wanted</td>\n",
       "      <td>GBA</td>\n",
       "      <td>2005</td>\n",
       "      <td>Racing</td>\n",
       "      <td>0.19</td>\n",
       "      <td>0.07</td>\n",
       "      <td>0.00</td>\n",
       "      <td>0.00</td>\n",
       "      <td>-1</td>\n",
       "      <td>8.3</td>\n",
       "      <td>E</td>\n",
       "    </tr>\n",
       "    <tr>\n",
       "      <th>11715</th>\n",
       "      <td>need for speed: most wanted</td>\n",
       "      <td>PC</td>\n",
       "      <td>2012</td>\n",
       "      <td>Racing</td>\n",
       "      <td>0.00</td>\n",
       "      <td>0.06</td>\n",
       "      <td>0.00</td>\n",
       "      <td>0.02</td>\n",
       "      <td>82</td>\n",
       "      <td>8.5</td>\n",
       "      <td>T</td>\n",
       "    </tr>\n",
       "  </tbody>\n",
       "</table>\n",
       "</div>"
      ],
      "text/plain": [
       "                              name platform  year_of_release   genre  \\\n",
       "253    need for speed: most wanted      PS2             2005  Racing   \n",
       "523    need for speed: most wanted      PS3             2012  Racing   \n",
       "1190   need for speed: most wanted     X360             2012  Racing   \n",
       "1591   need for speed: most wanted     X360             2005  Racing   \n",
       "1998   need for speed: most wanted       XB             2005  Racing   \n",
       "2048   need for speed: most wanted      PSV             2012  Racing   \n",
       "3581   need for speed: most wanted       GC             2005  Racing   \n",
       "5972   need for speed: most wanted       PC             2005  Racing   \n",
       "6273   need for speed: most wanted     WiiU             2013  Racing   \n",
       "6410   need for speed: most wanted       DS             2005  Racing   \n",
       "6473   need for speed: most wanted      GBA             2005  Racing   \n",
       "11715  need for speed: most wanted       PC             2012  Racing   \n",
       "\n",
       "       na_sales  eu_sales  jp_sales  other_sales  critic_score  user_score  \\\n",
       "253        2.03      1.79      0.08         0.47            82         9.1   \n",
       "523        0.71      1.46      0.06         0.58            -1        -1.0   \n",
       "1190       0.62      0.78      0.01         0.15            83         8.5   \n",
       "1591       1.00      0.13      0.02         0.10            83         8.5   \n",
       "1998       0.53      0.46      0.00         0.05            83         8.8   \n",
       "2048       0.33      0.45      0.01         0.22            -1        -1.0   \n",
       "3581       0.43      0.11      0.00         0.02            80         9.1   \n",
       "5972       0.02      0.23      0.00         0.04            82         8.5   \n",
       "6273       0.13      0.12      0.00         0.02            -1        -1.0   \n",
       "6410       0.24      0.01      0.00         0.02            45         6.1   \n",
       "6473       0.19      0.07      0.00         0.00            -1         8.3   \n",
       "11715      0.00      0.06      0.00         0.02            82         8.5   \n",
       "\n",
       "        rating  \n",
       "253          T  \n",
       "523    unknown  \n",
       "1190         T  \n",
       "1591         T  \n",
       "1998         T  \n",
       "2048   unknown  \n",
       "3581         T  \n",
       "5972         T  \n",
       "6273   unknown  \n",
       "6410         E  \n",
       "6473         E  \n",
       "11715        T  "
      ]
     },
     "execution_count": 19,
     "metadata": {},
     "output_type": "execute_result"
    }
   ],
   "source": [
    "df[df['name'] == 'need for speed: most wanted']"
   ]
  },
  {
   "cell_type": "markdown",
   "metadata": {},
   "source": [
    "Видим, что это игры, выпущенные на разных платформах либо в разные годы. Найдем игры, у которых совпадает и название, и платформ"
   ]
  },
  {
   "cell_type": "code",
   "execution_count": 20,
   "metadata": {},
   "outputs": [
    {
     "data": {
      "text/html": [
       "<div>\n",
       "<style scoped>\n",
       "    .dataframe tbody tr th:only-of-type {\n",
       "        vertical-align: middle;\n",
       "    }\n",
       "\n",
       "    .dataframe tbody tr th {\n",
       "        vertical-align: top;\n",
       "    }\n",
       "\n",
       "    .dataframe thead th {\n",
       "        text-align: right;\n",
       "    }\n",
       "</style>\n",
       "<table border=\"1\" class=\"dataframe\">\n",
       "  <thead>\n",
       "    <tr style=\"text-align: right;\">\n",
       "      <th></th>\n",
       "      <th>name</th>\n",
       "      <th>platform</th>\n",
       "      <th>year_of_release</th>\n",
       "      <th>genre</th>\n",
       "      <th>na_sales</th>\n",
       "      <th>eu_sales</th>\n",
       "      <th>jp_sales</th>\n",
       "      <th>other_sales</th>\n",
       "      <th>critic_score</th>\n",
       "      <th>user_score</th>\n",
       "      <th>rating</th>\n",
       "    </tr>\n",
       "  </thead>\n",
       "  <tbody>\n",
       "    <tr>\n",
       "      <th>604</th>\n",
       "      <td>madden nfl 13</td>\n",
       "      <td>PS3</td>\n",
       "      <td>2012</td>\n",
       "      <td>Sports</td>\n",
       "      <td>2.11</td>\n",
       "      <td>0.22</td>\n",
       "      <td>0.0</td>\n",
       "      <td>0.23</td>\n",
       "      <td>83</td>\n",
       "      <td>5.5</td>\n",
       "      <td>E</td>\n",
       "    </tr>\n",
       "    <tr>\n",
       "      <th>16230</th>\n",
       "      <td>madden nfl 13</td>\n",
       "      <td>PS3</td>\n",
       "      <td>2012</td>\n",
       "      <td>Sports</td>\n",
       "      <td>0.00</td>\n",
       "      <td>0.01</td>\n",
       "      <td>0.0</td>\n",
       "      <td>0.00</td>\n",
       "      <td>83</td>\n",
       "      <td>5.5</td>\n",
       "      <td>E</td>\n",
       "    </tr>\n",
       "  </tbody>\n",
       "</table>\n",
       "</div>"
      ],
      "text/plain": [
       "                name platform  year_of_release   genre  na_sales  eu_sales  \\\n",
       "604    madden nfl 13      PS3             2012  Sports      2.11      0.22   \n",
       "16230  madden nfl 13      PS3             2012  Sports      0.00      0.01   \n",
       "\n",
       "       jp_sales  other_sales  critic_score  user_score rating  \n",
       "604         0.0         0.23            83         5.5      E  \n",
       "16230       0.0         0.00            83         5.5      E  "
      ]
     },
     "execution_count": 20,
     "metadata": {},
     "output_type": "execute_result"
    }
   ],
   "source": [
    "# find duplicates of 'name', 'platform', 'year_of_release' columns\n",
    "df[df.duplicated(['name', 'platform', 'year_of_release'], keep=False)]"
   ]
  },
  {
   "cell_type": "markdown",
   "metadata": {},
   "source": [
    "Удалим строку 16230."
   ]
  },
  {
   "cell_type": "code",
   "execution_count": 21,
   "metadata": {},
   "outputs": [],
   "source": [
    "# drop row\n",
    "df = df.drop(16230).reset_index(drop=True)"
   ]
  },
  {
   "cell_type": "markdown",
   "metadata": {},
   "source": [
    "Проверим."
   ]
  },
  {
   "cell_type": "code",
   "execution_count": 22,
   "metadata": {},
   "outputs": [
    {
     "data": {
      "text/html": [
       "<div>\n",
       "<style scoped>\n",
       "    .dataframe tbody tr th:only-of-type {\n",
       "        vertical-align: middle;\n",
       "    }\n",
       "\n",
       "    .dataframe tbody tr th {\n",
       "        vertical-align: top;\n",
       "    }\n",
       "\n",
       "    .dataframe thead th {\n",
       "        text-align: right;\n",
       "    }\n",
       "</style>\n",
       "<table border=\"1\" class=\"dataframe\">\n",
       "  <thead>\n",
       "    <tr style=\"text-align: right;\">\n",
       "      <th></th>\n",
       "      <th>name</th>\n",
       "      <th>platform</th>\n",
       "      <th>year_of_release</th>\n",
       "      <th>genre</th>\n",
       "      <th>na_sales</th>\n",
       "      <th>eu_sales</th>\n",
       "      <th>jp_sales</th>\n",
       "      <th>other_sales</th>\n",
       "      <th>critic_score</th>\n",
       "      <th>user_score</th>\n",
       "      <th>rating</th>\n",
       "    </tr>\n",
       "  </thead>\n",
       "  <tbody>\n",
       "  </tbody>\n",
       "</table>\n",
       "</div>"
      ],
      "text/plain": [
       "Empty DataFrame\n",
       "Columns: [name, platform, year_of_release, genre, na_sales, eu_sales, jp_sales, other_sales, critic_score, user_score, rating]\n",
       "Index: []"
      ]
     },
     "execution_count": 22,
     "metadata": {},
     "output_type": "execute_result"
    }
   ],
   "source": [
    "# find duplicates of 'name', 'platform', 'year_of_release' columns\n",
    "df[df.duplicated(['name', 'platform', 'year_of_release'], keep=False)]"
   ]
  },
  {
   "cell_type": "markdown",
   "metadata": {},
   "source": [
    "Посчитаем количество явных дубликатов. "
   ]
  },
  {
   "cell_type": "code",
   "execution_count": 23,
   "metadata": {},
   "outputs": [
    {
     "data": {
      "text/plain": [
       "0"
      ]
     },
     "execution_count": 23,
     "metadata": {},
     "output_type": "execute_result"
    }
   ],
   "source": [
    "# number of duplicates\n",
    "df.duplicated().sum()"
   ]
  },
  {
   "cell_type": "markdown",
   "metadata": {},
   "source": [
    "Явных дубликатов не обнаружено."
   ]
  },
  {
   "cell_type": "markdown",
   "metadata": {},
   "source": [
    "### Исследование рейтинга"
   ]
  },
  {
   "cell_type": "markdown",
   "metadata": {},
   "source": [
    "Рейтинг выставляет организация ESPB. [Действующие рейтинги](https://en.wikipedia.org/wiki/Entertainment_Software_Rating_Board#Ratings): RP, E, E10+, T, M, AO."
   ]
  },
  {
   "cell_type": "code",
   "execution_count": 24,
   "metadata": {},
   "outputs": [
    {
     "data": {
      "text/plain": [
       "unknown    6676\n",
       "E          3920\n",
       "T          2905\n",
       "M          1536\n",
       "E10+       1393\n",
       "EC            8\n",
       "K-A           3\n",
       "AO            1\n",
       "RP            1\n",
       "Name: rating, dtype: int64"
      ]
     },
     "execution_count": 24,
     "metadata": {},
     "output_type": "execute_result"
    }
   ],
   "source": [
    "df['rating'].value_counts()"
   ]
  },
  {
   "cell_type": "markdown",
   "metadata": {},
   "source": [
    "Недействительные рейтинги, присутствующие в нашем датафрейме: EC, K-A. K-A – это старое название E, EC (Early Chilhood) перестал использоваться в 2018, можно считать эквивалентным E (Everyone). Заменим."
   ]
  },
  {
   "cell_type": "code",
   "execution_count": 25,
   "metadata": {},
   "outputs": [],
   "source": [
    "df.loc[(df['rating'] == 'K-A') | (df['rating'] == 'EC'), 'rating'] = 'E'"
   ]
  },
  {
   "cell_type": "markdown",
   "metadata": {},
   "source": [
    "Проверим."
   ]
  },
  {
   "cell_type": "code",
   "execution_count": 26,
   "metadata": {},
   "outputs": [
    {
     "data": {
      "text/plain": [
       "unknown    6676\n",
       "E          3931\n",
       "T          2905\n",
       "M          1536\n",
       "E10+       1393\n",
       "AO            1\n",
       "RP            1\n",
       "Name: rating, dtype: int64"
      ]
     },
     "execution_count": 26,
     "metadata": {},
     "output_type": "execute_result"
    }
   ],
   "source": [
    "df['rating'].value_counts()"
   ]
  },
  {
   "cell_type": "markdown",
   "metadata": {},
   "source": [
    "### Добавление нового столбца"
   ]
  },
  {
   "cell_type": "markdown",
   "metadata": {},
   "source": [
    "Создадим столбец с суммарными продажами по всем регионам."
   ]
  },
  {
   "cell_type": "code",
   "execution_count": 27,
   "metadata": {},
   "outputs": [],
   "source": [
    "# create 'general_sales' column\n",
    "df['general_sales'] = df[['na_sales','eu_sales','jp_sales', 'other_sales']].sum(axis = 1)"
   ]
  },
  {
   "cell_type": "markdown",
   "metadata": {},
   "source": [
    "Проверим."
   ]
  },
  {
   "cell_type": "code",
   "execution_count": 28,
   "metadata": {},
   "outputs": [
    {
     "data": {
      "text/html": [
       "<div>\n",
       "<style scoped>\n",
       "    .dataframe tbody tr th:only-of-type {\n",
       "        vertical-align: middle;\n",
       "    }\n",
       "\n",
       "    .dataframe tbody tr th {\n",
       "        vertical-align: top;\n",
       "    }\n",
       "\n",
       "    .dataframe thead th {\n",
       "        text-align: right;\n",
       "    }\n",
       "</style>\n",
       "<table border=\"1\" class=\"dataframe\">\n",
       "  <thead>\n",
       "    <tr style=\"text-align: right;\">\n",
       "      <th></th>\n",
       "      <th>name</th>\n",
       "      <th>platform</th>\n",
       "      <th>year_of_release</th>\n",
       "      <th>genre</th>\n",
       "      <th>na_sales</th>\n",
       "      <th>eu_sales</th>\n",
       "      <th>jp_sales</th>\n",
       "      <th>other_sales</th>\n",
       "      <th>critic_score</th>\n",
       "      <th>user_score</th>\n",
       "      <th>rating</th>\n",
       "      <th>general_sales</th>\n",
       "    </tr>\n",
       "  </thead>\n",
       "  <tbody>\n",
       "    <tr>\n",
       "      <th>0</th>\n",
       "      <td>wii sports</td>\n",
       "      <td>Wii</td>\n",
       "      <td>2006</td>\n",
       "      <td>Sports</td>\n",
       "      <td>41.36</td>\n",
       "      <td>28.96</td>\n",
       "      <td>3.77</td>\n",
       "      <td>8.45</td>\n",
       "      <td>76</td>\n",
       "      <td>8.0</td>\n",
       "      <td>E</td>\n",
       "      <td>82.54</td>\n",
       "    </tr>\n",
       "    <tr>\n",
       "      <th>1</th>\n",
       "      <td>super mario bros.</td>\n",
       "      <td>NES</td>\n",
       "      <td>1985</td>\n",
       "      <td>Platform</td>\n",
       "      <td>29.08</td>\n",
       "      <td>3.58</td>\n",
       "      <td>6.81</td>\n",
       "      <td>0.77</td>\n",
       "      <td>-1</td>\n",
       "      <td>-1.0</td>\n",
       "      <td>unknown</td>\n",
       "      <td>40.24</td>\n",
       "    </tr>\n",
       "    <tr>\n",
       "      <th>2</th>\n",
       "      <td>mario kart wii</td>\n",
       "      <td>Wii</td>\n",
       "      <td>2008</td>\n",
       "      <td>Racing</td>\n",
       "      <td>15.68</td>\n",
       "      <td>12.76</td>\n",
       "      <td>3.79</td>\n",
       "      <td>3.29</td>\n",
       "      <td>82</td>\n",
       "      <td>8.3</td>\n",
       "      <td>E</td>\n",
       "      <td>35.52</td>\n",
       "    </tr>\n",
       "    <tr>\n",
       "      <th>3</th>\n",
       "      <td>wii sports resort</td>\n",
       "      <td>Wii</td>\n",
       "      <td>2009</td>\n",
       "      <td>Sports</td>\n",
       "      <td>15.61</td>\n",
       "      <td>10.93</td>\n",
       "      <td>3.28</td>\n",
       "      <td>2.95</td>\n",
       "      <td>80</td>\n",
       "      <td>8.0</td>\n",
       "      <td>E</td>\n",
       "      <td>32.77</td>\n",
       "    </tr>\n",
       "    <tr>\n",
       "      <th>4</th>\n",
       "      <td>pokemon red/pokemon blue</td>\n",
       "      <td>GB</td>\n",
       "      <td>1996</td>\n",
       "      <td>Role-Playing</td>\n",
       "      <td>11.27</td>\n",
       "      <td>8.89</td>\n",
       "      <td>10.22</td>\n",
       "      <td>1.00</td>\n",
       "      <td>-1</td>\n",
       "      <td>-1.0</td>\n",
       "      <td>unknown</td>\n",
       "      <td>31.38</td>\n",
       "    </tr>\n",
       "  </tbody>\n",
       "</table>\n",
       "</div>"
      ],
      "text/plain": [
       "                       name platform  year_of_release         genre  na_sales  \\\n",
       "0                wii sports      Wii             2006        Sports     41.36   \n",
       "1         super mario bros.      NES             1985      Platform     29.08   \n",
       "2            mario kart wii      Wii             2008        Racing     15.68   \n",
       "3         wii sports resort      Wii             2009        Sports     15.61   \n",
       "4  pokemon red/pokemon blue       GB             1996  Role-Playing     11.27   \n",
       "\n",
       "   eu_sales  jp_sales  other_sales  critic_score  user_score   rating  \\\n",
       "0     28.96      3.77         8.45            76         8.0        E   \n",
       "1      3.58      6.81         0.77            -1        -1.0  unknown   \n",
       "2     12.76      3.79         3.29            82         8.3        E   \n",
       "3     10.93      3.28         2.95            80         8.0        E   \n",
       "4      8.89     10.22         1.00            -1        -1.0  unknown   \n",
       "\n",
       "   general_sales  \n",
       "0          82.54  \n",
       "1          40.24  \n",
       "2          35.52  \n",
       "3          32.77  \n",
       "4          31.38  "
      ]
     },
     "execution_count": 28,
     "metadata": {},
     "output_type": "execute_result"
    }
   ],
   "source": [
    "# show 5 first rows of df\n",
    "df.head()"
   ]
  },
  {
   "cell_type": "markdown",
   "metadata": {},
   "source": [
    "### Вывод"
   ]
  },
  {
   "cell_type": "markdown",
   "metadata": {},
   "source": [
    "Данные были предобработаны:\n",
    "- столбцы были переименованы в соответствие змеиному регистру;\n",
    "- были обработаны пропущенные значения: в столбцах `name`, `year_of_release`, `genre` они были удалены (так как их очень мало), а в столбцах `critic_score`, `user_score`, `rating` пропуски были заменены нулем и был создан столбец-флаг, обозначающий что в одном их этих столбцов был пропуск (True: пропуск был, False: пропуска не было);\n",
    "- данные были приведены к нужному типу: столбец `year_of_release` в 'int', `critic_score` в 'int', `user_score` в 'float';\n",
    "- датасет был проверен на наличие дубликатов: дубликатов обнаружено не было;\n",
    "- были заменены устаревшие рейтинги в столбце `rating`;\n",
    "- был создан новый столбец `general_sales` с данными о суммарных продажах по всем регионам."
   ]
  },
  {
   "cell_type": "markdown",
   "metadata": {},
   "source": [
    "## Исследовательский анализ данных"
   ]
  },
  {
   "cell_type": "markdown",
   "metadata": {},
   "source": [
    "### Распределение игр по годам"
   ]
  },
  {
   "cell_type": "markdown",
   "metadata": {},
   "source": [
    "Построим график количества игр по годам."
   ]
  },
  {
   "cell_type": "code",
   "execution_count": 29,
   "metadata": {},
   "outputs": [
    {
     "data": {
      "text/plain": [
       "<AxesSubplot:title={'center':'distribution of number of games by years'}, xlabel='year of release', ylabel='number of released games'>"
      ]
     },
     "execution_count": 29,
     "metadata": {},
     "output_type": "execute_result"
    },
    {
     "data": {
      "image/png": "[encoded data removed]",
      "text/plain": [
       "<Figure size 432x288 with 1 Axes>"
      ]
     },
     "metadata": {
      "needs_background": "light"
     },
     "output_type": "display_data"
    }
   ],
   "source": [
    "# plot number of games distribution for each year\n",
    "df.pivot_table(index='year_of_release', values='name', aggfunc='count').plot(grid=True, xlabel='year of release', ylabel='number of released games', title='distribution of number of games by years', legend=False)"
   ]
  },
  {
   "cell_type": "markdown",
   "metadata": {},
   "source": [
    "До середины 90-х количество выпускаемых игр было малым, потом сильно возросло, и начиная с начала 10-х стабилизировалось около 500. Будем считать, что нам важны данные, начиная с 2012 года (с этого года количество выпущенных игр колебается около 500)."
   ]
  },
  {
   "cell_type": "code",
   "execution_count": 30,
   "metadata": {},
   "outputs": [],
   "source": [
    "df_temp = df[(df['year_of_release'] >= 2012)]"
   ]
  },
  {
   "cell_type": "markdown",
   "metadata": {},
   "source": [
    "### Исследование продаж по платформам"
   ]
  },
  {
   "cell_type": "markdown",
   "metadata": {},
   "source": [
    "Найдем самые популярные платформы за период 2012-2016."
   ]
  },
  {
   "cell_type": "code",
   "execution_count": 31,
   "metadata": {},
   "outputs": [
    {
     "data": {
      "text/html": [
       "<div>\n",
       "<style scoped>\n",
       "    .dataframe tbody tr th:only-of-type {\n",
       "        vertical-align: middle;\n",
       "    }\n",
       "\n",
       "    .dataframe tbody tr th {\n",
       "        vertical-align: top;\n",
       "    }\n",
       "\n",
       "    .dataframe thead th {\n",
       "        text-align: right;\n",
       "    }\n",
       "</style>\n",
       "<table border=\"1\" class=\"dataframe\">\n",
       "  <thead>\n",
       "    <tr style=\"text-align: right;\">\n",
       "      <th></th>\n",
       "      <th>general_sales</th>\n",
       "    </tr>\n",
       "    <tr>\n",
       "      <th>platform</th>\n",
       "      <th></th>\n",
       "    </tr>\n",
       "  </thead>\n",
       "  <tbody>\n",
       "    <tr>\n",
       "      <th>PS4</th>\n",
       "      <td>314.14</td>\n",
       "    </tr>\n",
       "    <tr>\n",
       "      <th>PS3</th>\n",
       "      <td>288.78</td>\n",
       "    </tr>\n",
       "    <tr>\n",
       "      <th>X360</th>\n",
       "      <td>236.54</td>\n",
       "    </tr>\n",
       "    <tr>\n",
       "      <th>3DS</th>\n",
       "      <td>194.61</td>\n",
       "    </tr>\n",
       "    <tr>\n",
       "      <th>XOne</th>\n",
       "      <td>159.32</td>\n",
       "    </tr>\n",
       "    <tr>\n",
       "      <th>WiiU</th>\n",
       "      <td>82.19</td>\n",
       "    </tr>\n",
       "    <tr>\n",
       "      <th>PC</th>\n",
       "      <td>62.65</td>\n",
       "    </tr>\n",
       "    <tr>\n",
       "      <th>PSV</th>\n",
       "      <td>49.18</td>\n",
       "    </tr>\n",
       "    <tr>\n",
       "      <th>Wii</th>\n",
       "      <td>35.37</td>\n",
       "    </tr>\n",
       "    <tr>\n",
       "      <th>DS</th>\n",
       "      <td>12.55</td>\n",
       "    </tr>\n",
       "    <tr>\n",
       "      <th>PSP</th>\n",
       "      <td>11.19</td>\n",
       "    </tr>\n",
       "  </tbody>\n",
       "</table>\n",
       "</div>"
      ],
      "text/plain": [
       "          general_sales\n",
       "platform               \n",
       "PS4              314.14\n",
       "PS3              288.78\n",
       "X360             236.54\n",
       "3DS              194.61\n",
       "XOne             159.32\n",
       "WiiU              82.19\n",
       "PC                62.65\n",
       "PSV               49.18\n",
       "Wii               35.37\n",
       "DS                12.55\n",
       "PSP               11.19"
      ]
     },
     "execution_count": 31,
     "metadata": {},
     "output_type": "execute_result"
    }
   ],
   "source": [
    "# create pivot table of general sales distribution for each platform\n",
    "df_temp.pivot_table(index='platform', values='general_sales', aggfunc='sum').sort_values(by='general_sales', ascending=False)"
   ]
  },
  {
   "cell_type": "markdown",
   "metadata": {},
   "source": [
    "Для исследования возьмем 5 самых популярных платформ: PS4, PS3, XOne, 3DS и X360."
   ]
  },
  {
   "cell_type": "markdown",
   "metadata": {},
   "source": [
    "Создадим сводную таблицу с значениями общих продах по году для каждой из этих платформ."
   ]
  },
  {
   "cell_type": "code",
   "execution_count": 32,
   "metadata": {},
   "outputs": [
    {
     "data": {
      "text/html": [
       "<div>\n",
       "<style scoped>\n",
       "    .dataframe tbody tr th:only-of-type {\n",
       "        vertical-align: middle;\n",
       "    }\n",
       "\n",
       "    .dataframe tbody tr th {\n",
       "        vertical-align: top;\n",
       "    }\n",
       "\n",
       "    .dataframe thead th {\n",
       "        text-align: right;\n",
       "    }\n",
       "</style>\n",
       "<table border=\"1\" class=\"dataframe\">\n",
       "  <thead>\n",
       "    <tr style=\"text-align: right;\">\n",
       "      <th></th>\n",
       "      <th>platform</th>\n",
       "      <th>year_of_release</th>\n",
       "      <th>general_sales</th>\n",
       "    </tr>\n",
       "  </thead>\n",
       "  <tbody>\n",
       "    <tr>\n",
       "      <th>0</th>\n",
       "      <td>3DS</td>\n",
       "      <td>2011</td>\n",
       "      <td>63.20</td>\n",
       "    </tr>\n",
       "    <tr>\n",
       "      <th>1</th>\n",
       "      <td>3DS</td>\n",
       "      <td>2012</td>\n",
       "      <td>51.36</td>\n",
       "    </tr>\n",
       "    <tr>\n",
       "      <th>2</th>\n",
       "      <td>3DS</td>\n",
       "      <td>2013</td>\n",
       "      <td>56.57</td>\n",
       "    </tr>\n",
       "    <tr>\n",
       "      <th>3</th>\n",
       "      <td>3DS</td>\n",
       "      <td>2014</td>\n",
       "      <td>43.76</td>\n",
       "    </tr>\n",
       "    <tr>\n",
       "      <th>4</th>\n",
       "      <td>3DS</td>\n",
       "      <td>2015</td>\n",
       "      <td>27.78</td>\n",
       "    </tr>\n",
       "    <tr>\n",
       "      <th>5</th>\n",
       "      <td>3DS</td>\n",
       "      <td>2016</td>\n",
       "      <td>15.14</td>\n",
       "    </tr>\n",
       "    <tr>\n",
       "      <th>6</th>\n",
       "      <td>PS3</td>\n",
       "      <td>2006</td>\n",
       "      <td>20.96</td>\n",
       "    </tr>\n",
       "    <tr>\n",
       "      <th>7</th>\n",
       "      <td>PS3</td>\n",
       "      <td>2007</td>\n",
       "      <td>73.19</td>\n",
       "    </tr>\n",
       "    <tr>\n",
       "      <th>8</th>\n",
       "      <td>PS3</td>\n",
       "      <td>2008</td>\n",
       "      <td>118.52</td>\n",
       "    </tr>\n",
       "    <tr>\n",
       "      <th>9</th>\n",
       "      <td>PS3</td>\n",
       "      <td>2009</td>\n",
       "      <td>130.93</td>\n",
       "    </tr>\n",
       "    <tr>\n",
       "      <th>10</th>\n",
       "      <td>PS3</td>\n",
       "      <td>2010</td>\n",
       "      <td>142.17</td>\n",
       "    </tr>\n",
       "    <tr>\n",
       "      <th>11</th>\n",
       "      <td>PS3</td>\n",
       "      <td>2011</td>\n",
       "      <td>156.78</td>\n",
       "    </tr>\n",
       "    <tr>\n",
       "      <th>12</th>\n",
       "      <td>PS3</td>\n",
       "      <td>2012</td>\n",
       "      <td>107.35</td>\n",
       "    </tr>\n",
       "    <tr>\n",
       "      <th>13</th>\n",
       "      <td>PS3</td>\n",
       "      <td>2013</td>\n",
       "      <td>113.25</td>\n",
       "    </tr>\n",
       "    <tr>\n",
       "      <th>14</th>\n",
       "      <td>PS3</td>\n",
       "      <td>2014</td>\n",
       "      <td>47.76</td>\n",
       "    </tr>\n",
       "    <tr>\n",
       "      <th>15</th>\n",
       "      <td>PS3</td>\n",
       "      <td>2015</td>\n",
       "      <td>16.82</td>\n",
       "    </tr>\n",
       "    <tr>\n",
       "      <th>16</th>\n",
       "      <td>PS3</td>\n",
       "      <td>2016</td>\n",
       "      <td>3.60</td>\n",
       "    </tr>\n",
       "    <tr>\n",
       "      <th>17</th>\n",
       "      <td>PS4</td>\n",
       "      <td>2013</td>\n",
       "      <td>25.99</td>\n",
       "    </tr>\n",
       "    <tr>\n",
       "      <th>18</th>\n",
       "      <td>PS4</td>\n",
       "      <td>2014</td>\n",
       "      <td>100.00</td>\n",
       "    </tr>\n",
       "    <tr>\n",
       "      <th>19</th>\n",
       "      <td>PS4</td>\n",
       "      <td>2015</td>\n",
       "      <td>118.90</td>\n",
       "    </tr>\n",
       "    <tr>\n",
       "      <th>20</th>\n",
       "      <td>PS4</td>\n",
       "      <td>2016</td>\n",
       "      <td>69.25</td>\n",
       "    </tr>\n",
       "    <tr>\n",
       "      <th>21</th>\n",
       "      <td>X360</td>\n",
       "      <td>2005</td>\n",
       "      <td>8.25</td>\n",
       "    </tr>\n",
       "    <tr>\n",
       "      <th>22</th>\n",
       "      <td>X360</td>\n",
       "      <td>2006</td>\n",
       "      <td>51.62</td>\n",
       "    </tr>\n",
       "    <tr>\n",
       "      <th>23</th>\n",
       "      <td>X360</td>\n",
       "      <td>2007</td>\n",
       "      <td>95.41</td>\n",
       "    </tr>\n",
       "    <tr>\n",
       "      <th>24</th>\n",
       "      <td>X360</td>\n",
       "      <td>2008</td>\n",
       "      <td>135.26</td>\n",
       "    </tr>\n",
       "    <tr>\n",
       "      <th>25</th>\n",
       "      <td>X360</td>\n",
       "      <td>2009</td>\n",
       "      <td>120.29</td>\n",
       "    </tr>\n",
       "    <tr>\n",
       "      <th>26</th>\n",
       "      <td>X360</td>\n",
       "      <td>2010</td>\n",
       "      <td>170.03</td>\n",
       "    </tr>\n",
       "    <tr>\n",
       "      <th>27</th>\n",
       "      <td>X360</td>\n",
       "      <td>2011</td>\n",
       "      <td>143.84</td>\n",
       "    </tr>\n",
       "    <tr>\n",
       "      <th>28</th>\n",
       "      <td>X360</td>\n",
       "      <td>2012</td>\n",
       "      <td>99.74</td>\n",
       "    </tr>\n",
       "    <tr>\n",
       "      <th>29</th>\n",
       "      <td>X360</td>\n",
       "      <td>2013</td>\n",
       "      <td>88.58</td>\n",
       "    </tr>\n",
       "    <tr>\n",
       "      <th>30</th>\n",
       "      <td>X360</td>\n",
       "      <td>2014</td>\n",
       "      <td>34.74</td>\n",
       "    </tr>\n",
       "    <tr>\n",
       "      <th>31</th>\n",
       "      <td>X360</td>\n",
       "      <td>2015</td>\n",
       "      <td>11.96</td>\n",
       "    </tr>\n",
       "    <tr>\n",
       "      <th>32</th>\n",
       "      <td>X360</td>\n",
       "      <td>2016</td>\n",
       "      <td>1.52</td>\n",
       "    </tr>\n",
       "    <tr>\n",
       "      <th>33</th>\n",
       "      <td>XOne</td>\n",
       "      <td>2013</td>\n",
       "      <td>18.96</td>\n",
       "    </tr>\n",
       "    <tr>\n",
       "      <th>34</th>\n",
       "      <td>XOne</td>\n",
       "      <td>2014</td>\n",
       "      <td>54.07</td>\n",
       "    </tr>\n",
       "    <tr>\n",
       "      <th>35</th>\n",
       "      <td>XOne</td>\n",
       "      <td>2015</td>\n",
       "      <td>60.14</td>\n",
       "    </tr>\n",
       "    <tr>\n",
       "      <th>36</th>\n",
       "      <td>XOne</td>\n",
       "      <td>2016</td>\n",
       "      <td>26.15</td>\n",
       "    </tr>\n",
       "  </tbody>\n",
       "</table>\n",
       "</div>"
      ],
      "text/plain": [
       "   platform  year_of_release  general_sales\n",
       "0       3DS             2011          63.20\n",
       "1       3DS             2012          51.36\n",
       "2       3DS             2013          56.57\n",
       "3       3DS             2014          43.76\n",
       "4       3DS             2015          27.78\n",
       "5       3DS             2016          15.14\n",
       "6       PS3             2006          20.96\n",
       "7       PS3             2007          73.19\n",
       "8       PS3             2008         118.52\n",
       "9       PS3             2009         130.93\n",
       "10      PS3             2010         142.17\n",
       "11      PS3             2011         156.78\n",
       "12      PS3             2012         107.35\n",
       "13      PS3             2013         113.25\n",
       "14      PS3             2014          47.76\n",
       "15      PS3             2015          16.82\n",
       "16      PS3             2016           3.60\n",
       "17      PS4             2013          25.99\n",
       "18      PS4             2014         100.00\n",
       "19      PS4             2015         118.90\n",
       "20      PS4             2016          69.25\n",
       "21     X360             2005           8.25\n",
       "22     X360             2006          51.62\n",
       "23     X360             2007          95.41\n",
       "24     X360             2008         135.26\n",
       "25     X360             2009         120.29\n",
       "26     X360             2010         170.03\n",
       "27     X360             2011         143.84\n",
       "28     X360             2012          99.74\n",
       "29     X360             2013          88.58\n",
       "30     X360             2014          34.74\n",
       "31     X360             2015          11.96\n",
       "32     X360             2016           1.52\n",
       "33     XOne             2013          18.96\n",
       "34     XOne             2014          54.07\n",
       "35     XOne             2015          60.14\n",
       "36     XOne             2016          26.15"
      ]
     },
     "execution_count": 32,
     "metadata": {},
     "output_type": "execute_result"
    }
   ],
   "source": [
    "# create pivot table of general sales per year for top 5 platforms\n",
    "df_temp = df[(df['platform'] == 'PS4') | (df['platform'] == 'PS3') | (df['platform'] == 'XOne') | (df['platform'] == '3DS') | (df['platform'] == 'X360')]\n",
    "df_pivot = df_temp.pivot_table(index=['platform', 'year_of_release'], values=['general_sales'], aggfunc='sum').reset_index()\n",
    "df_pivot"
   ]
  },
  {
   "cell_type": "markdown",
   "metadata": {},
   "source": [
    "Построим графики распределения общих продах по годам для топ-5 платформ (2016 брать в расчет не будем, так как данные неполные)."
   ]
  },
  {
   "cell_type": "code",
   "execution_count": 33,
   "metadata": {},
   "outputs": [
    {
     "data": {
      "image/png": "[encoded data removed]",
      "text/plain": [
       "<Figure size 432x288 with 1 Axes>"
      ]
     },
     "metadata": {
      "needs_background": "light"
     },
     "output_type": "display_data"
    },
    {
     "data": {
      "image/png": "[encoded data removed]",
      "text/plain": [
       "<Figure size 432x288 with 1 Axes>"
      ]
     },
     "metadata": {
      "needs_background": "light"
     },
     "output_type": "display_data"
    },
    {
     "data": {
      "image/png": "[encoded data removed]",
      "text/plain": [
       "<Figure size 432x288 with 1 Axes>"
      ]
     },
     "metadata": {
      "needs_background": "light"
     },
     "output_type": "display_data"
    },
    {
     "data": {
      "image/png": "[encoded data removed]",
      "text/plain": [
       "<Figure size 432x288 with 1 Axes>"
      ]
     },
     "metadata": {
      "needs_background": "light"
     },
     "output_type": "display_data"
    },
    {
     "data": {
      "image/png": "[encoded data removed]",
      "text/plain": [
       "<Figure size 432x288 with 1 Axes>"
      ]
     },
     "metadata": {
      "needs_background": "light"
     },
     "output_type": "display_data"
    }
   ],
   "source": [
    "# plot distribution of general sales per year for top 5 platforms\n",
    "for value in df_pivot['platform'].unique():\n",
    "    df_pivot[df_pivot['platform'] == value].plot(x='year_of_release', y='general_sales', xlabel='year of release', ylabel='general sales', title=f'general sales on {value} per year', grid=True, xticks=range(2005, 2016), xlim=(2005, 2015), legend=False)"
   ]
  },
  {
   "cell_type": "markdown",
   "metadata": {},
   "source": [
    "Видим, что набирают популярность недавно появившиеся платформы (PS4 и XOne), а остальные – теряют популярность (3DS, PS3, X360).\n",
    "\n",
    "Также заметим, что характерное время исчезания популярной платформы – около 10 лет."
   ]
  },
  {
   "cell_type": "markdown",
   "metadata": {},
   "source": [
    "Для нашего исследования возьмем данные, начиная с 2014 года (они лучше всего будут характеризовать ситуацию на рынке сейчас)."
   ]
  },
  {
   "cell_type": "code",
   "execution_count": 34,
   "metadata": {},
   "outputs": [],
   "source": [
    "df = df[df['year_of_release'] >= 2014]"
   ]
  },
  {
   "cell_type": "markdown",
   "metadata": {},
   "source": [
    "Проверим."
   ]
  },
  {
   "cell_type": "code",
   "execution_count": 35,
   "metadata": {},
   "outputs": [
    {
     "data": {
      "text/plain": [
       "2015    606\n",
       "2014    581\n",
       "2016    502\n",
       "Name: year_of_release, dtype: int64"
      ]
     },
     "execution_count": 35,
     "metadata": {},
     "output_type": "execute_result"
    }
   ],
   "source": [
    "df['year_of_release'].value_counts()"
   ]
  },
  {
   "cell_type": "markdown",
   "metadata": {},
   "source": [
    "Найдем самые популярные платформы."
   ]
  },
  {
   "cell_type": "code",
   "execution_count": 36,
   "metadata": {},
   "outputs": [
    {
     "data": {
      "text/html": [
       "<div>\n",
       "<style scoped>\n",
       "    .dataframe tbody tr th:only-of-type {\n",
       "        vertical-align: middle;\n",
       "    }\n",
       "\n",
       "    .dataframe tbody tr th {\n",
       "        vertical-align: top;\n",
       "    }\n",
       "\n",
       "    .dataframe thead th {\n",
       "        text-align: right;\n",
       "    }\n",
       "</style>\n",
       "<table border=\"1\" class=\"dataframe\">\n",
       "  <thead>\n",
       "    <tr style=\"text-align: right;\">\n",
       "      <th></th>\n",
       "      <th>general_sales</th>\n",
       "    </tr>\n",
       "    <tr>\n",
       "      <th>platform</th>\n",
       "      <th></th>\n",
       "    </tr>\n",
       "  </thead>\n",
       "  <tbody>\n",
       "    <tr>\n",
       "      <th>PS4</th>\n",
       "      <td>288.15</td>\n",
       "    </tr>\n",
       "    <tr>\n",
       "      <th>XOne</th>\n",
       "      <td>140.36</td>\n",
       "    </tr>\n",
       "    <tr>\n",
       "      <th>3DS</th>\n",
       "      <td>86.68</td>\n",
       "    </tr>\n",
       "    <tr>\n",
       "      <th>PS3</th>\n",
       "      <td>68.18</td>\n",
       "    </tr>\n",
       "    <tr>\n",
       "      <th>X360</th>\n",
       "      <td>48.22</td>\n",
       "    </tr>\n",
       "    <tr>\n",
       "      <th>WiiU</th>\n",
       "      <td>42.98</td>\n",
       "    </tr>\n",
       "    <tr>\n",
       "      <th>PC</th>\n",
       "      <td>27.05</td>\n",
       "    </tr>\n",
       "    <tr>\n",
       "      <th>PSV</th>\n",
       "      <td>22.40</td>\n",
       "    </tr>\n",
       "    <tr>\n",
       "      <th>Wii</th>\n",
       "      <td>5.07</td>\n",
       "    </tr>\n",
       "    <tr>\n",
       "      <th>PSP</th>\n",
       "      <td>0.36</td>\n",
       "    </tr>\n",
       "  </tbody>\n",
       "</table>\n",
       "</div>"
      ],
      "text/plain": [
       "          general_sales\n",
       "platform               \n",
       "PS4              288.15\n",
       "XOne             140.36\n",
       "3DS               86.68\n",
       "PS3               68.18\n",
       "X360              48.22\n",
       "WiiU              42.98\n",
       "PC                27.05\n",
       "PSV               22.40\n",
       "Wii                5.07\n",
       "PSP                0.36"
      ]
     },
     "execution_count": 36,
     "metadata": {},
     "output_type": "execute_result"
    }
   ],
   "source": [
    "# create pivot table of general sales distribution for each platform\n",
    "df.pivot_table(index='platform', values='general_sales', aggfunc='sum').sort_values(by='general_sales', ascending=False)"
   ]
  },
  {
   "cell_type": "markdown",
   "metadata": {},
   "source": [
    "Платформы-лидеры продаж – PS4, XOne, 3DS, PS3, X360."
   ]
  },
  {
   "cell_type": "markdown",
   "metadata": {},
   "source": [
    "Построим график \"ящик с усами\" для каждой платформы."
   ]
  },
  {
   "cell_type": "code",
   "execution_count": 37,
   "metadata": {},
   "outputs": [
    {
     "data": {
      "text/plain": [
       "(0.0, 1.75)"
      ]
     },
     "execution_count": 37,
     "metadata": {},
     "output_type": "execute_result"
    },
    {
     "data": {
      "image/png": "[encoded data removed]",
      "text/plain": [
       "<Figure size 432x288 with 1 Axes>"
      ]
     },
     "metadata": {
      "needs_background": "light"
     },
     "output_type": "display_data"
    }
   ],
   "source": [
    "# plot 'general_sales' quantile\n",
    "df.boxplot(column='general_sales', by='platform')\n",
    "\n",
    "plt.title('')\n",
    "plt.ylabel('general sales')\n",
    "plt.ylim(0, 1.75)"
   ]
  },
  {
   "cell_type": "markdown",
   "metadata": {},
   "source": [
    "Видим, что хорошие продажи у игр, выходящих на PS4, XOne, WiiU,  Wii и X360, у остальные платформ продажи низкие."
   ]
  },
  {
   "cell_type": "markdown",
   "metadata": {},
   "source": [
    "### Исследование влияния отзывов на продажи"
   ]
  },
  {
   "cell_type": "markdown",
   "metadata": {},
   "source": [
    "Посмотрим, как влияют на продажи отзывы критиков и пользователей для самой популярной платформы - PS4.\n",
    "Посчитаем корреляцию и построим диаграммы рассеяния."
   ]
  },
  {
   "cell_type": "code",
   "execution_count": 38,
   "metadata": {},
   "outputs": [
    {
     "name": "stdout",
     "output_type": "stream",
     "text": [
      "Корреляция между отзывами критиков и продажами 0.40190287811475334\n",
      "Корреляция между отзывами пользователей и продажами -0.04318585997193634\n"
     ]
    },
    {
     "data": {
      "text/plain": [
       "<AxesSubplot:title={'center':'scatter plot of user score and general sales for PS4'}, xlabel='general sales', ylabel='user score'>"
      ]
     },
     "execution_count": 38,
     "metadata": {},
     "output_type": "execute_result"
    },
    {
     "data": {
      "image/png": "[encoded data removed]",
      "text/plain": [
       "<Figure size 432x288 with 1 Axes>"
      ]
     },
     "metadata": {
      "needs_background": "light"
     },
     "output_type": "display_data"
    },
    {
     "data": {
      "image/png": "[encoded data removed]",
      "text/plain": [
       "<Figure size 432x288 with 1 Axes>"
      ]
     },
     "metadata": {
      "needs_background": "light"
     },
     "output_type": "display_data"
    }
   ],
   "source": [
    "# create dataframe of PS4 games without missing values\n",
    "ps4_df = df[(df['platform'] == 'PS4') & (df['critic_score'] > 0) & (df['user_score'] > 0)]\n",
    "\n",
    "\n",
    "# calculate correlations\n",
    "print('Корреляция между отзывами критиков и продажами', ps4_df['critic_score'].corr(ps4_df['general_sales']))\n",
    "print('Корреляция между отзывами пользователей и продажами', ps4_df['user_score'].corr(ps4_df['general_sales']))\n",
    "\n",
    "# plot scatter\n",
    "ps4_df.plot(x='critic_score', y='general_sales', xlabel='general sales', ylabel='critic score', kind='scatter', grid=True, alpha=0.5, title='scatter plot of critic score and general sales for PS4')\n",
    "ps4_df.plot(x='user_score', y='general_sales', xlabel='general sales', ylabel='user score', kind='scatter', grid=True, alpha=0.5, title='scatter plot of user score and general sales for PS4')"
   ]
  },
  {
   "cell_type": "markdown",
   "metadata": {},
   "source": [
    "Как мы видим, есть небольшая корреляция между отзывами критиков и продажами и совсем нет связи между отзывами пользователей и продажами."
   ]
  },
  {
   "cell_type": "markdown",
   "metadata": {},
   "source": [
    "Также изучим влияние отзывов на продажи для XOne."
   ]
  },
  {
   "cell_type": "code",
   "execution_count": 39,
   "metadata": {},
   "outputs": [
    {
     "name": "stdout",
     "output_type": "stream",
     "text": [
      "Корреляция между отзывами критиков и продажами 0.42211185105557647\n",
      "Корреляция между отзывами пользователей и продажами -0.0917343450331075\n"
     ]
    },
    {
     "data": {
      "text/plain": [
       "<AxesSubplot:title={'center':'scatter plot of user score and general sales for XOne'}, xlabel='general sales', ylabel='user score'>"
      ]
     },
     "execution_count": 39,
     "metadata": {},
     "output_type": "execute_result"
    },
    {
     "data": {
      "image/png": "[encoded data removed]",
      "text/plain": [
       "<Figure size 432x288 with 1 Axes>"
      ]
     },
     "metadata": {
      "needs_background": "light"
     },
     "output_type": "display_data"
    },
    {
     "data": {
      "image/png": "[encoded data removed]",
      "text/plain": [
       "<Figure size 432x288 with 1 Axes>"
      ]
     },
     "metadata": {
      "needs_background": "light"
     },
     "output_type": "display_data"
    }
   ],
   "source": [
    "# create dataframe of XOne games without missing values\n",
    "xone_df = df[(df['platform'] == 'XOne') & (df['critic_score'] > 0) & (df['user_score'] > 0)]\n",
    "\n",
    "\n",
    "# calculate correlations\n",
    "print('Корреляция между отзывами критиков и продажами', xone_df['critic_score'].corr(xone_df['general_sales']))\n",
    "print('Корреляция между отзывами пользователей и продажами', xone_df['user_score'].corr(xone_df['general_sales']))\n",
    "\n",
    "# plot scatter\n",
    "xone_df.plot(x='critic_score', y='general_sales', xlabel='general sales', ylabel='critic score', kind='scatter', grid=True, alpha=0.5, title='scatter plot of critic score and general sales for XOne')\n",
    "xone_df.plot(x='user_score', y='general_sales', xlabel='general sales', ylabel='user score', kind='scatter', grid=True, alpha=0.5, title='scatter plot of user score and general sales for XOne')"
   ]
  },
  {
   "cell_type": "markdown",
   "metadata": {},
   "source": [
    "Ситуация аналогична платформе PS4.\n",
    "\n",
    "Теперь рассмотрим платформу 3DS."
   ]
  },
  {
   "cell_type": "code",
   "execution_count": 40,
   "metadata": {},
   "outputs": [
    {
     "name": "stdout",
     "output_type": "stream",
     "text": [
      "Корреляция между отзывами критиков и продажами 0.28468579095782925\n",
      "Корреляция между отзывами пользователей и продажами 0.2798498792503281\n"
     ]
    },
    {
     "data": {
      "text/plain": [
       "<AxesSubplot:title={'center':'scatter plot of user score and general sales for 3DS'}, xlabel='general sales', ylabel='user score'>"
      ]
     },
     "execution_count": 40,
     "metadata": {},
     "output_type": "execute_result"
    },
    {
     "data": {
      "image/png": "[encoded data removed]",
      "text/plain": [
       "<Figure size 432x288 with 1 Axes>"
      ]
     },
     "metadata": {
      "needs_background": "light"
     },
     "output_type": "display_data"
    },
    {
     "data": {
      "image/png": "[encoded data removed]",
      "text/plain": [
       "<Figure size 432x288 with 1 Axes>"
      ]
     },
     "metadata": {
      "needs_background": "light"
     },
     "output_type": "display_data"
    }
   ],
   "source": [
    "# create dataframe of PS4 games without missing values\n",
    "tds_df = df[(df['platform'] == '3DS') & (df['critic_score'] > 0) & (df['user_score'] > 0)]\n",
    "\n",
    "\n",
    "# calculate correlations\n",
    "print('Корреляция между отзывами критиков и продажами', tds_df['critic_score'].corr(tds_df['general_sales']))\n",
    "print('Корреляция между отзывами пользователей и продажами', tds_df['user_score'].corr(tds_df['general_sales']))\n",
    "\n",
    "# plot scatter\n",
    "tds_df.plot(x='critic_score', y='general_sales', xlabel='general sales', ylabel='critic score', kind='scatter', grid=True, alpha=0.5, title='scatter plot of critic score and general sales for 3DS')\n",
    "tds_df.plot(x='user_score', y='general_sales', xlabel='general sales', ylabel='user score', kind='scatter', grid=True, alpha=0.5, title='scatter plot of user score and general sales for 3DS')"
   ]
  },
  {
   "cell_type": "markdown",
   "metadata": {},
   "source": [
    "Для 3DS ситуация отличается: есть примерно одинаковая небольшая корреляция между продажами и отзывами критиков/пользователей."
   ]
  },
  {
   "cell_type": "markdown",
   "metadata": {},
   "source": [
    "### Исследование распределения продаж по жанра"
   ]
  },
  {
   "cell_type": "markdown",
   "metadata": {},
   "source": [
    "Посчитаем медианные общие продажи для каждого жанра и построим график."
   ]
  },
  {
   "cell_type": "code",
   "execution_count": 41,
   "metadata": {},
   "outputs": [
    {
     "data": {
      "text/plain": [
       "<AxesSubplot:xlabel='genre'>"
      ]
     },
     "execution_count": 41,
     "metadata": {},
     "output_type": "execute_result"
    },
    {
     "data": {
      "image/png": "[encoded data removed]",
      "text/plain": [
       "<Figure size 432x288 with 1 Axes>"
      ]
     },
     "metadata": {
      "needs_background": "light"
     },
     "output_type": "display_data"
    }
   ],
   "source": [
    "# create pivot table of median general sales per genre\n",
    "df.pivot_table(index=['genre'], values='general_sales', aggfunc='median').reset_index().sort_values('general_sales', ascending=False).reset_index(drop=True).plot(x='genre', y='general_sales', kind='bar', legend=False)"
   ]
  },
  {
   "cell_type": "markdown",
   "metadata": {},
   "source": [
    "Видим, что самые прибыльные жанры – Shooter, Sports, Platform, Fighting и Role-Playing, наименее прибыльные – Adventure, Puzzle и Strategy."
   ]
  },
  {
   "cell_type": "markdown",
   "metadata": {},
   "source": [
    "### Вывод\n",
    "Был проведен исследовательский анализ данных:\n",
    "- было изучено распределение количества игр по годам и был выбран 2012 год, как год начала нового периода, интересного нам в исследовании;\n",
    "- было исследовано распределение продаж по платформам (для исследования был выбрат период 2014-2016): самыми популярными платформами оказались PS4, XOne, 3DS, PS3, X360 (также было замечено что первые две продолжают набирать популярность, а остальные становятся менее популярными);\n",
    "- было выяснено, что для самых популярных платформ есть связь между отзывами критиков и продажами, но нет связи между отзывами пользователей и продажами (но так как было много пропусков в столбце с отзывами, то, возможно, что критики просто чаще оставляют отзывы на часто продаваемые и качественные игры);\n",
    "- были найдены наиболее прибыльные (Shooter, Sports, Platform, Fighting и Role-Playing) и наименее прибыльные жанры игр (Adventure, Puzzle и Strategy)."
   ]
  },
  {
   "cell_type": "markdown",
   "metadata": {},
   "source": [
    "## Составление портрета пользователя каждого региона"
   ]
  },
  {
   "cell_type": "markdown",
   "metadata": {},
   "source": [
    "### Портрет пользователя из Северной Америки"
   ]
  },
  {
   "cell_type": "markdown",
   "metadata": {},
   "source": [
    "Найдем топ-5 самых популярных платформ в Северной Америке."
   ]
  },
  {
   "cell_type": "code",
   "execution_count": 42,
   "metadata": {},
   "outputs": [
    {
     "data": {
      "text/html": [
       "<div>\n",
       "<style scoped>\n",
       "    .dataframe tbody tr th:only-of-type {\n",
       "        vertical-align: middle;\n",
       "    }\n",
       "\n",
       "    .dataframe tbody tr th {\n",
       "        vertical-align: top;\n",
       "    }\n",
       "\n",
       "    .dataframe thead th {\n",
       "        text-align: right;\n",
       "    }\n",
       "</style>\n",
       "<table border=\"1\" class=\"dataframe\">\n",
       "  <thead>\n",
       "    <tr style=\"text-align: right;\">\n",
       "      <th></th>\n",
       "      <th>na_sales</th>\n",
       "    </tr>\n",
       "    <tr>\n",
       "      <th>platform</th>\n",
       "      <th></th>\n",
       "    </tr>\n",
       "  </thead>\n",
       "  <tbody>\n",
       "    <tr>\n",
       "      <th>PS4</th>\n",
       "      <td>98.61</td>\n",
       "    </tr>\n",
       "    <tr>\n",
       "      <th>XOne</th>\n",
       "      <td>81.27</td>\n",
       "    </tr>\n",
       "    <tr>\n",
       "      <th>X360</th>\n",
       "      <td>28.30</td>\n",
       "    </tr>\n",
       "    <tr>\n",
       "      <th>3DS</th>\n",
       "      <td>22.64</td>\n",
       "    </tr>\n",
       "    <tr>\n",
       "      <th>PS3</th>\n",
       "      <td>22.05</td>\n",
       "    </tr>\n",
       "  </tbody>\n",
       "</table>\n",
       "</div>"
      ],
      "text/plain": [
       "          na_sales\n",
       "platform          \n",
       "PS4          98.61\n",
       "XOne         81.27\n",
       "X360         28.30\n",
       "3DS          22.64\n",
       "PS3          22.05"
      ]
     },
     "execution_count": 42,
     "metadata": {},
     "output_type": "execute_result"
    }
   ],
   "source": [
    "# create pivot table of NA sales distribution for top 5 platforms\n",
    "df.pivot_table(index='platform', values='na_sales', aggfunc='sum').sort_values(by='na_sales', ascending=False).head(5)"
   ]
  },
  {
   "cell_type": "markdown",
   "metadata": {},
   "source": [
    "Найдем топ-5 самых популярных жанров в Северной Америке."
   ]
  },
  {
   "cell_type": "code",
   "execution_count": 43,
   "metadata": {},
   "outputs": [
    {
     "data": {
      "text/html": [
       "<div>\n",
       "<style scoped>\n",
       "    .dataframe tbody tr th:only-of-type {\n",
       "        vertical-align: middle;\n",
       "    }\n",
       "\n",
       "    .dataframe tbody tr th {\n",
       "        vertical-align: top;\n",
       "    }\n",
       "\n",
       "    .dataframe thead th {\n",
       "        text-align: right;\n",
       "    }\n",
       "</style>\n",
       "<table border=\"1\" class=\"dataframe\">\n",
       "  <thead>\n",
       "    <tr style=\"text-align: right;\">\n",
       "      <th></th>\n",
       "      <th>na_sales</th>\n",
       "    </tr>\n",
       "    <tr>\n",
       "      <th>genre</th>\n",
       "      <th></th>\n",
       "    </tr>\n",
       "  </thead>\n",
       "  <tbody>\n",
       "    <tr>\n",
       "      <th>Shooter</th>\n",
       "      <td>79.02</td>\n",
       "    </tr>\n",
       "    <tr>\n",
       "      <th>Action</th>\n",
       "      <td>72.53</td>\n",
       "    </tr>\n",
       "    <tr>\n",
       "      <th>Sports</th>\n",
       "      <td>46.13</td>\n",
       "    </tr>\n",
       "    <tr>\n",
       "      <th>Role-Playing</th>\n",
       "      <td>33.47</td>\n",
       "    </tr>\n",
       "    <tr>\n",
       "      <th>Misc</th>\n",
       "      <td>15.05</td>\n",
       "    </tr>\n",
       "  </tbody>\n",
       "</table>\n",
       "</div>"
      ],
      "text/plain": [
       "              na_sales\n",
       "genre                 \n",
       "Shooter          79.02\n",
       "Action           72.53\n",
       "Sports           46.13\n",
       "Role-Playing     33.47\n",
       "Misc             15.05"
      ]
     },
     "execution_count": 43,
     "metadata": {},
     "output_type": "execute_result"
    }
   ],
   "source": [
    "# create pivot table of NA sales distribution for top 5 genres\n",
    "df.pivot_table(index='genre', values='na_sales', aggfunc='sum').sort_values(by='na_sales', ascending=False).head(5)"
   ]
  },
  {
   "cell_type": "markdown",
   "metadata": {},
   "source": [
    "### Портрет пользователя из Европы"
   ]
  },
  {
   "cell_type": "markdown",
   "metadata": {},
   "source": [
    "Найдем топ-5 самых популярных платформ в Европе."
   ]
  },
  {
   "cell_type": "code",
   "execution_count": 44,
   "metadata": {},
   "outputs": [
    {
     "data": {
      "text/html": [
       "<div>\n",
       "<style scoped>\n",
       "    .dataframe tbody tr th:only-of-type {\n",
       "        vertical-align: middle;\n",
       "    }\n",
       "\n",
       "    .dataframe tbody tr th {\n",
       "        vertical-align: top;\n",
       "    }\n",
       "\n",
       "    .dataframe thead th {\n",
       "        text-align: right;\n",
       "    }\n",
       "</style>\n",
       "<table border=\"1\" class=\"dataframe\">\n",
       "  <thead>\n",
       "    <tr style=\"text-align: right;\">\n",
       "      <th></th>\n",
       "      <th>eu_sales</th>\n",
       "    </tr>\n",
       "    <tr>\n",
       "      <th>platform</th>\n",
       "      <th></th>\n",
       "    </tr>\n",
       "  </thead>\n",
       "  <tbody>\n",
       "    <tr>\n",
       "      <th>PS4</th>\n",
       "      <td>130.04</td>\n",
       "    </tr>\n",
       "    <tr>\n",
       "      <th>XOne</th>\n",
       "      <td>46.25</td>\n",
       "    </tr>\n",
       "    <tr>\n",
       "      <th>PS3</th>\n",
       "      <td>25.54</td>\n",
       "    </tr>\n",
       "    <tr>\n",
       "      <th>PC</th>\n",
       "      <td>17.97</td>\n",
       "    </tr>\n",
       "    <tr>\n",
       "      <th>3DS</th>\n",
       "      <td>16.12</td>\n",
       "    </tr>\n",
       "  </tbody>\n",
       "</table>\n",
       "</div>"
      ],
      "text/plain": [
       "          eu_sales\n",
       "platform          \n",
       "PS4         130.04\n",
       "XOne         46.25\n",
       "PS3          25.54\n",
       "PC           17.97\n",
       "3DS          16.12"
      ]
     },
     "execution_count": 44,
     "metadata": {},
     "output_type": "execute_result"
    }
   ],
   "source": [
    "# create pivot table of EU sales distribution for top 5 platforms\n",
    "df.pivot_table(index='platform', values='eu_sales', aggfunc='sum').sort_values(by='eu_sales', ascending=False).head(5)"
   ]
  },
  {
   "cell_type": "markdown",
   "metadata": {},
   "source": [
    "Найдем топ-5 самых популярных жанров в Европе."
   ]
  },
  {
   "cell_type": "code",
   "execution_count": 45,
   "metadata": {},
   "outputs": [
    {
     "data": {
      "text/html": [
       "<div>\n",
       "<style scoped>\n",
       "    .dataframe tbody tr th:only-of-type {\n",
       "        vertical-align: middle;\n",
       "    }\n",
       "\n",
       "    .dataframe tbody tr th {\n",
       "        vertical-align: top;\n",
       "    }\n",
       "\n",
       "    .dataframe thead th {\n",
       "        text-align: right;\n",
       "    }\n",
       "</style>\n",
       "<table border=\"1\" class=\"dataframe\">\n",
       "  <thead>\n",
       "    <tr style=\"text-align: right;\">\n",
       "      <th></th>\n",
       "      <th>eu_sales</th>\n",
       "    </tr>\n",
       "    <tr>\n",
       "      <th>genre</th>\n",
       "      <th></th>\n",
       "    </tr>\n",
       "  </thead>\n",
       "  <tbody>\n",
       "    <tr>\n",
       "      <th>Action</th>\n",
       "      <td>74.68</td>\n",
       "    </tr>\n",
       "    <tr>\n",
       "      <th>Shooter</th>\n",
       "      <td>65.52</td>\n",
       "    </tr>\n",
       "    <tr>\n",
       "      <th>Sports</th>\n",
       "      <td>45.73</td>\n",
       "    </tr>\n",
       "    <tr>\n",
       "      <th>Role-Playing</th>\n",
       "      <td>28.17</td>\n",
       "    </tr>\n",
       "    <tr>\n",
       "      <th>Racing</th>\n",
       "      <td>14.13</td>\n",
       "    </tr>\n",
       "  </tbody>\n",
       "</table>\n",
       "</div>"
      ],
      "text/plain": [
       "              eu_sales\n",
       "genre                 \n",
       "Action           74.68\n",
       "Shooter          65.52\n",
       "Sports           45.73\n",
       "Role-Playing     28.17\n",
       "Racing           14.13"
      ]
     },
     "execution_count": 45,
     "metadata": {},
     "output_type": "execute_result"
    }
   ],
   "source": [
    "# create pivot table of EU sales distribution for top 5 genres\n",
    "df.pivot_table(index='genre', values='eu_sales', aggfunc='sum').sort_values(by='eu_sales', ascending=False).head(5)"
   ]
  },
  {
   "cell_type": "markdown",
   "metadata": {},
   "source": [
    "### Портрет пользователя из Японии"
   ]
  },
  {
   "cell_type": "markdown",
   "metadata": {},
   "source": [
    "Найдем топ-5 самых популярных платформ в Японии."
   ]
  },
  {
   "cell_type": "code",
   "execution_count": 46,
   "metadata": {},
   "outputs": [
    {
     "data": {
      "text/html": [
       "<div>\n",
       "<style scoped>\n",
       "    .dataframe tbody tr th:only-of-type {\n",
       "        vertical-align: middle;\n",
       "    }\n",
       "\n",
       "    .dataframe tbody tr th {\n",
       "        vertical-align: top;\n",
       "    }\n",
       "\n",
       "    .dataframe thead th {\n",
       "        text-align: right;\n",
       "    }\n",
       "</style>\n",
       "<table border=\"1\" class=\"dataframe\">\n",
       "  <thead>\n",
       "    <tr style=\"text-align: right;\">\n",
       "      <th></th>\n",
       "      <th>jp_sales</th>\n",
       "    </tr>\n",
       "    <tr>\n",
       "      <th>platform</th>\n",
       "      <th></th>\n",
       "    </tr>\n",
       "  </thead>\n",
       "  <tbody>\n",
       "    <tr>\n",
       "      <th>3DS</th>\n",
       "      <td>44.24</td>\n",
       "    </tr>\n",
       "    <tr>\n",
       "      <th>PS4</th>\n",
       "      <td>15.02</td>\n",
       "    </tr>\n",
       "    <tr>\n",
       "      <th>PSV</th>\n",
       "      <td>14.54</td>\n",
       "    </tr>\n",
       "    <tr>\n",
       "      <th>PS3</th>\n",
       "      <td>11.22</td>\n",
       "    </tr>\n",
       "    <tr>\n",
       "      <th>WiiU</th>\n",
       "      <td>7.31</td>\n",
       "    </tr>\n",
       "  </tbody>\n",
       "</table>\n",
       "</div>"
      ],
      "text/plain": [
       "          jp_sales\n",
       "platform          \n",
       "3DS          44.24\n",
       "PS4          15.02\n",
       "PSV          14.54\n",
       "PS3          11.22\n",
       "WiiU          7.31"
      ]
     },
     "execution_count": 46,
     "metadata": {},
     "output_type": "execute_result"
    }
   ],
   "source": [
    "# create pivot table of JP sales distribution for top 5 platforms\n",
    "df.pivot_table(index='platform', values='jp_sales', aggfunc='sum').sort_values(by='jp_sales', ascending=False).head(5)"
   ]
  },
  {
   "cell_type": "markdown",
   "metadata": {},
   "source": [
    "Найдем топ-5 самых популярных жанров в Японии."
   ]
  },
  {
   "cell_type": "code",
   "execution_count": 47,
   "metadata": {},
   "outputs": [
    {
     "data": {
      "text/html": [
       "<div>\n",
       "<style scoped>\n",
       "    .dataframe tbody tr th:only-of-type {\n",
       "        vertical-align: middle;\n",
       "    }\n",
       "\n",
       "    .dataframe tbody tr th {\n",
       "        vertical-align: top;\n",
       "    }\n",
       "\n",
       "    .dataframe thead th {\n",
       "        text-align: right;\n",
       "    }\n",
       "</style>\n",
       "<table border=\"1\" class=\"dataframe\">\n",
       "  <thead>\n",
       "    <tr style=\"text-align: right;\">\n",
       "      <th></th>\n",
       "      <th>jp_sales</th>\n",
       "    </tr>\n",
       "    <tr>\n",
       "      <th>genre</th>\n",
       "      <th></th>\n",
       "    </tr>\n",
       "  </thead>\n",
       "  <tbody>\n",
       "    <tr>\n",
       "      <th>Role-Playing</th>\n",
       "      <td>31.16</td>\n",
       "    </tr>\n",
       "    <tr>\n",
       "      <th>Action</th>\n",
       "      <td>29.58</td>\n",
       "    </tr>\n",
       "    <tr>\n",
       "      <th>Fighting</th>\n",
       "      <td>6.37</td>\n",
       "    </tr>\n",
       "    <tr>\n",
       "      <th>Misc</th>\n",
       "      <td>5.61</td>\n",
       "    </tr>\n",
       "    <tr>\n",
       "      <th>Shooter</th>\n",
       "      <td>4.87</td>\n",
       "    </tr>\n",
       "  </tbody>\n",
       "</table>\n",
       "</div>"
      ],
      "text/plain": [
       "              jp_sales\n",
       "genre                 \n",
       "Role-Playing     31.16\n",
       "Action           29.58\n",
       "Fighting          6.37\n",
       "Misc              5.61\n",
       "Shooter           4.87"
      ]
     },
     "execution_count": 47,
     "metadata": {},
     "output_type": "execute_result"
    }
   ],
   "source": [
    "# create pivot table of JP sales distribution for top 5 genres\n",
    "df.pivot_table(index='genre', values='jp_sales', aggfunc='sum').sort_values(by='jp_sales', ascending=False).head(5)"
   ]
  },
  {
   "cell_type": "markdown",
   "metadata": {},
   "source": [
    "### Проверка влияния рейтинга игры на продажи"
   ]
  },
  {
   "cell_type": "markdown",
   "metadata": {},
   "source": [
    "Построим график \"ящик с усами\" (без выбросов) продаж в Северной Америке, Европе и Японии и рейтинга игры."
   ]
  },
  {
   "cell_type": "code",
   "execution_count": 48,
   "metadata": {},
   "outputs": [
    {
     "data": {
      "text/plain": [
       "(0.0, 0.3)"
      ]
     },
     "execution_count": 48,
     "metadata": {},
     "output_type": "execute_result"
    },
    {
     "data": {
      "image/png": "[encoded data removed]",
      "text/plain": [
       "<Figure size 432x288 with 1 Axes>"
      ]
     },
     "metadata": {
      "needs_background": "light"
     },
     "output_type": "display_data"
    },
    {
     "data": {
      "image/png": "[encoded data removed]",
      "text/plain": [
       "<Figure size 432x288 with 1 Axes>"
      ]
     },
     "metadata": {
      "needs_background": "light"
     },
     "output_type": "display_data"
    },
    {
     "data": {
      "image/png": "[encoded data removed]",
      "text/plain": [
       "<Figure size 432x288 with 1 Axes>"
      ]
     },
     "metadata": {
      "needs_background": "light"
     },
     "output_type": "display_data"
    }
   ],
   "source": [
    "# plot 'general_sales' quantile\n",
    "df.boxplot(column='na_sales', by='rating')\n",
    "\n",
    "plt.title('')\n",
    "plt.ylabel('NA sales')\n",
    "plt.ylim(0, 1.5)\n",
    "\n",
    "\n",
    "# plot 'general_sales' quantile\n",
    "df.boxplot(column='eu_sales', by='rating')\n",
    "\n",
    "plt.title('')\n",
    "plt.ylabel('EU sales')\n",
    "plt.ylim(0, 1)\n",
    "\n",
    "\n",
    "# plot 'general_sales' quantile\n",
    "df.boxplot(column='jp_sales', by='rating')\n",
    "\n",
    "plt.title('')\n",
    "plt.ylabel('Japan sales')\n",
    "plt.ylim(0, 0.3)"
   ]
  },
  {
   "cell_type": "code",
   "execution_count": 49,
   "metadata": {},
   "outputs": [
    {
     "data": {
      "text/html": [
       "<div>\n",
       "<style scoped>\n",
       "    .dataframe tbody tr th:only-of-type {\n",
       "        vertical-align: middle;\n",
       "    }\n",
       "\n",
       "    .dataframe tbody tr th {\n",
       "        vertical-align: top;\n",
       "    }\n",
       "\n",
       "    .dataframe thead th {\n",
       "        text-align: right;\n",
       "    }\n",
       "</style>\n",
       "<table border=\"1\" class=\"dataframe\">\n",
       "  <thead>\n",
       "    <tr style=\"text-align: right;\">\n",
       "      <th></th>\n",
       "      <th>eu_sales</th>\n",
       "      <th>jp_sales</th>\n",
       "      <th>na_sales</th>\n",
       "    </tr>\n",
       "    <tr>\n",
       "      <th>rating</th>\n",
       "      <th></th>\n",
       "      <th></th>\n",
       "      <th></th>\n",
       "    </tr>\n",
       "  </thead>\n",
       "  <tbody>\n",
       "    <tr>\n",
       "      <th>E</th>\n",
       "      <td>0.265114</td>\n",
       "      <td>0.040822</td>\n",
       "      <td>0.231689</td>\n",
       "    </tr>\n",
       "    <tr>\n",
       "      <th>E10+</th>\n",
       "      <td>0.141405</td>\n",
       "      <td>0.024108</td>\n",
       "      <td>0.179622</td>\n",
       "    </tr>\n",
       "    <tr>\n",
       "      <th>M</th>\n",
       "      <td>0.352604</td>\n",
       "      <td>0.030226</td>\n",
       "      <td>0.363849</td>\n",
       "    </tr>\n",
       "    <tr>\n",
       "      <th>T</th>\n",
       "      <td>0.125720</td>\n",
       "      <td>0.054539</td>\n",
       "      <td>0.143727</td>\n",
       "    </tr>\n",
       "    <tr>\n",
       "      <th>unknown</th>\n",
       "      <td>0.078705</td>\n",
       "      <td>0.075968</td>\n",
       "      <td>0.086409</td>\n",
       "    </tr>\n",
       "  </tbody>\n",
       "</table>\n",
       "</div>"
      ],
      "text/plain": [
       "         eu_sales  jp_sales  na_sales\n",
       "rating                               \n",
       "E        0.265114  0.040822  0.231689\n",
       "E10+     0.141405  0.024108  0.179622\n",
       "M        0.352604  0.030226  0.363849\n",
       "T        0.125720  0.054539  0.143727\n",
       "unknown  0.078705  0.075968  0.086409"
      ]
     },
     "execution_count": 49,
     "metadata": {},
     "output_type": "execute_result"
    }
   ],
   "source": [
    "# create pivot table of sales in NA, EU and JP and ratings\n",
    "df.pivot_table(index='rating', values=['na_sales', 'eu_sales', 'jp_sales'], aggfunc='mean')"
   ]
  },
  {
   "cell_type": "markdown",
   "metadata": {},
   "source": [
    "### Вывод\n",
    "Были составлены портреты пользователей из Северной Америки, Европы и Японии: в Северной Америке и Европе портреты очень похожи (самые популярные платформы – PS4 и ХOne, самые популярные жанры – Shooter, Action, Sport), это объясняется культурной близостью этих частей света. Ситуация в Японии другая: помимо PS4 популярны портативные платформы, такие как 3DS, PSV, WiiU, а в среди жанров игр популярны Role-Playing, Action и Fighting.\n",
    "Также мы видим, что в Северной Америке и Европе лучшие продажи у игр для взрослых (рейтинг М), а в Японии – у игр для всех (рейтинг E). (Было замечено, что у игр без рейтинга очень низкие продажи: можно предположить, что пропуски в столбце `rating` у самых не популярных игр, которые не прошли процедуру проверки ESBR.)"
   ]
  },
  {
   "cell_type": "markdown",
   "metadata": {},
   "source": [
    "## Проверка гипотез"
   ]
  },
  {
   "cell_type": "markdown",
   "metadata": {},
   "source": [
    "Проверим две гипотезы:\n",
    "- средние пользовательские рейтинги платформ Xbox One и PC одинаковые;\n",
    "- средние пользовательские рейтинги жанров Action и Sports одинаковые.\n",
    "\n",
    "Так как наши выборки – это генеральные совокупности, то для проверки гипотезы будем использовать метод `ttest_ind`."
   ]
  },
  {
   "cell_type": "markdown",
   "metadata": {},
   "source": [
    "### Проверка гипотезы о равенстве средних пользовательских рейтингов платформ Xbox One и PC"
   ]
  },
  {
   "cell_type": "markdown",
   "metadata": {},
   "source": [
    "Нулевая гипотеза $H_0$: средний пользовательский рейтинг платформы XOne равен среднему пользовательскому рейтингу платформы PC.\n",
    "\n",
    "Альтернативная гипотеза $H_1$: средний пользовательский рейтинг платформы XOne не равен среднему пользовательскому рейтингу платформы PC."
   ]
  },
  {
   "cell_type": "code",
   "execution_count": 50,
   "metadata": {},
   "outputs": [
    {
     "name": "stdout",
     "output_type": "stream",
     "text": [
      "p-значение: 0.11601398086668827\n",
      "Не получилось отвергнуть нулевую гипотезу\n"
     ]
    }
   ],
   "source": [
    "# create xone dataframe and pc dataframe\n",
    "xone_df = df[(df['platform'] == 'XOne') & (df['user_score'] > 0)]\n",
    "pc_df = df[(df['platform'] == 'PC') & (df['user_score'] > 0)]\n",
    "\n",
    "# critical p-value\n",
    "alpha = 0.05\n",
    "\n",
    "# t-test\n",
    "results = st.ttest_ind(xone_df['user_score'], pc_df['user_score'], equal_var=False)\n",
    "\n",
    "print('p-значение:', results.pvalue)\n",
    "\n",
    "if results.pvalue < alpha:\n",
    "    print('Отвергаем нулевую гипотезу')\n",
    "else:\n",
    "    print('Не получилось отвергнуть нулевую гипотезу')"
   ]
  },
  {
   "cell_type": "markdown",
   "metadata": {},
   "source": [
    "Для дополнительного подтверждения гипотезы посчитаем среднее и медианц каждой генеральной совокупности."
   ]
  },
  {
   "cell_type": "code",
   "execution_count": 51,
   "metadata": {},
   "outputs": [
    {
     "name": "stdout",
     "output_type": "stream",
     "text": [
      "Средняя и медианная выручка пользователей платформы XOne: 6.594545454545453, 6.8\n",
      "Средняя и медианная выручка пользователей платформы PC: 6.298360655737703, 6.8\n"
     ]
    }
   ],
   "source": [
    "print(f\"Средняя и медианная выручка пользователей платформы XOne: {xone_df['user_score'].mean()}, {xone_df['user_score'].median()}\")\n",
    "print(f\"Средняя и медианная выручка пользователей платформы PC: {pc_df['user_score'].mean()}, {pc_df['user_score'].median()}\")"
   ]
  },
  {
   "cell_type": "markdown",
   "metadata": {},
   "source": [
    "На самом деле, средние значения пользовательского рейтинга платформ XOne и PC очень близки, а медианы и вовсе равны."
   ]
  },
  {
   "cell_type": "markdown",
   "metadata": {},
   "source": [
    "### Проверка гипотезы о неравенстве средних пользовательских рейтингов жанров Action и Sports"
   ]
  },
  {
   "cell_type": "markdown",
   "metadata": {},
   "source": [
    "Нулевая гипотеза $H_0$: средний пользовательский рейтинг жанра Action равен среднему пользовательскому рейтингу жанра Sports.\n",
    "\n",
    "Альтернативная гипотеза $H_1$: средний пользовательский рейтинг жанра Action не равен среднему пользовательскому рейтингу жанра Sports."
   ]
  },
  {
   "cell_type": "code",
   "execution_count": 52,
   "metadata": {},
   "outputs": [
    {
     "name": "stdout",
     "output_type": "stream",
     "text": [
      "p-значение: 1.1825550382644557e-14\n",
      "Отвергаем нулевую гипотезу\n"
     ]
    }
   ],
   "source": [
    "# create xone dataframe and pc dataframe\n",
    "action_df = df[(df['genre'] == 'Action') & (df['user_score'] > 0)]\n",
    "sports_df = df[(df['genre'] == 'Sports') & (df['user_score'] > 0)]\n",
    "\n",
    "# critical p-value\n",
    "alpha = 0.05\n",
    "\n",
    "# t-test\n",
    "results = st.ttest_ind(action_df['user_score'], sports_df['user_score'], equal_var=False)\n",
    "\n",
    "print('p-значение:', results.pvalue)\n",
    "\n",
    "if results.pvalue < alpha:\n",
    "    print('Отвергаем нулевую гипотезу')\n",
    "else:\n",
    "    print('Не получилось отвергнуть нулевую гипотезу')\n"
   ]
  },
  {
   "cell_type": "markdown",
   "metadata": {},
   "source": [
    "Посчитаем среднее и медиану."
   ]
  },
  {
   "cell_type": "code",
   "execution_count": 53,
   "metadata": {},
   "outputs": [
    {
     "name": "stdout",
     "output_type": "stream",
     "text": [
      "Средняя и медианная выручка пользователей платформы XOne: 6.760606060606054, 7.1\n",
      "Средняя и медианная выручка пользователей платформы PC: 5.225196850393697, 5.5\n"
     ]
    }
   ],
   "source": [
    "print(f\"Средняя и медианная выручка пользователей платформы XOne: {action_df['user_score'].mean()}, {action_df['user_score'].median()}\")\n",
    "print(f\"Средняя и медианная выручка пользователей платформы PC: {sports_df['user_score'].mean()}, {sports_df['user_score'].median()}\")"
   ]
  },
  {
   "cell_type": "markdown",
   "metadata": {},
   "source": [
    "Видим, что средние пользовательские рейтинги жанров Action и Sports, на самом деле, довольно сильно отличаются."
   ]
  },
  {
   "cell_type": "markdown",
   "metadata": {},
   "source": [
    "### Вывод\n",
    "\n",
    "С помощью t-теста были проверены две гипотезы:\n",
    "- средние пользовательские рейтинги платформ Xbox One и PC одинаковые;\n",
    "- средние пользовательские рейтинги жанров Action и Sports одинаковые.\n",
    "\n",
    "Первая гипотеза были подтверждена, а вторая опровергнута."
   ]
  },
  {
   "cell_type": "markdown",
   "metadata": {},
   "source": [
    "## Общий вывод\n",
    "Были изучены и проанализированы данные об играх, их продажах в различных регионах, жанрах, оценок пользователей и критиков, платформах:\n",
    "- была выполнена предобработка данных: названия столбцов были переименовы в соответсвии с змеиным регистром, были обработаны пропущенные значения, данные были приведены к нужным типам, были исправлены ошибки в рейтинге игр (устаревшие рейтинги были заменены на действительные), были посчитаны общие продажи;\n",
    "- был проведен исследовательский анализ данных: для исследования был выбран период 2014-2016 как подходящий для прогнозирования популярности игры; были найдены самые популярные платформы: PS4, XOne, 3DS, PS3, X360; была определена связь между отзывами критиков и продажими (связи между отзывами пользователей и продажами найдено не было); были найдены наиболее доходные жанры (Shooter, Sports, Platform, Fighting и Role-Playing) и наименее доходные жанры (Adventure, Puzzle и Strategy);\n",
    "- были составлены портреты пользователей из Северной Америки, Европы и Японии: посчитаны топ-5 платформ и жанров в каждом регионе, а также было изучено влияние рейтинга на продажи (в Северной Америке и Европе наибольшие продажи у игр с рейтингом M, а в Японии – у игр с рейтингов E);\n",
    "- были сформулированы и проверены две гипотезы: 1. средние пользовательские рейтинги платформ Xbox One и PC одинаковые; 2. средние пользовательские рейтинги жанров Action и Sports разные. Обе гипотезы были подтверждены."
   ]
  }
 ],
 "metadata": {
  "ExecuteTimeLog": [
   {
    "duration": 900,
    "start_time": "2022-06-02T22:03:24.997Z"
   },
   {
    "duration": 28,
    "start_time": "2022-06-02T22:03:28.538Z"
   },
   {
    "duration": 25,
    "start_time": "2022-06-02T22:15:56.817Z"
   },
   {
    "duration": 31,
    "start_time": "2022-06-02T22:16:06.639Z"
   },
   {
    "duration": 13,
    "start_time": "2022-06-02T22:16:17.098Z"
   },
   {
    "duration": 93,
    "start_time": "2022-06-02T22:23:25.653Z"
   },
   {
    "duration": 34,
    "start_time": "2022-06-02T22:23:31.135Z"
   },
   {
    "duration": 37,
    "start_time": "2022-06-02T22:31:17.434Z"
   },
   {
    "duration": 4,
    "start_time": "2022-06-02T22:31:33.971Z"
   },
   {
    "duration": 4,
    "start_time": "2022-06-02T22:31:47.171Z"
   },
   {
    "duration": 20,
    "start_time": "2022-06-02T22:31:50.272Z"
   },
   {
    "duration": 3,
    "start_time": "2022-06-02T22:33:02.611Z"
   },
   {
    "duration": 4,
    "start_time": "2022-06-02T22:33:07.871Z"
   },
   {
    "duration": 13,
    "start_time": "2022-06-02T22:33:24.891Z"
   },
   {
    "duration": 15,
    "start_time": "2022-06-02T22:33:29.451Z"
   },
   {
    "duration": 10,
    "start_time": "2022-06-02T22:38:15.386Z"
   },
   {
    "duration": 14,
    "start_time": "2022-06-02T22:38:21.546Z"
   },
   {
    "duration": 13,
    "start_time": "2022-06-02T22:39:47.167Z"
   },
   {
    "duration": 7,
    "start_time": "2022-06-02T22:42:35.226Z"
   },
   {
    "duration": 10,
    "start_time": "2022-06-02T22:43:02.518Z"
   },
   {
    "duration": 9,
    "start_time": "2022-06-02T22:43:05.702Z"
   },
   {
    "duration": 4,
    "start_time": "2022-06-02T22:47:30.522Z"
   },
   {
    "duration": 10,
    "start_time": "2022-06-02T22:47:48.106Z"
   },
   {
    "duration": 9,
    "start_time": "2022-06-02T22:47:57.405Z"
   },
   {
    "duration": 4,
    "start_time": "2022-06-02T22:48:10.314Z"
   },
   {
    "duration": 3,
    "start_time": "2022-06-02T22:48:14.405Z"
   },
   {
    "duration": 2,
    "start_time": "2022-06-02T22:48:16.126Z"
   },
   {
    "duration": 51,
    "start_time": "2022-06-02T22:48:24.058Z"
   },
   {
    "duration": 16,
    "start_time": "2022-06-02T22:48:24.111Z"
   },
   {
    "duration": 15,
    "start_time": "2022-06-02T22:48:24.128Z"
   },
   {
    "duration": 28,
    "start_time": "2022-06-02T22:48:24.145Z"
   },
   {
    "duration": 29,
    "start_time": "2022-06-02T22:48:24.175Z"
   },
   {
    "duration": 3,
    "start_time": "2022-06-02T22:48:24.227Z"
   },
   {
    "duration": 19,
    "start_time": "2022-06-02T22:48:24.232Z"
   },
   {
    "duration": 12,
    "start_time": "2022-06-02T22:48:24.253Z"
   },
   {
    "duration": 10,
    "start_time": "2022-06-02T22:49:12.587Z"
   },
   {
    "duration": 8,
    "start_time": "2022-06-02T22:49:14.086Z"
   },
   {
    "duration": 7,
    "start_time": "2022-06-02T22:49:24.138Z"
   },
   {
    "duration": 466,
    "start_time": "2022-06-02T22:49:32.641Z"
   },
   {
    "duration": 24,
    "start_time": "2022-06-02T22:49:33.109Z"
   },
   {
    "duration": 15,
    "start_time": "2022-06-02T22:49:33.134Z"
   },
   {
    "duration": 30,
    "start_time": "2022-06-02T22:49:33.151Z"
   },
   {
    "duration": 48,
    "start_time": "2022-06-02T22:49:33.183Z"
   },
   {
    "duration": 3,
    "start_time": "2022-06-02T22:49:33.233Z"
   },
   {
    "duration": 17,
    "start_time": "2022-06-02T22:49:33.237Z"
   },
   {
    "duration": 14,
    "start_time": "2022-06-02T22:49:33.255Z"
   },
   {
    "duration": 10,
    "start_time": "2022-06-02T22:49:33.271Z"
   },
   {
    "duration": 47,
    "start_time": "2022-06-02T22:49:33.282Z"
   },
   {
    "duration": 9,
    "start_time": "2022-06-02T22:49:37.227Z"
   },
   {
    "duration": 4,
    "start_time": "2022-06-02T22:49:54.926Z"
   },
   {
    "duration": 11,
    "start_time": "2022-06-02T22:50:07.726Z"
   },
   {
    "duration": 607,
    "start_time": "2022-06-02T22:52:30.936Z"
   },
   {
    "duration": 209,
    "start_time": "2022-06-02T22:52:40.635Z"
   },
   {
    "duration": 65,
    "start_time": "2022-06-02T23:44:31.379Z"
   },
   {
    "duration": 480,
    "start_time": "2022-06-02T23:44:37.925Z"
   },
   {
    "duration": 23,
    "start_time": "2022-06-02T23:44:38.407Z"
   },
   {
    "duration": 14,
    "start_time": "2022-06-02T23:44:38.431Z"
   },
   {
    "duration": 28,
    "start_time": "2022-06-02T23:44:38.447Z"
   },
   {
    "duration": 46,
    "start_time": "2022-06-02T23:44:38.477Z"
   },
   {
    "duration": 3,
    "start_time": "2022-06-02T23:44:38.525Z"
   },
   {
    "duration": 15,
    "start_time": "2022-06-02T23:44:38.530Z"
   },
   {
    "duration": 11,
    "start_time": "2022-06-02T23:44:38.546Z"
   },
   {
    "duration": 42,
    "start_time": "2022-06-02T23:44:38.559Z"
   },
   {
    "duration": 9,
    "start_time": "2022-06-02T23:44:38.603Z"
   },
   {
    "duration": 9,
    "start_time": "2022-06-02T23:44:38.614Z"
   },
   {
    "duration": 10,
    "start_time": "2022-06-02T23:45:33.094Z"
   },
   {
    "duration": 9,
    "start_time": "2022-06-02T23:45:44.814Z"
   },
   {
    "duration": 6,
    "start_time": "2022-06-02T23:46:21.461Z"
   },
   {
    "duration": 7,
    "start_time": "2022-06-02T23:46:29.200Z"
   },
   {
    "duration": 23,
    "start_time": "2022-06-02T23:55:04.717Z"
   },
   {
    "duration": 9,
    "start_time": "2022-06-02T23:55:25.906Z"
   },
   {
    "duration": 18,
    "start_time": "2022-06-02T23:57:06.610Z"
   },
   {
    "duration": 13,
    "start_time": "2022-06-02T23:57:09.104Z"
   },
   {
    "duration": 6,
    "start_time": "2022-06-02T23:57:11.638Z"
   },
   {
    "duration": 464,
    "start_time": "2022-06-02T23:57:45.408Z"
   },
   {
    "duration": 36,
    "start_time": "2022-06-02T23:57:45.874Z"
   },
   {
    "duration": 15,
    "start_time": "2022-06-02T23:57:45.911Z"
   },
   {
    "duration": 27,
    "start_time": "2022-06-02T23:57:45.927Z"
   },
   {
    "duration": 28,
    "start_time": "2022-06-02T23:57:45.956Z"
   },
   {
    "duration": 8,
    "start_time": "2022-06-02T23:57:45.986Z"
   },
   {
    "duration": 29,
    "start_time": "2022-06-02T23:57:45.996Z"
   },
   {
    "duration": 13,
    "start_time": "2022-06-02T23:57:46.027Z"
   },
   {
    "duration": 9,
    "start_time": "2022-06-02T23:57:46.041Z"
   },
   {
    "duration": 13,
    "start_time": "2022-06-02T23:57:46.051Z"
   },
   {
    "duration": 10,
    "start_time": "2022-06-02T23:57:46.066Z"
   },
   {
    "duration": 23,
    "start_time": "2022-06-02T23:57:46.078Z"
   },
   {
    "duration": 10,
    "start_time": "2022-06-02T23:57:46.105Z"
   },
   {
    "duration": 10,
    "start_time": "2022-06-02T23:57:46.117Z"
   },
   {
    "duration": 6,
    "start_time": "2022-06-02T23:57:59.137Z"
   },
   {
    "duration": 7,
    "start_time": "2022-06-02T23:58:09.385Z"
   },
   {
    "duration": 6,
    "start_time": "2022-06-02T23:58:11.526Z"
   },
   {
    "duration": 468,
    "start_time": "2022-06-02T23:58:23.493Z"
   },
   {
    "duration": 23,
    "start_time": "2022-06-02T23:58:23.962Z"
   },
   {
    "duration": 30,
    "start_time": "2022-06-02T23:58:23.987Z"
   },
   {
    "duration": 33,
    "start_time": "2022-06-02T23:58:24.019Z"
   },
   {
    "duration": 41,
    "start_time": "2022-06-02T23:58:24.055Z"
   },
   {
    "duration": 3,
    "start_time": "2022-06-02T23:58:24.104Z"
   },
   {
    "duration": 20,
    "start_time": "2022-06-02T23:58:24.109Z"
   },
   {
    "duration": 11,
    "start_time": "2022-06-02T23:58:24.131Z"
   },
   {
    "duration": 9,
    "start_time": "2022-06-02T23:58:24.144Z"
   },
   {
    "duration": 10,
    "start_time": "2022-06-02T23:58:24.157Z"
   },
   {
    "duration": 34,
    "start_time": "2022-06-02T23:58:24.169Z"
   },
   {
    "duration": 6,
    "start_time": "2022-06-02T23:58:24.205Z"
   },
   {
    "duration": 11,
    "start_time": "2022-06-02T23:58:24.212Z"
   },
   {
    "duration": 7,
    "start_time": "2022-06-02T23:58:24.224Z"
   },
   {
    "duration": 8,
    "start_time": "2022-06-03T00:04:36.114Z"
   },
   {
    "duration": 13,
    "start_time": "2022-06-03T00:04:41.648Z"
   },
   {
    "duration": 224,
    "start_time": "2022-06-03T00:06:45.907Z"
   },
   {
    "duration": 7,
    "start_time": "2022-06-03T00:06:57.518Z"
   },
   {
    "duration": 15,
    "start_time": "2022-06-03T00:07:00.644Z"
   },
   {
    "duration": 5,
    "start_time": "2022-06-03T00:08:18.322Z"
   },
   {
    "duration": 15,
    "start_time": "2022-06-03T00:08:20.180Z"
   },
   {
    "duration": 490,
    "start_time": "2022-06-03T00:09:37.056Z"
   },
   {
    "duration": 27,
    "start_time": "2022-06-03T00:09:37.549Z"
   },
   {
    "duration": 26,
    "start_time": "2022-06-03T00:09:37.578Z"
   },
   {
    "duration": 54,
    "start_time": "2022-06-03T00:09:37.607Z"
   },
   {
    "duration": 30,
    "start_time": "2022-06-03T00:09:37.662Z"
   },
   {
    "duration": 9,
    "start_time": "2022-06-03T00:09:37.693Z"
   },
   {
    "duration": 53,
    "start_time": "2022-06-03T00:09:37.706Z"
   },
   {
    "duration": 31,
    "start_time": "2022-06-03T00:09:37.761Z"
   },
   {
    "duration": 52,
    "start_time": "2022-06-03T00:09:37.794Z"
   },
   {
    "duration": 21,
    "start_time": "2022-06-03T00:09:37.849Z"
   },
   {
    "duration": 27,
    "start_time": "2022-06-03T00:09:37.872Z"
   },
   {
    "duration": 45,
    "start_time": "2022-06-03T00:09:37.901Z"
   },
   {
    "duration": 18,
    "start_time": "2022-06-03T00:09:37.947Z"
   },
   {
    "duration": 18,
    "start_time": "2022-06-03T00:09:37.967Z"
   },
   {
    "duration": 43,
    "start_time": "2022-06-03T00:09:37.987Z"
   },
   {
    "duration": 12,
    "start_time": "2022-06-03T00:09:38.031Z"
   },
   {
    "duration": 20,
    "start_time": "2022-06-03T00:09:38.045Z"
   },
   {
    "duration": 23,
    "start_time": "2022-06-03T00:09:38.067Z"
   },
   {
    "duration": 80,
    "start_time": "2022-06-03T00:10:25.744Z"
   },
   {
    "duration": 31,
    "start_time": "2022-06-03T00:13:59.216Z"
   },
   {
    "duration": 7,
    "start_time": "2022-06-03T00:16:10.200Z"
   },
   {
    "duration": 8,
    "start_time": "2022-06-03T00:16:16.007Z"
   },
   {
    "duration": 14,
    "start_time": "2022-06-03T00:16:27.740Z"
   },
   {
    "duration": 11,
    "start_time": "2022-06-03T00:18:14.919Z"
   },
   {
    "duration": 16,
    "start_time": "2022-06-03T00:19:06.453Z"
   },
   {
    "duration": 12,
    "start_time": "2022-06-03T00:19:32.232Z"
   },
   {
    "duration": 17,
    "start_time": "2022-06-03T00:19:36.821Z"
   },
   {
    "duration": 5,
    "start_time": "2022-06-03T00:22:26.470Z"
   },
   {
    "duration": 27,
    "start_time": "2022-06-03T00:22:30.023Z"
   },
   {
    "duration": 5,
    "start_time": "2022-06-03T00:23:09.712Z"
   },
   {
    "duration": 24,
    "start_time": "2022-06-03T00:23:11.761Z"
   },
   {
    "duration": 19,
    "start_time": "2022-06-03T00:23:21.192Z"
   },
   {
    "duration": 16,
    "start_time": "2022-06-03T00:23:30.522Z"
   },
   {
    "duration": 15,
    "start_time": "2022-06-03T00:36:31.476Z"
   },
   {
    "duration": 22,
    "start_time": "2022-06-03T00:36:41.996Z"
   },
   {
    "duration": 12,
    "start_time": "2022-06-03T00:37:18.195Z"
   },
   {
    "duration": 27,
    "start_time": "2022-06-03T00:37:22.486Z"
   },
   {
    "duration": 16,
    "start_time": "2022-06-03T00:37:31.921Z"
   },
   {
    "duration": 754,
    "start_time": "2022-06-03T00:38:38.054Z"
   },
   {
    "duration": 60,
    "start_time": "2022-06-03T14:01:18.000Z"
   },
   {
    "duration": 503,
    "start_time": "2022-06-03T14:01:25.255Z"
   },
   {
    "duration": 23,
    "start_time": "2022-06-03T14:01:25.760Z"
   },
   {
    "duration": 15,
    "start_time": "2022-06-03T14:01:25.784Z"
   },
   {
    "duration": 46,
    "start_time": "2022-06-03T14:01:25.801Z"
   },
   {
    "duration": 27,
    "start_time": "2022-06-03T14:01:25.849Z"
   },
   {
    "duration": 2,
    "start_time": "2022-06-03T14:01:25.877Z"
   },
   {
    "duration": 16,
    "start_time": "2022-06-03T14:01:25.881Z"
   },
   {
    "duration": 17,
    "start_time": "2022-06-03T14:01:25.898Z"
   },
   {
    "duration": 19,
    "start_time": "2022-06-03T14:01:25.917Z"
   },
   {
    "duration": 10,
    "start_time": "2022-06-03T14:01:25.938Z"
   },
   {
    "duration": 13,
    "start_time": "2022-06-03T14:01:25.949Z"
   },
   {
    "duration": 5,
    "start_time": "2022-06-03T14:01:25.964Z"
   },
   {
    "duration": 8,
    "start_time": "2022-06-03T14:01:25.970Z"
   },
   {
    "duration": 6,
    "start_time": "2022-06-03T14:01:25.980Z"
   },
   {
    "duration": 5,
    "start_time": "2022-06-03T14:01:25.987Z"
   },
   {
    "duration": 6,
    "start_time": "2022-06-03T14:01:25.994Z"
   },
   {
    "duration": 36,
    "start_time": "2022-06-03T14:01:26.002Z"
   },
   {
    "duration": 24,
    "start_time": "2022-06-03T14:01:26.040Z"
   },
   {
    "duration": 4,
    "start_time": "2022-06-03T14:01:26.066Z"
   },
   {
    "duration": 15,
    "start_time": "2022-06-03T14:01:26.072Z"
   },
   {
    "duration": 21,
    "start_time": "2022-06-03T14:01:26.088Z"
   },
   {
    "duration": 33,
    "start_time": "2022-06-03T14:01:26.111Z"
   },
   {
    "duration": 84,
    "start_time": "2022-06-03T14:01:44.573Z"
   },
   {
    "duration": 15,
    "start_time": "2022-06-03T14:02:00.694Z"
   },
   {
    "duration": 14,
    "start_time": "2022-06-03T14:02:18.853Z"
   },
   {
    "duration": 15,
    "start_time": "2022-06-03T14:04:07.673Z"
   },
   {
    "duration": 15,
    "start_time": "2022-06-03T14:05:10.873Z"
   },
   {
    "duration": 5,
    "start_time": "2022-06-03T14:07:04.794Z"
   },
   {
    "duration": 15,
    "start_time": "2022-06-03T14:07:13.774Z"
   },
   {
    "duration": 17,
    "start_time": "2022-06-03T14:13:33.145Z"
   },
   {
    "duration": 21,
    "start_time": "2022-06-03T14:13:43.306Z"
   },
   {
    "duration": 554,
    "start_time": "2022-06-03T14:14:50.870Z"
   },
   {
    "duration": 50,
    "start_time": "2022-06-03T14:14:51.427Z"
   },
   {
    "duration": 27,
    "start_time": "2022-06-03T14:14:51.482Z"
   },
   {
    "duration": 70,
    "start_time": "2022-06-03T14:14:51.511Z"
   },
   {
    "duration": 39,
    "start_time": "2022-06-03T14:14:51.584Z"
   },
   {
    "duration": 4,
    "start_time": "2022-06-03T14:14:51.625Z"
   },
   {
    "duration": 59,
    "start_time": "2022-06-03T14:14:51.632Z"
   },
   {
    "duration": 17,
    "start_time": "2022-06-03T14:14:51.693Z"
   },
   {
    "duration": 32,
    "start_time": "2022-06-03T14:14:51.712Z"
   },
   {
    "duration": 20,
    "start_time": "2022-06-03T14:14:51.771Z"
   },
   {
    "duration": 17,
    "start_time": "2022-06-03T14:14:51.793Z"
   },
   {
    "duration": 12,
    "start_time": "2022-06-03T14:14:51.812Z"
   },
   {
    "duration": 32,
    "start_time": "2022-06-03T14:14:51.825Z"
   },
   {
    "duration": 16,
    "start_time": "2022-06-03T14:14:51.862Z"
   },
   {
    "duration": 7,
    "start_time": "2022-06-03T14:14:51.880Z"
   },
   {
    "duration": 8,
    "start_time": "2022-06-03T14:14:51.888Z"
   },
   {
    "duration": 17,
    "start_time": "2022-06-03T14:14:51.898Z"
   },
   {
    "duration": 32,
    "start_time": "2022-06-03T14:14:51.917Z"
   },
   {
    "duration": 9,
    "start_time": "2022-06-03T14:14:51.957Z"
   },
   {
    "duration": 19,
    "start_time": "2022-06-03T14:14:51.969Z"
   },
   {
    "duration": 25,
    "start_time": "2022-06-03T14:14:51.990Z"
   },
   {
    "duration": 4,
    "start_time": "2022-06-03T14:14:52.017Z"
   },
   {
    "duration": 57,
    "start_time": "2022-06-03T14:14:52.022Z"
   },
   {
    "duration": 40,
    "start_time": "2022-06-03T14:14:52.081Z"
   },
   {
    "duration": 42,
    "start_time": "2022-06-03T14:15:16.352Z"
   },
   {
    "duration": 76,
    "start_time": "2022-06-03T14:15:48.349Z"
   },
   {
    "duration": 66,
    "start_time": "2022-06-03T14:16:03.003Z"
   },
   {
    "duration": 555,
    "start_time": "2022-06-03T14:16:09.346Z"
   },
   {
    "duration": 37,
    "start_time": "2022-06-03T14:16:09.905Z"
   },
   {
    "duration": 52,
    "start_time": "2022-06-03T14:16:09.944Z"
   },
   {
    "duration": 56,
    "start_time": "2022-06-03T14:16:09.999Z"
   },
   {
    "duration": 37,
    "start_time": "2022-06-03T14:16:10.057Z"
   },
   {
    "duration": 3,
    "start_time": "2022-06-03T14:16:10.096Z"
   },
   {
    "duration": 65,
    "start_time": "2022-06-03T14:16:10.101Z"
   },
   {
    "duration": 25,
    "start_time": "2022-06-03T14:16:10.169Z"
   },
   {
    "duration": 27,
    "start_time": "2022-06-03T14:16:10.196Z"
   },
   {
    "duration": 48,
    "start_time": "2022-06-03T14:16:10.226Z"
   },
   {
    "duration": 30,
    "start_time": "2022-06-03T14:16:10.277Z"
   },
   {
    "duration": 16,
    "start_time": "2022-06-03T14:16:10.309Z"
   },
   {
    "duration": 35,
    "start_time": "2022-06-03T14:16:10.327Z"
   },
   {
    "duration": 22,
    "start_time": "2022-06-03T14:16:10.365Z"
   },
   {
    "duration": 15,
    "start_time": "2022-06-03T14:16:10.389Z"
   },
   {
    "duration": 47,
    "start_time": "2022-06-03T14:16:10.406Z"
   },
   {
    "duration": 40,
    "start_time": "2022-06-03T14:16:10.455Z"
   },
   {
    "duration": 25,
    "start_time": "2022-06-03T14:16:10.497Z"
   },
   {
    "duration": 30,
    "start_time": "2022-06-03T14:16:10.524Z"
   },
   {
    "duration": 29,
    "start_time": "2022-06-03T14:16:10.556Z"
   },
   {
    "duration": 48,
    "start_time": "2022-06-03T14:16:10.587Z"
   },
   {
    "duration": 43,
    "start_time": "2022-06-03T14:16:10.638Z"
   },
   {
    "duration": 35,
    "start_time": "2022-06-03T14:16:10.684Z"
   },
   {
    "duration": 71,
    "start_time": "2022-06-03T14:16:10.721Z"
   },
   {
    "duration": 34,
    "start_time": "2022-06-03T14:18:40.472Z"
   },
   {
    "duration": 540,
    "start_time": "2022-06-03T14:19:14.160Z"
   },
   {
    "duration": 26,
    "start_time": "2022-06-03T14:19:14.702Z"
   },
   {
    "duration": 24,
    "start_time": "2022-06-03T14:19:14.730Z"
   },
   {
    "duration": 44,
    "start_time": "2022-06-03T14:19:14.756Z"
   },
   {
    "duration": 44,
    "start_time": "2022-06-03T14:19:14.802Z"
   },
   {
    "duration": 3,
    "start_time": "2022-06-03T14:19:14.848Z"
   },
   {
    "duration": 35,
    "start_time": "2022-06-03T14:19:14.853Z"
   },
   {
    "duration": 21,
    "start_time": "2022-06-03T14:19:14.890Z"
   },
   {
    "duration": 16,
    "start_time": "2022-06-03T14:19:14.913Z"
   },
   {
    "duration": 44,
    "start_time": "2022-06-03T14:19:14.931Z"
   },
   {
    "duration": 12,
    "start_time": "2022-06-03T14:19:14.977Z"
   },
   {
    "duration": 8,
    "start_time": "2022-06-03T14:19:14.991Z"
   },
   {
    "duration": 26,
    "start_time": "2022-06-03T14:19:15.001Z"
   },
   {
    "duration": 55,
    "start_time": "2022-06-03T14:19:15.033Z"
   },
   {
    "duration": 10,
    "start_time": "2022-06-03T14:19:15.090Z"
   },
   {
    "duration": 13,
    "start_time": "2022-06-03T14:19:15.102Z"
   },
   {
    "duration": 19,
    "start_time": "2022-06-03T14:19:15.117Z"
   },
   {
    "duration": 48,
    "start_time": "2022-06-03T14:19:15.138Z"
   },
   {
    "duration": 4,
    "start_time": "2022-06-03T14:19:15.188Z"
   },
   {
    "duration": 42,
    "start_time": "2022-06-03T14:19:15.195Z"
   },
   {
    "duration": 47,
    "start_time": "2022-06-03T14:19:15.241Z"
   },
   {
    "duration": 5,
    "start_time": "2022-06-03T14:19:15.291Z"
   },
   {
    "duration": 48,
    "start_time": "2022-06-03T14:19:15.298Z"
   },
   {
    "duration": 19,
    "start_time": "2022-06-03T14:19:15.352Z"
   },
   {
    "duration": 0,
    "start_time": "2022-06-03T14:19:15.374Z"
   },
   {
    "duration": 12,
    "start_time": "2022-06-03T14:19:52.057Z"
   },
   {
    "duration": 10,
    "start_time": "2022-06-03T14:20:00.888Z"
   },
   {
    "duration": 33,
    "start_time": "2022-06-03T14:20:08.553Z"
   },
   {
    "duration": 43,
    "start_time": "2022-06-03T14:20:37.728Z"
   },
   {
    "duration": 98,
    "start_time": "2022-06-03T14:22:19.135Z"
   },
   {
    "duration": 24,
    "start_time": "2022-06-03T14:22:35.872Z"
   },
   {
    "duration": 24,
    "start_time": "2022-06-03T14:22:44.368Z"
   },
   {
    "duration": 21,
    "start_time": "2022-06-03T14:22:55.076Z"
   },
   {
    "duration": 488,
    "start_time": "2022-06-03T14:23:05.833Z"
   },
   {
    "duration": 20,
    "start_time": "2022-06-03T14:23:42.168Z"
   },
   {
    "duration": 32,
    "start_time": "2022-06-03T14:23:49.502Z"
   },
   {
    "duration": 23,
    "start_time": "2022-06-03T14:24:08.048Z"
   },
   {
    "duration": 27,
    "start_time": "2022-06-03T14:24:33.455Z"
   },
   {
    "duration": 5,
    "start_time": "2022-06-03T14:24:55.788Z"
   },
   {
    "duration": 5,
    "start_time": "2022-06-03T14:25:04.334Z"
   },
   {
    "duration": 41,
    "start_time": "2022-06-03T14:25:17.412Z"
   },
   {
    "duration": 4,
    "start_time": "2022-06-03T14:25:24.856Z"
   },
   {
    "duration": 25,
    "start_time": "2022-06-03T14:26:08.761Z"
   },
   {
    "duration": 4,
    "start_time": "2022-06-03T14:26:17.081Z"
   },
   {
    "duration": 7,
    "start_time": "2022-06-03T14:26:25.488Z"
   },
   {
    "duration": 4,
    "start_time": "2022-06-03T14:26:28.717Z"
   },
   {
    "duration": 13,
    "start_time": "2022-06-03T14:27:44.810Z"
   },
   {
    "duration": 733,
    "start_time": "2022-06-03T14:27:56.649Z"
   },
   {
    "duration": 613,
    "start_time": "2022-06-03T14:28:15.108Z"
   },
   {
    "duration": 4,
    "start_time": "2022-06-03T14:29:02.189Z"
   },
   {
    "duration": 4,
    "start_time": "2022-06-03T14:29:24.669Z"
   },
   {
    "duration": 5349,
    "start_time": "2022-06-03T14:30:04.094Z"
   },
   {
    "duration": 1125,
    "start_time": "2022-06-03T14:30:20.130Z"
   },
   {
    "duration": 229,
    "start_time": "2022-06-03T14:30:46.469Z"
   },
   {
    "duration": 14,
    "start_time": "2022-06-03T14:31:28.269Z"
   },
   {
    "duration": 5,
    "start_time": "2022-06-03T14:31:39.065Z"
   },
   {
    "duration": 15,
    "start_time": "2022-06-03T14:31:44.336Z"
   },
   {
    "duration": 5,
    "start_time": "2022-06-03T14:31:45.889Z"
   },
   {
    "duration": 4,
    "start_time": "2022-06-03T14:31:54.708Z"
   },
   {
    "duration": 445,
    "start_time": "2022-06-03T14:32:23.510Z"
   },
   {
    "duration": 508,
    "start_time": "2022-06-03T14:32:52.108Z"
   },
   {
    "duration": 32,
    "start_time": "2022-06-03T14:33:05.228Z"
   },
   {
    "duration": 9,
    "start_time": "2022-06-03T14:33:09.338Z"
   },
   {
    "duration": 8,
    "start_time": "2022-06-03T14:33:18.968Z"
   },
   {
    "duration": 14,
    "start_time": "2022-06-03T14:33:31.446Z"
   },
   {
    "duration": 5,
    "start_time": "2022-06-03T14:33:54.880Z"
   },
   {
    "duration": 4,
    "start_time": "2022-06-03T14:33:59.138Z"
   },
   {
    "duration": 4637,
    "start_time": "2022-06-03T14:34:05.109Z"
   },
   {
    "duration": 24,
    "start_time": "2022-06-03T14:34:17.790Z"
   },
   {
    "duration": 1275,
    "start_time": "2022-06-03T14:35:49.796Z"
   },
   {
    "duration": 14,
    "start_time": "2022-06-03T14:36:32.088Z"
   },
   {
    "duration": 951,
    "start_time": "2022-06-03T14:37:11.890Z"
   },
   {
    "duration": 227,
    "start_time": "2022-06-03T14:37:37.138Z"
   },
   {
    "duration": 12,
    "start_time": "2022-06-03T14:48:13.917Z"
   },
   {
    "duration": 17,
    "start_time": "2022-06-03T14:49:58.656Z"
   },
   {
    "duration": 17,
    "start_time": "2022-06-03T14:52:15.817Z"
   },
   {
    "duration": 18,
    "start_time": "2022-06-03T14:52:40.897Z"
   },
   {
    "duration": 51,
    "start_time": "2022-06-03T14:57:31.198Z"
   },
   {
    "duration": 8,
    "start_time": "2022-06-03T14:57:37.446Z"
   },
   {
    "duration": 20,
    "start_time": "2022-06-03T14:57:43.819Z"
   },
   {
    "duration": 21,
    "start_time": "2022-06-03T14:58:02.718Z"
   },
   {
    "duration": 9,
    "start_time": "2022-06-03T14:59:33.646Z"
   },
   {
    "duration": 5,
    "start_time": "2022-06-03T15:01:52.554Z"
   },
   {
    "duration": 525,
    "start_time": "2022-06-03T15:02:11.671Z"
   },
   {
    "duration": 15,
    "start_time": "2022-06-03T15:02:34.126Z"
   },
   {
    "duration": 14,
    "start_time": "2022-06-03T15:02:37.426Z"
   },
   {
    "duration": 53,
    "start_time": "2022-06-03T15:02:46.566Z"
   },
   {
    "duration": 30,
    "start_time": "2022-06-03T15:02:46.621Z"
   },
   {
    "duration": 28,
    "start_time": "2022-06-03T15:02:46.652Z"
   },
   {
    "duration": 27,
    "start_time": "2022-06-03T15:02:46.681Z"
   },
   {
    "duration": 35,
    "start_time": "2022-06-03T15:02:46.710Z"
   },
   {
    "duration": 3,
    "start_time": "2022-06-03T15:02:46.747Z"
   },
   {
    "duration": 22,
    "start_time": "2022-06-03T15:02:46.751Z"
   },
   {
    "duration": 12,
    "start_time": "2022-06-03T15:02:46.775Z"
   },
   {
    "duration": 8,
    "start_time": "2022-06-03T15:02:46.789Z"
   },
   {
    "duration": 15,
    "start_time": "2022-06-03T15:02:46.798Z"
   },
   {
    "duration": 18,
    "start_time": "2022-06-03T15:02:46.815Z"
   },
   {
    "duration": 7,
    "start_time": "2022-06-03T15:02:46.834Z"
   },
   {
    "duration": 11,
    "start_time": "2022-06-03T15:02:46.842Z"
   },
   {
    "duration": 15,
    "start_time": "2022-06-03T15:02:46.855Z"
   },
   {
    "duration": 8,
    "start_time": "2022-06-03T15:02:46.872Z"
   },
   {
    "duration": 10,
    "start_time": "2022-06-03T15:02:46.882Z"
   },
   {
    "duration": 15,
    "start_time": "2022-06-03T15:02:46.894Z"
   },
   {
    "duration": 35,
    "start_time": "2022-06-03T15:02:46.910Z"
   },
   {
    "duration": 24,
    "start_time": "2022-06-03T15:02:46.947Z"
   },
   {
    "duration": 66,
    "start_time": "2022-06-03T15:02:46.973Z"
   },
   {
    "duration": 18,
    "start_time": "2022-06-03T15:02:54.475Z"
   },
   {
    "duration": 7,
    "start_time": "2022-06-03T15:02:57.106Z"
   },
   {
    "duration": 6,
    "start_time": "2022-06-03T15:02:59.305Z"
   },
   {
    "duration": 14,
    "start_time": "2022-06-03T15:03:22.053Z"
   },
   {
    "duration": 14,
    "start_time": "2022-06-03T15:07:46.606Z"
   },
   {
    "duration": 14,
    "start_time": "2022-06-03T15:07:56.986Z"
   },
   {
    "duration": 7,
    "start_time": "2022-06-03T15:08:08.070Z"
   },
   {
    "duration": 84,
    "start_time": "2022-06-03T15:18:47.505Z"
   },
   {
    "duration": 30,
    "start_time": "2022-06-03T15:18:50.085Z"
   },
   {
    "duration": 6,
    "start_time": "2022-06-03T15:18:55.186Z"
   },
   {
    "duration": 10,
    "start_time": "2022-06-03T15:19:05.526Z"
   },
   {
    "duration": 6,
    "start_time": "2022-06-03T15:19:16.966Z"
   },
   {
    "duration": 459,
    "start_time": "2022-06-03T15:19:38.142Z"
   },
   {
    "duration": 24,
    "start_time": "2022-06-03T15:19:38.602Z"
   },
   {
    "duration": 38,
    "start_time": "2022-06-03T15:19:38.629Z"
   },
   {
    "duration": 32,
    "start_time": "2022-06-03T15:19:38.670Z"
   },
   {
    "duration": 34,
    "start_time": "2022-06-03T15:19:38.704Z"
   },
   {
    "duration": 6,
    "start_time": "2022-06-03T15:19:38.740Z"
   },
   {
    "duration": 30,
    "start_time": "2022-06-03T15:19:38.747Z"
   },
   {
    "duration": 28,
    "start_time": "2022-06-03T15:19:38.778Z"
   },
   {
    "duration": 36,
    "start_time": "2022-06-03T15:19:38.807Z"
   },
   {
    "duration": 36,
    "start_time": "2022-06-03T15:19:38.845Z"
   },
   {
    "duration": 14,
    "start_time": "2022-06-03T15:19:38.883Z"
   },
   {
    "duration": 31,
    "start_time": "2022-06-03T15:19:38.899Z"
   },
   {
    "duration": 21,
    "start_time": "2022-06-03T15:19:38.934Z"
   },
   {
    "duration": 23,
    "start_time": "2022-06-03T15:19:38.957Z"
   },
   {
    "duration": 26,
    "start_time": "2022-06-03T15:19:38.982Z"
   },
   {
    "duration": 13,
    "start_time": "2022-06-03T15:19:39.010Z"
   },
   {
    "duration": 35,
    "start_time": "2022-06-03T15:19:39.025Z"
   },
   {
    "duration": 21,
    "start_time": "2022-06-03T15:19:39.062Z"
   },
   {
    "duration": 50,
    "start_time": "2022-06-03T15:19:39.085Z"
   },
   {
    "duration": 32,
    "start_time": "2022-06-03T15:19:39.141Z"
   },
   {
    "duration": 10,
    "start_time": "2022-06-03T15:19:39.175Z"
   },
   {
    "duration": 45,
    "start_time": "2022-06-03T15:19:39.187Z"
   },
   {
    "duration": 20,
    "start_time": "2022-06-03T15:19:39.237Z"
   },
   {
    "duration": 21,
    "start_time": "2022-06-03T15:19:39.259Z"
   },
   {
    "duration": 24,
    "start_time": "2022-06-03T15:19:39.281Z"
   },
   {
    "duration": 36,
    "start_time": "2022-06-03T15:19:39.307Z"
   },
   {
    "duration": 19,
    "start_time": "2022-06-03T15:19:39.345Z"
   },
   {
    "duration": 28,
    "start_time": "2022-06-03T15:19:39.367Z"
   },
   {
    "duration": 25,
    "start_time": "2022-06-03T15:19:39.397Z"
   },
   {
    "duration": 19,
    "start_time": "2022-06-03T15:19:39.423Z"
   },
   {
    "duration": 27,
    "start_time": "2022-06-03T15:19:39.443Z"
   },
   {
    "duration": 40,
    "start_time": "2022-06-03T15:19:39.472Z"
   },
   {
    "duration": 47,
    "start_time": "2022-06-03T15:19:39.514Z"
   },
   {
    "duration": 10,
    "start_time": "2022-06-03T15:19:39.563Z"
   },
   {
    "duration": 1286,
    "start_time": "2022-06-03T15:19:39.574Z"
   },
   {
    "duration": 218,
    "start_time": "2022-06-03T15:19:40.861Z"
   },
   {
    "duration": 92,
    "start_time": "2022-06-03T15:21:06.374Z"
   },
   {
    "duration": 22,
    "start_time": "2022-06-03T15:21:16.970Z"
   },
   {
    "duration": 11,
    "start_time": "2022-06-03T15:21:36.169Z"
   },
   {
    "duration": 27,
    "start_time": "2022-06-03T15:21:50.644Z"
   },
   {
    "duration": 44,
    "start_time": "2022-06-03T15:21:56.191Z"
   },
   {
    "duration": 418,
    "start_time": "2022-06-03T15:22:13.991Z"
   },
   {
    "duration": 24,
    "start_time": "2022-06-03T15:22:42.883Z"
   },
   {
    "duration": 245,
    "start_time": "2022-06-03T15:25:11.958Z"
   },
   {
    "duration": 16,
    "start_time": "2022-06-03T15:25:27.823Z"
   },
   {
    "duration": 8,
    "start_time": "2022-06-03T15:26:08.770Z"
   },
   {
    "duration": 11,
    "start_time": "2022-06-03T15:26:14.290Z"
   },
   {
    "duration": 17,
    "start_time": "2022-06-03T15:30:02.171Z"
   },
   {
    "duration": 160,
    "start_time": "2022-06-03T15:30:18.051Z"
   },
   {
    "duration": 153,
    "start_time": "2022-06-03T15:31:04.310Z"
   },
   {
    "duration": 204,
    "start_time": "2022-06-03T15:31:32.862Z"
   },
   {
    "duration": 156,
    "start_time": "2022-06-03T15:31:59.712Z"
   },
   {
    "duration": 167,
    "start_time": "2022-06-03T15:32:58.618Z"
   },
   {
    "duration": 165,
    "start_time": "2022-06-03T15:33:53.991Z"
   },
   {
    "duration": 151,
    "start_time": "2022-06-03T15:34:08.338Z"
   },
   {
    "duration": 18,
    "start_time": "2022-06-03T15:36:27.771Z"
   },
   {
    "duration": 10,
    "start_time": "2022-06-03T15:36:50.632Z"
   },
   {
    "duration": 6,
    "start_time": "2022-06-03T15:37:14.351Z"
   },
   {
    "duration": 22,
    "start_time": "2022-06-03T15:37:31.831Z"
   },
   {
    "duration": 9,
    "start_time": "2022-06-03T15:37:54.838Z"
   },
   {
    "duration": 144,
    "start_time": "2022-06-03T15:38:07.173Z"
   },
   {
    "duration": 149,
    "start_time": "2022-06-03T15:38:36.827Z"
   },
   {
    "duration": 11,
    "start_time": "2022-06-03T15:39:16.333Z"
   },
   {
    "duration": 666,
    "start_time": "2022-06-03T15:39:21.469Z"
   },
   {
    "duration": 744,
    "start_time": "2022-06-03T15:39:32.508Z"
   },
   {
    "duration": 132,
    "start_time": "2022-06-03T15:40:36.176Z"
   },
   {
    "duration": 732,
    "start_time": "2022-06-03T15:40:52.729Z"
   },
   {
    "duration": 9,
    "start_time": "2022-06-03T15:41:47.167Z"
   },
   {
    "duration": 196,
    "start_time": "2022-06-03T15:41:54.948Z"
   },
   {
    "duration": 127,
    "start_time": "2022-06-03T15:42:38.268Z"
   },
   {
    "duration": 5,
    "start_time": "2022-06-03T15:43:40.507Z"
   },
   {
    "duration": 456,
    "start_time": "2022-06-03T15:43:48.984Z"
   },
   {
    "duration": 23,
    "start_time": "2022-06-03T15:43:49.442Z"
   },
   {
    "duration": 17,
    "start_time": "2022-06-03T15:43:49.467Z"
   },
   {
    "duration": 56,
    "start_time": "2022-06-03T15:43:49.486Z"
   },
   {
    "duration": 35,
    "start_time": "2022-06-03T15:43:49.545Z"
   },
   {
    "duration": 2,
    "start_time": "2022-06-03T15:43:49.582Z"
   },
   {
    "duration": 25,
    "start_time": "2022-06-03T15:43:49.585Z"
   },
   {
    "duration": 27,
    "start_time": "2022-06-03T15:43:49.612Z"
   },
   {
    "duration": 11,
    "start_time": "2022-06-03T15:43:49.640Z"
   },
   {
    "duration": 10,
    "start_time": "2022-06-03T15:43:49.653Z"
   },
   {
    "duration": 9,
    "start_time": "2022-06-03T15:43:49.665Z"
   },
   {
    "duration": 9,
    "start_time": "2022-06-03T15:43:49.676Z"
   },
   {
    "duration": 10,
    "start_time": "2022-06-03T15:43:49.687Z"
   },
   {
    "duration": 10,
    "start_time": "2022-06-03T15:43:49.700Z"
   },
   {
    "duration": 32,
    "start_time": "2022-06-03T15:43:49.711Z"
   },
   {
    "duration": 14,
    "start_time": "2022-06-03T15:43:49.746Z"
   },
   {
    "duration": 19,
    "start_time": "2022-06-03T15:43:49.761Z"
   },
   {
    "duration": 18,
    "start_time": "2022-06-03T15:43:49.781Z"
   },
   {
    "duration": 21,
    "start_time": "2022-06-03T15:43:49.800Z"
   },
   {
    "duration": 22,
    "start_time": "2022-06-03T15:43:49.822Z"
   },
   {
    "duration": 6,
    "start_time": "2022-06-03T15:43:49.846Z"
   },
   {
    "duration": 15,
    "start_time": "2022-06-03T15:43:49.854Z"
   },
   {
    "duration": 13,
    "start_time": "2022-06-03T15:43:49.871Z"
   },
   {
    "duration": 6,
    "start_time": "2022-06-03T15:43:49.885Z"
   },
   {
    "duration": 8,
    "start_time": "2022-06-03T15:43:49.893Z"
   },
   {
    "duration": 11,
    "start_time": "2022-06-03T15:43:49.927Z"
   },
   {
    "duration": 10,
    "start_time": "2022-06-03T15:43:49.939Z"
   },
   {
    "duration": 17,
    "start_time": "2022-06-03T15:43:49.951Z"
   },
   {
    "duration": 434,
    "start_time": "2022-06-03T15:43:49.970Z"
   },
   {
    "duration": 5,
    "start_time": "2022-06-03T15:43:50.405Z"
   },
   {
    "duration": 31,
    "start_time": "2022-06-03T15:43:50.412Z"
   },
   {
    "duration": 10,
    "start_time": "2022-06-03T15:43:50.444Z"
   },
   {
    "duration": 20,
    "start_time": "2022-06-03T15:43:50.456Z"
   },
   {
    "duration": 220,
    "start_time": "2022-06-03T15:43:50.477Z"
   },
   {
    "duration": 702,
    "start_time": "2022-06-03T15:43:50.699Z"
   },
   {
    "duration": 170,
    "start_time": "2022-06-03T15:43:51.403Z"
   },
   {
    "duration": 4,
    "start_time": "2022-06-03T15:44:07.945Z"
   },
   {
    "duration": 6,
    "start_time": "2022-06-03T15:44:15.218Z"
   },
   {
    "duration": 6,
    "start_time": "2022-06-03T15:44:30.722Z"
   },
   {
    "duration": 493,
    "start_time": "2022-06-03T15:44:39.015Z"
   },
   {
    "duration": 26,
    "start_time": "2022-06-03T15:44:39.510Z"
   },
   {
    "duration": 34,
    "start_time": "2022-06-03T15:44:39.537Z"
   },
   {
    "duration": 42,
    "start_time": "2022-06-03T15:44:39.573Z"
   },
   {
    "duration": 33,
    "start_time": "2022-06-03T15:44:39.617Z"
   },
   {
    "duration": 2,
    "start_time": "2022-06-03T15:44:39.652Z"
   },
   {
    "duration": 30,
    "start_time": "2022-06-03T15:44:39.656Z"
   },
   {
    "duration": 23,
    "start_time": "2022-06-03T15:44:39.687Z"
   },
   {
    "duration": 19,
    "start_time": "2022-06-03T15:44:39.712Z"
   },
   {
    "duration": 21,
    "start_time": "2022-06-03T15:44:39.733Z"
   },
   {
    "duration": 13,
    "start_time": "2022-06-03T15:44:39.755Z"
   },
   {
    "duration": 17,
    "start_time": "2022-06-03T15:44:39.769Z"
   },
   {
    "duration": 19,
    "start_time": "2022-06-03T15:44:39.787Z"
   },
   {
    "duration": 21,
    "start_time": "2022-06-03T15:44:39.810Z"
   },
   {
    "duration": 16,
    "start_time": "2022-06-03T15:44:39.839Z"
   },
   {
    "duration": 23,
    "start_time": "2022-06-03T15:44:39.856Z"
   },
   {
    "duration": 18,
    "start_time": "2022-06-03T15:44:39.881Z"
   },
   {
    "duration": 26,
    "start_time": "2022-06-03T15:44:39.900Z"
   },
   {
    "duration": 16,
    "start_time": "2022-06-03T15:44:39.939Z"
   },
   {
    "duration": 16,
    "start_time": "2022-06-03T15:44:39.957Z"
   },
   {
    "duration": 10,
    "start_time": "2022-06-03T15:44:39.975Z"
   },
   {
    "duration": 26,
    "start_time": "2022-06-03T15:44:39.986Z"
   },
   {
    "duration": 42,
    "start_time": "2022-06-03T15:44:40.013Z"
   },
   {
    "duration": 17,
    "start_time": "2022-06-03T15:44:40.057Z"
   },
   {
    "duration": 34,
    "start_time": "2022-06-03T15:44:40.075Z"
   },
   {
    "duration": 27,
    "start_time": "2022-06-03T15:44:40.111Z"
   },
   {
    "duration": 13,
    "start_time": "2022-06-03T15:44:40.140Z"
   },
   {
    "duration": 25,
    "start_time": "2022-06-03T15:44:40.154Z"
   },
   {
    "duration": 432,
    "start_time": "2022-06-03T15:44:40.181Z"
   },
   {
    "duration": 12,
    "start_time": "2022-06-03T15:44:40.615Z"
   },
   {
    "duration": 17,
    "start_time": "2022-06-03T15:44:40.637Z"
   },
   {
    "duration": 55,
    "start_time": "2022-06-03T15:44:40.656Z"
   },
   {
    "duration": 44,
    "start_time": "2022-06-03T15:44:40.712Z"
   },
   {
    "duration": 188,
    "start_time": "2022-06-03T15:44:40.758Z"
   },
   {
    "duration": 727,
    "start_time": "2022-06-03T15:44:40.947Z"
   },
   {
    "duration": 139,
    "start_time": "2022-06-03T15:44:41.676Z"
   },
   {
    "duration": 823,
    "start_time": "2022-06-03T15:46:39.972Z"
   },
   {
    "duration": 205,
    "start_time": "2022-06-03T15:47:13.172Z"
   },
   {
    "duration": 767,
    "start_time": "2022-06-03T15:47:46.235Z"
   },
   {
    "duration": 765,
    "start_time": "2022-06-03T15:47:51.693Z"
   },
   {
    "duration": 733,
    "start_time": "2022-06-03T15:48:26.152Z"
   },
   {
    "duration": 62,
    "start_time": "2022-06-03T15:50:20.904Z"
   },
   {
    "duration": 874,
    "start_time": "2022-06-03T15:50:34.825Z"
   },
   {
    "duration": 12,
    "start_time": "2022-06-03T15:50:59.650Z"
   },
   {
    "duration": 484,
    "start_time": "2022-06-03T15:51:20.615Z"
   },
   {
    "duration": 23,
    "start_time": "2022-06-03T15:51:21.101Z"
   },
   {
    "duration": 28,
    "start_time": "2022-06-03T15:51:21.125Z"
   },
   {
    "duration": 30,
    "start_time": "2022-06-03T15:51:21.154Z"
   },
   {
    "duration": 28,
    "start_time": "2022-06-03T15:51:21.186Z"
   },
   {
    "duration": 24,
    "start_time": "2022-06-03T15:51:21.216Z"
   },
   {
    "duration": 22,
    "start_time": "2022-06-03T15:51:21.243Z"
   },
   {
    "duration": 14,
    "start_time": "2022-06-03T15:51:21.267Z"
   },
   {
    "duration": 8,
    "start_time": "2022-06-03T15:51:21.283Z"
   },
   {
    "duration": 11,
    "start_time": "2022-06-03T15:51:21.293Z"
   },
   {
    "duration": 34,
    "start_time": "2022-06-03T15:51:21.305Z"
   },
   {
    "duration": 7,
    "start_time": "2022-06-03T15:51:21.340Z"
   },
   {
    "duration": 8,
    "start_time": "2022-06-03T15:51:21.348Z"
   },
   {
    "duration": 9,
    "start_time": "2022-06-03T15:51:21.359Z"
   },
   {
    "duration": 9,
    "start_time": "2022-06-03T15:51:21.369Z"
   },
   {
    "duration": 7,
    "start_time": "2022-06-03T15:51:21.379Z"
   },
   {
    "duration": 15,
    "start_time": "2022-06-03T15:51:21.388Z"
   },
   {
    "duration": 38,
    "start_time": "2022-06-03T15:51:21.405Z"
   },
   {
    "duration": 38,
    "start_time": "2022-06-03T15:51:21.445Z"
   },
   {
    "duration": 22,
    "start_time": "2022-06-03T15:51:21.485Z"
   },
   {
    "duration": 7,
    "start_time": "2022-06-03T15:51:21.509Z"
   },
   {
    "duration": 28,
    "start_time": "2022-06-03T15:51:21.518Z"
   },
   {
    "duration": 28,
    "start_time": "2022-06-03T15:51:21.549Z"
   },
   {
    "duration": 9,
    "start_time": "2022-06-03T15:51:21.579Z"
   },
   {
    "duration": 15,
    "start_time": "2022-06-03T15:51:21.590Z"
   },
   {
    "duration": 11,
    "start_time": "2022-06-03T15:51:21.607Z"
   },
   {
    "duration": 24,
    "start_time": "2022-06-03T15:51:21.619Z"
   },
   {
    "duration": 18,
    "start_time": "2022-06-03T15:51:21.644Z"
   },
   {
    "duration": 477,
    "start_time": "2022-06-03T15:51:21.663Z"
   },
   {
    "duration": 5,
    "start_time": "2022-06-03T15:51:22.142Z"
   },
   {
    "duration": 17,
    "start_time": "2022-06-03T15:51:22.149Z"
   },
   {
    "duration": 19,
    "start_time": "2022-06-03T15:51:22.167Z"
   },
   {
    "duration": 861,
    "start_time": "2022-06-03T15:51:22.188Z"
   },
   {
    "duration": 145,
    "start_time": "2022-06-03T15:51:23.051Z"
   },
   {
    "duration": 18,
    "start_time": "2022-06-03T15:53:40.962Z"
   },
   {
    "duration": 43,
    "start_time": "2022-06-03T15:58:11.794Z"
   },
   {
    "duration": 4,
    "start_time": "2022-06-03T16:00:56.542Z"
   },
   {
    "duration": 6,
    "start_time": "2022-06-03T16:02:11.314Z"
   },
   {
    "duration": 84,
    "start_time": "2022-06-03T16:40:53.089Z"
   },
   {
    "duration": 767,
    "start_time": "2022-06-03T16:41:02.726Z"
   },
   {
    "duration": 22,
    "start_time": "2022-06-03T16:41:03.496Z"
   },
   {
    "duration": 22,
    "start_time": "2022-06-03T16:41:03.520Z"
   },
   {
    "duration": 32,
    "start_time": "2022-06-03T16:41:03.544Z"
   },
   {
    "duration": 28,
    "start_time": "2022-06-03T16:41:03.578Z"
   },
   {
    "duration": 3,
    "start_time": "2022-06-03T16:41:03.608Z"
   },
   {
    "duration": 18,
    "start_time": "2022-06-03T16:41:03.632Z"
   },
   {
    "duration": 9,
    "start_time": "2022-06-03T16:41:03.652Z"
   },
   {
    "duration": 11,
    "start_time": "2022-06-03T16:41:03.662Z"
   },
   {
    "duration": 11,
    "start_time": "2022-06-03T16:41:03.675Z"
   },
   {
    "duration": 9,
    "start_time": "2022-06-03T16:41:03.687Z"
   },
   {
    "duration": 5,
    "start_time": "2022-06-03T16:41:03.698Z"
   },
   {
    "duration": 37,
    "start_time": "2022-06-03T16:41:03.704Z"
   },
   {
    "duration": 7,
    "start_time": "2022-06-03T16:41:03.744Z"
   },
   {
    "duration": 5,
    "start_time": "2022-06-03T16:41:03.752Z"
   },
   {
    "duration": 5,
    "start_time": "2022-06-03T16:41:03.759Z"
   },
   {
    "duration": 16,
    "start_time": "2022-06-03T16:41:03.766Z"
   },
   {
    "duration": 17,
    "start_time": "2022-06-03T16:41:03.783Z"
   },
   {
    "duration": 40,
    "start_time": "2022-06-03T16:41:03.802Z"
   },
   {
    "duration": 24,
    "start_time": "2022-06-03T16:41:03.843Z"
   },
   {
    "duration": 6,
    "start_time": "2022-06-03T16:41:03.869Z"
   },
   {
    "duration": 16,
    "start_time": "2022-06-03T16:41:03.876Z"
   },
   {
    "duration": 12,
    "start_time": "2022-06-03T16:41:03.894Z"
   },
   {
    "duration": 31,
    "start_time": "2022-06-03T16:41:03.908Z"
   },
   {
    "duration": 8,
    "start_time": "2022-06-03T16:41:03.940Z"
   },
   {
    "duration": 7,
    "start_time": "2022-06-03T16:41:03.949Z"
   },
   {
    "duration": 15,
    "start_time": "2022-06-03T16:41:03.958Z"
   },
   {
    "duration": 16,
    "start_time": "2022-06-03T16:41:03.974Z"
   },
   {
    "duration": 181,
    "start_time": "2022-06-03T16:41:03.991Z"
   },
   {
    "duration": 5,
    "start_time": "2022-06-03T16:41:04.173Z"
   },
   {
    "duration": 18,
    "start_time": "2022-06-03T16:41:04.180Z"
   },
   {
    "duration": 45,
    "start_time": "2022-06-03T16:41:04.200Z"
   },
   {
    "duration": 755,
    "start_time": "2022-06-03T16:41:04.248Z"
   },
   {
    "duration": 5,
    "start_time": "2022-06-03T16:41:05.005Z"
   },
   {
    "duration": 27,
    "start_time": "2022-06-03T16:41:05.011Z"
   },
   {
    "duration": 185,
    "start_time": "2022-06-03T16:41:05.040Z"
   },
   {
    "duration": 125,
    "start_time": "2022-06-03T16:41:17.746Z"
   },
   {
    "duration": 112,
    "start_time": "2022-06-03T16:41:26.139Z"
   },
   {
    "duration": 104,
    "start_time": "2022-06-03T16:41:37.205Z"
   },
   {
    "duration": 190,
    "start_time": "2022-06-03T16:41:58.345Z"
   },
   {
    "duration": 100,
    "start_time": "2022-06-03T16:42:10.638Z"
   },
   {
    "duration": 15,
    "start_time": "2022-06-03T16:43:00.206Z"
   },
   {
    "duration": 15,
    "start_time": "2022-06-03T16:43:06.986Z"
   },
   {
    "duration": 31,
    "start_time": "2022-06-03T16:45:30.958Z"
   },
   {
    "duration": 115,
    "start_time": "2022-06-03T16:45:35.526Z"
   },
   {
    "duration": 128,
    "start_time": "2022-06-03T16:45:41.318Z"
   },
   {
    "duration": 129,
    "start_time": "2022-06-03T16:45:46.026Z"
   },
   {
    "duration": 138,
    "start_time": "2022-06-03T16:47:22.406Z"
   },
   {
    "duration": 127,
    "start_time": "2022-06-03T16:47:27.188Z"
   },
   {
    "duration": 142,
    "start_time": "2022-06-03T16:48:00.553Z"
   },
   {
    "duration": 264,
    "start_time": "2022-06-03T16:48:28.605Z"
   },
   {
    "duration": 242,
    "start_time": "2022-06-03T16:48:37.224Z"
   },
   {
    "duration": 222,
    "start_time": "2022-06-03T16:52:59.106Z"
   },
   {
    "duration": 280,
    "start_time": "2022-06-03T16:53:07.885Z"
   },
   {
    "duration": 391,
    "start_time": "2022-06-03T16:53:43.875Z"
   },
   {
    "duration": 353,
    "start_time": "2022-06-03T16:53:59.947Z"
   },
   {
    "duration": 249,
    "start_time": "2022-06-03T16:54:17.183Z"
   },
   {
    "duration": 441,
    "start_time": "2022-06-03T16:54:28.305Z"
   },
   {
    "duration": 363,
    "start_time": "2022-06-03T16:55:13.424Z"
   },
   {
    "duration": 274,
    "start_time": "2022-06-03T16:55:21.205Z"
   },
   {
    "duration": 257,
    "start_time": "2022-06-03T16:55:38.154Z"
   },
   {
    "duration": 262,
    "start_time": "2022-06-03T16:57:00.924Z"
   },
   {
    "duration": 256,
    "start_time": "2022-06-03T16:57:24.557Z"
   },
   {
    "duration": 6,
    "start_time": "2022-06-03T17:02:53.324Z"
   },
   {
    "duration": 6,
    "start_time": "2022-06-03T17:06:50.004Z"
   },
   {
    "duration": 6,
    "start_time": "2022-06-03T17:15:10.944Z"
   },
   {
    "duration": 5,
    "start_time": "2022-06-03T17:15:51.624Z"
   },
   {
    "duration": 5,
    "start_time": "2022-06-03T17:15:53.784Z"
   },
   {
    "duration": 6,
    "start_time": "2022-06-03T17:16:12.005Z"
   },
   {
    "duration": 4,
    "start_time": "2022-06-03T17:19:42.463Z"
   },
   {
    "duration": 5,
    "start_time": "2022-06-03T17:20:31.045Z"
   },
   {
    "duration": 5,
    "start_time": "2022-06-03T17:21:02.064Z"
   },
   {
    "duration": 146,
    "start_time": "2022-06-03T17:31:08.664Z"
   },
   {
    "duration": 156,
    "start_time": "2022-06-03T17:32:15.084Z"
   },
   {
    "duration": 31,
    "start_time": "2022-06-03T17:32:52.264Z"
   },
   {
    "duration": 31,
    "start_time": "2022-06-03T17:32:56.424Z"
   },
   {
    "duration": 150,
    "start_time": "2022-06-03T17:33:02.743Z"
   },
   {
    "duration": 144,
    "start_time": "2022-06-03T17:33:24.443Z"
   },
   {
    "duration": 168,
    "start_time": "2022-06-03T17:33:50.424Z"
   },
   {
    "duration": 415,
    "start_time": "2022-06-03T17:34:12.091Z"
   },
   {
    "duration": 299,
    "start_time": "2022-06-03T17:34:27.264Z"
   },
   {
    "duration": 15,
    "start_time": "2022-06-03T17:43:23.148Z"
   },
   {
    "duration": 19,
    "start_time": "2022-06-03T17:43:39.327Z"
   },
   {
    "duration": 14,
    "start_time": "2022-06-03T17:43:55.907Z"
   },
   {
    "duration": 16,
    "start_time": "2022-06-03T17:45:49.788Z"
   },
   {
    "duration": 16,
    "start_time": "2022-06-03T17:46:22.368Z"
   },
   {
    "duration": 16,
    "start_time": "2022-06-03T17:46:36.089Z"
   },
   {
    "duration": 16,
    "start_time": "2022-06-03T17:53:23.671Z"
   },
   {
    "duration": 17,
    "start_time": "2022-06-03T17:53:28.832Z"
   },
   {
    "duration": 130,
    "start_time": "2022-06-03T17:59:06.151Z"
   },
   {
    "duration": 124,
    "start_time": "2022-06-03T17:59:27.038Z"
   },
   {
    "duration": 166,
    "start_time": "2022-06-03T17:59:51.292Z"
   },
   {
    "duration": 197,
    "start_time": "2022-06-03T18:00:03.111Z"
   },
   {
    "duration": 36,
    "start_time": "2022-06-03T18:00:31.139Z"
   },
   {
    "duration": 186,
    "start_time": "2022-06-03T18:00:38.691Z"
   },
   {
    "duration": 173,
    "start_time": "2022-06-03T18:01:38.111Z"
   },
   {
    "duration": 168,
    "start_time": "2022-06-03T18:05:33.892Z"
   },
   {
    "duration": 21,
    "start_time": "2022-06-03T18:16:29.392Z"
   },
   {
    "duration": 18,
    "start_time": "2022-06-03T18:16:35.791Z"
   },
   {
    "duration": 19,
    "start_time": "2022-06-03T18:16:45.072Z"
   },
   {
    "duration": 14,
    "start_time": "2022-06-03T18:17:37.752Z"
   },
   {
    "duration": 10,
    "start_time": "2022-06-03T18:18:09.652Z"
   },
   {
    "duration": 13,
    "start_time": "2022-06-03T18:18:14.880Z"
   },
   {
    "duration": 90,
    "start_time": "2022-06-06T22:06:22.943Z"
   },
   {
    "duration": 1030,
    "start_time": "2022-06-06T22:06:29.400Z"
   },
   {
    "duration": 21,
    "start_time": "2022-06-06T22:06:30.433Z"
   },
   {
    "duration": 27,
    "start_time": "2022-06-06T22:06:30.456Z"
   },
   {
    "duration": 40,
    "start_time": "2022-06-06T22:06:30.484Z"
   },
   {
    "duration": 48,
    "start_time": "2022-06-06T22:06:30.526Z"
   },
   {
    "duration": 4,
    "start_time": "2022-06-06T22:06:30.575Z"
   },
   {
    "duration": 45,
    "start_time": "2022-06-06T22:06:30.580Z"
   },
   {
    "duration": 28,
    "start_time": "2022-06-06T22:06:30.627Z"
   },
   {
    "duration": 32,
    "start_time": "2022-06-06T22:06:30.657Z"
   },
   {
    "duration": 13,
    "start_time": "2022-06-06T22:06:30.691Z"
   },
   {
    "duration": 27,
    "start_time": "2022-06-06T22:06:30.706Z"
   },
   {
    "duration": 13,
    "start_time": "2022-06-06T22:06:30.736Z"
   },
   {
    "duration": 38,
    "start_time": "2022-06-06T22:06:30.751Z"
   },
   {
    "duration": 24,
    "start_time": "2022-06-06T22:06:30.793Z"
   },
   {
    "duration": 8,
    "start_time": "2022-06-06T22:06:30.819Z"
   },
   {
    "duration": 14,
    "start_time": "2022-06-06T22:06:30.830Z"
   },
   {
    "duration": 50,
    "start_time": "2022-06-06T22:06:30.846Z"
   },
   {
    "duration": 34,
    "start_time": "2022-06-06T22:06:30.897Z"
   },
   {
    "duration": 23,
    "start_time": "2022-06-06T22:06:30.933Z"
   },
   {
    "duration": 27,
    "start_time": "2022-06-06T22:06:30.958Z"
   },
   {
    "duration": 24,
    "start_time": "2022-06-06T22:06:30.986Z"
   },
   {
    "duration": 31,
    "start_time": "2022-06-06T22:06:31.012Z"
   },
   {
    "duration": 15,
    "start_time": "2022-06-06T22:06:31.045Z"
   },
   {
    "duration": 27,
    "start_time": "2022-06-06T22:06:31.062Z"
   },
   {
    "duration": 35,
    "start_time": "2022-06-06T22:06:31.091Z"
   },
   {
    "duration": 42,
    "start_time": "2022-06-06T22:06:31.129Z"
   },
   {
    "duration": 25,
    "start_time": "2022-06-06T22:06:31.173Z"
   },
   {
    "duration": 20,
    "start_time": "2022-06-06T22:06:31.199Z"
   },
   {
    "duration": 186,
    "start_time": "2022-06-06T22:06:31.220Z"
   },
   {
    "duration": 5,
    "start_time": "2022-06-06T22:06:31.407Z"
   },
   {
    "duration": 33,
    "start_time": "2022-06-06T22:06:31.413Z"
   },
   {
    "duration": 45,
    "start_time": "2022-06-06T22:06:31.448Z"
   },
   {
    "duration": 834,
    "start_time": "2022-06-06T22:06:31.495Z"
   },
   {
    "duration": 5,
    "start_time": "2022-06-06T22:06:32.331Z"
   },
   {
    "duration": 12,
    "start_time": "2022-06-06T22:06:32.338Z"
   },
   {
    "duration": 19,
    "start_time": "2022-06-06T22:06:32.364Z"
   },
   {
    "duration": 258,
    "start_time": "2022-06-06T22:06:32.385Z"
   },
   {
    "duration": 346,
    "start_time": "2022-06-06T22:06:32.645Z"
   },
   {
    "duration": 251,
    "start_time": "2022-06-06T22:06:32.993Z"
   },
   {
    "duration": 25,
    "start_time": "2022-06-06T22:06:33.246Z"
   },
   {
    "duration": 15,
    "start_time": "2022-06-06T22:06:33.275Z"
   },
   {
    "duration": 16,
    "start_time": "2022-06-06T22:06:33.291Z"
   },
   {
    "duration": 14,
    "start_time": "2022-06-06T22:07:30.608Z"
   },
   {
    "duration": 17,
    "start_time": "2022-06-06T22:07:40.451Z"
   },
   {
    "duration": 17,
    "start_time": "2022-06-06T22:07:50.859Z"
   },
   {
    "duration": 13,
    "start_time": "2022-06-06T22:10:36.819Z"
   },
   {
    "duration": 17,
    "start_time": "2022-06-06T22:13:21.490Z"
   },
   {
    "duration": 22,
    "start_time": "2022-06-06T22:13:42.451Z"
   },
   {
    "duration": 18,
    "start_time": "2022-06-06T22:13:52.258Z"
   },
   {
    "duration": 138,
    "start_time": "2022-06-06T22:16:52.430Z"
   },
   {
    "duration": 199,
    "start_time": "2022-06-06T22:17:10.649Z"
   },
   {
    "duration": 143,
    "start_time": "2022-06-06T22:17:15.746Z"
   },
   {
    "duration": 121,
    "start_time": "2022-06-06T22:17:27.629Z"
   },
   {
    "duration": 124,
    "start_time": "2022-06-06T22:17:46.305Z"
   },
   {
    "duration": 138,
    "start_time": "2022-06-06T22:17:51.181Z"
   },
   {
    "duration": 157,
    "start_time": "2022-06-06T22:18:02.049Z"
   },
   {
    "duration": 45,
    "start_time": "2022-06-06T22:18:43.741Z"
   },
   {
    "duration": 213,
    "start_time": "2022-06-06T22:18:51.160Z"
   },
   {
    "duration": 131,
    "start_time": "2022-06-06T22:19:23.395Z"
   },
   {
    "duration": 115,
    "start_time": "2022-06-06T22:19:39.328Z"
   },
   {
    "duration": 121,
    "start_time": "2022-06-06T22:20:27.688Z"
   },
   {
    "duration": 144,
    "start_time": "2022-06-06T22:20:37.248Z"
   },
   {
    "duration": 213,
    "start_time": "2022-06-06T22:20:44.496Z"
   },
   {
    "duration": 15,
    "start_time": "2022-06-06T22:39:17.333Z"
   },
   {
    "duration": 29,
    "start_time": "2022-06-06T22:40:02.852Z"
   },
   {
    "duration": 18,
    "start_time": "2022-06-06T22:40:22.591Z"
   },
   {
    "duration": 121,
    "start_time": "2022-06-06T22:42:23.412Z"
   },
   {
    "duration": 140,
    "start_time": "2022-06-06T22:43:26.164Z"
   },
   {
    "duration": 154,
    "start_time": "2022-06-06T22:43:34.353Z"
   },
   {
    "duration": 171,
    "start_time": "2022-06-06T22:44:11.854Z"
   },
   {
    "duration": 148,
    "start_time": "2022-06-06T22:44:42.974Z"
   },
   {
    "duration": 421,
    "start_time": "2022-06-06T22:48:30.352Z"
   },
   {
    "duration": 16,
    "start_time": "2022-06-06T22:49:42.244Z"
   },
   {
    "duration": 5,
    "start_time": "2022-06-06T23:02:57.933Z"
   },
   {
    "duration": 5,
    "start_time": "2022-06-06T23:03:31.595Z"
   },
   {
    "duration": 8,
    "start_time": "2022-06-06T23:07:56.227Z"
   },
   {
    "duration": 8,
    "start_time": "2022-06-06T23:08:11.827Z"
   },
   {
    "duration": 9,
    "start_time": "2022-06-06T23:08:21.087Z"
   },
   {
    "duration": 8,
    "start_time": "2022-06-06T23:09:23.487Z"
   },
   {
    "duration": 9,
    "start_time": "2022-06-06T23:09:46.707Z"
   },
   {
    "duration": 10,
    "start_time": "2022-06-06T23:09:56.880Z"
   },
   {
    "duration": 15,
    "start_time": "2022-06-06T23:16:42.472Z"
   },
   {
    "duration": 1198,
    "start_time": "2022-06-06T23:16:49.126Z"
   },
   {
    "duration": 21,
    "start_time": "2022-06-06T23:16:50.326Z"
   },
   {
    "duration": 13,
    "start_time": "2022-06-06T23:16:50.349Z"
   },
   {
    "duration": 34,
    "start_time": "2022-06-06T23:16:50.364Z"
   },
   {
    "duration": 28,
    "start_time": "2022-06-06T23:16:50.400Z"
   },
   {
    "duration": 3,
    "start_time": "2022-06-06T23:16:50.429Z"
   },
   {
    "duration": 50,
    "start_time": "2022-06-06T23:16:50.434Z"
   },
   {
    "duration": 12,
    "start_time": "2022-06-06T23:16:50.485Z"
   },
   {
    "duration": 9,
    "start_time": "2022-06-06T23:16:50.498Z"
   },
   {
    "duration": 11,
    "start_time": "2022-06-06T23:16:50.508Z"
   },
   {
    "duration": 12,
    "start_time": "2022-06-06T23:16:50.521Z"
   },
   {
    "duration": 15,
    "start_time": "2022-06-06T23:16:50.573Z"
   },
   {
    "duration": 12,
    "start_time": "2022-06-06T23:16:50.589Z"
   },
   {
    "duration": 11,
    "start_time": "2022-06-06T23:16:50.605Z"
   },
   {
    "duration": 11,
    "start_time": "2022-06-06T23:16:50.618Z"
   },
   {
    "duration": 11,
    "start_time": "2022-06-06T23:16:50.631Z"
   },
   {
    "duration": 32,
    "start_time": "2022-06-06T23:16:50.644Z"
   },
   {
    "duration": 22,
    "start_time": "2022-06-06T23:16:50.678Z"
   },
   {
    "duration": 19,
    "start_time": "2022-06-06T23:16:50.701Z"
   },
   {
    "duration": 47,
    "start_time": "2022-06-06T23:16:50.722Z"
   },
   {
    "duration": 15,
    "start_time": "2022-06-06T23:16:50.770Z"
   },
   {
    "duration": 18,
    "start_time": "2022-06-06T23:16:50.787Z"
   },
   {
    "duration": 19,
    "start_time": "2022-06-06T23:16:50.806Z"
   },
   {
    "duration": 8,
    "start_time": "2022-06-06T23:16:50.827Z"
   },
   {
    "duration": 9,
    "start_time": "2022-06-06T23:16:50.864Z"
   },
   {
    "duration": 20,
    "start_time": "2022-06-06T23:16:50.879Z"
   },
   {
    "duration": 7,
    "start_time": "2022-06-06T23:16:50.901Z"
   },
   {
    "duration": 17,
    "start_time": "2022-06-06T23:16:50.910Z"
   },
   {
    "duration": 219,
    "start_time": "2022-06-06T23:16:50.929Z"
   },
   {
    "duration": 26,
    "start_time": "2022-06-06T23:16:51.149Z"
   },
   {
    "duration": 24,
    "start_time": "2022-06-06T23:16:51.177Z"
   },
   {
    "duration": 40,
    "start_time": "2022-06-06T23:16:51.202Z"
   },
   {
    "duration": 871,
    "start_time": "2022-06-06T23:16:51.245Z"
   },
   {
    "duration": 5,
    "start_time": "2022-06-06T23:16:52.118Z"
   },
   {
    "duration": 8,
    "start_time": "2022-06-06T23:16:52.124Z"
   },
   {
    "duration": 43,
    "start_time": "2022-06-06T23:16:52.134Z"
   },
   {
    "duration": 285,
    "start_time": "2022-06-06T23:16:52.180Z"
   },
   {
    "duration": 344,
    "start_time": "2022-06-06T23:16:52.472Z"
   },
   {
    "duration": 194,
    "start_time": "2022-06-06T23:16:52.818Z"
   },
   {
    "duration": 15,
    "start_time": "2022-06-06T23:16:53.014Z"
   },
   {
    "duration": 33,
    "start_time": "2022-06-06T23:16:53.032Z"
   },
   {
    "duration": 21,
    "start_time": "2022-06-06T23:16:53.067Z"
   },
   {
    "duration": 16,
    "start_time": "2022-06-06T23:16:53.090Z"
   },
   {
    "duration": 13,
    "start_time": "2022-06-06T23:16:53.108Z"
   },
   {
    "duration": 15,
    "start_time": "2022-06-06T23:16:53.123Z"
   },
   {
    "duration": 374,
    "start_time": "2022-06-06T23:16:53.170Z"
   },
   {
    "duration": 30,
    "start_time": "2022-06-06T23:16:53.546Z"
   },
   {
    "duration": 170,
    "start_time": "2022-06-06T23:16:53.580Z"
   },
   {
    "duration": 11,
    "start_time": "2022-06-06T23:17:22.356Z"
   },
   {
    "duration": 10,
    "start_time": "2022-06-06T23:17:47.428Z"
   },
   {
    "duration": 9,
    "start_time": "2022-06-06T23:19:23.054Z"
   },
   {
    "duration": 18,
    "start_time": "2022-06-06T23:19:56.366Z"
   },
   {
    "duration": 15,
    "start_time": "2022-06-06T23:20:10.865Z"
   },
   {
    "duration": 18,
    "start_time": "2022-06-06T23:39:14.679Z"
   },
   {
    "duration": 6,
    "start_time": "2022-06-06T23:40:11.435Z"
   },
   {
    "duration": 31,
    "start_time": "2022-06-06T23:41:46.014Z"
   },
   {
    "duration": 37,
    "start_time": "2022-06-07T00:57:30.327Z"
   },
   {
    "duration": 35,
    "start_time": "2022-06-07T00:58:58.693Z"
   },
   {
    "duration": 26,
    "start_time": "2022-06-07T00:59:02.227Z"
   },
   {
    "duration": 63,
    "start_time": "2022-06-07T01:04:21.286Z"
   },
   {
    "duration": 27,
    "start_time": "2022-06-07T01:15:51.530Z"
   },
   {
    "duration": 1556,
    "start_time": "2022-06-07T01:19:10.833Z"
   },
   {
    "duration": 23,
    "start_time": "2022-06-07T01:19:12.391Z"
   },
   {
    "duration": 14,
    "start_time": "2022-06-07T01:19:12.415Z"
   },
   {
    "duration": 29,
    "start_time": "2022-06-07T01:19:12.431Z"
   },
   {
    "duration": 42,
    "start_time": "2022-06-07T01:19:12.462Z"
   },
   {
    "duration": 3,
    "start_time": "2022-06-07T01:19:12.506Z"
   },
   {
    "duration": 16,
    "start_time": "2022-06-07T01:19:12.510Z"
   },
   {
    "duration": 15,
    "start_time": "2022-06-07T01:19:12.528Z"
   },
   {
    "duration": 33,
    "start_time": "2022-06-07T01:19:12.545Z"
   },
   {
    "duration": 34,
    "start_time": "2022-06-07T01:19:12.581Z"
   },
   {
    "duration": 18,
    "start_time": "2022-06-07T01:19:12.616Z"
   },
   {
    "duration": 5,
    "start_time": "2022-06-07T01:19:12.635Z"
   },
   {
    "duration": 8,
    "start_time": "2022-06-07T01:19:12.642Z"
   },
   {
    "duration": 8,
    "start_time": "2022-06-07T01:19:12.651Z"
   },
   {
    "duration": 16,
    "start_time": "2022-06-07T01:19:12.660Z"
   },
   {
    "duration": 26,
    "start_time": "2022-06-07T01:19:12.677Z"
   },
   {
    "duration": 18,
    "start_time": "2022-06-07T01:19:12.704Z"
   },
   {
    "duration": 20,
    "start_time": "2022-06-07T01:19:12.724Z"
   },
   {
    "duration": 30,
    "start_time": "2022-06-07T01:19:12.746Z"
   },
   {
    "duration": 21,
    "start_time": "2022-06-07T01:19:12.779Z"
   },
   {
    "duration": 6,
    "start_time": "2022-06-07T01:19:12.802Z"
   },
   {
    "duration": 13,
    "start_time": "2022-06-07T01:19:12.810Z"
   },
   {
    "duration": 18,
    "start_time": "2022-06-07T01:19:12.825Z"
   },
   {
    "duration": 26,
    "start_time": "2022-06-07T01:19:12.845Z"
   },
   {
    "duration": 23,
    "start_time": "2022-06-07T01:19:12.879Z"
   },
   {
    "duration": 7,
    "start_time": "2022-06-07T01:19:12.904Z"
   },
   {
    "duration": 6,
    "start_time": "2022-06-07T01:19:12.912Z"
   },
   {
    "duration": 19,
    "start_time": "2022-06-07T01:19:12.922Z"
   },
   {
    "duration": 207,
    "start_time": "2022-06-07T01:19:12.942Z"
   },
   {
    "duration": 16,
    "start_time": "2022-06-07T01:19:13.150Z"
   },
   {
    "duration": 44,
    "start_time": "2022-06-07T01:19:13.168Z"
   },
   {
    "duration": 30,
    "start_time": "2022-06-07T01:19:13.214Z"
   },
   {
    "duration": 906,
    "start_time": "2022-06-07T01:19:13.247Z"
   },
   {
    "duration": 20,
    "start_time": "2022-06-07T01:19:14.155Z"
   },
   {
    "duration": 23,
    "start_time": "2022-06-07T01:19:14.178Z"
   },
   {
    "duration": 17,
    "start_time": "2022-06-07T01:19:14.203Z"
   },
   {
    "duration": 253,
    "start_time": "2022-06-07T01:19:14.222Z"
   },
   {
    "duration": 359,
    "start_time": "2022-06-07T01:19:14.476Z"
   },
   {
    "duration": 210,
    "start_time": "2022-06-07T01:19:14.837Z"
   },
   {
    "duration": 29,
    "start_time": "2022-06-07T01:19:15.049Z"
   },
   {
    "duration": 36,
    "start_time": "2022-06-07T01:19:15.081Z"
   },
   {
    "duration": 17,
    "start_time": "2022-06-07T01:19:15.119Z"
   },
   {
    "duration": 15,
    "start_time": "2022-06-07T01:19:15.137Z"
   },
   {
    "duration": 15,
    "start_time": "2022-06-07T01:19:15.154Z"
   },
   {
    "duration": 39,
    "start_time": "2022-06-07T01:19:15.171Z"
   },
   {
    "duration": 390,
    "start_time": "2022-06-07T01:19:15.212Z"
   },
   {
    "duration": 15,
    "start_time": "2022-06-07T01:19:15.604Z"
   },
   {
    "duration": 8,
    "start_time": "2022-06-07T01:19:15.621Z"
   },
   {
    "duration": 9,
    "start_time": "2022-06-07T01:19:15.631Z"
   },
   {
    "duration": 51,
    "start_time": "2022-06-07T01:19:15.641Z"
   },
   {
    "duration": 9,
    "start_time": "2022-06-07T01:19:15.695Z"
   },
   {
    "duration": 145,
    "start_time": "2022-06-07T01:24:33.744Z"
   },
   {
    "duration": 56,
    "start_time": "2022-06-07T22:04:40.843Z"
   },
   {
    "duration": 1417,
    "start_time": "2022-06-07T22:04:46.247Z"
   },
   {
    "duration": 22,
    "start_time": "2022-06-07T22:04:47.666Z"
   },
   {
    "duration": 21,
    "start_time": "2022-06-07T22:04:47.689Z"
   },
   {
    "duration": 33,
    "start_time": "2022-06-07T22:04:47.712Z"
   },
   {
    "duration": 28,
    "start_time": "2022-06-07T22:04:47.758Z"
   },
   {
    "duration": 4,
    "start_time": "2022-06-07T22:04:47.788Z"
   },
   {
    "duration": 17,
    "start_time": "2022-06-07T22:04:47.793Z"
   },
   {
    "duration": 12,
    "start_time": "2022-06-07T22:04:47.812Z"
   },
   {
    "duration": 39,
    "start_time": "2022-06-07T22:04:47.825Z"
   },
   {
    "duration": 11,
    "start_time": "2022-06-07T22:04:47.866Z"
   },
   {
    "duration": 7,
    "start_time": "2022-06-07T22:05:27.743Z"
   },
   {
    "duration": 50,
    "start_time": "2022-06-07T22:05:41.844Z"
   },
   {
    "duration": 17,
    "start_time": "2022-06-07T22:05:41.895Z"
   },
   {
    "duration": 18,
    "start_time": "2022-06-07T22:05:41.913Z"
   },
   {
    "duration": 37,
    "start_time": "2022-06-07T22:05:41.932Z"
   },
   {
    "duration": 29,
    "start_time": "2022-06-07T22:05:41.972Z"
   },
   {
    "duration": 3,
    "start_time": "2022-06-07T22:05:42.003Z"
   },
   {
    "duration": 19,
    "start_time": "2022-06-07T22:05:42.008Z"
   },
   {
    "duration": 39,
    "start_time": "2022-06-07T22:05:42.029Z"
   },
   {
    "duration": 14,
    "start_time": "2022-06-07T22:05:42.069Z"
   },
   {
    "duration": 9,
    "start_time": "2022-06-07T22:05:42.085Z"
   },
   {
    "duration": 51,
    "start_time": "2022-06-07T22:05:53.124Z"
   },
   {
    "duration": 17,
    "start_time": "2022-06-07T22:05:53.177Z"
   },
   {
    "duration": 34,
    "start_time": "2022-06-07T22:05:53.196Z"
   },
   {
    "duration": 39,
    "start_time": "2022-06-07T22:05:53.232Z"
   },
   {
    "duration": 30,
    "start_time": "2022-06-07T22:05:53.273Z"
   },
   {
    "duration": 3,
    "start_time": "2022-06-07T22:05:53.304Z"
   },
   {
    "duration": 17,
    "start_time": "2022-06-07T22:05:53.309Z"
   },
   {
    "duration": 32,
    "start_time": "2022-06-07T22:05:53.328Z"
   },
   {
    "duration": 9,
    "start_time": "2022-06-07T22:05:53.361Z"
   },
   {
    "duration": 17,
    "start_time": "2022-06-07T22:05:53.371Z"
   },
   {
    "duration": 20,
    "start_time": "2022-06-07T22:05:53.390Z"
   },
   {
    "duration": 453,
    "start_time": "2022-06-07T22:05:53.411Z"
   },
   {
    "duration": 5,
    "start_time": "2022-06-07T22:07:30.027Z"
   },
   {
    "duration": 48,
    "start_time": "2022-06-07T22:07:33.959Z"
   },
   {
    "duration": 16,
    "start_time": "2022-06-07T22:07:34.008Z"
   },
   {
    "duration": 31,
    "start_time": "2022-06-07T22:07:34.026Z"
   },
   {
    "duration": 41,
    "start_time": "2022-06-07T22:07:34.058Z"
   },
   {
    "duration": 27,
    "start_time": "2022-06-07T22:07:34.101Z"
   },
   {
    "duration": 3,
    "start_time": "2022-06-07T22:07:34.130Z"
   },
   {
    "duration": 33,
    "start_time": "2022-06-07T22:07:34.134Z"
   },
   {
    "duration": 12,
    "start_time": "2022-06-07T22:07:34.168Z"
   },
   {
    "duration": 19,
    "start_time": "2022-06-07T22:07:34.182Z"
   },
   {
    "duration": 14,
    "start_time": "2022-06-07T22:07:34.202Z"
   },
   {
    "duration": 26,
    "start_time": "2022-06-07T22:07:34.217Z"
   },
   {
    "duration": 18,
    "start_time": "2022-06-07T22:07:34.244Z"
   },
   {
    "duration": 22,
    "start_time": "2022-06-07T22:07:34.264Z"
   },
   {
    "duration": 471,
    "start_time": "2022-06-07T22:08:52.169Z"
   },
   {
    "duration": 1069,
    "start_time": "2022-06-07T22:09:04.725Z"
   },
   {
    "duration": 20,
    "start_time": "2022-06-07T22:09:05.796Z"
   },
   {
    "duration": 13,
    "start_time": "2022-06-07T22:09:05.818Z"
   },
   {
    "duration": 35,
    "start_time": "2022-06-07T22:09:05.832Z"
   },
   {
    "duration": 27,
    "start_time": "2022-06-07T22:09:05.869Z"
   },
   {
    "duration": 3,
    "start_time": "2022-06-07T22:09:05.897Z"
   },
   {
    "duration": 20,
    "start_time": "2022-06-07T22:09:05.901Z"
   },
   {
    "duration": 17,
    "start_time": "2022-06-07T22:09:05.922Z"
   },
   {
    "duration": 20,
    "start_time": "2022-06-07T22:09:05.941Z"
   },
   {
    "duration": 6,
    "start_time": "2022-06-07T22:09:05.963Z"
   },
   {
    "duration": 12,
    "start_time": "2022-06-07T22:09:05.971Z"
   },
   {
    "duration": 6,
    "start_time": "2022-06-07T22:09:05.984Z"
   },
   {
    "duration": 7,
    "start_time": "2022-06-07T22:09:05.991Z"
   },
   {
    "duration": 8,
    "start_time": "2022-06-07T22:09:06.001Z"
   },
   {
    "duration": 7,
    "start_time": "2022-06-07T22:09:06.010Z"
   },
   {
    "duration": 40,
    "start_time": "2022-06-07T22:09:06.019Z"
   },
   {
    "duration": 16,
    "start_time": "2022-06-07T22:09:06.062Z"
   },
   {
    "duration": 18,
    "start_time": "2022-06-07T22:09:06.079Z"
   },
   {
    "duration": 20,
    "start_time": "2022-06-07T22:09:06.098Z"
   },
   {
    "duration": 6,
    "start_time": "2022-06-07T22:09:06.119Z"
   },
   {
    "duration": 34,
    "start_time": "2022-06-07T22:09:06.127Z"
   },
   {
    "duration": 13,
    "start_time": "2022-06-07T22:09:06.162Z"
   },
   {
    "duration": 7,
    "start_time": "2022-06-07T22:09:06.176Z"
   },
   {
    "duration": 17,
    "start_time": "2022-06-07T22:09:06.184Z"
   },
   {
    "duration": 14,
    "start_time": "2022-06-07T22:09:06.202Z"
   },
   {
    "duration": 7,
    "start_time": "2022-06-07T22:09:06.217Z"
   },
   {
    "duration": 15,
    "start_time": "2022-06-07T22:09:06.226Z"
   },
   {
    "duration": 173,
    "start_time": "2022-06-07T22:09:06.242Z"
   },
   {
    "duration": 4,
    "start_time": "2022-06-07T22:09:06.417Z"
   },
   {
    "duration": 18,
    "start_time": "2022-06-07T22:09:06.423Z"
   },
   {
    "duration": 37,
    "start_time": "2022-06-07T22:09:06.443Z"
   },
   {
    "duration": 790,
    "start_time": "2022-06-07T22:09:06.483Z"
   },
   {
    "duration": 5,
    "start_time": "2022-06-07T22:09:07.275Z"
   },
   {
    "duration": 23,
    "start_time": "2022-06-07T22:09:07.282Z"
   },
   {
    "duration": 33,
    "start_time": "2022-06-07T22:09:07.308Z"
   },
   {
    "duration": 257,
    "start_time": "2022-06-07T22:09:07.343Z"
   },
   {
    "duration": 124,
    "start_time": "2022-06-07T22:09:07.602Z"
   },
   {
    "duration": 0,
    "start_time": "2022-06-07T22:09:07.728Z"
   },
   {
    "duration": 0,
    "start_time": "2022-06-07T22:09:07.730Z"
   },
   {
    "duration": 0,
    "start_time": "2022-06-07T22:09:07.731Z"
   },
   {
    "duration": 0,
    "start_time": "2022-06-07T22:09:07.732Z"
   },
   {
    "duration": 0,
    "start_time": "2022-06-07T22:09:07.734Z"
   },
   {
    "duration": 0,
    "start_time": "2022-06-07T22:09:07.736Z"
   },
   {
    "duration": 0,
    "start_time": "2022-06-07T22:09:07.737Z"
   },
   {
    "duration": 0,
    "start_time": "2022-06-07T22:09:07.759Z"
   },
   {
    "duration": 0,
    "start_time": "2022-06-07T22:09:07.760Z"
   },
   {
    "duration": 0,
    "start_time": "2022-06-07T22:09:07.762Z"
   },
   {
    "duration": 0,
    "start_time": "2022-06-07T22:09:07.763Z"
   },
   {
    "duration": 0,
    "start_time": "2022-06-07T22:09:07.764Z"
   },
   {
    "duration": 0,
    "start_time": "2022-06-07T22:09:07.766Z"
   },
   {
    "duration": 0,
    "start_time": "2022-06-07T22:09:07.767Z"
   },
   {
    "duration": 288,
    "start_time": "2022-06-07T22:10:04.825Z"
   },
   {
    "duration": 296,
    "start_time": "2022-06-07T22:13:49.104Z"
   },
   {
    "duration": 297,
    "start_time": "2022-06-07T22:14:06.003Z"
   },
   {
    "duration": 311,
    "start_time": "2022-06-07T22:16:37.096Z"
   },
   {
    "duration": 1029,
    "start_time": "2022-06-07T22:19:08.960Z"
   },
   {
    "duration": 24,
    "start_time": "2022-06-07T22:19:09.990Z"
   },
   {
    "duration": 32,
    "start_time": "2022-06-07T22:19:10.015Z"
   },
   {
    "duration": 41,
    "start_time": "2022-06-07T22:19:10.048Z"
   },
   {
    "duration": 27,
    "start_time": "2022-06-07T22:19:10.091Z"
   },
   {
    "duration": 3,
    "start_time": "2022-06-07T22:19:10.120Z"
   },
   {
    "duration": 23,
    "start_time": "2022-06-07T22:19:10.125Z"
   },
   {
    "duration": 18,
    "start_time": "2022-06-07T22:19:10.150Z"
   },
   {
    "duration": 18,
    "start_time": "2022-06-07T22:19:10.170Z"
   },
   {
    "duration": 17,
    "start_time": "2022-06-07T22:19:10.190Z"
   },
   {
    "duration": 30,
    "start_time": "2022-06-07T22:19:10.208Z"
   },
   {
    "duration": 17,
    "start_time": "2022-06-07T22:19:10.239Z"
   },
   {
    "duration": 8,
    "start_time": "2022-06-07T22:19:10.258Z"
   },
   {
    "duration": 33,
    "start_time": "2022-06-07T22:19:10.268Z"
   },
   {
    "duration": 30,
    "start_time": "2022-06-07T22:19:10.303Z"
   },
   {
    "duration": 26,
    "start_time": "2022-06-07T22:19:10.335Z"
   },
   {
    "duration": 31,
    "start_time": "2022-06-07T22:19:10.363Z"
   },
   {
    "duration": 17,
    "start_time": "2022-06-07T22:19:10.396Z"
   },
   {
    "duration": 23,
    "start_time": "2022-06-07T22:19:10.415Z"
   },
   {
    "duration": 18,
    "start_time": "2022-06-07T22:19:10.440Z"
   },
   {
    "duration": 28,
    "start_time": "2022-06-07T22:19:10.459Z"
   },
   {
    "duration": 29,
    "start_time": "2022-06-07T22:19:10.489Z"
   },
   {
    "duration": 8,
    "start_time": "2022-06-07T22:19:10.520Z"
   },
   {
    "duration": 35,
    "start_time": "2022-06-07T22:19:10.530Z"
   },
   {
    "duration": 35,
    "start_time": "2022-06-07T22:19:10.566Z"
   },
   {
    "duration": 8,
    "start_time": "2022-06-07T22:19:10.603Z"
   },
   {
    "duration": 40,
    "start_time": "2022-06-07T22:19:10.613Z"
   },
   {
    "duration": 176,
    "start_time": "2022-06-07T22:19:10.655Z"
   },
   {
    "duration": 4,
    "start_time": "2022-06-07T22:19:10.833Z"
   },
   {
    "duration": 43,
    "start_time": "2022-06-07T22:19:10.838Z"
   },
   {
    "duration": 32,
    "start_time": "2022-06-07T22:19:10.883Z"
   },
   {
    "duration": 736,
    "start_time": "2022-06-07T22:19:10.916Z"
   },
   {
    "duration": 8,
    "start_time": "2022-06-07T22:19:11.653Z"
   },
   {
    "duration": 38,
    "start_time": "2022-06-07T22:19:11.663Z"
   },
   {
    "duration": 42,
    "start_time": "2022-06-07T22:19:11.702Z"
   },
   {
    "duration": 218,
    "start_time": "2022-06-07T22:19:11.746Z"
   },
   {
    "duration": 298,
    "start_time": "2022-06-07T22:19:11.966Z"
   },
   {
    "duration": 289,
    "start_time": "2022-06-07T22:19:12.266Z"
   },
   {
    "duration": 320,
    "start_time": "2022-06-07T22:19:12.558Z"
   },
   {
    "duration": 181,
    "start_time": "2022-06-07T22:19:12.880Z"
   },
   {
    "duration": 14,
    "start_time": "2022-06-07T22:19:13.065Z"
   },
   {
    "duration": 18,
    "start_time": "2022-06-07T22:19:13.081Z"
   },
   {
    "duration": 13,
    "start_time": "2022-06-07T22:19:13.101Z"
   },
   {
    "duration": 21,
    "start_time": "2022-06-07T22:19:13.116Z"
   },
   {
    "duration": 28,
    "start_time": "2022-06-07T22:19:13.139Z"
   },
   {
    "duration": 13,
    "start_time": "2022-06-07T22:19:13.168Z"
   },
   {
    "duration": 131,
    "start_time": "2022-06-07T22:19:13.182Z"
   },
   {
    "duration": 0,
    "start_time": "2022-06-07T22:19:13.315Z"
   },
   {
    "duration": 0,
    "start_time": "2022-06-07T22:19:13.316Z"
   },
   {
    "duration": 0,
    "start_time": "2022-06-07T22:19:13.317Z"
   },
   {
    "duration": 0,
    "start_time": "2022-06-07T22:19:13.318Z"
   },
   {
    "duration": 0,
    "start_time": "2022-06-07T22:19:13.319Z"
   },
   {
    "duration": 0,
    "start_time": "2022-06-07T22:19:13.321Z"
   },
   {
    "duration": 1146,
    "start_time": "2022-06-07T22:20:05.454Z"
   },
   {
    "duration": 21,
    "start_time": "2022-06-07T22:20:06.602Z"
   },
   {
    "duration": 14,
    "start_time": "2022-06-07T22:20:06.625Z"
   },
   {
    "duration": 36,
    "start_time": "2022-06-07T22:20:06.640Z"
   },
   {
    "duration": 31,
    "start_time": "2022-06-07T22:20:06.679Z"
   },
   {
    "duration": 3,
    "start_time": "2022-06-07T22:20:06.712Z"
   },
   {
    "duration": 27,
    "start_time": "2022-06-07T22:20:06.717Z"
   },
   {
    "duration": 18,
    "start_time": "2022-06-07T22:20:06.760Z"
   },
   {
    "duration": 9,
    "start_time": "2022-06-07T22:20:06.780Z"
   },
   {
    "duration": 7,
    "start_time": "2022-06-07T22:20:06.791Z"
   },
   {
    "duration": 9,
    "start_time": "2022-06-07T22:20:06.800Z"
   },
   {
    "duration": 13,
    "start_time": "2022-06-07T22:20:06.811Z"
   },
   {
    "duration": 12,
    "start_time": "2022-06-07T22:20:06.826Z"
   },
   {
    "duration": 5,
    "start_time": "2022-06-07T22:20:06.858Z"
   },
   {
    "duration": 15,
    "start_time": "2022-06-07T22:20:06.864Z"
   },
   {
    "duration": 16,
    "start_time": "2022-06-07T22:20:06.881Z"
   },
   {
    "duration": 17,
    "start_time": "2022-06-07T22:20:06.898Z"
   },
   {
    "duration": 19,
    "start_time": "2022-06-07T22:20:06.916Z"
   },
   {
    "duration": 36,
    "start_time": "2022-06-07T22:20:06.937Z"
   },
   {
    "duration": 6,
    "start_time": "2022-06-07T22:20:06.975Z"
   },
   {
    "duration": 17,
    "start_time": "2022-06-07T22:20:06.982Z"
   },
   {
    "duration": 11,
    "start_time": "2022-06-07T22:20:07.001Z"
   },
   {
    "duration": 6,
    "start_time": "2022-06-07T22:20:07.014Z"
   },
   {
    "duration": 12,
    "start_time": "2022-06-07T22:20:07.022Z"
   },
   {
    "duration": 23,
    "start_time": "2022-06-07T22:20:07.036Z"
   },
   {
    "duration": 5,
    "start_time": "2022-06-07T22:20:07.061Z"
   },
   {
    "duration": 45,
    "start_time": "2022-06-07T22:20:07.067Z"
   },
   {
    "duration": 205,
    "start_time": "2022-06-07T22:20:07.114Z"
   },
   {
    "duration": 6,
    "start_time": "2022-06-07T22:20:07.321Z"
   },
   {
    "duration": 47,
    "start_time": "2022-06-07T22:20:07.329Z"
   },
   {
    "duration": 67,
    "start_time": "2022-06-07T22:20:07.379Z"
   },
   {
    "duration": 758,
    "start_time": "2022-06-07T22:20:07.448Z"
   },
   {
    "duration": 5,
    "start_time": "2022-06-07T22:20:08.208Z"
   },
   {
    "duration": 9,
    "start_time": "2022-06-07T22:20:08.214Z"
   },
   {
    "duration": 18,
    "start_time": "2022-06-07T22:20:08.225Z"
   },
   {
    "duration": 229,
    "start_time": "2022-06-07T22:20:08.245Z"
   },
   {
    "duration": 298,
    "start_time": "2022-06-07T22:20:08.476Z"
   },
   {
    "duration": 277,
    "start_time": "2022-06-07T22:20:08.776Z"
   },
   {
    "duration": 298,
    "start_time": "2022-06-07T22:20:09.054Z"
   },
   {
    "duration": 157,
    "start_time": "2022-06-07T22:20:09.353Z"
   },
   {
    "duration": 13,
    "start_time": "2022-06-07T22:20:09.514Z"
   },
   {
    "duration": 12,
    "start_time": "2022-06-07T22:20:09.528Z"
   },
   {
    "duration": 28,
    "start_time": "2022-06-07T22:20:09.541Z"
   },
   {
    "duration": 13,
    "start_time": "2022-06-07T22:20:09.571Z"
   },
   {
    "duration": 15,
    "start_time": "2022-06-07T22:20:09.585Z"
   },
   {
    "duration": 12,
    "start_time": "2022-06-07T22:20:09.601Z"
   },
   {
    "duration": 724,
    "start_time": "2022-06-07T22:20:09.614Z"
   },
   {
    "duration": 0,
    "start_time": "2022-06-07T22:20:10.340Z"
   },
   {
    "duration": 0,
    "start_time": "2022-06-07T22:20:10.341Z"
   },
   {
    "duration": 0,
    "start_time": "2022-06-07T22:20:10.344Z"
   },
   {
    "duration": 0,
    "start_time": "2022-06-07T22:20:10.345Z"
   },
   {
    "duration": 0,
    "start_time": "2022-06-07T22:20:10.346Z"
   },
   {
    "duration": 0,
    "start_time": "2022-06-07T22:20:10.348Z"
   },
   {
    "duration": 94,
    "start_time": "2022-06-07T22:20:30.813Z"
   },
   {
    "duration": 111,
    "start_time": "2022-06-07T22:20:47.133Z"
   },
   {
    "duration": 12,
    "start_time": "2022-06-07T22:21:09.218Z"
   },
   {
    "duration": 110,
    "start_time": "2022-06-07T22:21:26.382Z"
   },
   {
    "duration": 247,
    "start_time": "2022-06-07T22:21:36.689Z"
   },
   {
    "duration": 123,
    "start_time": "2022-06-07T22:22:00.748Z"
   },
   {
    "duration": 129,
    "start_time": "2022-06-07T22:23:21.617Z"
   },
   {
    "duration": 109,
    "start_time": "2022-06-07T22:23:47.469Z"
   },
   {
    "duration": 327,
    "start_time": "2022-06-07T22:23:50.890Z"
   },
   {
    "duration": 439,
    "start_time": "2022-06-07T22:24:32.001Z"
   },
   {
    "duration": 229,
    "start_time": "2022-06-07T22:25:00.638Z"
   },
   {
    "duration": 152,
    "start_time": "2022-06-07T22:25:35.249Z"
   },
   {
    "duration": 113,
    "start_time": "2022-06-07T22:25:52.509Z"
   },
   {
    "duration": 157,
    "start_time": "2022-06-07T22:26:30.450Z"
   },
   {
    "duration": 143,
    "start_time": "2022-06-07T22:26:36.518Z"
   },
   {
    "duration": 563,
    "start_time": "2022-06-07T22:28:48.048Z"
   },
   {
    "duration": 464,
    "start_time": "2022-06-07T22:29:48.849Z"
   },
   {
    "duration": 16,
    "start_time": "2022-06-07T22:30:09.447Z"
   },
   {
    "duration": 481,
    "start_time": "2022-06-07T22:30:24.815Z"
   },
   {
    "duration": 525,
    "start_time": "2022-06-07T22:30:50.975Z"
   },
   {
    "duration": 583,
    "start_time": "2022-06-07T22:30:59.716Z"
   },
   {
    "duration": 422,
    "start_time": "2022-06-07T22:31:19.136Z"
   },
   {
    "duration": 431,
    "start_time": "2022-06-07T22:31:33.495Z"
   },
   {
    "duration": 438,
    "start_time": "2022-06-07T22:32:26.015Z"
   },
   {
    "duration": 553,
    "start_time": "2022-06-07T22:32:51.575Z"
   },
   {
    "duration": 14,
    "start_time": "2022-06-07T22:34:21.594Z"
   },
   {
    "duration": 38,
    "start_time": "2022-06-08T01:09:48.302Z"
   }
  ],
  "kernelspec": {
   "display_name": "Python 3 (ipykernel)",
   "language": "python",
   "name": "python3"
  },
  "language_info": {
   "codemirror_mode": {
    "name": "ipython",
    "version": 3
   },
   "file_extension": ".py",
   "mimetype": "text/x-python",
   "name": "python",
   "nbconvert_exporter": "python",
   "pygments_lexer": "ipython3",
   "version": "3.9.7"
  },
  "toc": {
   "base_numbering": 1,
   "nav_menu": {},
   "number_sections": true,
   "sideBar": true,
   "skip_h1_title": true,
   "title_cell": "Table of Contents",
   "title_sidebar": "Contents",
   "toc_cell": false,
   "toc_position": {},
   "toc_section_display": true,
   "toc_window_display": false
  }
 },
 "nbformat": 4,
 "nbformat_minor": 2
}
