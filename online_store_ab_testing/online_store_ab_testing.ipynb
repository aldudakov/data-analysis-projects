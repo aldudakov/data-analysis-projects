{
 "cells": [
  {
   "cell_type": "markdown",
   "metadata": {},
   "source": [
    "# Проверка гипотез для интернет-магазина на основе A/B-теста"
   ]
  },
  {
   "cell_type": "markdown",
   "metadata": {},
   "source": [
    "Имеется список гипотез для увеличения выручки интернет-магазина, подготовленный отделом маркетинга. \n",
    "\n",
    "**Цель исследования**: \n",
    "- приоритизировать имеющиеся гипотезы;\n",
    "- запустить A/B-тест и проанализировать его результаты;\n",
    "- принять решение об остановке или продолжении A/B-теста."
   ]
  },
  {
   "cell_type": "markdown",
   "metadata": {},
   "source": [
    "## Приоритизация гипотез"
   ]
  },
  {
   "cell_type": "markdown",
   "metadata": {},
   "source": [
    "Загрузим данные с гипотезами и откроем их."
   ]
  },
  {
   "cell_type": "code",
   "execution_count": 1,
   "metadata": {},
   "outputs": [],
   "source": [
    "import numpy as np\n",
    "import scipy.stats as st\n",
    "import pandas as pd\n",
    "import matplotlib.pyplot as plt\n",
    "from pandas.plotting import register_matplotlib_converters\n",
    "\n",
    "register_matplotlib_converters()"
   ]
  },
  {
   "cell_type": "code",
   "execution_count": 2,
   "metadata": {
    "scrolled": false
   },
   "outputs": [
    {
     "data": {
      "text/html": [
       "<div>\n",
       "<style scoped>\n",
       "    .dataframe tbody tr th:only-of-type {\n",
       "        vertical-align: middle;\n",
       "    }\n",
       "\n",
       "    .dataframe tbody tr th {\n",
       "        vertical-align: top;\n",
       "    }\n",
       "\n",
       "    .dataframe thead th {\n",
       "        text-align: right;\n",
       "    }\n",
       "</style>\n",
       "<table border=\"1\" class=\"dataframe\">\n",
       "  <thead>\n",
       "    <tr style=\"text-align: right;\">\n",
       "      <th></th>\n",
       "      <th>Hypothesis</th>\n",
       "      <th>Reach</th>\n",
       "      <th>Impact</th>\n",
       "      <th>Confidence</th>\n",
       "      <th>Efforts</th>\n",
       "    </tr>\n",
       "  </thead>\n",
       "  <tbody>\n",
       "    <tr>\n",
       "      <th>0</th>\n",
       "      <td>Добавить два новых канала привлечения трафика,...</td>\n",
       "      <td>3</td>\n",
       "      <td>10</td>\n",
       "      <td>8</td>\n",
       "      <td>6</td>\n",
       "    </tr>\n",
       "    <tr>\n",
       "      <th>1</th>\n",
       "      <td>Запустить собственную службу доставки, что сок...</td>\n",
       "      <td>2</td>\n",
       "      <td>5</td>\n",
       "      <td>4</td>\n",
       "      <td>10</td>\n",
       "    </tr>\n",
       "    <tr>\n",
       "      <th>2</th>\n",
       "      <td>Добавить блоки рекомендаций товаров на сайт ин...</td>\n",
       "      <td>8</td>\n",
       "      <td>3</td>\n",
       "      <td>7</td>\n",
       "      <td>3</td>\n",
       "    </tr>\n",
       "    <tr>\n",
       "      <th>3</th>\n",
       "      <td>Изменить структура категорий, что увеличит кон...</td>\n",
       "      <td>8</td>\n",
       "      <td>3</td>\n",
       "      <td>3</td>\n",
       "      <td>8</td>\n",
       "    </tr>\n",
       "    <tr>\n",
       "      <th>4</th>\n",
       "      <td>Изменить цвет фона главной страницы, чтобы уве...</td>\n",
       "      <td>3</td>\n",
       "      <td>1</td>\n",
       "      <td>1</td>\n",
       "      <td>1</td>\n",
       "    </tr>\n",
       "    <tr>\n",
       "      <th>5</th>\n",
       "      <td>Добавить страницу отзывов клиентов о магазине,...</td>\n",
       "      <td>3</td>\n",
       "      <td>2</td>\n",
       "      <td>2</td>\n",
       "      <td>3</td>\n",
       "    </tr>\n",
       "    <tr>\n",
       "      <th>6</th>\n",
       "      <td>Показать на главной странице баннеры с актуаль...</td>\n",
       "      <td>5</td>\n",
       "      <td>3</td>\n",
       "      <td>8</td>\n",
       "      <td>3</td>\n",
       "    </tr>\n",
       "    <tr>\n",
       "      <th>7</th>\n",
       "      <td>Добавить форму подписки на все основные страни...</td>\n",
       "      <td>10</td>\n",
       "      <td>7</td>\n",
       "      <td>8</td>\n",
       "      <td>5</td>\n",
       "    </tr>\n",
       "    <tr>\n",
       "      <th>8</th>\n",
       "      <td>Запустить акцию, дающую скидку на товар в день...</td>\n",
       "      <td>1</td>\n",
       "      <td>9</td>\n",
       "      <td>9</td>\n",
       "      <td>5</td>\n",
       "    </tr>\n",
       "  </tbody>\n",
       "</table>\n",
       "</div>"
      ],
      "text/plain": [
       "                                          Hypothesis  Reach  Impact  \\\n",
       "0  Добавить два новых канала привлечения трафика,...      3      10   \n",
       "1  Запустить собственную службу доставки, что сок...      2       5   \n",
       "2  Добавить блоки рекомендаций товаров на сайт ин...      8       3   \n",
       "3  Изменить структура категорий, что увеличит кон...      8       3   \n",
       "4  Изменить цвет фона главной страницы, чтобы уве...      3       1   \n",
       "5  Добавить страницу отзывов клиентов о магазине,...      3       2   \n",
       "6  Показать на главной странице баннеры с актуаль...      5       3   \n",
       "7  Добавить форму подписки на все основные страни...     10       7   \n",
       "8  Запустить акцию, дающую скидку на товар в день...      1       9   \n",
       "\n",
       "   Confidence  Efforts  \n",
       "0           8        6  \n",
       "1           4       10  \n",
       "2           7        3  \n",
       "3           3        8  \n",
       "4           1        1  \n",
       "5           2        3  \n",
       "6           8        3  \n",
       "7           8        5  \n",
       "8           9        5  "
      ]
     },
     "execution_count": 2,
     "metadata": {},
     "output_type": "execute_result"
    }
   ],
   "source": [
    "hypothesis = pd.read_csv('/datasets/hypothesis.csv')\n",
    "\n",
    "hypothesis"
   ]
  },
  {
   "cell_type": "markdown",
   "metadata": {},
   "source": [
    "Приведем названия столбцов к змеиному регистру."
   ]
  },
  {
   "cell_type": "code",
   "execution_count": 3,
   "metadata": {},
   "outputs": [
    {
     "data": {
      "text/plain": [
       "Index(['hypothesis', 'reach', 'impact', 'confidence', 'efforts'], dtype='object')"
      ]
     },
     "execution_count": 3,
     "metadata": {},
     "output_type": "execute_result"
    }
   ],
   "source": [
    "hypothesis.columns = hypothesis.columns.str.lower()\n",
    "\n",
    "hypothesis.columns"
   ]
  },
  {
   "cell_type": "markdown",
   "metadata": {},
   "source": [
    "### Приоритизация гипотез с помощью ICE"
   ]
  },
  {
   "cell_type": "markdown",
   "metadata": {},
   "source": [
    "Применим фреймворк ICE для приоритизации гипотез. Создадим столбец `ICE` и расчитаем его по формуле:\n",
    "$$ICE = \\frac{Impact * Confidence}{Efforts}$$"
   ]
  },
  {
   "cell_type": "code",
   "execution_count": 4,
   "metadata": {},
   "outputs": [],
   "source": [
    "hypothesis['ICE'] = hypothesis['impact'] * hypothesis['confidence'] / hypothesis['efforts']"
   ]
  },
  {
   "cell_type": "markdown",
   "metadata": {},
   "source": [
    "Выведем столбцы `hypothesis` и `ICE`, отсортированные по столбцу `ICE`."
   ]
  },
  {
   "cell_type": "code",
   "execution_count": 5,
   "metadata": {},
   "outputs": [
    {
     "data": {
      "text/html": [
       "<div>\n",
       "<style scoped>\n",
       "    .dataframe tbody tr th:only-of-type {\n",
       "        vertical-align: middle;\n",
       "    }\n",
       "\n",
       "    .dataframe tbody tr th {\n",
       "        vertical-align: top;\n",
       "    }\n",
       "\n",
       "    .dataframe thead th {\n",
       "        text-align: right;\n",
       "    }\n",
       "</style>\n",
       "<table border=\"1\" class=\"dataframe\">\n",
       "  <thead>\n",
       "    <tr style=\"text-align: right;\">\n",
       "      <th></th>\n",
       "      <th>hypothesis</th>\n",
       "      <th>ICE</th>\n",
       "    </tr>\n",
       "  </thead>\n",
       "  <tbody>\n",
       "    <tr>\n",
       "      <th>8</th>\n",
       "      <td>Запустить акцию, дающую скидку на товар в день рождения</td>\n",
       "      <td>16.200000</td>\n",
       "    </tr>\n",
       "    <tr>\n",
       "      <th>0</th>\n",
       "      <td>Добавить два новых канала привлечения трафика, что позволит привлекать на 30% больше пользователей</td>\n",
       "      <td>13.333333</td>\n",
       "    </tr>\n",
       "    <tr>\n",
       "      <th>7</th>\n",
       "      <td>Добавить форму подписки на все основные страницы, чтобы собрать базу клиентов для email-рассылок</td>\n",
       "      <td>11.200000</td>\n",
       "    </tr>\n",
       "    <tr>\n",
       "      <th>6</th>\n",
       "      <td>Показать на главной странице баннеры с актуальными акциями и распродажами, чтобы увеличить конверсию</td>\n",
       "      <td>8.000000</td>\n",
       "    </tr>\n",
       "    <tr>\n",
       "      <th>2</th>\n",
       "      <td>Добавить блоки рекомендаций товаров на сайт интернет магазина, чтобы повысить конверсию и средний чек заказа</td>\n",
       "      <td>7.000000</td>\n",
       "    </tr>\n",
       "    <tr>\n",
       "      <th>1</th>\n",
       "      <td>Запустить собственную службу доставки, что сократит срок доставки заказов</td>\n",
       "      <td>2.000000</td>\n",
       "    </tr>\n",
       "    <tr>\n",
       "      <th>5</th>\n",
       "      <td>Добавить страницу отзывов клиентов о магазине, что позволит увеличить количество заказов</td>\n",
       "      <td>1.333333</td>\n",
       "    </tr>\n",
       "    <tr>\n",
       "      <th>3</th>\n",
       "      <td>Изменить структура категорий, что увеличит конверсию, т.к. пользователи быстрее найдут нужный товар</td>\n",
       "      <td>1.125000</td>\n",
       "    </tr>\n",
       "    <tr>\n",
       "      <th>4</th>\n",
       "      <td>Изменить цвет фона главной страницы, чтобы увеличить вовлеченность пользователей</td>\n",
       "      <td>1.000000</td>\n",
       "    </tr>\n",
       "  </tbody>\n",
       "</table>\n",
       "</div>"
      ],
      "text/plain": [
       "                                                                                                     hypothesis  \\\n",
       "8                                                       Запустить акцию, дающую скидку на товар в день рождения   \n",
       "0            Добавить два новых канала привлечения трафика, что позволит привлекать на 30% больше пользователей   \n",
       "7              Добавить форму подписки на все основные страницы, чтобы собрать базу клиентов для email-рассылок   \n",
       "6          Показать на главной странице баннеры с актуальными акциями и распродажами, чтобы увеличить конверсию   \n",
       "2  Добавить блоки рекомендаций товаров на сайт интернет магазина, чтобы повысить конверсию и средний чек заказа   \n",
       "1                                     Запустить собственную службу доставки, что сократит срок доставки заказов   \n",
       "5                      Добавить страницу отзывов клиентов о магазине, что позволит увеличить количество заказов   \n",
       "3           Изменить структура категорий, что увеличит конверсию, т.к. пользователи быстрее найдут нужный товар   \n",
       "4                              Изменить цвет фона главной страницы, чтобы увеличить вовлеченность пользователей   \n",
       "\n",
       "         ICE  \n",
       "8  16.200000  \n",
       "0  13.333333  \n",
       "7  11.200000  \n",
       "6   8.000000  \n",
       "2   7.000000  \n",
       "1   2.000000  \n",
       "5   1.333333  \n",
       "3   1.125000  \n",
       "4   1.000000  "
      ]
     },
     "metadata": {},
     "output_type": "display_data"
    }
   ],
   "source": [
    "pd.options.display.max_colwidth = 200\n",
    "display(hypothesis[['hypothesis', 'ICE']].sort_values(by='ICE', ascending=False))"
   ]
  },
  {
   "cell_type": "markdown",
   "metadata": {},
   "source": [
    "Наиболее перспективные гипотезы по ICE: 8, 0, 7, 6, 2."
   ]
  },
  {
   "cell_type": "markdown",
   "metadata": {},
   "source": [
    "### Приоритизация гипотез с помощью RICE"
   ]
  },
  {
   "cell_type": "markdown",
   "metadata": {},
   "source": [
    "Применим фреймворк *RICE* для приоритизации гипотез. Создадим столбец `RICE` и расчитаем его по формуле:\n",
    "$$RICE = \\frac{Rearch * Impact * Confidence}{Efforts}$$"
   ]
  },
  {
   "cell_type": "code",
   "execution_count": 6,
   "metadata": {},
   "outputs": [],
   "source": [
    "hypothesis['RICE'] = hypothesis['reach'] * hypothesis['impact'] * hypothesis['confidence'] / hypothesis['efforts']"
   ]
  },
  {
   "cell_type": "markdown",
   "metadata": {},
   "source": [
    "Выведем столбцы `hypothesis` и `RICE`, отсортированные по столбцу `RICE`."
   ]
  },
  {
   "cell_type": "code",
   "execution_count": 7,
   "metadata": {},
   "outputs": [
    {
     "data": {
      "text/html": [
       "<div>\n",
       "<style scoped>\n",
       "    .dataframe tbody tr th:only-of-type {\n",
       "        vertical-align: middle;\n",
       "    }\n",
       "\n",
       "    .dataframe tbody tr th {\n",
       "        vertical-align: top;\n",
       "    }\n",
       "\n",
       "    .dataframe thead th {\n",
       "        text-align: right;\n",
       "    }\n",
       "</style>\n",
       "<table border=\"1\" class=\"dataframe\">\n",
       "  <thead>\n",
       "    <tr style=\"text-align: right;\">\n",
       "      <th></th>\n",
       "      <th>hypothesis</th>\n",
       "      <th>RICE</th>\n",
       "    </tr>\n",
       "  </thead>\n",
       "  <tbody>\n",
       "    <tr>\n",
       "      <th>7</th>\n",
       "      <td>Добавить форму подписки на все основные страницы, чтобы собрать базу клиентов для email-рассылок</td>\n",
       "      <td>112.0</td>\n",
       "    </tr>\n",
       "    <tr>\n",
       "      <th>2</th>\n",
       "      <td>Добавить блоки рекомендаций товаров на сайт интернет магазина, чтобы повысить конверсию и средний чек заказа</td>\n",
       "      <td>56.0</td>\n",
       "    </tr>\n",
       "    <tr>\n",
       "      <th>0</th>\n",
       "      <td>Добавить два новых канала привлечения трафика, что позволит привлекать на 30% больше пользователей</td>\n",
       "      <td>40.0</td>\n",
       "    </tr>\n",
       "    <tr>\n",
       "      <th>6</th>\n",
       "      <td>Показать на главной странице баннеры с актуальными акциями и распродажами, чтобы увеличить конверсию</td>\n",
       "      <td>40.0</td>\n",
       "    </tr>\n",
       "    <tr>\n",
       "      <th>8</th>\n",
       "      <td>Запустить акцию, дающую скидку на товар в день рождения</td>\n",
       "      <td>16.2</td>\n",
       "    </tr>\n",
       "    <tr>\n",
       "      <th>3</th>\n",
       "      <td>Изменить структура категорий, что увеличит конверсию, т.к. пользователи быстрее найдут нужный товар</td>\n",
       "      <td>9.0</td>\n",
       "    </tr>\n",
       "    <tr>\n",
       "      <th>1</th>\n",
       "      <td>Запустить собственную службу доставки, что сократит срок доставки заказов</td>\n",
       "      <td>4.0</td>\n",
       "    </tr>\n",
       "    <tr>\n",
       "      <th>5</th>\n",
       "      <td>Добавить страницу отзывов клиентов о магазине, что позволит увеличить количество заказов</td>\n",
       "      <td>4.0</td>\n",
       "    </tr>\n",
       "    <tr>\n",
       "      <th>4</th>\n",
       "      <td>Изменить цвет фона главной страницы, чтобы увеличить вовлеченность пользователей</td>\n",
       "      <td>3.0</td>\n",
       "    </tr>\n",
       "  </tbody>\n",
       "</table>\n",
       "</div>"
      ],
      "text/plain": [
       "                                                                                                     hypothesis  \\\n",
       "7              Добавить форму подписки на все основные страницы, чтобы собрать базу клиентов для email-рассылок   \n",
       "2  Добавить блоки рекомендаций товаров на сайт интернет магазина, чтобы повысить конверсию и средний чек заказа   \n",
       "0            Добавить два новых канала привлечения трафика, что позволит привлекать на 30% больше пользователей   \n",
       "6          Показать на главной странице баннеры с актуальными акциями и распродажами, чтобы увеличить конверсию   \n",
       "8                                                       Запустить акцию, дающую скидку на товар в день рождения   \n",
       "3           Изменить структура категорий, что увеличит конверсию, т.к. пользователи быстрее найдут нужный товар   \n",
       "1                                     Запустить собственную службу доставки, что сократит срок доставки заказов   \n",
       "5                      Добавить страницу отзывов клиентов о магазине, что позволит увеличить количество заказов   \n",
       "4                              Изменить цвет фона главной страницы, чтобы увеличить вовлеченность пользователей   \n",
       "\n",
       "    RICE  \n",
       "7  112.0  \n",
       "2   56.0  \n",
       "0   40.0  \n",
       "6   40.0  \n",
       "8   16.2  \n",
       "3    9.0  \n",
       "1    4.0  \n",
       "5    4.0  \n",
       "4    3.0  "
      ]
     },
     "metadata": {},
     "output_type": "display_data"
    }
   ],
   "source": [
    "display(hypothesis[['hypothesis', 'RICE']].sort_values(by='RICE', ascending=False))"
   ]
  },
  {
   "cell_type": "markdown",
   "metadata": {},
   "source": [
    "Наиболее перспективные гипотезы по *RICE*: 7, 2, 0, 6, 8."
   ]
  },
  {
   "cell_type": "markdown",
   "metadata": {},
   "source": [
    "### Вывод"
   ]
  },
  {
   "cell_type": "markdown",
   "metadata": {},
   "source": [
    "Были приоритизированы гипотезы из загруженного датафрейма при помощь фреймворков ICE и RICE:\n",
    "- наиболее перспективные гипотезы по *ICE*: 8, 0, 7, 6, 2;\n",
    "- наиболее перспективные гипотезы по *RICE*: 7, 2, 0, 6, 8.\n",
    "\n",
    "Разница при приоритизации этими двумя фреймворками объясняется тем, что при расчете *RICE*, в отличие от *ICE*, мы учитываем параметр Reach – количество пользователей, которое затронет изменение при принятии гипотезы."
   ]
  },
  {
   "cell_type": "markdown",
   "metadata": {},
   "source": [
    "## Анализ A/B-теста"
   ]
  },
  {
   "cell_type": "markdown",
   "metadata": {},
   "source": [
    "Откроем файлы с результатами проведенного A/B-теста."
   ]
  },
  {
   "cell_type": "code",
   "execution_count": 8,
   "metadata": {},
   "outputs": [],
   "source": [
    "orders = pd.read_csv('/datasets/orders.csv')\n",
    "visitors = pd.read_csv('/datasets/visitors.csv')"
   ]
  },
  {
   "cell_type": "code",
   "execution_count": 9,
   "metadata": {},
   "outputs": [
    {
     "name": "stdout",
     "output_type": "stream",
     "text": [
      "<class 'pandas.core.frame.DataFrame'>\n",
      "RangeIndex: 1197 entries, 0 to 1196\n",
      "Data columns (total 5 columns):\n",
      " #   Column         Non-Null Count  Dtype \n",
      "---  ------         --------------  ----- \n",
      " 0   transactionId  1197 non-null   int64 \n",
      " 1   visitorId      1197 non-null   int64 \n",
      " 2   date           1197 non-null   object\n",
      " 3   revenue        1197 non-null   int64 \n",
      " 4   group          1197 non-null   object\n",
      "dtypes: int64(3), object(2)\n",
      "memory usage: 46.9+ KB\n",
      "--------------------------------------------------\n",
      "<class 'pandas.core.frame.DataFrame'>\n",
      "RangeIndex: 62 entries, 0 to 61\n",
      "Data columns (total 3 columns):\n",
      " #   Column    Non-Null Count  Dtype \n",
      "---  ------    --------------  ----- \n",
      " 0   date      62 non-null     object\n",
      " 1   group     62 non-null     object\n",
      " 2   visitors  62 non-null     int64 \n",
      "dtypes: int64(1), object(2)\n",
      "memory usage: 1.6+ KB\n"
     ]
    },
    {
     "data": {
      "text/html": [
       "<div>\n",
       "<style scoped>\n",
       "    .dataframe tbody tr th:only-of-type {\n",
       "        vertical-align: middle;\n",
       "    }\n",
       "\n",
       "    .dataframe tbody tr th {\n",
       "        vertical-align: top;\n",
       "    }\n",
       "\n",
       "    .dataframe thead th {\n",
       "        text-align: right;\n",
       "    }\n",
       "</style>\n",
       "<table border=\"1\" class=\"dataframe\">\n",
       "  <thead>\n",
       "    <tr style=\"text-align: right;\">\n",
       "      <th></th>\n",
       "      <th>transactionId</th>\n",
       "      <th>visitorId</th>\n",
       "      <th>date</th>\n",
       "      <th>revenue</th>\n",
       "      <th>group</th>\n",
       "    </tr>\n",
       "  </thead>\n",
       "  <tbody>\n",
       "    <tr>\n",
       "      <th>0</th>\n",
       "      <td>3667963787</td>\n",
       "      <td>3312258926</td>\n",
       "      <td>2019-08-15</td>\n",
       "      <td>1650</td>\n",
       "      <td>B</td>\n",
       "    </tr>\n",
       "    <tr>\n",
       "      <th>1</th>\n",
       "      <td>2804400009</td>\n",
       "      <td>3642806036</td>\n",
       "      <td>2019-08-15</td>\n",
       "      <td>730</td>\n",
       "      <td>B</td>\n",
       "    </tr>\n",
       "    <tr>\n",
       "      <th>2</th>\n",
       "      <td>2961555356</td>\n",
       "      <td>4069496402</td>\n",
       "      <td>2019-08-15</td>\n",
       "      <td>400</td>\n",
       "      <td>A</td>\n",
       "    </tr>\n",
       "    <tr>\n",
       "      <th>3</th>\n",
       "      <td>3797467345</td>\n",
       "      <td>1196621759</td>\n",
       "      <td>2019-08-15</td>\n",
       "      <td>9759</td>\n",
       "      <td>B</td>\n",
       "    </tr>\n",
       "    <tr>\n",
       "      <th>4</th>\n",
       "      <td>2282983706</td>\n",
       "      <td>2322279887</td>\n",
       "      <td>2019-08-15</td>\n",
       "      <td>2308</td>\n",
       "      <td>B</td>\n",
       "    </tr>\n",
       "  </tbody>\n",
       "</table>\n",
       "</div>"
      ],
      "text/plain": [
       "   transactionId   visitorId        date  revenue group\n",
       "0     3667963787  3312258926  2019-08-15     1650     B\n",
       "1     2804400009  3642806036  2019-08-15      730     B\n",
       "2     2961555356  4069496402  2019-08-15      400     A\n",
       "3     3797467345  1196621759  2019-08-15     9759     B\n",
       "4     2282983706  2322279887  2019-08-15     2308     B"
      ]
     },
     "metadata": {},
     "output_type": "display_data"
    },
    {
     "data": {
      "text/plain": [
       "'--------------------------------------------------'"
      ]
     },
     "metadata": {},
     "output_type": "display_data"
    },
    {
     "data": {
      "text/html": [
       "<div>\n",
       "<style scoped>\n",
       "    .dataframe tbody tr th:only-of-type {\n",
       "        vertical-align: middle;\n",
       "    }\n",
       "\n",
       "    .dataframe tbody tr th {\n",
       "        vertical-align: top;\n",
       "    }\n",
       "\n",
       "    .dataframe thead th {\n",
       "        text-align: right;\n",
       "    }\n",
       "</style>\n",
       "<table border=\"1\" class=\"dataframe\">\n",
       "  <thead>\n",
       "    <tr style=\"text-align: right;\">\n",
       "      <th></th>\n",
       "      <th>date</th>\n",
       "      <th>group</th>\n",
       "      <th>visitors</th>\n",
       "    </tr>\n",
       "  </thead>\n",
       "  <tbody>\n",
       "    <tr>\n",
       "      <th>0</th>\n",
       "      <td>2019-08-01</td>\n",
       "      <td>A</td>\n",
       "      <td>719</td>\n",
       "    </tr>\n",
       "    <tr>\n",
       "      <th>1</th>\n",
       "      <td>2019-08-02</td>\n",
       "      <td>A</td>\n",
       "      <td>619</td>\n",
       "    </tr>\n",
       "    <tr>\n",
       "      <th>2</th>\n",
       "      <td>2019-08-03</td>\n",
       "      <td>A</td>\n",
       "      <td>507</td>\n",
       "    </tr>\n",
       "    <tr>\n",
       "      <th>3</th>\n",
       "      <td>2019-08-04</td>\n",
       "      <td>A</td>\n",
       "      <td>717</td>\n",
       "    </tr>\n",
       "    <tr>\n",
       "      <th>4</th>\n",
       "      <td>2019-08-05</td>\n",
       "      <td>A</td>\n",
       "      <td>756</td>\n",
       "    </tr>\n",
       "  </tbody>\n",
       "</table>\n",
       "</div>"
      ],
      "text/plain": [
       "         date group  visitors\n",
       "0  2019-08-01     A       719\n",
       "1  2019-08-02     A       619\n",
       "2  2019-08-03     A       507\n",
       "3  2019-08-04     A       717\n",
       "4  2019-08-05     A       756"
      ]
     },
     "metadata": {},
     "output_type": "display_data"
    }
   ],
   "source": [
    "orders.info()\n",
    "print(50 * '-')\n",
    "visitors.info()\n",
    "\n",
    "display(orders.head(), 50 * '-', visitors.head())"
   ]
  },
  {
   "cell_type": "markdown",
   "metadata": {},
   "source": [
    "Изменим тип данных столбцов с датами на 'datetime'."
   ]
  },
  {
   "cell_type": "code",
   "execution_count": 10,
   "metadata": {},
   "outputs": [],
   "source": [
    "orders['date'] = pd.to_datetime(orders['date'])\n",
    "visitors['date'] = pd.to_datetime(visitors['date'])"
   ]
  },
  {
   "cell_type": "markdown",
   "metadata": {},
   "source": [
    "Проверим."
   ]
  },
  {
   "cell_type": "code",
   "execution_count": 11,
   "metadata": {},
   "outputs": [
    {
     "name": "stdout",
     "output_type": "stream",
     "text": [
      "<class 'pandas.core.frame.DataFrame'>\n",
      "RangeIndex: 1197 entries, 0 to 1196\n",
      "Data columns (total 5 columns):\n",
      " #   Column         Non-Null Count  Dtype         \n",
      "---  ------         --------------  -----         \n",
      " 0   transactionId  1197 non-null   int64         \n",
      " 1   visitorId      1197 non-null   int64         \n",
      " 2   date           1197 non-null   datetime64[ns]\n",
      " 3   revenue        1197 non-null   int64         \n",
      " 4   group          1197 non-null   object        \n",
      "dtypes: datetime64[ns](1), int64(3), object(1)\n",
      "memory usage: 46.9+ KB\n",
      "--------------------------------------------------\n",
      "<class 'pandas.core.frame.DataFrame'>\n",
      "RangeIndex: 62 entries, 0 to 61\n",
      "Data columns (total 3 columns):\n",
      " #   Column    Non-Null Count  Dtype         \n",
      "---  ------    --------------  -----         \n",
      " 0   date      62 non-null     datetime64[ns]\n",
      " 1   group     62 non-null     object        \n",
      " 2   visitors  62 non-null     int64         \n",
      "dtypes: datetime64[ns](1), int64(1), object(1)\n",
      "memory usage: 1.6+ KB\n"
     ]
    }
   ],
   "source": [
    "orders.info()\n",
    "print(50 * '-')\n",
    "visitors.info()"
   ]
  },
  {
   "cell_type": "markdown",
   "metadata": {},
   "source": [
    "Проверим датафреймы на дубликаты."
   ]
  },
  {
   "cell_type": "code",
   "execution_count": 12,
   "metadata": {},
   "outputs": [
    {
     "data": {
      "text/plain": [
       "0"
      ]
     },
     "metadata": {},
     "output_type": "display_data"
    },
    {
     "data": {
      "text/plain": [
       "'-'"
      ]
     },
     "metadata": {},
     "output_type": "display_data"
    },
    {
     "data": {
      "text/plain": [
       "0"
      ]
     },
     "metadata": {},
     "output_type": "display_data"
    }
   ],
   "source": [
    "display(orders.duplicated().sum(), '-',\n",
    "        visitors.duplicated().sum())"
   ]
  },
  {
   "cell_type": "markdown",
   "metadata": {},
   "source": [
    "Дубликатов нет."
   ]
  },
  {
   "cell_type": "markdown",
   "metadata": {},
   "source": [
    "Проверим доли по количеству посетителей по группам теста."
   ]
  },
  {
   "cell_type": "code",
   "execution_count": 13,
   "metadata": {},
   "outputs": [
    {
     "data": {
      "text/plain": [
       "'В группе B на 0.961% больше посетителей, чем в группе A.'"
      ]
     },
     "execution_count": 13,
     "metadata": {},
     "output_type": "execute_result"
    }
   ],
   "source": [
    "f\"В группе B на {round((visitors[visitors['group'] == 'B']['visitors'].sum() / visitors[visitors['group'] == 'A']['visitors'].sum() - 1) * 100, 3)}% больше посетителей, чем в группе A.\""
   ]
  },
  {
   "cell_type": "markdown",
   "metadata": {},
   "source": [
    "Разница не более 1%: группы примерно равны по размеру."
   ]
  },
  {
   "cell_type": "markdown",
   "metadata": {},
   "source": [
    "Посчитаем количество пользователей, которые делали заказы в обеих группах."
   ]
  },
  {
   "cell_type": "code",
   "execution_count": 14,
   "metadata": {},
   "outputs": [
    {
     "data": {
      "text/plain": [
       "58"
      ]
     },
     "execution_count": 14,
     "metadata": {},
     "output_type": "execute_result"
    }
   ],
   "source": [
    "mask = orders.loc[orders['group'] == 'B', 'visitorId'].isin(orders.loc[orders['group'] == 'A', 'visitorId'])\n",
    "visitorId = orders.loc[orders['group'] == 'B', 'visitorId']\n",
    "visitorId[mask].nunique()"
   ]
  },
  {
   "cell_type": "markdown",
   "metadata": {},
   "source": [
    "58 пользователей совершали заказы, находясь в обеих группах. \n",
    "\n",
    "Мы не можем их удалить, так как таблица с визитами агрегирована, поэтому придется их оставить."
   ]
  },
  {
   "cell_type": "markdown",
   "metadata": {},
   "source": [
    "### Построение графика кумулятивной выручки по группам"
   ]
  },
  {
   "cell_type": "markdown",
   "metadata": {},
   "source": [
    "Для построения графика создадим датафрейм `cumulativeData` с кумулятивными данными.\n",
    "Сначала создадим массив уникальных значений дат и групп теста."
   ]
  },
  {
   "cell_type": "code",
   "execution_count": 15,
   "metadata": {},
   "outputs": [],
   "source": [
    "datesGroups = orders[['date', 'group']].drop_duplicates()"
   ]
  },
  {
   "cell_type": "markdown",
   "metadata": {},
   "source": [
    "Теперь создадим агрегированные датафреймы для `orders` и `visitors` с кумулятивными данными для каждой даты с количеством заказов и пользователей и суммой средних чеков или сумой посетителей."
   ]
  },
  {
   "cell_type": "code",
   "execution_count": 16,
   "metadata": {},
   "outputs": [],
   "source": [
    "ordersAggregated = datesGroups.apply(\n",
    "    lambda x: orders[np.logical_and(\n",
    "        orders['date'] <= x['date'], orders['group'] == x['group']\n",
    "    )\n",
    "    ].agg(\n",
    "        {\n",
    "            'date': 'max',\n",
    "            'group': 'max',\n",
    "            'transactionId': 'nunique',\n",
    "            'visitorId': 'nunique',\n",
    "            'revenue': 'sum'\n",
    "        }), \n",
    "    axis=1\n",
    ").sort_values(by=['date', 'group'])\n",
    "\n",
    "visitorsAggregated = datesGroups.apply(\n",
    "    lambda x: visitors[np.logical_and(\n",
    "        visitors['date'] <= x['date'], visitors['group'] == x['group']\n",
    "    )\n",
    "    ].agg(\n",
    "        {\n",
    "            'date': 'max',\n",
    "            'group': 'max',\n",
    "            'visitors': 'sum'\n",
    "        }), \n",
    "    axis=1\n",
    ").sort_values(by=['date', 'group'])"
   ]
  },
  {
   "cell_type": "markdown",
   "metadata": {},
   "source": [
    "Объединим датафреймы и переименуем столбцы."
   ]
  },
  {
   "cell_type": "code",
   "execution_count": 17,
   "metadata": {},
   "outputs": [
    {
     "data": {
      "text/html": [
       "<div>\n",
       "<style scoped>\n",
       "    .dataframe tbody tr th:only-of-type {\n",
       "        vertical-align: middle;\n",
       "    }\n",
       "\n",
       "    .dataframe tbody tr th {\n",
       "        vertical-align: top;\n",
       "    }\n",
       "\n",
       "    .dataframe thead th {\n",
       "        text-align: right;\n",
       "    }\n",
       "</style>\n",
       "<table border=\"1\" class=\"dataframe\">\n",
       "  <thead>\n",
       "    <tr style=\"text-align: right;\">\n",
       "      <th></th>\n",
       "      <th>date</th>\n",
       "      <th>group</th>\n",
       "      <th>orders</th>\n",
       "      <th>buyers</th>\n",
       "      <th>revenue</th>\n",
       "      <th>visitors</th>\n",
       "    </tr>\n",
       "  </thead>\n",
       "  <tbody>\n",
       "    <tr>\n",
       "      <th>0</th>\n",
       "      <td>2019-08-01</td>\n",
       "      <td>A</td>\n",
       "      <td>24</td>\n",
       "      <td>20</td>\n",
       "      <td>148579</td>\n",
       "      <td>719</td>\n",
       "    </tr>\n",
       "    <tr>\n",
       "      <th>1</th>\n",
       "      <td>2019-08-01</td>\n",
       "      <td>B</td>\n",
       "      <td>21</td>\n",
       "      <td>20</td>\n",
       "      <td>101217</td>\n",
       "      <td>713</td>\n",
       "    </tr>\n",
       "    <tr>\n",
       "      <th>2</th>\n",
       "      <td>2019-08-02</td>\n",
       "      <td>A</td>\n",
       "      <td>44</td>\n",
       "      <td>38</td>\n",
       "      <td>242401</td>\n",
       "      <td>1338</td>\n",
       "    </tr>\n",
       "    <tr>\n",
       "      <th>3</th>\n",
       "      <td>2019-08-02</td>\n",
       "      <td>B</td>\n",
       "      <td>45</td>\n",
       "      <td>43</td>\n",
       "      <td>266748</td>\n",
       "      <td>1294</td>\n",
       "    </tr>\n",
       "    <tr>\n",
       "      <th>4</th>\n",
       "      <td>2019-08-03</td>\n",
       "      <td>A</td>\n",
       "      <td>68</td>\n",
       "      <td>62</td>\n",
       "      <td>354874</td>\n",
       "      <td>1845</td>\n",
       "    </tr>\n",
       "  </tbody>\n",
       "</table>\n",
       "</div>"
      ],
      "text/plain": [
       "        date group  orders  buyers  revenue  visitors\n",
       "0 2019-08-01     A      24      20   148579       719\n",
       "1 2019-08-01     B      21      20   101217       713\n",
       "2 2019-08-02     A      44      38   242401      1338\n",
       "3 2019-08-02     B      45      43   266748      1294\n",
       "4 2019-08-03     A      68      62   354874      1845"
      ]
     },
     "execution_count": 17,
     "metadata": {},
     "output_type": "execute_result"
    }
   ],
   "source": [
    "cumulativeData = ordersAggregated.merge(visitorsAggregated, on=['date', 'group'])\n",
    "\n",
    "cumulativeData.columns = ['date', 'group', 'orders', 'buyers', 'revenue', 'visitors']\n",
    "\n",
    "cumulativeData.head()"
   ]
  },
  {
   "cell_type": "markdown",
   "metadata": {},
   "source": [
    "Создадим датафреймы с кумулятивным количеством заказов и кумулятивной выручкой по дням в группах A и B."
   ]
  },
  {
   "cell_type": "code",
   "execution_count": 18,
   "metadata": {},
   "outputs": [],
   "source": [
    "cumulativeRevenueA = cumulativeData[cumulativeData['group'] == 'A'][['date', 'revenue', 'orders']]\n",
    "cumulativeRevenueB = cumulativeData[cumulativeData['group'] == 'B'][['date', 'revenue', 'orders']]"
   ]
  },
  {
   "cell_type": "markdown",
   "metadata": {},
   "source": [
    "Построим графики кумулятивной выручки по группам."
   ]
  },
  {
   "cell_type": "code",
   "execution_count": 19,
   "metadata": {},
   "outputs": [
    {
     "data": {
      "image/png": "[encoded data removed]",
      "text/plain": [
       "<Figure size 432x288 with 1 Axes>"
      ]
     },
     "metadata": {
      "needs_background": "light"
     },
     "output_type": "display_data"
    }
   ],
   "source": [
    "plt.plot(cumulativeRevenueA['date'], cumulativeRevenueA['revenue'], label='A')\n",
    "\n",
    "plt.plot(cumulativeRevenueB['date'], cumulativeRevenueB['revenue'], label='B')\n",
    "\n",
    "plt.title('График кумулятивной выручки по группам')\n",
    "plt.xlabel('Дата')\n",
    "plt.ylabel('Кумулятивная выручка, руб.')\n",
    "plt.xticks(rotation=70)\n",
    "plt.legend()\n",
    "plt.show()"
   ]
  },
  {
   "cell_type": "markdown",
   "metadata": {},
   "source": [
    "#### Вывод\n",
    "Графики кумулятивной выручки почти равномерно растут в обеях группах. Но в некоторых местах график резко возрастает: это может говорить о выбросах (либо большое количество заказов либо очень большой заказ)."
   ]
  },
  {
   "cell_type": "markdown",
   "metadata": {},
   "source": [
    "### Построение графика кумулятивного среднего чека по группам"
   ]
  },
  {
   "cell_type": "markdown",
   "metadata": {},
   "source": [
    "Построим графики кумулятивного среднего чека по группам."
   ]
  },
  {
   "cell_type": "code",
   "execution_count": 20,
   "metadata": {},
   "outputs": [
    {
     "data": {
      "image/png": "[encoded data removed]",
      "text/plain": [
       "<Figure size 432x288 with 1 Axes>"
      ]
     },
     "metadata": {
      "needs_background": "light"
     },
     "output_type": "display_data"
    }
   ],
   "source": [
    "plt.plot(cumulativeRevenueA['date'], cumulativeRevenueA['revenue'] / cumulativeRevenueA['orders'], label='A')\n",
    "\n",
    "plt.plot(cumulativeRevenueB['date'], cumulativeRevenueB['revenue'] / cumulativeRevenueB['orders'], label='B')\n",
    "\n",
    "plt.title('График кумулятивного среднего чека по группам')\n",
    "plt.xlabel('Дата')\n",
    "plt.ylabel('Кумулятивный средний чек, руб.')\n",
    "plt.xticks(rotation=70)\n",
    "plt.legend()\n",
    "plt.show()"
   ]
  },
  {
   "cell_type": "markdown",
   "metadata": {},
   "source": [
    "#### Вывод\n",
    "Средний чек установился для группы A, а для группы B нет: ей нужно больше данных, чтобы прийти к реальному среднему чеку и установиться на его уровне. Принимать решение по этой метрике рано. Также есть аномалии: резкие скачки графика."
   ]
  },
  {
   "cell_type": "markdown",
   "metadata": {},
   "source": [
    "### Построение графика относительного изменения кумулятивного среднего чека группы B к группе A \n",
    "<a id='section3'></a>"
   ]
  },
  {
   "cell_type": "markdown",
   "metadata": {},
   "source": [
    "Объединим датафреймы с кумулятивным количеством заказов и кумулятивной выручкой по дням в группах A и B."
   ]
  },
  {
   "cell_type": "code",
   "execution_count": 21,
   "metadata": {},
   "outputs": [],
   "source": [
    "mergedCumulativeRevenue = cumulativeRevenueA.merge(cumulativeRevenueB, on='date', how='left', suffixes=['A', 'B'])"
   ]
  },
  {
   "cell_type": "markdown",
   "metadata": {},
   "source": [
    "Построим график относительного изменения кумулятивного среднего чека группы B к группе A."
   ]
  },
  {
   "cell_type": "code",
   "execution_count": 22,
   "metadata": {},
   "outputs": [
    {
     "data": {
      "image/png": "[encoded data removed]",
      "text/plain": [
       "<Figure size 864x504 with 1 Axes>"
      ]
     },
     "metadata": {
      "needs_background": "light"
     },
     "output_type": "display_data"
    },
    {
     "data": {
      "text/plain": [
       "<Figure size 504x1008 with 0 Axes>"
      ]
     },
     "metadata": {},
     "output_type": "display_data"
    }
   ],
   "source": [
    "plt.figure(figsize=(12, 7))\n",
    "plt.plot(mergedCumulativeRevenue['date'], (mergedCumulativeRevenue['revenueB']/mergedCumulativeRevenue['ordersB'])/(mergedCumulativeRevenue['revenueA']/mergedCumulativeRevenue['ordersA'])-1)\n",
    "\n",
    "plt.axhline(y=0, linestyle=':', color='black')\n",
    "\n",
    "plt.title('График относительного изменения кумулятивного среднего чека группы B к группе A')\n",
    "plt.xlabel('Дата')\n",
    "plt.ylabel('Относительное изменение кумулятивного среднего чека группы B к группе A')\n",
    "plt.xticks(rotation=70)\n",
    "plt.figure(figsize=(7, 14))\n",
    "plt.show()"
   ]
  },
  {
   "cell_type": "markdown",
   "metadata": {},
   "source": [
    "#### Вывод\n",
    "График относительного изменения кумулятивного среднего чека группы B к группе A резко менялся в некоторые даты: скорее всего, в эти даты произошли аномалии."
   ]
  },
  {
   "cell_type": "markdown",
   "metadata": {},
   "source": [
    "### Построение графика кумулятивной конверсии по группам"
   ]
  },
  {
   "cell_type": "markdown",
   "metadata": {},
   "source": [
    "Создадим новый столбец с конверсией."
   ]
  },
  {
   "cell_type": "code",
   "execution_count": 23,
   "metadata": {},
   "outputs": [],
   "source": [
    "cumulativeData['conversion'] = cumulativeData['orders'] / cumulativeData['visitors']"
   ]
  },
  {
   "cell_type": "markdown",
   "metadata": {},
   "source": [
    "Создадим датафреймы с кумулятивными данными по группам и построим графики кумулятивной конверсии по группам."
   ]
  },
  {
   "cell_type": "code",
   "execution_count": 24,
   "metadata": {},
   "outputs": [
    {
     "data": {
      "image/png": "[encoded data removed]",
      "text/plain": [
       "<Figure size 432x288 with 1 Axes>"
      ]
     },
     "metadata": {
      "needs_background": "light"
     },
     "output_type": "display_data"
    }
   ],
   "source": [
    "cumulativeDataA = cumulativeData[cumulativeData['group'] == 'A']\n",
    "cumulativeDataB = cumulativeData[cumulativeData['group'] == 'B']\n",
    "\n",
    "plt.plot(cumulativeDataA['date'], cumulativeDataA['conversion'], label='A')\n",
    "plt.plot(cumulativeDataB['date'], cumulativeDataB['conversion'], label='B')\n",
    "\n",
    "plt.xticks(rotation=70)\n",
    "plt.legend()\n",
    "plt.axis([dt.datetime(2019, 8, 1), dt.datetime(2019, 9, 1), 0, 0.05])\n",
    "plt.show()"
   ]
  },
  {
   "cell_type": "markdown",
   "metadata": {},
   "source": [
    "#### Вывод\n",
    "В начале теста группа A имела большую конверсию, чем группа B, но в дальнейшем графики выровнялись: конверсия группы B стабилизировалась около большего значения, чем конверсия группы A."
   ]
  },
  {
   "cell_type": "markdown",
   "metadata": {},
   "source": [
    "### Построение графика относительного изменения кумулятивной конверсии группы B к группе A \n",
    "<a id='section5'></a>"
   ]
  },
  {
   "cell_type": "markdown",
   "metadata": {},
   "source": [
    "Построим график относительного изменения кумулятивных конверсий."
   ]
  },
  {
   "cell_type": "code",
   "execution_count": 25,
   "metadata": {},
   "outputs": [
    {
     "data": {
      "image/png": "[encoded data removed]",
      "text/plain": [
       "<Figure size 432x288 with 1 Axes>"
      ]
     },
     "metadata": {
      "needs_background": "light"
     },
     "output_type": "display_data"
    }
   ],
   "source": [
    "mergedCumulativeConversions = cumulativeDataA[['date','conversion']].merge(cumulativeDataB[['date','conversion']], left_on='date', right_on='date', how='left', suffixes=['A', 'B'])\n",
    "\n",
    "plt.plot(mergedCumulativeConversions['date'], mergedCumulativeConversions['conversionB']/mergedCumulativeConversions['conversionA']-1, label=\"Относительный прирост конверсии группы B относительно группы A\")\n",
    "plt.legend()\n",
    "\n",
    "plt.axhline(y=0, color='black', linestyle='--')\n",
    "plt.axhline(y=0.14, color='grey', linestyle='--')\n",
    "\n",
    "plt.xticks(rotation=70)\n",
    "plt.axis([\"2019-08-01\", '2019-09-01', -0.5, 0.5]) \n",
    "plt.show()"
   ]
  },
  {
   "cell_type": "markdown",
   "metadata": {},
   "source": [
    "#### Вывод\n",
    "Почти с самого начала группа B лидирует по конверсии: сейчас она зафиксировалась около прироста примерно в 15% относительно группы A."
   ]
  },
  {
   "cell_type": "markdown",
   "metadata": {},
   "source": [
    "### Построение точечного графика количества заказов по пользователям"
   ]
  },
  {
   "cell_type": "markdown",
   "metadata": {},
   "source": [
    "Создадим датафрейм количества заказов по пользователям и переименуем столбцы."
   ]
  },
  {
   "cell_type": "code",
   "execution_count": 26,
   "metadata": {},
   "outputs": [
    {
     "data": {
      "text/html": [
       "<div>\n",
       "<style scoped>\n",
       "    .dataframe tbody tr th:only-of-type {\n",
       "        vertical-align: middle;\n",
       "    }\n",
       "\n",
       "    .dataframe tbody tr th {\n",
       "        vertical-align: top;\n",
       "    }\n",
       "\n",
       "    .dataframe thead th {\n",
       "        text-align: right;\n",
       "    }\n",
       "</style>\n",
       "<table border=\"1\" class=\"dataframe\">\n",
       "  <thead>\n",
       "    <tr style=\"text-align: right;\">\n",
       "      <th></th>\n",
       "      <th>userId</th>\n",
       "      <th>orders</th>\n",
       "    </tr>\n",
       "  </thead>\n",
       "  <tbody>\n",
       "    <tr>\n",
       "      <th>1023</th>\n",
       "      <td>4256040402</td>\n",
       "      <td>11</td>\n",
       "    </tr>\n",
       "    <tr>\n",
       "      <th>591</th>\n",
       "      <td>2458001652</td>\n",
       "      <td>11</td>\n",
       "    </tr>\n",
       "    <tr>\n",
       "      <th>569</th>\n",
       "      <td>2378935119</td>\n",
       "      <td>9</td>\n",
       "    </tr>\n",
       "    <tr>\n",
       "      <th>487</th>\n",
       "      <td>2038680547</td>\n",
       "      <td>8</td>\n",
       "    </tr>\n",
       "    <tr>\n",
       "      <th>44</th>\n",
       "      <td>199603092</td>\n",
       "      <td>5</td>\n",
       "    </tr>\n",
       "    <tr>\n",
       "      <th>744</th>\n",
       "      <td>3062433592</td>\n",
       "      <td>5</td>\n",
       "    </tr>\n",
       "    <tr>\n",
       "      <th>55</th>\n",
       "      <td>237748145</td>\n",
       "      <td>5</td>\n",
       "    </tr>\n",
       "    <tr>\n",
       "      <th>917</th>\n",
       "      <td>3803269165</td>\n",
       "      <td>5</td>\n",
       "    </tr>\n",
       "    <tr>\n",
       "      <th>299</th>\n",
       "      <td>1230306981</td>\n",
       "      <td>5</td>\n",
       "    </tr>\n",
       "    <tr>\n",
       "      <th>897</th>\n",
       "      <td>3717692402</td>\n",
       "      <td>5</td>\n",
       "    </tr>\n",
       "  </tbody>\n",
       "</table>\n",
       "</div>"
      ],
      "text/plain": [
       "          userId  orders\n",
       "1023  4256040402      11\n",
       "591   2458001652      11\n",
       "569   2378935119       9\n",
       "487   2038680547       8\n",
       "44     199603092       5\n",
       "744   3062433592       5\n",
       "55     237748145       5\n",
       "917   3803269165       5\n",
       "299   1230306981       5\n",
       "897   3717692402       5"
      ]
     },
     "execution_count": 26,
     "metadata": {},
     "output_type": "execute_result"
    }
   ],
   "source": [
    "ordersByUsers = (\n",
    "    orders.groupby('visitorId', as_index=False)\n",
    "    .agg({'transactionId': 'nunique'})\n",
    ")\n",
    "ordersByUsers.columns = ['userId', 'orders']\n",
    "\n",
    "ordersByUsers.sort_values(by='orders', ascending=False).head(10)"
   ]
  },
  {
   "cell_type": "markdown",
   "metadata": {},
   "source": [
    "Построим точечный график количества заказов по пользователям."
   ]
  },
  {
   "cell_type": "code",
   "execution_count": 27,
   "metadata": {},
   "outputs": [
    {
     "data": {
      "image/png": "[encoded data removed]",
      "text/plain": [
       "<Figure size 432x288 with 1 Axes>"
      ]
     },
     "metadata": {
      "needs_background": "light"
     },
     "output_type": "display_data"
    }
   ],
   "source": [
    "x_values = pd.Series(range(0, len(ordersByUsers)))\n",
    "\n",
    "plt.scatter(x_values, ordersByUsers['orders'])\n",
    "plt.show()"
   ]
  },
  {
   "cell_type": "markdown",
   "metadata": {},
   "source": [
    "#### Вывод\n",
    "По точечному графику количества заказов по пользователям видно, что пользователей, сделавших больше двух заказов, очень мало. Скорее всего, это аномалии."
   ]
  },
  {
   "cell_type": "markdown",
   "metadata": {},
   "source": [
    "### Рассчет 95-го и 99-го перцентилей количества заказов на пользователя"
   ]
  },
  {
   "cell_type": "markdown",
   "metadata": {},
   "source": [
    "Рассчитаем 95-й и 99-й перцентили количества заказов на пользователя."
   ]
  },
  {
   "cell_type": "code",
   "execution_count": 28,
   "metadata": {},
   "outputs": [
    {
     "data": {
      "text/plain": [
       "array([2., 4.])"
      ]
     },
     "execution_count": 28,
     "metadata": {},
     "output_type": "execute_result"
    }
   ],
   "source": [
    "np.percentile(ordersByUsers['orders'], [95, 99])"
   ]
  },
  {
   "cell_type": "markdown",
   "metadata": {},
   "source": [
    "#### Вывод\n",
    "Не более 5% пользователей совершали более 2 заказов и не более 1% – 4 заказа. Можно выбрать 2 заказ как нижнюю границу аномальных значений."
   ]
  },
  {
   "cell_type": "markdown",
   "metadata": {},
   "source": [
    "### Построение точечного графика стоимостей заказов"
   ]
  },
  {
   "cell_type": "markdown",
   "metadata": {},
   "source": [
    "Аналогично пункту 2.6 построим точечный график стоимостей заказов."
   ]
  },
  {
   "cell_type": "code",
   "execution_count": 29,
   "metadata": {},
   "outputs": [
    {
     "data": {
      "text/html": [
       "<div>\n",
       "<style scoped>\n",
       "    .dataframe tbody tr th:only-of-type {\n",
       "        vertical-align: middle;\n",
       "    }\n",
       "\n",
       "    .dataframe tbody tr th {\n",
       "        vertical-align: top;\n",
       "    }\n",
       "\n",
       "    .dataframe thead th {\n",
       "        text-align: right;\n",
       "    }\n",
       "</style>\n",
       "<table border=\"1\" class=\"dataframe\">\n",
       "  <thead>\n",
       "    <tr style=\"text-align: right;\">\n",
       "      <th></th>\n",
       "      <th>transactionId</th>\n",
       "      <th>visitorId</th>\n",
       "      <th>date</th>\n",
       "      <th>revenue</th>\n",
       "      <th>group</th>\n",
       "    </tr>\n",
       "  </thead>\n",
       "  <tbody>\n",
       "    <tr>\n",
       "      <th>425</th>\n",
       "      <td>590470918</td>\n",
       "      <td>1920142716</td>\n",
       "      <td>2019-08-19</td>\n",
       "      <td>1294500</td>\n",
       "      <td>B</td>\n",
       "    </tr>\n",
       "    <tr>\n",
       "      <th>1196</th>\n",
       "      <td>3936777065</td>\n",
       "      <td>2108080724</td>\n",
       "      <td>2019-08-15</td>\n",
       "      <td>202740</td>\n",
       "      <td>B</td>\n",
       "    </tr>\n",
       "    <tr>\n",
       "      <th>858</th>\n",
       "      <td>192721366</td>\n",
       "      <td>1316129916</td>\n",
       "      <td>2019-08-27</td>\n",
       "      <td>93940</td>\n",
       "      <td>A</td>\n",
       "    </tr>\n",
       "    <tr>\n",
       "      <th>1136</th>\n",
       "      <td>666610489</td>\n",
       "      <td>1307669133</td>\n",
       "      <td>2019-08-13</td>\n",
       "      <td>92550</td>\n",
       "      <td>A</td>\n",
       "    </tr>\n",
       "    <tr>\n",
       "      <th>744</th>\n",
       "      <td>3668308183</td>\n",
       "      <td>888512513</td>\n",
       "      <td>2019-08-27</td>\n",
       "      <td>86620</td>\n",
       "      <td>B</td>\n",
       "    </tr>\n",
       "    <tr>\n",
       "      <th>682</th>\n",
       "      <td>1216533772</td>\n",
       "      <td>4266935830</td>\n",
       "      <td>2019-08-29</td>\n",
       "      <td>78990</td>\n",
       "      <td>B</td>\n",
       "    </tr>\n",
       "    <tr>\n",
       "      <th>662</th>\n",
       "      <td>1811671147</td>\n",
       "      <td>4266935830</td>\n",
       "      <td>2019-08-29</td>\n",
       "      <td>78990</td>\n",
       "      <td>A</td>\n",
       "    </tr>\n",
       "    <tr>\n",
       "      <th>743</th>\n",
       "      <td>3603576309</td>\n",
       "      <td>4133034833</td>\n",
       "      <td>2019-08-09</td>\n",
       "      <td>67990</td>\n",
       "      <td>A</td>\n",
       "    </tr>\n",
       "    <tr>\n",
       "      <th>1103</th>\n",
       "      <td>1348774318</td>\n",
       "      <td>1164614297</td>\n",
       "      <td>2019-08-12</td>\n",
       "      <td>66350</td>\n",
       "      <td>A</td>\n",
       "    </tr>\n",
       "    <tr>\n",
       "      <th>1099</th>\n",
       "      <td>316924019</td>\n",
       "      <td>148427295</td>\n",
       "      <td>2019-08-12</td>\n",
       "      <td>65710</td>\n",
       "      <td>A</td>\n",
       "    </tr>\n",
       "  </tbody>\n",
       "</table>\n",
       "</div>"
      ],
      "text/plain": [
       "      transactionId   visitorId       date  revenue group\n",
       "425       590470918  1920142716 2019-08-19  1294500     B\n",
       "1196     3936777065  2108080724 2019-08-15   202740     B\n",
       "858       192721366  1316129916 2019-08-27    93940     A\n",
       "1136      666610489  1307669133 2019-08-13    92550     A\n",
       "744      3668308183   888512513 2019-08-27    86620     B\n",
       "682      1216533772  4266935830 2019-08-29    78990     B\n",
       "662      1811671147  4266935830 2019-08-29    78990     A\n",
       "743      3603576309  4133034833 2019-08-09    67990     A\n",
       "1103     1348774318  1164614297 2019-08-12    66350     A\n",
       "1099      316924019   148427295 2019-08-12    65710     A"
      ]
     },
     "metadata": {},
     "output_type": "display_data"
    },
    {
     "data": {
      "image/png": "[encoded data removed]",
      "text/plain": [
       "<Figure size 432x288 with 1 Axes>"
      ]
     },
     "metadata": {
      "needs_background": "light"
     },
     "output_type": "display_data"
    }
   ],
   "source": [
    "display(orders.sort_values(by='revenue', ascending=False).head(10))\n",
    "\n",
    "x_values = pd.Series(range(0, len(orders['revenue'])))\n",
    "plt.scatter(x_values, orders['revenue'])\n",
    "plt.show()"
   ]
  },
  {
   "cell_type": "markdown",
   "metadata": {},
   "source": [
    "#### Вывод\n",
    "Заказов стоимостью более 100000 руб. почти нет. Скорее всего, это нижняя граница аномальных значений."
   ]
  },
  {
   "cell_type": "markdown",
   "metadata": {},
   "source": [
    "### Рассчет 95-го и 99-го перцентилей стоимости заказов"
   ]
  },
  {
   "cell_type": "markdown",
   "metadata": {},
   "source": [
    "Посчитаем 95-й и 99-й перцентили стоимости заказов."
   ]
  },
  {
   "cell_type": "code",
   "execution_count": 30,
   "metadata": {},
   "outputs": [
    {
     "data": {
      "text/plain": [
       "array([28000. , 58233.2])"
      ]
     },
     "execution_count": 30,
     "metadata": {},
     "output_type": "execute_result"
    }
   ],
   "source": [
    "np.percentile(orders['revenue'], [95, 99])"
   ]
  },
  {
   "cell_type": "markdown",
   "metadata": {},
   "source": [
    "#### Вывод\n",
    "Не более 5% заказов имеют стоимость более 28000 руб., не более 1% закозов – стоимость более 58233 руб. Выберем нижнюю границу аномальных значений 28000 руб."
   ]
  },
  {
   "cell_type": "markdown",
   "metadata": {},
   "source": [
    "### Рассчет статистической значимости различий в среднем количестве заказов между группами по «сырым» данным"
   ]
  },
  {
   "cell_type": "markdown",
   "metadata": {},
   "source": [
    "Создадим датафрейм `data` с данными о количестве и выручке заказов, количестве пользователей по выбранной и дате и кумулятивными данными с этими значениями."
   ]
  },
  {
   "cell_type": "code",
   "execution_count": 31,
   "metadata": {},
   "outputs": [
    {
     "data": {
      "text/html": [
       "<div>\n",
       "<style scoped>\n",
       "    .dataframe tbody tr th:only-of-type {\n",
       "        vertical-align: middle;\n",
       "    }\n",
       "\n",
       "    .dataframe tbody tr th {\n",
       "        vertical-align: top;\n",
       "    }\n",
       "\n",
       "    .dataframe thead th {\n",
       "        text-align: right;\n",
       "    }\n",
       "</style>\n",
       "<table border=\"1\" class=\"dataframe\">\n",
       "  <thead>\n",
       "    <tr style=\"text-align: right;\">\n",
       "      <th></th>\n",
       "      <th>date</th>\n",
       "      <th>ordersPerDateA</th>\n",
       "      <th>revenuePerDateA</th>\n",
       "      <th>ordersPerDateB</th>\n",
       "      <th>revenuePerDateB</th>\n",
       "      <th>ordersCummulativeA</th>\n",
       "      <th>revenueCummulativeA</th>\n",
       "      <th>ordersCummulativeB</th>\n",
       "      <th>revenueCummulativeB</th>\n",
       "      <th>visitorsPerDateA</th>\n",
       "      <th>visitorsPerDateB</th>\n",
       "      <th>visitorsCummulativeA</th>\n",
       "      <th>visitorsCummulativeB</th>\n",
       "    </tr>\n",
       "  </thead>\n",
       "  <tbody>\n",
       "    <tr>\n",
       "      <th>0</th>\n",
       "      <td>2019-08-01</td>\n",
       "      <td>24</td>\n",
       "      <td>148579</td>\n",
       "      <td>21</td>\n",
       "      <td>101217</td>\n",
       "      <td>24</td>\n",
       "      <td>148579</td>\n",
       "      <td>21</td>\n",
       "      <td>101217</td>\n",
       "      <td>719</td>\n",
       "      <td>713</td>\n",
       "      <td>719</td>\n",
       "      <td>713</td>\n",
       "    </tr>\n",
       "    <tr>\n",
       "      <th>1</th>\n",
       "      <td>2019-08-02</td>\n",
       "      <td>20</td>\n",
       "      <td>93822</td>\n",
       "      <td>24</td>\n",
       "      <td>165531</td>\n",
       "      <td>44</td>\n",
       "      <td>242401</td>\n",
       "      <td>45</td>\n",
       "      <td>266748</td>\n",
       "      <td>619</td>\n",
       "      <td>581</td>\n",
       "      <td>1338</td>\n",
       "      <td>1294</td>\n",
       "    </tr>\n",
       "    <tr>\n",
       "      <th>2</th>\n",
       "      <td>2019-08-03</td>\n",
       "      <td>24</td>\n",
       "      <td>112473</td>\n",
       "      <td>16</td>\n",
       "      <td>114248</td>\n",
       "      <td>68</td>\n",
       "      <td>354874</td>\n",
       "      <td>61</td>\n",
       "      <td>380996</td>\n",
       "      <td>507</td>\n",
       "      <td>509</td>\n",
       "      <td>1845</td>\n",
       "      <td>1803</td>\n",
       "    </tr>\n",
       "    <tr>\n",
       "      <th>3</th>\n",
       "      <td>2019-08-04</td>\n",
       "      <td>16</td>\n",
       "      <td>70825</td>\n",
       "      <td>17</td>\n",
       "      <td>108571</td>\n",
       "      <td>84</td>\n",
       "      <td>425699</td>\n",
       "      <td>78</td>\n",
       "      <td>489567</td>\n",
       "      <td>717</td>\n",
       "      <td>770</td>\n",
       "      <td>2562</td>\n",
       "      <td>2573</td>\n",
       "    </tr>\n",
       "    <tr>\n",
       "      <th>4</th>\n",
       "      <td>2019-08-05</td>\n",
       "      <td>25</td>\n",
       "      <td>124218</td>\n",
       "      <td>23</td>\n",
       "      <td>92428</td>\n",
       "      <td>109</td>\n",
       "      <td>549917</td>\n",
       "      <td>101</td>\n",
       "      <td>581995</td>\n",
       "      <td>756</td>\n",
       "      <td>707</td>\n",
       "      <td>3318</td>\n",
       "      <td>3280</td>\n",
       "    </tr>\n",
       "  </tbody>\n",
       "</table>\n",
       "</div>"
      ],
      "text/plain": [
       "        date  ordersPerDateA  revenuePerDateA  ordersPerDateB  \\\n",
       "0 2019-08-01              24           148579              21   \n",
       "1 2019-08-02              20            93822              24   \n",
       "2 2019-08-03              24           112473              16   \n",
       "3 2019-08-04              16            70825              17   \n",
       "4 2019-08-05              25           124218              23   \n",
       "\n",
       "   revenuePerDateB  ordersCummulativeA  revenueCummulativeA  \\\n",
       "0           101217                  24               148579   \n",
       "1           165531                  44               242401   \n",
       "2           114248                  68               354874   \n",
       "3           108571                  84               425699   \n",
       "4            92428                 109               549917   \n",
       "\n",
       "   ordersCummulativeB  revenueCummulativeB  visitorsPerDateA  \\\n",
       "0                  21               101217               719   \n",
       "1                  45               266748               619   \n",
       "2                  61               380996               507   \n",
       "3                  78               489567               717   \n",
       "4                 101               581995               756   \n",
       "\n",
       "   visitorsPerDateB  visitorsCummulativeA  visitorsCummulativeB  \n",
       "0               713                   719                   713  \n",
       "1               581                  1338                  1294  \n",
       "2               509                  1845                  1803  \n",
       "3               770                  2562                  2573  \n",
       "4               707                  3318                  3280  "
      ]
     },
     "metadata": {},
     "output_type": "display_data"
    }
   ],
   "source": [
    "visitorsADaily = visitors[visitors['group'] == 'A'][['date', 'visitors']]\n",
    "visitorsADaily.columns = ['date', 'visitorsPerDateA']\n",
    "\n",
    "visitorsACummulative = visitorsADaily.apply(\n",
    "    lambda x: visitorsADaily[visitorsADaily['date'] <= x['date']].agg(\n",
    "        {'date': 'max', 'visitorsPerDateA': 'sum'}\n",
    "    ),\n",
    "    axis=1,\n",
    ")\n",
    "visitorsACummulative.columns = ['date', 'visitorsCummulativeA']\n",
    "\n",
    "visitorsBDaily = visitors[visitors['group'] == 'B'][['date', 'visitors']]\n",
    "visitorsBDaily.columns = ['date', 'visitorsPerDateB']\n",
    "\n",
    "visitorsBCummulative = visitorsBDaily.apply(\n",
    "    lambda x: visitorsBDaily[visitorsBDaily['date'] <= x['date']].agg(\n",
    "        {'date': 'max', 'visitorsPerDateB': 'sum'}\n",
    "    ),\n",
    "    axis=1,\n",
    ")\n",
    "visitorsBCummulative.columns = ['date', 'visitorsCummulativeB']\n",
    "\n",
    "ordersADaily = (\n",
    "    orders[orders['group'] == 'A'][['date', 'transactionId', 'visitorId', 'revenue']]\n",
    "    .groupby('date', as_index=False)\n",
    "    .agg({'transactionId': pd.Series.nunique, 'revenue': 'sum'})\n",
    ")\n",
    "ordersADaily.columns = ['date', 'ordersPerDateA', 'revenuePerDateA']\n",
    "\n",
    "ordersACummulative = ordersADaily.apply(\n",
    "    lambda x: ordersADaily[ordersADaily['date'] <= x['date']].agg(\n",
    "        {'date': 'max', 'ordersPerDateA': 'sum', 'revenuePerDateA': 'sum'}\n",
    "    ),\n",
    "    axis=1,\n",
    ").sort_values(by=['date'])\n",
    "ordersACummulative.columns = [\n",
    "    'date',\n",
    "    'ordersCummulativeA',\n",
    "    'revenueCummulativeA',\n",
    "]\n",
    "\n",
    "ordersBDaily = (\n",
    "    orders[orders['group'] == 'B'][['date', 'transactionId', 'visitorId', 'revenue']]\n",
    "    .groupby('date', as_index=False)\n",
    "    .agg({'transactionId': pd.Series.nunique, 'revenue': 'sum'})\n",
    ")\n",
    "ordersBDaily.columns = ['date', 'ordersPerDateB', 'revenuePerDateB']\n",
    "\n",
    "ordersBCummulative = ordersBDaily.apply(\n",
    "    lambda x: ordersBDaily[ordersBDaily['date'] <= x['date']].agg(\n",
    "        {'date': 'max', 'ordersPerDateB': 'sum', 'revenuePerDateB': 'sum'}\n",
    "    ),\n",
    "    axis=1,\n",
    ").sort_values(by=['date'])\n",
    "ordersBCummulative.columns = [\n",
    "    'date',\n",
    "    'ordersCummulativeB',\n",
    "    'revenueCummulativeB',\n",
    "]\n",
    "\n",
    "data = (\n",
    "    ordersADaily.merge(\n",
    "        ordersBDaily, left_on='date', right_on='date', how='left'\n",
    "    )\n",
    "    .merge(ordersACummulative, left_on='date', right_on='date', how='left')\n",
    "    .merge(ordersBCummulative, left_on='date', right_on='date', how='left')\n",
    "    .merge(visitorsADaily, left_on='date', right_on='date', how='left')\n",
    "    .merge(visitorsBDaily, left_on='date', right_on='date', how='left')\n",
    "    .merge(visitorsACummulative, left_on='date', right_on='date', how='left')\n",
    "    .merge(visitorsBCummulative, left_on='date', right_on='date', how='left')\n",
    ")\n",
    "\n",
    "display(data.head(5))"
   ]
  },
  {
   "cell_type": "markdown",
   "metadata": {},
   "source": [
    "Проверим гипотезу об отсутствии статистически значимой разницы конверсии в группах A и B для \"сырых\" данных.\n",
    "\n",
    "Нулевая гипотеза $H_0$: конверсия в группе A равна конверсии в группе B.\n",
    "\n",
    "Альтернативная гипотеза $H_1$: конверсия в группе A не равна конверсии в группе B.\n",
    "\n",
    "Рассчитаем p-value для сравнения конверсии между группами с помощью критерия Манна-Уитни (критический уровень статистической значимости для всех тестов выберем равным $\\alpha = 5\\% $. Также рассчитаем относительный прирост средней конверсии группы B."
   ]
  },
  {
   "cell_type": "code",
   "execution_count": 32,
   "metadata": {},
   "outputs": [
    {
     "name": "stdout",
     "output_type": "stream",
     "text": [
      "p-value: 0.017\n",
      "Относительный прирост средней конверсии: 0.138\n"
     ]
    }
   ],
   "source": [
    "ordersByUsersA = (\n",
    "    orders[orders['group'] == 'A']\n",
    "    .groupby('visitorId', as_index=False)\n",
    "    .agg({'transactionId': pd.Series.nunique})\n",
    ")\n",
    "ordersByUsersA.columns = ['userId', 'orders']\n",
    "\n",
    "ordersByUsersB = (\n",
    "    orders[orders['group'] == 'B']\n",
    "    .groupby('visitorId', as_index=False)\n",
    "    .agg({'transactionId': pd.Series.nunique})\n",
    ")\n",
    "ordersByUsersB.columns = ['userId', 'orders']\n",
    "\n",
    "sampleA = pd.concat(\n",
    "    [\n",
    "        ordersByUsersA['orders'],\n",
    "        pd.Series(\n",
    "            0,\n",
    "            index=np.arange(\n",
    "                data['visitorsPerDateA'].sum() - len(ordersByUsersA['orders'])\n",
    "            ),\n",
    "            name='orders',\n",
    "        ),\n",
    "    ],\n",
    "    axis=0,\n",
    ")\n",
    "\n",
    "sampleB = pd.concat(\n",
    "    [\n",
    "        ordersByUsersB['orders'],\n",
    "        pd.Series(\n",
    "            0,\n",
    "            index=np.arange(\n",
    "                data['visitorsPerDateB'].sum() - len(ordersByUsersB['orders'])\n",
    "            ),\n",
    "            name='orders',\n",
    "        ),\n",
    "    ],\n",
    "    axis=0,\n",
    ")\n",
    "\n",
    "print(\"p-value: {0:.3f}\".format(st.mannwhitneyu(sampleA, sampleB)[1]))\n",
    "\n",
    "print(\"Относительный прирост средней конверсии: {0:.3f}\".format(sampleB.mean() / sampleA.mean() - 1))"
   ]
  },
  {
   "cell_type": "markdown",
   "metadata": {},
   "source": [
    "#### Вывод\n",
    "p-value меньше 5%, поэтому нулевую гипотезу $H_0$ об отсутствии статистически значимой разницы конверсии в группах A и B по \"сырым\" данным отвергаем."
   ]
  },
  {
   "cell_type": "markdown",
   "metadata": {},
   "source": [
    "### Рассчет статистической значимости различий в среднем чеке заказа между группами по «сырым» данным"
   ]
  },
  {
   "cell_type": "markdown",
   "metadata": {},
   "source": [
    "Проверим гипотезу об отсутствии статистически значимой разницы в среднем чеке заказа в группах A и B для \"сырых\" данных. \n",
    "\n",
    "Нулевая гипотеза $H_0$: средний чек заказа в группе A равен среднему чеку заказа в группе B.\n",
    "\n",
    "Альтернативная гипотеза $H_1$: средний чек заказа в группе A равен среднему чеку заказа в группе B.\n",
    "\n",
    "Рассчитаем p-value для сравнения среднего чека заказа между группами с помощью критерия Манна-Уитни. Также рассчитаем относительный прирост среднего чека заказа группы B."
   ]
  },
  {
   "cell_type": "code",
   "execution_count": 33,
   "metadata": {},
   "outputs": [
    {
     "name": "stdout",
     "output_type": "stream",
     "text": [
      "p-value: 0.729\n",
      "Относительный прирост среднего чека заказа: 0.259\n"
     ]
    }
   ],
   "source": [
    "print(\"p-value: {0:.3f}\"\n",
    "      .format(st.mannwhitneyu(orders[orders['group']=='A']['revenue'], \n",
    "                              orders[orders['group']=='B']['revenue'])[1]))\n",
    "\n",
    "print(\"Относительный прирост среднего чека заказа: {0:.3f}\"\n",
    "      .format(\n",
    "          orders[orders['group']=='B']['revenue'].mean() / \n",
    "          orders[orders['group']=='A']['revenue'].mean() - 1\n",
    "      )\n",
    "     )"
   ]
  },
  {
   "cell_type": "markdown",
   "metadata": {},
   "source": [
    "#### Вывод\n",
    "p-value значительно больше 5%, поэтому статистически значимых отличий в среднем чеке между группами нет.\n",
    "Не можем отвергнуть нулевую гипотезу $H_0$ об отсутствии статистически значимой разницы в среднем чеке заказа в группах A и B по \"сырым\" данным."
   ]
  },
  {
   "cell_type": "markdown",
   "metadata": {},
   "source": [
    "### Рассчет статистической значимости различий в среднем количестве заказов между группами по «очищенным» данным"
   ]
  },
  {
   "cell_type": "markdown",
   "metadata": {},
   "source": [
    "\"Очистим\" данные от аномалий установленным нами ранее нижним границам аномальных значений. Найдем аномальных пользователей."
   ]
  },
  {
   "cell_type": "code",
   "execution_count": 35,
   "metadata": {},
   "outputs": [
    {
     "data": {
      "text/plain": [
       "1099    148427295\n",
       "18      199603092\n",
       "928     204675465\n",
       "23      237748145\n",
       "37      249864742\n",
       "dtype: int64"
      ]
     },
     "execution_count": 35,
     "metadata": {},
     "output_type": "execute_result"
    }
   ],
   "source": [
    "usersWithManyOrders = pd.concat(\n",
    "    [\n",
    "        ordersByUsersA[ordersByUsersA['orders'] > 2]['userId'],\n",
    "        ordersByUsersB[ordersByUsersB['orders'] > 2]['userId'],\n",
    "    ],\n",
    "    axis=0,\n",
    ")\n",
    "\n",
    "usersWithExpensiveOrders = orders[orders['revenue'] > 28000]['visitorId']\n",
    "abnormalUsers = (\n",
    "    pd.concat([usersWithManyOrders, usersWithExpensiveOrders], axis=0)\n",
    "    .drop_duplicates()\n",
    "    .sort_values()\n",
    ")\n",
    "\n",
    "abnormalUsers.head()"
   ]
  },
  {
   "cell_type": "code",
   "execution_count": 36,
   "metadata": {},
   "outputs": [
    {
     "name": "stdout",
     "output_type": "stream",
     "text": [
      "p-value: 0.01304\n",
      "Относительный прирост средней конверсии: 0.173\n"
     ]
    }
   ],
   "source": [
    "sampleAFiltered = pd.concat(\n",
    "    [\n",
    "        ordersByUsersA[\n",
    "            np.logical_not(ordersByUsersA['userId'].isin(abnormalUsers))\n",
    "        ]['orders'],\n",
    "        pd.Series(\n",
    "            0,\n",
    "            index=np.arange(\n",
    "                data['visitorsPerDateA'].sum() - len(ordersByUsersA['orders'])\n",
    "            ),\n",
    "            name='orders',\n",
    "        ),\n",
    "    ],\n",
    "    axis=0,\n",
    ")\n",
    "\n",
    "sampleBFiltered = pd.concat(\n",
    "    [\n",
    "        ordersByUsersB[\n",
    "            np.logical_not(ordersByUsersB['userId'].isin(abnormalUsers))\n",
    "        ]['orders'],\n",
    "        pd.Series(\n",
    "            0,\n",
    "            index=np.arange(\n",
    "                data['visitorsPerDateB'].sum() - len(ordersByUsersB['orders'])\n",
    "            ),\n",
    "            name='orders',\n",
    "        ),\n",
    "    ],\n",
    "    axis=0,\n",
    ")\n",
    "\n",
    "\n",
    "print(\"p-value: {0:.5f}\".format(st.mannwhitneyu(sampleAFiltered, sampleBFiltered)[1]))\n",
    "print(\"Относительный прирост средней конверсии: {0:.3f}\".format(sampleBFiltered.mean()/sampleAFiltered.mean()-1))"
   ]
  },
  {
   "cell_type": "markdown",
   "metadata": {},
   "source": [
    "Проверим гипотезу об отсутствии статистически значимой разницы конверсии в группах A и B для \"очищенных\" данных. Рассчитаем p-value для сравнения конверсии между группами с помощью критерия Манна-Уитни. Также рассчитаем относительный прирост средней конверсии группы B."
   ]
  },
  {
   "cell_type": "markdown",
   "metadata": {},
   "source": [
    "#### Вывод\n",
    "p-value меньше 5%, поэтому нулевую гипотезу $H_0$ об отсутствии статистически значимой разницы конверсии в группах A и B по \"очищенным\" данным отвергаем."
   ]
  },
  {
   "cell_type": "markdown",
   "metadata": {},
   "source": [
    "### Рассчет статистической значимости различий в среднем чеке заказа между группами по «очищенным» данным"
   ]
  },
  {
   "cell_type": "markdown",
   "metadata": {},
   "source": [
    "Проверим гипотезу об отсутствии статистически значимой разницы в среднем чеке заказа в группах A и B для \"очищенных\" данных. \n",
    "\n",
    "Нулевая гипотеза $H_0$: средний чек заказа в группе A равен среднему чеку заказа в группе B.\n",
    "\n",
    "Альтернативная гипотеза $H_1$: средний чек заказа в группе A равен среднему чеку заказа в группе B.\n",
    "\n",
    "Рассчитаем p-value для сравнения среднего чека заказа между группами с помощью критерия Манна-Уитни. Также рассчитаем относительный прирост среднего чека заказа группы B."
   ]
  },
  {
   "cell_type": "code",
   "execution_count": 37,
   "metadata": {},
   "outputs": [
    {
     "name": "stdout",
     "output_type": "stream",
     "text": [
      "p-value: 0.738\n",
      "Относительный прирост среднего чека заказа: -0.020\n"
     ]
    }
   ],
   "source": [
    "print(\n",
    "    \"p-value: {0:.3f}\".format(\n",
    "        st.mannwhitneyu(\n",
    "            orders[\n",
    "                np.logical_and(\n",
    "                    orders['group'] == 'A',\n",
    "                    np.logical_not(orders['visitorId'].isin(abnormalUsers)),\n",
    "                )\n",
    "            ]['revenue'],\n",
    "            orders[\n",
    "                np.logical_and(\n",
    "                    orders['group'] == 'B',\n",
    "                    np.logical_not(orders['visitorId'].isin(abnormalUsers)),\n",
    "                )\n",
    "            ]['revenue'],\n",
    "        )[1]\n",
    "    )\n",
    ")\n",
    "\n",
    "print(\n",
    "    \"Относительный прирост среднего чека заказа: {0:.3f}\".format(\n",
    "        orders[\n",
    "            np.logical_and(\n",
    "                orders['group'] == 'B',\n",
    "                np.logical_not(orders['visitorId'].isin(abnormalUsers)),\n",
    "            )\n",
    "        ]['revenue'].mean()\n",
    "        / orders[\n",
    "            np.logical_and(\n",
    "                orders['group'] == 'A',\n",
    "                np.logical_not(orders['visitorId'].isin(abnormalUsers)),\n",
    "            )\n",
    "        ]['revenue'].mean()\n",
    "        - 1\n",
    "    )\n",
    ")"
   ]
  },
  {
   "cell_type": "markdown",
   "metadata": {},
   "source": [
    "#### Вывод\n",
    "\n",
    "p-value значительно больше 5%, поэтому статистически значимых отличий в среднем чеке между группами нет.\n",
    "Также не можем отвергнуть гипотезу об отсутствии статистически значимой разницы в среднем чеке заказа в группах A и B по \"очищенным\" данным."
   ]
  },
  {
   "cell_type": "markdown",
   "metadata": {},
   "source": [
    "### Решение об остановке A/B-теста"
   ]
  },
  {
   "cell_type": "markdown",
   "metadata": {},
   "source": [
    "Имеем:\n",
    "- есть статистически значимое различие по средней конверсии между группами по \"сырым\" и \"очищенным\" данным;\n",
    "- нет статистически значимого различия по среднему чеку между группами ни по \"сырым\", ни по \"очищенным\" данным;\n",
    "- по [графику относительного изменения кумулятивных конверсий](#section5) видно, что результаты группы B лучше результатов группы A: относительный прирост конверсии стабилизировался около 15%;\n",
    "\n",
    "Получается, что средний чек одинаков в обеих группах, а конверсия выше в группе B: значит, группа B показала лучшие результаты, чем группа A. \n",
    "\n",
    "Остановим тест, зафиксируем победу группы B."
   ]
  }
 ],
 "metadata": {
  "ExecuteTimeLog": [
   {
    "duration": 107,
    "start_time": "2022-07-20T21:11:11.090Z"
   },
   {
    "duration": 447,
    "start_time": "2022-07-20T21:11:14.783Z"
   },
   {
    "duration": 121,
    "start_time": "2022-07-20T21:11:16.440Z"
   },
   {
    "duration": 158,
    "start_time": "2022-07-20T21:11:24.718Z"
   },
   {
    "duration": 26,
    "start_time": "2022-07-20T21:11:31.398Z"
   },
   {
    "duration": 16,
    "start_time": "2022-07-20T21:11:39.717Z"
   },
   {
    "duration": 31,
    "start_time": "2022-07-20T21:11:51.198Z"
   },
   {
    "duration": 5,
    "start_time": "2022-07-20T21:16:33.618Z"
   },
   {
    "duration": 17,
    "start_time": "2022-07-20T21:22:52.800Z"
   },
   {
    "duration": 478,
    "start_time": "2022-07-20T21:23:07.980Z"
   },
   {
    "duration": 59,
    "start_time": "2022-07-20T21:23:08.460Z"
   },
   {
    "duration": 5,
    "start_time": "2022-07-20T21:23:08.520Z"
   },
   {
    "duration": 6,
    "start_time": "2022-07-20T21:23:08.527Z"
   },
   {
    "duration": 7,
    "start_time": "2022-07-20T21:23:08.535Z"
   },
   {
    "duration": 107,
    "start_time": "2022-07-20T21:25:39.135Z"
   },
   {
    "duration": 5,
    "start_time": "2022-07-20T21:26:29.315Z"
   },
   {
    "duration": 17,
    "start_time": "2022-07-20T21:27:00.869Z"
   },
   {
    "duration": 8,
    "start_time": "2022-07-20T21:27:09.495Z"
   },
   {
    "duration": 207,
    "start_time": "2022-07-20T21:37:33.235Z"
   },
   {
    "duration": 17,
    "start_time": "2022-07-20T21:38:03.216Z"
   },
   {
    "duration": 451,
    "start_time": "2022-07-20T21:40:09.337Z"
   },
   {
    "duration": 44,
    "start_time": "2022-07-20T21:40:09.805Z"
   },
   {
    "duration": 14,
    "start_time": "2022-07-20T21:40:09.852Z"
   },
   {
    "duration": 40,
    "start_time": "2022-07-20T21:40:09.868Z"
   },
   {
    "duration": 12,
    "start_time": "2022-07-20T21:40:09.910Z"
   },
   {
    "duration": 10,
    "start_time": "2022-07-20T21:40:09.924Z"
   },
   {
    "duration": 12,
    "start_time": "2022-07-20T21:40:09.936Z"
   },
   {
    "duration": 116,
    "start_time": "2022-07-20T21:40:09.950Z"
   },
   {
    "duration": 106,
    "start_time": "2022-07-20T21:46:26.337Z"
   },
   {
    "duration": 100,
    "start_time": "2022-07-20T21:46:41.878Z"
   },
   {
    "duration": 116,
    "start_time": "2022-07-20T21:47:35.896Z"
   },
   {
    "duration": 99,
    "start_time": "2022-07-20T21:48:07.528Z"
   },
   {
    "duration": 501,
    "start_time": "2022-07-20T21:50:33.072Z"
   },
   {
    "duration": 445,
    "start_time": "2022-07-20T21:51:04.670Z"
   },
   {
    "duration": 47,
    "start_time": "2022-07-20T21:51:05.118Z"
   },
   {
    "duration": 9,
    "start_time": "2022-07-20T21:51:05.168Z"
   },
   {
    "duration": 23,
    "start_time": "2022-07-20T21:51:05.180Z"
   },
   {
    "duration": 9,
    "start_time": "2022-07-20T21:51:05.205Z"
   },
   {
    "duration": 6,
    "start_time": "2022-07-20T21:51:05.216Z"
   },
   {
    "duration": 12,
    "start_time": "2022-07-20T21:51:05.224Z"
   },
   {
    "duration": 111,
    "start_time": "2022-07-20T21:51:05.238Z"
   },
   {
    "duration": 20,
    "start_time": "2022-07-20T21:51:05.352Z"
   },
   {
    "duration": 25,
    "start_time": "2022-07-20T21:51:56.972Z"
   },
   {
    "duration": 8,
    "start_time": "2022-07-20T22:02:28.664Z"
   },
   {
    "duration": 103,
    "start_time": "2022-07-20T22:12:40.379Z"
   },
   {
    "duration": 396,
    "start_time": "2022-07-20T22:13:03.897Z"
   },
   {
    "duration": 35,
    "start_time": "2022-07-20T22:13:04.295Z"
   },
   {
    "duration": 4,
    "start_time": "2022-07-20T22:13:04.332Z"
   },
   {
    "duration": 51,
    "start_time": "2022-07-20T22:13:04.338Z"
   },
   {
    "duration": 14,
    "start_time": "2022-07-20T22:13:04.391Z"
   },
   {
    "duration": 19,
    "start_time": "2022-07-20T22:13:04.406Z"
   },
   {
    "duration": 13,
    "start_time": "2022-07-20T22:13:04.427Z"
   },
   {
    "duration": 98,
    "start_time": "2022-07-20T22:13:04.441Z"
   },
   {
    "duration": 14,
    "start_time": "2022-07-20T22:13:04.541Z"
   },
   {
    "duration": 62,
    "start_time": "2022-07-20T22:13:04.557Z"
   },
   {
    "duration": 5,
    "start_time": "2022-07-20T22:13:04.622Z"
   },
   {
    "duration": 202,
    "start_time": "2022-07-20T22:13:04.629Z"
   },
   {
    "duration": 307,
    "start_time": "2022-07-20T22:14:36.338Z"
   },
   {
    "duration": 536,
    "start_time": "2022-07-20T22:18:09.079Z"
   },
   {
    "duration": 427,
    "start_time": "2022-07-20T22:18:18.873Z"
   },
   {
    "duration": 39,
    "start_time": "2022-07-20T22:18:19.302Z"
   },
   {
    "duration": 5,
    "start_time": "2022-07-20T22:18:19.342Z"
   },
   {
    "duration": 43,
    "start_time": "2022-07-20T22:18:19.350Z"
   },
   {
    "duration": 11,
    "start_time": "2022-07-20T22:18:19.397Z"
   },
   {
    "duration": 8,
    "start_time": "2022-07-20T22:18:19.410Z"
   },
   {
    "duration": 12,
    "start_time": "2022-07-20T22:18:19.420Z"
   },
   {
    "duration": 113,
    "start_time": "2022-07-20T22:18:19.434Z"
   },
   {
    "duration": 22,
    "start_time": "2022-07-20T22:18:19.549Z"
   },
   {
    "duration": 35,
    "start_time": "2022-07-20T22:18:19.573Z"
   },
   {
    "duration": 6,
    "start_time": "2022-07-20T22:18:19.610Z"
   },
   {
    "duration": 334,
    "start_time": "2022-07-20T22:18:19.618Z"
   },
   {
    "duration": 530,
    "start_time": "2022-07-20T22:18:19.954Z"
   },
   {
    "duration": 5,
    "start_time": "2022-07-20T22:18:51.597Z"
   },
   {
    "duration": 23,
    "start_time": "2022-07-20T22:18:57.037Z"
   },
   {
    "duration": 21,
    "start_time": "2022-07-20T22:20:56.567Z"
   },
   {
    "duration": 26,
    "start_time": "2022-07-20T22:21:53.946Z"
   },
   {
    "duration": 25,
    "start_time": "2022-07-20T22:22:23.546Z"
   },
   {
    "duration": 412,
    "start_time": "2022-07-20T22:35:58.176Z"
   },
   {
    "duration": 36,
    "start_time": "2022-07-20T22:35:58.591Z"
   },
   {
    "duration": 5,
    "start_time": "2022-07-20T22:35:58.628Z"
   },
   {
    "duration": 7,
    "start_time": "2022-07-20T22:35:58.634Z"
   },
   {
    "duration": 7,
    "start_time": "2022-07-20T22:35:58.643Z"
   },
   {
    "duration": 37,
    "start_time": "2022-07-20T22:35:58.651Z"
   },
   {
    "duration": 9,
    "start_time": "2022-07-20T22:35:58.690Z"
   },
   {
    "duration": 82,
    "start_time": "2022-07-20T22:35:58.701Z"
   },
   {
    "duration": 18,
    "start_time": "2022-07-20T22:35:58.785Z"
   },
   {
    "duration": 24,
    "start_time": "2022-07-20T22:35:58.805Z"
   },
   {
    "duration": 26,
    "start_time": "2022-07-20T22:35:58.831Z"
   },
   {
    "duration": 341,
    "start_time": "2022-07-20T22:35:58.860Z"
   },
   {
    "duration": 12,
    "start_time": "2022-07-20T22:35:59.203Z"
   },
   {
    "duration": 165,
    "start_time": "2022-07-20T22:35:59.217Z"
   },
   {
    "duration": 0,
    "start_time": "2022-07-20T22:35:59.384Z"
   },
   {
    "duration": 8,
    "start_time": "2022-07-20T22:36:07.435Z"
   },
   {
    "duration": 63,
    "start_time": "2022-07-20T22:36:08.561Z"
   },
   {
    "duration": 8,
    "start_time": "2022-07-20T22:36:54.994Z"
   },
   {
    "duration": 813,
    "start_time": "2022-07-20T22:37:02.480Z"
   },
   {
    "duration": 35,
    "start_time": "2022-07-20T22:37:03.296Z"
   },
   {
    "duration": 5,
    "start_time": "2022-07-20T22:37:03.332Z"
   },
   {
    "duration": 10,
    "start_time": "2022-07-20T22:37:03.338Z"
   },
   {
    "duration": 7,
    "start_time": "2022-07-20T22:37:03.350Z"
   },
   {
    "duration": 23,
    "start_time": "2022-07-20T22:37:03.358Z"
   },
   {
    "duration": 8,
    "start_time": "2022-07-20T22:37:03.382Z"
   },
   {
    "duration": 78,
    "start_time": "2022-07-20T22:37:03.392Z"
   },
   {
    "duration": 12,
    "start_time": "2022-07-20T22:37:03.472Z"
   },
   {
    "duration": 17,
    "start_time": "2022-07-20T22:37:03.485Z"
   },
   {
    "duration": 6,
    "start_time": "2022-07-20T22:37:03.503Z"
   },
   {
    "duration": 306,
    "start_time": "2022-07-20T22:37:03.510Z"
   },
   {
    "duration": 11,
    "start_time": "2022-07-20T22:37:03.818Z"
   },
   {
    "duration": 40,
    "start_time": "2022-07-20T22:37:03.830Z"
   },
   {
    "duration": 242,
    "start_time": "2022-07-20T22:37:03.872Z"
   },
   {
    "duration": 163,
    "start_time": "2022-07-20T22:37:13.639Z"
   },
   {
    "duration": 173,
    "start_time": "2022-07-20T22:38:08.847Z"
   },
   {
    "duration": 298,
    "start_time": "2022-07-20T22:38:14.778Z"
   },
   {
    "duration": 189,
    "start_time": "2022-07-20T22:39:22.799Z"
   },
   {
    "duration": 185,
    "start_time": "2022-07-20T22:44:33.636Z"
   },
   {
    "duration": 133,
    "start_time": "2022-07-20T22:44:49.267Z"
   },
   {
    "duration": 150,
    "start_time": "2022-07-20T22:45:00.584Z"
   },
   {
    "duration": 132,
    "start_time": "2022-07-20T22:45:10.596Z"
   },
   {
    "duration": 160,
    "start_time": "2022-07-20T22:45:23.736Z"
   },
   {
    "duration": 156,
    "start_time": "2022-07-20T22:45:28.196Z"
   },
   {
    "duration": 151,
    "start_time": "2022-07-20T22:45:35.676Z"
   },
   {
    "duration": 145,
    "start_time": "2022-07-20T22:45:40.835Z"
   },
   {
    "duration": 148,
    "start_time": "2022-07-20T22:45:47.636Z"
   },
   {
    "duration": 215,
    "start_time": "2022-07-20T22:45:51.365Z"
   },
   {
    "duration": 142,
    "start_time": "2022-07-20T22:45:56.419Z"
   },
   {
    "duration": 154,
    "start_time": "2022-07-20T22:46:02.676Z"
   },
   {
    "duration": 168,
    "start_time": "2022-07-20T22:46:13.977Z"
   },
   {
    "duration": 126,
    "start_time": "2022-07-20T22:46:17.796Z"
   },
   {
    "duration": 157,
    "start_time": "2022-07-20T22:46:22.397Z"
   },
   {
    "duration": 172,
    "start_time": "2022-07-20T22:46:26.295Z"
   },
   {
    "duration": 160,
    "start_time": "2022-07-20T22:46:30.496Z"
   },
   {
    "duration": 159,
    "start_time": "2022-07-20T22:46:39.876Z"
   },
   {
    "duration": 178,
    "start_time": "2022-07-20T22:46:47.547Z"
   },
   {
    "duration": 155,
    "start_time": "2022-07-20T22:46:50.572Z"
   },
   {
    "duration": 222,
    "start_time": "2022-07-20T22:46:54.576Z"
   },
   {
    "duration": 190,
    "start_time": "2022-07-20T22:47:21.501Z"
   },
   {
    "duration": 39,
    "start_time": "2022-07-20T22:51:05.152Z"
   },
   {
    "duration": 5,
    "start_time": "2022-07-20T22:51:33.859Z"
   },
   {
    "duration": 45,
    "start_time": "2022-07-20T22:51:42.860Z"
   },
   {
    "duration": 76,
    "start_time": "2022-07-20T22:51:55.679Z"
   },
   {
    "duration": 146,
    "start_time": "2022-07-20T22:57:05.619Z"
   },
   {
    "duration": 197,
    "start_time": "2022-07-20T22:58:19.719Z"
   },
   {
    "duration": 147,
    "start_time": "2022-07-20T22:58:33.664Z"
   },
   {
    "duration": 8,
    "start_time": "2022-07-20T23:05:30.718Z"
   },
   {
    "duration": 6,
    "start_time": "2022-07-20T23:05:41.350Z"
   },
   {
    "duration": 263,
    "start_time": "2022-07-20T23:06:33.697Z"
   },
   {
    "duration": 252,
    "start_time": "2022-07-20T23:06:42.755Z"
   },
   {
    "duration": 285,
    "start_time": "2022-07-20T23:06:58.938Z"
   },
   {
    "duration": 159,
    "start_time": "2022-07-20T23:11:37.677Z"
   },
   {
    "duration": 615,
    "start_time": "2022-07-20T23:12:29.578Z"
   },
   {
    "duration": 35,
    "start_time": "2022-07-20T23:12:30.195Z"
   },
   {
    "duration": 4,
    "start_time": "2022-07-20T23:12:30.232Z"
   },
   {
    "duration": 21,
    "start_time": "2022-07-20T23:12:30.237Z"
   },
   {
    "duration": 19,
    "start_time": "2022-07-20T23:12:30.261Z"
   },
   {
    "duration": 29,
    "start_time": "2022-07-20T23:12:30.282Z"
   },
   {
    "duration": 32,
    "start_time": "2022-07-20T23:12:30.312Z"
   },
   {
    "duration": 98,
    "start_time": "2022-07-20T23:12:30.346Z"
   },
   {
    "duration": 14,
    "start_time": "2022-07-20T23:12:30.446Z"
   },
   {
    "duration": 41,
    "start_time": "2022-07-20T23:12:30.462Z"
   },
   {
    "duration": 7,
    "start_time": "2022-07-20T23:12:30.504Z"
   },
   {
    "duration": 270,
    "start_time": "2022-07-20T23:12:30.512Z"
   },
   {
    "duration": 11,
    "start_time": "2022-07-20T23:12:30.783Z"
   },
   {
    "duration": 29,
    "start_time": "2022-07-20T23:12:30.796Z"
   },
   {
    "duration": 222,
    "start_time": "2022-07-20T23:12:30.827Z"
   },
   {
    "duration": 152,
    "start_time": "2022-07-20T23:12:31.051Z"
   },
   {
    "duration": 5,
    "start_time": "2022-07-20T23:12:31.204Z"
   },
   {
    "duration": 226,
    "start_time": "2022-07-20T23:12:31.211Z"
   },
   {
    "duration": 223,
    "start_time": "2022-07-20T23:12:41.996Z"
   },
   {
    "duration": 140,
    "start_time": "2022-07-20T23:13:01.416Z"
   },
   {
    "duration": 143,
    "start_time": "2022-07-20T23:13:13.237Z"
   },
   {
    "duration": 139,
    "start_time": "2022-07-20T23:13:16.878Z"
   },
   {
    "duration": 153,
    "start_time": "2022-07-20T23:13:19.778Z"
   },
   {
    "duration": 152,
    "start_time": "2022-07-20T23:13:22.576Z"
   },
   {
    "duration": 154,
    "start_time": "2022-07-20T23:13:39.536Z"
   },
   {
    "duration": 157,
    "start_time": "2022-07-20T23:14:10.567Z"
   },
   {
    "duration": 149,
    "start_time": "2022-07-20T23:14:15.116Z"
   },
   {
    "duration": 170,
    "start_time": "2022-07-20T23:14:26.396Z"
   },
   {
    "duration": 600,
    "start_time": "2022-07-20T23:16:27.176Z"
   },
   {
    "duration": 33,
    "start_time": "2022-07-20T23:16:27.778Z"
   },
   {
    "duration": 4,
    "start_time": "2022-07-20T23:16:27.813Z"
   },
   {
    "duration": 12,
    "start_time": "2022-07-20T23:16:27.818Z"
   },
   {
    "duration": 14,
    "start_time": "2022-07-20T23:16:27.831Z"
   },
   {
    "duration": 20,
    "start_time": "2022-07-20T23:16:27.846Z"
   },
   {
    "duration": 9,
    "start_time": "2022-07-20T23:16:27.868Z"
   },
   {
    "duration": 70,
    "start_time": "2022-07-20T23:16:27.878Z"
   },
   {
    "duration": 15,
    "start_time": "2022-07-20T23:16:27.950Z"
   },
   {
    "duration": 17,
    "start_time": "2022-07-20T23:16:27.967Z"
   },
   {
    "duration": 5,
    "start_time": "2022-07-20T23:16:27.985Z"
   },
   {
    "duration": 263,
    "start_time": "2022-07-20T23:16:27.992Z"
   },
   {
    "duration": 13,
    "start_time": "2022-07-20T23:16:28.257Z"
   },
   {
    "duration": 14,
    "start_time": "2022-07-20T23:16:28.273Z"
   },
   {
    "duration": 230,
    "start_time": "2022-07-20T23:16:28.289Z"
   },
   {
    "duration": 153,
    "start_time": "2022-07-20T23:16:28.520Z"
   },
   {
    "duration": 7,
    "start_time": "2022-07-20T23:16:28.675Z"
   },
   {
    "duration": 240,
    "start_time": "2022-07-20T23:16:28.683Z"
   },
   {
    "duration": 3,
    "start_time": "2022-07-20T23:16:28.925Z"
   },
   {
    "duration": 232,
    "start_time": "2022-07-20T23:16:28.929Z"
   },
   {
    "duration": 163,
    "start_time": "2022-07-20T23:18:49.395Z"
   },
   {
    "duration": 274,
    "start_time": "2022-07-20T23:21:43.284Z"
   },
   {
    "duration": 143,
    "start_time": "2022-07-20T23:21:54.891Z"
   },
   {
    "duration": 267,
    "start_time": "2022-07-20T23:25:58.833Z"
   },
   {
    "duration": 391,
    "start_time": "2022-07-20T23:26:24.650Z"
   },
   {
    "duration": 278,
    "start_time": "2022-07-20T23:26:36.651Z"
   },
   {
    "duration": 277,
    "start_time": "2022-07-20T23:27:26.066Z"
   },
   {
    "duration": 284,
    "start_time": "2022-07-20T23:27:30.351Z"
   },
   {
    "duration": 247,
    "start_time": "2022-07-20T23:27:34.480Z"
   },
   {
    "duration": 11,
    "start_time": "2022-07-20T23:49:01.088Z"
   },
   {
    "duration": 6,
    "start_time": "2022-07-20T23:50:05.133Z"
   },
   {
    "duration": 9,
    "start_time": "2022-07-20T23:51:11.125Z"
   },
   {
    "duration": 176,
    "start_time": "2022-07-20T23:53:24.933Z"
   },
   {
    "duration": 95,
    "start_time": "2022-07-20T23:53:32.894Z"
   },
   {
    "duration": 7,
    "start_time": "2022-07-20T23:57:05.308Z"
   },
   {
    "duration": 606,
    "start_time": "2022-07-20T23:57:25.254Z"
   },
   {
    "duration": 35,
    "start_time": "2022-07-20T23:57:25.864Z"
   },
   {
    "duration": 5,
    "start_time": "2022-07-20T23:57:25.900Z"
   },
   {
    "duration": 8,
    "start_time": "2022-07-20T23:57:25.906Z"
   },
   {
    "duration": 10,
    "start_time": "2022-07-20T23:57:25.915Z"
   },
   {
    "duration": 6,
    "start_time": "2022-07-20T23:57:25.927Z"
   },
   {
    "duration": 9,
    "start_time": "2022-07-20T23:57:25.935Z"
   },
   {
    "duration": 93,
    "start_time": "2022-07-20T23:57:25.946Z"
   },
   {
    "duration": 14,
    "start_time": "2022-07-20T23:57:26.041Z"
   },
   {
    "duration": 34,
    "start_time": "2022-07-20T23:57:26.057Z"
   },
   {
    "duration": 6,
    "start_time": "2022-07-20T23:57:26.093Z"
   },
   {
    "duration": 271,
    "start_time": "2022-07-20T23:57:26.100Z"
   },
   {
    "duration": 10,
    "start_time": "2022-07-20T23:57:26.373Z"
   },
   {
    "duration": 7,
    "start_time": "2022-07-20T23:57:26.385Z"
   },
   {
    "duration": 239,
    "start_time": "2022-07-20T23:57:26.393Z"
   },
   {
    "duration": 151,
    "start_time": "2022-07-20T23:57:26.633Z"
   },
   {
    "duration": 5,
    "start_time": "2022-07-20T23:57:26.786Z"
   },
   {
    "duration": 235,
    "start_time": "2022-07-20T23:57:26.792Z"
   },
   {
    "duration": 4,
    "start_time": "2022-07-20T23:57:27.028Z"
   },
   {
    "duration": 209,
    "start_time": "2022-07-20T23:57:27.034Z"
   },
   {
    "duration": 271,
    "start_time": "2022-07-20T23:57:27.244Z"
   },
   {
    "duration": 9,
    "start_time": "2022-07-20T23:57:27.517Z"
   },
   {
    "duration": 107,
    "start_time": "2022-07-20T23:57:27.528Z"
   },
   {
    "duration": 76,
    "start_time": "2022-07-20T23:57:27.636Z"
   },
   {
    "duration": 4,
    "start_time": "2022-07-20T23:57:37.134Z"
   },
   {
    "duration": 79,
    "start_time": "2022-07-20T23:57:56.435Z"
   },
   {
    "duration": 120,
    "start_time": "2022-07-21T00:03:42.877Z"
   },
   {
    "duration": 108,
    "start_time": "2022-07-21T00:03:54.764Z"
   },
   {
    "duration": 5,
    "start_time": "2022-07-21T00:07:14.937Z"
   },
   {
    "duration": 629,
    "start_time": "2022-07-21T00:08:25.555Z"
   },
   {
    "duration": 34,
    "start_time": "2022-07-21T00:08:26.186Z"
   },
   {
    "duration": 4,
    "start_time": "2022-07-21T00:08:26.221Z"
   },
   {
    "duration": 7,
    "start_time": "2022-07-21T00:08:26.226Z"
   },
   {
    "duration": 7,
    "start_time": "2022-07-21T00:08:26.235Z"
   },
   {
    "duration": 6,
    "start_time": "2022-07-21T00:08:26.244Z"
   },
   {
    "duration": 19,
    "start_time": "2022-07-21T00:08:26.251Z"
   },
   {
    "duration": 74,
    "start_time": "2022-07-21T00:08:26.272Z"
   },
   {
    "duration": 13,
    "start_time": "2022-07-21T00:08:26.348Z"
   },
   {
    "duration": 19,
    "start_time": "2022-07-21T00:08:26.362Z"
   },
   {
    "duration": 5,
    "start_time": "2022-07-21T00:08:26.383Z"
   },
   {
    "duration": 260,
    "start_time": "2022-07-21T00:08:26.392Z"
   },
   {
    "duration": 15,
    "start_time": "2022-07-21T00:08:26.656Z"
   },
   {
    "duration": 5,
    "start_time": "2022-07-21T00:08:26.673Z"
   },
   {
    "duration": 226,
    "start_time": "2022-07-21T00:08:26.679Z"
   },
   {
    "duration": 149,
    "start_time": "2022-07-21T00:08:26.906Z"
   },
   {
    "duration": 9,
    "start_time": "2022-07-21T00:08:27.057Z"
   },
   {
    "duration": 262,
    "start_time": "2022-07-21T00:08:27.067Z"
   },
   {
    "duration": 4,
    "start_time": "2022-07-21T00:08:27.330Z"
   },
   {
    "duration": 199,
    "start_time": "2022-07-21T00:08:27.336Z"
   },
   {
    "duration": 291,
    "start_time": "2022-07-21T00:08:27.536Z"
   },
   {
    "duration": 10,
    "start_time": "2022-07-21T00:08:27.829Z"
   },
   {
    "duration": 89,
    "start_time": "2022-07-21T00:08:27.861Z"
   },
   {
    "duration": 4,
    "start_time": "2022-07-21T00:08:27.952Z"
   },
   {
    "duration": 120,
    "start_time": "2022-07-21T00:08:27.957Z"
   },
   {
    "duration": 4,
    "start_time": "2022-07-21T00:08:28.079Z"
   },
   {
    "duration": 85,
    "start_time": "2022-07-21T00:19:13.774Z"
   },
   {
    "duration": 988,
    "start_time": "2022-07-21T00:19:20.510Z"
   },
   {
    "duration": 34,
    "start_time": "2022-07-21T00:19:21.500Z"
   },
   {
    "duration": 4,
    "start_time": "2022-07-21T00:19:21.535Z"
   },
   {
    "duration": 7,
    "start_time": "2022-07-21T00:19:21.540Z"
   },
   {
    "duration": 9,
    "start_time": "2022-07-21T00:19:21.549Z"
   },
   {
    "duration": 6,
    "start_time": "2022-07-21T00:19:21.559Z"
   },
   {
    "duration": 9,
    "start_time": "2022-07-21T00:19:21.566Z"
   },
   {
    "duration": 86,
    "start_time": "2022-07-21T00:19:21.577Z"
   },
   {
    "duration": 15,
    "start_time": "2022-07-21T00:19:21.666Z"
   },
   {
    "duration": 22,
    "start_time": "2022-07-21T00:19:21.683Z"
   },
   {
    "duration": 5,
    "start_time": "2022-07-21T00:19:21.707Z"
   },
   {
    "duration": 289,
    "start_time": "2022-07-21T00:19:21.714Z"
   },
   {
    "duration": 12,
    "start_time": "2022-07-21T00:19:22.004Z"
   },
   {
    "duration": 10,
    "start_time": "2022-07-21T00:19:22.018Z"
   },
   {
    "duration": 256,
    "start_time": "2022-07-21T00:19:22.029Z"
   },
   {
    "duration": 188,
    "start_time": "2022-07-21T00:19:22.287Z"
   },
   {
    "duration": 6,
    "start_time": "2022-07-21T00:19:22.476Z"
   },
   {
    "duration": 253,
    "start_time": "2022-07-21T00:19:22.483Z"
   },
   {
    "duration": 4,
    "start_time": "2022-07-21T00:19:22.738Z"
   },
   {
    "duration": 191,
    "start_time": "2022-07-21T00:19:22.751Z"
   },
   {
    "duration": 295,
    "start_time": "2022-07-21T00:19:22.944Z"
   },
   {
    "duration": 14,
    "start_time": "2022-07-21T00:19:23.241Z"
   },
   {
    "duration": 126,
    "start_time": "2022-07-21T00:19:23.256Z"
   },
   {
    "duration": 5,
    "start_time": "2022-07-21T00:19:23.383Z"
   },
   {
    "duration": 134,
    "start_time": "2022-07-21T00:19:23.389Z"
   },
   {
    "duration": 4,
    "start_time": "2022-07-21T00:19:23.525Z"
   },
   {
    "duration": 100,
    "start_time": "2022-07-21T00:19:23.531Z"
   },
   {
    "duration": 101,
    "start_time": "2022-07-21T00:23:42.014Z"
   },
   {
    "duration": 103,
    "start_time": "2022-07-21T00:25:00.572Z"
   },
   {
    "duration": 19,
    "start_time": "2022-07-21T00:25:57.192Z"
   },
   {
    "duration": 20,
    "start_time": "2022-07-21T00:26:19.813Z"
   },
   {
    "duration": 25,
    "start_time": "2022-07-21T00:26:29.093Z"
   },
   {
    "duration": 7,
    "start_time": "2022-07-21T00:47:29.638Z"
   },
   {
    "duration": 9,
    "start_time": "2022-07-21T00:47:39.459Z"
   },
   {
    "duration": 1159,
    "start_time": "2022-07-21T00:47:57.219Z"
   },
   {
    "duration": 9,
    "start_time": "2022-07-21T00:48:06.779Z"
   },
   {
    "duration": 4,
    "start_time": "2022-07-21T00:48:23.578Z"
   },
   {
    "duration": 4,
    "start_time": "2022-07-21T00:48:29.199Z"
   },
   {
    "duration": 4,
    "start_time": "2022-07-21T00:48:32.538Z"
   },
   {
    "duration": 11,
    "start_time": "2022-07-21T00:52:29.039Z"
   },
   {
    "duration": 6,
    "start_time": "2022-07-21T00:52:39.877Z"
   },
   {
    "duration": 10,
    "start_time": "2022-07-21T01:02:19.657Z"
   },
   {
    "duration": 964,
    "start_time": "2022-07-21T01:07:08.994Z"
   },
   {
    "duration": 33,
    "start_time": "2022-07-21T01:07:09.960Z"
   },
   {
    "duration": 4,
    "start_time": "2022-07-21T01:07:09.994Z"
   },
   {
    "duration": 6,
    "start_time": "2022-07-21T01:07:10.000Z"
   },
   {
    "duration": 8,
    "start_time": "2022-07-21T01:07:10.007Z"
   },
   {
    "duration": 7,
    "start_time": "2022-07-21T01:07:10.016Z"
   },
   {
    "duration": 11,
    "start_time": "2022-07-21T01:07:10.025Z"
   },
   {
    "duration": 88,
    "start_time": "2022-07-21T01:07:10.037Z"
   },
   {
    "duration": 11,
    "start_time": "2022-07-21T01:07:10.127Z"
   },
   {
    "duration": 15,
    "start_time": "2022-07-21T01:07:10.140Z"
   },
   {
    "duration": 5,
    "start_time": "2022-07-21T01:07:10.156Z"
   },
   {
    "duration": 255,
    "start_time": "2022-07-21T01:07:10.162Z"
   },
   {
    "duration": 11,
    "start_time": "2022-07-21T01:07:10.418Z"
   },
   {
    "duration": 22,
    "start_time": "2022-07-21T01:07:10.430Z"
   },
   {
    "duration": 231,
    "start_time": "2022-07-21T01:07:10.454Z"
   },
   {
    "duration": 156,
    "start_time": "2022-07-21T01:07:10.686Z"
   },
   {
    "duration": 9,
    "start_time": "2022-07-21T01:07:10.843Z"
   },
   {
    "duration": 260,
    "start_time": "2022-07-21T01:07:10.853Z"
   },
   {
    "duration": 4,
    "start_time": "2022-07-21T01:07:11.114Z"
   },
   {
    "duration": 156,
    "start_time": "2022-07-21T01:07:11.119Z"
   },
   {
    "duration": 243,
    "start_time": "2022-07-21T01:07:11.277Z"
   },
   {
    "duration": 9,
    "start_time": "2022-07-21T01:07:11.522Z"
   },
   {
    "duration": 104,
    "start_time": "2022-07-21T01:07:11.533Z"
   },
   {
    "duration": 15,
    "start_time": "2022-07-21T01:07:11.638Z"
   },
   {
    "duration": 110,
    "start_time": "2022-07-21T01:07:11.654Z"
   },
   {
    "duration": 5,
    "start_time": "2022-07-21T01:07:11.765Z"
   },
   {
    "duration": 6,
    "start_time": "2022-07-21T01:07:11.771Z"
   },
   {
    "duration": 11,
    "start_time": "2022-07-21T01:07:11.779Z"
   },
   {
    "duration": 966,
    "start_time": "2022-07-21T01:18:32.261Z"
   },
   {
    "duration": 34,
    "start_time": "2022-07-21T01:18:33.228Z"
   },
   {
    "duration": 4,
    "start_time": "2022-07-21T01:18:33.263Z"
   },
   {
    "duration": 5,
    "start_time": "2022-07-21T01:18:33.269Z"
   },
   {
    "duration": 6,
    "start_time": "2022-07-21T01:18:33.276Z"
   },
   {
    "duration": 9,
    "start_time": "2022-07-21T01:18:33.284Z"
   },
   {
    "duration": 9,
    "start_time": "2022-07-21T01:18:33.294Z"
   },
   {
    "duration": 73,
    "start_time": "2022-07-21T01:18:33.304Z"
   },
   {
    "duration": 11,
    "start_time": "2022-07-21T01:18:33.379Z"
   },
   {
    "duration": 15,
    "start_time": "2022-07-21T01:18:33.392Z"
   },
   {
    "duration": 5,
    "start_time": "2022-07-21T01:18:33.409Z"
   },
   {
    "duration": 265,
    "start_time": "2022-07-21T01:18:33.415Z"
   },
   {
    "duration": 12,
    "start_time": "2022-07-21T01:18:33.682Z"
   },
   {
    "duration": 5,
    "start_time": "2022-07-21T01:18:33.697Z"
   },
   {
    "duration": 231,
    "start_time": "2022-07-21T01:18:33.703Z"
   },
   {
    "duration": 149,
    "start_time": "2022-07-21T01:18:33.936Z"
   },
   {
    "duration": 5,
    "start_time": "2022-07-21T01:18:34.087Z"
   },
   {
    "duration": 229,
    "start_time": "2022-07-21T01:18:34.093Z"
   },
   {
    "duration": 3,
    "start_time": "2022-07-21T01:18:34.323Z"
   },
   {
    "duration": 149,
    "start_time": "2022-07-21T01:18:34.328Z"
   },
   {
    "duration": 258,
    "start_time": "2022-07-21T01:18:34.478Z"
   },
   {
    "duration": 17,
    "start_time": "2022-07-21T01:18:34.737Z"
   },
   {
    "duration": 101,
    "start_time": "2022-07-21T01:18:34.756Z"
   },
   {
    "duration": 5,
    "start_time": "2022-07-21T01:18:34.859Z"
   },
   {
    "duration": 120,
    "start_time": "2022-07-21T01:18:34.865Z"
   },
   {
    "duration": 5,
    "start_time": "2022-07-21T01:18:34.986Z"
   },
   {
    "duration": 6,
    "start_time": "2022-07-21T01:18:34.993Z"
   },
   {
    "duration": 9,
    "start_time": "2022-07-21T01:18:35.000Z"
   },
   {
    "duration": 1203,
    "start_time": "2022-07-21T01:18:35.011Z"
   },
   {
    "duration": 0,
    "start_time": "2022-07-21T01:18:36.216Z"
   },
   {
    "duration": 1395,
    "start_time": "2022-07-21T01:21:08.154Z"
   },
   {
    "duration": 17,
    "start_time": "2022-07-21T01:21:21.573Z"
   },
   {
    "duration": 10,
    "start_time": "2022-07-21T01:21:36.736Z"
   },
   {
    "duration": 24,
    "start_time": "2022-07-21T01:21:45.085Z"
   },
   {
    "duration": 8,
    "start_time": "2022-07-21T01:27:48.088Z"
   },
   {
    "duration": 8,
    "start_time": "2022-07-21T01:27:51.928Z"
   },
   {
    "duration": 9,
    "start_time": "2022-07-21T01:34:59.713Z"
   },
   {
    "duration": 8734,
    "start_time": "2022-07-21T01:35:08.911Z"
   },
   {
    "duration": 9,
    "start_time": "2022-07-21T01:35:39.072Z"
   },
   {
    "duration": 13,
    "start_time": "2022-07-21T01:35:56.452Z"
   },
   {
    "duration": 10,
    "start_time": "2022-07-21T01:36:48.153Z"
   },
   {
    "duration": 12,
    "start_time": "2022-07-21T01:36:51.972Z"
   },
   {
    "duration": 9,
    "start_time": "2022-07-21T01:44:52.053Z"
   },
   {
    "duration": 7,
    "start_time": "2022-07-21T01:45:45.012Z"
   },
   {
    "duration": 1134,
    "start_time": "2022-07-21T01:47:31.792Z"
   },
   {
    "duration": 8,
    "start_time": "2022-07-21T01:48:18.893Z"
   },
   {
    "duration": 8,
    "start_time": "2022-07-21T01:49:17.553Z"
   },
   {
    "duration": 9,
    "start_time": "2022-07-21T01:49:49.413Z"
   },
   {
    "duration": 5,
    "start_time": "2022-07-21T01:51:06.361Z"
   },
   {
    "duration": 598,
    "start_time": "2022-07-21T01:53:31.372Z"
   },
   {
    "duration": 575,
    "start_time": "2022-07-21T01:53:48.332Z"
   },
   {
    "duration": 586,
    "start_time": "2022-07-21T01:54:18.452Z"
   },
   {
    "duration": 6,
    "start_time": "2022-07-21T01:54:32.852Z"
   },
   {
    "duration": 650,
    "start_time": "2022-07-21T01:55:03.394Z"
   },
   {
    "duration": 19,
    "start_time": "2022-07-21T01:57:10.773Z"
   },
   {
    "duration": 901,
    "start_time": "2022-07-21T01:57:30.516Z"
   },
   {
    "duration": 32,
    "start_time": "2022-07-21T01:57:31.419Z"
   },
   {
    "duration": 4,
    "start_time": "2022-07-21T01:57:31.453Z"
   },
   {
    "duration": 8,
    "start_time": "2022-07-21T01:57:31.458Z"
   },
   {
    "duration": 7,
    "start_time": "2022-07-21T01:57:31.468Z"
   },
   {
    "duration": 14,
    "start_time": "2022-07-21T01:57:31.476Z"
   },
   {
    "duration": 9,
    "start_time": "2022-07-21T01:57:31.491Z"
   },
   {
    "duration": 72,
    "start_time": "2022-07-21T01:57:31.502Z"
   },
   {
    "duration": 11,
    "start_time": "2022-07-21T01:57:31.576Z"
   },
   {
    "duration": 22,
    "start_time": "2022-07-21T01:57:31.588Z"
   },
   {
    "duration": 5,
    "start_time": "2022-07-21T01:57:31.611Z"
   },
   {
    "duration": 253,
    "start_time": "2022-07-21T01:57:31.617Z"
   },
   {
    "duration": 11,
    "start_time": "2022-07-21T01:57:31.871Z"
   },
   {
    "duration": 11,
    "start_time": "2022-07-21T01:57:31.885Z"
   },
   {
    "duration": 217,
    "start_time": "2022-07-21T01:57:31.898Z"
   },
   {
    "duration": 163,
    "start_time": "2022-07-21T01:57:32.116Z"
   },
   {
    "duration": 6,
    "start_time": "2022-07-21T01:57:32.280Z"
   },
   {
    "duration": 224,
    "start_time": "2022-07-21T01:57:32.287Z"
   },
   {
    "duration": 4,
    "start_time": "2022-07-21T01:57:32.513Z"
   },
   {
    "duration": 149,
    "start_time": "2022-07-21T01:57:32.518Z"
   },
   {
    "duration": 252,
    "start_time": "2022-07-21T01:57:32.669Z"
   },
   {
    "duration": 10,
    "start_time": "2022-07-21T01:57:32.923Z"
   },
   {
    "duration": 106,
    "start_time": "2022-07-21T01:57:32.934Z"
   },
   {
    "duration": 12,
    "start_time": "2022-07-21T01:57:33.041Z"
   },
   {
    "duration": 118,
    "start_time": "2022-07-21T01:57:33.054Z"
   },
   {
    "duration": 5,
    "start_time": "2022-07-21T01:57:33.173Z"
   },
   {
    "duration": 6,
    "start_time": "2022-07-21T01:57:33.179Z"
   },
   {
    "duration": 11,
    "start_time": "2022-07-21T01:57:33.187Z"
   },
   {
    "duration": 8,
    "start_time": "2022-07-21T01:57:33.199Z"
   },
   {
    "duration": 122,
    "start_time": "2022-07-21T01:57:33.208Z"
   },
   {
    "duration": 0,
    "start_time": "2022-07-21T01:57:33.331Z"
   },
   {
    "duration": 0,
    "start_time": "2022-07-21T01:57:33.332Z"
   },
   {
    "duration": 0,
    "start_time": "2022-07-21T01:57:33.334Z"
   },
   {
    "duration": 0,
    "start_time": "2022-07-21T01:57:33.335Z"
   },
   {
    "duration": 15,
    "start_time": "2022-07-21T01:58:19.445Z"
   },
   {
    "duration": 4,
    "start_time": "2022-07-21T01:59:15.944Z"
   },
   {
    "duration": 4,
    "start_time": "2022-07-21T01:59:42.544Z"
   },
   {
    "duration": 1252,
    "start_time": "2022-07-21T02:01:12.125Z"
   },
   {
    "duration": 10,
    "start_time": "2022-07-21T02:01:37.884Z"
   },
   {
    "duration": 1000,
    "start_time": "2022-07-21T02:01:57.425Z"
   },
   {
    "duration": 35,
    "start_time": "2022-07-21T02:01:58.427Z"
   },
   {
    "duration": 5,
    "start_time": "2022-07-21T02:01:58.463Z"
   },
   {
    "duration": 8,
    "start_time": "2022-07-21T02:01:58.469Z"
   },
   {
    "duration": 6,
    "start_time": "2022-07-21T02:01:58.479Z"
   },
   {
    "duration": 7,
    "start_time": "2022-07-21T02:01:58.486Z"
   },
   {
    "duration": 8,
    "start_time": "2022-07-21T02:01:58.494Z"
   },
   {
    "duration": 71,
    "start_time": "2022-07-21T02:01:58.503Z"
   },
   {
    "duration": 13,
    "start_time": "2022-07-21T02:01:58.575Z"
   },
   {
    "duration": 17,
    "start_time": "2022-07-21T02:01:58.589Z"
   },
   {
    "duration": 4,
    "start_time": "2022-07-21T02:01:58.608Z"
   },
   {
    "duration": 279,
    "start_time": "2022-07-21T02:01:58.614Z"
   },
   {
    "duration": 12,
    "start_time": "2022-07-21T02:01:58.895Z"
   },
   {
    "duration": 5,
    "start_time": "2022-07-21T02:01:58.909Z"
   },
   {
    "duration": 229,
    "start_time": "2022-07-21T02:01:58.915Z"
   },
   {
    "duration": 158,
    "start_time": "2022-07-21T02:01:59.145Z"
   },
   {
    "duration": 6,
    "start_time": "2022-07-21T02:01:59.304Z"
   },
   {
    "duration": 297,
    "start_time": "2022-07-21T02:01:59.311Z"
   },
   {
    "duration": 4,
    "start_time": "2022-07-21T02:01:59.609Z"
   },
   {
    "duration": 167,
    "start_time": "2022-07-21T02:01:59.614Z"
   },
   {
    "duration": 243,
    "start_time": "2022-07-21T02:01:59.782Z"
   },
   {
    "duration": 10,
    "start_time": "2022-07-21T02:02:00.026Z"
   },
   {
    "duration": 103,
    "start_time": "2022-07-21T02:02:00.038Z"
   },
   {
    "duration": 4,
    "start_time": "2022-07-21T02:02:00.152Z"
   },
   {
    "duration": 125,
    "start_time": "2022-07-21T02:02:00.158Z"
   },
   {
    "duration": 5,
    "start_time": "2022-07-21T02:02:00.284Z"
   },
   {
    "duration": 10,
    "start_time": "2022-07-21T02:02:00.290Z"
   },
   {
    "duration": 23,
    "start_time": "2022-07-21T02:02:00.301Z"
   },
   {
    "duration": 18,
    "start_time": "2022-07-21T02:02:00.325Z"
   },
   {
    "duration": 14,
    "start_time": "2022-07-21T02:02:00.345Z"
   },
   {
    "duration": 102,
    "start_time": "2022-07-21T02:02:00.360Z"
   },
   {
    "duration": 0,
    "start_time": "2022-07-21T02:02:00.463Z"
   },
   {
    "duration": 0,
    "start_time": "2022-07-21T02:02:00.464Z"
   },
   {
    "duration": 0,
    "start_time": "2022-07-21T02:02:00.465Z"
   },
   {
    "duration": 0,
    "start_time": "2022-07-21T02:02:00.466Z"
   },
   {
    "duration": 6,
    "start_time": "2022-07-21T02:02:12.689Z"
   },
   {
    "duration": 980,
    "start_time": "2022-07-21T02:08:48.464Z"
   },
   {
    "duration": 35,
    "start_time": "2022-07-21T02:08:49.446Z"
   },
   {
    "duration": 4,
    "start_time": "2022-07-21T02:08:49.483Z"
   },
   {
    "duration": 10,
    "start_time": "2022-07-21T02:08:49.489Z"
   },
   {
    "duration": 7,
    "start_time": "2022-07-21T02:08:49.501Z"
   },
   {
    "duration": 5,
    "start_time": "2022-07-21T02:08:49.510Z"
   },
   {
    "duration": 8,
    "start_time": "2022-07-21T02:08:49.516Z"
   },
   {
    "duration": 74,
    "start_time": "2022-07-21T02:08:49.525Z"
   },
   {
    "duration": 13,
    "start_time": "2022-07-21T02:08:49.600Z"
   },
   {
    "duration": 19,
    "start_time": "2022-07-21T02:08:49.614Z"
   },
   {
    "duration": 5,
    "start_time": "2022-07-21T02:08:49.635Z"
   },
   {
    "duration": 274,
    "start_time": "2022-07-21T02:08:49.641Z"
   },
   {
    "duration": 11,
    "start_time": "2022-07-21T02:08:49.917Z"
   },
   {
    "duration": 21,
    "start_time": "2022-07-21T02:08:49.931Z"
   },
   {
    "duration": 240,
    "start_time": "2022-07-21T02:08:49.953Z"
   },
   {
    "duration": 178,
    "start_time": "2022-07-21T02:08:50.195Z"
   },
   {
    "duration": 6,
    "start_time": "2022-07-21T02:08:50.374Z"
   },
   {
    "duration": 254,
    "start_time": "2022-07-21T02:08:50.381Z"
   },
   {
    "duration": 3,
    "start_time": "2022-07-21T02:08:50.637Z"
   },
   {
    "duration": 164,
    "start_time": "2022-07-21T02:08:50.652Z"
   },
   {
    "duration": 299,
    "start_time": "2022-07-21T02:08:50.818Z"
   },
   {
    "duration": 10,
    "start_time": "2022-07-21T02:08:51.119Z"
   },
   {
    "duration": 115,
    "start_time": "2022-07-21T02:08:51.130Z"
   },
   {
    "duration": 5,
    "start_time": "2022-07-21T02:08:51.251Z"
   },
   {
    "duration": 130,
    "start_time": "2022-07-21T02:08:51.257Z"
   },
   {
    "duration": 4,
    "start_time": "2022-07-21T02:08:51.389Z"
   },
   {
    "duration": 6,
    "start_time": "2022-07-21T02:08:51.395Z"
   },
   {
    "duration": 10,
    "start_time": "2022-07-21T02:08:51.402Z"
   },
   {
    "duration": 8,
    "start_time": "2022-07-21T02:08:51.413Z"
   },
   {
    "duration": 5,
    "start_time": "2022-07-21T02:08:51.453Z"
   },
   {
    "duration": 103,
    "start_time": "2022-07-21T02:08:51.460Z"
   },
   {
    "duration": 0,
    "start_time": "2022-07-21T02:08:51.564Z"
   },
   {
    "duration": 0,
    "start_time": "2022-07-21T02:08:51.565Z"
   },
   {
    "duration": 0,
    "start_time": "2022-07-21T02:08:51.566Z"
   },
   {
    "duration": 0,
    "start_time": "2022-07-21T02:08:51.567Z"
   },
   {
    "duration": 13,
    "start_time": "2022-07-21T02:08:59.369Z"
   },
   {
    "duration": 1148,
    "start_time": "2022-07-21T02:10:59.009Z"
   },
   {
    "duration": 1185,
    "start_time": "2022-07-21T02:11:12.709Z"
   },
   {
    "duration": 10,
    "start_time": "2022-07-21T02:11:24.368Z"
   },
   {
    "duration": 1295,
    "start_time": "2022-07-21T04:09:54.786Z"
   },
   {
    "duration": 65,
    "start_time": "2022-07-21T04:09:56.083Z"
   },
   {
    "duration": 5,
    "start_time": "2022-07-21T04:09:56.149Z"
   },
   {
    "duration": 23,
    "start_time": "2022-07-21T04:09:56.156Z"
   },
   {
    "duration": 12,
    "start_time": "2022-07-21T04:09:56.180Z"
   },
   {
    "duration": 30,
    "start_time": "2022-07-21T04:09:56.194Z"
   },
   {
    "duration": 18,
    "start_time": "2022-07-21T04:09:56.226Z"
   },
   {
    "duration": 178,
    "start_time": "2022-07-21T04:09:56.247Z"
   },
   {
    "duration": 17,
    "start_time": "2022-07-21T04:09:56.427Z"
   },
   {
    "duration": 34,
    "start_time": "2022-07-21T04:09:56.447Z"
   },
   {
    "duration": 13,
    "start_time": "2022-07-21T04:09:56.483Z"
   },
   {
    "duration": 344,
    "start_time": "2022-07-21T04:09:56.498Z"
   },
   {
    "duration": 19,
    "start_time": "2022-07-21T04:09:56.844Z"
   },
   {
    "duration": 21,
    "start_time": "2022-07-21T04:09:56.864Z"
   },
   {
    "duration": 246,
    "start_time": "2022-07-21T04:09:56.887Z"
   },
   {
    "duration": 177,
    "start_time": "2022-07-21T04:09:57.134Z"
   },
   {
    "duration": 5,
    "start_time": "2022-07-21T04:09:57.313Z"
   },
   {
    "duration": 367,
    "start_time": "2022-07-21T04:09:57.320Z"
   },
   {
    "duration": 4,
    "start_time": "2022-07-21T04:09:57.689Z"
   },
   {
    "duration": 185,
    "start_time": "2022-07-21T04:09:57.695Z"
   },
   {
    "duration": 272,
    "start_time": "2022-07-21T04:09:57.882Z"
   },
   {
    "duration": 12,
    "start_time": "2022-07-21T04:09:58.170Z"
   },
   {
    "duration": 113,
    "start_time": "2022-07-21T04:09:58.184Z"
   },
   {
    "duration": 5,
    "start_time": "2022-07-21T04:09:58.299Z"
   },
   {
    "duration": 145,
    "start_time": "2022-07-21T04:09:58.307Z"
   },
   {
    "duration": 24,
    "start_time": "2022-07-21T04:09:58.454Z"
   },
   {
    "duration": 8,
    "start_time": "2022-07-21T04:09:58.480Z"
   },
   {
    "duration": 11,
    "start_time": "2022-07-21T04:09:58.491Z"
   },
   {
    "duration": 8,
    "start_time": "2022-07-21T04:09:58.504Z"
   },
   {
    "duration": 13,
    "start_time": "2022-07-21T04:09:58.514Z"
   },
   {
    "duration": 123,
    "start_time": "2022-07-21T04:09:58.528Z"
   },
   {
    "duration": 0,
    "start_time": "2022-07-21T04:09:58.653Z"
   },
   {
    "duration": 0,
    "start_time": "2022-07-21T04:09:58.654Z"
   },
   {
    "duration": 0,
    "start_time": "2022-07-21T04:09:58.654Z"
   },
   {
    "duration": 8,
    "start_time": "2022-07-21T04:41:55.895Z"
   },
   {
    "duration": 124,
    "start_time": "2022-07-21T04:42:09.506Z"
   },
   {
    "duration": 74,
    "start_time": "2022-07-21T04:42:17.426Z"
   },
   {
    "duration": 79,
    "start_time": "2022-07-21T04:42:27.305Z"
   },
   {
    "duration": 8,
    "start_time": "2022-07-21T04:42:57.891Z"
   },
   {
    "duration": 9,
    "start_time": "2022-07-21T04:43:07.190Z"
   },
   {
    "duration": 15,
    "start_time": "2022-07-21T04:46:43.050Z"
   },
   {
    "duration": 66,
    "start_time": "2022-07-21T14:24:24.544Z"
   },
   {
    "duration": 1432,
    "start_time": "2022-07-21T14:24:31.259Z"
   },
   {
    "duration": 96,
    "start_time": "2022-07-21T14:24:32.694Z"
   },
   {
    "duration": 7,
    "start_time": "2022-07-21T14:24:32.792Z"
   },
   {
    "duration": 10,
    "start_time": "2022-07-21T14:24:32.801Z"
   },
   {
    "duration": 10,
    "start_time": "2022-07-21T14:24:32.815Z"
   },
   {
    "duration": 9,
    "start_time": "2022-07-21T14:24:32.827Z"
   },
   {
    "duration": 20,
    "start_time": "2022-07-21T14:24:32.838Z"
   },
   {
    "duration": 224,
    "start_time": "2022-07-21T14:24:32.860Z"
   },
   {
    "duration": 15,
    "start_time": "2022-07-21T14:24:33.086Z"
   },
   {
    "duration": 22,
    "start_time": "2022-07-21T14:24:33.103Z"
   },
   {
    "duration": 6,
    "start_time": "2022-07-21T14:24:33.127Z"
   },
   {
    "duration": 315,
    "start_time": "2022-07-21T14:24:33.141Z"
   },
   {
    "duration": 13,
    "start_time": "2022-07-21T14:24:33.458Z"
   },
   {
    "duration": 8,
    "start_time": "2022-07-21T14:24:33.475Z"
   },
   {
    "duration": 314,
    "start_time": "2022-07-21T14:24:33.485Z"
   },
   {
    "duration": 212,
    "start_time": "2022-07-21T14:24:33.801Z"
   },
   {
    "duration": 9,
    "start_time": "2022-07-21T14:24:34.015Z"
   },
   {
    "duration": 345,
    "start_time": "2022-07-21T14:24:34.025Z"
   },
   {
    "duration": 5,
    "start_time": "2022-07-21T14:24:34.371Z"
   },
   {
    "duration": 203,
    "start_time": "2022-07-21T14:24:34.378Z"
   },
   {
    "duration": 290,
    "start_time": "2022-07-21T14:24:34.583Z"
   },
   {
    "duration": 12,
    "start_time": "2022-07-21T14:24:34.875Z"
   },
   {
    "duration": 168,
    "start_time": "2022-07-21T14:24:34.888Z"
   },
   {
    "duration": 6,
    "start_time": "2022-07-21T14:24:35.059Z"
   },
   {
    "duration": 175,
    "start_time": "2022-07-21T14:24:35.067Z"
   },
   {
    "duration": 6,
    "start_time": "2022-07-21T14:24:35.243Z"
   },
   {
    "duration": 30,
    "start_time": "2022-07-21T14:24:35.250Z"
   },
   {
    "duration": 96,
    "start_time": "2022-07-21T14:24:35.282Z"
   },
   {
    "duration": 25,
    "start_time": "2022-07-21T14:24:35.380Z"
   },
   {
    "duration": 36,
    "start_time": "2022-07-21T14:24:35.407Z"
   },
   {
    "duration": 20,
    "start_time": "2022-07-21T14:24:35.444Z"
   },
   {
    "duration": 119,
    "start_time": "2022-07-21T14:24:35.466Z"
   },
   {
    "duration": 0,
    "start_time": "2022-07-21T14:24:35.587Z"
   },
   {
    "duration": 0,
    "start_time": "2022-07-21T14:24:35.589Z"
   },
   {
    "duration": 0,
    "start_time": "2022-07-21T14:24:35.590Z"
   },
   {
    "duration": 10,
    "start_time": "2022-07-21T14:24:46.331Z"
   },
   {
    "duration": 7,
    "start_time": "2022-07-21T14:25:15.259Z"
   },
   {
    "duration": 9,
    "start_time": "2022-07-21T14:25:25.039Z"
   },
   {
    "duration": 7,
    "start_time": "2022-07-21T14:26:01.419Z"
   },
   {
    "duration": 34,
    "start_time": "2022-07-21T14:28:01.250Z"
   },
   {
    "duration": 4,
    "start_time": "2022-07-21T14:28:07.571Z"
   },
   {
    "duration": 33,
    "start_time": "2022-07-21T14:28:07.586Z"
   },
   {
    "duration": 5,
    "start_time": "2022-07-21T14:28:07.621Z"
   },
   {
    "duration": 11,
    "start_time": "2022-07-21T14:28:07.628Z"
   },
   {
    "duration": 16,
    "start_time": "2022-07-21T14:28:07.641Z"
   },
   {
    "duration": 8,
    "start_time": "2022-07-21T14:28:07.659Z"
   },
   {
    "duration": 10,
    "start_time": "2022-07-21T14:28:07.669Z"
   },
   {
    "duration": 66,
    "start_time": "2022-07-21T14:28:07.680Z"
   },
   {
    "duration": 35,
    "start_time": "2022-07-21T14:28:07.748Z"
   },
   {
    "duration": 7,
    "start_time": "2022-07-21T14:34:32.896Z"
   },
   {
    "duration": 1164,
    "start_time": "2022-07-21T14:34:39.057Z"
   },
   {
    "duration": 37,
    "start_time": "2022-07-21T14:34:40.223Z"
   },
   {
    "duration": 5,
    "start_time": "2022-07-21T14:34:40.262Z"
   },
   {
    "duration": 10,
    "start_time": "2022-07-21T14:34:40.270Z"
   },
   {
    "duration": 10,
    "start_time": "2022-07-21T14:34:40.282Z"
   },
   {
    "duration": 7,
    "start_time": "2022-07-21T14:34:40.294Z"
   },
   {
    "duration": 13,
    "start_time": "2022-07-21T14:34:40.303Z"
   },
   {
    "duration": 65,
    "start_time": "2022-07-21T14:34:40.319Z"
   },
   {
    "duration": 31,
    "start_time": "2022-07-21T14:34:40.386Z"
   },
   {
    "duration": 6,
    "start_time": "2022-07-21T14:34:40.419Z"
   },
   {
    "duration": 20,
    "start_time": "2022-07-21T14:34:40.427Z"
   },
   {
    "duration": 6,
    "start_time": "2022-07-21T14:34:40.449Z"
   },
   {
    "duration": 312,
    "start_time": "2022-07-21T14:34:40.457Z"
   },
   {
    "duration": 14,
    "start_time": "2022-07-21T14:34:40.771Z"
   },
   {
    "duration": 9,
    "start_time": "2022-07-21T14:34:40.787Z"
   },
   {
    "duration": 293,
    "start_time": "2022-07-21T14:34:40.798Z"
   },
   {
    "duration": 192,
    "start_time": "2022-07-21T14:34:41.093Z"
   },
   {
    "duration": 7,
    "start_time": "2022-07-21T14:34:41.287Z"
   },
   {
    "duration": 314,
    "start_time": "2022-07-21T14:34:41.296Z"
   },
   {
    "duration": 5,
    "start_time": "2022-07-21T14:34:41.611Z"
   },
   {
    "duration": 196,
    "start_time": "2022-07-21T14:34:41.617Z"
   },
   {
    "duration": 327,
    "start_time": "2022-07-21T14:34:41.815Z"
   },
   {
    "duration": 14,
    "start_time": "2022-07-21T14:34:42.144Z"
   },
   {
    "duration": 134,
    "start_time": "2022-07-21T14:34:42.160Z"
   },
   {
    "duration": 6,
    "start_time": "2022-07-21T14:34:42.297Z"
   },
   {
    "duration": 159,
    "start_time": "2022-07-21T14:34:42.305Z"
   },
   {
    "duration": 6,
    "start_time": "2022-07-21T14:34:42.467Z"
   },
   {
    "duration": 12,
    "start_time": "2022-07-21T14:34:42.478Z"
   },
   {
    "duration": 13,
    "start_time": "2022-07-21T14:34:42.492Z"
   },
   {
    "duration": 33,
    "start_time": "2022-07-21T14:34:42.507Z"
   },
   {
    "duration": 11,
    "start_time": "2022-07-21T14:34:42.543Z"
   },
   {
    "duration": 10,
    "start_time": "2022-07-21T14:34:42.556Z"
   },
   {
    "duration": 135,
    "start_time": "2022-07-21T14:34:42.568Z"
   },
   {
    "duration": 0,
    "start_time": "2022-07-21T14:34:42.704Z"
   },
   {
    "duration": 0,
    "start_time": "2022-07-21T14:34:42.706Z"
   },
   {
    "duration": 0,
    "start_time": "2022-07-21T14:34:42.708Z"
   },
   {
    "duration": 11,
    "start_time": "2022-07-21T14:36:49.957Z"
   },
   {
    "duration": 11,
    "start_time": "2022-07-21T14:38:21.478Z"
   },
   {
    "duration": 12,
    "start_time": "2022-07-21T14:38:55.696Z"
   },
   {
    "duration": 12,
    "start_time": "2022-07-21T14:38:58.787Z"
   },
   {
    "duration": 776,
    "start_time": "2022-07-21T14:40:12.845Z"
   },
   {
    "duration": 8,
    "start_time": "2022-07-21T14:40:18.742Z"
   },
   {
    "duration": 10,
    "start_time": "2022-07-21T14:40:51.156Z"
   },
   {
    "duration": 7,
    "start_time": "2022-07-21T14:41:03.270Z"
   },
   {
    "duration": 8,
    "start_time": "2022-07-21T14:41:16.095Z"
   },
   {
    "duration": 6,
    "start_time": "2022-07-21T14:42:49.016Z"
   },
   {
    "duration": 7,
    "start_time": "2022-07-21T14:43:23.436Z"
   },
   {
    "duration": 7,
    "start_time": "2022-07-21T14:43:39.257Z"
   },
   {
    "duration": 72,
    "start_time": "2022-07-21T14:45:57.606Z"
   },
   {
    "duration": 7,
    "start_time": "2022-07-21T14:46:08.889Z"
   },
   {
    "duration": 6,
    "start_time": "2022-07-21T14:46:28.988Z"
   },
   {
    "duration": 7,
    "start_time": "2022-07-21T14:47:03.621Z"
   },
   {
    "duration": 7,
    "start_time": "2022-07-21T14:47:42.895Z"
   },
   {
    "duration": 7,
    "start_time": "2022-07-21T14:47:53.067Z"
   },
   {
    "duration": 96,
    "start_time": "2022-07-21T14:48:44.986Z"
   },
   {
    "duration": 18,
    "start_time": "2022-07-21T14:49:14.194Z"
   },
   {
    "duration": 22,
    "start_time": "2022-07-21T14:49:22.366Z"
   },
   {
    "duration": 9,
    "start_time": "2022-07-21T14:50:43.293Z"
   },
   {
    "duration": 23,
    "start_time": "2022-07-21T14:51:30.336Z"
   },
   {
    "duration": 15,
    "start_time": "2022-07-21T14:51:35.442Z"
   },
   {
    "duration": 16,
    "start_time": "2022-07-21T14:52:31.610Z"
   },
   {
    "duration": 19,
    "start_time": "2022-07-21T14:52:54.482Z"
   },
   {
    "duration": 9,
    "start_time": "2022-07-21T14:53:33.349Z"
   },
   {
    "duration": 17,
    "start_time": "2022-07-21T14:53:39.973Z"
   },
   {
    "duration": 16,
    "start_time": "2022-07-21T14:54:54.393Z"
   },
   {
    "duration": 9,
    "start_time": "2022-07-21T14:55:02.601Z"
   },
   {
    "duration": 9,
    "start_time": "2022-07-21T14:55:35.435Z"
   },
   {
    "duration": 10,
    "start_time": "2022-07-21T14:55:43.443Z"
   },
   {
    "duration": 14,
    "start_time": "2022-07-21T14:55:54.732Z"
   },
   {
    "duration": 10,
    "start_time": "2022-07-21T14:58:44.642Z"
   },
   {
    "duration": 4,
    "start_time": "2022-07-21T14:59:33.491Z"
   },
   {
    "duration": 79,
    "start_time": "2022-07-21T14:59:50.911Z"
   },
   {
    "duration": 5,
    "start_time": "2022-07-21T15:00:00.945Z"
   },
   {
    "duration": 8,
    "start_time": "2022-07-21T15:01:28.172Z"
   },
   {
    "duration": 587,
    "start_time": "2022-07-21T15:01:48.420Z"
   },
   {
    "duration": 729,
    "start_time": "2022-07-21T15:01:59.450Z"
   },
   {
    "duration": 6,
    "start_time": "2022-07-21T15:02:30.711Z"
   },
   {
    "duration": 12,
    "start_time": "2022-07-21T15:02:42.802Z"
   },
   {
    "duration": 626,
    "start_time": "2022-07-21T15:02:50.787Z"
   },
   {
    "duration": 6,
    "start_time": "2022-07-21T15:02:59.271Z"
   },
   {
    "duration": 8,
    "start_time": "2022-07-21T15:03:02.988Z"
   },
   {
    "duration": 12,
    "start_time": "2022-07-21T15:03:08.838Z"
   },
   {
    "duration": 7,
    "start_time": "2022-07-21T15:03:22.511Z"
   },
   {
    "duration": 14,
    "start_time": "2022-07-21T15:03:33.763Z"
   },
   {
    "duration": 18,
    "start_time": "2022-07-21T15:03:43.362Z"
   },
   {
    "duration": 9,
    "start_time": "2022-07-21T15:03:52.882Z"
   },
   {
    "duration": 212,
    "start_time": "2022-07-21T15:07:24.260Z"
   },
   {
    "duration": 4,
    "start_time": "2022-07-21T15:08:13.690Z"
   },
   {
    "duration": 35,
    "start_time": "2022-07-21T15:08:13.696Z"
   },
   {
    "duration": 5,
    "start_time": "2022-07-21T15:08:13.733Z"
   },
   {
    "duration": 14,
    "start_time": "2022-07-21T15:08:13.739Z"
   },
   {
    "duration": 13,
    "start_time": "2022-07-21T15:08:13.756Z"
   },
   {
    "duration": 12,
    "start_time": "2022-07-21T15:08:13.770Z"
   },
   {
    "duration": 11,
    "start_time": "2022-07-21T15:08:13.784Z"
   },
   {
    "duration": 62,
    "start_time": "2022-07-21T15:08:13.796Z"
   },
   {
    "duration": 36,
    "start_time": "2022-07-21T15:08:13.859Z"
   },
   {
    "duration": 12,
    "start_time": "2022-07-21T15:08:13.897Z"
   },
   {
    "duration": 46,
    "start_time": "2022-07-21T15:08:13.912Z"
   },
   {
    "duration": 17,
    "start_time": "2022-07-21T15:08:13.961Z"
   },
   {
    "duration": 12,
    "start_time": "2022-07-21T15:08:13.980Z"
   },
   {
    "duration": 11,
    "start_time": "2022-07-21T15:08:13.996Z"
   },
   {
    "duration": 35,
    "start_time": "2022-07-21T15:08:14.010Z"
   },
   {
    "duration": 323,
    "start_time": "2022-07-21T15:08:14.047Z"
   },
   {
    "duration": 14,
    "start_time": "2022-07-21T15:08:14.372Z"
   },
   {
    "duration": 9,
    "start_time": "2022-07-21T15:08:14.388Z"
   },
   {
    "duration": 208,
    "start_time": "2022-07-21T15:08:14.399Z"
   },
   {
    "duration": 294,
    "start_time": "2022-07-21T15:08:36.409Z"
   },
   {
    "duration": 214,
    "start_time": "2022-07-21T15:09:30.010Z"
   },
   {
    "duration": 209,
    "start_time": "2022-07-21T15:09:39.301Z"
   },
   {
    "duration": 226,
    "start_time": "2022-07-21T15:09:49.249Z"
   },
   {
    "duration": 215,
    "start_time": "2022-07-21T15:10:12.049Z"
   },
   {
    "duration": 277,
    "start_time": "2022-07-21T15:10:21.669Z"
   },
   {
    "duration": 1207,
    "start_time": "2022-07-21T15:10:28.390Z"
   },
   {
    "duration": 1180,
    "start_time": "2022-07-21T15:10:40.793Z"
   },
   {
    "duration": 37,
    "start_time": "2022-07-21T15:10:41.976Z"
   },
   {
    "duration": 5,
    "start_time": "2022-07-21T15:10:42.015Z"
   },
   {
    "duration": 9,
    "start_time": "2022-07-21T15:10:42.022Z"
   },
   {
    "duration": 15,
    "start_time": "2022-07-21T15:10:42.034Z"
   },
   {
    "duration": 11,
    "start_time": "2022-07-21T15:10:42.052Z"
   },
   {
    "duration": 15,
    "start_time": "2022-07-21T15:10:42.065Z"
   },
   {
    "duration": 73,
    "start_time": "2022-07-21T15:10:42.082Z"
   },
   {
    "duration": 43,
    "start_time": "2022-07-21T15:10:42.157Z"
   },
   {
    "duration": 9,
    "start_time": "2022-07-21T15:10:42.202Z"
   },
   {
    "duration": 43,
    "start_time": "2022-07-21T15:10:42.213Z"
   },
   {
    "duration": 30,
    "start_time": "2022-07-21T15:10:42.259Z"
   },
   {
    "duration": 13,
    "start_time": "2022-07-21T15:10:42.292Z"
   },
   {
    "duration": 10,
    "start_time": "2022-07-21T15:10:42.310Z"
   },
   {
    "duration": 33,
    "start_time": "2022-07-21T15:10:42.322Z"
   },
   {
    "duration": 338,
    "start_time": "2022-07-21T15:10:42.357Z"
   },
   {
    "duration": 18,
    "start_time": "2022-07-21T15:10:42.697Z"
   },
   {
    "duration": 31,
    "start_time": "2022-07-21T15:10:42.717Z"
   },
   {
    "duration": 371,
    "start_time": "2022-07-21T15:10:42.750Z"
   },
   {
    "duration": 268,
    "start_time": "2022-07-21T15:10:43.123Z"
   },
   {
    "duration": 9,
    "start_time": "2022-07-21T15:10:43.394Z"
   },
   {
    "duration": 350,
    "start_time": "2022-07-21T15:10:43.406Z"
   },
   {
    "duration": 4,
    "start_time": "2022-07-21T15:10:43.758Z"
   },
   {
    "duration": 220,
    "start_time": "2022-07-21T15:10:43.764Z"
   },
   {
    "duration": 409,
    "start_time": "2022-07-21T15:10:43.986Z"
   },
   {
    "duration": 14,
    "start_time": "2022-07-21T15:10:44.397Z"
   },
   {
    "duration": 161,
    "start_time": "2022-07-21T15:10:44.414Z"
   },
   {
    "duration": 6,
    "start_time": "2022-07-21T15:10:44.577Z"
   },
   {
    "duration": 180,
    "start_time": "2022-07-21T15:10:44.584Z"
   },
   {
    "duration": 6,
    "start_time": "2022-07-21T15:10:44.766Z"
   },
   {
    "duration": 13,
    "start_time": "2022-07-21T15:10:44.775Z"
   },
   {
    "duration": 18,
    "start_time": "2022-07-21T15:10:44.791Z"
   },
   {
    "duration": 9,
    "start_time": "2022-07-21T15:10:44.840Z"
   },
   {
    "duration": 16,
    "start_time": "2022-07-21T15:10:44.851Z"
   },
   {
    "duration": 13,
    "start_time": "2022-07-21T15:10:44.869Z"
   },
   {
    "duration": 234,
    "start_time": "2022-07-21T15:10:44.885Z"
   },
   {
    "duration": 0,
    "start_time": "2022-07-21T15:10:45.122Z"
   },
   {
    "duration": 0,
    "start_time": "2022-07-21T15:10:45.124Z"
   },
   {
    "duration": 0,
    "start_time": "2022-07-21T15:10:45.125Z"
   },
   {
    "duration": 327,
    "start_time": "2022-07-21T15:11:00.652Z"
   },
   {
    "duration": 245,
    "start_time": "2022-07-21T15:12:37.757Z"
   },
   {
    "duration": 283,
    "start_time": "2022-07-21T15:12:56.557Z"
   },
   {
    "duration": 228,
    "start_time": "2022-07-21T15:13:06.460Z"
   },
   {
    "duration": 227,
    "start_time": "2022-07-21T15:13:42.877Z"
   },
   {
    "duration": 265,
    "start_time": "2022-07-21T15:14:37.576Z"
   },
   {
    "duration": 216,
    "start_time": "2022-07-21T15:14:54.257Z"
   },
   {
    "duration": 327,
    "start_time": "2022-07-21T15:19:44.095Z"
   },
   {
    "duration": 498,
    "start_time": "2022-07-21T15:21:08.352Z"
   },
   {
    "duration": 472,
    "start_time": "2022-07-21T15:21:24.291Z"
   },
   {
    "duration": 559,
    "start_time": "2022-07-21T15:21:43.110Z"
   },
   {
    "duration": 362,
    "start_time": "2022-07-21T15:21:59.271Z"
   },
   {
    "duration": 378,
    "start_time": "2022-07-21T15:22:07.131Z"
   },
   {
    "duration": 339,
    "start_time": "2022-07-21T15:22:17.591Z"
   },
   {
    "duration": 373,
    "start_time": "2022-07-21T15:22:26.512Z"
   },
   {
    "duration": 387,
    "start_time": "2022-07-21T15:22:33.536Z"
   },
   {
    "duration": 338,
    "start_time": "2022-07-21T15:22:40.891Z"
   },
   {
    "duration": 374,
    "start_time": "2022-07-21T15:22:44.571Z"
   },
   {
    "duration": 366,
    "start_time": "2022-07-21T15:22:46.730Z"
   },
   {
    "duration": 385,
    "start_time": "2022-07-21T15:22:52.131Z"
   },
   {
    "duration": 160,
    "start_time": "2022-07-21T15:26:32.582Z"
   },
   {
    "duration": 11,
    "start_time": "2022-07-21T15:27:04.062Z"
   },
   {
    "duration": 13,
    "start_time": "2022-07-21T15:27:11.662Z"
   },
   {
    "duration": 1209,
    "start_time": "2022-07-21T15:29:31.429Z"
   },
   {
    "duration": 46,
    "start_time": "2022-07-21T15:29:32.641Z"
   },
   {
    "duration": 8,
    "start_time": "2022-07-21T15:29:32.689Z"
   },
   {
    "duration": 21,
    "start_time": "2022-07-21T15:29:32.699Z"
   },
   {
    "duration": 19,
    "start_time": "2022-07-21T15:29:32.723Z"
   },
   {
    "duration": 19,
    "start_time": "2022-07-21T15:29:32.743Z"
   },
   {
    "duration": 20,
    "start_time": "2022-07-21T15:29:32.764Z"
   },
   {
    "duration": 58,
    "start_time": "2022-07-21T15:29:32.786Z"
   },
   {
    "duration": 40,
    "start_time": "2022-07-21T15:29:32.847Z"
   },
   {
    "duration": 8,
    "start_time": "2022-07-21T15:29:32.890Z"
   },
   {
    "duration": 52,
    "start_time": "2022-07-21T15:29:32.900Z"
   },
   {
    "duration": 10,
    "start_time": "2022-07-21T15:29:32.953Z"
   },
   {
    "duration": 9,
    "start_time": "2022-07-21T15:29:32.965Z"
   },
   {
    "duration": 18,
    "start_time": "2022-07-21T15:29:32.979Z"
   },
   {
    "duration": 9,
    "start_time": "2022-07-21T15:29:32.999Z"
   },
   {
    "duration": 366,
    "start_time": "2022-07-21T15:29:33.011Z"
   },
   {
    "duration": 15,
    "start_time": "2022-07-21T15:29:33.379Z"
   },
   {
    "duration": 9,
    "start_time": "2022-07-21T15:29:33.396Z"
   },
   {
    "duration": 326,
    "start_time": "2022-07-21T15:29:33.407Z"
   },
   {
    "duration": 222,
    "start_time": "2022-07-21T15:29:33.739Z"
   },
   {
    "duration": 7,
    "start_time": "2022-07-21T15:29:33.964Z"
   },
   {
    "duration": 359,
    "start_time": "2022-07-21T15:29:33.973Z"
   },
   {
    "duration": 5,
    "start_time": "2022-07-21T15:29:34.340Z"
   },
   {
    "duration": 213,
    "start_time": "2022-07-21T15:29:34.346Z"
   },
   {
    "duration": 309,
    "start_time": "2022-07-21T15:29:34.561Z"
   },
   {
    "duration": 12,
    "start_time": "2022-07-21T15:29:34.872Z"
   },
   {
    "duration": 151,
    "start_time": "2022-07-21T15:29:34.886Z"
   },
   {
    "duration": 9,
    "start_time": "2022-07-21T15:29:35.041Z"
   },
   {
    "duration": 203,
    "start_time": "2022-07-21T15:29:35.052Z"
   },
   {
    "duration": 6,
    "start_time": "2022-07-21T15:29:35.257Z"
   },
   {
    "duration": 12,
    "start_time": "2022-07-21T15:29:35.264Z"
   },
   {
    "duration": 19,
    "start_time": "2022-07-21T15:29:35.278Z"
   },
   {
    "duration": 10,
    "start_time": "2022-07-21T15:29:35.299Z"
   },
   {
    "duration": 38,
    "start_time": "2022-07-21T15:29:35.311Z"
   },
   {
    "duration": 17,
    "start_time": "2022-07-21T15:29:35.351Z"
   },
   {
    "duration": 121,
    "start_time": "2022-07-21T15:29:35.370Z"
   },
   {
    "duration": 0,
    "start_time": "2022-07-21T15:29:35.493Z"
   },
   {
    "duration": 0,
    "start_time": "2022-07-21T15:29:35.494Z"
   },
   {
    "duration": 0,
    "start_time": "2022-07-21T15:29:35.496Z"
   },
   {
    "duration": 13,
    "start_time": "2022-07-21T15:31:08.729Z"
   },
   {
    "duration": 14,
    "start_time": "2022-07-21T15:31:17.659Z"
   },
   {
    "duration": 13,
    "start_time": "2022-07-21T15:31:30.048Z"
   },
   {
    "duration": 15,
    "start_time": "2022-07-21T15:58:45.702Z"
   },
   {
    "duration": 15,
    "start_time": "2022-07-21T16:01:23.470Z"
   },
   {
    "duration": 16,
    "start_time": "2022-07-21T16:01:46.135Z"
   },
   {
    "duration": 15,
    "start_time": "2022-07-21T16:01:59.719Z"
   },
   {
    "duration": 4,
    "start_time": "2022-07-21T16:02:05.104Z"
   },
   {
    "duration": 42,
    "start_time": "2022-07-21T16:02:05.114Z"
   },
   {
    "duration": 5,
    "start_time": "2022-07-21T16:02:05.159Z"
   },
   {
    "duration": 20,
    "start_time": "2022-07-21T16:02:05.166Z"
   },
   {
    "duration": 20,
    "start_time": "2022-07-21T16:02:05.188Z"
   },
   {
    "duration": 13,
    "start_time": "2022-07-21T16:02:05.210Z"
   },
   {
    "duration": 17,
    "start_time": "2022-07-21T16:02:05.225Z"
   },
   {
    "duration": 63,
    "start_time": "2022-07-21T16:02:05.244Z"
   },
   {
    "duration": 40,
    "start_time": "2022-07-21T16:02:05.309Z"
   },
   {
    "duration": 7,
    "start_time": "2022-07-21T16:02:05.351Z"
   },
   {
    "duration": 22,
    "start_time": "2022-07-21T16:02:05.361Z"
   },
   {
    "duration": 13,
    "start_time": "2022-07-21T16:02:05.385Z"
   },
   {
    "duration": 14,
    "start_time": "2022-07-21T16:02:05.399Z"
   },
   {
    "duration": 31,
    "start_time": "2022-07-21T16:02:05.414Z"
   },
   {
    "duration": 8,
    "start_time": "2022-07-21T16:02:05.447Z"
   },
   {
    "duration": 316,
    "start_time": "2022-07-21T16:02:05.457Z"
   },
   {
    "duration": 13,
    "start_time": "2022-07-21T16:02:05.775Z"
   },
   {
    "duration": 14,
    "start_time": "2022-07-21T16:02:05.790Z"
   },
   {
    "duration": 238,
    "start_time": "2022-07-21T16:02:05.806Z"
   },
   {
    "duration": 300,
    "start_time": "2022-07-21T16:02:06.046Z"
   },
   {
    "duration": 7,
    "start_time": "2022-07-21T16:02:06.347Z"
   },
   {
    "duration": 358,
    "start_time": "2022-07-21T16:02:06.355Z"
   },
   {
    "duration": 5,
    "start_time": "2022-07-21T16:02:06.714Z"
   },
   {
    "duration": 214,
    "start_time": "2022-07-21T16:02:06.723Z"
   },
   {
    "duration": 305,
    "start_time": "2022-07-21T16:02:06.939Z"
   },
   {
    "duration": 13,
    "start_time": "2022-07-21T16:02:07.246Z"
   },
   {
    "duration": 143,
    "start_time": "2022-07-21T16:02:07.261Z"
   },
   {
    "duration": 7,
    "start_time": "2022-07-21T16:02:07.406Z"
   },
   {
    "duration": 156,
    "start_time": "2022-07-21T16:02:07.415Z"
   },
   {
    "duration": 5,
    "start_time": "2022-07-21T16:02:07.573Z"
   },
   {
    "duration": 17,
    "start_time": "2022-07-21T16:02:07.580Z"
   },
   {
    "duration": 17,
    "start_time": "2022-07-21T16:02:07.602Z"
   },
   {
    "duration": 22,
    "start_time": "2022-07-21T16:02:07.621Z"
   },
   {
    "duration": 12,
    "start_time": "2022-07-21T16:02:07.644Z"
   },
   {
    "duration": 14,
    "start_time": "2022-07-21T16:02:07.658Z"
   },
   {
    "duration": 16,
    "start_time": "2022-07-21T16:02:07.673Z"
   },
   {
    "duration": 0,
    "start_time": "2022-07-21T16:02:07.691Z"
   },
   {
    "duration": 0,
    "start_time": "2022-07-21T16:02:07.692Z"
   },
   {
    "duration": 0,
    "start_time": "2022-07-21T16:02:07.693Z"
   },
   {
    "duration": 16,
    "start_time": "2022-07-21T16:02:16.035Z"
   },
   {
    "duration": 157,
    "start_time": "2022-07-21T16:12:29.340Z"
   },
   {
    "duration": 109,
    "start_time": "2022-07-21T16:13:40.251Z"
   },
   {
    "duration": 1197,
    "start_time": "2022-07-21T16:13:48.706Z"
   },
   {
    "duration": 37,
    "start_time": "2022-07-21T16:13:49.905Z"
   },
   {
    "duration": 5,
    "start_time": "2022-07-21T16:13:49.943Z"
   },
   {
    "duration": 10,
    "start_time": "2022-07-21T16:13:49.949Z"
   },
   {
    "duration": 17,
    "start_time": "2022-07-21T16:13:49.961Z"
   },
   {
    "duration": 13,
    "start_time": "2022-07-21T16:13:49.980Z"
   },
   {
    "duration": 19,
    "start_time": "2022-07-21T16:13:49.994Z"
   },
   {
    "duration": 59,
    "start_time": "2022-07-21T16:13:50.015Z"
   },
   {
    "duration": 33,
    "start_time": "2022-07-21T16:13:50.076Z"
   },
   {
    "duration": 9,
    "start_time": "2022-07-21T16:13:50.111Z"
   },
   {
    "duration": 32,
    "start_time": "2022-07-21T16:13:50.122Z"
   },
   {
    "duration": 19,
    "start_time": "2022-07-21T16:13:50.156Z"
   },
   {
    "duration": 12,
    "start_time": "2022-07-21T16:13:50.176Z"
   },
   {
    "duration": 23,
    "start_time": "2022-07-21T16:13:50.191Z"
   },
   {
    "duration": 19,
    "start_time": "2022-07-21T16:13:50.216Z"
   },
   {
    "duration": 305,
    "start_time": "2022-07-21T16:13:50.237Z"
   },
   {
    "duration": 13,
    "start_time": "2022-07-21T16:13:50.544Z"
   },
   {
    "duration": 22,
    "start_time": "2022-07-21T16:13:50.559Z"
   },
   {
    "duration": 301,
    "start_time": "2022-07-21T16:13:50.583Z"
   },
   {
    "duration": 221,
    "start_time": "2022-07-21T16:13:50.886Z"
   },
   {
    "duration": 7,
    "start_time": "2022-07-21T16:13:51.109Z"
   },
   {
    "duration": 371,
    "start_time": "2022-07-21T16:13:51.118Z"
   },
   {
    "duration": 5,
    "start_time": "2022-07-21T16:13:51.491Z"
   },
   {
    "duration": 205,
    "start_time": "2022-07-21T16:13:51.498Z"
   },
   {
    "duration": 350,
    "start_time": "2022-07-21T16:13:51.705Z"
   },
   {
    "duration": 12,
    "start_time": "2022-07-21T16:13:52.057Z"
   },
   {
    "duration": 137,
    "start_time": "2022-07-21T16:13:52.071Z"
   },
   {
    "duration": 6,
    "start_time": "2022-07-21T16:13:52.210Z"
   },
   {
    "duration": 168,
    "start_time": "2022-07-21T16:13:52.218Z"
   },
   {
    "duration": 6,
    "start_time": "2022-07-21T16:13:52.388Z"
   },
   {
    "duration": 212,
    "start_time": "2022-07-21T16:13:52.396Z"
   },
   {
    "duration": 0,
    "start_time": "2022-07-21T16:13:52.610Z"
   },
   {
    "duration": 0,
    "start_time": "2022-07-21T16:13:52.611Z"
   },
   {
    "duration": 0,
    "start_time": "2022-07-21T16:13:52.612Z"
   },
   {
    "duration": 0,
    "start_time": "2022-07-21T16:13:52.614Z"
   },
   {
    "duration": 0,
    "start_time": "2022-07-21T16:13:52.615Z"
   },
   {
    "duration": 0,
    "start_time": "2022-07-21T16:13:52.616Z"
   },
   {
    "duration": 0,
    "start_time": "2022-07-21T16:13:52.617Z"
   },
   {
    "duration": 0,
    "start_time": "2022-07-21T16:13:52.640Z"
   },
   {
    "duration": 0,
    "start_time": "2022-07-21T16:13:52.642Z"
   },
   {
    "duration": 119,
    "start_time": "2022-07-21T16:15:06.252Z"
   },
   {
    "duration": 242,
    "start_time": "2022-07-21T16:15:39.543Z"
   },
   {
    "duration": 166,
    "start_time": "2022-07-21T16:15:50.770Z"
   },
   {
    "duration": 193,
    "start_time": "2022-07-21T16:16:02.591Z"
   },
   {
    "duration": 152,
    "start_time": "2022-07-21T16:19:59.797Z"
   },
   {
    "duration": 156,
    "start_time": "2022-07-21T16:20:06.811Z"
   },
   {
    "duration": 177,
    "start_time": "2022-07-21T16:22:34.896Z"
   },
   {
    "duration": 10,
    "start_time": "2022-07-21T16:29:35.166Z"
   },
   {
    "duration": 16,
    "start_time": "2022-07-21T16:30:24.567Z"
   },
   {
    "duration": 30,
    "start_time": "2022-07-21T16:30:33.525Z"
   },
   {
    "duration": 256,
    "start_time": "2022-07-21T16:32:07.685Z"
   },
   {
    "duration": 28,
    "start_time": "2022-07-21T16:33:03.107Z"
   },
   {
    "duration": 27,
    "start_time": "2022-07-21T16:33:22.993Z"
   },
   {
    "duration": 172,
    "start_time": "2022-07-21T16:33:43.325Z"
   },
   {
    "duration": 1198,
    "start_time": "2022-07-21T16:34:08.826Z"
   },
   {
    "duration": 37,
    "start_time": "2022-07-21T16:34:10.026Z"
   },
   {
    "duration": 6,
    "start_time": "2022-07-21T16:34:10.065Z"
   },
   {
    "duration": 16,
    "start_time": "2022-07-21T16:34:10.072Z"
   },
   {
    "duration": 26,
    "start_time": "2022-07-21T16:34:10.090Z"
   },
   {
    "duration": 9,
    "start_time": "2022-07-21T16:34:10.117Z"
   },
   {
    "duration": 20,
    "start_time": "2022-07-21T16:34:10.128Z"
   },
   {
    "duration": 54,
    "start_time": "2022-07-21T16:34:10.150Z"
   },
   {
    "duration": 33,
    "start_time": "2022-07-21T16:34:10.205Z"
   },
   {
    "duration": 7,
    "start_time": "2022-07-21T16:34:10.241Z"
   },
   {
    "duration": 24,
    "start_time": "2022-07-21T16:34:10.249Z"
   },
   {
    "duration": 8,
    "start_time": "2022-07-21T16:34:10.275Z"
   },
   {
    "duration": 6,
    "start_time": "2022-07-21T16:34:10.285Z"
   },
   {
    "duration": 12,
    "start_time": "2022-07-21T16:34:10.293Z"
   },
   {
    "duration": 12,
    "start_time": "2022-07-21T16:34:10.306Z"
   },
   {
    "duration": 283,
    "start_time": "2022-07-21T16:34:10.340Z"
   },
   {
    "duration": 16,
    "start_time": "2022-07-21T16:34:10.625Z"
   },
   {
    "duration": 8,
    "start_time": "2022-07-21T16:34:10.643Z"
   },
   {
    "duration": 305,
    "start_time": "2022-07-21T16:34:10.652Z"
   },
   {
    "duration": 221,
    "start_time": "2022-07-21T16:34:10.959Z"
   },
   {
    "duration": 5,
    "start_time": "2022-07-21T16:34:11.182Z"
   },
   {
    "duration": 329,
    "start_time": "2022-07-21T16:34:11.189Z"
   },
   {
    "duration": 4,
    "start_time": "2022-07-21T16:34:11.520Z"
   },
   {
    "duration": 193,
    "start_time": "2022-07-21T16:34:11.525Z"
   },
   {
    "duration": 320,
    "start_time": "2022-07-21T16:34:11.720Z"
   },
   {
    "duration": 12,
    "start_time": "2022-07-21T16:34:12.042Z"
   },
   {
    "duration": 142,
    "start_time": "2022-07-21T16:34:12.056Z"
   },
   {
    "duration": 5,
    "start_time": "2022-07-21T16:34:12.202Z"
   },
   {
    "duration": 154,
    "start_time": "2022-07-21T16:34:12.208Z"
   },
   {
    "duration": 5,
    "start_time": "2022-07-21T16:34:12.364Z"
   },
   {
    "duration": 241,
    "start_time": "2022-07-21T16:34:12.371Z"
   },
   {
    "duration": 175,
    "start_time": "2022-07-21T16:34:12.614Z"
   },
   {
    "duration": 11,
    "start_time": "2022-07-21T16:34:12.790Z"
   },
   {
    "duration": 7,
    "start_time": "2022-07-21T16:34:12.803Z"
   },
   {
    "duration": 35,
    "start_time": "2022-07-21T16:34:12.811Z"
   },
   {
    "duration": 27,
    "start_time": "2022-07-21T16:34:12.848Z"
   },
   {
    "duration": 13,
    "start_time": "2022-07-21T16:34:12.877Z"
   },
   {
    "duration": 1090,
    "start_time": "2022-07-21T16:48:46.705Z"
   },
   {
    "duration": 44,
    "start_time": "2022-07-21T16:48:47.797Z"
   },
   {
    "duration": 6,
    "start_time": "2022-07-21T16:48:47.843Z"
   },
   {
    "duration": 14,
    "start_time": "2022-07-21T16:48:47.852Z"
   },
   {
    "duration": 16,
    "start_time": "2022-07-21T16:48:47.868Z"
   },
   {
    "duration": 14,
    "start_time": "2022-07-21T16:48:47.886Z"
   },
   {
    "duration": 21,
    "start_time": "2022-07-21T16:48:47.902Z"
   },
   {
    "duration": 65,
    "start_time": "2022-07-21T16:48:47.925Z"
   },
   {
    "duration": 31,
    "start_time": "2022-07-21T16:48:47.993Z"
   },
   {
    "duration": 6,
    "start_time": "2022-07-21T16:48:48.027Z"
   },
   {
    "duration": 23,
    "start_time": "2022-07-21T16:48:48.035Z"
   },
   {
    "duration": 10,
    "start_time": "2022-07-21T16:48:48.060Z"
   },
   {
    "duration": 10,
    "start_time": "2022-07-21T16:48:48.072Z"
   },
   {
    "duration": 10,
    "start_time": "2022-07-21T16:48:48.084Z"
   },
   {
    "duration": 7,
    "start_time": "2022-07-21T16:48:48.096Z"
   },
   {
    "duration": 290,
    "start_time": "2022-07-21T16:48:48.104Z"
   },
   {
    "duration": 12,
    "start_time": "2022-07-21T16:48:48.395Z"
   },
   {
    "duration": 9,
    "start_time": "2022-07-21T16:48:48.409Z"
   },
   {
    "duration": 292,
    "start_time": "2022-07-21T16:48:48.419Z"
   },
   {
    "duration": 209,
    "start_time": "2022-07-21T16:48:48.713Z"
   },
   {
    "duration": 6,
    "start_time": "2022-07-21T16:48:48.924Z"
   },
   {
    "duration": 355,
    "start_time": "2022-07-21T16:48:48.931Z"
   },
   {
    "duration": 4,
    "start_time": "2022-07-21T16:48:49.288Z"
   },
   {
    "duration": 212,
    "start_time": "2022-07-21T16:48:49.293Z"
   },
   {
    "duration": 357,
    "start_time": "2022-07-21T16:48:49.507Z"
   },
   {
    "duration": 12,
    "start_time": "2022-07-21T16:48:49.866Z"
   },
   {
    "duration": 127,
    "start_time": "2022-07-21T16:48:49.880Z"
   },
   {
    "duration": 5,
    "start_time": "2022-07-21T16:48:50.011Z"
   },
   {
    "duration": 156,
    "start_time": "2022-07-21T16:48:50.018Z"
   },
   {
    "duration": 5,
    "start_time": "2022-07-21T16:48:50.176Z"
   },
   {
    "duration": 233,
    "start_time": "2022-07-21T16:48:50.183Z"
   },
   {
    "duration": 198,
    "start_time": "2022-07-21T16:48:50.418Z"
   },
   {
    "duration": 11,
    "start_time": "2022-07-21T16:48:50.618Z"
   },
   {
    "duration": 6,
    "start_time": "2022-07-21T16:48:50.641Z"
   },
   {
    "duration": 12,
    "start_time": "2022-07-21T16:48:50.649Z"
   },
   {
    "duration": 32,
    "start_time": "2022-07-21T16:48:50.663Z"
   },
   {
    "duration": 14,
    "start_time": "2022-07-21T16:48:50.696Z"
   },
   {
    "duration": 1322,
    "start_time": "2022-07-22T04:23:32.751Z"
   },
   {
    "duration": 69,
    "start_time": "2022-07-22T04:23:34.075Z"
   },
   {
    "duration": 4,
    "start_time": "2022-07-22T04:23:34.146Z"
   },
   {
    "duration": 11,
    "start_time": "2022-07-22T04:23:34.152Z"
   },
   {
    "duration": 9,
    "start_time": "2022-07-22T04:23:34.164Z"
   },
   {
    "duration": 7,
    "start_time": "2022-07-22T04:23:34.174Z"
   },
   {
    "duration": 11,
    "start_time": "2022-07-22T04:23:34.183Z"
   },
   {
    "duration": 132,
    "start_time": "2022-07-22T04:23:34.195Z"
   },
   {
    "duration": 30,
    "start_time": "2022-07-22T04:23:34.329Z"
   },
   {
    "duration": 6,
    "start_time": "2022-07-22T04:23:34.362Z"
   },
   {
    "duration": 22,
    "start_time": "2022-07-22T04:23:34.369Z"
   },
   {
    "duration": 37,
    "start_time": "2022-07-22T04:23:34.394Z"
   },
   {
    "duration": 6,
    "start_time": "2022-07-22T04:23:34.433Z"
   },
   {
    "duration": 13,
    "start_time": "2022-07-22T04:23:34.441Z"
   },
   {
    "duration": 7,
    "start_time": "2022-07-22T04:23:34.457Z"
   },
   {
    "duration": 299,
    "start_time": "2022-07-22T04:23:34.465Z"
   },
   {
    "duration": 13,
    "start_time": "2022-07-22T04:23:34.765Z"
   },
   {
    "duration": 8,
    "start_time": "2022-07-22T04:23:34.780Z"
   },
   {
    "duration": 282,
    "start_time": "2022-07-22T04:23:34.789Z"
   },
   {
    "duration": 193,
    "start_time": "2022-07-22T04:23:35.073Z"
   },
   {
    "duration": 6,
    "start_time": "2022-07-22T04:23:35.268Z"
   },
   {
    "duration": 410,
    "start_time": "2022-07-22T04:23:35.275Z"
   },
   {
    "duration": 4,
    "start_time": "2022-07-22T04:23:35.686Z"
   },
   {
    "duration": 171,
    "start_time": "2022-07-22T04:23:35.692Z"
   },
   {
    "duration": 260,
    "start_time": "2022-07-22T04:23:35.865Z"
   },
   {
    "duration": 11,
    "start_time": "2022-07-22T04:23:36.127Z"
   },
   {
    "duration": 117,
    "start_time": "2022-07-22T04:23:36.139Z"
   },
   {
    "duration": 5,
    "start_time": "2022-07-22T04:23:36.259Z"
   },
   {
    "duration": 144,
    "start_time": "2022-07-22T04:23:36.266Z"
   },
   {
    "duration": 13,
    "start_time": "2022-07-22T04:23:36.412Z"
   },
   {
    "duration": 226,
    "start_time": "2022-07-22T04:23:36.427Z"
   },
   {
    "duration": 163,
    "start_time": "2022-07-22T04:23:36.655Z"
   },
   {
    "duration": 10,
    "start_time": "2022-07-22T04:23:36.824Z"
   },
   {
    "duration": 6,
    "start_time": "2022-07-22T04:23:36.835Z"
   },
   {
    "duration": 17,
    "start_time": "2022-07-22T04:23:36.842Z"
   },
   {
    "duration": 32,
    "start_time": "2022-07-22T04:23:36.860Z"
   },
   {
    "duration": 34,
    "start_time": "2022-07-22T04:23:36.894Z"
   }
  ],
  "kernelspec": {
   "display_name": "Python 3 (ipykernel)",
   "language": "python",
   "name": "python3"
  },
  "language_info": {
   "codemirror_mode": {
    "name": "ipython",
    "version": 3
   },
   "file_extension": ".py",
   "mimetype": "text/x-python",
   "name": "python",
   "nbconvert_exporter": "python",
   "pygments_lexer": "ipython3",
   "version": "3.9.7"
  },
  "toc": {
   "base_numbering": 1,
   "nav_menu": {},
   "number_sections": true,
   "sideBar": true,
   "skip_h1_title": true,
   "title_cell": "Table of Contents",
   "title_sidebar": "Contents",
   "toc_cell": false,
   "toc_position": {},
   "toc_section_display": true,
   "toc_window_display": false
  }
 },
 "nbformat": 4,
 "nbformat_minor": 2
}
